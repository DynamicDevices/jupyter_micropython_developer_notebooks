{
 "cells": [
  {
   "cell_type": "code",
   "execution_count": null,
   "metadata": {},
   "outputs": [
    {
     "name": "stdout",
     "output_type": "stream",
     "text": [
      "Closing old serial Serial<id=0x7f223f129668, open=True>(port='/dev/ttyUSB2', baudrate=115200, bytesize=8, parity='N', stopbits=1, timeout=0.5, xonxoff=False, rtscts=False, dsrdtr=False)\n",
      "Connecting to Serial /dev/ttyUSB2 baud=115200\n",
      "Waited 0.0 seconds for isOpen()\n",
      "\n",
      " ** Serial connected **\n",
      "\n",
      "Serial<id=0x7f223f129748, open=True>(port='/dev/ttyUSB2', baudrate=115200, bytesize=8, parity='N', stopbits=1, timeout=0.5, xonxoff=False, rtscts=False, dsrdtr=False)\n",
      "\n",
      "**[ys] <class 'serial.serialutil.SerialException'>\n",
      "**[ys] Attempting to use a port that is not open\n",
      "\n",
      "........."
     ]
    }
   ],
   "source": [
    "%serialconnect"
   ]
  },
  {
   "cell_type": "code",
   "execution_count": 66,
   "metadata": {},
   "outputs": [
    {
     "name": "stdout",
     "output_type": "stream",
     "text": [
      "strongest known DoESWifi signal b'DoESLiverpool'\n",
      ".> auth (b0)\n",
      "> assoc (0)\n",
      "> run (10)\n",
      "\n",
      ".Connect through wifi to 192.168.0.29\n"
     ]
    }
   ],
   "source": [
    "import network, time, socket\n",
    "\n",
    "si = network.WLAN(network.STA_IF)\n",
    "si.active(True)\n",
    "#assert not si.isconnected()\n",
    "\n",
    "knownwifis = dict(k.split(b\":\")[:2]  for k in open(\"wificodes.txt\", \"rb\"))\n",
    "wifiname = max((sc  for sc in si.scan()  if sc[0] in knownwifis), key=lambda X: X[3])[0]  # X[3]=RSSI (received signal strength)\n",
    "print(\"strongest known DoESWifi signal\", wifiname)\n",
    "si.connect(wifiname, knownwifis[wifiname])\n",
    "del knownwifis\n",
    "\n",
    "while not si.isconnected():\n",
    "    time.sleep(0.1)\n",
    "    pass\n",
    "\n",
    "ipnumber = si.ifconfig()[0]\n",
    "print(\"Connect through wifi to\", ipnumber)\n"
   ]
  },
  {
   "cell_type": "code",
   "execution_count": 6,
   "metadata": {},
   "outputs": [
    {
     "name": "stdout",
     "output_type": "stream",
     "text": [
      "\n",
      "Please connect to (192.168.0.29, 9993)\n",
      "mac-address 30:ae:a4:80:78:20\n"
     ]
    }
   ],
   "source": [
    "assert si.isconnected()\n",
    "\n",
    "s = socket.socket()\n",
    "portnumber = 9993\n",
    "\n",
    "s.bind(socket.getaddrinfo(\"0.0.0.0\", portnumber)[0][-1])  # recommended to always make addresses via getaddrinfo()\n",
    "s.listen(1)  # no backlog of connections allowed\n",
    "\n",
    "print(\"\\nPlease connect to ({}, {})\".format(ipnumber, portnumber))\n",
    "print(\"mac-address {}\".format(\":\".join(hex(x)[-2:]  for x in si.config(\"mac\"))))\n",
    "espname = \"ESP_{}\".format(\"\".join(hex(x)[-2:]  for x in si.config(\"mac\")[-3:]))\n"
   ]
  },
  {
   "cell_type": "code",
   "execution_count": 7,
   "metadata": {},
   "outputs": [
    {
     "name": "stdout",
     "output_type": "stream",
     "text": [
      "Waiting for a connection on (192.168.0.29, 9993)\n",
      "..........connection made incoming from ('192.168.0.215', 51600)\n"
     ]
    }
   ],
   "source": [
    "print(\"Waiting for a connection on ({}, {})\".format(ipnumber, portnumber))\n",
    "ss, addr = s.accept()\n",
    "print(\"connection made incoming from\", addr)\n"
   ]
  },
  {
   "cell_type": "code",
   "execution_count": 9,
   "metadata": {
    "collapsed": true
   },
   "outputs": [],
   "source": [
    "ss.settimeout(0.2)\n",
    "buf = []\n",
    "bufsize = 0\n",
    "\n",
    "def execcc(buf, bufsize):\n",
    "    if bufsize > 50:\n",
    "        return b\"We will deal big things later\\r\\n\"\n",
    "    l = (b\"\".join(buf).decode().strip()).splitlines()\n",
    "    if len(l) != 1:\n",
    "        return b\"We don't eval multiple lines {}\\r\\n\".format(len(l))\n",
    "    try:\n",
    "        res = str(eval(l[0]))\n",
    "    except Exception as e:\n",
    "        res = str(e)\n",
    "    return b\"The answer is: {}\\r\\n\".format(res.encode())\n",
    "\n"
   ]
  },
  {
   "cell_type": "code",
   "execution_count": 67,
   "metadata": {},
   "outputs": [
    {
     "name": "stdout",
     "output_type": "stream",
     "text": [
      "Traceback (most recent call last):\n",
      "  File \"<stdin>\", line 12, in <module>\n",
      "  File \"<stdin>\", line 6, in <module>\n",
      "NameError: name 'ss' is not defined\n"
     ]
    }
   ],
   "source": [
    "# process incoming signals from the main jupyter syste,\n",
    "k = None\n",
    "while True:\n",
    "    try:\n",
    "        if k is None:\n",
    "            k = ss.recv(100)\n",
    "            print(\"read\", str(k))\n",
    "    except OSError as e:\n",
    "        if e.args[0] == 110: # ETIMEDOUT\n",
    "            print(\":\", end=\"\")\n",
    "            continue\n",
    "        raise\n",
    "    k = k.split(b\"\\x04\", 1)\n",
    "    buf.append(k[0])\n",
    "    bufsize += len(k[0])\n",
    "    if len(k) == 1:\n",
    "        k = None\n",
    "        continue\n",
    "    k = k[1]\n",
    "    ss.write(b\"OK\")\n",
    "    ss.write(b\"Thank you for sending {} characters\\r\\n\".format(bufsize))\n",
    "    ss.write(execcc(buf, bufsize))\n",
    "    ss.write(b\"\\x04\\x04>\")\n",
    "    buf.clear()\n",
    "    bufsize = 0\n",
    "    "
   ]
  },
  {
   "cell_type": "code",
   "execution_count": 44,
   "metadata": {},
   "outputs": [
    {
     "name": "stdout",
     "output_type": "stream",
     "text": [
      "b'Hello-1506948768 from PC\\n'\r\n"
     ]
    }
   ],
   "source": [
    "print(ss.readline())\n"
   ]
  },
  {
   "cell_type": "code",
   "execution_count": 57,
   "metadata": {
    "collapsed": true
   },
   "outputs": [],
   "source": [
    "ss.close()"
   ]
  },
  {
   "cell_type": "code",
   "execution_count": 8,
   "metadata": {},
   "outputs": [
    {
     "name": "stdout",
     "output_type": "stream",
     "text": [
      "b'thiddng'\r\n"
     ]
    }
   ],
   "source": [
    "print(ss.recv(100))\n"
   ]
  },
  {
   "cell_type": "code",
   "execution_count": 19,
   "metadata": {},
   "outputs": [
    {
     "name": "stdout",
     "output_type": "stream",
     "text": [
      "entering workingserialreadallentering workingserialreadallentering workingserialreadall"
     ]
    }
   ],
   "source": [
    "ss.write(b\"OK\\x04\\04> \")"
   ]
  },
  {
   "cell_type": "code",
   "execution_count": 18,
   "metadata": {},
   "outputs": [
    {
     "name": "stdout",
     "output_type": "stream",
     "text": [
      "entering workingserialreadallentering workingserialreadallentering workingserialreadall"
     ]
    }
   ],
   "source": [
    "ss.write(b\" \")"
   ]
  },
  {
   "cell_type": "code",
   "execution_count": null,
   "metadata": {
    "collapsed": true
   },
   "outputs": [],
   "source": []
  },
  {
   "cell_type": "code",
   "execution_count": null,
   "metadata": {
    "collapsed": true
   },
   "outputs": [],
   "source": []
  },
  {
   "cell_type": "code",
   "execution_count": 62,
   "metadata": {},
   "outputs": [
    {
     "name": "stdout",
     "output_type": "stream",
     "text": [
      "3 lines sent done"
     ]
    }
   ],
   "source": [
    "%sendtofile wificodes.txt\n",
    "\n",
    "DoESLiverpool:------:\n",
    "DoESBackup:------:\n",
    "The Sensible Code Company:------:"
   ]
  },
  {
   "cell_type": "code",
   "execution_count": null,
   "metadata": {
    "collapsed": true
   },
   "outputs": [],
   "source": []
  }
 ],
 "metadata": {
  "kernelspec": {
   "display_name": "MicroPython - USB",
   "language": "micropython",
   "name": "micropython"
  },
  "language_info": {
   "codemirror_mode": "python",
   "file_extension": ".py",
   "mimetype": "text/python",
   "name": "micropython"
  }
 },
 "nbformat": 4,
 "nbformat_minor": 2
}

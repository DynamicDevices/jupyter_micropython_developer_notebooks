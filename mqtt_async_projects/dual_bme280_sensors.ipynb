{
 "cells": [
  {
   "cell_type": "code",
   "execution_count": 1,
   "metadata": {},
   "outputs": [
    {
     "name": "stdout",
     "output_type": "stream",
     "text": [
      "\u001b[34mExecuting:\n",
      "  esptool.py --port /dev/ttyUSB1 --baud 460800 write_flash --flash_size=detect -fm dio 0 /home/julian/extrepositories/micropython/ports/esp8266/build-GENERIC/firmware-combined.bin\n",
      "\n",
      "\u001b[0mesptool.py v2.0\n",
      "Connecting....\n",
      "\u001b[34m[Press the PRG button now if required]\n",
      "\u001b[0mDetecting chip type... ESP8266\n",
      "Chip is ESP8266\n",
      "Uploading stub...\n",
      "Running stub...\n",
      "Stub running...\n",
      "Changing baud rate to 460800\n",
      "Changed.\n",
      "Configuring flash size...\n",
      "Auto-detected Flash size: 4MB\n",
      "Flash params set to 0x0240\n",
      "Compressed 612180 bytes to 400034...\n",
      "Wrote 612180 bytes (400034 compressed) at 0x00000000 in 9.2 seconds (effective 532.1 kbit/s)...\n",
      "Hash of data verified.\n",
      "\n",
      "Leaving...\n",
      "Hard resetting...\n"
     ]
    }
   ],
   "source": [
    "%esptool esp8266 /home/julian/extrepositories/micropython/ports/esp8266/build-GENERIC/firmware-combined.bin"
   ]
  },
  {
   "cell_type": "code",
   "execution_count": 2,
   "metadata": {},
   "outputs": [
    {
     "name": "stdout",
     "output_type": "stream",
     "text": [
      "\u001b[34mConnecting to --port=/dev/ttyUSB1 --baud=115200 \u001b[0m\n",
      "\u001b[34mReady.\n",
      "\u001b[0m"
     ]
    }
   ],
   "source": [
    "%serialconnect"
   ]
  },
  {
   "cell_type": "code",
   "execution_count": 6,
   "metadata": {},
   "outputs": [
    {
     "name": "stdout",
     "output_type": "stream",
     "text": [
      "Sent 5 lines (108 bytes) to config.txt.\n"
     ]
    }
   ],
   "source": [
    "%sendtofile config.txt\n",
    "\n",
    "wifiname     BV6000\n",
    "wifipassword bubblino\n",
    "mqttbroker   192.168.43.1\n",
    "pinled       2\n",
    "boardname    esp8266sens1"
   ]
  },
  {
   "cell_type": "code",
   "execution_count": 7,
   "metadata": {},
   "outputs": [
    {
     "name": "stdout",
     "output_type": "stream",
     "text": [
      "Sent 79 lines (3304 bytes) to BME280_funcs.py.\n"
     ]
    }
   ],
   "source": [
    "%sendtofile --source ../Sensor_Kennel/BME280_funcs.py"
   ]
  },
  {
   "cell_type": "code",
   "execution_count": 96,
   "metadata": {},
   "outputs": [
    {
     "name": "stdout",
     "output_type": "stream",
     "text": [
      "serial exception on close write failed: [Errno 5] Input/output error\n",
      "\u001b[34mConnecting to --port=/dev/ttyUSB0 --baud=115200 \u001b[0m\n",
      "\u001b[34mReady.\n",
      "\u001b[0m"
     ]
    }
   ],
   "source": [
    "%serialconnect"
   ]
  },
  {
   "cell_type": "code",
   "execution_count": 98,
   "metadata": {},
   "outputs": [
    {
     "name": "stdout",
     "output_type": "stream",
     "text": [
      "Sent 63 lines (1843 bytes) to main.py.\n"
     ]
    }
   ],
   "source": [
    "%sendtofile main.py\n",
    "\n",
    "from mqtt_as import config, MQTTClient\n",
    "import uasyncio as asyncio\n",
    "import time\n",
    "from machine import Pin, PWM, I2C\n",
    "from BME280_funcs import bme280init, readBME280\n",
    "\n",
    "i2c = machine.I2C(scl=machine.Pin(4), sda=machine.Pin(5))\n",
    "print(list(map(hex, i2c.scan())))\n",
    "\n",
    "fconfig = dict(x.split()  for x in open(\"config.txt\"))\n",
    "\n",
    "pinled = Pin(int(fconfig[\"pinled\"]), Pin.OUT)\n",
    "pinled.value(0)\n",
    "\n",
    "config['server'] = fconfig[\"mqttbroker\"]\n",
    "config['ssid'] = fconfig[\"wifiname\"]\n",
    "config['wifi_pw'] = fconfig[\"wifipassword\"]\n",
    "config['mqttchannel'] = fconfig[\"boardname\"]\n",
    "\n",
    "boardname = fconfig[\"boardname\"].encode()    \n",
    "\n",
    "tbme280A = boardname+b'/bme280/A'\n",
    "tbme280B = boardname+b'/bme280/B'\n",
    "\n",
    "client = MQTTClient(config)\n",
    "\n",
    "async def ledtask():\n",
    "    while True:\n",
    "        pinled.value(0)\n",
    "        await asyncio.sleep_ms(20 if client.isconnected() else 600)\n",
    "        pinled.value(1)\n",
    "        await asyncio.sleep_ms(2000)\n",
    "        \n",
    "async def bme280task(addr, topic):\n",
    "    btoinit = True\n",
    "    while True:\n",
    "        try:\n",
    "            if btoinit:\n",
    "                bme280init(i2c, addr)\n",
    "                btoinit = False\n",
    "                await asyncio.sleep_ms(100)\n",
    "            meas = readBME280(addr)\n",
    "            print(topic, meas)\n",
    "            payload = \" \".join(map(str, meas))\n",
    "            await client.publish(topic, payload)\n",
    "        except OSError as e:\n",
    "            print(e)\n",
    "            btoinit = True\n",
    "        await asyncio.sleep_ms(500)\n",
    "        \n",
    "async def connectingtask():\n",
    "    await client.connect()\n",
    "    ipnumber = client._sta_if.ifconfig()[0]\n",
    "    print(\"ipnumber\", ipnumber)\n",
    "    await client.publish(boardname+b'/ip', ipnumber, retain=True, qos=1)\n",
    "        \n",
    "aloop = asyncio.get_event_loop()\n",
    "aloop.create_task(bme280task(0x76, boardname+b'/bme280/A'))\n",
    "aloop.create_task(bme280task(0x77, boardname+b'/bme280/B'))\n",
    "aloop.create_task(ledtask())\n",
    "aloop.create_task(connectingtask())\n",
    "aloop.run_forever()\n",
    "\n"
   ]
  },
  {
   "cell_type": "code",
   "execution_count": null,
   "metadata": {},
   "outputs": [],
   "source": []
  }
 ],
 "metadata": {
  "kernelspec": {
   "display_name": "MicroPython - USB",
   "language": "micropython",
   "name": "micropython"
  },
  "language_info": {
   "codemirror_mode": "python",
   "file_extension": ".py",
   "mimetype": "text/python",
   "name": "micropython"
  }
 },
 "nbformat": 4,
 "nbformat_minor": 2
}

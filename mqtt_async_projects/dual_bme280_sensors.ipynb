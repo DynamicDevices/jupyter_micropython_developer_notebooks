{
 "cells": [
  {
   "cell_type": "code",
   "execution_count": 5,
   "metadata": {},
   "outputs": [
    {
     "name": "stdout",
     "output_type": "stream",
     "text": [
      "\u001b[34mConnecting to --port=/dev/ttyUSB7 --baud=115200 \u001b[0m\n",
      "\u001b[34mReady.\n",
      "\u001b[0m"
     ]
    }
   ],
   "source": [
    "%serialconnect"
   ]
  },
  {
   "cell_type": "code",
   "execution_count": 11,
   "metadata": {},
   "outputs": [
    {
     "name": "stdout",
     "output_type": "stream",
     "text": [
      "Sent 7 lines (173 bytes) to config.txt.\n"
     ]
    }
   ],
   "source": [
    "%sendtofile config.txt\n",
    "\n",
    "wifiname     BV6000\n",
    "wifipassword bubblino\n",
    "mqttbroker   192.168.43.1\n",
    "pinled       2\n",
    "pinfan       12\n",
    "boardname    esp8266sens2\n",
    "wifialt      DoESLiverpool,decafbad00,10.0.100.1"
   ]
  },
  {
   "cell_type": "code",
   "execution_count": 7,
   "metadata": {},
   "outputs": [
    {
     "name": "stdout",
     "output_type": "stream",
     "text": [
      "Sent 79 lines (3304 bytes) to BME280_funcs.py.\n"
     ]
    }
   ],
   "source": [
    "%sendtofile --source ../Sensor_Kennel/BME280_funcs.py"
   ]
  },
  {
   "cell_type": "code",
   "execution_count": 18,
   "metadata": {},
   "outputs": [
    {
     "name": "stdout",
     "output_type": "stream",
     "text": [
      "Sent 33 lines (1137 bytes) to stdmqttas.py.\n",
      "Sent 32 lines (969 bytes) to utils.py.\n"
     ]
    }
   ],
   "source": [
    "%sendtofile --source stdmqttas.py\n",
    "%sendtofile --quiet --source utils.py"
   ]
  },
  {
   "cell_type": "code",
   "execution_count": 28,
   "metadata": {},
   "outputs": [
    {
     "name": "stdout",
     "output_type": "stream",
     "text": [
      "serial exception on close write failed: [Errno 5] Input/output error\n",
      "\u001b[34mConnecting to --port=/dev/ttyUSB8 --baud=115200 \u001b[0m\n",
      "\u001b[34mReady.\n",
      "\u001b[0m"
     ]
    }
   ],
   "source": [
    "%serialconnect"
   ]
  },
  {
   "cell_type": "code",
   "execution_count": 29,
   "metadata": {},
   "outputs": [
    {
     "name": "stdout",
     "output_type": "stream",
     "text": [
      "Sent 73 lines (2439 bytes) to main.py.\n"
     ]
    }
   ],
   "source": [
    "%sendtofile main.py\n",
    "\n",
    "import time, itertools\n",
    "from machine import Pin\n",
    "import uasyncio as asyncio\n",
    "from stdmqttas import fconfig, config, mqttconnecttask, pinled\n",
    "from mqtt_as import MQTTClient\n",
    "from BME280_funcs import bme280init, readBME280\n",
    "\n",
    "i2c = machine.I2C(scl=machine.Pin(5), sda=machine.Pin(4))\n",
    "print(list(map(hex, i2c.scan())))\n",
    "\n",
    "boardname = fconfig[\"boardname\"].encode()    \n",
    "topicbme280A = boardname+b'/bme280/A'\n",
    "topicbme280B = boardname+b'/bme280/B'\n",
    "pinfan = Pin(int(fconfig[\"pinfan\"]), Pin.OUT)\n",
    "topicfanon = boardname+b'/fan/on'\n",
    "topicstatus = boardname+b\"/ip\"\n",
    "\n",
    "# dereferenced so we can swap the sample rate so we can \n",
    "# see how it affects the temperature and fan combinations\n",
    "bmeparams = [[0x76, boardname+b'/bme280/A', 500],\n",
    "             [0x77, boardname+b'/bme280/B', 60000]]\n",
    "\n",
    "async def fantask():\n",
    "    pinfan.value(0)\n",
    "    while not client.isconnected():\n",
    "        await asyncio.sleep_ms(1000)\n",
    "    for i in itertools.count():\n",
    "        if (i%3) == 2:\n",
    "            bmeparams[0][2], bmeparams[1][2] = bmeparams[1][2], bmeparams[0][2]\n",
    "        if (i%4) == 0:\n",
    "            v = 1-pinfan.value()\n",
    "            print(topicfanon, v)\n",
    "            await client.publish(topicfanon, str(v))\n",
    "            pinfan.value(v)\n",
    "        await asyncio.sleep_ms(15*60*1000)\n",
    "    \n",
    "async def bme280task(k):\n",
    "    btoinit = True\n",
    "    addr, topic = bmeparams[k][:2]\n",
    "    for i in itertools.count():\n",
    "        try:\n",
    "            if btoinit:\n",
    "                bme280init(i2c, addr)\n",
    "                btoinit = False\n",
    "                await asyncio.sleep_ms(100)\n",
    "            meas = readBME280(addr)\n",
    "            payload = \" \".join(map(str, meas))\n",
    "            if client.isconnected():\n",
    "                print(topic, meas)\n",
    "                await client.publish(topic, payload)\n",
    "        except OSError as e:\n",
    "            print(\"bme280task\", e)\n",
    "            btoinit = True\n",
    "        if bmeparams[k][2] < 1000:\n",
    "            pinled.value((i%10) < (1 if client.isconnected() else 5))\n",
    "        await asyncio.sleep_ms(bmeparams[k][2])\n",
    "        \n",
    "async def onconnecttask(client):\n",
    "    ipnumber = client._sta_if.ifconfig()[0]\n",
    "    print(\"ipnumber\", ipnumber)\n",
    "    await client.publish(topicstatus, ipnumber, retain=True)\n",
    "    \n",
    "config['connect_coro'] = onconnecttask\n",
    "config['will'] = (topicstatus, \"offline\", True)\n",
    "client = MQTTClient(config)\n",
    "    \n",
    "aloop = asyncio.get_event_loop()\n",
    "aloop.create_task(bme280task(0))\n",
    "aloop.create_task(bme280task(1))\n",
    "aloop.create_task(fantask())\n",
    "aloop.create_task(mqttconnecttask(client))\n",
    "aloop.run_forever()\n",
    "\n"
   ]
  },
  {
   "cell_type": "code",
   "execution_count": 10,
   "metadata": {},
   "outputs": [
    {
     "name": "stdout",
     "output_type": "stream",
     "text": [
      "{'boardname': 'esp8266sens4', 'pinpir': '13', 'mqttbroker': '10.0.100.1', 'wifiname': 'DoESLiverpool', 'wifipassword': 'decafbad00', 'wifialt': 'DoESLiverpool,decafbad00,10.0.100.1', 'pinled': '2'}\r\n"
     ]
    }
   ],
   "source": [
    "print(fconfig)"
   ]
  },
  {
   "cell_type": "code",
   "execution_count": null,
   "metadata": {},
   "outputs": [],
   "source": []
  },
  {
   "cell_type": "code",
   "execution_count": null,
   "metadata": {},
   "outputs": [],
   "source": []
  },
  {
   "cell_type": "code",
   "execution_count": null,
   "metadata": {},
   "outputs": [],
   "source": []
  },
  {
   "cell_type": "code",
   "execution_count": null,
   "metadata": {},
   "outputs": [],
   "source": []
  },
  {
   "cell_type": "code",
   "execution_count": null,
   "metadata": {},
   "outputs": [],
   "source": []
  },
  {
   "cell_type": "code",
   "execution_count": null,
   "metadata": {},
   "outputs": [],
   "source": [
    "async def callbackcmdtask(topic, msg):\n",
    "    print(\"executing\", [msg])\n",
    "    pinled.value(0)\n",
    "    try:\n",
    "        exec(msg)\n",
    "        await client.publish(boardname+'/reply', \"1\")\n",
    "    except Exception as e:\n",
    "        print(e)\n",
    "        await client.publish(boardname+'/reply/exception', str(e))\n",
    "    pinled.value(1)\n",
    "    return\n",
    "    \n",
    "def callbackcmd(topic, msg, retained):\n",
    "    aloop.create_task(callbackcmdtask(topic, msg))\n"
   ]
  },
  {
   "cell_type": "code",
   "execution_count": 22,
   "metadata": {},
   "outputs": [
    {
     "name": "stdout",
     "output_type": "stream",
     "text": [
      "serial exception on close write failed: [Errno 5] Input/output error\n",
      "\u001b[34mConnecting to --port=/dev/ttyUSB3 --baud=115200 \u001b[0m\n",
      "\u001b[34mReady.\n",
      "\u001b[0m"
     ]
    }
   ],
   "source": [
    "%serialconnect"
   ]
  },
  {
   "cell_type": "code",
   "execution_count": 20,
   "metadata": {},
   "outputs": [],
   "source": [
    "# below is no-sensor running to find why it keeps timing out"
   ]
  },
  {
   "cell_type": "code",
   "execution_count": 4,
   "metadata": {},
   "outputs": [
    {
     "name": "stdout",
     "output_type": "stream",
     "text": [
      "Sent 62 lines (1878 bytes) to main.py.\n"
     ]
    }
   ],
   "source": [
    "%sendtofile main.py\n",
    "\n",
    "import time\n",
    "from machine import Pin\n",
    "from mqtt_as import config, MQTTClient\n",
    "import uasyncio as asyncio\n",
    "\n",
    "fconfig = dict(x.split()  for x in open(\"config.txt\"))\n",
    "pinled = Pin(int(fconfig[\"pinled\"]), Pin.OUT)\n",
    "for i in range(10):\n",
    "    pinled.value(i%2)\n",
    "    time.sleep_ms(300)\n",
    "    \n",
    "config['server'] = fconfig[\"mqttbroker\"]\n",
    "config['ssid'] = fconfig[\"wifiname\"]\n",
    "config['wifi_pw'] = fconfig[\"wifipassword\"]\n",
    "config['mqttchannel'] = fconfig[\"boardname\"]\n",
    "boardname = fconfig[\"boardname\"]\n",
    "\n",
    "async def ledtask():\n",
    "    while True:\n",
    "        pinled.value(0)\n",
    "        await asyncio.sleep_ms(20 if client.isconnected() else 1600)\n",
    "        pinled.value(1)\n",
    "        await asyncio.sleep_ms(2000)\n",
    "        \n",
    "async def sendnumbertask():\n",
    "    i = 0\n",
    "    topic = boardname + \"/number\"\n",
    "    while True:\n",
    "        if client.isconnected():\n",
    "            print(i)\n",
    "            await client.publish(topic, str(i))\n",
    "        await asyncio.sleep_ms(1000)\n",
    "        i += 1\n",
    "\n",
    "async def onconnecttask(client):\n",
    "    ipnumber = client._sta_if.ifconfig()[0]\n",
    "    print(\"ipnumber\", ipnumber)\n",
    "    await client.publish(boardname+'/ip', ipnumber, retain=True)\n",
    "    \n",
    "async def mqtttask(bflip=False):\n",
    "    if bflip and \"wifialt\" in fconfig:\n",
    "        assid, awifi_pw, aserver = fconfig[\"wifialt\"].split(\",\")\n",
    "        if client._ssid == assid:\n",
    "            assid, awifi_pw, aserver = fconfig[\"wifiname\"], fconfig[\"wifipassword\"], fconfig[\"mqttbroker\"]\n",
    "        client._ssid, client._wifi_pw, client.server = assid, awifi_pw, aserver\n",
    "    try:\n",
    "        print(\"connecting to:\", client._ssid)\n",
    "        await client.connect()\n",
    "        return\n",
    "    except OSError as e:\n",
    "        print(\"client connect\", [e])\n",
    "    aloop.create_task(mqtttask(True))\n",
    "\n",
    "config['connect_coro'] = onconnecttask\n",
    "client = MQTTClient(config)\n",
    "    \n",
    "aloop = asyncio.get_event_loop()\n",
    "aloop.create_task(sendnumbertask())\n",
    "aloop.create_task(ledtask())\n",
    "aloop.create_task(mqtttask())\n",
    "aloop.run_forever()\n",
    "\n"
   ]
  },
  {
   "cell_type": "code",
   "execution_count": 1,
   "metadata": {},
   "outputs": [
    {
     "name": "stdout",
     "output_type": "stream",
     "text": [
      "\u001b[34mConnecting to --port=/dev/ttyUSB1 --baud=115200 \u001b[0m\n",
      "\u001b[34mReady.\n",
      "\u001b[0m"
     ]
    }
   ],
   "source": [
    "%serialconnect"
   ]
  },
  {
   "cell_type": "code",
   "execution_count": 6,
   "metadata": {},
   "outputs": [
    {
     "name": "stdout",
     "output_type": "stream",
     "text": [
      "\u001b[34mattempt to exit paste mode\n",
      "\u001b[0m\u001b[34m[\\r\\x03\\x02] \u001b[0mb'\\r\\nMicroPython v1.11-576-gd667bc642 on 2019-11-12; ESP module with ESP8266\\r\\nType \"help()\" for more information.\\r\\n>>> '\u001b[34m\n",
      "Closing serial Serial<id=0x7f24e5e062b0, open=True>(port='/dev/ttyUSB1', baudrate=115200, bytesize=8, parity='N', stopbits=1, timeout=0.5, xonxoff=False, rtscts=False, dsrdtr=False)\n",
      "\u001b[0m"
     ]
    }
   ],
   "source": [
    "%disconnect"
   ]
  },
  {
   "cell_type": "code",
   "execution_count": null,
   "metadata": {},
   "outputs": [],
   "source": []
  },
  {
   "cell_type": "code",
   "execution_count": null,
   "metadata": {},
   "outputs": [],
   "source": []
  },
  {
   "cell_type": "code",
   "execution_count": null,
   "metadata": {},
   "outputs": [],
   "source": []
  },
  {
   "cell_type": "code",
   "execution_count": 1,
   "metadata": {},
   "outputs": [
    {
     "name": "stdout",
     "output_type": "stream",
     "text": [
      "\u001b[34mConnecting to --port=/dev/ttyUSB7 --baud=115200 \u001b[0m\n",
      "\u001b[34mReady.\n",
      "\u001b[0m"
     ]
    }
   ],
   "source": [
    "%serialconnect"
   ]
  },
  {
   "cell_type": "code",
   "execution_count": null,
   "metadata": {},
   "outputs": [],
   "source": []
  },
  {
   "cell_type": "code",
   "execution_count": 34,
   "metadata": {},
   "outputs": [
    {
     "name": "stdout",
     "output_type": "stream",
     "text": [
      "False 23.45 20.45\r\n"
     ]
    }
   ],
   "source": [
    "#readReg(Temperature_kind, &tempData);\n",
    "#define MLX90615_AMBIENT_TEMPERATURE    0x26\n",
    "#define MLX90615_OBJECT_TEMPERATURE     0x27\n",
    "ka = i2c.readfrom_mem(0x5b, 0x26, 3)\n",
    "ki = i2c.readfrom_mem(0x5b, 0x27, 3)\n",
    "bcrcgood = (checkCRC(ka, 0x0F) and checkCRC(ki, 0xF0))\n",
    "if ki[0] == 0 and ki[1] == 0:\n",
    "    bcrcgood = False\n",
    "tempAmbient = (ka[0]+ka[1]*256)*0.02 - 273.15\n",
    "tempIR = (ki[0]+ki[1]*256)*0.02 - 273.15\n",
    "print(bcrcgood, tempAmbient, tempIR)"
   ]
  },
  {
   "cell_type": "code",
   "execution_count": 35,
   "metadata": {},
   "outputs": [
    {
     "name": "stdout",
     "output_type": "stream",
     "text": [
      "False 23.23 21.21\r\n"
     ]
    }
   ],
   "source": [
    "ka = i2c.readfrom_mem(0x5b, 0x26, 3)\n",
    "ki = i2c.readfrom_mem(0x5b, 0x27, 3)\n",
    "bcrcgood = (checkCRC(ka, 0x0F) and checkCRC(ki, 0xF0))\n",
    "if ki[0] == 0 and ki[1] == 0:\n",
    "    bcrcgood = False\n",
    "tempAmbient = (ka[0]+ka[1]*256)*0.02 - 273.15\n",
    "tempIR = (ki[0]+ki[1]*256)*0.02 - 273.15\n",
    "print(bcrcgood, tempAmbient, tempIR)"
   ]
  },
  {
   "cell_type": "code",
   "execution_count": null,
   "metadata": {},
   "outputs": [],
   "source": []
  },
  {
   "cell_type": "code",
   "execution_count": 21,
   "metadata": {},
   "outputs": [
    {
     "name": "stdout",
     "output_type": "stream",
     "text": [
      "b'\\xf29]'\n",
      "0x5d 0x91\n",
      "0xa473a1f9ad690e6e43760a1cc0a49bac 0x5d\n",
      "0xf239\n"
     ]
    }
   ],
   "source": [
    "print(ka)\n",
    "k = ka\n",
    "inCrc = 0\n",
    "for inData in [k[0], k[1]]:\n",
    "    data = inCrc ^ inData;\n",
    "    data <<= 8 \n",
    "    for i in range(8):\n",
    "        if (( data & 0x8000 ) != 0 ):\n",
    "            data = data ^ (0x1070 << 3)\n",
    "        data = data << 1\n",
    "    inCrc = data >> 8\n",
    "print(hex(k[2]), hex(inCrc))\n",
    "x = k[0]*256+k[1]\n",
    "print(hex(x**8 + x**2 + x + 1), hex(k[2]))\n",
    "print(hex(x))"
   ]
  },
  {
   "cell_type": "code",
   "execution_count": 62,
   "metadata": {},
   "outputs": [
    {
     "name": "stdout",
     "output_type": "stream",
     "text": [
      "0xb50b 0xbb\n",
      "0xb52dc3 0xbb\n",
      "0xb52d754b 0xbb\n",
      "0xb52d75f2de 0xbb\n",
      "0xb52d75f2e5bb 0xbb\n",
      "0xb52c72d5127e 0x7e\n"
     ]
    }
   ],
   "source": [
    "ka = i2c.readfrom_mem(0x5b, 0x26, 3)\n",
    "ki = i2c.readfrom_mem(0x5b, 0x27, 3)\n",
    "\n",
    "_poly = 7;\n",
    "def crc8(data):\n",
    "    global _crc\n",
    "    _crc = _crc ^ data;\n",
    "    for i in range(8):\n",
    "        if _crc & 0x80:\n",
    "            _crc = (_crc << 1) ^ _poly\n",
    "        else:\n",
    "            _crc = _crc << 1;\n",
    "    return _crc;\n",
    "_crc = 0;\n",
    "\n",
    "k = ka\n",
    "crc8(0x5B << 1);\n",
    "print(hex(_crc), hex(k[2]))\n",
    "crc8(0x26);\n",
    "print(hex(_crc), hex(k[2]))\n",
    "crc8((0x5B << 1) + 1);\n",
    "print(hex(_crc), hex(k[2]))\n",
    "crc8(k[0]);\n",
    "print(hex(_crc), hex(k[2]))\n",
    "crc8(k[1]);\n",
    "print(hex(_crc), hex(k[2]))\n",
    "\n",
    "\n",
    "k = ki\n",
    "_crc = 0\n",
    "crc8(0x5B << 1);\n",
    "crc8(0x27);\n",
    "crc8((0x5B << 1) + 1);\n",
    "crc8(k[0]);\n",
    "crc8(k[1]);\n",
    "print(hex(_crc), hex(k[2]))\n"
   ]
  },
  {
   "cell_type": "code",
   "execution_count": 66,
   "metadata": {},
   "outputs": [
    {
     "name": "stdout",
     "output_type": "stream",
     "text": [
      "0x47 0x47 0x40 0x40\r\n"
     ]
    }
   ],
   "source": [
    "#ka = i2c.readfrom_mem(0x5b, 0x26, 3)\n",
    "def crc8(data):\n",
    "    c = 0\n",
    "    for d in data:\n",
    "        c = c ^ d\n",
    "        for i in range(8):\n",
    "            if c & 0x80:\n",
    "                c = (c << 1) ^ 7\n",
    "            else:\n",
    "                c = c << 1\n",
    "        c = c & 0xFF\n",
    "    return c\n",
    "        \n",
    "ka = i2c.readfrom_mem(0x5B, 0x26, 3)\n",
    "kacrc = crc8([0x5B<<1, 0x26, (0x5B<<1)+1, ka[0], ka[1]])\n",
    "ki = i2c.readfrom_mem(0x5B, 0x27, 3)\n",
    "kicrc = crc8([0x5B<<1, 0x27, (0x5B<<1)+1, ki[0], ki[1]])\n",
    "print(hex(ka[2]), hex(kacrc), hex(ki[2]), hex(kicrc))"
   ]
  },
  {
   "cell_type": "code",
   "execution_count": null,
   "metadata": {},
   "outputs": [],
   "source": []
  },
  {
   "cell_type": "code",
   "execution_count": null,
   "metadata": {},
   "outputs": [],
   "source": [
    "void CRC8::crc8Start(uint8_t poly) {\n",
    "    _poly = poly;\n",
    "    _crc = 0;\n",
    "}\n",
    "\n",
    "uint8_t CRC8::crc8(uint8_t data) {\n",
    "    uint8_t i = 8;\n",
    "    \n",
    "    _crc ^= data;\n",
    "    while(i--) _crc = _crc & 0x80 ? (_crc << 1) ^ _poly : _crc << 1;\n",
    "    return _crc;\n",
    "}\n",
    "\n",
    "\n",
    "        \n",
    "        #define MLX90614_CRC8POLY       7       /**< CRC polynomial = X8+X2+X1+1 */\n",
    "CRC8 crc(MLX90614_CRC8POLY);\n",
    "    crc.crc8(_addr << 1);\n",
    "    crc.crc8(cmd);\n",
    "    crc.crc8((_addr << 1) + 1);\n",
    "    crc.crc8(lowByte(val));\n",
    "    _crc8 = crc.crc8(highByte(val));\n"
   ]
  },
  {
   "cell_type": "code",
   "execution_count": 37,
   "metadata": {},
   "outputs": [
    {
     "name": "stdout",
     "output_type": "stream",
     "text": [
      "7E 39 1\r\n"
     ]
    }
   ],
   "source": [
    "k = ki\n",
    "print(\"%X %X %X\" % (k[0], k[1], k[2]))"
   ]
  },
  {
   "cell_type": "code",
   "execution_count": 6,
   "metadata": {},
   "outputs": [],
   "source": [
    "\n",
    "def checkCRC(k, mask):  # mask (matching nibble) different in case\n",
    "    inCrc = 0\n",
    "    for inData in [k[0], k[1]]:\n",
    "        data = inCrc ^ inData;\n",
    "        data <<= 8 \n",
    "        for i in range(8):\n",
    "            if (( data & 0x8000 ) != 0 ):\n",
    "                data = data ^ (0x1070 << 3)\n",
    "            data = data << 1\n",
    "        inCrc = data >> 8\n",
    "    return (inCrc & mask)\n",
    "\n",
    "def mlx90614temps(i2c, addr=0x5a):\n",
    "    try:\n",
    "        ka = i2c.readfrom_mem(addr, 0x06, 3)\n",
    "        ki = i2c.readfrom_mem(addr, 0x07, 3)\n",
    "        bcrcgood = (checkCRC(ka, 0x0F) and checkCRC(ki, 0xF0))\n",
    "        if ki[0] == 0 and ki[1] == 0:\n",
    "            bcrcgood = False\n",
    "    except OSError:\n",
    "        bcrcgood = False\n",
    "    if bcrcgood:\n",
    "        tempAmbient = (ka[0]+ka[1]*256)*0.02 - 273.15\n",
    "        tempIR = (ki[0]+ki[1]*256)*0.02 - 273.15\n",
    "        return tempAmbient, tempIR\n",
    "    return None, None\n",
    "    "
   ]
  },
  {
   "cell_type": "code",
   "execution_count": 8,
   "metadata": {},
   "outputs": [
    {
     "name": "stdout",
     "output_type": "stream",
     "text": [
      "(None, None)\r\n"
     ]
    }
   ],
   "source": [
    "print(mlx90614temps(i2c, 0x5b))"
   ]
  }
 ],
 "metadata": {
  "kernelspec": {
   "display_name": "MicroPython - USB",
   "language": "micropython",
   "name": "micropython"
  },
  "language_info": {
   "codemirror_mode": "python",
   "file_extension": ".py",
   "mimetype": "text/python",
   "name": "micropython"
  }
 },
 "nbformat": 4,
 "nbformat_minor": 2
}

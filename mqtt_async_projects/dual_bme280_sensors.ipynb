{
 "cells": [
  {
   "cell_type": "code",
   "execution_count": 5,
   "metadata": {},
   "outputs": [
    {
     "name": "stdout",
     "output_type": "stream",
     "text": [
      "serial exception on close write failed: [Errno 5] Input/output error\n",
      "\u001b[34mConnecting to --port=/dev/ttyUSB1 --baud=115200 \u001b[0m\n",
      "\u001b[34mReady.\n",
      "\u001b[0m"
     ]
    }
   ],
   "source": [
    "%serialconnect"
   ]
  },
  {
   "cell_type": "code",
   "execution_count": 6,
   "metadata": {},
   "outputs": [
    {
     "name": "stdout",
     "output_type": "stream",
     "text": [
      "Sent 5 lines (108 bytes) to config.txt.\n"
     ]
    }
   ],
   "source": [
    "%sendtofile config.txt\n",
    "\n",
    "wifiname     BV6000\n",
    "wifipassword bubblino\n",
    "mqttbroker   192.168.43.1\n",
    "pinled       2\n",
    "boardname    esp8266sens2"
   ]
  },
  {
   "cell_type": "code",
   "execution_count": 2,
   "metadata": {},
   "outputs": [
    {
     "name": "stdout",
     "output_type": "stream",
     "text": [
      "Sent 5 lines (115 bytes) to config.txt.\n"
     ]
    }
   ],
   "source": [
    "%sendtofile config.txt\n",
    "\n",
    "wifiname     DoESLiverpool\n",
    "wifipassword decafbad00\n",
    "mqttbroker   10.0.100.1\n",
    "pinled       2\n",
    "boardname    esp8266sens2"
   ]
  },
  {
   "cell_type": "code",
   "execution_count": 3,
   "metadata": {},
   "outputs": [
    {
     "name": "stdout",
     "output_type": "stream",
     "text": [
      "Sent 79 lines (3304 bytes) to BME280_funcs.py.\n"
     ]
    }
   ],
   "source": [
    "%sendtofile --source ../Sensor_Kennel/BME280_funcs.py"
   ]
  },
  {
   "cell_type": "code",
   "execution_count": 219,
   "metadata": {},
   "outputs": [
    {
     "name": "stdout",
     "output_type": "stream",
     "text": [
      "serial exception on close write failed: [Errno 5] Input/output error\n",
      "\u001b[34mConnecting to --port=/dev/ttyUSB4 --baud=115200 \u001b[0m\n",
      "\u001b[34mReady.\n",
      "\u001b[0m"
     ]
    }
   ],
   "source": [
    "%serialconnect"
   ]
  },
  {
   "cell_type": "code",
   "execution_count": 4,
   "metadata": {},
   "outputs": [
    {
     "name": "stdout",
     "output_type": "stream",
     "text": [
      "Sent 71 lines (2018 bytes) to main.py.\n"
     ]
    }
   ],
   "source": [
    "%sendtofile main.py\n",
    "\n",
    "import time\n",
    "from machine import Pin, PWM, I2C\n",
    "\n",
    "fconfig = dict(x.split()  for x in open(\"config.txt\"))\n",
    "pinled = Pin(int(fconfig[\"pinled\"]), Pin.OUT)\n",
    "for i in range(10):\n",
    "    pinled.value(i%2)\n",
    "    time.sleep_ms(300)\n",
    "    \n",
    "i2c = machine.I2C(scl=machine.Pin(4), sda=machine.Pin(5))\n",
    "print(list(map(hex, i2c.scan())))\n",
    "\n",
    "from mqtt_as import config, MQTTClient\n",
    "import uasyncio as asyncio\n",
    "from BME280_funcs import bme280init, readBME280\n",
    "\n",
    "\n",
    "config['server'] = fconfig[\"mqttbroker\"]\n",
    "config['ssid'] = fconfig[\"wifiname\"]\n",
    "config['wifi_pw'] = fconfig[\"wifipassword\"]\n",
    "config['mqttchannel'] = fconfig[\"boardname\"]\n",
    "\n",
    "boardname = fconfig[\"boardname\"].encode()    \n",
    "\n",
    "tbme280A = boardname+b'/bme280/A'\n",
    "tbme280B = boardname+b'/bme280/B'\n",
    "\n",
    "client = MQTTClient(config)\n",
    "\n",
    "async def ledtask():\n",
    "    while True:\n",
    "        pinled.value(0)\n",
    "        await asyncio.sleep_ms(20 if client.isconnected() else 600)\n",
    "        pinled.value(1)\n",
    "        await asyncio.sleep_ms(2000)\n",
    "        \n",
    "async def bme280task(addr, topic):\n",
    "    btoinit = True\n",
    "    while True:\n",
    "        try:\n",
    "            if btoinit:\n",
    "                bme280init(i2c, addr)\n",
    "                btoinit = False\n",
    "                await asyncio.sleep_ms(100)\n",
    "            meas = readBME280(addr)\n",
    "            print(topic, meas)\n",
    "            payload = \" \".join(map(str, meas))\n",
    "            await client.publish(topic, payload)\n",
    "        except OSError as e:\n",
    "            print(\"bme280task\", e)\n",
    "            btoinit = True\n",
    "        await asyncio.sleep_ms(500)\n",
    "        \n",
    "async def connectingtask():\n",
    "    while True:\n",
    "        try:\n",
    "            await client.connect()\n",
    "            break\n",
    "        except OSError as e:\n",
    "            print([e])\n",
    "    ipnumber = client._sta_if.ifconfig()[0]\n",
    "    print(\"ipnumber\", ipnumber)\n",
    "    await client.publish(boardname+b'/ip', ipnumber, retain=True, qos=1)\n",
    "        \n",
    "aloop = asyncio.get_event_loop()\n",
    "aloop.create_task(bme280task(0x76, boardname+b'/bme280/A'))\n",
    "aloop.create_task(bme280task(0x77, boardname+b'/bme280/B'))\n",
    "aloop.create_task(ledtask())\n",
    "aloop.create_task(connectingtask())\n",
    "aloop.run_forever()\n",
    "\n"
   ]
  },
  {
   "cell_type": "code",
   "execution_count": null,
   "metadata": {},
   "outputs": [],
   "source": []
  }
 ],
 "metadata": {
  "kernelspec": {
   "display_name": "MicroPython - USB",
   "language": "micropython",
   "name": "micropython"
  },
  "language_info": {
   "codemirror_mode": "python",
   "file_extension": ".py",
   "mimetype": "text/python",
   "name": "micropython"
  }
 },
 "nbformat": 4,
 "nbformat_minor": 2
}

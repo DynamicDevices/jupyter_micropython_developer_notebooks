{
 "cells": [
  {
   "cell_type": "code",
   "execution_count": 19,
   "metadata": {},
   "outputs": [
    {
     "name": "stdout",
     "output_type": "stream",
     "text": [
      "serial exception on close write failed: [Errno 5] Input/output error\n",
      "\u001b[34mConnecting to --port=/dev/ttyUSB0 --baud=115200 \u001b[0m\n",
      "\u001b[34mReady.\n",
      "\u001b[0m"
     ]
    }
   ],
   "source": [
    "%serialconnect"
   ]
  },
  {
   "cell_type": "code",
   "execution_count": 20,
   "metadata": {},
   "outputs": [
    {
     "name": "stdout",
     "output_type": "stream",
     "text": [
      "Sent 10 lines (190 bytes) to config.txt.\n"
     ]
    }
   ],
   "source": [
    "%sendtofile config.txt\n",
    "\n",
    "wifiname     BV6000\n",
    "wifipassword bubblino\n",
    "mqttbroker   192.168.43.1\n",
    "pinled       2\n",
    "pinmotorA    13\n",
    "pinmotorB    12\n",
    "motordir     -1\n",
    "motoronms    200\n",
    "motoroffms   800\n",
    "boardname    esp8266sens2"
   ]
  },
  {
   "cell_type": "code",
   "execution_count": 9,
   "metadata": {},
   "outputs": [
    {
     "name": "stdout",
     "output_type": "stream",
     "text": [
      "Sent 79 lines (3304 bytes) to BME280_funcs.py.\n"
     ]
    }
   ],
   "source": [
    "%sendtofile --source ../Sensor_Kennel/BME280_funcs.py"
   ]
  },
  {
   "cell_type": "code",
   "execution_count": 3,
   "metadata": {},
   "outputs": [
    {
     "name": "stdout",
     "output_type": "stream",
     "text": [
      "serial exception on close write failed: [Errno 5] Input/output error\n",
      "\u001b[34mConnecting to --port=/dev/ttyUSB3 --baud=115200 \u001b[0m\n",
      "\u001b[34mReady.\n",
      "\u001b[0m"
     ]
    }
   ],
   "source": [
    "%serialconnect"
   ]
  },
  {
   "cell_type": "code",
   "execution_count": 4,
   "metadata": {},
   "outputs": [
    {
     "name": "stdout",
     "output_type": "stream",
     "text": [
      "Sent 118 lines (3693 bytes) to main.py.\n"
     ]
    }
   ],
   "source": [
    "%sendtofile main.py\n",
    "\n",
    "import time\n",
    "from machine import Pin, I2C\n",
    "from mqtt_as import config, MQTTClient\n",
    "import uasyncio as asyncio\n",
    "from BME280_funcs import bme280init, readBME280\n",
    "from uasyncio.queues import Queue\n",
    "\n",
    "fconfig = dict(x.split()  for x in open(\"config.txt\"))\n",
    "pinled = Pin(int(fconfig[\"pinled\"]), Pin.OUT)\n",
    "for i in range(10):\n",
    "    pinled.value(i%2)\n",
    "    time.sleep_ms(300)\n",
    "    \n",
    "i2c = machine.I2C(scl=machine.Pin(5), sda=machine.Pin(4))\n",
    "print(list(map(hex, i2c.scan())))\n",
    "\n",
    "config['server'] = fconfig[\"mqttbroker\"]\n",
    "config['ssid'] = fconfig[\"wifiname\"]\n",
    "config['wifi_pw'] = fconfig[\"wifipassword\"]\n",
    "config['mqttchannel'] = fconfig[\"boardname\"]\n",
    "boardname = fconfig[\"boardname\"].encode()    \n",
    "\n",
    "tbme280A = boardname+b'/bme280/A'\n",
    "tbme280B = boardname+b'/bme280/B'\n",
    "\n",
    "pinmotorA = Pin(int(fconfig[\"pinmotorA\"]), Pin.OUT)\n",
    "pinmotorB = Pin(int(fconfig[\"pinmotorB\"]), Pin.OUT)\n",
    "pinmotorA.value(0)\n",
    "pinmotorB.value(0)\n",
    "\n",
    "motordir = int(fconfig[\"motordir\"])\n",
    "motoronms = int(fconfig[\"motoronms\"])\n",
    "motoroffms = int(fconfig[\"motoroffms\"])\n",
    "\n",
    "async def ledtask():\n",
    "    while True:\n",
    "        pinled.value(0)\n",
    "        await asyncio.sleep_ms(20 if client.isconnected() else 1600)\n",
    "        pinled.value(1)\n",
    "        await asyncio.sleep_ms(2000)\n",
    "\n",
    "async def fantask():\n",
    "    while True:\n",
    "        if motordir != 0:\n",
    "            pinmotor = pinmotorA  if motordir == 1  else pinmotorB\n",
    "            pinmotor.value(1)\n",
    "            await asyncio.sleep_ms(motoronms)\n",
    "            pinmotor.value(0)\n",
    "            await asyncio.sleep_ms(motoroffms + 2000*(1-client.isconnected()))\n",
    "        else:\n",
    "            await asyncio.sleep_ms(300)\n",
    "        \n",
    "async def bme280task(addr, topic):\n",
    "    btoinit = True\n",
    "    while True:\n",
    "        try:\n",
    "            if btoinit:\n",
    "                bme280init(i2c, addr)\n",
    "                btoinit = False\n",
    "                await asyncio.sleep_ms(100)\n",
    "            meas = readBME280(addr)\n",
    "            payload = \" \".join(map(str, meas))\n",
    "            if client.isconnected():\n",
    "                print(topic, meas)\n",
    "                await client.publish(topic, payload)\n",
    "        except OSError as e:\n",
    "            print(\"bme280task\", e)\n",
    "            btoinit = True\n",
    "        await asyncio.sleep_ms(500)\n",
    "\n",
    "async def callbackcmdtask(topic, msg):\n",
    "    print(\"executing\", [msg])\n",
    "    pinled.value(0)\n",
    "    try:\n",
    "        exec(msg)\n",
    "        await client.publish(boardname+'/reply', \"1\")\n",
    "    except Exception as e:\n",
    "        print(e)\n",
    "        await client.publish(boardname+'/reply/exception', str(e))\n",
    "    pinled.value(1)\n",
    "    return\n",
    "    \n",
    "def callbackcmd(topic, msg, retained):\n",
    "    aloop.create_task(callbackcmdtask(topic, msg))\n",
    "        \n",
    "async def onconnecttask(client):\n",
    "    ipnumber = client._sta_if.ifconfig()[0]\n",
    "    print(\"ipnumber\", ipnumber)\n",
    "    await client.subscribe(boardname+\"/cmd\")\n",
    "    await client.publish(boardname+'/ip', ipnumber, retain=True)\n",
    "    \n",
    "async def mqtttask(bflip=False):\n",
    "    if bflip and \"wifialt\" in fconfig:\n",
    "        assid, awifi_pw, aserver = fconfig[\"wifialt\"].split(\",\")\n",
    "        if client._ssid == assid:\n",
    "            assid, awifi_pw, aserver = fconfig[\"wifiname\"], fconfig[\"wifipassword\"], fconfig[\"mqttbroker\"]\n",
    "        client._ssid, client._wifi_pw, client.server = assid, awifi_pw, aserver\n",
    "    try:\n",
    "        print(\"connecting to:\", client._ssid)\n",
    "        await client.connect()\n",
    "        return\n",
    "    except OSError as e:\n",
    "        print(\"client connect\", [e])\n",
    "    aloop.create_task(mqtttask(True))\n",
    "\n",
    "    \n",
    "config['subs_cb'] = callbackcmd\n",
    "config['connect_coro'] = onconnecttask\n",
    "client = MQTTClient(config)\n",
    "    \n",
    "aloop = asyncio.get_event_loop()\n",
    "aloop.create_task(bme280task(0x76, boardname+b'/bme280/A'))\n",
    "aloop.create_task(bme280task(0x77, boardname+b'/bme280/B'))\n",
    "aloop.create_task(ledtask())\n",
    "aloop.create_task(mqtttask())\n",
    "aloop.create_task(fantask())\n",
    "aloop.run_forever()\n",
    "\n"
   ]
  },
  {
   "cell_type": "code",
   "execution_count": null,
   "metadata": {},
   "outputs": [],
   "source": []
  },
  {
   "cell_type": "code",
   "execution_count": 22,
   "metadata": {},
   "outputs": [
    {
     "name": "stdout",
     "output_type": "stream",
     "text": [
      "serial exception on close write failed: [Errno 5] Input/output error\n",
      "\u001b[34mConnecting to --port=/dev/ttyUSB3 --baud=115200 \u001b[0m\n",
      "\u001b[34mReady.\n",
      "\u001b[0m"
     ]
    }
   ],
   "source": [
    "%serialconnect"
   ]
  },
  {
   "cell_type": "code",
   "execution_count": 20,
   "metadata": {},
   "outputs": [],
   "source": [
    "# below is no-sensor running to find why it keeps timing out"
   ]
  },
  {
   "cell_type": "code",
   "execution_count": 4,
   "metadata": {},
   "outputs": [
    {
     "name": "stdout",
     "output_type": "stream",
     "text": [
      "Sent 62 lines (1878 bytes) to main.py.\n"
     ]
    }
   ],
   "source": [
    "%sendtofile main.py\n",
    "\n",
    "import time\n",
    "from machine import Pin\n",
    "from mqtt_as import config, MQTTClient\n",
    "import uasyncio as asyncio\n",
    "\n",
    "fconfig = dict(x.split()  for x in open(\"config.txt\"))\n",
    "pinled = Pin(int(fconfig[\"pinled\"]), Pin.OUT)\n",
    "for i in range(10):\n",
    "    pinled.value(i%2)\n",
    "    time.sleep_ms(300)\n",
    "    \n",
    "config['server'] = fconfig[\"mqttbroker\"]\n",
    "config['ssid'] = fconfig[\"wifiname\"]\n",
    "config['wifi_pw'] = fconfig[\"wifipassword\"]\n",
    "config['mqttchannel'] = fconfig[\"boardname\"]\n",
    "boardname = fconfig[\"boardname\"]\n",
    "\n",
    "async def ledtask():\n",
    "    while True:\n",
    "        pinled.value(0)\n",
    "        await asyncio.sleep_ms(20 if client.isconnected() else 1600)\n",
    "        pinled.value(1)\n",
    "        await asyncio.sleep_ms(2000)\n",
    "        \n",
    "async def sendnumbertask():\n",
    "    i = 0\n",
    "    topic = boardname + \"/number\"\n",
    "    while True:\n",
    "        if client.isconnected():\n",
    "            print(i)\n",
    "            await client.publish(topic, str(i))\n",
    "        await asyncio.sleep_ms(1000)\n",
    "        i += 1\n",
    "\n",
    "async def onconnecttask(client):\n",
    "    ipnumber = client._sta_if.ifconfig()[0]\n",
    "    print(\"ipnumber\", ipnumber)\n",
    "    await client.publish(boardname+'/ip', ipnumber, retain=True)\n",
    "    \n",
    "async def mqtttask(bflip=False):\n",
    "    if bflip and \"wifialt\" in fconfig:\n",
    "        assid, awifi_pw, aserver = fconfig[\"wifialt\"].split(\",\")\n",
    "        if client._ssid == assid:\n",
    "            assid, awifi_pw, aserver = fconfig[\"wifiname\"], fconfig[\"wifipassword\"], fconfig[\"mqttbroker\"]\n",
    "        client._ssid, client._wifi_pw, client.server = assid, awifi_pw, aserver\n",
    "    try:\n",
    "        print(\"connecting to:\", client._ssid)\n",
    "        await client.connect()\n",
    "        return\n",
    "    except OSError as e:\n",
    "        print(\"client connect\", [e])\n",
    "    aloop.create_task(mqtttask(True))\n",
    "\n",
    "config['connect_coro'] = onconnecttask\n",
    "client = MQTTClient(config)\n",
    "    \n",
    "aloop = asyncio.get_event_loop()\n",
    "aloop.create_task(sendnumbertask())\n",
    "aloop.create_task(ledtask())\n",
    "aloop.create_task(mqtttask())\n",
    "aloop.run_forever()\n",
    "\n"
   ]
  },
  {
   "cell_type": "code",
   "execution_count": null,
   "metadata": {},
   "outputs": [],
   "source": []
  }
 ],
 "metadata": {
  "kernelspec": {
   "display_name": "MicroPython - USB",
   "language": "micropython",
   "name": "micropython"
  },
  "language_info": {
   "codemirror_mode": "python",
   "file_extension": ".py",
   "mimetype": "text/python",
   "name": "micropython"
  }
 },
 "nbformat": 4,
 "nbformat_minor": 2
}

{
 "cells": [
  {
   "cell_type": "code",
   "execution_count": 55,
   "metadata": {},
   "outputs": [
    {
     "name": "stdout",
     "output_type": "stream",
     "text": [
      "\u001b[34mExecuting:\n",
      "  esptool.py --port /dev/ttyUSB4 erase_flash\n",
      "\n",
      "\u001b[0mesptool.py v2.0\n",
      "Connecting....\n",
      "\u001b[34m[Press the PRG button now if required]\n",
      "\u001b[0mDetecting chip type... ESP8266\n",
      "Chip is ESP8266\n",
      "Uploading stub...\n",
      "Running stub...\n",
      "Stub running...\n",
      "Erasing flash (this may take a while)...\n",
      "Chip erase completed successfully in 9.6s\n",
      "Hard resetting...\n"
     ]
    }
   ],
   "source": [
    "%esptool erase"
   ]
  },
  {
   "cell_type": "code",
   "execution_count": 56,
   "metadata": {},
   "outputs": [
    {
     "name": "stdout",
     "output_type": "stream",
     "text": [
      "\u001b[34mExecuting:\n",
      "  esptool.py --port /dev/ttyUSB4 --baud 460800 write_flash --flash_size=detect -fm dio 0 /home/julian/extrepositories/micropython/ports/esp8266/build-GENERIC/firmware-combined.bin\n",
      "\n",
      "\u001b[0mesptool.py v2.0\n",
      "Connecting....\n",
      "\u001b[34m[Press the PRG button now if required]\n",
      "\u001b[0mDetecting chip type... ESP8266\n",
      "Chip is ESP8266\n",
      "Uploading stub...\n",
      "Running stub...\n",
      "Stub running...\n",
      "Changing baud rate to 460800\n",
      "Changed.\n",
      "Configuring flash size...\n",
      "Auto-detected Flash size: 4MB\n",
      "Flash params set to 0x0240\n",
      "Compressed 615876 bytes to 401882...\n",
      "Wrote 615876 bytes (401882 compressed) at 0x00000000 in 9.3 seconds (effective 528.3 kbit/s)...\n",
      "Hash of data verified.\n",
      "\n",
      "Leaving...\n",
      "Hard resetting...\n"
     ]
    }
   ],
   "source": [
    "%esptool esp8266 /home/julian/extrepositories/micropython/ports/esp8266/build-GENERIC/firmware-combined.bin"
   ]
  },
  {
   "cell_type": "code",
   "execution_count": 30,
   "metadata": {},
   "outputs": [
    {
     "name": "stdout",
     "output_type": "stream",
     "text": [
      "Sent 6 lines (146 bytes) to config.txt.\n"
     ]
    }
   ],
   "source": [
    "%sendtofile config.txt\n",
    "\n",
    "wifiname        DoESLiverpool\n",
    "wifipassword    decafbad00\n",
    "mqttbroker      10.0.100.1\n",
    "pinneopixel     15\n",
    "pinled          2\n",
    "boardname       neogrid1\n"
   ]
  },
  {
   "cell_type": "code",
   "execution_count": 40,
   "metadata": {},
   "outputs": [
    {
     "name": "stdout",
     "output_type": "stream",
     "text": [
      "Sent 75 lines (2205 bytes) to main.py.\n"
     ]
    }
   ],
   "source": [
    "%sendtofile main.py\n",
    "\n",
    "from mqtt_as import MQTTClient, config\n",
    "import uasyncio as asyncio\n",
    "import os, time, machine\n",
    "\n",
    "fconfig = dict(x.split()  for x in open(\"config.txt\"))\n",
    "pinled = machine.Pin(int(fconfig[\"pinled\"]), machine.Pin.OUT)\n",
    " \n",
    "import neopixel\n",
    "np = neopixel.NeoPixel(machine.Pin(int(fconfig[\"pinneopixel\"])), 81)\n",
    "np.fill((20,0,80))\n",
    "np.write()\n",
    "\n",
    "import framebuf\n",
    "fbuff = framebuf.FrameBuffer(bytearray(9*9*2), 9, 9, framebuf.RGB565)\n",
    "\n",
    "def chex(su):\n",
    "    u = int(su, 16)\n",
    "    return (((u&0xF80000)>>8) | ((u&0x00FC00)>>5) | ((u&0x0000F8)>>3))\n",
    "\n",
    "def show():\n",
    "    for iy in range(9):\n",
    "        oiy = (iy%2)\n",
    "        fix = (-1 if oiy else 1)\n",
    "        riy = iy*9 + 8*oiy\n",
    "        for ix in range(9):\n",
    "            v = fbuff.pixel(ix, iy)\n",
    "            r = (v&0b1111100000000000)>>8\n",
    "            g = (v&0b0000011111100000)>>2\n",
    "            b = (v&0b0000000000011111)<<3\n",
    "            np[riy + ix*fix] = (r, g, b) \n",
    "    np.write()\n",
    "    \n",
    "pinled.value(0)\n",
    "time.sleep(2)\n",
    "pinled.value(1)\n",
    "\n",
    "boardname = fconfig[\"boardname\"]\n",
    "async def callbackcmdtask(topic, msg):\n",
    "    print(\"executing\", [msg])\n",
    "    pinled.value(0)\n",
    "    try:\n",
    "        exec(msg)\n",
    "        await client.publish(boardname+'/reply', \"1\")\n",
    "    except Exception as e:\n",
    "        print(e)\n",
    "        await client.publish(boardname+'/reply/exception', str(e))\n",
    "    pinled.value(1)\n",
    "    return\n",
    "\n",
    "def callbackcmd(topic, msg, retained):\n",
    "    aloop.create_task(callbackcmdtask(topic, msg))\n",
    "\n",
    "async def mainconnect():\n",
    "    print(\"connecting\")\n",
    "    fbuff.fill(0x0000); fbuff.text(\"C\", 0, 1, 0xf000); show()\n",
    "    await client.connect()\n",
    "    print(\"subscribing\")\n",
    "    fbuff.fill(0x0000); fbuff.text(\"S\", 0, 1, 0xf000); show()\n",
    "    await client.subscribe(boardname+'/cmd', 1)\n",
    "    await client.publish(boardname+\"/ip\", client._sta_if.ifconfig()[0], retain=True, qos=1)\n",
    "    fbuff.fill(0x0000); fbuff.text(\"R\", 0, 1, 0xf000); show()\n",
    "    while True:\n",
    "        await client.publish(boardname+'/time', str(time.time()))\n",
    "        await asyncio.sleep_ms(2000)\n",
    "    \n",
    "config['subs_cb'] = callbackcmd\n",
    "config['server'] = fconfig[\"mqttbroker\"]\n",
    "config['ssid'] = fconfig[\"wifiname\"]\n",
    "config['wifi_pw'] = fconfig[\"wifipassword\"]\n",
    "\n",
    "MQTTClient.DEBUG = True\n",
    "client = MQTTClient(config)\n",
    "\n",
    "aloop = asyncio.get_event_loop()\n",
    "aloop.run_until_complete(mainconnect())\n"
   ]
  },
  {
   "cell_type": "code",
   "execution_count": null,
   "metadata": {},
   "outputs": [],
   "source": [
    "#      RST          |  GPIO1   TX\n",
    "#       A0          |  GPIO3   RX\n",
    "#       D0  GPIO16  |  GPIO5   D1  SCL\n",
    "# SCK   D5  GPIO14  |  GPIO4   D2  SDA\n",
    "# MISO  D6  GPIO12  |  GPIO0   D3\n",
    "# MOSI  D7  GPIO13  |  GPIO2   D4  LED\n",
    "# SS    D8  GPIO15  |          GND\n",
    "#      3V3          |          5V\n"
   ]
  },
  {
   "cell_type": "code",
   "execution_count": 1,
   "metadata": {},
   "outputs": [
    {
     "name": "stdout",
     "output_type": "stream",
     "text": [
      "\u001b[34mConnecting to --port=/dev/ttyUSB4 --baud=115200 \u001b[0m\n",
      "\u001b[34mReady.\n",
      "\u001b[0m"
     ]
    }
   ],
   "source": [
    "%serialconnect"
   ]
  },
  {
   "cell_type": "code",
   "execution_count": 2,
   "metadata": {},
   "outputs": [
    {
     "name": "stdout",
     "output_type": "stream",
     "text": [
      "Sent 6 lines (146 bytes) to config.txt.\n"
     ]
    }
   ],
   "source": [
    "%sendtofile config.txt\n",
    "\n",
    "wifiname        DoESLiverpool\n",
    "wifipassword    decafbad00\n",
    "mqttbroker      10.0.100.1\n",
    "pinneopixel     15\n",
    "pinled          2\n",
    "boardname       neoring1\n"
   ]
  },
  {
   "cell_type": "code",
   "execution_count": 3,
   "metadata": {},
   "outputs": [
    {
     "name": "stdout",
     "output_type": "stream",
     "text": [
      "Sent 55 lines (1556 bytes) to main.py.\n"
     ]
    }
   ],
   "source": [
    "%sendtofile main.py\n",
    "\n",
    "from mqtt_as import MQTTClient, config\n",
    "import uasyncio as asyncio\n",
    "import os, time, machine\n",
    "\n",
    "fconfig = dict(x.split()  for x in open(\"config.txt\"))\n",
    "pinled = machine.Pin(int(fconfig[\"pinled\"]), machine.Pin.OUT)\n",
    " \n",
    "import neopixel\n",
    "np = neopixel.NeoPixel(machine.Pin(int(fconfig[\"pinneopixel\"])), 24)\n",
    "np.fill((2,1,12))\n",
    "np.write()\n",
    "\n",
    "pinled.value(0)\n",
    "time.sleep(2)\n",
    "pinled.value(1)\n",
    "\n",
    "boardname = fconfig[\"boardname\"]\n",
    "async def callbackcmdtask(topic, msg):\n",
    "    print(\"executing\", [msg])\n",
    "    pinled.value(0)\n",
    "    try:\n",
    "        exec(msg)\n",
    "        await client.publish(boardname+'/reply', \"1\")\n",
    "    except Exception as e:\n",
    "        print(e)\n",
    "        await client.publish(boardname+'/reply/exception', str(e))\n",
    "    pinled.value(1)\n",
    "    return\n",
    "\n",
    "def callbackcmd(topic, msg, retained):\n",
    "    aloop.create_task(callbackcmdtask(topic, msg))\n",
    "\n",
    "async def mainconnect():\n",
    "    print(\"connecting\")\n",
    "    np.fill((5,0,0)); np.write()\n",
    "    await client.connect()\n",
    "    print(\"subscribing\")\n",
    "    np.fill((0,5,0)); np.write()\n",
    "    await client.subscribe(boardname+'/cmd', 1)\n",
    "    await client.publish(boardname+\"/ip\", client._sta_if.ifconfig()[0], retain=True, qos=1)\n",
    "    np.fill((2,1,12)); np.write()\n",
    "    while True:\n",
    "        await client.publish(boardname+'/time', str(time.time()))\n",
    "        await asyncio.sleep_ms(2000)\n",
    "    \n",
    "config['subs_cb'] = callbackcmd\n",
    "config['server'] = fconfig[\"mqttbroker\"]\n",
    "config['ssid'] = fconfig[\"wifiname\"]\n",
    "config['wifi_pw'] = fconfig[\"wifipassword\"]\n",
    "\n",
    "MQTTClient.DEBUG = True\n",
    "client = MQTTClient(config)\n",
    "\n",
    "aloop = asyncio.get_event_loop()\n",
    "aloop.run_until_complete(mainconnect())\n"
   ]
  },
  {
   "cell_type": "code",
   "execution_count": null,
   "metadata": {},
   "outputs": [],
   "source": []
  }
 ],
 "metadata": {
  "kernelspec": {
   "display_name": "MicroPython - USB",
   "language": "micropython",
   "name": "micropython"
  },
  "language_info": {
   "codemirror_mode": "python",
   "file_extension": ".py",
   "mimetype": "text/python",
   "name": "micropython"
  }
 },
 "nbformat": 4,
 "nbformat_minor": 2
}

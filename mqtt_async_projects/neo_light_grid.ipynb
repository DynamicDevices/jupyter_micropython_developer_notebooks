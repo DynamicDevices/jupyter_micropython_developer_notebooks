{
 "cells": [
  {
   "cell_type": "code",
   "execution_count": 1,
   "metadata": {},
   "outputs": [
    {
     "name": "stdout",
     "output_type": "stream",
     "text": [
      "\u001b[34m** WebSocket connected **\n",
      "\u001b[0mPassword: \n",
      "WebREPL connected\n",
      ">>> \u001b[34mReady.\n",
      "\u001b[0m"
     ]
    }
   ],
   "source": [
    "%websocketconnect --password wpass ws://10.0.37.237:8266/"
   ]
  },
  {
   "cell_type": "code",
   "execution_count": null,
   "metadata": {},
   "outputs": [],
   "source": [
    "import network\n",
    "w = network.WLAN()\n",
    "w.active(True)\n",
    "w.connect(\"BV6000\", \"bubblino\")"
   ]
  },
  {
   "cell_type": "code",
   "execution_count": 12,
   "metadata": {},
   "outputs": [
    {
     "name": "stdout",
     "output_type": "stream",
     "text": [
      "serial exception on close write failed: [Errno 5] Input/output error\n",
      "\u001b[34mConnecting to --port=/dev/ttyUSB2 --baud=115200 \u001b[0m\n",
      "\u001b[34mReady.\n",
      "\u001b[0m"
     ]
    }
   ],
   "source": [
    "%serialconnect"
   ]
  },
  {
   "cell_type": "code",
   "execution_count": 2,
   "metadata": {},
   "outputs": [
    {
     "name": "stdout",
     "output_type": "stream",
     "text": [
      "Sent 7 lines (190 bytes) to config.txt.\n"
     ]
    }
   ],
   "source": [
    "%sendtofile config.txt\n",
    "\n",
    "wifiname        BV6000\n",
    "wifipassword    bubblino\n",
    "mqttbroker      192.168.43.1\n",
    "pinneopixel     15\n",
    "pinled          2\n",
    "boardname       neogrid1\n",
    "wifialt         DoESLiverpool,decafbad00,10.0.100.1"
   ]
  },
  {
   "cell_type": "code",
   "execution_count": 30,
   "metadata": {},
   "outputs": [
    {
     "name": "stdout",
     "output_type": "stream",
     "text": [
      "Sent 6 lines (146 bytes) to config.txt.\n"
     ]
    }
   ],
   "source": [
    "%sendtofile config.txt\n",
    "\n",
    "wifiname        DoESLiverpool\n",
    "wifipassword    decafbad00\n",
    "mqttbroker      10.0.100.1\n",
    "pinneopixel     15\n",
    "pinled          2\n",
    "boardname       neogrid1\n"
   ]
  },
  {
   "cell_type": "code",
   "execution_count": 18,
   "metadata": {},
   "outputs": [
    {
     "name": "stdout",
     "output_type": "stream",
     "text": [
      "serial exception on close write failed: [Errno 5] Input/output error\n",
      "\u001b[34mConnecting to --port=/dev/ttyUSB2 --baud=115200 \u001b[0m\n",
      "\u001b[34mReady.\n",
      "\u001b[0m"
     ]
    }
   ],
   "source": [
    "%serialconnect"
   ]
  },
  {
   "cell_type": "code",
   "execution_count": 19,
   "metadata": {},
   "outputs": [
    {
     "name": "stdout",
     "output_type": "stream",
     "text": [
      "Sent 106 lines (3291 bytes) to main.py.\n"
     ]
    }
   ],
   "source": [
    "%sendtofile main.py\n",
    "\n",
    "from mqtt_as import MQTTClient, config\n",
    "import uasyncio as asyncio\n",
    "import os, time, machine\n",
    "\n",
    "fconfig = dict(x.split()  for x in open(\"config.txt\"))\n",
    "pinled = machine.Pin(int(fconfig[\"pinled\"]), machine.Pin.OUT)\n",
    " \n",
    "import neopixel\n",
    "np = neopixel.NeoPixel(machine.Pin(int(fconfig[\"pinneopixel\"])), 81)\n",
    "np.fill((20,0,80))\n",
    "np.write()\n",
    "\n",
    "import framebuf\n",
    "fbuff = framebuf.FrameBuffer(bytearray(9*9*2), 9, 9, framebuf.RGB565)\n",
    "\n",
    "def chex(su):\n",
    "    u = int(su, 16)\n",
    "    return (((u&0xF80000)>>8) | ((u&0x00FC00)>>5) | ((u&0x0000F8)>>3))\n",
    "\n",
    "def show():\n",
    "    for iy in range(9):\n",
    "        oiy = (iy%2)\n",
    "        fix = (-1 if oiy else 1)\n",
    "        riy = iy*9 + 8*oiy\n",
    "        for ix in range(9):\n",
    "            v = fbuff.pixel(ix, iy)\n",
    "            r = (v&0b1111100000000000)>>8\n",
    "            g = (v&0b0000011111100000)>>2\n",
    "            b = (v&0b0000000000011111)<<3\n",
    "            np[riy + ix*fix] = (r, g, b) \n",
    "    np.write()\n",
    "    \n",
    "pinled.value(0)\n",
    "time.sleep(2)\n",
    "pinled.value(1)\n",
    "\n",
    "boardname = fconfig[\"boardname\"]\n",
    "\n",
    "async def connectionmonitortask():\n",
    "    t0 = time.time()\n",
    "    while True:\n",
    "        t = time.time()\n",
    "        if client.isconnected():\n",
    "            t0 = t\n",
    "            aloop.create_task(client.publish(boardname+'/time', str(time.time())))\n",
    "        elif (t - t0) > 60:\n",
    "            fbuff.fill(0x0000); fbuff.text(str(int((t-t0)/60)), 0, 1, 0xf000); show()\n",
    "            if t - t0 > 60*9:\n",
    "                machine.reset()\n",
    "        await asyncio.sleep_ms(20000)\n",
    "\n",
    "async def callbackcmdtask(topic, msg):\n",
    "    print(\"executing\", [msg])\n",
    "    pinled.value(0)\n",
    "    try:\n",
    "        exec(msg)\n",
    "        await client.publish(boardname+'/reply', \"1\")\n",
    "    except Exception as e:\n",
    "        print(e)\n",
    "        await client.publish(boardname+'/reply/exception', str(e))\n",
    "    pinled.value(1)\n",
    "    return\n",
    "\n",
    "def callbackcmd(topic, msg, retained):\n",
    "    aloop.create_task(callbackcmdtask(topic, msg))\n",
    "    \n",
    "async def onconnecttask(client):\n",
    "    print(\"subscribing\")\n",
    "    fbuff.fill(0x0000); fbuff.text(\"S\", 0, 1, 0xf000); show()\n",
    "    ipnumber = client._sta_if.ifconfig()[0]\n",
    "    print(\"ipnumber\", ipnumber)\n",
    "    await client.publish(boardname+'/ip', ipnumber, retain=True, qos=1)\n",
    "    tboardcmd = boardname+'/cmd'\n",
    "    print(\"subscribing to\", tboardcmd)\n",
    "    await client.subscribe(tboardcmd, 1)\n",
    "    fbuff.fill(0x0000); fbuff.text(\"R\", 0, 1, 0xf000); show()\n",
    "    \n",
    "async def mqtttask(bflip=False):\n",
    "    print(\"mqttttask\", bflip)\n",
    "    if bflip and \"wifialt\" in fconfig:\n",
    "        assid, awifi_pw, aserver = fconfig[\"wifialt\"].split(\",\")\n",
    "        if client._ssid == assid:\n",
    "            assid, awifi_pw, aserver = fconfig[\"wifiname\"], fconfig[\"wifipassword\"], fconfig[\"mqttbroker\"]\n",
    "        client._ssid, client._wifi_pw, client.server = assid, awifi_pw, aserver\n",
    "    fbuff.fill(0x0000); fbuff.text(\"D\" if bflip else \"C\", 0, 1, 0xf000); show()\n",
    "    try:\n",
    "        await client.connect()\n",
    "        return\n",
    "    except OSError as e:\n",
    "        print(\"client connect fail\", [e])\n",
    "    aloop.create_task(mqtttask(True))\n",
    "        \n",
    "        \n",
    "config['subs_cb'] = callbackcmd\n",
    "config['connect_coro'] = onconnecttask\n",
    "config['server'] = fconfig[\"mqttbroker\"]\n",
    "config['ssid'] = fconfig[\"wifiname\"]\n",
    "config['wifi_pw'] = fconfig[\"wifipassword\"]\n",
    "\n",
    "MQTTClient.DEBUG = True\n",
    "client = MQTTClient(config)\n",
    "\n",
    "aloop = asyncio.get_event_loop()\n",
    "aloop.create_task(mqtttask())\n",
    "aloop.create_task(connectionmonitortask())\n",
    "aloop.run_forever()\n"
   ]
  },
  {
   "cell_type": "code",
   "execution_count": 16,
   "metadata": {},
   "outputs": [
    {
     "name": "stdout",
     "output_type": "stream",
     "text": [
      "\u001b[34mConnecting to --port=/dev/ttyUSB6 --baud=115200 \u001b[0m\n",
      "\u001b[34mReady.\n",
      "\u001b[0m"
     ]
    }
   ],
   "source": [
    "%serialconnect"
   ]
  },
  {
   "cell_type": "code",
   "execution_count": null,
   "metadata": {},
   "outputs": [],
   "source": [
    "%rebootdevice"
   ]
  },
  {
   "cell_type": "code",
   "execution_count": null,
   "metadata": {},
   "outputs": [],
   "source": [
    "#      RST          |  GPIO1   TX\n",
    "#       A0          |  GPIO3   RX\n",
    "#       D0  GPIO16  |  GPIO5   D1  SCL\n",
    "# SCK   D5  GPIO14  |  GPIO4   D2  SDA\n",
    "# MISO  D6  GPIO12  |  GPIO0   D3\n",
    "# MOSI  D7  GPIO13  |  GPIO2   D4  LED\n",
    "# SS    D8  GPIO15  |          GND\n",
    "#      3V3          |          5V\n"
   ]
  },
  {
   "cell_type": "code",
   "execution_count": 1,
   "metadata": {},
   "outputs": [
    {
     "name": "stdout",
     "output_type": "stream",
     "text": [
      "\u001b[34mConnecting to --port=/dev/ttyUSB4 --baud=115200 \u001b[0m\n",
      "\u001b[34mReady.\n",
      "\u001b[0m"
     ]
    }
   ],
   "source": [
    "%serialconnect"
   ]
  },
  {
   "cell_type": "code",
   "execution_count": 2,
   "metadata": {},
   "outputs": [
    {
     "name": "stdout",
     "output_type": "stream",
     "text": [
      "Sent 6 lines (146 bytes) to config.txt.\n"
     ]
    }
   ],
   "source": [
    "%sendtofile config.txt\n",
    "\n",
    "wifiname        DoESLiverpool\n",
    "wifipassword    decafbad00\n",
    "mqttbroker      10.0.100.1\n",
    "pinneopixel     15\n",
    "pinled          2\n",
    "boardname       neoring1\n"
   ]
  },
  {
   "cell_type": "code",
   "execution_count": 3,
   "metadata": {},
   "outputs": [
    {
     "name": "stdout",
     "output_type": "stream",
     "text": [
      "Sent 55 lines (1556 bytes) to main.py.\n"
     ]
    }
   ],
   "source": [
    "%sendtofile main.py\n",
    "\n",
    "from mqtt_as import MQTTClient, config\n",
    "import uasyncio as asyncio\n",
    "import os, time, machine\n",
    "\n",
    "fconfig = dict(x.split()  for x in open(\"config.txt\"))\n",
    "pinled = machine.Pin(int(fconfig[\"pinled\"]), machine.Pin.OUT)\n",
    " \n",
    "import neopixel\n",
    "np = neopixel.NeoPixel(machine.Pin(int(fconfig[\"pinneopixel\"])), 24)\n",
    "np.fill((2,1,12))\n",
    "np.write()\n",
    "\n",
    "pinled.value(0)\n",
    "time.sleep(2)\n",
    "pinled.value(1)\n",
    "\n",
    "boardname = fconfig[\"boardname\"]\n",
    "async def callbackcmdtask(topic, msg):\n",
    "    print(\"executing\", [msg])\n",
    "    pinled.value(0)\n",
    "    try:\n",
    "        exec(msg)\n",
    "        await client.publish(boardname+'/reply', \"1\")\n",
    "    except Exception as e:\n",
    "        print(e)\n",
    "        await client.publish(boardname+'/reply/exception', str(e))\n",
    "    pinled.value(1)\n",
    "    return\n",
    "\n",
    "def callbackcmd(topic, msg, retained):\n",
    "    aloop.create_task(callbackcmdtask(topic, msg))\n",
    "\n",
    "async def mainconnect():\n",
    "    print(\"connecting\")\n",
    "    np.fill((5,0,0)); np.write()\n",
    "    await client.connect()\n",
    "    print(\"subscribing\")\n",
    "    np.fill((0,5,0)); np.write()\n",
    "    await client.subscribe(boardname+'/cmd', 1)\n",
    "    await client.publish(boardname+\"/ip\", client._sta_if.ifconfig()[0], retain=True, qos=1)\n",
    "    np.fill((2,1,12)); np.write()\n",
    "    while True:\n",
    "        await client.publish(boardname+'/time', str(time.time()))\n",
    "        await asyncio.sleep_ms(2000)\n",
    "    \n",
    "config['subs_cb'] = callbackcmd\n",
    "config['server'] = fconfig[\"mqttbroker\"]\n",
    "config['ssid'] = fconfig[\"wifiname\"]\n",
    "config['wifi_pw'] = fconfig[\"wifipassword\"]\n",
    "\n",
    "MQTTClient.DEBUG = True\n",
    "client = MQTTClient(config)\n",
    "\n",
    "aloop = asyncio.get_event_loop()\n",
    "aloop.run_until_complete(mainconnect())\n"
   ]
  },
  {
   "cell_type": "code",
   "execution_count": 18,
   "metadata": {},
   "outputs": [
    {
     "name": "stdout",
     "output_type": "stream",
     "text": [
      "serial exception on close write failed: [Errno 5] Input/output error\n",
      "\u001b[34mConnecting to --port=/dev/ttyUSB4 --baud=115200 \u001b[0m\n",
      "\u001b[34mReady.\n",
      "\u001b[0m"
     ]
    }
   ],
   "source": [
    "%serialconnect"
   ]
  },
  {
   "cell_type": "code",
   "execution_count": 6,
   "metadata": {},
   "outputs": [],
   "source": [
    "os.rename(\"main.py\", \"Dmain.py\")"
   ]
  },
  {
   "cell_type": "code",
   "execution_count": 19,
   "metadata": {},
   "outputs": [
    {
     "name": "stdout",
     "output_type": "stream",
     "text": [
      "Sent 17 lines (398 bytes) to main.py.\n"
     ]
    }
   ],
   "source": [
    "%sendtofile main.py\n",
    "\n",
    "from OLED_driver import i2c, fbuff, oledshow, doublepixels, fatntext\n",
    "\n",
    "print(\"fbuff commands\", dir(fbuff))\n",
    "print(\"commands are: oledshow, doublepixels, fatntext\")\n",
    "\n",
    "import time\n",
    "for i in range(10):\n",
    "    fbuff.fill(0)\n",
    "    fbuff.text(\"Hi\", i*2, i, 1)\n",
    "    fbuff.text(\"there\", i*2, i+8, 1)\n",
    "    doublepixels()\n",
    "    oledshow()\n",
    "    time.sleep_ms(100)\n",
    "oledshow()\n",
    "\n",
    "for l in open(\"main.py\"):\n",
    "    print(l, end=\"\")\n"
   ]
  },
  {
   "cell_type": "code",
   "execution_count": null,
   "metadata": {},
   "outputs": [],
   "source": []
  }
 ],
 "metadata": {
  "kernelspec": {
   "display_name": "MicroPython - USB",
   "language": "micropython",
   "name": "micropython"
  },
  "language_info": {
   "codemirror_mode": "python",
   "file_extension": ".py",
   "mimetype": "text/python",
   "name": "micropython"
  }
 },
 "nbformat": 4,
 "nbformat_minor": 2
}

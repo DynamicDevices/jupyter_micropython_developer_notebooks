{
 "cells": [
  {
   "cell_type": "code",
   "execution_count": 87,
   "metadata": {},
   "outputs": [],
   "source": [
    "# http://ediy.com.my/index.php/blog/item/34-connecting-arduino-to-uln2803-line-driver\n",
    "# Using a ULN2803A transistor bus https://www.sparkfun.com/products/312\n",
    "# D1 D2 D3 D4  pins 5 4 0 2\n"
   ]
  },
  {
   "cell_type": "code",
   "execution_count": 6,
   "metadata": {},
   "outputs": [
    {
     "name": "stdout",
     "output_type": "stream",
     "text": [
      "serial exception on close write failed: [Errno 5] Input/output error\n",
      "\u001b[34mConnecting to --port=/dev/ttyUSB3 --baud=115200 \u001b[0m\n",
      "\u001b[34mReady.\n",
      "\u001b[0m"
     ]
    }
   ],
   "source": [
    "%serialconnect"
   ]
  },
  {
   "cell_type": "code",
   "execution_count": 7,
   "metadata": {},
   "outputs": [
    {
     "name": "stdout",
     "output_type": "stream",
     "text": [
      "Sent 9 lines (232 bytes) to config.txt.\n"
     ]
    }
   ],
   "source": [
    "%sendtofile config.txt\n",
    "\n",
    "wifiname        BV6000\n",
    "wifipassword    bubblino\n",
    "mqttbroker      192.168.43.1\n",
    "boardname       wheredial1\n",
    "delayus         1000\n",
    "cycramp         3\n",
    "rampdelayfac    0.5\n",
    "pinled          2\n",
    "wifialt         DoESLiverpool,decafbad00,10.0.100.1"
   ]
  },
  {
   "cell_type": "code",
   "execution_count": 22,
   "metadata": {},
   "outputs": [
    {
     "name": "stdout",
     "output_type": "stream",
     "text": [
      "Sent 116 lines (3588 bytes) to main.py.\n"
     ]
    }
   ],
   "source": [
    "%sendtofile main.py\n",
    "\n",
    "from mqtt_as import MQTTClient, config\n",
    "import uasyncio as asyncio\n",
    "import os, time, machine, math, sys, random\n",
    "\n",
    "fconfig = dict(x.split()  for x in open(\"config.txt\"))\n",
    "pinled = machine.Pin(int(fconfig[\"pinled\"]), machine.Pin.OUT)\n",
    " \n",
    "mpins = [ machine.Pin(p, machine.Pin.OUT)  for p in [5,4,0,2] ]\n",
    "    \n",
    "pinled.value(0)\n",
    "time.sleep(2)\n",
    "pinled.value(1)\n",
    "\n",
    "delayus = int(fconfig[\"delayus\"])\n",
    "cycramp = int(fconfig[\"cycramp\"])\n",
    "rampdelayfac = float(fconfig[\"rampdelayfac\"])\n",
    "toothcurrent = 0  # 512 cycles per 10 teeth\n",
    "\n",
    "seqplus = bytes(range(8))  # this is a cycle of 8\n",
    "seqminus = bytes(range(7,-1,-1))\n",
    "\n",
    "def advancetooth(dtooth):\n",
    "    global toothcurrent\n",
    "    toothnext = toothcurrent + dtooth\n",
    "    cyccurrent = int(math.floor(toothcurrent/10*512))\n",
    "    cycnext = int(math.floor(toothnext/10*512))\n",
    "    print(cycnext - cyccurrent)\n",
    "    seq = (seqplus if cycnext >= cyccurrent else seqminus)\n",
    "    dcyc = abs(cyccurrent - cycnext)\n",
    "    for j in range(dcyc):\n",
    "        ldelayus = int(delayus*(1 + rampdelayfac*(max(0, cycramp-j, j+cycramp+1-dcyc))))\n",
    "        for i in seq:\n",
    "            mpins[(i//2 + (1 if (i%2) == 1 else 3))%4].value(1-(i%2))    \n",
    "            time.sleep_us(ldelayus)\n",
    "    toothcurrent = toothnext\n",
    "    \n",
    "def clearvolts():\n",
    "    for d in mpins:\n",
    "        d.value(0)\n",
    "\n",
    "def wiggle(n):\n",
    "    for i in range(n):\n",
    "        advancetooth(1 if ((i%2)==0) else -1)\n",
    "    clearvolts()\n",
    "\n",
    "wiggle(2)\n",
    "    \n",
    "async def advanceteethtask(dteeth):\n",
    "    for k in range(abs(dteeth)):\n",
    "        advancetooth(1 if dteeth>0 else -1)\n",
    "        await asyncio.sleep_ms(1)\n",
    "    clearvolts()\n",
    "    await client.publish(boardname+\"/toothcurrent\", str(toothcurrent))\n",
    "    \n",
    "def advanceteeth(dteeth):\n",
    "    aloop.create_task(advanceteethtask(dteeth))        \n",
    "    \n",
    "boardname = fconfig[\"boardname\"]\n",
    "async def callbackcmdtask(topic, msg):\n",
    "    print(\"executing\", [msg])\n",
    "    pinled.value(0)\n",
    "    try:\n",
    "        exec(msg)\n",
    "        await client.publish(boardname+'/reply', \"1\")\n",
    "    except Exception as e:\n",
    "        print(e)\n",
    "        await client.publish(boardname+'/reply/exception', str(e))\n",
    "    pinled.value(1)\n",
    "\n",
    "def callbackcmd(topic, msg, retained):\n",
    "    aloop.create_task(callbackcmdtask(topic, msg))\n",
    "\n",
    "async def serialrepltask():\n",
    "    sreader = asyncio.StreamReader(sys.stdin)\n",
    "    while True:\n",
    "        cmd = await sreader.readline()\n",
    "        await callbackcmdtask(\"serial\", cmd)\n",
    "\n",
    "async def onconnecttask(client):\n",
    "    print(\"subscribing\")\n",
    "    await client.publish(boardname+\"/ip\", client._sta_if.ifconfig()[0], retain=True, qos=1)\n",
    "    await client.publish(boardname+\"/toothcurrent/onconnect\", str(toothcurrent))\n",
    "    await client.subscribe(boardname+'/cmd', 1)\n",
    "    wiggle(4)\n",
    "\n",
    "async def mqtttask(bflip=False):\n",
    "    if bflip and \"wifialt\" in fconfig:\n",
    "        assid, awifi_pw, aserver = fconfig[\"wifialt\"].split(\",\")\n",
    "        if client._ssid == assid:\n",
    "            assid, awifi_pw, aserver = fconfig[\"wifiname\"], fconfig[\"wifipassword\"], fconfig[\"mqttbroker\"]\n",
    "        client._ssid, client._wifi_pw, client.server = assid, awifi_pw, aserver\n",
    "    try:\n",
    "        await client.connect()\n",
    "        return\n",
    "    except OSError as e:\n",
    "        print(\"client connect\", [e])\n",
    "    aloop.create_task(mqtttask(True))\n",
    "\n",
    "def randomwiggletask():\n",
    "    while True:\n",
    "        await asyncio.sleep_ms(60000*2)\n",
    "        wiggle(2*random.getrandbits(2))\n",
    "\n",
    "config['subs_cb'] = callbackcmd\n",
    "config['server'] = fconfig[\"mqttbroker\"]\n",
    "config['ssid'] = fconfig[\"wifiname\"]\n",
    "config['wifi_pw'] = fconfig[\"wifipassword\"]\n",
    "config['connect_coro'] = onconnecttask\n",
    "\n",
    "MQTTClient.DEBUG = True\n",
    "client = MQTTClient(config)\n",
    "\n",
    "aloop = asyncio.get_event_loop()\n",
    "aloop.create_task(mqtttask())\n",
    "aloop.create_task(randomwiggletask())\n",
    "aloop.run_forever()\n"
   ]
  },
  {
   "cell_type": "code",
   "execution_count": null,
   "metadata": {},
   "outputs": [],
   "source": []
  }
 ],
 "metadata": {
  "kernelspec": {
   "display_name": "MicroPython - USB",
   "language": "micropython",
   "name": "micropython"
  },
  "language_info": {
   "codemirror_mode": "python",
   "file_extension": ".py",
   "mimetype": "text/python",
   "name": "micropython"
  }
 },
 "nbformat": 4,
 "nbformat_minor": 2
}

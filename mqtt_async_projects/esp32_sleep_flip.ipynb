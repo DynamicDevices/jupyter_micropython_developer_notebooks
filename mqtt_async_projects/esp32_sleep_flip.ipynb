{
 "cells": [
  {
   "cell_type": "code",
   "execution_count": 1,
   "metadata": {},
   "outputs": [
    {
     "name": "stdout",
     "output_type": "stream",
     "text": [
      "\u001b[31mNo serial connected\n",
      "\u001b[0m  %serialconnect to connect\n",
      "  %esptool to flash the device\n",
      "  %lsmagic to list commands"
     ]
    }
   ],
   "source": [
    "# Use low power tech to sleep until a rocker switch \n",
    "# flips and use its setting to send mqtt controls out\n"
   ]
  },
  {
   "cell_type": "code",
   "execution_count": 1,
   "metadata": {},
   "outputs": [
    {
     "name": "stdout",
     "output_type": "stream",
     "text": [
      "\u001b[34mConnecting to --port=/dev/ttyUSB5 --baud=115200 \u001b[0m\n",
      "\u001b[34mReady.\n",
      "\u001b[0m"
     ]
    }
   ],
   "source": [
    "%serialconnect"
   ]
  },
  {
   "cell_type": "code",
   "execution_count": 7,
   "metadata": {},
   "outputs": [
    {
     "name": "stdout",
     "output_type": "stream",
     "text": [
      "wifiname     DoESLiverpool\n",
      "wifipassword decafbad00\n",
      "mqttbroker   10.0.100.1\n",
      "pinyellow    4\n",
      "pingreen     21\n",
      "pinred       18\n",
      "pinrocker    2\n",
      "boardname    esp32flip\n",
      "deepsleepsec 15\n"
     ]
    }
   ],
   "source": [
    "%fetchfile --print config.txt"
   ]
  },
  {
   "cell_type": "code",
   "execution_count": 2,
   "metadata": {},
   "outputs": [
    {
     "name": "stdout",
     "output_type": "stream",
     "text": [
      "Sent 258 lines (8400 bytes) to lib/uasyncio/__init__.py.\n",
      "Sent 315 lines (9509 bytes) to lib/uasyncio/core.py.\n",
      "Sent 94 lines (2691 bytes) to lib/uasyncio/queues.py.\n",
      "Sent 28 lines (846 bytes) to lib/uasyncio/synchro.py.\n",
      "Sent 660 lines (23451 bytes) to mqtt_as.py.\n",
      "Sent 31 lines (960 bytes) to utils.py.\n"
     ]
    }
   ],
   "source": [
    "# This requires you to checkout https://github.com/micropython/micropython-lib and avoids the upip\n",
    "%sendtofile --mkdir --source /home/julian/extrepositories/micropython-lib/uasyncio/uasyncio/__init__.py lib/uasyncio/\n",
    "%sendtofile --quiet --mkdir --source /home/julian/extrepositories/micropython-lib/uasyncio.core/uasyncio/core.py lib/uasyncio/\n",
    "%sendtofile --quiet --mkdir --source /home/julian/extrepositories/micropython-lib/uasyncio.queues/uasyncio/queues.py lib/uasyncio/\n",
    "%sendtofile --quiet --mkdir --source /home/julian/extrepositories/micropython-lib/uasyncio.synchro/uasyncio/synchro.py lib/uasyncio/\n",
    "\n",
    "# This requires you to checkout https://github.com/peterhinch/micropython-mqtt/tree/master/mqtt_as\n",
    "%sendtofile --quiet --source /home/julian/extrepositories/micropython-mqtt/mqtt_as/mqtt_as.py\n",
    "\n",
    "%sendtofile --quiet --source utils.py"
   ]
  },
  {
   "cell_type": "code",
   "execution_count": 3,
   "metadata": {},
   "outputs": [
    {
     "name": "stdout",
     "output_type": "stream",
     "text": [
      "Sent 9 lines (170 bytes) to config.txt.\n"
     ]
    }
   ],
   "source": [
    "%sendtofile config.txt\n",
    "\n",
    "wifiname     BV6000\n",
    "wifipassword bubblino\n",
    "mqttbroker   192.168.43.1\n",
    "pinyellow    4\n",
    "pingreen     21\n",
    "pinred       18\n",
    "pinrocker    2\n",
    "boardname    esp32flip\n",
    "deepsleepsec 600\n"
   ]
  },
  {
   "cell_type": "code",
   "execution_count": 9,
   "metadata": {},
   "outputs": [
    {
     "name": "stdout",
     "output_type": "stream",
     "text": [
      "Sent 9 lines (177 bytes) to config.txt.\n"
     ]
    }
   ],
   "source": [
    "%sendtofile config.txt\n",
    "\n",
    "wifiname     DoESLiverpool\n",
    "wifipassword decafbad00\n",
    "mqttbroker   10.0.100.1\n",
    "pinyellow    4\n",
    "pingreen     21\n",
    "pinred       18\n",
    "pinrocker    2\n",
    "boardname    esp32flip\n",
    "deepsleepsec 600\n"
   ]
  },
  {
   "cell_type": "code",
   "execution_count": 22,
   "metadata": {},
   "outputs": [
    {
     "name": "stdout",
     "output_type": "stream",
     "text": [
      "\u001b[34mConnecting to --port=/dev/ttyUSB5 --baud=115200 \u001b[0m\n",
      "\u001b[34mReady.\n",
      "\u001b[0m"
     ]
    }
   ],
   "source": [
    "%serialconnect"
   ]
  },
  {
   "cell_type": "code",
   "execution_count": 23,
   "metadata": {},
   "outputs": [
    {
     "name": "stdout",
     "output_type": "stream",
     "text": [
      "Sent 127 lines (4243 bytes) to main.py.\n"
     ]
    }
   ],
   "source": [
    "\n",
    "%sendtofile main.py\n",
    "\n",
    "import machine, time, esp32\n",
    "rtc = machine.RTC()\n",
    "def ftime():\n",
    "    d = rtc.datetime()\n",
    "    return time.mktime((d[0], d[1], d[2], d[4], d[5], d[6], 0, 0)) + (d[7]//1000)/1000\n",
    "\n",
    "timestartup = ftime()\n",
    "timeconnected = 0\n",
    "\n",
    "resetcause = [\"0\", \"PWRON\", \"HARD\", \"WDT\", \"DEEPSLEEP\", \"SOFT\"][machine.reset_cause()]+\"_RESET\"\n",
    "wakereason = [\"0\", \"1\", \"EXT0\", \"EXT1\", \"TIMER\", \"TOUCHPAD\", \"ULP\"][machine.wake_reason()]+\"_WAKE\"\n",
    "\n",
    "print(\"Startup secs=%.3f: %s, %s\" % (timestartup, resetcause, wakereason))\n",
    "rtcmemory = rtc.memory()\n",
    "print(\"rtcmemory:\", rtcmemory, time.ticks_ms())\n",
    "\n",
    "from machine import Pin, PWM\n",
    "fconfig = dict(x.split()  for x in open(\"config.txt\"))\n",
    "\n",
    "pinyellow = Pin(int(fconfig[\"pinyellow\"]), Pin.OUT)\n",
    "pingreen = PWM(Pin(int(fconfig[\"pingreen\"])), duty=0)\n",
    "pinred = PWM(Pin(int(fconfig[\"pinred\"])), duty=0)\n",
    "pinrocker = Pin(int(fconfig[\"pinrocker\"]), Pin.IN, Pin.PULL_DOWN)\n",
    "\n",
    "if not rtcmemory:\n",
    "    for i in range(1, 5):\n",
    "        pinyellow.value(i%2)\n",
    "        time.sleep_ms(50)\n",
    "\n",
    "rockerpwmfreq = const(60)\n",
    "rockerflashfreq = const(4)\n",
    "rockerfduration_toflash = const(4000)\n",
    "rockerfduration_tosleep = const(5000)\n",
    "connectbylimit = const(10000)\n",
    "\n",
    "rockervalueprev = 0  # if left as -1 then no change has happened\n",
    "rockervalue = -1\n",
    "rockertime = 0\n",
    "rockerfduration = 0\n",
    "\n",
    "import uasyncio as asyncio\n",
    "\n",
    "async def ledrockertask():\n",
    "    global rockervalue, rockervalueprev, rockertime, rockerfduration\n",
    "    while True:\n",
    "        rockervalueprev, rockervalue = rockervalue, pinrocker.value()\n",
    "        if rockervalue != rockervalueprev:\n",
    "            pingreen.freq(rockerpwmfreq)\n",
    "            rockertime = time.ticks_ms()\n",
    "            rockerfduration = 0\n",
    "            if rockervalueprev == -1 and machine.wake_reason() == machine.TIMER_WAKE:\n",
    "                rockerfduration = rockerfduration_toflash\n",
    "            if rockervalue == 1:\n",
    "                pingreen.duty(20)\n",
    "                pinred.duty(0)\n",
    "            else:\n",
    "                pinred.duty(20)\n",
    "                pingreen.duty(0)\n",
    "        else:\n",
    "            rockerfduration = time.ticks_ms() - rockertime\n",
    "            if rockerfduration > rockerfduration_toflash and pingreen.freq() != rockerflashfreq:\n",
    "                pingreen.freq(rockerflashfreq)\n",
    "        await asyncio.sleep_ms(100)\n",
    "\n",
    "async def resleeptask():\n",
    "    pinyellow.value(1)\n",
    "    await asyncio.sleep_ms(50)\n",
    "    pinyellow.value(0)\n",
    "    t0 = time.ticks_ms()\n",
    "    while True:\n",
    "        if rockerfduration >= rockerfduration_tosleep:\n",
    "            pinyellow.value(1)\n",
    "            dt = time.ticks_ms() - t0\n",
    "            if client.isconnected() or dt > connectbylimit:\n",
    "                break\n",
    "            await asyncio.sleep_ms(50)\n",
    "            pinyellow.value(0)\n",
    "        await asyncio.sleep_ms(300)\n",
    "        \n",
    "    msg = \"%d %s %.3f\" % (rockervalue, rtcmemory.decode(), timestartup)\n",
    "    if client.isconnected():\n",
    "        await client.publish(boardname+b\"/direction\", msg)\n",
    "    esp32.wake_on_ext0(pinrocker, (esp32.WAKEUP_ANY_HIGH if rockervalue == 0 else esp32.WAKEUP_ALL_LOW))\n",
    "    timeatsleep = ftime()\n",
    "    print(\"time at sleep:\", timeatsleep)\n",
    "    rtc.memory(\"%d %.3f %.3f %.3f %s %s\" % (rockervalue, timestartup, timeconnected, timeatsleep, resetcause, wakereason))\n",
    "    client._sta_if.active(False)   # bug number ...\n",
    "    machine.deepsleep(int(fconfig[\"deepsleepsec\"])*1000)\n",
    "        \n",
    "\n",
    "from mqtt_as import config, MQTTClient\n",
    "config['server'] = fconfig[\"mqttbroker\"]\n",
    "config['ssid'] = fconfig[\"wifiname\"]\n",
    "config['wifi_pw'] = fconfig[\"wifipassword\"]\n",
    "config['mqttchannel'] = fconfig[\"boardname\"]\n",
    "\n",
    "if not rtcmemory:\n",
    "    for i in range(1, 5):\n",
    "        pinred.duty((i%2)*20)\n",
    "        time.sleep_ms(50)\n",
    "client = MQTTClient(config)   # this is causing the brownout\n",
    "boardname = fconfig[\"boardname\"].encode()\n",
    "if not rtcmemory:\n",
    "    for i in range(1, 5):\n",
    "        pinred.duty((i%2)*20)\n",
    "        time.sleep_ms(50)\n",
    "\n",
    "async def mqtttask():\n",
    "    global timeconnected\n",
    "    try:\n",
    "        await client.connect()\n",
    "        timeconnected = ftime()\n",
    "        print(\"time to connect:\", timeconnected - timestartup)\n",
    "    except OSError as e:\n",
    "        print(\"client connect error\", [e])\n",
    "\n",
    "aloop = asyncio.get_event_loop()\n",
    "aloop.create_task(ledrockertask())\n",
    "aloop.create_task(resleeptask())\n",
    "aloop.create_task(mqtttask())\n",
    "\n",
    "if not rtcmemory:\n",
    "    for i in range(1, 5):\n",
    "        pinred.duty((i%2)*20)\n",
    "        time.sleep_ms(50)\n",
    "\n",
    "aloop.run_forever()\n"
   ]
  },
  {
   "cell_type": "code",
   "execution_count": 5,
   "metadata": {},
   "outputs": [
    {
     "name": "stdout",
     "output_type": "stream",
     "text": [
      "serial exception on close write failed: [Errno 5] Input/output error\n",
      "\u001b[34mConnecting to --port=/dev/ttyUSB6 --baud=115200 \u001b[0m\n",
      "\u001b[34mReady.\n",
      "\u001b[0m"
     ]
    }
   ],
   "source": [
    "%serialconnect"
   ]
  },
  {
   "cell_type": "code",
   "execution_count": 7,
   "metadata": {},
   "outputs": [
    {
     "name": "stdout",
     "output_type": "stream",
     "text": [
      "{'_sta_if': <WLAN>, '_has_connected': False, '_ssl': False, '_keepalive': 60, '_clean_init': True, '_ssl_params': {}, '_connect_handler': <generator>, 'lock': <Lock object at 3ffc5c30>, '_wifi_handler': <generator>, '_ping_interval': 15000, '_sock': None, '_lw_topic': False, 'newpid': <generator object 'pid_gen' at 3ffc5c90>, '_clean': True, 'last_rx': 70230, '_cb': <function <lambda> at 0x3ffc4150>, 'server': '192.168.43.1', '_in_connect': False, 'port': 1883, '_response_time': 10000, '_isconnected': False, 'rcv_pids': set(), '_pswd': '', '_ssid': 'BV6000', '_wifi_pw': 'bubblino', '_client_id': b'240ac400412e', '_max_repubs': 4, '_user': ''}\n"
     ]
    }
   ],
   "source": [
    "print(client.__dict__)"
   ]
  },
  {
   "cell_type": "code",
   "execution_count": 10,
   "metadata": {},
   "outputs": [
    {
     "name": "stdout",
     "output_type": "stream",
     "text": [
      "['__class__', 'active', 'config', 'connect', 'disconnect', 'ifconfig', 'isconnected', 'scan', 'status']\r\n"
     ]
    }
   ],
   "source": [
    "print(dir(client._sta_if))"
   ]
  },
  {
   "cell_type": "code",
   "execution_count": 9,
   "metadata": {},
   "outputs": [
    {
     "name": "stdout",
     "output_type": "stream",
     "text": [
      "......\u001b[34m\n",
      "\n",
      "*** Sending Ctrl-C\n",
      "\n",
      "\u001b[0m"
     ]
    },
    {
     "name": "stderr",
     "output_type": "stream",
     "text": [
      "Traceback (most recent call last):\n",
      "  File \"<stdin>\", line 7, in <module>\n",
      "  File \"/lib/uasyncio/core.py\", line 173, in run_forever\n",
      "  File \"/lib/uasyncio/__init__.py\", line 69, in wait\n",
      "KeyboardInterrupt: \n"
     ]
    }
   ],
   "source": [
    "async def hi(t):\n",
    "    await asyncio.sleep(t)\n",
    "    print(\"go error\", t)\n",
    "    raise OSError()\n",
    "    \n",
    "aloop = asyncio.get_event_loop()\n",
    "aloop.create_task(hi(2))\n",
    "aloop.create_task(hi(3))\n",
    "aloop.run_forever()\n"
   ]
  },
  {
   "cell_type": "code",
   "execution_count": 3,
   "metadata": {},
   "outputs": [],
   "source": [
    "# Below is code to test whether the timeouts work"
   ]
  },
  {
   "cell_type": "code",
   "execution_count": 37,
   "metadata": {},
   "outputs": [
    {
     "name": "stdout",
     "output_type": "stream",
     "text": [
      "Sent 23 lines (624 bytes) to main.py.\n"
     ]
    }
   ],
   "source": [
    "%sendtofile main.py\n",
    "\n",
    "import uasyncio as asyncio\n",
    "fconfig = dict(x.split()  for x in open(\"config.txt\"))\n",
    "\n",
    "from mqtt_as import config, MQTTClient\n",
    "import mqtt_as\n",
    "mqtt_as.LOBO = True\n",
    "\n",
    "config['server'] = fconfig[\"mqttbroker\"]\n",
    "config['ssid'] = fconfig[\"wifiname\"]\n",
    "config['wifi_pw'] = fconfig[\"wifipassword\"]\n",
    "config['mqttchannel'] = fconfig[\"boardname\"]\n",
    "client = MQTTClient(config)\n",
    "boardname = fconfig[\"boardname\"].encode()\n",
    "\n",
    "async def mqtttask():\n",
    "    print(\"enter connect\")\n",
    "    try:\n",
    "        await client.connect()\n",
    "    except OSError as e:\n",
    "        print(\"client connect error\", [e])\n",
    "\n",
    "aloop = asyncio.get_event_loop()\n",
    "aloop.run_until_complete(mqtttask())\n"
   ]
  },
  {
   "cell_type": "code",
   "execution_count": 20,
   "metadata": {},
   "outputs": [
    {
     "name": "stdout",
     "output_type": "stream",
     "text": [
      "\u001b[34mConnecting to --port=/dev/ttyUSB5 --baud=115200 \u001b[0m\n",
      "\u001b[34mReady.\n",
      "\u001b[0m"
     ]
    }
   ],
   "source": [
    "%serialconnect"
   ]
  },
  {
   "cell_type": "code",
   "execution_count": 17,
   "metadata": {},
   "outputs": [
    {
     "name": "stdout",
     "output_type": "stream",
     "text": [
      "\n",
      "Brownout detector was triggered\n",
      "\n",
      "ets Jun  8 2016 00:22:57\n",
      "\n",
      "rst:0xc (SW_CPU_RESET),boot:0x13 (SPI_FAST_FLASH_BOOT)\n",
      "configsip: 0, SPIWP:0xee\n",
      "clk_drv:0x00,q_drv:0x00,d_drv:0x00,cs0_drv:0x00,hd_drv:0x00,wp_drv:0x00\n",
      "mode:DIO, clock div:2\n",
      "load:0x3fff0018,len:4\n",
      "load:0x3fff001c,len:4928\n",
      "ho 0 tail 12 room 4\n",
      "load:0x40078000,len:9656\n",
      "ho 0 tail 12 room 4\n",
      "load:0x40080400,len:6252\n",
      "entry 0x400806f4\n",
      "memory: b''\n",
      "0142535625139749352236144856896779769164275836317692621118686877675178774936725778853658346511277798\n",
      "0142535625139749352236144856896779769164275836317692621118686877675178774936725778853658346511277798\n",
      "0142535625139749352236144856896779769164275836317692621118686877675178774936725778853658346511277798\n",
      "0142535625139749352236144856896779769164275836317692621118686877675178774936725778853658346511277798\n",
      "0142535625139749352236144856896779769164275836317692621118686877675178774936725778853658346511277798\n",
      "ets Jun  8 2016 00:22:57\n",
      "\n",
      "rst:0x5 (DEEPSLEEP_RESET),boot:0x13 (SPI_FAST_FLASH_BOOT)\n",
      "configsip: 0, SPIWP:0xee\n",
      "clk_drv:0x00,q_drv:0x00,d_drv:0x00,cs0_drv:0x00,hd_drv:0x00,wp_drv:0x00\n",
      "mode:DIO, clock div:2\n",
      "load:0x3fff0018,len:4\n",
      "load:0x3fff001c,len:4928\n",
      "ho 0 tail 12 room 4\n",
      "load:0x40078000,len:9656\n",
      "ho 0 tail 12 room 4\n",
      "load:0x40080400,len:6252\n",
      "entry 0x400806f4\n",
      "memory: b'hi therehi therehi therehi therehi therehi therehi therehi there'\n",
      ".0142535625139749352236144856896779769164275836317692621118686877675178774936725778853658346511277798\n",
      "0142535625139749352236144856896779769164275836317692621118686877675178774936725778853658346511277798\n",
      "0142535625139749352236144856896779769164275836317692621118686877675178774936725778853658346511277798\n",
      "0142535625139749352236144856896779769164275836317692621118686877675178774936725778853658346511277798\n",
      "0142535625139749352236144856896779769164275836317692621118686877675178774936725778853658346511277798\n",
      "ets Jun  8 2016 00:22:57\n",
      "\n",
      "rst:0x5 (DEEPSLEEP_RESET),boot:0x13 (SPI_FAST_FLASH_BOOT)\n",
      "configsip: 0, SPIWP:0xee\n",
      "clk_drv:0x00,q_drv:0x00,d_drv:0x00,cs0_drv:0x00,hd_drv:0x00,wp_drv:0x00\n",
      "mode:DIO, clock div:2\n",
      "load:0x3fff0018,len:4\n",
      "load:0x3fff001c,len:4928\n",
      "ho 0 tail 12 room 4\n",
      "load:0x40078000,len:9656\n",
      "ho 0 tail 12 room 4\n",
      "load:0x40080400,len:6252\n",
      "entry 0x400806f4\n",
      "memory: b''\n",
      "0142535625139749352236144856896779769164275836317692621118686877675178774936725778853658346511277798\n",
      "0142535625139749352236144856896779769164275836317692621118686877675178774936725778853658346511277798\n",
      "0142535625139749352236144856896779769164275836317692621118686877675178774936725778853658346511277798\n",
      ".0142535625139749352236144856896779769164275836317692621118686877675178774936725778853658346511277798\n",
      "0142535625139749352236144856896779769164275836317692621118686877675178774936725778853658346511277798\n",
      "ets Jun  8 2016 00:22:57\n",
      "\n",
      "rst:0x5 (DEEPSLEEP_RESET),boot:0x13 (SPI_FAST_FLASH_BOOT)\n",
      "configsip: 0, SPIWP:0xee\n",
      "clk_drv:0x00,q_drv:0x00,d_drv:0x00,cs0_drv:0x00,hd_drv:0x00,wp_drv:0x00\n",
      "mode:DIO, clock div:2\n",
      "load:0x3fff0018,len:4\n",
      "load:0x3fff001c,len:4928\n",
      "ho 0 tail 12 room 4\n",
      "load:0x40078000,len:9656\n",
      "ho 0 tail 12 room 4\n",
      "load:0x40080400,len:6252\n",
      "entry 0x400806f4\n",
      "\u001b[34m\n",
      "\n",
      "*** Sending Ctrl-C\n",
      "\n",
      "\u001b[0mmemory: b'hi therehi therehi therehi therehi therehi therehi therehi there'\n",
      "0142535625139749352236144856896779769164275836317692621118686877675178774936725778853658346511277798\n",
      "0142535625139749352236144856896779769164275836317692621118686877675178774936725778853658346511277798\n",
      "0142535625139749352236144856896779769164275836317692621118686877675178774936725778853658346511277798\n",
      "0142535625139749352236144856896779769164275836317692621118686877675178774936725778853658346511277798\n",
      "0142535625139749352236144856896779769164275836317692621118686877675178774936725778853658346511277798\n",
      "ets Jun  8 2016 00:22:57\n",
      "\n",
      "rst:0x5 (DEEPSLEEP_RESET),boot:0x13 (SPI_FAST_FLASH_BOOT)\n",
      "configsip: 0, SPIWP:0xee\n",
      "clk_drv:0x00,q_drv:0x00,d_drv:0x00,cs0_drv:0x00,hd_drv:0x00,wp_drv:0x00\n",
      "mode:DIO, clock div:2\n",
      "load:0x3fff0018,len:4\n",
      "load:0x3fff001c,len:4928\n",
      "ho 0 tail 12 room 4\n",
      "load:0x40078000,len:9656\n",
      "ho 0 tail 12 room 4\n",
      "load:0x40080400,len:6252\n",
      "entry 0x400806f4\n",
      "memory: b''\n",
      "\u001b[31m[Timed out waiting for recognizable response]\n",
      "\u001b[0m"
     ]
    }
   ],
   "source": [
    "import network\n",
    "w = network.WLAN()\n",
    "w.active(1)\n",
    "w.scan()\n"
   ]
  },
  {
   "cell_type": "code",
   "execution_count": 21,
   "metadata": {},
   "outputs": [
    {
     "name": "stdout",
     "output_type": "stream",
     "text": [
      "Sent 27 lines (566 bytes) to main.py.\n"
     ]
    }
   ],
   "source": [
    "%sendtofile main.py\n",
    "\n",
    "import machine, time, math\n",
    "r = machine.RTC()\n",
    "print(\"memory:\", r.memory())\n",
    "if r.memory():\n",
    "    r.memory(\"\")\n",
    "else:\n",
    "    r.memory(\"hi there\"*8)\n",
    "    \n",
    "time.sleep_ms(1000)\n",
    "\n",
    "import network\n",
    "w = network.WLAN()\n",
    "w.active(1)\n",
    "w.scan()\n",
    "\n",
    "for i in range(5):\n",
    "    time.sleep_ms(500)\n",
    "    print(\"\".join(str(math.sin(j))[-1]  for j in range(100)))\n",
    "    \n",
    "pinrocker = machine.Pin(2, machine.Pin.IN, machine.Pin.PULL_DOWN)\n",
    "rockervalue = 0\n",
    "import esp32\n",
    "#esp32.wake_on_ext0(pinrocker, (esp32.WAKEUP_ANY_HIGH if rockervalue == 0 else esp32.WAKEUP_ALL_LOW))\n",
    "\n",
    "#w.active(0)\n",
    "machine.deepsleep(3000)\n",
    "\n"
   ]
  },
  {
   "cell_type": "code",
   "execution_count": 6,
   "metadata": {},
   "outputs": [
    {
     "name": "stdout",
     "output_type": "stream",
     "text": [
      "\u001b[34mattempt to exit paste mode\n",
      "\u001b[0m\u001b[34m[\\r\\x03\\x02] \u001b[0mb'\\r\\nMicroPython v1.11-406-g4a6974bea on 2019-10-06; ESP32 module with ESP32\\r\\nType \"help()\" for more information.\\r\\n>>> '\u001b[34m\n",
      "Closing serial Serial<id=0x7f8ad8ded208, open=True>(port='/dev/ttyUSB0', baudrate=115200, bytesize=8, parity='N', stopbits=1, timeout=0.5, xonxoff=False, rtscts=False, dsrdtr=False)\n",
      "\u001b[0m"
     ]
    }
   ],
   "source": [
    "%disconnect"
   ]
  },
  {
   "cell_type": "code",
   "execution_count": null,
   "metadata": {},
   "outputs": [],
   "source": [
    "import machine, network, esp32\n",
    "w = network.WLAN()\n",
    "w.active(1)\n",
    "w.scan()\n",
    "p = machine.Pin(2, machine.Pin.IN, machine.Pin.PULL_DOWN)\n",
    "esp32.wake_on_ext0(p, esp32.WAKEUP_ANY_HIGH)\n",
    "\n",
    "#w.active(0)\n",
    "machine.deepsleep(3000)\n",
    "\n",
    "\n",
    "#0.006mA  \n",
    "#1.4mA\n",
    "\n"
   ]
  }
 ],
 "metadata": {
  "kernelspec": {
   "display_name": "MicroPython - USB",
   "language": "micropython",
   "name": "micropython"
  },
  "language_info": {
   "codemirror_mode": "python",
   "file_extension": ".py",
   "mimetype": "text/python",
   "name": "micropython"
  }
 },
 "nbformat": 4,
 "nbformat_minor": 2
}

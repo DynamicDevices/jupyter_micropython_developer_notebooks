{
 "cells": [
  {
   "cell_type": "code",
   "execution_count": 1,
   "metadata": {},
   "outputs": [
    {
     "name": "stdout",
     "output_type": "stream",
     "text": [
      "\u001b[31mNo serial connected\n",
      "\u001b[0m  %serialconnect to connect\n",
      "  %esptool to flash the device\n",
      "  %lsmagic to list commands"
     ]
    }
   ],
   "source": [
    "# Use low power tech to sleep until a rocker switch \n",
    "# flips and use its setting to send mqtt controls out\n"
   ]
  },
  {
   "cell_type": "code",
   "execution_count": 8,
   "metadata": {},
   "outputs": [
    {
     "name": "stdout",
     "output_type": "stream",
     "text": [
      "\u001b[34mConnecting to --port=/dev/ttyUSB2 --baud=115200 \u001b[0m\n",
      "\u001b[34mReady.\n",
      "\u001b[0m"
     ]
    }
   ],
   "source": [
    "%serialconnect"
   ]
  },
  {
   "cell_type": "code",
   "execution_count": 145,
   "metadata": {},
   "outputs": [
    {
     "name": "stdout",
     "output_type": "stream",
     "text": [
      "Sent 258 lines (8400 bytes) to lib/uasyncio/__init__.py.\n",
      "Sent 315 lines (9509 bytes) to lib/uasyncio/core.py.\n",
      "Sent 94 lines (2691 bytes) to lib/uasyncio/queues.py.\n",
      "Sent 28 lines (846 bytes) to lib/uasyncio/synchro.py.\n",
      "Sent 626 lines (22505 bytes) to mqtt_as.py.\n"
     ]
    }
   ],
   "source": [
    "# This requires you to checkout https://github.com/micropython/micropython-lib and avoids the upip\n",
    "%sendtofile --mkdir --source /home/julian/extrepositories/micropython-lib/uasyncio/uasyncio/__init__.py lib/uasyncio/\n",
    "%sendtofile --quiet --mkdir --source /home/julian/extrepositories/micropython-lib/uasyncio.core/uasyncio/core.py lib/uasyncio/\n",
    "%sendtofile --quiet --mkdir --source /home/julian/extrepositories/micropython-lib/uasyncio.queues/uasyncio/queues.py lib/uasyncio/\n",
    "%sendtofile --quiet --mkdir --source /home/julian/extrepositories/micropython-lib/uasyncio.synchro/uasyncio/synchro.py lib/uasyncio/\n",
    "\n",
    "# This requires you to checkout https://github.com/peterhinch/micropython-mqtt/tree/master/mqtt_as\n",
    "%sendtofile --quiet --source /home/julian/extrepositories/micropython-mqtt/mqtt_as/mqtt_as.py\n"
   ]
  },
  {
   "cell_type": "code",
   "execution_count": 22,
   "metadata": {},
   "outputs": [
    {
     "name": "stdout",
     "output_type": "stream",
     "text": [
      "Sent 9 lines (176 bytes) to config.txt.\n"
     ]
    }
   ],
   "source": [
    "%sendtofile config.txt\n",
    "\n",
    "wifiname     DoESLiverpool\n",
    "wifipassword decafbad00\n",
    "mqttbroker   10.0.100.1\n",
    "pinyellow    4\n",
    "pingreen     21\n",
    "pinred       18\n",
    "pinrocker    2\n",
    "boardname    esp32flip\n",
    "deepsleepsec 15\n"
   ]
  },
  {
   "cell_type": "code",
   "execution_count": 25,
   "metadata": {},
   "outputs": [
    {
     "name": "stdout",
     "output_type": "stream",
     "text": [
      "Sent 9 lines (170 bytes) to config.txt.\n"
     ]
    }
   ],
   "source": [
    "%sendtofile config.txt\n",
    "\n",
    "wifiname     BV6000\n",
    "wifipassword bubblino\n",
    "mqttbroker   192.168.43.1\n",
    "pinyellow    4\n",
    "pingreen     21\n",
    "pinred       18\n",
    "pinrocker    2\n",
    "boardname    esp32flip\n",
    "deepsleepsec 600\n"
   ]
  },
  {
   "cell_type": "code",
   "execution_count": 10,
   "metadata": {},
   "outputs": [
    {
     "name": "stdout",
     "output_type": "stream",
     "text": [
      "\u001b[34mConnecting to --port=/dev/ttyUSB0 --baud=115200 \u001b[0m\n",
      "\u001b[34mReady.\n",
      "\u001b[0m"
     ]
    }
   ],
   "source": [
    "%serialconnect"
   ]
  },
  {
   "cell_type": "code",
   "execution_count": 11,
   "metadata": {},
   "outputs": [
    {
     "name": "stdout",
     "output_type": "stream",
     "text": [
      "Sent 105 lines (3740 bytes) to main.py.\n"
     ]
    }
   ],
   "source": [
    "%sendtofile main.py\n",
    "\n",
    "import machine, time, esp32\n",
    "rtc = machine.RTC()\n",
    "def ftime():\n",
    "    d = rtc.datetime()\n",
    "    return time.mktime((d[0], d[1], d[2], d[4], d[5], d[6], 0, 0)) + (d[7]//1000)/1000\n",
    "\n",
    "timestartup = ftime()\n",
    "timeconnected = 0\n",
    "\n",
    "resetcause = [\"0\", \"PWRON\", \"HARD\", \"WDT\", \"DEEPSLEEP\", \"SOFT\"][machine.reset_cause()]+\"_RESET\"\n",
    "wakereason = [\"0\", \"1\", \"EXT0\", \"EXT1\", \"TIMER\", \"TOUCHPAD\", \"ULP\"][machine.wake_reason()]+\"_WAKE\"\n",
    "\n",
    "print(\"Startup secs=%.3f: %s, %s\" % (timestartup, resetcause, wakereason))\n",
    "rtcmemory = rtc.memory()\n",
    "print(\"rtcmemory:\", rtcmemory, time.ticks_ms())\n",
    "\n",
    "import uasyncio as asyncio\n",
    "from machine import Pin, PWM\n",
    "fconfig = dict(x.split()  for x in open(\"config.txt\"))\n",
    "\n",
    "pinyellow = Pin(int(fconfig[\"pinyellow\"]), Pin.OUT)\n",
    "pingreen = PWM(Pin(int(fconfig[\"pingreen\"])), duty=0)\n",
    "pinred = PWM(Pin(int(fconfig[\"pinred\"])), duty=0)\n",
    "pinrocker = Pin(int(fconfig[\"pinrocker\"]), Pin.IN, Pin.PULL_DOWN)\n",
    "\n",
    "rockerpwmfreq = const(60)\n",
    "rockerflashfreq = const(4)\n",
    "rockerfduration_toflash = const(4000)\n",
    "rockerfduration_tosleep = const(5000)\n",
    "connectbylimit = const(10000)\n",
    "\n",
    "rockervalueprev = 0  # if left as -1 then no change has happened\n",
    "rockervalue = -1\n",
    "rockertime = 0\n",
    "rockerfduration = 0\n",
    "\n",
    "async def ledrockertask():\n",
    "    global rockervalue, rockervalueprev, rockertime, rockerfduration\n",
    "    while True:\n",
    "        rockervalueprev, rockervalue = rockervalue, pinrocker.value()\n",
    "        if rockervalue != rockervalueprev:\n",
    "            pingreen.freq(rockerpwmfreq)\n",
    "            rockertime = time.ticks_ms()\n",
    "            rockerfduration = 0\n",
    "            if rockervalueprev == -1 and machine.wake_reason() == machine.TIMER_WAKE:\n",
    "                rockerfduration = rockerfduration_toflash\n",
    "            if rockervalue == 1:\n",
    "                pingreen.duty(20)\n",
    "                pinred.duty(0)\n",
    "            else:\n",
    "                pinred.duty(20)\n",
    "                pingreen.duty(0)\n",
    "        else:\n",
    "            rockerfduration = time.ticks_ms() - rockertime\n",
    "            if rockerfduration > rockerfduration_toflash and pingreen.freq() != rockerflashfreq:\n",
    "                pingreen.freq(rockerflashfreq)\n",
    "        await asyncio.sleep_ms(100)\n",
    "\n",
    "async def resleeptask():\n",
    "    pinyellow.value(1)\n",
    "    await asyncio.sleep_ms(50)\n",
    "    pinyellow.value(0)\n",
    "    t0 = time.ticks_ms()\n",
    "    while True:\n",
    "        if rockerfduration >= rockerfduration_tosleep:\n",
    "            pinyellow.value(1)\n",
    "            dt = time.ticks_ms() - t0\n",
    "            if client.isconnected() or dt > connectbylimit:\n",
    "                break\n",
    "            await asyncio.sleep_ms(50)\n",
    "            pinyellow.value(0)\n",
    "        await asyncio.sleep_ms(300)\n",
    "        \n",
    "    msg = \"%d %s %.3f\" % (rockervalue, rtcmemory.decode(), timestartup)\n",
    "    if client.isconnected():\n",
    "        await client.publish(boardname+b\"/direction\", msg)\n",
    "    esp32.wake_on_ext0(pinrocker, (esp32.WAKEUP_ANY_HIGH if rockervalue == 0 else esp32.WAKEUP_ALL_LOW))\n",
    "    timeatsleep = ftime()\n",
    "    print(\"time at sleep:\", timeatsleep)\n",
    "    rtc.memory(\"%d %.3f %.3f %.3f %s %s\" % (rockervalue, timestartup, timeconnected, timeatsleep, resetcause, wakereason))\n",
    "    machine.deepsleep(int(fconfig[\"deepsleepsec\"])*1000)\n",
    "        \n",
    "\n",
    "from mqtt_as import config, MQTTClient\n",
    "config['server'] = fconfig[\"mqttbroker\"]\n",
    "config['ssid'] = fconfig[\"wifiname\"]\n",
    "config['wifi_pw'] = fconfig[\"wifipassword\"]\n",
    "config['mqttchannel'] = fconfig[\"boardname\"]\n",
    "client = MQTTClient(config)\n",
    "boardname = fconfig[\"boardname\"].encode()\n",
    "\n",
    "async def mqtttask():\n",
    "    global timeconnected\n",
    "    try:\n",
    "        await client.connect()\n",
    "        timeconnected = ftime()\n",
    "        print(\"time at connect:\", timeconnected)\n",
    "    except OSError as e:\n",
    "        print(\"client connect error\", [e])\n",
    "\n",
    "aloop = asyncio.get_event_loop()\n",
    "aloop.create_task(ledrockertask())\n",
    "aloop.create_task(resleeptask())\n",
    "aloop.create_task(mqtttask())\n",
    "aloop.run_forever()\n"
   ]
  },
  {
   "cell_type": "code",
   "execution_count": 7,
   "metadata": {},
   "outputs": [
    {
     "name": "stdout",
     "output_type": "stream",
     "text": [
      "\u001b[34mConnecting to --port=/dev/ttyUSB0 --baud=115200 \u001b[0m\n",
      "\u001b[34mReady.\n",
      "\u001b[0m"
     ]
    }
   ],
   "source": [
    "%serialconnect"
   ]
  },
  {
   "cell_type": "code",
   "execution_count": 9,
   "metadata": {},
   "outputs": [
    {
     "name": "stdout",
     "output_type": "stream",
     "text": [
      "......\u001b[34m\n",
      "\n",
      "*** Sending Ctrl-C\n",
      "\n",
      "\u001b[0m"
     ]
    },
    {
     "name": "stderr",
     "output_type": "stream",
     "text": [
      "Traceback (most recent call last):\n",
      "  File \"<stdin>\", line 7, in <module>\n",
      "  File \"/lib/uasyncio/core.py\", line 173, in run_forever\n",
      "  File \"/lib/uasyncio/__init__.py\", line 69, in wait\n",
      "KeyboardInterrupt: \n"
     ]
    }
   ],
   "source": [
    "async def hi(t):\n",
    "    await asyncio.sleep(t)\n",
    "    print(\"go error\", t)\n",
    "    raise OSError()\n",
    "    \n",
    "aloop = asyncio.get_event_loop()\n",
    "aloop.create_task(hi(2))\n",
    "aloop.create_task(hi(3))\n",
    "aloop.run_forever()\n"
   ]
  },
  {
   "cell_type": "code",
   "execution_count": 3,
   "metadata": {},
   "outputs": [],
   "source": [
    "# Below is code to test whether the timeouts work"
   ]
  },
  {
   "cell_type": "code",
   "execution_count": 37,
   "metadata": {},
   "outputs": [
    {
     "name": "stdout",
     "output_type": "stream",
     "text": [
      "Sent 23 lines (624 bytes) to main.py.\n"
     ]
    }
   ],
   "source": [
    "%sendtofile main.py\n",
    "\n",
    "import uasyncio as asyncio\n",
    "fconfig = dict(x.split()  for x in open(\"config.txt\"))\n",
    "\n",
    "from mqtt_as import config, MQTTClient\n",
    "import mqtt_as\n",
    "mqtt_as.LOBO = True\n",
    "\n",
    "config['server'] = fconfig[\"mqttbroker\"]\n",
    "config['ssid'] = fconfig[\"wifiname\"]\n",
    "config['wifi_pw'] = fconfig[\"wifipassword\"]\n",
    "config['mqttchannel'] = fconfig[\"boardname\"]\n",
    "client = MQTTClient(config)\n",
    "boardname = fconfig[\"boardname\"].encode()\n",
    "\n",
    "async def mqtttask():\n",
    "    print(\"enter connect\")\n",
    "    try:\n",
    "        await client.connect()\n",
    "    except OSError as e:\n",
    "        print(\"client connect error\", [e])\n",
    "\n",
    "aloop = asyncio.get_event_loop()\n",
    "aloop.run_until_complete(mqtttask())\n"
   ]
  },
  {
   "cell_type": "code",
   "execution_count": null,
   "metadata": {},
   "outputs": [],
   "source": []
  }
 ],
 "metadata": {
  "kernelspec": {
   "display_name": "MicroPython - USB",
   "language": "micropython",
   "name": "micropython"
  },
  "language_info": {
   "codemirror_mode": "python",
   "file_extension": ".py",
   "mimetype": "text/python",
   "name": "micropython"
  }
 },
 "nbformat": 4,
 "nbformat_minor": 2
}

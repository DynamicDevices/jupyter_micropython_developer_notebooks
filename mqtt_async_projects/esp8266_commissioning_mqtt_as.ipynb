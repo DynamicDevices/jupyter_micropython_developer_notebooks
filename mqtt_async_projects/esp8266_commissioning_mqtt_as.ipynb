{
 "cells": [
  {
   "cell_type": "code",
   "execution_count": null,
   "metadata": {},
   "outputs": [],
   "source": []
  },
  {
   "cell_type": "markdown",
   "metadata": {},
   "source": [
    "### Compiling with the mqtt_as library as frozen bytecode\n",
    "\n",
    "Instructions from:\n",
    "    https://www.esp8266.com/wiki/doku.php?id=toolchain\n",
    "\n",
    "Make the esp C-compiler\n",
    "> conda deactivate\n",
    "> git clone --recursive https://github.com/pfalcon/esp-open-sdk\n",
    "> cd esp-open-sdk\n",
    "> make\n",
    "\n",
    "Copy across the modules\n",
    "> cp /home/julian/extrepositories/micropython-mqtt/mqtt_as/mqtt_as.py /home/julian/extrepositories/micropython/ports/esp8266/modules/\n",
    "\n",
    "> cp /home/julian/extrepositories/micropython-lib/uasyncio/uasyncio/ /home/julian/extrepositories/micropython/ports/esp8266/modules/\n",
    "\n",
    "> cp /home/julian/extrepositories/micropython-lib/uasyncio.core/uasyncio/core.py /home/julian/extrepositories/micropython/ports/esp8266/modules/uasyncio/\n",
    "\n",
    "> cp /home/julian/extrepositories/micropython-lib/uasyncio.queues/uasyncio/queues.py /home/julian/extrepositories/micropython/ports/esp8266/modules/uasyncio/\n",
    "\n",
    "> cp /home/julian/extrepositories/micropython-lib/umqtt.simple/umqtt/simple.py /home/julian/extrepositories/micropython/ports/esp8266/modules/umqtt/\n",
    "\n",
    "> cp /home/julian/extrepositories/micropython-lib/umqtt.robust/umqtt/robust.py /home/julian/extrepositories/micropython/ports/esp8266/modules/umqtt/\n",
    "\n",
    "> export PATH=\"/home/julian/extrepositories/esp-open-sdk/xtensa-lx106-elf/bin/:$PATH\"\n",
    "\n",
    "Make the file\n",
    "> cd /home/julian/extrepositories/micropython/ports/esp8266\n",
    "\n",
    "> make -j4\n",
    "\n",
    "\n",
    "/home/julian/extrepositories/micropython/ports/esp8266/build-GENERIC/firmware-combined.bin\n"
   ]
  },
  {
   "cell_type": "code",
   "execution_count": 20,
   "metadata": {},
   "outputs": [
    {
     "name": "stdout",
     "output_type": "stream",
     "text": [
      "\u001b[34mExecuting:\n",
      "  esptool.py --port /dev/ttyUSB1 erase_flash\n",
      "\n",
      "\u001b[0mesptool.py v2.0\n",
      "Connecting....\n",
      "\u001b[34m[Press the PRG button now if required]\n",
      "\u001b[0mDetecting chip type... ESP8266\n",
      "Chip is ESP8266\n",
      "Uploading stub...\n",
      "Running stub...\n",
      "Stub running...\n",
      "Erasing flash (this may take a while)...\n",
      "Chip erase completed successfully in 11.2s\n",
      "Hard resetting...\n"
     ]
    }
   ],
   "source": [
    "%esptool erase"
   ]
  },
  {
   "cell_type": "code",
   "execution_count": 21,
   "metadata": {},
   "outputs": [
    {
     "name": "stdout",
     "output_type": "stream",
     "text": [
      "\u001b[34mExecuting:\n",
      "  esptool.py --port /dev/ttyUSB1 --baud 460800 write_flash --flash_size=detect -fm dio 0 /home/julian/extrepositories/micropython/ports/esp8266/build-GENERIC/firmware-combined.bin\n",
      "\n",
      "\u001b[0mesptool.py v2.0\n",
      "Connecting....\n",
      "\u001b[34m[Press the PRG button now if required]\n",
      "\u001b[0mDetecting chip type... ESP8266\n",
      "Chip is ESP8266\n",
      "Uploading stub...\n",
      "Running stub...\n",
      "Stub running...\n",
      "Changing baud rate to 460800\n",
      "Changed.\n",
      "Configuring flash size...\n",
      "Auto-detected Flash size: 4MB\n",
      "Flash params set to 0x0240\n",
      "Compressed 618180 bytes to 403189...\n",
      "Wrote 618180 bytes (403189 compressed) at 0x00000000 in 9.3 seconds (effective 531.9 kbit/s)...\n",
      "Hash of data verified.\n",
      "\n",
      "Leaving...\n",
      "Hard resetting...\n"
     ]
    }
   ],
   "source": [
    "%esptool esp8266 /home/julian/extrepositories/micropython/ports/esp8266/build-GENERIC/firmware-combined.bin"
   ]
  },
  {
   "cell_type": "code",
   "execution_count": 22,
   "metadata": {},
   "outputs": [
    {
     "name": "stdout",
     "output_type": "stream",
     "text": [
      "\u001b[34mConnecting to --port=/dev/ttyUSB1 --baud=115200 \u001b[0m\n",
      "\u001b[34mReady.\n",
      "\u001b[0m__main__          itertools         uasyncio/queues   upip_utarfile\n",
      "_boot             lwip              uasyncio/synchro  urandom\n",
      "_onewire          machine           ubinascii         ure\n",
      "_webrepl          math              ucollections      uselect\n",
      "apa102            micropython       ucryptolib        usocket\n",
      "btree             mqtt_as           uctypes           ussl\n",
      "builtins          neopixel          uerrno            ustruct\n",
      "collections/deque network           uhashlib          utime\n",
      "dht               ntptime           uheapq            utimeq\n",
      "ds18x20           onewire           uio               uwebsocket\n",
      "esp               port_diag         ujson             uzlib\n",
      "flashbdev         sys               umqtt/robust      webrepl\n",
      "framebuf          uarray            umqtt/simple      webrepl_setup\n",
      "gc                uasyncio/__init__ uos               websocket_helper\n",
      "inisetup          uasyncio/core     upip\n",
      "Plus any modules on the filesystem\n"
     ]
    }
   ],
   "source": [
    "%serialconnect\n",
    "help(\"modules\")"
   ]
  },
  {
   "cell_type": "code",
   "execution_count": 4,
   "metadata": {},
   "outputs": [
    {
     "name": "stdout",
     "output_type": "stream",
     "text": [
      "\u001b[31mNo serial connected\n",
      "\u001b[0m  %serialconnect to connect\n",
      "  %esptool to flash the device\n",
      "  %lsmagic to list commands"
     ]
    }
   ],
   "source": [
    "# Small ESP8266\n",
    "\n",
    "#      RST          |  GPIO1   TX\n",
    "#       A0          |  GPIO3   RX\n",
    "#       D0  GPIO16  |  GPIO5   D1  SCL\n",
    "# SCK   D5  GPIO14  |  GPIO4   D2  SDA\n",
    "# MISO  D6  GPIO12  |  GPIO0   D3\n",
    "# MOSI  D7  GPIO13  |  GPIO2   D4  LED\n",
    "# SS    D8  GPIO15  |          GND\n",
    "#      3V3          |          5V\n",
    "\n",
    "# (not able to get the mDNS to work for esp8266)"
   ]
  },
  {
   "cell_type": "code",
   "execution_count": 19,
   "metadata": {},
   "outputs": [
    {
     "name": "stdout",
     "output_type": "stream",
     "text": [
      "\u001b[34mConnecting to --port=/dev/ttyUSB6 --baud=115200 \u001b[0m\n",
      "import network, ubinascii\n",
      ">>> \n",
      ">>> \u001b[32mThis is the ESP8266's hotspot name\u001b[0m'MicroPython-%s'%ubinascii.hexlify(network.WLAN().config('mac')[-3:]).decode()\n",
      "'MicroPython-2d0c59'\n",
      ">>> \n",
      ">>> \n",
      "MPY: soft reboot\n",
      "Performing initial setup\n",
      "MicroPython v1.11-543-g48b25a841 on 2019-10-31; ESP module with ESP8266\n",
      "Type \"help()\" for more information.\n",
      ">>> import webrepl_setup\n",
      "WebREPL daemon auto-start status: disabled\n",
      "\n",
      "Would you like to (E)nable or (D)isable it running on boot?\n",
      "(Empty line to quit)\n",
      "> E\n",
      "To enable WebREPL, you must set password for it\n",
      "New password (4-9 chars): wpass\n",
      "Confirm password: wpass\n",
      "\u001b[34m\n",
      "Closing serial Serial<id=0x7fc8da101470, open=True>(port='/dev/ttyUSB6', baudrate=115200, bytesize=8, parity='N', stopbits=1, timeout=0.5, xonxoff=False, rtscts=False, dsrdtr=False)\n",
      "\u001b[0m"
     ]
    }
   ],
   "source": [
    "# Setting up the webrepl hotspot with password=wpass\n",
    "%serialconnect --raw\n",
    "%readbytes \n",
    "\n",
    "# Print out the hotspot name (while we are here)\n",
    "%writebytes \"import network, ubinascii\\r\\n\"\n",
    "%readbytes\n",
    "%writebytes \"\\r\\n\"\n",
    "%readbytes\n",
    "%writebytes \"'MicroPython-%s'%ubinascii.hexlify(network.WLAN().config('mac')[-3:]).decode()\\r\\n\"\n",
    "%comment \"This is the ESP8266's hotspot name\"\n",
    "%readbytes\n",
    "%writebytes \"\\r\\n\"\n",
    "%readbytes\n",
    "\n",
    "# soft reset so import works\n",
    "%writebytes \"\\x04\"\n",
    "%readbytes\n",
    "%writebytes \"import webrepl_setup\\r\\n\"\n",
    "%readbytes \n",
    "%writebytes \"E\\r\\n\"\n",
    "%readbytes\n",
    "\n",
    "# uncomment if second time (with additional question of changing password)\n",
    "#%writebytes \"y\\r\\n\"\n",
    "#%readbytes\n",
    "\n",
    "# set the password\n",
    "%writebytes \"wpass\\r\\n\"\n",
    "%readbytes\n",
    "%writebytes \"wpass\\r\\n\"\n",
    "%readbytes\n",
    "\n",
    "#%writebytes \"y\\r\\n\"\n",
    "#%readbytes\n",
    "\n",
    "%writebytes \"\\x04\"\n",
    "%readbytes\n",
    "%disconnect --raw"
   ]
  },
  {
   "cell_type": "code",
   "execution_count": null,
   "metadata": {},
   "outputs": [],
   "source": []
  }
 ],
 "metadata": {
  "kernelspec": {
   "display_name": "MicroPython - USB",
   "language": "micropython",
   "name": "micropython"
  },
  "language_info": {
   "codemirror_mode": "python",
   "file_extension": ".py",
   "mimetype": "text/python",
   "name": "micropython"
  }
 },
 "nbformat": 4,
 "nbformat_minor": 2
}

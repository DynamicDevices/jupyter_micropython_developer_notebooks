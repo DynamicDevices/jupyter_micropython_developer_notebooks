{
 "cells": [
  {
   "cell_type": "code",
   "execution_count": 35,
   "metadata": {},
   "outputs": [
    {
     "name": "stdout",
     "output_type": "stream",
     "text": [
      "serial exception on close write failed: [Errno 5] Input/output error\n",
      "\u001b[34mConnecting to --port=/dev/ttyUSB7 --baud=115200 \u001b[0m\n",
      "\u001b[34mReady.\n",
      "\u001b[0m"
     ]
    }
   ],
   "source": [
    "%serialconnect"
   ]
  },
  {
   "cell_type": "code",
   "execution_count": 31,
   "metadata": {},
   "outputs": [
    {
     "name": "stdout",
     "output_type": "stream",
     "text": [
      "Sent 7 lines (180 bytes) to config.txt.\n"
     ]
    }
   ],
   "source": [
    "%sendtofile config.txt\n",
    "\n",
    "wifiname     DoESLiverpool\n",
    "wifipassword decafbad00\n",
    "mqttbroker   10.0.100.1\n",
    "pinled       2\n",
    "pinpir       13\n",
    "boardname    esp8266sens4\n",
    "wifialt      DoESLiverpool,decafbad00,10.0.100.1"
   ]
  },
  {
   "cell_type": "code",
   "execution_count": 36,
   "metadata": {},
   "outputs": [
    {
     "name": "stdout",
     "output_type": "stream",
     "text": [
      "[leftinbuffer] ['ip:10.0.35.209,mask:255.0.0.0,gw:10.0.0.1']\n",
      "Sent 32 lines (969 bytes) to utils.py.\n",
      "Sent 33 lines (1130 bytes) to stdmqttas.py.\n"
     ]
    }
   ],
   "source": [
    "%sendtofile --quiet --source utils.py\n",
    "%sendtofile --quiet --source stdmqttas.py"
   ]
  },
  {
   "cell_type": "code",
   "execution_count": null,
   "metadata": {},
   "outputs": [
    {
     "name": "stdout",
     "output_type": "stream",
     "text": [
      "sleep disable\n",
      "connecting to: DoESLiverpool\n",
      "ipnumber 10.0.35.209\n",
      "esp8266sens4/pirseconds 0.0\n",
      ".esp8266sens4/pirseconds 0.0\n",
      "esp8266sens4/pirseconds 0.0\n",
      ".esp8266sens4/pirseconds 0.0\n",
      "esp8266sens4/pirseconds 0.0\n",
      "esp8266sens4/pirseconds 0.0\n",
      ".esp8266sens4/pirseconds 0.0\n",
      "esp8266sens4/pirseconds 0.0\n",
      ".esp8266sens4/pirseconds 0.0\n",
      "esp8266sens4/pirseconds 0.0\n",
      "esp8266sens4/pirseconds 0.0\n",
      ".esp8266sens4/pirseconds 0.0\n",
      "esp8266sens4/pirseconds 0.0\n",
      ".esp8266sens4/pirseconds 0.0\n",
      "esp8266sens4/pirseconds 0.0\n",
      "esp8266sens4/pirseconds 0.0\n",
      ".esp8266sens4/pirseconds 0.001\n",
      "esp8266sens4/pirseconds 0.0\n",
      ".esp8266sens4/pirseconds 0.0\n",
      "esp8266sens4/pirseconds 0.0\n",
      "esp8266sens4/pirseconds 0.0\n",
      ".esp8266sens4/pirseconds 0.0\n",
      "esp8266sens4/pirseconds 0.0\n",
      ".esp8266sens4/pirseconds 0.0\n",
      "esp8266sens4/pirseconds 0.0\n",
      "esp8266sens4/pirseconds 0.0\n",
      ".esp8266sens4/pirseconds 0.0\n",
      "esp8266sens4/pirseconds 0.0\n",
      ".esp8266sens4/pirseconds 0.0\n",
      "esp8266sens4/pirseconds 0.0\n",
      "esp8266sens4/pirseconds 0.0\n",
      ".esp8266sens4/pirseconds 0.0\n",
      "esp8266sens4/pirseconds 0.0\n",
      ".esp8266sens4/pirseconds 0.0\n",
      "esp8266sens4/pirseconds 0.0\n",
      "esp8266sens4/pirseconds 0.0\n",
      ".esp8266sens4/pirseconds 0.0\n",
      "esp8266sens4/pirseconds 0.0\n",
      ".esp8266sens4/pirseconds 0.0\n",
      "esp8266sens4/pirseconds 0.0\n",
      "esp8266sens4/pirseconds 0.0\n",
      ".esp8266sens4/pirseconds 0.0\n",
      "esp8266sens4/pirseconds 0.0\n",
      ".esp8266sens4/pirseconds 0.0\n",
      "esp8266sens4/pirseconds 0.0\n"
     ]
    }
   ],
   "source": [
    "#%sendtofile main.py\n",
    "\n",
    "import time\n",
    "from machine import Pin\n",
    "import uasyncio as asyncio\n",
    "from stdmqttas import fconfig, config, mqttconnecttask\n",
    "from mqtt_as import config, MQTTClient\n",
    "\n",
    "pinled = Pin(int(fconfig[\"pinled\"]), Pin.OUT)\n",
    "pinpir = Pin(int(fconfig[\"pinpir\"]), Pin.IN)\n",
    "boardname = fconfig[\"boardname\"]    \n",
    "topicstatus = boardname+\"/ip\"\n",
    "\n",
    "npircycles = const(20)\n",
    "async def timesincetask(pin, topic):\n",
    "    t0 = time.ticks_ms()\n",
    "    while True:\n",
    "        for i in range(npircycles):\n",
    "            if i < 2:\n",
    "                pinled.value(1-pinled.value())\n",
    "            await asyncio.sleep_ms(100)\n",
    "            if pin.value():\n",
    "                t0 = time.ticks_ms()\n",
    "        v = (time.ticks_ms() - t0)/1000\n",
    "        print(topic, v)\n",
    "        pinled.value(v<10)\n",
    "        await client.publish(topic, \"%.3f\"%v)\n",
    "\n",
    "async def onconnecttask(client):\n",
    "    ipnumber = client._sta_if.ifconfig()[0]\n",
    "    print(\"ipnumber\", ipnumber)\n",
    "    await client.publish(topicstatus, ipnumber, retain=True)\n",
    "\n",
    "config['connect_coro'] = onconnecttask\n",
    "config['will'] = (topicstatus, \"offline\", True)\n",
    "client = MQTTClient(config)\n",
    "    \n",
    "aloop = asyncio.get_event_loop()\n",
    "aloop.create_task(mqttconnecttask(client))\n",
    "aloop.create_task(timesincetask(pinpir, boardname+'/pirseconds'))\n",
    "aloop.run_forever()\n",
    "\n"
   ]
  },
  {
   "cell_type": "code",
   "execution_count": null,
   "metadata": {},
   "outputs": [],
   "source": []
  },
  {
   "cell_type": "code",
   "execution_count": null,
   "metadata": {},
   "outputs": [],
   "source": []
  },
  {
   "cell_type": "code",
   "execution_count": null,
   "metadata": {},
   "outputs": [],
   "source": [
    "# original code that handled radar and noisemic"
   ]
  },
  {
   "cell_type": "code",
   "execution_count": 13,
   "metadata": {},
   "outputs": [
    {
     "name": "stdout",
     "output_type": "stream",
     "text": [
      "Sent 8 lines (163 bytes) to config.txt.\n"
     ]
    }
   ],
   "source": [
    "%sendtofile config.txt\n",
    "\n",
    "wifiname     DoESLiverpool\n",
    "wifipassword decafbad00\n",
    "mqttbroker   10.0.100.1\n",
    "pinled       2\n",
    "pinnoise     12\n",
    "pinpir       13\n",
    "pinradar     14\n",
    "boardname    esp8266sens3"
   ]
  },
  {
   "cell_type": "code",
   "execution_count": 5,
   "metadata": {},
   "outputs": [],
   "source": [
    "# SCK   D5  GPIO14\n",
    "# MISO  D6  GPIO12  \n",
    "# MOSI  D7  GPIO13\n",
    "# PIR module from above pins on bottom is [+ output gnd]\n"
   ]
  },
  {
   "cell_type": "code",
   "execution_count": 2,
   "metadata": {},
   "outputs": [
    {
     "name": "stdout",
     "output_type": "stream",
     "text": [
      "\u001b[34mConnecting to --port=/dev/ttyUSB2 --baud=115200 \u001b[0m\n",
      "\u001b[34mReady.\n",
      "\u001b[0m"
     ]
    }
   ],
   "source": [
    "%serialconnect"
   ]
  },
  {
   "cell_type": "code",
   "execution_count": 14,
   "metadata": {},
   "outputs": [],
   "source": [
    "import os\n",
    "os.remove(\"main.py\")"
   ]
  },
  {
   "cell_type": "code",
   "execution_count": 11,
   "metadata": {},
   "outputs": [
    {
     "name": "stdout",
     "output_type": "stream",
     "text": [
      "Sent 93 lines (2931 bytes) to main.py.\n"
     ]
    }
   ],
   "source": [
    "%sendtofile main.py\n",
    "\n",
    "import time\n",
    "from machine import Pin, I2C\n",
    "from mqtt_as import config\n",
    "from mqtt_as_timeout import MQTTClient\n",
    "import uasyncio as asyncio\n",
    "\n",
    "fconfig = dict(x.split()  for x in open(\"config.txt\"))\n",
    "pinled = Pin(int(fconfig[\"pinled\"]), Pin.OUT)\n",
    "for i in range(10):\n",
    "    pinled.value(i%2)\n",
    "    time.sleep_ms(300)\n",
    "\n",
    "pinnoise = Pin(int(fconfig[\"pinnoise\"]), Pin.IN)\n",
    "pinpir = Pin(int(fconfig[\"pinpir\"]), Pin.IN)\n",
    "pinradar = Pin(int(fconfig[\"pinradar\"]), Pin.IN)\n",
    "\n",
    "config['server'] = fconfig[\"mqttbroker\"]\n",
    "config['ssid'] = fconfig[\"wifiname\"]\n",
    "config['wifi_pw'] = fconfig[\"wifipassword\"]\n",
    "config['mqttchannel'] = fconfig[\"boardname\"]\n",
    "boardname = fconfig[\"boardname\"].encode()    \n",
    "\n",
    "async def ledtask():\n",
    "    while True:\n",
    "        pinled.value(0)\n",
    "        await asyncio.sleep_ms(20 if client.isconnected() else 1600)\n",
    "        pinled.value(1)\n",
    "        if pinpir.value():\n",
    "            await asyncio.sleep_ms(100)\n",
    "            pinled.value(0)\n",
    "            await asyncio.sleep_ms(20)\n",
    "            pinled.value(1)\n",
    "        await asyncio.sleep_ms(2000)\n",
    "\n",
    "        \n",
    "nnoisesamples = const(1000)        \n",
    "nnoisecycles = const(10)\n",
    "async def noisetask(topic):\n",
    "    while True:\n",
    "        noiseseq = [ ]\n",
    "        for i in range(nnoisecycles):\n",
    "            await asyncio.sleep_ms(100)\n",
    "            v = (sum(pinnoise.value() for i in range(nnoisesamples)))\n",
    "            noiseseq.append(v)\n",
    "        print(noiseseq)\n",
    "        v = sum(noiseseq)/(nnoisesamples*nnoisecycles)\n",
    "        await client.publish(topic, \"%.3f\"%v)\n",
    "\n",
    "\n",
    "npircycles = const(20)\n",
    "async def timesincetask(pin, topic):\n",
    "    t0 = time.ticks_ms()\n",
    "    while True:\n",
    "        for i in range(npircycles):\n",
    "            await asyncio.sleep_ms(100)\n",
    "            if pin.value():\n",
    "                t0 = time.ticks_ms()\n",
    "        v = (time.ticks_ms() - t0)/1000\n",
    "        print(topic, v)\n",
    "        await client.publish(topic, \"%.3f\"%v)\n",
    "\n",
    "async def onconnecttask(client):\n",
    "    ipnumber = client._sta_if.ifconfig()[0]\n",
    "    print(\"ipnumber\", ipnumber)\n",
    "    await client.publish(boardname+b'/ip', ipnumber, retain=True)\n",
    "    \n",
    "async def mqtttask(bflip=False):\n",
    "    if bflip and \"wifialt\" in fconfig:\n",
    "        assid, awifi_pw, aserver = fconfig[\"wifialt\"].split(\",\")\n",
    "        if client._ssid == assid:\n",
    "            assid, awifi_pw, aserver = fconfig[\"wifiname\"], fconfig[\"wifipassword\"], fconfig[\"mqttbroker\"]\n",
    "        client._ssid, client._wifi_pw, client.server = assid, awifi_pw, aserver\n",
    "    try:\n",
    "        print(\"connecting to:\", client._ssid)\n",
    "        await client.connect()\n",
    "        return\n",
    "    except OSError as e:\n",
    "        print(\"client connect\", [e])\n",
    "    aloop.create_task(mqtttask(True))\n",
    "\n",
    "config['connect_coro'] = onconnecttask\n",
    "client = MQTTClient(config)\n",
    "    \n",
    "aloop = asyncio.get_event_loop()\n",
    "aloop.create_task(ledtask())\n",
    "aloop.create_task(timesincetask(pinpir, boardname+b'/pirseconds'))\n",
    "aloop.create_task(timesincetask(pinradar, boardname+b'/radarseconds'))\n",
    "#aloop.create_task(noisetask(boardname+b'/noiselevel'))\n",
    "aloop.create_task(mqtttask())\n",
    "aloop.run_forever()\n",
    "\n",
    "\n",
    "\n"
   ]
  },
  {
   "cell_type": "code",
   "execution_count": null,
   "metadata": {},
   "outputs": [],
   "source": []
  }
 ],
 "metadata": {
  "kernelspec": {
   "display_name": "MicroPython - USB",
   "language": "micropython",
   "name": "micropython"
  },
  "language_info": {
   "codemirror_mode": "python",
   "file_extension": ".py",
   "mimetype": "text/python",
   "name": "micropython"
  }
 },
 "nbformat": 4,
 "nbformat_minor": 2
}

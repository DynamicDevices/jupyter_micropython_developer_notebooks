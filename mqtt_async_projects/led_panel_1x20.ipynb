{
 "cells": [
  {
   "cell_type": "code",
   "execution_count": null,
   "metadata": {},
   "outputs": [],
   "source": [
    "# Simplify and deploy on dot matrix at front\n",
    "# check watchdog does or doesn't work\n",
    "# report mdns not working on esp8266 (and the watchdog)\n",
    "# check if timeout on wifi allows alternate wifi passwords to be given\n",
    "\n",
    "# Make sure the firmware is\n",
    "# %esptool esp8266 /home/julian/extrepositories/micropython/ports/esp8266/build-GENERIC/firmware-combined.bin"
   ]
  },
  {
   "cell_type": "code",
   "execution_count": null,
   "metadata": {},
   "outputs": [],
   "source": [
    "# Small ESP8266\n",
    "\n",
    "#      RST          |  GPIO1   TX\n",
    "#       A0          |  GPIO3   RX\n",
    "#       D0  GPIO16  |  GPIO5   D1  SCL\n",
    "# SCK   D5  GPIO14  |  GPIO4   D2  SDA\n",
    "# MISO  D6  GPIO12  |  GPIO0   D3\n",
    "# MOSI  D7  GPIO13  |  GPIO2   D4  LED\n",
    "# SS    D8  GPIO15  |          GND\n",
    "#      3V3          |          5V\n",
    "\n",
    "# clk red      D5\n",
    "# cs  orange   D8\n",
    "# din yellow   D7\n",
    "# gnd green    G\n",
    "# vcc blue     5V"
   ]
  },
  {
   "cell_type": "code",
   "execution_count": 155,
   "metadata": {},
   "outputs": [
    {
     "name": "stdout",
     "output_type": "stream",
     "text": [
      "serial exception on close write failed: [Errno 5] Input/output error\n",
      "\u001b[34mConnecting to --port=/dev/ttyUSB0 --baud=115200 \u001b[0m\n",
      "\u001b[34mReady.\n",
      "\u001b[0m"
     ]
    }
   ],
   "source": [
    "%serialconnect"
   ]
  },
  {
   "cell_type": "code",
   "execution_count": 156,
   "metadata": {},
   "outputs": [
    {
     "name": "stdout",
     "output_type": "stream",
     "text": [
      "Sent 10 lines (222 bytes) to config.txt.\n"
     ]
    }
   ],
   "source": [
    "%sendtofile config.txt\n",
    "\n",
    "wifiname     BV6000\n",
    "wifipassword bubblino\n",
    "mqttbroker   192.168.43.1\n",
    "pinled       2\n",
    "pincs        15\n",
    "pinsck       14\n",
    "pinmosi      13\n",
    "boardname    esp32ledstrip\n",
    "numledchars  20\n",
    "wifialt      DoESLiverpool,decafbad00,10.0.100.1"
   ]
  },
  {
   "cell_type": "code",
   "execution_count": 138,
   "metadata": {},
   "outputs": [
    {
     "name": "stdout",
     "output_type": "stream",
     "text": [
      "Sent 10 lines (228 bytes) to config.txt.\n"
     ]
    }
   ],
   "source": [
    "%sendtofile config.txt\n",
    "\n",
    "wifiname     DoESLiverpool\n",
    "wifipassword decafbad00\n",
    "mqttbroker   10.0.100.1\n",
    "pinled       2\n",
    "pincs        15\n",
    "pinsck       14\n",
    "pinmosi      13\n",
    "boardname    esp8266led1\n",
    "numledchars  20\n",
    "wifialt      DoESLiverpool,decafbad00,10.0.100.1\n"
   ]
  },
  {
   "cell_type": "code",
   "execution_count": 157,
   "metadata": {},
   "outputs": [
    {
     "name": "stdout",
     "output_type": "stream",
     "text": [
      "Sent 64 lines (1913 bytes) to ledstrippanel.py.\n"
     ]
    }
   ],
   "source": [
    "%sendtofile ledstrippanel.py\n",
    "\n",
    "import framebuf\n",
    "from machine import Pin, SPI\n",
    "\n",
    "cs, spi = None, None\n",
    "brightnesschars = None\n",
    "buffer = None\n",
    "fbuff = None\n",
    "numledchars = 0\n",
    "# ESP32-HSPI: sck=14, mosi=13\n",
    "\n",
    "def setbrightness(brightness, i0=0, i1=9999):\n",
    "    # 0<=brightness<=15\n",
    "    for i in range(max(i0, 0), min(i1, numledchars)):\n",
    "        brightnesschars[(numledchars - i)*2 - 1] = brightness\n",
    "        \n",
    "def showbrightness():\n",
    "    cs.value(0)  \n",
    "    spi.write(brightnesschars)\n",
    "    cs.value(1)\n",
    "    \n",
    "def scrollbrightness(brightness=0):\n",
    "    for i in range(numledchars - 1):\n",
    "        brightnesschars[(numledchars - i)*2 - 1] = brightnesschars[(numledchars - (i+1))*2 - 1]\n",
    "    brightnesschars[1] = brightness\n",
    "    \n",
    "s = bytearray(8)\n",
    "def show():\n",
    "    for y in range(8):\n",
    "        s[6] = s[4] = s[2] = s[0] = y+1\n",
    "        yp = y*(numledchars) + numledchars\n",
    "        cs.value(0)  # cannot put in loop as resets the shifting\n",
    "        for m in range(0, numledchars-1, 4):\n",
    "            s[1] = buffer[yp - m - 1]\n",
    "            s[3] = buffer[yp - m - 2]\n",
    "            s[5] = buffer[yp - m - 3]\n",
    "            s[7] = buffer[yp - m - 4]\n",
    "            spi.write(s)\n",
    "        cs.value(1)\n",
    "\n",
    "def init():\n",
    "    for i in range(0, 10, 2):\n",
    "        cs.value(0)\n",
    "        x = b\"\\x0c\\x00\\x0f\\x00\\x0b\\x07\\x09\\x00\\x0c\\x01\"[i:i+2]\n",
    "        spi.write(x*numledchars)\n",
    "        cs.value(1)\n",
    "    showbrightness()\n",
    "        \n",
    "def setup(lnumledchars, lcs, lspi):\n",
    "    global numledchars, cs, spi, brightnesschars, buffer, fbuff\n",
    "    cs, spi = lcs, lspi\n",
    "    numledchars = lnumledchars # can be 4n+1 for scroll buffer\n",
    "\n",
    "    brightnesschars = bytearray(bytes([0x0a, 0])*numledchars)\n",
    "    buffer = bytearray(8*(numledchars))  # make one extra character to scroll from\n",
    "    fbuffwidth = 8*(numledchars)\n",
    "    fbuffheight = 8\n",
    "    fbuff = framebuf.FrameBuffer(buffer, fbuffwidth, fbuffheight, framebuf.MONO_HLSB)\n",
    "\n",
    "    init()\n",
    "    \n",
    "    for i in range(0, numledchars*8, 4):\n",
    "        fbuff.fill_rect(i, (i%8), 4, 4, 1)\n",
    "    show()\n",
    "    return fbuff\n"
   ]
  },
  {
   "cell_type": "code",
   "execution_count": 153,
   "metadata": {},
   "outputs": [
    {
     "name": "stdout",
     "output_type": "stream",
     "text": [
      "serial exception on close write failed: [Errno 5] Input/output error\n",
      "\u001b[34mConnecting to --port=/dev/ttyUSB1 --baud=115200 \u001b[0m\n",
      "\u001b[34mReady.\n",
      "\u001b[0m"
     ]
    }
   ],
   "source": [
    "%serialconnect"
   ]
  },
  {
   "cell_type": "code",
   "execution_count": 158,
   "metadata": {},
   "outputs": [
    {
     "name": "stdout",
     "output_type": "stream",
     "text": [
      "Sent 90 lines (3105 bytes) to main.py.\n"
     ]
    }
   ],
   "source": [
    "%sendtofile main.py\n",
    "\n",
    "from mqtt_as import config, MQTTClient\n",
    "import uasyncio as asyncio\n",
    "from machine import Pin, PWM, SPI\n",
    "import time, itertools\n",
    "from ledstrippanel import setup, show\n",
    "from uasyncio.queues import Queue\n",
    "\n",
    "fconfig = dict(x.split()  for x in open(\"config.txt\"))\n",
    "boardname = fconfig[\"boardname\"]\n",
    "\n",
    "pinled = Pin(int(fconfig[\"pinled\"]), Pin.OUT)\n",
    "pinled.value(0)\n",
    "numledchars = int(fconfig[\"numledchars\"])\n",
    "fbuff = setup(numledchars, Pin(int(fconfig[\"pincs\"]), Pin.OUT), SPI(1, 1000000))\n",
    "\n",
    "time.sleep(2.5)\n",
    "\n",
    "config['server'] = fconfig[\"mqttbroker\"]\n",
    "config['ssid'] = fconfig[\"wifiname\"]\n",
    "config['wifi_pw'] = fconfig[\"wifipassword\"]\n",
    "config['mqttchannel'] = boardname\n",
    "    \n",
    "qmessages = Queue()\n",
    "async def messagetask():\n",
    "    message = \" \"\n",
    "    while True:\n",
    "        prevmessage, message = message, await(qmessages.get())\n",
    "        for xchar, (c1, c2) in enumerate(zip(prevmessage, message)):\n",
    "            if c1 != c2:\n",
    "                break\n",
    "        fbuff.fill(0)\n",
    "        fbuff.text(message, 0, 0, 1)\n",
    "        for ys in range(7, -1, -1):\n",
    "            fbuff.fill_rect(xchar*8, 0, (numledchars - xchar)*8, 8, 0)\n",
    "            fbuff.text(prevmessage[xchar:], xchar*8, ys - 8, 1)\n",
    "            fbuff.text(message[xchar:], xchar*8, ys, 1)\n",
    "            show()\n",
    "            await asyncio.sleep_ms(50)\n",
    "        await asyncio.sleep_ms(450)\n",
    "\n",
    "async def onconnecttask(client):\n",
    "    ipnumber = client._sta_if.ifconfig()[0]\n",
    "    print(\"ipnumber\", ipnumber)\n",
    "    await qmessages.put(\"subscribing\")\n",
    "    await client.subscribe(boardname+\"/message\")\n",
    "    await client.publish(boardname+'/ip', ipnumber, retain=True)\n",
    "    await qmessages.put(\"ip: \"+ipnumber)\n",
    "\n",
    "async def mqtttask(bflip=False):\n",
    "    if bflip and \"wifialt\" in fconfig:\n",
    "        assid, awifi_pw, aserver = fconfig[\"wifialt\"].split(\",\")\n",
    "        if client._ssid == assid:\n",
    "            assid, awifi_pw, aserver = fconfig[\"wifiname\"], fconfig[\"wifipassword\"], fconfig[\"mqttbroker\"]\n",
    "        client._ssid, client._wifi_pw, client.server = assid, awifi_pw, aserver\n",
    "    await qmessages.put(\"wifi: \"+client._ssid)\n",
    "    try:\n",
    "        await client.connect()\n",
    "        await qmessages.put(\"mqtt: \"+client.server)\n",
    "        return\n",
    "    except OSError as e:\n",
    "        print(\"client connect\", [e])\n",
    "    await qmessages.put(\"wifi: fail\")\n",
    "    aloop.create_task(mqtttask(True))\n",
    "    \n",
    "async def cursorflash():    \n",
    "    for i in itertools.count():\n",
    "        await asyncio.sleep_ms(1000)\n",
    "        if not client.isconnected() and qmessages.qsize() < 2:\n",
    "            await qmessages.put(\"wifi fail: %d\"%i)\n",
    "            await asyncio.sleep_ms(9000)\n",
    "        elif qmessages.empty():\n",
    "            fbuff.fill_rect((numledchars-1)*8, 7, 8, 1, i%2)\n",
    "            show()\n",
    "        \n",
    "def callbackcmd(topic, message, retain):\n",
    "    print(\"callbackcmd\", topic, message)\n",
    "    while qmessages.qsize() > 5:\n",
    "        qmessages.pop()\n",
    "    if 1 <= len(message) <= 50:\n",
    "        aloop.create_task(qmessages.put(message.decode()))\n",
    "    \n",
    "config['subs_cb'] = callbackcmd\n",
    "config['connect_coro'] = onconnecttask\n",
    "client = MQTTClient(config)\n",
    "\n",
    "aloop = asyncio.get_event_loop()\n",
    "aloop.create_task(messagetask())\n",
    "aloop.create_task(cursorflash())\n",
    "aloop.create_task(mqtttask())\n",
    "aloop.run_forever()\n"
   ]
  },
  {
   "cell_type": "code",
   "execution_count": null,
   "metadata": {},
   "outputs": [],
   "source": []
  },
  {
   "cell_type": "code",
   "execution_count": null,
   "metadata": {},
   "outputs": [],
   "source": []
  }
 ],
 "metadata": {
  "kernelspec": {
   "display_name": "MicroPython - USB",
   "language": "micropython",
   "name": "micropython"
  },
  "language_info": {
   "codemirror_mode": "python",
   "file_extension": ".py",
   "mimetype": "text/python",
   "name": "micropython"
  }
 },
 "nbformat": 4,
 "nbformat_minor": 2
}

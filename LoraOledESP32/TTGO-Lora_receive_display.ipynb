{
 "cells": [
  {
   "cell_type": "markdown",
   "metadata": {},
   "source": [
    "TTGO or Heltec receive any packet and display it on the OLED\n",
    "\n",
    "Depends on MicroPython for ESP32, \n",
    "and https://github.com/goatchurchprime/LightLora_MicroPython\n",
    "and ssd1306.py OLED library"
   ]
  },
  {
   "cell_type": "code",
   "execution_count": 1,
   "metadata": {},
   "outputs": [
    {
     "name": "stdout",
     "output_type": "stream",
     "text": [
      "\u001b[34mConnecting to --port=/dev/ttyUSB1 --baud=115200 \u001b[0m\n",
      "\u001b[34mReady.\n",
      "\u001b[0mSent 168 lines (5477 bytes) to ssd1306.py.\n",
      "Sent 106 lines (2864 bytes) to lib/LightLora/lorautil.py.\n",
      "Sent 397 lines (13311 bytes) to lib/LightLora/sx127x.py.\n",
      "Sent 64 lines (2087 bytes) to lib/LightLora/spicontrol.py.\n",
      "Sent 0 lines (0 bytes) to lib/LightLora/__init__.py.\n"
     ]
    }
   ],
   "source": [
    "# Run this to upload the files\n",
    "%serialconnect\n",
    "%sendtofile --quiet --source ssd1306.py\n",
    "%sendtofile --mkdir --quiet --source /home/julian/extrepositories/LightLora_MicroPython/LightLora/ lib/LightLora/"
   ]
  },
  {
   "cell_type": "code",
   "execution_count": 63,
   "metadata": {},
   "outputs": [
    {
     "name": "stdout",
     "output_type": "stream",
     "text": [
      "\u001b[31m\n",
      "\n",
      "***Connection broken [Input/output error]\n",
      "\u001b[0mYou may need to reconnectserial exception on close write failed: [Errno 5] Input/output error\n",
      "\u001b[34mConnecting to Serial /dev/ttyUSB4 baud=115200 \u001b[0m\n",
      "\u001b[34mReady.\n",
      "\u001b[0m"
     ]
    }
   ],
   "source": [
    "# start here for interaction\n",
    "%serialconnect"
   ]
  },
  {
   "cell_type": "code",
   "execution_count": 70,
   "metadata": {},
   "outputs": [
    {
     "name": "stdout",
     "output_type": "stream",
     "text": [
      "Sent 12 lines (257 bytes) to main.py.\n"
     ]
    }
   ],
   "source": [
    "%sendtofile main.py\n",
    "\n",
    "from machine import Pin, I2C\n",
    "import ssd1306\n",
    "\n",
    "oledrst = Pin(16, Pin.OUT)\n",
    "oledrst.value(1)\n",
    "i2c = I2C(scl=Pin(15), sda=Pin(4), freq=450000)\n",
    "o = ssd1306.SSD1306_I2C(128, 64, i2c, addr=0x3c)\n",
    "\n",
    "o.fill(0)\n",
    "o.text('Connecting to', 0, 0)\n",
    "o.text('Lora', 0, 8)\n",
    "o.show() "
   ]
  },
  {
   "cell_type": "code",
   "execution_count": 54,
   "metadata": {
    "collapsed": true
   },
   "outputs": [],
   "source": [
    "#help(o.framebuf)\n"
   ]
  },
  {
   "cell_type": "code",
   "execution_count": 71,
   "metadata": {},
   "outputs": [
    {
     "name": "stdout",
     "output_type": "stream",
     "text": [
      "Sent 2 lines (72 bytes) to main.py.\n"
     ]
    }
   ],
   "source": [
    "%sendtofile --append main.py\n",
    "\n",
    "from lib.LightLora import lorautil, spicontrol\n",
    "lru = lorautil.LoraUtil()"
   ]
  },
  {
   "cell_type": "code",
   "execution_count": 49,
   "metadata": {
    "collapsed": true
   },
   "outputs": [],
   "source": []
  },
  {
   "cell_type": "code",
   "execution_count": 72,
   "metadata": {},
   "outputs": [
    {
     "name": "stdout",
     "output_type": "stream",
     "text": [
      "Sent 20 lines (405 bytes) to main.py.\n"
     ]
    }
   ],
   "source": [
    "%sendtofile --append main.py\n",
    "\n",
    "import time\n",
    "\n",
    "i = 0\n",
    "n = 0\n",
    "while True:\n",
    "    if lru.isPacketAvailable():\n",
    "        pkt = lru.readPacket()\n",
    "        o.fill(0)\n",
    "        o.text('d:%d s:%d n:%d' % (pkt.dstAddress, pkt.srcAddress, n), 0, 0)\n",
    "        n += 1\n",
    "        o.text(pkt.msgTxt, 0, 8)\n",
    "        o.show()\n",
    "        i = 0\n",
    "    time.sleep_ms(100)\n",
    "    i += 1\n",
    "    if (i%100) == 0:\n",
    "        o.fill(0)\n",
    "        o.text(\"%d\" % int(i/10), 0, 16)\n",
    "        o.show()\n",
    "\n"
   ]
  },
  {
   "cell_type": "code",
   "execution_count": null,
   "metadata": {
    "collapsed": true
   },
   "outputs": [],
   "source": []
  }
 ],
 "metadata": {
  "kernelspec": {
   "display_name": "MicroPython - USB",
   "language": "micropython",
   "name": "micropython"
  },
  "language_info": {
   "codemirror_mode": "python",
   "file_extension": ".py",
   "mimetype": "text/python",
   "name": "micropython"
  }
 },
 "nbformat": 4,
 "nbformat_minor": 2
}

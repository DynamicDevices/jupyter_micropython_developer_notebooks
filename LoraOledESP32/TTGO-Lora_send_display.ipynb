{
 "cells": [
  {
   "cell_type": "markdown",
   "metadata": {},
   "source": [
    "Minimal TTGO or Heltec send any packet and display it on the OLED\n",
    "\n",
    "Uses the jupyter_micropython_kernel to hack the code in\n",
    "https://github.com/goatchurchprime/jupyter_micropython_kernel/\n",
    "\n",
    "Depends on MicroPython for ESP32, \n",
    "and https://github.com/goatchurchprime/LightLora_MicroPython\n",
    "and ssd1306.py OLED library (included)\n",
    "\n",
    "Thes packets are picked up by \n",
    "https://github.com/kersing/ESP-1ch-Gateway-v5.0/tree/master/ESP-sc-gway (although from not farther than one room away)\n",
    "\n",
    "Useful set of documentes: https://github.com/Wei1234c/MQTT_bridged_LoRa_networks_with_MicroPython_on_ESP32/tree/master/references"
   ]
  },
  {
   "cell_type": "code",
   "execution_count": 2,
   "metadata": {},
   "outputs": [
    {
     "name": "stdout",
     "output_type": "stream",
     "text": [
      "\u001b[31m\n",
      "\n",
      "***Connection broken [Input/output error]\n",
      "\u001b[0mYou may need to reconnectserial exception on close write failed: [Errno 5] Input/output error\n",
      "\u001b[34mConnecting to --port=/dev/ttyUSB0 --baud=115200 \u001b[0m\n",
      "\u001b[34mReady.\n",
      "\u001b[0mSent 168 lines (5477 bytes) to ssd1306.py.\n",
      "Sent 106 lines (2864 bytes) to lib/LightLora/lorautil.py.\n",
      "Sent 397 lines (13311 bytes) to lib/LightLora/sx127x.py.\n",
      "Sent 64 lines (2087 bytes) to lib/LightLora/spicontrol.py.\n",
      "Sent 0 lines (0 bytes) to lib/LightLora/__init__.py.\n"
     ]
    }
   ],
   "source": [
    "# Run this to upload the files to the sending mode \n",
    "# (after you have run the esp32_commissioning notebook)\n",
    "\n",
    "%serialconnect\n",
    "%sendtofile --quiet --source ssd1306.py\n",
    "%sendtofile --mkdir --quiet --source /home/julian/extrepositories/LightLora_MicroPython/LightLora/ lib/LightLora/\n",
    "%sendtofile --source utils.py\n",
    "%sendtofile --source mainsend.py main.py\n"
   ]
  },
  {
   "cell_type": "code",
   "execution_count": 25,
   "metadata": {},
   "outputs": [
    {
     "name": "stdout",
     "output_type": "stream",
     "text": [
      "Sent 29 lines (712 bytes) to main.py.\n"
     ]
    }
   ],
   "source": [
    "%sendtofile --source mainsend.py main.py\n"
   ]
  },
  {
   "cell_type": "code",
   "execution_count": null,
   "metadata": {
    "collapsed": true
   },
   "outputs": [],
   "source": []
  },
  {
   "cell_type": "markdown",
   "metadata": {},
   "source": [
    "### Everything below is for hacking the code \n",
    "that we are putting into main.py (which is \n",
    "the script that runs on startup)\n",
    "\n",
    "We are trying to correlate the code between the things network code\n",
    "https://github.com/kersing/ESP-1ch-Gateway-v5.0/tree/master/ESP-sc-gway\n",
    "\n",
    "and the code in LightLora_MicroPython to do with setting the \n",
    "values in the Lora chip.  \n",
    "\n",
    "At the moment the ESP-gateway sees the incoming packets, \n",
    "but the range is no more than across a single room.  \n",
    "(However, the ESP-gateway is able to collect unknown packets \n",
    "from distant places, so we think it's got more appropriate \n",
    "settings)"
   ]
  },
  {
   "cell_type": "code",
   "execution_count": null,
   "metadata": {
    "collapsed": true
   },
   "outputs": [],
   "source": [
    "    "
   ]
  },
  {
   "cell_type": "code",
   "execution_count": null,
   "metadata": {
    "collapsed": true
   },
   "outputs": [],
   "source": []
  },
  {
   "cell_type": "code",
   "execution_count": null,
   "metadata": {
    "collapsed": true
   },
   "outputs": [],
   "source": []
  },
  {
   "cell_type": "code",
   "execution_count": null,
   "metadata": {
    "collapsed": true
   },
   "outputs": [],
   "source": []
  },
  {
   "cell_type": "code",
   "execution_count": null,
   "metadata": {
    "collapsed": true
   },
   "outputs": [],
   "source": []
  },
  {
   "cell_type": "code",
   "execution_count": 27,
   "metadata": {},
   "outputs": [
    {
     "name": "stdout",
     "output_type": "stream",
     "text": [
      "\u001b[34mConnecting to --port=/dev/ttyUSB0 --baud=115200 \u001b[0m\n",
      "\u001b[34mReady.\n",
      "\u001b[0m"
     ]
    }
   ],
   "source": [
    "%serialconnect\n",
    "# start here for interaction\n"
   ]
  },
  {
   "cell_type": "code",
   "execution_count": 24,
   "metadata": {},
   "outputs": [
    {
     "name": "stdout",
     "output_type": "stream",
     "text": [
      "\u001b[32mWriting mainsend.py\n",
      "\n",
      "\u001b[0m"
     ]
    }
   ],
   "source": [
    "import utils\n",
    "params = {  'frequency': 868100000, \n",
    "            'tx_power_level': 14, \n",
    "            'signal_bandwidth': 125E3, \n",
    "            'spreading_factor': 7, \n",
    "            'coding_rate': 5, \n",
    "            'preamble_length': 8,\n",
    "            'implicitHeader': False, \n",
    "            'sync_word': 0x34,    # from _loraModem\n",
    "            'enable_CRC': True }\n",
    "utils.MakeLora(params)"
   ]
  },
  {
   "cell_type": "code",
   "execution_count": 20,
   "metadata": {
    "collapsed": true
   },
   "outputs": [],
   "source": [
    "utils.lora.init()\n"
   ]
  },
  {
   "cell_type": "code",
   "execution_count": 21,
   "metadata": {
    "collapsed": true
   },
   "outputs": [],
   "source": [
    "utils.lora.onReceive(utils._doReceive)\n",
    "utils.lora.onTransmit(utils._doTransmit)\n",
    "utils.lora.receive()\n"
   ]
  },
  {
   "cell_type": "code",
   "execution_count": 23,
   "metadata": {
    "collapsed": true
   },
   "outputs": [],
   "source": [
    "n = 1999\n",
    "txt = \"Hello %d there\"%n\n",
    "btxt = txt.encode()\n",
    "btxt = b\"\\x90\\x91\\x92\"\n",
    "utils.sendPacket(0xfe, 0x41, btxt) \n"
   ]
  },
  {
   "cell_type": "code",
   "execution_count": 19,
   "metadata": {},
   "outputs": [
    {
     "name": "stdout",
     "output_type": "stream",
     "text": [
      "Sent 2 lines (72 bytes) to main.py.\n"
     ]
    }
   ],
   "source": [
    "%sendtofile --append main.py\n",
    "\n",
    "from lib.LightLora import lorautil, spicontrol\n",
    "lru = lorautil.LoraUtil()"
   ]
  },
  {
   "cell_type": "code",
   "execution_count": 54,
   "metadata": {
    "collapsed": true
   },
   "outputs": [],
   "source": [
    "lru.lora.setSyncWord(0x36)"
   ]
  },
  {
   "cell_type": "code",
   "execution_count": 53,
   "metadata": {
    "collapsed": true
   },
   "outputs": [],
   "source": [
    "n = 1999\n",
    "txt = \"Hello %d there\"%n\n",
    "btxt = txt.encode()\n",
    "btxt = b\"\\x90\\x91\\x92\"\n",
    "lru.sendPacket(0xfe, 0x41, btxt) \n"
   ]
  },
  {
   "cell_type": "code",
   "execution_count": null,
   "metadata": {
    "collapsed": true
   },
   "outputs": [],
   "source": []
  },
  {
   "cell_type": "code",
   "execution_count": 29,
   "metadata": {},
   "outputs": [
    {
     "name": "stdout",
     "output_type": "stream",
     "text": [
      "Sent 29 lines (712 bytes) to main.py.\n"
     ]
    }
   ],
   "source": []
  },
  {
   "cell_type": "code",
   "execution_count": 31,
   "metadata": {},
   "outputs": [],
   "source": [
    "utils.writeoled(\"kk\")"
   ]
  },
  {
   "cell_type": "code",
   "execution_count": 35,
   "metadata": {
    "collapsed": true
   },
   "outputs": [],
   "source": [
    "s = utils.sx127x\n",
    "l = utils.lora"
   ]
  },
  {
   "cell_type": "code",
   "execution_count": 42,
   "metadata": {},
   "outputs": [
    {
     "name": "stdout",
     "output_type": "stream",
     "text": [
      "128\r\n"
     ]
    },
    {
     "name": "stderr",
     "output_type": "stream",
     "text": [
      "Traceback (most recent call last):\n",
      "  File \"<stdin>\", line 4, in <module>\n",
      "AttributeError: 'module' object has no attribute 'OPMODE_STANDBY'\n"
     ]
    }
   ],
   "source": [
    "#ASSERT((readRegister(REG_OPMODE) & OPMODE_LORA) != 0);\n",
    "print(l.readRegister(s.REG_OP_MODE)&0x80)\n",
    "# opmode(OPMODE_STANDBY);\n",
    "#s.OPMODE_STANDBY\n",
    "setRate(sfTx=7, crc=True) # spreading factor\n",
    "REG_MODEM_CONFIG_1 = 0x1d\n",
    "REG_MODEM_CONFIG_2 = 0x1e\n",
    "REG_RSSI_WIDEBAND = 0x2c\n",
    "REG_DETECTION_OPTIMIZE = 0x31\n",
    "REG_DETECTION_THRESHOLD = 0x37\n",
    "def setSpreadingFactor(self, sf):\n",
    "    sf = min(max(sf, 6), 12)\n",
    "    self.writeRegister(REG_DETECTION_OPTIMIZE, 0xc5 if sf == 6 else 0xc3)\n",
    "    self.writeRegister(REG_DETECTION_THRESHOLD, 0x0c if sf == 6 else 0x0a)\n",
    "    self.writeRegister(REG_MODEM_CONFIG_2, (self.readRegister(REG_MODEM_CONFIG_2) & 0x0f) | ((sf << 4) & 0xf0))\n",
    "#define REG_MODEM_CONFIG1           0x1D\n",
    "#define REG_MODEM_CONFIG2           0x1E\n",
    "\n",
    "    \n",
    "\t\tmc1= 0x0A;\t\t\t\t// SX1276_MC1_BW_250 0x80 | SX1276_MC1_CR_4_5 0x02\n",
    "\t\tmc2= ((sf<<4) | crc) % 0xFF;\n",
    "\t\t// SX1276_MC1_BW_250 0x80 | SX1276_MC1_CR_4_5 0x02 | SX1276_MC1_IMPLICIT_HEADER_MODE_ON 0x01\n",
    "        if (sf == SF11 || sf == SF12) { mc1= 0x0B; }\t\t\t        \n",
    "\twriteRegister(REG_MODEM_CONFIG1, (uint8_t) mc1);\n",
    "\twriteRegister(REG_MODEM_CONFIG2, (uint8_t) mc2);\n",
    "\twriteRegister(REG_MODEM_CONFIG3, (uint8_t) mc3);\n",
    "    "
   ]
  },
  {
   "cell_type": "code",
   "execution_count": null,
   "metadata": {
    "collapsed": true
   },
   "outputs": [],
   "source": [
    "# Pow setting looks like it does same thing\n",
    "\n",
    "REG_PA_CONFIG = 0x09\n",
    "#define REG_PAC                     0x09\n",
    "\n",
    "void setPow(uint8_t powe)\n",
    "{\n",
    "\tif (powe >= 16) powe = 15;\n",
    "\t//if (powe >= 15) powe = 14;\n",
    "\telse if (powe < 2) powe =2;\n",
    "\t\n",
    "\tASSERT((powe>=2)&&(powe<=15));\n",
    "\t\n",
    "\tuint8_t pac = (0x80 | (powe & 0xF)) & 0xFF;\n",
    "\twriteRegister(REG_PAC, (uint8_t)pac);\t\t\t\t\t\t\t\t// set 0x09 to pac\n",
    "\t\t\tself.writeRegister(REG_PA_CONFIG, PA_BOOST | (level - 2))\n",
    "\n",
    "    \n",
    "\tdef setTxPower(self, level, outputPin=PA_OUTPUT_PA_BOOST_PIN):\n",
    "\t\tif outputPin == PA_OUTPUT_RFO_PIN:\n",
    "\t\t\t# RFO\n",
    "\t\t\tlevel = min(max(level, 0), 14)\n",
    "\t\t\tself.writeRegister(REG_PA_CONFIG, 0x70 | level)\n",
    "\t\telse:\n",
    "\t\t\t# PA BOOST\n",
    "\t\t\tlevel = min(max(level, 2), 17)\n",
    "\t\t\tself.writeRegister(REG_PA_CONFIG, PA_BOOST | (level - 2))\n",
    "    "
   ]
  },
  {
   "cell_type": "code",
   "execution_count": null,
   "metadata": {
    "collapsed": true
   },
   "outputs": [],
   "source": [
    "# code from the ESP-1ch gateway\n",
    "// 2. enter standby mode (required for FIFO loading))\n",
    "\topmode(OPMODE_STANDBY);\t\t\t\t\t\t\t\t\t// set 0x01 to 0x01\n",
    "\t\n",
    "\t// 3. Init spreading factor and other Modem setting\n",
    "\tsetRate(sfTx=7, crc=True);\n",
    "\t\n",
    "\t// Frquency hopping\n",
    "\t//writeRegister(REG_HOP_PERIOD, (uint8_t) 0x00);\t\t// set 0x24 to 0x00 only for receivers\n",
    "\t\n",
    "\t// 4. Init Frequency, config channel\n",
    "\tsetFreq(freq);\n",
    "\n",
    "\t// 6. Set power level, REG_PAC\n",
    "\tsetPow(powe);\n",
    "\t\n",
    "\t// 7. prevent node to node communication\n",
    "\twriteRegister(REG_INVERTIQ, (uint8_t) iiq);\t\t\t\t\t\t// 0x33, (0x27 or 0x40)\n",
    "\t\n",
    "\t// 8. set the IRQ mapping DIO0=TxDone DIO1=NOP DIO2=NOP (or lesss for 1ch gateway)\n",
    "    writeRegister(REG_DIO_MAPPING_1, (uint8_t)(MAP_DIO0_LORA_TXDONE|MAP_DIO1_LORA_NOP|MAP_DIO2_LORA_NOP));\n",
    "\t\n",
    "\t// 9. clear all radio IRQ flags\n",
    "    writeRegister(REG_IRQ_FLAGS, (uint8_t) 0xFF);\n",
    "\t\n",
    "\t// 10. mask all IRQs but TxDone\n",
    "    writeRegister(REG_IRQ_FLAGS_MASK, (uint8_t) ~IRQ_LORA_TXDONE_MASK);\n",
    "\t\n",
    "\t// txLora\n",
    "\topmode(OPMODE_FSTX);\t\t\t\t\t\t\t\t\t// set 0x01 to 0x02 (actual value becomes 0x82)\n",
    "\t\n",
    "\t// 11, 12, 13, 14. write the buffer to the FiFo\n",
    "\tsendPkt(payLoad, payLength);\n",
    "\n",
    "\t// 15. wait extra delay out. The delayMicroseconds timer is accurate until 16383 uSec.\n",
    "\tloraWait(tmst);\n",
    "\t\n",
    "\t//Set the base addres of the transmit buffer in FIFO\n",
    "    writeRegister(REG_FIFO_ADDR_PTR, (uint8_t) readRegister(REG_FIFO_TX_BASE_AD));\t// set 0x0D to 0x0F (contains 0x80);\t\n",
    "\t\n",
    "\t//For TX we have to set the PAYLOAD_LENGTH\n",
    "    writeRegister(REG_PAYLOAD_LENGTH, (uint8_t) payLength);\t\t// set 0x22, max 0x40==64Byte long\n",
    "\t\n",
    "\t//For TX we have to set the MAX_PAYLOAD_LENGTH\n",
    "    writeRegister(REG_MAX_PAYLOAD_LENGTH, (uint8_t) MAX_PAYLOAD_LENGTH);\t// set 0x22, max 0x40==64Byte long\n",
    "\t\n",
    "\t// Reset the IRQ register\n",
    "\t//writeRegister(REG_IRQ_FLAGS, 0xFF);\t\t\t\t\t\t// set 0x12 to 0xFF\n",
    "\twriteRegister(REG_IRQ_FLAGS_MASK, (uint8_t) 0x00);\t\t\t// Clear the mask\n",
    "\twriteRegister(REG_IRQ_FLAGS, (uint8_t) IRQ_LORA_TXDONE_MASK);// set 0x12 to 0x08\n",
    "\t\n",
    "\t// 16. Initiate actual transmission of FiFo\n",
    "\topmode(OPMODE_TX);\t\t\t\t\t\t\t\t\t\t\t// set 0x01 to 0x03 (actual value becomes 0x83)\n",
    "\n",
    "\t\ttxLoraModem(\n",
    "\t\t\tLoraDown.payLoad,\n",
    "\t\t\tLoraDown.payLength,\n",
    "\t\t\tLoraDown.tmst,\n",
    "\t\t\tLoraDown.sfTx,\n",
    "\t\t\tLoraDown.powe,\n",
    "\t\t\tLoraDown.fff,\n",
    "\t\t\tLoraDown.crc,\n",
    "\t\t\tLoraDown.iiq\n",
    "\t\t);\n"
   ]
  },
  {
   "cell_type": "code",
   "execution_count": null,
   "metadata": {
    "collapsed": true
   },
   "outputs": [],
   "source": [
    "\t\t# config\n",
    "\t\tself.setFrequency(self._useParam('frequency'))\n",
    "\t\tself.setSignalBandwidth(self._useParam('signal_bandwidth'))\n",
    "\n",
    "\t\t# set LNA boost\n",
    "\t\tself.writeRegister(REG_LNA, self.readRegister(REG_LNA) | 0x03)\n",
    "\n",
    "\t\t# set auto AGC\n",
    "\t\tself.writeRegister(REG_MODEM_CONFIG_3, 0x04)\n",
    "\n",
    "\t\tself.setTxPower(self._useParam('tx_power_level'))\n",
    "\t\tself._implicitHeaderMode = None\n",
    "\t\tself.implicitHeaderMode(self._useParam('implicitHeader'))\n",
    "\t\tself.setSpreadingFactor(self._useParam('spreading_factor'))\n",
    "\t\tself.setCodingRate(self._useParam('coding_rate'))\n",
    "\t\tself.setPreambleLength(self._useParam('preamble_length'))\n",
    "\t\tself.setSyncWord(self._useParam('sync_word'))\n",
    "\t\tself.enableCRC(self._useParam('enable_CRC'))\n",
    "\n",
    "\t\t# set base addresses\n",
    "\t\tself.writeRegister(REG_FIFO_TX_BASE_ADDR, FifoTxBaseAddr)\n",
    "\t\tself.writeRegister(REG_FIFO_RX_BASE_ADDR, FifoRxBaseAddr)\n",
    "\n",
    "\t\tself.standby()\n"
   ]
  }
 ],
 "metadata": {
  "kernelspec": {
   "display_name": "MicroPython - USB",
   "language": "micropython",
   "name": "micropython"
  },
  "language_info": {
   "codemirror_mode": "python",
   "file_extension": ".py",
   "mimetype": "text/python",
   "name": "micropython"
  }
 },
 "nbformat": 4,
 "nbformat_minor": 2
}

{
 "cells": [
  {
   "cell_type": "code",
   "execution_count": null,
   "metadata": {
    "collapsed": true
   },
   "outputs": [],
   "source": [
    "# this is deliberately micropython"
   ]
  },
  {
   "cell_type": "code",
   "execution_count": 1,
   "metadata": {},
   "outputs": [
    {
     "name": "stdout",
     "output_type": "stream",
     "text": [
      "Connecting to socket (192.168.0.29 9993)\n",
      "Connecting to socket (192.168.0.29 9993)\n",
      "preconnect\n",
      "Doing makefile\n",
      "\n",
      " ** Socket connected **\n",
      "\n",
      "<socket.SocketIO object at 0x7f9d683e1198>\n"
     ]
    }
   ],
   "source": [
    "%socketconnect 192.168.0.29 9993"
   ]
  },
  {
   "cell_type": "code",
   "execution_count": 1,
   "metadata": {},
   "outputs": [
    {
     "name": "stdout",
     "output_type": "stream",
     "text": [
      "Connecting to socket (192.168.4.1 9999)\n",
      "Connecting to socket (192.168.4.1 9999)\n",
      "preconnect\n",
      "Doing makefile\n",
      "\n",
      " ** Socket connected **\n",
      "\n",
      "<socket.SocketIO object at 0x7f715af7cba8>\n"
     ]
    }
   ],
   "source": [
    "%socketconnect 192.168.4.1 9999"
   ]
  },
  {
   "cell_type": "code",
   "execution_count": 2,
   "metadata": {},
   "outputs": [
    {
     "name": "stdout",
     "output_type": "stream",
     "text": [
      "serial.write 7 bytes to <socket.SocketIO object at 0x7f9d683e1198>"
     ]
    }
   ],
   "source": [
    "%writebytes -b \"thiddng\""
   ]
  },
  {
   "cell_type": "code",
   "execution_count": 4,
   "metadata": {
    "scrolled": true
   },
   "outputs": [
    {
     "name": "stdout",
     "output_type": "stream",
     "text": [
      "[b'']"
     ]
    }
   ],
   "source": [
    "%readbytes"
   ]
  },
  {
   "cell_type": "code",
   "execution_count": 15,
   "metadata": {},
   "outputs": [
    {
     "name": "stdout",
     "output_type": "stream",
     "text": [
      "Thank you for sending 13 characters\n",
      "We will deal with this later\n"
     ]
    }
   ],
   "source": [
    "print(9*9)"
   ]
  },
  {
   "cell_type": "code",
   "execution_count": 3,
   "metadata": {},
   "outputs": [
    {
     "name": "stdout",
     "output_type": "stream",
     "text": [
      "Thank you for sending 6 characters\n",
      "The answer is: b'64'\n"
     ]
    }
   ],
   "source": [
    "8*8"
   ]
  },
  {
   "cell_type": "code",
   "execution_count": 4,
   "metadata": {},
   "outputs": [
    {
     "name": "stdout",
     "output_type": "stream",
     "text": [
      "Thank you for sending 8 characters\n",
      "The answer is: b'iiiiiiii'\n"
     ]
    }
   ],
   "source": [
    "\"i\"*8"
   ]
  },
  {
   "cell_type": "code",
   "execution_count": 31,
   "metadata": {},
   "outputs": [
    {
     "name": "stdout",
     "output_type": "stream",
     "text": [
      "Thank you for sending 8 characters\n",
      "The answer is: b\"name 'tween' is not defined\"\n"
     ]
    }
   ],
   "source": [
    "tween"
   ]
  },
  {
   "cell_type": "code",
   "execution_count": 2,
   "metadata": {},
   "outputs": [
    {
     "name": "stdout",
     "output_type": "stream",
     "text": [
      "...\n",
      "\n",
      "[Late OK]\n",
      "\n",
      "Thank you for sending 47 characters\n",
      "The answer is: b'None'\n"
     ]
    }
   ],
   "source": [
    "print('\\x1b[0;32mI (164313) wifi: event 15')"
   ]
  },
  {
   "cell_type": "code",
   "execution_count": 6,
   "metadata": {},
   "outputs": [
    {
     "name": "stdout",
     "output_type": "stream",
     "text": [
      "Thank you for sending 7 characters\n",
      "The answer is: b'64'\n"
     ]
    }
   ],
   "source": [
    "8<<3"
   ]
  },
  {
   "cell_type": "code",
   "execution_count": null,
   "metadata": {
    "collapsed": true
   },
   "outputs": [],
   "source": []
  }
 ],
 "metadata": {
  "kernelspec": {
   "display_name": "MicroPython - USB",
   "language": "micropython",
   "name": "micropython"
  },
  "language_info": {
   "codemirror_mode": "python",
   "file_extension": ".py",
   "mimetype": "text/python",
   "name": "micropython"
  }
 },
 "nbformat": 4,
 "nbformat_minor": 2
}

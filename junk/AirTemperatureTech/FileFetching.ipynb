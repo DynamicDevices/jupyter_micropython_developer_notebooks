{
 "cells": [
  {
   "cell_type": "code",
   "execution_count": 1,
   "metadata": {},
   "outputs": [
    {
     "name": "stdout",
     "output_type": "stream",
     "text": [
      "\u001b[34mConnecting to --port=/dev/ttyUSB1 --baud=115200 \u001b[0m\n",
      "\u001b[34mReady.\n",
      "\u001b[0m"
     ]
    }
   ],
   "source": [
    "%serialconnect"
   ]
  },
  {
   "cell_type": "code",
   "execution_count": 2,
   "metadata": {},
   "outputs": [
    {
     "name": "stderr",
     "output_type": "stream",
     "text": [
      "Traceback (most recent call last):\n",
      "  File \"<stdin>\", line 6, in <module>\n",
      "OSError: [Errno 1] EPERM\n"
     ]
    }
   ],
   "source": [
    "# may be able to skip this if already loaded\n",
    "from machine import Pin, SPI, UART\n",
    "import sdcard, os, time\n",
    "spi = SPI(sck=Pin(5), mosi=Pin(22), miso=Pin(27))  \n",
    "sd = sdcard.SDCard(spi, Pin(23))\n",
    "os.mount(sd, '/sd')\n"
   ]
  },
  {
   "cell_type": "code",
   "execution_count": 3,
   "metadata": {},
   "outputs": [
    {
     "name": "stdout",
     "output_type": "stream",
     "text": [
      "001.TXT 24349\n",
      "002.TXT 2664257\n",
      "003.TXT 423\n",
      "004.TXT 2034858\n",
      "005.TXT 423\n",
      "006.TXT 423\n",
      "007.TXT 1612014\n",
      "008.TXT 900205\n",
      "009.TXT 423\n",
      "010.TXT 2097284\n",
      "011.TXT 441\n",
      "012.TXT 1079097\n",
      "013.TXT 1725713\n",
      "014.TXT 7536\n",
      "015.TXT 119950\n",
      "016.TXT 12562635\n",
      "017.TXT 696431\n",
      "018.TXT 459\n",
      "019.TXT 13919\n",
      "020.TXT 189123\n",
      "021.TXT 851248\n",
      "022.TXT 26105569\n",
      "023.TXT 423\n",
      "024.TXT 916172\n",
      "025.TXT 423\n",
      "026.TXT 19288170\n",
      "027.TXT 526446\n",
      "028.TXT 1890894\n",
      "029.TXT 423\n",
      "030.TXT 84977750\n",
      "031.TXT 11638936\n",
      "032.TXT 116488\n",
      "033.TXT 6826612\n",
      "034.TXT 87952\n",
      "035.TXT 790755\n",
      "036.TXT 20912082\n",
      "037.TXT 441\n",
      "038.TXT 423\n",
      "039.TXT 441\n",
      "040.TXT 26043\n",
      "041.TXT 423\n",
      "042.TXT 122011\n",
      "043.TXT 423\n",
      "044.TXT 423\n",
      "045.TXT 5128383\n",
      "046.TXT 321165\n",
      "047.TXT 423\n",
      "048.TXT 198747\n",
      "049.TXT 45727\n",
      "050.TXT 35569\n",
      "051.TXT 10334514\n",
      "052.TXT 71160543\n",
      "053.TXT 4711274\n",
      "054.TXT 441\n",
      "055.TXT 423\n",
      "056.TXT 1707301\n",
      "057.TXT 965957\n",
      "058.TXT 414469\n",
      "059.TXT 25284\n",
      "060.TXT 4887506\n",
      "061.TXT 580207\n"
     ]
    }
   ],
   "source": [
    "for f in os.ilistdir(\"sd/LOG\"):\n",
    "    print(f[0], f[3])"
   ]
  },
  {
   "cell_type": "code",
   "execution_count": 4,
   "metadata": {},
   "outputs": [
    {
     "name": "stdout",
     "output_type": "stream",
     "text": [
      "Logfile: sd/LOG/061.TXT\n",
      "Device number: 3\n",
      "Rt[ms]d\"[isodate]\"e[latdE]n[latdN]f[lngdE]o[lngdN] GPS cooeffs\n",
      "Qt[ms]u[ms midnight]y[lat600000]x[lng600000]a[alt] GPS\n",
      "Vt[ms]v[kph100]d[deg100] GPS velocity\n",
      "Ft[ms]p[milibars] bluefly pressure\n",
      "Gt[ms]r[rawhumid]a[rawtemp] si7021Humidity meter\n",
      "Nt[ms]r[rawadc]s[resistance] nickel wire sensor\n",
      "Zt[ms]xyz[linacc]abc[gravacc]wxyz[quat]s[calibstat] orient\n",
      "Yt[ms]s\"calibconsts\" orient calib\n",
      "\n",
      ".....92.62401 seconds\n",
      "{'Z': 6355, 'G': 2338, 'N': 2578, 'V': 0, 'Q': 0, 'F': 4309, 'R': 0}\n"
     ]
    }
   ],
   "source": [
    "f = open(\"sd/LOG/061.TXT\")\n",
    "for l in f:\n",
    "    print(l, end=\"\")\n",
    "    if not l.strip():\n",
    "        break\n",
    "reccounts = dict(zip(\"RQVFGNZ\", [0]*7))\n",
    "for l in f:\n",
    "    if l[0] == \"Q\":\n",
    "        print(l)\n",
    "    reccounts[l[0]] += 1\n",
    "ms = int(l[2:10], 16)\n",
    "print(ms/1000, \"seconds\")\n",
    "print(reccounts)\n"
   ]
  },
  {
   "cell_type": "code",
   "execution_count": 5,
   "metadata": {},
   "outputs": [
    {
     "name": "stdout",
     "output_type": "stream",
     "text": [
      "Fetched 580207=580207 bytes from sd/LOG/061.TXT.\n",
      "Saving file to '061.TXT'"
     ]
    }
   ],
   "source": [
    "%fetchfile --binary \"sd/LOG/061.TXT\""
   ]
  },
  {
   "cell_type": "code",
   "execution_count": 6,
   "metadata": {},
   "outputs": [
    {
     "name": "stderr",
     "output_type": "stream",
     "text": [
      "Traceback (most recent call last):\n",
      "  File \"<stdin>\", line 1, in <module>\n",
      "OSError: [Errno 2] ENOENT\n"
     ]
    }
   ],
   "source": []
  },
  {
   "cell_type": "code",
   "execution_count": null,
   "metadata": {
    "collapsed": true
   },
   "outputs": [],
   "source": [
    "Ns"
   ]
  },
  {
   "cell_type": "code",
   "execution_count": 11,
   "metadata": {},
   "outputs": [
    {
     "name": "stdout",
     "output_type": "stream",
     "text": [
      "sd/LOG/079.TXT\n",
      "sd/LOG/078.TXT\n",
      "sd/LOG/077.TXT\n",
      "sd/LOG/076.TXT\n",
      "sd/LOG/075.TXT\n",
      "sd/LOG/074.TXT\n",
      "sd/LOG/073.TXT\n",
      "sd/LOG/072.TXT\n",
      "Qt00000DFDu04D8C198y01E8D98DxFFE4C97Da01A0\n",
      "\n",
      "sd/LOG/071.TXT\n",
      "sd/LOG/070.TXT\n",
      "sd/LOG/069.TXT\n",
      "sd/LOG/068.TXT\n",
      "sd/LOG/067.TXT\n",
      "sd/LOG/066.TXT\n",
      ".sd/LOG/065.TXT\n",
      "sd/LOG/064.TXT\n",
      "sd/LOG/063.TXT\n",
      "sd/LOG/062.TXT\n",
      "sd/LOG/061.TXT\n",
      "sd/LOG/060.TXT\n",
      "sd/LOG/059.TXT\n",
      "sd/LOG/058.TXT\n",
      "sd/LOG/057.TXT\n",
      "sd/LOG/056.TXT\n",
      ".sd/LOG/055.TXT\n",
      "sd/LOG/054.TXT\n",
      "sd/LOG/053.TXT\n",
      "sd/LOG/052.TXT\n",
      "sd/LOG/051.TXT\n",
      "sd/LOG/050.TXT\n",
      "sd/LOG/049.TXT\n",
      "sd/LOG/048.TXT\n",
      "sd/LOG/047.TXT\n",
      "sd/LOG/046.TXT\n",
      "sd/LOG/045.TXT\n",
      ".sd/LOG/044.TXT\n",
      "Qt000020CCu0313E7E8y01E84B54xFFF01ED2a0568\n",
      "\n",
      "sd/LOG/043.TXT\n",
      "Qt00001C8Cu030E9E00y01E84B97xFFF01EEFa04EC\n",
      "\n",
      "sd/LOG/042.TXT\n",
      "Qt00000D1Au030CCD28y01E84B80xFFF01EF1a04D7\n",
      "\n",
      "sd/LOG/041.TXT\n",
      "Qt00000CC3u0308BD50y01E84BB8xFFF01F02a045D\n",
      "\n",
      "sd/LOG/040.TXT\n",
      "Qt00000DE6u03076400y01E84BB9xFFF01E91a0462\n",
      "\n",
      "sd/LOG/039.TXT\n",
      "Qt00000CEFu03065FD8y01E84BC2xFFF01F02a040E\n",
      "\n",
      "sd/LOG/038.TXT\n",
      "sd/LOG/037.TXT\n",
      "sd/LOG/036.TXT\n",
      "sd/LOG/035.TXT\n",
      "sd/LOG/034.TXT\n",
      "sd/LOG/033.TXT\n",
      "sd/LOG/032.TXT\n",
      "sd/LOG/031.TXT\n",
      "sd/LOG/030.TXT\n",
      "sd/LOG/029.TXT\n",
      "sd/LOG/028.TXT\n",
      "sd/LOG/027.TXT\n",
      ".sd/LOG/026.TXT\n",
      "sd/LOG/025.TXT\n",
      "sd/LOG/024.TXT\n",
      "sd/LOG/023.TXT\n",
      "sd/LOG/022.TXT\n",
      "sd/LOG/021.TXT\n",
      "sd/LOG/020.TXT\n",
      "sd/LOG/019.TXT\n",
      "sd/LOG/018.TXT\n",
      "sd/LOG/017.TXT\n",
      ".sd/LOG/016.TXT\n",
      "sd/LOG/015.TXT\n",
      "sd/LOG/014.TXT\n",
      "sd/LOG/013.TXT\n",
      "Qt00000D54u04BDBEC0y01E8D97BxFFE4C938a0132\n",
      "\n",
      "sd/LOG/012.TXT\n",
      "Qt0001A1FBu04BBF9A0y01E8D95CxFFE4C94Aa012A\n",
      "\n",
      "sd/LOG/011.TXT\n",
      "Qt00006176u04BABD38y01E8D95ExFFE4C955a0126\n",
      "\n"
     ]
    }
   ],
   "source": [
    "# find which files have GPS in them\n",
    "for i in range(79, 10, -1): \n",
    "    fn = \"sd/LOG/%03d.TXT\" % i\n",
    "    print(fn)\n",
    "    f = open(fn)\n",
    "    for l in f:\n",
    "        if not l.strip():\n",
    "            break\n",
    "    for n, l in enumerate(f):\n",
    "        if l[0] == \"Q\":\n",
    "            print(l)\n",
    "            break\n",
    "        if n>400:\n",
    "            break\n"
   ]
  },
  {
   "cell_type": "code",
   "execution_count": 15,
   "metadata": {},
   "outputs": [
    {
     "name": "stdout",
     "output_type": "stream",
     "text": [
      "('001.TXT', 32768, 0, 2596960)\n",
      "('002.TXT', 32768, 0, 280561)\n",
      "('003.TXT', 32768, 0, 59868)\n",
      "('004.TXT', 32768, 0, 144079)\n",
      "('005.TXT', 32768, 0, 840679)\n",
      "('006.TXT', 32768, 0, 33445)\n",
      "('007.TXT', 32768, 0, 77757)\n",
      "('008.TXT', 32768, 0, 36183)\n",
      "('009.TXT', 32768, 0, 114246)\n",
      "('010.TXT', 32768, 0, 4662)\n",
      "('011.TXT', 32768, 0, 53269)\n",
      "('012.TXT', 32768, 0, 192004)\n",
      "('013.TXT', 32768, 0, 14821)\n",
      "('014.TXT', 32768, 0, 40717)\n",
      "('015.TXT', 32768, 0, 5426665)\n",
      "('016.TXT', 32768, 0, 20932)\n",
      "('017.TXT', 32768, 0, 228721)\n",
      "('018.TXT', 32768, 0, 142579)\n",
      "('019.TXT', 32768, 0, 9654556)\n",
      "('020.TXT', 32768, 0, 5285410)\n",
      "('021.TXT', 32768, 0, 2627107)\n",
      "('022.TXT', 32768, 0, 38656)\n",
      "('023.TXT', 32768, 0, 8662)\n",
      "('024.TXT', 32768, 0, 2003725)\n",
      "('025.TXT', 32768, 0, 82375)\n",
      "('026.TXT', 32768, 0, 118123)\n",
      "('027.TXT', 32768, 0, 46084)\n",
      "('028.TXT', 32768, 0, 23554)\n",
      "('029.TXT', 32768, 0, 4186)\n",
      "('030.TXT', 32768, 0, 211153)\n",
      "('031.TXT', 32768, 0, 71545)\n",
      "('032.TXT', 32768, 0, 5735419)\n",
      "('033.TXT', 32768, 0, 116956)\n",
      "('034.TXT', 32768, 0, 133731)\n",
      "('035.TXT', 32768, 0, 149307)\n",
      "('036.TXT', 32768, 0, 423)\n",
      "('037.TXT', 32768, 0, 24357)\n",
      "('038.TXT', 32768, 0, 20562)\n",
      "('039.TXT', 32768, 0, 32114)\n",
      "('040.TXT', 32768, 0, 22185)\n",
      "('041.TXT', 32768, 0, 41865)\n",
      "('042.TXT', 32768, 0, 25813)\n",
      "('043.TXT', 32768, 0, 88075)\n",
      "('044.TXT', 32768, 0, 2373667)\n",
      "('045.TXT', 32768, 0, 2889397)\n",
      "('046.TXT', 32768, 0, 1997604)\n",
      "('047.TXT', 32768, 0, 423)\n",
      "('048.TXT', 32768, 0, 2319369)\n",
      "('049.TXT', 32768, 0, 11837280)\n",
      "('050.TXT', 32768, 0, 672864)\n",
      "('051.TXT', 32768, 0, 135861)\n",
      "('052.TXT', 32768, 0, 179886)\n",
      "('053.TXT', 32768, 0, 549648)\n",
      "('054.TXT', 32768, 0, 23907)\n",
      "('055.TXT', 32768, 0, 838038)\n",
      "('056.TXT', 32768, 0, 2024019)\n",
      "('057.TXT', 32768, 0, 563835)\n",
      "('058.TXT', 32768, 0, 1657401)\n",
      "('059.TXT', 32768, 0, 349839)\n",
      "('060.TXT', 32768, 0, 1319550)\n",
      "('061.TXT', 32768, 0, 2611146)\n",
      "('062.TXT', 32768, 0, 329010)\n",
      "('063.TXT', 32768, 0, 270636)\n",
      "('064.TXT', 32768, 0, 4382238)\n",
      "('065.TXT', 32768, 0, 267414)\n",
      "('066.TXT', 32768, 0, 3592752)\n",
      "('067.TXT', 32768, 0, 3925437)\n",
      "('068.TXT', 32768, 0, 2641728)\n",
      "('069.TXT', 32768, 0, 1441032)\n",
      "('070.TXT', 32768, 0, 314700)\n",
      "('071.TXT', 32768, 0, 4491)\n",
      "('072.TXT', 32768, 0, 440001)\n",
      "('073.TXT', 32768, 0, 559989)\n",
      "('074.TXT', 32768, 0, 423)\n",
      "('075.TXT', 32768, 0, 459)\n",
      "('076.TXT', 32768, 0, 49267)\n",
      "('077.TXT', 32768, 0, 25806)\n",
      "('078.TXT', 32768, 0, 942552)\n",
      "('079.TXT', 32768, 0, 244824)\n",
      "('080.TXT', 32768, 0, 82881)\n",
      "('081.TXT', 32768, 0, 291930)\n",
      "('082.TXT', 32768, 0, 423)\n",
      "('083.TXT', 32768, 0, 2279693)\n",
      "('084.TXT', 32768, 0, 423)\n",
      "('085.TXT', 32768, 0, 4691397)\n",
      "('086.TXT', 32768, 0, 423)\n",
      "('087.TXT', 32768, 0, 423)\n",
      "('088.TXT', 32768, 0, 178362)\n"
     ]
    }
   ],
   "source": [
    "# Clear the log file\n",
    "for f in os.ilistdir(\"sd/LOG\"):\n",
    "    print(f)\n",
    "    os.remove(\"sd/LOG/\"+f[0])\n"
   ]
  },
  {
   "cell_type": "code",
   "execution_count": null,
   "metadata": {
    "collapsed": true
   },
   "outputs": [],
   "source": []
  }
 ],
 "metadata": {
  "kernelspec": {
   "display_name": "MicroPython - USB",
   "language": "micropython",
   "name": "micropython"
  },
  "language_info": {
   "codemirror_mode": "python",
   "file_extension": ".py",
   "mimetype": "text/python",
   "name": "micropython"
  }
 },
 "nbformat": 4,
 "nbformat_minor": 2
}

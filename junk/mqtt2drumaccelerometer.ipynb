{
 "cells": [
  {
   "cell_type": "markdown",
   "metadata": {},
   "source": [
    "This is coded on an ESP8266 motor slider\n",
    "Very trivial code, no checking or async work"
   ]
  },
  {
   "cell_type": "code",
   "execution_count": 1,
   "metadata": {},
   "outputs": [
    {
     "name": "stdout",
     "output_type": "stream",
     "text": [
      "\u001b[34mConnecting to --port=/dev/ttyUSB1 --baud=115200 \u001b[0m\n",
      "\u001b[34mReady.\n",
      "\u001b[0m"
     ]
    }
   ],
   "source": [
    "%serialconnect"
   ]
  },
  {
   "cell_type": "code",
   "execution_count": 2,
   "metadata": {},
   "outputs": [
    {
     "name": "stdout",
     "output_type": "stream",
     "text": [
      "Sent 204 lines (6411 bytes) to lib/umqtt/simple.py.\n",
      "['robust.py', 'simple.py']\n"
     ]
    }
   ],
   "source": [
    "%sendtofile --mkdir --source /home/julian/extrepositories/micropython-lib/umqtt.robust/umqtt/robust.py lib/umqtt/\n",
    "%sendtofile --mkdir --source /home/julian/extrepositories/micropython-lib/umqtt.simple/umqtt/simple.py lib/umqtt/\n",
    "print(os.listdir(\"lib/umqtt\"))\n"
   ]
  },
  {
   "cell_type": "code",
   "execution_count": 3,
   "metadata": {},
   "outputs": [
    {
     "name": "stdout",
     "output_type": "stream",
     "text": [
      "\u001b[34mConnecting to --port=/dev/ttyUSB1 --baud=115200 \u001b[0m\n",
      "\u001b[34mReady.\n",
      "\u001b[0m"
     ]
    }
   ],
   "source": [
    "%serialconnect"
   ]
  },
  {
   "cell_type": "code",
   "execution_count": 30,
   "metadata": {},
   "outputs": [
    {
     "name": "stdout",
     "output_type": "stream",
     "text": [
      "Sent 71 lines (1882 bytes) to main.py.\n"
     ]
    }
   ],
   "source": [
    "%sendtofile main.py\n",
    "\n",
    "import machine, time, network\n",
    "\n",
    "wifiname = \"DoESLiverpool-MQTT\"\n",
    "wifipassword = \"decafbad00\"\n",
    "mqttbroker = \"10.3.141.1\"\n",
    "\n",
    "from machine import Pin, I2C\n",
    "import time, ustruct\n",
    "\n",
    "time.sleep(0.1)\n",
    "\n",
    "i2c = I2C(scl=Pin(15), sda=Pin(4), freq=450000)\n",
    "#    if 0x6B in ads and 0x1E in ads:\n",
    "#        res.append(\"SDOF GyAccMag\")\n",
    "\n",
    "        \n",
    "# turn on accelerometer reg(0x20)=(ODR_XL,FS_XL,BW_SCAL_ODR,BW_XL)=110 00 0 00 should give 952Hz, but is overridden by gyros ODR \n",
    "# there are various further settings of FIFO and High and Low pass filters\n",
    "i2c.writeto(0x6B, b'\\x20\\xC0')  \n",
    "i2c.writeto(0x1E, b'\\x22\\x00')  \n",
    "\n",
    "time.sleep(0.5)\n",
    "\n",
    "def readaccelerometer():\n",
    "    cs, stm, ds = 0x6B, 1, b\"\\x28\" \n",
    "    while True:   # loop to wait for readings to be ready (at 60Hz)\n",
    "        i2c.writeto(cs, b'\\x27')\n",
    "        st = ord(i2c.readfrom(cs, 1))  # (IG_XL,IG_G,INACT,BOOT_STATUS,TDA,GDA,XLDA) states whether a reading is ready\n",
    "        if st & stm:\n",
    "            break\n",
    "    i2c.writeto(cs, ds)\n",
    "    s = i2c.readfrom(cs, 6)\n",
    "    sv = ustruct.unpack(\"<hhh\", s)\n",
    "    return sv\n",
    "\n",
    "\n",
    "sta_if = network.WLAN(network.STA_IF)\n",
    "sta_if.active(True)\n",
    "\n",
    "sta_if.connect(wifiname, wifipassword)\n",
    "while not sta_if.isconnected():\n",
    "    time.sleep(0.1)\n",
    "print(\"connected to wifi\")\n",
    "\n",
    "from umqtt.robust import MQTTClient\n",
    "client = MQTTClient(\"slider\", mqttbroker, 1883)\n",
    "for i in range(100):\n",
    "    try:\n",
    "        client.connect()\n",
    "        break\n",
    "    except OSError as e:\n",
    "        print(e)\n",
    "    gopos(100+800*(i%2))\n",
    "print(\"connected to mqtt\")\n",
    "\n",
    "import math\n",
    "tdiff = 100\n",
    "t0 = time.ticks_ms()\n",
    "xmax = None\n",
    "while True:\n",
    "    #client.check_msg()\n",
    "    k = readaccelerometer()\n",
    "    x = math.sqrt((k[0]/16384)**2 + (k[1]/16384)**2 + (k[2]/16384)**2)\n",
    "    if xmax is None or x > xmax:\n",
    "        xmax = x\n",
    "    t1 = time.ticks_ms()\n",
    "    if t1 > t0 + tdiff and xmax is not None:\n",
    "        print(xmax)\n",
    "        client.publish(b\"esp32black/maxaccel\", str(xmax))\n",
    "        xmax = None\n",
    "        t0 = t1\n"
   ]
  },
  {
   "cell_type": "code",
   "execution_count": 28,
   "metadata": {},
   "outputs": [
    {
     "name": "stdout",
     "output_type": "stream",
     "text": [
      "\u001b[34mConnecting to --port=/dev/ttyUSB1 --baud=115200 \u001b[0m\n",
      "\u001b[34mReady.\n",
      "\u001b[0m"
     ]
    }
   ],
   "source": [
    "%serialconnect"
   ]
  },
  {
   "cell_type": "code",
   "execution_count": 29,
   "metadata": {},
   "outputs": [
    {
     "name": "stdout",
     "output_type": "stream",
     "text": [
      "1.055147\n",
      "1.055616\n",
      "1.051915\n",
      "1.051115\n",
      "1.051613\n",
      "1.054821\n",
      "1.051807\n",
      "1.052601\n",
      "1.06156\n",
      "1.05594\n",
      "1.072304\n",
      "1.051569\n",
      "1.051621\n",
      "1.051699\n",
      "1.050732\n",
      "1.050541\n",
      "1.052823\n",
      "1.050165\n",
      "1.05359\n",
      "1.054039\n",
      "1.052168\n",
      "1.054165\n",
      "1.050705\n",
      "1.051476\n",
      "1.058743\n",
      "1.053498\n",
      "1.058627\n",
      "1.051066\n",
      "1.148104\n",
      "1.103028\n",
      "\u001b[34m\n",
      "\n",
      "*** Sending Ctrl-C\n",
      "\n",
      "\u001b[0m"
     ]
    },
    {
     "name": "stderr",
     "output_type": "stream",
     "text": [
      "Traceback (most recent call last):\n",
      "  File \"<stdin>\", line 9, in <module>\n",
      "KeyboardInterrupt: \n"
     ]
    }
   ],
   "source": [
    "import math\n",
    "tdiff = 100\n",
    "t0 = time.ticks_ms()\n",
    "xmax = None\n",
    "while True:\n",
    "    #client.check_msg()\n",
    "    k = readaccelerometer()\n",
    "    x = math.sqrt((k[0]/16384)**2 + (k[1]/16384)**2 + (k[2]/16384)**2)\n",
    "    if xmax is None or x > xmax:\n",
    "        xmax = x\n",
    "    t1 = time.ticks_ms()\n",
    "    if t1 > t0 + tdiff and xmax is not None:\n",
    "        print(xmax)\n",
    "        client.publish(b\"esp32black/maxaccel\", str(xmax))\n",
    "        xmax = None\n",
    "        t0 = t1\n"
   ]
  },
  {
   "cell_type": "code",
   "execution_count": 22,
   "metadata": {},
   "outputs": [
    {
     "name": "stdout",
     "output_type": "stream",
     "text": [
      ".1.236916\n",
      "1.077793\n",
      "1.280645\n",
      "2.566551\n",
      "1.510457\n",
      ".2.716315\n",
      "1.326471\n",
      "1.583934\n",
      "1.879438\n",
      "1.076828\n",
      ".1.412082\n",
      "1.831047\n",
      "1.240406\n",
      "1.870131\n",
      "2.928581\n",
      ".2.526047\n",
      "2.580904\n",
      "1.064016\n",
      "2.879952\n",
      "3.027945\n",
      ".1.873238\n",
      "1.609989\n",
      "1.088361\n",
      "1.047129\n",
      "1.246734\n",
      ".1.044125\n",
      "1.060086\n",
      "1.054024\n",
      "1.08132\n",
      "1.057477\n",
      ".1.047776\n",
      "1.05077\n",
      "1.053168\n",
      "1.067459\n",
      "1.058892\n",
      ".1.046465\n",
      "1.047713\n",
      "1.058739\n",
      "1.049314\n",
      "1.046316\n",
      ".1.047274\n",
      "1.046779\n",
      "1.051179\n",
      "1.080276\n",
      "1.075205\n",
      ".1.069058\n",
      "1.21969\n",
      "1.056652\n",
      "1.04788\n",
      "1.054548\n",
      ".1.068817\n",
      "1.247896\n",
      "1.054233\n",
      "1.058354\n",
      "1.058458\n",
      ".\u001b[34m\n",
      "\n",
      "*** Sending Ctrl-C\n",
      "\n",
      "\u001b[0m"
     ]
    },
    {
     "name": "stderr",
     "output_type": "stream",
     "text": [
      "Traceback (most recent call last):\n",
      "  File \"<stdin>\", line 6, in <module>\n",
      "  File \"<stdin>\", line 6, in readaccelerometer\n",
      "KeyboardInterrupt: \n"
     ]
    }
   ],
   "source": [
    "import math\n",
    "tdiff = 1000\n",
    "t0 = time.ticks_ms()\n",
    "xmax = None\n",
    "while True:\n",
    "    k = readaccelerometer()\n",
    "    x = math.sqrt((k[0]/16384)**2 + (k[1]/16384)**2 + (k[2]/16384)**2)\n",
    "    if xmax is None or x > xmax:\n",
    "        xmax = x\n",
    "    t1 = time.ticks_ms()\n",
    "    if t1 > t0 + tdiff and xmax is not None:\n",
    "        client.publish(b\"esp32black/maxaccel\", str(xmax))\n",
    "        print(xmax)\n",
    "        xmax = None\n",
    "        t0 = t1\n"
   ]
  },
  {
   "cell_type": "code",
   "execution_count": null,
   "metadata": {},
   "outputs": [],
   "source": []
  },
  {
   "cell_type": "code",
   "execution_count": null,
   "metadata": {},
   "outputs": [],
   "source": []
  },
  {
   "cell_type": "code",
   "execution_count": null,
   "metadata": {},
   "outputs": [],
   "source": []
  },
  {
   "cell_type": "code",
   "execution_count": 90,
   "metadata": {},
   "outputs": [
    {
     "name": "stdout",
     "output_type": "stream",
     "text": [
      "connected to mqtt\n"
     ]
    }
   ],
   "source": [
    "from umqtt.robust import MQTTClient\n",
    "client = MQTTClient(\"slider\", mqttbroker, 1883)\n",
    "for i in range(100):\n",
    "    try:\n",
    "        client.connect()\n",
    "        break\n",
    "    except OSError as e:\n",
    "        print(e)\n",
    "    gopos(100+800*(i%2))\n",
    "print(\"connected to mqtt\")\n"
   ]
  },
  {
   "cell_type": "code",
   "execution_count": 95,
   "metadata": {},
   "outputs": [],
   "source": [
    "client.publish(b\"foo_topic\", b\"hello\")"
   ]
  },
  {
   "cell_type": "code",
   "execution_count": 105,
   "metadata": {},
   "outputs": [],
   "source": [
    "\n",
    "newpos = None\n",
    "def sub_cb(topic, msg):\n",
    "    global newpos\n",
    "    print((topic, msg))\n",
    "    try:\n",
    "        newpos = int(msg)\n",
    "    except ValueError:\n",
    "        print(\"ignore\")\n",
    "        return\n",
    "    newpos = min(1023, max(0, newpos))\n",
    "\n",
    "client.set_callback(sub_cb)\n",
    "client.subscribe(b\"slider1/msg\")\n"
   ]
  },
  {
   "cell_type": "code",
   "execution_count": 112,
   "metadata": {},
   "outputs": [
    {
     "name": "stdout",
     "output_type": "stream",
     "text": [
      "2638722\n"
     ]
    }
   ],
   "source": [
    "print(time.ticks_ms())"
   ]
  },
  {
   "cell_type": "code",
   "execution_count": 113,
   "metadata": {},
   "outputs": [
    {
     "name": "stdout",
     "output_type": "stream",
     "text": [
      "nextpos 626\n",
      "nextpos 788\n",
      "nextpos 823\n",
      ".(b'slider1/msg', b'505')\n",
      "501\n",
      "nextpos 493\n",
      "nextpos 406\n",
      "bcn_timout,ap_probe_send_start\n",
      "...............bcn_timout,ap_probe_send_start\n",
      ".............bcn_timout,ap_probe_send_start\n",
      "...........(b'slider1/msg', b'505')\n",
      "485\n",
      "nextpos 486\n",
      "nextpos 542\n",
      "bcn_timout,ap_probe_send_start\n",
      "......(b'slider1/msg', b'540')\n",
      "543\n",
      "(b'slider1/msg', b'317')\n",
      "340\n",
      "nextpos 338\n",
      "(b'slider1/msg', b'338')\n",
      "328\n",
      "nextpos 391\n",
      "(b'slider1/msg', b'391')\n",
      "391\n",
      "(b'slider1/msg', b'393')\n",
      "391\n",
      "(b'slider1/msg', b'636')\n",
      "639\n",
      "nextpos 642\n",
      "(b'slider1/msg', b'642')\n",
      "662\n",
      "nextpos 604\n",
      "(b'slider1/msg', b'604')\n",
      "603\n",
      ".(b'slider1/msg', b'603')\n",
      "604\n",
      "(b'slider1/msg', b'316')\n",
      "340\n",
      "nextpos 339\n",
      "(b'slider1/msg', b'339')\n",
      "320\n",
      "nextpos 387\n",
      "(b'slider1/msg', b'387')\n",
      "388\n",
      "(b'slider1/msg', b'389')\n",
      "388\n",
      "(b'slider1/msg', b'589')\n",
      "585\n",
      "nextpos 589\n",
      "nextpos 684\n",
      "(b'slider1/msg', b'684')\n",
      "684\n",
      "(b'slider1/msg', b'690')\n",
      "684\n",
      "(b'slider1/msg', b'283')\n",
      "276\n",
      "nextpos 273\n",
      "nextpos 161\n",
      "(b'slider1/msg', b'273')\n",
      "238\n",
      "nextpos 272\n",
      "(b'slider1/msg', b'161')\n",
      "178\n",
      "nextpos 102\n",
      "(b'slider1/msg', b'272')\n",
      "262\n",
      "nextpos 346\n",
      "(b'slider1/msg', b'102')\n",
      "94\n",
      "(b'slider1/msg', b'346')\n",
      "343\n",
      "nextpos 378\n",
      "nextpos 449\n",
      "(b'slider1/msg', b'378')\n",
      "428\n",
      "nextpos 406\n",
      "(b'slider1/msg', b'449')\n",
      "434\n",
      "(b'slider1/msg', b'406')\n",
      "442\n",
      "nextpos 456\n",
      "(b'slider1/msg', b'456')\n",
      "456\n",
      "..bcn_timout,ap_probe_send_start\n",
      "...state: 5 -> 2 (2c0)\n",
      "rm 0\n",
      "reconnect\n",
      "state: 2 -> 0 (0)\n",
      "scandone\n",
      "state: 0 -> 2 (b0)\n",
      "state: 2 -> 3 (0)\n",
      "state: 3 -> 5 (10)\n",
      "add 0\n",
      "aid 2\n",
      "cnt \n",
      "\n",
      "connected with mqtt-wifi, channel 1\n",
      "dhcp client start...\n",
      "ip:10.3.141.238,mask:255.255.255.0,gw:10.3.141.1\n",
      "..........(b'slider1/msg', b'231')\n",
      "253\n",
      "nextpos 250\n",
      "nextpos 162\n",
      "(b'slider1/msg', b'709')\n",
      "694\n",
      "nextpos 701\n",
      "nextpos 843\n",
      ".(b'slider1/msg', b'841')\n",
      "843\n",
      "(b'slider1/msg', b'456')\n",
      "463\n",
      "nextpos 464\n",
      "nextpos 348\n",
      ".nextpos 360\n",
      "nextpos 459\n",
      "nextpos 627\n",
      "nextpos 644\n",
      "nextpos 655\n",
      "nextpos 846\n",
      "nextpos 859\n",
      "nextpos 870\n",
      "nextpos 975\n",
      "nextpos 964\n",
      "nextpos 820\n",
      "nextpos 681\n",
      "nextpos 670\n",
      "nextpos 476\n",
      "nextpos 465\n",
      "nextpos 302\n",
      ".nextpos 313\n",
      "bcn_timout,ap_probe_send_start\n",
      "nextpos 494\n",
      "nextpos 514\n",
      "nextpos 525\n",
      "nextpos 632\n",
      "nextpos 643\n",
      "nextpos 727\n",
      "(b'slider1/msg', b'725')\n",
      "726\n",
      "(b'slider1/msg', b'311')\n",
      "325\n",
      "nextpos 320\n",
      "nextpos 217\n",
      ".(b'slider1/msg', b'215')\n",
      "218\n",
      "(b'slider1/msg', b'391')\n",
      "372\n",
      "nextpos 374\n",
      "nextpos 452\n",
      ".(b'slider1/msg', b'450')\n",
      "452\n",
      "(b'slider1/msg', b'163')\n",
      "159\n",
      "nextpos 156\n",
      "nextpos 37\n",
      "nextpos 48\n",
      "nextpos 237\n",
      "nextpos 374\n",
      "(b'slider1/msg', b'372')\n",
      "374\n",
      "(b'slider1/msg', b'613')\n",
      "631\n",
      "nextpos 634\n",
      "nextpos 745\n",
      "....bcn_timout,ap_probe_send_start\n",
      "....bcn_timout,ap_probe_send_start\n",
      ".......\u001b[34m\n",
      "\n",
      "*** Sending Ctrl-C\n",
      "\n",
      "\u001b[0m"
     ]
    },
    {
     "name": "stderr",
     "output_type": "stream",
     "text": [
      "Traceback (most recent call last):\n",
      "  File \"<stdin>\", line 4, in <module>\n",
      "  File \"/lib/umqtt/simple.py\", line 204, in check_msg\n",
      "  File \"/lib/umqtt/robust.py\", line 42, in wait_msg\n",
      "  File \"/lib/umqtt/robust.py\", line 40, in wait_msg\n",
      "  File \"/lib/umqtt/simple.py\", line 170, in wait_msg\n",
      "KeyboardInterrupt: \n"
     ]
    }
   ],
   "source": [
    "currpos = a.read()\n",
    "currt0 = time.ticks_ms()\n",
    "while 1:\n",
    "    client.check_msg()\n",
    "    if newpos is not None:\n",
    "        gopos(newpos)\n",
    "        newpos = None\n",
    "    nextpos = a.read()\n",
    "    t1 = time.ticks_ms()\n",
    "    if abs(nextpos - currpos) > 10 and abs(t1 - currt0) > 200:\n",
    "        print(\"nextpos\", nextpos)\n",
    "        currpos = nextpos\n",
    "        currt0 = t1\n",
    "        client.publish(b\"slider1/pos\", str(currpos).encode())\n"
   ]
  },
  {
   "cell_type": "code",
   "execution_count": null,
   "metadata": {},
   "outputs": [],
   "source": []
  },
  {
   "cell_type": "code",
   "execution_count": null,
   "metadata": {},
   "outputs": [],
   "source": []
  },
  {
   "cell_type": "code",
   "execution_count": 234,
   "metadata": {},
   "outputs": [
    {
     "name": "stdout",
     "output_type": "stream",
     "text": [
      "\u001b[31m\n",
      "\n",
      "***Connection broken [Input/output error]\n",
      "\u001b[0mYou may need to reconnect\u001b[34m\n",
      "Closing serial Serial<id=0x7fa00504b588, open=True>(port='/dev/ttyUSB3', baudrate=115200, bytesize=8, parity='N', stopbits=1, timeout=0.5, xonxoff=False, rtscts=False, dsrdtr=False)\n",
      "\u001b[0m\u001b[31mNo serial connected\n",
      "\u001b[0m  %serialconnect to connect\n",
      "  %esptool to flash the device\n",
      "  %lsmagic to list commands"
     ]
    }
   ],
   "source": [
    "\n",
    "from machine import Pin, ADC\n",
    "import time\n",
    "\n",
    "a = ADC(0)\n",
    "d5 = Pin(14, Pin.OUT)\n",
    "d6 = Pin(12, Pin.OUT)\n",
    "d7 = Pin(13, Pin.OUT)\n",
    "\n",
    "def gopos(pos):\n",
    "    for i in range(100):\n",
    "        d = (a.read() - pos)\n",
    "        if abs(d) > 40:\n",
    "            di = 1 if d < 0 else 0\n",
    "            d5.value(di)\n",
    "            d6.value(1-di)\n",
    "            d7.value(1)\n",
    "        else:\n",
    "            d7.value(0)\n",
    "            break\n",
    "        time.sleep(0.01)\n",
    "    print(a.read())\n",
    "\n",
    "import random\n",
    "while True:\n",
    "    pos = random.getrandbits(10)\n",
    "    gopos(pos)\n",
    "    time.sleep(0.5)\n"
   ]
  },
  {
   "cell_type": "code",
   "execution_count": null,
   "metadata": {},
   "outputs": [],
   "source": []
  }
 ],
 "metadata": {
  "kernelspec": {
   "display_name": "MicroPython - USB",
   "language": "micropython",
   "name": "micropython"
  },
  "language_info": {
   "codemirror_mode": "python",
   "file_extension": ".py",
   "mimetype": "text/python",
   "name": "micropython"
  }
 },
 "nbformat": 4,
 "nbformat_minor": 2
}

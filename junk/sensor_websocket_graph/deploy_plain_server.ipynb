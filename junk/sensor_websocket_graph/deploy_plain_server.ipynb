{
 "cells": [
  {
   "cell_type": "code",
   "execution_count": null,
   "metadata": {
    "collapsed": true
   },
   "outputs": [],
   "source": [
    "# This file has no websockets and just serves basic html text file\n",
    "# Use as basis for building up more complex things (eg with loops running sensors)"
   ]
  },
  {
   "cell_type": "code",
   "execution_count": 1,
   "metadata": {},
   "outputs": [
    {
     "name": "stdout",
     "output_type": "stream",
     "text": [
      "\u001b[34mConnecting to --port=/dev/ttyUSB2 --baud=115200 \u001b[0m\n",
      "\u001b[34mReady.\n",
      "\u001b[0m"
     ]
    }
   ],
   "source": [
    "%serialconnect"
   ]
  },
  {
   "cell_type": "code",
   "execution_count": null,
   "metadata": {
    "collapsed": true
   },
   "outputs": [],
   "source": [
    "# perhaps we can precompile the file below"
   ]
  },
  {
   "cell_type": "code",
   "execution_count": 2,
   "metadata": {},
   "outputs": [
    {
     "name": "stdout",
     "output_type": "stream",
     "text": [
      "Sent 190 lines (6050 bytes) to webserve_funcs.py.\n",
      "Sent 34 lines (705 bytes) to syslog.py.\n",
      "\u001b[32m%sendtofile --quiet --source ../async_web_serve/websocket_funcs.py\u001b[0m"
     ]
    }
   ],
   "source": [
    "%sendtofile --quiet --source ../async_web_serve/webserve_funcs.py\n",
    "%sendtofile --quiet --source ../basicsockets/syslog.py\n",
    "%comment %sendtofile --quiet --source ../async_web_serve/websocket_funcs.py"
   ]
  },
  {
   "cell_type": "code",
   "execution_count": 3,
   "metadata": {},
   "outputs": [
    {
     "name": "stdout",
     "output_type": "stream",
     "text": [
      "Sent 219 lines (6631 bytes) to main.py.\n"
     ]
    }
   ],
   "source": [
    "%sendtofile --source main.py\n"
   ]
  },
  {
   "cell_type": "code",
   "execution_count": 65,
   "metadata": {},
   "outputs": [
    {
     "name": "stdout",
     "output_type": "stream",
     "text": [
      "\n",
      "Closing serial Serial<id=0x7fe80a52b438, open=True>(port='/dev/ttyUSB3', baudrate=115200, bytesize=8, parity='N', stopbits=1, timeout=0.5, xonxoff=False, rtscts=False, dsrdtr=False)\n"
     ]
    }
   ],
   "source": [
    "%disconnect"
   ]
  },
  {
   "cell_type": "code",
   "execution_count": 58,
   "metadata": {},
   "outputs": [
    {
     "name": "stdout",
     "output_type": "stream",
     "text": [
      "[leftinbuffer] ['ets Jun  8 2016 00:22:57']\n",
      "[leftinbuffer] ['']\n",
      "[leftinbuffer] ['rst:0x1 (POWERON_RESET),boot:0x17 (SPI_FAST_FLASH_BOOT)']\n",
      "[leftinbuffer] ['configsip: 0, SPIWP:0xee']\n",
      "[leftinbuffer] ['clk_drv:0x00,q_drv:0x00,d_drv:0x00,cs0_drv:0x00,hd_drv:0x00,wp_drv:0x00']\n",
      "[leftinbuffer] ['mode:DIO, clock div:2']\n",
      "[leftinbuffer] ['load:0x3fff0018,len:4']\n",
      "[leftinbuffer] ['load:0x3fff001c,len:4332']\n",
      "[leftinbuffer] ['load:0x40078000,len:0']\n",
      "[leftinbuffer] ['load:0x40078000,len:10992']\n",
      "[leftinbuffer] ['entry 0x4007a6c4']\n",
      "[leftinbuffer] ['\\x1b[0;33mW (64) rtc_clk: Potentially bogus XTAL frequency: 35 MHz, guessing 40 MHz\\x1b[0m']\n",
      "[leftinbuffer] ['OSError: [Errno 2] ENOENT']\n",
      "[leftinbuffer] ['MicroPython v1.9.2-443-g236297f4 on 2017-11-06; ESP32 module with ESP32']\n",
      "[leftinbuffer] ['Type \"help()\" for more information.']\n",
      "[leftinbuffer] ['>>> ']\n",
      "repl is in normal command mode\n",
      "[\\r\\x03\\x03] b'\\r\\n>>> \\r\\n>>> \\r\\nMicroPython v1.9.2-443-g236297f4 on 2017-11-06; ESP32 module with ESP32\\r\\nType \"help()\" for more information.\\r\\n>>> \\r\\n>>> \\r\\nPYB: soft reboot\\r\\nOSError: [Errno 2] ENOENT\\r\\nMicroPython v1.9.2-443-g236297f4 on 2017-11-06; ESP32 module with ESP32\\r\\nType \"help()\" for more information.\\r\\n>>> \\r\\n>>> \\r\\n>>> \\r\\n>>> \\r\\n>>> '\n",
      "[\\r\\x01] b'\\r\\n>>> \\r\\nraw REPL; CTRL-B to exit\\r\\n>'"
     ]
    }
   ],
   "source": [
    "%rebootdevice"
   ]
  },
  {
   "cell_type": "code",
   "execution_count": 7,
   "metadata": {},
   "outputs": [
    {
     "name": "stdout",
     "output_type": "stream",
     "text": [
      "\u001b[32mWriting main.py\n",
      "\n",
      "\u001b[0m"
     ]
    }
   ],
   "source": [
    "%%writefile main.py\n",
    "\n",
    "import time\n",
    "time.sleep(1.0)\n",
    "\n",
    "#from connectwifi import ipnumber\n",
    "from connecthotspot import ipnumber\n",
    "\n"
   ]
  },
  {
   "cell_type": "code",
   "execution_count": 8,
   "metadata": {},
   "outputs": [
    {
     "name": "stdout",
     "output_type": "stream",
     "text": [
      "\u001b[32mAppending to main.py\n",
      "\n",
      "\u001b[0m"
     ]
    }
   ],
   "source": [
    "%%writefile --append main.py\n",
    "\n",
    "from webserve_funcs import servestaticfile\n",
    "from webserve_funcs import servefilelist\n",
    "from webserve_funcs import readhttpheaders\n",
    "from webserve_funcs import servemessage\n",
    "\n",
    "#from vl6180_funcs import init1, init2, set_reg8, get_reg8, distmm\n",
    "#from ms5611_funcs import setupms5611, aMS5611read\n"
   ]
  },
  {
   "cell_type": "code",
   "execution_count": 9,
   "metadata": {},
   "outputs": [
    {
     "name": "stdout",
     "output_type": "stream",
     "text": [
      "\u001b[32mAppending to main.py\n",
      "\n",
      "\u001b[0m"
     ]
    }
   ],
   "source": [
    "%%writefile --append main.py\n",
    "\n",
    "# Optional file writing of humidity\n",
    "\n",
    "import uasyncio\n",
    "import time, ustruct\n",
    "from si7021_funcs import setupSI7021, SI7021humiditytemp, DewpointTemperature, aSI7021humiditytemp\n",
    "\n",
    "nfiles, nvals, nsleep = 10, 10000, 500\n",
    "#nfiles, nvals, nsleep = 4, 50, 20\n",
    "bstop = False\n",
    "async def humiditything():\n",
    "    setupSI7021()\n",
    "    for i in range(nfiles):\n",
    "        print(\"starting\", i)\n",
    "        t0 = time.ticks_ms()\n",
    "        fout = open(\"dat/ht%d.bin\"%int(t0//1000), \"wb\")\n",
    "        for j in range(nvals):\n",
    "            await uasyncio.sleep_ms(500)\n",
    "            h, temp = await aSI7021humiditytemp(uasyncio)\n",
    "            t = time.ticks_ms()\n",
    "            fout.write(ustruct.pack(\"<HH\", t-t0, int(temp*100)))\n",
    "            t0 = t\n",
    "            if bstop:\n",
    "                break\n",
    "            if (j%20) == 19:\n",
    "                fout.flush()\n",
    "        fout.close()\n",
    "        if bstop:\n",
    "            break\n",
    "    print(\"Done humidity thing\")\n",
    "\n",
    "import os\n",
    "def cleardatdir():\n",
    "    for l in os.listdir(\"dat\"):\n",
    "        os.remove(\"dat/\"+l)"
   ]
  },
  {
   "cell_type": "code",
   "execution_count": 10,
   "metadata": {},
   "outputs": [
    {
     "name": "stdout",
     "output_type": "stream",
     "text": [
      "\u001b[32mAppending to main.py\n",
      "\n",
      "\u001b[0m"
     ]
    }
   ],
   "source": [
    "%%writefile --append main.py\n",
    "\n",
    "import os, uasyncio\n",
    "async def handleconnection(reader, writer):\n",
    "    receivedrequest = await readhttpheaders(reader)\n",
    "    rpath = receivedrequest.get(\"GET\")\n",
    "    print(receivedrequest)\n",
    "    \n",
    "    bcallaclose = True\n",
    "    if rpath == \"\":\n",
    "        await servefilelist(writer)\n",
    "    elif rpath == \"go\":\n",
    "        cleardatdir()\n",
    "        loop.create_task(humiditything())\n",
    "        await servemessage(writer, \"got humid\")\n",
    "    elif rpath:\n",
    "        await servestaticfile(writer, rpath)\n",
    "        \n",
    "    if bcallaclose:\n",
    "        await writer.aclose()\n"
   ]
  },
  {
   "cell_type": "code",
   "execution_count": 11,
   "metadata": {},
   "outputs": [
    {
     "name": "stdout",
     "output_type": "stream",
     "text": [
      "\u001b[32mAppending to main.py\n",
      "\n",
      "\u001b[0m"
     ]
    }
   ],
   "source": [
    "%%writefile --append main.py\n",
    "\n",
    "import uasyncio\n",
    "uasyncio.set_debug(0)\n",
    "\n",
    "# enables rewriting handleconnection function without restarting\n",
    "def handleconnection_indirect(reader, writer):\n",
    "    try:\n",
    "        return handleconnection(reader, writer)\n",
    "    except OSError as e:\n",
    "        print(\"handleconnection exception\", str(e))\n",
    "    \n",
    "port = 80\n",
    "loop = uasyncio.get_event_loop()\n",
    "print(\"Will running on http://%s:%s/\" % (ipnumber, port))\n",
    "loop.create_task(uasyncio.start_server(handleconnection_indirect, ipnumber, port))\n"
   ]
  },
  {
   "cell_type": "code",
   "execution_count": 12,
   "metadata": {},
   "outputs": [
    {
     "name": "stdout",
     "output_type": "stream",
     "text": [
      "\u001b[32mAppending to main.py\n",
      "\n",
      "\u001b[0m"
     ]
    }
   ],
   "source": [
    "%%writefile --append main.py\n",
    "loop.run_forever()\n"
   ]
  },
  {
   "cell_type": "code",
   "execution_count": 15,
   "metadata": {},
   "outputs": [
    {
     "name": "stdout",
     "output_type": "stream",
     "text": [
      "Connecting to Serial /dev/ttyUSB2 baud=115200 \n",
      "ets Jun  8 2016 00:22:57\n",
      "\n",
      "rst:0x1 (POWERON_RESET),boot:0x17 (SPI_FAST_FLASH_BOOT)\n",
      "configsip: 0, SPIWP:0xee\n",
      "clk_drv:0x00,q_drv:0x00,d_drv:0x00,cs0_drv:0x00,hd_drv:0x00,wp_drv:0x00\n",
      "mode:DIO, clock div:2\n",
      "load:0x3fff0018,len:4\n",
      "load:0x3fff001c,len:4332\n",
      "load:0x40078000,len:0\n",
      "load:0x40078000,len:10992\n",
      "entry 0x4007a6c4\n",
      "\u001b[0;33mW (64) rtc_clk: Potentially bogus XTAL frequency: 35 MHz, guessing 40 MHz\u001b[0m\n",
      "\u001b[0;32mI (543) network: event 13\u001b[0m\n",
      "Creating access point ESP_0e3acd\n",
      "Device has ipnumber 192.168.4.1\n",
      "\n",
      "\n",
      "*** Sending Ctrl-C\n",
      "\n",
      "Traceback (most recent call last):\n",
      "  File \"main.py\", line 67, in <module>\n",
      "  File \"/lib/uasyncio/__init__.py\", line 13, in set_debug\n",
      "KeyboardInterrupt: \n",
      "MicroPython v1.9.2-443-g236297f4 on 2017-11-06; ESP32 module with ESP32\n",
      "Type \"help()\" for more information.\n",
      ">>> \n",
      ">>>[reboot detected 0]repl is in normal command mode\n",
      "[\\r\\x03\\x03] b'\\r\\n>>> \\r\\n>>> \\r\\n>>> '\n",
      "[\\r\\x01] b'\\r\\n>>> \\r\\nraw REPL; CTRL-B to exit\\r\\n>' "
     ]
    }
   ],
   "source": [
    "%serialconnect"
   ]
  },
  {
   "cell_type": "code",
   "execution_count": 16,
   "metadata": {},
   "outputs": [
    {
     "name": "stdout",
     "output_type": "stream",
     "text": [
      "Sent 82 lines (2380 bytes) to main.py.\n"
     ]
    }
   ],
   "source": [
    "%sendtofile --source main.py"
   ]
  },
  {
   "cell_type": "code",
   "execution_count": 57,
   "metadata": {
    "collapsed": true
   },
   "outputs": [],
   "source": [
    "cleardatdir()"
   ]
  },
  {
   "cell_type": "code",
   "execution_count": 69,
   "metadata": {
    "collapsed": true
   },
   "outputs": [],
   "source": [
    "cleardatdir()\n",
    "loop.create_task(humiditything())\n"
   ]
  },
  {
   "cell_type": "code",
   "execution_count": 70,
   "metadata": {},
   "outputs": [
    {
     "name": "stdout",
     "output_type": "stream",
     "text": [
      "starting 0\n",
      ".[] serving file list\n",
      ".[] serving file list\n",
      "[] serving file list\n",
      ".[] serving file list\n",
      "..starting 1\n",
      ".....starting 2\n",
      "......starting 3\n",
      ".....Done humidity thing\n",
      "..............................................................\n",
      "\n",
      "*** Sending Ctrl-C\n",
      "\n"
     ]
    },
    {
     "name": "stderr",
     "output_type": "stream",
     "text": [
      "Traceback (most recent call last):\n",
      "  File \"<stdin>\", line 1, in <module>\n",
      "  File \"/lib/uasyncio/core.py\", line 77, in run_forever\n",
      "  File \"/lib/uasyncio/__init__.py\", line 69, in wait\n",
      "KeyboardInterrupt: \n"
     ]
    }
   ],
   "source": [
    "loop.run_forever()\n"
   ]
  },
  {
   "cell_type": "code",
   "execution_count": 8,
   "metadata": {},
   "outputs": [
    {
     "name": "stdout",
     "output_type": "stream",
     "text": [
      "object <module 'uasyncio' from '/lib/uasyncio/__init__.py'> is of type module\n",
      "  _socket -- <module 'usocket'>\n",
      "  StopLoop -- <class 'StopLoop'>\n",
      "  EventLoop -- <class 'EventLoop'>\n",
      "  start_server -- <generator>\n",
      "  IORead -- <class 'IORead'>\n",
      "  sleep -- <generator>\n",
      "  IOWriteDone -- <class 'IOWriteDone'>\n",
      "  ensure_future -- <function ensure_future at 0x3ffb77e0>\n",
      "  set_debug -- <function set_debug at 0x3ffb6600>\n",
      "  sleep_ms -- <SleepMs object at 3ffb79c0>\n",
      "  utimeq -- <module 'utimeq'>\n",
      "  __file__ -- /lib/uasyncio/__init__.py\n",
      "  SleepMs -- <class 'SleepMs'>\n",
      "  IOReadDone -- <class 'IOReadDone'>\n",
      "  coroutine -- <function coroutine at 0x3ffb79e0>\n",
      "  core -- <module 'uasyncio.core' from '/lib/uasyncio/core.py'>\n",
      "  type_gen -- <class 'generator'>\n",
      "  SysCall1 -- <class 'SysCall1'>\n",
      "  SysCall -- <class 'SysCall'>\n",
      "  select -- <module 'uselect'>\n",
      "  DEBUG -- 0\n",
      "  __name__ -- uasyncio\n",
      "  __path__ -- /lib/uasyncio\n",
      "  StreamWriter -- <class 'StreamWriter'>\n",
      "  uasyncio -- <module 'uasyncio' from '/lib/uasyncio/__init__.py'>\n",
      "  StreamReader -- <class 'StreamReader'>\n",
      "  IOWrite -- <class 'IOWrite'>\n",
      "  log -- None\n",
      "  get_event_loop -- <function get_event_loop at 0x3ffb7630>\n",
      "  time -- <module 'utime'>\n",
      "  PollEventLoop -- <class 'PollEventLoop'>\n",
      "  Task -- <function Task at 0x3ffb7810>\n",
      "  open_connection -- <generator>\n",
      "  uerrno -- <module 'uerrno'>\n"
     ]
    }
   ],
   "source": []
  },
  {
   "cell_type": "code",
   "execution_count": 34,
   "metadata": {},
   "outputs": [
    {
     "name": "stderr",
     "output_type": "stream",
     "text": [
      "Traceback (most recent call last):\n",
      "  File \"<stdin>\", line 8\n",
      "SyntaxError: invalid syntax\n"
     ]
    }
   ],
   "source": [
    "import time\n",
    "try:\n",
    "    1/0\n",
    "    \n",
    "except Exception as e:\n",
    "    print([e])\n",
    "    sys.print_exception(e)\n",
    "    print(instanceOf(Exception))\n",
    "#raise\n",
    "import sys\n"
   ]
  },
  {
   "cell_type": "code",
   "execution_count": 39,
   "metadata": {
    "collapsed": true
   },
   "outputs": [],
   "source": [
    "fout = open(\"test.txt\", \"w\")\n",
    "sys.print_exception(\"ggg\", fout)\n",
    "fout.close()"
   ]
  },
  {
   "cell_type": "code",
   "execution_count": 40,
   "metadata": {},
   "outputs": [
    {
     "name": "stdout",
     "output_type": "stream",
     "text": [
      "[\"'ggg'\\n\"]\r\n"
     ]
    }
   ],
   "source": [
    "print([open(\"test.txt\").read()])"
   ]
  },
  {
   "cell_type": "code",
   "execution_count": null,
   "metadata": {
    "collapsed": true
   },
   "outputs": [],
   "source": []
  }
 ],
 "metadata": {
  "kernelspec": {
   "display_name": "MicroPython - USB",
   "language": "micropython",
   "name": "micropython"
  },
  "language_info": {
   "codemirror_mode": "python",
   "file_extension": ".py",
   "mimetype": "text/python",
   "name": "micropython"
  }
 },
 "nbformat": 4,
 "nbformat_minor": 2
}

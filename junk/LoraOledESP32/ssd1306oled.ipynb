{
 "cells": [
  {
   "cell_type": "code",
   "execution_count": 1,
   "metadata": {},
   "outputs": [
    {
     "name": "stdout",
     "output_type": "stream",
     "text": [
      "\u001b[34mConnecting to --port=/dev/ttyUSB1 --baud=115200 \u001b[0m\n",
      "\u001b[34mReady.\n",
      "\u001b[0m"
     ]
    }
   ],
   "source": [
    "%serialconnect"
   ]
  },
  {
   "cell_type": "code",
   "execution_count": 2,
   "metadata": {},
   "outputs": [
    {
     "name": "stdout",
     "output_type": "stream",
     "text": [
      "Sent 168 lines (5477 bytes) to ssd1306.py.\n"
     ]
    }
   ],
   "source": [
    "%sendtofile --source ssd1306.py\n"
   ]
  },
  {
   "cell_type": "code",
   "execution_count": 2,
   "metadata": {
    "collapsed": true
   },
   "outputs": [],
   "source": [
    "#https://forum.micropython.org/viewtopic.php?f=18&p=23080\n",
    "from machine import I2C, Pin\n",
    "import ssd1306\n",
    "\n",
    "rst = Pin(16, Pin.OUT)\n",
    "rst.value(1)\n",
    "scl = Pin(15, Pin.OUT, Pin.PULL_UP)\n",
    "sda = Pin(4, Pin.OUT, Pin.PULL_UP)\n",
    "i2c = I2C(scl=scl, sda=sda, freq=450000)\n",
    "o = ssd1306.SSD1306_I2C(128, 64, i2c, addr=0x3c)\n",
    "\n",
    "o.fill(0)\n",
    "o.text('ESP32', 45, 5)\n",
    "o.text('Micro Alex Python', 20, 20)\n",
    "o.show() "
   ]
  },
  {
   "cell_type": "code",
   "execution_count": 7,
   "metadata": {},
   "outputs": [
    {
     "name": "stdout",
     "output_type": "stream",
     "text": [
      "object <FrameBuffer> is of type FrameBuffer\n",
      "  fill -- <function>\n",
      "  fill_rect -- <function>\n",
      "  pixel -- <function>\n",
      "  hline -- <function>\n",
      "  vline -- <function>\n",
      "  rect -- <function>\n",
      "  line -- <function>\n",
      "  blit -- <function>\n",
      "  scroll -- <function>\n",
      "  text -- <function>\n"
     ]
    }
   ],
   "source": [
    "help(o.framebuf)"
   ]
  },
  {
   "cell_type": "code",
   "execution_count": 13,
   "metadata": {},
   "outputs": [
    {
     "name": "stdout",
     "output_type": "stream",
     "text": [
      "\u001b[0;33mW (569481) phy_init: failed to load RF calibration data (0x1102), falling back to full calibration\u001b[0m\r\n"
     ]
    }
   ],
   "source": [
    "import network\n",
    "si = network.WLAN(network.STA_IF)\n"
   ]
  },
  {
   "cell_type": "code",
   "execution_count": 17,
   "metadata": {},
   "outputs": [
    {
     "name": "stdout",
     "output_type": "stream",
     "text": [
      "object <WLAN> is of type WLAN\n",
      "  active -- <function>\n",
      "  connect -- <function>\n",
      "  disconnect -- <function>\n",
      "  status -- <function>\n",
      "  scan -- <function>\n",
      "  isconnected -- <function>\n",
      "  config -- <function>\n",
      "  ifconfig -- <function>\n"
     ]
    }
   ],
   "source": [
    "si.active(True)\n",
    "help(si)\n",
    "x = si.scan()"
   ]
  },
  {
   "cell_type": "code",
   "execution_count": 18,
   "metadata": {},
   "outputs": [
    {
     "name": "stdout",
     "output_type": "stream",
     "text": [
      "[(b'The Sensible Code Company', b'\\xe4\\xf4\\xc6\\x1dl\\xf2', 12, -55, 3, False), (b'BluPrintWIFI', b'\\x00\\x1d\\xaa\\x19\\xf6\\xa0', 11, -65, 4, False), (b'BluPrint-GuestWifi', b'\\x02\\x1d\\xaa\\x18\\xf6\\xa0', 11, -67, 0, False), (b'DIRECT-vMC1860 Series', b'2\\xcd\\xa7*h\\xbf', 11, -68, 3, False), (b'LSP Guest WIFI ', b'\\x00\\x04\\x96\\x89s\\xc1', 6, -74, 4, False), (b'WiFi Secure', b'\\x00\\x04\\x96\\x89s\\xc4', 6, -75, 5, False), (b'LSP Studio WiFi', b'\\x00\\x04\\x96\\x89s\\xc0', 6, -75, 4, False), (b'WiFi MAC', b'\\x00\\x04\\x96\\x89s\\xc5', 6, -75, 0, False), (b'LJMUsetup', b'\\xf4\\x1f\\xc2\\xe7\\x80\\x00', 11, -81, 0, False), (b'rcrain-timemachine', b'lp\\x9f\\xdd_\\x84', 6, -82, 3, False), (b'mirror', b'\\xf4\\x1f\\xc2\\xe7\\x80\\x06', 11, -82, 3, False), (b'IoT', b'\\xf4\\x1f\\xc2\\xe7\\x80\\x05', 11, -82, 4, False), (b'loanlap', b'\\xf4\\x1f\\xc2\\xe7\\x80\\x04', 11, -82, 0, False), (b'scan', b'\\xf4\\x1f\\xc2\\xe7\\x80\\x02', 11, -82, 4, False), (b'eduroam', b'\\xf4\\x1f\\xc2\\xe7\\x80\\x01', 11, -82, 5, False), (b'LJMU_Guest', b'\\xf4\\x1f\\xc2\\xe7\\x80\\x07', 11, -82, 0, False), (b'legacy', b'\\xf4\\x1f\\xc2\\xe7\\x80\\x03', 11, -82, 0, False), (b'TP-LINK_96CE38', b'\\x0c\\x82h\\x96\\xce8', 1, -83, 4, False), (b'\\xef\\xa3\\xbf AMRS', b'\\x10\\x9a\\xdd\\x83\\x17K', 6, -84, 3, False), (b'Aspirate n Go', b'46;\\xbc\\xb1\\x96', 11, -85, 3, False), (b'LJMU_Guest', b'\\xf4\\x1f\\xc2\\xe7\\x8aG', 1, -86, 0, False), (b'IoT', b'\\xf4\\x1f\\xc2\\xe7\\x8aE', 1, -86, 4, False), (b'legacy', b'\\xf4\\x1f\\xc2\\xe7\\x8aC', 1, -87, 0, False)]\r\n"
     ]
    }
   ],
   "source": []
  },
  {
   "cell_type": "code",
   "execution_count": 51,
   "metadata": {},
   "outputs": [
    {
     "name": "stdout",
     "output_type": "stream",
     "text": [
      "-55 b'The Sensible Code Company'\n",
      "-65 b'BluPrintWIFI'\n",
      "-67 b'BluPrint-GuestWifi'\n",
      "-68 b'DIRECT-vMC1860 Series'\n",
      "-74 b'LSP Guest WIFI '\n",
      "-75 b'WiFi Secure'\n",
      "-75 b'LSP Studio WiFi'\n",
      "-75 b'WiFi MAC'\n",
      "-81 b'LJMUsetup'\n",
      "-82 b'rcrain-timemachine'\n",
      "-82 b'mirror'\n",
      "-82 b'IoT'\n",
      "-82 b'loanlap'\n",
      "-82 b'scan'\n",
      "-82 b'eduroam'\n",
      "-82 b'LJMU_Guest'\n",
      "-82 b'legacy'\n",
      "-83 b'TP-LINK_96CE38'\n",
      "-84 b'\\xef\\xa3\\xbf AMRS'\n",
      "-85 b'Aspirate n Go'\n",
      "-86 b'LJMU_Guest'\n",
      "-86 b'IoT'\n",
      "-87 b'legacy'\n"
     ]
    }
   ],
   "source": [
    "for w in x:\n",
    "    print(w[3], w[0])\n"
   ]
  },
  {
   "cell_type": "code",
   "execution_count": 57,
   "metadata": {},
   "outputs": [
    {
     "name": "stdout",
     "output_type": "stream",
     "text": [
      "[b'The Sensible Code Company', b'BluPrintWIFI', b'BluPrint-GuestWifi', b'DIRECT-vMC1860 Series', b'LSP Guest WIFI ', b'WiFi Secure', b'LSP Studio WiFi', b'WiFi MAC', b'LJMUsetup', b'rcrain-timemachine', b'mirror', b'IoT', b'loanlap', b'scan', b'eduroam', b'LJMU_Guest', b'legacy', b'TP-LINK_96CE38', b'\\xef\\xa3\\xbf AMRS', b'Aspirate n Go', b'LJMU_Guest', b'IoT', b'legacy']\r\n"
     ]
    }
   ],
   "source": [
    "ww = [ ]\n",
    "for w in x:\n",
    "    ww.append(w[0])\n",
    "\n",
    "print(ww)"
   ]
  },
  {
   "cell_type": "code",
   "execution_count": 63,
   "metadata": {},
   "outputs": [
    {
     "name": "stdout",
     "output_type": "stream",
     "text": [
      "[b'LSP Guest WIFI ', b'TP-LINK_96CE38', b'WiFi MAC', b'BluPrintWIFI', b'\\xef\\xa3\\xbf AMRS', b'IoT', b'IoT', b'rcrain-timemachine', b'WiFi Secure', b'BluPrint-GuestWifi', b'LSP Studio WiFi', b'eduroam', b'scan', b'Aspirate n Go', b'LJMUsetup', b'loanlap', b'mirror', b'DIRECT-vMC1860 Series', b'LJMU_Guest', b'LJMU_Guest', b'The Sensible Code Company', b'legacy', b'legacy']\r\n"
     ]
    }
   ],
   "source": [
    "def ll(w):\n",
    "    return w[-1]\n",
    "\n",
    "ww.sort(key=ll)\n",
    "print(ww)"
   ]
  },
  {
   "cell_type": "code",
   "execution_count": 65,
   "metadata": {},
   "outputs": [
    {
     "name": "stdout",
     "output_type": "stream",
     "text": [
      "True\r\n"
     ]
    }
   ],
   "source": [
    "print(\"A\"<\"a\")"
   ]
  },
  {
   "cell_type": "code",
   "execution_count": 38,
   "metadata": {},
   "outputs": [
    {
     "name": "stdout",
     "output_type": "stream",
     "text": [
      "{'aaa': 'bbb', 777: 3, 'sss': 9, (9, 8): 999}\r\n"
     ]
    }
   ],
   "source": [
    "b = { \"sss\":9, 777:3, \"aaa\":\"bbb\"}\n",
    "b[(9,8)] = 999\n",
    "print(b)\n"
   ]
  },
  {
   "cell_type": "code",
   "execution_count": 45,
   "metadata": {},
   "outputs": [
    {
     "name": "stdout",
     "output_type": "stream",
     "text": [
      "{'sss': 9, (10, 11): 666, 777: 3, 'aaa': 'bbb', (9, 8): 999}\r\n"
     ]
    }
   ],
   "source": [
    "v = (10,11)\n",
    "b[v] = 666\n",
    "print(b)"
   ]
  },
  {
   "cell_type": "code",
   "execution_count": 30,
   "metadata": {},
   "outputs": [
    {
     "name": "stdout",
     "output_type": "stream",
     "text": [
      "('aaa', 7, [99, 'ooo', ('aaa', 7, [99, 'ooo', ('aaa', 7, [99, 'ooo', ('aaa', 7, [99, 'ooo', ('aaa', 7, [99, 'ooo', ('aaa', 7, [99, 'ooo', ('aaa', 7, [99, 'ooo', ('aaa', 7, [99, 'ooo', ('aaa', 7, [99, 'ooo', ('aaa', 7, [99, 'ooo', ('aaa', 7, [99, 'ooo', ('aaa', 7, [99, 'ooo', ('aaa', 7, [99, 'ooo', ('aaa', 7, [99, 'ooo', ('aaa', 7, [99, 'ooo', ('aaa', 7, [99, 'ooo', ('aaa', 7, [99, 'ooo', ('aaa', 7, [99, 'ooo', ('aaa', 7, [99, 'ooo', ('aaa', 7, [99, 'ooo', ('aaa', 7, [99, 'ooo', ('aaa', 7, [99, 'ooo', ('aaa', 7, [99, 'ooo', ('aaa', 7, [99, 'ooo', ('aaa', 7, [99, 'ooo', ('aaa', 7, [99, 'ooo', ('aaa', 7, [99, 'ooo', ('aaa', 7, [99, 'ooo', ('aaa', 7, [99, 'ooo', ('aaa', 7, [99, 'ooo', ('aaa', 7, [99, 'ooo', ('aaa', 7, [99, 'ooo', ('aaa', 7, [99, 'ooo', ('aaa', 7, [99, 'ooo', ('aaa', 7, [99, 'ooo', ('aaa', 7, [99, 'ooo', ('aaa', 7, [99, 'ooo', ('aaa', 7, [99, 'ooo', ('aaa', 7, [99, 'ooo', ('aaa', 7, [99, 'ooo', ('aaa', 7, [99, 'ooo', ('aaa', 7, [99, 'ooo', ('aaa', 7, [99, 'ooo', ('aaa', 7, [99, 'ooo', ('aaa', 7, [99, 'ooo', ('aaa', 7, [99, 'ooo', ('aaa', 7, [99, 'ooo', ('aaa', 7, [99, 'ooo', ('aaa', 7, [99, 'ooo', ('aaa', 7, [99, 'ooo', ('aaa', 7, [99, 'ooo', ('aaa', 7, [99, 'ooo', ('aaa', 7, [99, 'ooo', ('aaa', 7, [99, 'ooo', ('aaa', 7, [99, 'ooo', ('aaa', 7, [99, 'ooo', ('aaa', 7, [99, 'ooo', ('aaa', 7, [99, 'ooo', ('aaa', 7, [99, 'ooo', ('aaa', 7, [99, 'ooo', ('aaa', 7, [99, 'ooo', ('aaa', 7, [99, 'ooo', ('aaa', 7, [99, 'ooo', ('aaa', 7, [99, 'ooo', ('aaa', 7, [99, 'ooo', ('aaa', 7, [99, 'ooo', ('aaa', 7, [99, 'ooo', ('aaa', 7, [99, 'ooo', ('aaa', 7, [99, 'ooo', ('aaa', 7, [99, 'ooo', ('aaa', 7, [99, 'ooo', ('aaa', 7, [99, 'ooo', ('aaa', 7, [99, 'ooo', ('aaa', 7, [99, 'ooo', ('aaa', 7, [99, 'ooo', ('aaa', 7, [99, 'ooo', ('aaa', 7, [99, 'ooo', ('aaa', 7, [99, 'ooo', ('aaa', 7, [99, 'ooo', ('aaa', 7, [99, 'ooo', ('aaa', 7, [99, 'ooo', ('aaa', 7, [99, 'ooo', ('aaa', 7, [99, 'ooo', ('aaa', 7, [99, 'ooo', ('aaa', 7, [99, 'ooo', ('aaa', 7, [99, 'ooo', ('aaa', 7, [99, 'ooo', ('aaa', 7, [99, 'ooo', ('aaa', 7, [99, 'ooo', ('aaa', 7, [99, 'ooo', ('aaa', 7, [99, 'ooo', ('aaa', 7, [99, 'ooo', ('aaa', 7, [99, 'ooo', ('aaa', 7, [99, 'ooo', ('aaa', 7, [99, 'ooo', ('aaa', 7, [99, 'ooo', ('aaa', 7, [99, 'ooo', ('aaa', 7, [99, 'ooo', ('aaa', 7, [99, 'ooo', ('aaa', 7, [99, 'ooo', ('aaa', 7, [99, 'ooo', ('aaa', 7, [99, 'ooo', ('aaa', 7, [99, 'ooo', ('aaa', 7, [99, 'ooo', ('aaa', 7, [99, 'ooo', ('aaa', 7, [99, 'ooo', ('aaa', 7, [99, 'ooo', ('aaa', 7, [99, 'ooo', ('aaa', 7, [99, 'ooo', ('aaa', 7, [99, 'ooo', ('aaa', 7, [99, 'ooo', ('aaa', 7, [99, 'ooo', ('aaa', 7, [99, 'ooo', ('aaa', 7, ["
     ]
    },
    {
     "name": "stderr",
     "output_type": "stream",
     "text": [
      "Traceback (most recent call last):\n",
      "  File \"<stdin>\", line 1, in <module>\n",
      "RuntimeError: maximum recursion depth exceeded\n"
     ]
    }
   ],
   "source": [
    "a = []"
   ]
  },
  {
   "cell_type": "code",
   "execution_count": 11,
   "metadata": {
    "collapsed": true
   },
   "outputs": [],
   "source": [
    "import network\n",
    "from syslog import log\n",
    "\n",
    "si = network.WLAN(network.STA_IF)\n",
    "macaddress = \"\".join(\"{:02x}\".format(x)  for x in si.config(\"mac\"))\n",
    "si.active(True)\n",
    "\n"
   ]
  },
  {
   "cell_type": "code",
   "execution_count": 27,
   "metadata": {
    "collapsed": true
   },
   "outputs": [],
   "source": [
    "o.fill(0)\n",
    "for i in range(128):\n",
    "    o.framebuf.fill_rect(1, 3, i, 34, 1)\n",
    "    o.show()"
   ]
  },
  {
   "cell_type": "code",
   "execution_count": 28,
   "metadata": {},
   "outputs": [
    {
     "name": "stdout",
     "output_type": "stream",
     "text": [
      "\u001b[34mattempt to exit paste mode\n",
      "\u001b[0m\u001b[34m[\\r\\x03\\x02] \u001b[0mb'\\r\\nMicroPython v1.9.3-454-g34e224a4 on 2018-03-14; ESP32 module with ESP32\\r\\nType \"help()\" for more information.\\r\\n>>> '\u001b[34m\n",
      "Closing serial Serial<id=0x7fc884a66898, open=True>(port='/dev/ttyUSB0', baudrate=115200, bytesize=8, parity='N', stopbits=1, timeout=0.5, xonxoff=False, rtscts=False, dsrdtr=False)\n",
      "\u001b[0m"
     ]
    }
   ],
   "source": [
    "%disconnect"
   ]
  },
  {
   "cell_type": "code",
   "execution_count": null,
   "metadata": {
    "collapsed": true
   },
   "outputs": [],
   "source": []
  }
 ],
 "metadata": {
  "kernelspec": {
   "display_name": "MicroPython Remote",
   "language": "micropython",
   "name": "micropython"
  },
  "language_info": {
   "codemirror_mode": "python",
   "file_extension": ".py",
   "mimetype": "text/python",
   "name": "micropython"
  }
 },
 "nbformat": 4,
 "nbformat_minor": 2
}

{
 "cells": [
  {
   "cell_type": "markdown",
   "metadata": {},
   "source": [
    "TTGO or Heltec receive any packet and display it on the OLED\n",
    "\n",
    "Depends on MicroPython for ESP32, \n",
    "and https://github.com/goatchurchprime/LightLora_MicroPython\n",
    "and ssd1306.py OLED library"
   ]
  },
  {
   "cell_type": "code",
   "execution_count": null,
   "metadata": {},
   "outputs": [
    {
     "name": "stdout",
     "output_type": "stream",
     "text": [
      "Sent 3368 bytes in 113 chunks to OLED_driver.py.\n",
      "Sent 106 lines (2864 bytes) to lib/LightLora/lorautil.py.\n"
     ]
    }
   ],
   "source": [
    "# Run this to upload the files\n",
    "%serialconnect\n",
    "%sendtofile --binary --source ../Sensor_Kennel/OLED_driver.py\n",
    "%sendtofile --mkdir --quiet --source /home/julian/extrepositories/LightLora_MicroPython/LightLora/ lib/LightLora/\n",
    "%sendtofile --quiet --source utils.py"
   ]
  },
  {
   "cell_type": "code",
   "execution_count": 15,
   "metadata": {},
   "outputs": [
    {
     "name": "stdout",
     "output_type": "stream",
     "text": [
      "Sent 56 lines (1481 bytes) to utils.py.\n"
     ]
    }
   ],
   "source": []
  },
  {
   "cell_type": "code",
   "execution_count": 17,
   "metadata": {},
   "outputs": [
    {
     "name": "stdout",
     "output_type": "stream",
     "text": [
      "\u001b[31m\n",
      "\n",
      "***Connection broken [Input/output error]\n",
      "\u001b[0mYou may need to reconnect\u001b[34m\n",
      "Closing serial Serial<id=0x7feede624cc0, open=True>(port='/dev/ttyUSB4', baudrate=115200, bytesize=8, parity='N', stopbits=1, timeout=0.5, xonxoff=False, rtscts=False, dsrdtr=False)\n",
      "\u001b[0m\u001b[34mConnecting to --port=/dev/ttyUSB3 --baud=115200 \u001b[0m\n",
      "\u001b[34mReady.\n",
      "\u001b[0m"
     ]
    }
   ],
   "source": [
    "# start here for interaction\n",
    "%serialconnect"
   ]
  },
  {
   "cell_type": "code",
   "execution_count": 7,
   "metadata": {},
   "outputs": [
    {
     "name": "stdout",
     "output_type": "stream",
     "text": [
      "............................................................\u001b[34m\n",
      "\n",
      "*** Sending Ctrl-C\n",
      "\n",
      "\u001b[0m"
     ]
    },
    {
     "name": "stderr",
     "output_type": "stream",
     "text": [
      "Traceback (most recent call last):\n",
      "  File \"<stdin>\", line 19, in <module>\n",
      "KeyboardInterrupt: \n"
     ]
    }
   ],
   "source": [
    "#%sendtofile main.py\n",
    "\n",
    "import time\n",
    "from OLED_driver import fbuff, oledshow, doublepixels, fatntext\n",
    "from lib.LightLora import lorautil, spicontrol\n",
    "lru = lorautil.LoraUtil()\n",
    "\n",
    "i = 0\n",
    "n = 0\n",
    "while True:\n",
    "    if lru.isPacketAvailable():\n",
    "        pkt = lru.readPacket()\n",
    "        fbuff.fill(0)\n",
    "        fbuff.text('d:%d s:%d n:%d' % (pkt.dstAddress, pkt.srcAddress, n), 0, 0)\n",
    "        n += 1\n",
    "        fbuff.text(pkt.msgTxt, 0, 8)\n",
    "        oledshow()\n",
    "        i = 0\n",
    "    time.sleep_ms(100)\n",
    "    i += 1\n",
    "    if (i%100) == 0:\n",
    "        fbuff.fill(0)\n",
    "        fbuff.text(\"%d\" % int(i/10), 0, 16)\n",
    "        oledshow()\n",
    "\n"
   ]
  },
  {
   "cell_type": "code",
   "execution_count": 54,
   "metadata": {
    "collapsed": true
   },
   "outputs": [],
   "source": [
    "#help(o.framebuf)\n"
   ]
  },
  {
   "cell_type": "code",
   "execution_count": 71,
   "metadata": {},
   "outputs": [
    {
     "name": "stdout",
     "output_type": "stream",
     "text": [
      "Sent 2 lines (72 bytes) to main.py.\n"
     ]
    }
   ],
   "source": []
  },
  {
   "cell_type": "code",
   "execution_count": 18,
   "metadata": {},
   "outputs": [],
   "source": [
    "import utils\n",
    "params = {  'frequency': 868100000, \n",
    "            'tx_power_level': 14, \n",
    "            'signal_bandwidth': 125E3, \n",
    "            'spreading_factor': 7, \n",
    "            'coding_rate': 5, \n",
    "            'preamble_length': 8,\n",
    "            'implicitHeader': False, \n",
    "            'sync_word': 0x34,    # from _loraModem\n",
    "            'enable_CRC': True }\n",
    "utils.MakeLora(params)\n",
    "utils.lora.init()\n"
   ]
  },
  {
   "cell_type": "code",
   "execution_count": 19,
   "metadata": {},
   "outputs": [
    {
     "name": "stdout",
     "output_type": "stream",
     "text": [
      "object <SX127x object at 3ffe4e30> is of type SX127x\n",
      "  __module__ -- LightLora.sx127x\n",
      "  writeRegister -- <function writeRegister at 0x3ffe82b0>\n",
      "  collect_garbage -- <function collect_garbage at 0x3ffe8370>\n",
      "  setPreambleLength -- <function setPreambleLength at 0x3ffe79a0>\n",
      "  standby -- <function standby at 0x3ffe7690>\n",
      "  packetRssi -- <function packetRssi at 0x3ffe7950>\n",
      "  _prepIrqHandler -- <function _prepIrqHandler at 0x3ffe7ad0>\n",
      "  sleep -- <function sleep at 0x3ffe76a0>\n",
      "  enableCRC -- <function enableCRC at 0x3ffe7a70>\n",
      "  init -- <function init at 0x3ffe75a0>\n",
      "  beginPacket -- <function beginPacket at 0x3ffe75f0>\n",
      "  onTransmit -- <function onTransmit at 0x3ffe7af0>\n",
      "  setTxPower -- <function setTxPower at 0x3ffe76c0>\n",
      "  println -- <function println at 0x3ffe7660>\n",
      "  isTxDone -- <function isTxDone at 0x3ffe75b0>\n",
      "  onReceive -- <function onReceive at 0x3ffe7ae0>\n",
      "  setFrequency -- <function setFrequency at 0x3ffe7960>\n",
      "  setSpreadingFactor -- <function setSpreadingFactor at 0x3ffe7970>\n",
      "  getIrqFlags -- <function getIrqFlags at 0x3ffe7940>\n",
      "  write -- <function write at 0x3ffe75c0>\n",
      "  __init__ -- <function __init__ at 0x3ffe7570>\n",
      "  packetSnr -- <function packetSnr at 0x3ffe7680>\n",
      "  _useParam -- <function _useParam at 0x3ffe7280>\n",
      "  receive -- <function receive at 0x3ffe7b10>\n",
      "  _handleOnReceive -- <function _handleOnReceive at 0x3ffe8130>\n",
      "  setSignalBandwidth -- <function setSignalBandwidth at 0x3ffe7980>\n",
      "  acquire_lock -- <function acquire_lock at 0x3ffe7610>\n",
      "  implicitHeaderMode -- <function implicitHeaderMode at 0x3ffe7ab0>\n",
      "  endPacket -- <function endPacket at 0x3ffe7540>\n",
      "  _handleOnTransmit -- <function _handleOnTransmit at 0x3ffe8230>\n",
      "  setCodingRate -- <function setCodingRate at 0x3ffe7990>\n",
      "  receivedPacket -- <function receivedPacket at 0x3ffe8250>\n",
      "  read_payload -- <function read_payload at 0x3ffe8270>\n",
      "  __qualname__ -- SX127x\n",
      "  dumpRegisters -- <function dumpRegisters at 0x3ffe7a90>\n",
      "  setSyncWord -- <function setSyncWord at 0x3ffe79c0>\n",
      "  readRegister -- <function readRegister at 0x3ffe8290>\n"
     ]
    }
   ],
   "source": [
    "help(utils.lora)\n"
   ]
  },
  {
   "cell_type": "code",
   "execution_count": 26,
   "metadata": {},
   "outputs": [
    {
     "name": "stdout",
     "output_type": "stream",
     "text": [
      "b''\n"
     ]
    }
   ],
   "source": [
    "print(utils.lora.read_payload())\n",
    "utils.lora.receive()\n"
   ]
  },
  {
   "cell_type": "code",
   "execution_count": 27,
   "metadata": {},
   "outputs": [
    {
     "name": "stdout",
     "output_type": "stream",
     "text": [
      "{}\n"
     ]
    }
   ],
   "source": [
    "print(utils.pkt)\n"
   ]
  },
  {
   "cell_type": "code",
   "execution_count": 26,
   "metadata": {},
   "outputs": [
    {
     "name": "stderr",
     "output_type": "stream",
     "text": [
      "Traceback (most recent call last):\n",
      "  File \"<stdin>\", line 3, in <module>\n",
      "OSError: [Errno 2] ENOENT\n"
     ]
    }
   ],
   "source": [
    "\n",
    "import os\n",
    "os.remove(\"main.py\")"
   ]
  },
  {
   "cell_type": "code",
   "execution_count": 9,
   "metadata": {},
   "outputs": [
    {
     "name": "stdout",
     "output_type": "stream",
     "text": [
      "serial exception on close write failed: [Errno 5] Input/output error\n",
      "\u001b[34mConnecting to --port=/dev/ttyUSB4 --baud=115200 \u001b[0m\n",
      "\u001b[34mReady.\n",
      "\u001b[0m"
     ]
    }
   ],
   "source": [
    "%serialconnect"
   ]
  },
  {
   "cell_type": "code",
   "execution_count": 57,
   "metadata": {},
   "outputs": [
    {
     "name": "stdout",
     "output_type": "stream",
     "text": [
      "{'tx_power_level': 5, 'signal_bandwidth': 125000.0, 'enable_CRC': True, 'spreading_factor': 7, 'coding_rate': 5}\n"
     ]
    }
   ],
   "source": [
    "print(l.parameters)\n"
   ]
  },
  {
   "cell_type": "code",
   "execution_count": 10,
   "metadata": {},
   "outputs": [],
   "source": [
    "from lib.LightLora import lorautil, spicontrol\n",
    "import lib.LightLora\n",
    "lru = lorautil.LoraUtil()\n",
    "s = lib.LightLora.lorautil.sx127x"
   ]
  },
  {
   "cell_type": "code",
   "execution_count": 11,
   "metadata": {},
   "outputs": [
    {
     "name": "stdout",
     "output_type": "stream",
     "text": [
      "<LoraUtil object at 3ffe63f0>\n",
      "<SX127x object at 3ffe9200>\n"
     ]
    }
   ],
   "source": [
    "print(lru)\n",
    "l = lru.lora\n",
    "print(l)"
   ]
  },
  {
   "cell_type": "code",
   "execution_count": 21,
   "metadata": {
    "collapsed": true
   },
   "outputs": [],
   "source": []
  },
  {
   "cell_type": "code",
   "execution_count": 13,
   "metadata": {},
   "outputs": [
    {
     "name": "stdout",
     "output_type": "stream",
     "text": [
      "0x42\n"
     ]
    }
   ],
   "source": [
    "print(hex(s.REG_VERSION))\n"
   ]
  },
  {
   "cell_type": "code",
   "execution_count": 12,
   "metadata": {},
   "outputs": [
    {
     "name": "stdout",
     "output_type": "stream",
     "text": [
      "18\n"
     ]
    }
   ],
   "source": [
    "print(l.readRegister(s.REG_VERSION))\n"
   ]
  },
  {
   "cell_type": "code",
   "execution_count": 46,
   "metadata": {},
   "outputs": [
    {
     "name": "stdout",
     "output_type": "stream",
     "text": [
      "7 \n"
     ]
    }
   ],
   "source": [
    "print(\"{:d} \".format(7))\n"
   ]
  },
  {
   "cell_type": "code",
   "execution_count": 14,
   "metadata": {},
   "outputs": [
    {
     "name": "stdout",
     "output_type": "stream",
     "text": [
      "00: 7f 85 1a 0b 00 52 d9 06\n",
      "08: 66 83 09 2b 23 01 00 00\n",
      "10: 00 00 00 00 00 00 00 00\n",
      "18: 04 00 00 43 00 72 74 64\n",
      "20: 00 08 01 ff 00 00 04 00\n",
      "28: 00 00 00 00 09 50 14 45\n",
      "30: 55 c3 05 27 1c 0a 03 0a\n",
      "38: 42 34 49 1d 00 af 00 00\n",
      "40: 00 00 12 24 2d 00 03 00\n",
      "48: 04 23 00 09 05 84 32 2b\n",
      "50: 14 00 00 10 00 00 00 0f\n",
      "58: e0 00 0c 00 07 00 5c 78\n",
      "60: 00 1c 0e 5b cc 00 01 50\n",
      "68: 00 00 00 00 00 00 00 0b\n",
      "70: d0 00 10 00 00 00 00 00\n",
      "78: 00 00 00 00 00 00 00 00\n"
     ]
    }
   ],
   "source": [
    "for i in range(0, 128, 8):\n",
    "    print(\"{:02x}:\".format(i), end=\"\")\n",
    "    for j in range(8):\n",
    "        print(\" {:02x}\".format(l.readRegister(i+j)), end=\"\")\n",
    "    print()\n",
    "    "
   ]
  },
  {
   "cell_type": "code",
   "execution_count": null,
   "metadata": {
    "collapsed": true
   },
   "outputs": [],
   "source": []
  }
 ],
 "metadata": {
  "kernelspec": {
   "display_name": "MicroPython - USB",
   "language": "micropython",
   "name": "micropython"
  },
  "language_info": {
   "codemirror_mode": "python",
   "file_extension": ".py",
   "mimetype": "text/python",
   "name": "micropython"
  }
 },
 "nbformat": 4,
 "nbformat_minor": 2
}

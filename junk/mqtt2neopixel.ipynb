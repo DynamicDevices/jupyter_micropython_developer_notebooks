{
 "cells": [
  {
   "cell_type": "markdown",
   "metadata": {},
   "source": [
    "This is coded on an ESP32 for demonstrating neopixels \n",
    "Very trivial code, no checking or async work"
   ]
  },
  {
   "cell_type": "code",
   "execution_count": 28,
   "metadata": {},
   "outputs": [
    {
     "name": "stdout",
     "output_type": "stream",
     "text": [
      "serial exception on close write failed: [Errno 5] Input/output error\n",
      "\u001b[34mConnecting to --port=/dev/ttyUSB1 --baud=115200 \u001b[0m\n",
      "\n",
      "**[ys] <class 'serial.serialutil.SerialException'>\n",
      "**[ys] read failed: device reports readiness to read but returned no data (device disconnected or multiple access on port?)\n",
      "\n",
      "\u001b[31m[Timed out waiting for recognizable response]\n",
      "\u001b[0m\u001b[31mDisconnecting [paste mode not working]\n",
      "\u001b[0m\u001b[34m  (You may need to reset the device)\u001b[0m"
     ]
    }
   ],
   "source": [
    "%serialconnect"
   ]
  },
  {
   "cell_type": "code",
   "execution_count": 27,
   "metadata": {},
   "outputs": [
    {
     "name": "stdout",
     "output_type": "stream",
     "text": [
      "Sent 5 lines (114 bytes) to config.txt.\n"
     ]
    }
   ],
   "source": [
    "%sendtofile config.txt\n",
    "\n",
    "wifiname     DoESLiverpool-MQTT\n",
    "wifipassword decafbad00\n",
    "mqttbroker   10.3.141.1\n",
    "pinled       25\n",
    "boardname    ttgo2"
   ]
  },
  {
   "cell_type": "code",
   "execution_count": 4,
   "metadata": {},
   "outputs": [
    {
     "name": "stdout",
     "output_type": "stream",
     "text": [
      "{'devnames': ['SHT31D'], 'uos': <module 'uos'>, 'IdentifyI2CDevice': <function IdentifyI2CDevice at 0x3ffc2fe0>, 'devname': 'SHT31D', 'fatntext': <function fatntext at 0x3ffc2850>, 'oledshow': <function oledshow at 0x3ffc24a0>, 'TMP102_task': <generator>, 'bdev': <FlashBdev object at 3ffc0f70>, 'devdesc': 'tmphumid', 'doublepixels': <function doublepixels at 0x3ffc2860>, 'i2c': <I2C>, 'IdentifyUARTDevice': <function IdentifyUARTDevice at 0x3ffc2fb0>, 'TSL561_task': <generator>, 'fqm': <FMQTTQueue object at 3ffc4a70>, 'i': 9, 'fbuff': <FrameBuffer>, 'I2C': <class 'I2C'>, 'devices': ['SHT31D tmphumid'], 'aloop': <PollEventLoop object at 3ffc51b0>, 'FMQTTQueue': <class 'FMQTTQueue'>, '__name__': '__main__', 'SHT31D_task': <generator>, 'dev': 'SHT31D tmphumid', 'gc': <module 'gc'>, 'machine': <module 'umachine'>, 'MS5611_task': <generator>, 'DS18B20_task': <generator>, 'n': 0, 'time': <module 'utime'>, 'Pin': <class 'Pin'>, 'plotdevices': <generator>, 'asyncio': <module 'uasyncio' from '/lib/uasyncio/__init__.py'>, 'fconfig': {'mqttbroker': '10.3.141.1', 'boardname': 'ttgo2', 'wifiname': 'mqtt-wifi', 'pinled': '25', 'wifipassword': 'decafbad00'}, 'pled': Pin(25)}\n"
     ]
    }
   ],
   "source": [
    "print(globals())"
   ]
  },
  {
   "cell_type": "code",
   "execution_count": 19,
   "metadata": {},
   "outputs": [],
   "source": [
    "import network\n",
    "wlan = network.WLAN()\n",
    "wlan.active(True)\n",
    "s = wlan.scan()"
   ]
  },
  {
   "cell_type": "code",
   "execution_count": 22,
   "metadata": {},
   "outputs": [
    {
     "name": "stdout",
     "output_type": "stream",
     "text": [
      "(b'GasXWifi', b'\\xb8\\xec\\xa3.\\x1ad', 9, -68, 4, False)\n",
      "(b'DoESLiverpool', b'\\xf0\\x9f\\xc2\\xf4\\x1b\\xe4', 11, -69, 3, False)\n",
      "(b'Find Out Digital', b'\\x02\\x9f\\xc2\\xf4\\x1b\\xe4', 11, -69, 3, False)\n",
      "(b'Top Floor Wifi', b'\\xfc\\xec\\xda\\x07\\x04:', 6, -71, 3, False)\n",
      "(b'Top Floor Wifi', b'\\xfc\\xec\\xda\\x07\\x08k', 6, -83, 3, False)\n",
      "(b'Find Out Digital', b'\\x02\\x9f\\xc2\\xf4\\x1a\\x7f', 1, -88, 3, False)\n",
      "(b'DoESLiverpool', b'\\xf0\\x9f\\xc2\\xf4\\x1a\\x7f', 1, -89, 3, False)\n",
      "(b'DoESLiverpool', b'\\xf0\\x9f\\xc2\\xf4.\\xf4', 11, -90, 3, False)\n",
      "(b'DIRECT-D3C27FA1', b'\\x9e\\xae\\xd3\\xc2\\xff\\xa1', 6, -91, 3, False)\n",
      "(b'Find Out Digital', b'\\x02\\x9f\\xc2\\xf4.\\xf4', 11, -91, 3, False)\n"
     ]
    }
   ],
   "source": [
    "for l in s:\n",
    "    print(l)"
   ]
  },
  {
   "cell_type": "code",
   "execution_count": null,
   "metadata": {},
   "outputs": [],
   "source": []
  },
  {
   "cell_type": "code",
   "execution_count": 27,
   "metadata": {},
   "outputs": [
    {
     "name": "stdout",
     "output_type": "stream",
     "text": [
      ".2398\n"
     ]
    }
   ],
   "source": [
    "import urandom\n",
    "\n",
    "import time\n",
    "machine.freq(80000000)\n",
    "t0 = time.ticks_ms()\n",
    "l = [urandom.uniform(0,1) for i in range(100)]\n",
    "for j in range(2000):\n",
    "    x = sum(l)\n",
    "print(time.ticks_ms()-t0)\n"
   ]
  },
  {
   "cell_type": "code",
   "execution_count": 25,
   "metadata": {},
   "outputs": [
    {
     "name": "stdout",
     "output_type": "stream",
     "text": [
      "240000000\n"
     ]
    }
   ],
   "source": [
    "import machine\n",
    "print(machine.freq())"
   ]
  },
  {
   "cell_type": "code",
   "execution_count": null,
   "metadata": {},
   "outputs": [],
   "source": [
    "\n"
   ]
  },
  {
   "cell_type": "code",
   "execution_count": 37,
   "metadata": {},
   "outputs": [
    {
     "name": "stdout",
     "output_type": "stream",
     "text": [
      "Sent 204 lines (6411 bytes) to lib/umqtt/simple.py.\n",
      "['robust.py', 'simple.py']\n"
     ]
    }
   ],
   "source": [
    "%sendtofile --mkdir --source /home/julian/extrepositories/micropython-lib/umqtt.robust/umqtt/robust.py lib/umqtt/\n",
    "%sendtofile --mkdir --source /home/julian/extrepositories/micropython-lib/umqtt.simple/umqtt/simple.py lib/umqtt/\n",
    "print(os.listdir(\"lib/umqtt\"))\n"
   ]
  },
  {
   "cell_type": "code",
   "execution_count": 1,
   "metadata": {},
   "outputs": [
    {
     "name": "stdout",
     "output_type": "stream",
     "text": [
      "\u001b[34mConnecting to --port=/dev/ttyUSB0 --baud=115200 \u001b[0m\n",
      "\u001b[34mReady.\n",
      "\u001b[0m"
     ]
    }
   ],
   "source": [
    "%serialconnect"
   ]
  },
  {
   "cell_type": "code",
   "execution_count": 48,
   "metadata": {},
   "outputs": [
    {
     "name": "stdout",
     "output_type": "stream",
     "text": [
      "Sent 70 lines (1438 bytes) to main.py.\n"
     ]
    }
   ],
   "source": [
    "%sendtofile main.py\n",
    "\n",
    "import machine, time, network, neopixel\n",
    "\n",
    "wifiname = \"DoESLiverpool-MQTT\"\n",
    "wifipassword = \"decafbad00\"\n",
    "mqttbroker = \"10.3.141.1\"\n",
    "\n",
    "from machine import Pin, ADC\n",
    "import time\n",
    "\n",
    "neos = [ ]\n",
    "neos.append(neopixel.NeoPixel(machine.Pin(12), 74))\n",
    "neos.append(neopixel.NeoPixel(machine.Pin(13), 74))\n",
    "\n",
    "time.sleep(0.5)\n",
    "\n",
    "sta_if = network.WLAN(network.STA_IF)\n",
    "sta_if.active(True)\n",
    "\n",
    "def fillallneos(c):\n",
    "    for neo in neos:\n",
    "        neo.fill(c)\n",
    "        neo.write()\n",
    "\n",
    "fillallneos((10,0,0))\n",
    "\n",
    "sta_if.connect(wifiname, wifipassword)\n",
    "while not sta_if.isconnected():\n",
    "    time.sleep(0.1)\n",
    "    \n",
    "fillallneos((0,10,0))\n",
    "    \n",
    "print(\"connected to wifi\")\n",
    "\n",
    "from umqtt.robust import MQTTClient\n",
    "client = MQTTClient(\"neopixelesp44\", mqttbroker, 1883)\n",
    "for i in range(100):\n",
    "    try:\n",
    "        client.connect()\n",
    "        break\n",
    "    except OSError as e:\n",
    "        print(e)\n",
    "        \n",
    "print(\"connected to mqtt\")\n",
    "fillallneos((0,10,0))\n",
    "\n",
    "def scallback(topic, msg):\n",
    "    print((topic, msg))\n",
    "    try:\n",
    "        r,g,b = int(msg[:2], 16), int(msg[2:4], 16), int(msg[4:6], 16)\n",
    "    except ValueError:\n",
    "        print(\"ignore\")\n",
    "        return\n",
    "    try:\n",
    "        neo = neos[int(topic[-1])]\n",
    "    except Exception:\n",
    "        neo = None\n",
    "    if neo is not None:\n",
    "        print(\"filling\", neo)\n",
    "        neo.fill((r,g,b))\n",
    "        neo.write()\n",
    "    else:\n",
    "        print(\"fill all\")\n",
    "        fillallneos((r,g,b))\n",
    "\n",
    "client.set_callback(scallback)\n",
    "client.subscribe(b\"esp32j/#\")\n",
    "\n",
    "while 1:\n",
    "    client.check_msg()\n",
    "    time.sleep_ms(5)\n"
   ]
  },
  {
   "cell_type": "code",
   "execution_count": 21,
   "metadata": {},
   "outputs": [
    {
     "name": "stdout",
     "output_type": "stream",
     "text": [
      "\u001b[31m\n",
      "\n",
      "***Connection broken [Input/output error]\n",
      "\u001b[0mYou may need to reconnect\u001b[34m\n",
      "Closing serial Serial<id=0x7f21397d0ef0, open=True>(port='/dev/ttyUSB8', baudrate=115200, bytesize=8, parity='N', stopbits=1, timeout=0.5, xonxoff=False, rtscts=False, dsrdtr=False)\n",
      "\u001b[0m\u001b[31mNo serial connected\n",
      "\u001b[0m  %serialconnect to connect\n",
      "  %esptool to flash the device\n",
      "  %lsmagic to list commands"
     ]
    }
   ],
   "source": [
    "help(client)"
   ]
  },
  {
   "cell_type": "code",
   "execution_count": 13,
   "metadata": {},
   "outputs": [
    {
     "name": "stdout",
     "output_type": "stream",
     "text": [
      "\u001b[34mConnecting to --port=/dev/ttyUSB1 --baud=115200 \u001b[0m\n",
      "\u001b[34mReady.\n",
      "\u001b[0m"
     ]
    }
   ],
   "source": [
    "%serialconnect"
   ]
  },
  {
   "cell_type": "code",
   "execution_count": 14,
   "metadata": {},
   "outputs": [
    {
     "name": "stdout",
     "output_type": "stream",
     "text": [
      "connected to wifi\n"
     ]
    },
    {
     "name": "stderr",
     "output_type": "stream",
     "text": [
      "Traceback (most recent call last):\n",
      "  File \"<stdin>\", line 23, in <module>\n",
      "  File \"<stdin>\", line 20, in <module>\n",
      "  File \"umqtt/simple.py\", line 57, in connect\n",
      "IndexError: list index out of range\n"
     ]
    }
   ],
   "source": [
    "import machine, time, network, neopixel\n",
    "\n",
    "wifiname = \"DoESLiverpool-MQTT\"\n",
    "wifipassword = \"decafbad00\"\n",
    "mqttbroker = \"10.3.141.1\"\n",
    "mqttbroker = \"mqtt.local\"\n",
    "\n",
    "sta_if = network.WLAN(network.STA_IF)\n",
    "sta_if.active(True)\n",
    "\n",
    "sta_if.connect(wifiname, wifipassword)\n",
    "while not sta_if.isconnected():\n",
    "    time.sleep(0.1)\n",
    "print(\"connected to wifi\")\n",
    "\n",
    "from umqtt.robust import MQTTClient\n",
    "client = MQTTClient(\"neopixelesp44dd\", mqttbroker, 1883)\n",
    "for i in range(100):\n",
    "    try:\n",
    "        client.connect()\n",
    "        break\n",
    "    except OSError as e:\n",
    "        print(e)\n",
    "        \n",
    "print(\"connected to mqtt\")\n"
   ]
  },
  {
   "cell_type": "code",
   "execution_count": 25,
   "metadata": {},
   "outputs": [
    {
     "name": "stdout",
     "output_type": "stream",
     "text": [
      "[(2, 1, 0, 'bbc.co.uk', ('151.101.128.81', 80))]\n"
     ]
    }
   ],
   "source": [
    "import socket\n",
    "addr_info = socket.getaddrinfo(\"bbc.co.uk\", \"80\")\n",
    "print(addr_info)"
   ]
  },
  {
   "cell_type": "code",
   "execution_count": 3,
   "metadata": {},
   "outputs": [
    {
     "name": "stdout",
     "output_type": "stream",
     "text": [
      "object <MQTTClient object at 3ffc2e50> is of type MQTTClient\n",
      "  reconnect -- <closure>\n",
      "  log -- <function log at 0x3ffc33a0>\n",
      "  publish -- <closure>\n",
      "  __module__ -- umqtt.robust\n",
      "  wait_msg -- <closure>\n",
      "  delay -- <function delay at 0x3ffc3300>\n",
      "  __qualname__ -- MQTTClient\n",
      "  DELAY -- 2\n",
      "  DEBUG -- False\n"
     ]
    }
   ],
   "source": [
    "help(client)"
   ]
  },
  {
   "cell_type": "code",
   "execution_count": 11,
   "metadata": {},
   "outputs": [],
   "source": [
    "client.publish(b\"bing\", b\"bong\")"
   ]
  },
  {
   "cell_type": "code",
   "execution_count": null,
   "metadata": {},
   "outputs": [],
   "source": []
  },
  {
   "cell_type": "code",
   "execution_count": 34,
   "metadata": {},
   "outputs": [
    {
     "name": "stdout",
     "output_type": "stream",
     "text": [
      "serial exception on close write failed: [Errno 5] Input/output error\n",
      "\u001b[34mConnecting to --port=/dev/ttyUSB1 --baud=115200 \u001b[0m\n",
      "\u001b[34mReady.\n",
      "\u001b[0m"
     ]
    }
   ],
   "source": [
    "%serialconnect"
   ]
  },
  {
   "cell_type": "code",
   "execution_count": 35,
   "metadata": {},
   "outputs": [],
   "source": [
    "# slimDNS\n",
    "# Simple, Lightweight Implementation of Multicast DNS\n",
    "\n",
    "# Copyright 2018 Nicko van Someren\n",
    "\n",
    "# Licensed under the Apache License, Version 2.0 (the \"License\"); you\n",
    "# may not use this file except in compliance with the License. You may\n",
    "# obtain a copy of the License at\n",
    "# \n",
    "# http://www.apache.org/licenses/LICENSE-2.0\n",
    "# \n",
    "# Unless required by applicable law or agreed to in writing, software\n",
    "# distributed under the License is distributed on an \"AS IS\" BASIS,\n",
    "# WITHOUT WARRANTIES OR CONDITIONS OF ANY KIND, either express or\n",
    "# implied. See the License for the specific language governing\n",
    "# permissions and limitations under the License.\n",
    "\n",
    "# SPDX-License-Identifier: Apache-2.0\n",
    "\n",
    "\n",
    "__version__ = \"0.1.0\"\n",
    "__author__ = \"Nicko van Someren\"\n",
    "__license__ = \"Apache-2.0\"\n",
    "\n",
    "import sys\n",
    "if sys.implementation.name != \"micropython\":\n",
    "    const = lambda x:x\n",
    "\n",
    "import time\n",
    "from select import select\n",
    "try:\n",
    "    from ustruct import pack_into, unpack_from\n",
    "except:\n",
    "    from struct import pack_into, unpack_from\n",
    "\n",
    "import socket\n",
    "\n",
    "# The biggest packet we will process\n",
    "MAX_PACKET_SIZE = const(1024)\n",
    "\n",
    "MAX_NAME_SEARCH = const(20)\n",
    "\n",
    "# DNS constants\n",
    "    \n",
    "_MDNS_ADDR = '224.0.0.251'\n",
    "_MDNS_PORT = const(5353);\n",
    "_DNS_TTL = const(2 * 60) # two minute default TTL\n",
    "\n",
    "_FLAGS_QR_MASK     = const(0x8000) # query response mask\n",
    "_FLAGS_QR_QUERY    = const(0x0000) # query\n",
    "_FLAGS_QR_RESPONSE = const(0x8000) # response\n",
    "\n",
    "_FLAGS_AA = const(0x0400) # Authorative answer\n",
    "\n",
    "_CLASS_IN     = const(1)\n",
    "_CLASS_ANY    = const(255)\n",
    "_CLASS_MASK   = const(0x7FFF)\n",
    "_CLASS_UNIQUE = const(0x8000)\n",
    "\n",
    "_TYPE_A    = const(1)\n",
    "_TYPE_PTR  = const(12)\n",
    "_TYPE_TXT  = const(16)\n",
    "_TYPE_AAAA = const(28)\n",
    "_TYPE_SRV  = const(33)\n",
    "_TYPE_ANY  = const(255)\n",
    "\n",
    "# Convert a dotted IPv4 address string into four bytes, with some\n",
    "# sanity checks\n",
    "def dotted_ip_to_bytes(ip):\n",
    "    l = [int(i) for i in ip.split('.')]\n",
    "    if len(l) != 4 or any(i<0 or i>255 for i in l):\n",
    "        raise ValueError\n",
    "    return bytes(l)\n",
    "\n",
    "# Convert four bytes into a dotted IPv4 address string, without any\n",
    "# sanity checks\n",
    "def bytes_to_dotted_ip(a):\n",
    "    return \".\".join(str(i) for i in a)\n",
    "\n",
    "# Ensure that a name is in the form of a list of encoded blocks of\n",
    "# bytes, typically starting as a qualified domain name\n",
    "def check_name(n):\n",
    "    if isinstance(n, str):\n",
    "        n = n.split(\".\")\n",
    "        if n[-1] == '':\n",
    "            n = n[:-1]\n",
    "    n = [i.encode(\"UTF8\") if isinstance(i, str) else i for i in n]\n",
    "    return n\n",
    "\n",
    "# Move the offset past the name to which it currently points\n",
    "def skip_name_at(buf, o):\n",
    "    while True:\n",
    "        l = buf[o]\n",
    "        if l == 0:\n",
    "            o += 1\n",
    "            break\n",
    "        elif (l & 0xc0) == 0xc0:\n",
    "            o += 2\n",
    "            break\n",
    "        else:\n",
    "            o += l+1\n",
    "    return o\n",
    "\n",
    "# Test if two possibly compressed names are equal\n",
    "def compare_packed_names(buf, o, packed_name, po=0):\n",
    "    while packed_name[po] != 0:\n",
    "        while buf[o] & 0xc0:\n",
    "            (o,) = unpack_from(\"!H\", buf, o)\n",
    "            o &= 0x3fff\n",
    "        while packed_name[po] & 0xc0:\n",
    "            (po,) = unpack_from(\"!H\", packed_name, po)\n",
    "            po &= 0x3fff\n",
    "        l1 = buf[o] +1\n",
    "        l2 = packed_name[po] +1\n",
    "        if l1 != l2 or buf[o:o+l1] != packed_name[po:po+l2]:\n",
    "            return False\n",
    "        o += l1\n",
    "        po += l2\n",
    "    return buf[o] == 0\n",
    "\n",
    "# Find the memory size needed to pack a name without compression\n",
    "def name_packed_len(name):\n",
    "    return sum(len(i)+1 for i in name) + 1\n",
    "\n",
    "# Pack a name into the start of the buffer\n",
    "def pack_name(buf, name):\n",
    "    # We don't support writing with name compression, BIWIOMS\n",
    "    o = 0\n",
    "    for part in name:\n",
    "        pl = len(part)\n",
    "        buf[o] = pl\n",
    "        buf[o+1:o+pl+1] = part\n",
    "        o += pl+1\n",
    "    buf[o] = 0\n",
    "\n",
    "# Pack a question into a new array and return it as a memoryview\n",
    "def pack_question(name, qtype, qclass):\n",
    "    # Return a pre-packed question as a memoryview\n",
    "    name = check_name(name)\n",
    "    name_len = name_packed_len(name)\n",
    "    buf = bytearray(name_len + 4)\n",
    "    pack_name(buf, name)\n",
    "    pack_into(\"!HH\", buf, name_len, qtype, qclass)\n",
    "    return memoryview(buf)\n",
    "\n",
    "# Pack an answer into a new array and return it as a memoryview\n",
    "def pack_answer(name, rtype, rclass, ttl, rdata):\n",
    "    # Return a pre-packed answer as a memoryview\n",
    "    name = check_name(name)\n",
    "    name_len = name_packed_len(name)\n",
    "    buf = bytearray(name_len + 10 + len(rdata))\n",
    "    pack_name(buf, name)\n",
    "    pack_into(\"!HHIH\", buf, name_len, rtype, rclass, ttl, len(rdata))\n",
    "    buf[name_len+10:] = rdata\n",
    "    return memoryview(buf)\n",
    "\n",
    "# Advance the offset past the question to which it points\n",
    "def skip_question(buf, o):\n",
    "    o = skip_name_at(buf, o)\n",
    "    return o + 4\n",
    "\n",
    "# Advance the offset past the answer to which it points\n",
    "def skip_answer(buf, o):\n",
    "    o = skip_name_at(buf, o)\n",
    "    (rdlen,) = unpack_from(\"!H\", buf, o+8)\n",
    "    return o + 10 + rdlen\n",
    "\n",
    "# Test if a questing an answer. Note that this also works for\n",
    "# comparing a \"known answer\" in a packet to a local answer. The code\n",
    "# is asymetric to the extent that the questions my have a type or\n",
    "# class of ANY\n",
    "def compare_q_and_a(q_buf, q_offset, a_buf, a_offset=0):\n",
    "    if not compare_packed_names(q_buf, q_offset, a_buf, a_offset):\n",
    "        return False\n",
    "    (q_type, q_class) = unpack_from(\"!HH\", q_buf, skip_name_at(q_buf, q_offset))\n",
    "    (r_type, r_class) = unpack_from(\"!HH\", a_buf, skip_name_at(a_buf, a_offset))\n",
    "    if not (q_type == r_type or q_type == _TYPE_ANY):\n",
    "        return False\n",
    "    q_class &= _CLASS_MASK\n",
    "    r_class &= _CLASS_MASK\n",
    "    return (q_class == r_class or q_class == _TYPE_ANY)\n",
    "\n",
    "\n",
    "# The main SlimDNSServer class           \n",
    "class SlimDNSServer:\n",
    "    def __init__(self, local_addr, hostname=None):\n",
    "        # If a hostname is give we try to register it\n",
    "        self.local_addr = local_addr\n",
    "        self.sock = self._make_socket()\n",
    "        self.sock.bind(('', _MDNS_PORT))\n",
    "        self.adverts = []\n",
    "        self.hostname = None\n",
    "        self._reply_buffer = None\n",
    "        self._pending_question = None\n",
    "        self.answered = False\n",
    "        if hostname:\n",
    "            self.advertise_hostname(hostname)\n",
    "\n",
    "    def _make_socket(self):\n",
    "        # Note that on devices with a more complete UDP/IP stack it\n",
    "        # might be necessary to set more options on the socket,\n",
    "        # incluing things like setting the mutlicast TTL and enabling\n",
    "        # multicast on the interface.\n",
    "        s = socket.socket(socket.AF_INET, socket.SOCK_DGRAM)\n",
    "        s.setsockopt(socket.SOL_SOCKET, socket.SO_REUSEADDR, 1)\n",
    "        member_info = dotted_ip_to_bytes(_MDNS_ADDR) + dotted_ip_to_bytes(self.local_addr)\n",
    "        s.setsockopt(socket.IPPROTO_IP, socket.IP_ADD_MEMBERSHIP, member_info)\n",
    "        return s\n",
    "\n",
    "    def advertise_hostname(self, hostname, find_vacant=True):\n",
    "        # Try to advertise our own IP address under the given hostname\n",
    "        # If the hostname is taken we try to tack some numbers on the end to make it unique\n",
    "        hostname = check_name(hostname)\n",
    "        n = len(hostname)\n",
    "        if n == 1:\n",
    "            hostname.append(b\"local\")\n",
    "        elif n == 0 or n > 2 or hostname[1] != b'local':\n",
    "            raise ValueError(\"hostname should be a single name component\")\n",
    "\n",
    "        ip_bytes = dotted_ip_to_bytes(self.local_addr)\n",
    "        \n",
    "        basename = hostname[0]\n",
    "        for i in range(MAX_NAME_SEARCH):\n",
    "            if i != 0:\n",
    "                hostname[0] = basename + b\"-\"+str(i)\n",
    "            addr = self.resolve_mdns_address(hostname, True)\n",
    "            # Some helpful machine might know us and send us our own address\n",
    "            if not addr or addr == ip_bytes:\n",
    "                break\n",
    "            # Even is seaching we have to give up eventually\n",
    "            if not find_vacant or i == MAX_NAME_SEARCH-1:\n",
    "                raise ValueError(\"Name in use\")\n",
    "\n",
    "        A_record = pack_answer(hostname, _TYPE_A, _CLASS_IN, _DNS_TTL, ip_bytes)\n",
    "        self.adverts.append(A_record)\n",
    "        self.hostname = hostname\n",
    "\n",
    "        # We could add a reverse PTR record here.\n",
    "        # We don't, BIWIOMS\n",
    "\n",
    "    def process_packet(self, buf, addr):\n",
    "        # Process a single multicast DNS packet\n",
    "\n",
    "        (pkt_id, flags, qst_count, ans_count, _, _) = unpack_from(\"!HHHHHH\", buf, 0)\n",
    "        o = 12\n",
    "        matches = []\n",
    "        reply_len = 12\n",
    "        for i in range(qst_count):\n",
    "            for a in self.adverts:\n",
    "                if compare_q_and_a(buf, o, a):\n",
    "                    matches.append(a)\n",
    "                    reply_len += len(a)\n",
    "            o = skip_question(buf, o)\n",
    "\n",
    "        # In theory we could do known answer suppression here\n",
    "        # We don't, BIWIOMS\n",
    "\n",
    "        if self._pending_question:\n",
    "            for i in range(ans_count):\n",
    "                if compare_q_and_a(self._pending_question, 0, buf, o):\n",
    "                    if self._answer_callback(buf[o:skip_answer(buf,o)]):\n",
    "                        self.answered = True\n",
    "                o = skip_answer(buf,o)\n",
    "\n",
    "        if not matches:\n",
    "            return\n",
    "\n",
    "        # We could check for duplicates in the answers (which is\n",
    "        # possible) but we don't, BIWIOMS\n",
    "\n",
    "        # Since Micropython sockets don't currently support\n",
    "        # recvfrom_into() we need to have our own buffer for the\n",
    "        # reply, even though we are now done with the receiving buffer\n",
    "\n",
    "        if not self._reply_buffer or len(self._reply_buffer) < reply_len:\n",
    "            # print(\"Making new reply buffer of len {}\".format(reply_len))\n",
    "            self._reply_buffer = memoryview(bytearray(reply_len))\n",
    "        \n",
    "        buf = self._reply_buffer\n",
    "        pack_into(\"!HHHHHH\", buf, 0,\n",
    "                  pkt_id, _FLAGS_QR_RESPONSE | _FLAGS_AA,\n",
    "                  0, len(matches), 0, 0)\n",
    "        o = 12\n",
    "        for a in matches:\n",
    "            l = len(a)\n",
    "            buf[o:o+l] = a\n",
    "            o += l\n",
    "\n",
    "        # print(\"Sending packed reply: {}\".format(bytes(buf[:o])))\n",
    "\n",
    "        # We fake the handling of unicast replies. If the packet came\n",
    "        # from the mutlicast port we multicast the reply but if it\n",
    "        # came from any other port we unicast the reply.\n",
    "        self.sock.sendto(buf[:o], (_MDNS_ADDR, _MDNS_PORT) if addr[0] == _MDNS_PORT else addr)\n",
    "\n",
    "    def process_waiting_packets(self):\n",
    "        # Handle all the packets that can be read immediately and\n",
    "        # return as soon as none are waiting\n",
    "        while True:\n",
    "            readers, _, _ = select([self.sock], [], [], 0)\n",
    "            if not readers:\n",
    "                break\n",
    "            buf, addr = self.sock.recvfrom(MAX_PACKET_SIZE)\n",
    "            # print(\"Received {} bytes from {}\".format(len(buf), addr))\n",
    "            if buf and addr[0] != self.local_addr:\n",
    "                try:\n",
    "                    self.process_packet(memoryview(buf), addr)\n",
    "                except IndexError:\n",
    "                    print(\"Index error processing packet; probably malformed data\")\n",
    "                except Exception as e:\n",
    "                    print(\"Error processing packet: {}\".format(e))\n",
    "                    # raise e\n",
    "\n",
    "    def run_forever(self):\n",
    "        # Only really useful once we have stable thread support\n",
    "        while True:\n",
    "            readers, _, _ = select([self.sock], [], [], None)\n",
    "            self.process_waiting_packets()\n",
    "\n",
    "    def handle_question(self, q, answer_callback, fast=False, retry_count=3):\n",
    "        # Send our a (packed) question, and send matching replies to\n",
    "        # the answer_callback function.  This will stop after sending\n",
    "        # the given number of retries and waiting for the a timeout on\n",
    "        # each, or sooner if the answer_callback function returns True\n",
    "        p = bytearray(len(q)+12)\n",
    "        pack_into(\"!HHHHHH\", p, 0,\n",
    "                  1, 0, 1, 0, 0, 0, 0)\n",
    "        p[12:] = q\n",
    "\n",
    "        self._pending_question = q\n",
    "        self._answer_callback = answer_callback\n",
    "        self.answered = False\n",
    "\n",
    "        try:\n",
    "            for i in range(retry_count):\n",
    "                if self.answered:\n",
    "                    break\n",
    "                self.sock.sendto(p, (_MDNS_ADDR, _MDNS_PORT))\n",
    "                timeout = time.ticks_ms() + (250 if fast else 1000)\n",
    "                while not self.answered:\n",
    "                    sel_time = time.ticks_diff(timeout, time.ticks_ms())\n",
    "                    if sel_time <= 0:\n",
    "                        break\n",
    "                    (rr, _, _) = select([self.sock], [], [], sel_time/1000.0)\n",
    "                    if rr:\n",
    "                        self.process_waiting_packets()\n",
    "        finally:\n",
    "            self._pending_question = None\n",
    "            self._answer_callback = None\n",
    "\n",
    "    def resolve_mdns_address(self, hostname, fast=False):\n",
    "        # Look up an IPv4 address for a hostname using mDNS.\n",
    "        q = pack_question(hostname, _TYPE_A, _CLASS_IN)\n",
    "        answer = []\n",
    "        def _answer_handler(a):\n",
    "            addr_offset = skip_name_at(a, 0) + 10\n",
    "            answer.append(a[addr_offset:addr_offset+4])\n",
    "            return True\n",
    "        self.handle_question(q, _answer_handler, fast)\n",
    "        return bytes(answer[0]) if answer else None\n",
    "\n",
    "    \n",
    "def test():\n",
    "    import network\n",
    "    sta_if = network.WLAN(network.STA_IF)\n",
    "    local_addr = sta_if.ifconfig()[0]\n",
    "    server = SlimDNSServer(local_addr, \"micropython\")\n",
    "    server.run_forever()\n"
   ]
  },
  {
   "cell_type": "code",
   "execution_count": 37,
   "metadata": {},
   "outputs": [],
   "source": [
    "import network\n",
    "wifiname = \"DoESLiverpool\"\n",
    "wifipassword = \"decafbad00\"\n",
    "mqttbroker = \"10.3.141.1\"\n",
    "mqttbroker = \"mqtt.local\"\n",
    "\n",
    "sta_if = network.WLAN(network.STA_IF)\n",
    "sta_if.active(True)\n"
   ]
  },
  {
   "cell_type": "code",
   "execution_count": 38,
   "metadata": {},
   "outputs": [
    {
     "name": "stderr",
     "output_type": "stream",
     "text": [
      "Traceback (most recent call last):\n",
      "  File \"<stdin>\", line 4, in <module>\n",
      "  File \"<stdin>\", line 197, in __init__\n",
      "  File \"<stdin>\", line 226, in advertise_hostname\n",
      "  File \"<stdin>\", line 359, in resolve_mdns_address\n",
      "  File \"<stdin>\", line 349, in handle_question\n",
      "  File \"<stdin>\", line 338, in handle_question\n",
      "OSError: 118\n"
     ]
    }
   ],
   "source": [
    "import network\n",
    "sta_if = network.WLAN(network.STA_IF)\n",
    "local_addr = sta_if.ifconfig()[0]\n",
    "server = SlimDNSServer(local_addr, \"micropython\")\n",
    "\n",
    "host_address_bytes = server.resolve_mdns_address(\"something.local\")"
   ]
  },
  {
   "cell_type": "code",
   "execution_count": null,
   "metadata": {},
   "outputs": [],
   "source": []
  },
  {
   "cell_type": "code",
   "execution_count": null,
   "metadata": {},
   "outputs": [],
   "source": []
  },
  {
   "cell_type": "code",
   "execution_count": null,
   "metadata": {},
   "outputs": [],
   "source": []
  },
  {
   "cell_type": "code",
   "execution_count": 127,
   "metadata": {},
   "outputs": [
    {
     "name": "stdout",
     "output_type": "stream",
     "text": [
      "Sent 11 lines (192 bytes) to main.py.\n"
     ]
    }
   ],
   "source": [
    "%sendtofile main.py\n",
    "\n",
    "from machine import Pin, ADC, PWM\n",
    "import time\n",
    "\n",
    "pstep = Pin(15, Pin.OUT)\n",
    "p = PWM(pstep, freq=1000000, duty=256)\n",
    "while True:\n",
    "    p.duty(512)\n",
    "    time.sleep(1)\n",
    "    p.duty(256)\n",
    "    time.sleep(1)\n",
    "\n"
   ]
  },
  {
   "cell_type": "code",
   "execution_count": 113,
   "metadata": {},
   "outputs": [],
   "source": [
    "p = PWM(pstep, freq=1, duty=512)\n",
    "d = direction"
   ]
  },
  {
   "cell_type": "code",
   "execution_count": 123,
   "metadata": {},
   "outputs": [
    {
     "name": "stderr",
     "output_type": "stream",
     "text": [
      "Traceback (most recent call last):\n",
      "  File \"<stdin>\", line 1, in <module>\n",
      "ValueError: Bad frequency 50000000\n"
     ]
    }
   ],
   "source": [
    "p.freq(50000000)\n",
    "print(p)\n"
   ]
  },
  {
   "cell_type": "code",
   "execution_count": 93,
   "metadata": {},
   "outputs": [],
   "source": [
    "p.freq(10)"
   ]
  },
  {
   "cell_type": "code",
   "execution_count": 110,
   "metadata": {},
   "outputs": [
    {
     "name": "stdout",
     "output_type": "stream",
     "text": [
      "12000\n",
      "st\n",
      "s\n",
      "."
     ]
    }
   ],
   "source": [
    "f = 12000\n",
    "print(f)\n",
    "d.value(0)\n",
    "p.freq(f)\n",
    "time.sleep(3)\n",
    "p.freq(1)\n",
    "print(\"st\")\n",
    "time.sleep(0.5)\n",
    "print(\"s\")\n",
    "d.value(1)\n",
    "p.freq(f)\n",
    "time.sleep(3)\n",
    "p.freq(1)\n"
   ]
  },
  {
   "cell_type": "code",
   "execution_count": 97,
   "metadata": {},
   "outputs": [
    {
     "name": "stdout",
     "output_type": "stream",
     "text": [
      "1\n"
     ]
    }
   ],
   "source": [
    "d.value(0)\n",
    "print(d.value())"
   ]
  },
  {
   "cell_type": "code",
   "execution_count": 68,
   "metadata": {},
   "outputs": [
    {
     "name": "stdout",
     "output_type": "stream",
     "text": [
      "1\n"
     ]
    }
   ],
   "source": [
    "print(int(9>8))"
   ]
  },
  {
   "cell_type": "code",
   "execution_count": 74,
   "metadata": {},
   "outputs": [
    {
     "name": "stdout",
     "output_type": "stream",
     "text": [
      "PWM(15, freq=1, duty=512)\n"
     ]
    }
   ],
   "source": [
    "p.freq(0)\n",
    "print(p)"
   ]
  },
  {
   "cell_type": "code",
   "execution_count": 77,
   "metadata": {},
   "outputs": [
    {
     "name": "stdout",
     "output_type": "stream",
     "text": [
      "144 0\n",
      "146 0\n",
      "145 0\n",
      "148 0\n",
      "144 0\n",
      "146 0\n",
      "148 0\n",
      "144 0\n",
      "144 0\n",
      "144 0\n",
      ".145 0\n",
      "149 0\n",
      "143 0\n",
      "147 0\n",
      "143 0\n",
      "147 0\n",
      "144 0\n",
      "144 0\n",
      "148 0\n",
      "144 0\n",
      "."
     ]
    }
   ],
   "source": [
    "for i in range(20):\n",
    "    v = a.read() - 2048\n",
    "    direction.value(int(v>0))\n",
    "    fv = int(abs(v/200)**2)\n",
    "    print(v, fv)\n",
    "    step.freq(fv)\n",
    "    step.duty(512 if fv != 0 else 0)\n",
    "    time.sleep(1)"
   ]
  },
  {
   "cell_type": "code",
   "execution_count": null,
   "metadata": {},
   "outputs": [],
   "source": []
  }
 ],
 "metadata": {
  "kernelspec": {
   "display_name": "MicroPython - USB",
   "language": "micropython",
   "name": "micropython"
  },
  "language_info": {
   "codemirror_mode": "python",
   "file_extension": ".py",
   "mimetype": "text/python",
   "name": "micropython"
  }
 },
 "nbformat": 4,
 "nbformat_minor": 2
}

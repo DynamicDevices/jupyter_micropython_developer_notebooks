{
 "cells": [
  {
   "cell_type": "code",
   "execution_count": 6,
   "metadata": {},
   "outputs": [
    {
     "name": "stdout",
     "output_type": "stream",
     "text": [
      "Connecting to Serial /dev/ttyUSB1 baud=115200\n",
      "\n",
      " ** Serial connected **\n",
      "\n",
      "Serial<id=0x7f8ef7b3f160, open=True>(port='/dev/ttyUSB1', baudrate=115200, bytesize=8, parity='N', stopbits=1, timeout=0.5, xonxoff=False, rtscts=False, dsrdtr=False)\n",
      "\n",
      "\n",
      "*** Sending Ctrl-C\n",
      "\n",
      "ets Jun  8 2016 00:22:57\n",
      "\n",
      "rst:0x1 (POWERON_RESET),boot:0x13 (SPI_FAST_FLASH_BOOT)\n",
      "flash read err, 1000\n",
      "Falling back to built-in command interpreter.\n",
      "OK\n",
      ">ets Jun  8 2016 00:22:57\n",
      "\n",
      "rst:0x10 (RTCWDT_RTC_RESET),boot:0x13 (SPI_FAST_FLASH_BOOT)\n",
      "configsip: 0, SPIWP:0xee\n",
      "clk_drv:0x00,q_drv:0x00,d_drv:0x00,cs0_drv:0x00,hd_drv:0x00,wp_drv:0x00\n",
      "mode:DIO, clock div:2\n",
      "load:0x3fff0010,len:4\n",
      "load:0x3fff0014,len:4268\n",
      "load:0x40078000,len:0\n",
      "load:0x40078000,len:10648\n",
      "entry 0x4007a56c\n",
      "OSError: [Errno 2] ENOENT\n",
      "MicroPython v1.9.2-273-g56f18602 on 2017-09-25; ESP32 module with ESP32\n",
      "Type \"help()\" for more information.\n",
      ">>>[reboot detected 0]\n",
      ">>> \n",
      ">>> \n",
      ">>> \n",
      ">>> \n",
      "raw REPL; CTRL-B to exit\n",
      "> "
     ]
    }
   ],
   "source": [
    "%serialconnect"
   ]
  },
  {
   "cell_type": "code",
   "execution_count": 7,
   "metadata": {},
   "outputs": [
    {
     "name": "stdout",
     "output_type": "stream",
     "text": [
      "hi there\n",
      "\u001b[1mTraceback (most recent call last):\n",
      "\u001b[0m\u001b[1m  File \"<stdin\u001b[0m>\u001b[1m\", line 2, in <module\u001b[0m>\u001b[1m\n",
      "\u001b[0m\u001b[1mNameError: name 'asd' is not defined\n",
      "\u001b[0m"
     ]
    }
   ],
   "source": [
    "print(\"hi there\")\n",
    "asd"
   ]
  },
  {
   "cell_type": "code",
   "execution_count": 8,
   "metadata": {},
   "outputs": [
    {
     "name": "stdout",
     "output_type": "stream",
     "text": [
      "usage: %serialconnect [--raw] [portname] [baudrate]\n",
      "%lsmagic list magic commands\n",
      "%suppressendcode doesn't send x04 or wait to read after sending the cell\n",
      "  (assists for debugging using %writebytes and %readbytes)\n",
      "%writebytes does serial.write() on a string b'binary_stuff' \n",
      "usage: %writebytes [-b] stringtosend\n",
      "%readbytes does serial.read_all()\n",
      "%rebootdevice reboots device\n",
      "%disconnects disconnects serial\n",
      "usage: %sendtofile [-a] destinationfilename\n",
      "usage: %socketconnect [--raw] ipnumber portnumber\n"
     ]
    }
   ],
   "source": [
    "%lsmagic"
   ]
  },
  {
   "cell_type": "code",
   "execution_count": 2,
   "metadata": {},
   "outputs": [
    {
     "name": "stdout",
     "output_type": "stream",
     "text": [
      "strongest known DoESWifi signal b'DoESLiverpool'\n",
      "> auth (b0)\n",
      "> assoc (0)\n",
      "> run (10)\n",
      ".\n",
      "Connect through wifi to 192.168.0.29\n"
     ]
    }
   ],
   "source": [
    "import network, time, socket\n",
    "\n",
    "si = network.WLAN(network.STA_IF)\n",
    "si.active(True)\n",
    "#assert not si.isconnected()\n",
    "\n",
    "knownwifis = dict(k.split(b\":\")[:2]  for k in open(\"wificodes.txt\", \"rb\"))\n",
    "wifiname = max((sc  for sc in si.scan()  if sc[0] in knownwifis), key=lambda X: X[3])[0]  # X[3]=RSSI (received signal strength)\n",
    "print(\"strongest known DoESWifi signal\", wifiname)\n",
    "si.connect(wifiname, knownwifis[wifiname])\n",
    "del knownwifis\n",
    "\n",
    "while not si.isconnected():\n",
    "    time.sleep(0.1)\n",
    "    pass\n",
    "\n",
    "ipnumber = si.ifconfig()[0]\n",
    "print(\"Connect through wifi to\", ipnumber)\n"
   ]
  },
  {
   "cell_type": "code",
   "execution_count": 9,
   "metadata": {},
   "outputs": [
    {
     "name": "stdout",
     "output_type": "stream",
     "text": [
      "[leftinbuffer] ['ets Jun  8 2016 00:22:57']\n",
      "[leftinbuffer] ['']\n",
      "[leftinbuffer] ['rst:0x1 (POWERON_RESET),boot:0x17 (SPI_FAST_FLASH_BOOT)']\n",
      "[leftinbuffer] ['flash read err, 1000']\n",
      "[leftinbuffer] ['Falling back to built-in command interpreter.']\n",
      "[leftinbuffer] ['OK']\n",
      "[leftinbuffer] ['>ets Jun  8 2016 00:22:57']\n",
      "[leftinbuffer] ['']\n",
      "[leftinbuffer] ['rst:0x10 (RTCWDT_RTC_RESET),boot:0x17 (SPI_FAST_FLASH_BOOT)']\n",
      "[leftinbuffer] ['configsip: 0, SPIWP:0xee']\n",
      "[leftinbuffer] ['clk_drv:0x00,q_drv:0x00,d_drv:0x00,cs0_drv:0x00,hd_drv:0x00,wp_drv:0x00']\n",
      "[leftinbuffer] ['mode:DIO, clock div:2']\n",
      "[leftinbuffer] ['load:0x3fff0010,len:4']\n",
      "[leftinbuffer] ['load:0x3fff0014,len:4268']\n",
      "[leftinbuffer] ['load:0x40078000,len:0']\n",
      "[leftinbuffer] ['load:0x40078000,len:10648']\n",
      "[leftinbuffer] ['entry 0x4007a56c']\n",
      "[leftinbuffer] ['\\x1b[0;32mI (982) cpu_start: Pro cpu up.\\x1b[0m']\n",
      "[leftinbuffer] ['\\x1b[0;32mI (982) cpu_start: Single core mode\\x1b[0m']\n",
      "[leftinbuffer] ['\\x1b[0;32mI (984) heap_init: Initializing. RAM available for dynamic allocation:\\x1b[0m']\n",
      "[leftinbuffer] ['\\x1b[0;32mI (994) heap_init: At 3FFAE2A0 len 00001D60 (7 KiB): DRAM\\x1b[0m']\n",
      "[leftinbuffer] ['\\x1b[0;32mI (1013) heap_init: At 3FFD4158 len 0000BEA8 (47 KiB): DRAM\\x1b[0m']\n",
      "[leftinbuffer] ['\\x1b[0;32mI (1032) heap_init: At 3FFE0440 len 00003BC0 (14 KiB): D/IRAM\\x1b[0m']\n",
      "[leftinbuffer] ['\\x1b[0;32mI (1052) heap_init: At 3FFE4350 len 0001BCB0 (111 KiB): D/IRAM\\x1b[0m']\n",
      "[leftinbuffer] ['\\x1b[0;32mI (1072) heap_init: At 4008F3A8 len 00010C58 (67 KiB): IRAM\\x1b[0m']\n",
      "[leftinbuffer] ['\\x1b[0;32mI (1091) cpu_start: Pro cpu start user code\\x1b[0m']\n",
      "[leftinbuffer] ['\\x1b[0;32mI (1152) cpu_start: Starting scheduler on PRO CPU.\\x1b[0m']\n",
      "[leftinbuffer] ['OSError: [Errno 2] ENOENT']\n",
      "[leftinbuffer] ['MicroPython v1.9.2-273-g56f18602 on 2017-09-25; ESP32 module with ESP32']\n",
      "[leftinbuffer] ['Type \"help()\" for more information.']\n",
      "[leftinbuffer] ['>>> ']\n",
      "\n",
      "[missing-OK]assert si.isconnected()\n",
      "\n",
      "[missing-OK]Traceback (most recent call last):\n",
      "\n",
      "[missing-OK]  File \"<stdin>\n",
      "[missing-OK]\", line 1, in <module>\n",
      "\n",
      "[missing-OK]NameError: name 'si' is not defined\n",
      ">>> \n",
      ">>>\n",
      "[missing-OK] s = socket.socket()\n",
      "\n",
      "[missing-OK]Traceback (most recent call last):\n",
      "\n",
      "[missing-OK]  File \"<stdin>\n",
      "[missing-OK]\", line 1, in <module>\n",
      "\n",
      "[missing-OK]NameError: name 'socket' is not defined\n",
      ">>>\n",
      "[missing-OK] portnumber = 9993\n",
      ">>> \n",
      ">>>\n",
      "[missing-OK] s.bind(socket.getaddrinfo(\"0.0.0.0\", portnumber)[0][-1])  # recommended to always make addresses via getaddrinfo()\n",
      "\n",
      "[missing-OK]Traceback (most recent call last):\n",
      "\n",
      "[missing-OK]  File \"<stdin>\n",
      "[missing-OK]\", line 1, in <module>\n",
      "\n",
      "[missing-OK]NameError: name 's' is not defined\n",
      ">>>\n",
      "[missing-OK] s.listen(1)  # no backlog of connections allowed\n",
      "\n",
      "[missing-OK]Traceback (most recent call last):\n",
      "\n",
      "[missing-OK]  File \"<stdin>\n",
      "[missing-OK]\", line 1, in <module>\n",
      "\n",
      "[missing-OK]NameError: name 's' is not defined\n",
      ">>> \n",
      ">>>\n",
      "[missing-OK] print(\"\\nPlease connect to ({}, {})\".format(ipnumber, portnumber){}\".format(\":\".joinnfig(\"mac\"))))\n",
      "\n",
      "[missing-OK]... espname = \"ESP_{}\".format(\"\".join(hex(x)[-2:]  for x in si.config(\"mac\")[-3:]))\n",
      "\n",
      "[missing-OK]... \n",
      "\n",
      "[missing-OK]... Traceback (most recent call last):\n",
      "\n",
      "[missing-OK]  File \"<stdin>\n",
      "[missing-OK]\", line 1\n",
      "\n",
      "[missing-OK]SyntaxError: invalid syntax\n",
      ">>> ..\n",
      "\n",
      "*** Sending Ctrl-C\n",
      "\n",
      "\n",
      ">>> \n",
      ">>> [Timed out waiting for recognizable response]\n"
     ]
    }
   ],
   "source": [
    "assert si.isconnected()\n",
    "\n",
    "s = socket.socket()\n",
    "portnumber = 9993\n",
    "\n",
    "s.bind(socket.getaddrinfo(\"0.0.0.0\", portnumber)[0][-1])  # recommended to always make addresses via getaddrinfo()\n",
    "s.listen(1)  # no backlog of connections allowed\n",
    "\n",
    "print(\"\\nPlease connect to ({}, {})\".format(ipnumber, portnumber))\n",
    "print(\"mac-address {}\".format(\":\".join(hex(x)[-2:]  for x in si.config(\"mac\"))))\n",
    "espname = \"ESP_{}\".format(\"\".join(hex(x)[-2:]  for x in si.config(\"mac\")[-3:]))\n"
   ]
  },
  {
   "cell_type": "code",
   "execution_count": 7,
   "metadata": {},
   "outputs": [
    {
     "name": "stdout",
     "output_type": "stream",
     "text": [
      "Waiting for a connection on (192.168.0.29, 9993)\n",
      "..........connection made incoming from ('192.168.0.215', 51600)\n"
     ]
    }
   ],
   "source": [
    "print(\"Waiting for a connection on ({}, {})\".format(ipnumber, portnumber))\n",
    "ss, addr = s.accept()\n",
    "print(\"connection made incoming from\", addr)\n"
   ]
  },
  {
   "cell_type": "code",
   "execution_count": 9,
   "metadata": {
    "collapsed": true
   },
   "outputs": [],
   "source": [
    "ss.settimeout(0.2)\n",
    "buf = []\n",
    "bufsize = 0\n",
    "\n",
    "def execcc(buf, bufsize):\n",
    "    if bufsize > 50:\n",
    "        return b\"We will deal big things later\\r\\n\"\n",
    "    l = (b\"\".join(buf).decode().strip()).splitlines()\n",
    "    if len(l) != 1:\n",
    "        return b\"We don't eval multiple lines {}\\r\\n\".format(len(l))\n",
    "    try:\n",
    "        res = str(eval(l[0]))\n",
    "    except Exception as e:\n",
    "        res = str(e)\n",
    "    return b\"The answer is: {}\\r\\n\".format(res.encode())\n",
    "\n"
   ]
  },
  {
   "cell_type": "code",
   "execution_count": 67,
   "metadata": {},
   "outputs": [
    {
     "name": "stdout",
     "output_type": "stream",
     "text": [
      "Traceback (most recent call last):\n",
      "  File \"<stdin>\", line 12, in <module>\n",
      "  File \"<stdin>\", line 6, in <module>\n",
      "NameError: name 'ss' is not defined\n"
     ]
    }
   ],
   "source": [
    "# process incoming signals from the main jupyter syste,\n",
    "k = None\n",
    "while True:\n",
    "    try:\n",
    "        if k is None:\n",
    "            k = ss.recv(100)\n",
    "            print(\"read\", str(k))\n",
    "    except OSError as e:\n",
    "        if e.args[0] == 110: # ETIMEDOUT\n",
    "            print(\":\", end=\"\")\n",
    "            continue\n",
    "        raise\n",
    "    k = k.split(b\"\\x04\", 1)\n",
    "    buf.append(k[0])\n",
    "    bufsize += len(k[0])\n",
    "    if len(k) == 1:\n",
    "        k = None\n",
    "        continue\n",
    "    k = k[1]\n",
    "    ss.write(b\"OK\")\n",
    "    ss.write(b\"Thank you for sending {} characters\\r\\n\".format(bufsize))\n",
    "    ss.write(execcc(buf, bufsize))\n",
    "    ss.write(b\"\\x04\\x04>\")\n",
    "    buf.clear()\n",
    "    bufsize = 0\n",
    "    "
   ]
  },
  {
   "cell_type": "code",
   "execution_count": 4,
   "metadata": {},
   "outputs": [
    {
     "name": "stdout",
     "output_type": "stream",
     "text": [
      "1\n",
      "Traceback (most recent call last):\n",
      "  File \"<stdin>\", line 2, in <module>\n",
      "NameError: name 'ss' is not defined\n"
     ]
    }
   ],
   "source": [
    "print(1)\n",
    "print(ss.readline())\n"
   ]
  },
  {
   "cell_type": "code",
   "execution_count": 57,
   "metadata": {
    "collapsed": true
   },
   "outputs": [],
   "source": [
    "ss.close()"
   ]
  },
  {
   "cell_type": "code",
   "execution_count": 8,
   "metadata": {},
   "outputs": [
    {
     "name": "stdout",
     "output_type": "stream",
     "text": [
      "b'thiddng'\r\n"
     ]
    }
   ],
   "source": [
    "print(ss.recv(100))\n"
   ]
  },
  {
   "cell_type": "code",
   "execution_count": 19,
   "metadata": {},
   "outputs": [
    {
     "name": "stdout",
     "output_type": "stream",
     "text": [
      "entering workingserialreadallentering workingserialreadallentering workingserialreadall"
     ]
    }
   ],
   "source": [
    "ss.write(b\"OK\\x04\\04> \")"
   ]
  },
  {
   "cell_type": "code",
   "execution_count": 18,
   "metadata": {},
   "outputs": [
    {
     "name": "stdout",
     "output_type": "stream",
     "text": [
      "entering workingserialreadallentering workingserialreadallentering workingserialreadall"
     ]
    }
   ],
   "source": [
    "ss.write(b\" \")"
   ]
  },
  {
   "cell_type": "code",
   "execution_count": 6,
   "metadata": {},
   "outputs": [
    {
     "name": "stdout",
     "output_type": "stream",
     "text": [
      "Closing serial Serial<id=0x7fd3d8b25a20, open=True>(port='/dev/ttyUSB2', baudrate=115200, bytesize=8, parity='N', stopbits=1, timeout=0.5, xonxoff=False, rtscts=False, dsrdtr=False)\n"
     ]
    }
   ],
   "source": [
    "%disconnect"
   ]
  },
  {
   "cell_type": "code",
   "execution_count": 3,
   "metadata": {},
   "outputs": [
    {
     "name": "stdout",
     "output_type": "stream",
     "text": [
      "Traceback (most recent call last):\n",
      "  File \"<stdin>\", line 1, in <module>\n",
      "NameError: name 'sdfsdf' is not defined\n"
     ]
    }
   ],
   "source": [
    "sdfsdf"
   ]
  },
  {
   "cell_type": "code",
   "execution_count": 62,
   "metadata": {},
   "outputs": [
    {
     "name": "stdout",
     "output_type": "stream",
     "text": [
      "3 lines sent done"
     ]
    }
   ],
   "source": [
    "%sendtofile wificodes.txt\n",
    "\n",
    "DoESLiverpool:------:\n",
    "DoESBackup:------:\n",
    "The Sensible Code Company:------:"
   ]
  },
  {
   "cell_type": "code",
   "execution_count": 4,
   "metadata": {},
   "outputs": [
    {
     "name": "stdout",
     "output_type": "stream",
     "text": [
      "1\n",
      "4\n",
      "16\n",
      "64\n",
      "256\n",
      "1024\n",
      "4096\n",
      "16384\n",
      "65536\n",
      "262144\n"
     ]
    }
   ],
   "source": [
    "for i in range(10):\n",
    "    print(4**i)"
   ]
  },
  {
   "cell_type": "code",
   "execution_count": 1,
   "metadata": {},
   "outputs": [
    {
     "name": "stdout",
     "output_type": "stream",
     "text": [
      "%disconnect\n",
      "    disconnects serial\n",
      "\n",
      "%lsmagic\n",
      "    list magic commands\n",
      "\n",
      "%readbytes\n",
      "    does serial.read_all()\n",
      "\n",
      "%rebootdevice\n",
      "    reboots device\n",
      "\n",
      "%sendtofile [-a] destinationfilename\n",
      "    send cell contents or file to device file\n",
      "\n",
      "%serialconnect [--raw] [portname] [baudrate]\n",
      "    connects to a device over USB wire\n",
      "\n",
      "%socketconnect [--raw] ipnumber portnumber\n",
      "    connects to a socket of a device over wifi\n",
      "\n",
      "%suppressendcode\n",
      "    doesn't send x04 or wait to read after sending the cell\n",
      "  (assists for debugging using %writebytes and %readbytes)\n",
      "\n",
      "%writebytes [-b] stringtosend\n",
      "    does serial.write() of the python quoted string given\n",
      "\n"
     ]
    }
   ],
   "source": [
    "%lsmagic"
   ]
  },
  {
   "cell_type": "code",
   "execution_count": null,
   "metadata": {
    "collapsed": true
   },
   "outputs": [],
   "source": []
  }
 ],
 "metadata": {
  "kernelspec": {
   "display_name": "MicroPython - USB",
   "language": "micropython",
   "name": "micropython"
  },
  "language_info": {
   "codemirror_mode": "python",
   "file_extension": ".py",
   "mimetype": "text/python",
   "name": "micropython"
  }
 },
 "nbformat": 4,
 "nbformat_minor": 2
}

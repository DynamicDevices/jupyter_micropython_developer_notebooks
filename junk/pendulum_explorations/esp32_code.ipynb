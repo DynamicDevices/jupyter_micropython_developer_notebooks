{
 "cells": [
  {
   "cell_type": "code",
   "execution_count": 5,
   "metadata": {},
   "outputs": [
    {
     "name": "stdout",
     "output_type": "stream",
     "text": [
      "\u001b[34mConnecting to --port=/dev/ttyUSB2 --baud=115200 \u001b[0m\n",
      "\u001b[34mReady.\n",
      "\u001b[0m"
     ]
    }
   ],
   "source": [
    "%serialconnect"
   ]
  },
  {
   "cell_type": "code",
   "execution_count": 6,
   "metadata": {},
   "outputs": [
    {
     "name": "stdout",
     "output_type": "stream",
     "text": [
      "['boot.py', 'hangspotmain.py', 'OLED_driver.py', 'BlueFly_funcs.py', 'lib', 'SI7021_funcs.py', 'OLED_grapher.py', 'BNO055_funcs.py', 'NewDataLogger_funcs.py', 'asyn.py', 'device_detection.py', 'TSL561_funcs.py', 'VL53L0X_funcs.py', 'VL6180_funcs.py', 'SDOF_funcs.py', 'SHT31D_funcs.py', 'BME280_funcs.py', 'MLX90621_funcs.py', 'BNO055serial_funcs.py', 'webserve_funcs.py', 'syslog.py', 'ds3231.py', 'ms5611.py', 'connectwifi.py', 'connecthotspot.py', 'lsq_funcs.py', 'syslog.txt', 'wificodes.txt', 'websocket_funcs.py', 'mqtt_as.py', 'config.py', 'thing.py', 'aswitch.py', 'h.txt', 'scriptlet.py', 'thing.txt', 'main.py', 'sdcard_funcs.py', 'UDPsocket_funcs.py', 'Dmain.py']\n"
     ]
    }
   ],
   "source": [
    "import os\n",
    "print(os.listdir())"
   ]
  },
  {
   "cell_type": "code",
   "execution_count": 70,
   "metadata": {},
   "outputs": [
    {
     "name": "stdout",
     "output_type": "stream",
     "text": [
      "[174, 0]\n"
     ]
    }
   ],
   "source": [
    "# Lessons on strings of bytes, hex and bin notation\n",
    "# splitting and joining\n",
    "print(list(b\"\\xAE\\x00\"))\n",
    "print()"
   ]
  },
  {
   "cell_type": "code",
   "execution_count": null,
   "metadata": {},
   "outputs": [],
   "source": [
    "# Then UART interface datasheet"
   ]
  },
  {
   "cell_type": "code",
   "execution_count": 7,
   "metadata": {},
   "outputs": [
    {
     "name": "stdout",
     "output_type": "stream",
     "text": [
      "\u001b[0;32mI (51212) uart: ALREADY NULL\u001b[0m\n"
     ]
    }
   ],
   "source": [
    "import time\n",
    "from machine import UART\n",
    "\n",
    "uart2 = UART(2, baudrate=115200, rx=2, tx=18)\n",
    "# BNO055 SCL -> 18, SDA -> 2\n",
    "#  (put this slide from the datasheet!)"
   ]
  },
  {
   "cell_type": "code",
   "execution_count": null,
   "metadata": {},
   "outputs": [],
   "source": [
    "# Need to make screenshots of the manual as we work through it"
   ]
  },
  {
   "cell_type": "code",
   "execution_count": 22,
   "metadata": {},
   "outputs": [
    {
     "name": "stdout",
     "output_type": "stream",
     "text": [
      "0xbb\n",
      "0x2\n",
      "0x11\n",
      "0x3\n"
     ]
    }
   ],
   "source": [
    "# Read the software version\n",
    "uart2.write(bytes((0xAA, 0x01, 0x04, 2)))\n",
    "time.sleep_ms(20)\n",
    "k = uart2.read()\n",
    "for x in k:\n",
    "    print(hex(x))\n",
    "    \n",
    "# need slide of writing command"
   ]
  },
  {
   "cell_type": "code",
   "execution_count": 23,
   "metadata": {},
   "outputs": [
    {
     "name": "stdout",
     "output_type": "stream",
     "text": [
      "b'\\xee\\x01'\n"
     ]
    }
   ],
   "source": [
    "# put into op mode\n",
    "uart2.write(bytes((0xAA, 0x00, 0x3D, 1, 0x0C)))\n",
    "time.sleep_ms(20)\n",
    "v = uart2.read()\n",
    "print(v)\n"
   ]
  },
  {
   "cell_type": "code",
   "execution_count": 24,
   "metadata": {},
   "outputs": [
    {
     "name": "stdout",
     "output_type": "stream",
     "text": [
      "b'\\xbb\\x01\\x80'\n"
     ]
    }
   ],
   "source": [
    "# The 0x80 android notation\n",
    "uart2.write(bytes((0xAA, 0x01, 0x3B, 1)))\n",
    "time.sleep_ms(20)\n",
    "print(uart2.read())\n"
   ]
  },
  {
   "cell_type": "code",
   "execution_count": 25,
   "metadata": {},
   "outputs": [
    {
     "name": "stdout",
     "output_type": "stream",
     "text": [
      "[187, 6, 75, 5, 155, 1, 159, 9]\n"
     ]
    }
   ],
   "source": [
    "uart2.write(bytes((0xAA, 0x01, 0x1A, 6)))\n",
    "time.sleep_ms(10)\n",
    "v = uart2.read()\n",
    "print(list(v))\n",
    "# read the UNIT_SEL register"
   ]
  },
  {
   "cell_type": "code",
   "execution_count": 27,
   "metadata": {},
   "outputs": [
    {
     "name": "stdout",
     "output_type": "stream",
     "text": [
      "b'\\xbb\\x06K\\x05\\x9b\\x01\\x9f\\t'\n",
      "84.6875\n",
      "[84.6875, 25.6875, 153.9375]\n"
     ]
    }
   ],
   "source": [
    "import ustruct\n",
    "# Now get the pitch roll and heading\n",
    "uart2.write(bytes((0xAA, 0x01, 0x1A, 6)))\n",
    "time.sleep_ms(10)\n",
    "v = uart2.read()\n",
    "print(v)\n",
    "v = v[2:]\n",
    "print((v[0]+v[1]*256)/16)\n",
    "print([x/16  for x in ustruct.unpack(\"<hhh\", v)])"
   ]
  },
  {
   "cell_type": "code",
   "execution_count": 28,
   "metadata": {},
   "outputs": [
    {
     "name": "stdout",
     "output_type": "stream",
     "text": [
      "b'\\xbb\\x18\\xbc\\x13\\xfd\\xd6\\x01\\xd3\\x00\\x00\\x12\\x00\\xf1\\xff\\xdd\\xff\\xa9\\x01}\\xfe\\xe6\\xfc\\x184\\x0f\\x00'\n"
     ]
    }
   ],
   "source": [
    "uart2.write(bytes((0xAA, 0x01, 0x20, 24)))\n",
    "time.sleep_ms(10)\n",
    "v = uart2.read()\n",
    "print(v)\n"
   ]
  },
  {
   "cell_type": "code",
   "execution_count": 29,
   "metadata": {},
   "outputs": [
    {
     "name": "stdout",
     "output_type": "stream",
     "text": [
      "(5052, -10499, -11519, 0, 18, -15, -35, 425, -387, -794, 24, 52)\n"
     ]
    }
   ],
   "source": [
    "print(ustruct.unpack(\"<hhhhhhhhhhbB\", v[2:]))  \n",
    "# See; it's about 9.8m/s^2"
   ]
  },
  {
   "cell_type": "code",
   "execution_count": null,
   "metadata": {},
   "outputs": [],
   "source": []
  },
  {
   "cell_type": "code",
   "execution_count": 57,
   "metadata": {},
   "outputs": [
    {
     "name": "stdout",
     "output_type": "stream",
     "text": [
      "\u001b[31m\n",
      "\n",
      "***Connection broken [Input/output error]\n",
      "\u001b[0mYou may need to reconnect\u001b[34m\n",
      "Closing serial Serial<id=0x7f53c03722e8, open=True>(port='/dev/ttyUSB0', baudrate=115200, bytesize=8, parity='N', stopbits=1, timeout=0.5, xonxoff=False, rtscts=False, dsrdtr=False)\n",
      "\u001b[0m\u001b[34mConnecting to --port=/dev/ttyUSB1 --baud=115200 \u001b[0m\n",
      "\u001b[34mReady.\n",
      "\u001b[0m"
     ]
    }
   ],
   "source": [
    "# UDP technology\n",
    "%serialconnect"
   ]
  },
  {
   "cell_type": "code",
   "execution_count": 45,
   "metadata": {},
   "outputs": [
    {
     "name": "stdout",
     "output_type": "stream",
     "text": [
      "(b'IFP_55d1', b'\\x1c\\x1e\\xe3\\xeeU\\xd1', 11, -52, 0, False)\n",
      "(b'WifiGuest', b'\\xa8\\xb1\\xd4\\xc4\\xb9\\x11', 6, -54, 0, False)\n",
      "(b'eduroam', b'\\xa8\\xb1\\xd4\\xc4\\xb9\\x10', 6, -55, 5, False)\n",
      "(b'Clickshare-Typhoon', b'($\\xff\\xc4\\xb7\\x7f', 1, -57, 3, False)\n",
      "(b'Marty Setup 8321179', b'b\\x01\\x94~\\xf8\\x9b', 1, -58, 0, False)\n",
      "(b'Marty Setup 8358601', b'b\\x01\\x94\\x7f\\x8a\\xc9', 1, -65, 0, False)\n",
      "(b'MY WIFI 4563', b'\\x9cO\\xcf0Ec', 4, -72, 3, False)\n",
      "(b'WifiGuest', b'\\xa8\\xb1\\xd4\\xc4\\xb4Q', 11, -83, 0, False)\n",
      "(b'eduroam', b'\\xf0%r=\\x96\\x00', 1, -84, 5, False)\n",
      "(b'WifiGuest', b'\\xf0%r=\\x96\\x01', 1, -85, 0, False)\n"
     ]
    }
   ],
   "source": [
    "# Demo of available Wifis\n",
    "import network\n",
    "si = network.WLAN(network.STA_IF) \n",
    "si.active(True)\n",
    "k = si.scan()\n",
    "for x in k:\n",
    "    print(x)\n"
   ]
  },
  {
   "cell_type": "code",
   "execution_count": 58,
   "metadata": {},
   "outputs": [
    {
     "name": "stdout",
     "output_type": "stream",
     "text": [
      "('192.168.4.1', '255.255.255.0', '192.168.4.1', '0.0.0.0')\n"
     ]
    }
   ],
   "source": [
    "# Now do UDP packets \n",
    "import network, socket, time\n",
    "\n",
    "si = network.WLAN(network.AP_IF) \n",
    "si.active(True)         \n",
    "print(si.ifconfig())\n"
   ]
  },
  {
   "cell_type": "code",
   "execution_count": 59,
   "metadata": {},
   "outputs": [
    {
     "name": "stdout",
     "output_type": "stream",
     "text": [
      "\n",
      "Connect to wifi ESP_8C1FB2\n"
     ]
    }
   ],
   "source": [
    "espname = \"ESP_%X%X%X\" % tuple(si.config(\"mac\")[-3:])\n",
    "print(\"\\nConnect to wifi {}\".format(espname))\n",
    "port = 9019\n",
    "\n",
    "sockudp = socket.socket(socket.AF_INET, socket.SOCK_DGRAM)\n",
    "sockudp.settimeout(0.1)\n",
    "sockudp.bind((\"192.168.4.1\", port))\n"
   ]
  },
  {
   "cell_type": "code",
   "execution_count": 60,
   "metadata": {},
   "outputs": [
    {
     "name": "stdout",
     "output_type": "stream",
     "text": [
      "b'HiThereAMRC' ('192.168.4.3', 37245)\n"
     ]
    }
   ],
   "source": [
    "sockudp.settimeout(1000)\n",
    "rmess, udpaddr = sockudp.recvfrom(100)\n",
    "print(rmess, udpaddr)"
   ]
  },
  {
   "cell_type": "code",
   "execution_count": 61,
   "metadata": {},
   "outputs": [
    {
     "name": "stdout",
     "output_type": "stream",
     "text": [
      "................\u001b[34m\n",
      "\n",
      "*** Sending Ctrl-C\n",
      "\n",
      "\u001b[0m"
     ]
    },
    {
     "name": "stderr",
     "output_type": "stream",
     "text": [
      "Traceback (most recent call last):\n",
      "  File \"<stdin>\", line 3, in <module>\n",
      "KeyboardInterrupt: \n"
     ]
    }
   ],
   "source": [
    "for i in range(1000):\n",
    "    sockudp.sendto(b\"T%d\"%i, udpaddr)\n",
    "    time.sleep_ms(100)\n"
   ]
  },
  {
   "cell_type": "code",
   "execution_count": null,
   "metadata": {},
   "outputs": [],
   "source": []
  },
  {
   "cell_type": "code",
   "execution_count": 155,
   "metadata": {},
   "outputs": [
    {
     "name": "stdout",
     "output_type": "stream",
     "text": [
      "\u001b[34mConnecting to --port=/dev/ttyUSB4 --baud=115200 \u001b[0m\n",
      "\u001b[34mReady.\n",
      "\u001b[0m"
     ]
    }
   ],
   "source": [
    "%serialconnect"
   ]
  },
  {
   "cell_type": "code",
   "execution_count": 63,
   "metadata": {},
   "outputs": [
    {
     "name": "stdout",
     "output_type": "stream",
     "text": [
      "Sent 33 lines (1057 bytes) to main.py.\n"
     ]
    }
   ],
   "source": [
    "%sendtofile main.py\n",
    "\n",
    "import network, socket, time, ustruct\n",
    "from machine import UART\n",
    "\n",
    "si = network.WLAN(network.AP_IF) \n",
    "si.active(True)         \n",
    "port = 9019\n",
    "sockudp = socket.socket(socket.AF_INET, socket.SOCK_DGRAM)\n",
    "sockudp.settimeout(10000)\n",
    "sockudp.bind((\"192.168.4.1\", port))\n",
    "rmess, udpaddr = sockudp.recvfrom(100)\n",
    "print(\"UDP socket\", udpaddr)\n",
    "\n",
    "uart2 = UART(2, baudrate=115200, rx=2, tx=18)\n",
    "\n",
    "uart2.write(bytes((0xAA, 0x00, 0x3D, 1, 0x0C)))\n",
    "time.sleep_ms(20)\n",
    "print(uart2.read())\n",
    "\n",
    "sockudp.sendto(b\"n,t,qw,qx,qy,qz,lx,ly,lz,gx,gy,gz,temp,calibstat\\n\", udpaddr)\n",
    "n = 0\n",
    "while True:\n",
    "    t = time.ticks_ms()\n",
    "    uart2.write(bytes((0xAA, 0x01, 0x20, 24)))\n",
    "    time.sleep_ms(4)\n",
    "    v = uart2.read()\n",
    "    if v is not None and len(v) == 26:\n",
    "        qw,qx,qy,qz, lx,ly,lz, gx,gy,gz, temp,calibstat = \\\n",
    "            ustruct.unpack(\"<hhhhhhhhhhbB\", v[2:])\n",
    "        s = (n, t, qw,qx,qy,qz, lx/100,ly/100,lz/100, gx/100,gy/100,gz/100, temp,calibstat)\n",
    "        m = b\"%d,%d,%d,%d,%d,%d,%.2f,%.2f,%.2f,%.2f,%.2f,%.2f,%d,%d\\n\" % s\n",
    "        sockudp.sendto(m, udpaddr)\n",
    "        n += 1\n",
    "    time.sleep_ms(6)\n"
   ]
  },
  {
   "cell_type": "code",
   "execution_count": null,
   "metadata": {},
   "outputs": [],
   "source": []
  },
  {
   "cell_type": "code",
   "execution_count": null,
   "metadata": {},
   "outputs": [],
   "source": []
  },
  {
   "cell_type": "code",
   "execution_count": null,
   "metadata": {},
   "outputs": [],
   "source": [
    "# deal with calibration!!!"
   ]
  }
 ],
 "metadata": {
  "kernelspec": {
   "display_name": "MicroPython - USB",
   "language": "micropython",
   "name": "micropython"
  },
  "language_info": {
   "codemirror_mode": "python",
   "file_extension": ".py",
   "mimetype": "text/python",
   "name": "micropython"
  }
 },
 "nbformat": 4,
 "nbformat_minor": 2
}

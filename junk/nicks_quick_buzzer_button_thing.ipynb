{
 "cells": [
  {
   "cell_type": "code",
   "execution_count": 38,
   "metadata": {},
   "outputs": [
    {
     "name": "stdout",
     "output_type": "stream",
     "text": [
      "\u001b[34mConnecting to --port=/dev/ttyUSB5 --baud=115200 \u001b[0m\n",
      "\u001b[34mReady.\n",
      "\u001b[0m"
     ]
    }
   ],
   "source": [
    "%serialconnect"
   ]
  },
  {
   "cell_type": "code",
   "execution_count": 6,
   "metadata": {},
   "outputs": [],
   "source": [
    "import machine, random, time\n",
    "\n",
    "pbutton = machine.Pin(2, machine.Pin.IN, machine.Pin.PULL_UP)  # D4\n",
    "pmotor = machine.Pin(4, machine.Pin.OUT)   # D2\n",
    "pmotor.value(0)"
   ]
  },
  {
   "cell_type": "code",
   "execution_count": 35,
   "metadata": {},
   "outputs": [
    {
     "name": "stdout",
     "output_type": "stream",
     "text": [
      "......\n",
      "**[ys] <class 'serial.serialutil.SerialException'>\n",
      "**[ys] read failed: device reports readiness to read but returned no data (device disconnected or multiple access on port?)\n",
      "\n",
      "\n",
      "**[ys] <class 'serial.serialutil.SerialException'>\n",
      "**[ys] read failed: device reports readiness to read but returned no data (device disconnected or multiple access on port?)\n",
      "\n"
     ]
    }
   ],
   "source": [
    "while True:\n",
    "    x = random.getrandbits(8)/256  # number between 0 and 1\n",
    "    t = 3+x*2                      # time between 3 and 5 seconds\n",
    "    time.sleep(t)\n",
    "    print(\"delay %f seconds\" % t)\n",
    "    pmotor.value(1)\n",
    "    for i in range(100):           # times out after \n",
    "        if pbutton.value() == 0:\n",
    "            break\n",
    "        time.sleep(0.05)\n",
    "    pmotor.value(0)"
   ]
  },
  {
   "cell_type": "code",
   "execution_count": 41,
   "metadata": {},
   "outputs": [
    {
     "name": "stdout",
     "output_type": "stream",
     "text": [
      "\u001b[34mConnecting to --port=/dev/ttyUSB5 --baud=115200 \u001b[0m\n",
      "\u001b[34mReady.\n",
      "\u001b[0m"
     ]
    }
   ],
   "source": [
    "%serialconnect"
   ]
  },
  {
   "cell_type": "code",
   "execution_count": 42,
   "metadata": {},
   "outputs": [
    {
     "name": "stdout",
     "output_type": "stream",
     "text": [
      "Sent 18 lines (549 bytes) to main.py.\n"
     ]
    }
   ],
   "source": [
    "%sendtofile main.py\n",
    "\n",
    "import machine, random, time\n",
    "\n",
    "pbutton = machine.Pin(2, machine.Pin.IN, machine.Pin.PULL_UP)  # D4\n",
    "pmotor = machine.Pin(4, machine.Pin.OUT)   # D2\n",
    "pmotor.value(0)\n",
    "\n",
    "while True:\n",
    "    x = random.getrandbits(8)/256  # number between 0 and 1\n",
    "    t = 3+x*2                      # time between 3 and 5 seconds\n",
    "    time.sleep(t)\n",
    "    print(\"delay %f seconds\" % t)\n",
    "    pmotor.value(1)\n",
    "    for i in range(100):           # times out after 100*0.05=5 seconds\n",
    "        if pbutton.value() == 0:   # button shorts to ground\n",
    "            break\n",
    "        time.sleep(0.05)\n",
    "    pmotor.value(0)\n",
    "        "
   ]
  },
  {
   "cell_type": "code",
   "execution_count": null,
   "metadata": {},
   "outputs": [],
   "source": []
  },
  {
   "cell_type": "code",
   "execution_count": null,
   "metadata": {},
   "outputs": [],
   "source": []
  },
  {
   "cell_type": "code",
   "execution_count": null,
   "metadata": {},
   "outputs": [],
   "source": []
  }
 ],
 "metadata": {
  "kernelspec": {
   "display_name": "MicroPython - USB",
   "language": "micropython",
   "name": "micropython"
  },
  "language_info": {
   "codemirror_mode": "python",
   "file_extension": ".py",
   "mimetype": "text/python",
   "name": "micropython"
  }
 },
 "nbformat": 4,
 "nbformat_minor": 2
}

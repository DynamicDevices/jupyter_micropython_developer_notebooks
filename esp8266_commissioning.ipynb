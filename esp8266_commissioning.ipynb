{
 "cells": [
  {
   "cell_type": "code",
   "execution_count": 1,
   "metadata": {},
   "outputs": [
    {
     "name": "stdout",
     "output_type": "stream",
     "text": [
      "\u001b[34mExecuting:\n",
      "  esptool.py --port /dev/ttyUSB1 erase_flash\n",
      "\n",
      "\u001b[0mesptool.py v2.0\n",
      "Connecting....\n",
      "Detecting chip type... ESP8266\n",
      "Chip is ESP8266\n",
      "Uploading stub...\n",
      "Running stub...\n",
      "Stub running...\n",
      "Erasing flash (this may take a while)...\n",
      "Chip erase completed successfully in 11.3s\n",
      "Hard resetting...\n"
     ]
    }
   ],
   "source": [
    "%esptool erase"
   ]
  },
  {
   "cell_type": "code",
   "execution_count": 2,
   "metadata": {},
   "outputs": [
    {
     "name": "stdout",
     "output_type": "stream",
     "text": [
      "\u001b[34mExecuting:\n",
      "  esptool.py --port /dev/ttyUSB1 --baud 460800 write_flash --flash_size=detect -fm dio 0 /home/julian/executables/micropythonbins/esp8266-20171101-v1.9.3.bin\n",
      "\n",
      "\u001b[0mesptool.py v2.0\n",
      "Connecting....\n",
      "Detecting chip type... ESP8266\n",
      "Chip is ESP8266\n",
      "Uploading stub...\n",
      "Running stub...\n",
      "Stub running...\n",
      "Changing baud rate to 460800\n",
      "Changed.\n",
      "Configuring flash size...\n",
      "Auto-detected Flash size: 4MB\n",
      "Flash params set to 0x0240\n",
      "Compressed 600888 bytes to 392073...\n",
      "Wrote 600888 bytes (392073 compressed) at 0x00000000 in 9.1 seconds (effective 530.4 kbit/s)...\n",
      "Hash of data verified.\n",
      "\n",
      "Leaving...\n",
      "Hard resetting...\n"
     ]
    }
   ],
   "source": [
    "# download your bin file from here:  https://micropython.org/download\n",
    "%esptool esp8266 /home/julian/executables/micropythonbins/esp8266-20171101-v1.9.3.bin"
   ]
  },
  {
   "cell_type": "code",
   "execution_count": 4,
   "metadata": {},
   "outputs": [
    {
     "name": "stdout",
     "output_type": "stream",
     "text": [
      "\u001b[34mConnecting to Serial /dev/ttyUSB1 baud=115200 \u001b[0m\n",
      "import network, ubinascii\n",
      ">>> \n",
      ">>> \u001b[31mUnrecognized percentline ['%commend \"This is the ESP8266\\'s hotspot name\"']\n",
      "\u001b[0m'MicroPython-%s'%ubinascii.hexlify(network.WLAN().config('mac')[-3:]).decode()\n",
      "'MicroPython-ac74e4'\n",
      ">>> \n",
      ">>> \n",
      "PYB: soft reboot\n",
      "#6 ets_task(40100130, 3, 3fff837c, 4)\n",
      "OSError: [Errno 2] ENOENT\n",
      "MicroPython v1.9.3-8-g63826ac5c on 2017-11-01; ESP module with ESP8266\n",
      "Type \"help()\" for more information.\n",
      ">>> import webrepl_setup\n",
      "WebREPL daemon auto-start status: disabled\n",
      "\n",
      "Would you like to (E)nable or (D)isable it running on boot?\n",
      "(Empty line to quit)\n",
      "> E\n",
      "To enable WebREPL, you must set password for it\n",
      "New password (4-9 chars): y\n",
      "Invalid password length\n",
      "New password (4-9 chars): wpass\n",
      "Confirm password: wpass\n",
      "\u001b[34m\n",
      "Closing serial Serial<id=0x7f45f1bf1518, open=True>(port='/dev/ttyUSB1', baudrate=115200, bytesize=8, parity='N', stopbits=1, timeout=0.5, xonxoff=False, rtscts=False, dsrdtr=False)\n",
      "\u001b[0m"
     ]
    }
   ],
   "source": [
    "# Setting up the webrepl hotspot with password=wpass\n",
    "%serialconnect --raw\n",
    "%readbytes \n",
    "\n",
    "# Print out the hotspot name (while we are here)\n",
    "%writebytes \"import network, ubinascii\\r\\n\"\n",
    "%readbytes\n",
    "%writebytes \"\\r\\n\"\n",
    "%readbytes\n",
    "%writebytes \"'MicroPython-%s'%ubinascii.hexlify(network.WLAN().config('mac')[-3:]).decode()\\r\\n\"\n",
    "%comment \"This is the ESP8266's hotspot name\"\n",
    "%readbytes\n",
    "%writebytes \"\\r\\n\"\n",
    "%readbytes\n",
    "\n",
    "# soft reset so import works\n",
    "%writebytes \"\\x04\"\n",
    "%readbytes\n",
    "%writebytes \"import webrepl_setup\\r\\n\"\n",
    "%readbytes \n",
    "%writebytes \"E\\r\\n\"\n",
    "%readbytes\n",
    "\n",
    "# uncomment if second time (with additional question of changing password)\n",
    "#%writebytes \"y\\r\\n\"\n",
    "#%readbytes\n",
    "\n",
    "# set the password\n",
    "%writebytes \"wpass\\r\\n\"\n",
    "%readbytes\n",
    "%writebytes \"wpass\\r\\n\"\n",
    "%readbytes\n",
    "\n",
    "#%writebytes \"y\\r\\n\"\n",
    "#%readbytes\n",
    "\n",
    "%writebytes \"\\x04\"\n",
    "%readbytes\n",
    "%disconnect --raw"
   ]
  },
  {
   "cell_type": "code",
   "execution_count": 5,
   "metadata": {},
   "outputs": [
    {
     "name": "stdout",
     "output_type": "stream",
     "text": [
      "\u001b[34mConnecting to Serial /dev/ttyUSB1 baud=115200 \u001b[0m\n",
      "\u001b[34mReady.\n",
      "\u001b[0m"
     ]
    }
   ],
   "source": [
    "%serialconnect"
   ]
  },
  {
   "cell_type": "code",
   "execution_count": 6,
   "metadata": {},
   "outputs": [
    {
     "name": "stdout",
     "output_type": "stream",
     "text": [
      "__main__          http_client_ssl   sys               urandom\n",
      "_boot             http_server       time              ure\n",
      "_onewire          http_server_ssl   uasyncio/__init__ urequests\n",
      "_webrepl          inisetup          uasyncio/core     urllib/urequest\n",
      "apa102            json              ubinascii         uselect\n",
      "array             lwip              ucollections      usocket\n",
      "btree             machine           uctypes           ussl\n",
      "builtins          math              uerrno            ustruct\n",
      "dht               micropython       uhashlib          utime\n",
      "ds18x20           neopixel          uheapq            utimeq\n",
      "errno             network           uio               uzlib\n",
      "esp               ntptime           ujson             webrepl\n",
      "example_pub_button                  onewire           umqtt/robust      webrepl_setup\n",
      "example_sub_led   os                umqtt/simple      websocket\n",
      "flashbdev         port_diag         uos               websocket_helper\n",
      "framebuf          select            upip\n",
      "gc                socket            upip_utarfile\n",
      "http_client       ssd1306           upysh\n",
      "Plus any modules on the filesystem\n"
     ]
    }
   ],
   "source": [
    "help(\"modules\")   # here are all the modules available"
   ]
  },
  {
   "cell_type": "code",
   "execution_count": 14,
   "metadata": {},
   "outputs": [
    {
     "name": "stdout",
     "output_type": "stream",
     "text": [
      "object <module 'sys'> is of type module\n",
      "  __name__ -- sys\n",
      "  path -- ['', '/lib', '/']\n",
      "  argv -- []\n",
      "  version -- 3.4.0\n",
      "  version_info -- (3, 4, 0)\n",
      "  implementation -- (name='micropython', version=(1, 9, 3))\n",
      "  platform -- esp8266\n",
      "  byteorder -- little\n",
      "  maxsize -- 2147483647\n",
      "  exit -- <function>\n",
      "  stdin -- <io.FileIO 0>\n",
      "  stdout -- <io.FileIO 1>\n",
      "  stderr -- <io.FileIO 2>\n",
      "  modules -- {'flashbdev': <module 'flashbdev'>, 'websocket_helper': <module 'websocket_helper'>, 'webrepl': <module 'webrepl'>, 'webrepl_cfg': <module 'webrepl_cfg'>}\n",
      "  print_exception -- <function>\n"
     ]
    }
   ],
   "source": [
    "import sys\n",
    "help(sys)"
   ]
  },
  {
   "cell_type": "code",
   "execution_count": 7,
   "metadata": {},
   "outputs": [
    {
     "name": "stdout",
     "output_type": "stream",
     "text": [
      "attempt to exit paste mode\n",
      "[\\r\\x03\\x02] b'\\r\\nMicroPython v1.9.3-8-g63826ac5c on 2017-11-01; ESP module with ESP8266\\r\\nType \"help()\" for more information.\\r\\n>>> '\u001b[34m\n",
      "Closing serial Serial<id=0x7f45f9a6c518, open=True>(port='/dev/ttyUSB1', baudrate=115200, bytesize=8, parity='N', stopbits=1, timeout=0.5, xonxoff=False, rtscts=False, dsrdtr=False)\n",
      "\u001b[0m"
     ]
    }
   ],
   "source": [
    "%disconnect"
   ]
  },
  {
   "cell_type": "code",
   "execution_count": null,
   "metadata": {
    "collapsed": true
   },
   "outputs": [],
   "source": []
  },
  {
   "cell_type": "code",
   "execution_count": null,
   "metadata": {
    "collapsed": true
   },
   "outputs": [],
   "source": []
  },
  {
   "cell_type": "code",
   "execution_count": null,
   "metadata": {
    "collapsed": true
   },
   "outputs": [],
   "source": [
    "# Now you can connect your wifi to the hotspot MicroPython-XXXXX given above\n",
    "# when the webrepl was set up.  Default wifi password is: \"micropythoN\"\n"
   ]
  },
  {
   "cell_type": "code",
   "execution_count": 4,
   "metadata": {},
   "outputs": [
    {
     "name": "stdout",
     "output_type": "stream",
     "text": [
      "\u001b[34m** WebSocket connected **\n",
      "\u001b[0mPassword: \u001b[34mReady.\n",
      "\u001b[0m"
     ]
    }
   ],
   "source": [
    "%websocketconnect --password wpass"
   ]
  },
  {
   "cell_type": "code",
   "execution_count": 5,
   "metadata": {},
   "outputs": [
    {
     "name": "stdout",
     "output_type": "stream",
     "text": [
      "object <module 'umachine'> is of type module\n",
      "  __name__ -- umachine\n",
      "  mem8 -- <8-bit memory>\n",
      "  mem16 -- <16-bit memory>\n",
      "  mem32 -- <32-bit memory>\n",
      "  freq -- <function>\n",
      "  reset -- <function>\n",
      "  reset_cause -- <function>\n",
      "  unique_id -- <function>\n",
      "  idle -- <function>\n",
      "  sleep -- <function>\n",
      "  deepsleep -- <function>\n",
      "  disable_irq -- <function>\n",
      "  enable_irq -- <function>\n",
      "  time_pulse_us -- <function>\n",
      "  RTC -- <class 'RTC'>\n",
      "  Timer -- <class 'Timer'>\n",
      "  WDT -- <class 'WDT'>\n",
      "  Pin -- <class 'Pin'>\n",
      "  Signal -- <class 'Signal'>\n",
      "  PWM -- <class 'PWM'>\n",
      "  ADC -- <class 'ADC'>\n",
      "  UART -- <class 'UART'>\n",
      "  I2C -- <class 'I2C'>\n",
      "  SPI -- <class 'HSPI'>\n",
      "  DEEPSLEEP -- 4\n",
      "  PWRON_RESET -- 0\n",
      "  HARD_RESET -- 6\n",
      "  DEEPSLEEP_RESET -- 5\n",
      "  WDT_RESET -- 1\n",
      "  SOFT_RESET -- 4\n"
     ]
    }
   ],
   "source": [
    "import machine\n",
    "help(machine)"
   ]
  },
  {
   "cell_type": "code",
   "execution_count": 6,
   "metadata": {},
   "outputs": [
    {
     "name": "stdout",
     "output_type": "stream",
     "text": [
      "\u001b[34mattempt to exit paste mode\n",
      "\u001b[0m\u001b[34m[\\r\\x03\\x02] \u001b[0m\n",
      "MicroPython v1.9.3-8-g63826ac5c on 2017-11-01; ESP module with ESP8266\n",
      "Type \"help()\" for more information.\n",
      ">>> \u001b[34m\n",
      "Closing websocket <websocket._core.WebSocket object at 0x7f63f38b16d8>\n",
      "\u001b[0m"
     ]
    }
   ],
   "source": [
    "%disconnect"
   ]
  },
  {
   "cell_type": "code",
   "execution_count": null,
   "metadata": {
    "collapsed": true
   },
   "outputs": [],
   "source": []
  }
 ],
 "metadata": {
  "kernelspec": {
   "display_name": "MicroPython - USB",
   "language": "micropython",
   "name": "micropython"
  },
  "language_info": {
   "codemirror_mode": "python",
   "file_extension": ".py",
   "mimetype": "text/python",
   "name": "micropython"
  }
 },
 "nbformat": 4,
 "nbformat_minor": 2
}

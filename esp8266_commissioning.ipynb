{
 "cells": [
  {
   "cell_type": "code",
   "execution_count": null,
   "metadata": {
    "collapsed": true
   },
   "outputs": [],
   "source": [
    "# If doing a sonoff device  you may need to hold the button down when you turn it on to enable flash mode"
   ]
  },
  {
   "cell_type": "code",
   "execution_count": 1,
   "metadata": {},
   "outputs": [
    {
     "name": "stdout",
     "output_type": "stream",
     "text": [
      "\u001b[34mExecuting:\n",
      "  esptool.py --port /dev/ttyUSB0 erase_flash\n",
      "\n",
      "\u001b[0mesptool.py v2.0\n",
      "Connecting....\n",
      "\u001b[34m[Press the PRG button now if required]\n",
      "\u001b[0mDetecting chip type... ESP8266\n",
      "Chip is ESP8266\n",
      "Uploading stub...\n",
      "Running stub...\n",
      "Stub running...\n",
      "Erasing flash (this may take a while)...\n",
      "Chip erase completed successfully in 6.5s\n",
      "Hard resetting...\n"
     ]
    }
   ],
   "source": [
    "%esptool erase"
   ]
  },
  {
   "cell_type": "code",
   "execution_count": 2,
   "metadata": {},
   "outputs": [
    {
     "name": "stdout",
     "output_type": "stream",
     "text": [
      "\u001b[34mExecuting:\n",
      "  esptool.py --port /dev/ttyUSB0 --baud 460800 write_flash --flash_size=detect -fm dio 0 /home/julian/executables/micropythonbins/esp8266-20190412-v1.10-278-g673e154df.bin\n",
      "\n",
      "\u001b[0mesptool.py v2.0\n",
      "Connecting....\n",
      "\u001b[34m[Press the PRG button now if required]\n",
      "\u001b[0mDetecting chip type... ESP8266\n",
      "Chip is ESP8266\n",
      "Uploading stub...\n",
      "Running stub...\n",
      "Stub running...\n",
      "Changing baud rate to 460800\n",
      "Changed.\n",
      "Configuring flash size...\n",
      "Auto-detected Flash size: 4MB\n",
      "Flash params set to 0x0240\n",
      "Compressed 589096 bytes to 385541...\n",
      "Wrote 589096 bytes (385541 compressed) at 0x00000000 in 9.0 seconds (effective 526.4 kbit/s)...\n",
      "Hash of data verified.\n",
      "\n",
      "Leaving...\n",
      "Hard resetting...\n"
     ]
    }
   ],
   "source": [
    "# download your bin file from here:  https://micropython.org/download\n",
    "%esptool esp8266 /home/julian/executables/micropythonbins/esp8266-20190412-v1.10-278-g673e154df.bin"
   ]
  },
  {
   "cell_type": "code",
   "execution_count": 4,
   "metadata": {},
   "outputs": [
    {
     "name": "stdout",
     "output_type": "stream",
     "text": [
      "\u001b[34mConnecting to --port=/dev/ttyUSB0 --baud=115200 \u001b[0m\n",
      "import network, ubinascii\n",
      ">>> \n",
      ">>> \u001b[32mThis is the ESP8266's hotspot name\u001b[0m'MicroPython-%s'%ubinascii.hexlify(network.WLAN().config('mac')[-3:]).decode()\n",
      "'MicroPython-701dda'\n",
      ">>> \n",
      ">>> \n",
      "PYB: soft reboot\n",
      "OSError: [Errno 2] ENOENT\n",
      "MicroPython v1.9.4-782-geb446ec22 on 2019-01-22; ESP module with ESP8266\n",
      "Type \"help()\" for more information.\n",
      ">>> import webrepl_setup\n",
      "WebREPL daemon auto-start status: disabled\n",
      "\n",
      "Would you like to (E)nable or (D)isable it running on boot?\n",
      "(Empty line to quit)\n",
      "> E\n",
      "To enable WebREPL, you must set password for it\n",
      "New password (4-9 chars): wpass\n",
      "Confirm password: wpass\n",
      "\u001b[34m\n",
      "Closing serial Serial<id=0x7f9c2c0549b0, open=True>(port='/dev/ttyUSB0', baudrate=115200, bytesize=8, parity='N', stopbits=1, timeout=0.5, xonxoff=False, rtscts=False, dsrdtr=False)\n",
      "\u001b[0m"
     ]
    }
   ],
   "source": [
    "# Setting up the webrepl hotspot with password=wpass\n",
    "%serialconnect --raw\n",
    "%readbytes \n",
    "\n",
    "# Print out the hotspot name (while we are here)\n",
    "%writebytes \"import network, ubinascii\\r\\n\"\n",
    "%readbytes\n",
    "%writebytes \"\\r\\n\"\n",
    "%readbytes\n",
    "%writebytes \"'MicroPython-%s'%ubinascii.hexlify(network.WLAN().config('mac')[-3:]).decode()\\r\\n\"\n",
    "%comment \"This is the ESP8266's hotspot name\"\n",
    "%readbytes\n",
    "%writebytes \"\\r\\n\"\n",
    "%readbytes\n",
    "\n",
    "# soft reset so import works\n",
    "%writebytes \"\\x04\"\n",
    "%readbytes\n",
    "%writebytes \"import webrepl_setup\\r\\n\"\n",
    "%readbytes \n",
    "%writebytes \"E\\r\\n\"\n",
    "%readbytes\n",
    "\n",
    "# uncomment if second time (with additional question of changing password)\n",
    "#%writebytes \"y\\r\\n\"\n",
    "#%readbytes\n",
    "\n",
    "# set the password\n",
    "%writebytes \"wpass\\r\\n\"\n",
    "%readbytes\n",
    "%writebytes \"wpass\\r\\n\"\n",
    "%readbytes\n",
    "\n",
    "#%writebytes \"y\\r\\n\"\n",
    "#%readbytes\n",
    "\n",
    "%writebytes \"\\x04\"\n",
    "%readbytes\n",
    "%disconnect --raw"
   ]
  },
  {
   "cell_type": "code",
   "execution_count": 3,
   "metadata": {},
   "outputs": [
    {
     "name": "stdout",
     "output_type": "stream",
     "text": [
      "\u001b[34mConnecting to --port=/dev/ttyUSB0 --baud=115200 \u001b[0m\n",
      "\u001b[34mReady.\n",
      "\u001b[0m['boot.py']\n"
     ]
    }
   ],
   "source": [
    "%serialconnect\n",
    "import os\n",
    "print(os.listdir())"
   ]
  },
  {
   "cell_type": "code",
   "execution_count": 33,
   "metadata": {},
   "outputs": [
    {
     "name": "stdout",
     "output_type": "stream",
     "text": [
      "\u001b[34mattempt to exit paste mode\n",
      "\u001b[0m\u001b[34m[\\r\\x03\\x02] \u001b[0mb'\\r\\nMicroPython v1.9.4-8-ga9a3caad0 on 2018-05-11; ESP module with ESP8266\\r\\nType \"help()\" for more information.\\r\\n>>> '\u001b[34m\n",
      "Closing serial Serial<id=0x7fedbd447d68, open=True>(port='/dev/ttyUSB5', baudrate=115200, bytesize=8, parity='N', stopbits=1, timeout=0.5, xonxoff=False, rtscts=False, dsrdtr=False)\n",
      "\u001b[0m"
     ]
    }
   ],
   "source": [
    "%disconnect"
   ]
  },
  {
   "cell_type": "code",
   "execution_count": 4,
   "metadata": {},
   "outputs": [
    {
     "name": "stdout",
     "output_type": "stream",
     "text": [
      "__main__          hashlib           socket            urandom\n",
      "_boot             inisetup          ssl               ure\n",
      "_onewire          io                struct            uselect\n",
      "_webrepl          json              sys               usocket\n",
      "apa102            lwip              time              ussl\n",
      "array             machine           ubinascii         ustruct\n",
      "binascii          math              ucollections      utime\n",
      "btree             micropython       ucryptolib        utimeq\n",
      "builtins          neopixel          uctypes           uwebsocket\n",
      "collections       network           uerrno            uzlib\n",
      "dht               ntptime           uhashlib          webrepl\n",
      "ds18x20           onewire           uheapq            webrepl_setup\n",
      "errno             os                uio               websocket_helper\n",
      "esp               port_diag         ujson             zlib\n",
      "flashbdev         random            uos\n",
      "framebuf          re                upip\n",
      "gc                select            upip_utarfile\n",
      "Plus any modules on the filesystem\n"
     ]
    }
   ],
   "source": [
    "help(\"modules\")   # here are all the modules available"
   ]
  },
  {
   "cell_type": "code",
   "execution_count": 62,
   "metadata": {},
   "outputs": [
    {
     "name": "stdout",
     "output_type": "stream",
     "text": [
      "serial exception on close write failed: [Errno 5] Input/output error\n",
      "\u001b[34mConnecting to --port=/dev/ttyUSB7 --baud=115200 \u001b[0m\n",
      "\u001b[34mReady.\n",
      "\u001b[0m"
     ]
    }
   ],
   "source": [
    "%serialconnect"
   ]
  },
  {
   "cell_type": "code",
   "execution_count": 5,
   "metadata": {},
   "outputs": [],
   "source": [
    "import machine\n",
    "p = machine.PWM(machine.Pin(5))\n"
   ]
  },
  {
   "cell_type": "code",
   "execution_count": 9,
   "metadata": {},
   "outputs": [],
   "source": [
    "import time\n",
    "p.duty(0); time.sleep(1); p.duty(1023); time.sleep_ms(90); p.duty(0); time.sleep_ms(100); p.duty(500);\n",
    "\n",
    "import urandom"
   ]
  },
  {
   "cell_type": "code",
   "execution_count": 47,
   "metadata": {},
   "outputs": [
    {
     "name": "stdout",
     "output_type": "stream",
     "text": [
      "0x41\n"
     ]
    }
   ],
   "source": [
    "print(hex(65))"
   ]
  },
  {
   "cell_type": "code",
   "execution_count": 19,
   "metadata": {},
   "outputs": [
    {
     "name": "stdout",
     "output_type": "stream",
     "text": [
      "Sent 6 lines (120 bytes) to main.py.\n"
     ]
    }
   ],
   "source": [
    "# nodemcu D1 = pin5, D2 = pin4\n",
    "%sendtofile main.py\n",
    "\n",
    "import machine\n",
    "p1 = machine.Pin(5, machine.Pin.OUT)\n",
    "p2 = machine.PWM(machine.Pin(4))\n",
    "p2.duty(512)\n",
    "p1.value(1)\n",
    "print(p2)\n"
   ]
  },
  {
   "cell_type": "code",
   "execution_count": 35,
   "metadata": {},
   "outputs": [],
   "source": [
    "# nodemcu D1 = pin5 = SDA, D2 = pin4 = SCL\n",
    "import machine\n",
    "i2c = machine.I2C(scl=machine.Pin(4), sda=machine.Pin(5))"
   ]
  },
  {
   "cell_type": "code",
   "execution_count": 36,
   "metadata": {},
   "outputs": [
    {
     "name": "stdout",
     "output_type": "stream",
     "text": [
      "[60]\n"
     ]
    }
   ],
   "source": [
    "print(i2c.scan())"
   ]
  },
  {
   "cell_type": "code",
   "execution_count": null,
   "metadata": {
    "collapsed": true
   },
   "outputs": [],
   "source": [
    "# Now you can connect your wifi to the hotspot MicroPython-XXXXX given above\n",
    "# when the webrepl was set up.  Default wifi password is: \"micropythoN\"\n"
   ]
  },
  {
   "cell_type": "code",
   "execution_count": 4,
   "metadata": {},
   "outputs": [
    {
     "name": "stdout",
     "output_type": "stream",
     "text": [
      "\u001b[34m** WebSocket connected **\n",
      "\u001b[0mPassword: \u001b[34mReady.\n",
      "\u001b[0m"
     ]
    }
   ],
   "source": [
    "%websocketconnect --password wpass"
   ]
  },
  {
   "cell_type": "code",
   "execution_count": 6,
   "metadata": {},
   "outputs": [
    {
     "name": "stdout",
     "output_type": "stream",
     "text": [
      "\u001b[34mattempt to exit paste mode\n",
      "\u001b[0m\u001b[34m[\\r\\x03\\x02] \u001b[0m\n",
      "MicroPython v1.9.3-8-g63826ac5c on 2017-11-01; ESP module with ESP8266\n",
      "Type \"help()\" for more information.\n",
      ">>> \u001b[34m\n",
      "Closing websocket <websocket._core.WebSocket object at 0x7f63f38b16d8>\n",
      "\u001b[0m"
     ]
    }
   ],
   "source": [
    "%disconnect"
   ]
  },
  {
   "cell_type": "code",
   "execution_count": null,
   "metadata": {
    "collapsed": true
   },
   "outputs": [],
   "source": []
  },
  {
   "cell_type": "code",
   "execution_count": null,
   "metadata": {
    "collapsed": true
   },
   "outputs": [],
   "source": []
  },
  {
   "cell_type": "code",
   "execution_count": null,
   "metadata": {
    "collapsed": true
   },
   "outputs": [],
   "source": []
  },
  {
   "cell_type": "code",
   "execution_count": 1,
   "metadata": {},
   "outputs": [
    {
     "name": "stdout",
     "output_type": "stream",
     "text": [
      "\u001b[34mConnecting to Serial /dev/ttyUSB1 baud=115200 \u001b[0m\n",
      "\u001b[34mReady.\n",
      "\u001b[0m"
     ]
    }
   ],
   "source": [
    "# Now try to connect to through wifi version\n",
    "%serialconnect"
   ]
  },
  {
   "cell_type": "code",
   "execution_count": 17,
   "metadata": {},
   "outputs": [
    {
     "name": "stdout",
     "output_type": "stream",
     "text": [
      "MicroPython-ac74e4\n"
     ]
    }
   ],
   "source": []
  },
  {
   "cell_type": "code",
   "execution_count": 74,
   "metadata": {},
   "outputs": [
    {
     "name": "stdout",
     "output_type": "stream",
     "text": [
      "..('192.168.0.56', '255.255.255.0', '192.168.0.1', '77.75.184.5')\n",
      "MicroPython-ac74e4\n"
     ]
    }
   ],
   "source": [
    "import network, ubinascii\n",
    "staif = network.WLAN(network.STA_IF)\n",
    "staif.active(True)\n",
    "doesssid = max((x  for x in staif.scan()  if x[0][:4] == b'DoES'), key=lambda X:X[3])[0]\n",
    "staif.connect(doesssid, b'decafbad00')\n",
    "while not staif.isconnected():\n",
    "    pass\n",
    "print(staif.ifconfig())\n",
    "clientid = 'MicroPython-%s'%ubinascii.hexlify(network.WLAN().config('mac')[-3:]).decode()\n",
    "print(clientid)\n"
   ]
  },
  {
   "cell_type": "code",
   "execution_count": 29,
   "metadata": {},
   "outputs": [
    {
     "name": "stdout",
     "output_type": "stream",
     "text": [
      "('192.168.0.56', '255.255.255.0', '192.168.0.1', '77.75.184.5')\n"
     ]
    }
   ],
   "source": []
  },
  {
   "cell_type": "code",
   "execution_count": 30,
   "metadata": {},
   "outputs": [
    {
     "name": "stdout",
     "output_type": "stream",
     "text": [
      "b'\\\\\\xcf\\x7f\\xact\\xe4'\n"
     ]
    }
   ],
   "source": [
    "print(sta_if.config(\"mac\"))\n"
   ]
  },
  {
   "cell_type": "code",
   "execution_count": 75,
   "metadata": {
    "collapsed": true
   },
   "outputs": [],
   "source": [
    "from umqtt.robust import MQTTClient\n",
    "mqttbroker = \"192.168.0.159\"   # mqtt.local\n",
    "client = MQTTClient(clientid, mqttbroker)\n"
   ]
  },
  {
   "cell_type": "code",
   "execution_count": 41,
   "metadata": {},
   "outputs": [
    {
     "name": "stderr",
     "output_type": "stream",
     "text": [
      "Traceback (most recent call last):\n",
      "  File \"<stdin>\", line 2\n",
      "TypeError: unsupported types for __divmod__: 'MQTTClient', 'bytes'\n"
     ]
    }
   ],
   "source": [
    "client.connect()\n",
    "client.publish(b\"foo_topic\", b\"hello\")\n"
   ]
  },
  {
   "cell_type": "code",
   "execution_count": 79,
   "metadata": {
    "collapsed": true
   },
   "outputs": [],
   "source": [
    "#c = MQTTClient(\"umqtt_client\", mqttbroker)\n",
    "client.connect()\n",
    "client.publish(b\"ESPURNA_A7A528/relay/0/set\", b\"0\")\n",
    "client.publish((clientid+\"/ip\").encode(), staif.ifconfig()[0].encode())\n",
    "client.disconnect()\n"
   ]
  }
 ],
 "metadata": {
  "kernelspec": {
   "display_name": "MicroPython - USB",
   "language": "micropython",
   "name": "micropython"
  },
  "language_info": {
   "codemirror_mode": "python",
   "file_extension": ".py",
   "mimetype": "text/python",
   "name": "micropython"
  }
 },
 "nbformat": 4,
 "nbformat_minor": 2
}

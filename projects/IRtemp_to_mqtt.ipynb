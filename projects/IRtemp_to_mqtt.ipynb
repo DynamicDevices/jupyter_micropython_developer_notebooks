{
 "cells": [
  {
   "cell_type": "code",
   "execution_count": 6,
   "metadata": {},
   "outputs": [
    {
     "name": "stdout",
     "output_type": "stream",
     "text": [
      "serial exception on close write failed: [Errno 5] Input/output error\n",
      "\u001b[34mConnecting to --port=/dev/ttyUSB0 --baud=115200 \u001b[0m\n",
      "\u001b[34mReady.\n",
      "\u001b[0m"
     ]
    }
   ],
   "source": [
    "%serialconnect"
   ]
  },
  {
   "cell_type": "code",
   "execution_count": 23,
   "metadata": {},
   "outputs": [
    {
     "name": "stdout",
     "output_type": "stream",
     "text": [
      "Sent 18 lines (422 bytes) to main.py.\n"
     ]
    }
   ],
   "source": [
    "%sendtofile main.py\n",
    "\n",
    "import machine, time\n",
    "a1 = machine.ADC(machine.Pin(32))\n",
    "a1.atten(machine.ADC.ATTN_11DB)\n",
    "a1.width(machine.ADC.WIDTH_12BIT)\n",
    "\n",
    "b = machine.PWM(machine.Pin(23, machine.Pin.OUT))\n",
    "d = machine.PWM(machine.Pin(22, machine.Pin.OUT), duty=102)\n",
    "\n",
    "x0 = 0\n",
    "while 1:\n",
    "    x = a1.read()\n",
    "    if abs(x-x0) > 2:\n",
    "        f = x/4095\n",
    "        b.duty(int(f*512+511))\n",
    "        d.duty(int(f*150+130))\n",
    "        x0 = x\n",
    "        print(x)\n",
    "    time.sleep(0.2)\n"
   ]
  },
  {
   "cell_type": "code",
   "execution_count": 44,
   "metadata": {},
   "outputs": [
    {
     "name": "stdout",
     "output_type": "stream",
     "text": [
      "Sent 79 lines (2294 bytes) to sevensegmentdisplay.py.\n"
     ]
    }
   ],
   "source": [
    "# This requires you to checkout https://github.com/micropython/micropython-lib and avoids the upip\n",
    "%sendtofile --mkdir --source /home/julian/extrepositories/micropython-lib/uasyncio/uasyncio/__init__.py lib/uasyncio/\n",
    "%sendtofile --mkdir --source /home/julian/extrepositories/micropython-lib/uasyncio.core/uasyncio/core.py lib/uasyncio/\n",
    "%sendtofile --mkdir --source /home/julian/extrepositories/micropython-lib/uasyncio.queues/uasyncio/queues.py lib/uasyncio/\n",
    "%sendtofile --mkdir --source /home/julian/extrepositories/micropython-lib/uasyncio.synchro/uasyncio/synchro.py lib/uasyncio/\n",
    "\n",
    "# This requires you to checkout https://github.com/peterhinch/micropython-async\n",
    "%sendtofile --source /home/julian/extrepositories/micropython-async/asyn.py\n",
    "%sendtofile --source /home/julian/extrepositories/micropython-async/aswitch.py\n",
    "\n",
    "# This requires you to checkout https://github.com/peterhinch/micropython-mqtt/tree/master/mqtt_as\n",
    "#%sendtofile --source /home/julian/extrepositories/micropython-mqtt/mqtt_as/mqtt_as.py\n",
    "# Forked version https://github.com/goatchurchprime/micropython-mqtt\n",
    "%sendtofile --source /home/julian/repositories/micropython-mqtt/mqtt_as/mqtt_as.py\n",
    "\n",
    "%sendtofile --source ../Sensor_Kennel/sevensegmentdisplay.py\n",
    "#%sendtofile --source ../basicsockets/minimalmdns.py\n"
   ]
  },
  {
   "cell_type": "code",
   "execution_count": null,
   "metadata": {},
   "outputs": [],
   "source": []
  },
  {
   "cell_type": "code",
   "execution_count": 9,
   "metadata": {},
   "outputs": [
    {
     "name": "stdout",
     "output_type": "stream",
     "text": [
      "serial exception on close write failed: [Errno 5] Input/output error\n",
      "\u001b[34mConnecting to --port=/dev/ttyUSB1 --baud=115200 \u001b[0m\n",
      "\u001b[34mReady.\n",
      "\u001b[0m"
     ]
    }
   ],
   "source": [
    "%serialconnect"
   ]
  },
  {
   "cell_type": "code",
   "execution_count": 10,
   "metadata": {},
   "outputs": [
    {
     "name": "stdout",
     "output_type": "stream",
     "text": [
      "Sent 114 lines (3494 bytes) to main.py.\n"
     ]
    }
   ],
   "source": [
    "%sendtofile main.py\n",
    "\n",
    "from sevensegmentdisplay import encodeledstring\n",
    "from machine import I2C, Pin\n",
    "import time\n",
    "\n",
    "i2c = I2C(scl=Pin(15, Pin.OUT, Pin.PULL_UP), sda=Pin(4, Pin.OUT, Pin.PULL_UP), freq=100000)\n",
    "\n",
    "tempAmbient, tempIR = 0, 0\n",
    "tempBad = True\n",
    "tempTime = 0\n",
    "\n",
    "def checkCRC(k, mask):  # mask (matching nibble) different in case\n",
    "    inCrc = 0\n",
    "    for inData in [k[0], k[1]]:\n",
    "        data = inCrc ^ inData;\n",
    "        data <<= 8 \n",
    "        for i in range(8):\n",
    "            if (( data & 0x8000 ) != 0 ):\n",
    "                data = data ^ (0x1070 << 3)\n",
    "            data = data << 1\n",
    "        inCrc = data >> 8\n",
    "    return (inCrc & mask) == (k[2]&mask)\n",
    "\n",
    "\n",
    "async def readtemps():\n",
    "    global ntempcount\n",
    "    while True:\n",
    "        global tempAmbient, tempIR, tempBad, tempTime\n",
    "        try:\n",
    "            ka = i2c.readfrom_mem(0x5a, 0x06, 3)\n",
    "            ki = i2c.readfrom_mem(0x5a, 0x07, 3)\n",
    "            bcrcgood = (checkCRC(ka, 0x0F) and checkCRC(ki, 0xF0))\n",
    "            print(bcrcgood, ka, ki)\n",
    "            if not bcrcgood:\n",
    "                raise OSError()\n",
    "            tempAmbient = (ka[0]+ka[1]*256)*0.02 - 273.15\n",
    "            tempIR = (ki[0]+ki[1]*256)*0.02 - 273.15\n",
    "            tempBad = False\n",
    "        except OSError:\n",
    "            tempBad = True\n",
    "            \n",
    "        if not tempBad:\n",
    "            encodeledstring(\"%5.2f %.1f\"% (tempIR, tempAmbient))\n",
    "        else:\n",
    "            encodeledstring(\"bad %04d\"%(tempTime%10000))\n",
    "        tempTime = time.ticks_ms()\n",
    "        await asyncio.sleep_ms(200)\n",
    "\n",
    "        \n",
    "from mqtt_as import MQTTClient\n",
    "import uasyncio as asyncio\n",
    "import asyn\n",
    "from sevensegmentdisplay import encodeledstring, writeledstringautoscroll\n",
    "\n",
    "encodeledstring(\"start up\")\n",
    "\n",
    "import uasyncio as asyncio\n",
    "import asyn\n",
    "from mqtt_as import config\n",
    "\n",
    "# Include any cross-project settings.\n",
    "config['server'] = \"mqtt.local\"\n",
    "config['ssid'] = 'DoESLiverpool'\n",
    "config['wifi_pw'] = 'decafbad00'\n",
    "config['mqttchannel'] = \"whitesp\"\n",
    "\n",
    "mqttchannelA = config['mqttchannel']+'/tempambient'\n",
    "mqttchannelI = config['mqttchannel']+'/tempir'\n",
    "mqttchannelIP = config['mqttchannel']+'/ip'\n",
    "mqttchannelBad = config['mqttchannel']+'/tempoutofrange'\n",
    "\n",
    "async def main(client):\n",
    "    DtempTime = 0\n",
    "    await client.connect()\n",
    "    for i in range(10):\n",
    "        encodeledstring(\"connect%d\"%i)\n",
    "        await asyncio.sleep_ms(100)\n",
    "        \n",
    "    n = 0\n",
    "    while True:\n",
    "        if DtempTime != tempTime:\n",
    "            if not tempBad:  # no inconsistency problem on this as async\n",
    "                if -10<tempAmbient<40:\n",
    "                    await client.publish(mqttchannelA, '%.2f'%tempAmbient, qos=1)\n",
    "                else:\n",
    "                    await client.publish(mqttchannelBad, 'A %.2f'%tempAmbient, qos=1)\n",
    "\n",
    "            if not tempBad:  # no inconsistency problem on this as async\n",
    "                if -10<tempIR<40:\n",
    "                    await client.publish(mqttchannelI, '%.2f'%tempIR, qos=1)\n",
    "                else:\n",
    "                    await client.publish(mqttchannelBad, 'I %.2f'%tempIR, qos=1)\n",
    "            DtempTime = tempTime\n",
    "        n += 1\n",
    "        if (n%10) == 0:\n",
    "            await client.publish(mqttchannelIP, client._sta_if.ifconfig()[0], retain=True, qos=1)\n",
    "        await asyncio.sleep_ms(100)\n",
    "\n",
    "\n",
    "MQTTClient.DEBUG = True  # Optional: print diagnostic messages\n",
    "client = MQTTClient(config)\n",
    "aloop = asyncio.get_event_loop()\n",
    "aloop.create_task(readtemps())\n",
    "encodeledstring(\"ready.\")\n",
    "msg = \"fail.\"\n",
    "try:\n",
    "    aloop.run_until_complete(main(client))\n",
    "except Exception as e:\n",
    "    print(e)\n",
    "    msg = str(e).lower()\n",
    "client.close()  # Prevent LmacRxBlk:1 errors\n",
    "\n",
    "encodeledstring(msg)\n",
    "while 1:\n",
    "    writeledstringautoscroll()\n"
   ]
  },
  {
   "cell_type": "code",
   "execution_count": 24,
   "metadata": {},
   "outputs": [
    {
     "name": "stdout",
     "output_type": "stream",
     "text": [
      "1883\r\n"
     ]
    }
   ],
   "source": [
    "print(client.port)"
   ]
  },
  {
   "cell_type": "code",
   "execution_count": null,
   "metadata": {},
   "outputs": [],
   "source": []
  },
  {
   "cell_type": "code",
   "execution_count": null,
   "metadata": {},
   "outputs": [],
   "source": []
  }
 ],
 "metadata": {
  "kernelspec": {
   "display_name": "MicroPython - USB",
   "language": "micropython",
   "name": "micropython"
  },
  "language_info": {
   "codemirror_mode": "python",
   "file_extension": ".py",
   "mimetype": "text/python",
   "name": "micropython"
  }
 },
 "nbformat": 4,
 "nbformat_minor": 2
}

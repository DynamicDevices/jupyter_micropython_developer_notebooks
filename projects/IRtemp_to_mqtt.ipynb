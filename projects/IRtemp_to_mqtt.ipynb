{
 "cells": [
  {
   "cell_type": "code",
   "execution_count": 14,
   "metadata": {},
   "outputs": [
    {
     "name": "stdout",
     "output_type": "stream",
     "text": [
      "serial exception on close write failed: [Errno 5] Input/output error\n",
      "\u001b[34mConnecting to --port=/dev/ttyUSB3 --baud=115200 \u001b[0m\n",
      "\u001b[34mReady.\n",
      "\u001b[0m"
     ]
    }
   ],
   "source": [
    "%serialconnect"
   ]
  },
  {
   "cell_type": "code",
   "execution_count": 286,
   "metadata": {},
   "outputs": [
    {
     "name": "stdout",
     "output_type": "stream",
     "text": [
      "b'\\x7f9\\xc8' 0xce 0xc8\n"
     ]
    }
   ],
   "source": [
    "k = i2c.readfrom_mem(0x5a, 0x07, 3)\n",
    "inCrc = 0\n",
    "for inData in [k[0], k[1]]:\n",
    "    data = inCrc ^ inData;\n",
    "    data <<= 8 \n",
    "    for i in range(8):\n",
    "        if (( data & 0x8000 ) != 0 ):\n",
    "            data = data ^ (0x1070 << 3)\n",
    "        data = data << 1\n",
    "    inCrc = data >> 8\n",
    "print(k, hex(inCrc), hex(k[2]))\n"
   ]
  },
  {
   "cell_type": "code",
   "execution_count": 194,
   "metadata": {},
   "outputs": [],
   "source": [
    "def checkCRC(k):\n",
    "    inCrc = 0\n",
    "    for inData in [k[0], k[1]]:\n",
    "        data = inCrc ^ inData;\n",
    "        data <<= 8 \n",
    "        for i in range(8):\n",
    "            if (( data & 0x8000 ) != 0 ):\n",
    "                data = data ^ (0x1070 << 3)\n",
    "            data = data << 1\n",
    "        inCrc = data >> 8\n",
    "    return (inCrc & 0x0F) == (k[2]&0x0F)\n"
   ]
  },
  {
   "cell_type": "code",
   "execution_count": 10,
   "metadata": {},
   "outputs": [],
   "source": [
    "# reading from IR device MLX90614\n",
    "# from tab clockwise: G V SDA SCL\n",
    "from machine import I2C, Pin\n",
    "i2c = I2C(scl=Pin(15, Pin.OUT, Pin.PULL_UP), sda=Pin(4, Pin.OUT, Pin.PULL_UP), freq=100000)\n",
    "print(i2c.scan())\n",
    "i2c.writeto(0x5a, b\"\\x06\")\n",
    "k = i2c.readfrom(0x5a, 3)\n",
    "print(k)\n"
   ]
  },
  {
   "cell_type": "code",
   "execution_count": 2,
   "metadata": {},
   "outputs": [
    {
     "name": "stdout",
     "output_type": "stream",
     "text": [
      "\u001b[34mConnecting to --port=/dev/ttyUSB1 --baud=115200 \u001b[0m\n",
      "> auth (b0)\n",
      "Traceback (most recent call last):\n",
      "  File \"main.py\", line 100, in <module>\n",
      "  File \"main.py\", line 98, in <module>\n",
      "  File \"/lib/uasyncI (4346) wifi: state: auth -> assoc (0)\n",
      "io/core.py\", line 180, in run_until_complete\n",
      "  File \"/lib/uasyncio/core.py\", lI (4366) wifi: state: assoc -> run (10)\n",
      "ine 154, in run_forever\n",
      "  File \"/lib/uasyncio/core.py\", line 109, in run_forever\n",
      "  File \"main.py\", line 42, in readtempsI (4376) wifi: connected with DoESLiverpool, channel 1\n",
      "\n",
      "  File \"sevensegmentdisplay.py\", line 60, in encodeledstring\n",
      "  File \"sevensegmentdisplay.py\", line 13, in swrite\n",
      "KeyboardInterrupt: \n",
      "MicroPython v1.9.3-603-gfb7dabb9 on 2018-05-02; ESP32 module with ESP32\n",
      "Type \"help()\" for more information.\n",
      ">>> \n",
      ">>> \n",
      "raw REPL; CTRL-B to exit\n",
      ">\u001b[34mReady.\n",
      "\u001b[0m"
     ]
    }
   ],
   "source": [
    "%serialconnect"
   ]
  },
  {
   "cell_type": "code",
   "execution_count": 302,
   "metadata": {},
   "outputs": [
    {
     "name": "stdout",
     "output_type": "stream",
     "text": [
      "Sent 102 lines (3157 bytes) to main.py.\n"
     ]
    }
   ],
   "source": [
    "%sendtofile main.py\n",
    "\n",
    "mqtt_local = \"10.0.29.167\"\n",
    "from sevensegmentdisplay import encodeledstring\n",
    "from machine import I2C, Pin\n",
    "import time\n",
    "\n",
    "i2c = I2C(scl=Pin(15, Pin.OUT, Pin.PULL_UP), sda=Pin(4, Pin.OUT, Pin.PULL_UP), freq=100000)\n",
    "\n",
    "tempAmbient, tempIR = 0, 0\n",
    "tempBad = True\n",
    "tempTime = 0\n",
    "\n",
    "def checkCRC(k, mask):  # mask (matching nibble) different in case\n",
    "    inCrc = 0\n",
    "    for inData in [k[0], k[1]]:\n",
    "        data = inCrc ^ inData;\n",
    "        data <<= 8 \n",
    "        for i in range(8):\n",
    "            if (( data & 0x8000 ) != 0 ):\n",
    "                data = data ^ (0x1070 << 3)\n",
    "            data = data << 1\n",
    "        inCrc = data >> 8\n",
    "    return (inCrc & mask) == (k[2]&mask)\n",
    "\n",
    "\n",
    "async def readtemps():\n",
    "    while True:\n",
    "        global tempAmbient, tempIR, tempBad, tempTime\n",
    "        try:\n",
    "            ka = i2c.readfrom_mem(0x5a, 0x06, 3)\n",
    "            ki = i2c.readfrom_mem(0x5a, 0x07, 3)\n",
    "            bcrcgood = (checkCRC(ka, 0x0F) and checkCRC(ki, 0xF0))\n",
    "            print(bcrcgood, ka, ki)\n",
    "            if not bcrcgood:\n",
    "                raise OSError()\n",
    "            tempAmbient = (ka[0]+ka[1]*256)*0.02 - 273.15\n",
    "            tempIR = (ki[0]+ki[1]*256)*0.02 - 273.15\n",
    "            tempBad = False\n",
    "        except OSError:\n",
    "            tempBad = True\n",
    "            \n",
    "        if not tempBad:\n",
    "            encodeledstring(\"%.2f%5.2f\"% (tempAmbient, tempIR-tempAmbient))\n",
    "        else:\n",
    "            encodeledstring(\"bad %04d\"%(tempTime%10000))\n",
    "        tempTime = time.ticks_ms()\n",
    "        await asyncio.sleep_ms(200)\n",
    "\n",
    "        \n",
    "from mqtt_as import MQTTClient\n",
    "import uasyncio as asyncio\n",
    "import asyn\n",
    "from sevensegmentdisplay import encodeledstring\n",
    "\n",
    "encodeledstring(\"start up\")\n",
    "\n",
    "import uasyncio as asyncio\n",
    "import asyn\n",
    "from mqtt_as import config\n",
    "\n",
    "# Include any cross-project settings.\n",
    "config['server'] = mqtt_local  # mqtt.local\n",
    "config['ssid'] = 'DoESLiverpool'  # EDIT if you're using ESP32\n",
    "config['wifi_pw'] = 'decafbad00'\n",
    "config['mqttchannel'] = \"whitesp\"\n",
    "\n",
    "mqttchannelA = config['mqttchannel']+'/tempambient'\n",
    "mqttchannelI = config['mqttchannel']+'/tempir'\n",
    "mqttchannelBad = config['mqttchannel']+'/tempoutofrange'\n",
    "\n",
    "async def main(client):\n",
    "    await client.connect()\n",
    "    for i in range(10):\n",
    "        encodeledstring(\"connect%d\"%i)\n",
    "        await asyncio.sleep_ms(100)\n",
    "        \n",
    "    n = 0\n",
    "    while True:\n",
    "        if not tempBad:  # no inconsistency problem on this as async\n",
    "            if -10<tempAmbient<40:\n",
    "                await client.publish(mqttchannelA, '%.2f'%tempAmbient, qos=1)\n",
    "            else:\n",
    "                await client.publish(mqttchannelBad, 'A %.2f'%tempAmbient, qos=1)\n",
    "        \n",
    "        if not tempBad:  # no inconsistency problem on this as async\n",
    "            if -10<tempIR<40:\n",
    "                await client.publish(mqttchannelI, '%.2f'%tempIR, qos=1)\n",
    "            else:\n",
    "                await client.publish(mqttchannelBad, 'I %.2f'%tempIR, qos=1)\n",
    "        await asyncio.sleep_ms(5000)\n",
    "\n",
    "\n",
    "MQTTClient.DEBUG = True  # Optional: print diagnostic messages\n",
    "client = MQTTClient(config)\n",
    "aloop = asyncio.get_event_loop()\n",
    "aloop.create_task(readtemps())\n",
    "encodeledstring(\"ready.\")\n",
    "try:\n",
    "    aloop.run_until_complete(main(client))\n",
    "except Exception:\n",
    "    pass\n",
    "client.close()  # Prevent LmacRxBlk:1 errors\n",
    "encodeledstring(\"fail.\")\n"
   ]
  },
  {
   "cell_type": "code",
   "execution_count": 137,
   "metadata": {},
   "outputs": [
    {
     "name": "stdout",
     "output_type": "stream",
     "text": [
      "..\u001b[34m\n",
      "\n",
      "*** Sending Ctrl-C\n",
      "\n",
      "\u001b[0m"
     ]
    },
    {
     "name": "stderr",
     "output_type": "stream",
     "text": [
      "Traceback (most recent call last):\n",
      "  File \"<stdin>\", line 4, in <module>\n",
      "  File \"/lib/uasyncio/core.py\", line 173, in run_forever\n",
      "  File \"/lib/uasyncio/__init__.py\", line 69, in wait\n",
      "KeyboardInterrupt: \n"
     ]
    }
   ],
   "source": [
    "import uasyncio as asyncio\n",
    "aloop = asyncio.get_event_loop()\n",
    "aloop.create_task(readtemps())\n",
    "aloop.run_forever()"
   ]
  },
  {
   "cell_type": "code",
   "execution_count": 150,
   "metadata": {},
   "outputs": [
    {
     "name": "stdout",
     "output_type": "stream",
     "text": [
      "> auth (b0)\n",
      "> assoc (0)\n",
      "> run (10)\n",
      ".\n",
      "Checking WiFi integrity.\n",
      ".Got reliable connection\n",
      "Connecting to broker.\n",
      "Connected to broker.\n",
      "....RAM free 64528 alloc 46640\n",
      "....ets Jun  8 2016 00:22:57\n",
      "\n",
      "rst:0x1 (POWERON_RESET),boot:0x17 (SPI_FAST_FLASH_BOOT)\n",
      "configsip: 0, SPIWP:0xee\n",
      "clk_drv:0x00,q_drv:0x00,d_drv:0x00,cs0_drv:0x00,hd_drv:0x00,wp_drv:0x00\n",
      "mode:DIO, clock div:2\n",
      "load:0x3fff0018,len:4\n",
      "load:0x3fff001c,len:4436\n",
      "load:0x40078000,len:0\n",
      "load:0x40078000,len:11816\n",
      "entry 0x4007a9fc\n",
      "OSError: [Errno 2] ENOENT\n",
      "MicroPython v1.9.3-603-gfb7dabb9 on 2018-05-02; ESP32 module with ESP32\n",
      "Type \"help()\" for more information.\n",
      ">>>[reboot detected 0]repl is in normal command mode\n",
      "[\\r\\x03\\x03] b'\\r\\n>>> '\n",
      "[\\r\\x01] b'\\r\\n>>> \\r\\nraw REPL; CTRL-B to exit\\r\\n>' "
     ]
    }
   ],
   "source": [
    "from mqtt_as import MQTTClient\n",
    "import uasyncio as asyncio\n",
    "import asyn\n",
    "from sevensegmentdisplay import encodeledstring\n",
    "\n",
    "encodeledstring(\"start up\")\n",
    "\n",
    "import uasyncio as asyncio\n",
    "import asyn\n",
    "from mqtt_as import config\n",
    "\n",
    "# Include any cross-project settings.\n",
    "config['server'] = \"10.0.31.119\"\n",
    "config['ssid'] = 'DoESLiverpool'  # EDIT if you're using ESP32\n",
    "config['wifi_pw'] = 'decafbad00'\n",
    "config['mqttchannel'] = \"whitesp\"\n",
    "\n",
    "mqttchannelA = config['mqttchannel']+'/tempambient'\n",
    "mqttchannelI = config['mqttchannel']+'/tempir'\n",
    "async def main(client):\n",
    "    await client.connect()\n",
    "    for i in range(10):\n",
    "        encodeledstring(\"connect%d\"%i)\n",
    "        await asyncio.sleep_ms(100)\n",
    "    n = 0\n",
    "    while True:\n",
    "        if not tempBad:\n",
    "            await client.publish(mqttchannelA, '%.2f'%tempAmbient, qos=1)\n",
    "        if not tempBad:\n",
    "            await client.publish(mqttchannelI, '%.2f'%tempIR, qos=1)\n",
    "        await asyncio.sleep_ms(5000)\n",
    "\n",
    "MQTTClient.DEBUG = True  # Optional: print diagnostic messages\n",
    "client = MQTTClient(config)\n",
    "aloop = asyncio.get_event_loop()\n",
    "aloop.create_task(readtemps())\n",
    "encodeledstring(\"ready.\")\n",
    "try:\n",
    "    aloop.run_until_complete(main(client))\n",
    "finally:\n",
    "    client.close()  # Prevent LmacRxBlk:1 errors\n",
    "encodeledstring(\"fail.\")\n"
   ]
  },
  {
   "cell_type": "code",
   "execution_count": 141,
   "metadata": {},
   "outputs": [],
   "source": [
    "client.connect()"
   ]
  },
  {
   "cell_type": "code",
   "execution_count": 151,
   "metadata": {},
   "outputs": [
    {
     "name": "stdout",
     "output_type": "stream",
     "text": [
      "repl is in normal command mode\n",
      "[\\r\\x03\\x03] b'\\r\\nMicroPython v1.9.3-603-gfb7dabb9 on 2018-05-02; ESP32 module with ESP32\\r\\nType \"help()\" for more information.\\r\\n>>> \\r\\n>>> \\r\\nPYB: soft reboot\\r\\nOSError: [Errno 2] ENOENT\\r\\nMicroPython v1.9.3-603-gfb7dabb9 on 2018-05-02; ESP32 module with ESP32\\r\\nType \"help()\" for more information.\\r\\n>>> \\r\\n>>> \\r\\n>>> '\n",
      "[\\r\\x01] b'\\r\\n>>> \\r\\nraw REPL; CTRL-B to exit\\r\\n>'"
     ]
    }
   ],
   "source": [
    "%rebootdevice"
   ]
  },
  {
   "cell_type": "code",
   "execution_count": null,
   "metadata": {},
   "outputs": [],
   "source": []
  }
 ],
 "metadata": {
  "kernelspec": {
   "display_name": "MicroPython - USB",
   "language": "micropython",
   "name": "micropython"
  },
  "language_info": {
   "codemirror_mode": "python",
   "file_extension": ".py",
   "mimetype": "text/python",
   "name": "micropython"
  }
 },
 "nbformat": 4,
 "nbformat_minor": 2
}

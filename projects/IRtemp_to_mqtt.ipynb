{
 "cells": [
  {
   "cell_type": "code",
   "execution_count": 6,
   "metadata": {},
   "outputs": [
    {
     "name": "stdout",
     "output_type": "stream",
     "text": [
      "serial exception on close write failed: [Errno 5] Input/output error\n",
      "\u001b[34mConnecting to --port=/dev/ttyUSB3 --baud=115200 \u001b[0m\n",
      "\u001b[34mReady.\n",
      "\u001b[0m"
     ]
    }
   ],
   "source": [
    "%serialconnect"
   ]
  },
  {
   "cell_type": "code",
   "execution_count": 7,
   "metadata": {},
   "outputs": [
    {
     "name": "stdout",
     "output_type": "stream",
     "text": [
      "Sent 79 lines (2294 bytes) to sevensegmentdisplay.py.\n"
     ]
    }
   ],
   "source": [
    "# This requires you to checkout https://github.com/micropython/micropython-lib and avoids the upip\n",
    "%sendtofile --mkdir --source /home/julian/extrepositories/micropython-lib/uasyncio/uasyncio/__init__.py lib/uasyncio/\n",
    "%sendtofile --mkdir --source /home/julian/extrepositories/micropython-lib/uasyncio.core/uasyncio/core.py lib/uasyncio/\n",
    "%sendtofile --mkdir --source /home/julian/extrepositories/micropython-lib/uasyncio.queues/uasyncio/queues.py lib/uasyncio/\n",
    "%sendtofile --mkdir --source /home/julian/extrepositories/micropython-lib/uasyncio.synchro/uasyncio/synchro.py lib/uasyncio/\n",
    "\n",
    "# This requires you to checkout https://github.com/peterhinch/micropython-async\n",
    "%sendtofile --source /home/julian/extrepositories/micropython-async/asyn.py\n",
    "%sendtofile --source /home/julian/extrepositories/micropython-async/aswitch.py\n",
    "\n",
    "# This requires you to checkout https://github.com/peterhinch/micropython-mqtt/tree/master/mqtt_as\n",
    "%sendtofile --source /home/julian/extrepositories/micropython-mqtt/mqtt_as/mqtt_as.py\n",
    "%sendtofile --source ../Sensor_Kennel/sevensegmentdisplay.py\n"
   ]
  },
  {
   "cell_type": "code",
   "execution_count": null,
   "metadata": {},
   "outputs": [],
   "source": []
  },
  {
   "cell_type": "code",
   "execution_count": 3,
   "metadata": {},
   "outputs": [
    {
     "name": "stdout",
     "output_type": "stream",
     "text": [
      "\u001b[34mConnecting to --port=/dev/ttyUSB2 --baud=115200 \u001b[0m\n",
      "\u001b[34mReady.\n",
      "\u001b[0m"
     ]
    }
   ],
   "source": [
    "%serialconnect"
   ]
  },
  {
   "cell_type": "code",
   "execution_count": 8,
   "metadata": {},
   "outputs": [],
   "source": [
    "# Code is at jupyter_micropython_developer_notebooks/projects/IRtemp_to_mqtt.ipynb\n",
    "from sevensegmentdisplay import encodeledstring\n",
    "from machine import I2C, Pin\n",
    "import time\n",
    "from sevensegmentdisplay import encodeledstring, writeledstringautoscroll\n",
    "\n",
    "encodeledstring(\"start up\")\n"
   ]
  },
  {
   "cell_type": "code",
   "execution_count": 19,
   "metadata": {},
   "outputs": [
    {
     "name": "stdout",
     "output_type": "stream",
     "text": [
      "11484\r\n"
     ]
    }
   ],
   "source": [
    "import time\n",
    "print(time.ticks_ms())"
   ]
  },
  {
   "cell_type": "code",
   "execution_count": 25,
   "metadata": {},
   "outputs": [],
   "source": [
    "from sevensegmentdisplay import encodeledstring, writeledstringautoscroll\n",
    "encodeledstring(b\" dog onn\")\n",
    "writeledstringautoscroll()\n"
   ]
  },
  {
   "cell_type": "code",
   "execution_count": 1,
   "metadata": {},
   "outputs": [
    {
     "name": "stdout",
     "output_type": "stream",
     "text": [
      "\u001b[34mConnecting to --port=/dev/ttyUSB1 --baud=115200 \u001b[0m\n",
      "\u001b[34mReady.\n",
      "\u001b[0m"
     ]
    }
   ],
   "source": [
    "%serialconnect"
   ]
  },
  {
   "cell_type": "code",
   "execution_count": 44,
   "metadata": {},
   "outputs": [
    {
     "name": "stdout",
     "output_type": "stream",
     "text": [
      "Sent 147 lines (4667 bytes) to main.py.\n"
     ]
    }
   ],
   "source": [
    "%sendtofile main.py\n",
    "\n",
    "# Code is at jupyter_micropython_developer_notebooks/projects/IRtemp_to_mqtt.ipynb\n",
    "from sevensegmentdisplay import encodeledstring, writeledstringautoscroll\n",
    "import machine, ubinascii, time\n",
    "\n",
    "wifiname = \"DoESLiverpool\"\n",
    "wifipassword = \"decafbad00\"\n",
    "mqttbroker = \"mqtt.local\"\n",
    "boardname = \"whitesp\"\n",
    "watchdogtimeoutseconds = 60\n",
    "\n",
    "encodeledstring(\"start up\")\n",
    "time.sleep(5)\n",
    "\n",
    "# from here on the watchdog will reset if there are any crashing out\n",
    "w = machine.WDT(timeout=watchdogtimeoutseconds*1000)\n",
    "encodeledstring(\" dog on\")\n",
    "time.sleep(2)\n",
    "\n",
    "resetcause = { machine.PWRON_RESET:\"PWRON_RESET\", machine.HARD_RESET:\"HARD_RESET\", machine.WDT_RESET:\"WDT_RESET\", machine.DEEPSLEEP_RESET:\"DEEPSLEEP_RESET\", machine.SOFT_RESET:\"SOFT_RESET\"}\\\n",
    "    .get(machine.reset_cause(), \"RESET_%d\"%machine.reset_cause())\n",
    "\n",
    "\n",
    "i2c = machine.I2C(scl=machine.Pin(15), sda=machine.Pin(4), freq=100000)\n",
    "\n",
    "from mqtt_as import MQTTClient\n",
    "import uasyncio as asyncio\n",
    "import asyn\n",
    "from mqtt_as import config\n",
    "\n",
    "tempAmbient, tempIR = 0, 0\n",
    "tempBad = True\n",
    "tempTime = 0\n",
    "\n",
    "def checkCRC(k, mask):  # mask (matching nibble) different in case\n",
    "    inCrc = 0\n",
    "    for inData in [k[0], k[1]]:\n",
    "        data = inCrc ^ inData;\n",
    "        data <<= 8 \n",
    "        for i in range(8):\n",
    "            if (( data & 0x8000 ) != 0 ):\n",
    "                data = data ^ (0x1070 << 3)\n",
    "            data = data << 1\n",
    "        inCrc = data >> 8\n",
    "    return (inCrc & mask) == (k[2]&mask)\n",
    "\n",
    "timeholdmessage = 0\n",
    "def holdmessage(msg, durationseconds=10):\n",
    "    global timeholdmessage\n",
    "    timeholdmessage = time.ticks_ms() + durationseconds*1000\n",
    "    encodeledstring(msg)\n",
    "\n",
    "async def readdisplaytemps():\n",
    "    global ntempcount\n",
    "    while True:\n",
    "        global tempAmbient, tempIR, tempBad, tempTime\n",
    "        try:\n",
    "            ka = i2c.readfrom_mem(0x5a, 0x06, 3)\n",
    "            ki = i2c.readfrom_mem(0x5a, 0x07, 3)\n",
    "            bcrcgood = (checkCRC(ka, 0x0F) and checkCRC(ki, 0xF0))\n",
    "            print(bcrcgood, ka, ki)\n",
    "            if not bcrcgood:\n",
    "                raise OSError()\n",
    "            tempAmbient = (ka[0]+ka[1]*256)*0.02 - 273.15\n",
    "            tempIR = (ki[0]+ki[1]*256)*0.02 - 273.15\n",
    "            tempBad = False\n",
    "        except OSError:\n",
    "            tempBad = True\n",
    "        tempTime = time.ticks_ms()\n",
    "\n",
    "        if time.ticks_ms() > timeholdmessage:\n",
    "            if not tempBad:\n",
    "                encodeledstring(\"%5.2f %.1f\"% (tempIR, tempAmbient))\n",
    "            else:\n",
    "                encodeledstring(\"bad %04d\"%(tempTime%10000))\n",
    "        else:\n",
    "            writeledstringautoscroll()\n",
    "\n",
    "        await asyncio.sleep_ms(200)\n",
    "\n",
    "def callback(topic, msg):\n",
    "    print(\"callback\", topic, msg)\n",
    "    holdmessage(msg, durationseconds=10)\n",
    "        \n",
    "config['server'] = mqttbroker\n",
    "config['ssid'] = wifiname\n",
    "config['wifi_pw'] = wifipassword\n",
    "config['mqttchannel'] = boardname\n",
    "config['subs_cb'] = callback\n",
    "\n",
    "mqttchannelA = boardname+'/tempambient'\n",
    "mqttchannelI = boardname+'/tempir'\n",
    "mqttchannelIP = boardname+'/ip'\n",
    "mqttchannelBad = boardname+'/tempoutofrange'\n",
    "\n",
    "async def main(client):\n",
    "    DtempTime = 0\n",
    "    await client.connect()\n",
    "    holdmessage(\"connected\")\n",
    "    w.feed()\n",
    "    await client.subscribe(boardname+'/msg', 1)\n",
    "        \n",
    "    ipnumber = client._sta_if.ifconfig()[0]\n",
    "    macaddress = ubinascii.hexlify(client._sta_if.config('mac'),':').decode().upper()\n",
    "\n",
    "    await client.publish(boardname+'/ip', ipnumber, retain=True, qos=1)\n",
    "    await client.publish(boardname+'/mac', macaddress, retain=True, qos=1)\n",
    "    await client.publish(boardname+\"/resetcause\", resetcause, retain=True, qos=1)\n",
    "    w.feed()\n",
    "    await asyncio.sleep_ms(2000)\n",
    "        \n",
    "    n = 0\n",
    "    while True:\n",
    "        w.feed()\n",
    "        if DtempTime != tempTime:\n",
    "            if not tempBad:  # no inconsistency problem on this as async\n",
    "                if -10<tempAmbient<40:\n",
    "                    await client.publish(mqttchannelA, '%.2f'%tempAmbient, qos=1)\n",
    "                else:\n",
    "                    await client.publish(mqttchannelBad, 'A %.2f'%tempAmbient, qos=1)\n",
    "\n",
    "            if not tempBad:  # no inconsistency problem on this as async\n",
    "                if -10<tempIR<40:\n",
    "                    await client.publish(mqttchannelI, '%.2f'%tempIR, qos=1)\n",
    "                else:\n",
    "                    await client.publish(mqttchannelBad, 'I %.2f'%tempIR, qos=1)\n",
    "            DtempTime = tempTime\n",
    "        await asyncio.sleep_ms(100)\n",
    "\n",
    "\n",
    "MQTTClient.DEBUG = True   # Optional: print diagnostic messages\n",
    "client = MQTTClient(config)\n",
    "aloop = asyncio.get_event_loop()\n",
    "aloop.create_task(readdisplaytemps())\n",
    "w.feed()\n",
    "\n",
    "encodeledstring(\"ready.\")\n",
    "msg = \"fail.\"\n",
    "try:\n",
    "    aloop.run_until_complete(main(client))\n",
    "except Exception as e:\n",
    "    print(e)\n",
    "    msg = str(e).lower()\n",
    "client.close()  # Prevent LmacRxBlk:1 errors\n",
    "\n",
    "encodeledstring(msg)\n",
    "while 1:\n",
    "    writeledstringautoscroll()\n"
   ]
  },
  {
   "cell_type": "code",
   "execution_count": null,
   "metadata": {},
   "outputs": [],
   "source": []
  }
 ],
 "metadata": {
  "kernelspec": {
   "display_name": "MicroPython - USB",
   "language": "micropython",
   "name": "micropython"
  },
  "language_info": {
   "codemirror_mode": "python",
   "file_extension": ".py",
   "mimetype": "text/python",
   "name": "micropython"
  }
 },
 "nbformat": 4,
 "nbformat_minor": 2
}

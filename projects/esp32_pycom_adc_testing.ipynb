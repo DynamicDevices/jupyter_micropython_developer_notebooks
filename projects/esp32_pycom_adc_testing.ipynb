{
 "cells": [
  {
   "cell_type": "code",
   "execution_count": null,
   "metadata": {},
   "outputs": [],
   "source": [
    "# This is the pycom code\n",
    "%serialconnect\n",
    "\n",
    "import machine\n",
    "a = machine.ADC(0)\n",
    "b = a.channel(pin=\"P13\", attn=a.ATTN_11DB)\n",
    "print(b)\n",
    "\n",
    "import time\n",
    "print(time.ticks_ms(), b.value())\n"
   ]
  },
  {
   "cell_type": "code",
   "execution_count": null,
   "metadata": {},
   "outputs": [],
   "source": [
    "%capture pycomadc.txt\n",
    "\n",
    "import time\n",
    "for i in range(5000):\n",
    "    print(time.ticks_ms(), b.value())"
   ]
  },
  {
   "cell_type": "code",
   "execution_count": null,
   "metadata": {},
   "outputs": [],
   "source": [
    "# This code on the PC\n",
    "ts = [ ]\n",
    "vs = [ ]\n",
    "for l in open(\"pycomadc.txt\"):\n",
    "    t, v = list(map(int, l.split()))\n",
    "    ts.append(t)\n",
    "    vs.append(v)\n",
    "    \n",
    "from matplotlib import pyplot as plt\n",
    "%matplotlib inline\n",
    "\n",
    "plt.figure(figsize=(15,6))\n",
    "k = 0\n",
    "plt.plot(ts[k:], vs[k:])\n"
   ]
  },
  {
   "cell_type": "code",
   "execution_count": 1,
   "metadata": {},
   "outputs": [
    {
     "name": "stdout",
     "output_type": "stream",
     "text": [
      "\u001b[34mConnecting to --port=/dev/ttyUSB2 --baud=115200 \u001b[0m\n",
      "Traceback (most recent call last):\n",
      "  File \"main.py\", line 10, in <module>\n",
      "  File \"fmqttqueue.py\", line 1, in <module>\n",
      "  File \"mqtt_as.py\", line 28, in <module>\n",
      "KeyboardInterrupt: \n",
      "MicroPython v1.10-227-g696549d2e on 2019-03-17; ESP32 module with ESP32\n",
      "Type \"help()\" for more information.\n",
      ">>> \n",
      ">>> \n",
      "raw REPL; CTRL-B to exit\n",
      ">\u001b[34mReady.\n",
      "\u001b[0m"
     ]
    }
   ],
   "source": [
    "%serialconnect"
   ]
  },
  {
   "cell_type": "code",
   "execution_count": 18,
   "metadata": {},
   "outputs": [],
   "source": [
    "import machine\n",
    "a = machine.ADC(machine.Pin(34, machine.Pin.IN), \n",
    "                atten=machine.ADC.ATTN_11DB, \n",
    "                width=machine.ADC.WIDTH_12BIT)\n"
   ]
  },
  {
   "cell_type": "code",
   "execution_count": 22,
   "metadata": {},
   "outputs": [
    {
     "name": "stdout",
     "output_type": "stream",
     "text": [
      "2064\r\n"
     ]
    }
   ],
   "source": [
    "print(a.read())"
   ]
  },
  {
   "cell_type": "code",
   "execution_count": 25,
   "metadata": {},
   "outputs": [
    {
     "name": "stdout",
     "output_type": "stream",
     "text": [
      "\u001b[31m\n",
      "\n",
      "***Connection broken [Input/output error]\n",
      "\u001b[0mYou may need to reconnect\u001b[34m\n",
      "Closing serial Serial<id=0x7fc0c9e29c88, open=True>(port='/dev/ttyUSB2', baudrate=115200, bytesize=8, parity='N', stopbits=1, timeout=0.5, xonxoff=False, rtscts=False, dsrdtr=False)\n",
      "\u001b[0m\u001b[31mNo serial connected\n",
      "\u001b[0m  %serialconnect to connect\n",
      "  %esptool to flash the device\n",
      "  %lsmagic to list commands"
     ]
    }
   ],
   "source": [
    "%capture esp32adc.txt\n",
    "\n",
    "import time\n",
    "for i in range(5000):\n",
    "    print(time.ticks_ms(), a.read())\n",
    "    break"
   ]
  },
  {
   "cell_type": "code",
   "execution_count": null,
   "metadata": {},
   "outputs": [],
   "source": []
  }
 ],
 "metadata": {
  "kernelspec": {
   "display_name": "MicroPython - USB",
   "language": "micropython",
   "name": "micropython"
  },
  "language_info": {
   "codemirror_mode": "python",
   "file_extension": ".py",
   "mimetype": "text/python",
   "name": "micropython"
  }
 },
 "nbformat": 4,
 "nbformat_minor": 2
}

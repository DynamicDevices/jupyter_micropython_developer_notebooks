{
 "cells": [
  {
   "cell_type": "markdown",
   "metadata": {},
   "source": [
    "This is coded on an ESP32 for demonstrating neopixels \n",
    "Very trivial code, no checking or async work"
   ]
  },
  {
   "cell_type": "code",
   "execution_count": 40,
   "metadata": {},
   "outputs": [
    {
     "name": "stdout",
     "output_type": "stream",
     "text": [
      "\u001b[34mConnecting to --port=/dev/ttyUSB2 --baud=115200 \u001b[0m\n",
      "\u001b[34mReady.\n",
      "\u001b[0m"
     ]
    }
   ],
   "source": [
    "%serialconnect"
   ]
  },
  {
   "cell_type": "code",
   "execution_count": 37,
   "metadata": {},
   "outputs": [
    {
     "name": "stdout",
     "output_type": "stream",
     "text": [
      "Sent 204 lines (6411 bytes) to lib/umqtt/simple.py.\n",
      "['robust.py', 'simple.py']\n"
     ]
    }
   ],
   "source": [
    "%sendtofile --mkdir --source /home/julian/extrepositories/micropython-lib/umqtt.robust/umqtt/robust.py lib/umqtt/\n",
    "%sendtofile --mkdir --source /home/julian/extrepositories/micropython-lib/umqtt.simple/umqtt/simple.py lib/umqtt/\n",
    "print(os.listdir(\"lib/umqtt\"))\n"
   ]
  },
  {
   "cell_type": "code",
   "execution_count": 10,
   "metadata": {},
   "outputs": [],
   "source": []
  },
  {
   "cell_type": "code",
   "execution_count": 41,
   "metadata": {},
   "outputs": [
    {
     "name": "stdout",
     "output_type": "stream",
     "text": [
      "Sent 56 lines (1110 bytes) to main.py.\n"
     ]
    }
   ],
   "source": [
    "%sendtofile main.py\n",
    "\n",
    "import machine, time, network, neopixel\n",
    "\n",
    "wifiname = \"DoESLiverpool-MQTT\"\n",
    "wifipassword = \"decafbad00\"\n",
    "mqttbroker = \"10.3.141.1\"\n",
    "\n",
    "from machine import Pin, ADC\n",
    "import time\n",
    "\n",
    "neo = neopixel.NeoPixel(machine.Pin(12), 74)\n",
    "\n",
    "time.sleep(0.5)\n",
    "\n",
    "sta_if = network.WLAN(network.STA_IF)\n",
    "sta_if.active(True)\n",
    "\n",
    "neo.fill((10,0,0))\n",
    "neo.write()\n",
    "\n",
    "sta_if.connect(wifiname, wifipassword)\n",
    "while not sta_if.isconnected():\n",
    "    time.sleep(0.1)\n",
    "    \n",
    "neo.fill((0,10,0))\n",
    "neo.write()\n",
    "print(\"connected to wifi\")\n",
    "\n",
    "from umqtt.robust import MQTTClient\n",
    "client = MQTTClient(\"neopixelshite\", mqttbroker, 1883)\n",
    "for i in range(100):\n",
    "    try:\n",
    "        client.connect()\n",
    "        break\n",
    "    except OSError as e:\n",
    "        print(e)\n",
    "    gopos(100+800*(i%2))\n",
    "print(\"connected to mqtt\")\n",
    "neo.fill((0,0,10))\n",
    "neo.write()\n",
    "\n",
    "def sub_cb(topic, msg):\n",
    "    print((topic, msg))\n",
    "    try:\n",
    "        r,g,b = int(msg[:2], 16), int(msg[2:4], 16), int(msg[4:6], 16)\n",
    "    except ValueError:\n",
    "        print(\"ignore\")\n",
    "        return\n",
    "    neo.fill((r,g,b))\n",
    "    neo.write()\n",
    "\n",
    "client.set_callback(sub_cb)\n",
    "client.subscribe(b\"esp32j/fill\")\n",
    "\n",
    "while 1:\n",
    "    client.check_msg()\n",
    "    time.sleep_ms(10)\n"
   ]
  },
  {
   "cell_type": "code",
   "execution_count": 21,
   "metadata": {},
   "outputs": [
    {
     "name": "stdout",
     "output_type": "stream",
     "text": [
      "\u001b[31m\n",
      "\n",
      "***Connection broken [Input/output error]\n",
      "\u001b[0mYou may need to reconnect\u001b[34m\n",
      "Closing serial Serial<id=0x7f21397d0ef0, open=True>(port='/dev/ttyUSB8', baudrate=115200, bytesize=8, parity='N', stopbits=1, timeout=0.5, xonxoff=False, rtscts=False, dsrdtr=False)\n",
      "\u001b[0m\u001b[31mNo serial connected\n",
      "\u001b[0m  %serialconnect to connect\n",
      "  %esptool to flash the device\n",
      "  %lsmagic to list commands"
     ]
    }
   ],
   "source": [
    "help(client)"
   ]
  },
  {
   "cell_type": "code",
   "execution_count": null,
   "metadata": {},
   "outputs": [],
   "source": []
  },
  {
   "cell_type": "code",
   "execution_count": null,
   "metadata": {},
   "outputs": [],
   "source": []
  }
 ],
 "metadata": {
  "kernelspec": {
   "display_name": "MicroPython - USB",
   "language": "micropython",
   "name": "micropython"
  },
  "language_info": {
   "codemirror_mode": "python",
   "file_extension": ".py",
   "mimetype": "text/python",
   "name": "micropython"
  }
 },
 "nbformat": 4,
 "nbformat_minor": 2
}

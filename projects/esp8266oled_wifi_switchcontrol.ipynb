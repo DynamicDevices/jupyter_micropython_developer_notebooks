{
 "cells": [
  {
   "cell_type": "markdown",
   "metadata": {},
   "source": [
    "This is to receive and transmit button presses \n",
    "(or wifi connections from upstairs) and display on screen\n",
    "timeouts for the heating system at home.\n",
    "(Possibly measure temperatures later on)"
   ]
  },
  {
   "cell_type": "code",
   "execution_count": 44,
   "metadata": {},
   "outputs": [
    {
     "name": "stdout",
     "output_type": "stream",
     "text": [
      "\u001b[34mConnecting to --port=/dev/ttyUSB0 --baud=115200 \u001b[0m\n",
      "\u001b[34mReady.\n",
      "\u001b[0m"
     ]
    }
   ],
   "source": [
    "%serialconnect"
   ]
  },
  {
   "cell_type": "code",
   "execution_count": null,
   "metadata": {},
   "outputs": [],
   "source": [
    "# Create the files in the disk that we need\n",
    "%sendtofile --quiet --source ../basicsockets/syslog.py\n",
    "%sendtofile --quiet --source ../essential_sensor_code/asyncdevices.py\n",
    "%sendtofile --quiet --source ../basicsockets/connecthotspot.py\n",
    "%sendtofile --quiet --source ../async_web_serve/webserve_funcs.py\n"
   ]
  },
  {
   "cell_type": "code",
   "execution_count": 45,
   "metadata": {},
   "outputs": [
    {
     "name": "stdout",
     "output_type": "stream",
     "text": [
      "Sent 20 lines (665 bytes) to main.py.\n"
     ]
    }
   ],
   "source": [
    "%sendtofile main.py\n",
    "\n",
    "import machine\n",
    "\n",
    "#\n",
    "# Make the screen code\n",
    "#\n",
    "i2c = machine.I2C(scl=machine.Pin(4), sda=machine.Pin(5))\n",
    "import framebuf\n",
    "buffer = bytearray(((64 // 8) * 128) + 1)\n",
    "buffer[0] = 0x40  # Set first byte of data buffer to Co=0, D/C=1\n",
    "fbuff = framebuf.FrameBuffer1(memoryview(buffer)[1:], 128, 64)\n",
    "for c in b'\\xae \\x00@\\xa1\\xa8?\\xc8\\xd3\\x00\\xda\\x12\\xd5\\x80\\xd9\\xf1\\xdb0\\x81\\xff\\xa4\\xa6\\x8d\\x14\\xaf':\n",
    "    i2c.writeto(0x3c, bytes((0x80, c)))\n",
    "def oledshow():\n",
    "    i2c.writeto(0x3c, b'\\x80!\\x80\\x00\\x80\\x7f\\x80\"\\x80\\x00\\x80\\x07')\n",
    "    i2c.writeto(0x3c, buffer)\n",
    "\n",
    "for i in range(0, 128, 8):\n",
    "    for j in range(0, 64, 8):\n",
    "        fbuff.fill_rect(i, j, 8, 8, (i//8 + j//8)%2)\n",
    "oledshow()"
   ]
  },
  {
   "cell_type": "code",
   "execution_count": 46,
   "metadata": {},
   "outputs": [
    {
     "name": "stdout",
     "output_type": "stream",
     "text": [
      "Sent 11 lines (284 bytes) to main.py.\n"
     ]
    }
   ],
   "source": [
    "%sendtofile --append main.py\n",
    "\n",
    "import time\n",
    "time.sleep(1.0)\n",
    "\n",
    "import os, ustruct, uasyncio\n",
    "uasyncio.set_debug(0)\n",
    "\n",
    "from connecthotspot import ipnumber\n",
    "from webserve_funcs import servestaticfile\n",
    "from webserve_funcs import servefilelist\n",
    "from webserve_funcs import readhttpheaders\n",
    "from webserve_funcs import servemessage\n"
   ]
  },
  {
   "cell_type": "code",
   "execution_count": 47,
   "metadata": {},
   "outputs": [
    {
     "name": "stdout",
     "output_type": "stream",
     "text": [
      "Sent 26 lines (761 bytes) to main.py.\n"
     ]
    }
   ],
   "source": [
    "%sendtofile --append main.py\n",
    "\n",
    "tsecs_ontill = time.time()\n",
    "n = 0\n",
    "async def handleconnection(reader, writer):\n",
    "    global n, tsecs_ontill\n",
    "    n += 1\n",
    "    receivedrequest = await readhttpheaders(reader)\n",
    "    print(receivedrequest)\n",
    "\n",
    "    rpath = receivedrequest.get(\"GET\")\n",
    "    fbuff.fill(0)\n",
    "    fbuff.text(\"http\", 0,0,1)\n",
    "    fbuff.text(str(n), 80,0,1)\n",
    "    fbuff.text(str(rpath), 0,10,1)\n",
    "    oledshow()\n",
    "    \n",
    "    if rpath == \"\":\n",
    "        await servefilelist(writer)\n",
    "    elif rpath[:3] == \"on?\":\n",
    "        await servemessage(writer, str(tsecs_ontill-time.time()))\n",
    "    elif rpath[:3] == \"on+\":\n",
    "        tsecs_ontill = time.time()+int(rpath[3:])\n",
    "        await servemessage(writer, \"tsecs_ontill %d\"%tsecs_ontill)\n",
    "    elif rpath:\n",
    "        await servestaticfile(writer, rpath)\n",
    "        \n",
    "    await writer.aclose()\n"
   ]
  },
  {
   "cell_type": "code",
   "execution_count": 48,
   "metadata": {},
   "outputs": [
    {
     "name": "stdout",
     "output_type": "stream",
     "text": [
      "Sent 11 lines (327 bytes) to main.py.\n"
     ]
    }
   ],
   "source": [
    "%sendtofile --append main.py\n",
    "\n",
    "pcontrol = machine.Pin(13, machine.Pin.OUT)\n",
    "async def handletiming():\n",
    "    while True:\n",
    "        t = time.time()\n",
    "        pcontrol.value(t<tsecs_ontill)\n",
    "        if t%10 == 0:\n",
    "            fbuff.fill_rect(0,32,128,32,0)\n",
    "            fbuff.text(str(tsecs_ontill-t), 0, 38, 1)\n",
    "            oledshow()\n",
    "        await uasyncio.sleep(1)\n",
    "    "
   ]
  },
  {
   "cell_type": "code",
   "execution_count": 49,
   "metadata": {},
   "outputs": [
    {
     "name": "stdout",
     "output_type": "stream",
     "text": [
      "Sent 16 lines (564 bytes) to main.py.\n"
     ]
    }
   ],
   "source": [
    "%sendtofile --append main.py\n",
    "\n",
    "# enables rewriting handleconnection function without restarting\n",
    "def handleconnection_indirect(reader, writer):\n",
    "    try:\n",
    "        return handleconnection(reader, writer)\n",
    "    except OSError as e:\n",
    "        print(\"handleconnection exception\", str(e))\n",
    "    except TypeError as e:\n",
    "        print(\"handleconnection exception\", str(e))\n",
    "\n",
    "port = 80\n",
    "loop = uasyncio.get_event_loop()\n",
    "print(\"* Running on http://%s:%s/\" % (ipnumber, port))\n",
    "loop.create_task(uasyncio.start_server(handleconnection_indirect, ipnumber, port))\n",
    "loop.create_task(handletiming())\n",
    "    \n",
    "loop.run_forever()\n"
   ]
  },
  {
   "cell_type": "code",
   "execution_count": null,
   "metadata": {},
   "outputs": [],
   "source": []
  }
 ],
 "metadata": {
  "kernelspec": {
   "display_name": "MicroPython - USB",
   "language": "micropython",
   "name": "micropython"
  },
  "language_info": {
   "codemirror_mode": "python",
   "file_extension": ".py",
   "mimetype": "text/python",
   "name": "micropython"
  }
 },
 "nbformat": 4,
 "nbformat_minor": 2
}

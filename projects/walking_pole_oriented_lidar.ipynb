{
 "cells": [
  {
   "cell_type": "code",
   "execution_count": 5,
   "metadata": {
    "collapsed": true
   },
   "outputs": [],
   "source": [
    "# This should be built on a fully commissioned ESP32\n",
    "# But there's problems with getting both i2c devices \n",
    "# working from an ESP32\n",
    "\n",
    "# So we have an MQTT version which you can get the data using\n",
    "# mosquitto_sub -h 192.168.0.159 -v -t \"walkingpole/#\""
   ]
  },
  {
   "cell_type": "code",
   "execution_count": 6,
   "metadata": {},
   "outputs": [
    {
     "name": "stdout",
     "output_type": "stream",
     "text": [
      "serial exception on close write failed: [Errno 5] Input/output error\n",
      "\u001b[34mConnecting to --port=/dev/ttyUSB2 --baud=115200 \u001b[0m\n",
      "\u001b[34mReady.\n",
      "\u001b[0m"
     ]
    }
   ],
   "source": [
    "%serialconnect"
   ]
  },
  {
   "cell_type": "code",
   "execution_count": 4,
   "metadata": {
    "collapsed": true
   },
   "outputs": [],
   "source": [
    "#for l in open(\"main.py\"):\n",
    "#    print(l, end=\"\")"
   ]
  },
  {
   "cell_type": "code",
   "execution_count": 46,
   "metadata": {},
   "outputs": [
    {
     "name": "stdout",
     "output_type": "stream",
     "text": [
      "__main__                        select            upip_utarfile\n",
      "_onewire          hashlib           socket            upysh\n",
      "_thread           heapq             ssl               urandom\n",
      "apa106            inisetup          struct            ure\n",
      "array             io                sys               urequests\n",
      "binascii          json              time              uselect\n",
      "btree             machine           ubinascii         usocket\n",
      "builtins          math              ucollections      ussl\n",
      "cmath             micropython       uctypes           ustruct\n",
      "collections       neopixel          uerrno            utime\n",
      "dht               network           uhashlib          utimeq\n",
      "ds18x20           ntptime           uheapq            uzlib\n",
      "errno             onewire           uio               websocket\n",
      "esp               os                ujson             zlib\n",
      "flashbdev         random            uos\n",
      "Plus any modules on the filesystem\n"
     ]
    }
   ],
   "source": [
    "help(\"modules\")"
   ]
  },
  {
   "cell_type": "code",
   "execution_count": 39,
   "metadata": {},
   "outputs": [
    {
     "name": "stdout",
     "output_type": "stream",
     "text": [
      "BNO055 sensor SW_REV_ID: 0x11.0x3\n",
      "(-0.0, -90.0)\n"
     ]
    }
   ],
   "source": [
    "from BNO055_funcs import BNO055init, BNO055poletilt, BNO055gacc\n",
    "\n",
    "BNO055init()\n",
    "print(BNO055poletilt())"
   ]
  },
  {
   "cell_type": "code",
   "execution_count": 44,
   "metadata": {
    "collapsed": true
   },
   "outputs": [],
   "source": [
    "p = machine.Pin(2, machine.Pin.OUT)\n",
    "p.value(1)"
   ]
  },
  {
   "cell_type": "code",
   "execution_count": 40,
   "metadata": {},
   "outputs": [
    {
     "name": "stdout",
     "output_type": "stream",
     "text": [
      "__main__          http_client_ssl   sys               urandom\n",
      "_boot             http_server       time              ure\n",
      "_onewire          http_server_ssl   uasyncio/__init__ urequests\n",
      "_webrepl          inisetup          uasyncio/core     urllib/urequest\n",
      "apa102            json              ubinascii         uselect\n",
      "array             lwip              ucollections      usocket\n",
      "btree             machine           uctypes           ussl\n",
      "builtins          math              uerrno            ustruct\n",
      "dht               micropython       uhashlib          utime\n",
      "ds18x20           neopixel          uheapq            utimeq\n",
      "errno             network           uio               uzlib\n",
      "esp               ntptime           ujson             webrepl\n",
      "example_pub_button                  onewire           umqtt/robust      webrepl_setup\n",
      "example_sub_led   os                umqtt/simple      websocket\n",
      "flashbdev         port_diag         uos               websocket_helper\n",
      "framebuf          select            upip\n",
      "gc                socket            upip_utarfile\n",
      "http_client       ssd1306           upysh\n",
      "Plus any modules on the filesystem\n"
     ]
    }
   ],
   "source": [
    "for i in range(10):\n",
    "    print(BNO055poletilt())\n"
   ]
  },
  {
   "cell_type": "code",
   "execution_count": null,
   "metadata": {
    "collapsed": true
   },
   "outputs": [],
   "source": [
    "print(BNO055poletilt())\n"
   ]
  },
  {
   "cell_type": "code",
   "execution_count": 34,
   "metadata": {},
   "outputs": [
    {
     "name": "stdout",
     "output_type": "stream",
     "text": [
      "Sent 3 lines (163 bytes) to i2cmodule.py.\n"
     ]
    }
   ],
   "source": [
    "# the location of the i2c pins on the firebeetle\n",
    "%sendtofile i2cmodule.py\n",
    "import machine\n",
    "#i2c = machine.I2C(scl=machine.Pin(22), sda=machine.Pin(21))\n",
    "i2c = machine.I2C(scl=machine.Pin(4), sda=machine.Pin(5), freq=100000)  #D2,D1 NodeMCU\n"
   ]
  },
  {
   "cell_type": "code",
   "execution_count": 161,
   "metadata": {},
   "outputs": [
    {
     "name": "stdout",
     "output_type": "stream",
     "text": [
      "Sent 46 lines (1653 bytes) to BNO055_funcs.py.\n"
     ]
    }
   ],
   "source": [
    "%sendtofile --source ../essential_sensor_code/VL53L0X_funcs.py\n",
    "%sendtofile --source ../essential_sensor_code/BNO055_funcs.py"
   ]
  },
  {
   "cell_type": "code",
   "execution_count": 21,
   "metadata": {},
   "outputs": [
    {
     "name": "stdout",
     "output_type": "stream",
     "text": [
      "Sent 41 lines (1648 bytes) to BNO055_funcs.py.\n"
     ]
    }
   ],
   "source": [
    "%sendtofile --source ../essential_sensor_code/BNO055_funcs.py"
   ]
  },
  {
   "cell_type": "code",
   "execution_count": null,
   "metadata": {
    "collapsed": true
   },
   "outputs": [],
   "source": []
  },
  {
   "cell_type": "code",
   "execution_count": 5,
   "metadata": {},
   "outputs": [
    {
     "name": "stdout",
     "output_type": "stream",
     "text": [
      "Sent 65 lines (1634 bytes) to main.py.\n"
     ]
    }
   ],
   "source": [
    "%sendtofile main.py\n",
    "\n",
    "ssid, ssidpassword = b'DoESLiverpool', b'decafbad00'\n",
    "mqttbroker = \"192.168.0.159\"   # mqtt.local\n",
    "ssid = None\n",
    "\n",
    "from VL53L0X_funcs import VL53L0Xinit, VL53L0Xdist\n",
    "from BNO055_funcs import BNO055init, BNO055poletilt, BNO055gacc\n",
    "\n",
    "from machine import Pin\n",
    "import time, network, math\n",
    "from umqtt.robust import MQTTClient\n",
    "\n",
    "pled = Pin(2, Pin.OUT)\n",
    "\n",
    "if ssid:\n",
    "    staif = network.WLAN(network.STA_IF)\n",
    "    staif.active(True)\n",
    "    staif.connect(ssid, ssidpassword)\n",
    "    while not staif.isconnected():\n",
    "        pled.value(1-pled.value())\n",
    "        time.sleep(0.2)\n",
    "else:\n",
    "    staif = network.WLAN(network.AP_IF)\n",
    "    staif.active(True)\n",
    "    \n",
    "VL53L0Xinit()\n",
    "BNO055init()\n",
    "\n",
    "mqttclient = None\n",
    "\n",
    "t0 = time.ticks_ms()\n",
    "i = 0\n",
    "while True:\n",
    "    i += 1\n",
    "    pled.value(i%2)\n",
    "    time.sleep_ms(5)\n",
    "    t1 = time.ticks_ms()\n",
    "    time.sleep_ms(max(5, 50-(t1-t0)))\n",
    "    t1 = time.ticks_ms()\n",
    "    pled.value(1)\n",
    "    \n",
    "    if mqttbroker is None:\n",
    "        mqttbroker = \"192.168.4.%d\"%((i%4)+2)\n",
    "        print(\"trying mqttbroker\", mqttbroker)\n",
    "    if mqttclient is None:\n",
    "        mqttclient = MQTTClient(b\"walkingpole\", mqttbroker)\n",
    "        try:\n",
    "            mqttclient.connect()\n",
    "            mqttclient.publish(b\"walkingpole/ip\", staif.ifconfig()[0].encode())\n",
    "        except OSError as e:\n",
    "            print(e)\n",
    "            if ssid is None:\n",
    "                mqttbroker = None\n",
    "            mqttclient = None\n",
    "            continue\n",
    "    \n",
    "    foretilt, sidetilt = BNO055poletilt()\n",
    "    d = VL53L0Xdist()\n",
    "    gravacc = BNO055gacc()\n",
    "\n",
    "    \n",
    "    msg = b\"{} {} {} {} {}\".format(t1-t0, int(d*4), int(foretilt), int(sidetilt), gravacc)\n",
    "    print(msg)\n",
    "    mqttclient.publish(b\"walkingpole/dtilt\", msg)\n",
    "    t0 = t1\n",
    "\n"
   ]
  },
  {
   "cell_type": "code",
   "execution_count": null,
   "metadata": {
    "collapsed": true
   },
   "outputs": [],
   "source": []
  },
  {
   "cell_type": "code",
   "execution_count": null,
   "metadata": {
    "collapsed": true
   },
   "outputs": [],
   "source": []
  },
  {
   "cell_type": "code",
   "execution_count": null,
   "metadata": {
    "collapsed": true
   },
   "outputs": [],
   "source": []
  },
  {
   "cell_type": "code",
   "execution_count": null,
   "metadata": {
    "collapsed": true
   },
   "outputs": [],
   "source": []
  },
  {
   "cell_type": "code",
   "execution_count": 32,
   "metadata": {},
   "outputs": [
    {
     "name": "stdout",
     "output_type": "stream",
     "text": [
      "normal repl mode not detected b'\\r\\nMicroPython v1.9.3-8-g63826ac5c on 2017-11-01; ESP module with ESP8266\\r\\nType \"help()\" for more information.\\r\\n>>> \\r\\n>>> \\r\\nPYB: sof#9 ets_task(40100130, 3, 3fff837c, 4)\\r\\nWebREPL is not configured, run \\'import webrepl_setup\\'\\r\\n'\n",
      "not command mode\n",
      "BNO055 sensor SW_REV_ID: 0x11.0x3\n",
      "\n",
      " ets Jan  8 2013,rst cause:2, boot mode:(3,7)\n",
      "\n",
      "load 0x40100000, len 31100, room 16 \n",
      "tail 12\n",
      "chksum 0xe3\n",
      "ho 0 tail 12 room 4\n",
      "load 0x3ffe8000, len 1084, room 12 \n",
      "tail 0\n",
      "chksum 0xc0\n",
      "load 0x3ffe8440, len 3248, room 8 \n",
      "tail 8\n",
      "chksum 0xe1\n",
      "csum 0xe1\n",
      "b'\\x0e\\xfc\\x80'"
     ]
    },
    {
     "name": "stderr",
     "output_type": "stream",
     "text": [
      "b'$\\xdc\\x9f|\\xff\\x83\\x1bs{o#\\x8f\\x8c'b'l\\xe4\\x1b\\x0c'b'c\\xe4$\\x0cb\\xec\\x84\\x9c\\xdc\\xe3\\xe3l'b'\\x0cb\\x0c\\x8eds$\\x0e$\\x0cd\\x9c\\xdf|\\xff\\x82\\x13;snc\\x8e\\xc4ld\\x9cp\\x1b{\\x82#\\xe4\\x8c'b'c\\xec\\xc4\\x9c\\x9c\\xe3\\x03c\\x03\\x0c'b'c\\xec'b'\\x87l;l\\x07\\x84'b'l\\x9c\\x9f|\\xfe\\x83\\x12{;gb\\x87\\x84$\\x0c\\x9c\\x1c\\x84\\x0c\\x8fc\\x84\\x0c\\x0cb\\xec\\x84\\x9c\\x9c\\xe3\\x03\\x1b\\x0c'b'\\x0c#\\xe4lb\\x07d\\x8c\\xe3\\x02\\xe4\\x1b\\x83n\\xec\\x93{\\x82\\xfbo|\\xe4'lb'$ld`\\x03\\x8c\\xe3r\\xdbl\\x8c$\\x13\\x84'\f",
      "b'l`\\x03\\x8c\\xe2s\\x93l\\xe4l\\x1b\\xc4\\x0c'b'\\x0cl`\\x03\\x84\\xe3;\\x9bd\\x0c\\xc7\\x9f\\x00\\x8c'b'\\x0cld`\\x03rl\\xc7\\x83;d\\xc4\\x9f\\xe3\\x8c#\\x0c\\x84\\x8c#\\xc4c'b'cs\\x03\\x03\\xec\\x8e{\\x0c\\x13\\x1bc\\xe4\\xfbg\\xef\\x80\\x1bgn\\xe3\\x18\\x03'b'\\x02d\\xdb\\xf3\\x03\\x0cd'b'\\x8c'b'l\\x84\\x8fld\\x87\\x1e\\xc3\\xc4\\x8c\\x84\\xe4\\xc7\\x07l\\x80\\x03o\\xfc\\x00\\x84\\x9f\\xe3\\xc4c\\x0cd'b'l\\x8f;x\\x0c'b'\\x02\\x03\\xc4\\xdf\\xe3\\x8c#'b'$\\x0c\\x84c\\x1c;l{ls\\xf3n\\x9c\\xe3\\x00\\xc4\\x0c\\xe4\\xc3\\x13\\x03cs\\x0ec\\xec\\xe3#\\xec\\x8f\\x9c\\x1f\\x02{c\\xe4\\x87\\xc7\\x1f\\x13\\x82dc\\xecb\\xec\\xf3o\\x9c\\x9f\\xc0\\x80\\x03cr\\x1bc\\xe4\\xe3c\\xec\\x8e\\x9c\\x1f\\x03{#\\xec\\x8f\\x87\\x1f\\x12\\x83lb\\x07d\\x0e\\xe4\\x0cd\\x9c\\xdf|\\xff\\xc3\\x13{rnc\\xc7\\xc4\\x0cd\\x9c\\xdc'b'\\x0c#\\xc4\\x0c'b'c\\xec\\x84\\x9c\\x9c\\x9c|\\xdbd\\x0c\\x0ccl'b\"lc\\x07l\\x03\\x83\\x83\\x02do\\xdc$`\\x03\\x02\\x83\\x83\\x03l'\\x9cp{l\\x07\\x0c\\x8fl\\x9c\\x9f<\\xff\\x83\\x1bs{g#\\x8f\\x8c\"b'l\\x9c\\x9c8\\x80'b'c\\x8c\\xfe#5 ets_task(40100130, 3, 3fff837c, 4)\\r\\n'WebREPL daemon started on ws://192.168.4.1:8266\n",
      "WebREPL daemon started on ws://0.0.0.0:8266\n",
      "Started webrepl in normal mode\n"
     ]
    },
    {
     "name": "stdout",
     "output_type": "stream",
     "text": [
      "\u001b[31m[Timed out waiting for recognizable response]\n",
      "\u001b[0m"
     ]
    }
   ],
   "source": [
    "%rebootdevice"
   ]
  },
  {
   "cell_type": "code",
   "execution_count": 14,
   "metadata": {},
   "outputs": [
    {
     "name": "stdout",
     "output_type": "stream",
     "text": [
      "BNO055 sensor SW_REV_ID: 0x11.0x3\r\n"
     ]
    }
   ],
   "source": [
    "from BNO055_funcs import BNO055init\n",
    "BNO055init()\n",
    "from i2cmodule import i2c\n",
    "import ustruct, math\n"
   ]
  },
  {
   "cell_type": "code",
   "execution_count": 19,
   "metadata": {},
   "outputs": [
    {
     "name": "stdout",
     "output_type": "stream",
     "text": [
      "-0.197531 979.627\n",
      ".0.872306 979.749\n",
      "13.4854 979.797\n",
      "1.1972 979.425\n",
      "-0.465326 979.849\n",
      "6.15066 980.074\n",
      ".11.5832 980.28\n",
      "13.8304 980.413\n",
      "14.1137 980.043\n",
      "5.8101 980.544\n"
     ]
    }
   ],
   "source": [
    "for i in range(10):\n",
    "    accx, accy, accz = ustruct.unpack(\"<hhh\", i2c.readfrom_mem(0x28, 0x28, 6))\n",
    "    gravx, gravy, gravz = ustruct.unpack(\"<hhh\", i2c.readfrom_mem(0x28, 0x2E, 6))\n",
    "    gdot = accx*gravx + accy*gravy + accz*gravz\n",
    "    print(gdot/98100, math.sqrt(gravx**2 + gravy**2 + gravz**2))\n",
    "    time.sleep(1)\n"
   ]
  },
  {
   "cell_type": "code",
   "execution_count": 2,
   "metadata": {},
   "outputs": [
    {
     "name": "stdout",
     "output_type": "stream",
     "text": [
      "\u001b[34mConnecting to Serial /dev/ttyUSB0 baud=115200 \u001b[0m\n",
      "\u001b[34mReady.\n",
      "\u001b[0m"
     ]
    }
   ],
   "source": [
    "# Working out code below\n",
    "%serialconnect"
   ]
  },
  {
   "cell_type": "code",
   "execution_count": 3,
   "metadata": {
    "collapsed": true
   },
   "outputs": [],
   "source": [
    "from VL53L0X_funcs import VL53L0Xinit, VL53L0Xdist"
   ]
  },
  {
   "cell_type": "code",
   "execution_count": 4,
   "metadata": {},
   "outputs": [
    {
     "name": "stdout",
     "output_type": "stream",
     "text": [
      "35.75\n",
      "36.25\n",
      "37.75\n",
      "43.5\n",
      "38.5\n",
      ".33.25\n",
      "26.5\n",
      "25.75\n",
      "0\n",
      "0\n"
     ]
    }
   ],
   "source": [
    "import time\n",
    "VL53L0Xinit()\n",
    "for i in range(10):\n",
    "    print(VL53L0Xdist())\n",
    "    time.sleep(1)"
   ]
  },
  {
   "cell_type": "code",
   "execution_count": 5,
   "metadata": {},
   "outputs": [
    {
     "name": "stdout",
     "output_type": "stream",
     "text": [
      "[40, 41]\r\n"
     ]
    }
   ],
   "source": [
    "from i2cmodule import i2c\n",
    "print(i2c.scan())"
   ]
  },
  {
   "cell_type": "code",
   "execution_count": 6,
   "metadata": {},
   "outputs": [
    {
     "name": "stdout",
     "output_type": "stream",
     "text": [
      "BNO055 sensor SW_REV_ID: 0x11.0x3\r\n"
     ]
    }
   ],
   "source": [
    "k = i2c.readfrom_mem(0x28, 0x00, 6)\n",
    "print(\"BNO055 sensor SW_REV_ID: %s.%s\" %(hex(k[4]), hex(k[5])))\n"
   ]
  },
  {
   "cell_type": "code",
   "execution_count": 18,
   "metadata": {},
   "outputs": [
    {
     "name": "stdout",
     "output_type": "stream",
     "text": [
      "BNO055 sensor SW_REV_ID: 0x11.0x3\r\n"
     ]
    }
   ],
   "source": [
    "from BNO055_funcs import BNO055init, BNO055calibstat, BNO055quat, BNO055pitchrollorient\n",
    "BNO055init()\n"
   ]
  },
  {
   "cell_type": "code",
   "execution_count": null,
   "metadata": {
    "collapsed": true
   },
   "outputs": [],
   "source": [
    "# pull rows from rotation matrix\n",
    "# https://en.wikipedia.org/wiki/Conversion_between_quaternions_and_Euler_angles\n",
    "row 1\n",
    "    x = 1-2*(q2**2 + q3**2)  \n",
    "    y = 2*(q1*q2 - q0*q3)\n",
    "    z = 2*(q0*q2 + q1*q3)\n",
    "row 2:\n",
    "    x = 2*(q1*q2 + q0*q3)\n",
    "    y = 1 - 2*(q1**2 + q3**2)\n",
    "    z = 2*(q2*q3 - q0*q1)\n",
    "\n",
    "    2*(q1*q3 - q0*q2)\n",
    "2*(q0*q1 + q2*q3)\n",
    "1 - 2*(q1**2 + q2**2)\n",
    "\n",
    "    \n",
    "    "
   ]
  },
  {
   "cell_type": "code",
   "execution_count": 46,
   "metadata": {},
   "outputs": [
    {
     "name": "stdout",
     "output_type": "stream",
     "text": [
      "0.0996686\r\n"
     ]
    }
   ],
   "source": [
    "print(math.atan2(0.1,1))"
   ]
  },
  {
   "cell_type": "code",
   "execution_count": 48,
   "metadata": {},
   "outputs": [
    {
     "name": "stdout",
     "output_type": "stream",
     "text": [
      "90.7416 -90.1934\n",
      "-4.09704 -9.60139\n",
      ".-0.174708 16.2851\n",
      "-1.70639 9.95241\n",
      "2.67665 -16.5084\n",
      ".89.798 -89.9377\n",
      "90.8165 -90.2136\n",
      "90.7892 -90.2064\n",
      "90.7892 -90.2064\n",
      ".90.7927 -90.2072\n"
     ]
    }
   ],
   "source": [
    "#BNO055init()\n",
    "for i in range(10):\n",
    "    q0, q1, q2, q3 = BNO055quat()\n",
    "    riqsq = q0*q0 + q1*q1 + q2*q2 + q3*q3 \n",
    "    iqsq = 1/max(1,riqsq)\n",
    "    \n",
    "    # row 3\n",
    "    r31 = 2*(q1*q3 - q0*q2)*iqsq\n",
    "    r32 = 2*(q0*q1 + q2*q3)*iqsq\n",
    "    r33 = 1 - 2*(q1**2 + q2**2)*iqsq\n",
    "    \n",
    "    # r32 is down vector\n",
    "    sidetilt = math.degrees(-math.atan2(r33, r32))\n",
    "    foretilt = math.degrees(-math.atan2(r31, r32))\n",
    "    print(foretilt, sidetilt)\n",
    "    time.sleep(2)\n",
    "    "
   ]
  },
  {
   "cell_type": "code",
   "execution_count": 33,
   "metadata": {
    "collapsed": true
   },
   "outputs": [],
   "source": [
    "import math\n",
    "def gg():\n",
    "    w, x, y, z = BNO055quat()\n",
    "    ysqr = y * y\n",
    "\n",
    "    t0 = +2.0 * (w * x + y * z)\n",
    "    t1 = +1.0 - 2.0 * (x * x + ysqr)\n",
    "    X = math.degrees(math.atan2(t0, t1))\n",
    "\n",
    "    t2 = +2.0 * (w * y - z * x)\n",
    "    t2 = +1.0 if t2 > +1.0 else t2\n",
    "    t2 = -1.0 if t2 < -1.0 else t2\n",
    "    Y = math.degrees(math.asin(t2))\n",
    "\n",
    "    t3 = +2.0 * (w * z + x * y)\n",
    "    t4 = +1.0 - 2.0 * (ysqr + z * z)\n",
    "    Z = math.degrees(math.atan2(t3, t4))\n",
    "    print(X, Y, Z) # roll, pitch, yaw\n"
   ]
  },
  {
   "cell_type": "code",
   "execution_count": 34,
   "metadata": {},
   "outputs": [
    {
     "name": "stdout",
     "output_type": "stream",
     "text": [
      "175.262 90.0 -135.375\n",
      "175.211 90.0 -135.379\n",
      "115.575 90.0 -115.593\n",
      ".122.116 90.0 -136.48\n",
      "148.77 90.0 -106.005\n",
      "91.5964 -90.0 -130.071\n",
      ".91.2361 90.0 -139.063\n",
      "129.99 90.0 -129.894\n",
      "172.098 90.0 -137.776\n",
      ".166.897 90.0 -138.778\n",
      "-93.193 90.0 -135.418\n",
      "173.074 90.0 -139.47\n",
      ".-97.5004 90.0 -135.425\n",
      "105.726 90.0 -133.448\n",
      "106.352 90.0 -133.274\n",
      ".112.034 90.0 -137.758\n",
      "97.6242 90.0 -135.096\n",
      ".-137.872 90.0 -138.3\n",
      "-136.725 90.0 -138.293\n",
      "-136.725 90.0 -138.293\n",
      "."
     ]
    }
   ],
   "source": [
    "for i in range(20):\n",
    "    gg()\n",
    "    time.sleep(2)"
   ]
  },
  {
   "cell_type": "code",
   "execution_count": null,
   "metadata": {
    "collapsed": true
   },
   "outputs": [],
   "source": []
  },
  {
   "cell_type": "code",
   "execution_count": null,
   "metadata": {
    "collapsed": true
   },
   "outputs": [],
   "source": []
  },
  {
   "cell_type": "code",
   "execution_count": null,
   "metadata": {
    "collapsed": true
   },
   "outputs": [],
   "source": []
  },
  {
   "cell_type": "code",
   "execution_count": 25,
   "metadata": {},
   "outputs": [
    {
     "name": "stderr",
     "output_type": "stream",
     "text": [
      "Traceback (most recent call last):\n",
      "  File \"<stdin>\", line 1\n",
      "IndentationError: unexpected indent\n"
     ]
    }
   ],
   "source": [
    "    q0, q1, q2, q3 = ustruct.unpack(\"<hhhh\", i2c.readfrom_mem(0x28, 0x20, 8))\n",
    "    riqsq = q0*q0 + q1*q1 + q2*q2 + q3*q3 \n",
    "    iqsq = 1/riqsq \n",
    "    \n",
    "    r02 = q0*q2*2 * iqsq\n",
    "    r13 = q1*q3*2 * iqsq\n",
    "    sinpitch = r13 - r02\n",
    "\n",
    "    r01 = q0*q1*2 * iqsq\n",
    "    r23 = q2*q3*2 * iqsq \n",
    "    sinroll = r23 + r01 \n",
    "     \n",
    "    r00 = q0*q0*2 * iqsq\n",
    "    r11 = q1*q1*2 * iqsq\n",
    "    r03 = q0*q3*2 * iqsq\n",
    "    r12 = q1*q2*2 * iqsq\n",
    "    a00=r00 - 1 + r11   \n",
    "    a01=r12 + r03  \n",
    "    rads = math.atan2(a00, -a01) \n",
    "    northorient = 180 - math.degrees(rads) \n",
    "    return math.degrees(math.asin(sinpitch)), math.degrees(math.asin(sinroll)), northorient\n"
   ]
  },
  {
   "cell_type": "code",
   "execution_count": 274,
   "metadata": {},
   "outputs": [
    {
     "name": "stdout",
     "output_type": "stream",
     "text": [
      "serial exception on close write failed: [Errno 5] Input/output error\n",
      "\u001b[34mConnecting to Serial /dev/ttyUSB0 baud=115200 \u001b[0m\n",
      "\u001b[34mReady.\n",
      "\u001b[0m"
     ]
    }
   ],
   "source": [
    "%serialconnect"
   ]
  },
  {
   "cell_type": "code",
   "execution_count": 205,
   "metadata": {},
   "outputs": [
    {
     "name": "stdout",
     "output_type": "stream",
     "text": [
      "2\r\n"
     ]
    }
   ],
   "source": [
    "x = [1,2]\n",
    "def f(a,b,c):\n",
    "    print(c)\n",
    "f(9, *x)"
   ]
  },
  {
   "cell_type": "code",
   "execution_count": 223,
   "metadata": {},
   "outputs": [
    {
     "name": "stdout",
     "output_type": "stream",
     "text": [
      "object <module 'network'> is of type module\n",
      "  __name__ -- network\n",
      "  WLAN -- <function>\n",
      "  phy_mode -- <function>\n",
      "  STA_IF -- 0\n",
      "  AP_IF -- 1\n",
      "  STAT_IDLE -- 0\n",
      "  STAT_CONNECTING -- 1\n",
      "  STAT_WRONG_PASSWORD -- 2\n",
      "  STAT_NO_AP_FOUND -- 3\n",
      "  STAT_CONNECT_FAIL -- 4\n",
      "  STAT_GOT_IP -- 5\n",
      "  MODE_11B -- 1\n",
      "  MODE_11G -- 2\n",
      "  MODE_11N -- 3\n",
      "  AUTH_OPEN -- 0\n",
      "  AUTH_WEP -- 1\n",
      "  AUTH_WPA_PSK -- 2\n",
      "  AUTH_WPA2_PSK -- 3\n",
      "  AUTH_WPA_WPA2_PSK -- 4\n"
     ]
    }
   ],
   "source": [
    "help(network)"
   ]
  },
  {
   "cell_type": "code",
   "execution_count": 224,
   "metadata": {
    "collapsed": true
   },
   "outputs": [],
   "source": [
    "import network\n",
    "staif = network.WLAN(network.AP_IF)\n",
    "staif.active(True)\n"
   ]
  },
  {
   "cell_type": "code",
   "execution_count": 242,
   "metadata": {},
   "outputs": [
    {
     "name": "stdout",
     "output_type": "stream",
     "text": [
      "object <WLAN> is of type WLAN\n",
      "  active -- <function>\n",
      "  connect -- <function>\n",
      "  disconnect -- <function>\n",
      "  status -- <function>\n",
      "  scan -- <function>\n",
      "  isconnected -- <function>\n",
      "  config -- <function>\n",
      "  ifconfig -- <function>\n"
     ]
    }
   ],
   "source": [
    "help(staif)"
   ]
  },
  {
   "cell_type": "code",
   "execution_count": 245,
   "metadata": {},
   "outputs": [
    {
     "name": "stdout",
     "output_type": "stream",
     "text": [
      "MicroPython-ac74e4\r\n"
     ]
    },
    {
     "name": "stderr",
     "output_type": "stream",
     "text": [
      "Traceback (most recent call last):\n",
      "  File \"<stdin>\", line 2, in <module>\n",
      "TypeError: function takes 1 positional arguments but 2 were given\n"
     ]
    }
   ],
   "source": [
    "print(staif.config(\"essid\"))\n",
    "print(staif.status(\"stations\"))\n"
   ]
  },
  {
   "cell_type": "code",
   "execution_count": 263,
   "metadata": {
    "collapsed": true
   },
   "outputs": [],
   "source": [
    "client = MQTTClient(b\"walkingpole\", '192.168.4.4')\n",
    "client.connect()\n",
    "client.publish(b\"walkingpole/ip\", staif.ifconfig()[0].encode())"
   ]
  },
  {
   "cell_type": "code",
   "execution_count": 265,
   "metadata": {
    "collapsed": true
   },
   "outputs": [],
   "source": [
    "client.publish(b\"walkingpole/duung\", b\"dong\")\n"
   ]
  },
  {
   "cell_type": "code",
   "execution_count": 268,
   "metadata": {},
   "outputs": [
    {
     "name": "stdout",
     "output_type": "stream",
     "text": [
      "\u001b[34mattempt to exit paste mode\n",
      "\u001b[0m\u001b[34m[\\r\\x03\\x02] \u001b[0mb'\\r\\nMicroPython v1.9.3-8-g63826ac5c on 2017-11-01; ESP module with ESP8266\\r\\nType \"help()\" for more information.\\r\\n>>> '\u001b[34m\n",
      "Closing serial Serial<id=0x7f237e71b198, open=True>(port='/dev/ttyUSB0', baudrate=115200, bytesize=8, parity='N', stopbits=1, timeout=0.5, xonxoff=False, rtscts=False, dsrdtr=False)\n",
      "\u001b[0m"
     ]
    }
   ],
   "source": [
    "%disconnect"
   ]
  },
  {
   "cell_type": "code",
   "execution_count": null,
   "metadata": {
    "collapsed": true
   },
   "outputs": [],
   "source": []
  }
 ],
 "metadata": {
  "kernelspec": {
   "display_name": "MicroPython - USB",
   "language": "micropython",
   "name": "micropython"
  },
  "language_info": {
   "codemirror_mode": "python",
   "file_extension": ".py",
   "mimetype": "text/python",
   "name": "micropython"
  }
 },
 "nbformat": 4,
 "nbformat_minor": 2
}

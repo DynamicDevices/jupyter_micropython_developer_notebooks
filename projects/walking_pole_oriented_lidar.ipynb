{
 "cells": [
  {
   "cell_type": "code",
   "execution_count": 5,
   "metadata": {},
   "outputs": [],
   "source": [
    "# This should be built on a fully commissioned ESP32\n",
    "# But there's problems with getting both i2c devices \n",
    "# working from an ESP32\n",
    "\n",
    "# So we have an MQTT version which you can get the data using\n",
    "# mosquitto_sub -h 192.168.0.159 -v -t \"walkingpole/#\""
   ]
  },
  {
   "cell_type": "code",
   "execution_count": 267,
   "metadata": {},
   "outputs": [
    {
     "name": "stdout",
     "output_type": "stream",
     "text": [
      "\u001b[34mConnecting to Serial /dev/ttyUSB0 baud=115200 \u001b[0m\n",
      "\u001b[34mReady.\n",
      "\u001b[0m"
     ]
    }
   ],
   "source": [
    "%serialconnect"
   ]
  },
  {
   "cell_type": "code",
   "execution_count": 99,
   "metadata": {},
   "outputs": [
    {
     "name": "stdout",
     "output_type": "stream",
     "text": [
      "Sent 3 lines (163 bytes) to i2cmodule.py.\n"
     ]
    }
   ],
   "source": [
    "# the location of the i2c pins on the firebeetle\n",
    "%sendtofile i2cmodule.py\n",
    "import machine\n",
    "#i2c = machine.I2C(scl=machine.Pin(22), sda=machine.Pin(21))\n",
    "i2c = machine.I2C(scl=machine.Pin(4), sda=machine.Pin(5), freq=100000)  #D2,D1 NodeMCU\n"
   ]
  },
  {
   "cell_type": "code",
   "execution_count": 161,
   "metadata": {},
   "outputs": [
    {
     "name": "stdout",
     "output_type": "stream",
     "text": [
      "Sent 46 lines (1653 bytes) to BNO055_funcs.py.\n"
     ]
    }
   ],
   "source": [
    "%sendtofile --source ../essential_sensor_code/VL53L0X_funcs.py\n",
    "%sendtofile --source ../essential_sensor_code/BNO055_funcs.py"
   ]
  },
  {
   "cell_type": "code",
   "execution_count": 142,
   "metadata": {},
   "outputs": [],
   "source": [
    "from VL53L0X_funcs import VL53L0Xinit, VL53L0Xdist"
   ]
  },
  {
   "cell_type": "code",
   "execution_count": 215,
   "metadata": {},
   "outputs": [
    {
     "name": "stdout",
     "output_type": "stream",
     "text": [
      "\u001b[31m\n",
      "\n",
      "***Connection broken [Input/output error]\n",
      "\u001b[0mYou may need to reconnect\n",
      "\n",
      "***OSError [Input/output error]\n",
      "\n"
     ]
    }
   ],
   "source": [
    "import time\n",
    "VL53L0Xinit()\n",
    "for i in range(10):\n",
    "    print(VL53L0Xdist())\n",
    "    time.sleep(1)"
   ]
  },
  {
   "cell_type": "code",
   "execution_count": 158,
   "metadata": {},
   "outputs": [
    {
     "name": "stdout",
     "output_type": "stream",
     "text": [
      "[40, 41]\r\n"
     ]
    }
   ],
   "source": [
    "from i2cmodule import i2c\n",
    "print(i2c.scan())"
   ]
  },
  {
   "cell_type": "code",
   "execution_count": 160,
   "metadata": {},
   "outputs": [
    {
     "name": "stdout",
     "output_type": "stream",
     "text": [
      "BNO055 sensor SW_REV_ID: 0x11.0x3\r\n"
     ]
    }
   ],
   "source": [
    "k = i2c.readfrom_mem(0x28, 0x00, 6)\n",
    "print(\"BNO055 sensor SW_REV_ID: %s.%s\" %(hex(k[4]), hex(k[5])))\n"
   ]
  },
  {
   "cell_type": "code",
   "execution_count": 162,
   "metadata": {},
   "outputs": [],
   "source": [
    "from BNO055_funcs import BNO055init, BNO055calibstat, BNO055quat, BNO055pitchrollorient\n"
   ]
  },
  {
   "cell_type": "code",
   "execution_count": 178,
   "metadata": {},
   "outputs": [
    {
     "name": "stdout",
     "output_type": "stream",
     "text": [
      "(15342, 24, -366, -5739)\r\n"
     ]
    }
   ],
   "source": [
    "#BNO055init()\n",
    "print(BNO055quat())"
   ]
  },
  {
   "cell_type": "code",
   "execution_count": 63,
   "metadata": {},
   "outputs": [
    {
     "name": "stderr",
     "output_type": "stream",
     "text": [
      "Traceback (most recent call last):\n",
      "  File \"<stdin>\", line 1, in <module>\n",
      "NameError: name 'VL53L0Xdist' is not defined\n"
     ]
    }
   ],
   "source": [
    "print(VL53L0Xdist())\n"
   ]
  },
  {
   "cell_type": "code",
   "execution_count": 274,
   "metadata": {},
   "outputs": [
    {
     "name": "stdout",
     "output_type": "stream",
     "text": [
      "serial exception on close write failed: [Errno 5] Input/output error\n",
      "\u001b[34mConnecting to Serial /dev/ttyUSB0 baud=115200 \u001b[0m\n",
      "\u001b[34mReady.\n",
      "\u001b[0m"
     ]
    }
   ],
   "source": [
    "%serialconnect"
   ]
  },
  {
   "cell_type": "code",
   "execution_count": 275,
   "metadata": {},
   "outputs": [
    {
     "name": "stdout",
     "output_type": "stream",
     "text": [
      "Sent 53 lines (1316 bytes) to main.py.\n"
     ]
    }
   ],
   "source": [
    "%sendtofile main.py\n",
    "\n",
    "#ssid, ssidpassword = b'DoESLiverpool', b'decafbad00'\n",
    "#mqttbroker = \"192.168.0.159\"   # mqtt.local\n",
    "ssid = None\n",
    "\n",
    "from VL53L0X_funcs import VL53L0Xinit, VL53L0Xdist\n",
    "from BNO055_funcs import BNO055init, BNO055calibstat, BNO055quat\n",
    "\n",
    "from machine import Pin\n",
    "import time, network\n",
    "from umqtt.robust import MQTTClient\n",
    "\n",
    "pled = Pin(2, Pin.OUT)\n",
    "\n",
    "if ssid:\n",
    "    staif = network.WLAN(network.STA_IF)\n",
    "    staif.active(True)\n",
    "    staif.connect(ssid, ssidpassword)\n",
    "    while not staif.isconnected():\n",
    "        pled.value(1-pled.value())\n",
    "        time.sleep(0.2)\n",
    "else:\n",
    "    staif = network.WLAN(network.AP_IF)\n",
    "    staif.active(True)\n",
    "    \n",
    "VL53L0Xinit()\n",
    "BNO055init()\n",
    "\n",
    "for i in range(1000):\n",
    "    pled.value(1-pled.value())\n",
    "    if not ssid:\n",
    "        mqttbroker = \"192.168.4.%d\"%((i%4)+2)\n",
    "    try:\n",
    "        print(\"mqttbroker\", mqttbroker)\n",
    "        c = MQTTClient(b\"walkingpole\", mqttbroker)\n",
    "        c.connect()\n",
    "        break\n",
    "    except OSError as e:\n",
    "        print(e)\n",
    "c.publish(b\"walkingpole/ip\", staif.ifconfig()[0].encode())\n",
    "\n",
    "t0 = time.ticks_ms()\n",
    "while True:\n",
    "    pled.value(1)\n",
    "    time.sleep_ms(5)\n",
    "    t1 = time.ticks_ms()\n",
    "    time.sleep_ms(max(5, 50-(t1-t0)))\n",
    "    t1 = time.ticks_ms()\n",
    "    pled.value(0)\n",
    "    msg = b\"{} {} {} {} {} {}\".format(t1-t0, VL53L0Xdist(), *BNO055quat())\n",
    "    print(msg)\n",
    "    c.publish(b\"walkingpole/quatd\", msg)\n",
    "    t0 = t1\n",
    "\n"
   ]
  },
  {
   "cell_type": "code",
   "execution_count": 205,
   "metadata": {},
   "outputs": [
    {
     "name": "stdout",
     "output_type": "stream",
     "text": [
      "2\r\n"
     ]
    }
   ],
   "source": [
    "x = [1,2]\n",
    "def f(a,b,c):\n",
    "    print(c)\n",
    "f(9, *x)"
   ]
  },
  {
   "cell_type": "code",
   "execution_count": 223,
   "metadata": {},
   "outputs": [
    {
     "name": "stdout",
     "output_type": "stream",
     "text": [
      "object <module 'network'> is of type module\n",
      "  __name__ -- network\n",
      "  WLAN -- <function>\n",
      "  phy_mode -- <function>\n",
      "  STA_IF -- 0\n",
      "  AP_IF -- 1\n",
      "  STAT_IDLE -- 0\n",
      "  STAT_CONNECTING -- 1\n",
      "  STAT_WRONG_PASSWORD -- 2\n",
      "  STAT_NO_AP_FOUND -- 3\n",
      "  STAT_CONNECT_FAIL -- 4\n",
      "  STAT_GOT_IP -- 5\n",
      "  MODE_11B -- 1\n",
      "  MODE_11G -- 2\n",
      "  MODE_11N -- 3\n",
      "  AUTH_OPEN -- 0\n",
      "  AUTH_WEP -- 1\n",
      "  AUTH_WPA_PSK -- 2\n",
      "  AUTH_WPA2_PSK -- 3\n",
      "  AUTH_WPA_WPA2_PSK -- 4\n"
     ]
    }
   ],
   "source": [
    "help(network)"
   ]
  },
  {
   "cell_type": "code",
   "execution_count": 224,
   "metadata": {},
   "outputs": [],
   "source": [
    "import network\n",
    "staif = network.WLAN(network.AP_IF)\n",
    "staif.active(True)\n"
   ]
  },
  {
   "cell_type": "code",
   "execution_count": 242,
   "metadata": {},
   "outputs": [
    {
     "name": "stdout",
     "output_type": "stream",
     "text": [
      "object <WLAN> is of type WLAN\n",
      "  active -- <function>\n",
      "  connect -- <function>\n",
      "  disconnect -- <function>\n",
      "  status -- <function>\n",
      "  scan -- <function>\n",
      "  isconnected -- <function>\n",
      "  config -- <function>\n",
      "  ifconfig -- <function>\n"
     ]
    }
   ],
   "source": [
    "help(staif)"
   ]
  },
  {
   "cell_type": "code",
   "execution_count": 245,
   "metadata": {},
   "outputs": [
    {
     "name": "stdout",
     "output_type": "stream",
     "text": [
      "MicroPython-ac74e4\r\n"
     ]
    },
    {
     "name": "stderr",
     "output_type": "stream",
     "text": [
      "Traceback (most recent call last):\n",
      "  File \"<stdin>\", line 2, in <module>\n",
      "TypeError: function takes 1 positional arguments but 2 were given\n"
     ]
    }
   ],
   "source": [
    "print(staif.config(\"essid\"))\n",
    "print(staif.status(\"stations\"))\n"
   ]
  },
  {
   "cell_type": "code",
   "execution_count": 263,
   "metadata": {},
   "outputs": [],
   "source": [
    "client = MQTTClient(b\"walkingpole\", '192.168.4.4')\n",
    "client.connect()\n",
    "client.publish(b\"walkingpole/ip\", staif.ifconfig()[0].encode())"
   ]
  },
  {
   "cell_type": "code",
   "execution_count": 265,
   "metadata": {
    "collapsed": true
   },
   "outputs": [],
   "source": [
    "client.publish(b\"walkingpole/duung\", b\"dong\")\n"
   ]
  },
  {
   "cell_type": "code",
   "execution_count": 268,
   "metadata": {},
   "outputs": [
    {
     "name": "stdout",
     "output_type": "stream",
     "text": [
      "\u001b[34mattempt to exit paste mode\n",
      "\u001b[0m\u001b[34m[\\r\\x03\\x02] \u001b[0mb'\\r\\nMicroPython v1.9.3-8-g63826ac5c on 2017-11-01; ESP module with ESP8266\\r\\nType \"help()\" for more information.\\r\\n>>> '\u001b[34m\n",
      "Closing serial Serial<id=0x7f237e71b198, open=True>(port='/dev/ttyUSB0', baudrate=115200, bytesize=8, parity='N', stopbits=1, timeout=0.5, xonxoff=False, rtscts=False, dsrdtr=False)\n",
      "\u001b[0m"
     ]
    }
   ],
   "source": [
    "%disconnect"
   ]
  },
  {
   "cell_type": "code",
   "execution_count": null,
   "metadata": {
    "collapsed": true
   },
   "outputs": [],
   "source": []
  }
 ],
 "metadata": {
  "kernelspec": {
   "display_name": "MicroPython - USB",
   "language": "micropython",
   "name": "micropython"
  },
  "language_info": {
   "codemirror_mode": "python",
   "file_extension": ".py",
   "mimetype": "text/python",
   "name": "micropython"
  }
 },
 "nbformat": 4,
 "nbformat_minor": 2
}

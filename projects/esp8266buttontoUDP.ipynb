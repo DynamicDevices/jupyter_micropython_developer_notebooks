{
 "cells": [
  {
   "cell_type": "markdown",
   "metadata": {},
   "source": []
  },
  {
   "cell_type": "code",
   "execution_count": 36,
   "metadata": {},
   "outputs": [
    {
     "name": "stdout",
     "output_type": "stream",
     "text": [
      "\u001b[34mConnecting to --port=/dev/ttyUSB0 --baud=115200 \u001b[0m\n",
      "\u001b[34mReady.\n",
      "\u001b[0m"
     ]
    }
   ],
   "source": [
    "%serialconnect\n"
   ]
  },
  {
   "cell_type": "code",
   "execution_count": 37,
   "metadata": {},
   "outputs": [],
   "source": [
    "# developments experimenting with using the android as a hotspot\n",
    "import network\n",
    "# apparently the hotspotting android device will always be 192.168.43.1"
   ]
  },
  {
   "cell_type": "code",
   "execution_count": 38,
   "metadata": {},
   "outputs": [],
   "source": [
    "# Create access point for the phone to log onto\n",
    "si = network.WLAN(network.STA_IF) \n",
    "si.active()"
   ]
  },
  {
   "cell_type": "code",
   "execution_count": 39,
   "metadata": {},
   "outputs": [
    {
     "name": "stdout",
     "output_type": "stream",
     "text": [
      "scandone\n"
     ]
    }
   ],
   "source": [
    "wconn, wpass = b'BV6000', b'beckaaaa'\n",
    "bwconnexists = bool(l  for l in si.scan()  if l[0] == wconn)"
   ]
  },
  {
   "cell_type": "code",
   "execution_count": 40,
   "metadata": {},
   "outputs": [
    {
     "name": "stdout",
     "output_type": "stream",
     "text": [
      "scandone\n"
     ]
    }
   ],
   "source": [
    "import time\n",
    "if bwconnexists:\n",
    "    si.connect(wconn, wpass)\n",
    "    while not si.isconnected():\n",
    "        time.sleep_ms(100)"
   ]
  },
  {
   "cell_type": "code",
   "execution_count": 41,
   "metadata": {},
   "outputs": [
    {
     "name": "stdout",
     "output_type": "stream",
     "text": [
      "('192.168.43.11', '255.255.255.0', '192.168.43.1', '192.168.43.1')\n"
     ]
    }
   ],
   "source": [
    "print(si.ifconfig())"
   ]
  },
  {
   "cell_type": "code",
   "execution_count": 42,
   "metadata": {},
   "outputs": [
    {
     "name": "stdout",
     "output_type": "stream",
     "text": [
      "('192.168.4.1', '255.255.255.0', '192.168.4.1', '192.168.43.1')\n"
     ]
    }
   ],
   "source": [
    "si2 = network.WLAN(network.AP_IF) \n",
    "si2.active(True)      \n",
    "print(si2.ifconfig())\n"
   ]
  },
  {
   "cell_type": "code",
   "execution_count": 49,
   "metadata": {},
   "outputs": [
    {
     "name": "stdout",
     "output_type": "stream",
     "text": [
      "True\n"
     ]
    }
   ],
   "source": [
    "print(si2.active())\n"
   ]
  },
  {
   "cell_type": "code",
   "execution_count": 2,
   "metadata": {},
   "outputs": [
    {
     "name": "stdout",
     "output_type": "stream",
     "text": [
      ".\u001b[34m\n",
      "\n",
      "*** Sending Ctrl-C\n",
      "\n",
      "\u001b[0m"
     ]
    },
    {
     "name": "stderr",
     "output_type": "stream",
     "text": [
      "Traceback (most recent call last):\n",
      "  File \"<stdin>\", line 7, in <module>\n",
      "KeyboardInterrupt: \n"
     ]
    }
   ],
   "source": [
    "import time, machine\n",
    "pblue = machine.Pin(2, machine.Pin.OUT)\n",
    "pboot = machine.Pin(0, machine.Pin.IN)\n",
    "\n",
    "for i in range(21):\n",
    "    pblue.value(pboot.value())\n",
    "    time.sleep(0.6)\n"
   ]
  },
  {
   "cell_type": "code",
   "execution_count": 9,
   "metadata": {},
   "outputs": [
    {
     "name": "stdout",
     "output_type": "stream",
     "text": [
      "1\n"
     ]
    }
   ],
   "source": [
    "q = machine.Pin(0, machine.Pin.IN)\n",
    "print(q.value())\n"
   ]
  },
  {
   "cell_type": "code",
   "execution_count": 10,
   "metadata": {},
   "outputs": [
    {
     "name": "stdout",
     "output_type": "stream",
     "text": [
      "\u001b[34mConnecting to --port=/dev/ttyUSB0 --baud=115200 \u001b[0m\n",
      "\u001b[34mReady.\n",
      "\u001b[0m"
     ]
    }
   ],
   "source": [
    "# This is the current main as hotspot\n",
    "%serialconnect"
   ]
  },
  {
   "cell_type": "code",
   "execution_count": 11,
   "metadata": {},
   "outputs": [
    {
     "name": "stdout",
     "output_type": "stream",
     "text": [
      "Sent 53 lines (1464 bytes) to main.py.\n"
     ]
    }
   ],
   "source": [
    "%sendtofile main.py\n",
    "\n",
    "import network, socket\n",
    "import time, machine\n",
    "\n",
    "pled = machine.Pin(2, machine.Pin.OUT)\n",
    "pboot = machine.Pin(0, machine.Pin.IN)\n",
    "\n",
    "port = 9019\n",
    "sockudp = socket.socket(socket.AF_INET, socket.SOCK_DGRAM)\n",
    "sockudp.settimeout(0.1)\n",
    "\n",
    "wconn, wpass = b'BV6000', b'beckaaaa'\n",
    "si = network.WLAN(network.STA_IF) \n",
    "si.active(True)\n",
    "bwconnexists = bool(l  for l in si.scan()  if l[0] == wconn)\n",
    "if bwconnexists:\n",
    "    si.connect(wconn, wpass)\n",
    "    while not si.isconnected():\n",
    "        pled.value(1-pled.value())\n",
    "        time.sleep_ms(100)\n",
    "    udpaddr = (\"192.168.43.1\", port)\n",
    "    \n",
    "else:  # Create access point for the phone to log onto\n",
    "    si = network.WLAN(network.AP_IF) \n",
    "    si.active(True)      \n",
    "    #espname = \"ESP_%X%X%X\" % tuple(si.config(\"mac\")[-3:])  # esp32 version\n",
    "    espname = \"MicroPython_%x%x%x\" % tuple(si.config(\"mac\")[-3:])\n",
    "    print(\"\\nConnect to wifi {}\".format(espname))\n",
    "    udpaddr = None\n",
    "    sockudp.bind((\"192.168.4.1\", port))\n",
    "\n",
    "print(si.ifconfig())\n",
    "tudptimeout = 0\n",
    "\n",
    "def dwrite(mess):\n",
    "    global udpaddr\n",
    "    if udpaddr is not None:\n",
    "        try:\n",
    "            sockudp.sendto(mess, udpaddr)\n",
    "        except OSError as e:\n",
    "            print(\"dwrite\", e)\n",
    "            if not bwconnexists:\n",
    "                udpaddr = None\n",
    "\n",
    "def dflush():\n",
    "    global udpaddr\n",
    "    if udpaddr is None:\n",
    "        try:\n",
    "            rmess, udpaddr = sockudp.recvfrom(100)\n",
    "            print(rmess, udpaddr)\n",
    "            return udpaddr\n",
    "        except OSError as e:\n",
    "            print(\"dflush\", e)\n",
    "    return None\n"
   ]
  },
  {
   "cell_type": "code",
   "execution_count": 12,
   "metadata": {},
   "outputs": [
    {
     "name": "stdout",
     "output_type": "stream",
     "text": [
      "Sent 28 lines (758 bytes) to main.py.\n"
     ]
    }
   ],
   "source": [
    "%sendtofile --append main.py\n",
    "\n",
    "import urandom\n",
    "\n",
    "ubs = bytearray(\"Ut00000000i00\\n\")\n",
    "mubs = memoryview(ubs)\n",
    "prevflushstamp = 0\n",
    "nextledonstamp = 0\n",
    "\n",
    "while True:\n",
    "    tstamp = time.ticks_ms()\n",
    "    \n",
    "    if tstamp > nextledonstamp:\n",
    "        pv = (0 if pled.value() else 1)\n",
    "        pled.value(pv)\n",
    "        mubs[2:10] = b\"%08X\" % tstamp\n",
    "        mubs[12] = 48+pv #'0'or'1'\n",
    "        mubs[11] = 48+(1-pboot.value())\n",
    "        dwrite(ubs)\n",
    "        nextledonstamp = tstamp + (500+urandom.getrandbits(9))//(10 if pv else 1)\n",
    "            \n",
    "    if tstamp > prevflushstamp + 2000:\n",
    "        prevflushstamp = tstamp\n",
    "        k = dflush()\n",
    "        if isinstance(k, tuple):\n",
    "            for i in range(40):\n",
    "                pled.value(i%2)\n",
    "                time.sleep_ms(50)\n",
    "            print([\"UDP\", k[0], k[1]])  \n",
    "            "
   ]
  },
  {
   "cell_type": "markdown",
   "metadata": {},
   "source": [
    "#### Use this if receiving from UDP socket and saving\n",
    "\n",
    "import socket\n",
    "s = socket.socket(socket.AF_INET, socket.SOCK_DGRAM)\n",
    "s.settimeout(3)\n",
    "ipnum = \"192.168.4.3\"\n",
    "port = 9019\n",
    "#s.bind((ipnum, port))   \n",
    "s.sendto(b\"HiThere\", (\"192.168.4.1\", port))\n",
    "print(s.recvfrom(200))\n"
   ]
  },
  {
   "cell_type": "code",
   "execution_count": 38,
   "metadata": {},
   "outputs": [
    {
     "name": "stdout",
     "output_type": "stream",
     "text": [
      "291\n"
     ]
    }
   ],
   "source": [
    "print(urandom.getrandbits(9))\n"
   ]
  },
  {
   "cell_type": "code",
   "execution_count": null,
   "metadata": {},
   "outputs": [],
   "source": []
  }
 ],
 "metadata": {
  "kernelspec": {
   "display_name": "MicroPython - USB",
   "language": "micropython",
   "name": "micropython"
  },
  "language_info": {
   "codemirror_mode": "python",
   "file_extension": ".py",
   "mimetype": "text/python",
   "name": "micropython"
  }
 },
 "nbformat": 4,
 "nbformat_minor": 2
}

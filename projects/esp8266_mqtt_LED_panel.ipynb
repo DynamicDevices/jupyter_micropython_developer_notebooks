{
 "cells": [
  {
   "cell_type": "code",
   "execution_count": 230,
   "metadata": {},
   "outputs": [
    {
     "name": "stdout",
     "output_type": "stream",
     "text": [
      "serial exception on close write failed: [Errno 5] Input/output error\n",
      "\u001b[34mConnecting to --port=/dev/ttyUSB2 --baud=115200 \u001b[0m\n",
      "\u001b[34mReady.\n",
      "\u001b[0m"
     ]
    }
   ],
   "source": [
    "%serialconnect"
   ]
  },
  {
   "cell_type": "code",
   "execution_count": 81,
   "metadata": {},
   "outputs": [
    {
     "name": "stdout",
     "output_type": "stream",
     "text": [
      "Sent 5 lines (116 bytes) to config.txt.\n"
     ]
    }
   ],
   "source": [
    "%sendtofile config.txt\n",
    "\n",
    "wifiname     DoESLiverpool\n",
    "wifipassword decafbad00\n",
    "mqttbroker   10.0.30.130\n",
    "pinled       2\n",
    "boardname    esp8266LOLIN"
   ]
  },
  {
   "cell_type": "code",
   "execution_count": null,
   "metadata": {},
   "outputs": [],
   "source": []
  },
  {
   "cell_type": "code",
   "execution_count": 229,
   "metadata": {},
   "outputs": [
    {
     "name": "stdout",
     "output_type": "stream",
     "text": [
      "Sent 95 lines (2572 bytes) to main.py.\n"
     ]
    }
   ],
   "source": [
    "%sendtofile main.py\n",
    "\n",
    "# Very minimal scrolling panel\n",
    "numledcells = const(4*4)\n",
    "mstimedelay = const(20)\n",
    "\n",
    "# setup and initialize the LED strip\n",
    "from machine import Pin, SPI\n",
    "spi = SPI(1, baudrate=10000000, polarity=0, phase=0)\n",
    "cs = Pin(15, Pin.OUT, value=1)\n",
    "for i in range(0, 10, 2):\n",
    "    cs.value(0)\n",
    "    x = b\"\\x0c\\x00\\x0f\\x00\\x0b\\x07\\x09\\x00\\x0c\\x01\"[i:i+2]\n",
    "    spi.write(x*numledcells)\n",
    "    cs.value(1)\n",
    "    \n",
    "cs.value(0)  # 0<=brightness<=15\n",
    "spi.write(bytes([10, 0])*numledcells)\n",
    "cs.value(1)\n",
    "\n",
    "import framebuf\n",
    "buffer = bytearray(8*(numledcells+1))  # make one extra character to scroll from\n",
    "fbuff = framebuf.FrameBuffer(buffer, 8*(numledcells+1), 8, framebuf.MONO_HLSB)\n",
    "\n",
    "\n",
    "def show():\n",
    "    for y in range(8):\n",
    "        cs.value(0)\n",
    "        for m in range(numledcells):\n",
    "            spi.write(bytearray([1 + y, buffer[y*(numledcells+1) + (numledcells - m - 1)]]))\n",
    "        cs.value(1)\n",
    "\n",
    "for i in range(0, numledcells*8, 4):\n",
    "    fbuff.fill_rect(i, (i%8), 4, 4, 1)\n",
    "show()\n",
    "\n",
    "import time\n",
    "message = \"DoESLiverpool is...?\"\n",
    "messagechar = -1\n",
    "messagepix = 8\n",
    "def msgnext():\n",
    "    global messagechar, messagepix\n",
    "    messagepix += 1\n",
    "    if messagepix < 8:\n",
    "        fbuff.scroll(-1,0)\n",
    "    else:\n",
    "        messagechar += 1\n",
    "        messagepix = 0\n",
    "        fbuff.fill(0)\n",
    "        mc = max(messagechar, 0)\n",
    "        fbuff.text(message[mc:mc+numledcells+1], -min(0, messagechar)*8, 0, 1)\n",
    "    show()\n",
    "\n",
    "#while 1:\n",
    "#    msgnext()\n",
    "#    if messagechar >= len(message):\n",
    "#        messagechar, messagepix = -numledcells, 7\n",
    "#    time.sleep_ms(20)\n",
    "\n",
    "\n",
    "# mqtt technology\n",
    "import network, machine, ubinascii\n",
    "\n",
    "fconfig = dict(x.split()  for x in open(\"config.txt\"))\n",
    "pled = machine.Pin(int(fconfig[\"pinled\"]), machine.Pin.OUT)\n",
    "\n",
    "si = network.WLAN()\n",
    "si.active(True)\n",
    "si.connect(fconfig[\"wifiname\"], fconfig[\"wifipassword\"])\n",
    "while not si.isconnected():\n",
    "    time.sleep_ms(500)\n",
    "ipnumber = si.ifconfig()[0]\n",
    "print(ipnumber)\n",
    "for i in range(10):\n",
    "    pled.value(i%2)\n",
    "    time.sleep_ms(100)\n",
    "\n",
    "from umqtt.robust import MQTTClient\n",
    "client = MQTTClient(fconfig[\"boardname\"], fconfig[\"mqttbroker\"])\n",
    "client.connect()\n",
    "client.publish(fconfig[\"boardname\"]+\"/ip\", ipnumber, retain=True, qos=1)\n",
    "client.publish(fconfig[\"boardname\"]+\"/mac\", ubinascii.hexlify(si.config('mac'),':').decode().upper(), retain=True, qos=1)\n",
    "\n",
    "\n",
    "def callback(topic, msg):\n",
    "    global message, messagechar, messagepix\n",
    "    print((topic, msg))\n",
    "    message = msg\n",
    "    messagechar, messagepix = -numledcells, 7\n",
    "client.set_callback(callback)\n",
    "client.subscribe(fconfig[\"boardname\"]+\"/message\")\n",
    "\n",
    "tnext = 0\n",
    "while True:\n",
    "    while time.ticks_ms() < tnext:\n",
    "        pass\n",
    "    tnext = time.ticks_ms() + mstimedelay\n",
    "\n",
    "    msgnext()\n",
    "    if messagechar >= len(message):\n",
    "        messagechar, messagepix = -numledcells, 7\n",
    "    client.check_msg()\n"
   ]
  },
  {
   "cell_type": "code",
   "execution_count": 212,
   "metadata": {},
   "outputs": [],
   "source": []
  },
  {
   "cell_type": "code",
   "execution_count": 223,
   "metadata": {},
   "outputs": [],
   "source": []
  },
  {
   "cell_type": "code",
   "execution_count": null,
   "metadata": {},
   "outputs": [],
   "source": []
  }
 ],
 "metadata": {
  "kernelspec": {
   "display_name": "MicroPython - USB",
   "language": "micropython",
   "name": "micropython"
  },
  "language_info": {
   "codemirror_mode": "python",
   "file_extension": ".py",
   "mimetype": "text/python",
   "name": "micropython"
  }
 },
 "nbformat": 4,
 "nbformat_minor": 2
}

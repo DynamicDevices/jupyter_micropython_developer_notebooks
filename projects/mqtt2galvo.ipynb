{
 "cells": [
  {
   "cell_type": "markdown",
   "metadata": {},
   "source": [
    "This is coded on an ESP8266 on the coffee level galvonometer\n",
    "now hanging on the pipework at the front.\n",
    "\n",
    "Very trivial code, no checking or async work\n",
    "\n",
    "Also seems to fail connect to the broker \n",
    "on the esp8266 that it is wired to.  no idea"
   ]
  },
  {
   "cell_type": "code",
   "execution_count": 1,
   "metadata": {},
   "outputs": [
    {
     "name": "stdout",
     "output_type": "stream",
     "text": [
      "\u001b[34mConnecting to --port=/dev/ttyUSB1 --baud=115200 \u001b[0m\n",
      "\u001b[34mReady.\n",
      "\u001b[0m"
     ]
    }
   ],
   "source": [
    "%serialconnect"
   ]
  },
  {
   "cell_type": "code",
   "execution_count": 2,
   "metadata": {},
   "outputs": [
    {
     "name": "stdout",
     "output_type": "stream",
     "text": [
      "Sent 204 lines (6411 bytes) to lib/umqtt/simple.py.\n",
      "['robust.py', 'simple.py']\n"
     ]
    }
   ],
   "source": [
    "%sendtofile --mkdir --source /home/julian/extrepositories/micropython-lib/umqtt.robust/umqtt/robust.py lib/umqtt/\n",
    "%sendtofile --mkdir --source /home/julian/extrepositories/micropython-lib/umqtt.simple/umqtt/simple.py lib/umqtt/\n",
    "print(os.listdir(\"lib/umqtt\"))\n"
   ]
  },
  {
   "cell_type": "code",
   "execution_count": 31,
   "metadata": {},
   "outputs": [
    {
     "name": "stdout",
     "output_type": "stream",
     "text": [
      "Sent 48 lines (1001 bytes) to main.py.\n"
     ]
    }
   ],
   "source": [
    "%sendtofile main.py\n",
    "\n",
    "import machine, time, network\n",
    "\n",
    "wifiname = \"DoESLiverpool-MQTT\"\n",
    "wifipassword = \"decafbad00\"\n",
    "mqttbroker = \"10.3.141.1\"\n",
    "\n",
    "# nodemcu8266 D1 = pin5, D2 = pin4; use pin13 on an esp32\n",
    "p = machine.PWM(machine.Pin(5))  \n",
    "p.duty(1023)\n",
    "time.sleep(0.5)\n",
    "\n",
    "sta_if = network.WLAN(network.STA_IF)\n",
    "sta_if.active(True)\n",
    "\n",
    "p.duty(0)\n",
    "sta_if.connect(wifiname, wifipassword)\n",
    "while not sta_if.isconnected():\n",
    "    time.sleep(0.1)\n",
    "p.duty(1023)\n",
    "print(\"connected to wifi\")\n",
    "\n",
    "from umqtt.robust import MQTTClient\n",
    "client = MQTTClient(\"coffeedial\", mqttbroker, 1883)\n",
    "for i in range(100):\n",
    "    try:\n",
    "        client.connect()\n",
    "        break\n",
    "    except OSError as e:\n",
    "        print(e)\n",
    "    p.duty(1023*(i%2))\n",
    "print(\"connected to mqtt\")\n",
    "\n",
    "def sub_cb(topic, msg):\n",
    "    print((topic, msg))\n",
    "    try:\n",
    "        v = float(msg)\n",
    "    except ValueError:\n",
    "        print(\"ignore\")\n",
    "        return\n",
    "    v = min(100, max(0, v))\n",
    "    p.duty(int(v/100*1023))\n",
    "\n",
    "client.set_callback(sub_cb)\n",
    "client.subscribe(b\"coffeedial/msg\")\n",
    "p.duty(500)\n",
    "\n",
    "while True:\n",
    "    client.wait_msg()\n"
   ]
  },
  {
   "cell_type": "code",
   "execution_count": 5,
   "metadata": {},
   "outputs": [
    {
     "name": "stdout",
     "output_type": "stream",
     "text": [
      "serial exception on close write failed: [Errno 5] Input/output error\n",
      "\u001b[34mConnecting to --port=/dev/ttyUSB0 --baud=115200 \u001b[0m\n",
      "\u001b[34mReady.\n",
      "\u001b[0m"
     ]
    }
   ],
   "source": [
    "%serialconnect"
   ]
  },
  {
   "cell_type": "code",
   "execution_count": 8,
   "metadata": {},
   "outputs": [
    {
     "name": "stdout",
     "output_type": "stream",
     "text": [
      "['boot.py', 'main.py', 'lib']\n"
     ]
    }
   ],
   "source": [
    "import os\n",
    "print(os.listdir())"
   ]
  },
  {
   "cell_type": "code",
   "execution_count": 27,
   "metadata": {},
   "outputs": [],
   "source": [
    "import network\n",
    "si = network.WLAN()\n",
    "si.active(True)"
   ]
  },
  {
   "cell_type": "code",
   "execution_count": 29,
   "metadata": {},
   "outputs": [
    {
     "name": "stdout",
     "output_type": "stream",
     "text": [
      "object <module 'esp'> is of type module\n",
      "  __name__ -- esp\n",
      "  osdebug -- <function>\n",
      "  sleep_type -- <function>\n",
      "  deepsleep -- <function>\n",
      "  flash_id -- <function>\n",
      "  flash_read -- <function>\n",
      "  flash_write -- <function>\n",
      "  flash_erase -- <function>\n",
      "  flash_size -- <function>\n",
      "  flash_user_start -- <function>\n",
      "  neopixel_write -- <function>\n",
      "  apa102_write -- <function>\n",
      "  dht_readinto -- <function>\n",
      "  freemem -- <function>\n",
      "  meminfo -- <function>\n",
      "  check_fw -- <function>\n",
      "  info -- <function>\n",
      "  malloc -- <function>\n",
      "  free -- <function>\n",
      "  esf_free_bufs -- <function>\n",
      "  set_native_code_location -- <function>\n",
      "  SLEEP_NONE -- 0\n",
      "  SLEEP_LIGHT -- 1\n",
      "  SLEEP_MODEM -- 2\n"
     ]
    }
   ],
   "source": [
    "import esp\n",
    "help(esp)"
   ]
  },
  {
   "cell_type": "code",
   "execution_count": 28,
   "metadata": {},
   "outputs": [
    {
     "name": "stdout",
     "output_type": "stream",
     "text": [
      "scandone\n",
      "[(b'mqtt-wifi', b\"\\xb8'\\xeb\\xf7\\xb1%\", 1, -49, 2, 0), (b'ProjectManifold', b'DNm\\xd6\\xb9\\xd9', 1, -75, 3, 0), (b'DefProcEng', b'\\xc0J\\x00\\x8d\\x94r', 1, -82, 4, 0), (b'ProjectManifold guest access', b'FNm\\xd6\\xb9\\xd9', 1, -70, 3, 0), (b'WiFi Guest', b'\\xd88\\xfc\\x1c\\xbd\\xb8', 2, -72, 0, 0), (b'WiFi MAC', b'\\xd88\\xfc\\\\\\xbd\\xb8', 2, -72, 0, 0), (b'WiFi Secure', b'\\xd88\\xfc\\x9c\\xbd\\xb8', 2, -72, 5, 0), (b'WiFi Guest', b'\\xd88\\xfc\\x1cx\\x08', 3, -70, 0, 0), (b'WiFi MAC', b'\\xd88\\xfc\\\\x\\x08', 3, -71, 0, 0), (b'WiFi Secure', b'\\xd88\\xfc\\x9cx\\x08', 3, -70, 5, 0), (b'WiFi Guest', b'\\xd88\\xfc\\x1c\\xb5\\xa8', 3, -75, 0, 0), (b'WiFi Secure', b'\\xd88\\xfc\\x9c\\xb5\\xa8', 3, -75, 5, 0), (b'WiFi Guest', b'\\xd88\\xfc\\x1c\\xb5\\x98', 5, -78, 0, 0), (b'WiFi MAC', b'\\xd88\\xfc\\\\\\xb5\\x98', 5, -80, 0, 0), (b'WiFi Secure', b'\\xd88\\xfc\\x9c\\xb5\\x98', 5, -79, 5, 0), (b'WiFi MAC', b'\\xd88\\xfc\\\\\\xab\\x18', 6, -70, 0, 0), (b'WiFi Secure', b'\\xd88\\xfc\\x9c\\xab\\x18', 6, -69, 5, 0), (b'WiFi Guest', b'\\xd88\\xfc\\x1c\\xab\\x18', 6, -68, 0, 0), (b'Things-Gateway-001EC03AD726', b'\\x00\\x1e\\xc0:\\xd7&', 6, -76, 3, 0), (b'WiFi Guest', b'\\xd88\\xfc\\x1c\\x8f\\xe8', 7, -81, 0, 0), (b'WiFi Secure', b'\\xd88\\xfc\\x9c\\x8f\\xe8', 7, -81, 5, 0), (b'WiFi MAC', b'\\xd88\\xfc\\\\\\x8f\\xe8', 7, -81, 0, 0), (b'WiFi Guest', b'\\xd88\\xfc\\x1c\\x92H', 7, -59, 0, 0), (b'WiFi MAC', b'\\xd88\\xfc\\\\\\x92H', 7, -58, 0, 0), (b'WiFi Secure', b'\\xd88\\xfc\\x9c\\x92H', 7, -59, 5, 0), (b'zoomer', b'\\\\j\\x80f%g', 10, -85, 3, 0), (b'WiFi Guest', b'\\xd88\\xfc\\x1c\\xaf\\xa8', 10, -64, 0, 0), (b'WiFi MAC', b'\\xd88\\xfc\\\\\\xaf\\xa8', 10, -64, 0, 0), (b'WiFi Secure', b'\\xd88\\xfc\\x9c\\xaf\\xa8', 10, -64, 5, 0), (b'RenderHQ', b'<\\x15\\xc2\\xf3\\xd1D', 11, -67, 3, 0), (b'WiFi Guest', b'$y*3\\xe3\\xa8', 11, -31, 0, 0), (b'WiFi MAC', b'$y*s\\xe3\\xa8', 11, -33, 0, 0), (b'DIRECT-QVM283x Series', b'\\x86%\\x19!\\\\S', 11, -80, 3, 0), (b'WiFi Secure', b'$y*\\xb3\\xe3\\xa8', 11, -31, 5, 0), (b'WiFi Guest', b'\\xd88\\xfc\\x1c\\xbc\\xc8', 11, -80, 0, 0), (b'WiFi Secure', b'\\xd88\\xfc\\x9c\\xbc\\xc8', 11, -77, 5, 0), (b'WiFi Secure', b'\\xd88\\xfc\\x9c\\x8cH', 12, -81, 5, 0), (b'WiFi Guest', b'\\xd88\\xfc\\x1c\\xbc\\xf8', 13, -70, 0, 0), (b'WiFi MAC', b'\\xd88\\xfc\\\\\\xbc\\xf8', 13, -70, 0, 0), (b'WiFi Guest', b'\\xd88\\xfc\\x1c\\xb0H', 13, -70, 0, 0), (b'WiFi Secure', b'\\xd88\\xfc\\x9c\\xbc\\xf8', 13, -70, 5, 0), (b'WiFi MAC', b'\\xd88\\xfc\\\\\\xb0H', 13, -70, 0, 0), (b'WiFi Secure', b'\\xd88\\xfc\\x9c\\xb0H', 13, -69, 5, 0)]\n"
     ]
    }
   ],
   "source": [
    "print(si.scan())"
   ]
  },
  {
   "cell_type": "code",
   "execution_count": 24,
   "metadata": {},
   "outputs": [
    {
     "name": "stdout",
     "output_type": "stream",
     "text": [
      "."
     ]
    }
   ],
   "source": [
    "import time\n",
    "p.duty(0)\n",
    "time.sleep(1)\n",
    "p.duty(1000)\n",
    "time.sleep_ms(60)\n",
    "p.duty(0)\n",
    "time.sleep_ms(20)\n",
    "p.duty(500)\n",
    "time.sleep(1)\n"
   ]
  },
  {
   "cell_type": "code",
   "execution_count": null,
   "metadata": {},
   "outputs": [],
   "source": []
  },
  {
   "cell_type": "code",
   "execution_count": null,
   "metadata": {},
   "outputs": [],
   "source": []
  },
  {
   "cell_type": "code",
   "execution_count": 8,
   "metadata": {},
   "outputs": [
    {
     "name": "stdout",
     "output_type": "stream",
     "text": [
      "\u001b[34mattempt to exit paste mode\n",
      "\u001b[0m\u001b[34m[\\r\\x03\\x02] \u001b[0mb'\\r\\nMicroPython v1.9.4-8-ga9a3caad0 on 2018-05-11; ESP module with ESP8266\\r\\nType \"help()\" for more information.\\r\\n>>> '\u001b[34m\n",
      "Closing serial Serial<id=0x7f5388052358, open=True>(port='/dev/ttyUSB0', baudrate=115200, bytesize=8, parity='N', stopbits=1, timeout=0.5, xonxoff=False, rtscts=False, dsrdtr=False)\n",
      "\u001b[0m"
     ]
    }
   ],
   "source": [
    "%disconnect"
   ]
  },
  {
   "cell_type": "code",
   "execution_count": 6,
   "metadata": {},
   "outputs": [
    {
     "name": "stdout",
     "output_type": "stream",
     "text": [
      "PWM(5, freq=500, duty=1023)\n"
     ]
    }
   ],
   "source": [
    "print(p)"
   ]
  },
  {
   "cell_type": "code",
   "execution_count": 158,
   "metadata": {},
   "outputs": [],
   "source": [
    "\n",
    "import machine\n",
    "p = machine.PWM(machine.Pin(5))\n",
    "# nodemcu D1 = pin5, D2 = pin4\n"
   ]
  },
  {
   "cell_type": "code",
   "execution_count": 184,
   "metadata": {},
   "outputs": [
    {
     "name": "stdout",
     "output_type": "stream",
     "text": [
      "."
     ]
    }
   ],
   "source": [
    "# this makes a very rapid move to the spot\n",
    "# without the wobbling\n",
    "# (could be implemented, and then use schedule to do the callback)\n",
    "import time\n",
    "\n",
    "p.duty(0)\n",
    "time.sleep(1)\n",
    "\n",
    "p.duty(1023)\n",
    "time.sleep(0.09)\n",
    "p.duty(0)\n",
    "time.sleep(0.1)\n",
    "p.duty(500)\n",
    "\n",
    "\n"
   ]
  },
  {
   "cell_type": "code",
   "execution_count": null,
   "metadata": {},
   "outputs": [],
   "source": []
  },
  {
   "cell_type": "code",
   "execution_count": null,
   "metadata": {},
   "outputs": [],
   "source": []
  },
  {
   "cell_type": "code",
   "execution_count": 235,
   "metadata": {},
   "outputs": [
    {
     "name": "stdout",
     "output_type": "stream",
     "text": [
      "\u001b[34mConnecting to --port=/dev/ttyUSB4 --baud=115200 \u001b[0m\n",
      "\u001b[34mReady.\n",
      "\u001b[0m"
     ]
    }
   ],
   "source": [
    "%serialconnect"
   ]
  },
  {
   "cell_type": "code",
   "execution_count": 236,
   "metadata": {},
   "outputs": [],
   "source": [
    "import machine\n",
    "a = machine.ADC(0)\n",
    "p = machine.Pin(5, machine.Pin.OUT)\n"
   ]
  },
  {
   "cell_type": "code",
   "execution_count": 247,
   "metadata": {},
   "outputs": [
    {
     "name": "stdout",
     "output_type": "stream",
     "text": [
      "212\n",
      "9\n"
     ]
    }
   ],
   "source": [
    "import time\n",
    "p.value(1)\n",
    "time.sleep_ms(50)\n",
    "print(a.read())\n",
    "p.value(0)\n",
    "time.sleep_ms(50)\n",
    "print(a.read())\n"
   ]
  },
  {
   "cell_type": "code",
   "execution_count": 234,
   "metadata": {},
   "outputs": [
    {
     "name": "stdout",
     "output_type": "stream",
     "text": [
      "\u001b[31m\n",
      "\n",
      "***Connection broken [Input/output error]\n",
      "\u001b[0mYou may need to reconnect\u001b[34m\n",
      "Closing serial Serial<id=0x7fa00504b588, open=True>(port='/dev/ttyUSB3', baudrate=115200, bytesize=8, parity='N', stopbits=1, timeout=0.5, xonxoff=False, rtscts=False, dsrdtr=False)\n",
      "\u001b[0m\u001b[31mNo serial connected\n",
      "\u001b[0m  %serialconnect to connect\n",
      "  %esptool to flash the device\n",
      "  %lsmagic to list commands"
     ]
    }
   ],
   "source": [
    "p.value(0)\n",
    "time.sleep_ms(50)\n",
    "print(a.read())\n"
   ]
  },
  {
   "cell_type": "code",
   "execution_count": null,
   "metadata": {},
   "outputs": [],
   "source": []
  }
 ],
 "metadata": {
  "kernelspec": {
   "display_name": "MicroPython - USB",
   "language": "micropython",
   "name": "micropython"
  },
  "language_info": {
   "codemirror_mode": "python",
   "file_extension": ".py",
   "mimetype": "text/python",
   "name": "micropython"
  }
 },
 "nbformat": 4,
 "nbformat_minor": 2
}

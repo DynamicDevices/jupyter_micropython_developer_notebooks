{
 "cells": [
  {
   "cell_type": "markdown",
   "metadata": {},
   "source": [
    "This is coded on an ESP8266 on the coffee level galvonometer\n",
    "now hanging on the pipework at the front.\n",
    "\n",
    "Very trivial code, no checking or async work"
   ]
  },
  {
   "cell_type": "code",
   "execution_count": 9,
   "metadata": {},
   "outputs": [
    {
     "name": "stdout",
     "output_type": "stream",
     "text": [
      "\u001b[34mConnecting to --port=/dev/ttyUSB0 --baud=115200 \u001b[0m\n",
      "\u001b[34mReady.\n",
      "\u001b[0m"
     ]
    }
   ],
   "source": [
    "%serialconnect"
   ]
  },
  {
   "cell_type": "code",
   "execution_count": 10,
   "metadata": {},
   "outputs": [
    {
     "name": "stdout",
     "output_type": "stream",
     "text": [
      "Sent 49 lines (995 bytes) to main.py.\n"
     ]
    }
   ],
   "source": [
    "%sendtofile main.py\n",
    "\n",
    "import machine, time, network\n",
    "\n",
    "wifiname = \"mqtt-wifi\"\n",
    "wifipassword = \"decafbad00\"\n",
    "mqttbroker = \"10.3.141.1\"\n",
    "\n",
    "# nodemcu8266 D1 = pin5, D2 = pin4; use pin13 on an esp32\n",
    "p = machine.PWM(machine.Pin(5))  \n",
    "p.duty(1023)\n",
    "time.sleep(0.5)\n",
    "\n",
    "sta_if = network.WLAN(network.STA_IF)\n",
    "sta_if.active(True)\n",
    "\n",
    "p.duty(0)\n",
    "sta_if.connect(wifiname, wifipassword)\n",
    "while not sta_if.isconnected():\n",
    "    time.sleep(0.1)\n",
    "p.duty(1023)\n",
    "\n",
    "print(\"connected to wifi\")\n",
    "from umqtt.robust import MQTTClient\n",
    "client = MQTTClient(\"coffeedial\", mqttbroker, 1883)\n",
    "for i in range(100):\n",
    "    try:\n",
    "        client.connect()\n",
    "        break\n",
    "    except OSError as e:\n",
    "        print(e)\n",
    "    p.duty(1023*(i%2))\n",
    "\n",
    "print(\"connected to mqtt\")\n",
    "\n",
    "def sub_cb(topic, msg):\n",
    "    print((topic, msg))\n",
    "    try:\n",
    "        v = float(msg)\n",
    "    except ValueError:\n",
    "        print(\"ignore\")\n",
    "        return\n",
    "    v = min(100, max(0, v))\n",
    "    p.duty(int(v/100*1023))\n",
    "\n",
    "client.set_callback(sub_cb)\n",
    "client.subscribe(b\"coffeedial/level\")\n",
    "p.duty(500)\n",
    "\n",
    "while True:\n",
    "    client.wait_msg()\n"
   ]
  },
  {
   "cell_type": "code",
   "execution_count": 8,
   "metadata": {},
   "outputs": [
    {
     "name": "stdout",
     "output_type": "stream",
     "text": [
      "\u001b[34mattempt to exit paste mode\n",
      "\u001b[0m\u001b[34m[\\r\\x03\\x02] \u001b[0mb'\\r\\nMicroPython v1.9.4-8-ga9a3caad0 on 2018-05-11; ESP module with ESP8266\\r\\nType \"help()\" for more information.\\r\\n>>> '\u001b[34m\n",
      "Closing serial Serial<id=0x7f5388052358, open=True>(port='/dev/ttyUSB0', baudrate=115200, bytesize=8, parity='N', stopbits=1, timeout=0.5, xonxoff=False, rtscts=False, dsrdtr=False)\n",
      "\u001b[0m"
     ]
    }
   ],
   "source": [
    "%disconnect"
   ]
  },
  {
   "cell_type": "code",
   "execution_count": 6,
   "metadata": {},
   "outputs": [
    {
     "name": "stdout",
     "output_type": "stream",
     "text": [
      "PWM(5, freq=500, duty=1023)\n"
     ]
    }
   ],
   "source": [
    "print(p)"
   ]
  },
  {
   "cell_type": "code",
   "execution_count": 158,
   "metadata": {},
   "outputs": [],
   "source": [
    "\n",
    "import machine\n",
    "p = machine.PWM(machine.Pin(5))\n",
    "# nodemcu D1 = pin5, D2 = pin4\n"
   ]
  },
  {
   "cell_type": "code",
   "execution_count": 184,
   "metadata": {},
   "outputs": [
    {
     "name": "stdout",
     "output_type": "stream",
     "text": [
      "."
     ]
    }
   ],
   "source": [
    "# this makes a very rapid move to the spot\n",
    "# without the wobbling\n",
    "# (could be implemented, and then use schedule to do the callback)\n",
    "import time\n",
    "\n",
    "p.duty(0)\n",
    "time.sleep(1)\n",
    "\n",
    "p.duty(1023)\n",
    "time.sleep(0.09)\n",
    "p.duty(0)\n",
    "time.sleep(0.1)\n",
    "p.duty(500)\n",
    "\n",
    "\n"
   ]
  },
  {
   "cell_type": "code",
   "execution_count": null,
   "metadata": {},
   "outputs": [],
   "source": []
  },
  {
   "cell_type": "code",
   "execution_count": null,
   "metadata": {},
   "outputs": [],
   "source": []
  },
  {
   "cell_type": "code",
   "execution_count": 235,
   "metadata": {},
   "outputs": [
    {
     "name": "stdout",
     "output_type": "stream",
     "text": [
      "\u001b[34mConnecting to --port=/dev/ttyUSB4 --baud=115200 \u001b[0m\n",
      "\u001b[34mReady.\n",
      "\u001b[0m"
     ]
    }
   ],
   "source": [
    "%serialconnect"
   ]
  },
  {
   "cell_type": "code",
   "execution_count": 236,
   "metadata": {},
   "outputs": [],
   "source": [
    "import machine\n",
    "a = machine.ADC(0)\n",
    "p = machine.Pin(5, machine.Pin.OUT)\n"
   ]
  },
  {
   "cell_type": "code",
   "execution_count": 247,
   "metadata": {},
   "outputs": [
    {
     "name": "stdout",
     "output_type": "stream",
     "text": [
      "212\n",
      "9\n"
     ]
    }
   ],
   "source": [
    "import time\n",
    "p.value(1)\n",
    "time.sleep_ms(50)\n",
    "print(a.read())\n",
    "p.value(0)\n",
    "time.sleep_ms(50)\n",
    "print(a.read())\n"
   ]
  },
  {
   "cell_type": "code",
   "execution_count": 234,
   "metadata": {},
   "outputs": [
    {
     "name": "stdout",
     "output_type": "stream",
     "text": [
      "\u001b[31m\n",
      "\n",
      "***Connection broken [Input/output error]\n",
      "\u001b[0mYou may need to reconnect\u001b[34m\n",
      "Closing serial Serial<id=0x7fa00504b588, open=True>(port='/dev/ttyUSB3', baudrate=115200, bytesize=8, parity='N', stopbits=1, timeout=0.5, xonxoff=False, rtscts=False, dsrdtr=False)\n",
      "\u001b[0m\u001b[31mNo serial connected\n",
      "\u001b[0m  %serialconnect to connect\n",
      "  %esptool to flash the device\n",
      "  %lsmagic to list commands"
     ]
    }
   ],
   "source": [
    "p.value(0)\n",
    "time.sleep_ms(50)\n",
    "print(a.read())\n"
   ]
  },
  {
   "cell_type": "code",
   "execution_count": null,
   "metadata": {},
   "outputs": [],
   "source": []
  }
 ],
 "metadata": {
  "kernelspec": {
   "display_name": "MicroPython - USB",
   "language": "micropython",
   "name": "micropython"
  },
  "language_info": {
   "codemirror_mode": "python",
   "file_extension": ".py",
   "mimetype": "text/python",
   "name": "micropython"
  }
 },
 "nbformat": 4,
 "nbformat_minor": 2
}

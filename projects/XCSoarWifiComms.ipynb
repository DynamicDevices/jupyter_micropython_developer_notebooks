{
 "cells": [
  {
   "cell_type": "code",
   "execution_count": 1,
   "metadata": {},
   "outputs": [
    {
     "name": "stdout",
     "output_type": "stream",
     "text": [
      "\u001b[34mConnecting to Serial /dev/ttyUSB0 baud=115200 \u001b[0m\n",
      "\u001b[34mReady.\n",
      "\u001b[0m"
     ]
    }
   ],
   "source": [
    "%serialconnect"
   ]
  },
  {
   "cell_type": "code",
   "execution_count": 3,
   "metadata": {},
   "outputs": [
    {
     "name": "stdout",
     "output_type": "stream",
     "text": [
      "> auth (b0)\n",
      "> assoc (0)\n",
      "> run (10)\n",
      "192.168.43.1\n"
     ]
    }
   ],
   "source": [
    "# Put the phone on hotspot mode and connect to it\n",
    "import network, usocket\n",
    "\n",
    "si = network.WLAN(network.STA_IF)\n",
    "macaddress = \"\".join(\"{:02x}\".format(x)  for x in si.config(\"mac\"))\n",
    "si.active(True)\n",
    "si.connect(b'BV6000', \"beckaaaa\")\n",
    "while not si.isconnected():\n",
    "    pass\n",
    "bvip = si.ifconfig()[2]\n",
    "print(bvip)"
   ]
  },
  {
   "cell_type": "code",
   "execution_count": 25,
   "metadata": {
    "collapsed": true
   },
   "outputs": [],
   "source": [
    "# Turn XCSoar on and set device to Port(Port: TCP Port, TCP Port: 2000, Driver: BlueFly Vario) \n",
    "s = usocket.socket(usocket.AF_INET, usocket.SOCK_STREAM)\n",
    "s.connect(usocket.getaddrinfo(bvip, 2000)[0][-1])"
   ]
  },
  {
   "cell_type": "code",
   "execution_count": 2,
   "metadata": {},
   "outputs": [
    {
     "name": "stderr",
     "output_type": "stream",
     "text": [
      "Traceback (most recent call last):\n",
      "  File \"<stdin>\", line 2, in <module>\n",
      "NameError: name 's' is not defined\n"
     ]
    }
   ],
   "source": [
    "# This should appear in the monitor page\n",
    "s.send(\"hi there\\r\\n\")"
   ]
  },
  {
   "cell_type": "code",
   "execution_count": 6,
   "metadata": {
    "collapsed": true
   },
   "outputs": [],
   "source": [
    "# XCSoar responds to GPRMC words for GPS fixing\n",
    "import time, math\n",
    "baseepoch = time.mktime((2018,1,1,12,0,0,0,0)) # midday of new year\n",
    "\n",
    "lat0 = 53.41\n",
    "lng0 = -1.5\n",
    "earthrad = 6378137\n",
    "latfac = 360/(2*math.pi*earthrad)\n",
    "lngfac = latfac/math.cos(math.radians(lat0))\n",
    "\n",
    "def getrmc(dt, dx, dy):\n",
    "    ts = time.localtime(baseepoch+int(dt))\n",
    "    lat, lng = lat0+dy*latfac, lng0 + dx*lngfac\n",
    "    gt = \"%02d%02d%02.3f\" % (ts[3], ts[4], ts[5]+(dt%1))\n",
    "    gpos = \"%02d%02.4f,N,%03d%02.4f,%s\" % (lat, (lat*60)%60, abs(lng), (abs(lng)*60)%60, \"W\" if lng<0 else \"E\")\n",
    "    gv = \"%03.1f,%03.2f\" % (0.24, 233.51) # speed knots, course (disregarded)\n",
    "    gd = \"%02d%02d%02d\" % (ts[2], ts[1], ts[0]%100)\n",
    "    g = \"GPRMC,%s,A,%s,%s,%s,,,A\"%(gt, gpos, gv, gd)\n",
    "    cs = 0\n",
    "    for c in g:\n",
    "        cs ^= ord(c)\n",
    "    g = \"$%s*%02X\\r\\n\" % (g, cs)\n",
    "    return g\n",
    "\n",
    "def getprs(alt):\n",
    "    # p = 101325 * (1 - 2.25577e-5*h)**5.25588\n",
    "    p = 101300 - 11.45043*alt\n",
    "    return \"PRS %X\\r\\n\"%int(p)\n"
   ]
  },
  {
   "cell_type": "code",
   "execution_count": 22,
   "metadata": {},
   "outputs": [
    {
     "name": "stdout",
     "output_type": "stream",
     "text": [
      "7.536\r\n"
     ]
    }
   ],
   "source": [
    "print(60*2*3.14/speed)\n"
   ]
  },
  {
   "cell_type": "code",
   "execution_count": 29,
   "metadata": {},
   "outputs": [
    {
     "name": "stdout",
     "output_type": "stream",
     "text": [
      "..........done\n"
     ]
    }
   ],
   "source": [
    "# put out a turning case\n",
    "rad = 60\n",
    "speed = 20\n",
    "tstep = 0.5\n",
    "climb = 2\n",
    "vx = 3\n",
    "h = 1\n",
    "for i in range(h*100, (h+1)*100):\n",
    "    dt = i*tstep\n",
    "    ang = math.radians(dt*speed/(math.pi*2*rad)*360)\n",
    "    s.send(getrmc(dt, vx*dt + math.cos(ang)*rad, math.sin(ang)*rad))\n",
    "    s.send(getprs(500+dt*climb))\n",
    "    time.sleep(tstep)\n",
    "print(\"done\")"
   ]
  },
  {
   "cell_type": "code",
   "execution_count": 95,
   "metadata": {},
   "outputs": [
    {
     "name": "stdout",
     "output_type": "stream",
     "text": [
      "1000 89874.57\r\n"
     ]
    }
   ],
   "source": [
    "h = 1000\n",
    "p = 1013-- * (1 - 2.25577e-5*h)**5.25588 \n",
    "print(h, p)"
   ]
  },
  {
   "cell_type": "code",
   "execution_count": 94,
   "metadata": {},
   "outputs": [
    {
     "name": "stdout",
     "output_type": "stream",
     "text": [
      "0.5245319\r\n"
     ]
    }
   ],
   "source": [
    "print((101325-89874.57)/(101325-79495.19))"
   ]
  },
  {
   "cell_type": "code",
   "execution_count": 99,
   "metadata": {},
   "outputs": [
    {
     "name": "stderr",
     "output_type": "stream",
     "text": [
      "Traceback (most recent call last):\n",
      "  File \"<stdin>\", line 1, in <module>\n",
      "TypeError: can't convert float to int\n"
     ]
    }
   ],
   "source": [
    "print(\"%X\"%10000.9)"
   ]
  },
  {
   "cell_type": "code",
   "execution_count": null,
   "metadata": {
    "collapsed": true
   },
   "outputs": [],
   "source": []
  },
  {
   "cell_type": "code",
   "execution_count": null,
   "metadata": {
    "collapsed": true
   },
   "outputs": [],
   "source": []
  },
  {
   "cell_type": "code",
   "execution_count": null,
   "metadata": {
    "collapsed": true
   },
   "outputs": [],
   "source": []
  },
  {
   "cell_type": "code",
   "execution_count": 164,
   "metadata": {},
   "outputs": [
    {
     "name": "stdout",
     "output_type": "stream",
     "text": [
      "b'6,223.05,060318,,,A*79\\r\\n$GPVTG,223.05,T,,M,0.16,N,0.30,K,A*3,1.23,0.90,0.84*05\\r\\n$GPRMC,124708.000,A,5324.2196,N,00259.0736,,49.5,M,,*7C\\r\\n$GPGSA,A,3,15,24,20,12,28,10,13,19,,,,,1.23,0.K,A*3F\\r\\n$GPGGA,124709.000,5324.2195,N,00259.0736,W,1,08,0.909,222.93,060318,,,A*7A\\r\\n$GPVTG,222.93,T,,M,0.19,N,0.34,K,A*3,1.23,0.90,0.84*05\\r\\n$GPRMC,124709.000,A,5324.2195,N,00259.079,W,0.15,238.06,060318,,A*71\\r\\n$GPVTG,238.06,T'\n",
      "b'3,19,17,,,,1.20,K,A*3C\\r\\n$GPGGA,124736.000,5324.2195,N,00259.0740,W,1,09,0.85,117.5,M,49.5,M,,*77\\r\\n$GPGSA,A,3,15,24,20,12'\n",
      "b',0.17,N,0.31,K,A,,,1.20,0.85,0.84*04\\r\\n$GPRMC,124736.000,A,5324.2195,N,00259.0740,W,0.17,263.17,060318,,,A*70\\r\\n$GPVTG,263'\n",
      "b'.17,T'\n",
      "b'3,19,17,,,,1.20,K,A*38\\r\\n$GPGGA,124737.000,5324.2195,N,00259.0740,W,1,09,0.85,117.5,M,49.5,M,,*76\\r\\n$GPGSA,A,3,15,24,20,12'\n",
      "b'313,40,28,23,047,,,1.20,0.85,0.84*04\\r\\n$GPGSV,3,1,11,15,66,179,16,24,59,267,44,13,41,135,18,17,27,093,25*79\\r\\n$GPGSV,3,2,1'\n",
      "b'5324.2195,N,00258,23,047,30,20,19,216,23,19,19,116,19*70\\r\\n$GPGSV,3,3,11,12,19,204,14,11,04,025,13,36,,,*75\\r\\n$GPRMC,12473'\n",
      "b'7.000,A,5324.2195,N,00259.0740,W,0.19,254.78,060318,,,A*72\\r\\n$GPVTG,254.78,T'\n",
      "b'3,19,17,,,,1.20,K,A*3C\\r\\n$GPGGA,124738.000,5324.2195,N,00259.0741,W,1,09,0.85,117.5,M,49.5,M,,*78\\r\\n$GPGSA,A,3,15,24,20,12'\n",
      "b',0.29,N,0.54,K,A,,,1.20,0.85,0.84*04\\r\\n$GPRMC,124738.000,A,5324.2195,N,00259.0741,W,0.29,257.59,060318,,,A*7F\\r\\n$GPVTG,257'\n",
      "b'.59,T'\n",
      "b'3,19,17,,,,1.20,K,A*3B\\r\\n$GPGGA,124739.000,5324.2195,N,00259.0743,W,1,09,0.85,117.5,M,49.5,M,,*7B\\r\\n$GPGSA,A,3,15,24,20,12'\n",
      "b',0.24,N,0.45,K,A,,,1.20,0.85,0.84*04\\r\\n$GPRMC,124739.000,A,5324.2195,N,00259.0743,W,0.24,233.51,060318,,,A*7B\\r\\n$GPVTG,233'\n",
      "b'.51,T'\n",
      "b'3,19,17,,,,1.20,K,A*3C\\r\\n$GPGGA,124740.000,5324.2194,N,00259.0744,W,1,09,0.85,117.5,M,49.5,M,,*73\\r\\n$GPGSA,A,3,15,24,20,12'\n",
      "b',0.31,N,0.57,K,A,,,1.20,0.85,0.84*04\\r\\n$GPRMC,124740.000,A,5324.2194,N,00259.0744,W,0.31,221.65,060318,,,A*73\\r\\n$GPVTG,221'\n",
      "b'.65,T'\n",
      "b'3,19,17,,,,1.20,K,A*3F\\r\\n$GPGGA,124741.000,5324.2194,N,00259.0744,W,1,09,0.85,117.5,M,49.5,M,,*72\\r\\n$GPGSA,A,3,15,24,20,12'\n",
      "\n",
      "\n",
      "*** Sending Ctrl-C\n",
      "\n"
     ]
    },
    {
     "name": "stderr",
     "output_type": "stream",
     "text": [
      "Traceback (most recent call last):\n",
      "  File \"<stdin>\", line 2, in <module>\n",
      "KeyboardInterrupt: \n"
     ]
    }
   ],
   "source": [
    "while True:\n",
    "    if u.any():\n",
    "        k = u.read()\n",
    "        s.send(k)\n",
    "        print(k)"
   ]
  },
  {
   "cell_type": "code",
   "execution_count": 20,
   "metadata": {},
   "outputs": [
    {
     "name": "stdout",
     "output_type": "stream",
     "text": [
      ".."
     ]
    }
   ],
   "source": [
    "import time\n",
    "g = \"$GPGGA,124739.000,5324.2195,N,00259.0743,W,1,09,0.85,117.5,M,49.5,M,,*7B\\r\\n\"\n",
    "f = \"$GPRMC,124739.000,A,5324.2195,N,00259.0743,W,0.24,233.51,060318,,,A*7B\\r\\n\"\n",
    "for i in range(20):\n",
    "    #s.send(g)\n",
    "    s.send(f)\n",
    "    time.sleep(0.5)"
   ]
  },
  {
   "cell_type": "code",
   "execution_count": 52,
   "metadata": {},
   "outputs": [
    {
     "name": "stdout",
     "output_type": "stream",
     "text": [
      "0x4a\r\n"
     ]
    }
   ],
   "source": [
    "g = \"$GPGGA,064306.590,5323.7234,N,00258.3325,W,  2, 10, 1.00,38.3,M,49.4,M,0000,0000*4A\"\n",
    "s = 0\n",
    "for c in g[1:-3]:\n",
    "    s ^= ord(c)\n",
    "print(hex(s))"
   ]
  },
  {
   "cell_type": "code",
   "execution_count": 82,
   "metadata": {
    "collapsed": true
   },
   "outputs": [],
   "source": [
    "def getg(dt):\n",
    "    t = 3701.9 + dt\n",
    "    x, y = 53.41, 2.9+dt*0.001\n",
    "    alt = 200+dt*0.1\n",
    "    timestamp = \"%02d%02d%02.3f\" % (t/3600, (t/60)%60, t%60)\n",
    "    pos = \"%02d%02.4f,N,%03d%02.4f,W\" % (x, (x*60)%60, y, (y*60)%60)\n",
    "    g = \"GPGGA,%s,%s,2,5,1.57,%.1f,M,49.4,M,,\"%(timestamp, pos, alt)\n",
    "    cs = 0\n",
    "    for c in g:\n",
    "        cs ^= ord(c)\n",
    "    g = \"$%s*%02X\\r\\n\" % (g, cs)\n",
    "    return g"
   ]
  },
  {
   "cell_type": "code",
   "execution_count": 76,
   "metadata": {},
   "outputs": [
    {
     "name": "stdout",
     "output_type": "stream",
     "text": [
      "$GPGGA,010151.900,5324.6001,N,00254.6000,W,2,10,1.00,200.9,M,49.4,M,0000,0000*70\n",
      "\n",
      "$GPGGA,010152.900,5324.6001,N,00254.6600,W,2,10,1.00,201.0,M,49.4,M,0000,0000*7D\n",
      "\n"
     ]
    }
   ],
   "source": [
    "print(getg(10))\n",
    "print(getg(11))\n",
    "#$GPGGA,081158.400,4837.7021,N,00806.2928,E,2,5,1.57,113.9,M,47.9,M,,*5B\n"
   ]
  },
  {
   "cell_type": "code",
   "execution_count": 83,
   "metadata": {},
   "outputs": [
    {
     "name": "stdout",
     "output_type": "stream",
     "text": [
      "...................."
     ]
    }
   ],
   "source": [
    "import time\n",
    "for i in range(100):\n",
    "    s.send(getg(i))\n",
    "    time.sleep(1)\n",
    "    "
   ]
  },
  {
   "cell_type": "code",
   "execution_count": 102,
   "metadata": {
    "collapsed": true
   },
   "outputs": [],
   "source": [
    "g = \"$GPGGA,081158.400,4837.7021,N,00806.2928,E,2,5,1.57,113.9,M,47.9,M,,*5B\\n\"\n",
    "s.send(g)"
   ]
  },
  {
   "cell_type": "code",
   "execution_count": 125,
   "metadata": {},
   "outputs": [
    {
     "name": "stdout",
     "output_type": "stream",
     "text": [
      "b'T'\r\n"
     ]
    }
   ],
   "source": [
    "h = s.read(1)\n",
    "print(h)\n"
   ]
  },
  {
   "cell_type": "code",
   "execution_count": null,
   "metadata": {
    "collapsed": true
   },
   "outputs": [],
   "source": []
  }
 ],
 "metadata": {
  "kernelspec": {
   "display_name": "MicroPython - USB",
   "language": "micropython",
   "name": "micropython"
  },
  "language_info": {
   "codemirror_mode": "python",
   "file_extension": ".py",
   "mimetype": "text/python",
   "name": "micropython"
  }
 },
 "nbformat": 4,
 "nbformat_minor": 2
}

{
 "cells": [
  {
   "cell_type": "code",
   "execution_count": 18,
   "metadata": {},
   "outputs": [
    {
     "name": "stdout",
     "output_type": "stream",
     "text": [
      "\u001b[34mConnecting to --port=/dev/ttyUSB1 --baud=115200 \u001b[0m\n",
      "\u001b[34mReady.\n",
      "\u001b[0m"
     ]
    }
   ],
   "source": [
    "%serialconnect"
   ]
  },
  {
   "cell_type": "code",
   "execution_count": 2,
   "metadata": {},
   "outputs": [
    {
     "name": "stdout",
     "output_type": "stream",
     "text": [
      "Sent 6 lines (128 bytes) to config.txt.\n"
     ]
    }
   ],
   "source": [
    "%sendtofile config.txt\n",
    "\n",
    "wifiname     DoESLiverpool\n",
    "wifipassword decafbad00\n",
    "mqttbroker   10.0.30.130\n",
    "pinled       2\n",
    "pindetector  13\n",
    "boardname    esp8266C"
   ]
  },
  {
   "cell_type": "code",
   "execution_count": 19,
   "metadata": {},
   "outputs": [
    {
     "name": "stdout",
     "output_type": "stream",
     "text": [
      "Sent 61 lines (1618 bytes) to main.py.\n"
     ]
    }
   ],
   "source": [
    "%sendtofile main.py\n",
    "\n",
    "import time, network, machine, ubinascii\n",
    "\n",
    "fconfig = dict(x.split()  for x in open(\"config.txt\"))\n",
    "pled = machine.Pin(int(fconfig[\"pinled\"]), machine.Pin.OUT)\n",
    "pdetector = machine.Pin(int(fconfig[\"pindetector\"]), machine.Pin.IN)\n",
    "\n",
    "si = network.WLAN()\n",
    "si.active(True)\n",
    "si.connect(fconfig[\"wifiname\"], fconfig[\"wifipassword\"])\n",
    "while not si.isconnected():\n",
    "    time.sleep_ms(500)\n",
    "ipnumber = si.ifconfig()[0]\n",
    "macaddress = ubinascii.hexlify(si.config('mac'),':').decode().upper()\n",
    "print(ipnumber)\n",
    "for i in range(10):\n",
    "    pled.value(i%2)\n",
    "    time.sleep_ms(100)\n",
    "\n",
    "from umqtt.robust import MQTTClient\n",
    "client = MQTTClient(fconfig[\"boardname\"], fconfig[\"mqttbroker\"])\n",
    "while True:\n",
    "    try:\n",
    "        client.connect()\n",
    "        break\n",
    "    except OSError:\n",
    "        time.sleep_ms(1000)\n",
    "for i in range(10):\n",
    "    pled.value(i%2)\n",
    "    time.sleep_ms(50)\n",
    "\n",
    "topicname = fconfig[\"boardname\"]+\"/ticks\"\n",
    "topicip = fconfig[\"boardname\"]+\"/ip\"\n",
    "topicmac = fconfig[\"boardname\"]+\"/mac\"\n",
    "\n",
    "n = 0\n",
    "t0 = 0\n",
    "tmacnext0 = 0\n",
    "while True:\n",
    "    while pdetector.value():       pass\n",
    "    td = time.ticks_ms()\n",
    "    while pdetector.value() == 0:  pass\n",
    "    t = time.ticks_ms()\n",
    "    x = (t - td)  # originally machine.time_pulse_us(pdetector, 0, 10000000)//1000\n",
    "    dt = t - t0\n",
    "    print(topicname, dt, x, n)\n",
    "    if not (20 < x < 35):\n",
    "        continue\n",
    "    if dt < 15:\n",
    "        continue\n",
    "    try:\n",
    "        client.publish(topicname, \"%d %d %d\" % (dt, x, n))\n",
    "        if t > tmacnext0:\n",
    "            client.publish(topicip, ipnumber)\n",
    "            client.publish(topicmac, macaddress)\n",
    "            tmacnext0 = t + 60000\n",
    "    except Exception as e:\n",
    "        print(e)\n",
    "    t0 = t\n",
    "    n += 1\n",
    "    pled.value(n%2) \n"
   ]
  },
  {
   "cell_type": "code",
   "execution_count": 16,
   "metadata": {},
   "outputs": [],
   "source": [
    "client = MQTTClient(fconfig[\"boardname\"], \"mqtt.local\")\n",
    "\n"
   ]
  },
  {
   "cell_type": "code",
   "execution_count": 17,
   "metadata": {},
   "outputs": [
    {
     "name": "stderr",
     "output_type": "stream",
     "text": [
      "Traceback (most recent call last):\n",
      "  File \"<stdin>\", line 1, in <module>\n",
      "  File \"umqtt/simple.py\", line 57, in connect\n",
      "OSError: -2\n"
     ]
    }
   ],
   "source": [
    "print(client.connect())"
   ]
  },
  {
   "cell_type": "code",
   "execution_count": 11,
   "metadata": {},
   "outputs": [],
   "source": [
    "client.publish(topicmac, macaddress)\n"
   ]
  },
  {
   "cell_type": "code",
   "execution_count": null,
   "metadata": {},
   "outputs": [],
   "source": [
    "# esp32 test flashing light signal\n",
    "%sendtofile main.py\n",
    "import machine, time\n",
    "pled = machine.Pin(2, machine.Pin.OUT)\n",
    "pwm = machine.PWM(pled, freq=1, duty=25)\n",
    "print(pwm)\n"
   ]
  }
 ],
 "metadata": {
  "kernelspec": {
   "display_name": "MicroPython - USB",
   "language": "micropython",
   "name": "micropython"
  },
  "language_info": {
   "codemirror_mode": "python",
   "file_extension": ".py",
   "mimetype": "text/python",
   "name": "micropython"
  }
 },
 "nbformat": 4,
 "nbformat_minor": 2
}

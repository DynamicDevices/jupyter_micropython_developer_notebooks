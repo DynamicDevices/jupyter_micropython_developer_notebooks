{
 "cells": [
  {
   "cell_type": "markdown",
   "metadata": {},
   "source": [
    "This is the for connecting to a pressure sensor \n",
    "at the bottom of a lake and logging it to its own \n",
    "memory.\n",
    "\n",
    "For now it will do it to MQTT"
   ]
  },
  {
   "cell_type": "code",
   "execution_count": 124,
   "metadata": {},
   "outputs": [
    {
     "name": "stdout",
     "output_type": "stream",
     "text": [
      "\u001b[34mConnecting to --port=/dev/ttyUSB7 --baud=115200 \u001b[0m\n",
      "\u001b[34mReady.\n",
      "\u001b[0m"
     ]
    }
   ],
   "source": [
    "%serialconnect"
   ]
  },
  {
   "cell_type": "code",
   "execution_count": 125,
   "metadata": {},
   "outputs": [
    {
     "name": "stdout",
     "output_type": "stream",
     "text": [
      "Sent 80 lines (1938 bytes) to main.py.\n"
     ]
    }
   ],
   "source": [
    "%sendtofile main.py\n",
    "\n",
    "import machine, time, network, os\n",
    "\n",
    "sleepperiod = const(1)\n",
    "mqtt_local = \"10.0.29.167\"\n",
    "\n",
    "\n",
    "#\n",
    "# Get the RTC working\n",
    "#\n",
    "i2c = machine.I2C(scl=machine.Pin(4), sda=machine.Pin(5)) \n",
    "epoch1970 = const(946684800000)   # esp8266 has 2000 epoch\n",
    "def rhex(h):  return (h>>4)*10 + (h&0x0f)\n",
    "def rtctojsepoch():\n",
    "    r = i2c.readfrom_mem(0x68, 0x00, 7)\n",
    "    year, month, day = rhex(r[6])+2000, rhex(r[5]), rhex(r[4])\n",
    "    hour, minute, second = rhex(r[2]), rhex(r[1]), rhex(r[0])\n",
    "    microsecond = 0\n",
    "    micropythonepoch = time.mktime((year, month, day, hour, minute, second, -1, -1))\n",
    "    return micropythonepoch*1000 + microsecond + epoch1970   # esp8266 has 2000 \n",
    "\n",
    "def jsepochtoisodate(jsepoch):\n",
    "    micropythonepoch = (jsepoch - epoch1970)//1000\n",
    "    microsecond = jsepoch % 1000\n",
    "    year, month, day, hour, minute, second, d1, d2 = time.localtime(micropythonepoch)\n",
    "    return \"{0:04d}-{1:02d}-{2:02d}T{3:02d}:{4:02d}:{5:02d}.{6:03d}\".format(year, month, day, hour, minute, second, microsecond)\n",
    "\n",
    "#\n",
    "# make name of datafile\n",
    "#\n",
    "for i in range(100):\n",
    "    fname = \"data%03d.txt\" % i\n",
    "    try:     os.stat(fname)\n",
    "    except OSError:  break\n",
    "print(fname)\n",
    "\n",
    "#\n",
    "# connect MQTT\n",
    "#\n",
    "sta_if = network.WLAN(network.STA_IF)\n",
    "sta_if.active(True)\n",
    "sta_if.connect(\"DoESLiverpool\", \"decafbad00\")\n",
    "while not sta_if.isconnected():\n",
    "    pass\n",
    "\n",
    "print(\"connected to wifi\")\n",
    "from umqtt.robust import MQTTClient\n",
    "client = MQTTClient(\"lakelogger\", mqtt_local)\n",
    "client.connect()\n",
    "print(\"connected to mqtt\")\n",
    "\n",
    "\n",
    "#\n",
    "# Connect to ADC\n",
    "#\n",
    "adc = machine.ADC(0)\n",
    "\n",
    "\n",
    "#\n",
    "# Main working loop\n",
    "#\n",
    "n = 0\n",
    "fout = None\n",
    "while True:\n",
    "    n += 1\n",
    "    aval = adc.read()\n",
    "    if fout is None:\n",
    "        fout = open(fname, \"aw\")\n",
    "    client.publish(b\"lakelogger/level\", str(aval))\n",
    "    try:\n",
    "        ts = jsepochtoisodate(rtctojsepoch())\n",
    "    except OSError as e:\n",
    "        ts = \"unknown\"\n",
    "    fout.write(\"%s %d\\n\" % (ts, aval))\n",
    "    if (n%10) == 0:\n",
    "        fout.flush()\n",
    "        fout.close()\n",
    "        fout = None\n",
    "\n",
    "    time.sleep(sleepperiod)\n",
    "    "
   ]
  },
  {
   "cell_type": "code",
   "execution_count": 106,
   "metadata": {},
   "outputs": [
    {
     "name": "stdout",
     "output_type": "stream",
     "text": [
      "serial exception on close write failed: [Errno 5] Input/output error\n",
      "\u001b[34mConnecting to --port=/dev/ttyUSB7 --baud=115200 \u001b[0m\n",
      "\u001b[34mReady.\n",
      "\u001b[0m"
     ]
    }
   ],
   "source": []
  },
  {
   "cell_type": "code",
   "execution_count": 127,
   "metadata": {
    "scrolled": true
   },
   "outputs": [
    {
     "name": "stdout",
     "output_type": "stream",
     "text": [
      "\u001b[34mConnecting to --port=/dev/ttyUSB7 --baud=115200 \u001b[0m\n",
      "\u001b[34mReady.\n",
      "\u001b[0mdata000.txt 0\n"
     ]
    }
   ],
   "source": [
    "# Check what files we have\n",
    "%serialconnect\n",
    "import os\n",
    "for f in os.ilistdir():\n",
    "    if f[0][0] == \"d\":\n",
    "        print(f[0], f[3])\n"
   ]
  },
  {
   "cell_type": "code",
   "execution_count": 126,
   "metadata": {},
   "outputs": [
    {
     "name": "stdout",
     "output_type": "stream",
     "text": [
      "\u001b[34mattempt to exit paste mode\n",
      "\u001b[0m\u001b[34m[\\r\\x03\\x02] \u001b[0mb'\\r\\nMicroPython v1.9.4-8-ga9a3caad0 on 2018-05-11; ESP module with ESP8266\\r\\nType \"help()\" for more information.\\r\\n>>> '\u001b[34m\n",
      "Closing serial Serial<id=0x7f72a1c13390, open=True>(port='/dev/ttyUSB7', baudrate=115200, bytesize=8, parity='N', stopbits=1, timeout=0.5, xonxoff=False, rtscts=False, dsrdtr=False)\n",
      "\u001b[0m"
     ]
    }
   ],
   "source": [
    "%disconnect"
   ]
  },
  {
   "cell_type": "code",
   "execution_count": 103,
   "metadata": {},
   "outputs": [
    {
     "name": "stdout",
     "output_type": "stream",
     "text": [
      "Fetched 22680=22680 bytes from data000.txt.\n",
      "Saving file to 'data000.txt'"
     ]
    }
   ],
   "source": [
    "%fetchfile --binary data000.txt"
   ]
  },
  {
   "cell_type": "code",
   "execution_count": 238,
   "metadata": {},
   "outputs": [
    {
     "name": "stdout",
     "output_type": "stream",
     "text": [
      "\u001b[34mConnecting to --port=/dev/ttyUSB6 --baud=115200 \u001b[0m\n",
      "\u001b[34mReady.\n",
      "\u001b[0m"
     ]
    }
   ],
   "source": [
    "%serialconnect"
   ]
  },
  {
   "cell_type": "code",
   "execution_count": 211,
   "metadata": {},
   "outputs": [
    {
     "name": "stdout",
     "output_type": "stream",
     "text": [
      "80000000\r\n"
     ]
    }
   ],
   "source": [
    "import machine\n",
    "print(machine.freq())"
   ]
  },
  {
   "cell_type": "code",
   "execution_count": 140,
   "metadata": {},
   "outputs": [],
   "source": []
  },
  {
   "cell_type": "code",
   "execution_count": 239,
   "metadata": {},
   "outputs": [
    {
     "name": "stdout",
     "output_type": "stream",
     "text": [
      "Sent 23 lines (523 bytes) to main.py.\n"
     ]
    }
   ],
   "source": [
    "%sendtofile main.py\n",
    "\n",
    "#\n",
    "# Demo of deep sleep cycle (pin16 to RST on ESP8266)\n",
    "#\n",
    "import machine\n",
    "st = str(machine.RTC().datetime())\n",
    "f = open(\"log.txt\", \"a\")\n",
    "f.write(st)\n",
    "print(st)\n",
    "if machine.reset_cause() == machine.DEEPSLEEP_RESET:\n",
    "    f.write('  woke from a deep sleep\\n')\n",
    "else:\n",
    "    f.write('  power on or hard reset\\n')\n",
    "f.close()\n",
    "\n",
    "import time\n",
    "p = machine.Pin(4, machine.Pin.OUT)\n",
    "for i in range(20):\n",
    "    p.value(i%2)\n",
    "    time.sleep(0.2)\n",
    "p.init(machine.Pin.IN)\n",
    "\n",
    "# configure RTC.ALARM0 to be able to wake the device\n",
    "machine.deepsleep(sleep_ms=5000)\n"
   ]
  },
  {
   "cell_type": "code",
   "execution_count": 233,
   "metadata": {},
   "outputs": [
    {
     "name": "stdout",
     "output_type": "stream",
     "text": [
      "\u001b[34mConnecting to --port=/dev/ttyUSB6 --baud=115200 \u001b[0m\n",
      "\u001b[34mReady.\n",
      "\u001b[0m"
     ]
    }
   ],
   "source": [
    "%serialconnect"
   ]
  },
  {
   "cell_type": "code",
   "execution_count": 229,
   "metadata": {},
   "outputs": [
    {
     "name": "stdout",
     "output_type": "stream",
     "text": [
      "\u001b[34m\n",
      "\n",
      "*** Sending Ctrl-C\n",
      "\n",
      "\u001b[0m"
     ]
    },
    {
     "name": "stderr",
     "output_type": "stream",
     "text": [
      "Traceback (most recent call last):\n",
      "  File \"<stdin>\", line 8, in <module>\n",
      "KeyboardInterrupt: \n"
     ]
    }
   ],
   "source": [
    "#%sendtofile main.py\n",
    "\n",
    "import time, machine\n",
    "#p = machine.Pin(2, machine.Pin.OUT)\n",
    "p = machine.Pin(4, machine.Pin.OUT)\n",
    "for i in range(221):\n",
    "    p.value(i%2)\n",
    "    time.sleep(0.6)\n"
   ]
  },
  {
   "cell_type": "code",
   "execution_count": 230,
   "metadata": {},
   "outputs": [],
   "source": [
    "p.init(machine.Pin.IN)"
   ]
  },
  {
   "cell_type": "code",
   "execution_count": 177,
   "metadata": {},
   "outputs": [
    {
     "name": "stderr",
     "output_type": "stream",
     "text": [
      "Traceback (most recent call last):\n",
      "  File \"<stdin>\", line 1, in <module>\n",
      "OSError: [Errno 2] ENOENT\n"
     ]
    }
   ],
   "source": [
    "for l in open(\"log.txt\"):\n",
    "    print(l, end=\"\")"
   ]
  },
  {
   "cell_type": "code",
   "execution_count": 161,
   "metadata": {},
   "outputs": [
    {
     "name": "stdout",
     "output_type": "stream",
     "text": [
      "\u001b[34mattempt to exit paste mode\n",
      "\u001b[0m\u001b[34m[\\r\\x03\\x02] \u001b[0mb'\\r\\nMicroPython v1.9.4-8-ga9a3caad0 on 2018-05-11; ESP module with ESP8266\\r\\nType \"help()\" for more information.\\r\\n>>> '\u001b[34m\n",
      "Closing serial Serial<id=0x7f72a1c133c8, open=True>(port='/dev/ttyUSB7', baudrate=115200, bytesize=8, parity='N', stopbits=1, timeout=0.5, xonxoff=False, rtscts=False, dsrdtr=False)\n",
      "\u001b[0m"
     ]
    }
   ],
   "source": [
    "%disconnect"
   ]
  },
  {
   "cell_type": "code",
   "execution_count": null,
   "metadata": {},
   "outputs": [],
   "source": []
  },
  {
   "cell_type": "code",
   "execution_count": null,
   "metadata": {},
   "outputs": [],
   "source": []
  },
  {
   "cell_type": "code",
   "execution_count": null,
   "metadata": {},
   "outputs": [],
   "source": []
  },
  {
   "cell_type": "code",
   "execution_count": null,
   "metadata": {},
   "outputs": [],
   "source": [
    "#\n",
    "# Call this to set the time on the external RTC\n",
    "#\n",
    "import ure\n",
    "def dhex(v):  return chr(((v//10)<<4) + (v%10))\n",
    "def jsepochtortc(jsepoch):\n",
    "    micropythonepoch = (jsepoch - epoch1970)//1000\n",
    "    microsecond = jsepoch % 1000\n",
    "    year, month, day, hour, minute, second, d1, d2 = time.localtime(micropythonepoch)\n",
    "    i2c.writeto(0x68, chr(0) + dhex(second) + dhex(minute) + dhex(hour))\n",
    "    i2c.writeto(0x68, chr(4) + dhex(day) + dhex(month) + dhex(year-2000))\n",
    "def isodatetojsepoch(isodate):\n",
    "    mtime = ure.match(\"(\\d\\d\\d\\d)-(\\d\\d)-(\\d\\d)[T ](\\d\\d)[:c](\\d\\d)[:c](\\d\\d)[\\.d](\\d\\d\\d)\", isodate)\n",
    "    year, month, day, hour, minute, second, microsecond = int(mtime.group(1)), int(mtime.group(2)), int(mtime.group(3)), int(mtime.group(4)), int(mtime.group(5)), int(mtime.group(6)), int(mtime.group(7)) \n",
    "    micropythonepoch = time.mktime((year, month, day, hour, minute, second, -1, -1))\n",
    "    return micropythonepoch*1000 + microsecond + epoch1970\n",
    "#jsepochtortc(isodatetojsepoch(\"2018-11-16T13:00:00.000\"))\n"
   ]
  }
 ],
 "metadata": {
  "kernelspec": {
   "display_name": "MicroPython - USB",
   "language": "micropython",
   "name": "micropython"
  },
  "language_info": {
   "codemirror_mode": "python",
   "file_extension": ".py",
   "mimetype": "text/python",
   "name": "micropython"
  }
 },
 "nbformat": 4,
 "nbformat_minor": 2
}

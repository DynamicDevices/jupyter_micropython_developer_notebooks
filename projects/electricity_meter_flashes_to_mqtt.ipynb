{
 "cells": [
  {
   "cell_type": "code",
   "execution_count": 25,
   "metadata": {},
   "outputs": [
    {
     "name": "stdout",
     "output_type": "stream",
     "text": [
      "serial exception on close write failed: [Errno 5] Input/output error\n",
      "\u001b[34mConnecting to --port=/dev/ttyUSB7 --baud=115200 \u001b[0m\n",
      "\u001b[34mReady.\n",
      "\u001b[0m"
     ]
    }
   ],
   "source": [
    "%serialconnect"
   ]
  },
  {
   "cell_type": "code",
   "execution_count": 5,
   "metadata": {},
   "outputs": [
    {
     "name": "stdout",
     "output_type": "stream",
     "text": [
      "Sent 16 lines (240 bytes) to main.py.\n"
     ]
    }
   ],
   "source": [
    "%sendtofile main.py\n",
    "\n",
    "# Generate flashes on an ESP8266 to simulate the device\n",
    "import machine\n",
    "p = machine.Pin(2, machine.Pin.OUT)\n",
    "\n",
    "import math, time\n",
    "\n",
    "p.value(1)\n",
    "th = 0\n",
    "while True:\n",
    "    x = math.sin(th)\n",
    "    th += 0.2\n",
    "    t = int((x+1.5)*1000)\n",
    "    p.value(0)\n",
    "    time.sleep_ms(100)\n",
    "    p.value(1)\n",
    "    time.sleep_ms(t)\n",
    "    "
   ]
  },
  {
   "cell_type": "code",
   "execution_count": null,
   "metadata": {},
   "outputs": [],
   "source": []
  },
  {
   "cell_type": "code",
   "execution_count": null,
   "metadata": {},
   "outputs": [],
   "source": []
  },
  {
   "cell_type": "code",
   "execution_count": 2,
   "metadata": {},
   "outputs": [
    {
     "name": "stdout",
     "output_type": "stream",
     "text": [
      "\u001b[34mConnecting to --port=/dev/ttyUSB2 --baud=115200 \u001b[0m\n",
      "\u001b[34mReady.\n",
      "\u001b[0m"
     ]
    }
   ],
   "source": [
    "%serialconnect"
   ]
  },
  {
   "cell_type": "code",
   "execution_count": 26,
   "metadata": {},
   "outputs": [
    {
     "name": "stdout",
     "output_type": "stream",
     "text": [
      "Sent 86 lines (3060 bytes) to minimalmdns.py.\n"
     ]
    }
   ],
   "source": [
    "%sendtofile --mkdir --source /home/julian/extrepositories/micropython-lib/umqtt.robust/umqtt/robust.py lib/umqtt/\n",
    "%sendtofile --mkdir --source /home/julian/extrepositories/micropython-lib/umqtt.simple/umqtt/simple.py lib/umqtt/\n",
    "%sendtofile --source ../basicsockets/minimalmdns.py\n"
   ]
  },
  {
   "cell_type": "code",
   "execution_count": 1,
   "metadata": {},
   "outputs": [
    {
     "name": "stdout",
     "output_type": "stream",
     "text": [
      "\u001b[34mConnecting to --port=/dev/ttyUSB4 --baud=115200 \u001b[0m\n",
      "\u001b[34mReady.\n",
      "\u001b[0m"
     ]
    }
   ],
   "source": [
    "%serialconnect"
   ]
  },
  {
   "cell_type": "code",
   "execution_count": 27,
   "metadata": {},
   "outputs": [
    {
     "name": "stdout",
     "output_type": "stream",
     "text": [
      "Sent 73 lines (1628 bytes) to main.py.\n"
     ]
    }
   ],
   "source": [
    "%sendtofile main.py\n",
    "\n",
    "import machine, time, network\n",
    "from minimalmdns import mdnshostnametoipnumber\n",
    "\n",
    "wifiname = \"DoESLiverpool\"\n",
    "wifipassword = \"decafbad00\"\n",
    "mqttbrokername = \"mqtt.local\"\n",
    "\n",
    "pled = machine.Pin(2, machine.Pin.OUT)\n",
    "pdetector = machine.Pin(15, machine.Pin.IN)\n",
    "\n",
    "pled.value(1)\n",
    "time.sleep(3.5)  # chance to interrupt before wifi is turned on\n",
    "\n",
    "si = network.WLAN(network.STA_IF)\n",
    "si.active(True)\n",
    "\n",
    "print(\"Connecting to\", wifiname)\n",
    "si.connect(wifiname, wifipassword)\n",
    "while not si.isconnected():\n",
    "    time.sleep(0.1)\n",
    "pled.value(0) \n",
    "print(\"connected to wifi\")\n",
    "\n",
    "for i in range(10):\n",
    "    pled.value(i%2)\n",
    "    time.sleep_ms(100)\n",
    "    \n",
    "if mqttbrokername[-6:] == \".local\":\n",
    "    mqttbroker = mdnshostnametoipnumber(si, mqttbrokername)\n",
    "    print(\"mDNS completed\", mqttbrokername, mqttbroker)\n",
    "else:\n",
    "    mqttbroker = mqttbrokername\n",
    "pled.value(1) \n",
    "\n",
    "\n",
    "from umqtt.robust import MQTTClient\n",
    "client = MQTTClient(\"esp32powflash\", mqttbroker, 1883)\n",
    "for i in range(100):\n",
    "    try:\n",
    "        client.connect()\n",
    "        break\n",
    "    except OSError as e:\n",
    "        print(e)\n",
    "pled.value(0) \n",
    "print(\"connected to mqtt\")\n",
    "\n",
    "for i in range(10):\n",
    "    pled.value(i%2)\n",
    "    time.sleep_ms(50)\n",
    "\n",
    "boardname =  b\"esp32powflash\"\n",
    "boardname =  b\"esp8266C\"\n",
    "topicname = boardname+b\"/ticks\"\n",
    "\n",
    "client.publish(boardname+b\"/ip\", si.ifconfig()[0], retain=True, qos=1)\n",
    "    \n",
    "n = 0\n",
    "t0 = 0\n",
    "while True:\n",
    "    x = machine.time_pulse_us(pdetector, 0, 10000000)//1000\n",
    "    t = time.ticks_ms()\n",
    "    print(x, t, n)\n",
    "    if x < 0:\n",
    "        continue\n",
    "    if x < 15:\n",
    "        continue\n",
    "    dt = t - t0\n",
    "    if dt < 15:\n",
    "        continue\n",
    "    #print(dt, x, n)\n",
    "    try:\n",
    "        client.publish(topicname, \"%d %d %d\" % (dt, x, n))\n",
    "    except Exception as e:\n",
    "        print(e)\n",
    "    t0 = t\n",
    "    n += 1\n",
    "    pled.value(n%2) \n"
   ]
  },
  {
   "cell_type": "code",
   "execution_count": 2,
   "metadata": {},
   "outputs": [
    {
     "name": "stdout",
     "output_type": "stream",
     "text": [
      "serial exception on close write failed: [Errno 5] Input/output error\n",
      "\u001b[34mConnecting to --port=/dev/ttyUSB6 --baud=115200 \u001b[0m\n",
      "\u001b[34mReady.\n",
      "\u001b[0m"
     ]
    }
   ],
   "source": [
    "%serialconnect"
   ]
  },
  {
   "cell_type": "code",
   "execution_count": 3,
   "metadata": {},
   "outputs": [
    {
     "name": "stdout",
     "output_type": "stream",
     "text": [
      "Pin(15)\r\n"
     ]
    }
   ],
   "source": [
    "import machine\n",
    "pdetector = machine.Pin(15, machine.Pin.IN)\n",
    "print(pdetector)"
   ]
  },
  {
   "cell_type": "code",
   "execution_count": 12,
   "metadata": {},
   "outputs": [
    {
     "name": "stdout",
     "output_type": "stream",
     "text": [
      "object <class 'ADC'> is of type type\n",
      "  read -- <function>\n",
      "  atten -- <function>\n",
      "  width -- <classmethod>\n",
      "  ATTN_0DB -- 0\n",
      "  ATTN_2_5DB -- 1\n",
      "  ATTN_6DB -- 2\n",
      "  ATTN_11DB -- 3\n",
      "  WIDTH_9BIT -- 0\n",
      "  WIDTH_10BIT -- 1\n",
      "  WIDTH_11BIT -- 2\n",
      "  WIDTH_12BIT -- 3\n"
     ]
    }
   ],
   "source": [
    "help(machine.ADC)"
   ]
  },
  {
   "cell_type": "code",
   "execution_count": 16,
   "metadata": {},
   "outputs": [
    {
     "name": "stdout",
     "output_type": "stream",
     "text": [
      "..-1\n"
     ]
    }
   ],
   "source": [
    "x = machine.time_pulse_us(pdetector, 0, 10000000)//1000\n",
    "print(x)"
   ]
  },
  {
   "cell_type": "code",
   "execution_count": 81,
   "metadata": {},
   "outputs": [
    {
     "name": "stdout",
     "output_type": "stream",
     "text": [
      "115576 102 0\n",
      "2460 102 1\n",
      ".2543 102 2\n",
      "2591 102 3\n",
      ".2598 102 4\n",
      "2566 102 5\n",
      ".2495 102 6\n",
      "2388 102 7\n",
      "2251 102 8\n",
      ".2087 102 9\n",
      "1903 102 10\n",
      "1708 102 11\n",
      ".1509 102 12\n",
      "1313 102 13\n",
      "1127 102 14\n",
      "963 102 15\n",
      "821 102 16\n",
      "713 102 17\n",
      "639 102 18\n",
      ".603 102 19\n",
      "608 102 20\n",
      "652 102 21\n",
      "732 102 22\n",
      "\n",
      "**[ys] <class 'serial.serialutil.SerialException'>\n",
      "**[ys] read failed: device reports readiness to read but returned no data (device disconnected or multiple access on port?)\n",
      "\n",
      "\n",
      "**[ys] <class 'serial.serialutil.SerialException'>\n",
      "**[ys] read failed: device reports readiness to read but returned no data (device disconnected or multiple access on port?)\n",
      "\n"
     ]
    }
   ],
   "source": [
    "n = 0\n",
    "t0 = 0\n",
    "while True:\n",
    "    x = machine.time_pulse_us(pdetector, 0, 10000000)//1000\n",
    "    if x < 0:\n",
    "        continue\n",
    "    if x < 50:\n",
    "        continue\n",
    "    t = time.ticks_ms()\n",
    "    dt = t - t0\n",
    "    if dt < 50:\n",
    "        continue\n",
    "    print(dt, x, n)\n",
    "    client.publish(b\"esp32powflash/ticks\", \"%d %d %d\" % (dt, x, n))\n",
    "    t0 = t\n",
    "    n += 1\n",
    "    pled.value(n%2) \n"
   ]
  },
  {
   "cell_type": "code",
   "execution_count": null,
   "metadata": {},
   "outputs": [],
   "source": []
  }
 ],
 "metadata": {
  "kernelspec": {
   "display_name": "MicroPython - USB",
   "language": "micropython",
   "name": "micropython"
  },
  "language_info": {
   "codemirror_mode": "python",
   "file_extension": ".py",
   "mimetype": "text/python",
   "name": "micropython"
  }
 },
 "nbformat": 4,
 "nbformat_minor": 2
}

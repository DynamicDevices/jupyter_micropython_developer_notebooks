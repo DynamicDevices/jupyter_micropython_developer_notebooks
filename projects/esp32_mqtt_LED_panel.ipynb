{
 "cells": [
  {
   "cell_type": "code",
   "execution_count": 1,
   "metadata": {},
   "outputs": [
    {
     "name": "stdout",
     "output_type": "stream",
     "text": [
      "\u001b[34mConnecting to --port=/dev/ttyUSB2 --baud=115200 \u001b[0m\n",
      "\u001b[34mReady.\n",
      "\u001b[0m"
     ]
    }
   ],
   "source": [
    "%serialconnect"
   ]
  },
  {
   "cell_type": "code",
   "execution_count": null,
   "metadata": {},
   "outputs": [],
   "source": [
    "# Device is https://datasheets.maximintegrated.com/en/ds/MAX7219-MAX7221.pdf\n",
    "# 4 banks of 5*4 8x8 on the SPI bus with 4 chip selects\n",
    "# the modules mqtt_setup.py and ledgridpanel.py are saved lower down"
   ]
  },
  {
   "cell_type": "code",
   "execution_count": 4,
   "metadata": {},
   "outputs": [
    {
     "name": "stdout",
     "output_type": "stream",
     "text": [
      "wifiname     DoESLiverpool\n",
      "wifipassword decafbad00\n",
      "mqttbroker   10.0.100.1\n",
      "pinled       2\n",
      "boardname    esp32ledstrip"
     ]
    }
   ],
   "source": [
    "%fetchfile --print config.txt"
   ]
  },
  {
   "cell_type": "code",
   "execution_count": 7,
   "metadata": {},
   "outputs": [
    {
     "name": "stdout",
     "output_type": "stream",
     "text": [
      "Sent 5 lines (111 bytes) to config.txt.\n"
     ]
    }
   ],
   "source": [
    "%sendtofile config.txt\n",
    "\n",
    "wifiname     DoESLiverpool\n",
    "wifipassword decafbad00\n",
    "mqttbroker   mqtt.local\n",
    "pinled       2\n",
    "boardname    esp32LED"
   ]
  },
  {
   "cell_type": "code",
   "execution_count": 87,
   "metadata": {},
   "outputs": [
    {
     "name": "stdout",
     "output_type": "stream",
     "text": [
      "serial exception on close write failed: [Errno 5] Input/output error\n",
      "\u001b[34mConnecting to --port=/dev/ttyUSB1 --baud=115200 \u001b[0m\n",
      "\u001b[34mReady.\n",
      "\u001b[0m"
     ]
    }
   ],
   "source": [
    "%serialconnect"
   ]
  },
  {
   "cell_type": "code",
   "execution_count": 6,
   "metadata": {},
   "outputs": [
    {
     "name": "stdout",
     "output_type": "stream",
     "text": [
      "\u001b[34mattempt to exit paste mode\n",
      "\u001b[0m\u001b[34m[\\r\\x03\\x02] \u001b[0mb'\\r\\nMicroPython v1.11-240-g519746cae on 2019-08-26; ESP32 module with ESP32\\r\\nType \"help()\" for more information.\\r\\n>>> '\u001b[34m\n",
      "Closing serial Serial<id=0x7f3b70ee3c88, open=True>(port='/dev/ttyUSB0', baudrate=115200, bytesize=8, parity='N', stopbits=1, timeout=0.5, xonxoff=False, rtscts=False, dsrdtr=False)\n",
      "\u001b[0m"
     ]
    }
   ],
   "source": [
    "%disconnect"
   ]
  },
  {
   "cell_type": "code",
   "execution_count": 88,
   "metadata": {},
   "outputs": [
    {
     "name": "stdout",
     "output_type": "stream",
     "text": [
      "Sent 39 lines (1038 bytes) to main.py.\n"
     ]
    }
   ],
   "source": [
    "%sendtofile main.py\n",
    "\n",
    "import time\n",
    "from ledgridpanel import fbuff, fbuffwidth, fbuffheight, setbrightness, show\n",
    "from mqtt_setup import client, ipnumber, boardname, mqttbroker\n",
    "\n",
    "def textrows(ms):\n",
    "    fbuff.fill(0)\n",
    "    for i, m in enumerate(ms):\n",
    "        fbuff.text(m[:fbuffwidth//8], 0, i*8, 1)\n",
    "    show()\n",
    "    \n",
    "textrows([\"board: %s\"%boardname, \"ip:%s\"%ipnumber, \"mqttip:%s\"%mqttbroker])\n",
    "\n",
    "msg = None\n",
    "def callback(topic, lmsg):\n",
    "    global msg\n",
    "    msg = lmsg\n",
    "    print((topic, lmsg))\n",
    "    \n",
    "client.set_callback(callback)\n",
    "client.subscribe(boardname+\"/message\")\n",
    "\n",
    "t0 = 0\n",
    "fbuffcharwidth = fbuffwidth//8 - 1 # (-1 for the extra big from scroll buffer)\n",
    "while True:\n",
    "    client.check_msg()\n",
    "    lmsg = msg\n",
    "    msg = None\n",
    "    if lmsg:\n",
    "        fbuff.fill(0)\n",
    "        for i in range(0, len(lmsg), fbuffcharwidth):\n",
    "            fbuff.text(lmsg[i:i+fbuffcharwidth], 0, (i//fbuffcharwidth)*8, 1)\n",
    "        show()\n",
    "        t0 = time.ticks_ms()\n",
    "    \n",
    "    if time.ticks_ms() > t0 + 5000:\n",
    "        setbrightness(1)\n",
    "        time.sleep_ms(50)\n",
    "        setbrightness(0)\n",
    "        t0 = time.ticks_ms()\n"
   ]
  },
  {
   "cell_type": "code",
   "execution_count": null,
   "metadata": {},
   "outputs": [],
   "source": []
  },
  {
   "cell_type": "code",
   "execution_count": 85,
   "metadata": {},
   "outputs": [
    {
     "name": "stdout",
     "output_type": "stream",
     "text": [
      "\u001b[31m\n",
      "\n",
      "***Connection broken [Input/output error]\n",
      "\u001b[0mYou may need to reconnect\u001b[34m\n",
      "Closing serial Serial<id=0x7f82d6a222b0, open=True>(port='/dev/ttyUSB1', baudrate=115200, bytesize=8, parity='N', stopbits=1, timeout=0.5, xonxoff=False, rtscts=False, dsrdtr=False)\n",
      "\u001b[0m\u001b[31mNo serial connected\n",
      "\u001b[0m  %serialconnect to connect\n",
      "  %esptool to flash the device\n",
      "  %lsmagic to list commands"
     ]
    }
   ],
   "source": [
    "for i in range(0, len(msg), fbuffcharwidth):\n",
    "    print(msg[i:i+fbuffcharwidth])"
   ]
  },
  {
   "cell_type": "code",
   "execution_count": null,
   "metadata": {},
   "outputs": [],
   "source": []
  },
  {
   "cell_type": "code",
   "execution_count": 2,
   "metadata": {},
   "outputs": [
    {
     "name": "stdout",
     "output_type": "stream",
     "text": [
      "\u001b[34mConnecting to --port=/dev/ttyUSB0 --baud=115200 \u001b[0m\n",
      "\u001b[34mReady.\n",
      "\u001b[0m"
     ]
    }
   ],
   "source": [
    "%serialconnect"
   ]
  },
  {
   "cell_type": "code",
   "execution_count": 5,
   "metadata": {},
   "outputs": [],
   "source": [
    "#%sendtofile ledgridpanel.py\n",
    "\n",
    "# Very minimal scrolling panel\n",
    "numlegsegmentsX = const(5)\n",
    "numledcells = const(numlegsegmentsX*4)\n",
    "mstimedelay = const(10)\n",
    "cspinsY = [26]\n",
    "numlegsegmentsY = len(cspinsY)\n",
    "\n",
    "# setup and initialize the LED strip\n",
    "from machine import Pin, SPI\n",
    "#spi = SPI(1, baudrate=1000000, polarity=0, phase=0)  # ESP8266 one\n",
    "spi = SPI(1, 1000000, sck=Pin(14), mosi=Pin(13))  # HSPI for ESP32\n",
    "\n",
    "css = [ Pin(p, Pin.OUT)  for p in cspinsY ]\n",
    "for cs in css:\n",
    "    for i in range(0, 10, 2):\n",
    "        cs.value(0)\n",
    "        x = b\"\\x0c\\x00\\x0f\\x00\\x0b\\x07\\x09\\x00\\x0c\\x01\"[i:i+2]\n",
    "        spi.write(x*numledcells)\n",
    "        cs.value(1)\n",
    "\n",
    "def setbrightness(b):\n",
    "    for cs in css:\n",
    "        cs.value(0)  # 0<=brightness<=15\n",
    "        spi.write(bytes([0x0a, b])*numledcells)\n",
    "        cs.value(1)\n",
    "setbrightness(0)\n",
    "\n",
    "import framebuf\n",
    "buffer = bytearray((8*numlegsegmentsY)*(numledcells+1))  # make one extra character to scroll from\n",
    "fbuffwidth = 8*(numledcells+1)\n",
    "fbuffheight = 8*numlegsegmentsY\n",
    "fbuff = framebuf.FrameBuffer(buffer, fbuffwidth, fbuffheight, framebuf.MONO_HLSB)\n",
    "\n",
    "s = bytearray(8)\n",
    "def showY(iy):\n",
    "    cs = css[iy]\n",
    "    for y in range(8):\n",
    "        s[6] = s[4] = s[2] = s[0] = y+1\n",
    "        cs.value(0)  # cannot put in loop as resets the shifting\n",
    "        for m in range(0, numledcells, 4):\n",
    "            s[1] = buffer[(y+iy*8)*(numledcells+1) + (numledcells - m - 1)]\n",
    "            s[3] = buffer[(y+iy*8)*(numledcells+1) + (numledcells - m - 2)]\n",
    "            s[5] = buffer[(y+iy*8)*(numledcells+1) + (numledcells - m - 3)]\n",
    "            s[7] = buffer[(y+iy*8)*(numledcells+1) + (numledcells - m - 4)]\n",
    "            spi.write(s)\n",
    "        cs.value(1)\n",
    "        \n",
    "def show():\n",
    "    for i in range(numlegsegmentsY):\n",
    "        showY(i)\n",
    "    \n",
    "for i in range(0, numledcells*8, 4):\n",
    "    for j in range(numlegsegmentsY):\n",
    "        fbuff.fill_rect(i, (i%8)+j*8, 4, 4, 1)\n",
    "show()\n"
   ]
  },
  {
   "cell_type": "code",
   "execution_count": null,
   "metadata": {},
   "outputs": [],
   "source": []
  },
  {
   "cell_type": "code",
   "execution_count": null,
   "metadata": {},
   "outputs": [],
   "source": []
  },
  {
   "cell_type": "code",
   "execution_count": null,
   "metadata": {},
   "outputs": [],
   "source": [
    "%sendtofile --source ../basicsockets/minimalmdns.py"
   ]
  },
  {
   "cell_type": "code",
   "execution_count": 29,
   "metadata": {},
   "outputs": [
    {
     "name": "stdout",
     "output_type": "stream",
     "text": [
      "Sent 31 lines (1013 bytes) to mqtt_setup.py.\n"
     ]
    }
   ],
   "source": [
    "%sendtofile mqtt_setup.py\n",
    "\n",
    "# mqtt technology\n",
    "import network, machine, time, ubinascii\n",
    "from minimalmdns import mdnshostnametoipnumber\n",
    "\n",
    "fconfig = dict(x.split()  for x in open(\"config.txt\"))\n",
    "pled = machine.Pin(int(fconfig[\"pinled\"]), machine.Pin.OUT)\n",
    "\n",
    "si = network.WLAN()\n",
    "si.active(True)\n",
    "si.connect(fconfig[\"wifiname\"], fconfig[\"wifipassword\"])\n",
    "while not si.isconnected():\n",
    "    time.sleep_ms(500)\n",
    "ipnumber = si.ifconfig()[0]\n",
    "print(\"localip\", ipnumber)\n",
    "for i in range(10):\n",
    "    pled.value(i%2)\n",
    "    time.sleep_ms(100)\n",
    "\n",
    "from umqtt.robust import MQTTClient\n",
    "mqttbroker = fconfig[\"mqttbroker\"]\n",
    "if mqttbroker[-6:] == \".local\":\n",
    "    from minimalmdns import mdnshostnametoipnumber\n",
    "    mqttbroker = mdnshostnametoipnumber(si, mqttbroker)\n",
    "    print(fconfig[\"mqttbroker\"], mqttbroker)\n",
    "    \n",
    "boardname = fconfig[\"boardname\"]\n",
    "client = MQTTClient(boardname, mqttbroker)\n",
    "client.connect()\n",
    "client.publish(boardname+\"/ip\", ipnumber, retain=True, qos=1)\n",
    "client.publish(boardname+\"/mac\", ubinascii.hexlify(si.config('mac'),':').decode().upper(), retain=True, qos=1)\n",
    "\n"
   ]
  },
  {
   "cell_type": "code",
   "execution_count": null,
   "metadata": {},
   "outputs": [],
   "source": [
    "def callback(topic, msg):\n",
    "    global message, messagechar, messagepix\n",
    "    print((topic, msg))\n",
    "    message = msg\n",
    "    messagechar, messagepix = -numledcells, 7\n",
    "client.set_callback(callback)\n",
    "client.subscribe(fconfig[\"boardname\"]+\"/message\")\n",
    "\n",
    "tnext = 0\n",
    "while True:\n",
    "    while time.ticks_ms() < tnext:\n",
    "        pass\n",
    "    tnext = time.ticks_ms() + mstimedelay\n",
    "\n",
    "    msgnext()\n",
    "    if messagechar >= len(message):\n",
    "        messagechar, messagepix = -numledcells, 7\n",
    "    client.check_msg()\n"
   ]
  },
  {
   "cell_type": "code",
   "execution_count": null,
   "metadata": {},
   "outputs": [],
   "source": []
  },
  {
   "cell_type": "code",
   "execution_count": null,
   "metadata": {},
   "outputs": [],
   "source": [
    "def callback(topic, msg):\n",
    "    global message, messagechar, messagepix\n",
    "    print((topic, msg))\n",
    "    message = msg\n",
    "    messagechar, messagepix = -numledcells, 7\n",
    "client.set_callback(callback)\n",
    "client.subscribe(fconfig[\"boardname\"]+\"/message\")\n",
    "\n",
    "tnext = 0\n",
    "while True:\n",
    "    while time.ticks_ms() < tnext:\n",
    "        pass\n",
    "    tnext = time.ticks_ms() + mstimedelay\n",
    "\n",
    "    msgnext()\n",
    "    if messagechar >= len(message):\n",
    "        messagechar, messagepix = -numledcells, 7\n",
    "    client.check_msg()\n",
    "\n",
    "    "
   ]
  },
  {
   "cell_type": "code",
   "execution_count": null,
   "metadata": {},
   "outputs": [],
   "source": []
  },
  {
   "cell_type": "code",
   "execution_count": 37,
   "metadata": {},
   "outputs": [
    {
     "name": "stderr",
     "output_type": "stream",
     "text": [
      "Traceback (most recent call last):\n",
      "  File \"<stdin>\", line 1, in <module>\n",
      "AttributeError: 'FrameBuffer' object has no attribute 'width'\n"
     ]
    }
   ],
   "source": [
    "# junk scrolling code\n",
    "import time\n",
    "messages = [\"DoESLiverpool is...?\", \"None in Liverpool.!.!\"]\n",
    "messagechar = -1\n",
    "messagepix = 7\n",
    "def msgnext():\n",
    "    global messagechar, messagepix\n",
    "    messagepix += 1\n",
    "    if messagepix < 8:\n",
    "        fbuff.scroll(-1,0)\n",
    "    else:\n",
    "        messagechar += 1\n",
    "        messagepix = 0\n",
    "        fbuff.fill(0)\n",
    "        mc = max(messagechar, 0)\n",
    "        for y, message in enumerate(messages):\n",
    "            fbuff.text(message[mc:mc+numledcells+1], -min(0, messagechar)*8, y*8+(messagechar), 1)\n",
    "    show()\n",
    "\n",
    "while 1:\n",
    "    msgnext()\n",
    "    if messagechar >= len(messages[0]):\n",
    "        messagechar, messagepix = -numledcells, 7\n",
    "    #time.sleep_ms(20)\n",
    "\n"
   ]
  }
 ],
 "metadata": {
  "kernelspec": {
   "display_name": "MicroPython - USB",
   "language": "micropython",
   "name": "micropython"
  },
  "language_info": {
   "codemirror_mode": "python",
   "file_extension": ".py",
   "mimetype": "text/python",
   "name": "micropython"
  }
 },
 "nbformat": 4,
 "nbformat_minor": 2
}

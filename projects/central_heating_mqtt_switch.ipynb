{
 "cells": [
  {
   "cell_type": "markdown",
   "metadata": {},
   "source": [
    "### Central heating control\n",
    "\n",
    "Uses a button to run it for a number of minutes, and an MQTT channels\n",
    "\n",
    "Run the heating for 5 seconds:\n",
    "> mosquitto_pub -h 192.168.43.1 -t \"esp8266H/cenheat/secs/cmd\" -m \"5\"\n",
    "\n",
    "\n",
    "\n",
    "\n",
    "Instructions from:\n",
    "    https://www.esp8266.com/wiki/doku.php?id=toolchain\n",
    "\n",
    "Make the esp C-compiler\n",
    "> conda deactivate\n",
    "> git clone --recursive https://github.com/pfalcon/esp-open-sdk\n",
    "> cd esp-open-sdk\n",
    "> make\n",
    "\n",
    "Copy across the modules\n",
    "> cp /home/julian/extrepositories/micropython-mqtt/mqtt_as/mqtt_as.py /home/julian/extrepositories/micropython/ports/esp8266/modules/\n",
    "\n",
    "> cp /home/julian/extrepositories/micropython-lib/uasyncio/uasyncio/ /home/julian/extrepositories/micropython/ports/esp8266/modules/\n",
    "\n",
    "> cp /home/julian/extrepositories/micropython-lib/uasyncio.core/uasyncio/core.py /home/julian/extrepositories/micropython/ports/esp8266/modules/uasyncio\n",
    "\n",
    "> cp /home/julian/extrepositories/micropython-lib/uasyncio.queues/uasyncio/queues.py /home/julian/extrepositories/micropython/ports/esp8266/modules/uasyncio\n",
    "\n",
    "> export PATH=\"/home/julian/extrepositories/esp-open-sdk/xtensa-lx106-elf/bin/:$PATH\"\n",
    "\n",
    "Make the file\n",
    "> cd /home/julian/extrepositories/micropython/ports/esp8266\n",
    "\n",
    "> make\n",
    "\n",
    "\n",
    "/home/julian/extrepositories/micropython/ports/esp8266/build-GENERIC/firmware-combined.bin\n"
   ]
  },
  {
   "cell_type": "code",
   "execution_count": null,
   "metadata": {},
   "outputs": [],
   "source": [
    "# Now flash the built firmware withe mqtt_as and asyncio\n",
    "%esptool esp8266 /home/julian/extrepositories/micropython/ports/esp8266/build-GENERIC/firmware-combined.bin"
   ]
  },
  {
   "cell_type": "code",
   "execution_count": null,
   "metadata": {},
   "outputs": [],
   "source": [
    "# Small ESP8266\n",
    "\n",
    "#      RST          |  GPIO1   TX\n",
    "#       A0          |  GPIO3   RX\n",
    "#       D0  GPIO16  |  GPIO5   D1  SCL\n",
    "# SCK   D5  GPIO14  |  GPIO4   D2  SDA\n",
    "# MISO  D6  GPIO12  |  GPIO0   D3\n",
    "# MOSI  D7  GPIO13  |  GPIO2   D4  LED\n",
    "# SS    D8  GPIO15  |          GND\n",
    "#      3V3          |          5V\n",
    "\n",
    "# (not able to get the mDNS to work for esp8266)"
   ]
  },
  {
   "cell_type": "code",
   "execution_count": 34,
   "metadata": {},
   "outputs": [
    {
     "name": "stdout",
     "output_type": "stream",
     "text": [
      "serial exception on close write failed: [Errno 5] Input/output error\n",
      "\u001b[34mConnecting to --port=/dev/ttyUSB1 --baud=115200 \u001b[0m\n",
      "\u001b[34mReady.\n",
      "\u001b[0m"
     ]
    }
   ],
   "source": [
    "%serialconnect"
   ]
  },
  {
   "cell_type": "code",
   "execution_count": 51,
   "metadata": {},
   "outputs": [
    {
     "name": "stdout",
     "output_type": "stream",
     "text": [
      "Sent 8 lines (149 bytes) to config.txt.\n"
     ]
    }
   ],
   "source": [
    "%sendtofile config.txt\n",
    "\n",
    "wifiname     BV6000\n",
    "wifipassword bubblino\n",
    "mqttbroker   192.168.43.1\n",
    "pinled       2\n",
    "pincontrol   5\n",
    "pinbuttonled 4\n",
    "pinbutton    0\n",
    "boardname    esp8266H"
   ]
  },
  {
   "cell_type": "code",
   "execution_count": 70,
   "metadata": {},
   "outputs": [
    {
     "name": "stdout",
     "output_type": "stream",
     "text": [
      "serial exception on close write failed: [Errno 5] Input/output error\n",
      "\u001b[34mConnecting to --port=/dev/ttyUSB1 --baud=115200 \u001b[0m\n",
      "\u001b[34mReady.\n",
      "\u001b[0m"
     ]
    }
   ],
   "source": [
    "%serialconnect"
   ]
  },
  {
   "cell_type": "code",
   "execution_count": 71,
   "metadata": {
    "scrolled": true
   },
   "outputs": [
    {
     "name": "stdout",
     "output_type": "stream",
     "text": [
      "Sent 103 lines (3271 bytes) to main.py.\n"
     ]
    }
   ],
   "source": [
    "%sendtofile main.py\n",
    "\n",
    "from mqtt_as import config, MQTTClient\n",
    "import uasyncio as asyncio\n",
    "import time\n",
    "from machine import Pin, PWM\n",
    "\n",
    "fconfig = dict(x.split()  for x in open(\"config.txt\"))\n",
    "\n",
    "pinled = Pin(int(fconfig[\"pinled\"]), Pin.OUT)\n",
    "pincontrol = Pin(int(fconfig[\"pincontrol\"]), Pin.OUT)\n",
    "pincontrol.value(0)\n",
    "pinbuttonled = Pin(int(fconfig[\"pinbuttonled\"]), Pin.OUT)\n",
    "pinbutton = Pin(int(fconfig[\"pinbutton\"]), Pin.IN, Pin.PULL_UP)\n",
    "pwmbuttonled = machine.PWM(pinbuttonled, duty=5)\n",
    "pinled.value(0)\n",
    "\n",
    "config['server'] = fconfig[\"mqttbroker\"]\n",
    "config['ssid'] = fconfig[\"wifiname\"]\n",
    "config['wifi_pw'] = fconfig[\"wifipassword\"]\n",
    "config['mqttchannel'] = fconfig[\"boardname\"]\n",
    "        \n",
    "boardname = fconfig[\"boardname\"].encode()    \n",
    "tcenheatsecs = boardname+b'/cenheat/secs'\n",
    "tcenheatcmd = tcenheatsecs+b'/cmd'\n",
    "tcenheatrep = tcenheatsecs+b'/rep'\n",
    "tbuttonsecs = boardname+b'/button/secs'\n",
    "\n",
    "nextcontrolsecson = None\n",
    "buttoncontrolonsecs = 10\n",
    "secondscountdown = 0\n",
    "\n",
    "def callback(topic, msg, retained):\n",
    "    global nextcontrolsecson\n",
    "    print(\"callback\", topic, msg, retained)\n",
    "    if topic == tcenheatcmd:\n",
    "        try:\n",
    "            nextcontrolsecson = max(0, int(msg))\n",
    "        except ValueError as e:\n",
    "            print(e)\n",
    "            \n",
    "config['subs_cb'] = callback\n",
    "client = MQTTClient(config)\n",
    "\n",
    "async def controltask():\n",
    "    global nextcontrolsecson, secondscountdown\n",
    "    tickstimeoff = 0\n",
    "    i = 0\n",
    "    while True:\n",
    "        await asyncio.sleep_ms(200)\n",
    "        i += 1\n",
    "        t0 = time.ticks_ms()\n",
    "        if nextcontrolsecson is not None:\n",
    "            pincontrol.value(1 if nextcontrolsecson != 0 else 0)\n",
    "            tickstimeoff = t0 + nextcontrolsecson*1000\n",
    "            nextcontrolsecson = None\n",
    "        if tickstimeoff != 0:\n",
    "            if tickstimeoff < t0:\n",
    "                pincontrol.value(0)\n",
    "                tickstimeoff = 0\n",
    "        secondscountdown = ((tickstimeoff-t0)/1000) if tickstimeoff else 0\n",
    "        if (i%10) == 0:\n",
    "            await client.publish(tcenheatrep, str(secondscountdown))\n",
    "\n",
    "async def buttontask():\n",
    "    global nextcontrolsecson\n",
    "    i = 0\n",
    "    while True:\n",
    "        await asyncio.sleep_ms(100)\n",
    "        i += 1\n",
    "        if pinbutton.value() == 0:\n",
    "            t0 = time.ticks_ms()\n",
    "            dt = 0\n",
    "            while pinbutton.value() == 0:\n",
    "                dt = time.ticks_ms() - t0\n",
    "                if dt > 3000:\n",
    "                    pwmbuttonled.duty((((dt-3000)//500)%2)*500)\n",
    "                await asyncio.sleep_ms(50)\n",
    "            print(\"buttondown\", dt)\n",
    "            nextcontrolsecson = (buttoncontrolonsecs  if dt < 3000  else 0)\n",
    "            await client.publish(tbuttonsecs, str(dt/1000))\n",
    "            i = 0\n",
    "\n",
    "        if (i%10) == 0:\n",
    "            pwmbuttonled.duty(int(min(secondscountdown/buttoncontrolonsecs, 1)*300))\n",
    "\n",
    "        if client.isconnected():\n",
    "            pinled.value(0 if (i%50) < 2 else 1)\n",
    "        else:\n",
    "            pinled.value(0 if (i%20) < 7 else 1)\n",
    "        \n",
    "async def startuptask():\n",
    "    await client.connect()\n",
    "    ipnumber = client._sta_if.ifconfig()[0]\n",
    "    print(\"ipnumber\", ipnumber)\n",
    "    await client.subscribe(tcenheatcmd)\n",
    "    print(\"subscribing to\", tcenheatcmd)\n",
    "    await client.publish(boardname+b'/ip', ipnumber, retain=True, qos=1)\n",
    "\n",
    "aloop = asyncio.get_event_loop()\n",
    "aloop.create_task(startuptask())\n",
    "aloop.create_task(controltask())\n",
    "aloop.create_task(buttontask())\n",
    "aloop.run_forever()\n",
    "\n"
   ]
  },
  {
   "cell_type": "code",
   "execution_count": null,
   "metadata": {},
   "outputs": [],
   "source": []
  }
 ],
 "metadata": {
  "kernelspec": {
   "display_name": "MicroPython - USB",
   "language": "micropython",
   "name": "micropython"
  },
  "language_info": {
   "codemirror_mode": "python",
   "file_extension": ".py",
   "mimetype": "text/python",
   "name": "micropython"
  }
 },
 "nbformat": 4,
 "nbformat_minor": 2
}

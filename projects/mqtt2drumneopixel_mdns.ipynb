{
 "cells": [
  {
   "cell_type": "code",
   "execution_count": 80,
   "metadata": {},
   "outputs": [
    {
     "name": "stdout",
     "output_type": "stream",
     "text": [
      "serial exception on close write failed: [Errno 5] Input/output error\n",
      "\u001b[34mConnecting to --port=/dev/ttyUSB5 --baud=115200 \u001b[0m\n",
      "\u001b[34mReady.\n",
      "\u001b[0m"
     ]
    }
   ],
   "source": [
    "%serialconnect"
   ]
  },
  {
   "cell_type": "code",
   "execution_count": 2,
   "metadata": {},
   "outputs": [
    {
     "name": "stdout",
     "output_type": "stream",
     "text": [
      "Sent 82 lines (2967 bytes) to minimalmdns.py.\n"
     ]
    }
   ],
   "source": [
    "%sendtofile --source ../basicsockets/minimalmdns.py"
   ]
  },
  {
   "cell_type": "code",
   "execution_count": null,
   "metadata": {},
   "outputs": [],
   "source": [
    "# This is the code that runs the neopixels\n",
    "# mosquitto_pub -h mqtt.local -t esp32j/3 -m 0a1a2a\n",
    "# (see below for the code that goes on the drums with the accelerometer)"
   ]
  },
  {
   "cell_type": "code",
   "execution_count": 81,
   "metadata": {},
   "outputs": [
    {
     "name": "stdout",
     "output_type": "stream",
     "text": [
      "Sent 91 lines (2029 bytes) to main.py.\n"
     ]
    }
   ],
   "source": [
    "%sendtofile main.py\n",
    "\n",
    "import machine, time, network, neopixel\n",
    "\n",
    "wifinames = [\"DoESLiverpool-MQTT\", \"DoESLiverpool\"]\n",
    "wifipassword = \"decafbad00\"\n",
    "mqttbrokername = \"mqtt.local\"\n",
    "\n",
    "from machine import Pin, ADC\n",
    "import time\n",
    "\n",
    "neos = [ ]\n",
    "neos.append(neopixel.NeoPixel(machine.Pin(12), 74))\n",
    "neos.append(neopixel.NeoPixel(machine.Pin(13), 74))\n",
    "pled = machine.Pin(2, machine.Pin.OUT)\n",
    "\n",
    "def fillallneos(c):\n",
    "    for neo in neos:\n",
    "        neo.fill(c)\n",
    "        neo.write()\n",
    "    pled.value(1-pled.value())\n",
    "fillallneos((10,0,0))\n",
    "\n",
    "\n",
    "time.sleep(1.5)  # wait to turn on wifi\n",
    "si = network.WLAN(network.STA_IF)\n",
    "si.active(True)\n",
    "sw = [(-s[3], s[0].decode())  for s in si.scan()]\n",
    "sw.sort()\n",
    "print(sw)\n",
    "for s, wifiname in sw:\n",
    "    if wifiname in wifinames:\n",
    "        break\n",
    "else:\n",
    "    wifiname = wifinames[0]\n",
    "del sw\n",
    "    \n",
    "\n",
    "print(\"Connecting to\", wifiname)\n",
    "si.connect(wifiname, wifipassword)\n",
    "while not si.isconnected():\n",
    "    time.sleep(0.1)\n",
    "fillallneos((0,10,0))\n",
    "print(\"connected to wifi\")\n",
    "\n",
    "\n",
    "if mqttbrokername[-6:] == \".local\":\n",
    "    from minimalmdns import mdnshostnametoipnumber\n",
    "    mqttbroker = mdnshostnametoipnumber(si, mqttbrokername)\n",
    "    fillallneos((0,0,10))\n",
    "    print(\"mDNS completed\", mqttbrokername, mqttbroker)\n",
    "else:\n",
    "    mqttbroker = mqttbrokername\n",
    "\n",
    "\n",
    "from umqtt.robust import MQTTClient\n",
    "client = MQTTClient(\"neopixelesp44\", mqttbroker, 1883)\n",
    "for i in range(100):\n",
    "    try:\n",
    "        client.connect()\n",
    "        break\n",
    "    except OSError as e:\n",
    "        print(e)\n",
    "fillallneos((0,10,0))\n",
    "print(\"connected to mqtt\")\n",
    "\n",
    "\n",
    "def scallback(topic, msg):\n",
    "    print((topic, msg))\n",
    "    try:\n",
    "        r,g,b = int(msg[:2], 16), int(msg[2:4], 16), int(msg[4:6], 16)\n",
    "    except ValueError:\n",
    "        print(\"ignore\")\n",
    "        return\n",
    "    try:\n",
    "        neo = neos[int(topic[-1:])]\n",
    "    except Exception as e:\n",
    "        print(e)\n",
    "        neo = None\n",
    "    if neo is not None:\n",
    "        print(\"filling\", neo)\n",
    "        neo.fill((r,g,b))\n",
    "        neo.write()\n",
    "    else:\n",
    "        print(\"fill all\")\n",
    "        fillallneos((r,g,b))\n",
    "\n",
    "client.set_callback(scallback)\n",
    "client.subscribe(b\"esp32j/#\")\n",
    "\n",
    "while 1:\n",
    "    client.check_msg()\n",
    "    time.sleep_ms(5)"
   ]
  },
  {
   "cell_type": "code",
   "execution_count": null,
   "metadata": {},
   "outputs": [],
   "source": []
  },
  {
   "cell_type": "code",
   "execution_count": null,
   "metadata": {},
   "outputs": [],
   "source": []
  },
  {
   "cell_type": "code",
   "execution_count": null,
   "metadata": {},
   "outputs": [],
   "source": []
  },
  {
   "cell_type": "code",
   "execution_count": 72,
   "metadata": {},
   "outputs": [
    {
     "name": "stdout",
     "output_type": "stream",
     "text": [
      "serial exception on close write failed: [Errno 5] Input/output error\n",
      "\u001b[34mConnecting to --port=/dev/ttyUSB5 --baud=115200 \u001b[0m\n",
      "\u001b[34mReady.\n",
      "\u001b[0m"
     ]
    }
   ],
   "source": [
    "%serialconnect"
   ]
  },
  {
   "cell_type": "code",
   "execution_count": null,
   "metadata": {},
   "outputs": [],
   "source": [
    "# This is the code that gets saved onto the drum accelerometer\n",
    "# mosquitto_sub -v -h mqtt.local -t \"esp32black/maxaccel\""
   ]
  },
  {
   "cell_type": "code",
   "execution_count": 59,
   "metadata": {},
   "outputs": [
    {
     "name": "stdout",
     "output_type": "stream",
     "text": [
      "Sent 82 lines (2967 bytes) to minimalmdns.py.\n"
     ]
    }
   ],
   "source": [
    "%sendtofile --source ../basicsockets/minimalmdns.py"
   ]
  },
  {
   "cell_type": "code",
   "execution_count": 79,
   "metadata": {},
   "outputs": [
    {
     "name": "stdout",
     "output_type": "stream",
     "text": [
      "Sent 99 lines (2573 bytes) to main.py.\n"
     ]
    }
   ],
   "source": [
    "%sendtofile main.py\n",
    "\n",
    "import machine, time, network\n",
    "\n",
    "wifinames = [\"DoESLiverpool-MQTT\", \"DoESLiverpool\"]\n",
    "wifipassword = \"decafbad00\"\n",
    "mqttbrokername = \"mqtt.local\"\n",
    "\n",
    "from machine import Pin, I2C\n",
    "import time, ustruct\n",
    "\n",
    "time.sleep(0.1)\n",
    "\n",
    "i2c = I2C(scl=Pin(15), sda=Pin(4), freq=450000)\n",
    "#    if 0x6B in ads and 0x1E in ads:\n",
    "#        res.append(\"SDOF GyAccMag\")\n",
    "pled = machine.Pin(2, machine.Pin.OUT)\n",
    "\n",
    "        \n",
    "# turn on accelerometer reg(0x20)=(ODR_XL,FS_XL,BW_SCAL_ODR,BW_XL)=110 00 0 00 should give 952Hz, but is overridden by gyros ODR \n",
    "# there are various further settings of FIFO and High and Low pass filters\n",
    "i2c.writeto(0x6B, b'\\x20\\xC0')  \n",
    "i2c.writeto(0x1E, b'\\x22\\x00')  \n",
    "\n",
    "def readaccelerometer(timeout=1000):\n",
    "    cs, stm, ds = 0x6B, 1, b\"\\x28\" \n",
    "    t0 = time.ticks_ms()\n",
    "    while True:   # loop to wait for readings to be ready (at 60Hz)\n",
    "        i2c.writeto(cs, b'\\x27')\n",
    "        st = ord(i2c.readfrom(cs, 1))  # (IG_XL,IG_G,INACT,BOOT_STATUS,TDA,GDA,XLDA) states whether a reading is ready\n",
    "        if st & stm:\n",
    "            break\n",
    "        if time.ticks_ms() - t0 > timeout:\n",
    "            return (0, 0, 0)\n",
    "    i2c.writeto(cs, ds)\n",
    "    s = i2c.readfrom(cs, 6)\n",
    "    sv = ustruct.unpack(\"<hhh\", s)\n",
    "    return sv\n",
    "\n",
    "\n",
    "pled.value(1)\n",
    "time.sleep(1.5)  # wait to turn on wifi\n",
    "si = network.WLAN(network.STA_IF)\n",
    "si.active(True)\n",
    "sw = [(-s[3], s[0].decode())  for s in si.scan()]\n",
    "sw.sort()\n",
    "print(sw)\n",
    "for s, wifiname in sw:\n",
    "    if wifiname in wifinames:\n",
    "        break\n",
    "else:\n",
    "    wifiname = wifinames[0]\n",
    "del sw\n",
    "pled.value(1) \n",
    "\n",
    "\n",
    "print(\"Connecting to\", wifiname)\n",
    "si.connect(wifiname, wifipassword)\n",
    "while not si.isconnected():\n",
    "    time.sleep(0.1)\n",
    "pled.value(0) \n",
    "print(\"connected to wifi\")\n",
    "\n",
    "\n",
    "if mqttbrokername[-6:] == \".local\":\n",
    "    from minimalmdns import mdnshostnametoipnumber\n",
    "    mqttbroker = mdnshostnametoipnumber(si, mqttbrokername)\n",
    "    print(\"mDNS completed\", mqttbrokername, mqttbroker)\n",
    "else:\n",
    "    mqttbroker = mqttbrokername\n",
    "pled.value(1) \n",
    "\n",
    "\n",
    "from umqtt.robust import MQTTClient\n",
    "client = MQTTClient(\"esp32black99\", mqttbroker, 1883)\n",
    "for i in range(100):\n",
    "    try:\n",
    "        client.connect()\n",
    "        break\n",
    "    except OSError as e:\n",
    "        print(e)\n",
    "pled.value(0) \n",
    "print(\"connected to mqtt\")\n",
    "\n",
    "\n",
    "import math\n",
    "tdiff = 100\n",
    "t0 = time.ticks_ms()\n",
    "xmax = None\n",
    "while True:\n",
    "    #client.check_msg()\n",
    "    k = readaccelerometer()\n",
    "    x = math.sqrt((k[0]/16384)**2 + (k[1]/16384)**2 + (k[2]/16384)**2)\n",
    "    if xmax is None or x > xmax:\n",
    "        xmax = x\n",
    "    t1 = time.ticks_ms()\n",
    "    if t1 > t0 + tdiff and xmax is not None:\n",
    "        print(xmax)\n",
    "        client.publish(b\"esp32black/maxaccel\", str(xmax))\n",
    "        xmax = None\n",
    "        t0 = t1\n"
   ]
  },
  {
   "cell_type": "code",
   "execution_count": null,
   "metadata": {},
   "outputs": [],
   "source": []
  }
 ],
 "metadata": {
  "kernelspec": {
   "display_name": "MicroPython - USB",
   "language": "micropython",
   "name": "micropython"
  },
  "language_info": {
   "codemirror_mode": "python",
   "file_extension": ".py",
   "mimetype": "text/python",
   "name": "micropython"
  }
 },
 "nbformat": 4,
 "nbformat_minor": 2
}

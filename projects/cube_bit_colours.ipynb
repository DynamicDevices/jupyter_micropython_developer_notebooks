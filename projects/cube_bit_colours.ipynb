{
 "cells": [
  {
   "cell_type": "code",
   "execution_count": null,
   "metadata": {},
   "outputs": [],
   "source": [
    "# Small ESP8266\n",
    "\n",
    "#      RST          |  GPIO1   TX\n",
    "#       A0          |  GPIO3   RX\n",
    "#       D0  GPIO16  |  GPIO5   D1  SCL\n",
    "# SCK   D5  GPIO14  |  GPIO4   D2  SDA\n",
    "# MISO  D6  GPIO12  |  GPIO0   D3\n",
    "# MOSI  D7  GPIO13  |  GPIO2   D4  LED\n",
    "# SS    D8  GPIO15  |          GND\n",
    "#      3V3          |          5V\n",
    "\n",
    "# clk red      D5\n",
    "# cs  orange   D8\n",
    "# din yellow   D7\n",
    "# gnd green    G\n",
    "# vcc blue     5V"
   ]
  },
  {
   "cell_type": "code",
   "execution_count": 1,
   "metadata": {},
   "outputs": [
    {
     "name": "stdout",
     "output_type": "stream",
     "text": [
      "\u001b[34mConnecting to --port=/dev/ttyUSB0 --baud=115200 \u001b[0m\n",
      "\u001b[34mReady.\n",
      "\u001b[0m"
     ]
    }
   ],
   "source": [
    "%serialconnect"
   ]
  },
  {
   "cell_type": "code",
   "execution_count": 186,
   "metadata": {},
   "outputs": [],
   "source": [
    "from machine import Pin\n",
    "import neopixel, time, random\n",
    "\n",
    "x = neopixel.NeoPixel(Pin(13), 64)\n"
   ]
  },
  {
   "cell_type": "code",
   "execution_count": 3,
   "metadata": {},
   "outputs": [],
   "source": [
    "def g(i, j, k):\n",
    "    if k%2:\n",
    "         i, j = 3-j, 3-i\n",
    "    if j%2:\n",
    "         i = 3-i\n",
    "    return k*16 + j*4 + i\n",
    "\n"
   ]
  },
  {
   "cell_type": "code",
   "execution_count": 6,
   "metadata": {},
   "outputs": [],
   "source": [
    "x.fill((0,0,0))\n",
    "x.write()"
   ]
  },
  {
   "cell_type": "code",
   "execution_count": 87,
   "metadata": {},
   "outputs": [
    {
     "name": "stdout",
     "output_type": "stream",
     "text": [
      ".\u001b[34m\n",
      "\n",
      "*** Sending Ctrl-C\n",
      "\n",
      "\u001b[0m"
     ]
    },
    {
     "name": "stderr",
     "output_type": "stream",
     "text": [
      "Traceback (most recent call last):\n",
      "  File \"<stdin>\", line 6, in <module>\n",
      "KeyboardInterrupt: \n"
     ]
    }
   ],
   "source": [
    "x.fill((0,0,0))\n",
    "x.write()\n",
    "for i in range(64):\n",
    "    x[i] = ((200-i*2, 50+i, 0))\n",
    "    x.write()\n",
    "    time.sleep(0.1)\n"
   ]
  },
  {
   "cell_type": "code",
   "execution_count": 162,
   "metadata": {},
   "outputs": [],
   "source": [
    "x.fill((0,0,0))\n",
    "i, j, k = 1, 1, 3\n",
    "di, dj, dk = 1, -1, 1\n",
    "x[g(i,j,k)] = (100,0,0)\n",
    "x.write()\n"
   ]
  },
  {
   "cell_type": "code",
   "execution_count": 163,
   "metadata": {},
   "outputs": [],
   "source": [
    "knock3 = [[0,-1], [-1,1], [1,0]]"
   ]
  },
  {
   "cell_type": "code",
   "execution_count": 164,
   "metadata": {},
   "outputs": [
    {
     "name": "stdout",
     "output_type": "stream",
     "text": [
      "2 0 3 (1, -1, 1)\n",
      "nnn 1 1 3\n",
      "nnn 1 1 3 (1, -1)\n",
      "2 0 3 (1, -1, -1)\n",
      "ppp 1 1 3 (1, -1)\n",
      "3 -1 2 (1, -1, -1)\n",
      "nnn 2 0 2\n",
      "nnn 2 0 2 (1, 1)\n",
      "3 1 2 (1, 1, -1)\n",
      "ppp 2 0 2 (1, 1)\n",
      "4 2 1 (1, 1, -1)\n",
      "mmm 3 1 1\n",
      "2 1 1 (-1, 0, 0)\n",
      "ppp 3 1 1 (-1, 0)\n",
      "1 1 1 (-1, 0, 0)\n",
      "ppp 2 1 1 (-1, 0)\n",
      "0 1 1 (-1, 0, 0)\n",
      "ppp 1 1 1 (-1, 0)\n",
      "-1 1 1 (-1, 0, 0)\n",
      "mmm 0 1 1\n",
      "1 2 1 (1, 1, -1)\n",
      "ppp 0 1 1 (1, 1)\n",
      "2 3 0 (1, 1, -1)\n",
      "nnn 1 2 0\n",
      "nnn 1 2 0 (0, 0)\n",
      "1 2 0 (0, 0, 1)\n",
      "ppp 1 2 0 (0, 0)\n",
      "1 2 1 (0, 0, 1)\n",
      "ppp 1 2 1 (0, 0)\n",
      "1 2 2 (0, 0, 1)\n",
      "ppp 1 2 2 (0, 0)\n",
      "1 2 3 (0, 0, 1)\n",
      "nnn 1 2 3\n",
      "nnn 1 2 3 (1, -1)\n",
      "2 1 3 (1, -1, -1)\n",
      "ppp 1 2 3 (1, -1)\n",
      "3 0 2 (1, -1, -1)\n",
      "ppp 2 1 2 (1, -1)\n",
      "4 -1 1 (1, -1, -1)\n",
      "mmm 3 0 1\n",
      "nnn 3 0 1\n",
      "nnn 3 0 1 (-1, 0)\n",
      "2 0 1 (-1, 0, 0)\n",
      "ppp 3 0 1 (-1, 0)\n",
      "1 0 1 (-1, 0, 0)\n",
      "ppp 2 0 1 (-1, 0)\n",
      "0 0 1 (-1, 0, 0)\n",
      "ppp 1 0 1 (-1, 0)\n",
      "-1 0 1 (-1, 0, 0)\n",
      "mmm 0 0 1\n",
      "1 -1 1 (1, -1, -1)\n",
      "nnn 0 0 1\n",
      "nnn 0 0 1 (1, 1)\n",
      "1 1 1 (1, 1, -1)\n",
      "ppp 0 0 1 (1, 1)\n",
      "2 2 0 (1, 1, -1)\n",
      "nnn 1 1 0\n",
      "nnn 1 1 0 (1, 1)\n",
      "2 2 0 (1, 1, 1)\n",
      "ppp 1 1 0 (1, 1)\n",
      "3 3 1 (1, 1, 1)\n",
      "ppp 2 2 1 (1, 1)\n",
      "4 4 2 (1, 1, 1)\n",
      "mmm 3 3 2\n",
      "nnn 3 3 2\n",
      "nnn 3 3 2 (0, -1)\n",
      "3 2 2 (0, -1, 1)\n",
      "ppp 3 3 2 (0, -1)\n",
      "3 1 3 (0, -1, 1)\n",
      "nnn 3 2 3\n",
      "nnn 3 2 3 (-1, -1)\n",
      "2 1 3 (-1, -1, -1)\n",
      "ppp 3 2 3 (-1, -1)\n",
      "1 0 2 (-1, -1, -1)\n",
      "ppp 2 1 2 (-1, -1)\n",
      "0 -1 1 (-1, -1, -1)\n",
      "nnn 1 0 1\n",
      "nnn 1 0 1 (-1, 1)\n",
      "0 1 1 (-1, 1, -1)\n",
      "ppp 1 0 1 (-1, 1)\n",
      "-1 2 0 (-1, 1, -1)\n",
      "mmm 0 1 0\n",
      "nnn 0 1 0\n",
      "nnn 0 1 0 (1, 1)\n",
      "1 2 0 (1, 1, 1)\n",
      "ppp 0 1 0 (1, 1)\n",
      "2 3 1 (1, 1, 1)\n",
      "ppp 1 2 1 (1, 1)\n",
      "3 4 2 (1, 1, 1)\n",
      "nnn 2 3 2\n",
      "nnn 2 3 2 (1, -1)\n",
      "3 2 2 (1, -1, 0)\n",
      "ppp 2 3 2 (1, -1)\n",
      "4 1 2 (1, -1, 0)\n",
      "mmm 3 2 2\n",
      "2 2 2 (-1, 0, 1)\n",
      "ppp 3 2 2 (-1, 0)\n",
      "1 2 3 (-1, 0, 1)\n",
      "nnn 2 2 3\n",
      "nnn 2 2 3 (-1, 1)\n",
      "1 3 3 (-1, 1, -1)\n",
      "ppp 2 2 3 (-1, 1)\n",
      "0 4 2 (-1, 1, -1)\n",
      "nnn 1 3 2\n",
      "nnn 1 3 2 (-1, -1)\n",
      "0 2 2 (-1, -1, -1)\n",
      "ppp 1 3 2 (-1, -1)\n",
      "-1 1 1 (-1, -1, -1)\n",
      "mmm 0 2 1\n",
      "1 1 1 (1, -1, -1)\n",
      "ppp 0 2 1 (1, -1)\n",
      "2 0 0 (1, -1, -1)\n",
      "nnn 1 1 0\n",
      "nnn 1 1 0 (0, 0)\n",
      "1 1 0 (0, 0, 1)\n",
      "ppp 1 1 0 (0, 0)\n",
      "1 1 1 (0, 0, 1)\n",
      "ppp 1 1 1 (0, 0)\n"
     ]
    }
   ],
   "source": [
    "for a in range(50):\n",
    "    i1, j1, k1 = i+di, j+dj, k+dk\n",
    "    print(i1,j1,k, (di,dj,dk))\n",
    "    edgehit = False\n",
    "    if not (0 <= i1 <= 3):\n",
    "        print(\"mmm\", i,j,k)\n",
    "        di = -di\n",
    "        dj = knock3[dj+1][random.getrandbits(1)]\n",
    "        dk = knock3[dk+1][random.getrandbits(1)]\n",
    "        edgehit = True\n",
    "    if not (0 <= j1 <= 3):\n",
    "        print(\"nnn\", i,j,k)\n",
    "        dj = -dj\n",
    "        di = knock3[di+1][random.getrandbits(1)]\n",
    "        dk = knock3[dk+1][random.getrandbits(1)]\n",
    "        print(\"nnn\", i,j,k, (di, dj))\n",
    "        edgehit = True\n",
    "        \n",
    "    if not (0 <= k1 <= 3):\n",
    "        print(\"nnn\", i,j,k)\n",
    "        dk = -dk\n",
    "        di = knock3[di+1][random.getrandbits(1)]\n",
    "        dj = knock3[dj+1][random.getrandbits(1)]\n",
    "        print(\"nnn\", i,j,k, (di, dj))\n",
    "        edgehit = True\n",
    "\n",
    "    if not edgehit:\n",
    "        print(\"ppp\", i,j,k, (di, dj))\n",
    "        x[g(i,j,k)] = (0,0,10)\n",
    "        i, j, k = i1, j1, k1\n",
    "        x[g(i,j,k)] = (100,0,0)\n",
    "        x.write()\n",
    "        time.sleep(0.2)\n"
   ]
  },
  {
   "cell_type": "code",
   "execution_count": 269,
   "metadata": {},
   "outputs": [
    {
     "name": "stdout",
     "output_type": "stream",
     "text": [
      "\u001b[34mConnecting to --port=/dev/ttyUSB2 --baud=115200 \u001b[0m\n",
      "\u001b[34mReady.\n",
      "\u001b[0m"
     ]
    }
   ],
   "source": [
    "%serialconnect"
   ]
  },
  {
   "cell_type": "code",
   "execution_count": 270,
   "metadata": {},
   "outputs": [
    {
     "name": "stdout",
     "output_type": "stream",
     "text": [
      "[41]\r\n"
     ]
    }
   ],
   "source": [
    "from machine import Pin, I2C\n",
    "\n",
    "i2c = I2C(scl=Pin(5), sda=Pin(4), freq=450000)\n",
    "print(i2c.scan())\n"
   ]
  },
  {
   "cell_type": "code",
   "execution_count": 271,
   "metadata": {},
   "outputs": [
    {
     "name": "stdout",
     "output_type": "stream",
     "text": [
      "['0x29']\n",
      "chipid 0x44\n"
     ]
    }
   ],
   "source": [
    "from machine import Pin, I2C\n",
    "\n",
    "i2c = I2C(scl=Pin(5), sda=Pin(4), freq=450000)\n",
    "print(list(map(hex, i2c.scan())))\n",
    "i2c.writeto_mem(0x29, 0x80, b'\\x03')\n",
    "print(\"chipid\", hex(i2c.readfrom_mem(0x29, 0x92, 1)[0]))\n",
    "\n",
    "#i2c.writeto_mem(0x29, 0x8F, b'\\x00')  # gain of 1x\n",
    "#i2c.writeto_mem(0x29, 0x81, b'\\x00')  # integration time 700ms\n",
    "\n",
    "#i2c.writeto_mem(0x29, 0x8F, b'\\x01')  # gain of 2x\n",
    "#i2c.writeto_mem(0x29, 0x81, b'\\xC0')  # integration time 154ms\n",
    "\n",
    "i2c.writeto_mem(0x29, 0x8F, b'\\x02')  # gain of 4x\n",
    "i2c.writeto_mem(0x29, 0x81, b'\\xEB')  # integration time 50ms\n"
   ]
  },
  {
   "cell_type": "code",
   "execution_count": 188,
   "metadata": {},
   "outputs": [
    {
     "name": "stdout",
     "output_type": "stream",
     "text": [
      "[9, 16, 25]\r\n"
     ]
    }
   ],
   "source": []
  },
  {
   "cell_type": "code",
   "execution_count": 272,
   "metadata": {},
   "outputs": [
    {
     "name": "stdout",
     "output_type": "stream",
     "text": [
      "...............................................................................\n",
      "**[ys] <class 'serial.serialutil.SerialException'>\n",
      "**[ys] read failed: device reports readiness to read but returned no data (device disconnected or multiple access on port?)\n",
      "\n",
      "\n",
      "**[ys] <class 'serial.serialutil.SerialException'>\n",
      "**[ys] read failed: device reports readiness to read but returned no data (device disconnected or multiple access on port?)\n",
      "\n"
     ]
    }
   ],
   "source": [
    "while 1:\n",
    "    c, r, g, b = struct.unpack(\"<HHHH\", i2c.readfrom_mem(0x29, 0x94, 8))\n",
    "    maxbright = 40\n",
    "    col = [min(maxbright, int(v/c*maxbright))  for v in [r,g,b]]\n",
    "    x.fill(col)\n",
    "    x.write()"
   ]
  },
  {
   "cell_type": "code",
   "execution_count": 185,
   "metadata": {},
   "outputs": [
    {
     "name": "stdout",
     "output_type": "stream",
     "text": [
      "(21504, 10160, 15812, 21504)\r\n"
     ]
    }
   ],
   "source": [
    "import struct\n",
    "print(struct.unpack(\"<HHHH\", x))"
   ]
  },
  {
   "cell_type": "code",
   "execution_count": 179,
   "metadata": {},
   "outputs": [
    {
     "name": "stdout",
     "output_type": "stream",
     "text": [
      "bytearray(b':\\x12*\\x08\\x0e\\x076\\x06')\r\n"
     ]
    }
   ],
   "source": [
    "memoryview"
   ]
  }
 ],
 "metadata": {
  "kernelspec": {
   "display_name": "MicroPython - USB",
   "language": "micropython",
   "name": "micropython"
  },
  "language_info": {
   "codemirror_mode": "python",
   "file_extension": ".py",
   "mimetype": "text/python",
   "name": "micropython"
  }
 },
 "nbformat": 4,
 "nbformat_minor": 2
}

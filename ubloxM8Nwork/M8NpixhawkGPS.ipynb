{
 "cells": [
  {
   "cell_type": "code",
   "execution_count": 10,
   "metadata": {},
   "outputs": [
    {
     "name": "stdout",
     "output_type": "stream",
     "text": [
      "serial exception on close write failed: [Errno 5] Input/output error\n",
      "\u001b[34mConnecting to --port=/dev/ttyUSB2 --baud=115200 \u001b[0m\n",
      "\u001b[34mReady.\n",
      "\u001b[0m"
     ]
    }
   ],
   "source": [
    "%serialconnect"
   ]
  },
  {
   "cell_type": "code",
   "execution_count": 2,
   "metadata": {},
   "outputs": [
    {
     "name": "stdout",
     "output_type": "stream",
     "text": [
      "\u001b[32mWriting main_udpstream.py\n",
      "\n",
      "\u001b[0m"
     ]
    }
   ],
   "source": [
    "\n",
    "# do the connectionstuff (remember to put onto hotspot)\n",
    "\n",
    "import network, socket\n",
    "import time, machine\n",
    "\n",
    "pled = machine.Pin(2, machine.Pin.OUT)\n",
    "pboot = machine.Pin(0, machine.Pin.IN)\n",
    "\n",
    "port = 9019\n",
    "sockudp = socket.socket(socket.AF_INET, socket.SOCK_DGRAM)\n",
    "sockudp.settimeout(0.1)\n",
    "\n",
    "wconn, wpass = b'BV6000', b'beckaaaa'\n",
    "si = network.WLAN(network.STA_IF) \n",
    "si.active(True)\n",
    "bwconnexists = bool(l  for l in si.scan()  if l[0] == wconn)\n",
    "si.connect(wconn, wpass)\n",
    "while not si.isconnected():\n",
    "    pled.value(1-pled.value())\n",
    "    time.sleep_ms(100)\n",
    "udpaddr = (\"192.168.43.1\", port)\n",
    "\n",
    "print(si.ifconfig())\n",
    "tudptimeout = 0\n",
    "\n",
    "def dwrite(mess):\n",
    "    try:\n",
    "        sockudp.sendto(mess, udpaddr)\n",
    "    except OSError as e:\n",
    "        print(\"dwrite\", e)\n"
   ]
  },
  {
   "cell_type": "code",
   "execution_count": null,
   "metadata": {},
   "outputs": [],
   "source": []
  },
  {
   "cell_type": "code",
   "execution_count": 3,
   "metadata": {},
   "outputs": [
    {
     "name": "stdout",
     "output_type": "stream",
     "text": [
      "\u001b[32mAppending to main_udpstream.py\n",
      "\n",
      "\u001b[0m"
     ]
    }
   ],
   "source": [
    "\n",
    "import machine, time\n",
    "# Vin=Red, Gnd=Black, RX2=Green, TX2=Yellow\n",
    "# https://randomnerdtutorials.com/esp32-pinout-reference-gpios/\n",
    "uart = machine.UART(1, baudrate=9600, rx=16, tx=17)  # labelled R/TX2\n",
    "time.sleep(1)\n",
    "print(uart.read())\n",
    "\n",
    "\n",
    "\n"
   ]
  },
  {
   "cell_type": "code",
   "execution_count": 9,
   "metadata": {},
   "outputs": [
    {
     "name": "stdout",
     "output_type": "stream",
     "text": [
      "UART(1, baudrate=9600, bits=8, parity=None, stop=1, tx=17, rx=16, rts=-1, cts=-1, txbuf=256, rxbuf=256, timeout=0, timeout_char=2)\n"
     ]
    }
   ],
   "source": [
    "print(uart)"
   ]
  },
  {
   "cell_type": "code",
   "execution_count": 4,
   "metadata": {},
   "outputs": [
    {
     "name": "stdout",
     "output_type": "stream",
     "text": [
      "\u001b[32mAppending to main_udpstream.py\n",
      "\n",
      "\u001b[0m"
     ]
    }
   ],
   "source": [
    "\n",
    "isotimestamp = bytearray(\"2099-99-99T99:99:99.999\")\n",
    "mstampmidnight = 0\n",
    "ord0 = const(48) # ord('0')\n",
    "def SetIsoTimestampFromGps(c1):\n",
    "    global mstampmidnight\n",
    "    for c, i in zip(c1, [11, 12, 14, 15, 17, 18, 20, 20, 21, 22]):\n",
    "        isotimestamp[i] = c\n",
    "    mstampmidnight = sum((c-ord0)*f  for c, f in zip(c1, [10*60*60*1000, 60*60*1000, 10*60*1000, 60*1000, 10*1000, 1000, 0, 100, 10, 1]))  # multiplies out the parts of the timefield\n",
    "    return True \n",
    "\n",
    "def ParseNMEA(lbd):\n",
    "    mstamp = time.ticks_ms()\n",
    "    bd = lbd.split(b\",\")\n",
    "    if bd[0] == b\"$GNRMC\" and bd[2] == b\"A\":\n",
    "        for c, i in zip(bd[9], [8, 9, 5, 6, 2, 3]):\n",
    "            isotimestamp[i] = c\n",
    "        SetIsoTimestampFromGps(bd[1])\n",
    "        latminutes10000 = ((int(bd[3][:2])*60 + int(bd[3][2:4]))*10000 + int(bd[3][5:]))*(1 if bd[4] == b'N' else -1)\n",
    "        lngminutes10000 = ((int(bd[5][:3])*60 + int(bd[5][3:5]))*10000 + int(bd[5][6:]))*(1 if bd[6] == b'E' else -1)\n",
    "        if bd[8]:\n",
    "            veldegrees100 = int(bd[8].replace(b\".\", b\"\"))\n",
    "        #velknots100 = float100parse(recline + recblock[7]); \n",
    "        return b\"D\"  # says do not print\n",
    "    \n",
    "    if bd[0] == b\"$GNGGA\" and bd[6] != b\"0\":\n",
    "        SetIsoTimestampFromGps(bd[1])\n",
    "        latminutes10000 = ((int(bd[2][:2])*60 + int(bd[2][2:4]))*10000 + int(bd[2][5:]))*(1 if bd[3] == b'N' else -1)\n",
    "        lngminutes10000 = ((int(bd[4][:3])*60 + int(bd[4][3:5]))*10000 + int(bd[4][6:]))*(1 if bd[5] == b'E' else -1)\n",
    "        altitude10 = int(bd[9].replace(b\".\", b\"\"))\n",
    "        return \"Qt{:08X}u{:08X}y{:08X}x{:08X}a{:04X}\\n\".format(mstamp, mstampmidnight, latminutes10000&0xFFFFFFFF, lngminutes10000&0xFFFFFFFF, altitude10).encode()\n",
    "\n",
    "    if bd[0] == b\"$GNVTG\" and bd[9] != b\"N\" and bd[1]:\n",
    "        veldegrees100 = int(bd[1].replace(b\".\", b\"\"))\n",
    "        velkph100 = int(bd[7].replace(b\".\", b\"\"))\n",
    "        if veldegrees100 != 0 or velkph100 != 0:\n",
    "            return \"Vt{:08X}v{:04X}d{:06X}\\n\".format(mstamp, velkph100, veldegrees100).encode()\n",
    "        return b\"D\"\n",
    "        \n",
    "    return b\"\"  # says can printpreview\n"
   ]
  },
  {
   "cell_type": "code",
   "execution_count": 5,
   "metadata": {},
   "outputs": [
    {
     "name": "stdout",
     "output_type": "stream",
     "text": [
      "\u001b[32mAppending to main_udpstream.py\n",
      "\n",
      "\u001b[0m"
     ]
    }
   ],
   "source": [
    "\n",
    "for j in uart:\n",
    "    pass\n",
    "sq = [ ]\n",
    "while 1:\n",
    "    j = uart.readline()\n",
    "    if j:\n",
    "        if j[0] == ord('$') or sq:\n",
    "            sq.append(j)\n",
    "        #print(j, sq)\n",
    "        if j[-1] == ord('\\n'):\n",
    "            lbd = b\"\".join(sq)\n",
    "            #print(lbd)\n",
    "            x = ParseNMEA(lbd)\n",
    "            if x and x != b\"D\":\n",
    "                print(x)\n",
    "                dwrite(x)\n",
    "                pled.value(1 - pled.value())\n",
    "            del sq[:]\n"
   ]
  },
  {
   "cell_type": "code",
   "execution_count": null,
   "metadata": {},
   "outputs": [],
   "source": []
  },
  {
   "cell_type": "code",
   "execution_count": 44,
   "metadata": {},
   "outputs": [
    {
     "name": "stdout",
     "output_type": "stream",
     "text": [
      "['0x1e']\n",
      "0x1e\n"
     ]
    }
   ],
   "source": [
    "print([hex(j)  for j in i2c.scan()])\n",
    "print(hex(0x3C >> 1))\n"
   ]
  },
  {
   "cell_type": "code",
   "execution_count": null,
   "metadata": {},
   "outputs": [],
   "source": []
  },
  {
   "cell_type": "code",
   "execution_count": 71,
   "metadata": {},
   "outputs": [
    {
     "name": "stdout",
     "output_type": "stream",
     "text": [
      "."
     ]
    }
   ],
   "source": []
  },
  {
   "cell_type": "code",
   "execution_count": null,
   "metadata": {},
   "outputs": [],
   "source": []
  },
  {
   "cell_type": "code",
   "execution_count": null,
   "metadata": {},
   "outputs": [],
   "source": []
  },
  {
   "cell_type": "code",
   "execution_count": 38,
   "metadata": {},
   "outputs": [],
   "source": [
    "# D22=Orange, D21=Blue\n",
    "from machine import I2C, Pin\n",
    "\n",
    "# i2c = I2C(scl=Pin(15, Pin.OUT, Pin.PULL_UP), sda=Pin(4, Pin.OUT, Pin.PULL_UP), freq=450000)\n",
    "i2c = I2C(scl=Pin(22, Pin.OUT, Pin.PULL_UP), sda=Pin(21, Pin.OUT, Pin.PULL_UP), freq=450000)\n"
   ]
  },
  {
   "cell_type": "code",
   "execution_count": 46,
   "metadata": {},
   "outputs": [],
   "source": [
    "i2c.writeto_mem(0x1e, 0x02, b'\\x00')\n"
   ]
  },
  {
   "cell_type": "code",
   "execution_count": 52,
   "metadata": {},
   "outputs": [
    {
     "name": "stdout",
     "output_type": "stream",
     "text": [
      "(25, 396, -362)\n",
      "(26, 392, -371)\n",
      "(24, 406, -377)\n",
      "(116, 380, -376)\n",
      "(142, 395, -356)\n",
      "(152, 398, -352)\n",
      "(183, 400, -330)\n",
      ".(112, 400, -373)\n",
      "(51, 409, -372)\n",
      "(-1, 402, -371)\n",
      "(-28, 394, -353)\n",
      "(-48, 411, -345)\n",
      "(-9, 394, -357)\n",
      "(11, 389, -370)\n",
      "(4, 404, -364)\n",
      "(45, 414, -368)\n",
      "(63, 398, -372)\n",
      ".(87, 408, -388)\n",
      "(76, 404, -374)\n",
      "(51, 400, -381)\n",
      "(98, 397, -370)\n",
      "(150, 410, -364)\n",
      "(49, 397, -382)\n",
      "(-3, 402, -377)\n",
      "(24, 399, -370)\n",
      "(29, 403, -371)\n",
      "(14, 407, -379)\n",
      ".(14, 404, -382)\n",
      "(22, 407, -369)\n",
      "\u001b[34m\n",
      "\n",
      "*** Sending Ctrl-C\n",
      "\n",
      "\u001b[0m"
     ]
    },
    {
     "name": "stderr",
     "output_type": "stream",
     "text": [
      "Traceback (most recent call last):\n",
      "  File \"<stdin>\", line 5, in <module>\n",
      "KeyboardInterrupt: \n"
     ]
    }
   ],
   "source": [
    "import ustruct\n",
    "for i in range(100):\n",
    "    x = i2c.readfrom_mem(0x1e, 0x03, 6)\n",
    "    print(ustruct.unpack(\">hhh\", x)) \n",
    "    time.sleep(1)"
   ]
  },
  {
   "cell_type": "code",
   "execution_count": null,
   "metadata": {},
   "outputs": [],
   "source": [
    "#\n",
    "# This is best pasted in with a Ctrl-E from picocom  -b115200 /dev/ttyUSB1 \n",
    "# It is used to port-forward the UART1 to USB\n",
    "#\n",
    "from ubxutils import uart, setbaud, readprint\n",
    "\n",
    "setbaud(115200)\n",
    "readprint(200)\n",
    "\n",
    "import sys\n",
    "import _thread\n",
    "import time\n",
    "\n",
    "flog = open(\"ubxlog.txt\", \"wb\")\n",
    "def stdinthread():\n",
    "    x = bytearray(1)\n",
    "    i = 0\n",
    "    while 1:\n",
    "        sys.stdin.readinto(x)\n",
    "        if x[0] == ord(\"x\"):\n",
    "            break\n",
    "        uart.write(x)\n",
    "        \n",
    "        flog.write(x)\n",
    "        i += 1\n",
    "        if (i%10) == 0:\n",
    "            flog.flush()\n",
    "            \n",
    "_thread.start_new_thread(stdinthread, ())\n",
    "while 1:\n",
    "    y = uart.read()\n",
    "    if y:\n",
    "        sys.stdout.write(y)\n",
    "\n"
   ]
  }
 ],
 "metadata": {
  "kernelspec": {
   "display_name": "MicroPython - USB",
   "language": "micropython",
   "name": "micropython"
  },
  "language_info": {
   "codemirror_mode": "python",
   "file_extension": ".py",
   "mimetype": "text/python",
   "name": "micropython"
  }
 },
 "nbformat": 4,
 "nbformat_minor": 2
}

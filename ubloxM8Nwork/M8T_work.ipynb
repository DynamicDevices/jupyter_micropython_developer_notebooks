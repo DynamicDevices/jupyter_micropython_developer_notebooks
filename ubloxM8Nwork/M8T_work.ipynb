{
 "cells": [
  {
   "cell_type": "code",
   "execution_count": 1,
   "metadata": {},
   "outputs": [
    {
     "name": "stdout",
     "output_type": "stream",
     "text": [
      "\u001b[34mConnecting to --port=/dev/ttyUSB1 --baud=115200 \u001b[0m\n",
      "\u001b[34mReady.\n",
      "\u001b[0m"
     ]
    }
   ],
   "source": [
    "%serialconnect"
   ]
  },
  {
   "cell_type": "code",
   "execution_count": 3,
   "metadata": {},
   "outputs": [
    {
     "name": "stdout",
     "output_type": "stream",
     "text": [
      "object <module 'umachine'> is of type module\n",
      "  __name__ -- umachine\n",
      "  mem8 -- <8-bit memory>\n",
      "  mem16 -- <16-bit memory>\n",
      "  mem32 -- <32-bit memory>\n",
      "  freq -- <function>\n",
      "  reset -- <function>\n",
      "  reset_cause -- <function>\n",
      "  unique_id -- <function>\n",
      "  idle -- <function>\n",
      "  sleep -- <function>\n",
      "  deepsleep -- <function>\n",
      "  disable_irq -- <function>\n",
      "  enable_irq -- <function>\n",
      "  time_pulse_us -- <function>\n",
      "  RTC -- <class 'RTC'>\n",
      "  Timer -- <class 'Timer'>\n",
      "  WDT -- <class 'WDT'>\n",
      "  Pin -- <class 'Pin'>\n",
      "  Signal -- <class 'Signal'>\n",
      "  PWM -- <class 'PWM'>\n",
      "  ADC -- <class 'ADC'>\n",
      "  UART -- <class 'UART'>\n",
      "  I2C -- <class 'I2C'>\n",
      "  SPI -- <class 'HSPI'>\n",
      "  DEEPSLEEP -- 4\n",
      "  PWRON_RESET -- 0\n",
      "  HARD_RESET -- 6\n",
      "  DEEPSLEEP_RESET -- 5\n",
      "  WDT_RESET -- 1\n",
      "  SOFT_RESET -- 4\n"
     ]
    }
   ],
   "source": [
    "import machine\n",
    "help(machine)\n",
    "\n"
   ]
  },
  {
   "cell_type": "code",
   "execution_count": 8,
   "metadata": {},
   "outputs": [
    {
     "name": "stdout",
     "output_type": "stream",
     "text": [
      "Sent 53 lines (1445 bytes) to ubxminimal.py.\n"
     ]
    }
   ],
   "source": [
    "%sendtofile --source UDPblackviewphone.py\n",
    "%sendtofile --source ubxminimal.py"
   ]
  },
  {
   "cell_type": "code",
   "execution_count": 9,
   "metadata": {},
   "outputs": [
    {
     "name": "stdout",
     "output_type": "stream",
     "text": [
      "Sent 31 lines (732 bytes) to main.py.\n"
     ]
    }
   ],
   "source": [
    "%sendtofile main.py\n",
    "\n",
    "import time, machine, urandom\n",
    "\n",
    "from ubxminimal import uartUBX, initUBX\n",
    "initUBX()\n",
    "\n",
    "from UDPblackviewphone import dwrite, dwriteUBX\n",
    "\n",
    "ubs = bytearray(\"Ut00000000i00\\n\")\n",
    "mubs = memoryview(ubs)\n",
    "pled = machine.Pin(2, machine.Pin.OUT)\n",
    "prevflushstamp = 0\n",
    "nextledonstamp = 0\n",
    "\n",
    "while True:\n",
    "    tstamp = time.ticks_ms()\n",
    "    if tstamp > nextledonstamp:\n",
    "        pv = (0 if pled.value() else 1)\n",
    "        pled.value(pv)\n",
    "        mubs[2:10] = b\"%08X\" % tstamp\n",
    "        mubs[12] = 48+pv #'0'or'1'\n",
    "        dwrite(ubs)\n",
    "        print(ubs)\n",
    "        nextledonstamp = tstamp + urandom.randint(5000, 10000)//(10 if pv else 1)\n",
    "        \n",
    "    x = uartUBX.read()\n",
    "    if x:\n",
    "        dwriteUBX(x)\n",
    "        print(x[:5])\n",
    "    t1 = time.ticks_ms()\n",
    "    time.sleep_ms(5)\n",
    "    \n"
   ]
  },
  {
   "cell_type": "code",
   "execution_count": 10,
   "metadata": {},
   "outputs": [
    {
     "name": "stdout",
     "output_type": "stream",
     "text": [
      "\u001b[34mattempt to exit paste mode\n",
      "\u001b[0m\u001b[34m[\\r\\x03\\x02] \u001b[0mb'\\r\\nMicroPython v1.10 on 2019-01-25; ESP32 module with ESP32\\r\\nType \"help()\" for more information.\\r\\n>>> '\u001b[34m\n",
      "Closing serial Serial<id=0x7facdc7335f8, open=True>(port='/dev/ttyUSB0', baudrate=115200, bytesize=8, parity='N', stopbits=1, timeout=0.5, xonxoff=False, rtscts=False, dsrdtr=False)\n",
      "\u001b[0m"
     ]
    }
   ],
   "source": [
    "%disconnect"
   ]
  },
  {
   "cell_type": "code",
   "execution_count": null,
   "metadata": {},
   "outputs": [],
   "source": []
  }
 ],
 "metadata": {
  "kernelspec": {
   "display_name": "MicroPython - USB",
   "language": "micropython",
   "name": "micropython"
  },
  "language_info": {
   "codemirror_mode": "python",
   "file_extension": ".py",
   "mimetype": "text/python",
   "name": "micropython"
  }
 },
 "nbformat": 4,
 "nbformat_minor": 2
}

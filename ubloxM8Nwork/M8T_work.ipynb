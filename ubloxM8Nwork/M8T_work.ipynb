{
 "cells": [
  {
   "cell_type": "code",
   "execution_count": 65,
   "metadata": {},
   "outputs": [
    {
     "name": "stdout",
     "output_type": "stream",
     "text": [
      "\u001b[34mConnecting to --port=/dev/ttyUSB1 --baud=115200 \u001b[0m\n",
      "\u001b[34mReady.\n",
      "\u001b[0m"
     ]
    }
   ],
   "source": [
    "%serialconnect"
   ]
  },
  {
   "cell_type": "code",
   "execution_count": 62,
   "metadata": {},
   "outputs": [
    {
     "name": "stdout",
     "output_type": "stream",
     "text": [
      "Sent 53 lines (1442 bytes) to ubxminimal.py.\n"
     ]
    }
   ],
   "source": [
    "%sendtofile --source UDPblackviewphone.py\n",
    "%sendtofile --source ubxminimal.py"
   ]
  },
  {
   "cell_type": "code",
   "execution_count": 66,
   "metadata": {},
   "outputs": [
    {
     "name": "stdout",
     "output_type": "stream",
     "text": [
      "........\n",
      "**[ys] <class 'serial.serialutil.SerialException'>\n",
      "**[ys] read failed: device reports readiness to read but returned no data (device disconnected or multiple access on port?)\n",
      "\n",
      "\n",
      "**[ys] <class 'serial.serialutil.SerialException'>\n",
      "**[ys] read failed: device reports readiness to read but returned no data (device disconnected or multiple access on port?)\n",
      "\n"
     ]
    }
   ],
   "source": [
    "#%sendtofile main.py\n",
    "\n",
    "from ubxminimal import uartUBX, initUBX\n",
    "from UDPblackviewphone import dwrite, dwriteUBX\n",
    "import time, machine, urandom\n",
    "\n",
    "ubs = bytearray(\"Ut00000000i00\\n\")\n",
    "mubs = memoryview(ubs)\n",
    "pled = machine.Pin(2, machine.Pin.OUT)\n",
    "prevflushstamp = 0\n",
    "nextledonstamp = 0\n",
    "\n",
    "while True:\n",
    "    tstamp = time.ticks_ms()\n",
    "    if tstamp > nextledonstamp:\n",
    "        pv = (0 if pled.value() else 1)\n",
    "        pled.value(pv)\n",
    "        mubs[2:10] = b\"%08X\" % tstamp\n",
    "        mubs[12] = 48+pv #'0'or'1'\n",
    "        dwrite(ubs)\n",
    "        nextledonstamp = tstamp + urandom.randint(5000, 10000)//(10 if pv else 1)\n",
    "        \n",
    "    x = uartUBX.read()\n",
    "    if x:\n",
    "        dwriteUBX(x)\n",
    "    t1 = time.ticks_ms()\n",
    "    time.sleep_ms(5)\n",
    "    \n"
   ]
  },
  {
   "cell_type": "code",
   "execution_count": 54,
   "metadata": {},
   "outputs": [
    {
     "name": "stdout",
     "output_type": "stream",
     "text": [
      "object <module 'network'> is of type module\n",
      "  __name__ -- network\n",
      "  __init__ -- <function>\n",
      "  WLAN -- <function>\n",
      "  LAN -- <function>\n",
      "  PPP -- <function>\n",
      "  phy_mode -- <function>\n",
      "  STA_IF -- 0\n",
      "  AP_IF -- 1\n",
      "  MODE_11B -- 1\n",
      "  MODE_11G -- 2\n",
      "  MODE_11N -- 4\n",
      "  AUTH_OPEN -- 0\n",
      "  AUTH_WEP -- 1\n",
      "  AUTH_WPA_PSK -- 2\n",
      "  AUTH_WPA2_PSK -- 3\n",
      "  AUTH_WPA_WPA2_PSK -- 4\n",
      "  AUTH_MAX -- 6\n",
      "  PHY_LAN8720 -- 0\n",
      "  PHY_TLK110 -- 1\n",
      "  STAT_IDLE -- 1000\n",
      "  STAT_CONNECTING -- 1001\n",
      "  STAT_GOT_IP -- 1010\n",
      "  STAT_NO_AP_FOUND -- 201\n",
      "  STAT_WRONG_PASSWORD -- 202\n",
      "  STAT_BEACON_TIMEOUT -- 200\n",
      "  STAT_ASSOC_FAIL -- 203\n",
      "  STAT_HANDSHAKE_TIMEOUT -- 204\n"
     ]
    }
   ],
   "source": [
    "import network\n",
    "help(network)"
   ]
  },
  {
   "cell_type": "code",
   "execution_count": 53,
   "metadata": {},
   "outputs": [
    {
     "name": "stdout",
     "output_type": "stream",
     "text": [
      "b'\\xb5b\\x02\\x15\\x10\\x00\\x00\\x00\\x00\\x00\\x00\\x80\\x92@\\x00\\x00\\x11\\x00\\x00\\x01Y\\x15\\xf9{\\xb5b\\x02\\x15\\x10\\x00\\x00\\x00\\x00\\x00\\x00\\x84\\x92@\\x00\\x00\\x11\\x00\\x00\\x01A\\x19\\xe9{'\n"
     ]
    }
   ],
   "source": [
    "print(uart.read())"
   ]
  },
  {
   "cell_type": "code",
   "execution_count": 46,
   "metadata": {},
   "outputs": [
    {
     "name": "stdout",
     "output_type": "stream",
     "text": [
      "b'\\xb5b\\x02\\x15\\x10\\x00\\x00\\x00\\x00\\x00\\x00\\x90\\x91@\\x00\\x00\\x11\\x00\\x00\\x01\\xf9*\\xbdv'\n",
      ".b'\\xb5b\\x02\\x15\\x10\\x00\\x00\\x00\\x00\\x00\\x00\\x94\\x91@\\x00\\x00\\x11\\x00\\x00\\x01\\xe1.\\xadv'\n",
      "b'\\xb5b\\x02\\x15\\x10\\x00\\x00\\x00\\x00\\x00\\x00\\x98\\x91@\\x00\\x00\\x11\\x00\\x00\\x01\\xc92\\x9dv'\n",
      "b'\\xb5b\\x02\\x15\\x10\\x00\\x00\\x00\\x00\\x00\\x00\\x9c\\x91@\\x00\\x00\\x11\\x00\\x00\\x01\\xb16\\x8dv'\n",
      "b'\\xb5b\\x02\\x15\\x10\\x00\\x00\\x00\\x00\\x00\\x00\\xa0\\x91@\\x00\\x00\\x11\\x00\\x00\\x01\\x99:}v'\n"
     ]
    }
   ],
   "source": [
    "#setbaud(115200)\n",
    "#sendUBX(0x06, 0x01, b\"\\x02\\x15\\x01\")\n",
    "#sendUBX(0x06, 0x01, b\"\\x02\\x13\\x01\")\n",
    "for i in range(5):\n",
    "    print(bytes(next(u)))\n"
   ]
  },
  {
   "cell_type": "code",
   "execution_count": 27,
   "metadata": {},
   "outputs": [
    {
     "name": "stdout",
     "output_type": "stream",
     "text": [
      "expected_ack: b'\\xb5b\\x05\\x01\\x02\\x00\\x06\\x08\\x16?'\n",
      "b'$GNGSA,A,1,,,,,,,,,,,,,99.99,99.99,99.99*2E\\r\\n'\n"
     ]
    }
   ],
   "source": [
    "msgoutputs({\"GLL\":0, \"GSV\":0, \"GSA\":0, \"GGA\":0, \"VTG\":0, \"RMC\":0, \"ZDA\":0}, 1000)\n",
    "print(bytes(next(u)))\n"
   ]
  },
  {
   "cell_type": "code",
   "execution_count": 24,
   "metadata": {},
   "outputs": [
    {
     "name": "stdout",
     "output_type": "stream",
     "text": [
      "(250, 1, 0)\n"
     ]
    }
   ],
   "source": [
    "import ustruct\n",
    "print(ustruct.unpack(\"hhh\", b\"\\xfa\\x00\\x01\\x00\\x00\\x00\"))\n"
   ]
  },
  {
   "cell_type": "code",
   "execution_count": null,
   "metadata": {},
   "outputs": [],
   "source": []
  }
 ],
 "metadata": {
  "kernelspec": {
   "display_name": "MicroPython - USB",
   "language": "micropython",
   "name": "micropython"
  },
  "language_info": {
   "codemirror_mode": "python",
   "file_extension": ".py",
   "mimetype": "text/python",
   "name": "micropython"
  }
 },
 "nbformat": 4,
 "nbformat_minor": 2
}

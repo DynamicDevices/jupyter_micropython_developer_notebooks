{
 "cells": [
  {
   "cell_type": "code",
   "execution_count": 25,
   "metadata": {},
   "outputs": [
    {
     "name": "stdout",
     "output_type": "stream",
     "text": [
      "\u001b[34mConnecting to --port=/dev/ttyUSB1 --baud=115200 \u001b[0m\n",
      "\u001b[34mReady.\n",
      "\u001b[0m"
     ]
    }
   ],
   "source": [
    "%serialconnect"
   ]
  },
  {
   "cell_type": "code",
   "execution_count": 293,
   "metadata": {},
   "outputs": [
    {
     "name": "stdout",
     "output_type": "stream",
     "text": [
      "Sent 103 lines (3478 bytes) to main.py.\n"
     ]
    }
   ],
   "source": [
    "#%sendtofile --source ubxutils.py\n",
    "%sendtofile --source main_udpstream.py main.py"
   ]
  },
  {
   "cell_type": "code",
   "execution_count": 4,
   "metadata": {},
   "outputs": [],
   "source": [
    "# Vin=Red, Gnd=Black, RX2=Green, TX2=Yellow\n",
    "from ubxutils import uart, sendNMEA, sendUBX, setbaud, msgoutputs, uartgen, reboot\n",
    "u = uartgen()\n"
   ]
  },
  {
   "cell_type": "code",
   "execution_count": 5,
   "metadata": {},
   "outputs": [
    {
     "name": "stdout",
     "output_type": "stream",
     "text": [
      "expected_ack: b'\\xb5b\\x05\\x01\\x02\\x00\\x06\\x08\\x16?'\n",
      "expected_ack: b'\\xb5b\\x05\\x01\\x02\\x00\\x06\\x01\\x0f8'\n",
      "b'$GNTXT,01,01,01,More than 100 frame errors, UART RX was disabled*70\\r\\n'\n",
      "b'\\xb5b\\x02\\x15\\x10\\x00^\\xbaI\\x0c\\x02\\x04\\x94@\\x00\\x00\\x12\\x00\\x01\\x01g\\x90yT'\n",
      "b'\\xb5b\\x02\\x15\\x10\\x00+\\x87\\x16\\xd9\\xce\\x04\\x94@\\x00\\x00\\x12\\x00\\x01\\x01/\\x91B\\xe7'\n",
      "b'\\xb5b\\x02\\x15\\x10\\x00\\xf8S\\xe3\\xa5\\x9b\\x05\\x94@\\x00\\x00\\x12\\x00\\x01\\x01\\xf7\\x91\\nt'\n",
      "b'\\xb5b\\x02\\x15\\x10\\x00\\xc5 \\xb0rh\\x06\\x94@\\x00\\x00\\x12\\x00\\x01\\x01\\xbf\\x92\\xd5\\x1e'\n",
      "b'\\xb5b\\x02\\x15\\x10\\x00\\x92\\xed|?5\\x07\\x94@\\x00\\x00\\x12\\x00\\x01\\x01\\x87\\x93\\x9f\\xba'\n",
      "b'\\xb5b\\x02\\x15\\x10\\x00^\\xbaI\\x0c\\x02\\x08\\x94@\\x00\\x00\\x12\\x00\\x01\\x01O\\x94iT'\n",
      "b'\\xb5b\\x02\\x15\\x10\\x00+\\x87\\x16\\xd9\\xce\\x08\\x94@\\x00\\x00\\x12\\x00\\x01\\x01\\x17\\x952\\xe7'\n",
      "b'\\xb5b\\x02\\x15\\x10\\x00\\xf8S\\xe3\\xa5\\x9b\\t\\x94@\\x00\\x00\\x12\\x00\\x01\\x01\\xdf\\x95\\xfat'\n",
      "b'\\xb5b\\x02\\x15\\x10\\x00\\xc5 \\xb0rh\\n\\x94@\\x00\\x00\\x12\\x00\\x01\\x01\\xa7\\x96\\xc5\\x1e'\n",
      "b'\\xb5b\\x02\\x15\\x10\\x00\\x92\\xed|?5\\x0b\\x94@\\x00\\x00\\x12\\x00\\x01\\x01o\\x97\\x8f\\xba'\n",
      "b'\\xb5b\\x02\\x15\\x10\\x00^\\xbaI\\x0c\\x02\\x0c\\x94@\\x00\\x00\\x12\\x00\\x01\\x017\\x98YT'\n"
     ]
    }
   ],
   "source": [
    "msgoutputs({\"GLL\":0, \"GSV\":0, \"GSA\":0, \"GGA\":0, \"VTG\":0, \"RMC\":0}, 1000)\n",
    "sendUBX(0x06, 0x01, b\"\\x01\\x21\\x01\")  # UBX-CFG-MSG [NAV_TIMEUTC, rate]\n",
    "#sendUBX(0x06, 0x01, b\"\\xF1\\x00\\x01\")  # $PUBX,00\n",
    "setbaud(115200)\n",
    "for i in range(12):  print(bytes(next(u)))\n"
   ]
  },
  {
   "cell_type": "code",
   "execution_count": 6,
   "metadata": {},
   "outputs": [
    {
     "name": "stdout",
     "output_type": "stream",
     "text": [
      "expected_ack: b'\\xb5b\\x05\\x01\\x02\\x00\\x06$2['\n",
      "b'\\xb5b\\x02\\x15\\x10\\x00+\\x87\\x16\\xd9\\xce\\x0c\\x94@\\x00\\x00\\x12\\x00\\x01\\x01\\xff\\x98!\\xe6'\n",
      "b'\\xb5b\\x02\\x15\\x10\\x00\\xf8S\\xe3\\xa5\\x9b\\r\\x94@\\x00\\x00\\x12\\x00\\x01\\x01\\xc7\\x99\\xeat'\n",
      "b'\\xb5b\\x02\\x15\\x10\\x00\\xc5 \\xb0rh\\x0e\\x94@\\x00\\x00\\x12\\x00\\x01\\x01\\x8f\\x9a\\xb5\\x1e'\n",
      "b'\\xb5b\\x02\\x15\\x10\\x00\\x92\\xed|?5\\x0f\\x94@\\x00\\x00\\x12\\x00\\x01\\x01W\\x9b\\x7f\\xba'\n",
      "b'\\xb5b\\x02\\x15\\x10\\x00^\\xbaI\\x0c\\x02\\x10\\x94@\\x00\\x00\\x12\\x00\\x01\\x01\\x1f\\x9cIT'\n",
      "b'\\xb5b\\x02\\x15\\x10\\x00+\\x87\\x16\\xd9\\xce\\x10\\x94@\\x00\\x00\\x12\\x00\\x01\\x01\\xe7\\x9c\\x11\\xe6'\n",
      "b'\\xb5b\\x02\\x15\\x10\\x00\\xf8S\\xe3\\xa5\\x9b\\x11\\x94@\\x00\\x00\\x12\\x00\\x01\\x01\\xaf\\x9d\\xdat'\n",
      "b'\\xb5b\\x02\\x15\\x10\\x00\\xc5 \\xb0rh\\x12\\x94@\\x00\\x00\\x12\\x00\\x01\\x01w\\x9e\\xa5\\x1e'\n",
      "b'\\xb5b\\x02\\x15\\x10\\x00\\x92\\xed|?5\\x13\\x94@\\x00\\x00\\x12\\x00\\x01\\x01?\\x9fo\\xba'\n",
      "b'\\xb5b\\x02\\x15\\x10\\x00^\\xbaI\\x0c\\x02\\x14\\x94@\\x00\\x00\\x12\\x00\\x01\\x01\\x07\\xa09T'\n",
      "b'\\xb5b\\x02\\x15\\x10\\x00+\\x87\\x16\\xd9\\xce\\x14\\x94@\\x00\\x00\\x12\\x00\\x01\\x01\\xcf\\xa0\\x01\\xe6'\n",
      "b'\\xb5b\\x02\\x15\\x10\\x00\\xf8S\\xe3\\xa5\\x9bI\\x94@\\x00\\x00\\x12\\x00\\x01\\x01_\\xd4\\xf9s'\n",
      "expected_ack: b'\\xb5b\\x05\\x01\\x02\\x00\\x06\\x17%N'\n",
      "b'\\xb5b\\x05\\x01\\x02\\x00\\x06$2['\n",
      "b'\\xb5b\\x05\\x01\\x02\\x00\\x06\\x17%N'\n",
      "b\"\\xb5b\\x02\\x15\\x10\\x00\\xc5 \\xb0rhJ\\x94@\\x00\\x00\\x12\\x00\\x01\\x01'\\xd5\\xc4\\x1d\"\n",
      "b'\\xb5b\\x02\\x15\\x10\\x00\\x92\\xed|?5K\\x94@\\x00\\x00\\x12\\x00\\x01\\x01\\xef\\xd5\\x8d\\xb8'\n",
      "b'\\xb5b\\x02\\x15\\x10\\x00^\\xbaI\\x0c\\x02L\\x94@\\x00\\x00\\x12\\x00\\x01\\x01\\xb7\\xd6WR'\n",
      "b'\\xb5b\\x02\\x15\\x10\\x00+\\x87\\x16\\xd9\\xceL\\x94@\\x00\\x00\\x12\\x00\\x01\\x01\\x7f\\xd7 \\xe5'\n",
      "b'\\xb5b\\x02\\x15\\x10\\x00\\xf8S\\xe3\\xa5\\x9bM\\x94@\\x00\\x00\\x12\\x00\\x01\\x01G\\xd8\\xe9s'\n",
      "b'\\xb5b\\x02\\x15\\x10\\x00\\xc5 \\xb0rhN\\x94@\\x00\\x00\\x12\\x00\\x01\\x01\\x0f\\xd9\\xb4\\x1d'\n",
      "b'\\xb5b\\x02\\x15\\x10\\x00\\x92\\xed|?5O\\x94@\\x00\\x00\\x12\\x00\\x01\\x01\\xd7\\xd9}\\xb8'\n",
      "b'\\xb5b\\x02\\x15\\x10\\x00^\\xbaI\\x0c\\x02P\\x94@\\x00\\x00\\x12\\x00\\x01\\x01\\x9f\\xdaGR'\n",
      "b'\\xb5b\\x02\\x15\\x10\\x00+\\x87\\x16\\xd9\\xceP\\x94@\\x00\\x00\\x12\\x00\\x01\\x01g\\xdb\\x10\\xe5'\n",
      "b'\\xb5b\\x02\\x15\\x10\\x00\\xf8S\\xe3\\xa5\\x9bQ\\x94@\\x00\\x00\\x12\\x00\\x01\\x01/\\xdc\\xd9s'\n",
      "expected_ack: b'\\xb5b\\x05\\x01\\x02\\x00\\x06>Lu'\n",
      "b'$GPTXT,01,01,02,Resetting GNSS*25\\r\\n'\n",
      "b'\\xb5b\\x05\\x01\\x02\\x00\\x06>Lu'\n",
      "b'\\xb5b\\x02\\x15\\x10\\x00\\x00\\x00\\x00\\x00\\x00\\x00\\x00\\x00\\x00\\x00\\x12\\x00\\x01\\x01\\xb4\\xdd\\xcc\\x8f'\n",
      "b'$GPTXT,01,01,02,ANTSTATUS=INIT*25\\r\\n'\n",
      "b'\\xb5b\\x02\\x15\\x10\\x00\\x9a\\x99\\x99\\x99\\x99\\x99\\xc9?\\x00\\x00\\x12\\x00\\x01\\x01|\\xde4\\xaa'\n",
      "b'\\xb5b\\x02\\x15\\x10\\x00\\x9a\\x99\\x99\\x99\\x99\\x99\\xd9?\\x00\\x00\\x12\\x00\\x01\\x01D\\xdf\\r\\xdb'\n",
      "b'\\xb5b\\x02\\x15\\x10\\x00333333\\xe3?\\x00\\x00\\x12\\x00\\x01\\x01\\x0c\\xe0{z'\n",
      "b'\\xb5b\\x02\\x15\\x10\\x00\\x9a\\x99\\x99\\x99\\x99\\x99\\xe9?\\x00\\x00\\x12\\x00\\x01\\x01\\xd4\\xe0\\xae\\x9c'\n",
      "b'\\xb5b\\x02\\x15\\x10\\x00\\x00\\x00\\x00\\x00\\x00\\x00\\xf0?\\x00\\x00\\x12\\x00\\x01\\x01\\x9c\\xe1\\xe7\\xfa'\n",
      "b'$GPTXT,01,01,02,ANTSTATUS=OK*3B\\r\\n'\n",
      "b'\\xb5b\\x02\\x15\\x10\\x00333333\\xf3?\\x00\\x00\\x12\\x00\\x01\\x01d\\xe2\\xe5\\xcc'\n",
      "b'\\xb5b\\x02\\x15\\x10\\x00gfffff\\xf6?\\x00\\x00\\x12\\x00\\x01\\x01,\\xe3\\xe4\\xae'\n",
      "expected_ack: b'\\xb5b\\x05\\x01\\x02\\x00\\x06\\x08\\x16?'\n",
      "b'\\xb5b\\x05\\x01\\x02\\x00\\x06\\x08\\x16?'\n",
      "b'\\xb5b\\x02\\x15\\x10\\x00\\x9a\\x99\\x99\\x99\\x99\\x99\\xf9?\\x00\\x00\\x12\\x00\\x01\\x01\\xf4\\xe3\\xe1\\x7f'\n",
      "b'\\xb5b\\x02\\x15\\x10\\x00\\xcd\\xcc\\xcc\\xcc\\xcc\\xcc\\xfc?\\x00\\x00\\x12\\x00\\x01\\x01\\xbc\\xe4\\xdfQ'\n",
      "b'\\xb5b\\x02\\x15\\x10\\x00333333\\xff?\\x00\\x00\\x12\\x00\\x01\\x01R\\xe5\\xe2#'\n",
      "b'\\xb5b\\x02\\x15\\x10\\x00\\x9a\\x99\\x99\\x99\\x99\\x99\\x01@\\x00\\x00\\x12\\x00\\x01\\x01L\\xe6E\\x8b'\n",
      "b'\\xb5b\\x02\\x15\\x10\\x00\\x9a\\x99\\x99\\x99\\x99\\x99\\x03@\\x00\\x00\\x12\\x00\\x01\\x01F\\xe7B\\x94'\n",
      "b'\\xb5b\\x02\\x15\\x10\\x00\\x9a\\x99\\x99\\x99\\x99\\x99\\x05@\\x00\\x00\\x12\\x00\\x01\\x01@\\xe8?\\x9d'\n",
      "b'\\xb5b\\x02\\x15\\x10\\x00\\x9a\\x99\\x99\\x99\\x99\\x99\\x07@\\x00\\x00\\x12\\x00\\x01\\x01:\\xe9<\\xa6'\n",
      "b'\\xb5b\\x02\\x15\\x10\\x00\\x9a\\x99\\x99\\x99\\x99\\x99\\t@\\x00\\x00\\x12\\x00\\x01\\x014\\xea9\\xaf'\n",
      "b'\\xb5b\\x02\\x15\\x10\\x00\\x9a\\x99\\x99\\x99\\x99\\x99\\x0b@\\x00\\x00\\x12\\x00\\x01\\x01.\\xeb6\\xb8'\n",
      "b'\\xb5b\\x02\\x15\\x10\\x00\\x9a\\x99\\x99\\x99\\x99\\x99\\r@\\x00\\x00\\x12\\x00\\x01\\x01(\\xec3\\xc1'\n",
      "b'\\xb5b\\x02\\x15\\x10\\x00\\x9a\\x99\\x99\\x99\\x99\\x99\\x0f@\\x00\\x00\\x12\\x00\\x01\\x01\"\\xed0\\xca'\n",
      "expected_ack: b'\\xb5b\\x05\\x01\\x02\\x00\\x06\\x01\\x0f8'\n",
      "b'\\xb5b\\x05\\x01\\x02\\x00\\x06\\x01\\x0f8'\n",
      "b'\\xb5b\\x02\\x15\\x10\\x00\\xcd\\xcc\\xcc\\xcc\\xcc\\xcc\\x10@\\x00\\x00\\x12\\x00\\x01\\x01\\x1c\\xee^\\xec'\n",
      "b'\\xb5b\\x02\\x15\\x10\\x00\\xcd\\xcc\\xcc\\xcc\\xcc\\xcc\\x11@\\x00\\x00\\x12\\x00\\x01\\x01\\x16\\xefZ\\xeb'\n",
      "b'\\xb5b\\x02\\x15\\x10\\x00\\xcd\\xcc\\xcc\\xcc\\xcc\\xcc\\x12@\\x00\\x00\\x12\\x00\\x01\\x01\\x10\\xf0V\\xea'\n",
      "b'\\xb5b\\x02\\x15\\x10\\x00\\xcd\\xcc\\xcc\\xcc\\xcc\\xcc\\x13@\\x00\\x00\\x12\\x00\\x01\\x01\\n\\xf1R\\xe9'\n",
      "b'\\xb5b\\x02\\x15\\x10\\x00\\xcd\\xcc\\xcc\\xcc\\xcc\\xcc\\x14@\\x00\\x00\\x12\\x00\\x01\\x01\\x04\\xf2N\\xe8'\n",
      "b'\\xb5b\\x02\\x15\\x10\\x00\\xcd\\xcc\\xcc\\xcc\\xcc\\xcc\\x15@\\x00\\x00\\x12\\x00\\x01\\x01\\xfe\\xf2I\\xe6'\n",
      "b'\\xb5b\\x02\\x15\\x10\\x00\\xcd\\xcc\\xcc\\xcc\\xcc\\xcc\\x16@\\x00\\x00\\x12\\x00\\x01\\x01\\xf8\\xf3E\\xe5'\n",
      "b'\\xb5b\\x02\\x15\\x10\\x00\\xcd\\xcc\\xcc\\xcc\\xcc\\xcc\\x17@\\x00\\x00\\x12\\x00\\x01\\x01\\xf2\\xf4A\\xe4'\n",
      "b'\\xb5b\\x02\\x15\\x10\\x00\\xcd\\xcc\\xcc\\xcc\\xcc\\xcc\\x18@\\x00\\x00\\x12\\x00\\x01\\x01\\xec\\xf5=\\xe3'\n",
      "b'\\xb5b\\x02\\x15\\x10\\x00\\xcd\\xcc\\xcc\\xcc\\xcc\\xcc\\x19@\\x00\\x00\\x12\\x00\\x01\\x01\\xe6\\xf69\\xe2'\n",
      "b'\\xb5b\\x02\\x15\\x10\\x00\\xcd\\xcc\\xcc\\xcc\\xcc\\xcc\\x1a@\\x00\\x00\\x12\\x00\\x01\\x01\\xe0\\xf75\\xe1'\n",
      "expected_ack: b'\\xb5b\\x05\\x01\\x02\\x00\\x06\\x01\\x0f8'\n",
      "b'\\xb5b\\x05\\x01\\x02\\x00\\x06\\x01\\x0f8'\n",
      "b'\\xb5b\\x02\\x15\\x10\\x00\\xcd\\xcc\\xcc\\xcc\\xcc\\xcc\\x1b@\\x00\\x00\\x12\\x00\\x01\\x01\\xda\\xf81\\xe0'\n",
      "b'\\xb5b\\x02\\x15\\x10\\x00\\xcd\\xcc\\xcc\\xcc\\xcc\\xcc\\x1c@\\x00\\x00\\x12\\x00\\x01\\x01\\xd4\\xf9-\\xdf'\n",
      "b'\\xb5b\\x02\\x15\\x10\\x00\\xcd\\xcc\\xcc\\xcc\\xcc\\xcc\\x1d@\\x00\\x00\\x12\\x00\\x01\\x01\\xce\\xfa)\\xde'\n",
      "b'\\xb5b\\x02\\x15\\x10\\x00\\xcd\\xcc\\xcc\\xcc\\xcc\\xcc\\x1e@\\x00\\x00\\x12\\x00\\x01\\x01\\xc8\\xfb%\\xdd'\n",
      "b'\\xb5b\\x02\\x15\\x10\\x00\\xcd\\xcc\\xcc\\xcc\\xcc\\xcc\\x1f@\\x00\\x00\\x12\\x00\\x01\\x01\\xc2\\xfc!\\xdc'\n",
      "b'\\xb5b\\x02\\x15\\x10\\x00ffffff @\\x00\\x00\\x12\\x00\\x01\\x01\\xbc\\xfd\\xb8\\x85'\n",
      "b'\\xb5b\\x02\\x15\\x10\\x00fffff\\xe6 @\\x00\\x00\\x12\\x00\\x01\\x01\\xb6\\xfe3\\xfa'\n",
      "b'\\xb5b\\x02\\x15\\x10\\x00gfffff!@\\x00\\x00\\x12\\x00\\x01\\x01\\xb0\\xff\\xb0\\x89'\n",
      "b'\\xb5b\\x02\\x15\\x10\\x00gffff\\xe6!@\\x00\\x00\\x12\\x00\\x01\\x01\\xaa\\x00+\\xfe'\n",
      "b'\\xb5b\\x02\\x15\\x10\\x00gfffff\"@\\x00\\x00\\x12\\x00\\x01\\x01\\xa4\\x01\\xa7}'\n",
      "b'\\xb5b\\x02\\x15\\x10\\x00gffff\\xe6\"@\\x00\\x00\\x12\\x00\\x01\\x01\\x9e\\x02\"\\xf2'\n",
      "expected_ack: b'\\xb5b\\x05\\x01\\x02\\x00\\x06\\x01\\x0f8'\n",
      "b'\\xb5b\\x05\\x01\\x02\\x00\\x06\\x01\\x0f8'\n",
      "b'\\xb5b\\x02\\x15\\x10\\x00gfffff#@\\x00\\x00\\x12\\x00\\x01\\x01\\x98\\x03\\x9eq'\n",
      "b'\\xb5b\\x02\\x15\\x10\\x00gffff\\xe6#@\\x00\\x00\\x12\\x00\\x01\\x01\\x92\\x04\\x19\\xe6'\n",
      "b'\\xb5b\\x02\\x15\\x10\\x00gfffff$@\\x00\\x00\\x12\\x00\\x01\\x01\\x8c\\x05\\x95e'\n",
      "b'\\xb5b\\x02\\x15\\x10\\x00gffff\\xe6$@\\x00\\x00\\x12\\x00\\x01\\x01\\x86\\x06\\x10\\xda'\n",
      "b'\\xb5b\\x02\\x15\\x10\\x00gfffff%@\\x00\\x00\\x12\\x00\\x01\\x01\\x80\\x07\\x8cY'\n",
      "b'\\xb5b\\x02\\x15\\x10\\x00gffff\\xe6%@\\x00\\x00\\x12\\x00\\x01\\x01z\\x08\\x07\\xce'\n",
      "b'\\xb5b\\x02\\x15\\x10\\x00gfffff&@\\x00\\x00\\x12\\x00\\x01\\x01t\\t\\x83M'\n",
      "b'\\xb5b\\x02\\x15\\x10\\x00gffff\\xe6&@\\x00\\x00\\x12\\x00\\x01\\x01n\\n\\xfe\\xc2'\n",
      "b\"\\xb5b\\x02\\x15\\x10\\x00gfffff'@\\x00\\x00\\x12\\x00\\x01\\x01h\\x0bzA\"\n",
      "b\"\\xb5b\\x02\\x15\\x10\\x00gffff\\xe6'@\\x00\\x00\\x12\\x00\\x01\\x01b\\x0c\\xf5\\xb6\"\n",
      "b'\\xb5b\\x02\\x15\\x10\\x00gfffff(@\\x00\\x00\\x12\\x00\\x01\\x01\\\\\\rq5'\n"
     ]
    }
   ],
   "source": [
    "# Setup commands from https://github.com/PaulZC/NEO-M8T_GNSS_FeatherWing/blob/a40a0504815cf2055cf6d297de27dd14ec3316c4/Python/NEO-M8T_GNSS_RAWX_Logger.py\n",
    "\n",
    "# May need a M8T or downgrade so we can get the raw 0215 recordss\n",
    "\n",
    "# CFG-NAV5\n",
    "sendUBX(0x06, 0x24, b\"\\xFF\\xFF\\x02\\x03\\x00\\x00\\x00\\x00\\x10\\x27\\x00\\x00\\x05\\x00\\xFA\\x00\\xFA\\x00\\x64\\x00\\x5e\\x01\\x00\\x00\\x00\\x00\\x00\\x00\\x00\\x00\\x03\\x00\\x00\\x00\\x00\\x00\")\n",
    "for i in range(12):  print(bytes(next(u)))\n",
    "\n",
    "# CFG-NMEA extended NMEA protocol configuration V1\n",
    "sendUBX(0x06, 0x17, b\"\\x20\\x40\\x00\\x02\\x00\\x00\\x00\\x00\\x00\\x01\\x01\\x01\\x00\\x00\\x00\\x00\\x00\\x00\\x00\\x00\")\n",
    "for i in range(12):  print(bytes(next(u)))\n",
    "\n",
    "# CFG-GNSS system configuration\n",
    "sendUBX(0x06, 0x3e, b\"\\x00\\x20\\x20\\x07\\x00\\x08\\x10\\x00\\x01\\x00\\x01\\x01\\x01\\x01\\x03\\x00\\x01\\x00\\x01\\x01\\x02\\x04\\x08\\x00\\x01\\x00\\x01\\x01\\x03\\x08\\x10\\x00\\x00\\x00\\x01\\x01\\x04\\x00\\x08\\x00\\x00\\x00\\x01\\x03\\x05\\x00\\x03\\x00\\x00\\x00\\x01\\x05\\x06\\x08\\x0e\\x00\\x01\\x00\\x01\\x01\")\n",
    "for i in range(12):  print(bytes(next(u)))\n",
    "\n",
    "# CFG-RATE \n",
    "sendUBX(0x06, 0x08, b\"\\xfa\\x00\\x01\\x00\\x00\\x00\")\n",
    "for i in range(12):  print(bytes(next(u)))\n",
    "\n",
    "# CFG-MSG set message rate \n",
    "sendUBX(0x06, 0x01, b\"\\x02\\x15\\x01\")\n",
    "for i in range(12):  print(bytes(next(u)))\n",
    "\n",
    "# CFG-MSG set message rate \n",
    "sendUBX(0x06, 0x01, b\"\\x02\\x13\\x01\")\n",
    "for i in range(12):  print(bytes(next(u)))\n",
    "\n",
    "# CFG-MSG set message rate \n",
    "sendUBX(0x06, 0x01, b\"\\x0d\\x03\\x01\")\n",
    "for i in range(12):  print(bytes(next(u)))\n",
    "B5 62 06 01 03 00 01 22 01 2E 87"
   ]
  },
  {
   "cell_type": "code",
   "execution_count": 22,
   "metadata": {},
   "outputs": [
    {
     "name": "stdout",
     "output_type": "stream",
     "text": [
      "expected_ack: b'\\xb5b\\x05\\x01\\x02\\x00\\x06\\x01\\x0f8'\n",
      "b'\\xb5b\\x02\\x15\\x10\\x00\\xfc\\xa9\\xf1\\xd2\\xcd\\x15\\x92@\\x00\\x00\\x12\\x00\\x01\\x01\\xff\\x86\\xdc\\xc4'\n",
      "b'\\xb5b\\x01\"\\x14\\x00\\xd2\\x96f\\x17\\x94e\\n\\x00F\\x00\\x00\\x00\\xe8D\\x8e\\x05\\x8b.\\x00\\x00\\xddY'\n",
      "b'\\xb5b\\x02\\x15\\x10\\x00\\xfc\\xa9\\xf1\\xd2\\xcd\\x16\\x92@\\x00\\x00\\x12\\x00\\x01\\x01\\xf9\\x87\\xd8\\xc4'\n",
      "b'\\xb5b\\x01\"\\x14\\x00\\xcc\\x97f\\x17\\xa3e\\n\\x00E\\x00\\x00\\x00\\xe8D\\x8e\\x05\\x8b.\\x00\\x00\\xe6\\xd8'\n",
      "b'\\xb5b\\x02\\x15\\x10\\x00\\xfc\\xa9\\xf1\\xd2\\xcd\\x17\\x92@\\x00\\x00\\x12\\x00\\x01\\x01\\xf3\\x88\\xd4\\xc4'\n",
      "b'\\xb5b\\x01\"\\x14\\x00\\xc6\\x98f\\x17\\xb2e\\n\\x00E\\x00\\x00\\x00\\xe8D\\x8e\\x05\\x8b.\\x00\\x00\\xf0c'\n",
      "b'\\xb5b\\x02\\x15\\x10\\x00\\xfc\\xa9\\xf1\\xd2\\xcd\\x18\\x92@\\x00\\x00\\x12\\x00\\x01\\x01\\xed\\x89\\xd0\\xc4'\n",
      "b'\\xb5b\\x01\"\\x14\\x00\\xc0\\x99f\\x17\\xc8e\\n\\x00G\\x00\\x00\\x00\\xe8D\\x8e\\x05\\x8b.\\x00\\x00\\x03v'\n",
      "b'\\xb5b\\x02\\x15\\x10\\x00\\xfc\\xa9\\xf1\\xd2\\xcd\\x19\\x92@\\x00\\x00\\x12\\x00\\x01\\x01\\xe7\\x8a\\xcc\\xc4'\n",
      "b'\\xb5b\\x01\"\\x14\\x00\\xba\\x9af\\x17\\xd7e\\n\\x00G\\x00\\x00\\x00\\xe8D\\x8e\\x05\\x8b.\\x00\\x00\\r\\x01'\n",
      "b'\\xb5b\\x02\\x15\\x10\\x00\\xfc\\xa9\\xf1\\xd2\\xcd \\x96@\\x00\\x00\\x12\\x00\\x01\\x01\\xbdy\\x9c\\xd4'\n",
      "b'\\xb5b\\x05\\x01\\x02\\x00\\x06\\x01\\x0f8'\n"
     ]
    }
   ],
   "source": [
    "# CFG-MSG set message rate \n",
    "#sendUBX(0x06, 0x01, b\"\\x01\\x22\\x01\")\n",
    "sendUBX(0x06, 0x01, b\"\\x01\\x30\\x01\")\n",
    "for i in range(12):  print(bytes(next(u)))\n"
   ]
  },
  {
   "cell_type": "code",
   "execution_count": 287,
   "metadata": {},
   "outputs": [
    {
     "name": "stderr",
     "output_type": "stream",
     "text": [
      "Traceback (most recent call last):\n",
      "  File \"<stdin>\", line 1, in <module>\n",
      "OSError: [Errno 22] EINVAL\n"
     ]
    }
   ],
   "source": [
    "fout.flush()"
   ]
  },
  {
   "cell_type": "code",
   "execution_count": 23,
   "metadata": {},
   "outputs": [
    {
     "name": "stdout",
     "output_type": "stream",
     "text": [
      "b'\\xb5b' b'\\x010'\n",
      ".{('0x2', '0x15'), ('0x1', '0x22'), ('0x1', '0x30')}\n"
     ]
    }
   ],
   "source": [
    "k = next(u)\n",
    "print(bytes(k[:2]), bytes(k[2:4]))\n",
    "#for i in range(12):  print(bytes(next(u)))\n",
    "print(set((hex(k[2]), hex(k[3]))  for i, k in zip(range(50), u)  if k[0] == 0xb5))"
   ]
  },
  {
   "cell_type": "code",
   "execution_count": 289,
   "metadata": {},
   "outputs": [
    {
     "name": "stdout",
     "output_type": "stream",
     "text": [
      "609\n",
      ".889\n",
      "1169\n",
      ".1449\n",
      "1729\n",
      "2009\n",
      ".2289\n",
      "2569\n",
      ".2849\n",
      "3129\n",
      "3409\n",
      ".3689\n",
      "3969\n",
      ".4249\n",
      "4529\n",
      "4809\n",
      ".5089\n",
      "5369\n",
      ".5649\n",
      "5929\n",
      "6209\n",
      ".6489\n",
      "6769\n",
      ".7049\n",
      "7329\n",
      "7609\n",
      ".7889\n",
      "8169\n",
      ".8449\n",
      "8729\n",
      "9009\n",
      ".9289\n",
      "9569\n",
      ".9849\n"
     ]
    }
   ],
   "source": [
    "n = 0\n",
    "fout = open(\"test.ubx\", \"wb\")\n",
    "i = 0\n",
    "while n < 10000:\n",
    "    q = uart.read()\n",
    "    if q:\n",
    "        n += len(q)\n",
    "        i += 1\n",
    "        fout.write(q)\n",
    "        if (i%10) == 0:\n",
    "            print(n)\n",
    "            fout.flush()\n",
    "fout.close()\n"
   ]
  },
  {
   "cell_type": "code",
   "execution_count": 285,
   "metadata": {},
   "outputs": [
    {
     "name": "stdout",
     "output_type": "stream",
     "text": [
      "['boot.py', '__main__.py', 'esp32_ulp', 'ubxlog.txt', 'ubxutils.py', 'text.bin']\n"
     ]
    },
    {
     "name": "stderr",
     "output_type": "stream",
     "text": [
      "Traceback (most recent call last):\n",
      "  File \"<stdin>\", line 3, in <module>\n",
      "OSError: [Errno 2] ENOENT\n"
     ]
    }
   ],
   "source": [
    "import os\n",
    "print(os.listdir())\n",
    "f = open(\"test.bin\", \"rb\")\n",
    "print(f.read(100))\n",
    "f.close()"
   ]
  },
  {
   "cell_type": "code",
   "execution_count": 288,
   "metadata": {},
   "outputs": [
    {
     "name": "stdout",
     "output_type": "stream",
     "text": [
      "Fetched 10017=10017 bytes from text.bin.\n",
      "Saving file to 'test.ubx'"
     ]
    }
   ],
   "source": [
    "%fetchfile --binary text.bin test.ubx"
   ]
  },
  {
   "cell_type": "code",
   "execution_count": 259,
   "metadata": {},
   "outputs": [
    {
     "name": "stdout",
     "output_type": "stream",
     "text": [
      "44\n",
      "(774,)\n",
      "{'cmd': 'NAV5', 'reserved1': 3, 'pDop': 100, 'utcStandard': 0, 'reserved2': 774766592, 'tDop': 350, 'minElev': -6, 'fixAltVar': 327680, 'staticHoldThresh': 0, 'dgnssTimeout': 0, 'fixAlt': 655360000, 'mask': 65535, 'tAcc': 0, 'cnoThreshNumSVs': 0, 'staticHoldMaxDist': 0, 'pAcc': 0, 'drLimit': 250, 'dynModel': 6, 'fixMode': 3, 'cnoThresh': 0}\n"
     ]
    }
   ],
   "source": [
    "import ustruct\n",
    "def parseUBX(m):\n",
    "    if m[2] == 0x06 and m[3] == 0x24:\n",
    "        res = dict(zip(\"mask dynModel fixMode fixAlt fixAltVar minElev drLimit pDop tDop pAcc tAcc staticHoldThresh dgnssTimeout cnoThreshNumSVs cnoThresh reserved1 staticHoldMaxDist utcStandard reserved2 reserved3\".split(), \n",
    "                       ustruct.unpack(\"HBBiIbHHHHBBBBHHbbi\", m[6:-2])))\n",
    "        res[\"cmd\"] = \"NAV5\"\n",
    "        return res\n",
    "    return {\"cmd\":bytes(m)}\n",
    "v = b\"\\xB5\\x62\\x06\\x24\\x24\\x00\\xFF\\xFF\\x06\\x03\\x00\\x00\\x00\\x00\\x10\\x27\\x00\\x00\\x05\\x00\\xFA\\x00\\xFA\\x00\\x64\\x00\\x5e\\x01\\x00\\x00\\x00\\x00\\x00\\x00\\x00\\x00\\x03\\x00\\x00\\x00\\x00\\x00..\"\n",
    "print(len(v))\n",
    "m = memoryview(v)\n",
    "print(ustruct.unpack(\"I\", m[6:10]))\n",
    "print(parseUBX(m))\n",
    "\n"
   ]
  },
  {
   "cell_type": "code",
   "execution_count": 274,
   "metadata": {},
   "outputs": [
    {
     "name": "stdout",
     "output_type": "stream",
     "text": [
      "expected_ack: b'\\xb5b\\x05\\x01\\x02\\x00\\x06\\x08\\x16?'\n",
      "b'\\xb5b\\x01!\\x14\\x00B\\xa4\\xaf\\x19(\\x00\\x00\\x00\\xac\\x13\\xe8\\x0e\\xe3\\x07\\x01\\x18\\x17*\\x037?\\xdf'\n",
      "b\"\\xb5b\\x01!\\x14\\x00<\\xa5\\xaf\\x19'\\x00\\x00\\x00\\x11\\xc6\\xce\\x1d\\xe3\\x07\\x01\\x18\\x17*\\x037FZ\"\n",
      "b\"\\xb5b\\x01!\\x14\\x006\\xa6\\xaf\\x19'\\x00\\x00\\x00ux\\xb5,\\xe3\\x07\\x01\\x18\\x17*\\x037M\\xd8\"\n",
      "b'\\xb5b\\x01!\\x14\\x000\\xa7\\xaf\\x19&\\x00\\x00\\x00\\xdb`\\x01\\x00\\xe3\\x07\\x01\\x18\\x17*\\x047\\xb6\\x91'\n",
      "b'\\xb5b\\x01!\\x14\\x00*\\xa8\\xaf\\x19&\\x00\\x00\\x00@\\x13\\xe8\\x0e\\xe3\\x07\\x01\\x18\\x17*\\x047\\xbe\\x1d'\n",
      "b'\\xb5b\\x01!\\x14\\x00$\\xa9\\xaf\\x19&\\x00\\x00\\x00\\xa4\\xc5\\xce\\x1d\\xe3\\x07\\x01\\x18\\x17*\\x047\\xc4\\x91'\n",
      "b'\\xb5b\\x01!\\x14\\x00\\x1e\\xaa\\xaf\\x19_\\x00\\x00\\x00\\x1bx\\xb5,\\xe3\\x07\\x01\\x18\\x17*\\x047\\x18\\x8e'\n",
      "b'\\xb5b\\x01!\\x14\\x00\\x18\\xab\\xaf\\x19O\\x00\\x00\\x00\\x89`\\x01\\x00\\xe3\\x07\\x01\\x18\\x17*\\x057z\\xb7'\n",
      "b'\\xb5b\\x01!\\x14\\x00\\x12\\xac\\xaf\\x19H\\x00\\x00\\x00\\xf4\\x12\\xe8\\x0e\\xe3\\x07\\x01\\x18\\x17*\\x057\\x80\\x10'\n",
      "b'\\xb5b\\x01!\\x14\\x00\\x0c\\xad\\xaf\\x19N\\x00\\x00\\x00b\\xc5\\xce\\x1d\\xe3\\x07\\x01\\x18\\x17*\\x057\\x97g'\n",
      "b'\\xb5b\\x01!\\x14\\x00\\x06\\xae\\xaf\\x19J\\x00\\x00\\x00\\xc2w\\xb5,\\xe3\\x07\\x01\\x18\\x17*\\x057\\x96u'\n",
      "b'\\xb5b\\x05\\x01\\x02\\x00\\x06\\x08\\x16?'\n"
     ]
    }
   ],
   "source": [
    "sendUBX(0x06, 0x08, b\"\\xfa\\x00\\x01\\x00\\x00\\x00\")\n",
    "for i in range(12):  print(bytes(next(u)))\n"
   ]
  },
  {
   "cell_type": "code",
   "execution_count": 261,
   "metadata": {},
   "outputs": [
    {
     "name": "stdout",
     "output_type": "stream",
     "text": [
      "expected_ack: b'\\xb5b\\x05\\x01\\x02\\x00\\x06$2['\n",
      "{'cmd': b'\\xb5b\\x01!\\x14\\x00x\\x07\\x9e\\x19G\\x00\\x00\\x00N\\xb6\\x01\\x00\\xe3\\x07\\x01\\x18\\x17\\x1617Pc'}\n",
      "{'cmd': b'\\xb5b\\x01!\\x14\\x00`\\x0b\\x9e\\x19G\\x00\\x00\\x00\\xe1\\xb5\\x01\\x00\\xe3\\x07\\x01\\x18\\x17\\x1627\\xcf\\xaa'}\n",
      "{'cmd': 'NAV5', 'reserved1': 0, 'pDop': 100, 'utcStandard': 0, 'reserved2': 1014890496, 'tDop': 350, 'minElev': -6, 'fixAltVar': 327680, 'staticHoldThresh': 0, 'dgnssTimeout': 0, 'fixAlt': 655360000, 'mask': 65535, 'tAcc': 0, 'cnoThreshNumSVs': 0, 'staticHoldMaxDist': 0, 'pAcc': 15360, 'drLimit': 250, 'dynModel': 0, 'fixMode': 3, 'cnoThresh': 0}\n",
      "{'cmd': b'\\xb5b\\x05\\x01\\x02\\x00\\x06$2['}\n",
      "{'cmd': b'\\xb5b\\x01!\\x14\\x00\\xe0I\\x9e\\x19H\\x00\\x00\\x00\\x0f\\xaf\\x01\\x00\\xe3\\x07\\x01\\x18\\x17\\x17\\x067\\x8b\\xe5'}\n",
      "{'cmd': b'\\xb5b\\x01!\\x14\\x00\\xc8M\\x9e\\x19H\\x00\\x00\\x00\\xa1\\xae\\x01\\x00\\xe3\\x07\\x01\\x18\\x17\\x17\\x077\\t '}\n",
      "{'cmd': b'\\xb5b\\x01!\\x14\\x00\\xb0Q\\x9e\\x19H\\x00\\x00\\x004\\xae\\x01\\x00\\xe3\\x07\\x01\\x18\\x17\\x17\\x087\\x89r'}\n",
      ".{'cmd': b'\\xb5b\\x01!\\x14\\x00\\x98U\\x9e\\x19H\\x00\\x00\\x00\\xc1\\xad\\x01\\x00\\xe3\\x07\\x01\\x18\\x17\\x17\\t7\\x02q'}\n",
      "{'cmd': b'\\xb5b\\x01!\\x14\\x00\\x80Y\\x9e\\x19H\\x00\\x00\\x00T\\xad\\x01\\x00\\xe3\\x07\\x01\\x18\\x17\\x17\\n7\\x82\\xc3'}\n",
      "{'cmd': b'\\xb5b\\x01!\\x14\\x00h]\\x9e\\x19I\\x00\\x00\\x00\\xe9\\xac\\x01\\x00\\xe3\\x07\\x01\\x18\\x17\\x17\\x0b7\\x042'}\n"
     ]
    }
   ],
   "source": [
    "#sendUBX(0x06, 0x01, b\"\\x03\\x0F\\x00\")  \n",
    "#reboot()\n",
    "sendUBX(0x06, 0x24, b\"\")  # CFG-NAV5 (request)\n",
    "\n",
    "for i in range(20):\n",
    "    m = next(u)\n",
    "    if m[0] == ord(b\"$\"):\n",
    "        pass #print(parseNMEA(bytes(m)))\n",
    "    else:\n",
    "        print(parseUBX(m))\n",
    "#print(uart.read())"
   ]
  },
  {
   "cell_type": "code",
   "execution_count": 206,
   "metadata": {},
   "outputs": [
    {
     "name": "stdout",
     "output_type": "stream",
     "text": [
      "<memoryview>\n"
     ]
    }
   ],
   "source": [
    "k = next(u)\n",
    "print(k)"
   ]
  },
  {
   "cell_type": "code",
   "execution_count": 221,
   "metadata": {},
   "outputs": [
    {
     "name": "stdout",
     "output_type": "stream",
     "text": [
      "['<memoryview>']\n"
     ]
    }
   ],
   "source": [
    "print(str(k[:-5]).split(\",\"))"
   ]
  },
  {
   "cell_type": "code",
   "execution_count": 222,
   "metadata": {},
   "outputs": [],
   "source": [
    "def parseNMEA(lbd):\n",
    "    bd = lbd[:-5].split(b\",\")\n",
    "    if len(bd) > 10 and bd[0] == b\"$PUBX\" and bd[1] == b\"00\":\n",
    "        isotimestamp = bytearray(\"99:99:99.999\")\n",
    "        mstampmidnight = 0\n",
    "        c1 = bd[2]\n",
    "        ord0 = const(48) # ord('0')\n",
    "        for c, i in zip(c1, [11, 12, 14, 15, 17, 18, 20, 20, 21, 22]):\n",
    "            isotimestamp[i-11] = c\n",
    "        mstampmidnight = sum((c-ord0)*f  for c, f in zip(c1, [10*60*60*1000, 60*60*1000, 10*60*1000, 60*1000, 10*1000, 1000, 0, 100, 10, 1]))\n",
    "        res = { \"isotimestamp\":isotimestamp, \"mstampmidnight\":mstampmidnight }\n",
    "        res[\"lat\"] = (int(bd[3][:2]) + float(bd[3][2:])/60)*(1 if bd[4] == b'N' else -1)\n",
    "        res[\"long\"] = (int(bd[5][:3]) + float(bd[5][3:])/60)*(1 if bd[6] == b'E' else -1)\n",
    "        res[\"altRef\"] = float(bd[7])\n",
    "        res[\"navStat\"] = bd[8]  # G3=Stand alone 3D\n",
    "        res[\"hAcc\"], res[\"vAcc\"] = float(bd[9]), float(bd[10])\n",
    "        res[\"SOG\"], res[\"COG\"], res[\"vVel\"] = float(bd[11]), float(bd[12]), float(bd[13]) # velocities\n",
    "        res[\"HDOP\"], res[\"VDOP\"], res[\"TDOP\"] = float(bd[15]), float(bd[16]), float(bd[17])\n",
    "        res[\"numSvs\"] = int(bd[18])\n",
    "        return res\n",
    "    return {\"cmd\":lbd} "
   ]
  },
  {
   "cell_type": "code",
   "execution_count": null,
   "metadata": {},
   "outputs": [],
   "source": []
  },
  {
   "cell_type": "code",
   "execution_count": null,
   "metadata": {},
   "outputs": [],
   "source": [
    "b'$GNTXT,01,01,01,NMEA unknown msg*46\\r\\n'\n",
    "b\"PUBX,40,GSV,0,1,0,0,0,0\"  # enables it for rus1=uart1\n",
    "b\"EIGPQ,RMC\"  # doesn't work (polling talker id)\n"
   ]
  },
  {
   "cell_type": "code",
   "execution_count": 153,
   "metadata": {},
   "outputs": [
    {
     "name": "stdout",
     "output_type": "stream",
     "text": [
      "b'!\\xd2\\x14uMY\\xb14,3,13,26,45,284,,29,63,071,27,31,62,225,27,36,19,137,*74\\r\\n$GPGSV,4,4,13,49,27,167,*43\\r\\n$GLGSV,3,1,10,65,16,345,,66,03,040,,72,09,301,,73,73,308,*62\\r\\n$GLGSV,3,2,10,74,23,314,,80,42,137,,81,06,034,,82,54,048,30*66\\r\\n$GLGSV,3,3,10,83,65,182,,84,10,205,*6D\\r\\n$GNGLL,,,,,202929.00,V,N*56\\r\\n'\n"
     ]
    }
   ],
   "source": [
    "print(uart.read())"
   ]
  },
  {
   "cell_type": "code",
   "execution_count": 145,
   "metadata": {},
   "outputs": [
    {
     "name": "stdout",
     "output_type": "stream",
     "text": [
      "expected_ack: b'\\xb5b\\x05\\x01\\x02\\x00\\x06\\x01\\x0f8'\n"
     ]
    }
   ],
   "source": [
    "#from ubxutils import sendUBX, uart\n",
    "sendUBX(0x06, 0x01, b\"\\x02\\x14\\x00\")  # UBX-CFG-MSG [msgClass=UBX_RXM_MEASX, rate]\n"
   ]
  },
  {
   "cell_type": "code",
   "execution_count": 195,
   "metadata": {},
   "outputs": [
    {
     "name": "stdout",
     "output_type": "stream",
     "text": [
      "expected_ack: b'\\xb5b\\x05\\x01\\x02\\x00\\x06\\x01\\x0f8'\n",
      "b'\\xb5b\\x01!\\x14\\x00\\xd0`j\\x19\\x85\\x00\\x00\\x00\\xf9\\xe5\\x04\\x00\\xe3\\x07\\x01\\x18\\x16\\x1a\\x187\\xd2\\x13'\n",
      "b'\\xb5b\\x01!\\x14\\x00\\xb8dj\\x19\\x7f\\x00\\x00\\x00\\x94\\xe5\\x04\\x00\\xe3\\x07\\x01\\x18\\x16\\x1a\\x197Te'\n",
      "b'\\xb5b\\x01!\\x14\\x00\\xa0hj\\x19y\\x00\\x00\\x00%\\xe5\\x04\\x00\\xe3\\x07\\x01\\x18\\x16\\x1a\\x1a7\\xcc?'\n",
      "b'\\xb5b\\x01!\\x14\\x00\\x88lj\\x19u\\x00\\x00\\x00\\xb7\\xe4\\x04\\x00\\xe3\\x07\\x01\\x18\\x16\\x1a\\x1b7F:'\n",
      "b'\\xb5b\\x01!\\x14\\x00ppj\\x19k\\x00\\x00\\x00>\\xe4\\x04\\x00\\xe3\\x07\\x01\\x18\\x16\\x1a\\x1c7\\xb0\\\\'\n",
      "b'\\xb5b\\x01!\\x14\\x00Xtj\\x19d\\x00\\x00\\x00\\xca\\xe3\\x04\\x00\\xe3\\x07\\x01\\x18\\x16\\x1a\\x1d7!\\xdf'\n",
      "b'\\xb5b\\x01!\\x14\\x00@xj\\x19_\\x00\\x00\\x00\\\\\\xe3\\x04\\x00\\xe3\\x07\\x01\\x18\\x16\\x1a\\x1e7\\x9b\\xd5'\n",
      "b'\\xb5b\\x01!\\x14\\x00(|j\\x19Z\\x00\\x00\\x00\\xea\\xe2\\x04\\x00\\xe3\\x07\\x01\\x18\\x16\\x1a\\x1f7\\x10\\x90'\n",
      "b'\\xb5b\\x05\\x01\\x02\\x00\\x06\\x01\\x0f8'\n",
      "b'\\xb5b\\x01!\\x14\\x00\\x10\\x80j\\x19V\\x00\\x00\\x00y\\xe2\\x04\\x00\\xe3\\x07\\x01\\x18\\x16\\x1a 7\\x88r'\n"
     ]
    }
   ],
   "source": [
    "msgoutputs({\"GLL\":0, \"GSV\":0, \"GSA\":0, \"GGA\":0, \"VTG\":0, \"RMC\":0}, 1100*0)\n",
    "#sendUBX(0x06, 0x01, b\"\\x02\\x14\\x00\")  # UBX-CFG-MSG [msgClass=UBX_RXM_MEASX, rate]\n",
    "sendUBX(0x06, 0x01, b\"\\x01\\x21\\x01\")  # UBX-CFG-MSG [NAV_TIMEUTC, rate]\n",
    "for i in range(10):\n",
    "    print(bytes(next(u)))"
   ]
  },
  {
   "cell_type": "code",
   "execution_count": 225,
   "metadata": {},
   "outputs": [
    {
     "name": "stdout",
     "output_type": "stream",
     "text": [
      "expected_ack: b'\\xb5b\\x05\\x01\\x02\\x00\\x06\\x01\\x0f8'\n",
      "b'\\xb5b\\x01!\\x14\\x00\\xf0<}\\x19\\xe9\\x00\\x00\\x00I`\\x05\\x00\\xe3\\x07\\x01\\x18\\x16/\\x007\\x0e\\x9f'\n",
      "{'hAcc': 114.0, 'COG': 305.75, 'vVel': -0.449, 'VDOP': 15.35, 'TDOP': 9.54, 'numSvs': 4, 'mstampmidnight': 82020000, 'lat': 54.64027, 'navStat': b'NF', 'isotimestamp': bytearray(b'22:47:00.009'), 'SOG': 2.995, 'HDOP': 12.59, 'vAcc': 130.0, 'long': -5.815726, 'altRef': 105.163}\n",
      "b'\\xb5b\\x01!\\x14\\x00\\xd8@}\\x19\\xea\\x00\\x00\\x00\\xcf_\\x05\\x00\\xe3\\x07\\x01\\x18\\x16/\\x017\\x81Z'\n",
      "b'\\xb5b\\x05\\x01\\x02\\x00\\x06\\x01\\x0f8'\n",
      "b'\\xb5b\\x01!\\x14\\x000\\xd9}\\x19\\xbd\\x00\\x00\\x00\\x80N\\x05\\x00\\xe3\\x07\\x01\\x18\\x16/(7\\x0c\\xa4'\n",
      "{'hAcc': 98.0, 'COG': 215.74, 'vVel': 0.0, 'VDOP': 1.0, 'TDOP': 4.59, 'numSvs': 3, 'mstampmidnight': 82060000, 'lat': 54.64012, 'navStat': b'NF', 'isotimestamp': bytearray(b'22:47:40.009'), 'SOG': 2.259, 'HDOP': 7.76, 'vAcc': 262.0, 'long': -5.815426, 'altRef': 99.165}\n",
      "b'\\xb5b\\x01!\\x14\\x00\\x18\\xdd}\\x19\\xb9\\x00\\x00\\x00\\x10N\\x05\\x00\\xe3\\x07\\x01\\x18\\x16/)7\\x85\\x92'\n",
      "{'hAcc': 96.0, 'COG': 215.74, 'vVel': 0.0, 'VDOP': 1.0, 'TDOP': 4.59, 'numSvs': 3, 'mstampmidnight': 82061000, 'lat': 54.64012, 'navStat': b'NF', 'isotimestamp': bytearray(b'22:47:41.009'), 'SOG': 2.27, 'HDOP': 7.76, 'vAcc': 262.0, 'long': -5.815461, 'altRef': 100.814}\n",
      "b'\\xb5b\\x01!\\x14\\x00\\x00\\xe1}\\x19\\xb6\\x00\\x00\\x00\\x95M\\x05\\x00\\xe3\\x07\\x01\\x18\\x16/*7\\xf3\\x01'\n",
      "{'hAcc': 94.00001, 'COG': 215.74, 'vVel': 0.0, 'VDOP': 1.0, 'TDOP': 4.59, 'numSvs': 3, 'mstampmidnight': 82062000, 'lat': 54.64012, 'navStat': b'NF', 'isotimestamp': bytearray(b'22:47:42.009'), 'SOG': 2.26, 'HDOP': 7.75, 'vAcc': 261.0, 'long': -5.815412, 'altRef': 101.118}\n"
     ]
    }
   ],
   "source": [
    "#setbaud(115200)\n",
    "#sendUBX(0x06, 0x01, b\"\\x01\\x21\\x01\")  # UBX-CFG-MSG [NAV_TIMEUTC, rate]\n",
    "#readprint(200)\n",
    "sendUBX(0x06, 0x01, b\"\\xF1\\x00\\x01\")  # $PUBX,00\n",
    "\n",
    "for i in range(10):\n",
    "    m = next(u)\n",
    "    if m[0] == ord(b\"$\"):\n",
    "        print(parseNMEA(bytes(m)))\n",
    "    else:\n",
    "        print(bytes(m))\n"
   ]
  },
  {
   "cell_type": "code",
   "execution_count": null,
   "metadata": {},
   "outputs": [],
   "source": []
  },
  {
   "cell_type": "code",
   "execution_count": null,
   "metadata": {},
   "outputs": [],
   "source": []
  },
  {
   "cell_type": "code",
   "execution_count": 56,
   "metadata": {},
   "outputs": [
    {
     "name": "stdout",
     "output_type": "stream",
     "text": [
      "expected_ack: b'\\xb5b\\x05\\x01\\x02\\x00\\x06\\x01\\x0f8'\n",
      "None\n"
     ]
    }
   ],
   "source": [
    "sendUBX(0x06, 0x01, b\"\\x01\\x21\\x00\")  # UBX-CFG-MSG [NAV_TIMEUTC, rate]\n",
    "print(uart.read())"
   ]
  },
  {
   "cell_type": "code",
   "execution_count": 77,
   "metadata": {},
   "outputs": [
    {
     "name": "stdout",
     "output_type": "stream",
     "text": [
      "expected_ack: b'\\xb5b\\x05\\x01\\x02\\x00\\x06\\x01\\x0f8'\n",
      "b'\\xb5b\\x05\\x01\\x02\\x00\\x06\\x01\\x0f8'\n"
     ]
    }
   ],
   "source": [
    "# 33<=x<=96\n",
    "from ubxutils import uart, setbaud, readprint\n",
    "\n",
    "sendUBX(0x06, 0x01, b\"\\x01\\x21\\x01\")  # UBX-CFG-MSG [NAV_TIMEUTC, rate]\n",
    "readprint(200)\n"
   ]
  },
  {
   "cell_type": "code",
   "execution_count": null,
   "metadata": {},
   "outputs": [],
   "source": [
    "#dev.configure_message_rate(ublox.CLASS_NAV, ublox.MSG_NAV_POSLLH, 1)\n",
    "sendUBX(0x06, 0x01, b\"\\x01\\x02\\x01\")  # UBX-CFG-MSG [msgClass, msgID, rate]\n",
    "# UBX-CFG-NAV5\n"
   ]
  },
  {
   "cell_type": "code",
   "execution_count": 192,
   "metadata": {},
   "outputs": [
    {
     "name": "stdout",
     "output_type": "stream",
     "text": [
      "expected_ack: b'\\xb5b\\x05\\x01\\x02\\x00\\x06\\x00\\x0e7'\n",
      "b'$GNRMC,234223.60,A,5438.45289,N,00548.97155,W,0.405,,220119,,,A*7A\\r\\n$GNRMC,234224.70,A,5438.45207,N,00548.97176,W,0.823,,220119,,,A*73\\r\\n$GNRMC,234225.80,A,5438.45171,N,00548.97167,W,0.638,,220119,,,A*7B\\r\\n$GNRMC,234226.90,A,5438.44429,N,00548.96751,W,1.079,,220119,,,A*70\\r\\n235.70,A,5438.43507,N,00548.96159,W,0.795,,220119,,,A*7C\\r\\n$GNRMC,234236.80,A,5438.43511,N,00548.96078,W,0.467,,220119,,,A*7B\\r\\n'\n",
      "b'\\xb5b\\x06\\x00\\x14\\x00\\x01\\x00\\x00\\x00\\xc0\\x08\\x00\\x00\\x00\\x96\\x00\\x00\\x07\\x00\\x03\\x00\\x00\\x00\\x00\\x00\\x83\\x90\\xb5b\\x05\\x01\\x02\\x00\\x06\\x00\\x0e7'\n",
      "b'$GNRMC,234237.90,A,5438.43377,N,00548.96049,W,0.370,,220119,,,A*7E\\r\\n'\n",
      "b'$GNRMC,234239.00,A,5438.43360,N,00548.96079,W,0.082,,220119,,,A*72\\r\\n'\n",
      "b'$GNRMC,234240.10,A,5438.43350,N,00548.96036,W,0.091,,220119,,,A*77\\r\\n'\n",
      ".b'$GNRMC,234241.20,A,5438.43382,N,00548.96001,W,0.393,,220119,,,A*7F\\r\\n'\n",
      "b'$GNRMC,234242.30,A,5438.43393,N,00548.95968,W,0.676,,220119,,,A*76\\r\\n'\n"
     ]
    }
   ],
   "source": [
    "# check the state of UBX-CFG-PRT\n",
    "sendUBX(0x06, 0x00, b\"\\x01\")  # UBX-CFG-PRT [portID=1=UART1]\n",
    "readprint(600)\n",
    "\n",
    "x = b'\\xb5b\\x06\\x00\\x14\\x00\\x01\\x00\\x00\\x00\\xc0\\x08\\x00\\x00\\x00\\x96\\x00\\x00\\x07\\x00\\x03\\x00\\x00\\x00\\x00\\x00\\x83\\x90'\n",
    "print([hex(c)  for c in x])\n",
    "print(len(['0x1', '0x0', '0x0', '0x0', '0xc0', '0x8', '0x0', '0x0', '0x0', '0x96', '0x0', '0x0', '0x7', '0x0', '0x3', '0x0', '0x0', '0x0', '0x0', '0x0']))\n",
    "print(ustruct.unpack(\"<BBHIIHHHH\", b\"\\x01\\x00\\x00\\x00\\xc0\\x08\\x00\\x00\\x00\\x96\\x00\\x00\\x07\\x00\\x03\\x00\\x00\\x00\\x00\\x00\"))\n",
    "# portID, reserved1, txReady, mode, baudrate, inProtoMask, outProtoMask, flags, reserved2\n",
    "mode = 2240\n",
    "print(\"charLen\", (mode>>6)&0x03, \"parity\", (mode>>9)&0x07, \"nStopBits\", (mode>>11)&0x03)\n"
   ]
  },
  {
   "cell_type": "code",
   "execution_count": 241,
   "metadata": {},
   "outputs": [
    {
     "name": "stdout",
     "output_type": "stream",
     "text": [
      "expected_ack: b'\\xb5b\\x05\\x01\\x02\\x00\\x06\\x01\\x0f8'\n",
      "b'\\xb5b\\x01!\\x14\\x00@9\\xa4\\x0fW\\x00\\x00\\x00q\\x10\\xab/\\xe3\\x07\\x01\\x17\\x005\\x167\\x98\\x0e$GNRMC,005322.80,A,5438.42223,N,00548.96267,W,0.757,,230119,,,A*75\\r\\n\\xb5b\\x01!\\x14\\x00\\x8c=\\xa4\\x0fW\\x00\\x00\\x00\\x01\\xf1\\xa05\\xe3\\x07\\x01\\x17\\x005\\x177U\\x7f$GNRMC,005323.90,A,5438.42182,N,00548.96243,W,0.980,,230119,,,A*7F\\r\\n\\xb5b\\x01!\\x14\\x00\\xd8A\\xa4\\x0fW\\x00\\x00\\x00\\x93\\x07\\xfc\\xff\\xe3\\x07\\x01\\x17\\x005\\x197u;$GNRMC,005325.00,A,5438.42167,N,00548.96284,W,0.991,,230119,,,A*70\\r\\nW,0.108,,230119,,,A*77\\r\\n'\n",
      "b'\\xb5b\\x05\\x01\\x02\\x00\\x06\\x01\\x0f8'\n",
      "b'\\xb5b\\x01!\\x14\\x00hu\\xa4\\x0fW\\x00\\x00\\x00X\\xc4\\xe7\\x0b\\xe3\\x07\\x01\\x17\\x005&7\\xbff$GNRMC,005338.20,A,5438.42232,N,00548.96406,W,0.117,,230119,,,A*77\\r\\n'\n",
      ".b\"\\xb5b\\x01!\\x14\\x00\\xb4y\\xa4\\x0fW\\x00\\x00\\x00\\xeb\\xa4\\xdd\\x11\\xe3\\x07\\x01\\x17\\x005'7\\x7f\\xfa$GNRMC,005339.30,A,5438.42224,N,00548.96458,W,0.283,,230119,,,A*75\\r\\n\"\n",
      "b'\\xb5b\\x01!\\x14\\x00\\x00~\\xa4\\x0fW\\x00\\x00\\x00\\x7f\\x85\\xd3\\x17\\xe3\\x07\\x01\\x17\\x005(7B\\xb8$GNRMC,005340.40,A,5438.42149,N,00548.96480,W,0.410,,230119,,,A*7D\\r\\n'\n",
      "b'\\xb5b\\x01!\\x14\\x00L\\x82\\xa4\\x0fW\\x00\\x00\\x00\\x15f\\xc9\\x1d\\xe3\\x07\\x01\\x17\\x005)7\\x06{$GNRMC,005341.50,A,5438.42104,N,00548.96592,W,0.371,,230119,,,A*76\\r\\n'\n",
      "b'\\xb5b\\x01!\\x14\\x00\\x98\\x86\\xa4\\x0fW\\x00\\x00\\x00\\xa6F\\xbf#\\xe3\\x07\\x01\\x17\\x005*7\\xc4\\xf7$GNRMC,005342.60,A,5438.42055,N,00548.96536,W,0.783,,230119,,,A*74\\r\\n'\n",
      "b\"\\xb5b\\x01!\\x14\\x00\\xe4\\x8a\\xa4\\x0fW\\x00\\x00\\x008'\\xb5)\\xe3\\x07\\x01\\x17\\x005+7\\x84\\x8a$GNRMC,005343.70,A,5438.41993,N,00548.96536,W,1.194,,230119,,,A*75\\r\\n\"\n"
     ]
    }
   ],
   "source": [
    "sendUBX(0x06, 0x01, b\"\\xF1\\x00\\x01\")  # UBX-CFG-MSG [msgClass, msgID=$PUBX, rate]\n",
    "readprint(600)\n"
   ]
  },
  {
   "cell_type": "code",
   "execution_count": 203,
   "metadata": {},
   "outputs": [
    {
     "name": "stdout",
     "output_type": "stream",
     "text": [
      "[b'$PUBX', b'00', b'000824.50', b'5438.42213', b'N', b'00548.96878', b'W', b'100.986', b'G3', b'21', b'17', b'1.857', b'158.04', b'-0.018', b'', b'2.42', b'2.31', b'2.12', b'7', b'0', b'0*52\\r\\n']\n",
      "bytearray(b'T00:08:24.509') 54.64037 -5.816146 100.986 21.0 17.0 1.857 158.04 -0.018 2.42 2.31 2.12 7\n"
     ]
    }
   ],
   "source": [
    "isotimestamp = bytearray(\"2099-99-99T99:99:99.999\")\n",
    "mstampmidnight = 0\n",
    "ord0 = const(48) # ord('0')\n",
    "def SetIsoTimestampFromGps(c1):\n",
    "    global mstampmidnight\n",
    "    for c, i in zip(c1, [11, 12, 14, 15, 17, 18, 20, 20, 21, 22]):\n",
    "        isotimestamp[i] = c\n",
    "    mstampmidnight = sum((c-ord0)*f  for c, f in zip(c1, [10*60*60*1000, 60*60*1000, 10*60*1000, 60*1000, 10*1000, 1000, 0, 100, 10, 1]))  # multiplies out the parts of the timefield\n",
    "    return True \n",
    "\n",
    "#def ParsePUBX(lbd):\n",
    "lbd = b\"$PUBX,00,000824.50,5438.42213,N,00548.96878,W,100.986,G3,21,17,1.857,158.04,-0.018,,2.42,2.31,2.12,7,0,0*52\\r\\n\"\n",
    "bd = lbd.split(b\",\")\n",
    "print(bd)\n",
    "if bd[0] == b\"$PUBX\":\n",
    "    SetIsoTimestampFromGps(bd[2])\n",
    "    lat = (int(bd[3][:2]) + float(bd[3][2:])/60)*(1 if bd[4] == b'N' else -1)\n",
    "    long = (int(bd[5][:3]) + float(bd[5][3:])/60)*(1 if bd[6] == b'E' else -1)\n",
    "    altRef = float(bd[7])\n",
    "    navStat = bd[8]  # G3=Stand alone 3D\n",
    "    hAcc, vAcc = float(bd[9]), float(bd[10])\n",
    "    SOG, COG, vVel = float(bd[11]), float(bd[12]), float(bd[13]) # velocities\n",
    "    HDOP, VDOP, TDOP = float(bd[15]), float(bd[16]), float(bd[17])\n",
    "    numSvs = int(bd[18])\n",
    "print(isotimestamp[10:], lat, long, altRef, hAcc, vAcc, SOG, COG, vVel, HDOP, VDOP, TDOP, numSvs)\n"
   ]
  },
  {
   "cell_type": "code",
   "execution_count": 239,
   "metadata": {},
   "outputs": [
    {
     "name": "stdout",
     "output_type": "stream",
     "text": [
      "['0xb5', '0x62', '0x1', '0x21', '0x14', '0x0'] 20\n",
      "(261198700, 53, 699864047, 2019, 1, 23, 0, 33, 0, 55)\n",
      "3.023133 days since start of week\n"
     ]
    }
   ],
   "source": [
    "#sendUBX(0x06, 0x01, b\"\\x01\\x21\\x01\")  # UBX-CFG-MSG [NAV_TIMEUTC, rate]\n",
    "x = b'\\xb5b\\x01!\\x14\\x00l\\x93\\x91\\x0f5\\x00\\x00\\x00\\xef\\x13\\xb7)\\xe3\\x07\\x01\\x17\\x00!\\x007F\\x99'\n",
    "print([hex(c)  for c in x[:6]], len(x[6:-2]))\n",
    "print(ustruct.unpack(\"<IIiHBBBBBB\", x[6:-2]))\n",
    "#['iTOW', 'tAcc', 'nano', 'year', 'month', 'day', 'hour', 'min', 'sec', 'valid']),\n",
    "print(261198700/1000/3600/24, \"days since start of week\") # bottom 3 digits are top 3 of nanos"
   ]
  },
  {
   "cell_type": "code",
   "execution_count": 254,
   "metadata": {},
   "outputs": [
    {
     "name": "stdout",
     "output_type": "stream",
     "text": [
      "240\n"
     ]
    }
   ],
   "source": [
    "print(0x011c-44)"
   ]
  },
  {
   "cell_type": "code",
   "execution_count": 2,
   "metadata": {},
   "outputs": [
    {
     "name": "stdout",
     "output_type": "stream",
     "text": [
      "Fetched 160=160 bytes from ubxlog.txt.\n",
      "Saving file to 'ubxlog.txt'"
     ]
    }
   ],
   "source": [
    "%serialconnect\n",
    "%fetchfile --binary ubxlog.txt"
   ]
  },
  {
   "cell_type": "code",
   "execution_count": 264,
   "metadata": {},
   "outputs": [
    {
     "name": "stdout",
     "output_type": "stream",
     "text": [
      "expected_ack: b'\\xb5b\\x05\\x01\\x02\\x00\\x06\\x01\\x0f8'\n",
      "b'$GNRMC,011722.70,A,5438.40483,N,00548.97902,W,0.586,,230119,,,A*72\\r\\n$GNRMC,011723.80,A,5438.40502,N,00548.97866,W,0.395,,230119,,,A*73\\r\\n$GNRMC,011724.90,A,5438.40495,N,00548.97845,W,0.580,,230119,,,A*79\\r\\n$GNRMC,011726.00,A,5438.40543,N,00548.97758,W,0.153,,230119,,,A*71\\r\\n'\n",
      "b'\\xb5b\\x05\\x01\\x02\\x00\\x06\\x01\\x0f8'\n",
      "b'$GNRMC,011727.10,A,5438.40552,N,00548.97763,W,0.190,,230119,,,A*76\\r\\n'\n",
      "b'$GNRMC,011728.20,A,5438.40549,N,00548.97759,W,0.106,,230119,,,A*76\\r\\n'\n",
      ".b'$GNRMC,011729.30,A,5438.40527,N,00548.97777,W,0.548,,230119,,,A*7C\\r\\n'\n",
      "b'$GNRMC,011730.40,A,5438.40514,N,00548.97788,W,0.546,,230119,,,A*7D\\r\\n'\n",
      "b'$GNRMC,011731.50,A,5438.40538,N,00548.97780,W,0.384,,230119,,,A*73\\r\\n'\n"
     ]
    }
   ],
   "source": [
    "#sendUBX(0x06, 0x01, b\"\\x02\\x14\\x00\")  # UBX-CFG-MSG [msgClass=UBX_RXM_MEASX, rate]\n",
    "sendUBX(0x06, 0x01, b\"\\x02\\x15\\x01\")  # UBX-CFG-MSG [msgClass=UBX_RXM_RAWX, rate] disallowed\n",
    "#sendUBX(0x06, 0x01, b\"\\x02\\x13\\x00\")  # UBX-CFG-MSG [msgClass=UBX_RXM_RAWX, rate]\n",
    "readprint(600)\n",
    "#    (CLASS_NAV, MSG_NAV_TIMEUTC): UBloxDescriptor('NAV_TIMEUTC',\n",
    "#                                                  '<IIiHBBBBBB',\n",
    "#['iTOW', 'tAcc', 'nano', 'year', 'month', 'day', 'hour', 'min', 'sec', 'valid']),\n",
    "\n",
    "# From RTKLIB  !UBX CFG-MSG 2 21 0 0 0 1 0 0 = 0x02, 0x15 = RXM-RAWX\n",
    "#              !UBX CFG-MSG 2 19 0 0 0 1 0 0 = 0x02, 0x13 = RXM-SFRBX\n"
   ]
  },
  {
   "cell_type": "code",
   "execution_count": 300,
   "metadata": {},
   "outputs": [
    {
     "name": "stdout",
     "output_type": "stream",
     "text": [
      "expected_ack: b'\\xb5b\\x05\\x01\\x02\\x00\\x06\\x01\\x0f8'\n",
      "b'$GNRMC,020124.90,A,5438.41048,N,00548.96216,W,0.163,,230119,,,A*7C\\r\\n$GNRMC,020126.00,A,5438.41012,N,00548.96238,W,0.377,,230119,,,A*73\\r\\n'\n",
      "b'\\xb5b\\x05\\x01\\x02\\x00\\x06\\x01\\x0f8'\n",
      "b'$GNRMC,020127.10,A,5438.40994,N,00548.96203,W,0.450,,230119,,,A*7F\\r\\n'\n",
      ".b'$GNRMC,020128.20,A,5438.40954,N,00548.96125,W,0.324,,230119,,,A*7C\\r\\n'\n",
      "b'$GNRMC,020129.30,A,5438.40956,N,00548.96040,W,0.123,,230119,,,A*79\\r\\n'\n",
      "b'$GNRMC,020130.40,A,5438.40931,N,00548.96016,W,0.144,,230119,,,A*75\\r\\n'\n",
      "b'$GNRMC,020131.50,A,5438.40945,N,00548.96054,W,0.198,,230119,,,A*71\\r\\n'\n"
     ]
    }
   ],
   "source": [
    "#from https://rtklibexplorer.wordpress.com/2016/02/03/collecting-raw-gps-data-with-rtklib/\n",
    "#!UBX CFG-MSG 3 15 0 1 0 1 0 0\n",
    "#!UBX CFG-MSG 3 16 0 1 0 1 0 0   \n",
    "#!UBX CFG-MSG 1 32 0 1 0 1 0 0   NAV_TIMEGPS\n",
    "#sendUBX(0x06, 0x01, b\"\\x03\\x0F\\x00\")  # unknown (produces 0x27 0x00 n=52)\n",
    "#sendUBX(0x06, 0x01, b\"\\x03\\x10\\x00\")  # unknown (produces 0x27 0x00 n=1716)\n",
    "sendUBX(0x06, 0x01, b\"\\x03\\x0F\\x00\")  \n",
    "readprint(600)\n",
    "# Trying to see the parser here: https://github.com/rtklibexplorer/RTKLIB/blob/demo5/src/rcv/ublox.c#L1215"
   ]
  },
  {
   "cell_type": "code",
   "execution_count": 287,
   "metadata": {},
   "outputs": [
    {
     "name": "stdout",
     "output_type": "stream",
     "text": [
      "['0xb5', '0x62', '0x27', '0x0', '0x34', '0x0', '0x2', '0x0'] 52\n"
     ]
    }
   ],
   "source": [
    "x = b\"\\xb5b'\\x004\\x00\\x02\\x00%\\x00\\x03A{\\xa1g\\xfd\\\\\\xdc8]\\x85qW\\x1a\\xcd\\x15\\x83\\xcf\\x1a\\x1f]\\x9c<\\xd0\\xd8e\\xa4-\\xf4\\x8a\\xf7\\x07\\x83F\\xc1\\xa11w<\\xd0xY\\xa4uW\\x8am\\x05\\x92\\xcc\"\n",
    "print([hex(c)  for c in x[:8]], 0x34)"
   ]
  },
  {
   "cell_type": "code",
   "execution_count": 290,
   "metadata": {},
   "outputs": [
    {
     "name": "stdout",
     "output_type": "stream",
     "text": [
      "0x27 0 1716 98\n"
     ]
    }
   ],
   "source": [
    "print(hex(ord(\"'\")), 0x00, 0x06b4, 0x62)"
   ]
  },
  {
   "cell_type": "code",
   "execution_count": 15,
   "metadata": {},
   "outputs": [
    {
     "name": "stdout",
     "output_type": "stream",
     "text": [
      ".b'$GNTXT,01,01,02,HW UBX-M8030 00080000*60\\r\\n'\n",
      "b'$GNTXT,01,01,02,EXT CORE 3.01 (107900)*33\\r\\n'\n",
      "b'$GNTXT,01,01,02,ROM BASE 3.01 (107888)*25\\r\\n'\n",
      "b'$GNTXT,01,01,02,FWVER=SPG 3.01*46\\r\\n'\n",
      "b'$GNTXT,01,01,02,PROTVER=18.00*11\\r\\n'\n",
      "b'$GNTXT,01,01,02,MOD=NEO-M8N-0*67\\r\\n'\n",
      "b'$GNTXT,01,01,02,FIS=0xEF4015 (100111)*58\\r\\n'\n",
      "b'$GNTXT,01,01,02,GPS;GLO;GAL;BDS*77\\r\\n'\n",
      "b'$GNTXT,01,01,02,SBAS;IMES;QZSS*49\\r\\n'\n",
      "b'$GNTXT,01,01,02,GNSS OTP=GPS;GLO*37\\r\\n'\n",
      "b'$GNTXT,01,01,02,LLC=FFFFFFFF-FFFFFFED-FFFFFFFF-FFFFFFFF-FFFFFF69*23\\r\\n'\n",
      "b'$GNTXT,01,01,02,ANTSUPERV=AC SD PDoS SR*3E\\r\\n'\n",
      "b'$GNTXT,01,01,02,ANTSTATUS=DONTKNOW*2D\\r\\n'\n",
      "b'$GNTXT,01,01,02,PF=3FF*4B\\r\\n'\n",
      "b'$GNTXT,01,01,02,ANTSTATUS=INIT*3B\\r\\n'\n",
      "b'$GNTXT,01,01,02,ANTSTATUS=OK*25\\r\\n'\n",
      ".\u001b[34m\n",
      "\n",
      "*** Sending Ctrl-C\n",
      "\n",
      "\u001b[0m"
     ]
    },
    {
     "name": "stderr",
     "output_type": "stream",
     "text": [
      "Traceback (most recent call last):\n",
      "  File \"<stdin>\", line 2, in <module>\n",
      "  File \"<stdin>\", line 16, in m8lines\n",
      "KeyboardInterrupt: \n"
     ]
    }
   ],
   "source": [
    "while 1:\n",
    "    x = next(m8)\n",
    "    if x[:6] == b\"$GNTXT\":\n",
    "        print(x)"
   ]
  },
  {
   "cell_type": "code",
   "execution_count": 70,
   "metadata": {},
   "outputs": [
    {
     "name": "stdout",
     "output_type": "stream",
     "text": [
      "32755712\n"
     ]
    }
   ],
   "source": [
    "lbs = b'$GNRMC,151201.00,A,5435.57123,N,00556.44155,W,0.345,,220119,,,A*73\\r\\n'\n",
    "bd = lbs.split(b\",\")\n",
    "latminutes10000 = ((int(bd[3][:2])*60 + int(bd[3][2:4]))*10000 + int(bd[3][5:9]))*(1 if bd[4] == b'N' else -1)\n",
    "print(latminutes10000)"
   ]
  },
  {
   "cell_type": "code",
   "execution_count": 7,
   "metadata": {},
   "outputs": [
    {
     "name": "stderr",
     "output_type": "stream",
     "text": [
      "Traceback (most recent call last):\n",
      "  File \"<stdin>\", line 1, in <module>\n",
      "NameError: name 'm8' isn't defined\n"
     ]
    }
   ],
   "source": [
    "print(next(m8))\n"
   ]
  },
  {
   "cell_type": "code",
   "execution_count": 16,
   "metadata": {},
   "outputs": [],
   "source": [
    "b'$GNTXT,01,01,02,u-blox AG - www.u-blox.com*4E\\r\\n'\n",
    "b'$GNTXT,01,01,02,HW UBX-M8030 00080000*60\\r\\n'\n",
    "b'$GNTXT,01,01,02,EXT CORE 3.01 (107900)*33\\r\\n'\n",
    "b'$GNTXT,01,01,02,ROM BASE 3.01 (107888)*25\\r\\n'\n",
    "b'$GNTXT,01,01,02,FWVER=SPG 3.01*46\\r\\n'\n",
    "b'$GNTXT,01,01,02,PROTVER=18.00*11\\r\\n'\n",
    "b'$GNTXT,01,01,02,MOD=NEO-M8N-0*67\\r\\n'\n",
    "b'$GNTXT,01,01,02,FIS=0xEF4015 (100111)*58\\r\\n'\n",
    "b'$GNTXT,01,01,02,GPS;GLO;GAL;BDS*77\\r\\n'\n",
    "b'$GNTXT,01,01,02,SBAS;IMES;QZSS*49\\r\\n'\n",
    "b'$GNTXT,01,01,02,GNSS OTP=GPS;GLO*37\\r\\n'\n",
    "b'$GNTXT,01,01,02,LLC=FFFFFFFF-FFFFFFED-FFFFFFFF-FFFFFFFF-FFFFFF69*23\\r\\n'\n",
    "b'$GNTXT,01,01,02,ANTSUPERV=AC SD PDoS SR*3E\\r\\n'\n",
    "b'$GNTXT,01,01,02,ANTSTATUS=DONTKNOW*2D\\r\\n'\n",
    "b'$GNTXT,01,01,02,PF=3FF*4B\\r\\n'\n",
    "b'$GNTXT,01,01,02,ANTSTATUS=INIT*3B\\r\\n'\n",
    "b'$GNTXT,01,01,02,ANTSTATUS=OK*25\\r\\n'"
   ]
  },
  {
   "cell_type": "code",
   "execution_count": null,
   "metadata": {},
   "outputs": [],
   "source": [
    "# Make "
   ]
  }
 ],
 "metadata": {
  "kernelspec": {
   "display_name": "MicroPython - USB",
   "language": "micropython",
   "name": "micropython"
  },
  "language_info": {
   "codemirror_mode": "python",
   "file_extension": ".py",
   "mimetype": "text/python",
   "name": "micropython"
  }
 },
 "nbformat": 4,
 "nbformat_minor": 2
}

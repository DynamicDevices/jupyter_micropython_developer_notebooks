{
 "cells": [
  {
   "cell_type": "code",
   "execution_count": 49,
   "metadata": {},
   "outputs": [
    {
     "name": "stdout",
     "output_type": "stream",
     "text": [
      "\u001b[34mConnecting to --port=/dev/ttyUSB1 --baud=115200 \u001b[0m\n",
      "\u001b[34mReady.\n",
      "\u001b[0m"
     ]
    }
   ],
   "source": [
    "%serialconnect"
   ]
  },
  {
   "cell_type": "code",
   "execution_count": 50,
   "metadata": {
    "collapsed": true
   },
   "outputs": [],
   "source": [
    "from machine import Pin\n",
    "pup = Pin(12, Pin.OUT)\n",
    "pdown = Pin(13, Pin.OUT)\n"
   ]
  },
  {
   "cell_type": "code",
   "execution_count": 62,
   "metadata": {
    "collapsed": true
   },
   "outputs": [],
   "source": [
    "pdown.value(0)"
   ]
  },
  {
   "cell_type": "code",
   "execution_count": 41,
   "metadata": {},
   "outputs": [
    {
     "name": "stdout",
     "output_type": "stream",
     "text": [
      "repl is in normal command mode\n",
      "[\\r\\x03\\x03] b'\\r\\nMicroPython v1.9.4-631-g338635ccc on 2018-10-11; ESP32 module with ESP32\\r\\nType \"help()\" for more information.\\r\\n>>> \\r\\n>>> \\r\\nPYB: soft reboot\\r\\nOSError: [Errno 2] ENOENT\\r\\nMicroPython v1.9.4-631-g338635ccc on 2018-10-11; ESP32 module with ESP32\\r\\nType \"help()\" for more information.\\r\\n>>> \\r\\n>>> \\r\\n>>> '\n",
      "[\\r\\x01] b'\\r\\n>>> \\r\\nraw REPL; CTRL-B to exit\\r\\n>'"
     ]
    }
   ],
   "source": [
    "%rebootdevice"
   ]
  },
  {
   "cell_type": "code",
   "execution_count": 63,
   "metadata": {},
   "outputs": [
    {
     "name": "stdout",
     "output_type": "stream",
     "text": [
      "Sent 638 lines (23042 bytes) to mqtt_as.py.\n"
     ]
    }
   ],
   "source": [
    "# This requires you to checkout https://github.com/micropython/micropython-lib and avoids the upip\n",
    "%sendtofile --mkdir --source /home/julian/extrepositories/micropython-lib/uasyncio/uasyncio/__init__.py lib/uasyncio/\n",
    "%sendtofile --mkdir --source /home/julian/extrepositories/micropython-lib/uasyncio.core/uasyncio/core.py lib/uasyncio/\n",
    "%sendtofile --mkdir --source /home/julian/extrepositories/micropython-lib/uasyncio.queues/uasyncio/queues.py lib/uasyncio/\n",
    "%sendtofile --mkdir --source /home/julian/extrepositories/micropython-lib/uasyncio.synchro/uasyncio/synchro.py lib/uasyncio/\n",
    "\n",
    "# This requires you to checkout https://github.com/peterhinch/micropython-async\n",
    "%sendtofile --source /home/julian/extrepositories/micropython-async/asyn.py\n",
    "%sendtofile --source /home/julian/extrepositories/micropython-async/aswitch.py\n",
    "\n",
    "# This requires you to checkout https://github.com/peterhinch/micropython-mqtt/tree/master/mqtt_as\n",
    "%sendtofile --source /home/julian/extrepositories/micropython-mqtt/mqtt_as/mqtt_as.py"
   ]
  },
  {
   "cell_type": "code",
   "execution_count": 64,
   "metadata": {},
   "outputs": [
    {
     "name": "stdout",
     "output_type": "stream",
     "text": [
      "Sent 9 lines (258 bytes) to lconfig.py.\n"
     ]
    }
   ],
   "source": [
    "# Set up the wifi connection\n",
    "%sendtofile lconfig.py\n",
    "\n",
    "from mqtt_as import config, ESP32\n",
    "\n",
    "# Include any cross-project settings.\n",
    "mqttlocal = \"10.0.31.119\"\n",
    "\n",
    "if ESP32:\n",
    "    config['ssid'] = 'DoESLiverpool'  # EDIT if you're using ESP32\n",
    "    config['wifi_pw'] = 'decafbad00'\n",
    "    config['mqttchannel'] = \"garageshutter\"\n"
   ]
  },
  {
   "cell_type": "code",
   "execution_count": 48,
   "metadata": {},
   "outputs": [
    {
     "name": "stdout",
     "output_type": "stream",
     "text": [
      "\u001b[34mConnecting to --port=/dev/ttyUSB1 --baud=115200 \u001b[0m\n",
      "\u001b[31m[Timed out waiting for recognizable response]\n",
      "\u001b[0m\u001b[31mDisconnecting [paste mode not working]\n",
      "\u001b[0m\u001b[34m  (You may need to reset the device)\u001b[0m"
     ]
    }
   ],
   "source": [
    "%serialconnect"
   ]
  },
  {
   "cell_type": "code",
   "execution_count": 65,
   "metadata": {},
   "outputs": [
    {
     "name": "stdout",
     "output_type": "stream",
     "text": [
      "Sent 69 lines (1940 bytes) to main.py.\n"
     ]
    }
   ],
   "source": [
    "%sendtofile main.py\n",
    "\n",
    "from mqtt_as import MQTTClient\n",
    "from lconfig import config, mqttlocal\n",
    "import uasyncio as asyncio\n",
    "import asyn\n",
    "import os\n",
    "from machine import Pin\n",
    "\n",
    "# The callback has to be a normal function, but we can create an async task from within it using aloop\n",
    "def callback(topic, msg):\n",
    "    aloop.create_task(acallback(topic, msg))\n",
    "\n",
    "async def conn_han(client):\n",
    "    print(\"subscribing\", (mqttchannel+'/code'))\n",
    "    await client.subscribe(mqttchannel+'/code', 1)\n",
    "\n",
    "config['subs_cb'] = callback\n",
    "config['connect_coro'] = conn_han\n",
    "config['server'] = mqttlocal\n",
    "\n",
    "MQTTClient.DEBUG = True  # Optional: print diagnostic messages\n",
    "client = MQTTClient(config)\n",
    "aloop = asyncio.get_event_loop()\n",
    "\n",
    "mqttchannel = config[\"mqttchannel\"]\n",
    "#client, aloop = None, None\n",
    "\n",
    "p12 = Pin(12, Pin.OUT)\n",
    "p13 = Pin(13, Pin.OUT)\n",
    "\n",
    "@asyn.cancellable\n",
    "async def setloop(pin, secs):\n",
    "    try:\n",
    "        await client.publish(mqttchannel+'/setval', str(pin)+\"=1\")\n",
    "        pin.value(1)\n",
    "        await asyn.sleep(secs)\n",
    "        await client.publish(mqttchannel+'/setval', str(pin)+\"=0\")\n",
    "        pin.value(0)\n",
    "    except Exception as e:\n",
    "        pin.value(0)\n",
    "        await client.publish(mqttchannel+'/rec', 'error '+str(e))\n",
    "\n",
    "        \n",
    "async def acallback(topic, msg):\n",
    "    print((topic, msg))\n",
    "    await asyn.Cancellable.cancel_all()  # stop any threads already waiting\n",
    "    p12.value(0); p13.value(0)   # just in case\n",
    "    vmsg = msg.split()\n",
    "    try:\n",
    "        secs = float(vmsg[1])\n",
    "    except:\n",
    "        secs = 1.0\n",
    "    pin = p13 if vmsg[0].lower() == b\"up\" else p12\n",
    "    await client.publish(mqttchannel+'/rec', str(pin)+\" secs=\"+str(secs))\n",
    "    aloop.create_task(asyn.Cancellable(setloop, pin, secs)())\n",
    "\n",
    "    \n",
    "async def main(client):\n",
    "    await client.connect()\n",
    "    n = 0\n",
    "    while True:\n",
    "        await asyncio.sleep(5)\n",
    "        await client.publish(mqttchannel+'/beat', '{}'.format(n), qos = 1)\n",
    "        n += 1\n",
    "\n",
    "try:\n",
    "    aloop.run_until_complete(main(client))\n",
    "finally:\n",
    "    client.close()  # Prevent LmacRxBlk:1 errors\n",
    "    "
   ]
  },
  {
   "cell_type": "code",
   "execution_count": null,
   "metadata": {
    "collapsed": true
   },
   "outputs": [],
   "source": [
    "# To control the doors:\n",
    "# mosquitto_pub  -h mqtt.local -t \"garageshutter/code\" -m \"down 0.9\"\n",
    "# mosquitto_pub  -h mqtt.local -t \"garageshutter/code\" -m \"up 0.9\"\n"
   ]
  }
 ],
 "metadata": {
  "kernelspec": {
   "display_name": "MicroPython - USB",
   "language": "micropython",
   "name": "micropython"
  },
  "language_info": {
   "codemirror_mode": "python",
   "file_extension": ".py",
   "mimetype": "text/python",
   "name": "micropython"
  }
 },
 "nbformat": 4,
 "nbformat_minor": 2
}

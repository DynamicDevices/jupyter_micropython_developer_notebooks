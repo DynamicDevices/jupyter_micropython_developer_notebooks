{
 "cells": [
  {
   "cell_type": "markdown",
   "metadata": {},
   "source": [
    "### MQTT Scriptlets\n",
    "\n",
    "Short segments of setup/loop python will be delivered through MQTT and then executed \n",
    "in a system that is managing its external work using the async system, so that it can \n",
    "restart or handle incoming or outgoing MQTT messages.\n",
    "\n",
    "This will be the ultimate in microcontroller configurability and remote operations based \n",
    "on a standard install.\n",
    "\n",
    "The async MQTT project is at https://github.com/peterhinch/micropython-mqtt/tree/master/mqtt_as\n",
    "\n",
    "Command line code for handling MQTT\n",
    "* mosquitto_sub  -v -h mqtt.local -t \"scriptlet1/#\"\n",
    "* mosquitto_pub  -h mqtt.local -t \"scriptlet1/code\" -m \"gothere=999\""
   ]
  },
  {
   "cell_type": "code",
   "execution_count": 2,
   "metadata": {},
   "outputs": [
    {
     "name": "stdout",
     "output_type": "stream",
     "text": [
      "\u001b[34mConnecting to --port=/dev/ttyUSB0 --baud=115200 \u001b[0m\n",
      "\u001b[34mReady.\n",
      "\u001b[0m"
     ]
    }
   ],
   "source": [
    "%serialconnect"
   ]
  },
  {
   "cell_type": "code",
   "execution_count": 278,
   "metadata": {},
   "outputs": [
    {
     "name": "stdout",
     "output_type": "stream",
     "text": [
      "Sent 28 lines (846 bytes) to lib/uasyncio/synchro.py.\n"
     ]
    }
   ],
   "source": [
    "# This requires you to checkout https://github.com/micropython/micropython-lib and avoids the upip\n",
    "%sendtofile --mkdir --source /home/julian/extrepositories/micropython-lib/uasyncio/uasyncio/__init__.py lib/uasyncio/\n",
    "%sendtofile --mkdir --source /home/julian/extrepositories/micropython-lib/uasyncio.core/uasyncio/core.py lib/uasyncio/\n",
    "%sendtofile --mkdir --source /home/julian/extrepositories/micropython-lib/uasyncio.queues/uasyncio/queues.py lib/uasyncio/\n",
    "%sendtofile --mkdir --source /home/julian/extrepositories/micropython-lib/uasyncio.synchro/uasyncio/synchro.py lib/uasyncio/\n"
   ]
  },
  {
   "cell_type": "code",
   "execution_count": 279,
   "metadata": {},
   "outputs": [
    {
     "name": "stdout",
     "output_type": "stream",
     "text": [
      "Sent 188 lines (7484 bytes) to aswitch.py.\n"
     ]
    }
   ],
   "source": [
    "# This requires you to checkout https://github.com/peterhinch/micropython-async\n",
    "%sendtofile --source /home/julian/extrepositories/micropython-async/asyn.py\n",
    "%sendtofile --source /home/julian/extrepositories/micropython-async/aswitch.py"
   ]
  },
  {
   "cell_type": "code",
   "execution_count": 280,
   "metadata": {},
   "outputs": [
    {
     "name": "stdout",
     "output_type": "stream",
     "text": [
      "Sent 638 lines (23042 bytes) to mqtt_as.py.\n"
     ]
    }
   ],
   "source": [
    "# This requires you to checkout https://github.com/peterhinch/micropython-mqtt/tree/master/mqtt_as\n",
    "%sendtofile --source /home/julian/extrepositories/micropython-mqtt/mqtt_as/mqtt_as.py"
   ]
  },
  {
   "cell_type": "code",
   "execution_count": null,
   "metadata": {
    "collapsed": true
   },
   "outputs": [],
   "source": [
    "%sendtofile --source sevensegmentdisplay.py"
   ]
  },
  {
   "cell_type": "code",
   "execution_count": 281,
   "metadata": {},
   "outputs": [
    {
     "name": "stdout",
     "output_type": "stream",
     "text": [
      "Sent 8 lines (228 bytes) to config.py.\n"
     ]
    }
   ],
   "source": [
    "# Set up the wifi connection\n",
    "%sendtofile config.py\n",
    "\n",
    "from mqtt_as import config, ESP32\n",
    "\n",
    "# Include any cross-project settings.\n",
    "\n",
    "if ESP32:\n",
    "    config['ssid'] = 'DoESLiverpool'  # EDIT if you're using ESP32\n",
    "    config['wifi_pw'] = 'decafbad00'\n",
    "    config['mqttchannel'] = \"scriptlet1\""
   ]
  },
  {
   "cell_type": "code",
   "execution_count": 85,
   "metadata": {},
   "outputs": [
    {
     "name": "stdout",
     "output_type": "stream",
     "text": [
      "\u001b[34mConnecting to --port=/dev/ttyUSB0 --baud=115200 \u001b[0m\n",
      "\u001b[34mReady.\n",
      "\u001b[0m"
     ]
    }
   ],
   "source": [
    "%serialconnect"
   ]
  },
  {
   "cell_type": "code",
   "execution_count": 282,
   "metadata": {},
   "outputs": [
    {
     "name": "stdout",
     "output_type": "stream",
     "text": [
      "Sent 7 lines (91 bytes) to scriptlet.py.\n"
     ]
    }
   ],
   "source": [
    "%sendtofile scriptlet.py\n",
    "\n",
    "@asyn.cancellable\n",
    "async def setup():\n",
    "    pass\n",
    "\n",
    "@asyn.cancellable\n",
    "async def loop():\n",
    "    pass"
   ]
  },
  {
   "cell_type": "code",
   "execution_count": 284,
   "metadata": {},
   "outputs": [
    {
     "name": "stdout",
     "output_type": "stream",
     "text": [
      "Sent 110 lines (3280 bytes) to main.py.\n"
     ]
    }
   ],
   "source": [
    "#%sendtofile main.py\n",
    "\n",
    "from mqtt_as import MQTTClient\n",
    "from config import config\n",
    "import uasyncio as asyncio\n",
    "import asyn\n",
    "import os\n",
    "\n",
    "SERVER = \"10.0.29.167\"  # mqtt.local\n",
    "mqttchannel = config[\"mqttchannel\"]\n",
    "client, aloop = None, None\n",
    "\n",
    "# should we carry on with previous copy?\n",
    "# We'd then have to call it\n",
    "#execfile(\"scriptlet.py\")  \n",
    "\n",
    "# This is the MQTT batching code with headers 001/006]\n",
    "slsegment = -1\n",
    "slsegmentN = -1\n",
    "def appendtoscriptletfile(msg):\n",
    "    global slsegment, slsegmentN\n",
    "    if len(msg) > 8 and msg[7] == ord(\"]\"):\n",
    "        if slsegment == -1:\n",
    "            if int(msg[:3]) != 1:\n",
    "                print(\"Bad\", msg[:8])\n",
    "                client.publish(mqttchannel+'/bad', msg[:8])\n",
    "                return False\n",
    "            slsegmentN = int(msg[4:7])\n",
    "            slsegment = 1\n",
    "            fin = open(\"scriptlet_NEW.py\", \"wb\")\n",
    "            fin.write(msg[8:])\n",
    "            fin.close()\n",
    "        elif int(msg[:3]) != slsegment+1 or slsegmentN != int(msg[4:7]):\n",
    "            slsegment = -1\n",
    "            print(\"Bad\", msg[:8])\n",
    "            client.publish(mqttchannel+'/bad', msg[:8])\n",
    "            return False\n",
    "        else:\n",
    "            slsegment += 1\n",
    "            fin = open(\"scriptlet_NEW.py\", \"ab\")\n",
    "            fin.write(msg[8:])\n",
    "            fin.close()\n",
    "            \n",
    "        if slsegment != slsegmentN:\n",
    "            return False\n",
    "            \n",
    "    else:  # Non-chunked case\n",
    "        fin = open(\"scriptlet_NEW.py\", \"a\")\n",
    "        fin.write(msg)\n",
    "        fin.close()\n",
    "    slsegment = -1  # ready for start of next batch\n",
    "    return True\n",
    "\n",
    "\n",
    "@asyn.cancellable\n",
    "async def setloop():\n",
    "    try:\n",
    "        await asyn.Cancellable(setup)()\n",
    "        while True:\n",
    "            await asyn.sleep(0.1)\n",
    "            await asyn.Cancellable(loop)()\n",
    "    except Exception as e:\n",
    "        await client.publish(mqttchannel+'/rec', 'error '+str(e))\n",
    "\n",
    "        \n",
    "async def acallback(topic, msg):\n",
    "    print((topic, msg))\n",
    "    await client.publish(mqttchannel+'/rec', b'received '+msg[:8])\n",
    "\n",
    "    if not appendtoscriptletfile(msg):\n",
    "        return\n",
    "    os.rename(\"scriptlet_NEW.py\", \"scriptlet.py\")\n",
    "    await client.publish(mqttchannel+'/rec', 'abouttocancel_all')\n",
    "    await asyn.Cancellable.cancel_all()\n",
    "    await client.publish(mqttchannel+'/rec', 'abouttoexec')\n",
    "    try:\n",
    "        execfile(\"scriptlet.py\")\n",
    "    except Exception as e:\n",
    "        print(e)\n",
    "        await client.publish(mqttchannel+'/rec', str(e))\n",
    "        return\n",
    "    \n",
    "    await client.publish(mqttchannel+'/rec', 'abouttorun')\n",
    "    aloop.create_task(asyn.Cancellable(setloop)())\n",
    "\n",
    "# The callback has to be a normal function, but we can create an async task from within it using aloop\n",
    "def callback(topic, msg):\n",
    "    aloop.create_task(acallback(topic, msg))\n",
    "    \n",
    "async def conn_han(client):\n",
    "    print(\"subscribing\", (mqttchannel+'/code'))\n",
    "    await client.subscribe(mqttchannel+'/code', 1)\n",
    "    \n",
    "async def main(client):\n",
    "    await client.connect()\n",
    "    n = 0\n",
    "    while True:\n",
    "        await asyncio.sleep(5)\n",
    "        await client.publish(mqttchannel+'/beat', '{}'.format(n), qos = 1)\n",
    "        n += 1\n",
    "\n",
    "config['subs_cb'] = callback\n",
    "config['connect_coro'] = conn_han\n",
    "config['server'] = SERVER\n",
    "\n",
    "MQTTClient.DEBUG = False  # Optional: print diagnostic messages\n",
    "client = MQTTClient(config)\n",
    "aloop = asyncio.get_event_loop()\n",
    "try:\n",
    "    aloop.run_until_complete(main(client))\n",
    "finally:\n",
    "    client.close()  # Prevent LmacRxBlk:1 errors"
   ]
  },
  {
   "cell_type": "code",
   "execution_count": null,
   "metadata": {
    "collapsed": true
   },
   "outputs": [],
   "source": [
    "%sendtofile --source sevensegmentdisplay.py"
   ]
  },
  {
   "cell_type": "code",
   "execution_count": 150,
   "metadata": {},
   "outputs": [
    {
     "name": "stdout",
     "output_type": "stream",
     "text": [
      "\u001b[34mConnecting to --port=/dev/ttyUSB2 --baud=115200 \u001b[0m\n",
      "\u001b[34mReady.\n",
      "\u001b[0m"
     ]
    }
   ],
   "source": [
    "%serialconnect"
   ]
  },
  {
   "cell_type": "code",
   "execution_count": 146,
   "metadata": {},
   "outputs": [
    {
     "name": "stdout",
     "output_type": "stream",
     "text": [
      "['boot.py', 'OLED_driver.py', 'lib', 'utils.py', 'main.py', 'device_detection.py', 'SI7021_funcs.py', 'TSL561_funcs.py', 'VL53L0X_funcs.py', 'VL6180_funcs.py', 'SDOF_funcs.py', 'SHT31D_funcs.py', 'BME280_funcs.py', 'MLX90621_funcs.py', 'BNO055serial_funcs.py', 'LOG', '001.TXT', 'BNO055_funcs.py']\r\n"
     ]
    }
   ],
   "source": [
    "import os\n",
    "print(os.listdir())"
   ]
  },
  {
   "cell_type": "code",
   "execution_count": 272,
   "metadata": {},
   "outputs": [
    {
     "name": "stdout",
     "output_type": "stream",
     "text": [
      "Sent 76 lines (2196 bytes) to sevensegmentdisplay.py.\n"
     ]
    }
   ],
   "source": []
  },
  {
   "cell_type": "code",
   "execution_count": 273,
   "metadata": {},
   "outputs": [
    {
     "name": "stdout",
     "output_type": "stream",
     "text": [
      "\u001b[34mConnecting to --port=/dev/ttyUSB2 --baud=115200 \u001b[0m\n",
      "\u001b[34mReady.\n",
      "\u001b[0m"
     ]
    }
   ],
   "source": [
    "%serialconnect"
   ]
  },
  {
   "cell_type": "code",
   "execution_count": 274,
   "metadata": {},
   "outputs": [],
   "source": [
    "from sevensegmentdisplay import encodeledstring, writeledstringautoscroll"
   ]
  },
  {
   "cell_type": "code",
   "execution_count": 275,
   "metadata": {},
   "outputs": [
    {
     "name": "stdout",
     "output_type": "stream",
     "text": [
      "......................................................................................\u001b[34m\n",
      "\n",
      "*** Sending Ctrl-C\n",
      "\n",
      "\u001b[0m"
     ]
    },
    {
     "name": "stderr",
     "output_type": "stream",
     "text": [
      "Traceback (most recent call last):\n",
      "  File \"<stdin>\", line 3, in <module>\n",
      "  File \"sevensegmentdisplay.py\", line 74, in writeledstringautoscroll\n",
      "  File \"sevensegmentdisplay.py\", line 13, in swrite\n",
      "KeyboardInterrupt: \n"
     ]
    }
   ],
   "source": [
    "encodeledstring(\"stale -- days old\")\n",
    "while 1:\n",
    "    writeledstringautoscroll()\n"
   ]
  },
  {
   "cell_type": "code",
   "execution_count": 276,
   "metadata": {},
   "outputs": [
    {
     "name": "stdout",
     "output_type": "stream",
     "text": [
      "[(1, 'fresh'), (1, 'fresh 1 hours'), (1, 'fresh 2 hours'), (1, 'fresh 3 hours'), (1, 'stale'), (1, 'stale 4 hours'), (1, 'stale 5 hours'), (1, 'stale 6 hours'), (1, 'stale 7 hours'), (1, 'stale 8 hours'), (1, 'stale 9 hours'), (1, 'stale 10 hours'), (1, 'stale 11 hours'), (1, 'stale 12 hours'), (1, 'stale 13 hours'), (1, 'stale 14 hours'), (1, 'stale 15 hours'), (1, 'stale 16 hours'), (1, 'stale 17 hours'), (1, 'stale 18 hours'), (1, 'stale 19 hours'), (1, 'stale 20 hours'), (1, 'stale 21 hours'), (1, 'stale 22 hours'), (1, 'stale 23 hours'), (24, 'bad 1 days old'), (24, 'bad 2 days old'), (24, 'bad 3 days old'), (24, 'bad 4 days old'), (24, 'bad 5 days old'), (24, 'bad 6 days old'), (24, 'bad 7 days old'), (24, 'bad 8 days old'), (24, 'bad 9 days old'), (24, 'bad 10 days old'), (24, 'bad 11 days old'), (24, 'bad 12 days old'), (24, 'bad 13 days old'), (24, 'bad 14 days old'), (24, 'bad 15 days old'), (24, 'bad 16 days old'), (24, 'bad 17 days old'), (24, 'bad 18 days old'), (24, 'bad 19 days old'), (24, 'bad 20 days old'), (24, 'bad 21 days old'), (24, 'bad 22 days old'), (24, 'bad 23 days old'), (24, 'bad 24 days old'), (24, 'bad 25 days old'), (24, 'bad 26 days old'), (24, 'bad 27 days old'), (24, 'bad 28 days old'), (24, 'bad 29 days old'), (24, 'bad 30 days old'), (24, 'bad 31 days old'), (24, 'bad 32 days old'), (24, 'bad 33 days old'), (24, 'bad 34 days old'), (24, 'bad 35 days old'), (24, 'bad 36 days old'), (24, 'bad 37 days old'), (24, 'bad 38 days old'), (24, 'bad 39 days old'), (24, 'bad 40 days old'), (24, 'bad 41 days old'), (24, 'bad 42 days old'), (24, 'bad 43 days old'), (24, 'bad 44 days old'), (24, 'bad 45 days old'), (24, 'bad 46 days old'), (24, 'bad 47 days old'), (24, 'bad 48 days old'), (24, 'bad 49 days old'), (24, 'bad 50 days old'), (24, 'bad 51 days old'), (24, 'bad 52 days old'), (24, 'bad 53 days old'), (24, 'bad 54 days old'), (24, 'bad 55 days old'), (24, 'bad 56 days old'), (24, 'bad 57 days old'), (24, 'bad 58 days old'), (24, 'bad 59 days old'), (24, 'bad 60 days old'), (24, 'bad 61 days old'), (24, 'bad 62 days old'), (24, 'bad 63 days old'), (24, 'bad 64 days old'), (24, 'bad 65 days old'), (24, 'bad 66 days old'), (24, 'bad 67 days old'), (24, 'bad 68 days old'), (24, 'bad 69 days old'), (24, 'bad 70 days old'), (24, 'bad 71 days old'), (24, 'bad 72 days old'), (24, 'bad 73 days old'), (24, 'bad 74 days old'), (24, 'bad 75 days old'), (24, 'bad 76 days old'), (24, 'bad 77 days old'), (24, 'bad 78 days old'), (24, 'bad 79 days old'), (24, 'bad 80 days old'), (24, 'bad 81 days old'), (24, 'bad 82 days old'), (24, 'bad 83 days old'), (24, 'bad 84 days old'), (24, 'bad 85 days old'), (24, 'bad 86 days old'), (24, 'bad 87 days old'), (24, 'bad 88 days old'), (24, 'bad 89 days old'), (24, 'bad 90 days old'), (24, 'bad 91 days old'), (24, 'bad 92 days old'), (24, 'bad 93 days old'), (24, 'bad 94 days old'), (24, 'bad 95 days old'), (24, 'bad 96 days old'), (24, 'bad 97 days old'), (24, 'bad 98 days old'), (24, 'bad 99 days old')]\r\n"
     ]
    }
   ],
   "source": [
    "def phrases():\n",
    "    yield 1, \"fresh\"\n",
    "    for h in range(1, 4):\n",
    "        yield 1, \"fresh %d hours\" % h\n",
    "    yield 1, \"stale\"\n",
    "    for h in range(4, 24):\n",
    "        yield 1, \"stale %d hours\" % h\n",
    "    for d in range(1, 100):\n",
    "        yield 24, \"bad %d days old\" % d\n",
    "    \n",
    "print(list(phrases()))"
   ]
  },
  {
   "cell_type": "code",
   "execution_count": null,
   "metadata": {
    "collapsed": true
   },
   "outputs": [],
   "source": []
  }
 ],
 "metadata": {
  "kernelspec": {
   "display_name": "MicroPython - USB",
   "language": "micropython",
   "name": "micropython"
  },
  "language_info": {
   "codemirror_mode": "python",
   "file_extension": ".py",
   "mimetype": "text/python",
   "name": "micropython"
  }
 },
 "nbformat": 4,
 "nbformat_minor": 2
}

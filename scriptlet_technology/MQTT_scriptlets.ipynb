{
 "cells": [
  {
   "cell_type": "markdown",
   "metadata": {},
   "source": [
    "### MQTT Scriptlets\n",
    "\n",
    "Short segments of setup/loop python will be delivered through MQTT and then executed \n",
    "in a system that is managing its external work using the async system, so that it can \n",
    "restart or handle incoming or outgoing MQTT messages.\n",
    "\n",
    "This will be the ultimate in microcontroller configurability and remote operations based \n",
    "on a standard install.\n",
    "\n",
    "The async MQTT project is at https://github.com/peterhinch/micropython-mqtt/tree/master/mqtt_as\n",
    "\n",
    "Command line code for handling MQTT\n",
    "* mosquitto_sub  -v -h mqtt.local -t \"scriptlet1/#\"\n",
    "* mosquitto_pub  -h mqtt.local -t \"scriptlet1/code\" -m \"gothere=999\""
   ]
  },
  {
   "cell_type": "code",
   "execution_count": 2,
   "metadata": {},
   "outputs": [
    {
     "name": "stdout",
     "output_type": "stream",
     "text": [
      "\u001b[34mConnecting to --port=/dev/ttyUSB0 --baud=115200 \u001b[0m\n",
      "\u001b[34mReady.\n",
      "\u001b[0m"
     ]
    }
   ],
   "source": [
    "%serialconnect"
   ]
  },
  {
   "cell_type": "code",
   "execution_count": 53,
   "metadata": {},
   "outputs": [
    {
     "name": "stdout",
     "output_type": "stream",
     "text": [
      "Sent 94 lines (2691 bytes) to lib/uasyncio/queues.py.\n"
     ]
    }
   ],
   "source": [
    "# This requires you to checkout https://github.com/micropython/micropython-lib and avoids the upip\n",
    "%sendtofile --mkdir --source /home/julian/extrepositories/micropython-lib/uasyncio/uasyncio/__init__.py lib/uasyncio/\n",
    "%sendtofile --mkdir --source /home/julian/extrepositories/micropython-lib/uasyncio.core/uasyncio/core.py lib/uasyncio/\n",
    "%sendtofile --mkdir --source /home/julian/extrepositories/micropython-lib/uasyncio.queues/uasyncio/queues.py lib/uasyncio/\n",
    "%sendtofile --mkdir --source /home/julian/extrepositories/micropython-lib/uasyncio.synchro/uasyncio/synchro.py lib/uasyncio/\n"
   ]
  },
  {
   "cell_type": "code",
   "execution_count": 4,
   "metadata": {},
   "outputs": [
    {
     "name": "stdout",
     "output_type": "stream",
     "text": [
      "Sent 188 lines (7484 bytes) to aswitch.py.\n"
     ]
    }
   ],
   "source": [
    "# This requires you to checkout https://github.com/peterhinch/micropython-async\n",
    "%sendtofile --source /home/julian/extrepositories/micropython-async/asyn.py\n",
    "%sendtofile --source /home/julian/extrepositories/micropython-async/aswitch.py"
   ]
  },
  {
   "cell_type": "code",
   "execution_count": null,
   "metadata": {
    "collapsed": true
   },
   "outputs": [],
   "source": [
    "# This requires you to checkout https://github.com/peterhinch/micropython-mqtt/tree/master/mqtt_as\n",
    "%sendtofile --source /home/julian/extrepositories/micropython-mqtt/mqtt_as/mqtt_as.py"
   ]
  },
  {
   "cell_type": "code",
   "execution_count": 21,
   "metadata": {},
   "outputs": [
    {
     "name": "stdout",
     "output_type": "stream",
     "text": [
      "Sent 8 lines (228 bytes) to config.py.\n"
     ]
    }
   ],
   "source": [
    "# Set up the wifi connection\n",
    "%sendtofile config.py\n",
    "\n",
    "from mqtt_as import config, ESP32\n",
    "\n",
    "# Include any cross-project settings.\n",
    "\n",
    "if ESP32:\n",
    "    config['ssid'] = 'DoESLiverpool'  # EDIT if you're using ESP32\n",
    "    config['wifi_pw'] = 'decafbad00'\n",
    "    config['mqttchannel'] = \"scriptlet1\""
   ]
  },
  {
   "cell_type": "code",
   "execution_count": 85,
   "metadata": {},
   "outputs": [
    {
     "name": "stdout",
     "output_type": "stream",
     "text": [
      "\u001b[34mConnecting to --port=/dev/ttyUSB0 --baud=115200 \u001b[0m\n",
      "\u001b[34mReady.\n",
      "\u001b[0m"
     ]
    }
   ],
   "source": [
    "%serialconnect"
   ]
  },
  {
   "cell_type": "code",
   "execution_count": 88,
   "metadata": {},
   "outputs": [
    {
     "name": "stdout",
     "output_type": "stream",
     "text": [
      "Sent 7 lines (91 bytes) to scriptlet.py.\n"
     ]
    }
   ],
   "source": [
    "%sendtofile scriptlet.py\n",
    "\n",
    "@asyn.cancellable\n",
    "async def setup():\n",
    "    pass\n",
    "\n",
    "@asyn.cancellable\n",
    "async def loop():\n",
    "    pass"
   ]
  },
  {
   "cell_type": "code",
   "execution_count": 127,
   "metadata": {},
   "outputs": [
    {
     "name": "stdout",
     "output_type": "stream",
     "text": [
      "> auth (b0)\n",
      "> assoc (0)\n",
      "> run (10)\n",
      ".\n",
      "subscribing scriptlet1/code\n",
      "..(b'scriptlet1/code', b'001/006]\\n@asyn.cancellable\\nfrom OLED_driver import oledsho')\n",
      "(b'scriptlet1/code', b'002/006]wfattext\\nasync def setup():\\n    print(\"In fsetup\")')\n",
      "(b'scriptlet1/code', b'003/006]\\n    import time\\n    oledshowfattext([\"fBegin\"])\\n\\n')\n",
      "(b'scriptlet1/code', b'004/006]@asyn.cancellable\\nasync def loop():\\n    oledshowfa')\n",
      "(b'scriptlet1/code', b'005/006]ttext([\"Time\", str(time.time())])\\n    await asyn.s')\n",
      "(b'scriptlet1/code', b'006/006]leep(2)\\n')\n",
      "invalid syntax\n",
      "....(b'scriptlet1/code', b'001/006]\\nfrom OLED_driver import oledshowfattext\\n\\n@asyn.ca')\n",
      "(b'scriptlet1/code', b'002/006]ncellable\\nasync def setup():\\n    print(\"In fsetup\"')\n",
      "(b'scriptlet1/code', b'003/006])\\n    import time\\n    oledshowfattext([\"fBegin\"])\\n')\n",
      ".(b'scriptlet1/code', b'004/006]\\n@asyn.cancellable\\nasync def loop():\\n    oledshowf')\n",
      "(b'scriptlet1/code', b'005/006]attext([\"Time\", str(time.time())])\\n    await asyn.')\n",
      "(b'scriptlet1/code', b'006/006]sleep(2)\\n')\n",
      "In fsetup\n",
      "....(b'scriptlet1/code', b'001/006]\\nfrom OLED_driver import oledshowfattext\\n\\n@asyn.ca')\n",
      "(b'scriptlet1/code', b'002/006]ncellable\\nasync def setup():\\n    print(\"In fsetup\"')\n",
      "(b'scriptlet1/code', b'003/006])\\n    import time\\n    oledshowfattext([\"gBegin\"])\\n')\n",
      "(b'scriptlet1/code', b'004/006]\\n@asyn.cancellable\\nasync def loop():\\n    oledshowf')\n",
      "(b'scriptlet1/code', b'005/006]attext([\"Time\", str(time.time())])\\n    await asyn.')\n",
      "(b'scriptlet1/code', b'006/006]sleep(2)\\n')\n",
      "In fsetup\n",
      "..........(b'scriptlet1/code', b'001/006]\\nfrom OLED_driver import oledshowfattext\\nimport ti')\n",
      "(b'scriptlet1/code', b'002/006]me\\n\\n@asyn.cancellable\\nasync def setup():\\n    print')\n",
      "(b'scriptlet1/code', b'003/006](\"In fsetup\")\\n    oledshowfattext([\"gBegin\"])\\n\\n@as')\n",
      "(b'scriptlet1/code', b'004/006]yn.cancellable\\nasync def loop():\\n    oledshowfatte')\n",
      "(b'scriptlet1/code', b'005/006]xt([\"Time\", str(time.time())])\\n    await asyn.slee')\n",
      "(b'scriptlet1/code', b'006/006]p(2)\\n')\n",
      ".In fsetup\n",
      "..........................................(b'scriptlet1/code', b'001/006]\\nfrom OLED_driver import oledshowfattext\\nimport ti')\n",
      "(b'scriptlet1/code', b'002/006]me\\n\\n@asyn.cancellable\\nasync def setup():\\n    print')\n",
      "(b'scriptlet1/code', b'003/006](\"In fsetup\")\\n    oledshowfattext([\"BBegin\"])\\n\\n@as')\n",
      "(b'scriptlet1/code', b'004/006]yn.cancellable\\nasync def loop():\\n    oledshowfatte')\n",
      "(b'scriptlet1/code', b'005/006]xt([\"Ttime\", str(time.time())])\\n    await asyn.sle')\n",
      "(b'scriptlet1/code', b'006/006]ep(2)\\n')\n",
      "In fsetup\n",
      ".....\u001b[34m\n",
      "\n",
      "*** Sending Ctrl-C\n",
      "\n",
      "\u001b[0m"
     ]
    },
    {
     "name": "stderr",
     "output_type": "stream",
     "text": [
      "Traceback (most recent call last):\n",
      "  File \"<stdin>\", line 108, in <module>\n",
      "  File \"<stdin>\", line 106, in <module>\n",
      "  File \"/lib/uasyncio/core.py\", line 180, in run_until_complete\n",
      "  File \"/lib/uasyncio/core.py\", line 173, in run_forever\n",
      "  File \"/lib/uasyncio/__init__.py\", line 69, in wait\n",
      "KeyboardInterrupt: \n"
     ]
    }
   ],
   "source": [
    "from mqtt_as import MQTTClient\n",
    "from config import config\n",
    "import uasyncio as asyncio\n",
    "import asyn\n",
    "import os\n",
    "\n",
    "SERVER = \"10.0.29.167\"  # mqtt.local\n",
    "mqttchannel = config[\"mqttchannel\"]\n",
    "client, aloop = None, None\n",
    "\n",
    "# should we carry on with previous copy?\n",
    "# We'd then have to call it\n",
    "#execfile(\"scriptlet.py\")  \n",
    "\n",
    "# This is the MQTT batching code with headers 001/006]\n",
    "slsegment = -1\n",
    "slsegmentN = -1\n",
    "def appendtoscriptletfile(msg):\n",
    "    global slsegment, slsegmentN\n",
    "    if len(msg) > 8 and msg[7] == ord(\"]\"):\n",
    "        if slsegment == -1:\n",
    "            if int(msg[:3]) != 1:\n",
    "                print(\"Bad\", msg[:8])\n",
    "                client.publish(mqttchannel+'/bad', msg[:8])\n",
    "                return False\n",
    "            slsegmentN = int(msg[4:7])\n",
    "            slsegment = 1\n",
    "            fin = open(\"scriptlet_NEW.py\", \"wb\")\n",
    "            fin.write(msg[8:])\n",
    "            fin.close()\n",
    "        elif int(msg[:3]) != slsegment+1 or slsegmentN != int(msg[4:7]):\n",
    "            slsegment = -1\n",
    "            print(\"Bad\", msg[:8])\n",
    "            client.publish(mqttchannel+'/bad', msg[:8])\n",
    "            return False\n",
    "        else:\n",
    "            slsegment += 1\n",
    "            fin = open(\"scriptlet_NEW.py\", \"ab\")\n",
    "            fin.write(msg[8:])\n",
    "            fin.close()\n",
    "            \n",
    "        if slsegment != slsegmentN:\n",
    "            return False\n",
    "            \n",
    "    else:  # Non-chunked case\n",
    "        fin = open(\"scriptlet_NEW.py\", \"a\")\n",
    "        fin.write(msg)\n",
    "        fin.close()\n",
    "    slsegment = -1  # ready for start of next batch\n",
    "    return True\n",
    "\n",
    "\n",
    "@asyn.cancellable\n",
    "async def setloop():\n",
    "    try:\n",
    "        await asyn.Cancellable(setup)()\n",
    "        while True:\n",
    "            await asyn.sleep(0.1)\n",
    "            await asyn.Cancellable(loop)()\n",
    "    except Exception as e:\n",
    "        await client.publish(mqttchannel+'/rec', 'error '+str(e))\n",
    "\n",
    "        \n",
    "async def acallback(topic, msg):\n",
    "    print((topic, msg))\n",
    "    await client.publish(mqttchannel+'/rec', b'received '+msg[:8])\n",
    "\n",
    "    if not appendtoscriptletfile(msg):\n",
    "        return\n",
    "    os.rename(\"scriptlet_NEW.py\", \"scriptlet.py\")\n",
    "    await client.publish(mqttchannel+'/rec', 'abouttocancel_all')\n",
    "    await asyn.Cancellable.cancel_all()\n",
    "    await client.publish(mqttchannel+'/rec', 'abouttoexec')\n",
    "    try:\n",
    "        execfile(\"scriptlet.py\")\n",
    "    except Exception as e:\n",
    "        print(e)\n",
    "        await client.publish(mqttchannel+'/rec', str(e))\n",
    "        return\n",
    "    \n",
    "    await client.publish(mqttchannel+'/rec', 'abouttorun')\n",
    "    aloop.create_task(asyn.Cancellable(setloop)())\n",
    "\n",
    "# The callback has to be a normal function, but we can create an async task from within it using aloop\n",
    "def callback(topic, msg):\n",
    "    aloop.create_task(acallback(topic, msg))\n",
    "    \n",
    "async def conn_han(client):\n",
    "    print(\"subscribing\", (mqttchannel+'/code'))\n",
    "    await client.subscribe(mqttchannel+'/code', 1)\n",
    "    \n",
    "async def main(client):\n",
    "    await client.connect()\n",
    "    n = 0\n",
    "    while True:\n",
    "        await asyncio.sleep(5)\n",
    "        await client.publish(mqttchannel+'/beat', '{}'.format(n), qos = 1)\n",
    "        n += 1\n",
    "\n",
    "config['subs_cb'] = callback\n",
    "config['connect_coro'] = conn_han\n",
    "config['server'] = SERVER\n",
    "\n",
    "MQTTClient.DEBUG = False  # Optional: print diagnostic messages\n",
    "client = MQTTClient(config)\n",
    "aloop = asyncio.get_event_loop()\n",
    "try:\n",
    "    aloop.run_until_complete(main(client))\n",
    "finally:\n",
    "    client.close()  # Prevent LmacRxBlk:1 errors"
   ]
  }
 ],
 "metadata": {
  "kernelspec": {
   "display_name": "MicroPython - USB",
   "language": "micropython",
   "name": "micropython"
  },
  "language_info": {
   "codemirror_mode": "python",
   "file_extension": ".py",
   "mimetype": "text/python",
   "name": "micropython"
  }
 },
 "nbformat": 4,
 "nbformat_minor": 2
}

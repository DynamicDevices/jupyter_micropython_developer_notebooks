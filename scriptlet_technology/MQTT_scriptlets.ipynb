{
 "cells": [
  {
   "cell_type": "markdown",
   "metadata": {},
   "source": [
    "### MQTT Scriptlets\n",
    "\n",
    "Short segments of setup/loop python will be delivered through MQTT and then executed \n",
    "in a system that is managing its external work using the async system, so that it can \n",
    "restart or handle incoming or outgoing MQTT messages.\n",
    "\n",
    "This will be the ultimate in microcontroller configurability and remote operations based \n",
    "on a standard install.\n",
    "\n",
    "The async MQTT project is at https://github.com/peterhinch/micropython-mqtt/tree/master/mqtt_as\n",
    "\n",
    "Command line code for handling MQTT\n",
    "* mosquitto_sub  -v -h mqtt.local -t \"scriptlet1/#\"\n",
    "* mosquitto_pub  -h mqtt.local -t \"scriptlet1/code\" -m \"gothere=999\""
   ]
  },
  {
   "cell_type": "code",
   "execution_count": 1,
   "metadata": {},
   "outputs": [
    {
     "name": "stdout",
     "output_type": "stream",
     "text": [
      "\u001b[34mConnecting to --port=/dev/ttyUSB2 --baud=115200 \u001b[0m\n",
      "\u001b[34mReady.\n",
      "\u001b[0m"
     ]
    }
   ],
   "source": [
    "%serialconnect"
   ]
  },
  {
   "cell_type": "code",
   "execution_count": 2,
   "metadata": {},
   "outputs": [
    {
     "name": "stdout",
     "output_type": "stream",
     "text": [
      "Sent 28 lines (846 bytes) to lib/uasyncio/synchro.py.\n"
     ]
    }
   ],
   "source": [
    "# This requires you to checkout https://github.com/micropython/micropython-lib and avoids the upip\n",
    "%sendtofile --mkdir --source /home/julian/extrepositories/micropython-lib/uasyncio/uasyncio/__init__.py lib/uasyncio/\n",
    "%sendtofile --mkdir --source /home/julian/extrepositories/micropython-lib/uasyncio.core/uasyncio/core.py lib/uasyncio/\n",
    "%sendtofile --mkdir --source /home/julian/extrepositories/micropython-lib/uasyncio.queues/uasyncio/queues.py lib/uasyncio/\n",
    "%sendtofile --mkdir --source /home/julian/extrepositories/micropython-lib/uasyncio.synchro/uasyncio/synchro.py lib/uasyncio/\n"
   ]
  },
  {
   "cell_type": "code",
   "execution_count": 3,
   "metadata": {},
   "outputs": [
    {
     "name": "stdout",
     "output_type": "stream",
     "text": [
      "Sent 188 lines (7484 bytes) to aswitch.py.\n"
     ]
    }
   ],
   "source": [
    "# This requires you to checkout https://github.com/peterhinch/micropython-async\n",
    "%sendtofile --source /home/julian/extrepositories/micropython-async/asyn.py\n",
    "%sendtofile --source /home/julian/extrepositories/micropython-async/aswitch.py"
   ]
  },
  {
   "cell_type": "code",
   "execution_count": 4,
   "metadata": {},
   "outputs": [
    {
     "name": "stdout",
     "output_type": "stream",
     "text": [
      "Sent 638 lines (23042 bytes) to mqtt_as.py.\n"
     ]
    }
   ],
   "source": [
    "# This requires you to checkout https://github.com/peterhinch/micropython-mqtt/tree/master/mqtt_as\n",
    "%sendtofile --source /home/julian/extrepositories/micropython-mqtt/mqtt_as/mqtt_as.py"
   ]
  },
  {
   "cell_type": "code",
   "execution_count": 73,
   "metadata": {},
   "outputs": [
    {
     "name": "stdout",
     "output_type": "stream",
     "text": [
      "Sent 79 lines (2294 bytes) to sevensegmentdisplay.py.\n"
     ]
    }
   ],
   "source": [
    "%sendtofile --source sevensegmentdisplay.py"
   ]
  },
  {
   "cell_type": "code",
   "execution_count": 5,
   "metadata": {},
   "outputs": [
    {
     "name": "stdout",
     "output_type": "stream",
     "text": [
      "Sent 10 lines (259 bytes) to lconfig.py.\n"
     ]
    }
   ],
   "source": [
    "# Set up the wifi connection\n",
    "%sendtofile lconfig.py\n",
    "\n",
    "from mqtt_as import config, ESP32\n",
    "\n",
    "# Include any cross-project settings.\n",
    "mqttlocal = \"10.0.31.119\"\n",
    "\n",
    "if ESP32:\n",
    "    config['ssid'] = 'DoESLiverpool'  # EDIT if you're using ESP32\n",
    "    config['wifi_pw'] = 'decafbad00'\n",
    "    config['mqttchannel'] = \"scriptlet2\"\n",
    "    "
   ]
  },
  {
   "cell_type": "code",
   "execution_count": 85,
   "metadata": {},
   "outputs": [
    {
     "name": "stdout",
     "output_type": "stream",
     "text": [
      "\u001b[34mConnecting to --port=/dev/ttyUSB0 --baud=115200 \u001b[0m\n",
      "\u001b[34mReady.\n",
      "\u001b[0m"
     ]
    }
   ],
   "source": [
    "%serialconnect"
   ]
  },
  {
   "cell_type": "code",
   "execution_count": 6,
   "metadata": {},
   "outputs": [
    {
     "name": "stdout",
     "output_type": "stream",
     "text": [
      "Sent 7 lines (91 bytes) to scriptlet.py.\n"
     ]
    }
   ],
   "source": [
    "%sendtofile scriptlet.py\n",
    "\n",
    "@asyn.cancellable\n",
    "async def setup():\n",
    "    pass\n",
    "\n",
    "@asyn.cancellable\n",
    "async def loop():\n",
    "    pass"
   ]
  },
  {
   "cell_type": "code",
   "execution_count": 88,
   "metadata": {},
   "outputs": [
    {
     "name": "stdout",
     "output_type": "stream",
     "text": [
      "Sent 115 lines (3414 bytes) to main.py.\n"
     ]
    }
   ],
   "source": [
    "%sendtofile main.py\n",
    "\n",
    "from mqtt_as import MQTTClient\n",
    "from lconfig import config, mqttlocal\n",
    "import uasyncio as asyncio\n",
    "import asyn\n",
    "import os\n",
    "from sevensegmentdisplay import encodeledstring, writeledstringautoscroll\n",
    "\n",
    "encodeledstring(\"start up\")\n",
    "\n",
    "mqttchannel = config[\"mqttchannel\"]\n",
    "client, aloop = None, None\n",
    "\n",
    "# should we carry on with previous copy?\n",
    "# We'd then have to call it\n",
    "#execfile(\"scriptlet.py\")  \n",
    "\n",
    "# This is the MQTT batching code with headers 001/006]\n",
    "slsegment = -1\n",
    "slsegmentN = -1\n",
    "def appendtoscriptletfile(msg):\n",
    "    global slsegment, slsegmentN\n",
    "    if len(msg) > 8 and msg[7] == ord(\"]\"):\n",
    "        if slsegment == -1:\n",
    "            if int(msg[:3]) != 1:\n",
    "                print(\"Bad\", msg[:8])\n",
    "                client.publish(mqttchannel+'/bad', msg[:8])\n",
    "                return False\n",
    "            slsegmentN = int(msg[4:7])\n",
    "            slsegment = 1\n",
    "            fin = open(\"scriptlet_NEW.py\", \"wb\")\n",
    "            fin.write(msg[8:])\n",
    "            fin.close()\n",
    "        elif int(msg[:3]) != slsegment+1 or slsegmentN != int(msg[4:7]):\n",
    "            slsegment = -1\n",
    "            print(\"Bad\", msg[:8])\n",
    "            client.publish(mqttchannel+'/bad', msg[:8])\n",
    "            return False\n",
    "        else:\n",
    "            slsegment += 1\n",
    "            fin = open(\"scriptlet_NEW.py\", \"ab\")\n",
    "            fin.write(msg[8:])\n",
    "            fin.close()\n",
    "            \n",
    "        if slsegment != slsegmentN:\n",
    "            return False\n",
    "            \n",
    "    else:  # Non-chunked case\n",
    "        fin = open(\"scriptlet_NEW.py\", \"a\")\n",
    "        fin.write(msg)\n",
    "        fin.close()\n",
    "    slsegment = -1  # ready for start of next batch\n",
    "    return True\n",
    "\n",
    "\n",
    "@asyn.cancellable\n",
    "async def setloop():\n",
    "    try:\n",
    "        await asyn.Cancellable(setup)()\n",
    "        while True:\n",
    "            await asyn.sleep(0.1)\n",
    "            await asyn.Cancellable(loop)()\n",
    "    except Exception as e:\n",
    "        await client.publish(mqttchannel+'/rec', 'error '+str(e))\n",
    "\n",
    "        \n",
    "async def acallback(topic, msg):\n",
    "    print((topic, msg))\n",
    "    await client.publish(mqttchannel+'/rec', b'received '+msg[:8])\n",
    "\n",
    "    if not appendtoscriptletfile(msg):\n",
    "        return\n",
    "    os.rename(\"scriptlet_NEW.py\", \"scriptlet.py\")\n",
    "    await client.publish(mqttchannel+'/rec', 'abouttocancel_all')\n",
    "    await asyn.Cancellable.cancel_all()\n",
    "    await client.publish(mqttchannel+'/rec', 'abouttoexec')\n",
    "    try:\n",
    "        execfile(\"scriptlet.py\")\n",
    "    except Exception as e:\n",
    "        print(e)\n",
    "        await client.publish(mqttchannel+'/rec', str(e))\n",
    "        return\n",
    "    \n",
    "    await client.publish(mqttchannel+'/rec', 'abouttorun')\n",
    "    aloop.create_task(asyn.Cancellable(setloop)())\n",
    "\n",
    "# The callback has to be a normal function, but we can create an async task from within it using aloop\n",
    "def callback(topic, msg):\n",
    "    aloop.create_task(acallback(topic, msg))\n",
    "    \n",
    "async def conn_han(client):\n",
    "    print(\"subscribing\", (mqttchannel+'/code'))\n",
    "    await client.subscribe(mqttchannel+'/code', 1)\n",
    "    \n",
    "async def main(client):\n",
    "    await client.connect()\n",
    "    n = 0\n",
    "    while True:\n",
    "        await asyncio.sleep(5)\n",
    "        await client.publish(mqttchannel+'/beat', '{}'.format(n), qos = 1)\n",
    "        n += 1\n",
    "\n",
    "encodeledstring(\"connect\")\n",
    "\n",
    "config['subs_cb'] = callback\n",
    "config['connect_coro'] = conn_han\n",
    "config['server'] = mqttlocal\n",
    "\n",
    "MQTTClient.DEBUG = False  # Optional: print diagnostic messages\n",
    "client = MQTTClient(config)\n",
    "aloop = asyncio.get_event_loop()\n",
    "encodeledstring(\"ready.\")\n",
    "try:\n",
    "    aloop.run_until_complete(main(client))\n",
    "finally:\n",
    "    client.close()  # Prevent LmacRxBlk:1 errors"
   ]
  },
  {
   "cell_type": "code",
   "execution_count": null,
   "metadata": {
    "collapsed": true
   },
   "outputs": [],
   "source": []
  }
 ],
 "metadata": {
  "kernelspec": {
   "display_name": "MicroPython - USB",
   "language": "micropython",
   "name": "micropython"
  },
  "language_info": {
   "codemirror_mode": "python",
   "file_extension": ".py",
   "mimetype": "text/python",
   "name": "micropython"
  }
 },
 "nbformat": 4,
 "nbformat_minor": 2
}

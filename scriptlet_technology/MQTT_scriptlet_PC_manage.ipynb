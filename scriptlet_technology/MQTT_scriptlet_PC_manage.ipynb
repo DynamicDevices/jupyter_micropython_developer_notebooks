{
 "cells": [
  {
   "cell_type": "code",
   "execution_count": 1,
   "metadata": {},
   "outputs": [
    {
     "name": "stdout",
     "output_type": "stream",
     "text": [
      "b'11'\n",
      "b'12'\n",
      "b'13'\n"
     ]
    }
   ],
   "source": [
    "import paho.mqtt.client\n",
    "c = paho.mqtt.client.Client()\n",
    "\n",
    "def on_message(mosq, obj, msg):\n",
    "    print(msg.payload)\n",
    "c.on_message = on_message\n",
    "\n",
    "c.connect(\"mqtt.local\")\n",
    "c.subscribe(\"scriptlet1/beat\")\n",
    "c.loop_start()\n",
    "\n"
   ]
  },
  {
   "cell_type": "code",
   "execution_count": 20,
   "metadata": {},
   "outputs": [
    {
     "name": "stdout",
     "output_type": "stream",
     "text": [
      "Sending code in 6 pieces\n",
      "b'58'\n",
      "b'59'\n",
      "b'60'\n",
      "b'61'\n",
      "b'62'\n"
     ]
    }
   ],
   "source": [
    "\n",
    "code = \"\"\"\n",
    "from OLED_driver import oledshowfattext\n",
    "import time\n",
    "\n",
    "@asyn.cancellable\n",
    "async def setup():\n",
    "    print(\"In fsetup\")\n",
    "    oledshowfattext([\"BBegin\"])\n",
    "\n",
    "@asyn.cancellable\n",
    "async def loop():\n",
    "    oledshowfattext([\"Ttime\", str(time.time())])\n",
    "    await asyn.sleep(2)\n",
    "\"\"\"\n",
    "\n",
    "import time\n",
    "nbytes = 50\n",
    "npieces = int(len(code)/nbytes+1)\n",
    "print(\"Sending code in\", npieces, \"pieces\")\n",
    "for i in range(npieces):\n",
    "    time.sleep(0.5)  # give it a chance to queue\n",
    "    c.publish(\"scriptlet1/code\", \"%03d/%03d]%s\" % (i+1, npieces, code[i*nbytes:(i+1)*nbytes]))\n",
    "\n",
    "\n"
   ]
  },
  {
   "cell_type": "code",
   "execution_count": null,
   "metadata": {
    "collapsed": true
   },
   "outputs": [],
   "source": []
  }
 ],
 "metadata": {
  "kernelspec": {
   "display_name": "Python 3",
   "language": "python",
   "name": "python3"
  },
  "language_info": {
   "codemirror_mode": {
    "name": "ipython",
    "version": 3
   },
   "file_extension": ".py",
   "mimetype": "text/x-python",
   "name": "python",
   "nbconvert_exporter": "python",
   "pygments_lexer": "ipython3",
   "version": "3.6.5"
  }
 },
 "nbformat": 4,
 "nbformat_minor": 2
}

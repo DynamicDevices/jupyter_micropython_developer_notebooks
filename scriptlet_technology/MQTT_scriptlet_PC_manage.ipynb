{
 "cells": [
  {
   "cell_type": "code",
   "execution_count": 1,
   "metadata": {},
   "outputs": [
    {
     "name": "stdout",
     "output_type": "stream",
     "text": [
      "b'6'\n",
      "b'7'\n"
     ]
    }
   ],
   "source": [
    "import paho.mqtt.client\n",
    "c = paho.mqtt.client.Client()\n",
    "\n",
    "def on_message(mosq, obj, msg):\n",
    "    print(msg.payload)\n",
    "c.on_message = on_message\n",
    "\n",
    "c.connect(\"mqtt.local\")\n",
    "c.subscribe(\"scriptlet1/beat\")\n",
    "c.loop_start()\n",
    "\n"
   ]
  },
  {
   "cell_type": "code",
   "execution_count": 3,
   "metadata": {},
   "outputs": [
    {
     "name": "stdout",
     "output_type": "stream",
     "text": [
      "Sending code in 6 pieces\n",
      "b'44'\n",
      "b'45'\n",
      "b'46'\n",
      "b'47'\n",
      "b'48'\n",
      "b'49'\n",
      "b'50'\n",
      "b'51'\n",
      "b'52'\n",
      "b'53'\n",
      "b'54'\n"
     ]
    }
   ],
   "source": [
    "# This one only works if it's an ESP with an oled\n",
    "code = \"\"\"\n",
    "from OLED_driver import oledshowfattext\n",
    "import time\n",
    "\n",
    "@asyn.cancellable\n",
    "async def setup():\n",
    "    print(\"In fsetup\")\n",
    "    oledshowfattext([\"BBegin\"])\n",
    "\n",
    "@asyn.cancellable\n",
    "async def loop():\n",
    "    oledshowfattext([\"Ttime\", str(time.time())])\n",
    "    await asyn.sleep(2)\n",
    "\"\"\"\n",
    "\n",
    "import time\n",
    "nbytes = 50\n",
    "npieces = int(len(code)/nbytes+1)\n",
    "print(\"Sending code in\", npieces, \"pieces\")\n",
    "for i in range(npieces):\n",
    "    time.sleep(0.5)  # give it a chance to queue\n",
    "    c.publish(\"scriptlet1/code\", \"%03d/%03d]%s\" % (i+1, npieces, code[i*nbytes:(i+1)*nbytes]))\n",
    "\n",
    "\n"
   ]
  },
  {
   "cell_type": "code",
   "execution_count": 4,
   "metadata": {},
   "outputs": [
    {
     "name": "stdout",
     "output_type": "stream",
     "text": [
      "Sending code in 13 pieces\n",
      "b'55'\n",
      "b'56'\n",
      "b'57'\n",
      "b'58'\n",
      "b'59'\n",
      "b'0'\n",
      "b'1'\n",
      "b'2'\n",
      "b'3'\n"
     ]
    }
   ],
   "source": [
    "\n",
    "code = \"\"\"\n",
    "from sevensegmentdisplay import encodeledstring, writeledstringautoscroll\n",
    "\n",
    "def phrases():\n",
    "    yield 1, \"fresh\"\n",
    "    for h in range(1, 4):\n",
    "        yield 1, \"fresh %d hours\" % h\n",
    "    yield 1, \"stale\"\n",
    "    for h in range(4, 24):\n",
    "        yield 1, \"stale %d hours\" % h\n",
    "    for d in range(1, 100):\n",
    "        yield 24, \"bad %d days old\" % d\n",
    "\n",
    "@asyn.cancellable\n",
    "async def setup():\n",
    "    for t, ph in phrases():\n",
    "        print(ph)\n",
    "        encodeledstring(ph)\n",
    "        for i in range(int(t*10*10)):\n",
    "            writeledstringautoscroll()\n",
    "            await asyn.sleep(0.1)\n",
    "        \n",
    "@asyn.cancellable\n",
    "async def loop():\n",
    "    pass\n",
    "\"\"\"\n",
    "\n",
    "import time\n",
    "nbytes = 50\n",
    "npieces = int(len(code)/nbytes+1)\n",
    "print(\"Sending code in\", npieces, \"pieces\")\n",
    "for i in range(npieces):\n",
    "    time.sleep(0.5)  # give it a chance to queue\n",
    "    c.publish(\"scriptlet1/code\", \"%03d/%03d]%s\" % (i+1, npieces, code[i*nbytes:(i+1)*nbytes]))\n"
   ]
  },
  {
   "cell_type": "code",
   "execution_count": null,
   "metadata": {
    "collapsed": true
   },
   "outputs": [],
   "source": []
  }
 ],
 "metadata": {
  "kernelspec": {
   "display_name": "Python 3",
   "language": "python",
   "name": "python3"
  },
  "language_info": {
   "codemirror_mode": {
    "name": "ipython",
    "version": 3
   },
   "file_extension": ".py",
   "mimetype": "text/x-python",
   "name": "python",
   "nbconvert_exporter": "python",
   "pygments_lexer": "ipython3",
   "version": "3.6.5"
  }
 },
 "nbformat": 4,
 "nbformat_minor": 2
}

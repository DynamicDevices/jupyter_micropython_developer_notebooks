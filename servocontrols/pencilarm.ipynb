{
 "cells": [
  {
   "cell_type": "code",
   "execution_count": 35,
   "metadata": {},
   "outputs": [
    {
     "name": "stdout",
     "output_type": "stream",
     "text": [
      "Connecting to Serial /dev/ttyUSB0 baud=115200\n",
      "\u001b[32m\n",
      " ** Serial connected **\n",
      "\n",
      "\u001b[0mSerial<id=0x7f8be18bbcc0, open=True>(port='/dev/ttyUSB0', baudrate=115200, bytesize=8, parity='N', stopbits=1, timeout=0.5, xonxoff=False, rtscts=False, dsrdtr=False)\n",
      "normal repl mode not detected b''\n",
      "not command mode\n",
      ".ets Jun  8 2016 00:22:57\n",
      "\n",
      "rst:0x1 (POWERON_RESET),boot:0x17 (SPI_FAST_FLASH_BOOT)\n",
      "configsip: 0, SPIWP:0xee\n",
      "clk_drv:0x00,q_drv:0x00,d_drv:0x00,cs0_drv:0x00,hd_drv:0x00,wp_drv:0x00\n",
      "mode:DIO, clock div:2\n",
      "load:0x3fff0010,len:4\n",
      "load:0x3fff0014,len:4268\n",
      "load:0x40078000,len:0\n",
      "load:0x40078000,len:10648\n",
      "entry 0x4007a56c\n",
      "OSError: [Errno 2] ENOENT\n",
      "MicroPython v1.9.2-273-g56f18602 on 2017-09-25; ESP32 module with ESP32\n",
      "Type \"help()\" for more information.\n",
      ">>>[reboot detected 0]repl is in normal command mode\n",
      "[\\r\\x03\\x03] b'\\r\\n>>> \\r\\n>>> \\r\\n>>> '\n",
      "[\\r\\x01] b'\\r\\n>>> \\r\\nraw REPL; CTRL-B to exit\\r\\n>' "
     ]
    }
   ],
   "source": [
    "%serialconnect"
   ]
  },
  {
   "cell_type": "code",
   "execution_count": 36,
   "metadata": {},
   "outputs": [
    {
     "name": "stdout",
     "output_type": "stream",
     "text": [
      "Sent 48 lines (1457 bytes)."
     ]
    }
   ],
   "source": [
    "%sendtofile --source pca9685servo.py"
   ]
  },
  {
   "cell_type": "code",
   "execution_count": 37,
   "metadata": {
    "collapsed": true
   },
   "outputs": [],
   "source": [
    "from pca9685servo import setangspeed "
   ]
  },
  {
   "cell_type": "code",
   "execution_count": 54,
   "metadata": {
    "collapsed": true
   },
   "outputs": [],
   "source": [
    "a0 = 138-8  # servo2 arm vertical\n",
    "b0 = 118+5  # servo1 pencil horizontal\n",
    "setangspeed([b0,a0,180])\n"
   ]
  },
  {
   "cell_type": "code",
   "execution_count": 83,
   "metadata": {},
   "outputs": [],
   "source": [
    "from pca9685servo import setangspeed \n",
    "import math, time\n",
    "\n",
    "class servopencil:\n",
    "    def __init__(self, h, s, p, e, a0, b0, r0, t0):\n",
    "        self.h = h  # height servo2 axle\n",
    "        self.s = s  # servo1 to 2 axle dist\n",
    "        self.p = p  # pencil length\n",
    "        self.e = e  # servo3 to pencil centre dist\n",
    "\n",
    "        self.hps1 = -h**2 + (p+s)**2\n",
    "        self.hps2 = h**2 - (p-s)**2\n",
    "        self.hps3 = (h-s)**2 - p**2\n",
    "\n",
    "        self.minx = math.sqrt(p**2 - (h+s)**2)\n",
    "        self.maxx = math.sqrt(self.hps1)\n",
    "        print(\"xrange\", self.minx, self.maxx)\n",
    "        \n",
    "        self.a0 = a0  # vertical\n",
    "        self.b0 = b0  # horizontal\n",
    "        self.r0 = r0  # zero rad\n",
    "        self.t0 = t0  # zero theta\n",
    "\n",
    "        self.xp = 0\n",
    "        self.yp = 0\n",
    "        setangspeed([b0,a0,t0])\n",
    "\n",
    "    def solveab(self, x):\n",
    "        x2 = x**2\n",
    "        a = 2*math.atan((2*self.s*x - math.sqrt((self.hps1 - x2)*(self.hps2 + x2)))/(self.hps3 + x2))\n",
    "        b = math.acos((-self.s*math.sin(a) + x)/self.p)\n",
    "        return math.degrees(a), math.degrees(b)\n",
    "\n",
    "    def xy(self, x, y, bplus=0):\n",
    "        rlsq = (self.e+x)**2 + (self.r0+y)**2\n",
    "        r = math.sqrt(rlsq - self.e**2)\n",
    "        t = math.degrees(math.atan(r/self.e) - math.atan((r0+y)/(self.e+x)))\n",
    "        a, b = self.solveab(r)\n",
    "        setangspeed([self.b0-(b-a)+bplus, self.a0-a, self.t0-t], 0)\n",
    "\n",
    "    def xyf(self, x, y, bplus=0, feedrate=100):\n",
    "        n = max(abs(x-self.xp), abs(y-self.yp), 1)\n",
    "        for i in range(0, n+1):\n",
    "            l = i/n\n",
    "            self.xy(self.xp*(1-l) + x*l, self.yp*(1-l) + y*l, bplus)\n",
    "            time.sleep(1/feedrate)\n",
    "        self.xp = x\n",
    "        self.yp = y\n"
   ]
  },
  {
   "cell_type": "code",
   "execution_count": 84,
   "metadata": {},
   "outputs": [
    {
     "name": "stdout",
     "output_type": "stream",
     "text": [
      "xrange 100.6706 212.9421\r\n"
     ]
    }
   ],
   "source": [
    "a0 = 138-8  # servo2 arm vertical\n",
    "b0 = 118+5  # servo1 pencil horizontal\n",
    "r0, t0 = 120, 90\n",
    "sp = servopencil(43.8, 67.4, 150, 39.7, a0, b0, r0, t0)\n"
   ]
  },
  {
   "cell_type": "code",
   "execution_count": 85,
   "metadata": {},
   "outputs": [],
   "source": [
    "setangspeed([b0,a0,90])\n"
   ]
  },
  {
   "cell_type": "code",
   "execution_count": 90,
   "metadata": {},
   "outputs": [],
   "source": [
    "sp.xyf(90,20,0, 200)\n"
   ]
  },
  {
   "cell_type": "code",
   "execution_count": 92,
   "metadata": {},
   "outputs": [
    {
     "name": "stdout",
     "output_type": "stream",
     "text": [
      "......."
     ]
    }
   ],
   "source": [
    "# do a spiral\n",
    "for cr in range(5, 35, 5):\n",
    "    for i in range(160):\n",
    "        sp.xyf(20+math.sin(i*0.2)*cr, math.cos(i*0.2)*cr, (15 if i==0 else 0), 200)\n",
    "sp.xyf(0,0,15)\n"
   ]
  },
  {
   "cell_type": "code",
   "execution_count": null,
   "metadata": {
    "collapsed": true
   },
   "outputs": [],
   "source": [
    "# now commence with some backlash experiments"
   ]
  }
 ],
 "metadata": {
  "kernelspec": {
   "display_name": "MicroPython - USB",
   "language": "micropython",
   "name": "micropython"
  },
  "language_info": {
   "codemirror_mode": "python",
   "file_extension": ".py",
   "mimetype": "text/python",
   "name": "micropython"
  }
 },
 "nbformat": 4,
 "nbformat_minor": 2
}

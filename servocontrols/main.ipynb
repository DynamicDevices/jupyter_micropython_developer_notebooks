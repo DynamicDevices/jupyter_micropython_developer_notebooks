{
 "cells": [
  {
   "cell_type": "markdown",
   "metadata": {},
   "source": [
    "### Main servo arm code\n",
    "Use the sp.goxy(x,y,bplus=0,feedrate=100) command to move the arm around.\n",
    "bplus lifts it above the paper by this angle"
   ]
  },
  {
   "cell_type": "code",
   "execution_count": 1,
   "metadata": {},
   "outputs": [
    {
     "name": "stdout",
     "output_type": "stream",
     "text": [
      "Connecting to Serial /dev/ttyUSB0 baud=115200 \u001b[32m  ** connected\n",
      "\u001b[0mReady."
     ]
    }
   ],
   "source": [
    "%serialconnect"
   ]
  },
  {
   "cell_type": "code",
   "execution_count": 21,
   "metadata": {},
   "outputs": [
    {
     "name": "stdout",
     "output_type": "stream",
     "text": [
      "Sent 48 lines (1612 bytes)."
     ]
    }
   ],
   "source": [
    "%sendtofile --source pca9685servo.py\n",
    "%sendtofile --source servopencil.py"
   ]
  },
  {
   "cell_type": "code",
   "execution_count": 22,
   "metadata": {},
   "outputs": [
    {
     "name": "stdout",
     "output_type": "stream",
     "text": [
      "repl is in normal command mode\n",
      "[\\r\\x03\\x03] b'\\r\\nMicroPython v1.9.2-273-g56f18602 on 2017-09-25; ESP32 module with ESP32\\r\\nType \"help()\" for more information.\\r\\n>>> \\r\\n>>> \\r\\nPYB: soft reboot\\r\\nOSError: [Errno 2] ENOENT\\r\\nMicroPython v1.9.2-273-g56f18602 on 2017-09-25; ESP32 module with ESP32\\r\\nType \"help()\" for more information.\\r\\n>>> \\r\\n>>> \\r\\n>>> \\r\\n>>> \\r\\n>>> '\n",
      "[\\r\\x01] b'\\r\\n>>> \\r\\nraw REPL; CTRL-B to exit\\r\\n>'"
     ]
    }
   ],
   "source": [
    "%rebootdevice"
   ]
  },
  {
   "cell_type": "code",
   "execution_count": 23,
   "metadata": {},
   "outputs": [
    {
     "name": "stdout",
     "output_type": "stream",
     "text": [
      "xrange 100.6706 212.9421\r\n"
     ]
    }
   ],
   "source": [
    "import servopencil \n",
    "\n",
    "a0 = 138-5  # servo2 arm vertical\n",
    "b0 = 118+2  # servo1 pencil horizontal\n",
    "r0, t0 = 120, 90\n",
    "sp = servopencil.servopencil(43.8, 67.4, 150, 39.7, a0, b0, r0, t0)\n"
   ]
  },
  {
   "cell_type": "code",
   "execution_count": 25,
   "metadata": {
    "collapsed": true
   },
   "outputs": [],
   "source": [
    "sp.goxy(10,60,9,200)"
   ]
  },
  {
   "cell_type": "code",
   "execution_count": 26,
   "metadata": {},
   "outputs": [
    {
     "name": "stdout",
     "output_type": "stream",
     "text": [
      ".\n",
      "\n",
      "*** Sending Ctrl-C\n",
      "\n"
     ]
    },
    {
     "name": "stderr",
     "output_type": "stream",
     "text": [
      "Traceback (most recent call last):\n",
      "  File \"<stdin>\", line 6, in <module>\n",
      "  File \"servopencil.py\", line 46, in goxy\n",
      "KeyboardInterrupt: \n"
     ]
    }
   ],
   "source": [
    "# do a spiral\n",
    "\n",
    "import math\n",
    "for cr in range(5, 35, 5):\n",
    "    for i in range(160):\n",
    "        sp.goxy(20+math.sin(i*0.2)*cr, math.cos(i*0.2)*cr, (15 if i==0 else 0), 200)\n",
    "sp.goxy(0,0,15)\n",
    "\n"
   ]
  },
  {
   "cell_type": "code",
   "execution_count": 33,
   "metadata": {},
   "outputs": [
    {
     "name": "stdout",
     "output_type": "stream",
     "text": [
      "......."
     ]
    }
   ],
   "source": [
    "import math\n",
    "for cr in range(5, 35, 5):\n",
    "    for i in range(160):\n",
    "        sp.goxy(20-math.sin(i*0.2)*cr, math.cos(i*0.2)*cr, (15 if i==0 else 0), 200)\n",
    "sp.goxy(0,0,15)\n"
   ]
  },
  {
   "cell_type": "code",
   "execution_count": 14,
   "metadata": {},
   "outputs": [
    {
     "name": "stdout",
     "output_type": "stream",
     "text": [
      "object <module 'servopencil' from 'servopencil.py'> is of type module\n",
      "  setangspeed -- <function setangspeed at 0x3ffb4e40>\n",
      "  __name__ -- servopencil\n",
      "  servopencil -- <class 'servopencil'>\n",
      "  math -- <module 'math'>\n",
      "  __file__ -- servopencil.py\n",
      "  time -- <module 'utime'>\n"
     ]
    }
   ],
   "source": [
    "help(servopencil)"
   ]
  },
  {
   "cell_type": "code",
   "execution_count": null,
   "metadata": {
    "collapsed": true
   },
   "outputs": [],
   "source": []
  }
 ],
 "metadata": {
  "kernelspec": {
   "display_name": "MicroPython - USB",
   "language": "micropython",
   "name": "micropython"
  },
  "language_info": {
   "codemirror_mode": "python",
   "file_extension": ".py",
   "mimetype": "text/python",
   "name": "micropython"
  }
 },
 "nbformat": 4,
 "nbformat_minor": 2
}

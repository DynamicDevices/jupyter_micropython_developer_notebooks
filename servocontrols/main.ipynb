{
 "cells": [
  {
   "cell_type": "markdown",
   "metadata": {},
   "source": [
    "### Main servo arm code\n",
    "Use the sp.goxy(x,y,bplus=0,feedrate=100) command to move the arm around.\n",
    "bplus lifts it above the paper by this angle"
   ]
  },
  {
   "cell_type": "code",
   "execution_count": 6,
   "metadata": {},
   "outputs": [
    {
     "name": "stdout",
     "output_type": "stream",
     "text": [
      "\u001b[31m\n",
      "\n",
      "***Connecton broken [Input/output error]\n",
      "\u001b[0mYou may need to reconnect\n",
      "\n",
      "***OSError [Input/output error]\n",
      "\n"
     ]
    }
   ],
   "source": [
    "i"
   ]
  },
  {
   "cell_type": "code",
   "execution_count": 21,
   "metadata": {},
   "outputs": [
    {
     "name": "stdout",
     "output_type": "stream",
     "text": [
      "\u001b[31m\n",
      "\n",
      "***Connecton broken [Input/output error]\n",
      "\u001b[0mYou may need to reconnectserial exception on close write failed: [Errno 5] Input/output error\n",
      "\n",
      "Closing serial Serial<id=0x7f677f046d30, open=True>(port='/dev/ttyUSB1', baudrate=115200, bytesize=8, parity='N', stopbits=1, timeout=0.5, xonxoff=False, rtscts=False, dsrdtr=False)\n",
      "Connecting to Serial /dev/ttyUSB2 baud=115200 \n",
      "Ready."
     ]
    }
   ],
   "source": [
    "%serialconnect"
   ]
  },
  {
   "cell_type": "code",
   "execution_count": 22,
   "metadata": {},
   "outputs": [
    {
     "name": "stdout",
     "output_type": "stream",
     "text": [
      "Sent 48 lines (1612 bytes)."
     ]
    }
   ],
   "source": [
    "%sendtofile --source pca9685servo.py\n",
    "%sendtofile --source servopencil.py"
   ]
  },
  {
   "cell_type": "code",
   "execution_count": 38,
   "metadata": {},
   "outputs": [
    {
     "name": "stdout",
     "output_type": "stream",
     "text": [
      "Sent 59 lines (1893 bytes)."
     ]
    }
   ],
   "source": [
    "%sendtofile --source pca9685.py\n"
   ]
  },
  {
   "cell_type": "code",
   "execution_count": 131,
   "metadata": {},
   "outputs": [],
   "source": [
    "import pca9685\n",
    "p = pca9685.PCA9685(i2c)\n",
    "p.freq(60)"
   ]
  },
  {
   "cell_type": "code",
   "execution_count": 133,
   "metadata": {},
   "outputs": [
    {
     "name": "stdout",
     "output_type": "stream",
     "text": [
      "(0, 285)\r\n"
     ]
    }
   ],
   "source": [
    "print(p.pwm(2, 300))\n"
   ]
  },
  {
   "cell_type": "code",
   "execution_count": 92,
   "metadata": {},
   "outputs": [
    {
     "name": "stdout",
     "output_type": "stream",
     "text": [
      "xrange 100.6706 212.9421\r\n"
     ]
    }
   ],
   "source": [
    "import servopencil \n",
    "\n",
    "a0 = 138+30  # servo2 arm vertical\n",
    "b0 = 118+25  # servo1 pencil horizontal\n",
    "r0, t0 = 120, 90\n",
    "sp = servopencil.servopencil(43.8, 67.4, 150, 39.7, a0, b0, r0, t0)\n"
   ]
  },
  {
   "cell_type": "code",
   "execution_count": 98,
   "metadata": {},
   "outputs": [],
   "source": [
    "sp.goxy(10,60,10,200)"
   ]
  },
  {
   "cell_type": "code",
   "execution_count": 95,
   "metadata": {},
   "outputs": [
    {
     "name": "stdout",
     "output_type": "stream",
     "text": [
      "."
     ]
    }
   ],
   "source": [
    "for i in range(2):\n",
    "    sp.goxy(-20,-20)\n",
    "    sp.goxy(-20,20)\n",
    "    sp.goxy(20,20)\n",
    "    sp.goxy(20,-20)\n",
    "    sp.goxy(-20,-20)"
   ]
  },
  {
   "cell_type": "code",
   "execution_count": 96,
   "metadata": {},
   "outputs": [
    {
     "name": "stdout",
     "output_type": "stream",
     "text": [
      "......."
     ]
    }
   ],
   "source": [
    "# do a spiral\n",
    "\n",
    "import math\n",
    "for cr in range(5, 35, 5):\n",
    "    for i in range(160):\n",
    "        sp.goxy(20+math.sin(i*0.2)*cr, math.cos(i*0.2)*cr, (15 if i==0 else 0), 200)\n",
    "sp.goxy(0,0,15)\n",
    "\n"
   ]
  },
  {
   "cell_type": "code",
   "execution_count": 33,
   "metadata": {},
   "outputs": [
    {
     "name": "stdout",
     "output_type": "stream",
     "text": [
      "......."
     ]
    }
   ],
   "source": [
    "import math\n",
    "for cr in range(5, 35, 5):\n",
    "    for i in range(160):\n",
    "        sp.goxy(20-math.sin(i*0.2)*cr, math.cos(i*0.2)*cr, (15 if i==0 else 0), 200)\n",
    "sp.goxy(0,0,15)\n"
   ]
  },
  {
   "cell_type": "code",
   "execution_count": 14,
   "metadata": {},
   "outputs": [
    {
     "name": "stdout",
     "output_type": "stream",
     "text": [
      "object <module 'servopencil' from 'servopencil.py'> is of type module\n",
      "  setangspeed -- <function setangspeed at 0x3ffb4e40>\n",
      "  __name__ -- servopencil\n",
      "  servopencil -- <class 'servopencil'>\n",
      "  math -- <module 'math'>\n",
      "  __file__ -- servopencil.py\n",
      "  time -- <module 'utime'>\n"
     ]
    }
   ],
   "source": [
    "help(servopencil)"
   ]
  },
  {
   "cell_type": "code",
   "execution_count": 102,
   "metadata": {},
   "outputs": [
    {
     "name": "stdout",
     "output_type": "stream",
     "text": [
      "86.83594\r\n"
     ]
    }
   ],
   "source": [
    "\n",
    "print(pca9685servo.getang(2))"
   ]
  },
  {
   "cell_type": "code",
   "execution_count": 107,
   "metadata": {},
   "outputs": [],
   "source": [
    "x = pca9685servo.getang(2)\n",
    "pca9685servo.setang(2, x+10)"
   ]
  },
  {
   "cell_type": "code",
   "execution_count": 123,
   "metadata": {
    "collapsed": true
   },
   "outputs": [],
   "source": [
    "\n",
    "import math\n",
    "self = sp\n",
    "def kxy(x, y, bplus=0):\n",
    "    rlsq = (self.e+x)**2 + (self.r0+y)**2\n",
    "    r = math.sqrt(rlsq - self.e**2)\n",
    "    t = math.degrees(math.atan(r/self.e) - math.atan((self.r0+y)/(self.e+x)))\n",
    "    a, b = self.solveab(r)\n",
    "    return [self.b0-(b-a)+bplus, self.a0-a, self.t0-t]\n"
   ]
  },
  {
   "cell_type": "code",
   "execution_count": 124,
   "metadata": {},
   "outputs": [],
   "source": [
    "angs = kxy(0,0)"
   ]
  },
  {
   "cell_type": "code",
   "execution_count": 125,
   "metadata": {},
   "outputs": [
    {
     "name": "stdout",
     "output_type": "stream",
     "text": [
      "[110.9687, 153.409, 90.0]\r\n"
     ]
    }
   ],
   "source": [
    "print(angs)"
   ]
  },
  {
   "cell_type": "code",
   "execution_count": 130,
   "metadata": {},
   "outputs": [],
   "source": [
    "pca9685servo.setangspeed([angs[0], angs[1], angs[2]-10])"
   ]
  },
  {
   "cell_type": "code",
   "execution_count": null,
   "metadata": {
    "collapsed": true
   },
   "outputs": [],
   "source": []
  }
 ],
 "metadata": {
  "kernelspec": {
   "display_name": "MicroPython - USB",
   "language": "micropython",
   "name": "micropython"
  },
  "language_info": {
   "codemirror_mode": "python",
   "file_extension": ".py",
   "mimetype": "text/python",
   "name": "micropython"
  }
 },
 "nbformat": 4,
 "nbformat_minor": 2
}

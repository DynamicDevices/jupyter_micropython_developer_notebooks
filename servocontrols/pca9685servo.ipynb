{
 "cells": [
  {
   "cell_type": "code",
   "execution_count": 2,
   "metadata": {},
   "outputs": [
    {
     "name": "stdout",
     "output_type": "stream",
     "text": [
      "Connecting to Serial /dev/ttyUSB0 baud=115200\n",
      "\u001b[32m\n",
      " ** Serial connected **\n",
      "\n",
      "\u001b[0mSerial<id=0x7fc5dea57b70, open=True>(port='/dev/ttyUSB0', baudrate=115200, bytesize=8, parity='N', stopbits=1, timeout=0.5, xonxoff=False, rtscts=False, dsrdtr=False)\n",
      "normal repl mode not detected b''\n",
      "not command mode\n",
      ".ets Jun  8 2016 00:22:57\n",
      "\n",
      "rst:0x1 (POWERON_RESET),boot:0x17 (SPI_FAST_FLASH_BOOT)\n",
      "configsip: 0, SPIWP:0xee\n",
      "clk_drv:0x00,q_drv:0x00,d_drv:0x00,cs0_drv:0x00,hd_drv:0x00,wp_drv:0x00\n",
      "mode:DIO, clock div:2\n",
      "load:0x3fff0010,len:4\n",
      "load:0x3fff0014,len:4268\n",
      "load:0x40078000,len:0\n",
      "load:0x40078000,len:10648\n",
      "entry 0x4007a56c\n",
      "OSError: [Errno 2] ENOENT\n",
      "MicroPython v1.9.2-273-g56f18602 on 2017-09-25; ESP32 module with ESP32\n",
      "Type \"help()\" for more information.\n",
      ">>>[reboot detected 0]repl is in normal command mode\n",
      "[\\r\\x03\\x03] b'\\r\\n>>> \\r\\n>>> \\r\\n>>> '\n",
      "[\\r\\x01] b'\\r\\n>>> \\r\\nraw REPL; CTRL-B to exit\\r\\n>' "
     ]
    }
   ],
   "source": [
    "%serialconnect\n"
   ]
  },
  {
   "cell_type": "code",
   "execution_count": 85,
   "metadata": {},
   "outputs": [
    {
     "name": "stdout",
     "output_type": "stream",
     "text": [
      "\u001b[32mWriting pca9685servo.py\n",
      "\n",
      "\u001b[0m"
     ]
    }
   ],
   "source": [
    "%%writefile pca9685servo.py\n",
    "\n",
    "import machine, time, math, ustruct\n",
    "\n",
    "i2c = machine.I2C(scl=machine.Pin(5), sda=machine.Pin(4))\n",
    "assert 0x40 in i2c.scan(), \"No PCA9685 connected to the I2C bus\"\n",
    "\n",
    "def _write(address, value):\n",
    "    i2c.writeto_mem(0x40, address, bytearray([value]))\n",
    "\n",
    "def _read(address):\n",
    "    return i2c.readfrom_mem(0x40, address, 1)[0]\n",
    "\n",
    "i2c.writeto_mem(0x40, 0x40, b'\\x00')   # Mode1\n",
    "\n",
    "# set frequency\n",
    "freq = 50\n",
    "prescale = int(25000000.0 / 4096.0 / freq + 0.5)\n",
    "old_mode = _read(0x00) # Mode 1\n",
    "_write(0x00, (old_mode & 0x7F) | 0x10) # Mode 1, sleep\n",
    "_write(0xfe, prescale) # Prescale\n",
    "_write(0x00, old_mode) # Mode 1\n",
    "time.sleep_us(5)\n",
    "_write(0x00, old_mode | 0xa1) # Mode 1, autoincrement on\n",
    "\n",
    "\n",
    "def setang(i, g):\n",
    "    pwmduty = int((0.5 + g/180*2.0)/(1000/freq)*4096)    \n",
    "    data = ustruct.pack('<HH', 0, pwmduty)\n",
    "    i2c.writeto_mem(0x40, 0x06 + 4 * i,  data)\n",
    "\n",
    "def getang(i):\n",
    "    data = i2c.readfrom_mem(0x40, 0x06 + 4 * i, 4)\n",
    "    pwmduty1 = ustruct.unpack('<HH', data)\n",
    "    pwmduty = pwmduty1[1]\n",
    "    return (pwmduty/4096*(1000/freq)-0.5)/2*180\n",
    "\n",
    "def setangspeed(vpos, degreespersecond = 500):\n",
    "    if degreespersecond == 0:\n",
    "        for i in range(len(vpos)):\n",
    "            setang(i, vpos[i])\n",
    "        return\n",
    "    cpos = [ getang(i)  for i in range(len(vpos)) ]\n",
    "    n = max(abs(c-v)  for c, v in zip(cpos, vpos))\n",
    "    for d in range(1, n+1):\n",
    "        for i in range(len(vpos)):\n",
    "            setang(i, cpos[i] + (d/n)*(vpos[i] - cpos[i]))\n",
    "            time.sleep(1/degreespersecond)\n",
    "\n",
    "            "
   ]
  },
  {
   "cell_type": "code",
   "execution_count": 82,
   "metadata": {},
   "outputs": [],
   "source": [
    "%sendtofile --source pca9685servo.py"
   ]
  },
  {
   "cell_type": "code",
   "execution_count": 88,
   "metadata": {},
   "outputs": [],
   "source": [
    "%disconnect\n"
   ]
  },
  {
   "cell_type": "code",
   "execution_count": null,
   "metadata": {
    "collapsed": true
   },
   "outputs": [],
   "source": []
  }
 ],
 "metadata": {
  "kernelspec": {
   "display_name": "MicroPython - USB",
   "language": "micropython",
   "name": "micropython"
  },
  "language_info": {
   "codemirror_mode": "python",
   "file_extension": ".py",
   "mimetype": "text/python",
   "name": "micropython"
  }
 },
 "nbformat": 4,
 "nbformat_minor": 2
}

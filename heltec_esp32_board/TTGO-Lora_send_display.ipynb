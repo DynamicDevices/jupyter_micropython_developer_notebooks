{
 "cells": [
  {
   "cell_type": "markdown",
   "metadata": {},
   "source": [
    "TTGO or Heltec receive any packet and display it on the OLED\n",
    "\n",
    "Depends on MicroPython for ESP32, \n",
    "and https://github.com/goatchurchprime/LightLora_MicroPython\n",
    "and ssd1306.py OLED library\n",
    "\n",
    "Useful set of documentes: https://github.com/Wei1234c/MQTT_bridged_LoRa_networks_with_MicroPython_on_ESP32/tree/master/references"
   ]
  },
  {
   "cell_type": "code",
   "execution_count": 2,
   "metadata": {},
   "outputs": [
    {
     "name": "stdout",
     "output_type": "stream",
     "text": [
      "\u001b[31m\n",
      "\n",
      "***Connection broken [Input/output error]\n",
      "\u001b[0mYou may need to reconnectserial exception on close write failed: [Errno 5] Input/output error\n",
      "\u001b[34mConnecting to --port=/dev/ttyUSB0 --baud=115200 \u001b[0m\n",
      "\u001b[34mReady.\n",
      "\u001b[0mSent 168 lines (5477 bytes) to ssd1306.py.\n",
      "Sent 106 lines (2864 bytes) to lib/LightLora/lorautil.py.\n",
      "Sent 397 lines (13311 bytes) to lib/LightLora/sx127x.py.\n",
      "Sent 64 lines (2087 bytes) to lib/LightLora/spicontrol.py.\n",
      "Sent 0 lines (0 bytes) to lib/LightLora/__init__.py.\n"
     ]
    }
   ],
   "source": [
    "# Run this to upload the files\n",
    "%serialconnect\n",
    "%sendtofile --quiet --source ssd1306.py\n",
    "%sendtofile --mkdir --quiet --source /home/julian/extrepositories/LightLora_MicroPython/LightLora/ lib/LightLora/"
   ]
  },
  {
   "cell_type": "code",
   "execution_count": 55,
   "metadata": {},
   "outputs": [
    {
     "name": "stdout",
     "output_type": "stream",
     "text": [
      "\u001b[31m\n",
      "\n",
      "***Connection broken [Input/output error]\n",
      "\u001b[0mYou may need to reconnectserial exception on close write failed: [Errno 5] Input/output error\n",
      "\u001b[34mConnecting to --port=/dev/ttyUSB4 --baud=115200 \u001b[0m\n",
      "\u001b[34mReady.\n",
      "\u001b[0m"
     ]
    }
   ],
   "source": [
    "# start here for interaction\n",
    "%serialconnect"
   ]
  },
  {
   "cell_type": "code",
   "execution_count": 18,
   "metadata": {},
   "outputs": [
    {
     "name": "stdout",
     "output_type": "stream",
     "text": [
      "Sent 12 lines (257 bytes) to main.py.\n"
     ]
    }
   ],
   "source": [
    "%sendtofile main.py\n",
    "\n",
    "from machine import Pin, I2C\n",
    "import ssd1306\n",
    "\n",
    "oledrst = Pin(16, Pin.OUT)\n",
    "oledrst.value(1)\n",
    "i2c = I2C(scl=Pin(15), sda=Pin(4), freq=450000)\n",
    "o = ssd1306.SSD1306_I2C(128, 64, i2c, addr=0x3c)\n",
    "\n",
    "o.fill(0)\n",
    "o.text('Connecting to', 0, 0)\n",
    "o.text('Lora', 0, 8)\n",
    "o.show() "
   ]
  },
  {
   "cell_type": "code",
   "execution_count": 57,
   "metadata": {},
   "outputs": [
    {
     "name": "stderr",
     "output_type": "stream",
     "text": [
      "Traceback (most recent call last):\n",
      "  File \"<stdin>\", line 18, in <module>\n",
      "NameError: name 'lorautil' is not defined\n"
     ]
    }
   ],
   "source": [
    "\n",
    "from LightLora import spicontrol, sx127x\n",
    "spic = spicontrol.SpiControl()\n",
    "spic.initLoraPins()\n",
    "\n",
    "params = {  'frequency': 868100000, \n",
    "            'tx_power_level': 14, \n",
    "            'signal_bandwidth': 125E3, \n",
    "            'spreading_factor': 7, \n",
    "            'coding_rate': 5, \n",
    "            'preamble_length': 8,\n",
    "            'implicitHeader': False, \n",
    "            'sync_word': 0x34,    # from _loraModem\n",
    "            'enable_CRC': True }\n",
    "\n",
    "lora = sx127x.SX127x(spiControl=spic, parameters=params)\n"
   ]
  },
  {
   "cell_type": "code",
   "execution_count": 60,
   "metadata": {
    "collapsed": true
   },
   "outputs": [],
   "source": [
    "lora.init()\n"
   ]
  },
  {
   "cell_type": "code",
   "execution_count": 71,
   "metadata": {},
   "outputs": [
    {
     "name": "stdout",
     "output_type": "stream",
     "text": [
      "[leftinbuffer] ['Traceback (most recent call last):']\n",
      "[leftinbuffer] ['  File \"/lib/LightLora/sx127x.py\", line 342, in _handleOnTransmit']\n",
      "[leftinbuffer] ['TypeError: function takes 1 positional arguments but 0 were given']\n"
     ]
    }
   ],
   "source": [
    "pkt = { }\n",
    "def _doReceive(sx12, pay):\n",
    "    self.packet = None\n",
    "    if pay and len(pay) > 4:\n",
    "        pkt[\"srcAddress\"] = pay[0]\n",
    "        pkt[\"dstAddress\"] = pay[1]\n",
    "        pkt[\"srcLineCount\"] = pay[2]\n",
    "        pkt[\"payLength\"] = pay[3]\n",
    "        pkt[\"rssi\"] = sx12.packetRssi()\n",
    "        pkt[\"snr\"] = sx12.packetSnr()\n",
    "        try:\n",
    "            pkt[\"msgTxt\"] = pay[4:].decode('utf-8', 'ignore')\n",
    "        except Exception as ex:\n",
    "            print(\"doReceiver error: \")\n",
    "            print(ex)\n",
    "\n",
    "doneTransmit = False\n",
    "def _doTransmit():\n",
    "    global doneTransmit\n",
    "    doneTransmit = True\n",
    "    lora.receive() # wait for a packet (?)\n",
    "            \n",
    "lora.onReceive(_doReceive)\n",
    "lora.onTransmit(_doTransmit)\n",
    "lora.receive()\n"
   ]
  },
  {
   "cell_type": "code",
   "execution_count": 64,
   "metadata": {},
   "outputs": [
    {
     "name": "stdout",
     "output_type": "stream",
     "text": [
      "{}\r\n"
     ]
    }
   ],
   "source": [
    "print(pkt)\n"
   ]
  },
  {
   "cell_type": "code",
   "execution_count": 67,
   "metadata": {},
   "outputs": [],
   "source": [
    "linecounter = 0\n",
    "\n",
    "def sendPacket(dstAddress, localAddress, outGoing):\n",
    "    global linecounter, doneTransmit\n",
    "    linecounter = linecounter + 1\n",
    "    doneTransmit = False\n",
    "    lora.beginPacket()\n",
    "    lora.write(bytearray([dstAddress, localAddress, linecounter, len(outGoing)]))\n",
    "    lora.write(outGoing)\n",
    "    lora.endPacket()\n",
    "\n",
    "import time\n",
    "def waitforsendpacket():\n",
    "    slt = 0\n",
    "    while (not doneTransmit) and (slt < 50):\n",
    "        time.sleep(.1)\n",
    "        slt = slt + 1\n",
    "    if slt == 50:\n",
    "        print(\"Transmit timeout\")\n",
    "\n",
    "               \n"
   ]
  },
  {
   "cell_type": "code",
   "execution_count": 77,
   "metadata": {},
   "outputs": [],
   "source": [
    "btxt = b\"\\x90\\x91\\x92\"\n",
    "sendPacket(0xfe, 0x41, btxt) \n"
   ]
  },
  {
   "cell_type": "code",
   "execution_count": 19,
   "metadata": {},
   "outputs": [
    {
     "name": "stdout",
     "output_type": "stream",
     "text": [
      "Sent 2 lines (72 bytes) to main.py.\n"
     ]
    }
   ],
   "source": [
    "%sendtofile --append main.py\n",
    "\n",
    "from lib.LightLora import lorautil, spicontrol\n",
    "lru = lorautil.LoraUtil()"
   ]
  },
  {
   "cell_type": "code",
   "execution_count": 54,
   "metadata": {
    "collapsed": true
   },
   "outputs": [],
   "source": [
    "lru.lora.setSyncWord(0x36)"
   ]
  },
  {
   "cell_type": "code",
   "execution_count": 53,
   "metadata": {},
   "outputs": [],
   "source": [
    "n = 1999\n",
    "txt = \"Hello %d there\"%n\n",
    "btxt = txt.encode()\n",
    "btxt = b\"\\x90\\x91\\x92\"\n",
    "lru.sendPacket(0xfe, 0x41, btxt) \n"
   ]
  },
  {
   "cell_type": "code",
   "execution_count": 32,
   "metadata": {},
   "outputs": [
    {
     "name": "stdout",
     "output_type": "stream",
     "text": [
      "Sent 13 lines (226 bytes) to main.py.\n"
     ]
    }
   ],
   "source": [
    "%sendtofile --append main.py\n",
    "\n",
    "import time\n",
    "\n",
    "n = 0\n",
    "while True:\n",
    "    time.sleep(2.2)\n",
    "    n += 1\n",
    "    txt = \"Hello %d there\"%n\n",
    "    lru.sendPacket(0xff, 0x21, txt.encode()) \n",
    "    pkt = lru.readPacket()\n",
    "    o.fill(0)\n",
    "    o.text('sent:%d' % (n), 0, 0)\n",
    "    o.show()\n",
    "\n"
   ]
  },
  {
   "cell_type": "code",
   "execution_count": 4,
   "metadata": {},
   "outputs": [
    {
     "name": "stdout",
     "output_type": "stream",
     "text": [
      "Exception 868100000\r\n"
     ]
    }
   ],
   "source": [
    "from LightLora import lorautil, spicontrol\n",
    "lru = lorautil.LoraUtil()\n"
   ]
  },
  {
   "cell_type": "code",
   "execution_count": null,
   "metadata": {
    "collapsed": true
   },
   "outputs": [],
   "source": []
  }
 ],
 "metadata": {
  "kernelspec": {
   "display_name": "MicroPython - USB",
   "language": "micropython",
   "name": "micropython"
  },
  "language_info": {
   "codemirror_mode": "python",
   "file_extension": ".py",
   "mimetype": "text/python",
   "name": "micropython"
  }
 },
 "nbformat": 4,
 "nbformat_minor": 2
}

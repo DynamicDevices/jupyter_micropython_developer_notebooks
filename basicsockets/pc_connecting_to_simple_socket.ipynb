{
 "cells": [
  {
   "cell_type": "code",
   "execution_count": 2,
   "metadata": {
    "collapsed": true
   },
   "outputs": [],
   "source": [
    "# Run this in your PC connected by wifi either to the ESP's hotspot or the common router\n",
    "# verify the existence of the ESP using sudo arp-scan 192.168.0.0/24\n",
    "\n",
    "# replicating function nc 10.107.1.125 9999 | tee -a touchpad.dat\n",
    "# shown in http://nick.zoic.org/art/esp32-capacitive-sensors/\n",
    "\n",
    "# sudo arp-scan 192.168.0.0/24\n",
    "\n",
    "import socket, time\n",
    "s = socket.socket()\n",
    "\n",
    "ipnumber = \"192.168.4.1\"     # when connecting to ESP as a hotspot\n",
    "#ipnumber = \"192.168.0.145\"  # when connecting via router (but check number)\n",
    "#ipnumber = \"192.168.1.33\"\n",
    "\n",
    "portnumber = 9999\n"
   ]
  },
  {
   "cell_type": "code",
   "execution_count": 4,
   "metadata": {},
   "outputs": [
    {
     "name": "stdout",
     "output_type": "stream",
     "text": [
      "('10.0.30.194', 8080)\n",
      "('93.93.131.30', 8080)\n"
     ]
    }
   ],
   "source": [
    "print(socket.getaddrinfo(\"mqtt.local\", 8080)[0][-1])\n",
    "print(socket.getaddrinfo(\"freesteel.co.uk\", 8080)[0][-1])"
   ]
  },
  {
   "cell_type": "code",
   "execution_count": 9,
   "metadata": {},
   "outputs": [
    {
     "data": {
      "text/plain": [
       "[1, 3, 5, 4]"
      ]
     },
     "execution_count": 9,
     "metadata": {},
     "output_type": "execute_result"
    }
   ],
   "source": [
    "\n",
    "\n",
    "import itertools\n",
    "b = [i for i in itertools.chain(*[(1,3),(5,4)])]\n",
    "b\n"
   ]
  },
  {
   "cell_type": "code",
   "execution_count": 2,
   "metadata": {
    "collapsed": true,
    "scrolled": false
   },
   "outputs": [],
   "source": [
    "# This is all that's required to connect - when the ESP is hanging on s.accept()\n",
    "s.connect(socket.getaddrinfo(ipnumber, portnumber)[0][-1])\n",
    "ss = s.makefile('rwb', 0)  # convert socket into an io stream\n"
   ]
  },
  {
   "cell_type": "code",
   "execution_count": 3,
   "metadata": {
    "collapsed": true
   },
   "outputs": [],
   "source": [
    "# You can now read and write to this connection \n",
    "# by iterating between the next two cells"
   ]
  },
  {
   "cell_type": "code",
   "execution_count": 4,
   "metadata": {
    "scrolled": true
   },
   "outputs": [
    {
     "data": {
      "text/plain": [
       "25"
      ]
     },
     "execution_count": 4,
     "metadata": {},
     "output_type": "execute_result"
    }
   ],
   "source": [
    "import time\n",
    "# write a message to be seen at the other end\n",
    "ss.write(\"Hello-{} from PC\\n\".format(int(time.time())).encode(\"utf8\"))"
   ]
  },
  {
   "cell_type": "code",
   "execution_count": 5,
   "metadata": {},
   "outputs": [
    {
     "data": {
      "text/plain": [
       "b'Hi-952 from ESP_807820\\n'"
      ]
     },
     "execution_count": 5,
     "metadata": {},
     "output_type": "execute_result"
    }
   ],
   "source": [
    "# read a message sent from the other end\n",
    "ss.readline()"
   ]
  },
  {
   "cell_type": "code",
   "execution_count": 16,
   "metadata": {
    "collapsed": true
   },
   "outputs": [],
   "source": [
    "ss.close()"
   ]
  },
  {
   "cell_type": "code",
   "execution_count": 11,
   "metadata": {},
   "outputs": [
    {
     "data": {
      "text/plain": [
       "b'hihihi'"
      ]
     },
     "execution_count": 11,
     "metadata": {},
     "output_type": "execute_result"
    }
   ],
   "source": [
    "ss.readall()"
   ]
  },
  {
   "cell_type": "code",
   "execution_count": 10,
   "metadata": {
    "collapsed": true
   },
   "outputs": [],
   "source": [
    "s.setblocking(True)"
   ]
  },
  {
   "cell_type": "code",
   "execution_count": 15,
   "metadata": {},
   "outputs": [
    {
     "data": {
      "text/plain": [
       "b'345'"
      ]
     },
     "execution_count": 15,
     "metadata": {},
     "output_type": "execute_result"
    }
   ],
   "source": [
    "import select\n",
    "r,w,e = select.select([s],[],[],0)\n",
    "s.recv(1000)"
   ]
  },
  {
   "cell_type": "code",
   "execution_count": 5,
   "metadata": {},
   "outputs": [
    {
     "name": "stdout",
     "output_type": "stream",
     "text": [
      "\u001b[1m{}\u001b[0m\n"
     ]
    }
   ],
   "source": [
    "print(\"\\x1b[1m{}\\x1b[0m\")\n",
    "                "
   ]
  },
  {
   "cell_type": "code",
   "execution_count": null,
   "metadata": {
    "collapsed": true
   },
   "outputs": [],
   "source": []
  }
 ],
 "metadata": {
  "kernelspec": {
   "display_name": "Python 3",
   "language": "python",
   "name": "python3"
  },
  "language_info": {
   "codemirror_mode": {
    "name": "ipython",
    "version": 3
   },
   "file_extension": ".py",
   "mimetype": "text/x-python",
   "name": "python",
   "nbconvert_exporter": "python",
   "pygments_lexer": "ipython3",
   "version": "3.6.6"
  }
 },
 "nbformat": 4,
 "nbformat_minor": 2
}

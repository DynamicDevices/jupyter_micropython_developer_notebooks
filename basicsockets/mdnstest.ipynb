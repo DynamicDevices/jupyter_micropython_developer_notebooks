{
 "cells": [
  {
   "cell_type": "code",
   "execution_count": 267,
   "metadata": {},
   "outputs": [
    {
     "name": "stdout",
     "output_type": "stream",
     "text": [
      "serial exception on close write failed: [Errno 5] Input/output error\n",
      "\u001b[34mConnecting to --port=/dev/ttyUSB2 --baud=115200 \u001b[0m\n",
      "Traceback (most recent call last):\n",
      "  File \"main.py\", line 9, in <module>\n",
      "  File \"fmqttqueue.py\", line 1, in <module>\n",
      "  File \"mqtt_as.py\", line 28, in <module>\n",
      "KeyboardInterrupt: \n",
      "MicroPython v1.10-227-g696549d2e on 2019-03-17; ESP32 module with ESP32\n",
      "Type \"help()\" for more information.\n",
      ">>> \n",
      ">>> \n",
      "raw REPL; CTRL-B to exit\n",
      ">\u001b[34mReady.\n",
      "\u001b[0m"
     ]
    }
   ],
   "source": [
    "%serialconnect"
   ]
  },
  {
   "cell_type": "code",
   "execution_count": 268,
   "metadata": {},
   "outputs": [
    {
     "name": "stdout",
     "output_type": "stream",
     "text": [
      "Sent 65 lines (2256 bytes) to minimalmdns.py.\n"
     ]
    }
   ],
   "source": [
    "%sendtofile --source minimalmdns.py"
   ]
  },
  {
   "cell_type": "code",
   "execution_count": 269,
   "metadata": {},
   "outputs": [
    {
     "name": "stdout",
     "output_type": "stream",
     "text": [
      "."
     ]
    }
   ],
   "source": [
    "import network, time\n",
    "si = network.WLAN(network.STA_IF) # create access-point interface\n",
    "si.active(True)         # activate the interface\n",
    "si.connect(\"DoESLiverpool\", \"decafbad00\")\n",
    "while not si.isconnected():\n",
    "    time.sleep(0.1)\n"
   ]
  },
  {
   "cell_type": "code",
   "execution_count": 270,
   "metadata": {},
   "outputs": [
    {
     "name": "stdout",
     "output_type": "stream",
     "text": [
      "True\n"
     ]
    }
   ],
   "source": [
    "print(si.isconnected())"
   ]
  },
  {
   "cell_type": "code",
   "execution_count": 272,
   "metadata": {},
   "outputs": [
    {
     "name": "stdout",
     "output_type": "stream",
     "text": [
      "mqtt.local 10.0.30.194\n"
     ]
    }
   ],
   "source": [
    "from minimalmdns import mdnshostnametoipnumber\n",
    "hostname = \"mqtt.local\"\n",
    "hostipnumber = mdnshostnametoipnumber(si, hostname)\n",
    "print(hostname, hostipnumber)\n"
   ]
  },
  {
   "cell_type": "code",
   "execution_count": null,
   "metadata": {},
   "outputs": [],
   "source": []
  },
  {
   "cell_type": "code",
   "execution_count": null,
   "metadata": {},
   "outputs": [],
   "source": []
  },
  {
   "cell_type": "code",
   "execution_count": null,
   "metadata": {},
   "outputs": [],
   "source": []
  },
  {
   "cell_type": "code",
   "execution_count": null,
   "metadata": {},
   "outputs": [],
   "source": []
  },
  {
   "cell_type": "code",
   "execution_count": null,
   "metadata": {},
   "outputs": [],
   "source": []
  },
  {
   "cell_type": "code",
   "execution_count": 168,
   "metadata": {},
   "outputs": [
    {
     "name": "stdout",
     "output_type": "stream",
     "text": [
      "[(2, 1, 0, 'freesteel.co.uk', ('93.93.131.30', 8080))]\n"
     ]
    }
   ],
   "source": [
    "import socket\n",
    "print(socket.getaddrinfo(\"freesteel.co.uk\", 8080))\n"
   ]
  },
  {
   "cell_type": "code",
   "execution_count": 169,
   "metadata": {},
   "outputs": [
    {
     "name": "stdout",
     "output_type": "stream",
     "text": [
      "[]\n"
     ]
    }
   ],
   "source": [
    "print(socket.getaddrinfo(\"mqtt.local\", 8080))\n"
   ]
  },
  {
   "cell_type": "code",
   "execution_count": 253,
   "metadata": {},
   "outputs": [],
   "source": [
    "import socket, select, time, ustruct\n",
    "\n",
    "def createmdnsrequestpacket(name):\n",
    "    q = bytearray(b'\\x00\\x01\\x00\\x00\\x00\\x01\\x00\\x00\\x00\\x00\\x00\\x00')\n",
    "    for x in name.encode().split(b\".\"):\n",
    "        q.append(len(x))\n",
    "        q.extend(x)\n",
    "    q.extend(b\"\\x00\\x00\\x01\\x00\\x01\")\n",
    "    return q\n",
    "\n",
    "def extractpackedname(buf, o):\n",
    "    names = [ ]\n",
    "    while buf[o] != 0:\n",
    "        if buf[o] & 0xc0:\n",
    "            o = ustruct.unpack_from(\"!H\", buf, o)[0] & 0x3FFF\n",
    "        else:\n",
    "            names.append(bytes(buf[o+1:o+1+buf[o]]))\n",
    "            o += 1+buf[o]\n",
    "    return b\".\".join(names).decode()\n",
    "\n",
    "def lenpackedname(buf, o):\n",
    "    i = 0\n",
    "    while (buf[o+i] != 0) and ((buf[o+i] & 0xc0) != 0xc0):\n",
    "        i += 1 + buf[o+i]\n",
    "    return i + (1 if buf[o+i] == 0 else 2)\n",
    "\n",
    "def decoderesponsepacket(name, buf):\n",
    "    hostipnumber = ''\n",
    "    try:\n",
    "        pkt_id, flags, qst_count, ans_count = ustruct.unpack_from(\"!HHHH\", buf)\n",
    "        o = 12\n",
    "        for i in range(qst_count):\n",
    "            o += lenpackedname(buf, o) + 4\n",
    "        for i in range(ans_count):\n",
    "            l = lenpackedname(buf, o)\n",
    "            if name == extractpackedname(buf, o):\n",
    "                hostipnumber = \".\".join(map(str, buf[o+l+10:o+l+14]))\n",
    "            o += 10 + l + ustruct.unpack_from(\"!H\", buf, o+l+8)[0]\n",
    "    except IndexError:\n",
    "        print(\"Index error processing packet; probably malformed data\")\n",
    "    return hostipnumber\n",
    "\n"
   ]
  },
  {
   "cell_type": "code",
   "execution_count": 257,
   "metadata": {},
   "outputs": [
    {
     "name": "stdout",
     "output_type": "stream",
     "text": [
      "10.0.30.194\n"
     ]
    }
   ],
   "source": [
    "def decodehostname(name):\n",
    "    MDNS_ADDR = '224.0.0.251'\n",
    "    MDNS_PORT = const(5353)\n",
    "\n",
    "    ipnumber = si.ifconfig()[0]\n",
    "    sock = socket.socket(socket.AF_INET, socket.SOCK_DGRAM)\n",
    "    sock.setsockopt(socket.SOL_SOCKET, socket.SO_REUSEADDR, 1)\n",
    "    member_info = bytes(tuple(map(int, MDNS_ADDR.split(\".\"))) + tuple(map(int, ipnumber.split(\".\"))))\n",
    "    sock.setsockopt(socket.IPPROTO_IP, socket.IP_ADD_MEMBERSHIP, member_info)\n",
    "    \n",
    "    for i in range(3):\n",
    "        q = createmdnsrequestpacket(name)\n",
    "        sock.sendto(q, (MDNS_ADDR, MDNS_PORT))\n",
    "        rr = select.select([sock], [], [], 1)[0]\n",
    "        while rr:\n",
    "            buf, addr = sock.recvfrom(250)\n",
    "            if addr[0] != ipnumber:\n",
    "                hostipnumber = decoderesponsepacket(hostname, buf)\n",
    "                if hostipnumber:\n",
    "                    return hostipnumber\n",
    "            rr = select.select([sock], [], [], 0)[0]\n",
    "    return ''\n",
    "\n",
    "print(decodehostname(hostname))"
   ]
  },
  {
   "cell_type": "code",
   "execution_count": 250,
   "metadata": {},
   "outputs": [
    {
     "name": "stdout",
     "output_type": "stream",
     "text": [
      "b'\\x00\\x01\\x84\\x00\\x00\\x01\\x00\\x01\\x00\\x00\\x00\\x00\\x04mqtt\\x05local\\x00\\x00\\x01\\x00\\x01\\xc0\\x0c\\x00\\x01\\x00\\x01\\x00\\x00\\x00\\n\\x00\\x04\\n\\x00\\x1e\\xc2' ('10.0.30.194', 5353)\n"
     ]
    }
   ],
   "source": [
    "buf, addr = sock.recvfrom(500)\n",
    "print(buf, addr)\n"
   ]
  },
  {
   "cell_type": "code",
   "execution_count": 254,
   "metadata": {},
   "outputs": [
    {
     "name": "stdout",
     "output_type": "stream",
     "text": [
      "10.0.30.194\n"
     ]
    }
   ],
   "source": [
    "print(decoderesponsepacket(hostname, buf))"
   ]
  },
  {
   "cell_type": "code",
   "execution_count": null,
   "metadata": {},
   "outputs": [],
   "source": []
  },
  {
   "cell_type": "code",
   "execution_count": null,
   "metadata": {},
   "outputs": [],
   "source": []
  },
  {
   "cell_type": "code",
   "execution_count": 171,
   "metadata": {},
   "outputs": [
    {
     "name": "stdout",
     "output_type": "stream",
     "text": [
      "b'\\xdf\\x00\\x00\\xfb\\n\\x00%\\xed'\n"
     ]
    }
   ],
   "source": [
    "ipnumber = si.ifconfig()[0]\n",
    "member_info = bytes((223, 0, 0, 251) + tuple(map(int, ipnumber.split(\".\"))))\n",
    "print(member_info)\n",
    "                    "
   ]
  },
  {
   "cell_type": "code",
   "execution_count": 41,
   "metadata": {},
   "outputs": [],
   "source": []
  },
  {
   "cell_type": "code",
   "execution_count": 247,
   "metadata": {},
   "outputs": [],
   "source": [
    "\n",
    "hostname = \"mqtt.local\"\n",
    "\n",
    "MDNS_ADDR = '224.0.0.251'\n",
    "MDNS_PORT = const(5353)\n",
    "\n",
    "ipnumber = si.ifconfig()[0]\n",
    "sock = socket.socket(socket.AF_INET, socket.SOCK_DGRAM)\n",
    "sock.setsockopt(socket.SOL_SOCKET, socket.SO_REUSEADDR, 1)\n",
    "member_info = bytes(tuple(map(int, MDNS_ADDR.split(\".\"))) + tuple(map(int, ipnumber.split(\".\"))))\n",
    "sock.setsockopt(socket.IPPROTO_IP, socket.IP_ADD_MEMBERSHIP, member_info)\n",
    "\n"
   ]
  },
  {
   "cell_type": "code",
   "execution_count": 84,
   "metadata": {},
   "outputs": [
    {
     "name": "stdout",
     "output_type": "stream",
     "text": [
      "[b'mqtt', b'locadd', b'dl']\n"
     ]
    }
   ],
   "source": [
    "def check_name(n):\n",
    "    if isinstance(n, str):\n",
    "        n = n.split(\".\")\n",
    "        if n[-1] == '':\n",
    "            n = n[:-1]\n",
    "    n = [i.encode(\"UTF8\") if isinstance(i, str) else i for i in n]\n",
    "    return n\n",
    "print(check_name(\"mqtt.locadd.dl\"))"
   ]
  },
  {
   "cell_type": "code",
   "execution_count": 42,
   "metadata": {},
   "outputs": [],
   "source": [
    "# Pack a question into a new array and return it as a memoryview\n",
    "def pack_question(name, qtype, qclass):\n",
    "    # Return a pre-packed question as a memoryview\n",
    "    name = check_name(name)\n",
    "    name_len = name_packed_len(name)\n",
    "    buf = bytearray(name_len + 4)\n",
    "    pack_name(buf, name)\n",
    "    pack_into(\"!HH\", buf, name_len, qtype, qclass)\n",
    "    return memoryview(buf)\n"
   ]
  },
  {
   "cell_type": "code",
   "execution_count": 177,
   "metadata": {},
   "outputs": [
    {
     "name": "stdout",
     "output_type": "stream",
     "text": [
      "b'\\x04mqtt\\x05local\\x00\\x00\\x01\\x00\\x01'\n",
      "[<socket>]\n",
      "packet received\n",
      "b'\\x00\\x01\\x84\\x00\\x00\\x01\\x00\\x01\\x00\\x00\\x00\\x00\\x04mqtt\\x05local\\x00\\x00\\x01\\x00\\x01\\xc0\\x0c\\x00\\x01\\x00\\x01\\x00\\x00\\x00\\n\\x00\\x04\\n\\x00\\x1e\\xc2'\n",
      "qcount 12\n",
      "qcountA 28\n",
      "ans_count 1 28\n",
      "compare_q_and_a b'\\x04mqtt\\x05local\\x00\\x00\\x01\\x00\\x01' 0 b'\\x00\\x01\\x84\\x00\\x00\\x01\\x00\\x01\\x00\\x00\\x00\\x00\\x04mqtt\\x05local\\x00\\x00\\x01\\x00\\x01\\xc0\\x0c\\x00\\x01\\x00\\x01\\x00\\x00\\x00\\n\\x00\\x04\\n\\x00\\x1e\\xc2' 28\n",
      "pp1 0 28\n",
      "pp2 0 12\n",
      "pp1 5 17\n",
      "pp2 5 17\n",
      "compare_q_and_a b'\\x04mqtt\\x05local\\x00\\x00\\x01\\x00\\x01' 0 b'\\xc0\\x0c\\x00\\x01\\x00\\x01\\x00\\x00\\x00\\n\\x00\\x04\\n\\x00\\x1e\\xc2' 28\n",
      "got answer b'\\xc0\\x0c\\x00\\x01\\x00\\x01\\x00\\x00\\x00\\n\\x00\\x04\\n\\x00\\x1e\\xc2'\n",
      "[]\n",
      "[<socket>]\n",
      "packet received\n",
      "b'\\x00\\x01\\x84\\x00\\x00\\x01\\x00\\x01\\x00\\x00\\x00\\x00\\x04mqtt\\x05local\\x00\\x00\\x01\\x00\\x01\\xc0\\x0c\\x00\\x01\\x00\\x01\\x00\\x00\\x00\\n\\x00\\x04\\n\\x00\\x1e\\xc2'\n",
      "qcount 12\n",
      "qcountA 28\n",
      "ans_count 1 28\n",
      "compare_q_and_a b'\\x04mqtt\\x05local\\x00\\x00\\x01\\x00\\x01' 0 b'\\x00\\x01\\x84\\x00\\x00\\x01\\x00\\x01\\x00\\x00\\x00\\x00\\x04mqtt\\x05local\\x00\\x00\\x01\\x00\\x01\\xc0\\x0c\\x00\\x01\\x00\\x01\\x00\\x00\\x00\\n\\x00\\x04\\n\\x00\\x1e\\xc2' 28\n",
      "pp1 0 28\n",
      "pp2 0 12\n",
      "pp1 5 17\n",
      "pp2 5 17\n",
      "compare_q_and_a b'\\x04mqtt\\x05local\\x00\\x00\\x01\\x00\\x01' 0 b'\\xc0\\x0c\\x00\\x01\\x00\\x01\\x00\\x00\\x00\\n\\x00\\x04\\n\\x00\\x1e\\xc2' 28\n",
      "got answer b'\\xc0\\x0c\\x00\\x01\\x00\\x01\\x00\\x00\\x00\\n\\x00\\x04\\n\\x00\\x1e\\xc2'\n",
      "[]\n",
      "[<socket>]\n",
      "packet received\n",
      "b'\\x00\\x01\\x84\\x00\\x00\\x01\\x00\\x01\\x00\\x00\\x00\\x00\\x04mqtt\\x05local\\x00\\x00\\x01\\x00\\x01\\xc0\\x0c\\x00\\x01\\x00\\x01\\x00\\x00\\x00\\n\\x00\\x04\\n\\x00\\x1e\\xc2'\n",
      "qcount 12\n",
      "qcountA 28\n",
      "ans_count 1 28\n",
      "compare_q_and_a b'\\x04mqtt\\x05local\\x00\\x00\\x01\\x00\\x01' 0 b'\\x00\\x01\\x84\\x00\\x00\\x01\\x00\\x01\\x00\\x00\\x00\\x00\\x04mqtt\\x05local\\x00\\x00\\x01\\x00\\x01\\xc0\\x0c\\x00\\x01\\x00\\x01\\x00\\x00\\x00\\n\\x00\\x04\\n\\x00\\x1e\\xc2' 28\n",
      "pp1 0 28\n",
      "pp2 0 12\n",
      "pp1 5 17\n",
      "pp2 5 17\n",
      "compare_q_and_a b'\\x04mqtt\\x05local\\x00\\x00\\x01\\x00\\x01' 0 b'\\xc0\\x0c\\x00\\x01\\x00\\x01\\x00\\x00\\x00\\n\\x00\\x04\\n\\x00\\x1e\\xc2' 28\n",
      "got answer b'\\xc0\\x0c\\x00\\x01\\x00\\x01\\x00\\x00\\x00\\n\\x00\\x04\\n\\x00\\x1e\\xc2'\n",
      "[]\n",
      "[10, 0, 30, 194]\n",
      "[10, 0, 30, 194]\n",
      "[10, 0, 30, 194]\n"
     ]
    }
   ],
   "source": [
    "# scavenged from https://github.com/nickovs/slimDNS\n",
    "hostname = \"mqtt.local\"\n",
    "_MDNS_PORT = const(5353);\n",
    "MAX_PACKET_SIZE = const(1024)\n",
    "_CLASS_MASK   = const(0x7FFF)\n",
    "local_addr = ipnumber\n",
    "\n",
    "from ustruct import pack_into, unpack_from\n",
    "from select import select\n",
    "import time\n",
    "\n",
    "def pack_name(buf, name):\n",
    "    # We don't support writing with name compression, BIWIOMS\n",
    "    o = 0\n",
    "    for part in name:\n",
    "        pl = len(part)\n",
    "        buf[o] = pl\n",
    "        buf[o+1:o+pl+1] = part\n",
    "        o += pl+1\n",
    "    buf[o] = 0\n",
    "    \n",
    "# Find the memory size needed to pack a name without compression\n",
    "def name_packed_len(name):\n",
    "    return sum(len(i)+1 for i in name) + 1\n",
    "    \n",
    "# Pack a question into a new array and return it as a memoryview\n",
    "def pack_question(name, qtype, qclass):\n",
    "    # Return a pre-packed question as a memoryview\n",
    "    name = check_name(name)\n",
    "    name_len = name_packed_len(name)\n",
    "    buf = bytearray(name_len + 4)\n",
    "    pack_name(buf, name)\n",
    "    pack_into(\"!HH\", buf, name_len, qtype, qclass)\n",
    "    return memoryview(buf)\n",
    "\n",
    "# Move the offset past the name to which it currently points\n",
    "def skip_name_at(buf, o):\n",
    "    while True:\n",
    "        l = buf[o]\n",
    "        if l == 0:\n",
    "            o += 1\n",
    "            break\n",
    "        elif (l & 0xc0) == 0xc0:\n",
    "            o += 2\n",
    "            break\n",
    "        else:\n",
    "            o += l+1\n",
    "    return o\n",
    "\n",
    "\n",
    "# Ensure that a name is in the form of a list of encoded blocks of\n",
    "# bytes, typically starting as a qualified domain name\n",
    "def check_name(n):\n",
    "    if isinstance(n, str):\n",
    "        n = n.split(\".\")\n",
    "        if n[-1] == '':\n",
    "            n = n[:-1]\n",
    "    n = [i.encode(\"UTF8\") if isinstance(i, str) else i for i in n]\n",
    "    return n\n",
    "\n",
    "_TYPE_A    = const(1)\n",
    "_CLASS_IN     = const(1)\n",
    "\n",
    "\n",
    "import time\n",
    "\n",
    "answers = []\n",
    "\n",
    "# Advance the offset past the question to which it points\n",
    "def skip_question(buf, o):\n",
    "    o = skip_name_at(buf, o)\n",
    "    return o + 4\n",
    "\n",
    "# Advance the offset past the answer to which it points\n",
    "def skip_answer(buf, o):\n",
    "    o = skip_name_at(buf, o)\n",
    "    (rdlen,) = unpack_from(\"!H\", buf, o+8)\n",
    "    return o + 10 + rdlen\n",
    "\n",
    "# Test if two possibly compressed names are equal\n",
    "def compare_packed_names(buf, o, packed_name, po=0):\n",
    "    while packed_name[po] != 0:\n",
    "        print(\"pp1\", o, po)\n",
    "        while buf[o] & 0xc0:\n",
    "            (o,) = unpack_from(\"!H\", buf, o)\n",
    "            o &= 0x3fff\n",
    "        while packed_name[po] & 0xc0:\n",
    "            (po,) = unpack_from(\"!H\", packed_name, po)\n",
    "            po &= 0x3fff\n",
    "        print(\"pp2\", o, po)\n",
    "        l1 = buf[o] +1\n",
    "        l2 = packed_name[po] +1\n",
    "        if l1 != l2 or buf[o:o+l1] != packed_name[po:po+l2]:\n",
    "            return False\n",
    "        o += l1\n",
    "        po += l2\n",
    "    return buf[o] == 0\n",
    "\n",
    "\n",
    "def compare_q_and_a(q_buf, q_offset, a_buf, a_offset=0):\n",
    "    print(\"compare_q_and_a\", bytes(q_buf), q_offset, bytes(a_buf), a_offset)\n",
    "    if not compare_packed_names(q_buf, q_offset, a_buf, a_offset):\n",
    "        return False\n",
    "    print(\"compare_q_and_a\", bytes(q_buf[q_offset:]), q_offset, bytes(a_buf[a_offset:]), a_offset)\n",
    "    (q_type, q_class) = unpack_from(\"!HH\", q_buf, skip_name_at(q_buf, q_offset))\n",
    "    (r_type, r_class) = unpack_from(\"!HH\", a_buf, skip_name_at(a_buf, a_offset))\n",
    "    if not (q_type == r_type or q_type == _TYPE_ANY):\n",
    "        return False\n",
    "    q_class &= _CLASS_MASK\n",
    "    r_class &= _CLASS_MASK\n",
    "    return (q_class == r_class or q_class == _TYPE_ANY)\n",
    "\n",
    "\n",
    "_reply_buffer = None\n",
    "def process_packet(buf, addr):\n",
    "    global _reply_buffer\n",
    "    # Process a single multicast DNS packet\n",
    "    (pkt_id, flags, qst_count, ans_count, _, _) = unpack_from(\"!HHHHHH\", buf, 0)\n",
    "    o = 12\n",
    "    matches = []\n",
    "    reply_len = 12\n",
    "    for i in range(qst_count):\n",
    "        print(\"qcount\", o)\n",
    "        o = skip_question(buf, o)\n",
    "        print(\"qcountA\", o)\n",
    "\n",
    "    # In theory we could do known answer suppression here\n",
    "    # We don't, BIWIOMS\n",
    "    if _pending_question:\n",
    "        print(\"ans_count\", ans_count, o)\n",
    "        for i in range(ans_count):\n",
    "            if compare_q_and_a(_pending_question, 0, buf, o):\n",
    "                print(\"got answer\", bytes(buf[o:skip_answer(buf,o)]))\n",
    "                if answers.append(buf[o:skip_answer(buf,o)]):\n",
    "                    answered = True\n",
    "            o = skip_answer(buf,o)\n",
    "\n",
    "    if not matches:\n",
    "        return\n",
    "\n",
    "    # We could check for duplicates in the answers (which is\n",
    "    # possible) but we don't, BIWIOMS\n",
    "\n",
    "    # Since Micropython sockets don't currently support\n",
    "    # recvfrom_into() we need to have our own buffer for the\n",
    "    # reply, even though we are now done with the receiving buffer\n",
    "\n",
    "    if not _reply_buffer or len(_reply_buffer) < reply_len:\n",
    "        # print(\"Making new reply buffer of len {}\".format(reply_len))\n",
    "        _reply_buffer = memoryview(bytearray(reply_len))\n",
    "\n",
    "    buf = _reply_buffer\n",
    "    pack_into(\"!HHHHHH\", buf, 0,\n",
    "              pkt_id, _FLAGS_QR_RESPONSE | _FLAGS_AA,\n",
    "              0, len(matches), 0, 0)\n",
    "    o = 12\n",
    "    for a in matches:\n",
    "        l = len(a)\n",
    "        buf[o:o+l] = a\n",
    "        o += l\n",
    "\n",
    "    # print(\"Sending packed reply: {}\".format(bytes(buf[:o])))\n",
    "\n",
    "    # We fake the handling of unicast replies. If the packet came\n",
    "    # from the mutlicast port we multicast the reply but if it\n",
    "    # came from any other port we unicast the reply.\n",
    "    self.sock.sendto(buf[:o], (_MDNS_ADDR, _MDNS_PORT) if addr[0] == _MDNS_PORT else addr)\n",
    "\n",
    "\n",
    "\n",
    "def process_waiting_packets():\n",
    "    # Handle all the packets that can be read immediately and\n",
    "    # return as soon as none are waiting\n",
    "    while True:\n",
    "        readers, _, _ = select([sock], [], [], 0)\n",
    "        if not readers:\n",
    "            break\n",
    "        buf, addr = sock.recvfrom(MAX_PACKET_SIZE)\n",
    "        print(\"packet received\")\n",
    "        print(buf)\n",
    "        # print(\"Received {} bytes from {}\".format(len(buf), addr))\n",
    "        if buf and addr[0] != local_addr:\n",
    "            try:\n",
    "                process_packet(memoryview(buf), addr)\n",
    "            except IndexError:\n",
    "                print(\"Index error processing packet; probably malformed data\")\n",
    "            except Exception as e:\n",
    "                print(\"Error processing packet: {}\".format(e))\n",
    "                # raise e\n",
    "\n",
    "_pending_question = None\n",
    "_answer_callback = None\n",
    "answered = None\n",
    "\n",
    "\n",
    "\n",
    "\n",
    "# Look up an IPv4 address for a hostname using mDNS.\n",
    "q = pack_question(hostname, _TYPE_A, _CLASS_IN)\n",
    "_pending_question = q\n",
    "print(bytes(q))\n",
    "\n",
    "#def _answer_handler(a):\n",
    "#    addr_offset = skip_name_at(a, 0) + 10\n",
    "#    answer.append(a[addr_offset:addr_offset+4])\n",
    "#    return True\n",
    "#return bytes(answer[0]) if answer else None\n",
    "\n",
    "fast=False\n",
    "retry_count=3\n",
    "\n",
    "# Send our a (packed) question, and send matching replies to\n",
    "# the answer_callback function.  This will stop after sending\n",
    "# the given number of retries and waiting for the a timeout on\n",
    "# each, or sooner if the answer_callback function returns True\n",
    "p = bytearray(len(q)+12)\n",
    "pack_into(\"!HHHHHH\", p, 0, 1, 0, 1, 0, 0, 0, 0)\n",
    "p[12:] = q\n",
    "\n",
    "try:\n",
    "    for i in range(retry_count):\n",
    "        if answered:\n",
    "            break\n",
    "        sock.sendto(p, (MDNS_ADDR, MDNS_PORT))\n",
    "        timeout = time.ticks_ms() + (250 if fast else 1000)\n",
    "        while not answered:\n",
    "            sel_time = time.ticks_diff(timeout, time.ticks_ms())\n",
    "            if sel_time <= 0:\n",
    "                break\n",
    "            (rr, _, _) = select([sock], [], [], sel_time/1000.0)\n",
    "            print(rr)\n",
    "            if rr:\n",
    "                process_waiting_packets()\n",
    "finally:\n",
    "    _pending_question = None\n",
    "    _answer_callback = None\n",
    "\n",
    "for a in answers:\n",
    "    addr_offset = skip_name_at(a, 0) + 10\n",
    "    answer = a[addr_offset:addr_offset+4]\n",
    "    print(list(answer))\n",
    "    "
   ]
  },
  {
   "cell_type": "code",
   "execution_count": 64,
   "metadata": {},
   "outputs": [
    {
     "name": "stdout",
     "output_type": "stream",
     "text": [
      "b'\\xc0\\x0c\\x00\\x01\\x00\\x01\\x00\\x00\\x00\\n\\x00\\x04\\n\\x00\\x1e\\xc2'\n"
     ]
    }
   ],
   "source": [
    "print(bytes(answers[2]))"
   ]
  },
  {
   "cell_type": "code",
   "execution_count": 69,
   "metadata": {},
   "outputs": [
    {
     "name": "stdout",
     "output_type": "stream",
     "text": [
      "\u001b[34mConnecting to --port=/dev/ttyUSB2 --baud=115200 \u001b[0m\n",
      "\u001b[34mReady.\n",
      "\u001b[0m"
     ]
    }
   ],
   "source": [
    "%serialconnect"
   ]
  },
  {
   "cell_type": "code",
   "execution_count": null,
   "metadata": {},
   "outputs": [],
   "source": []
  },
  {
   "cell_type": "code",
   "execution_count": 174,
   "metadata": {},
   "outputs": [],
   "source": [
    "import socket\n",
    "\n",
    "hostname = \"mqtt.local\"\n",
    "\n",
    "MDNS_ADDR = '224.0.0.251'\n",
    "MDNS_PORT = const(5353)\n",
    "\n",
    "ipnumber = si.ifconfig()[0]\n",
    "sock = socket.socket(socket.AF_INET, socket.SOCK_DGRAM)\n",
    "sock.setsockopt(socket.SOL_SOCKET, socket.SO_REUSEADDR, 1)\n",
    "member_info = bytes(tuple(map(int, MDNS_ADDR.split(\".\"))) + tuple(map(int, ipnumber.split(\".\"))))\n",
    "sock.setsockopt(socket.IPPROTO_IP, socket.IP_ADD_MEMBERSHIP, member_info)\n"
   ]
  },
  {
   "cell_type": "code",
   "execution_count": 243,
   "metadata": {},
   "outputs": [],
   "source": [
    "hostname = \"mqtt.local\"\n",
    "\n",
    "def createmdnsrequestpacket(name):\n",
    "    q = bytearray(b'\\x00\\x01\\x00\\x00\\x00\\x01\\x00\\x00\\x00\\x00\\x00\\x00')\n",
    "    for x in name.encode().split(b\".\"):\n",
    "        q.append(len(x))\n",
    "        q.extend(x)\n",
    "    q.extend(b\"\\x00\\x00\\x01\\x00\\x01\")\n",
    "    return q\n",
    "\n",
    "def extractpackedname(buf, o):\n",
    "    names = [ ]\n",
    "    while buf[o] != 0:\n",
    "        if buf[o] & 0xc0:\n",
    "            o = ustruct.unpack_from(\"!H\", buf, o)[0] & 0x3FFF\n",
    "        else:\n",
    "            names.append(bytes(buf[o+1:o+1+buf[o]]))\n",
    "            o += 1+buf[o]\n",
    "    print(names)\n",
    "    return b\".\".join(names).decode()\n",
    "\n",
    "def lenpackedname(buf, o):\n",
    "    i = 0\n",
    "    while (buf[o+i] != 0) and ((buf[o+i] & 0xc0) != 0xc0):\n",
    "        i += 1 + buf[o+i]\n",
    "    return i + (1 if buf[o+i] == 0 else 2)\n",
    "\n",
    "def decoderesponsepacket(hostname, buf):\n",
    "    hostipnumber = ''\n",
    "    try:\n",
    "        pkt_id, flags, qst_count, ans_count = ustruct.unpack_from(\"!HHHH\", buf)\n",
    "        o = 12\n",
    "        for i in range(qst_count):\n",
    "            o += lenpackedname(buf, o) + 4\n",
    "        for i in range(ans_count):\n",
    "            l = lenpackedname(buf, o)\n",
    "            if hostname == extractpackedname(buf, o):\n",
    "                hostipnumber = \".\".join(map(str, buf[o+l+10:o+l+14]))\n",
    "                print(hostipnumber)\n",
    "            o += 10 + l + ustruct.unpack_from(\"!H\", buf, o+l+8)[0]\n",
    "        print(o, len(buf))\n",
    "    except IndexError:\n",
    "        print(\"Index error processing packet; probably malformed data\")\n",
    "    return hostipnumber\n",
    "\n"
   ]
  },
  {
   "cell_type": "code",
   "execution_count": 244,
   "metadata": {},
   "outputs": [
    {
     "name": "stdout",
     "output_type": "stream",
     "text": [
      "[<socket>]\n"
     ]
    }
   ],
   "source": [
    "import time\n",
    "import select\n",
    "q = createmdnsrequestpacket(hostname)\n",
    "sock.sendto(q, (MDNS_ADDR, MDNS_PORT))\n",
    "rr = select.select([sock], [], [], 1)[0]\n",
    "print(rr)"
   ]
  },
  {
   "cell_type": "code",
   "execution_count": 245,
   "metadata": {},
   "outputs": [
    {
     "name": "stdout",
     "output_type": "stream",
     "text": [
      "b'\\x00\\x01\\x84\\x00\\x00\\x01\\x00\\x01\\x00\\x00\\x00\\x00\\x04mqtt\\x05local\\x00\\x00\\x01\\x00\\x01\\xc0\\x0c\\x00\\x01\\x00\\x01\\x00\\x00\\x00\\n\\x00\\x04\\n\\x00\\x1e\\xc2' ('10.0.30.194', 5353)\n"
     ]
    }
   ],
   "source": [
    "buf, addr = sock.recvfrom(500)\n",
    "print(buf, addr)"
   ]
  },
  {
   "cell_type": "code",
   "execution_count": 142,
   "metadata": {},
   "outputs": [
    {
     "name": "stdout",
     "output_type": "stream",
     "text": [
      "10.0.37.237 10.0.30.194\n"
     ]
    }
   ],
   "source": [
    "print(ipnumber, addr[0])"
   ]
  },
  {
   "cell_type": "code",
   "execution_count": 139,
   "metadata": {},
   "outputs": [
    {
     "name": "stdout",
     "output_type": "stream",
     "text": [
      "[<socket>]\n"
     ]
    }
   ],
   "source": [
    "\n",
    "# print(\"Received {} bytes from {}\".format(len(buf), addr))\n",
    "if buf and addr[0] != local_addr:\n",
    "    try:\n",
    "        process_packet(memoryview(buf), addr)\n",
    "    except IndexError:\n",
    "        print(\"Index error processing packet; probably malformed data\")\n",
    "    except Exception as e:\n",
    "        print(\"Error processing packet: {}\".format(e))\n",
    "        # raise e\n"
   ]
  },
  {
   "cell_type": "code",
   "execution_count": 159,
   "metadata": {},
   "outputs": [
    {
     "name": "stdout",
     "output_type": "stream",
     "text": [
      "(1, 33792, 1, 1, 0, 0)\n"
     ]
    }
   ],
   "source": [
    "print(ustruct.unpack_from(\"!HHHHHH\", buf, 0))"
   ]
  },
  {
   "cell_type": "code",
   "execution_count": 240,
   "metadata": {},
   "outputs": [
    {
     "name": "stdout",
     "output_type": "stream",
     "text": [
      "[b'mqtt', b'local']\n",
      "10.0.30.194\n",
      "44 44\n"
     ]
    }
   ],
   "source": [
    "\n",
    "import ustruct\n",
    "\n",
    "pkt_id, flags, qst_count, ans_count = ustruct.unpack_from(\"!HHHH\", buf)\n",
    "\n",
    "hostipnumber = ''\n",
    "o = 12\n",
    "for i in range(qst_count):\n",
    "    o += lenpackedname(buf, o) + 4\n",
    "for i in range(ans_count):\n",
    "    l = lenpackedname(buf, o)\n",
    "    if hostname == extractpackedname(buf, o):\n",
    "        hostipnumber = \".\".join(map(str, buf[o+l+10:o+l+14]))\n",
    "        print(hostipnumber)\n",
    "    o += 10 + l + ustruct.unpack_from(\"!H\", buf, o+l+8)[0]\n",
    "print(o, len(buf))\n",
    "\n",
    "#except IndexError:\n",
    "#    print(\"Index error processing packet; probably malformed data\")\n"
   ]
  }
 ],
 "metadata": {
  "kernelspec": {
   "display_name": "MicroPython - USB",
   "language": "micropython",
   "name": "micropython"
  },
  "language_info": {
   "codemirror_mode": "python",
   "file_extension": ".py",
   "mimetype": "text/python",
   "name": "micropython"
  }
 },
 "nbformat": 4,
 "nbformat_minor": 2
}

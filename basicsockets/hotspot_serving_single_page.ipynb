{
 "cells": [
  {
   "cell_type": "code",
   "execution_count": null,
   "metadata": {},
   "outputs": [],
   "source": [
    "%serialconnect"
   ]
  },
  {
   "cell_type": "code",
   "execution_count": 3,
   "metadata": {
    "collapsed": true
   },
   "outputs": [],
   "source": [
    "# Ports can get blocked by processes you no longer have access to\n",
    "# Sometimes a complete reset is necessary, not just a reboot"
   ]
  },
  {
   "cell_type": "code",
   "execution_count": 4,
   "metadata": {},
   "outputs": [
    {
     "name": "stdout",
     "output_type": "stream",
     "text": [
      "I (144524) wifi: wifi firmware version: 4acbf1f\n",
      "I (144524) wifi: config NVS flash: enabled\n",
      "I (144524) wifi: config nano formating: disabled\n",
      "\u001b[0;32mI (144524) system_api: Base MAC address is not set, read default base MAC address from BLK0 of EFUSE\u001b[0m\n",
      "\u001b[0;32mI (144534) system_api: Base MAC address is not set, read default base MAC address from BLK0 of EFUSE\u001b[0m\n",
      "I (144554) wifi: Init dynamic tx buffer num: 32\n",
      "I (144554) wifi: Init data frame dynamic rx buffer num: 64\n",
      "I (144554) wifi: Init management frame dynamic rx buffer num: 64\n",
      "I (144564) wifi: wifi driver task: 3ffd96e4, prio:23, stack:4096\n",
      "I (144564) wifi: Init static rx buffer num: 10\n",
      "I (144574) wifi: Init dynamic rx buffer num: 0\n",
      "I (144574) wifi: Init rx ampdu len mblock:7\n",
      "I (144574) wifi: Init lldesc rx ampdu entry mblock:4\n",
      "I (144584) wifi: wifi power manager task: 0x3ffdeb5c prio: 21 stack: 2560\n",
      "\u001b[0;32mI (144614) phy: phy_version: 359.0, e79c19d, Aug 31 2017, 17:06:07, 0, 0\u001b[0m\n",
      "I (144614) wifi: mode : null\n",
      "I (144614) wifi: mode : softAP (30:ae:a4:80:78:21)\n",
      "\u001b[0;32mI (144624) wifi: event 13\u001b[0m\n",
      "('192.168.4.1', '255.255.255.0', '192.168.4.1', '0.0.0.0')\n",
      "\n",
      "The wifi is ESP_807821\n"
     ]
    }
   ],
   "source": [
    "import network\n",
    "\n",
    "si = network.WLAN(network.AP_IF) # create access-point interface\n",
    "si.active(True)         # activate the interface\n",
    "\n",
    "# no idea what this does\n",
    "#si.config(essid='ESP-AP') # set the ESSID of the access point\n",
    "print(si.ifconfig())\n",
    "# it also intermittently prints out wifi events\n",
    "\n",
    "print(\"\\nThe wifi is ESP_{}\".format(\"\".join(hex(x)[-2:]  for x in si.config(\"mac\")[-3:])))"
   ]
  },
  {
   "cell_type": "code",
   "execution_count": 5,
   "metadata": {},
   "outputs": [
    {
     "name": "stdout",
     "output_type": "stream",
     "text": [
      "\u001b[0;32mI (161624) modsocket: Initializing\u001b[0m\n",
      "\n",
      "Please link to http://192.168.4.1/thing\n"
     ]
    }
   ],
   "source": [
    "# Create the socket which will listen for an incoming connection\n",
    "import socket\n",
    "\n",
    "ipnumber = si.ifconfig()[0]\n",
    "s = socket.socket()\n",
    "s.bind(socket.getaddrinfo(\"0.0.0.0\", 80)[0][-1])\n",
    "s.listen(1)\n",
    "\n",
    "print(\"\\nPlease link to http://{}/thing\".format(ipnumber))\n"
   ]
  },
  {
   "cell_type": "code",
   "execution_count": 6,
   "metadata": {},
   "outputs": [
    {
     "name": "stdout",
     "output_type": "stream",
     "text": [
      "[leftinbuffer] I (169214) wifi: n:1 1, o:1 0, ap:1 1, sta:255 255, prof:1[leftinbuffer] I (169214) wifi: station: 00:28:f8:a0:5f:4b join, AID=1, n, 40U[leftinbuffer] \u001b[0;32mI (169214) wifi: event 15\u001b[0m.....The incoming http headers are:\n",
      "[b'GET /thing HTTP/1.1\\r\\n']\n",
      "[b'Host: 192.168.4.1\\r\\n']\n",
      "[b'User-Agent: Mozilla/5.0 (X11; Ubuntu; Linux x86_64; rv:55.0) Gecko/20100101 Firefox/55.0\\r\\n']\n",
      "[b'Accept: text/html,application/xhtml+xml,application/xml;q=0.9,*/*;q=0.8\\r\\n']\n",
      "[b'Accept-Language: en-GB,en;q=0.5\\r\\n']\n",
      "[b'Accept-Encoding: gzip, deflate\\r\\n']\n",
      "[b'Connection: keep-alive\\r\\n']\n",
      "[b'Upgrade-Insecure-Requests: 1\\r\\n']\n",
      "[b'Cache-Control: max-age=0\\r\\n']\n",
      "[b'\\r\\n']\n",
      "Sending message zingggfff\n"
     ]
    }
   ],
   "source": [
    "s.settimeout(120)\n",
    "cl, addr = s.accept()  # hangs for 2 minutes or until there is a connection\n",
    "\n",
    "print(\"The incoming http headers are:\")\n",
    "fcl = cl.makefile('rwb', 0)\n",
    "while True:\n",
    "    k = fcl.readline()\n",
    "    print([k])\n",
    "    if not k.strip():\n",
    "        break\n",
    "\n",
    "msg = \"zingggfff\"\n",
    "print(\"\\nSending message\", msg)\n",
    "cl.sendall(\"HTTP/1.0 200 OK\\r\\n\")\n",
    "cl.sendall(\"Content-Type: text/plain\\r\\n\\r\\n\")\n",
    "cl.sendall(msg)\n",
    "cl.close()\n"
   ]
  },
  {
   "cell_type": "code",
   "execution_count": null,
   "metadata": {
    "collapsed": true
   },
   "outputs": [],
   "source": []
  },
  {
   "cell_type": "code",
   "execution_count": 7,
   "metadata": {},
   "outputs": [
    {
     "name": "stdout",
     "output_type": "stream",
     "text": [
      "Closing serial Serial<id=0x7fb2c74e7e80, open=True>(port='/dev/ttyUSB0', baudrate=115200, bytesize=8, parity='N', stopbits=1, timeout=0.5, xonxoff=False, rtscts=False, dsrdtr=False)\n"
     ]
    }
   ],
   "source": [
    "%disconnect"
   ]
  },
  {
   "cell_type": "code",
   "execution_count": null,
   "metadata": {
    "collapsed": true
   },
   "outputs": [],
   "source": []
  }
 ],
 "metadata": {
  "kernelspec": {
   "display_name": "MicroPython - USB",
   "language": "micropython",
   "name": "micropython"
  },
  "language_info": {
   "codemirror_mode": "python",
   "file_extension": ".py",
   "mimetype": "text/python",
   "name": "micropython"
  }
 },
 "nbformat": 4,
 "nbformat_minor": 2
}

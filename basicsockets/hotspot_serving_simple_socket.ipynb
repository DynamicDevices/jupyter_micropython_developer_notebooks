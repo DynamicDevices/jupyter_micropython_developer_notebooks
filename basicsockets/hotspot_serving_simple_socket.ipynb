{
 "cells": [
  {
   "cell_type": "code",
   "execution_count": 4,
   "metadata": {},
   "outputs": [
    {
     "name": "stdout",
     "output_type": "stream",
     "text": [
      "\u001b[34mConnecting to --port=/dev/ttyUSB0 --baud=115200 \u001b[0m\n",
      "ets Jun  8 2016 00:22:57\n",
      "\n",
      "rst:0x1 (POWERON_RESET),boot:0x13 (SPI_FAST_FLASH_BOOT)\n",
      "configsip: 0, SPIWP:0xee\n",
      "clk_drv:0x00,q_drv:0x00,d_drv:0x00,cs0_drv:0x00,hd_drv:0x00,wp_drv:0x00\n",
      "mode:DIO, clock div:2\n",
      "load:0x3fff0018,len:4\n",
      "load:0x3fff001c,len:4936\n",
      "load:0x40078000,len:9332\n",
      "load:0x40080400,len:6216\n",
      "entry 0x400806e8\n",
      "Started webrepl in normal mode\n",
      "OSError: [Errno 2] ENOENT\n",
      "MicroPython v1.10-298-g47e76b527 on 2019-04-18; ESP32 module with ESP32\n",
      "Type \"help()\" for more information.\n",
      ">>>[reboot detected 0]repl is in normal command mode\n",
      "[\\r\\x03\\x03] b'\\r\\n>>> '\n",
      "[\\r\\x01] b'\\r\\n>>> \\r\\nraw REPL; CTRL-B to exit\\r\\n>' \u001b[34mReady.\n",
      "\u001b[0m"
     ]
    }
   ],
   "source": [
    "%serialconnect"
   ]
  },
  {
   "cell_type": "code",
   "execution_count": null,
   "metadata": {},
   "outputs": [
    {
     "name": "stdout",
     "output_type": "stream",
     "text": [
      "('192.168.4.1', '255.255.255.0', '192.168.4.1', '0.0.0.0')\n",
      "\n",
      "Please connect to wifi ESP_953f6d\n"
     ]
    }
   ],
   "source": [
    "import network\n",
    "\n",
    "si = network.WLAN(network.AP_IF) # create access-point interface\n",
    "si.active(True)         # activate the interface\n",
    "\n",
    "# no idea what this does\n",
    "#si.config(essid='ESP-AP') # set the ESSID of the access point\n",
    "print(si.ifconfig())\n",
    "# it also intermittently prints out wifi events\n",
    "\n",
    "espname = \"ESP_{}\".format(\"\".join(hex(x)[-2:]  for x in si.config(\"mac\")[-3:]))\n",
    "print(\"\\nPlease connect to wifi {}\".format(espname))"
   ]
  },
  {
   "cell_type": "code",
   "execution_count": 7,
   "metadata": {},
   "outputs": [
    {
     "name": "stdout",
     "output_type": "stream",
     "text": [
      "\u001b[0;32mI (449415) modsocket: Initializing\u001b[0m\n",
      "\n",
      "Please connect to (192.168.4.1, 9999)\n",
      "When accept() is called\n"
     ]
    }
   ],
   "source": [
    "# Create the socket which will listen for an incoming connection\n",
    "import socket, time\n",
    "\n",
    "ipnumber = si.ifconfig()[0]\n",
    "s = socket.socket()\n",
    "portnumber = 9999\n",
    "s.bind((\"0.0.0.0\", portnumber))\n",
    "s.listen(1)\n"
   ]
  },
  {
   "cell_type": "code",
   "execution_count": 9,
   "metadata": {},
   "outputs": [
    {
     "name": "stdout",
     "output_type": "stream",
     "text": [
      "Waiting for a connection on (192.168.4.1, 9999)\n",
      ".connection made incoming from ('192.168.4.2', 53614)\n"
     ]
    }
   ],
   "source": [
    "print(\"Waiting for a connection on ({}, {})\".format(ipnumber, portnumber))\n",
    "ss, addr = s.accept()\n",
    "print(\"connection made incoming from\", addr)"
   ]
  },
  {
   "cell_type": "code",
   "execution_count": null,
   "metadata": {
    "collapsed": true
   },
   "outputs": [],
   "source": [
    "# You can now read and write to this connection \n",
    "# by iterating between the next two cells"
   ]
  },
  {
   "cell_type": "code",
   "execution_count": 14,
   "metadata": {
    "collapsed": true
   },
   "outputs": [],
   "source": [
    "# Send something out to the other end (for it to read)\n",
    "ss.write(\"Hi-{} from {}\\n\".format(time.time(), espname))\n"
   ]
  },
  {
   "cell_type": "code",
   "execution_count": 15,
   "metadata": {},
   "outputs": [
    {
     "name": "stdout",
     "output_type": "stream",
     "text": [
      "b'Hello-1506895685 from PC\\n'\n"
     ]
    }
   ],
   "source": [
    "# Read a line written from the other end \n",
    "print(ss.readline())"
   ]
  },
  {
   "cell_type": "code",
   "execution_count": 1,
   "metadata": {},
   "outputs": [
    {
     "name": "stdout",
     "output_type": "stream",
     "text": [
      "No serial connected\n",
      "  %serialconnect to connect\n",
      "  %lsmagic to list commands"
     ]
    }
   ],
   "source": [
    "ss.close()"
   ]
  },
  {
   "cell_type": "code",
   "execution_count": null,
   "metadata": {
    "collapsed": true
   },
   "outputs": [],
   "source": [
    "help(\"\")"
   ]
  }
 ],
 "metadata": {
  "kernelspec": {
   "display_name": "MicroPython - USB",
   "language": "micropython",
   "name": "micropython"
  },
  "language_info": {
   "codemirror_mode": "python",
   "file_extension": ".py",
   "mimetype": "text/python",
   "name": "micropython"
  }
 },
 "nbformat": 4,
 "nbformat_minor": 2
}

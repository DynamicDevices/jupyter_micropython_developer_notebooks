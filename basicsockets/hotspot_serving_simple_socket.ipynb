{
 "cells": [
  {
   "cell_type": "code",
   "execution_count": 1,
   "metadata": {},
   "outputs": [
    {
     "name": "stdout",
     "output_type": "stream",
     "text": [
      "\u001b[34mFound serial ports /dev/ttyUSB0, /dev/rfcomm0, /dev/rfcomm1, /dev/rfcomm2, /dev/rfcomm3, /dev/rfcomm4: \n",
      "\u001b[0m\u001b[34mConnecting to Serial /dev/ttyUSB0 baud=115200 \u001b[0m\n",
      "\u001b[34mReady.\n",
      "\u001b[0m"
     ]
    }
   ],
   "source": [
    "%serialconnect"
   ]
  },
  {
   "cell_type": "code",
   "execution_count": 5,
   "metadata": {},
   "outputs": [
    {
     "name": "stdout",
     "output_type": "stream",
     "text": [
      "I (200055) wifi: wifi firmware version: 4acbf1f\n",
      "I (200055) wifi: config NVS flash: enabled\n",
      "I (200055) wifi: config nano formating: disabled\n",
      "\u001b[0;32mI (200055) system_api: Base MAC address is not set, read default base MAC address from BLK0 of EFUSE\u001b[0m\n",
      "\u001b[0;32mI (200065) system_api: Base MAC address is not set, read default base MAC address from BLK0 of EFUSE\u001b[0m\n",
      "I (200075) wifi: Init dynamic tx buffer num: 32\n",
      "I (200075) wifi: Init data frame dynamic rx buffer num: 64\n",
      "I (200085) wifi: Init management frame dynamic rx buffer num: 64\n",
      "I (200085) wifi: wifi driver task: 3ffd96e4, prio:23, stack:4096\n",
      "I (200095) wifi: Init static rx buffer num: 10\n",
      "I (200095) wifi: Init dynamic rx buffer num: 0\n",
      "I (200105) wifi: Init rx ampdu len mblock:7\n",
      "I (200105) wifi: Init lldesc rx ampdu entry mblock:4\n",
      "I (200115) wifi: wifi power manager task: 0x3ffdeb5c prio: 21 stack: 2560\n",
      "\u001b[0;32mI (200135) phy: phy_version: 359.0, e79c19d, Aug 31 2017, 17:06:07, 0, 0\u001b[0m\n",
      "I (200135) wifi: mode : null\n",
      "I (200145) wifi: mode : softAP (30:ae:a4:80:78:21)\n",
      "\u001b[0;32mI (200145) wifi: event 13\u001b[0m\n",
      "('192.168.4.1', '255.255.255.0', '192.168.4.1', '0.0.0.0')\n",
      "\n",
      "The wifi is ESP_807821\n"
     ]
    }
   ],
   "source": [
    "import network\n",
    "\n",
    "si = network.WLAN(network.AP_IF) # create access-point interface\n",
    "si.active(True)         # activate the interface\n",
    "\n",
    "# no idea what this does\n",
    "#si.config(essid='ESP-AP') # set the ESSID of the access point\n",
    "print(si.ifconfig())\n",
    "# it also intermittently prints out wifi events\n",
    "\n",
    "espname = \"ESP_{}\".format(\"\".join(hex(x)[-2:]  for x in si.config(\"mac\")[-3:]))\n",
    "print(\"\\nPlease connect to wifi {}\".format(espname))"
   ]
  },
  {
   "cell_type": "code",
   "execution_count": 7,
   "metadata": {},
   "outputs": [
    {
     "name": "stdout",
     "output_type": "stream",
     "text": [
      "\u001b[0;32mI (449415) modsocket: Initializing\u001b[0m\n",
      "\n",
      "Please connect to (192.168.4.1, 9999)\n",
      "When accept() is called\n"
     ]
    }
   ],
   "source": [
    "# Create the socket which will listen for an incoming connection\n",
    "import socket, time\n",
    "\n",
    "ipnumber = si.ifconfig()[0]\n",
    "s = socket.socket()\n",
    "portnumber = 9999\n",
    "s.bind((\"0.0.0.0\", portnumber))\n",
    "s.listen(1)\n"
   ]
  },
  {
   "cell_type": "code",
   "execution_count": 9,
   "metadata": {},
   "outputs": [
    {
     "name": "stdout",
     "output_type": "stream",
     "text": [
      "Waiting for a connection on (192.168.4.1, 9999)\n",
      ".connection made incoming from ('192.168.4.2', 53614)\n"
     ]
    }
   ],
   "source": [
    "print(\"Waiting for a connection on ({}, {})\".format(ipnumber, portnumber))\n",
    "ss, addr = s.accept()\n",
    "print(\"connection made incoming from\", addr)"
   ]
  },
  {
   "cell_type": "code",
   "execution_count": null,
   "metadata": {
    "collapsed": true
   },
   "outputs": [],
   "source": [
    "# You can now read and write to this connection \n",
    "# by iterating between the next two cells"
   ]
  },
  {
   "cell_type": "code",
   "execution_count": 14,
   "metadata": {
    "collapsed": true
   },
   "outputs": [],
   "source": [
    "# Send something out to the other end (for it to read)\n",
    "ss.write(\"Hi-{} from {}\\n\".format(time.time(), espname))\n"
   ]
  },
  {
   "cell_type": "code",
   "execution_count": 15,
   "metadata": {},
   "outputs": [
    {
     "name": "stdout",
     "output_type": "stream",
     "text": [
      "b'Hello-1506895685 from PC\\n'\r\n"
     ]
    }
   ],
   "source": [
    "# Read a line written from the other end \n",
    "print(ss.readline())"
   ]
  },
  {
   "cell_type": "code",
   "execution_count": 1,
   "metadata": {},
   "outputs": [
    {
     "name": "stdout",
     "output_type": "stream",
     "text": [
      "No serial connected\n",
      "  %serialconnect to connect\n",
      "  %lsmagic to list commands"
     ]
    }
   ],
   "source": [
    "ss.close()"
   ]
  },
  {
   "cell_type": "code",
   "execution_count": null,
   "metadata": {
    "collapsed": true
   },
   "outputs": [],
   "source": [
    "help(\"\")"
   ]
  }
 ],
 "metadata": {
  "kernelspec": {
   "display_name": "MicroPython - USB",
   "language": "micropython",
   "name": "micropython"
  },
  "language_info": {
   "codemirror_mode": "python",
   "file_extension": ".py",
   "mimetype": "text/python",
   "name": "micropython"
  }
 },
 "nbformat": 4,
 "nbformat_minor": 2
}

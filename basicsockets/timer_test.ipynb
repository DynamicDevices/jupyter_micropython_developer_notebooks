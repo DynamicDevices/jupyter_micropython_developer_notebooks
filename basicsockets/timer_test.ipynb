{
 "cells": [
  {
   "cell_type": "code",
   "execution_count": null,
   "metadata": {
    "collapsed": true
   },
   "outputs": [],
   "source": [
    "# test of timer code from here:\n",
    "# https://forum.micropython.org/viewtopic.php?t=3415\n",
    "\n",
    "# an alternative to async technology"
   ]
  },
  {
   "cell_type": "code",
   "execution_count": 2,
   "metadata": {},
   "outputs": [
    {
     "name": "stdout",
     "output_type": "stream",
     "text": [
      "\u001b[34mConnecting to Serial /dev/ttyUSB0 baud=115200 \u001b[0m\n",
      "\u001b[34mReady.\n",
      "\u001b[0m"
     ]
    }
   ],
   "source": [
    "%serialconnect"
   ]
  },
  {
   "cell_type": "code",
   "execution_count": null,
   "metadata": {
    "collapsed": true
   },
   "outputs": [],
   "source": []
  },
  {
   "cell_type": "code",
   "execution_count": 3,
   "metadata": {},
   "outputs": [
    {
     "name": "stdout",
     "output_type": "stream",
     "text": [
      "timer_cb 70\n",
      "timer_cb 70\n",
      "timer_cb 70\n",
      "timer_cb 69\n",
      "timer_cb 71\n",
      "timer_cb 70\n",
      "timer_cb 69\n",
      "timer_cb 70\n",
      "timer_cb 70\n",
      "timer_cb 70\n",
      "timer_cb 70\n",
      "timer_cb 70\n",
      "timer_cb 70\n",
      "timer_cb 70\n",
      "timer_cb 70\n",
      "timer_cb 70\n",
      "timer_cb 70\n",
      "timer_cb 70\n",
      "timer_cb 70\n",
      "timer_cb 70\n",
      "timer_cb 70\n",
      "timer_cb 70\n",
      "timer_cb 70\n",
      "timer_cb 70\n",
      "timer_cb 70\n",
      "timer_cb 70\n",
      "timer_cb 69\n",
      "timer_cb 71\n",
      "timer_cb 70\n",
      "timer_cb 70\n",
      "timer_cb 70\n",
      "timer_cb 70\n",
      "timer_cb 69\n",
      "timer_cb 71\n",
      "timer_cb 70\n",
      "timer_cb 70\n",
      "timer_cb 70\n",
      "timer_cb 70\n",
      "timer_cb 70\n",
      "timer_cb 70\n",
      "timer_cb 70\n",
      "timer_cb 69\n",
      "timer_cb 70\n",
      "timer_cb 69\n",
      "timer_cb 71\n",
      "timer_cb 70\n",
      "timer_cb 70\n",
      "timer_cb 70\n",
      "timer_cb 70\n",
      "timer_cb 70\n",
      "timer_cb 69\n",
      "timer_cb 71\n",
      "timer_cb 70\n",
      "timer_cb 70\n",
      "timer_cb 70\n",
      "timer_cb 70\n",
      "timer_cb 70\n",
      "timer_cb 70\n",
      "timer_cb 70\n",
      "timer_cb 70\n",
      "timer_cb 70\n",
      "timer_cb 70\n",
      "timer_cb 69\n",
      "timer_cb 71\n",
      "timer_cb 70\n",
      "timer_cb 70\n",
      "timer_cb 70\n",
      "timer_cb 70\n",
      "timer_cb 70\n",
      "timer_cb 70\n",
      "timer_cb 70\n",
      "timer_cb 70\n",
      "timer_cb 70\n",
      "timer_cb 70\n",
      "timer_cb 70\n",
      "71 69 1160630\n",
      "timer_cb 70\n",
      "timer_cb 70\n",
      "timer_cb 69\n",
      "timer_cb 71\n",
      "timer_cb 69\n",
      "timer_cb 71\n",
      "timer_cb 70\n",
      "timer_cb 69\n",
      "timer_cb 71\n",
      "timer_cb 70\n",
      "timer_cb 70\n",
      "timer_cb 70\n",
      "timer_cb 70\n",
      "timer_cb 69\n",
      "timer_cb 71\n",
      "timer_cb 69\n",
      "timer_cb 71\n",
      "timer_cb 70\n",
      "timer_cb 70\n",
      "timer_cb 70\n",
      "timer_cb 70\n",
      "timer_cb 70\n",
      "timer_cb 70\n",
      "timer_cb 70\n",
      "timer_cb 70\n",
      "timer_cb 70\n",
      "timer_cb 69\n",
      "timer_cb 71\n",
      "timer_cb 69\n",
      "timer_cb 70\n",
      "timer_cb 69\n",
      "timer_cb 71\n",
      "timer_cb 70\n",
      "timer_cb 70\n",
      "timer_cb 69\n",
      "timer_cb 71\n",
      "timer_cb 70\n",
      "timer_cb 70\n",
      "timer_cb 70\n",
      "timer_cb 70\n",
      "timer_cb 70\n",
      "timer_cb 70\n",
      "timer_cb 70\n",
      "timer_cb 70\n",
      "timer_cb 70\n",
      "timer_cb 70\n",
      "timer_cb 70\n",
      "timer_cb 70\n",
      "timer_cb 70\n",
      "timer_cb 70\n",
      "timer_cb 70\n",
      "timer_cb 70\n",
      "timer_cb 69\n",
      "timer_cb 71\n",
      "timer_cb 70\n",
      "timer_cb 70\n",
      "timer_cb 69\n",
      "timer_cb 71\n",
      "timer_cb 70\n",
      "timer_cb 70\n",
      "timer_cb 70\n",
      "timer_cb 70\n",
      "timer_cb 69\n",
      "timer_cb 70\n",
      "timer_cb 70\n",
      "timer_cb 70\n",
      "timer_cb 69\n",
      "timer_cb 71\n",
      "timer_cb 69\n",
      "timer_cb 71\n",
      "timer_cb 69\n",
      "timer_cb 71\n",
      "timer_cb 69\n",
      "timer_cb 71\n",
      "timer_cb 70\n",
      "timer_cb 70\n",
      "71 69 1165978\n",
      "timer_cb 69\n",
      "timer_cb 71\n",
      "timer_cb 70\n",
      "timer_cb 69\n",
      "timer_cb 71\n",
      "timer_cb 70\n",
      "timer_cb 70\n",
      "timer_cb 70\n",
      "timer_cb 70\n",
      "timer_cb 70\n",
      "timer_cb 69\n",
      "timer_cb 71\n",
      "timer_cb 70\n",
      "timer_cb 70\n",
      "timer_cb 69\n",
      "timer_cb 71\n",
      "timer_cb 70\n",
      "timer_cb 70\n",
      "timer_cb 70\n",
      "timer_cb 69\n",
      "timer_cb 71\n",
      "timer_cb 70\n",
      "timer_cb 69\n",
      "timer_cb 71\n",
      "timer_cb 70\n",
      "timer_cb 70\n",
      "timer_cb 70\n",
      "timer_cb 70\n",
      "timer_cb 70\n",
      "timer_cb 70\n",
      "timer_cb 70\n",
      "timer_cb 70\n",
      "timer_cb 69\n",
      "timer_cb 70\n",
      "timer_cb 70\n",
      "timer_cb 70\n",
      "timer_cb 70\n",
      "timer_cb 69\n",
      "timer_cb 71\n",
      "timer_cb 70\n",
      "timer_cb 70\n",
      "timer_cb 70\n",
      "timer_cb 69\n",
      "timer_cb 70\n",
      "timer_cb 69\n",
      "timer_cb 71\n",
      "timer_cb 69\n",
      "timer_cb 71\n",
      "timer_cb 69\n",
      "timer_cb 70\n",
      "timer_cb 70\n",
      "timer_cb 70\n",
      "timer_cb 70\n",
      "timer_cb 70\n",
      "timer_cb 70\n",
      "timer_cb 70\n",
      "timer_cb 70\n",
      "timer_cb 69\n",
      "timer_cb 71\n",
      "timer_cb 69\n",
      "timer_cb 71\n",
      "timer_cb 70\n",
      "timer_cb 70\n",
      "timer_cb 70\n",
      "timer_cb 69\n",
      "timer_cb 71\n",
      "timer_cb 70\n",
      "timer_cb 70\n",
      "timer_cb 70\n",
      "timer_cb 70\n",
      "timer_cb 70\n",
      "timer_cb 69\n",
      "timer_cb 71\n",
      "timer_cb 69\n",
      "timer_cb 71\n",
      "timer_cb 69\n",
      "timer_cb 71\n",
      "71 69 1171331\n"
     ]
    }
   ],
   "source": [
    "from machine import Timer\n",
    "from utime import ticks_ms, ticks_diff, sleep_ms\n",
    "from micropython import schedule\n",
    "\n",
    "timer = Timer(1)\n",
    "lastrun = None\n",
    "maxtime = 0\n",
    "mintime = 1000\n",
    "\n",
    "def printme(delta):\n",
    "    global maxtime, mintime\n",
    "    print(\"timer_cb\", delta)\n",
    "    maxtime = max(maxtime, delta)\n",
    "    mintime = min(mintime, delta)\n",
    "\n",
    "def timer_cb(timer):\n",
    "    global lastrun\n",
    "    first_run = lastrun is None\n",
    "    if not first_run:\n",
    "        delta = ticks_diff(ticks_ms(), lastrun)\n",
    "    lastrun = ticks_ms()\n",
    "    if not first_run:\n",
    "        schedule(printme, delta)\n",
    "    \n",
    "def start():\n",
    "    timer.init(period=70, mode=Timer.PERIODIC, callback=timer_cb)\n",
    "    count = 0\n",
    "    while count <= 15000:\n",
    "        sleep_ms(1)\n",
    "        if not (count == 0 or count % 5000):\n",
    "            print(maxtime, mintime, ticks_ms())\n",
    "        count += 1\n",
    "    timer.deinit()\n",
    "\n",
    "start()\n"
   ]
  },
  {
   "cell_type": "code",
   "execution_count": 37,
   "metadata": {},
   "outputs": [
    {
     "name": "stdout",
     "output_type": "stream",
     "text": [
      "\u001b[34mConnecting to Serial /dev/ttyUSB7 baud=115200 \u001b[0m\n",
      "\u001b[34mReady.\n",
      "\u001b[0m"
     ]
    }
   ],
   "source": [
    "%serialconnect"
   ]
  },
  {
   "cell_type": "code",
   "execution_count": 10,
   "metadata": {},
   "outputs": [
    {
     "name": "stdout",
     "output_type": "stream",
     "text": [
      "repl is in normal command mode\n",
      "[\\r\\x03\\x03] b'\\r\\nMicroPython v1.9.2-443-g236297f4 on 2017-11-06; ESP32 module with ESP32\\r\\nType \"help()\" for more information.\\r\\n>>> \\r\\n>>> \\r\\nPYB: soft reboot\\r\\nOSError: [Errno 2] ENOENT\\r\\nMicroPython v1.9.2-443-g236297f4 on 2017-11-06; ESP32 module with ESP32\\r\\nType \"help()\" for more information.\\r\\n>>> \\r\\n>>> \\r\\n>>> '\n",
      "[\\r\\x01] b'\\r\\n>>> \\r\\nraw REPL; CTRL-B to exit\\r\\n>'"
     ]
    }
   ],
   "source": [
    "%rebootdevice"
   ]
  },
  {
   "cell_type": "code",
   "execution_count": 18,
   "metadata": {},
   "outputs": [
    {
     "name": "stdout",
     "output_type": "stream",
     "text": [
      "Creating access point ESP_0d7c49\n",
      "Device has ipnumber 192.168.4.1\n"
     ]
    }
   ],
   "source": [
    "import connecthotspot"
   ]
  },
  {
   "cell_type": "code",
   "execution_count": 38,
   "metadata": {},
   "outputs": [],
   "source": [
    "#%sendtofile main.py\n",
    "\n",
    "import connecthotspot"
   ]
  },
  {
   "cell_type": "code",
   "execution_count": 252,
   "metadata": {
    "collapsed": true
   },
   "outputs": [],
   "source": [
    "import time\n",
    "\n",
    "tt0 = 0\n",
    "dtt = 0\n",
    "ic = 0\n",
    "iv = 0\n",
    "def callback2(pin):\n",
    "    global tt0, dtt, ic\n",
    "    t = time.ticks_us()\n",
    "    ic += 1\n",
    "    iv = p.value()\n",
    "    if (ic&1) == 0:\n",
    "        dtt = t - tt0\n",
    "        tt0 = t\n"
   ]
  },
  {
   "cell_type": "code",
   "execution_count": 190,
   "metadata": {},
   "outputs": [],
   "source": [
    "import machine\n",
    "p = machine.Pin(23, machine.Pin.IN, machine.Pin.PULL_UP) \n",
    "#p = machine.Pin(23, machine.Pin.IN, machine.Pin.PULL_DOWN) \n",
    "#help(p)"
   ]
  },
  {
   "cell_type": "code",
   "execution_count": 233,
   "metadata": {},
   "outputs": [
    {
     "name": "stdout",
     "output_type": "stream",
     "text": [
      "00000000000000000000000000000000000000000001111111111111111111111111111111111111\n",
      "11111111111111111111111111111111111111111111111111111110000000000000000000000000\n",
      "00000000000000000000000001111111111111111111111111111111111111111111111111111111\n",
      "11111111111111111111111111111111111111111110000000000000000000000000000000000000\n",
      "00000000001111111111111111111111111111111111111111111111111111111111111111111111\n",
      "11111111111111111111111111111100000000000000000000000000000000000000000000000000\n",
      "00011111111111111111111111111111111111111111111111111111111111111111111111111111\n",
      "11111111111111111111111000000000000000000000000000000000000000000000000000000011\n",
      "11111111111111111111111111111111111111111111111111111111111111111111111111111111\n",
      "11111111111111111100000000000000000000000000000000000000000000000000000011111111\n"
     ]
    }
   ],
   "source": [
    "for j in range(10):\n",
    "    for i in range(80):\n",
    "        print(p.value(), end=\"\")\n",
    "    print()"
   ]
  },
  {
   "cell_type": "code",
   "execution_count": 22,
   "metadata": {},
   "outputs": [],
   "source": [
    "\n"
   ]
  },
  {
   "cell_type": "code",
   "execution_count": 255,
   "metadata": {},
   "outputs": [],
   "source": [
    "p.irq(trigger=machine.Pin.IRQ_RISING, handler=callback2)\n"
   ]
  },
  {
   "cell_type": "code",
   "execution_count": null,
   "metadata": {
    "collapsed": true
   },
   "outputs": [],
   "source": [
    "2155.428 1627348 755\n",
    "10004.83 1600773 160"
   ]
  },
  {
   "cell_type": "code",
   "execution_count": 219,
   "metadata": {},
   "outputs": [
    {
     "name": "stderr",
     "output_type": "stream",
     "text": [
      "Traceback (most recent call last):\n",
      "  File \"<stdin>\", line 1, in <module>\n",
      "ValueError: frequency can only be either 80Mhz, 160MHz or 240MHz\n"
     ]
    }
   ],
   "source": [
    "machine.freq(80000000-1)"
   ]
  },
  {
   "cell_type": "code",
   "execution_count": 220,
   "metadata": {},
   "outputs": [
    {
     "name": "stdout",
     "output_type": "stream",
     "text": [
      "240000000\r\n"
     ]
    }
   ],
   "source": [
    "print(machine.freq())"
   ]
  },
  {
   "cell_type": "code",
   "execution_count": 222,
   "metadata": {},
   "outputs": [
    {
     "name": "stdout",
     "output_type": "stream",
     "text": [
      ".2465.026 1617057 656\n"
     ]
    }
   ],
   "source": [
    "b0 = time.ticks_us()\n",
    "ic0 = ic\n",
    "for i in range(100000):  pass\n",
    "#time.sleep(1.6)\n",
    "\n",
    "bg = (time.ticks_us() - b0)\n",
    "dic = ic - ic0\n",
    "print(bg/dic, bg, dic)"
   ]
  },
  {
   "cell_type": "code",
   "execution_count": 261,
   "metadata": {},
   "outputs": [
    {
     "name": "stdout",
     "output_type": "stream",
     "text": [
      "0 20012 2360\r\n"
     ]
    }
   ],
   "source": [
    "#iv = 0\n",
    "time.sleep(0.1)\n",
    "print(iv, dtt, ic)"
   ]
  },
  {
   "cell_type": "code",
   "execution_count": 262,
   "metadata": {},
   "outputs": [
    {
     "name": "stdout",
     "output_type": "stream",
     "text": [
      "2930 15412 0\n",
      "2931 15412 0\n",
      "2932 1004 0\n",
      "2933 1004 0\n",
      "2934 789 0\n",
      "2935 789 0\n",
      "2936 780 0\n",
      "2936 780 0\n",
      "2936 780 0\n",
      "2936 780 0\n",
      "2936 780 0\n",
      "2936 780 0\n",
      "2936 780 0\n",
      "2936 780 0\n",
      "2936 780 0\n",
      "2936 780 0\n",
      "2936 780 0\n",
      "2936 780 0\n",
      "2936 780 0\n",
      "2936 780 0\n",
      "2936 780 0\n",
      "2936 780 0\n",
      "2937 780 0\n",
      "2938 11210 0\n",
      "2939 11210 0\n",
      "2940 2431 0\n",
      "2941 2431 0\n",
      "2942 2257 0\n",
      "2943 2257 0\n",
      "2944 2257 0\n"
     ]
    }
   ],
   "source": [
    "for i in range(30):\n",
    "    #time.sleep(0.1)\n",
    "    print(ic, dtt, iv)\n"
   ]
  },
  {
   "cell_type": "code",
   "execution_count": 151,
   "metadata": {},
   "outputs": [
    {
     "name": "stdout",
     "output_type": "stream",
     "text": [
      "15771 323\r\n"
     ]
    }
   ],
   "source": [
    "#ic = 0\n",
    "for i in range(10):\n",
    "    pass\n",
    "#time.sleep(0.1)\n",
    "print(ic, dtt)"
   ]
  },
  {
   "cell_type": "code",
   "execution_count": 92,
   "metadata": {},
   "outputs": [
    {
     "name": "stdout",
     "output_type": "stream",
     "text": [
      "array('i', [0, 0, 0, 0, 0, 0, 0, 0, 0, 0, 0, 0, 0, 0, 0, 0, 0, 0, 0, 0, 0, 0, 0, 0, 0, 0, 0, 0, 0, 0, 0, 0, 0, 0, 0, 0, 0, 0, 0, 0, 0, 0, 0, 0, 0, 0, 0, 0, 0, 0, 0, 0, 0, 0, 0, 0, 0, 0, 0, 0, 0, 0, 0, 0])\r\n"
     ]
    }
   ],
   "source": [
    "import array\n",
    "ns = 64\n",
    "x = array.array(\"i\", [0]*64)\n",
    "print(x)"
   ]
  },
  {
   "cell_type": "code",
   "execution_count": 263,
   "metadata": {},
   "outputs": [],
   "source": [
    "a = machine.ADC(machine.Pin(34))\n",
    "a.atten(a.ATTN_11DB)\n"
   ]
  },
  {
   "cell_type": "code",
   "execution_count": 271,
   "metadata": {
    "collapsed": true
   },
   "outputs": [],
   "source": [
    "x = array.array(\"i\", [0]*128)\n"
   ]
  },
  {
   "cell_type": "code",
   "execution_count": 276,
   "metadata": {},
   "outputs": [
    {
     "name": "stdout",
     "output_type": "stream",
     "text": [
      "26556 64\n",
      "array('i', [1735, 1735, 1731, 1733, 1730, 1741, 1737, 1739, 1722, 1723, 1727, 1730, 1716, 1715, 1709, 1706, 1702, 1686, 1680, 1680, 1681, 1685, 1682, 1680, 1674, 1671, 1675, 1675, 1670, 1664, 1665, 1663, 1664, 1661, 1661, 1655, 1660, 1648, 1657, 1648, 1647, 1639, 1642, 1643, 1660, 1643, 1633, 1650, 1648, 1647, 1635, 1648, 1638, 1648, 1648, 1648, 1648, 1646, 1650, 1650, 1653, 1648, 1649, 1651, 1583, 1651, 1658, 1661, 1663, 1663, 1667, 1666, 1672, 1671, 1674, 1683, 1683, 1682, 1686, 1696, 1686, 1701, 1702, 1697, 1691, 1696, 1699, 1707, 1724, 1709, 1712, 1712, 1718, 1713, 1735, 1729, 1723, 1723, 1722, 1723, 1727, 1726, 1727, 1726, 1741, 1730, 1729, 1739, 1727, 1737, 1731, 1730, 1744, 1735, 1728, 1729, 1731, 1718, 1712, 1725, 1721, 1713, 1713, 1703, 1698, 1702, 1696, 1690])\n"
     ]
    }
   ],
   "source": [
    "b0 = time.ticks_us()\n",
    "for i in range(len(x)):\n",
    "    x[i] = a.read()\n",
    "    x[i] = a.read()\n",
    "    x[i] = a.read()\n",
    "print((time.ticks_us() - b0), ns)    \n",
    "print(x)"
   ]
  },
  {
   "cell_type": "code",
   "execution_count": 128,
   "metadata": {},
   "outputs": [
    {
     "name": "stdout",
     "output_type": "stream",
     "text": [
      "14395 486\r\n"
     ]
    }
   ],
   "source": [
    "mt = 0\n",
    "for i in range(190):\n",
    "    mt = max(mt, time.ticks_us() - tt0)\n",
    "print(mt, dtt)"
   ]
  },
  {
   "cell_type": "code",
   "execution_count": 108,
   "metadata": {},
   "outputs": [
    {
     "name": "stdout",
     "output_type": "stream",
     "text": [
      "64\n",
      "66\n",
      "67\n",
      "68\n"
     ]
    }
   ],
   "source": [
    "for i in range(ns):\n",
    "    x[i] = 0\n",
    "for i in range(190):\n",
    "    #c = a.read()\n",
    "    dt = (time.ticks_us() - tt0)\n",
    "    j = (dt*ns//20000)\n",
    "    if 0 <= j < ns:\n",
    "        #x[j] = c\n",
    "        x[j] += 1\n",
    "        #x[j] = i\n",
    "    else:\n",
    "        print(j)"
   ]
  },
  {
   "cell_type": "code",
   "execution_count": 109,
   "metadata": {},
   "outputs": [
    {
     "name": "stdout",
     "output_type": "stream",
     "text": [
      "array('i', [4, 3, 4, 4, 4, 4, 2, 5, 5, 6, 6, 4, 5, 6, 6, 4, 2, 3, 4, 4, 4, 3, 3, 4, 4, 4, 4, 2, 4, 4, 4, 4, 1, 2, 2, 2, 2, 1, 2, 2, 2, 2, 2, 1, 2, 1, 2, 2, 1, 2, 2, 2, 2, 1, 2, 2, 2, 2, 1, 2, 2, 2, 2, 2])\r\n"
     ]
    }
   ],
   "source": [
    "print(x)\n"
   ]
  },
  {
   "cell_type": "code",
   "execution_count": 73,
   "metadata": {},
   "outputs": [
    {
     "name": "stdout",
     "output_type": "stream",
     "text": [
      "array('i', [120, 122, 123, 125, 126, 128, 130, 131, 133, 134, 136, 137, 139, 140, 142, 143, 145, 147, 148, 150, 151, 153, 154, 156, 157, 159, 160, 161, 163, 164, 166, 167, 169, 170, 172, 174, 175, 177, 178, 179, 181, 182, 184, 185, 187, 188, 189, 0, 0, 0, 0, 0, 0, 0, 0, 0, 0, 0, 0, 0, 0, 0, 0, 0])\r\n"
     ]
    }
   ],
   "source": [
    "print(x)"
   ]
  },
  {
   "cell_type": "code",
   "execution_count": null,
   "metadata": {
    "collapsed": true
   },
   "outputs": [],
   "source": []
  }
 ],
 "metadata": {
  "kernelspec": {
   "display_name": "MicroPython - USB",
   "language": "micropython",
   "name": "micropython"
  },
  "language_info": {
   "codemirror_mode": "python",
   "file_extension": ".py",
   "mimetype": "text/python",
   "name": "micropython"
  }
 },
 "nbformat": 4,
 "nbformat_minor": 2
}

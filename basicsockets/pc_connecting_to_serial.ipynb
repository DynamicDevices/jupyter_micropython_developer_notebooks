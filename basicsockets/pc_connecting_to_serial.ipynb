{
 "cells": [
  {
   "cell_type": "code",
   "execution_count": 17,
   "metadata": {},
   "outputs": [
    {
     "name": "stdout",
     "output_type": "stream",
     "text": [
      "b'\\n'\n"
     ]
    }
   ],
   "source": [
    "print(repr(b\"\\n\"))\n"
   ]
  },
  {
   "cell_type": "code",
   "execution_count": null,
   "metadata": {
    "collapsed": true
   },
   "outputs": [],
   "source": [
    "b\"\".decode"
   ]
  },
  {
   "cell_type": "code",
   "execution_count": null,
   "metadata": {
    "collapsed": true
   },
   "outputs": [],
   "source": [
    "b\"\".decode"
   ]
  },
  {
   "cell_type": "code",
   "execution_count": null,
   "metadata": {
    "collapsed": true
   },
   "outputs": [],
   "source": [
    "# Direct running of serial to the ESP for harder debugging cases\n",
    "# sometimes we really do hang (and the occasionally restart) as \n",
    "# can be confirmed even when using \n",
    "# picocom -b115200 /dev/ttyUSB0\n"
   ]
  },
  {
   "cell_type": "code",
   "execution_count": null,
   "metadata": {},
   "outputs": [],
   "source": []
  },
  {
   "cell_type": "code",
   "execution_count": 26,
   "metadata": {},
   "outputs": [
    {
     "data": {
      "text/plain": [
       "['/dev/ttyUSB0',\n",
       " '/dev/rfcomm0',\n",
       " '/dev/rfcomm1',\n",
       " '/dev/rfcomm2',\n",
       " '/dev/rfcomm3',\n",
       " '/dev/rfcomm4']"
      ]
     },
     "execution_count": 26,
     "metadata": {},
     "output_type": "execute_result"
    }
   ],
   "source": [
    "import serial, serial.tools.list_ports\n",
    "\n",
    "lp = list(serial.tools.list_ports.grep(\"\"))\n",
    "lp.sort(key=lambda X: (X.hwid == \"n/a\", X.device))\n",
    "[x.device  for x in lp]"
   ]
  },
  {
   "cell_type": "code",
   "execution_count": 9,
   "metadata": {},
   "outputs": [],
   "source": [
    "k = list(serial.tools.list_ports.grep(\"\"))"
   ]
  },
  {
   "cell_type": "code",
   "execution_count": 20,
   "metadata": {},
   "outputs": [
    {
     "name": "stdout",
     "output_type": "stream",
     "text": [
      "/dev/ttyUSB0 USB VID:PID=10C4:EA60 SER=0001 LOCATION=1-7\n",
      "/dev/rfcomm4 n/a\n",
      "/dev/rfcomm3 n/a\n",
      "/dev/rfcomm2 n/a\n",
      "/dev/rfcomm1 n/a\n",
      "/dev/rfcomm0 n/a\n"
     ]
    },
    {
     "data": {
      "text/plain": [
       "<serial.tools.list_ports_linux.SysFS at 0x7f2221ff48d0>"
      ]
     },
     "execution_count": 20,
     "metadata": {},
     "output_type": "execute_result"
    }
   ],
   "source": [
    "#help(k[1])\n",
    "for kk in k:\n",
    "    print(kk.device, kk.hwid)\n",
    "kk"
   ]
  },
  {
   "cell_type": "code",
   "execution_count": 15,
   "metadata": {
    "collapsed": true
   },
   "outputs": [],
   "source": [
    "if s:  s.close()\n",
    "portname = possibleports[0]\n",
    "baudrate = 115200\n",
    "s = serial.Serial(portname, baudrate, timeout=0.5)\n",
    "\n"
   ]
  },
  {
   "cell_type": "code",
   "execution_count": 34,
   "metadata": {},
   "outputs": [
    {
     "name": "stdout",
     "output_type": "stream",
     "text": [
      "0\n",
      "b''\n"
     ]
    }
   ],
   "source": [
    "k = s.read_all()\n",
    "print(len(k))\n",
    "print(k)"
   ]
  },
  {
   "cell_type": "code",
   "execution_count": 31,
   "metadata": {},
   "outputs": [
    {
     "data": {
      "text/plain": [
       "1"
      ]
     },
     "execution_count": 31,
     "metadata": {},
     "output_type": "execute_result"
    }
   ],
   "source": [
    "s.write(b\"\\x03\")\n",
    "#s.write(b'\\r\\x03\\x03')\n",
    "\n"
   ]
  },
  {
   "cell_type": "code",
   "execution_count": 96,
   "metadata": {},
   "outputs": [
    {
     "name": "stdout",
     "output_type": "stream",
     "text": [
      "b''\n"
     ]
    }
   ],
   "source": [
    "print(s.read_all())\n"
   ]
  },
  {
   "cell_type": "code",
   "execution_count": 23,
   "metadata": {},
   "outputs": [
    {
     "data": {
      "text/plain": [
       "4"
      ]
     },
     "execution_count": 23,
     "metadata": {},
     "output_type": "execute_result"
    }
   ],
   "source": [
    "s.write(b\"111\\x03\")"
   ]
  },
  {
   "cell_type": "code",
   "execution_count": 25,
   "metadata": {
    "collapsed": true
   },
   "outputs": [],
   "source": [
    "import websocket\n",
    "ws = websocket.create_connection(\"ws://192.168.4.1:8266\", 5)\n"
   ]
  },
  {
   "cell_type": "code",
   "execution_count": 30,
   "metadata": {
    "collapsed": true
   },
   "outputs": [],
   "source": [
    "def ra():\n",
    "    res = [ ]\n",
    "    while True:\n",
    "        r,w,e = select.select([ws],[],[],0.2)  # add a timeout to the webrepl, which can be slow\n",
    "        if not r:\n",
    "            break\n",
    "        res.append(ws.recv())\n",
    "    return res\n"
   ]
  },
  {
   "cell_type": "code",
   "execution_count": 48,
   "metadata": {},
   "outputs": [
    {
     "data": {
      "text/plain": [
       "['OK',\n",
       " 'object ',\n",
       " \"<module '\",\n",
       " 'umachine',\n",
       " \"'>\",\n",
       " ' is of type ',\n",
       " 'module',\n",
       " '\\r\\n',\n",
       " '  ',\n",
       " '__name__',\n",
       " ' -- ',\n",
       " 'umachine',\n",
       " '\\r\\n',\n",
       " '  ',\n",
       " 'mem8',\n",
       " ' -- ',\n",
       " '<',\n",
       " '8',\n",
       " '-bit memory>',\n",
       " '\\r\\n',\n",
       " '  ',\n",
       " 'mem16',\n",
       " ' -- ',\n",
       " '<',\n",
       " '16',\n",
       " '-bit memory>',\n",
       " '\\r\\n',\n",
       " '  ',\n",
       " 'mem32',\n",
       " ' -- ',\n",
       " '<',\n",
       " '32',\n",
       " '-bit memory>',\n",
       " '\\r\\n',\n",
       " '  ',\n",
       " 'freq',\n",
       " ' -- ',\n",
       " '<',\n",
       " 'function',\n",
       " '>',\n",
       " '\\r\\n',\n",
       " '  ',\n",
       " 'reset',\n",
       " ' -- ',\n",
       " '<',\n",
       " 'function',\n",
       " '>',\n",
       " '\\r\\n',\n",
       " '  ',\n",
       " 'reset_cause',\n",
       " ' -- ',\n",
       " '<',\n",
       " 'function',\n",
       " '>',\n",
       " '\\r\\n',\n",
       " '  ',\n",
       " 'unique_id',\n",
       " ' -- ',\n",
       " '<',\n",
       " 'function',\n",
       " '>',\n",
       " '\\r\\n',\n",
       " '  ',\n",
       " 'idle',\n",
       " ' -- ',\n",
       " '<',\n",
       " 'function',\n",
       " '>',\n",
       " '\\r\\n',\n",
       " '  ',\n",
       " 'sleep',\n",
       " ' -- ',\n",
       " '<',\n",
       " 'function',\n",
       " '>',\n",
       " '\\r\\n',\n",
       " '  ',\n",
       " 'deepsleep',\n",
       " ' -- ',\n",
       " '<',\n",
       " 'function',\n",
       " '>',\n",
       " '\\r\\n',\n",
       " '  ',\n",
       " 'disable_irq',\n",
       " ' -- ',\n",
       " '<',\n",
       " 'function',\n",
       " '>',\n",
       " '\\r\\n',\n",
       " '  ',\n",
       " 'enable_irq',\n",
       " ' -- ',\n",
       " '<',\n",
       " 'function',\n",
       " '>',\n",
       " '\\r\\n',\n",
       " '  ',\n",
       " 'time_pulse_us',\n",
       " ' -- ',\n",
       " '<',\n",
       " 'function',\n",
       " '>',\n",
       " '\\r\\n',\n",
       " '  ',\n",
       " 'RTC',\n",
       " ' -- ',\n",
       " \"<class '\",\n",
       " 'RTC',\n",
       " \"'>\",\n",
       " '\\r\\n',\n",
       " '  ',\n",
       " 'Timer',\n",
       " ' -- ',\n",
       " \"<class '\",\n",
       " 'Timer',\n",
       " \"'>\",\n",
       " '\\r\\n',\n",
       " '  ',\n",
       " 'WDT',\n",
       " ' -- ',\n",
       " \"<class '\",\n",
       " 'WDT',\n",
       " \"'>\",\n",
       " '\\r\\n',\n",
       " '  ',\n",
       " 'Pin',\n",
       " ' -- ',\n",
       " \"<class '\",\n",
       " 'Pin',\n",
       " \"'>\",\n",
       " '\\r\\n',\n",
       " '  ',\n",
       " 'Signal',\n",
       " ' -- ',\n",
       " \"<class '\",\n",
       " 'Signal',\n",
       " \"'>\",\n",
       " '\\r\\n',\n",
       " '  ',\n",
       " 'PWM',\n",
       " ' -- ',\n",
       " \"<class '\",\n",
       " 'PWM',\n",
       " \"'>\",\n",
       " '\\r\\n',\n",
       " '  ',\n",
       " 'ADC',\n",
       " ' -- ',\n",
       " \"<class '\",\n",
       " 'ADC',\n",
       " \"'>\",\n",
       " '\\r\\n',\n",
       " '  ',\n",
       " 'UART',\n",
       " ' -- ',\n",
       " \"<class '\",\n",
       " 'UART',\n",
       " \"'>\",\n",
       " '\\r\\n',\n",
       " '  ',\n",
       " 'I2C',\n",
       " ' -- ',\n",
       " \"<class '\",\n",
       " 'I2C',\n",
       " \"'>\",\n",
       " '\\r\\n',\n",
       " '  ',\n",
       " 'SPI',\n",
       " ' -- ',\n",
       " \"<class '\",\n",
       " 'HSPI',\n",
       " \"'>\",\n",
       " '\\r\\n',\n",
       " '  ',\n",
       " 'DEEPSLEEP',\n",
       " ' -- ',\n",
       " '4',\n",
       " '\\r\\n',\n",
       " '  ',\n",
       " 'PWRON_RESET',\n",
       " ' -- ',\n",
       " '0',\n",
       " '\\r\\n',\n",
       " '  ',\n",
       " 'HARD_RESET',\n",
       " ' -- ',\n",
       " '6',\n",
       " '\\r\\n',\n",
       " '  ',\n",
       " 'DEEPSLEEP_RESET',\n",
       " ' -- ',\n",
       " '5',\n",
       " '\\r\\n',\n",
       " '  ',\n",
       " 'WDT_RESET',\n",
       " ' -- ',\n",
       " '1',\n",
       " '\\r\\n',\n",
       " '  ',\n",
       " 'SOFT_RESET',\n",
       " ' -- ',\n",
       " '4',\n",
       " '\\r\\n',\n",
       " '\\x04',\n",
       " '\\x04',\n",
       " '>']"
      ]
     },
     "execution_count": 48,
     "metadata": {},
     "output_type": "execute_result"
    }
   ],
   "source": [
    "ra()"
   ]
  },
  {
   "cell_type": "code",
   "execution_count": 47,
   "metadata": {},
   "outputs": [
    {
     "data": {
      "text/plain": [
       "7"
      ]
     },
     "execution_count": 47,
     "metadata": {},
     "output_type": "execute_result"
    }
   ],
   "source": [
    "ws.send(b\"\\x04\")\n"
   ]
  },
  {
   "cell_type": "code",
   "execution_count": 45,
   "metadata": {},
   "outputs": [
    {
     "data": {
      "text/plain": [
       "35"
      ]
     },
     "execution_count": 45,
     "metadata": {},
     "output_type": "execute_result"
    }
   ],
   "source": [
    "ws.send(\"import machine; help(machine)\")"
   ]
  },
  {
   "cell_type": "code",
   "execution_count": 50,
   "metadata": {},
   "outputs": [
    {
     "data": {
      "text/plain": [
       "['\\r\\n',\n",
       " 'MicroPython v1.9.3-8-g63826ac5c on 2017-11-01; ESP module with ESP8266\\r\\n',\n",
       " 'Type \"help()\" for more information.\\r\\n',\n",
       " '>>> ']"
      ]
     },
     "execution_count": 50,
     "metadata": {},
     "output_type": "execute_result"
    }
   ],
   "source": [
    "ws.send(b\"\\x02\")\n",
    "ra()"
   ]
  },
  {
   "cell_type": "code",
   "execution_count": 51,
   "metadata": {},
   "outputs": [
    {
     "name": "stderr",
     "output_type": "stream",
     "text": [
      "close status: 34816\n"
     ]
    }
   ],
   "source": [
    "ws.close()"
   ]
  },
  {
   "cell_type": "code",
   "execution_count": 49,
   "metadata": {},
   "outputs": [
    {
     "data": {
      "text/plain": [
       "b'OK'"
      ]
     },
     "execution_count": 49,
     "metadata": {},
     "output_type": "execute_result"
    }
   ],
   "source": [
    "\"OK\".encode()"
   ]
  },
  {
   "cell_type": "code",
   "execution_count": 37,
   "metadata": {},
   "outputs": [
    {
     "data": {
      "text/plain": [
       "(0, 0, False, False, False, False)"
      ]
     },
     "execution_count": 37,
     "metadata": {},
     "output_type": "execute_result"
    }
   ],
   "source": [
    "s.in_waiting, s.out_waiting, s.ri, s.cd, s.cts, s.dsr"
   ]
  },
  {
   "cell_type": "code",
   "execution_count": 52,
   "metadata": {
    "collapsed": true
   },
   "outputs": [],
   "source": [
    "x = b\"sdfsdf\"\n"
   ]
  },
  {
   "cell_type": "code",
   "execution_count": 55,
   "metadata": {},
   "outputs": [
    {
     "ename": "AttributeError",
     "evalue": "'bytes' object has no attribute 'pop'",
     "output_type": "error",
     "traceback": [
      "\u001b[0;31m---------------------------------------------------------------------------\u001b[0m",
      "\u001b[0;31mAttributeError\u001b[0m                            Traceback (most recent call last)",
      "\u001b[0;32m<ipython-input-55-a3c013b81a49>\u001b[0m in \u001b[0;36m<module>\u001b[0;34m()\u001b[0m\n\u001b[0;32m----> 1\u001b[0;31m \u001b[0mx\u001b[0m\u001b[0;34m.\u001b[0m\u001b[0mpop\u001b[0m\u001b[0;34m(\u001b[0m\u001b[0;36m0\u001b[0m\u001b[0;34m)\u001b[0m\u001b[0;34m\u001b[0m\u001b[0m\n\u001b[0m",
      "\u001b[0;31mAttributeError\u001b[0m: 'bytes' object has no attribute 'pop'"
     ]
    }
   ],
   "source": []
  },
  {
   "cell_type": "code",
   "execution_count": null,
   "metadata": {
    "collapsed": true
   },
   "outputs": [],
   "source": []
  }
 ],
 "metadata": {
  "kernelspec": {
   "display_name": "Python 3",
   "language": "python",
   "name": "python3"
  },
  "language_info": {
   "codemirror_mode": {
    "name": "ipython",
    "version": 3
   },
   "file_extension": ".py",
   "mimetype": "text/x-python",
   "name": "python",
   "nbconvert_exporter": "python",
   "pygments_lexer": "ipython3",
   "version": "3.6.1"
  }
 },
 "nbformat": 4,
 "nbformat_minor": 2
}

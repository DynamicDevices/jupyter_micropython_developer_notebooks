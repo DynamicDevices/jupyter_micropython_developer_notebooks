{
 "cells": [
  {
   "cell_type": "code",
   "execution_count": null,
   "metadata": {
    "collapsed": true
   },
   "outputs": [],
   "source": [
    "# basic event on and off logging file that can be used to\n",
    "# note when we have been turned on and had times reset\n",
    "\n",
    "# https://github.com/micropython/micropython-esp32/issues/32\n",
    "# https://github.com/micropython/micropython-esp32/issues/206"
   ]
  },
  {
   "cell_type": "code",
   "execution_count": 24,
   "metadata": {},
   "outputs": [
    {
     "name": "stdout",
     "output_type": "stream",
     "text": [
      "\n",
      "Closing serial Serial<id=0x7f32957160b8, open=True>(port='/dev/ttyUSB1', baudrate=115200, bytesize=8, parity='N', stopbits=1, timeout=0.5, xonxoff=False, rtscts=False, dsrdtr=False)\n",
      "Connecting to Serial /dev/ttyUSB1 baud=115200 \n",
      "OSError: [Errno 2] ENOENT\n",
      "MicroPython v1.9.2-283-gdba3796e on 2017-10-27; ESP32 module with ESP32\n",
      "Type \"help()\" for more information.\n",
      ">>>[reboot detected 0]repl is in normal command mode\n",
      "[\\r\\x03\\x03] b'\\r\\n>>> \\r\\n>>> \\r\\n>>> '\n",
      "[\\r\\x01] b'\\r\\n>>> \\r\\nraw REPL; CTRL-B to exit\\r\\n>' Ready.\n",
      "\n"
     ]
    }
   ],
   "source": [
    "%serialconnect"
   ]
  },
  {
   "cell_type": "code",
   "execution_count": 20,
   "metadata": {
    "collapsed": true
   },
   "outputs": [],
   "source": [
    "import os\n",
    "os.rename(\"main.py\", \"Dmain.py\")"
   ]
  },
  {
   "cell_type": "code",
   "execution_count": 18,
   "metadata": {},
   "outputs": [
    {
     "name": "stdout",
     "output_type": "stream",
     "text": [
      "object <module 'umachine'> is of type module\n",
      "  __name__ -- umachine\n",
      "  mem8 -- <8-bit memory>\n",
      "  mem16 -- <16-bit memory>\n",
      "  mem32 -- <32-bit memory>\n",
      "  freq -- <function>\n",
      "  reset -- <function>\n",
      "  unique_id -- <function>\n",
      "  idle -- <function>\n",
      "  disable_irq -- <function>\n",
      "  enable_irq -- <function>\n",
      "  time_pulse_us -- <function>\n",
      "  Timer -- <class 'Timer'>\n",
      "  WDT -- <class 'WDT'>\n",
      "  Pin -- <class 'Pin'>\n",
      "  Signal -- <class 'Signal'>\n",
      "  TouchPad -- <class 'TouchPad'>\n",
      "  ADC -- <class 'ADC'>\n",
      "  DAC -- <class 'DAC'>\n",
      "  I2C -- <class 'I2C'>\n",
      "  PWM -- <class 'PWM'>\n",
      "  SPI -- <class 'SoftSPI'>\n",
      "  UART -- <class 'UART'>\n"
     ]
    }
   ],
   "source": [
    "import machine\n",
    "help(machine)"
   ]
  },
  {
   "cell_type": "code",
   "execution_count": 22,
   "metadata": {},
   "outputs": [
    {
     "name": "stdout",
     "output_type": "stream",
     "text": [
      "Guru Meditation Error of type IllegalInstruction occurred on core  0. Exception was unhandled.\n",
      "Guru Meditation Error of type IllegalInstruction occurred on core  0. Exception was unhandled.\n",
      "Guru Meditation Error of type IllegalInstruction occurred on core  0. Exception was unhandled.\n",
      "Guru Meditation Error of type IllegalInstruction occurred on core  0. Exception was unhandled.\n",
      "Guru Meditation Error of type IllegalInstruction occurred on core  0. Exception was unhandled.\n",
      "Guru Meditation Error of type IllegalInstruction occurred on core  0. Exception was unhandled.\n",
      "Guru Meditation Error of type IllegalInstruction occurred on core  0. Exception was unhandled.\n",
      "Guru Meditation Error of type IllegalInstruction occurred on core  0. Exception was unhandled.\n",
      "Guru Meditation Error of type IllegalInstruction occurred on core  0. Exception was unhandled.\n",
      "Guru Meditation Error of type IllegalInstruction occurred on core  0. Exception was unhandled.\n",
      "Guru Meditation Error of type IllegalInstruction occurred on core  0. Exception was unhandled.\n",
      "Guru Meditation Error of type IllegalInstruction occurred on core  0. Exception was unhandled.\n",
      "Guru Meditation Error of type IllegalInstruction occurred on core  0. Exception was unhandled.\n",
      "Guru Meditation Error of type IllegalInstruction occurred on core  0. Exception was unhandled.\n",
      "Guru Meditation Error of type IllegalInstruction occurred on core  0. Exception was unhandled.\n",
      "Guru Meditation Error of type IllegalInstruction occurred on core  0. Exception was unhandled.\n",
      "Guru Meditation Error of type IllegalInstruction occurred on core  0. Exception was unhandled.\n",
      "Guru Meditation Error of type IllegalInstruction occurred on core  0. Exception was unhandled.\n",
      "Guru Meditation Error of type IllegalInstruction occurred on core  0. Exception was unhandled.\n",
      "Guru Meditation Error of type IllegalInstruction occurred on core  0. Exception was unhandled.\n",
      "Guru Meditation Error of type IllegalInstruction occurred on core  0. Exception was unhandled.\n",
      "Guru Meditation Error of type IllegalInstruction occurred on core  0. Exception was unhandled.\n",
      "Guru Meditation Error of type IllegalInstruction occurred on core  0. Exception was unhandled.\n",
      "Guru Meditation Error of type IllegalInstruction occurred on core  0. Exception was unhandled.\n",
      "Guru Meditation Error of type IllegalInstruction occurred on core  0. Exception was unhandled.\n",
      "Guru Meditation Error of type IllegalInstruction occurred on core  0. Exception was unhandled.\n",
      "Guru Meditation Error of type IllegalInstruction occurred on core  0. Exception was unhandled.\n",
      "Guru Meditation Error of type IllegalInstruction occurred on core  0. Exception was unhandled.\n",
      "Guru Meditation Error of type IllegalInstruction occurred on core  0. Exception was unhandled.\n",
      "Guru Meditation Error of type IllegalInstruction occurred on core  0. Exception was unhandled.\n",
      "Guru Meditation Error of type IllegalInstruction occurred on core  0. Exception was unhandled.\n",
      "Guru Meditation Error of type IllegalInstruction occurred on core  0. Exception was unhandled.\n",
      "Guru Meditation Error of type IllegalInstruction occurred on core  0. Exception was unhandled.\n",
      "Guru Meditation Error of type IllegalInstruction occurred on core  0. Exception was unhandled.\n",
      "Guru Meditation Error of type IllegalInstruction occurred on core  0. Exception was unhandled.\n",
      "Guru Meditation Error of type IllegalInstruction occurred on core  0. Exception was unhandled.\n",
      "Guru Meditation Error of type IllegalInstruction occurred on core  0. Exception was unhandled.\n",
      "Guru Meditation Error of type IllegalInstruction occurred on core  0. Exception was unhandled.\n",
      "Guru Meditation Error of type IllegalInstruction occurred on core  0. Exception was unhandled.\n",
      "Guru Meditation Error of type IllegalInstruction occurred on core  0. Exception was unhandled.\n",
      "Guru Meditation Error of type IllegalInstruction occurred on core  0. Exception was unhandled.\n",
      "Guru Meditation Error of type IllegalInstruction occurred on core  0. Exception was unhandled.\n",
      "Guru Meditation Error of type IllegalInstruction occurred on core  0. Exception was unhandled.\n",
      "Guru Meditation Error of type IllegalInstruction occurred on core  0. Exception was unhandled.\n",
      "Guru Meditation Error of type IllegalInstruction occurred on core  0. Exception was unhandled.\n",
      "Guru Meditation Error of type IllegalInstruction occurred on core  0. Exception was unhandled.\n",
      "Guru Meditation Error of type IllegalInstruction occurred on core  0. Exception was unhandled.\n",
      "Guru Meditation Error of type IllegalInstruction occurred on core  0. Exception was unhandled.\n",
      "Guru Meditation Error of type IllegalInstruction occurred on core  0. Exception was unhandled.\n",
      "Guru Meditation Error of type IllegalInstruction occurred on core  0. Exception was unhandled.\n",
      "Guru Meditation Error of type IllegalInstruction occurred on core  0. Exception was unhandled.\n",
      "Guru Meditation Error of type IllegalInstruction occurred on core  0. Exception was unhandled.\n",
      "Guru Meditation Error of type IllegalInstruction occurred on core  0. Exception was unhandled.\n",
      "Guru Meditation Error of type IllegalInstruction occurred on core  0. Exception was unhandled.\n",
      "Guru Meditation Error of type IllegalInstruction occurred on core  0. Exception was unhandled.\n",
      "Guru Meditation Error of type IllegalInstruction occurred on core  0. Exception was unhandled.\n",
      "Guru Meditation Error of type IllegalInstruction occurred on core  0. Exception was unhandled.\n",
      "Guru Meditation Error of type IllegalInstruction occurred on core  0. Exception was unhandled.\n",
      "Guru Meditation Error of type IllegalInstruction occurred on core  0. Exception was unhandled.\n",
      "Guru Meditation Error of type IllegalInstruction occurred on core  0. Exception was unhandled.\n",
      "Guru Meditation Error of type IllegalInstruction occurred on core  0. Exception was unhandled.\n",
      "Guru Meditation Error of type IllegalInstruction occurred on core  0. Exception was unhandled.\n",
      "Guru Meditation Error of type IllegalInstruction occurred on core  0. Exception was unhandled.\n",
      "Guru Meditation Error of type IllegalInstruction occurred on core  0. Exception was unhandled.\n",
      "Guru Meditation Error of type IllegalInstruction occurred on core  0. Exception was unhandled.\n",
      "Guru Meditation Error of type IllegalInstruction occurred on core  0. Exception was unhandled.\n",
      "Guru Meditation Error of type IllegalInstruction occurred on core  0. Exception was unhandled.\n",
      "Guru Meditation Error of type IllegalInstruction occurred on core  0. Exception was unhandled.\n",
      "Guru Meditation Error of type IllegalInstruction occurred on core  0. Exception was unhandled.\n",
      "Guru Meditation Error of type IllegalInstruction occurred on core  0. Exception was unhandled.\n",
      "Guru Meditation Error of type IllegalInstruction occurred on core  0. Exception was unhandled.\n",
      "Guru Meditation Error of type IllegalInstruction occurred on core  0. Exception was unhandled.\n",
      "Guru Meditation Error of type IllegalInstruction occurred on core  0. Exception was unhandled.\n",
      "Guru Meditation Error of type IllegalInstruction occurred on core  0. Exception was unhandled.\n",
      "Guru Meditation Error of type IllegalInstruction occurred on core  0. Exception was unhandled.\n",
      "Guru Meditation Error of type IllegalInstruction occurred on core  0. Exception was unhandled.\n",
      "Guru Meditation Error of type IllegalInstruction occurred on core  0. Exception was unhandled.\n",
      "Guru Meditation Error of type IllegalInstruction occurred on core  0. Exception was unhandled.\n",
      "Guru Meditation Error of type IllegalInstruction occurred on core  0. Exception was unhandled.\n",
      "Guru Meditation Error of type IllegalInstruction occurred on core  0. Exception was unhandled.\n",
      "Guru Meditation Error of type IllegalInstruction occurred on core  0. Exception was unhandled.\n",
      "Guru Meditation Error of type IllegalInstruction occurred on core  0. Exception was unhandled.\n",
      "Guru Meditation Error of type IllegalInstruction occurred on core  0. Exception was unhandled.\n",
      "Guru Meditation Error of type IllegalInstruction occurred on core  0. Exception was unhandled.\n",
      "Guru Meditation Error of type IllegalInstruction occurred on core  0. Exception was unhandled.\n",
      "Guru Meditation Error of type IllegalInstruction occurred on core  0. Exception was unhandled.\n",
      "Guru Meditation Error of type IllegalInstruction occurred on core  0. Exception was unhandled.\n"
     ]
    },
    {
     "name": "stdout",
     "output_type": "stream",
     "text": [
      "Guru Meditation Error of type IllegalInstruction occurred on core  0. Exception was unhandled.\n",
      "Guru Meditation Error of type IllegalInstruction occurred on core  0. Exception was unhandled.\n",
      "Guru Meditation Error of type IllegalInstruction occurred on core  0. Exception was unhandled.\n",
      "Guru Meditation Error of type IllegalInstruction occurred on core  0. Exception was unhandled.\n",
      "Guru Meditation Error of type IllegalInstruction occurred on core  0. Exception was unhandled.\n",
      "Guru Meditation Error of type IllegalInstruction occurred on core  0. Exception was unhandled.\n",
      "Guru Meditation Error of type IllegalInstruction occurred on core  0. Exception was unhandled.\n",
      "Guru Meditation Error of type IllegalInstruction occurred on core  0. Exception was unhandled.\n",
      "Guru Meditation Error of type IllegalInstruction occurred on core  0. Exception was unhandled.\n",
      "Guru Meditation Error of type IllegalInstruction occurred on core  0. Exception was unhandled.\n",
      "Guru Meditation Error of type IllegalInstruction occurred on core  0. Exception was unhandled.\n",
      "Guru Meditation Error of type IllegalInstruction occurred on core  0. Exception was unhandled.\n",
      "Guru Meditation Error of type IllegalInstruction occurred on core  0. Exception was unhandled.\n",
      "Guru Meditation Error of type IllegalInstruction occurred on core  0. Exception was unhandled.\n",
      "Guru Meditation Error of type IllegalInstruction occurred on core  0. Exception was unhandled.\n",
      "Guru Meditation Error of type IllegalInstruction occurred on core  0. Exception was unhandled.\n",
      "Guru Meditation Error of type IllegalInstruction occurred on core  0. Exception was unhandled.\n",
      "Guru Meditation Error of type IllegalInstruction occurred on core  0. Exception was unhandled.\n",
      "Guru Meditation Error of type IllegalInstruction occurred on core  0. Exception was unhandled.\n",
      "Guru Meditation Error of type IllegalInstruction occurred on core  0. Exception was unhandled.\n",
      "Guru Meditation Error of type IllegalInstruction occurred on core  0. Exception was unhandled.\n",
      "Guru Meditation Error of type IllegalInstruction occurred on core  0. Exception was unhandled.\n",
      "Guru Meditation Error of type IllegalInstruction occurred on core  0. Exception was unhandled.\n",
      "Guru Meditation Error of type IllegalInstruction occurred on core  0. Exception was unhandled.\n",
      "b'Guru Meditation Error of type IllegalInstruction occurr\\xe5ets Jun  8 2016 00:22:57\\r\\n'\n",
      "rst:0x10 (RTCWDT_RTC_RESET),boot:0x17 (SPI_FAST_FLASH_BOOT)\n",
      "configsip: 0, SPIWP:0xee\n",
      "clk_drv:0x00,q_drv:0x00,d_drv:0x00,cs0_drv:0x00,hd_drv:0x00,wp_drv:0x00\n",
      "mode:DIO, clock div:2\n",
      "load:0x3fff0018,len:4\n",
      "load:0x3fff001c,len:4332\n",
      "load:0x40078000,len:0\n",
      "load:0x40078000,len:10992\n",
      "entry 0x4007a6c4\n",
      "\u001b[0;33mW (66) rtc_clk: Potentially bogus XTAL frequency: 35 MHz, guessing 40 MHz\u001b[0m\n",
      "OSError: [Errno 2] ENOENT\n",
      "MicroPython v1.9.2-283-gdba3796e on 2017-10-27; ESP32 module with ESP32\n",
      "Type \"help()\" for more information.\n",
      ">>>[reboot detected 0]repl is in normal command mode\n",
      "[\\r\\x03\\x03] b'\\r\\n>>> \\r\\n>>> \\r\\n>>> '\n",
      "[\\r\\x01] b'\\r\\n>>> \\r\\nraw REPL; CTRL-B to exit\\r\\n>' "
     ]
    }
   ],
   "source": [
    "import machine\n",
    "machine.reset()"
   ]
  },
  {
   "cell_type": "code",
   "execution_count": 37,
   "metadata": {},
   "outputs": [
    {
     "name": "stdout",
     "output_type": "stream",
     "text": [
      "\u001b[32mWriting syslog.py\n",
      "\n",
      "\u001b[0m"
     ]
    }
   ],
   "source": [
    "%%writefile syslog.py\n",
    "\n",
    "import os, time, sys\n",
    "\n",
    "powid = 0   # id of when \n",
    "try:\n",
    "    powid = os.stat(\"syslog.txt\")[6]\n",
    "except OSError as e:\n",
    "    pass\n",
    "\n",
    "slout = open(\"syslog.txt\", \"a\")\n",
    "slout.write(\"\\n------\\n\")\n",
    "\n",
    "def elog(e):\n",
    "    st = str(time.time())\n",
    "    slout.write(st)\n",
    "    slout.write(\" \")\n",
    "    sys.print_exception(e, slout)\n",
    "    slout.write(\"\\n\")\n",
    "    slout.flush()\n",
    "    print(\"ELOG\", [e])\n",
    "\n",
    "def log(m, m1=None):\n",
    "    st = str(time.time())\n",
    "    slout.write(st)\n",
    "    slout.write(\" \")\n",
    "    slout.write(str(m))\n",
    "    if m1 is not None:\n",
    "        slout.write(\" \")\n",
    "        slout.write(str(m1))\n",
    "    slout.write(\"\\n\")\n",
    "    slout.flush()\n",
    "    print(\"LOG\", st, m, m1)\n",
    "    \n",
    "log(\"ON\", powid)   # second parameter should be machine.reset_cause() when it is working\n",
    "    "
   ]
  },
  {
   "cell_type": "code",
   "execution_count": 32,
   "metadata": {},
   "outputs": [
    {
     "name": "stdout",
     "output_type": "stream",
     "text": [
      "835 ON\n",
      "\n"
     ]
    }
   ],
   "source": [
    "print(open(\"syslog.txt\").read())\n"
   ]
  },
  {
   "cell_type": "code",
   "execution_count": 13,
   "metadata": {},
   "outputs": [
    {
     "name": "stdout",
     "output_type": "stream",
     "text": [
      "normal repl mode not detected b'\\r\\nMicroPython v1.9.2-8-gbf8f45cf on 2017-08-23; ESP module with ESP8266\\r\\nType \"help()\" for more information.\\r\\n>>> \\r\\n>>> \\r\\nPYB: sof#7 ets_task(40100164, 3, 3fff837c, 4)\\r\\nWebREPL is not configured, run \\'import webrepl_setup\\'\\r\\n'\n",
      "not command mode\n",
      "Traceback (most recent call last):\n",
      "  File \"main.py\", line 8, in <module>\n",
      "  File \"vl6180.py\", line 9, in __init__\n",
      "  File \"vl6180.py\", line 34, in init\n",
      "RuntimeError: Failure reset\n",
      "MicroPython v1.9.2-8-gbf8f45cf on 2017-08-23; ESP module with ESP8266\n",
      "Type \"help()\" for more information.\n",
      ">>> \n",
      ">>> \n",
      ">>> \n",
      ">>> \n",
      ">>> \n",
      ">>> \n",
      "raw REPL; CTRL-B to exit\n",
      ">"
     ]
    }
   ],
   "source": [
    "\n",
    "%rebootdevice"
   ]
  },
  {
   "cell_type": "code",
   "execution_count": 16,
   "metadata": {},
   "outputs": [
    {
     "name": "stdout",
     "output_type": "stream",
     "text": [
      "6\r\n"
     ]
    }
   ],
   "source": [
    "import machine\n",
    "print(machine.reset_cause())"
   ]
  },
  {
   "cell_type": "code",
   "execution_count": 3,
   "metadata": {},
   "outputs": [
    {
     "name": "stdout",
     "output_type": "stream",
     "text": [
      "__main__          framebuf          re                upip\n",
      "_boot             gc                select            upip_utarfile\n",
      "_onewire          hashlib           socket            upysh\n",
      "_thread           heapq             ssl               urandom\n",
      "apa106            inisetup          struct            ure\n",
      "array             io                sys               urequests\n",
      "binascii          json              time              uselect\n",
      "btree             machine           ubinascii         usocket\n",
      "builtins          math              ucollections      ussl\n",
      "cmath             micropython       uctypes           ustruct\n",
      "collections       neopixel          uerrno            utime\n",
      "dht               network           uhashlib          utimeq\n",
      "ds18x20           ntptime           uheapq            uzlib\n",
      "errno             onewire           uio               zlib\n",
      "esp               os                ujson\n",
      "flashbdev         random            uos\n",
      "Plus any modules on the filesystem\n"
     ]
    }
   ],
   "source": [
    "help(\"modules\")"
   ]
  },
  {
   "cell_type": "code",
   "execution_count": null,
   "metadata": {
    "collapsed": true
   },
   "outputs": [],
   "source": []
  }
 ],
 "metadata": {
  "kernelspec": {
   "display_name": "MicroPython - USB",
   "language": "micropython",
   "name": "micropython"
  },
  "language_info": {
   "codemirror_mode": "python",
   "file_extension": ".py",
   "mimetype": "text/python",
   "name": "micropython"
  }
 },
 "nbformat": 4,
 "nbformat_minor": 2
}

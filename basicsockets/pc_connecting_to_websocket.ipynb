{
 "cells": [
  {
   "cell_type": "code",
   "execution_count": 2,
   "metadata": {},
   "outputs": [
    {
     "data": {
      "text/plain": [
       "str"
      ]
     },
     "execution_count": 2,
     "metadata": {},
     "output_type": "execute_result"
    }
   ],
   "source": [
    "type(\"sdfsdf\")"
   ]
  },
  {
   "cell_type": "code",
   "execution_count": 77,
   "metadata": {
    "collapsed": true
   },
   "outputs": [],
   "source": [
    "workingwebsocket.close()"
   ]
  },
  {
   "cell_type": "code",
   "execution_count": 19,
   "metadata": {},
   "outputs": [
    {
     "name": "stdout",
     "output_type": "stream",
     "text": [
      "WebSocket OSError [Errno 101] Network is unreachable\n",
      "\n"
     ]
    }
   ],
   "source": [
    "import websocket, socket\n",
    "\n",
    "serialtimeout = 1.5\n",
    "workingwebsocket = None\n",
    "websocketurl = \"ws://192.168.4.1:8266/\"\n",
    "try:\n",
    "    workingwebsocket = websocket.create_connection(websocketurl, timeout=serialtimeout)\n",
    "    workingwebsocket.settimeout(serialtimeout)\n",
    "except socket.timeout:\n",
    "    print(\"Websocket Timeout after {} seconds {}\\n\".format(serialtimeout, websocketurl))\n",
    "except ValueError as e:\n",
    "    print(\"WebSocket ValueError {}\\n\".format(str(e)))\n",
    "except ConnectionResetError as e:\n",
    "    print(\"WebSocket ConnectionError {}\\n\".format(str(e)))\n",
    "except OSError as e:\n",
    "    print(\"WebSocket OSError {}\\n\".format(str(e)))\n"
   ]
  },
  {
   "cell_type": "code",
   "execution_count": 17,
   "metadata": {},
   "outputs": [
    {
     "ename": "AttributeError",
     "evalue": "'NoneType' object has no attribute 'recv'",
     "output_type": "error",
     "traceback": [
      "\u001b[0;31m---------------------------------------------------------------------------\u001b[0m",
      "\u001b[0;31mAttributeError\u001b[0m                            Traceback (most recent call last)",
      "\u001b[0;32m<ipython-input-17-eb7118aa9393>\u001b[0m in \u001b[0;36m<module>\u001b[0;34m()\u001b[0m\n\u001b[0;32m----> 1\u001b[0;31m \u001b[0mresult\u001b[0m \u001b[0;34m=\u001b[0m \u001b[0mworkingwebsocket\u001b[0m\u001b[0;34m.\u001b[0m\u001b[0mrecv\u001b[0m\u001b[0;34m(\u001b[0m\u001b[0;34m)\u001b[0m\u001b[0;34m\u001b[0m\u001b[0m\n\u001b[0m\u001b[1;32m      2\u001b[0m \u001b[0mprint\u001b[0m\u001b[0;34m(\u001b[0m\u001b[0;34m\"Received '%s'\"\u001b[0m \u001b[0;34m%\u001b[0m \u001b[0mresult\u001b[0m\u001b[0;34m)\u001b[0m\u001b[0;34m\u001b[0m\u001b[0m\n\u001b[1;32m      3\u001b[0m \u001b[0;31m#ws.close()\u001b[0m\u001b[0;34m\u001b[0m\u001b[0;34m\u001b[0m\u001b[0m\n",
      "\u001b[0;31mAttributeError\u001b[0m: 'NoneType' object has no attribute 'recv'"
     ]
    }
   ],
   "source": [
    "result = workingwebsocket.recv()\n",
    "print(\"Received '%s'\" % result)\n",
    "#ws.close()\n"
   ]
  },
  {
   "cell_type": "code",
   "execution_count": 7,
   "metadata": {},
   "outputs": [
    {
     "data": {
      "text/plain": [
       "11"
      ]
     },
     "execution_count": 7,
     "metadata": {},
     "output_type": "execute_result"
    }
   ],
   "source": [
    "workingwebsocket.send(\"wpass\")"
   ]
  },
  {
   "cell_type": "code",
   "execution_count": 8,
   "metadata": {},
   "outputs": [
    {
     "data": {
      "text/plain": [
       "8"
      ]
     },
     "execution_count": 8,
     "metadata": {},
     "output_type": "execute_result"
    }
   ],
   "source": [
    "workingwebsocket.send(\"\\r\\n\")"
   ]
  },
  {
   "cell_type": "code",
   "execution_count": 9,
   "metadata": {},
   "outputs": [
    {
     "data": {
      "text/plain": [
       "'\\r\\nWebREPL connected\\r\\n>>> '"
      ]
     },
     "execution_count": 9,
     "metadata": {},
     "output_type": "execute_result"
    }
   ],
   "source": [
    "workingwebsocket.recv()"
   ]
  },
  {
   "cell_type": "code",
   "execution_count": 10,
   "metadata": {},
   "outputs": [
    {
     "data": {
      "text/plain": [
       "7"
      ]
     },
     "execution_count": 10,
     "metadata": {},
     "output_type": "execute_result"
    }
   ],
   "source": [
    "workingwebsocket.send(\"\\x01\")"
   ]
  },
  {
   "cell_type": "code",
   "execution_count": 11,
   "metadata": {},
   "outputs": [
    {
     "ename": "WebSocketTimeoutException",
     "evalue": "timed out",
     "output_type": "error",
     "traceback": [
      "\u001b[0;31m---------------------------------------------------------------------------\u001b[0m",
      "\u001b[0;31mtimeout\u001b[0m                                   Traceback (most recent call last)",
      "\u001b[0;32m/home/julian/anaconda3/lib/python3.6/site-packages/websocket/_socket.py\u001b[0m in \u001b[0;36mrecv\u001b[0;34m(sock, bufsize)\u001b[0m\n\u001b[1;32m     79\u001b[0m     \u001b[0;32mtry\u001b[0m\u001b[0;34m:\u001b[0m\u001b[0;34m\u001b[0m\u001b[0m\n\u001b[0;32m---> 80\u001b[0;31m         \u001b[0mbytes_\u001b[0m \u001b[0;34m=\u001b[0m \u001b[0msock\u001b[0m\u001b[0;34m.\u001b[0m\u001b[0mrecv\u001b[0m\u001b[0;34m(\u001b[0m\u001b[0mbufsize\u001b[0m\u001b[0;34m)\u001b[0m\u001b[0;34m\u001b[0m\u001b[0m\n\u001b[0m\u001b[1;32m     81\u001b[0m     \u001b[0;32mexcept\u001b[0m \u001b[0msocket\u001b[0m\u001b[0;34m.\u001b[0m\u001b[0mtimeout\u001b[0m \u001b[0;32mas\u001b[0m \u001b[0me\u001b[0m\u001b[0;34m:\u001b[0m\u001b[0;34m\u001b[0m\u001b[0m\n",
      "\u001b[0;31mtimeout\u001b[0m: timed out",
      "\nDuring handling of the above exception, another exception occurred:\n",
      "\u001b[0;31mWebSocketTimeoutException\u001b[0m                 Traceback (most recent call last)",
      "\u001b[0;32m<ipython-input-11-cf6bb5496351>\u001b[0m in \u001b[0;36m<module>\u001b[0;34m()\u001b[0m\n\u001b[0;32m----> 1\u001b[0;31m \u001b[0mk\u001b[0m \u001b[0;34m=\u001b[0m \u001b[0mworkingwebsocket\u001b[0m\u001b[0;34m.\u001b[0m\u001b[0mrecv_frame\u001b[0m\u001b[0;34m(\u001b[0m\u001b[0;34m)\u001b[0m\u001b[0;34m\u001b[0m\u001b[0m\n\u001b[0m",
      "\u001b[0;32m/home/julian/anaconda3/lib/python3.6/site-packages/websocket/_core.py\u001b[0m in \u001b[0;36mrecv_frame\u001b[0;34m(self)\u001b[0m\n\u001b[1;32m    355\u001b[0m         \u001b[0;32mreturn\u001b[0m \u001b[0mvalue\u001b[0m\u001b[0;34m:\u001b[0m \u001b[0mABNF\u001b[0m \u001b[0mframe\u001b[0m \u001b[0mobject\u001b[0m\u001b[0;34m.\u001b[0m\u001b[0;34m\u001b[0m\u001b[0m\n\u001b[1;32m    356\u001b[0m         \"\"\"\n\u001b[0;32m--> 357\u001b[0;31m         \u001b[0;32mreturn\u001b[0m \u001b[0mself\u001b[0m\u001b[0;34m.\u001b[0m\u001b[0mframe_buffer\u001b[0m\u001b[0;34m.\u001b[0m\u001b[0mrecv_frame\u001b[0m\u001b[0;34m(\u001b[0m\u001b[0;34m)\u001b[0m\u001b[0;34m\u001b[0m\u001b[0m\n\u001b[0m\u001b[1;32m    358\u001b[0m \u001b[0;34m\u001b[0m\u001b[0m\n\u001b[1;32m    359\u001b[0m     \u001b[0;32mdef\u001b[0m \u001b[0msend_close\u001b[0m\u001b[0;34m(\u001b[0m\u001b[0mself\u001b[0m\u001b[0;34m,\u001b[0m \u001b[0mstatus\u001b[0m\u001b[0;34m=\u001b[0m\u001b[0mSTATUS_NORMAL\u001b[0m\u001b[0;34m,\u001b[0m \u001b[0mreason\u001b[0m\u001b[0;34m=\u001b[0m\u001b[0msix\u001b[0m\u001b[0;34m.\u001b[0m\u001b[0mb\u001b[0m\u001b[0;34m(\u001b[0m\u001b[0;34m\"\"\u001b[0m\u001b[0;34m)\u001b[0m\u001b[0;34m)\u001b[0m\u001b[0;34m:\u001b[0m\u001b[0;34m\u001b[0m\u001b[0m\n",
      "\u001b[0;32m/home/julian/anaconda3/lib/python3.6/site-packages/websocket/_abnf.py\u001b[0m in \u001b[0;36mrecv_frame\u001b[0;34m(self)\u001b[0m\n\u001b[1;32m    338\u001b[0m             \u001b[0;31m# Header\u001b[0m\u001b[0;34m\u001b[0m\u001b[0;34m\u001b[0m\u001b[0m\n\u001b[1;32m    339\u001b[0m             \u001b[0;32mif\u001b[0m \u001b[0mself\u001b[0m\u001b[0;34m.\u001b[0m\u001b[0mhas_received_header\u001b[0m\u001b[0;34m(\u001b[0m\u001b[0;34m)\u001b[0m\u001b[0;34m:\u001b[0m\u001b[0;34m\u001b[0m\u001b[0m\n\u001b[0;32m--> 340\u001b[0;31m                 \u001b[0mself\u001b[0m\u001b[0;34m.\u001b[0m\u001b[0mrecv_header\u001b[0m\u001b[0;34m(\u001b[0m\u001b[0;34m)\u001b[0m\u001b[0;34m\u001b[0m\u001b[0m\n\u001b[0m\u001b[1;32m    341\u001b[0m             \u001b[0;34m(\u001b[0m\u001b[0mfin\u001b[0m\u001b[0;34m,\u001b[0m \u001b[0mrsv1\u001b[0m\u001b[0;34m,\u001b[0m \u001b[0mrsv2\u001b[0m\u001b[0;34m,\u001b[0m \u001b[0mrsv3\u001b[0m\u001b[0;34m,\u001b[0m \u001b[0mopcode\u001b[0m\u001b[0;34m,\u001b[0m \u001b[0mhas_mask\u001b[0m\u001b[0;34m,\u001b[0m \u001b[0m_\u001b[0m\u001b[0;34m)\u001b[0m \u001b[0;34m=\u001b[0m \u001b[0mself\u001b[0m\u001b[0;34m.\u001b[0m\u001b[0mheader\u001b[0m\u001b[0;34m\u001b[0m\u001b[0m\n\u001b[1;32m    342\u001b[0m \u001b[0;34m\u001b[0m\u001b[0m\n",
      "\u001b[0;32m/home/julian/anaconda3/lib/python3.6/site-packages/websocket/_abnf.py\u001b[0m in \u001b[0;36mrecv_header\u001b[0;34m(self)\u001b[0m\n\u001b[1;32m    286\u001b[0m \u001b[0;34m\u001b[0m\u001b[0m\n\u001b[1;32m    287\u001b[0m     \u001b[0;32mdef\u001b[0m \u001b[0mrecv_header\u001b[0m\u001b[0;34m(\u001b[0m\u001b[0mself\u001b[0m\u001b[0;34m)\u001b[0m\u001b[0;34m:\u001b[0m\u001b[0;34m\u001b[0m\u001b[0m\n\u001b[0;32m--> 288\u001b[0;31m         \u001b[0mheader\u001b[0m \u001b[0;34m=\u001b[0m \u001b[0mself\u001b[0m\u001b[0;34m.\u001b[0m\u001b[0mrecv_strict\u001b[0m\u001b[0;34m(\u001b[0m\u001b[0;36m2\u001b[0m\u001b[0;34m)\u001b[0m\u001b[0;34m\u001b[0m\u001b[0m\n\u001b[0m\u001b[1;32m    289\u001b[0m         \u001b[0mb1\u001b[0m \u001b[0;34m=\u001b[0m \u001b[0mheader\u001b[0m\u001b[0;34m[\u001b[0m\u001b[0;36m0\u001b[0m\u001b[0;34m]\u001b[0m\u001b[0;34m\u001b[0m\u001b[0m\n\u001b[1;32m    290\u001b[0m \u001b[0;34m\u001b[0m\u001b[0m\n",
      "\u001b[0;32m/home/julian/anaconda3/lib/python3.6/site-packages/websocket/_abnf.py\u001b[0m in \u001b[0;36mrecv_strict\u001b[0;34m(self, bufsize)\u001b[0m\n\u001b[1;32m    373\u001b[0m             \u001b[0;31m# buffers allocated and then shrunk, which results in\u001b[0m\u001b[0;34m\u001b[0m\u001b[0;34m\u001b[0m\u001b[0m\n\u001b[1;32m    374\u001b[0m             \u001b[0;31m# fragmentation.\u001b[0m\u001b[0;34m\u001b[0m\u001b[0;34m\u001b[0m\u001b[0m\n\u001b[0;32m--> 375\u001b[0;31m             \u001b[0mbytes_\u001b[0m \u001b[0;34m=\u001b[0m \u001b[0mself\u001b[0m\u001b[0;34m.\u001b[0m\u001b[0mrecv\u001b[0m\u001b[0;34m(\u001b[0m\u001b[0mmin\u001b[0m\u001b[0;34m(\u001b[0m\u001b[0;36m16384\u001b[0m\u001b[0;34m,\u001b[0m \u001b[0mshortage\u001b[0m\u001b[0;34m)\u001b[0m\u001b[0;34m)\u001b[0m\u001b[0;34m\u001b[0m\u001b[0m\n\u001b[0m\u001b[1;32m    376\u001b[0m             \u001b[0mself\u001b[0m\u001b[0;34m.\u001b[0m\u001b[0mrecv_buffer\u001b[0m\u001b[0;34m.\u001b[0m\u001b[0mappend\u001b[0m\u001b[0;34m(\u001b[0m\u001b[0mbytes_\u001b[0m\u001b[0;34m)\u001b[0m\u001b[0;34m\u001b[0m\u001b[0m\n\u001b[1;32m    377\u001b[0m             \u001b[0mshortage\u001b[0m \u001b[0;34m-=\u001b[0m \u001b[0mlen\u001b[0m\u001b[0;34m(\u001b[0m\u001b[0mbytes_\u001b[0m\u001b[0;34m)\u001b[0m\u001b[0;34m\u001b[0m\u001b[0m\n",
      "\u001b[0;32m/home/julian/anaconda3/lib/python3.6/site-packages/websocket/_core.py\u001b[0m in \u001b[0;36m_recv\u001b[0;34m(self, bufsize)\u001b[0m\n\u001b[1;32m    425\u001b[0m     \u001b[0;32mdef\u001b[0m \u001b[0m_recv\u001b[0m\u001b[0;34m(\u001b[0m\u001b[0mself\u001b[0m\u001b[0;34m,\u001b[0m \u001b[0mbufsize\u001b[0m\u001b[0;34m)\u001b[0m\u001b[0;34m:\u001b[0m\u001b[0;34m\u001b[0m\u001b[0m\n\u001b[1;32m    426\u001b[0m         \u001b[0;32mtry\u001b[0m\u001b[0;34m:\u001b[0m\u001b[0;34m\u001b[0m\u001b[0m\n\u001b[0;32m--> 427\u001b[0;31m             \u001b[0;32mreturn\u001b[0m \u001b[0mrecv\u001b[0m\u001b[0;34m(\u001b[0m\u001b[0mself\u001b[0m\u001b[0;34m.\u001b[0m\u001b[0msock\u001b[0m\u001b[0;34m,\u001b[0m \u001b[0mbufsize\u001b[0m\u001b[0;34m)\u001b[0m\u001b[0;34m\u001b[0m\u001b[0m\n\u001b[0m\u001b[1;32m    428\u001b[0m         \u001b[0;32mexcept\u001b[0m \u001b[0mWebSocketConnectionClosedException\u001b[0m\u001b[0;34m:\u001b[0m\u001b[0;34m\u001b[0m\u001b[0m\n\u001b[1;32m    429\u001b[0m             \u001b[0;32mif\u001b[0m \u001b[0mself\u001b[0m\u001b[0;34m.\u001b[0m\u001b[0msock\u001b[0m\u001b[0;34m:\u001b[0m\u001b[0;34m\u001b[0m\u001b[0m\n",
      "\u001b[0;32m/home/julian/anaconda3/lib/python3.6/site-packages/websocket/_socket.py\u001b[0m in \u001b[0;36mrecv\u001b[0;34m(sock, bufsize)\u001b[0m\n\u001b[1;32m     81\u001b[0m     \u001b[0;32mexcept\u001b[0m \u001b[0msocket\u001b[0m\u001b[0;34m.\u001b[0m\u001b[0mtimeout\u001b[0m \u001b[0;32mas\u001b[0m \u001b[0me\u001b[0m\u001b[0;34m:\u001b[0m\u001b[0;34m\u001b[0m\u001b[0m\n\u001b[1;32m     82\u001b[0m         \u001b[0mmessage\u001b[0m \u001b[0;34m=\u001b[0m \u001b[0mextract_err_message\u001b[0m\u001b[0;34m(\u001b[0m\u001b[0me\u001b[0m\u001b[0;34m)\u001b[0m\u001b[0;34m\u001b[0m\u001b[0m\n\u001b[0;32m---> 83\u001b[0;31m         \u001b[0;32mraise\u001b[0m \u001b[0mWebSocketTimeoutException\u001b[0m\u001b[0;34m(\u001b[0m\u001b[0mmessage\u001b[0m\u001b[0;34m)\u001b[0m\u001b[0;34m\u001b[0m\u001b[0m\n\u001b[0m\u001b[1;32m     84\u001b[0m     \u001b[0;32mexcept\u001b[0m \u001b[0mSSLError\u001b[0m \u001b[0;32mas\u001b[0m \u001b[0me\u001b[0m\u001b[0;34m:\u001b[0m\u001b[0;34m\u001b[0m\u001b[0m\n\u001b[1;32m     85\u001b[0m         \u001b[0mmessage\u001b[0m \u001b[0;34m=\u001b[0m \u001b[0mextract_err_message\u001b[0m\u001b[0;34m(\u001b[0m\u001b[0me\u001b[0m\u001b[0;34m)\u001b[0m\u001b[0;34m\u001b[0m\u001b[0m\n",
      "\u001b[0;31mWebSocketTimeoutException\u001b[0m: timed out"
     ]
    }
   ],
   "source": [
    "k = workingwebsocket.recv_frame()"
   ]
  },
  {
   "cell_type": "code",
   "execution_count": 54,
   "metadata": {},
   "outputs": [
    {
     "name": "stdout",
     "output_type": "stream",
     "text": [
      "Help on WebSocket in module websocket._core object:\n",
      "\n",
      "class WebSocket(builtins.object)\n",
      " |  Low level WebSocket interface.\n",
      " |  This class is based on\n",
      " |    The WebSocket protocol draft-hixie-thewebsocketprotocol-76\n",
      " |    http://tools.ietf.org/html/draft-hixie-thewebsocketprotocol-76\n",
      " |  \n",
      " |  We can connect to the websocket server and send/receive data.\n",
      " |  The following example is an echo client.\n",
      " |  \n",
      " |  >>> import websocket\n",
      " |  >>> ws = websocket.WebSocket()\n",
      " |  >>> ws.connect(\"ws://echo.websocket.org\")\n",
      " |  >>> ws.send(\"Hello, Server\")\n",
      " |  >>> ws.recv()\n",
      " |  'Hello, Server'\n",
      " |  >>> ws.close()\n",
      " |  \n",
      " |  get_mask_key: a callable to produce new mask keys, see the set_mask_key\n",
      " |    function's docstring for more details\n",
      " |  sockopt: values for socket.setsockopt.\n",
      " |      sockopt must be tuple and each element is argument of sock.setsockopt.\n",
      " |  sslopt: dict object for ssl socket option.\n",
      " |  fire_cont_frame: fire recv event for each cont frame. default is False\n",
      " |  enable_multithread: if set to True, lock send method.\n",
      " |  skip_utf8_validation: skip utf8 validation.\n",
      " |  \n",
      " |  Methods defined here:\n",
      " |  \n",
      " |  __init__(self, get_mask_key=None, sockopt=None, sslopt=None, fire_cont_frame=False, enable_multithread=False, skip_utf8_validation=False, **_)\n",
      " |      Initialize WebSocket object.\n",
      " |  \n",
      " |  __iter__(self)\n",
      " |      Allow iteration over websocket, implying sequential `recv` executions.\n",
      " |  \n",
      " |  __next__(self)\n",
      " |  \n",
      " |  abort(self)\n",
      " |      Low-level asynchronous abort, wakes up other threads that are waiting in recv_*\n",
      " |  \n",
      " |  close(self, status=1000, reason=b'', timeout=3)\n",
      " |      Close Websocket object\n",
      " |      \n",
      " |      status: status code to send. see STATUS_XXX.\n",
      " |      \n",
      " |      reason: the reason to close. This must be string.\n",
      " |      \n",
      " |      timeout: timeout until receive a close frame.\n",
      " |          If None, it will wait forever until receive a close frame.\n",
      " |  \n",
      " |  connect(self, url, **options)\n",
      " |      Connect to url. url is websocket url scheme.\n",
      " |      ie. ws://host:port/resource\n",
      " |      You can customize using 'options'.\n",
      " |      If you set \"header\" list object, you can set your own custom header.\n",
      " |      \n",
      " |      >>> ws = WebSocket()\n",
      " |      >>> ws.connect(\"ws://echo.websocket.org/\",\n",
      " |              ...     header=[\"User-Agent: MyProgram\",\n",
      " |              ...             \"x-custom: header\"])\n",
      " |      \n",
      " |      timeout: socket timeout time. This value is integer.\n",
      " |               if you set None for this value,\n",
      " |               it means \"use default_timeout value\"\n",
      " |      \n",
      " |      options: \"header\" -> custom http header list or dict.\n",
      " |               \"cookie\" -> cookie value.\n",
      " |               \"origin\" -> custom origin url.\n",
      " |               \"host\"   -> custom host header string.\n",
      " |               \"http_proxy_host\" - http proxy host name.\n",
      " |               \"http_proxy_port\" - http proxy port. If not set, set to 80.\n",
      " |               \"http_no_proxy\"   - host names, which doesn't use proxy.\n",
      " |               \"http_proxy_auth\" - http proxy auth information.\n",
      " |                                   tuple of username and password.\n",
      " |                                   default is None\n",
      " |               \"subprotocols\" - array of available sub protocols.\n",
      " |                                default is None.\n",
      " |               \"socket\" - pre-initialized stream socket.\n",
      " |  \n",
      " |  fileno(self)\n",
      " |  \n",
      " |  getheaders(self)\n",
      " |      get handshake response header\n",
      " |  \n",
      " |  getstatus(self)\n",
      " |      get handshake status\n",
      " |  \n",
      " |  getsubprotocol(self)\n",
      " |      get subprotocol\n",
      " |  \n",
      " |  gettimeout(self)\n",
      " |      Get the websocket timeout(second).\n",
      " |  \n",
      " |  next(self)\n",
      " |  \n",
      " |  ping(self, payload='')\n",
      " |      send ping data.\n",
      " |      \n",
      " |      payload: data payload to send server.\n",
      " |  \n",
      " |  pong(self, payload)\n",
      " |      send pong data.\n",
      " |      \n",
      " |      payload: data payload to send server.\n",
      " |  \n",
      " |  recv(self)\n",
      " |      Receive string data(byte array) from the server.\n",
      " |      \n",
      " |      return value: string(byte array) value.\n",
      " |  \n",
      " |  recv_data(self, control_frame=False)\n",
      " |      Receive data with operation code.\n",
      " |      \n",
      " |      control_frame: a boolean flag indicating whether to return control frame\n",
      " |      data, defaults to False\n",
      " |      \n",
      " |      return  value: tuple of operation code and string(byte array) value.\n",
      " |  \n",
      " |  recv_data_frame(self, control_frame=False)\n",
      " |      Receive data with operation code.\n",
      " |      \n",
      " |      control_frame: a boolean flag indicating whether to return control frame\n",
      " |      data, defaults to False\n",
      " |      \n",
      " |      return  value: tuple of operation code and string(byte array) value.\n",
      " |  \n",
      " |  recv_frame(self)\n",
      " |      receive data as frame from server.\n",
      " |      \n",
      " |      return value: ABNF frame object.\n",
      " |  \n",
      " |  send(self, payload, opcode=1)\n",
      " |      Send the data as string.\n",
      " |      \n",
      " |      payload: Payload must be utf-8 string or unicode,\n",
      " |                if the opcode is OPCODE_TEXT.\n",
      " |                Otherwise, it must be string(byte array)\n",
      " |      \n",
      " |      opcode: operation code to send. Please see OPCODE_XXX.\n",
      " |  \n",
      " |  send_binary(self, payload)\n",
      " |  \n",
      " |  send_close(self, status=1000, reason=b'')\n",
      " |      send close data to the server.\n",
      " |      \n",
      " |      status: status code to send. see STATUS_XXX.\n",
      " |      \n",
      " |      reason: the reason to close. This must be string or bytes.\n",
      " |  \n",
      " |  send_frame(self, frame)\n",
      " |      Send the data frame.\n",
      " |      \n",
      " |      frame: frame data created  by ABNF.create_frame\n",
      " |      \n",
      " |      >>> ws = create_connection(\"ws://echo.websocket.org/\")\n",
      " |      >>> frame = ABNF.create_frame(\"Hello\", ABNF.OPCODE_TEXT)\n",
      " |      >>> ws.send_frame(frame)\n",
      " |      >>> cont_frame = ABNF.create_frame(\"My name is \", ABNF.OPCODE_CONT, 0)\n",
      " |      >>> ws.send_frame(frame)\n",
      " |      >>> cont_frame = ABNF.create_frame(\"Foo Bar\", ABNF.OPCODE_CONT, 1)\n",
      " |      >>> ws.send_frame(frame)\n",
      " |  \n",
      " |  set_mask_key(self, func)\n",
      " |      set function to create musk key. You can customize mask key generator.\n",
      " |      Mainly, this is for testing purpose.\n",
      " |      \n",
      " |      func: callable object. the func takes 1 argument as integer.\n",
      " |            The argument means length of mask key.\n",
      " |            This func must return string(byte array),\n",
      " |            which length is argument specified.\n",
      " |  \n",
      " |  settimeout(self, timeout)\n",
      " |      Set the timeout to the websocket.\n",
      " |      \n",
      " |      timeout: timeout time(second).\n",
      " |  \n",
      " |  shutdown(self)\n",
      " |      close socket, immediately.\n",
      " |  \n",
      " |  ----------------------------------------------------------------------\n",
      " |  Data descriptors defined here:\n",
      " |  \n",
      " |  __dict__\n",
      " |      dictionary for instance variables (if defined)\n",
      " |  \n",
      " |  __weakref__\n",
      " |      list of weak references to the object (if defined)\n",
      " |  \n",
      " |  headers\n",
      " |      get handshake response header\n",
      " |  \n",
      " |  status\n",
      " |      get handshake status\n",
      " |  \n",
      " |  subprotocol\n",
      " |      get subprotocol\n",
      " |  \n",
      " |  timeout\n",
      " |      Get the websocket timeout(second).\n",
      "\n"
     ]
    }
   ],
   "source": [
    "help(workingwebsocket)"
   ]
  },
  {
   "cell_type": "code",
   "execution_count": 75,
   "metadata": {},
   "outputs": [
    {
     "name": "stdout",
     "output_type": "stream",
     "text": [
      "{0: 'cont', 1: 'text', 2: 'binary', 8: 'close', 9: 'ping', 10: 'pong'}\n"
     ]
    }
   ],
   "source": [
    "#help(websocket.ABNF)\n",
    "print(websocket.ABNF.OPCODE_MAP)"
   ]
  },
  {
   "cell_type": "code",
   "execution_count": 58,
   "metadata": {},
   "outputs": [
    {
     "name": "stdout",
     "output_type": "stream",
     "text": [
      "e\n",
      "x\n",
      "i\n",
      "t\n",
      "\r\n",
      "\n",
      "\n",
      ">\n",
      "['e', 'x', 'i', 't', '\\r', '\\n', '>']\n"
     ]
    }
   ],
   "source": [
    "import select\n",
    "select.select([workingwebsocket],[],[],0)\n",
    "workingwebsocket.settimeout(5)\n",
    "res = [ ]\n",
    "while True:\n",
    "    r,w,e = select.select([workingwebsocket],[],[],0)\n",
    "    if not r:\n",
    "        break\n",
    "    res.append(workingwebsocket.recv())\n",
    "    print(res[-1])\n",
    "print(res)"
   ]
  },
  {
   "cell_type": "code",
   "execution_count": 25,
   "metadata": {},
   "outputs": [
    {
     "name": "stdout",
     "output_type": "stream",
     "text": [
      "<class 'ValueError'>\n"
     ]
    },
    {
     "ename": "ValueError",
     "evalue": "invalid literal for int() with base 10: 'd8266'",
     "output_type": "error",
     "traceback": [
      "\u001b[0;31m---------------------------------------------------------------------------\u001b[0m",
      "\u001b[0;31mValueError\u001b[0m                                Traceback (most recent call last)",
      "\u001b[0;32m<ipython-input-25-8645ddbf2b14>\u001b[0m in \u001b[0;36m<module>\u001b[0;34m()\u001b[0m\n\u001b[1;32m      1\u001b[0m \u001b[0;32mtry\u001b[0m\u001b[0;34m:\u001b[0m\u001b[0;34m\u001b[0m\u001b[0m\n\u001b[0;32m----> 2\u001b[0;31m     \u001b[0mws\u001b[0m \u001b[0;34m=\u001b[0m \u001b[0mcreate_connection\u001b[0m\u001b[0;34m(\u001b[0m\u001b[0;34m\"ws://192.168.4.11:d8266/\"\u001b[0m\u001b[0;34m,\u001b[0m \u001b[0;36m0.2\u001b[0m\u001b[0;34m)\u001b[0m\u001b[0;34m\u001b[0m\u001b[0m\n\u001b[0m\u001b[1;32m      3\u001b[0m \u001b[0;32mexcept\u001b[0m \u001b[0mException\u001b[0m \u001b[0;32mas\u001b[0m \u001b[0me\u001b[0m\u001b[0;34m:\u001b[0m\u001b[0;34m\u001b[0m\u001b[0m\n\u001b[1;32m      4\u001b[0m     \u001b[0mprint\u001b[0m\u001b[0;34m(\u001b[0m\u001b[0mtype\u001b[0m\u001b[0;34m(\u001b[0m\u001b[0me\u001b[0m\u001b[0;34m)\u001b[0m\u001b[0;34m)\u001b[0m\u001b[0;34m\u001b[0m\u001b[0m\n\u001b[1;32m      5\u001b[0m     \u001b[0;32mraise\u001b[0m\u001b[0;34m\u001b[0m\u001b[0m\n",
      "\u001b[0;32m/home/julian/anaconda3/lib/python3.6/site-packages/websocket/_core.py\u001b[0m in \u001b[0;36mcreate_connection\u001b[0;34m(url, timeout, class_, **options)\u001b[0m\n\u001b[1;32m    485\u001b[0m                      skip_utf8_validation=skip_utf8_validation, **options)\n\u001b[1;32m    486\u001b[0m     \u001b[0mwebsock\u001b[0m\u001b[0;34m.\u001b[0m\u001b[0msettimeout\u001b[0m\u001b[0;34m(\u001b[0m\u001b[0mtimeout\u001b[0m \u001b[0;32mif\u001b[0m \u001b[0mtimeout\u001b[0m \u001b[0;32mis\u001b[0m \u001b[0;32mnot\u001b[0m \u001b[0;32mNone\u001b[0m \u001b[0;32melse\u001b[0m \u001b[0mgetdefaulttimeout\u001b[0m\u001b[0;34m(\u001b[0m\u001b[0;34m)\u001b[0m\u001b[0;34m)\u001b[0m\u001b[0;34m\u001b[0m\u001b[0m\n\u001b[0;32m--> 487\u001b[0;31m     \u001b[0mwebsock\u001b[0m\u001b[0;34m.\u001b[0m\u001b[0mconnect\u001b[0m\u001b[0;34m(\u001b[0m\u001b[0murl\u001b[0m\u001b[0;34m,\u001b[0m \u001b[0;34m**\u001b[0m\u001b[0moptions\u001b[0m\u001b[0;34m)\u001b[0m\u001b[0;34m\u001b[0m\u001b[0m\n\u001b[0m\u001b[1;32m    488\u001b[0m     \u001b[0;32mreturn\u001b[0m \u001b[0mwebsock\u001b[0m\u001b[0;34m\u001b[0m\u001b[0m\n",
      "\u001b[0;32m/home/julian/anaconda3/lib/python3.6/site-packages/websocket/_core.py\u001b[0m in \u001b[0;36mconnect\u001b[0;34m(self, url, **options)\u001b[0m\n\u001b[1;32m    209\u001b[0m         \"\"\"\n\u001b[1;32m    210\u001b[0m         self.sock, addrs = connect(url, self.sock_opt, proxy_info(**options),\n\u001b[0;32m--> 211\u001b[0;31m                                    options.pop('socket', None))\n\u001b[0m\u001b[1;32m    212\u001b[0m \u001b[0;34m\u001b[0m\u001b[0m\n\u001b[1;32m    213\u001b[0m         \u001b[0;32mtry\u001b[0m\u001b[0;34m:\u001b[0m\u001b[0;34m\u001b[0m\u001b[0m\n",
      "\u001b[0;32m/home/julian/anaconda3/lib/python3.6/site-packages/websocket/_http.py\u001b[0m in \u001b[0;36mconnect\u001b[0;34m(url, options, proxy, socket)\u001b[0m\n\u001b[1;32m     56\u001b[0m \u001b[0;34m\u001b[0m\u001b[0m\n\u001b[1;32m     57\u001b[0m \u001b[0;32mdef\u001b[0m \u001b[0mconnect\u001b[0m\u001b[0;34m(\u001b[0m\u001b[0murl\u001b[0m\u001b[0;34m,\u001b[0m \u001b[0moptions\u001b[0m\u001b[0;34m,\u001b[0m \u001b[0mproxy\u001b[0m\u001b[0;34m,\u001b[0m \u001b[0msocket\u001b[0m\u001b[0;34m)\u001b[0m\u001b[0;34m:\u001b[0m\u001b[0;34m\u001b[0m\u001b[0m\n\u001b[0;32m---> 58\u001b[0;31m     \u001b[0mhostname\u001b[0m\u001b[0;34m,\u001b[0m \u001b[0mport\u001b[0m\u001b[0;34m,\u001b[0m \u001b[0mresource\u001b[0m\u001b[0;34m,\u001b[0m \u001b[0mis_secure\u001b[0m \u001b[0;34m=\u001b[0m \u001b[0mparse_url\u001b[0m\u001b[0;34m(\u001b[0m\u001b[0murl\u001b[0m\u001b[0;34m)\u001b[0m\u001b[0;34m\u001b[0m\u001b[0m\n\u001b[0m\u001b[1;32m     59\u001b[0m \u001b[0;34m\u001b[0m\u001b[0m\n\u001b[1;32m     60\u001b[0m     \u001b[0;32mif\u001b[0m \u001b[0msocket\u001b[0m\u001b[0;34m:\u001b[0m\u001b[0;34m\u001b[0m\u001b[0m\n",
      "\u001b[0;32m/home/julian/anaconda3/lib/python3.6/site-packages/websocket/_url.py\u001b[0m in \u001b[0;36mparse_url\u001b[0;34m(url)\u001b[0m\n\u001b[1;32m     49\u001b[0m         \u001b[0;32mraise\u001b[0m \u001b[0mValueError\u001b[0m\u001b[0;34m(\u001b[0m\u001b[0;34m\"hostname is invalid\"\u001b[0m\u001b[0;34m)\u001b[0m\u001b[0;34m\u001b[0m\u001b[0m\n\u001b[1;32m     50\u001b[0m     \u001b[0mport\u001b[0m \u001b[0;34m=\u001b[0m \u001b[0;36m0\u001b[0m\u001b[0;34m\u001b[0m\u001b[0m\n\u001b[0;32m---> 51\u001b[0;31m     \u001b[0;32mif\u001b[0m \u001b[0mparsed\u001b[0m\u001b[0;34m.\u001b[0m\u001b[0mport\u001b[0m\u001b[0;34m:\u001b[0m\u001b[0;34m\u001b[0m\u001b[0m\n\u001b[0m\u001b[1;32m     52\u001b[0m         \u001b[0mport\u001b[0m \u001b[0;34m=\u001b[0m \u001b[0mparsed\u001b[0m\u001b[0;34m.\u001b[0m\u001b[0mport\u001b[0m\u001b[0;34m\u001b[0m\u001b[0m\n\u001b[1;32m     53\u001b[0m \u001b[0;34m\u001b[0m\u001b[0m\n",
      "\u001b[0;32m/home/julian/anaconda3/lib/python3.6/urllib/parse.py\u001b[0m in \u001b[0;36mport\u001b[0;34m(self)\u001b[0m\n\u001b[1;32m    157\u001b[0m         \u001b[0mport\u001b[0m \u001b[0;34m=\u001b[0m \u001b[0mself\u001b[0m\u001b[0;34m.\u001b[0m\u001b[0m_hostinfo\u001b[0m\u001b[0;34m[\u001b[0m\u001b[0;36m1\u001b[0m\u001b[0;34m]\u001b[0m\u001b[0;34m\u001b[0m\u001b[0m\n\u001b[1;32m    158\u001b[0m         \u001b[0;32mif\u001b[0m \u001b[0mport\u001b[0m \u001b[0;32mis\u001b[0m \u001b[0;32mnot\u001b[0m \u001b[0;32mNone\u001b[0m\u001b[0;34m:\u001b[0m\u001b[0;34m\u001b[0m\u001b[0m\n\u001b[0;32m--> 159\u001b[0;31m             \u001b[0mport\u001b[0m \u001b[0;34m=\u001b[0m \u001b[0mint\u001b[0m\u001b[0;34m(\u001b[0m\u001b[0mport\u001b[0m\u001b[0;34m,\u001b[0m \u001b[0;36m10\u001b[0m\u001b[0;34m)\u001b[0m\u001b[0;34m\u001b[0m\u001b[0m\n\u001b[0m\u001b[1;32m    160\u001b[0m             \u001b[0;32mif\u001b[0m \u001b[0;32mnot\u001b[0m \u001b[0;34m(\u001b[0m \u001b[0;36m0\u001b[0m \u001b[0;34m<=\u001b[0m \u001b[0mport\u001b[0m \u001b[0;34m<=\u001b[0m \u001b[0;36m65535\u001b[0m\u001b[0;34m)\u001b[0m\u001b[0;34m:\u001b[0m\u001b[0;34m\u001b[0m\u001b[0m\n\u001b[1;32m    161\u001b[0m                 \u001b[0;32mraise\u001b[0m \u001b[0mValueError\u001b[0m\u001b[0;34m(\u001b[0m\u001b[0;34m\"Port out of range 0-65535\"\u001b[0m\u001b[0;34m)\u001b[0m\u001b[0;34m\u001b[0m\u001b[0m\n",
      "\u001b[0;31mValueError\u001b[0m: invalid literal for int() with base 10: 'd8266'"
     ]
    }
   ],
   "source": [
    "try:\n",
    "    ws = create_connection(\"ws://192.168.4.11:d8266/\", 0.2)\n",
    "except Exception as e:\n",
    "    print(type(e))\n",
    "    raise"
   ]
  },
  {
   "cell_type": "code",
   "execution_count": 22,
   "metadata": {},
   "outputs": [
    {
     "name": "stdout",
     "output_type": "stream",
     "text": [
      "Help on function create_connection in module websocket._core:\n",
      "\n",
      "create_connection(url, timeout=None, class_=<class 'websocket._core.WebSocket'>, **options)\n",
      "    connect to url and return websocket object.\n",
      "    \n",
      "    Connect to url and return the WebSocket object.\n",
      "    Passing optional timeout parameter will set the timeout on the socket.\n",
      "    If no timeout is supplied,\n",
      "    the global default timeout setting returned by getdefauttimeout() is used.\n",
      "    You can customize using 'options'.\n",
      "    If you set \"header\" list object, you can set your own custom header.\n",
      "    \n",
      "    >>> conn = create_connection(\"ws://echo.websocket.org/\",\n",
      "         ...     header=[\"User-Agent: MyProgram\",\n",
      "         ...             \"x-custom: header\"])\n",
      "    \n",
      "    \n",
      "    timeout: socket timeout time. This value is integer.\n",
      "             if you set None for this value,\n",
      "             it means \"use default_timeout value\"\n",
      "    \n",
      "    class_: class to instantiate when creating the connection. It has to implement\n",
      "            settimeout and connect. It's __init__ should be compatible with\n",
      "            WebSocket.__init__, i.e. accept all of it's kwargs.\n",
      "    options: \"header\" -> custom http header list or dict.\n",
      "             \"cookie\" -> cookie value.\n",
      "             \"origin\" -> custom origin url.\n",
      "             \"host\"   -> custom host header string.\n",
      "             \"http_proxy_host\" - http proxy host name.\n",
      "             \"http_proxy_port\" - http proxy port. If not set, set to 80.\n",
      "             \"http_no_proxy\"   - host names, which doesn't use proxy.\n",
      "             \"http_proxy_auth\" - http proxy auth information.\n",
      "                                    tuple of username and password.\n",
      "                                    default is None\n",
      "             \"enable_multithread\" -> enable lock for multithread.\n",
      "             \"sockopt\" -> socket options\n",
      "             \"sslopt\" -> ssl option\n",
      "             \"subprotocols\" - array of available sub protocols.\n",
      "                              default is None.\n",
      "             \"skip_utf8_validation\" - skip utf8 validation.\n",
      "             \"socket\" - pre-initialized stream socket.\n",
      "\n"
     ]
    }
   ],
   "source": [
    "help(create_connection)"
   ]
  },
  {
   "cell_type": "code",
   "execution_count": 4,
   "metadata": {},
   "outputs": [
    {
     "data": {
      "text/plain": [
       "['ABNF',\n",
       " 'DEFAULT_SOCKET_OPTION',\n",
       " 'STATUS_ABNORMAL_CLOSED',\n",
       " 'STATUS_BAD_GATEWAY',\n",
       " 'STATUS_GOING_AWAY',\n",
       " 'STATUS_INVALID_EXTENSION',\n",
       " 'STATUS_INVALID_PAYLOAD',\n",
       " 'STATUS_MESSAGE_TOO_BIG',\n",
       " 'STATUS_NORMAL',\n",
       " 'STATUS_POLICY_VIOLATION',\n",
       " 'STATUS_PROTOCOL_ERROR',\n",
       " 'STATUS_STATUS_NOT_AVAILABLE',\n",
       " 'STATUS_TLS_HANDSHAKE_ERROR',\n",
       " 'STATUS_UNEXPECTED_CONDITION',\n",
       " 'STATUS_UNSUPPORTED_DATA_TYPE',\n",
       " 'WebSocket',\n",
       " 'WebSocketApp',\n",
       " 'WebSocketBadStatusException',\n",
       " 'WebSocketConnectionClosedException',\n",
       " 'WebSocketException',\n",
       " 'WebSocketPayloadException',\n",
       " 'WebSocketProtocolException',\n",
       " 'WebSocketProxyException',\n",
       " 'WebSocketTimeoutException',\n",
       " '__builtins__',\n",
       " '__cached__',\n",
       " '__doc__',\n",
       " '__file__',\n",
       " '__loader__',\n",
       " '__name__',\n",
       " '__package__',\n",
       " '__path__',\n",
       " '__spec__',\n",
       " '__version__',\n",
       " '_abnf',\n",
       " '_app',\n",
       " '_cookiejar',\n",
       " '_core',\n",
       " '_exceptions',\n",
       " '_handshake',\n",
       " '_http',\n",
       " '_logging',\n",
       " '_socket',\n",
       " '_ssl_compat',\n",
       " '_url',\n",
       " '_utils',\n",
       " 'continuous_frame',\n",
       " 'create_connection',\n",
       " 'debug',\n",
       " 'dump',\n",
       " 'enableTrace',\n",
       " 'error',\n",
       " 'frame_buffer',\n",
       " 'getdefaulttimeout',\n",
       " 'isEnabledForDebug',\n",
       " 'isEnabledForError',\n",
       " 'recv',\n",
       " 'recv_line',\n",
       " 'send',\n",
       " 'setdefaulttimeout',\n",
       " 'sock_opt',\n",
       " 'trace',\n",
       " 'warning']"
      ]
     },
     "execution_count": 4,
     "metadata": {},
     "output_type": "execute_result"
    }
   ],
   "source": [
    "import websocket\n",
    "dir(websocket)"
   ]
  },
  {
   "cell_type": "code",
   "execution_count": null,
   "metadata": {
    "collapsed": true
   },
   "outputs": [],
   "source": []
  }
 ],
 "metadata": {
  "kernelspec": {
   "display_name": "Python 3",
   "language": "python",
   "name": "python3"
  },
  "language_info": {
   "codemirror_mode": {
    "name": "ipython",
    "version": 3
   },
   "file_extension": ".py",
   "mimetype": "text/x-python",
   "name": "python",
   "nbconvert_exporter": "python",
   "pygments_lexer": "ipython3",
   "version": "3.6.1"
  }
 },
 "nbformat": 4,
 "nbformat_minor": 2
}

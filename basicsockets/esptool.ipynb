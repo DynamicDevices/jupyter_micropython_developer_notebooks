{
 "cells": [
  {
   "cell_type": "code",
   "execution_count": 1,
   "metadata": {},
   "outputs": [
    {
     "name": "stdout",
     "output_type": "stream",
     "text": [
      "usage: %esptool [--port PORT] {erase,esp32,esp8266} [binfile]\n",
      "\n",
      "positional arguments:\n",
      "  {erase,esp32,esp8266}\n",
      "  binfile\n",
      "\n",
      "optional arguments:\n",
      "  --port PORT\n",
      "Please download the bin file from https://micropython.org/download/#"
     ]
    }
   ],
   "source": [
    "%esptool"
   ]
  },
  {
   "cell_type": "code",
   "execution_count": 2,
   "metadata": {},
   "outputs": [
    {
     "name": "stdout",
     "output_type": "stream",
     "text": [
      "Executing:\n",
      "  esptool.py --port /dev/ttyUSB0 erase_flash\n",
      "\n",
      "esptool.py v2.0\n",
      "Connecting........_\n",
      "Detecting chip type... ESP32\n",
      "Chip is ESP32D0WDQ6 (revision 1)\n",
      "Uploading stub...\n",
      "Running stub...\n",
      "Stub running...\n",
      "Erasing flash (this may take a while)...\n",
      "Chip erase completed successfully in 4.5s\n",
      "Hard resetting...\n"
     ]
    }
   ],
   "source": [
    "%esptool erase"
   ]
  },
  {
   "cell_type": "code",
   "execution_count": 3,
   "metadata": {},
   "outputs": [
    {
     "name": "stdout",
     "output_type": "stream",
     "text": [
      "Executing:\n",
      "  esptool.py --port /dev/ttyUSB0 --chip esp32 write_flash -z 0x1000 /home/julian/executables/micropythonbins/esp32-20171019-v1.9.2-280-g2305d848.bin\n",
      "\n",
      "esptool.py v2.0\n",
      "Connecting........__\n",
      "Chip is ESP32D0WDQ6 (revision 1)\n",
      "Uploading stub...\n",
      "Running stub...\n",
      "Stub running...\n",
      "Configuring flash size...\n",
      "Auto-detected Flash size: 4MB\n",
      "Compressed 904000 bytes to 567938...\n",
      "Wrote 904000 bytes (567938 compressed) at 0x00001000 in 50.4 seconds (effective 143.5 kbit/s)...\n",
      "Hash of data verified.\n",
      "\n",
      "Leaving...\n",
      "Hard resetting...\n"
     ]
    }
   ],
   "source": [
    "%esptool esp32 /home/julian/executables/micropythonbins/esp32-20171019-v1.9.2-280-g2305d848.bin"
   ]
  },
  {
   "cell_type": "code",
   "execution_count": 4,
   "metadata": {},
   "outputs": [
    {
     "name": "stdout",
     "output_type": "stream",
     "text": [
      "Connecting to Serial /dev/ttyUSB0 baud=115200 \n",
      "Ready."
     ]
    }
   ],
   "source": [
    "%serialconnect"
   ]
  },
  {
   "cell_type": "code",
   "execution_count": 5,
   "metadata": {},
   "outputs": [
    {
     "name": "stdout",
     "output_type": "stream",
     "text": [
      "object <module 'utime'> is of type module\n",
      "  __name__ -- utime\n",
      "  localtime -- <function>\n",
      "  mktime -- <function>\n",
      "  time -- <function>\n",
      "  sleep -- <function>\n",
      "  sleep_ms -- <function>\n",
      "  sleep_us -- <function>\n",
      "  ticks_ms -- <function>\n",
      "  ticks_us -- <function>\n",
      "  ticks_cpu -- <function>\n",
      "  ticks_add -- <function>\n",
      "  ticks_diff -- <function>\n"
     ]
    }
   ],
   "source": [
    "import time\n",
    "help(time)"
   ]
  },
  {
   "cell_type": "code",
   "execution_count": 7,
   "metadata": {},
   "outputs": [
    {
     "name": "stdout",
     "output_type": "stream",
     "text": [
      "(2000, 1, 1, 0, 0, 49, 5, 1)\r\n"
     ]
    }
   ],
   "source": [
    "print(time.localtime())\n"
   ]
  },
  {
   "cell_type": "code",
   "execution_count": null,
   "metadata": {
    "collapsed": true
   },
   "outputs": [],
   "source": []
  }
 ],
 "metadata": {
  "kernelspec": {
   "display_name": "MicroPython - USB",
   "language": "micropython",
   "name": "micropython"
  },
  "language_info": {
   "codemirror_mode": "python",
   "file_extension": ".py",
   "mimetype": "text/python",
   "name": "micropython"
  }
 },
 "nbformat": 4,
 "nbformat_minor": 2
}

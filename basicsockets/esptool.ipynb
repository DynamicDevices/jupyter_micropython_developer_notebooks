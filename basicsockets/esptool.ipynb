{
 "cells": [
  {
   "cell_type": "code",
   "execution_count": 1,
   "metadata": {},
   "outputs": [
    {
     "name": "stdout",
     "output_type": "stream",
     "text": [
      "usage: %esptool [--port PORT] {erase,esp32,esp8266} [binfile]\n",
      "\n",
      "positional arguments:\n",
      "  {erase,esp32,esp8266}\n",
      "  binfile\n",
      "\n",
      "optional arguments:\n",
      "  --port PORT\n",
      "Please download the bin file from https://micropython.org/download/#"
     ]
    }
   ],
   "source": [
    "%esptool"
   ]
  },
  {
   "cell_type": "code",
   "execution_count": 2,
   "metadata": {},
   "outputs": [
    {
     "name": "stdout",
     "output_type": "stream",
     "text": [
      "Executing:\n",
      "  esptool.py --port /dev/ttyUSB1 erase_flash\n",
      "\n",
      "esptool.py v2.0\n",
      "Connecting........_\n",
      "Detecting chip type... ESP32\n",
      "Chip is ESP32D0WDQ6 (revision 1)\n",
      "Uploading stub...\n",
      "Running stub...\n",
      "Stub running...\n",
      "Erasing flash (this may take a while)...\n",
      "Chip erase completed successfully in 4.1s\n",
      "Hard resetting...\n"
     ]
    }
   ],
   "source": [
    "%esptool erase"
   ]
  },
  {
   "cell_type": "code",
   "execution_count": 16,
   "metadata": {},
   "outputs": [],
   "source": [
    "%comment Look in next cell for ESP32\n",
    "%esptool esp8266 /home/julian/executables/micropythonbins/esp8266-20171101-v1.9.3.bin\n"
   ]
  },
  {
   "cell_type": "code",
   "execution_count": 3,
   "metadata": {},
   "outputs": [
    {
     "name": "stdout",
     "output_type": "stream",
     "text": [
      "Executing:\n",
      "  esptool.py --port /dev/ttyUSB1 --chip esp32 write_flash -z 0x1000 /home/julian/executables/micropythonbins/esp32-20171106-v1.9.2-443-g236297f4.bin\n",
      "\n",
      "esptool.py v2.0\n",
      "Connecting........__\n",
      "Chip is ESP32D0WDQ6 (revision 1)\n",
      "Uploading stub...\n",
      "Running stub...\n",
      "Stub running...\n",
      "Configuring flash size...\n",
      "Auto-detected Flash size: 4MB\n",
      "Compressed 934416 bytes to 586367...\n",
      "Wrote 934416 bytes (586367 compressed) at 0x00001000 in 52.1 seconds (effective 143.6 kbit/s)...\n",
      "Hash of data verified.\n",
      "\n",
      "Leaving...\n",
      "Hard resetting...\n"
     ]
    }
   ],
   "source": [
    "%esptool esp32 /home/julian/executables/micropythonbins/esp32-20171106-v1.9.2-443-g236297f4.bin"
   ]
  },
  {
   "cell_type": "code",
   "execution_count": 4,
   "metadata": {},
   "outputs": [
    {
     "name": "stdout",
     "output_type": "stream",
     "text": [
      "Connecting to Serial /dev/ttyUSB1 baud=115200 \n",
      "Performing initial setup\n",
      "OSError: [Errno 2] ENOENT\n",
      "MicroPython v1.9.2-443-g236297f4 on 2017-11-06; ESP32 module with ESP32\n",
      "Type \"help()\" for more information.\n",
      ">>>[reboot detected 0]repl is in normal command mode\n",
      "[\\r\\x03\\x03] b'\\r\\n>>> \\r\\n>>> \\r\\n>>> '\n",
      "[\\r\\x01] b'\\r\\n>>> \\r\\nraw REPL; CTRL-B to exit\\r\\n>' Ready.\n",
      "\n"
     ]
    }
   ],
   "source": [
    "%serialconnect"
   ]
  },
  {
   "cell_type": "code",
   "execution_count": 5,
   "metadata": {},
   "outputs": [
    {
     "name": "stdout",
     "output_type": "stream",
     "text": [
      "__main__          framebuf          re                upip\n",
      "_boot             gc                select            upip_utarfile\n",
      "_onewire          hashlib           socket            upysh\n",
      "_thread           heapq             ssl               urandom\n",
      "apa106            inisetup          struct            ure\n",
      "array             io                sys               urequests\n",
      "binascii          json              time              uselect\n",
      "btree             machine           ubinascii         usocket\n",
      "builtins          math              ucollections      ussl\n",
      "cmath             micropython       uctypes           ustruct\n",
      "collections       neopixel          uerrno            utime\n",
      "dht               network           uhashlib          utimeq\n",
      "ds18x20           ntptime           uheapq            uzlib\n",
      "errno             onewire           uio               zlib\n",
      "esp               os                ujson\n",
      "flashbdev         random            uos\n",
      "Plus any modules on the filesystem\n"
     ]
    }
   ],
   "source": [
    "help(\"modules\")"
   ]
  },
  {
   "cell_type": "code",
   "execution_count": 29,
   "metadata": {},
   "outputs": [
    {
     "name": "stdout",
     "output_type": "stream",
     "text": [
      "object <module 'uos'> is of type module\n",
      "  __name__ -- uos\n",
      "  uname -- <function>\n",
      "  urandom -- <function>\n",
      "  ilistdir -- <function>\n",
      "  listdir -- <function>\n",
      "  mkdir -- <function>\n",
      "  rmdir -- <function>\n",
      "  chdir -- <function>\n",
      "  getcwd -- <function>\n",
      "  remove -- <function>\n",
      "  rename -- <function>\n",
      "  stat -- <function>\n",
      "  statvfs -- <function>\n",
      "  mount -- <function>\n",
      "  umount -- <function>\n",
      "  VfsFat -- <class 'VfsFat'>\n"
     ]
    }
   ],
   "source": [
    "help(os)"
   ]
  },
  {
   "cell_type": "code",
   "execution_count": 41,
   "metadata": {},
   "outputs": [
    {
     "name": "stderr",
     "output_type": "stream",
     "text": [
      "Traceback (most recent call last):\n",
      "  File \"<stdin>\", line 1, in <module>\n",
      "OSError: [Errno 17] EEXIST\n"
     ]
    }
   ],
   "source": [
    "print(os.mkdir(\"aaa\"))\n"
   ]
  },
  {
   "cell_type": "code",
   "execution_count": 10,
   "metadata": {},
   "outputs": [
    {
     "name": "stdout",
     "output_type": "stream",
     "text": [
      "repl is in normal command mode\n",
      "[\\r\\x03\\x03] b'\\r\\nMicroPython v1.9.2-443-g236297f4 on 2017-11-06; ESP32 module with ESP32\\r\\nType \"help()\" for more information.\\r\\n>>> \\r\\n>>> \\r\\nPYB: soft reboot\\r\\nOSError: [Errno 2] ENOENT\\r\\nMicroPython v1.9.2-443-g236297f4 on 2017-11-06; ESP32 module with ESP32\\r\\nType \"help()\" for more information.\\r\\n>>> \\r\\n>>> \\r\\n>>> \\r\\n>>> \\r\\n>>> '\n",
      "[\\r\\x01] b'\\r\\n>>> \\r\\nraw REPL; CTRL-B to exit\\r\\n>'"
     ]
    }
   ],
   "source": [
    "%rebootdevice"
   ]
  },
  {
   "cell_type": "code",
   "execution_count": 9,
   "metadata": {},
   "outputs": [
    {
     "name": "stdout",
     "output_type": "stream",
     "text": [
      "2\r\n"
     ]
    }
   ],
   "source": [
    "print(1+1)"
   ]
  },
  {
   "cell_type": "code",
   "execution_count": 1,
   "metadata": {},
   "outputs": [
    {
     "name": "stdout",
     "output_type": "stream",
     "text": [
      "Connecting to Serial /dev/ttyUSB1 baud=115200 \n",
      "Ready.\n",
      "\n"
     ]
    }
   ],
   "source": [
    "%serialconnect"
   ]
  },
  {
   "cell_type": "code",
   "execution_count": null,
   "metadata": {
    "collapsed": true
   },
   "outputs": [],
   "source": [
    "# junk below temporarily used to test new installs\n",
    "# (please delete if you don't know what it is)"
   ]
  },
  {
   "cell_type": "code",
   "execution_count": 7,
   "metadata": {},
   "outputs": [
    {
     "name": "stdout",
     "output_type": "stream",
     "text": [
      "object <module 'umachine'> is of type module\n",
      "  __name__ -- umachine\n",
      "  mem8 -- <8-bit memory>\n",
      "  mem16 -- <16-bit memory>\n",
      "  mem32 -- <32-bit memory>\n",
      "  freq -- <function>\n",
      "  reset -- <function>\n",
      "  unique_id -- <function>\n",
      "  idle -- <function>\n",
      "  disable_irq -- <function>\n",
      "  enable_irq -- <function>\n",
      "  time_pulse_us -- <function>\n",
      "  Timer -- <class 'Timer'>\n",
      "  WDT -- <class 'WDT'>\n",
      "  Pin -- <class 'Pin'>\n",
      "  Signal -- <class 'Signal'>\n",
      "  TouchPad -- <class 'TouchPad'>\n",
      "  ADC -- <class 'ADC'>\n",
      "  DAC -- <class 'DAC'>\n",
      "  I2C -- <class 'I2C'>\n",
      "  PWM -- <class 'PWM'>\n",
      "  SPI -- <class 'SoftSPI'>\n",
      "  UART -- <class 'UART'>\n"
     ]
    }
   ],
   "source": [
    "import machine\n",
    "help(machine)"
   ]
  },
  {
   "cell_type": "code",
   "execution_count": 8,
   "metadata": {
    "collapsed": true
   },
   "outputs": [],
   "source": [
    "t = machine.Timer(-1)"
   ]
  },
  {
   "cell_type": "code",
   "execution_count": 10,
   "metadata": {},
   "outputs": [
    {
     "name": "stdout",
     "output_type": "stream",
     "text": [
      "object Timer(3ffb36d0; alarm_en=0, auto_reload=1, counter_en=0) is of type Timer\n",
      "  __del__ -- <function>\n",
      "  deinit -- <function>\n",
      "  init -- <function>\n",
      "  value -- <function>\n",
      "  ONE_SHOT -- 0\n",
      "  PERIODIC -- 1\n"
     ]
    }
   ],
   "source": [
    "help(t)"
   ]
  },
  {
   "cell_type": "code",
   "execution_count": 22,
   "metadata": {},
   "outputs": [
    {
     "name": "stdout",
     "output_type": "stream",
     "text": [
      "hi there Timer(3ffb36d0; alarm_en=0, auto_reload=0, counter_en=1)\n",
      "endsleep\n"
     ]
    }
   ],
   "source": [
    "import time\n",
    "t.init(period=1000, mode=t.ONE_SHOT, callback=lambda y: print(\"hi there\", str(y)))\n",
    "time.sleep_ms(1500)\n",
    "print(\"endsleep\")"
   ]
  },
  {
   "cell_type": "code",
   "execution_count": null,
   "metadata": {
    "collapsed": true
   },
   "outputs": [],
   "source": []
  },
  {
   "cell_type": "code",
   "execution_count": 18,
   "metadata": {},
   "outputs": [
    {
     "name": "stdout",
     "output_type": "stream",
     "text": [
      "object <module 'network'> is of type module\n",
      "  __name__ -- network\n",
      "  __init__ -- <function>\n",
      "  WLAN -- <function>\n",
      "  LAN -- <function>\n",
      "  phy_mode -- <function>\n",
      "  STA_IF -- 0\n",
      "  AP_IF -- 1\n",
      "  MODE_11B -- 1\n",
      "  MODE_11G -- 2\n",
      "  MODE_11N -- 4\n",
      "  AUTH_OPEN -- 0\n",
      "  AUTH_WEP -- 1\n",
      "  AUTH_WPA_PSK -- 2\n",
      "  AUTH_WPA2_PSK -- 3\n",
      "  AUTH_WPA_WPA2_PSK -- 4\n",
      "  AUTH_MAX -- 6\n",
      "  PHY_LAN8720 -- 0\n",
      "  PHY_TLK110 -- 1\n"
     ]
    }
   ],
   "source": [
    "import network\n",
    "help(network)"
   ]
  },
  {
   "cell_type": "code",
   "execution_count": 6,
   "metadata": {
    "collapsed": true
   },
   "outputs": [],
   "source": [
    "import uasyncio\n",
    "k = uasyncio.StreamWriter(1, 1)"
   ]
  },
  {
   "cell_type": "code",
   "execution_count": 9,
   "metadata": {
    "collapsed": true
   },
   "outputs": [],
   "source": [
    "k.awrite(b\"sdfsdf\", sz=3)"
   ]
  },
  {
   "cell_type": "code",
   "execution_count": 100,
   "metadata": {
    "collapsed": true
   },
   "outputs": [],
   "source": [
    "import os\n",
    "os.mkdir(\"uasyncio\")\n"
   ]
  },
  {
   "cell_type": "code",
   "execution_count": 102,
   "metadata": {},
   "outputs": [
    {
     "name": "stdout",
     "output_type": "stream",
     "text": [
      "Sent 232 lines (6845 bytes)."
     ]
    }
   ],
   "source": [
    "%sendtofile --source /home/julian/executables/micropythonbins/uasyncio/__init__.py uasyncio/__init__.py\n",
    "%sendtofile --source /home/julian/executables/micropythonbins/uasyncio/core.py uasyncio/core.py\n"
   ]
  },
  {
   "cell_type": "code",
   "execution_count": 106,
   "metadata": {},
   "outputs": [
    {
     "name": "stderr",
     "output_type": "stream",
     "text": [
      "Traceback (most recent call last):\n",
      "  File \"<stdin>\", line 1, in <module>\n",
      "  File \"uasyncio/__init__.py\", line 2, in <module>\n",
      "ImportError: no module named 'uselect'\n"
     ]
    }
   ],
   "source": [
    "import uasyncio as asyncio\n"
   ]
  },
  {
   "cell_type": "code",
   "execution_count": 105,
   "metadata": {},
   "outputs": [
    {
     "name": "stdout",
     "output_type": "stream",
     "text": [
      "[]\r\n"
     ]
    }
   ],
   "source": [
    "import os\n",
    "print(os.listdir(\"lib\"))"
   ]
  },
  {
   "cell_type": "code",
   "execution_count": 111,
   "metadata": {},
   "outputs": [
    {
     "name": "stdout",
     "output_type": "stream",
     "text": [
      "<module 'sys'>object  is of type module\n",
      "  __name__ -- sys\n",
      "  path -- ['', '/flash', '/flash/lib']\n",
      "  argv -- []\n",
      "  version -- 3.4.0\n",
      "  version_info -- (3, 4, 0)\n",
      "  implementation -- (name='micropython', version=(1, 8, 6))\n",
      "  platform -- LoPy\n",
      "  byteorder -- little\n",
      "  maxsize -- 2147483647\n",
      "  exit -- <function>\n",
      "  stdin -- <io.FileIO 0>\n",
      "  stdout -- <io.FileIO 1>\n",
      "  stderr -- <io.FileIO 2>\n",
      "  modules -- {'uasyncio': <module 'uasyncio' from 'uasyncio/__init__.py'>}\n",
      "  exc_info -- <function>\n",
      "  print_exception -- <function>\n"
     ]
    }
   ],
   "source": [
    "import usocket\n",
    "import sys\n",
    "help(sys)"
   ]
  },
  {
   "cell_type": "code",
   "execution_count": 103,
   "metadata": {},
   "outputs": [
    {
     "name": "stdout",
     "output_type": "stream",
     "text": [
      "normal repl mode not detected b'\\r\\nMicroPython v1.8.6-796-g489fafa0 on 2017-10-15; LoPy with ESP32\\r\\nType \"help()\" for more information.\\r\\n>>> \\r\\n>>> \\r\\nPYB: soft reboot\\r\\n'\n",
      "not command mode\n",
      "MicroPython v1.8.6-796-g489fafa0 on 2017-10-15; LoPy with ESP32\n",
      "Type \"help()\" for more information.\n",
      ">>>[reboot detected 0]repl is in normal command mode\n",
      "[\\r\\x03\\x03] b'\\r\\n>>> \\r\\n>>> \\r\\n>>> '\n",
      "[\\r\\x01] b'\\r\\n>>> \\r\\nraw REPL; CTRL-B to exit\\r\\n>' "
     ]
    }
   ],
   "source": [
    "%rebootdevice"
   ]
  },
  {
   "cell_type": "code",
   "execution_count": 46,
   "metadata": {},
   "outputs": [
    {
     "name": "stdout",
     "output_type": "stream",
     "text": [
      "['main.py', 'sys', 'lib', 'cert', 'boot.py', 'test.py', 'project.pymakr', 'devices.py', 'datalogger.py', 'lorastuff.py', 'connectwifi.py']\r\n"
     ]
    }
   ],
   "source": [
    "import os\n",
    "print(os.listdir())"
   ]
  },
  {
   "cell_type": "code",
   "execution_count": 10,
   "metadata": {},
   "outputs": [
    {
     "name": "stdout",
     "output_type": "stream",
     "text": [
      "from network import LoRa\n",
      "import time\n",
      "import binascii\n",
      "import socket\n",
      "\n",
      "lora = LoRa(mode=LoRa.LORAWAN)\n",
      "\n",
      "app_eui = binascii.unhexlify('70B3D57EF0004A29')\n",
      "app_key = binascii.unhexlify('DE2A27B42FC7DE31917D4A2850F03EB2')\n",
      "\n",
      "app_eui = binascii.unhexlify(\"70B3D57EF0004A2C\")\n",
      "app_key = binascii.unhexlify(\"53C9CAADA9ECDBAEF59D32C03B4E0FCC\")\n",
      "\n",
      "lora.join(activation=LoRa.OTAA, auth=(app_eui, app_key), timeout=0)\n",
      "\n",
      "\n",
      "def uplora(bs):\n",
      "    s = socket.socket(socket.AF_LORA, socket.SOCK_RAW)\n",
      "    s.setsockopt(socket.SOL_LORA, socket.SO_DR, 5)\n",
      "    s.setblocking(False)\n",
      "    while True:\n",
      "        try:\n",
      "            s.send(bs)\n",
      "            data = s.recv(64)\n",
      "            if len(data) > 0:\n",
      "                print(\"received:\", binascii.hexlify(data))\n",
      "            break\n",
      "        except:\n",
      "            print(\"failwait\")\n",
      "            time.sleep(2.5)\n",
      "            continue\n",
      "\n",
      "\n",
      "#uplora(bytes([0x44, 0x55, 0x66]))\n"
     ]
    }
   ],
   "source": [
    "for l in open(\"lorastuff.py\"):\n",
    "    print(l, end=\"\")"
   ]
  },
  {
   "cell_type": "code",
   "execution_count": 50,
   "metadata": {
    "collapsed": true
   },
   "outputs": [],
   "source": [
    "lora = LoRa(mode=LoRa.LORAWAN, tx_power=15,)\n"
   ]
  },
  {
   "cell_type": "code",
   "execution_count": 51,
   "metadata": {
    "collapsed": true
   },
   "outputs": [],
   "source": [
    "from network import LoRa\n",
    "import time\n",
    "import binascii\n",
    "import socket\n",
    "\n",
    "lora = LoRa(mode=LoRa.LORAWAN, tx_power=15)\n",
    "\n",
    "app_eui = binascii.unhexlify('70B3D57EF0004A29')\n",
    "app_key = binascii.unhexlify('DE2A27B42FC7DE31917D4A2850F03EB2')\n",
    "\n",
    "app_eui = binascii.unhexlify(\"70B3D57EF0004A2C\")\n",
    "app_key = binascii.unhexlify(\"53C9CAADA9ECDBAEF59D32C03B4E0FCC\")\n",
    "\n",
    "lora.join(activation=LoRa.OTAA, auth=(app_eui, app_key), timeout=0)\n",
    "\n"
   ]
  },
  {
   "cell_type": "code",
   "execution_count": 52,
   "metadata": {},
   "outputs": [
    {
     "name": "stdout",
     "output_type": "stream",
     "text": [
      "15\n",
      "<LoRa>object  is of type LoRa\n",
      "  init -- <function>\n",
      "  join -- <function>\n",
      "  tx_power -- <function>\n",
      "  bandwidth -- <function>\n",
      "  frequency -- <function>\n",
      "  coding_rate -- <function>\n",
      "  preamble -- <function>\n",
      "  sf -- <function>\n",
      "  power_mode -- <function>\n",
      "  stats -- <function>\n",
      "  has_joined -- <function>\n",
      "  add_channel -- <function>\n",
      "  remove_channel -- <function>\n",
      "  mac -- <function>\n",
      "  compliance_test -- <function>\n",
      "  callback -- <function>\n",
      "  events -- <function>\n",
      "  ischannel_free -- <function>\n",
      "  set_battery_level -- <function>\n",
      "  nvram_save -- <function>\n",
      "  nvram_restore -- <function>\n",
      "  LORA -- 0\n",
      "  LORAWAN -- 1\n",
      "  OTAA -- 0\n",
      "  ABP -- 1\n",
      "  ALWAYS_ON -- 0\n",
      "  TX_ONLY -- 1\n",
      "  SLEEP -- 2\n",
      "  BW_125KHZ -- 0\n",
      "  BW_250KHZ -- 1\n",
      "  BW_500KHZ -- 2\n",
      "  CODING_4_5 -- 1\n",
      "  CODING_4_6 -- 2\n",
      "  CODING_4_7 -- 3\n",
      "  CODING_4_8 -- 4\n",
      "  RX_PACKET_EVENT -- 1\n",
      "  TX_PACKET_EVENT -- 2\n",
      "  TX_FAILED_EVENT -- 4\n",
      "  CLASS_A -- 0\n",
      "  CLASS_C -- 2\n"
     ]
    }
   ],
   "source": [
    "lora.join(activation=LoRa.OTAA, auth=(app_eui, app_key), timeout=0)\n",
    "print(lora.tx_power())\n",
    "help(lora)"
   ]
  },
  {
   "cell_type": "code",
   "execution_count": 53,
   "metadata": {},
   "outputs": [
    {
     "name": "stdout",
     "output_type": "stream",
     "text": [
      "15\n",
      "False\n"
     ]
    }
   ],
   "source": [
    "print(lora.tx_power())\n",
    "print(lora.has_joined())"
   ]
  },
  {
   "cell_type": "code",
   "execution_count": 54,
   "metadata": {},
   "outputs": [
    {
     "name": "stdout",
     "output_type": "stream",
     "text": [
      "modulesobject  is of type str\n",
      "  encode -- <function>\n",
      "  find -- <function>\n",
      "  rfind -- <function>\n",
      "  index -- <function>\n",
      "  rindex -- <function>\n",
      "  join -- <function>\n",
      "  split -- <function>\n",
      "  rsplit -- <function>\n",
      "  startswith -- <function>\n",
      "  endswith -- <function>\n",
      "  strip -- <function>\n",
      "  lstrip -- <function>\n",
      "  rstrip -- <function>\n",
      "  format -- <function>\n",
      "  replace -- <function>\n",
      "  count -- <function>\n",
      "  lower -- <function>\n",
      "  upper -- <function>\n",
      "  isspace -- <function>\n",
      "  isalpha -- <function>\n",
      "  isdigit -- <function>\n",
      "  isupper -- <function>\n",
      "  islower -- <function>\n"
     ]
    }
   ],
   "source": [
    "help(\"modules\")"
   ]
  },
  {
   "cell_type": "code",
   "execution_count": 57,
   "metadata": {},
   "outputs": [
    {
     "name": "stderr",
     "output_type": "stream",
     "text": [
      "Traceback (most recent call last):\n",
      "  File \"<stdin>\", line 1, in <module>\n",
      "ImportError: no module named 'asyncio'\n"
     ]
    }
   ],
   "source": [
    "import asyncio"
   ]
  },
  {
   "cell_type": "code",
   "execution_count": null,
   "metadata": {
    "collapsed": true
   },
   "outputs": [],
   "source": [
    "\n",
    "def uplora(bs):\n",
    "    s = socket.socket(socket.AF_LORA, socket.SOCK_RAW)\n",
    "    s.setsockopt(socket.SOL_LORA, socket.SO_DR, 5)\n",
    "    s.setblocking(False)\n",
    "    while True:\n",
    "        try:\n",
    "            s.send(bs)\n",
    "            data = s.recv(64)\n",
    "            if len(data) > 0:\n",
    "                print(\"received:\", binascii.hexlify(data))\n",
    "            break\n",
    "        except:\n",
    "            print(\"failwait\")\n",
    "            time.sleep(2.5)\n",
    "            continue\n",
    "\n"
   ]
  }
 ],
 "metadata": {
  "kernelspec": {
   "display_name": "MicroPython - USB",
   "language": "micropython",
   "name": "micropython"
  },
  "language_info": {
   "codemirror_mode": "python",
   "file_extension": ".py",
   "mimetype": "text/python",
   "name": "micropython"
  }
 },
 "nbformat": 4,
 "nbformat_minor": 2
}

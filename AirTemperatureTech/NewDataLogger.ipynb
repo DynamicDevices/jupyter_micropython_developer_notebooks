{
 "cells": [
  {
   "cell_type": "markdown",
   "metadata": {},
   "source": [
    "This unit is to read the air temperature \n",
    "as well as log GPS (bluefly) and humidity to the SD card\n",
    "\n",
    "We can get all the selected components working and producing \n",
    "same file format as the original one.  And then solder together\n",
    "\n",
    "Then we need to design a 3D-printed housing for it that rigidly \n",
    "attaches to an upright profile\n",
    "\n",
    "Then take it out and run around mapping warm and cold areas \n",
    "\n",
    "(Should work on a car ride)\n",
    "\n",
    "* Fix the humidity work\n",
    "* Fix the initial logger plot\n",
    "* Fix the analog reader rate\n",
    "* missing date records: Rt0000B90Fd\"2017-06-24T13:44:54.600\"e000F423Fn00000682f00000682o000F423FA\n"
   ]
  },
  {
   "cell_type": "code",
   "execution_count": 7,
   "metadata": {},
   "outputs": [
    {
     "name": "stdout",
     "output_type": "stream",
     "text": [
      "\u001b[34mConnecting to --port=/dev/ttyUSB0 --baud=115200 \u001b[0m\n",
      "\u001b[34mReady.\n",
      "\u001b[0m"
     ]
    }
   ],
   "source": [
    "%serialconnect"
   ]
  },
  {
   "cell_type": "code",
   "execution_count": 5,
   "metadata": {},
   "outputs": [
    {
     "name": "stdout",
     "output_type": "stream",
     "text": [
      "Sent 147 lines (4854 bytes) to NewDataLogger_funcs.py.\n"
     ]
    }
   ],
   "source": [
    "%sendtofile --source NewDataLogger_funcs.py\n"
   ]
  },
  {
   "cell_type": "code",
   "execution_count": 494,
   "metadata": {},
   "outputs": [
    {
     "name": "stdout",
     "output_type": "stream",
     "text": [
      "Sent 55 lines (2040 bytes) to SI7021_funcs.py.\n"
     ]
    }
   ],
   "source": [
    "%sendtofile --binary --source ../Sensor_Kennel/OLED_driver.py\n",
    "%sendtofile --quiet --source BlueFly_funcs.py\n",
    "%sendtofile --mkdir --source /home/julian/extrepositories/micropython/drivers/sdcard/sdcard.py /lib/\n",
    "%sendtofile --quiet --source ../Sensor_Kennel/SI7021_funcs.py\n",
    "%sendtofile --quiet --source ../Sensor_Kennel/OLED_grapher.py\n",
    "%sendtofile --quiet --source BlueFly_funcs.py\n"
   ]
  },
  {
   "cell_type": "code",
   "execution_count": 8,
   "metadata": {
    "scrolled": true
   },
   "outputs": [
    {
     "name": "stdout",
     "output_type": "stream",
     "text": [
      "Sent 134 lines (4562 bytes) to main.py.\n"
     ]
    }
   ],
   "source": [
    "%sendtofile main.py\n",
    "\n",
    "from OLED_driver import i2c, fbuff, oledshow, doublepixels, fatntext, oledshowfattext\n",
    "from machine import Pin, SPI, UART, ADC\n",
    "import sdcard, os, time, math, ustruct\n",
    "from OLED_grapher import scrollinit, addscrollgraph, plotscrollgraph\n",
    "from BlueFly_funcs import uart, SetupGPS, BFVmakesettings, ParseNMEA\n",
    "from NewDataLogger_funcs import ConnectSDcardFile, ConnectBluefly, readlogSI7021, calchumidtemps, readlogbluefly\n",
    "from NewDataLogger_funcs import InitBNO055, ConvertQuatToEuler\n",
    "\n",
    "# SD card uses sck=5, mosi=22, miso=27, cs=23\n",
    "# OLED uses rst=16, scl=15, sda=4\n",
    "# uartBlueFly = UART(1, baudrate=57600, rx=13, tx=17)\n",
    "# Pin36 nickel input, Pin19 bridge resistor\n",
    "# uart2 = UART(2, baudrate=115200, rx=2, tx=18)\n",
    "\n",
    "# PRG button used to cycle through modes\n",
    "butt0 = Pin(0)  \n",
    "butt0presses = 0\n",
    "def butt0press(e):\n",
    "    global butt0presses\n",
    "    butt0presses += 1\n",
    "butt0.irq(butt0press, butt0.IRQ_FALLING)\n",
    "\n",
    "# input value from wire sensor\n",
    "nickelwire = ADC(Pin(36))\n",
    "nickelwire.atten(nickelwire.ATTN_11DB)\n",
    "nickelwire.width(nickelwire.WIDTH_12BIT)\n",
    "nickelbridge = Pin(19, Pin.OUT)\n",
    "nickelbridge.value(0)\n",
    "\n",
    "ConnectBluefly()\n",
    "sdfile = ConnectSDcardFile()\n",
    "time.sleep_ms(1000) # show file name\n",
    "\n",
    "SI7021readfail = 0\n",
    "try:\n",
    "    i2c.writeto(0x40, b'\\xFE')  # resets chip\n",
    "except OSError:\n",
    "    SI7021readfail = -1\n",
    "    oledshowfattext([\"SI7021\", \"bad\"])\n",
    "    time.sleep_ms(700)\n",
    "\n",
    "uart2 = None #UART(2, baudrate=115200, rx=2, tx=18)\n",
    "bnores = bytearray(10)\n",
    "\n",
    "prevflushstamp = 0\n",
    "prevoledstamp = 0\n",
    "prevnickelwireread = -100\n",
    "prevnickelwirestamp = 0\n",
    "scrollinit()\n",
    "gpsfixes = 0\n",
    "prevbutt0 = butt0.value()\n",
    "prevdisplaymode = 0\n",
    "prsrec = 100000\n",
    "while True:\n",
    "    tstamp = time.ticks_ms()\n",
    "    displaymode = butt0presses%5\n",
    "    \n",
    "    # should use mag = Pin(19, Pin.OUT) to tune it, but doesn't work\n",
    "    nickelwireread = nickelwire.read()\n",
    "    if abs(nickelwireread - prevnickelwireread) >= 4 and tstamp > prevnickelwirestamp + 25:\n",
    "        sdfile.write(\"Nt{:08X}s{:06X}\\n\".format(tstamp, nickelwireread))\n",
    "        prevnickelwireread = nickelwireread\n",
    "        prevnickelwirestamp = tstamp\n",
    "        \n",
    "    if SI7021readfail != -1:\n",
    "        try:\n",
    "            readlogSI7021()\n",
    "        except OSError:\n",
    "            SI7021readfail += 1\n",
    "            \n",
    "    lbf = readlogbluefly()\n",
    "    \n",
    "    if tstamp > prevflushstamp + 2000:\n",
    "        sdfile.flush()\n",
    "        prevflushstamp = tstamp\n",
    "\n",
    "    # all data has been collected.  Now display it\n",
    "    if type(lbf) == int:\n",
    "        prsrec = lbf\n",
    "                \n",
    "    if displaymode != prevdisplaymode:\n",
    "        scrollinit()\n",
    "        k = \"display%d\"%displaymode\n",
    "        oledshowfattext(k)\n",
    "        print(k)\n",
    "        prevdisplaymode = displaymode\n",
    "        \n",
    "    if displaymode == 0:  # display nmea situation\n",
    "        if type(lbf) == bytes:\n",
    "            oledshowfattext([lbf[:8], lbf[8:16], lbf[16:24], lbf[24:32]])\n",
    "            print(lbf)\n",
    "    elif displaymode == 4:\n",
    "        if uart2 is None:\n",
    "            uart2 = UART(2, baudrate=115200, rx=2, tx=18)\n",
    "            k = InitBNO055(uart2)\n",
    "            oledshowfattext([\"BNO055\", k])\n",
    "            time.sleep_ms(2000)\n",
    "        uart2.write(b\"\\xAA\\x01\\x20\\x08\")\n",
    "        time.sleep_ms(20)  # NB delay coded in\n",
    "        nr = uart2.readinto(bnores)\n",
    "        if ((bnores[0] == 0xBB) and (bnores[1] == 8) and (nr == 10)):\n",
    "            k = ustruct.unpack(\"<hhhh\", bnores[2:])\n",
    "            pitch, roll, orient = ConvertQuatToEuler(*k)\n",
    "            fbuff.fill(0)\n",
    "            fbuff.hline(0, max(0, min(63, int(roll+32))), 128, 1)\n",
    "            fbuff.text(\"%.1f\"%roll, 0, 32, 1)\n",
    "            fbuff.vline(max(0, min(128, int(pitch*2+64))), 0, 64, 1)\n",
    "            fbuff.text(\"%.1f\"%pitch, 64, 0, 1)\n",
    "            fbuff.line(64, 32, 64+int(math.sin(math.radians(orient))*30), 32+int(math.cos(math.radians(orient))*30), 1)\n",
    "            oledshow()\n",
    "        else:\n",
    "            oledshowfattext(\"BAD BNO\")\n",
    "        \n",
    "    elif tstamp > prevoledstamp + 200: # scrolling values\n",
    "        if displaymode == 1:\n",
    "            addscrollgraph(prsrec-100000, tstamp)\n",
    "            plotscrollgraph(fbuff)\n",
    "            fbuff.text(\"prs\",0,0,1)\n",
    "            fbuff.text(str(prsrec),0,8,1)\n",
    "        elif displaymode == 2:\n",
    "            addscrollgraph(nickelwireread, tstamp)\n",
    "            plotscrollgraph(fbuff)\n",
    "            fbuff.text(\"nickel\",0,0,1)\n",
    "            fbuff.text(str(nickelwireread),0,8,1)\n",
    "        elif displaymode == 3:\n",
    "            hs, ts = calchumidtemps()\n",
    "            addscrollgraph(ts, tstamp)\n",
    "            plotscrollgraph(fbuff)\n",
    "            fbuff.text(\"temp\",0,0,1)\n",
    "            fbuff.text(str(nickelwireread),0,8,1)\n",
    "        else:\n",
    "            oledshowfattext([\"mstamp\", str(tstamp)])\n",
    "        oledshow()\n",
    "        prevoledstamp = tstamp\n"
   ]
  },
  {
   "cell_type": "code",
   "execution_count": 25,
   "metadata": {},
   "outputs": [
    {
     "name": "stdout",
     "output_type": "stream",
     "text": [
      "\u001b[34mattempt to exit paste mode\n",
      "\u001b[0m\u001b[34m[\\r\\x03\\x02] \u001b[0mb'\\r\\nMicroPython v1.9.3-603-gfb7dabb9 on 2018-05-02; ESP32 module with ESP32\\r\\nType \"help()\" for more information.\\r\\n>>> '\u001b[34m\n",
      "Closing serial Serial<id=0x7fc8c61ab7b8, open=True>(port='/dev/ttyUSB1', baudrate=115200, bytesize=8, parity='N', stopbits=1, timeout=0.5, xonxoff=False, rtscts=False, dsrdtr=False)\n",
      "\u001b[0m"
     ]
    }
   ],
   "source": [
    "%disconnect"
   ]
  },
  {
   "cell_type": "code",
   "execution_count": 144,
   "metadata": {},
   "outputs": [
    {
     "name": "stdout",
     "output_type": "stream",
     "text": [
      "repl is in normal command mode\n",
      "[\\r\\x03\\x03] b'\\r\\nMicroPython v1.9.3-603-gfb7dabb9 on 2018-05-02; ESP32 module with ESP32\\r\\nType \"help()\" for more information.\\r\\n>>> \\r\\n>>> \\r\\nPYB: soft reboot\\r\\nTraceback (most recent call last):\\r\\n  File \"main.py\", line 1, in <module>\\r\\n  File \"OLED_driver.py\", line 5, in <module>\\r\\nKeyboardInterrupt: \\r\\nMicroPython v1.9.3-603-gfb7dabb9 on 2018-05-02; ESP32 module with ESP32\\r\\nType \"help()\" for more information.\\r\\n>>> \\r\\n>>> '\n",
      "[\\r\\x01] b'\\r\\n>>> \\r\\nraw REPL; CTRL-B to exit\\r\\n>'"
     ]
    }
   ],
   "source": [
    "%rebootdevice"
   ]
  },
  {
   "cell_type": "code",
   "execution_count": 3,
   "metadata": {},
   "outputs": [
    {
     "name": "stdout",
     "output_type": "stream",
     "text": [
      "\u001b[34mConnecting to --port=/dev/ttyUSB0 --baud=115200 \u001b[0m\n",
      "\u001b[34mReady.\n",
      "\u001b[0m"
     ]
    }
   ],
   "source": [
    "%serialconnect"
   ]
  },
  {
   "cell_type": "code",
   "execution_count": null,
   "metadata": {},
   "outputs": [],
   "source": []
  },
  {
   "cell_type": "code",
   "execution_count": 4,
   "metadata": {},
   "outputs": [
    {
     "name": "stdout",
     "output_type": "stream",
     "text": [
      "\u001b[0;32mI (22126) uart: ALREADY NULL\u001b[0m\r\n"
     ]
    }
   ],
   "source": [
    "from OLED_driver import i2c, fbuff, oledshow, doublepixels, fatntext, oledshowfattext\n",
    "from machine import Pin, SPI, UART, ADC\n",
    "import sdcard, os, time\n",
    "from OLED_grapher import scrollinit, addscrollgraph, plotscrollgraph\n",
    "from BlueFly_funcs import uart, SetupGPS, BFVmakesettings, ParseNMEA\n",
    "from NewDataLogger_funcs import ConnectSDcardFile, ConnectBluefly, readlogSI7021, calchumidtemps, readlogbluefly\n",
    "from NewDataLogger_funcs import InitBNO055, ConvertQuatToEuler\n",
    "\n",
    "uart2 = UART(2, baudrate=115200, rx=2, tx=18)\n"
   ]
  },
  {
   "cell_type": "code",
   "execution_count": 5,
   "metadata": {},
   "outputs": [
    {
     "name": "stdout",
     "output_type": "stream",
     "text": [
      "Temp31\r\n"
     ]
    }
   ],
   "source": [
    "from NewDataLogger_funcs import InitBNO055, ConvertQuatToEuler\n",
    "k = InitBNO055(uart2)\n",
    "print(k)"
   ]
  },
  {
   "cell_type": "code",
   "execution_count": 11,
   "metadata": {},
   "outputs": [
    {
     "name": "stdout",
     "output_type": "stream",
     "text": [
      ".\u001b[34m\n",
      "\n",
      "*** Sending Ctrl-C\n",
      "\n",
      "\u001b[0m"
     ]
    },
    {
     "name": "stderr",
     "output_type": "stream",
     "text": [
      "Traceback (most recent call last):\n",
      "  File \"<stdin>\", line 5, in <module>\n",
      "KeyboardInterrupt: \n"
     ]
    }
   ],
   "source": [
    "import ustruct, math\n",
    "bnores = bytearray(10)\n",
    "for i in range(1000):\n",
    "    uart2.write(b\"\\xAA\\x01\\x20\\x08\")\n",
    "    time.sleep_ms(20)\n",
    "    nr = uart2.readinto(bnores)\n",
    "    if not ((bnores[0] == 0xBB) and (bnores[1] == 8) and (nr == 10)):\n",
    "        continue\n",
    "    k = ustruct.unpack(\"<hhhh\", bnores[2:])\n",
    "    pitch, roll, orient = ConvertQuatToEuler(*k)\n",
    "    fbuff.fill(0)\n",
    "    fbuff.hline(0, max(0, min(63, int(roll+32))), 128, 1)\n",
    "    fbuff.vline(max(0, min(128, int(pitch*2+64))), 0, 64, 1)\n",
    "    fbuff.line(64, 32, 64+int(math.sin(math.radians(orient))*30), 32+int(math.cos(math.radians(orient))*30), 1)\n",
    "    oledshow()\n"
   ]
  },
  {
   "cell_type": "code",
   "execution_count": 10,
   "metadata": {},
   "outputs": [
    {
     "name": "stdout",
     "output_type": "stream",
     "text": [
      "bytearray(b'\\xbb\\x08&!\\t\\xff\\xac\\xf9_6')\r\n"
     ]
    }
   ],
   "source": [
    "print(bnores)\n"
   ]
  },
  {
   "cell_type": "code",
   "execution_count": 1395,
   "metadata": {},
   "outputs": [
    {
     "name": "stdout",
     "output_type": "stream",
     "text": [
      "b'BVL' already good\n",
      "b'BHV' already good\n",
      "b'BOF' already good\n",
      "b'BHT' already good\n",
      "Change GPS to baud 57600\n"
     ]
    }
   ],
   "source": [
    "ConnectBluefly()\n"
   ]
  },
  {
   "cell_type": "code",
   "execution_count": 1398,
   "metadata": {},
   "outputs": [
    {
     "name": "stdout",
     "output_type": "stream",
     "text": [
      "b'$GPGGA,000007.800,,,,,0,0,,,M,,M,,*47\\r\\n'\n",
      "b'$GPVTG,0.00,T,,M,0.00,N,0.00,K,N*32\\r\\n'\n",
      "b'GGA,000045.200,,,,,0,0,,,M,,M,,*4B\\r\\n'\n",
      "b'$GPVTG,0.00,T,,M,0.00,N,0.00,K,N*32\\r\\n'\n",
      "b'4\\r\\n'\n",
      "b'$GPGGA,000048.400,,,,,0,0,,,M,,M,,*40\\r\\n'\n",
      "b'$GPVTG,0.00,T,,M,0.00,N,0.00,K,N*32\\r\\n'\n"
     ]
    },
    {
     "name": "stderr",
     "output_type": "stream",
     "text": [
      "Traceback (most recent call last):\n",
      "  File \"<stdin>\", line 3, in <module>\n",
      "TypeError: 'NoneType' object is not subscriptable\n"
     ]
    }
   ],
   "source": [
    "for i in range(1000):\n",
    "    x = uart.readline()\n",
    "    if x[:3] != b'PRS':\n",
    "        print(x)\n"
   ]
  },
  {
   "cell_type": "code",
   "execution_count": null,
   "metadata": {
    "collapsed": true
   },
   "outputs": [],
   "source": []
  },
  {
   "cell_type": "code",
   "execution_count": null,
   "metadata": {
    "collapsed": true
   },
   "outputs": [],
   "source": []
  },
  {
   "cell_type": "code",
   "execution_count": 131,
   "metadata": {},
   "outputs": [
    {
     "name": "stdout",
     "output_type": "stream",
     "text": [
      "serial exception on close write failed: [Errno 5] Input/output error\n",
      "\u001b[34mConnecting to --port=/dev/ttyUSB0 --baud=115200 \u001b[0m\n",
      "\u001b[34mReady.\n",
      "\u001b[0m"
     ]
    }
   ],
   "source": [
    "%serialconnect"
   ]
  },
  {
   "cell_type": "code",
   "execution_count": 161,
   "metadata": {},
   "outputs": [
    {
     "name": "stdout",
     "output_type": "stream",
     "text": [
      "b'\\xbb\\x06\\xa0\\xfb2\\x0f\\x11\\x03'\r\n"
     ]
    }
   ],
   "source": [
    "import machine\n",
    "#uart = machine.UART(1, baudrate=115200, rx=17, tx=13)\n",
    "#uart = machine.UART(2, baudrate=115200, rx=2, tx=18)\n",
    "uart2.write(b\"\\xAA\\x01\\x00\\x06\")\n",
    "time.sleep_ms(120)\n",
    "r = uart2.read()\n",
    "print(r)\n"
   ]
  },
  {
   "cell_type": "code",
   "execution_count": 173,
   "metadata": {},
   "outputs": [
    {
     "name": "stdout",
     "output_type": "stream",
     "text": [
      "b'\\xbb\\x06\\xa0\\xfb2\\x0f\\x11\\x03'\r\n"
     ]
    }
   ],
   "source": [
    "uart2.write(b\"\\xAA\\x01\\x00\\x06\")\n",
    "time.sleep_ms(120)\n",
    "r = uart2.read()\n",
    "print(r)\n"
   ]
  },
  {
   "cell_type": "code",
   "execution_count": 4,
   "metadata": {},
   "outputs": [
    {
     "name": "stdout",
     "output_type": "stream",
     "text": [
      "Temperature 31\r\n"
     ]
    }
   ],
   "source": [
    "from BNO055serial_funcs import InitBNO055, BNO055absorientation, BNO055calibstat\n",
    "InitBNO055(uart)\n"
   ]
  },
  {
   "cell_type": "code",
   "execution_count": 49,
   "metadata": {},
   "outputs": [
    {
     "name": "stdout",
     "output_type": "stream",
     "text": [
      "1.507387 -7.663566 89.89901 0b110000\r\n"
     ]
    }
   ],
   "source": [
    "pitch, roll, orient = BNO055absorientation()\n",
    "calibstat = BNO055calibstat()\n",
    "print(pitch, roll, orient, bin(calibstat))\n",
    "\n"
   ]
  },
  {
   "cell_type": "code",
   "execution_count": 38,
   "metadata": {},
   "outputs": [
    {
     "name": "stdout",
     "output_type": "stream",
     "text": [
      "bytearray(b'\\x00\\x00\\x00\\x00\\x00\\x00\\x00\\x00\\x00\\x00')\r\n"
     ]
    }
   ],
   "source": [
    "r = bytearray(10)\n",
    "print(r)"
   ]
  },
  {
   "cell_type": "code",
   "execution_count": 98,
   "metadata": {
    "collapsed": true
   },
   "outputs": [],
   "source": [
    "import math\n",
    "def ConvertQuatToEuler(q0, q1, q2, q3):\n",
    "    riqsq = q0*q0 + q1*q1 + q2*q2 + q3*q3 \n",
    "    iqsq = 1/riqsq \n",
    "    \n",
    "    r02 = q0*q2*2 * iqsq\n",
    "    r13 = q1*q3*2 * iqsq\n",
    "    sinpitch = r13 - r02\n",
    "\n",
    "    r01 = q0*q1*2 * iqsq\n",
    "    r23 = q2*q3*2 * iqsq \n",
    "    sinroll = r23 + r01 \n",
    "     \n",
    "    r00 = q0*q0*2 * iqsq\n",
    "    r11 = q1*q1*2 * iqsq\n",
    "    r03 = q0*q3*2 * iqsq\n",
    "    r12 = q1*q2*2 * iqsq\n",
    "    a00=r00 - 1 + r11   \n",
    "    a01=r12 + r03  \n",
    "    rads = math.atan2(a00, -a01) \n",
    "    northorient = 180 - math.degrees(rads) \n",
    "    return math.degrees(math.asin(sinpitch)), math.degrees(math.asin(sinroll)), northorient\n"
   ]
  },
  {
   "cell_type": "code",
   "execution_count": 107,
   "metadata": {},
   "outputs": [
    {
     "name": "stdout",
     "output_type": "stream",
     "text": [
      "(14524, -361, -489, 7557)\n",
      "(1.86768, -3.818729, 34.96077)\n"
     ]
    }
   ],
   "source": [
    "import ustruct \n",
    "uart.write(b\"\\xAA\\x01\\x20\\x08\")\n",
    "time.sleep_ms(20)\n",
    "nr = uart.readinto(r)\n",
    "if ((r[0] == 0xBB) and (r[1] == 8) and (nr == 10)):\n",
    "    k = ustruct.unpack(\"<hhhh\", r[2:])\n",
    "else:\n",
    "    k = (1,0,0,0)\n",
    "print(k)\n",
    "print(ConvertQuatToEuler(*k))\n"
   ]
  },
  {
   "cell_type": "code",
   "execution_count": 108,
   "metadata": {},
   "outputs": [
    {
     "name": "stdout",
     "output_type": "stream",
     "text": [
      "object <FrameBuffer> is of type FrameBuffer\n",
      "  fill -- <function>\n",
      "  fill_rect -- <function>\n",
      "  pixel -- <function>\n",
      "  hline -- <function>\n",
      "  vline -- <function>\n",
      "  rect -- <function>\n",
      "  line -- <function>\n",
      "  blit -- <function>\n",
      "  scroll -- <function>\n",
      "  text -- <function>\n"
     ]
    }
   ],
   "source": [
    "help(fbuff)"
   ]
  },
  {
   "cell_type": "code",
   "execution_count": 130,
   "metadata": {},
   "outputs": [
    {
     "name": "stdout",
     "output_type": "stream",
     "text": [
      "\n",
      "[missing-OK]K.......\n",
      "[missing-OK]\n",
      "[missing-OK]"
     ]
    },
    {
     "name": "stderr",
     "output_type": "stream",
     "text": [
      ">"
     ]
    },
    {
     "name": "stdout",
     "output_type": "stream",
     "text": [
      "........................................................................................................................................................................................................................................................................................................................................................\n",
      "[missing-OK]"
     ]
    },
    {
     "name": "stderr",
     "output_type": "stream",
     "text": [
      "\r\n",
      "**[ys] "
     ]
    },
    {
     "name": "stdout",
     "output_type": "stream",
     "text": [
      "\n",
      "[missing-OK]"
     ]
    },
    {
     "name": "stderr",
     "output_type": "stream",
     "text": [
      "<class 'serial.serialutil.SerialException'>"
     ]
    },
    {
     "name": "stdout",
     "output_type": "stream",
     "text": [
      "\n",
      "[missing-OK]"
     ]
    },
    {
     "name": "stderr",
     "output_type": "stream",
     "text": [
      "\r\n",
      "**[ys] "
     ]
    },
    {
     "name": "stdout",
     "output_type": "stream",
     "text": [
      "\n",
      "[missing-OK]"
     ]
    },
    {
     "name": "stderr",
     "output_type": "stream",
     "text": [
      "read failed: device reports readiness to read but returned no data (device disconnected or multiple access on port?)\n",
      "\n"
     ]
    },
    {
     "name": "stdout",
     "output_type": "stream",
     "text": [
      "\n",
      "[missing-OK]"
     ]
    },
    {
     "name": "stderr",
     "output_type": "stream",
     "text": [
      "\r\n",
      "**[ys] "
     ]
    },
    {
     "name": "stdout",
     "output_type": "stream",
     "text": [
      "\n",
      "[missing-OK]"
     ]
    },
    {
     "name": "stderr",
     "output_type": "stream",
     "text": [
      "<class 'serial.serialutil.SerialException'>"
     ]
    },
    {
     "name": "stdout",
     "output_type": "stream",
     "text": [
      "\n",
      "[missing-OK]"
     ]
    },
    {
     "name": "stderr",
     "output_type": "stream",
     "text": [
      "\r\n",
      "**[ys] "
     ]
    },
    {
     "name": "stdout",
     "output_type": "stream",
     "text": [
      "\n",
      "[missing-OK]"
     ]
    },
    {
     "name": "stderr",
     "output_type": "stream",
     "text": [
      "read failed: device reports readiness to read but returned no data (device disconnected or multiple access on port?)\n",
      "\n"
     ]
    }
   ],
   "source": [
    "import ustruct \n",
    "for i in range(1000):\n",
    "    uart.write(b\"\\xAA\\x01\\x20\\x08\")\n",
    "    time.sleep_ms(20)\n",
    "    nr = uart.readinto(r)\n",
    "    if not ((r[0] == 0xBB) and (r[1] == 8) and (nr == 10)):\n",
    "        continue\n",
    "    k = ustruct.unpack(\"<hhhh\", r[2:])\n",
    "    pitch, roll, orient = ConvertQuatToEuler(*k)\n",
    "    fbuff.fill(0)\n",
    "    fbuff.hline(0, max(0, min(63, int(roll+32))), 128, 1)\n",
    "    fbuff.vline(max(0, min(128, int(pitch*2+64))), 0, 64, 1)\n",
    "    fbuff.line(64, 32, 64+int(math.sin(math.radians(orient))*30), 32+int(math.cos(math.radians(orient))*30), 1)\n",
    "    oledshow()\n"
   ]
  },
  {
   "cell_type": "code",
   "execution_count": 125,
   "metadata": {
    "collapsed": true
   },
   "outputs": [],
   "source": [
    "fbuff.line(10,10, 30, 0, 1)\n",
    "oledshow()\n"
   ]
  },
  {
   "cell_type": "code",
   "execution_count": null,
   "metadata": {
    "collapsed": true
   },
   "outputs": [],
   "source": [
    "void SDloggerBase::logorientA(uint32_t mstamp, int16_t ax, int16_t ay, int16_t az, int16_t gx, int16_t gy, int16_t gz, int16_t qw, int16_t qx, int16_t qy, int16_t qz, uint16_t calibstat) \n",
    "{\n",
    "    int offs = startline('Z', mstamp); \n",
    "    sddata[offs++] = 'x'; \n",
    "    offs = buff16(offs, ax); \n",
    "    sddata[offs++] = 'y'; \n",
    "    offs = buff16(offs, ay); \n",
    "    sddata[offs++] = 'z'; \n",
    "    offs = buff16(offs, az); \n",
    "    sddata[offs++] = 'a'; \n",
    "    offs = buff16(offs, gx); \n",
    "    sddata[offs++] = 'b'; \n",
    "    offs = buff16(offs, gy); \n",
    "    sddata[offs++] = 'c'; \n",
    "    offs = buff16(offs, gz); \n",
    "    sddata[offs++] = 'w'; \n",
    "    offs = buff16(offs, qw); \n",
    "    sddata[offs++] = 'x'; \n",
    "    offs = buff16(offs, qx); \n",
    "    sddata[offs++] = 'y'; \n",
    "    offs = buff16(offs, qy); \n",
    "    sddata[offs++] = 'z'; \n",
    "    offs = buff16(offs, qz); \n",
    "    sddata[offs++] = 's'; \n",
    "    offs = buff16(offs, calibstat); \n",
    "    writeline(offs); \n",
    "}\n",
    "\n",
    "\n",
    "void SDloggerBase::logorientcalibrations(uint32_t mstamp, uint8_t calibstat, uint8_t* chdata, uint8_t length) \n",
    "{\n",
    "    int offs = startline('Y', mstamp); \n",
    "    sddata[offs++] = 'c'; \n",
    "    offs = buff8(offs, calibstat); \n",
    "    sddata[offs++] = 's'; \n",
    "    sddata[offs++] = '\"'; \n",
    "    for (uint8_t i = 0; i < length; i++) \n",
    "        offs = buff8(offs, chdata[i]); \n",
    "    sddata[offs++] = '\"'; \n",
    "    writeline(offs); \n",
    "}\n"
   ]
  }
 ],
 "metadata": {
  "kernelspec": {
   "display_name": "MicroPython - USB",
   "language": "micropython",
   "name": "micropython"
  },
  "language_info": {
   "codemirror_mode": "python",
   "file_extension": ".py",
   "mimetype": "text/python",
   "name": "micropython"
  }
 },
 "nbformat": 4,
 "nbformat_minor": 2
}

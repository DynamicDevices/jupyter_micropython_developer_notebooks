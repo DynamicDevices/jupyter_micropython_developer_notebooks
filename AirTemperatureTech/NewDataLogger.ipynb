{
 "cells": [
  {
   "cell_type": "markdown",
   "metadata": {},
   "source": [
    "This unit is to read the air temperature \n",
    "as well as log GPS (bluefly) and humidity to the SD card.\n",
    "\n",
    "When SD card removed it will stream to UDP socket 9019 \n",
    "(once an incoming UDP message is received on same port to \n",
    "192.168.4.1.)\n",
    "\n",
    "We can get all the selected components working and producing \n",
    "same file format as the original one.  And then solder together\n",
    "\n",
    "Then we need to design a 3D-printed housing for it that rigidly \n",
    "attaches to an upright profile\n",
    "\n",
    "Then take it out and run around mapping warm and cold areas \n",
    "\n",
    "(Should work on a car ride)\n",
    "\n",
    "* Fix the humidity work\n",
    "* Fix the initial logger plot\n",
    "* Fix the analog reader rate\n",
    "* missing date records: Rt0000B90Fd\"2017-06-24T13:44:54.600\"e000F423Fn00000682f00000682o000F423FA\n",
    "\n",
    "* Apparently the nickel wire is no good.  Should use a 0.025 thermocouple\n",
    "https://journals.ametsoc.org/doi/abs/10.1175/1520-0426%281987%29004%3C0383%3AANTT%3E2.0.CO%3B2\n",
    "\n"
   ]
  },
  {
   "cell_type": "code",
   "execution_count": 36,
   "metadata": {},
   "outputs": [
    {
     "name": "stdout",
     "output_type": "stream",
     "text": [
      "\u001b[34mConnecting to --port=/dev/ttyUSB1 --baud=115200 \u001b[0m\n",
      "\u001b[34mReady.\n",
      "\u001b[0m"
     ]
    }
   ],
   "source": [
    "%serialconnect"
   ]
  },
  {
   "cell_type": "code",
   "execution_count": 37,
   "metadata": {},
   "outputs": [
    {
     "name": "stdout",
     "output_type": "stream",
     "text": [
      "Temp25\n",
      "UART(2, baudrate=115201, bits=8, parity=None, stop=1, tx=18, rx=2, rts=-1, cts=-1, timeout=0, timeout_char=1)\n"
     ]
    }
   ],
   "source": [
    "from BNO055_funcs import InitBNO055, readhexlifyBNO055, GetEulerAngles\n",
    "print(InitBNO055())\n",
    "from BNO055_funcs import uart2\n",
    "print(uart2)"
   ]
  },
  {
   "cell_type": "code",
   "execution_count": 68,
   "metadata": {},
   "outputs": [
    {
     "name": "stdout",
     "output_type": "stream",
     "text": [
      "(10.03801, 48.03199, 355.0038)\n"
     ]
    }
   ],
   "source": [
    "k = readhexlifyBNO055()\n",
    "print(GetEulerAngles())"
   ]
  },
  {
   "cell_type": "code",
   "execution_count": null,
   "metadata": {},
   "outputs": [],
   "source": []
  },
  {
   "cell_type": "code",
   "execution_count": null,
   "metadata": {},
   "outputs": [],
   "source": []
  },
  {
   "cell_type": "code",
   "execution_count": 352,
   "metadata": {},
   "outputs": [
    {
     "name": "stdout",
     "output_type": "stream",
     "text": [
      "Fetched 12562635=12562635 bytes from sd/LOG/016.TXT.\n",
      "Saving file to '016.TXT'"
     ]
    }
   ],
   "source": [
    "%fetchfile --binary sd/LOG/016.TXT\n"
   ]
  },
  {
   "cell_type": "code",
   "execution_count": 331,
   "metadata": {},
   "outputs": [
    {
     "name": "stdout",
     "output_type": "stream",
     "text": [
      "Sent 55 lines (2040 bytes) to SI7021_funcs.py.\n",
      "Sent 145 lines (4083 bytes) to OLED_grapher.py.\n",
      "Sent 82 lines (2811 bytes) to BNO055_funcs.py.\n",
      "Sent 105 lines (3788 bytes) to NewDataLogger_funcs.py.\n"
     ]
    }
   ],
   "source": [
    "%sendtofile --quiet --source ../Sensor_Kennel/SI7021_funcs.py\n",
    "%sendtofile --quiet --source ../Sensor_Kennel/OLED_grapher.py\n",
    "%sendtofile --quiet --source BNO055_funcs.py\n",
    "%sendtofile --quiet --source NewDataLogger_funcs.py"
   ]
  },
  {
   "cell_type": "code",
   "execution_count": 308,
   "metadata": {},
   "outputs": [
    {
     "name": "stdout",
     "output_type": "stream",
     "text": [
      "Sent 105 lines (3788 bytes) to NewDataLogger_funcs.py.\n"
     ]
    }
   ],
   "source": [
    "%sendtofile --binary --source ../Sensor_Kennel/OLED_driver.py\n",
    "%sendtofile --quiet --source BlueFly_funcs.py\n",
    "\n",
    "# this is broken\n",
    "#%sendtofile --mkdir --source /home/julian/extrepositories/micropython/drivers/sdcard/sdcard.py /lib/\n",
    "%sendtofile --quiet --source ../Sensor_Kennel/SI7021_funcs.py\n",
    "%sendtofile --quiet --source ../Sensor_Kennel/OLED_grapher.py\n",
    "%sendtofile --quiet --source BNO055_funcs.py\n",
    "%sendtofile --quiet --source NewDataLogger_funcs.py"
   ]
  },
  {
   "cell_type": "code",
   "execution_count": 35,
   "metadata": {},
   "outputs": [
    {
     "name": "stdout",
     "output_type": "stream",
     "text": [
      "serial exception on close write failed: [Errno 5] Input/output error\n",
      "\u001b[34mConnecting to --port=/dev/ttyUSB3 --baud=115200 \u001b[0m\n",
      "\u001b[34mReady.\n",
      "\u001b[0m"
     ]
    }
   ],
   "source": [
    "%serialconnect"
   ]
  },
  {
   "cell_type": "code",
   "execution_count": 176,
   "metadata": {},
   "outputs": [
    {
     "name": "stdout",
     "output_type": "stream",
     "text": [
      "Sent 92 lines (2781 bytes) to NewDataLogger_funcs.py.\n",
      "Sent 40 lines (1556 bytes) to sdcard_funcs.py.\n",
      "Sent 37 lines (870 bytes) to UDPsocket_funcs.py.\n"
     ]
    }
   ],
   "source": [
    "%sendtofile --quiet --source NewDataLogger_funcs.py\n",
    "%sendtofile --quiet --source sdcard_funcs.py\n",
    "%sendtofile --quiet --source UDPsocket_funcs.py\n"
   ]
  },
  {
   "cell_type": "code",
   "execution_count": 162,
   "metadata": {},
   "outputs": [
    {
     "name": "stdout",
     "output_type": "stream",
     "text": [
      "repl is in normal command mode\n",
      "[\\r\\x03\\x03] b'\\r\\nMicroPython v1.9.3-603-gfb7dabb9 on 2018-05-02; ESP32 module with ESP32\\r\\nType \"help()\" for more information.\\r\\n>>> \\r\\n>>> \\r\\nPYB: soft reboot\\r\\nOSError: [Errno 2] ENOENT\\r\\nMicroPython v1.9.3-603-gfb7dabb9 on 2018-05-02; ESP32 module with ESP32\\r\\nType \"help()\" for more information.\\r\\n>>> \\r\\n>>> \\r\\n>>> '\n",
      "[\\r\\x01] b'\\r\\n>>> \\r\\nraw REPL; CTRL-B to exit\\r\\n>'"
     ]
    }
   ],
   "source": [
    "%rebootdevice"
   ]
  },
  {
   "cell_type": "code",
   "execution_count": 36,
   "metadata": {
    "scrolled": true
   },
   "outputs": [
    {
     "name": "stdout",
     "output_type": "stream",
     "text": [
      "Sent 132 lines (4475 bytes) to main.py.\n"
     ]
    }
   ],
   "source": [
    "%sendtofile main.py\n",
    "\n",
    "from OLED_driver import i2c, fbuff, oledshow, doublepixels, fatntext, oledshowfattext\n",
    "from machine import Pin, SPI, UART, ADC\n",
    "import os, time, math, ustruct\n",
    "from OLED_grapher import scrollinit, addscrollgraph, plotscrollgraph\n",
    "from NewDataLogger_funcs import ConnectBluefly, readlogbluefly\n",
    "from NewDataLogger_funcs import InitSI7021, readlogSI7021, calchumidtemps\n",
    "from sdcard_funcs import ConnectSDcardFile\n",
    "from BNO055_funcs import InitBNO055, readhexlifyBNO055, GetEulerAngles\n",
    "from NewDataLogger_funcs import displayEulerAngles\n",
    "\n",
    "# SD card uses sck=5, mosi=22, miso=27, cs=23\n",
    "# OLED uses rst=16, scl=15, sda=4\n",
    "# uartBlueFly = UART(1, baudrate=57600, rx=13, tx=17)\n",
    "# Pin36 nickel input, Pin19 bridge resistor\n",
    "# uartBNO055 = UART(2, baudrate=115200, rx=2, tx=18)\n",
    "\n",
    "# interrupt PRG button used to cycle through modes\n",
    "butt0 = Pin(0)  \n",
    "butt0presses = 0\n",
    "def butt0press(e):\n",
    "    global butt0presses\n",
    "    butt0presses += 1\n",
    "butt0.irq(butt0press, butt0.IRQ_FALLING)\n",
    "\n",
    "# input value from wire sensor (move to _funcs)\n",
    "nickelwire = ADC(Pin(36))\n",
    "nickelwire.atten(nickelwire.ATTN_11DB)\n",
    "nickelwire.width(nickelwire.WIDTH_12BIT)\n",
    "nickelbridge = Pin(19, Pin.OUT)\n",
    "nickelbridge.value(0)\n",
    "\n",
    "ConnectBluefly(oledshowfattext, vol=20)\n",
    "\n",
    "# just do the blue spot detecting if a couple presses have happened after waiting for bluefly\n",
    "if butt0presses == 2:  \n",
    "    import hangspotmain  # goes straight to receiving and plotting the hangspot pos\n",
    "\n",
    "sdmessage = ConnectSDcardFile()\n",
    "oledshowfattext(sdmessage)\n",
    "time.sleep_ms(2000)\n",
    "from sdcard_funcs import sdfile\n",
    "if sdfile is not None:\n",
    "    dwrite, dflush = sdfile.write, sdfile.flush\n",
    "else:\n",
    "    from UDPsocket_funcs import dwrite, dflush, port\n",
    "    oledshowfattext([\"UDP\", \"port%d\" % port])\n",
    "    time.sleep_ms(2000)\n",
    "\n",
    "k1 = InitSI7021(i2c)\n",
    "k = InitBNO055()\n",
    "oledshowfattext([\"BNO055\", k, \"SI7021\", k1])\n",
    "time.sleep_ms(2000)\n",
    "\n",
    "def adddisplayscrollgraph(v, tstamp, l1, l2):  # move into _funcs\n",
    "    addscrollgraph(v, tstamp)\n",
    "    plotscrollgraph(fbuff)\n",
    "    fbuff.text(l1,0,0,1)\n",
    "    fbuff.text(l2,0,8,1)\n",
    "\n",
    "prevflushstamp = 0\n",
    "prevoledstamp = 0\n",
    "prevnickelwireread = -100\n",
    "prevnickelwirestamp = 0\n",
    "scrollinit()\n",
    "gpsfixes = 0\n",
    "prevbutt0 = butt0.value()\n",
    "prevdisplaymode = 0\n",
    "prsrec = 100000\n",
    "while True:\n",
    "    tstamp = time.ticks_ms()\n",
    "    displaymode = butt0presses%5\n",
    "    \n",
    "    # should use mag = Pin(19, Pin.OUT) to tune it, but doesn't work\n",
    "    nickelwireread = nickelwire.read()\n",
    "    if abs(nickelwireread - prevnickelwireread) >= 4 and tstamp > prevnickelwirestamp + 25:\n",
    "        dwrite(\"Nt{:08X}s{:06X}\\n\".format(tstamp, nickelwireread))\n",
    "        prevnickelwireread = nickelwireread\n",
    "        prevnickelwirestamp = tstamp\n",
    "        \n",
    "    readlogSI7021(i2c, dwrite)\n",
    "    lbf = readlogbluefly(dwrite)\n",
    "    bno055rec = readhexlifyBNO055()\n",
    "    if bno055rec:\n",
    "        dwrite(bno055rec)\n",
    "        \n",
    "    if tstamp > prevflushstamp + 2000:\n",
    "        prevflushstamp = tstamp\n",
    "        k = dflush()\n",
    "        if isinstance(k, tuple):\n",
    "            oledshowfattext([k[0][:8], k[0][8:], str(k[1])])  # write \"UDP\" to make it easier\n",
    "            time.sleep_ms(2000)\n",
    "\n",
    "    # all data has been collected.  Now display it\n",
    "    if type(lbf) == int:\n",
    "        prsrec = lbf\n",
    "                \n",
    "    if displaymode != prevdisplaymode:\n",
    "        scrollinit()\n",
    "        k = \"display%d\"%displaymode\n",
    "        oledshowfattext(k)\n",
    "        print(k)\n",
    "        prevdisplaymode = displaymode\n",
    "        \n",
    "    if displaymode == 0:  # display nmea situation\n",
    "        if type(lbf) == bytes:\n",
    "            if lbf[0] == ord(\"V\"):\n",
    "                pass\n",
    "            elif lbf[0] == ord(\"Q\") and len(lbf) == 43:\n",
    "                oledshowfattext([lbf[11:19], lbf[29:37], lbf[20:28], lbf[38:42]])\n",
    "            else:\n",
    "                oledshowfattext([lbf[:8], lbf[8:16], lbf[16:24], lbf[24:32]])\n",
    "            #print(lbf)\n",
    "            \n",
    "    elif displaymode == 4:\n",
    "        if bno055rec and tstamp > prevoledstamp + 50:\n",
    "            displayEulerAngles(fbuff, *GetEulerAngles())\n",
    "            oledshow()\n",
    "            bno055rec = None\n",
    "            prevoledstamp = tstamp\n",
    "\n",
    "    elif tstamp > prevoledstamp + 200: # scrolling values\n",
    "        if displaymode == 1:\n",
    "            adddisplayscrollgraph(prsrec-100000, tstamp, \"prs\", str(prsrec))\n",
    "        elif displaymode == 2:\n",
    "            adddisplayscrollgraph(nickelwireread, tstamp, \"nickel\", str(nickelwireread))\n",
    "        elif displaymode == 3:\n",
    "            hs, ts = calchumidtemps()\n",
    "            adddisplayscrollgraph(ts, tstamp, \"temp\", \"%.2f\"%ts)\n",
    "        else:\n",
    "            oledshowfattext([\"mstamp\", str(tstamp)])\n",
    "        oledshow()\n",
    "        prevoledstamp = tstamp\n"
   ]
  },
  {
   "cell_type": "code",
   "execution_count": 1,
   "metadata": {},
   "outputs": [
    {
     "name": "stdout",
     "output_type": "stream",
     "text": [
      "\u001b[34mConnecting to --port=/dev/ttyUSB1 --baud=115200 \u001b[0m\n",
      "\u001b[34mReady.\n",
      "\u001b[0m"
     ]
    }
   ],
   "source": [
    "%serialconnect"
   ]
  },
  {
   "cell_type": "code",
   "execution_count": 14,
   "metadata": {},
   "outputs": [
    {
     "name": "stdout",
     "output_type": "stream",
     "text": [
      "\u001b[34mattempt to exit paste mode\n",
      "\u001b[0m\u001b[34m[\\r\\x03\\x02] \u001b[0mb'\\r\\nMicroPython v1.9.3-603-gfb7dabb9 on 2018-05-02; ESP32 module with ESP32\\r\\nType \"help()\" for more information.\\r\\n>>> '\u001b[34m\n",
      "Closing serial Serial<id=0x7f67265caf98, open=True>(port='/dev/ttyUSB1', baudrate=115200, bytesize=8, parity='N', stopbits=1, timeout=0.5, xonxoff=False, rtscts=False, dsrdtr=False)\n",
      "\u001b[0m"
     ]
    }
   ],
   "source": [
    "%disconnect"
   ]
  },
  {
   "cell_type": "code",
   "execution_count": 19,
   "metadata": {},
   "outputs": [
    {
     "name": "stdout",
     "output_type": "stream",
     "text": [
      "repl is in normal command mode\n",
      "[\\r\\x03\\x03] b'\\r\\nMicroPython v1.9.3-603-gfb7dabb9 on 2018-05-02; ESP32 module with ESP32\\r\\nType \"help()\" for more information.\\r\\n>>> \\r\\n>>> \\r\\nPYB: soft reboot\\r\\nTraceback (most recent call last):\\r\\n  File \"main.py\", line 1, in <module>\\r\\n  File \"OLED_driver.py\", line 5, in <module>\\r\\nKeyboardInterrupt: \\r\\nMicroPython v1.9.3-603-gfb7dabb9 on 2018-05-02; ESP32 module with ESP32\\r\\nType \"help()\" for more information.\\r\\n>>> \\r\\n>>> '\n",
      "[\\r\\x01] b'\\r\\n>>> \\r\\nraw REPL; CTRL-B to exit\\r\\n>'"
     ]
    }
   ],
   "source": [
    "%rebootdevice"
   ]
  },
  {
   "cell_type": "code",
   "execution_count": 51,
   "metadata": {},
   "outputs": [
    {
     "name": "stdout",
     "output_type": "stream",
     "text": [
      "serial exception on close write failed: [Errno 5] Input/output error\n",
      "\u001b[34mConnecting to --port=/dev/ttyUSB2 --baud=115200 \u001b[0m\n",
      "\u001b[34mReady.\n",
      "\u001b[0m"
     ]
    }
   ],
   "source": [
    "%serialconnect"
   ]
  },
  {
   "cell_type": "code",
   "execution_count": null,
   "metadata": {
    "collapsed": true
   },
   "outputs": [],
   "source": []
  },
  {
   "cell_type": "code",
   "execution_count": null,
   "metadata": {
    "collapsed": true
   },
   "outputs": [],
   "source": []
  }
 ],
 "metadata": {
  "kernelspec": {
   "display_name": "MicroPython - USB",
   "language": "micropython",
   "name": "micropython"
  },
  "language_info": {
   "codemirror_mode": "python",
   "file_extension": ".py",
   "mimetype": "text/python",
   "name": "micropython"
  }
 },
 "nbformat": 4,
 "nbformat_minor": 2
}

{
 "cells": [
  {
   "cell_type": "markdown",
   "metadata": {},
   "source": [
    "This unit is to read the air temperature \n",
    "as well as log GPS (bluefly) and humidity to the SD card\n",
    "\n",
    "We can get all the selected components working and producing \n",
    "same file format as the original one.  And then solder together\n",
    "\n",
    "Then we need to design a 3D-printed housing for it that rigidly \n",
    "attaches to an upright profile\n",
    "\n",
    "Then take it out and run around mapping warm and cold areas "
   ]
  },
  {
   "cell_type": "code",
   "execution_count": 368,
   "metadata": {},
   "outputs": [
    {
     "name": "stdout",
     "output_type": "stream",
     "text": [
      "\u001b[34mConnecting to --port=/dev/ttyUSB0 --baud=115200 \u001b[0m\n",
      "\u001b[34mReady.\n",
      "\u001b[0m"
     ]
    }
   ],
   "source": [
    "%serialconnect"
   ]
  },
  {
   "cell_type": "code",
   "execution_count": 13,
   "metadata": {},
   "outputs": [
    {
     "name": "stdout",
     "output_type": "stream",
     "text": [
      "Sent 272 lines (8218 bytes) to /lib/sdcard.py.\n"
     ]
    }
   ],
   "source": [
    "%sendtofile --mkdir --source /home/julian/extrepositories/micropython/drivers/sdcard/sdcard.py /lib/\n",
    "%sendtofile --source ../Sensor_Kennel/SI7021_funcs.py"
   ]
  },
  {
   "cell_type": "code",
   "execution_count": 366,
   "metadata": {},
   "outputs": [
    {
     "name": "stdout",
     "output_type": "stream",
     "text": [
      "Sent 79 lines (2654 bytes) to main.py.\n"
     ]
    }
   ],
   "source": [
    "%sendtofile main.py\n",
    "\n",
    "from machine import Pin, SPI, UART, I2C\n",
    "import sdcard, os, time\n",
    "\n",
    "i2c = I2C(scl=Pin(15, Pin.OUT, Pin.PULL_UP), sda=Pin(4, Pin.OUT, Pin.PULL_UP), freq=450000)\n",
    "spi = SPI(sck=Pin(5), mosi=Pin(22), miso=Pin(27))  # should be mosi=Pin19 but is broke on screenless heltec\n",
    "uart = UART(1, baudrate=57600, rx=13, tx=17)\n",
    "sd = sdcard.SDCard(spi, Pin(23))\n",
    "os.mount(sd, '/sd')\n",
    "\n",
    "sdfile = None\n",
    "def opennextlogfileforwriting(mstamp):\n",
    "    global sdfile\n",
    "    if not sum((f[0]==\"LOG\")  for f in os.ilistdir(\"sd\")):\n",
    "        os.mkdir(\"sd/LOG\")\n",
    "    fnum = 1+max((int(f[0][:3])  for f in os.ilistdir(\"sd/LOG\")  if f[3]>10), default=0)\n",
    "    fname = \"sd/LOG/{:03d}.TXT\".format(fnum)\n",
    "    print(\"Opening file\", fname)\n",
    "    sdfile = open(fname, \"w\")\n",
    "    sdfile.write(\"Logfile: {}\".format(fname))\n",
    "    sdfile.write(\"Device number: 3\")\n",
    "    sdfile.write(\"Rt[ms]d\\\"[isodate]\\\"e[latdE]n[latdN]f[lngdE]o[lngdN] GPS cooeffs\\n\") \n",
    "    sdfile.write(\"Qt[ms]u[ms midnight]y[lat600000]x[lng600000]a[alt] GPS\\n\") \n",
    "    sdfile.write(\"Vt[ms]v[kph100]d[deg100] GPS velocity\\n\") \n",
    "    sdfile.write(\"Ft[ms]p[milibars] bluefly pressure\\n\") \n",
    "    sdfile.write(\"Gt[ms]r[rawhumid]a[rawtemp] si7021Humidity meter\\n\") \n",
    "    sdfile.write(\"Nt[ms]r[rawadc]s[resistance] nickel wire sensor\\n\") \n",
    "\n",
    "opennextlogfileforwriting(time.ticks_ms())\n",
    "\n",
    "from SI7021_funcs import setupSI7021, SI7021checkchip, SI7021printstatus, SI7021humiditytemp, SI7021humiditytempBin\n",
    "setupSI7021(i2c)\n",
    "SI7021checkchip()\n",
    "\n",
    "mstampSI7021 = 0\n",
    "bh = bytearray(2)\n",
    "bt = bytearray(2)\n",
    "\n",
    "def calchumidtemps():\n",
    "    rh = (bh[0]<<8) + (bh[1]&0xFC)\n",
    "    rt = (bt[0]<<8) + (bt[1]&0xFC)\n",
    "    return ((125.0*rh)/65536)-6, ((175.25*rt)/65536)-46.85 \n",
    "\n",
    "def readlogSI7021():\n",
    "    global mstampSI7021\n",
    "    mstamp = time.ticks_ms()\n",
    "    if mstampSI7021 == 0:\n",
    "        i2c.writeto(0x40, b'\\xE5')\n",
    "        mstampSI7021 = mstamp + 20\n",
    "    elif mstamp > mstampSI7021:\n",
    "        i2c.readfrom_into(0x40, bh)\n",
    "        i2c.readfrom_mem_into(0x40, 0xE0, bt)\n",
    "        if sdfile:\n",
    "            sdfile.write(\"Ft{:08X}r{:02X}{:02X}a{:02X}{:02X}\\n\".format(mstamp, bh[0], bh[1], bt[0], bt[1]))\n",
    "        else:\n",
    "            print(mstampSI7021, calchumidtemps())\n",
    "        mstampSI7021 = 0\n",
    "\n",
    "pr = 0\n",
    "def readlogbluefly():\n",
    "    global pr\n",
    "    b = uart.readline()\n",
    "    if not b:  \n",
    "        return\n",
    "    mstamp = time.ticks_ms()\n",
    "    if b[:3] == b'PRS':\n",
    "        pr = int(b[4:-2], 16)\n",
    "        sdfile.write(\"Ft{:08X}p{:06X}\\n\".format(mstamp, pr))\n",
    "    if b[:1] == b'$':\n",
    "        sdfile.write(\"{}\\n\".format(b.decode().strip()))\n",
    "        print(b)\n",
    "\n",
    "prevtstamp = 0\n",
    "while True:\n",
    "    tstamp = time.ticks_ms()\n",
    "    readlogSI7021()\n",
    "    readlogbluefly()\n",
    "    if tstamp > prevtstamp + 2000:\n",
    "        sdfile.flush()\n",
    "        prevtstamp = tstamp"
   ]
  },
  {
   "cell_type": "code",
   "execution_count": 367,
   "metadata": {},
   "outputs": [
    {
     "name": "stdout",
     "output_type": "stream",
     "text": [
      "\u001b[34mattempt to exit paste mode\n",
      "\u001b[0m\u001b[34m[\\r\\x03\\x02] \u001b[0mb'\\r\\nMicroPython v1.9.3-603-gfb7dabb9 on 2018-05-02; ESP32 module with ESP32\\r\\nType \"help()\" for more information.\\r\\n>>> '\u001b[34m\n",
      "Closing serial Serial<id=0x7f2146a97d68, open=True>(port='/dev/ttyUSB0', baudrate=115200, bytesize=8, parity='N', stopbits=1, timeout=0.5, xonxoff=False, rtscts=False, dsrdtr=False)\n",
      "\u001b[0m"
     ]
    }
   ],
   "source": [
    "%disconnect"
   ]
  },
  {
   "cell_type": "code",
   "execution_count": 372,
   "metadata": {},
   "outputs": [
    {
     "name": "stdout",
     "output_type": "stream",
     "text": [
      "Fetched 69930=69930 bytes from sd/LOG/001.TXT.\n",
      "Saving file to '001.TXT'"
     ]
    }
   ],
   "source": [
    "%fetchfile --binary sd/LOG/001.TXT"
   ]
  },
  {
   "cell_type": "code",
   "execution_count": 370,
   "metadata": {},
   "outputs": [
    {
     "name": "stdout",
     "output_type": "stream",
     "text": [
      "['001.TXT']\r\n"
     ]
    }
   ],
   "source": [
    "import os\n",
    "print(os.listdir(\"sd/LOG\"))\n",
    "\n"
   ]
  },
  {
   "cell_type": "code",
   "execution_count": 171,
   "metadata": {},
   "outputs": [],
   "source": [
    "# The full implementation of the reading and logging of SI7021 data\n",
    "import time\n",
    "mstampSI7021 = 0\n",
    "bh = bytearray(2)\n",
    "bt = bytearray(2)\n",
    "\n",
    "def calchumidtemps():\n",
    "    rh = (bh[0]<<8) + (bh[1]&0xFC)\n",
    "    rt = (bt[0]<<8) + (bt[1]&0xFC)\n",
    "    return ((125.0*rh)/65536)-6, ((175.25*rt)/65536)-46.85 \n",
    "\n",
    "def readlogSI7021():\n",
    "    global mstampSI7021\n",
    "    mstamp = time.ticks_ms()\n",
    "    if mstampSI7021 == 0:\n",
    "        i2c.writeto(0x40, b'\\xE5')\n",
    "        mstampSI7021 = mstamp + 20\n",
    "    elif mstamp > mstampSI7021:\n",
    "        i2c.readfrom_into(0x40, bh)\n",
    "        i2c.readfrom_mem_into(0x40, 0xE0, bt)\n",
    "        if sdfile:\n",
    "            sdfile.write(\"Ft{:08X}r{:02X}{:02X}a{:02X}{:02X}\\n\".format(mstamp, bh[0], bh[1], bt[0], bt[1]))\n",
    "        else:\n",
    "            print(mstampSI7021, calchumidtemps())\n",
    "        mstampSI7021 = 0\n",
    "\n",
    "        \n",
    "#def loggpsabs(mstamp, mstampmidnight, latminutes10000, lngminutes10000, altitude10, bbadgpschecksum, devno):\n",
    "#    sdfile.write(\"Qt{:08X}u{:08X}y{:08X}x{:08X}a{:04X}A{:1X}\\n\".format(mstamp, mstampmidnight, latminutes10000, lngminutes10000, altitude10, devno))\n",
    "#def loggpsabs(mstamp, velkph100, veldegrees100, devno):\n",
    "#    sdfile.write(\"Vt{:08X}v{:04X}d{:06X}A{:1X}\\n\".format(mstamp, mstampmidnight, latminutes10000, lngminutes10000, altitude10, bbadgpschecksum, devno))\n",
    "    \n",
    "pr = 0\n",
    "def readlogbluefly():\n",
    "    global pr\n",
    "    b = uart.readline()\n",
    "    if not b:  return\n",
    "    mstamp = time.ticks_ms():\n",
    "    if b[:3] == b'PRS':\n",
    "        pr = int(b[4:-2], 16)\n",
    "        sdfile.write(\"Ft{:08X}p{:06X}\\n\".format(mstamp, pr))\n",
    "    if b[:1] == b'$':\n",
    "        sdfile.write(\"{}\\n\".format(b.decode().strip()))\n"
   ]
  },
  {
   "cell_type": "code",
   "execution_count": null,
   "metadata": {
    "collapsed": true
   },
   "outputs": [],
   "source": [
    "# Nickel wire setup code\n",
    "import machine, time\n",
    "x = machine.ADC(machine.Pin(36))\n",
    "x.atten(x.ATTN_11DB)\n",
    "x.width(x.WIDTH_12BIT)\n",
    "\n",
    "fout = open(\"data4.txt\", \"w\")\n",
    "for i in range(6000):\n",
    "    fout.write(\"%d,%d\\n\" % (time.ticks_ms(), x.read()))\n",
    "    if (i%1000) == 0:\n",
    "        print(i)\n",
    "fout.close()\n"
   ]
  },
  {
   "cell_type": "code",
   "execution_count": null,
   "metadata": {
    "collapsed": true
   },
   "outputs": [],
   "source": []
  },
  {
   "cell_type": "code",
   "execution_count": null,
   "metadata": {
    "collapsed": true
   },
   "outputs": [],
   "source": []
  },
  {
   "cell_type": "code",
   "execution_count": 215,
   "metadata": {},
   "outputs": [],
   "source": [
    "# Bluefly work Tx->13 Rx->17\n",
    "import machine\n",
    "uart = machine.UART(1, baudrate=57600, rx=13, tx=17)\n"
   ]
  },
  {
   "cell_type": "code",
   "execution_count": 334,
   "metadata": {},
   "outputs": [
    {
     "name": "stdout",
     "output_type": "stream",
     "text": [
      "b'PRS 18B1D\\r\\n'\n",
      "b'PRS 18B1D\\r\\n'\n",
      "b'PRS 18B1E\\r\\n'\n",
      "b'PRS 18B1C\\r\\n'\n",
      "b'PRS 18B1B\\r\\n'\n",
      "b'PRS 18B1F\\r\\n'\n",
      "b'PRS 18B1E\\r\\n'\n",
      "b'PRS 18B1D\\r\\n'\n",
      "b'PRS 18B1D\\r\\n'\n",
      "b'PRS 18B1C\\r\\n'\n",
      "b'PRS 18B1B\\r\\n'\n",
      "b'PRS 18B1E\\r\\n'\n",
      "b'PRS 18B1D\\r\\n'\n",
      "b'PRS 18B1E\\r\\n'\n",
      "b'$GPGGA,000000.800,,,,,0,0,,,M,,M,,*40\\r\\n'\n"
     ]
    }
   ],
   "source": [
    "for i in range(1000):\n",
    "    b = uart.readline()\n",
    "    if b:\n",
    "        print(b)\n",
    "        if b[:3] != b\"PRS\":\n",
    "            break"
   ]
  },
  {
   "cell_type": "code",
   "execution_count": null,
   "metadata": {
    "collapsed": true
   },
   "outputs": [],
   "source": [
    "    // $GPGGA,064306.590,5323.7234,N,00258.3325,W,  2, 10, 1.00,38.3,M,49.4,M,0000,0000*4A\n",
    "    positionfixindicator = recline[recblock[6]] - '0'; // is this valid case?\n",
    "    if (positionfixindicator == 0)\n",
    "        return false; \n",
    "\n",
    "    SetIsoTimestampFromGps(recline + recblock[1], 0);   // no date included\n",
    "    latminutes10000 = minutes10000parse(recline + recblock[2], false)*(recline[recblock[3]] == 'N' ? 1 : -1); \n",
    "    lngminutes10000 = minutes10000parse(recline + recblock[4], true)*(recline[recblock[5]] == 'E' ? 1 : -1); \n",
    "    //nsatellitesused = intparse(recline + recblock[7]); \n",
    "    horizontaldilutionofposition100 = float10parse(recline + recblock[8], 100); \n"
   ]
  },
  {
   "cell_type": "code",
   "execution_count": 338,
   "metadata": {},
   "outputs": [
    {
     "name": "stdout",
     "output_type": "stream",
     "text": [
      "['$GPGGA', '000000.800', '', '', '', '', '0', '0', '', '', 'M', '', 'M', '', '*40\\r\\n']\n",
      "$GPGGA,000000.800,,,,,0,0,,,M,,M,,*40\n"
     ]
    }
   ],
   "source": [
    "print(b.decode().split(\",\"))\n",
    "print(b.decode().strip())\n"
   ]
  },
  {
   "cell_type": "code",
   "execution_count": null,
   "metadata": {
    "collapsed": true
   },
   "outputs": [],
   "source": [
    "bool BlueflyGpsData::IsGpvtg() { return ((strcmp(recline, \"$GPVTG\") == 0) && (nrecblock == 10)); }\n",
    "bool BlueflyGpsData::ParseGpvtg()\n",
    "{\n",
    "    // $GPVTG,62.47,T,,M,0.29,N,0.53,K,D*02\n",
    "    if (recline[recblock[9]] == 'N')  // undocumented but observed\n",
    "        return false; \n",
    "    veldegrees100 = float100parse(recline + recblock[1]); \n",
    "    //assert strcmp(recline + recblock[2], \"T\"); \n",
    "    //assert strcmp(recline + recblock[4], \"M\"); \n",
    "    //velknots100 = float100parse(recline + recblock[5]); \n",
    "    //assert strcmp(recline + recblock[6], \"N\"); \n",
    "    velkph100 = float100parse(recline + recblock[7]); \n"
   ]
  },
  {
   "cell_type": "code",
   "execution_count": 289,
   "metadata": {},
   "outputs": [
    {
     "name": "stdout",
     "output_type": "stream",
     "text": [
      "b'PRS 18B1D\\r\\n'\r\n"
     ]
    }
   ],
   "source": []
  },
  {
   "cell_type": "code",
   "execution_count": 263,
   "metadata": {},
   "outputs": [
    {
     "name": "stdout",
     "output_type": "stream",
     "text": [
      "object bytearray(b'S 18B1A\\r\\nPRS 18B19\\r\\nPRS 18B19\\r\\nPRS 18B1B\\r\\n8B1B\\r\\nPRS 18B1D\\r\\nP') is of type bytearray\n",
      "  append -- <function>\n",
      "  extend -- <function>\n"
     ]
    }
   ],
   "source": [
    "help(u)"
   ]
  },
  {
   "cell_type": "code",
   "execution_count": null,
   "metadata": {
    "collapsed": true
   },
   "outputs": [],
   "source": [
    "def loggpsabs(mstamp, mstampmidnight, latminutes10000, lngminutes10000, altitude10, bbadgpschecksum, devno):\n",
    "    sdfile.write(\"Qt{:08X}u{:08X}y{:08X}x{:08X}a{:04X}A{:1X}\\n\".format(mstamp, mstampmidnight, latminutes10000, lngminutes10000, altitude10, devno))\n",
    "\n",
    "def loggpsabs(mstamp, velkph100, veldegrees100, devno):\n",
    "    sdfile.write(\"Vt{:08X}v{:04X}d{:06X}A{:1X}\\n\".format(mstamp, mstampmidnight, latminutes10000, lngminutes10000, altitude10, bbadgpschecksum, devno))\n",
    "                 \n",
    "def logbfprs(mstamp, prsreading):\n",
    "    sdfile.write(\"Ft{:08X}p{:06X}\\n\".format(mstamp, prsreading))\n"
   ]
  }
 ],
 "metadata": {
  "kernelspec": {
   "display_name": "MicroPython - USB",
   "language": "micropython",
   "name": "micropython"
  },
  "language_info": {
   "codemirror_mode": "python",
   "file_extension": ".py",
   "mimetype": "text/python",
   "name": "micropython"
  }
 },
 "nbformat": 4,
 "nbformat_minor": 2
}

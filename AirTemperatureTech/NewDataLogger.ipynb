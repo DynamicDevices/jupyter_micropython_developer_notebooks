{
 "cells": [
  {
   "cell_type": "markdown",
   "metadata": {},
   "source": [
    "This unit is to read the air temperature \n",
    "as well as log GPS (bluefly) and humidity to the SD card\n",
    "\n",
    "We can get all the selected components working and producing \n",
    "same file format as the original one.  And then solder together\n",
    "\n",
    "Then we need to design a 3D-printed housing for it that rigidly \n",
    "attaches to an upright profile\n",
    "\n",
    "Then take it out and run around mapping warm and cold areas "
   ]
  },
  {
   "cell_type": "code",
   "execution_count": 908,
   "metadata": {},
   "outputs": [
    {
     "name": "stdout",
     "output_type": "stream",
     "text": [
      "\u001b[34mConnecting to --port=/dev/ttyUSB4 --baud=115200 \u001b[0m\n",
      "\u001b[34mReady.\n",
      "\u001b[0m"
     ]
    }
   ],
   "source": [
    "%serialconnect"
   ]
  },
  {
   "cell_type": "code",
   "execution_count": 900,
   "metadata": {},
   "outputs": [
    {
     "name": "stdout",
     "output_type": "stream",
     "text": [
      "['001.TXT', '002.TXT', '003.TXT', '004.TXT', '005.TXT', '006.TXT', '007.TXT', '008.TXT', '009.TXT', '010.TXT', '011.TXT', '012.TXT', '013.TXT', '014.TXT', '015.TXT', '016.TXT']\r\n"
     ]
    }
   ],
   "source": [
    "print(os.listdir(\"sd/LOG\"))"
   ]
  },
  {
   "cell_type": "code",
   "execution_count": 901,
   "metadata": {},
   "outputs": [
    {
     "name": "stdout",
     "output_type": "stream",
     "text": [
      "Fetched 212813=212813 bytes from sd/LOG/016.TXT.\n",
      "Saving file to '016.TXT'"
     ]
    }
   ],
   "source": [
    "%fetchfile --binary \"sd/LOG/016.TXT\"\n"
   ]
  },
  {
   "cell_type": "code",
   "execution_count": 822,
   "metadata": {},
   "outputs": [
    {
     "name": "stdout",
     "output_type": "stream",
     "text": [
      "repl is in normal command mode\n",
      "[\\r\\x03\\x03] b'\\r\\nMicroPython v1.9.3-603-gfb7dabb9 on 2018-05-02; ESP32 module with ESP32\\r\\nType \"help()\" for more information.\\r\\n>>> \\r\\n>>> \\r\\nPYB: soft reboot\\r\\nOSError: [Errno 2] ENOENT\\r\\nMicroPython v1.9.3-603-gfb7dabb9 on 2018-05-02; ESP32 module with ESP32\\r\\nType \"help()\" for more information.\\r\\n>>> \\r\\n>>> \\r\\n>>> '\n",
      "[\\r\\x01] b'\\r\\n>>> \\r\\nraw REPL; CTRL-B to exit\\r\\n>'"
     ]
    }
   ],
   "source": [
    "%rebootdevice"
   ]
  },
  {
   "cell_type": "code",
   "execution_count": 938,
   "metadata": {},
   "outputs": [
    {
     "name": "stdout",
     "output_type": "stream",
     "text": [
      "Sent 89 lines (3191 bytes) to NewDataLogger_funcs.py.\n"
     ]
    }
   ],
   "source": [
    "%sendtofile --source NewDataLogger_funcs.py\n"
   ]
  },
  {
   "cell_type": "code",
   "execution_count": 906,
   "metadata": {},
   "outputs": [
    {
     "name": "stdout",
     "output_type": "stream",
     "text": [
      "Sent 3368 bytes in 113 chunks to OLED_driver.py.\n"
     ]
    }
   ],
   "source": [
    "%sendtofile --binary --source ../Sensor_Kennel/OLED_driver.py\n"
   ]
  },
  {
   "cell_type": "code",
   "execution_count": 494,
   "metadata": {},
   "outputs": [
    {
     "name": "stdout",
     "output_type": "stream",
     "text": [
      "Sent 55 lines (2040 bytes) to SI7021_funcs.py.\n"
     ]
    }
   ],
   "source": [
    "%sendtofile --binary --source ../Sensor_Kennel/OLED_driver.py\n",
    "%sendtofile --mkdir --source /home/julian/extrepositories/micropython/drivers/sdcard/sdcard.py /lib/\n",
    "%sendtofile --quiet --source ../Sensor_Kennel/SI7021_funcs.py\n",
    "%sendtofile --quiet --source ../Sensor_Kennel/OLED_grapher.py\n",
    "%sendtofile --quiet --source BlueFly_funcs.py\n"
   ]
  },
  {
   "cell_type": "code",
   "execution_count": 933,
   "metadata": {},
   "outputs": [
    {
     "name": "stdout",
     "output_type": "stream",
     "text": [
      "\u001b[34mConnecting to --port=/dev/ttyUSB4 --baud=115200 \u001b[0m\n",
      "\u001b[34mReady.\n",
      "\u001b[0m"
     ]
    }
   ],
   "source": [
    "%serialconnect"
   ]
  },
  {
   "cell_type": "code",
   "execution_count": 927,
   "metadata": {},
   "outputs": [
    {
     "name": "stdout",
     "output_type": "stream",
     "text": [
      "\u001b[0;32mI (10380) uart: ALREADY NULL\u001b[0m\r\n"
     ]
    }
   ],
   "source": [
    "from NewDataLogger_funcs import ConnectSDcardFile, ConnectBluefly\n",
    "\n",
    "ConnectBluefly()\n",
    "sdfile = ConnectSDcardFile()\n",
    "print(sdfile)"
   ]
  },
  {
   "cell_type": "code",
   "execution_count": 928,
   "metadata": {},
   "outputs": [
    {
     "name": "stdout",
     "output_type": "stream",
     "text": [
      "Opening file sd/LOG/018.TXT\n",
      "None\n"
     ]
    }
   ],
   "source": []
  },
  {
   "cell_type": "code",
   "execution_count": 939,
   "metadata": {},
   "outputs": [
    {
     "name": "stdout",
     "output_type": "stream",
     "text": [
      "Sent 37 lines (1243 bytes) to main.py.\n"
     ]
    }
   ],
   "source": [
    "%sendtofile main.py\n",
    "\n",
    "from OLED_driver import i2c, fbuff, oledshow, doublepixels, fatntext, oledshowfattext\n",
    "from machine import Pin, SPI, UART\n",
    "import sdcard, os, time\n",
    "from OLED_grapher import scrollinit, addscrollgraph, plotscrollgraph\n",
    "from BlueFly_funcs import uart, SetupGPS, BFVmakesettings, ParseNMEA\n",
    "from NewDataLogger_funcs import ConnectSDcardFile, ConnectBluefly, readlogSI7021, calchumidtemps, readlogbluefly\n",
    "                       \n",
    "#ConnectBluefly()\n",
    "sdfile = ConnectSDcardFile()\n",
    "print(sdfile)\n",
    "\n",
    "from SI7021_funcs import setupSI7021, SI7021checkchip, SI7021printstatus, SI7021humiditytemp, SI7021humiditytempBin\n",
    "setupSI7021(i2c)\n",
    "SI7021checkchip()\n",
    "\n",
    "prevflushstamp = 0\n",
    "prevoledstamp = 0\n",
    "while True:\n",
    "    tstamp = time.ticks_ms()\n",
    "    readlogSI7021()\n",
    "    prs = readlogbluefly()\n",
    "    if tstamp > prevflushstamp + 2000:\n",
    "        sdfile.flush()\n",
    "        prevflushstamp = tstamp\n",
    "        \n",
    "    if tstamp > prevoledstamp + 200:\n",
    "        #v = calchumidtemps()[1]\n",
    "        if prs > 0:\n",
    "            addscrollgraph(prs-100000, tstamp)\n",
    "            plotscrollgraph(fbuff)\n",
    "            fbuff.text(\"prs\",0,0,1)\n",
    "            fbuff.text(str(prs),0,8,1)\n",
    "        else:\n",
    "            oledshowfattext([\"mstamp\", str(tstamp)])\n",
    "        oledshow()\n",
    "        prevoledstamp = tstamp\n",
    "                \n"
   ]
  },
  {
   "cell_type": "code",
   "execution_count": 941,
   "metadata": {},
   "outputs": [
    {
     "name": "stdout",
     "output_type": "stream",
     "text": [
      "\u001b[34mattempt to exit paste mode\n",
      "\u001b[0m\u001b[34m[\\r\\x03\\x02] \u001b[0mb'\\r\\nMicroPython v1.9.3-603-gfb7dabb9 on 2018-05-02; ESP32 module with ESP32\\r\\nType \"help()\" for more information.\\r\\n>>> '\u001b[34m\n",
      "Closing serial Serial<id=0x7f21434a63c8, open=True>(port='/dev/ttyUSB4', baudrate=115200, bytesize=8, parity='N', stopbits=1, timeout=0.5, xonxoff=False, rtscts=False, dsrdtr=False)\n",
      "\u001b[0m"
     ]
    }
   ],
   "source": [
    "%disconnect"
   ]
  },
  {
   "cell_type": "code",
   "execution_count": 372,
   "metadata": {},
   "outputs": [
    {
     "name": "stdout",
     "output_type": "stream",
     "text": [
      "Fetched 69930=69930 bytes from sd/LOG/001.TXT.\n",
      "Saving file to '001.TXT'"
     ]
    }
   ],
   "source": [
    "%fetchfile --binary sd/LOG/001.TXT"
   ]
  },
  {
   "cell_type": "code",
   "execution_count": 940,
   "metadata": {},
   "outputs": [
    {
     "name": "stdout",
     "output_type": "stream",
     "text": [
      "\u001b[34mConnecting to --port=/dev/ttyUSB4 --baud=115200 \u001b[0m\n",
      "\u001b[34mReady.\n",
      "\u001b[0m"
     ]
    }
   ],
   "source": [
    "%serialconnect"
   ]
  },
  {
   "cell_type": "code",
   "execution_count": 377,
   "metadata": {},
   "outputs": [
    {
     "name": "stdout",
     "output_type": "stream",
     "text": [
      "['001.TXT', '002.TXT', '003.TXT']\r\n"
     ]
    }
   ],
   "source": [
    "import os\n",
    "print(os.listdir(\"sd/LOG\"))"
   ]
  },
  {
   "cell_type": "code",
   "execution_count": null,
   "metadata": {
    "collapsed": true
   },
   "outputs": [],
   "source": [
    "# Nickel wire setup code\n",
    "import machine, time\n",
    "x = machine.ADC(machine.Pin(36))\n",
    "x.atten(x.ATTN_11DB)\n",
    "x.width(x.WIDTH_12BIT)\n",
    "\n",
    "fout = open(\"data4.txt\", \"w\")\n",
    "for i in range(6000):\n",
    "    fout.write(\"%d,%d\\n\" % (time.ticks_ms(), x.read()))\n",
    "    if (i%1000) == 0:\n",
    "        print(i)\n",
    "fout.close()\n"
   ]
  },
  {
   "cell_type": "code",
   "execution_count": 553,
   "metadata": {
    "collapsed": true
   },
   "outputs": [],
   "source": [
    "uart"
   ]
  },
  {
   "cell_type": "code",
   "execution_count": null,
   "metadata": {
    "collapsed": true
   },
   "outputs": [],
   "source": []
  },
  {
   "cell_type": "code",
   "execution_count": null,
   "metadata": {
    "collapsed": true
   },
   "outputs": [],
   "source": []
  },
  {
   "cell_type": "code",
   "execution_count": 737,
   "metadata": {},
   "outputs": [
    {
     "name": "stdout",
     "output_type": "stream",
     "text": [
      "\u001b[34mConnecting to --port=/dev/ttyUSB4 --baud=115200 \u001b[0m\n",
      "\u001b[34mReady.\n",
      "\u001b[0m"
     ]
    }
   ],
   "source": [
    "%serialconnect"
   ]
  },
  {
   "cell_type": "code",
   "execution_count": 453,
   "metadata": {},
   "outputs": [
    {
     "name": "stdout",
     "output_type": "stream",
     "text": [
      "[('001.TXT', 32768, 0, 69930), ('002.TXT', 32768, 0, 30183), ('003.TXT', 32768, 0, 27947)]\r\n"
     ]
    }
   ],
   "source": [
    "print(list(os.ilistdir(\"sd/LOG\")))"
   ]
  },
  {
   "cell_type": "code",
   "execution_count": 746,
   "metadata": {},
   "outputs": [
    {
     "name": "stdout",
     "output_type": "stream",
     "text": [
      "1\r\n"
     ]
    }
   ],
   "source": [
    "print(1)"
   ]
  },
  {
   "cell_type": "code",
   "execution_count": 803,
   "metadata": {},
   "outputs": [
    {
     "name": "stdout",
     "output_type": "stream",
     "text": [
      "b'BVL' already good\n",
      "b'BHV' already good\n",
      "b'BOF' already good\n",
      "b'BHT' already good\n",
      "GPS already baud 57600\n",
      "True\n"
     ]
    }
   ],
   "source": [
    "from BlueFly_funcs import uart, SetupGPS, BFVmakesettings\n",
    "BFVmakesettings({ b\"BOF\":1, # Output frequency (factor of 20ms)\n",
    "                  b\"BHV\":0, # height timeout\n",
    "                  b\"BHT\":10000, # seconds to timeout\n",
    "                  b\"BVL\":3  # volume (out of 1000)\n",
    "                })\n",
    "print(SetupGPS())"
   ]
  },
  {
   "cell_type": "code",
   "execution_count": 772,
   "metadata": {},
   "outputs": [
    {
     "name": "stdout",
     "output_type": "stream",
     "text": [
      "[b'$GPRMC', b'121512.600', b'A', b'5256.5498', b'N', b'00407.2869', b'W', b'0.00', b'326.11', b'080618', b'', b'', b'A*7C\\r\\n']\r\n"
     ]
    }
   ],
   "source": [
    "print(bd)"
   ]
  },
  {
   "cell_type": "code",
   "execution_count": 819,
   "metadata": {},
   "outputs": [
    {
     "name": "stdout",
     "output_type": "stream",
     "text": [
      "Qt002C2FC6u02BFFAC0y01E4B447x-025BB58a0076\n",
      "Vt002C2FCDv0001d00761C\n",
      "Vt002C2FDAv0001d006FE5\n",
      "Qt002C305Cu02C017A8y01E4B447x-025BB58a0075\n",
      "Vt002C3062v0001d006C52\n",
      "Qt002C3123u02C01870y01E4B447x-025BB58a0075\n",
      "b'$GPRMC,124903.600,A,5256.5575,N,00407.2792,W,0.00,344.36,080618,,,D*78\\r\\n'\n",
      "31765575 -2472792 34436\n",
      "NoneVt002C313Ev0001d008684\n",
      "Qt002C31ECu02C01938y01E4B447x-025BB58a0075\n",
      "Vt002C31F2v0001d0026F3\n",
      "Qt002C32B3u02C01A00y01E4B447x-025BB58a0075\n",
      "Vt002C32B9v0001d00237B\n",
      "Qt002C337Au02C01AC8y01E4B447x-025BB58a0075\n",
      "Vt002C3381v0001d003C04\n",
      "Qt002C3442u02C01B90y01E4B447x-025BB58a0075\n",
      "Vt002C3448v0000d0044B1\n",
      "Qt002C3508u02C01C58y01E4B447x-025BB58a0075\n",
      "b'$GPRMC,124904.600,A,5256.5575,N,00407.27'\n"
     ]
    },
    {
     "name": "stderr",
     "output_type": "stream",
     "text": [
      "Traceback (most recent call last):\n",
      "  File \"<stdin>\", line 6, in <module>\n",
      "  File \"<stdin>\", line 16, in ParseNMEA\n",
      "IndexError: list index out of range\n"
     ]
    }
   ],
   "source": [
    "import time\n",
    "for i in range(2000):\n",
    "    lbd = uart.readline()\n",
    "    if lbd:\n",
    "        if lbd[:1] == b\"$\":\n",
    "            print(ParseNMEA(lbd), end=\"\")\n",
    "    time.sleep_ms(1)\n",
    "    "
   ]
  },
  {
   "cell_type": "code",
   "execution_count": null,
   "metadata": {
    "collapsed": true
   },
   "outputs": [],
   "source": []
  }
 ],
 "metadata": {
  "kernelspec": {
   "display_name": "MicroPython - USB",
   "language": "micropython",
   "name": "micropython"
  },
  "language_info": {
   "codemirror_mode": "python",
   "file_extension": ".py",
   "mimetype": "text/python",
   "name": "micropython"
  }
 },
 "nbformat": 4,
 "nbformat_minor": 2
}

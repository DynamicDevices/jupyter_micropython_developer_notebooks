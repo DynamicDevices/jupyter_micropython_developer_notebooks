{
 "cells": [
  {
   "cell_type": "code",
   "execution_count": 23,
   "metadata": {},
   "outputs": [
    {
     "name": "stdout",
     "output_type": "stream",
     "text": [
      "\u001b[34mConnecting to --port=/dev/ttyUSB1 --baud=115200 \u001b[0m\n",
      "\u001b[34mReady.\n",
      "\u001b[0m"
     ]
    }
   ],
   "source": [
    "%serialconnect"
   ]
  },
  {
   "cell_type": "code",
   "execution_count": null,
   "metadata": {
    "collapsed": true
   },
   "outputs": [],
   "source": [
    "# may be able to skip this if already loaded\n",
    "from machine import Pin, SPI, UART\n",
    "import sdcard, os, time\n",
    "spi = SPI(sck=Pin(5), mosi=Pin(22), miso=Pin(27))  \n",
    "sd = sdcard.SDCard(spi, Pin(23))\n",
    "os.mount(sd, '/sd')\n"
   ]
  },
  {
   "cell_type": "code",
   "execution_count": 4,
   "metadata": {},
   "outputs": [
    {
     "name": "stdout",
     "output_type": "stream",
     "text": [
      "001.TXT 2596960\n",
      "002.TXT 280561\n",
      "003.TXT 59868\n",
      "004.TXT 144079\n",
      "005.TXT 840679\n",
      "006.TXT 33445\n",
      "007.TXT 77757\n",
      "008.TXT 36183\n",
      "009.TXT 114246\n",
      "010.TXT 4662\n",
      "011.TXT 53269\n",
      "012.TXT 192004\n",
      "013.TXT 14821\n",
      "014.TXT 40717\n",
      "015.TXT 5426665\n",
      "016.TXT 20932\n",
      "017.TXT 228721\n",
      "018.TXT 142579\n",
      "019.TXT 9654556\n",
      "020.TXT 5285410\n",
      "021.TXT 2627107\n",
      "022.TXT 38656\n",
      "023.TXT 8662\n",
      "024.TXT 2003725\n",
      "025.TXT 82375\n",
      "026.TXT 118123\n",
      "027.TXT 46084\n",
      "028.TXT 23554\n",
      "029.TXT 4186\n",
      "030.TXT 211153\n",
      "031.TXT 71545\n"
     ]
    }
   ],
   "source": [
    "for f in os.ilistdir(\"sd/LOG\"):\n",
    "    print(f[0], f[3])\n"
   ]
  },
  {
   "cell_type": "code",
   "execution_count": 43,
   "metadata": {},
   "outputs": [
    {
     "name": "stdout",
     "output_type": "stream",
     "text": [
      "{'N': 0, 'V': 0, 'Q': 1, 'F': 1, 'G': 0, 'R': 0}\r\n"
     ]
    }
   ],
   "source": [
    "reccounts = dict(zip(\"RQVFGN\", [0]*6))\n",
    "for l in [\"Qsdf\", \"Fsdf\"]:\n",
    "    x = reccounts[l[0]] += 1\n",
    "print(reccounts)"
   ]
  },
  {
   "cell_type": "code",
   "execution_count": 47,
   "metadata": {},
   "outputs": [
    {
     "name": "stdout",
     "output_type": "stream",
     "text": [
      "Logfile: sd/LOG/024.TXTDevice number: 3Rt[ms]d\"[isodate]\"e[latdE]n[latdN]f[lngdE]o[lngdN] GPS cooeffs\n",
      "Qt[ms]u[ms midnight]y[lat600000]x[lng600000]a[alt] GPS\n",
      "Vt[ms]v[kph100]d[deg100] GPS velocity\n",
      "Ft[ms]p[milibars] bluefly pressure\n",
      "Gt[ms]r[rawhumid]a[rawtemp] si7021Humidity meter\n",
      "Nt[ms]r[rawadc]s[resistance] nickel wire sensor\n",
      "\n",
      ".............................'N': 3, 'V': 0, 'Q': 0, 'F': 63621, 'G': 40865, 'R': 0}\n",
      "1340.244 seconds\n"
     ]
    }
   ],
   "source": [
    "f = open(\"sd/LOG/024.TXT\")\n",
    "for l in f:\n",
    "    print(l, end=\"\")\n",
    "    if not l.strip():\n",
    "        break\n",
    "reccounts = dict(zip(\"RQVFGN\", [0]*6))\n",
    "for l in f:\n",
    "    if l[0] == \"Q\":\n",
    "        print(l)\n",
    "    reccounts[l[0]] += 1\n",
    "ms = int(l[2:10], 16)\n",
    "print(ms/1000, \"seconds\")\n",
    "print(reccounts)\n"
   ]
  },
  {
   "cell_type": "code",
   "execution_count": null,
   "metadata": {
    "collapsed": true
   },
   "outputs": [],
   "source": [
    "%fetchfile --binary \"sd/LOG/030.TXT\"\n"
   ]
  }
 ],
 "metadata": {
  "kernelspec": {
   "display_name": "MicroPython - USB",
   "language": "micropython",
   "name": "micropython"
  },
  "language_info": {
   "codemirror_mode": "python",
   "file_extension": ".py",
   "mimetype": "text/python",
   "name": "micropython"
  }
 },
 "nbformat": 4,
 "nbformat_minor": 2
}

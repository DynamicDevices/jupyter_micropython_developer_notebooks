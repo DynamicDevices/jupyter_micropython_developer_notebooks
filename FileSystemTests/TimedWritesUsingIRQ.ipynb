{
 "cells": [
  {
   "cell_type": "code",
   "execution_count": 6,
   "metadata": {},
   "outputs": [
    {
     "name": "stdout",
     "output_type": "stream",
     "text": [
      "\u001b[34mConnecting to --port=/dev/ttyUSB0 --baud=115200 \u001b[0m\n",
      "\u001b[34mReady.\n",
      "\u001b[0m"
     ]
    }
   ],
   "source": [
    "%serialconnect"
   ]
  },
  {
   "cell_type": "code",
   "execution_count": null,
   "metadata": {
    "collapsed": true
   },
   "outputs": [],
   "source": []
  },
  {
   "cell_type": "code",
   "execution_count": null,
   "metadata": {
    "collapsed": true
   },
   "outputs": [],
   "source": []
  },
  {
   "cell_type": "code",
   "execution_count": 7,
   "metadata": {},
   "outputs": [],
   "source": [
    "# set up the timer and buffer of ticks every 10ms\n",
    "import array, time\n",
    "from machine import Timer\n",
    "\n",
    "ntbuff = 40\n",
    "\n",
    "tindex = 0\n",
    "tbuff = array.array(\"I\", range(0,ntbuff))\n",
    "def irqtrigger(timer):\n",
    "    global tindex\n",
    "    t1 = time.ticks_ms()\n",
    "    i = tindex+1\n",
    "    tbuff[(i%ntbuff)] = t1\n",
    "    tindex = i\n",
    "    \n",
    "timer = Timer(0)\n",
    "timer.init(period=10, mode=Timer.PERIODIC, callback=irqtrigger)\n"
   ]
  },
  {
   "cell_type": "code",
   "execution_count": 46,
   "metadata": {},
   "outputs": [
    {
     "name": "stdout",
     "output_type": "stream",
     "text": [
      "85943\r\n"
     ]
    }
   ],
   "source": [
    "print(tindex)"
   ]
  },
  {
   "cell_type": "code",
   "execution_count": 52,
   "metadata": {},
   "outputs": [
    {
     "name": "stdout",
     "output_type": "stream",
     "text": [
      "......"
     ]
    }
   ],
   "source": [
    "# simple version for downloading and plotting\n",
    "import time\n",
    "n = 3000\n",
    "busetriggertimes = True\n",
    "\n",
    "fout = open(\"data5.txt\", \"w\")\n",
    "tindex_old = tindex\n",
    "for i in range(n):\n",
    "    if busetriggertimes:\n",
    "        while tindex_old == tindex:\n",
    "            time.sleep_ms(1)\n",
    "        tindex_old += 1\n",
    "        t = tbuff[(tindex_old%ntbuff)]\n",
    "    else:\n",
    "        t = time.ticks_ms()\n",
    "    fout.write(\"%08d\" % t)\n",
    "fout.close()"
   ]
  },
  {
   "cell_type": "code",
   "execution_count": 53,
   "metadata": {},
   "outputs": [
    {
     "name": "stdout",
     "output_type": "stream",
     "text": [
      "Fetched 24000=24000 bytes from data5.txt.\n"
     ]
    }
   ],
   "source": [
    "%fetchfile --binary data5.txt"
   ]
  },
  {
   "cell_type": "code",
   "execution_count": 55,
   "metadata": {},
   "outputs": [
    {
     "name": "stdout",
     "output_type": "stream",
     "text": [
      "......closetime 94\n",
      "meanshortwrite 9.882058\n",
      "longwrite_ms [(0, 131), (64, 52), (4040, 97), (4096, 99), (4096, 96), (4096, 95), (4096, 98)]\n"
     ]
    }
   ],
   "source": [
    "# self-analyze the data between long and short sequences\n",
    "import time\n",
    "\n",
    "n = 3000\n",
    "longdt = 20\n",
    "busetriggertimes = True\n",
    "\n",
    "fout = open(\"data5.txt\", \"w\")\n",
    "d = [ ]\n",
    "\n",
    "sumdt = 0\n",
    "tindex_old = tindex\n",
    "if busetriggertimes:\n",
    "    t0 = tbuff[(tindex_old%ntbuff)]\n",
    "else:\n",
    "    t0 = time.ticks_ms()\n",
    "    \n",
    "i0 = 0\n",
    "for i in range(n):    \n",
    "    if busetriggertimes:\n",
    "        while tindex_old == tindex:\n",
    "            time.sleep_ms(1)\n",
    "        tindex_old += 1\n",
    "        t = tbuff[(tindex_old%ntbuff)]\n",
    "    else:\n",
    "        t = time.ticks_ms()\n",
    "    \n",
    "    fout.write(\"%08d\" % t)\n",
    "    dt = t-t0\n",
    "    if dt > longdt:\n",
    "        d.append(((i-i0)*8, dt))\n",
    "        i0 = i\n",
    "        if len(d) > 20:\n",
    "            break\n",
    "    else:\n",
    "        sumdt += dt\n",
    "    t0 = t\n",
    "fout.close()\n",
    "t = time.ticks_ms()\n",
    "print(\"closetime\", t-t0)\n",
    "if i == n-1:\n",
    "    print(\"meanshortwrite\", sumdt/(n-len(d)))\n",
    "    print(\"longwrite_ms\", d)\n",
    "else:\n",
    "    print(i, n)\n",
    "    print(d)\n",
    "    "
   ]
  },
  {
   "cell_type": "code",
   "execution_count": 56,
   "metadata": {},
   "outputs": [
    {
     "name": "stdout",
     "output_type": "stream",
     "text": [
      "Fetched 24000=24000 bytes from data5.txt.\n"
     ]
    }
   ],
   "source": [
    "%fetchfile --binary data5.txt"
   ]
  },
  {
   "cell_type": "code",
   "execution_count": null,
   "metadata": {
    "collapsed": true
   },
   "outputs": [],
   "source": []
  }
 ],
 "metadata": {
  "kernelspec": {
   "display_name": "MicroPython - USB",
   "language": "micropython",
   "name": "micropython"
  },
  "language_info": {
   "codemirror_mode": "python",
   "file_extension": ".py",
   "mimetype": "text/python",
   "name": "micropython"
  }
 },
 "nbformat": 4,
 "nbformat_minor": 2
}

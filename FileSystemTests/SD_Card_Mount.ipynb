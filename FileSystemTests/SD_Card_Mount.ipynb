{
 "cells": [
  {
   "cell_type": "code",
   "execution_count": null,
   "metadata": {
    "collapsed": true
   },
   "outputs": [],
   "source": [
    "# Running this on an ESP8266 of type NodeMCU\n",
    "\n",
    "#CLK/SCK <-> SCK (14) <-> D5\n",
    "#DO/MISO <-> MISO (12) <-> D6\n",
    "#DI/MOSI <-> MOSI (13) <-> D7\n",
    "#CS <-> CS (15) <-> D8\n"
   ]
  },
  {
   "cell_type": "code",
   "execution_count": 44,
   "metadata": {},
   "outputs": [
    {
     "name": "stdout",
     "output_type": "stream",
     "text": [
      "serial exception on close write failed: [Errno 5] Input/output error\n",
      "\u001b[34mConnecting to --port=/dev/ttyUSB2 --baud=115200 \u001b[0m\n",
      "\u001b[34mReady.\n",
      "\u001b[0m"
     ]
    }
   ],
   "source": [
    "%serialconnect"
   ]
  },
  {
   "cell_type": "code",
   "execution_count": 74,
   "metadata": {},
   "outputs": [
    {
     "name": "stdout",
     "output_type": "stream",
     "text": [
      "Sent 272 lines (8218 bytes) to sdcard.py.\n"
     ]
    }
   ],
   "source": [
    "%sendtofile --source /home/julian/extrepositories/micropython/drivers/sdcard/sdcard.py"
   ]
  },
  {
   "cell_type": "code",
   "execution_count": 48,
   "metadata": {},
   "outputs": [
    {
     "name": "stdout",
     "output_type": "stream",
     "text": [
      "object <class 'SoftSPI'> is of type type\n",
      "  init -- <function>\n",
      "  deinit -- <function>\n",
      "  read -- <function>\n",
      "  readinto -- <function>\n",
      "  write -- <function>\n",
      "  write_readinto -- <function>\n",
      "  MSB -- 0\n",
      "  LSB -- 1\n"
     ]
    }
   ],
   "source": [
    "import machine\n",
    "help(machine.SPI)"
   ]
  },
  {
   "cell_type": "code",
   "execution_count": null,
   "metadata": {
    "collapsed": true
   },
   "outputs": [],
   "source": []
  },
  {
   "cell_type": "code",
   "execution_count": 32,
   "metadata": {},
   "outputs": [],
   "source": [
    "import machine, sdcard, os\n",
    "sd = sdcard.SDCard(machine.SPI(1), machine.Pin(15))\n",
    "os.mount(sd, '/sd')"
   ]
  },
  {
   "cell_type": "code",
   "execution_count": 33,
   "metadata": {},
   "outputs": [
    {
     "name": "stdout",
     "output_type": "stream",
     "text": [
      "."
     ]
    }
   ],
   "source": [
    "# direct call in a loop has stalls in it\n",
    "import time\n",
    "n = 3000\n",
    "fout = open(\"/sd/data15.txt\", \"w\")\n",
    "for i in range(n):\n",
    "    t = time.ticks_ms()\n",
    "    fout.write(\"%08d\" % t)\n",
    "fout.close()\n"
   ]
  },
  {
   "cell_type": "code",
   "execution_count": 34,
   "metadata": {},
   "outputs": [
    {
     "name": "stdout",
     "output_type": "stream",
     "text": [
      "Fetched 24000=24000 bytes from /sd/data15.txt.\n",
      "Saving file to 'data15.txt'"
     ]
    }
   ],
   "source": [
    "%fetchfile --binary \"/sd/data15.txt\""
   ]
  },
  {
   "cell_type": "code",
   "execution_count": 35,
   "metadata": {
    "collapsed": true
   },
   "outputs": [],
   "source": [
    "# first the ring buffer\n",
    "import array, time\n",
    "nt = 20\n",
    "pt = array.array(\"I\", range(0,nt+2))\n",
    " # [i, tprev, dt, dt, ..., dt]\n",
    "pt[1] = time.ticks_ms()\n",
    "pt[0] = 0\n",
    "def irqtrigger(p):\n",
    "    t1 = time.ticks_ms()\n",
    "    i = pt[0]+1\n",
    "    pt[(i%nt)+2] = t1 # - pt[1]\n",
    "    pt[1] = t1\n",
    "    pt[0] = i\n"
   ]
  },
  {
   "cell_type": "code",
   "execution_count": 36,
   "metadata": {
    "collapsed": true
   },
   "outputs": [],
   "source": [
    "# Set the interrupt timer\n",
    "from machine import Timer\n",
    "timer = Timer(0)\n",
    "timer.init(period=10, mode=Timer.PERIODIC, callback=irqtrigger)\n"
   ]
  },
  {
   "cell_type": "code",
   "execution_count": 41,
   "metadata": {},
   "outputs": [
    {
     "name": "stdout",
     "output_type": "stream",
     "text": [
      "......"
     ]
    }
   ],
   "source": [
    "# Fetch data off the buffer as they arrive and save to file\n",
    "fname = \"/sd/data16.txt\"  \n",
    "fname = \"data17.txt\" # for internal flash\n",
    "import time\n",
    "n = 3000\n",
    "fout = open(fname, \"w\")\n",
    "j = pt[0]\n",
    "for i in range(n):\n",
    "    while j == pt[0]:\n",
    "        time.sleep_ms(2)\n",
    "    while j != pt[0]:\n",
    "        j += 1\n",
    "        fout.write(\"%08d\" % pt[(j%nt)+2])\n",
    "fout.close()\n"
   ]
  },
  {
   "cell_type": "code",
   "execution_count": 38,
   "metadata": {},
   "outputs": [
    {
     "name": "stdout",
     "output_type": "stream",
     "text": [
      "Fetched 25112=25112 bytes from /sd/data16.txt.\n",
      "Saving file to 'data16.txt'"
     ]
    }
   ],
   "source": [
    "%fetchfile --binary \"/sd/data16.txt\""
   ]
  },
  {
   "cell_type": "code",
   "execution_count": 43,
   "metadata": {},
   "outputs": [
    {
     "name": "stdout",
     "output_type": "stream",
     "text": [
      "Fetched 24800=24800 bytes from data17.txt.\n",
      "Saving file to 'data17.txt'"
     ]
    }
   ],
   "source": [
    "%fetchfile --binary \"data17.txt\""
   ]
  },
  {
   "cell_type": "markdown",
   "metadata": {},
   "source": [
    "Plot this using code on the PC notebook\n",
    "\n",
    "```\n",
    "from matplotlib import pyplot as plt\n",
    "%matplotlib inline\n",
    "\n",
    "k = open(\"data15.txt\").read()\n",
    "k = [ int(k[i-8:i])  for i in range(8, len(k), 8) ]\n",
    "k = [a-b  for a,b in zip(k[1:], k)]\n",
    "plt.plot(k)\n",
    "```"
   ]
  },
  {
   "cell_type": "code",
   "execution_count": 30,
   "metadata": {},
   "outputs": [
    {
     "name": "stdout",
     "output_type": "stream",
     "text": [
      "Fetched 24976=24976 bytes from /sd/data16.txt.\n",
      "Saving file to 'data16.txt'"
     ]
    }
   ],
   "source": [
    "%fetchfile --binary \"/sd/data16.txt\""
   ]
  },
  {
   "cell_type": "code",
   "execution_count": null,
   "metadata": {
    "collapsed": true
   },
   "outputs": [],
   "source": []
  },
  {
   "cell_type": "code",
   "execution_count": null,
   "metadata": {
    "collapsed": true
   },
   "outputs": [],
   "source": []
  },
  {
   "cell_type": "code",
   "execution_count": 49,
   "metadata": {},
   "outputs": [
    {
     "name": "stdout",
     "output_type": "stream",
     "text": [
      "\u001b[31m\n",
      "\n",
      "***Connection broken [Input/output error]\n",
      "\u001b[0mYou may need to reconnect\u001b[34m\n",
      "Closing serial Serial<id=0x7f931cd68f98, open=True>(port='/dev/ttyUSB2', baudrate=115200, bytesize=8, parity='N', stopbits=1, timeout=0.5, xonxoff=False, rtscts=False, dsrdtr=False)\n",
      "\u001b[0m\u001b[34mConnecting to --port=/dev/ttyUSB0 --baud=115200 \u001b[0m\n",
      "\u001b[34mReady.\n",
      "\u001b[0m"
     ]
    }
   ],
   "source": [
    "# Try the SD card on the ESP32\n",
    "%serialconnect"
   ]
  },
  {
   "cell_type": "code",
   "execution_count": 66,
   "metadata": {},
   "outputs": [
    {
     "name": "stdout",
     "output_type": "stream",
     "text": [
      "Sent 272 lines (8218 bytes) to sdcard.py.\n"
     ]
    }
   ],
   "source": [
    "%sendtofile --source /home/julian/extrepositories/micropython/drivers/sdcard/sdcard.py"
   ]
  },
  {
   "cell_type": "code",
   "execution_count": 74,
   "metadata": {},
   "outputs": [],
   "source": [
    "from machine import Pin, SPI\n",
    "spi = SPI(sck=Pin(5), mosi=Pin(19), miso=Pin(27))"
   ]
  },
  {
   "cell_type": "code",
   "execution_count": 76,
   "metadata": {},
   "outputs": [],
   "source": [
    "import machine, sdcard, os\n",
    "sd = sdcard.SDCard(spi, machine.Pin(23))\n",
    "os.mount(sd, '/sd')"
   ]
  },
  {
   "cell_type": "code",
   "execution_count": 77,
   "metadata": {},
   "outputs": [
    {
     "name": "stdout",
     "output_type": "stream",
     "text": [
      "."
     ]
    }
   ],
   "source": [
    "# direct call in a loop has stalls in it\n",
    "import time\n",
    "n = 3000\n",
    "fout = open(\"/sd/data25.txt\", \"w\")\n",
    "for i in range(n):\n",
    "    t = time.ticks_ms()\n",
    "    fout.write(\"%08d\" % t)\n",
    "fout.close()\n"
   ]
  },
  {
   "cell_type": "code",
   "execution_count": 78,
   "metadata": {},
   "outputs": [
    {
     "name": "stdout",
     "output_type": "stream",
     "text": [
      "Fetched 24000=24000 bytes from /sd/data25.txt.\n",
      "Saving file to 'data25.txt'"
     ]
    }
   ],
   "source": [
    "%fetchfile --binary \"/sd/data25.txt\""
   ]
  },
  {
   "cell_type": "code",
   "execution_count": 79,
   "metadata": {
    "collapsed": true
   },
   "outputs": [],
   "source": [
    "# first the ring buffer\n",
    "import array, time\n",
    "nt = 20\n",
    "pt = array.array(\"I\", range(0,nt+2))\n",
    " # [i, tprev, dt, dt, ..., dt]\n",
    "pt[1] = time.ticks_ms()\n",
    "pt[0] = 0\n",
    "def irqtrigger(p):\n",
    "    t1 = time.ticks_ms()\n",
    "    i = pt[0]+1\n",
    "    pt[(i%nt)+2] = t1 # - pt[1]\n",
    "    pt[1] = t1\n",
    "    pt[0] = i\n"
   ]
  },
  {
   "cell_type": "code",
   "execution_count": 80,
   "metadata": {
    "collapsed": true
   },
   "outputs": [],
   "source": [
    "# Set the interrupt timer\n",
    "from machine import Timer\n",
    "timer = Timer(0)\n",
    "timer.init(period=10, mode=Timer.PERIODIC, callback=irqtrigger)\n"
   ]
  },
  {
   "cell_type": "code",
   "execution_count": 83,
   "metadata": {},
   "outputs": [
    {
     "name": "stdout",
     "output_type": "stream",
     "text": [
      "......"
     ]
    }
   ],
   "source": [
    "# Fetch data off the buffer as they arrive and save to file\n",
    "fname = \"/sd/data26.txt\"  \n",
    "fname = \"data27.txt\" # for internal flash\n",
    "import time\n",
    "n = 3000\n",
    "fout = open(fname, \"w\")\n",
    "j = pt[0]\n",
    "for i in range(n):\n",
    "    while j == pt[0]:\n",
    "        time.sleep_ms(2)\n",
    "    while j != pt[0]:\n",
    "        j += 1\n",
    "        fout.write(\"%08d\" % pt[(j%nt)+2])\n",
    "fout.close()\n"
   ]
  },
  {
   "cell_type": "code",
   "execution_count": 82,
   "metadata": {},
   "outputs": [
    {
     "name": "stdout",
     "output_type": "stream",
     "text": [
      "Fetched 24368=24368 bytes from /sd/data26.txt.\n",
      "Saving file to 'data26.txt'"
     ]
    }
   ],
   "source": [
    "%fetchfile --binary \"/sd/data26.txt\""
   ]
  },
  {
   "cell_type": "code",
   "execution_count": 84,
   "metadata": {},
   "outputs": [
    {
     "name": "stdout",
     "output_type": "stream",
     "text": [
      "Fetched 24312=24312 bytes from data27.txt.\n",
      "Saving file to 'data27.txt'"
     ]
    }
   ],
   "source": [
    "%fetchfile --binary \"data27.txt\""
   ]
  },
  {
   "cell_type": "code",
   "execution_count": null,
   "metadata": {
    "collapsed": true
   },
   "outputs": [],
   "source": []
  }
 ],
 "metadata": {
  "kernelspec": {
   "display_name": "MicroPython - USB",
   "language": "micropython",
   "name": "micropython"
  },
  "language_info": {
   "codemirror_mode": "python",
   "file_extension": ".py",
   "mimetype": "text/python",
   "name": "micropython"
  }
 },
 "nbformat": 4,
 "nbformat_minor": 2
}

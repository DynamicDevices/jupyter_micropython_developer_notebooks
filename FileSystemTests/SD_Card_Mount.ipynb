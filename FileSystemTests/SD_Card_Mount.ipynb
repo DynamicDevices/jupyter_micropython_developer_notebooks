{
 "cells": [
  {
   "cell_type": "code",
   "execution_count": null,
   "metadata": {
    "collapsed": true
   },
   "outputs": [],
   "source": [
    "# Running this on an ESP8266 of type NodeMCU\n",
    "\n",
    "# For ESP32 see below\n",
    "\n",
    "#CLK/SCK <-> SCK (14) <-> D5\n",
    "#DO/MISO <-> MISO (12) <-> D6\n",
    "#DI/MOSI <-> MOSI (13) <-> D7\n",
    "#CS <-> CS (15) <-> D8\n"
   ]
  },
  {
   "cell_type": "code",
   "execution_count": 12,
   "metadata": {},
   "outputs": [
    {
     "name": "stdout",
     "output_type": "stream",
     "text": [
      "\u001b[34mConnecting to --port=/dev/ttyUSB0 --baud=115200 \u001b[0m\n",
      "\u001b[34mReady.\n",
      "\u001b[0m"
     ]
    }
   ],
   "source": [
    "%serialconnect"
   ]
  },
  {
   "cell_type": "code",
   "execution_count": 2,
   "metadata": {},
   "outputs": [
    {
     "name": "stdout",
     "output_type": "stream",
     "text": [
      "Sent 272 lines (8218 bytes) to sdcard.py.\n"
     ]
    }
   ],
   "source": [
    "%sendtofile --source /home/julian/extrepositories/micropython/drivers/sdcard/sdcard.py"
   ]
  },
  {
   "cell_type": "code",
   "execution_count": 13,
   "metadata": {},
   "outputs": [
    {
     "name": "stdout",
     "output_type": "stream",
     "text": [
      "object <class 'SoftSPI'> is of type type\n",
      "  init -- <function>\n",
      "  deinit -- <function>\n",
      "  read -- <function>\n",
      "  readinto -- <function>\n",
      "  write -- <function>\n",
      "  write_readinto -- <function>\n",
      "  MSB -- 0\n",
      "  LSB -- 1\n"
     ]
    }
   ],
   "source": [
    "import machine\n",
    "help(machine.SPI)"
   ]
  },
  {
   "cell_type": "code",
   "execution_count": 14,
   "metadata": {},
   "outputs": [],
   "source": [
    "import machine, sdcard, os\n",
    "k = machine.SPI(1)\n",
    "sd = sdcard.SDCard(k, machine.Pin(15))\n",
    "os.mount(sd, '/sd')"
   ]
  },
  {
   "cell_type": "code",
   "execution_count": 18,
   "metadata": {},
   "outputs": [
    {
     "name": "stdout",
     "output_type": "stream",
     "text": [
      "object SPI(id=1, baudrate=100000, polarity=0, phase=0, bits=8, firstbit=0, sck=-1, mosi=-1, miso=-1) is of type SPI\n",
      "  init -- <function>\n",
      "  deinit -- <function>\n",
      "  read -- <function>\n",
      "  readinto -- <function>\n",
      "  write -- <function>\n",
      "  write_readinto -- <function>\n",
      "  MSB -- 0\n",
      "  LSB -- 1\n"
     ]
    }
   ],
   "source": [
    "help(k)"
   ]
  },
  {
   "cell_type": "code",
   "execution_count": 16,
   "metadata": {},
   "outputs": [
    {
     "name": "stderr",
     "output_type": "stream",
     "text": [
      "Traceback (most recent call last):\n",
      "  File \"<stdin>\", line 1, in <module>\n",
      "  File \"sdcard.py\", line 54, in __init__\n",
      "  File \"sdcard.py\", line 82, in init_card\n",
      "OSError: no SD card\n"
     ]
    }
   ],
   "source": []
  },
  {
   "cell_type": "code",
   "execution_count": 33,
   "metadata": {},
   "outputs": [
    {
     "name": "stdout",
     "output_type": "stream",
     "text": [
      "."
     ]
    }
   ],
   "source": [
    "# direct call in a loop has stalls in it\n",
    "import time\n",
    "n = 3000\n",
    "fout = open(\"/sd/data15.txt\", \"w\")\n",
    "for i in range(n):\n",
    "    t = time.ticks_ms()\n",
    "    fout.write(\"%08d\" % t)\n",
    "fout.close()\n"
   ]
  },
  {
   "cell_type": "code",
   "execution_count": 34,
   "metadata": {},
   "outputs": [
    {
     "name": "stdout",
     "output_type": "stream",
     "text": [
      "Fetched 24000=24000 bytes from /sd/data15.txt.\n",
      "Saving file to 'data15.txt'"
     ]
    }
   ],
   "source": [
    "%fetchfile --binary \"/sd/data15.txt\""
   ]
  },
  {
   "cell_type": "code",
   "execution_count": 35,
   "metadata": {
    "collapsed": true
   },
   "outputs": [],
   "source": [
    "# first the ring buffer\n",
    "import array, time\n",
    "nt = 20\n",
    "pt = array.array(\"I\", range(0,nt+2))\n",
    " # [i, tprev, dt, dt, ..., dt]\n",
    "pt[1] = time.ticks_ms()\n",
    "pt[0] = 0\n",
    "def irqtrigger(p):\n",
    "    t1 = time.ticks_ms()\n",
    "    i = pt[0]+1\n",
    "    pt[(i%nt)+2] = t1 # - pt[1]\n",
    "    pt[1] = t1\n",
    "    pt[0] = i\n"
   ]
  },
  {
   "cell_type": "code",
   "execution_count": 36,
   "metadata": {
    "collapsed": true
   },
   "outputs": [],
   "source": [
    "# Set the interrupt timer\n",
    "from machine import Timer\n",
    "timer = Timer(0)\n",
    "timer.init(period=10, mode=Timer.PERIODIC, callback=irqtrigger)\n"
   ]
  },
  {
   "cell_type": "code",
   "execution_count": 41,
   "metadata": {},
   "outputs": [
    {
     "name": "stdout",
     "output_type": "stream",
     "text": [
      "......"
     ]
    }
   ],
   "source": [
    "# Fetch data off the buffer as they arrive and save to file\n",
    "fname = \"/sd/data16.txt\"  \n",
    "fname = \"data17.txt\" # for internal flash\n",
    "import time\n",
    "n = 3000\n",
    "fout = open(fname, \"w\")\n",
    "j = pt[0]\n",
    "for i in range(n):\n",
    "    while j == pt[0]:\n",
    "        time.sleep_ms(2)\n",
    "    while j != pt[0]:\n",
    "        j += 1\n",
    "        fout.write(\"%08d\" % pt[(j%nt)+2])\n",
    "fout.close()\n"
   ]
  },
  {
   "cell_type": "code",
   "execution_count": 38,
   "metadata": {},
   "outputs": [
    {
     "name": "stdout",
     "output_type": "stream",
     "text": [
      "Fetched 25112=25112 bytes from /sd/data16.txt.\n",
      "Saving file to 'data16.txt'"
     ]
    }
   ],
   "source": [
    "%fetchfile --binary \"/sd/data16.txt\""
   ]
  },
  {
   "cell_type": "code",
   "execution_count": 43,
   "metadata": {},
   "outputs": [
    {
     "name": "stdout",
     "output_type": "stream",
     "text": [
      "Fetched 24800=24800 bytes from data17.txt.\n",
      "Saving file to 'data17.txt'"
     ]
    }
   ],
   "source": [
    "%fetchfile --binary \"data17.txt\""
   ]
  },
  {
   "cell_type": "markdown",
   "metadata": {},
   "source": [
    "Plot this using code on the PC notebook\n",
    "\n",
    "```\n",
    "from matplotlib import pyplot as plt\n",
    "%matplotlib inline\n",
    "\n",
    "k = open(\"data15.txt\").read()\n",
    "k = [ int(k[i-8:i])  for i in range(8, len(k), 8) ]\n",
    "k = [a-b  for a,b in zip(k[1:], k)]\n",
    "plt.plot(k)\n",
    "```"
   ]
  },
  {
   "cell_type": "code",
   "execution_count": 30,
   "metadata": {},
   "outputs": [
    {
     "name": "stdout",
     "output_type": "stream",
     "text": [
      "Fetched 24976=24976 bytes from /sd/data16.txt.\n",
      "Saving file to 'data16.txt'"
     ]
    }
   ],
   "source": [
    "%fetchfile --binary \"/sd/data16.txt\""
   ]
  },
  {
   "cell_type": "code",
   "execution_count": null,
   "metadata": {
    "collapsed": true
   },
   "outputs": [],
   "source": []
  },
  {
   "cell_type": "code",
   "execution_count": null,
   "metadata": {
    "collapsed": true
   },
   "outputs": [],
   "source": []
  },
  {
   "cell_type": "code",
   "execution_count": 21,
   "metadata": {},
   "outputs": [
    {
     "name": "stdout",
     "output_type": "stream",
     "text": [
      "[leftinbuffer] ['ets Jun  8 2016 00:22:57']\n",
      "[leftinbuffer] ['rst:0x1 (POWERON_RESET),boot:0x17 (SPI_FAST_FLASH_BOOT)']\n",
      "[leftinbuffer] ['configsip: 0, SPIWP:0xee']\n",
      "[leftinbuffer] ['clk_drv:0x00,q_drv:0x00,d_drv:0x00,cs0_drv:0x00,hd_drv:0x00,wp_drv:0x00']\n",
      "[leftinbuffer] ['mode:DIO, clock div:2']\n",
      "[leftinbuffer] ['load:0x3fff0018,len:4']\n",
      "[leftinbuffer] ['load:0x3fff001c,len:4436']\n",
      "[leftinbuffer] ['load:0x40078000,len:0']\n",
      "[leftinbuffer] ['load:0x40078000,len:11816']\n",
      "[leftinbuffer] ['entry 0x4007a9fc']\n",
      "[leftinbuffer] ['Traceback (most recent call last):']\n",
      "[leftinbuffer] ['  File \"main.py\", line 2, in <module>']\n",
      "[leftinbuffer] ['  File \"OLED_driver.py\", line 5, in <module>']\n",
      "[leftinbuffer] ['AssertionError: OLED i2c not found']\n",
      "[leftinbuffer] ['MicroPython v1.9.3-603-gfb7dabb9 on 2018-05-02; ESP32 module with ESP32']\n",
      "[leftinbuffer] ['Type \"help()\" for more information.']\n",
      "[leftinbuffer] ['>>> ']\n",
      "\u001b[34mConnecting to --port=/dev/ttyUSB0 --baud=115200 \u001b[0m\n",
      "\u001b[34mReady.\n",
      "\u001b[0m"
     ]
    }
   ],
   "source": [
    "# Try the SD card on the ESP32\n",
    "%serialconnect"
   ]
  },
  {
   "cell_type": "code",
   "execution_count": 66,
   "metadata": {},
   "outputs": [
    {
     "name": "stdout",
     "output_type": "stream",
     "text": [
      "Sent 272 lines (8218 bytes) to sdcard.py.\n"
     ]
    }
   ],
   "source": [
    "%sendtofile --source /home/julian/extrepositories/micropython/drivers/sdcard/sdcard.py"
   ]
  },
  {
   "cell_type": "code",
   "execution_count": 55,
   "metadata": {
    "collapsed": true
   },
   "outputs": [],
   "source": [
    "from machine import Pin, SPI\n",
    "spi = SPI(sck=Pin(5), mosi=Pin(22), miso=Pin(27))  # should be mosi=Pin19 but is broke on screenless heltec"
   ]
  },
  {
   "cell_type": "code",
   "execution_count": 51,
   "metadata": {},
   "outputs": [
    {
     "name": "stdout",
     "output_type": "stream",
     "text": [
      "0\r\n"
     ]
    }
   ],
   "source": [
    "p = machine.Pin(19, machine.Pin.OUT)\n",
    "p.value(1)\n",
    "print(p.value())"
   ]
  },
  {
   "cell_type": "code",
   "execution_count": 56,
   "metadata": {},
   "outputs": [],
   "source": [
    "sd = sdcard.SDCard(spi, machine.Pin(23))\n"
   ]
  },
  {
   "cell_type": "code",
   "execution_count": 57,
   "metadata": {},
   "outputs": [],
   "source": [
    "import machine, sdcard, os\n",
    "os.mount(sd, '/sd')"
   ]
  },
  {
   "cell_type": "code",
   "execution_count": 60,
   "metadata": {},
   "outputs": [
    {
     "name": "stdout",
     "output_type": "stream",
     "text": [
      "['000.TXT', '001.TXT', '002.TXT', '003.TXT', '004.TXT', '005.TXT', '006.TXT', '007.TXT', '008.TXT', '009.TXT', '010.TXT', '011.TXT', '012.TXT', '013.TXT', '014.TXT', '015.TXT', '016.TXT', '017.TXT', '018.TXT', '019.TXT', '020.TXT', '021.TXT', '022.TXT', '023.TXT', '024.TXT', '025.TXT', '026.TXT', '027.TXT', '028.TXT', '029.TXT', '030.TXT', '031.TXT', '032.TXT']\r\n"
     ]
    }
   ],
   "source": [
    "print(os.listdir(\"/sd/OOU\"))"
   ]
  },
  {
   "cell_type": "code",
   "execution_count": 61,
   "metadata": {},
   "outputs": [
    {
     "name": "stdout",
     "output_type": "stream",
     "text": [
      "Fetched 1226518=1226518 bytes from /sd/OOU/032.txt.\n",
      "Saving file to '032.txt'"
     ]
    }
   ],
   "source": [
    "%fetchfile --binary \"/sd/OOU/032.txt\""
   ]
  },
  {
   "cell_type": "code",
   "execution_count": 77,
   "metadata": {},
   "outputs": [
    {
     "name": "stdout",
     "output_type": "stream",
     "text": [
      "."
     ]
    }
   ],
   "source": [
    "# direct call in a loop has stalls in it\n",
    "import time\n",
    "n = 3000\n",
    "fout = open(\"/sd/data25.txt\", \"w\")\n",
    "for i in range(n):\n",
    "    t = time.ticks_ms()\n",
    "    fout.write(\"%08d\" % t)\n",
    "fout.close()\n"
   ]
  },
  {
   "cell_type": "code",
   "execution_count": 78,
   "metadata": {},
   "outputs": [
    {
     "name": "stdout",
     "output_type": "stream",
     "text": [
      "Fetched 24000=24000 bytes from /sd/data25.txt.\n",
      "Saving file to 'data25.txt'"
     ]
    }
   ],
   "source": [
    "%fetchfile --binary \"/sd/data25.txt\""
   ]
  },
  {
   "cell_type": "code",
   "execution_count": 79,
   "metadata": {
    "collapsed": true
   },
   "outputs": [],
   "source": [
    "# first the ring buffer\n",
    "import array, time\n",
    "nt = 20\n",
    "pt = array.array(\"I\", range(0,nt+2))\n",
    " # [i, tprev, dt, dt, ..., dt]\n",
    "pt[1] = time.ticks_ms()\n",
    "pt[0] = 0\n",
    "def irqtrigger(p):\n",
    "    t1 = time.ticks_ms()\n",
    "    i = pt[0]+1\n",
    "    pt[(i%nt)+2] = t1 # - pt[1]\n",
    "    pt[1] = t1\n",
    "    pt[0] = i\n"
   ]
  },
  {
   "cell_type": "code",
   "execution_count": 80,
   "metadata": {
    "collapsed": true
   },
   "outputs": [],
   "source": [
    "# Set the interrupt timer\n",
    "from machine import Timer\n",
    "timer = Timer(0)\n",
    "timer.init(period=10, mode=Timer.PERIODIC, callback=irqtrigger)\n"
   ]
  },
  {
   "cell_type": "code",
   "execution_count": 83,
   "metadata": {},
   "outputs": [
    {
     "name": "stdout",
     "output_type": "stream",
     "text": [
      "......"
     ]
    }
   ],
   "source": [
    "# Fetch data off the buffer as they arrive and save to file\n",
    "fname = \"/sd/data26.txt\"  \n",
    "fname = \"data27.txt\" # for internal flash\n",
    "import time\n",
    "n = 3000\n",
    "fout = open(fname, \"w\")\n",
    "j = pt[0]\n",
    "for i in range(n):\n",
    "    while j == pt[0]:\n",
    "        time.sleep_ms(2)\n",
    "    while j != pt[0]:\n",
    "        j += 1\n",
    "        fout.write(\"%08d\" % pt[(j%nt)+2])\n",
    "fout.close()\n"
   ]
  },
  {
   "cell_type": "code",
   "execution_count": 82,
   "metadata": {},
   "outputs": [
    {
     "name": "stdout",
     "output_type": "stream",
     "text": [
      "Fetched 24368=24368 bytes from /sd/data26.txt.\n",
      "Saving file to 'data26.txt'"
     ]
    }
   ],
   "source": [
    "%fetchfile --binary \"/sd/data26.txt\""
   ]
  },
  {
   "cell_type": "code",
   "execution_count": 84,
   "metadata": {},
   "outputs": [
    {
     "name": "stdout",
     "output_type": "stream",
     "text": [
      "Fetched 24312=24312 bytes from data27.txt.\n",
      "Saving file to 'data27.txt'"
     ]
    }
   ],
   "source": [
    "%fetchfile --binary \"data27.txt\""
   ]
  },
  {
   "cell_type": "code",
   "execution_count": null,
   "metadata": {
    "collapsed": true
   },
   "outputs": [],
   "source": []
  }
 ],
 "metadata": {
  "kernelspec": {
   "display_name": "MicroPython - USB",
   "language": "micropython",
   "name": "micropython"
  },
  "language_info": {
   "codemirror_mode": "python",
   "file_extension": ".py",
   "mimetype": "text/python",
   "name": "micropython"
  }
 },
 "nbformat": 4,
 "nbformat_minor": 2
}

{
 "cells": [
  {
   "cell_type": "markdown",
   "metadata": {},
   "source": [
    "\n",
    "This is code posted here discussing the 80ms pauses that seem to happen for every block of 4096 bytes\n",
    "https://forum.micropython.org/viewtopic.php?f=18&t=4725&p=27605#p27605\n",
    "\n",
    "### See later cells for attempts at using hardware times\n",
    "\n",
    "Stripdown version that just saves ticks time would be:\n",
    "\n",
    "`fout = open(\"data5.txt\", \"w\")\n",
    "for i in range(n):\n",
    "    t = time.ticks_ms()\n",
    "    fout.write(\"%08d\" % t)\n",
    "fout.close()\n",
    "`\n",
    "\n",
    "`%fetchfile --binary data5.txt`\n",
    "\n",
    "And on the PC to plot the dt of timestamps:\n",
    "\n",
    "`from matplotlib import pyplot as plt\n",
    "%matplotlib inline\n",
    "k = open(\"data5.txt\").read()\n",
    "k = [ int(k[i-8:i])  for i in range(8, len(k), 8) ]\n",
    "k = [a-b  for a,b in zip(k[1:], k)]\n",
    "plt.plot(k)`\n"
   ]
  },
  {
   "cell_type": "code",
   "execution_count": 1,
   "metadata": {},
   "outputs": [
    {
     "name": "stdout",
     "output_type": "stream",
     "text": [
      "\u001b[34mConnecting to --port=/dev/ttyUSB1 --baud=115200 \u001b[0m\n",
      "\u001b[34mReady.\n",
      "\u001b[0m"
     ]
    }
   ],
   "source": [
    "%serialconnect"
   ]
  },
  {
   "cell_type": "code",
   "execution_count": 2,
   "metadata": {},
   "outputs": [
    {
     "name": "stdout",
     "output_type": "stream",
     "text": [
      "closetime 99\n",
      "meanshortwrite 1.337007\n",
      "longwrite_ms [(8, 52), (4096, 98), (4096, 97), (4096, 98), (4096, 96), (4096, 97)]\n"
     ]
    }
   ],
   "source": [
    "import time\n",
    "\n",
    "n = 3000\n",
    "longdt = 20\n",
    "\n",
    "fout = open(\"data5.txt\", \"w\")\n",
    "d = [ ]\n",
    "t0 = time.ticks_ms()\n",
    "\n",
    "sumdt = 0\n",
    "i0 = 0\n",
    "for i in range(n):\n",
    "    t = time.ticks_ms()\n",
    "    fout.write(\"%08d\" % t)\n",
    "    dt = t-t0\n",
    "    if dt > longdt:\n",
    "        d.append(((i-i0)*8, dt))\n",
    "        i0 = i\n",
    "        if len(d) > 20:\n",
    "            break\n",
    "    else:\n",
    "        sumdt += dt\n",
    "    t0 = t\n",
    "fout.close()\n",
    "t = time.ticks_ms()\n",
    "print(\"closetime\", t-t0)\n",
    "if i == n-1:\n",
    "    print(\"meanshortwrite\", sumdt/(n-len(d)))\n",
    "    print(\"longwrite_ms\", d)\n",
    "else:\n",
    "    print(i, n)\n",
    "    print(d)"
   ]
  },
  {
   "cell_type": "code",
   "execution_count": null,
   "metadata": {
    "collapsed": true
   },
   "outputs": [],
   "source": []
  },
  {
   "cell_type": "code",
   "execution_count": null,
   "metadata": {
    "collapsed": true
   },
   "outputs": [],
   "source": []
  },
  {
   "cell_type": "markdown",
   "metadata": {},
   "source": [
    "### Hardware timing code based on this link using a ring buffer\n",
    "\n",
    "https://techtutorialsx.com/2017/10/07/esp32-micropython-timer-interrupts/\n"
   ]
  },
  {
   "cell_type": "code",
   "execution_count": 56,
   "metadata": {},
   "outputs": [
    {
     "name": "stdout",
     "output_type": "stream",
     "text": [
      "serial exception on close write failed: [Errno 5] Input/output error\n",
      "\u001b[34mConnecting to --port=/dev/ttyUSB0 --baud=115200 \u001b[0m\n",
      "\u001b[34mReady.\n",
      "\u001b[0m"
     ]
    }
   ],
   "source": [
    "%serialconnect"
   ]
  },
  {
   "cell_type": "code",
   "execution_count": 58,
   "metadata": {},
   "outputs": [],
   "source": [
    "# first the ring buffer\n",
    "import array, time\n",
    "nt = 40\n",
    "pt = array.array(\"I\", range(0,nt+2))\n",
    " # [i, tprev, dt, dt, ..., dt]\n",
    "pt[1] = time.ticks_ms()\n",
    "pt[0] = 0\n",
    "def irqtrigger(p):\n",
    "    t1 = time.ticks_ms()\n",
    "    i = pt[0]+1\n",
    "    pt[(i%nt)+2] = t1 # - pt[1]\n",
    "    pt[1] = t1\n",
    "    pt[0] = i\n"
   ]
  },
  {
   "cell_type": "code",
   "execution_count": 52,
   "metadata": {},
   "outputs": [
    {
     "name": "stdout",
     "output_type": "stream",
     "text": [
      "2104841 2104842\r\n"
     ]
    }
   ],
   "source": [
    "irqtrigger(1)\n",
    "print(pt[(pt[0]%nt)+2], time.ticks_ms())"
   ]
  },
  {
   "cell_type": "code",
   "execution_count": 43,
   "metadata": {},
   "outputs": [
    {
     "name": "stdout",
     "output_type": "stream",
     "text": [
      "Timer(3ffb5550; alarm_en=1, auto_reload=1, counter_en=0)\r\n"
     ]
    }
   ],
   "source": [
    "timer.deinit()\n",
    "print(timer)"
   ]
  },
  {
   "cell_type": "code",
   "execution_count": 59,
   "metadata": {},
   "outputs": [],
   "source": [
    "from machine import Timer\n",
    "timer = Timer(0)\n",
    "timer.init(period=100, mode=Timer.PERIODIC, callback=irqtrigger)\n"
   ]
  },
  {
   "cell_type": "code",
   "execution_count": 66,
   "metadata": {
    "collapsed": true
   },
   "outputs": [],
   "source": [
    "timer.deinit()\n",
    "timer.init(period=10, mode=Timer.PERIODIC, callback=irqtrigger)\n"
   ]
  },
  {
   "cell_type": "code",
   "execution_count": 71,
   "metadata": {},
   "outputs": [
    {
     "name": "stdout",
     "output_type": "stream",
     "text": [
      "2073\r\n"
     ]
    }
   ],
   "source": [
    "#print(pt[(pt[0]%nt)+2], time.ticks_ms())\n",
    "print(pt[0])\n"
   ]
  },
  {
   "cell_type": "code",
   "execution_count": 74,
   "metadata": {},
   "outputs": [
    {
     "name": "stdout",
     "output_type": "stream",
     "text": [
      "......"
     ]
    }
   ],
   "source": [
    "import time\n",
    "n = 3000\n",
    "fout = open(\"data6.txt\", \"w\")\n",
    "j = pt[0]\n",
    "for i in range(n):\n",
    "    while j == pt[0]:\n",
    "        time.sleep_ms(2)\n",
    "    while j != pt[0]:\n",
    "        j += 1\n",
    "        fout.write(\"%08d\" % pt[(j%nt)+2])\n",
    "fout.close()\n"
   ]
  },
  {
   "cell_type": "code",
   "execution_count": 75,
   "metadata": {},
   "outputs": [
    {
     "name": "stdout",
     "output_type": "stream",
     "text": [
      "Fetched 24336=24336 bytes from data6.txt.\n"
     ]
    }
   ],
   "source": [
    "%fetchfile --binary data6.txt\n",
    "# Looks just as bad in the plotting"
   ]
  },
  {
   "cell_type": "code",
   "execution_count": null,
   "metadata": {
    "collapsed": true
   },
   "outputs": [],
   "source": []
  },
  {
   "cell_type": "code",
   "execution_count": null,
   "metadata": {
    "collapsed": true
   },
   "outputs": [],
   "source": []
  },
  {
   "cell_type": "code",
   "execution_count": null,
   "metadata": {
    "collapsed": true
   },
   "outputs": [],
   "source": [
    "# self-\n",
    "sumdt = 0\n",
    "i0 = 0\n",
    "for i in range(n):\n",
    "    t = time.ticks_ms()\n",
    "    fout.write(\"%08d\" % t)\n",
    "    dt = t-t0\n",
    "    if dt > longdt:\n",
    "        d.append(((i-i0)*8, dt))\n",
    "        i0 = i\n",
    "        if len(d) > 20:\n",
    "            break\n",
    "    else:\n",
    "        sumdt += dt\n",
    "    t0 = t\n",
    "fout.close()\n",
    "t = time.ticks_ms()\n",
    "print(\"closetime\", t-t0)\n",
    "if i == n-1:\n",
    "    print(\"meanshortwrite\", sumdt/(n-len(d)))\n",
    "    print(\"longwrite_ms\", d)\n",
    "else:\n",
    "    print(i, n)\n",
    "    print(d)"
   ]
  },
  {
   "cell_type": "code",
   "execution_count": null,
   "metadata": {
    "collapsed": true
   },
   "outputs": [],
   "source": []
  },
  {
   "cell_type": "code",
   "execution_count": null,
   "metadata": {
    "collapsed": true
   },
   "outputs": [],
   "source": []
  }
 ],
 "metadata": {
  "kernelspec": {
   "display_name": "MicroPython - USB",
   "language": "micropython",
   "name": "micropython"
  },
  "language_info": {
   "codemirror_mode": "python",
   "file_extension": ".py",
   "mimetype": "text/python",
   "name": "micropython"
  }
 },
 "nbformat": 4,
 "nbformat_minor": 2
}

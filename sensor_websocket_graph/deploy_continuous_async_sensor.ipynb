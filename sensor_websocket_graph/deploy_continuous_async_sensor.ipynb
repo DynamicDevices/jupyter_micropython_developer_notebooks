{
 "cells": [
  {
   "cell_type": "code",
   "execution_count": null,
   "metadata": {
    "collapsed": true
   },
   "outputs": [],
   "source": [
    "# next generation of sensor code where the sensors run in their own \n",
    "# loops independently and the websockets dip in to the values\n"
   ]
  },
  {
   "cell_type": "code",
   "execution_count": 198,
   "metadata": {},
   "outputs": [
    {
     "name": "stdout",
     "output_type": "stream",
     "text": [
      "Executing:\n",
      "  esptool.py --port /dev/ttyUSB5 erase_flash\n",
      "\n",
      "esptool.py v2.0\n",
      "Connecting........_\n",
      "Detecting chip type... ESP32\n",
      "Chip is ESP32D0WDQ6 (revision 1)\n",
      "Uploading stub...\n",
      "Running stub...\n",
      "Stub running...\n",
      "Erasing flash (this may take a while)...\n",
      "Chip erase completed successfully in 9.8s\n",
      "Hard resetting...\n",
      "Executing:\n",
      "  esptool.py --port /dev/ttyUSB5 --chip esp32 write_flash -z 0x1000 /home/julian/executables/micropythonbins/esp32-20171129-v1.9.2-445-g84035f0f.bin\n",
      "\n",
      "esptool.py v2.0\n",
      "Connecting........____\n",
      "Chip is ESP32D0WDQ6 (revision 1)\n",
      "Uploading stub...\n",
      "Running stub...\n",
      "Stub running...\n",
      "Configuring flash size...\n",
      "Auto-detected Flash size: 4MB\n",
      "Compressed 936288 bytes to 587492...\n",
      "Wrote 936288 bytes (587492 compressed) at 0x00001000 in 52.4 seconds (effective 143.0 kbit/s)...\n",
      "Hash of data verified.\n",
      "\n",
      "Leaving...\n",
      "Hard resetting...\n"
     ]
    }
   ],
   "source": [
    "%esptool erase\n",
    "%esptool esp32 /home/julian/executables/micropythonbins/esp32-20171129-v1.9.2-445-g84035f0f.bin"
   ]
  },
  {
   "cell_type": "code",
   "execution_count": 2,
   "metadata": {
    "scrolled": true
   },
   "outputs": [
    {
     "name": "stdout",
     "output_type": "stream",
     "text": [
      "\u001b[34mConnecting to --port=/dev/ttyUSB2 --baud=115200 \u001b[0m\n",
      "\u001b[34mReady.\n",
      "\u001b[0m"
     ]
    }
   ],
   "source": [
    "%serialconnect"
   ]
  },
  {
   "cell_type": "code",
   "execution_count": 3,
   "metadata": {},
   "outputs": [
    {
     "name": "stdout",
     "output_type": "stream",
     "text": [
      "Sent 41 lines (2142 bytes) to ds3231.py.\n",
      "Sent 75 lines (2561 bytes) to ms5611.py.\n"
     ]
    }
   ],
   "source": [
    "%sendtofile --quiet --source ../essential_sensor_code/ds3231.py\n",
    "%sendtofile --quiet --source ../essential_sensor_code/ms5611.py\n"
   ]
  },
  {
   "cell_type": "code",
   "execution_count": 5,
   "metadata": {},
   "outputs": [
    {
     "name": "stdout",
     "output_type": "stream",
     "text": [
      "Sent 34 lines (705 bytes) to syslog.py.\n",
      "Sent 34 lines (1042 bytes) to connectwifi.py.\n",
      "Sent 9 lines (327 bytes) to connecthotspot.py.\n"
     ]
    }
   ],
   "source": [
    "%sendtofile --quiet --source ../basicsockets/syslog.py\n",
    "\n",
    "%sendtofile --quiet --source ../wificodes.txt\n",
    "%sendtofile --quiet --source ../basicsockets/connectwifi.py\n",
    "%sendtofile --quiet --source ../basicsockets/connecthotspot.py\n",
    "\n"
   ]
  },
  {
   "cell_type": "code",
   "execution_count": 202,
   "metadata": {},
   "outputs": [
    {
     "name": "stdout",
     "output_type": "stream",
     "text": [
      "Executing:  /home/julian/extrepositories/micropython/mpy-cross/mpy-cross ../async_web_serve/webserve_funcs.py\n",
      "Executing:  /home/julian/extrepositories/micropython/mpy-cross/mpy-cross ../async_web_serve/websocket_funcs.py\n",
      "Sent 4475 bytes in 150 chunks to webserve_funcs.mpy.\n",
      "Sent 2427 bytes in 81 chunks to websocket_funcs.mpy.\n"
     ]
    }
   ],
   "source": [
    "%mpy-cross --set-exe /home/julian/extrepositories/micropython/mpy-cross/mpy-cross\n",
    "\n",
    "%mpy-cross ../async_web_serve/webserve_funcs.py\n",
    "%mpy-cross ../async_web_serve/websocket_funcs.py\n",
    "\n",
    "%sendtofile --quiet --binary --source ../async_web_serve/webserve_funcs.mpy\n",
    "%sendtofile --quiet --binary --source ../async_web_serve/websocket_funcs.mpy\n"
   ]
  },
  {
   "cell_type": "code",
   "execution_count": 203,
   "metadata": {},
   "outputs": [
    {
     "name": "stdout",
     "output_type": "stream",
     "text": [
      "Executing:  /home/julian/extrepositories/micropython/mpy-cross/mpy-cross ../async_web_serve/uasyncio/__init__.py\n",
      "Executing:  /home/julian/extrepositories/micropython/mpy-cross/mpy-cross ../async_web_serve/uasyncio/core.py\n",
      "Executing:  /home/julian/extrepositories/micropython/mpy-cross/mpy-cross ../async_web_serve/uasyncio/synchro.py\n",
      "Sent 6317 bytes in 211 chunks to lib/uasyncio/__init__.mpy.\n",
      "Sent 6352 bytes in 212 chunks to lib/uasyncio/core.mpy.\n",
      "Sent 772 bytes in 26 chunks to lib/uasyncio/synchro.mpy.\n"
     ]
    }
   ],
   "source": [
    "%comment alternative commissioning with mpy files\n",
    "\n",
    "%mpy-cross --set-exe /home/julian/extrepositories/micropython/mpy-cross/mpy-cross\n",
    "\n",
    "%mpy-cross ../async_web_serve/uasyncio/__init__.py\n",
    "%mpy-cross ../async_web_serve/uasyncio/core.py\n",
    "%mpy-cross ../async_web_serve/uasyncio/synchro.py\n",
    "\n",
    "%sendtofile --mkdir --binary --quiet --source ../async_web_serve/uasyncio/__init__.mpy lib/uasyncio/\n",
    "%sendtofile --quiet --binary --source ../async_web_serve/uasyncio/core.mpy             lib/uasyncio/\n",
    "%sendtofile --quiet --binary --source ../async_web_serve/uasyncio/synchro.mpy          lib/uasyncio/\n"
   ]
  },
  {
   "cell_type": "code",
   "execution_count": 9,
   "metadata": {},
   "outputs": [
    {
     "name": "stdout",
     "output_type": "stream",
     "text": [
      "Sent 7999 bytes in 267 chunks to lib/uasyncio/__init__.py.\n",
      "Sent 6960 bytes in 233 chunks to lib/uasyncio/core.py.\n",
      "Sent 846 bytes in 29 chunks to lib/uasyncio/synchro.py.\n"
     ]
    }
   ],
   "source": [
    "# non-mpy versions\n",
    "%sendtofile --mkdir --binary --quiet --source ../async_web_serve/uasyncio/__init__.py lib/uasyncio/\n",
    "%sendtofile --quiet --binary --source ../async_web_serve/uasyncio/core.py             lib/uasyncio/\n",
    "%sendtofile --quiet --binary --source ../async_web_serve/uasyncio/synchro.py          lib/uasyncio/\n",
    "%sendtofile --quiet --binary --source ../async_web_serve/webserve_funcs.py\n",
    "%sendtofile --quiet --binary --source ../async_web_serve/websocket_funcs.py\n",
    "\n"
   ]
  },
  {
   "cell_type": "code",
   "execution_count": 6,
   "metadata": {},
   "outputs": [],
   "source": [
    "%sendtofile --quiet --source ../sensor_websocket_graph/gcanvtest.html\n"
   ]
  },
  {
   "cell_type": "code",
   "execution_count": 7,
   "metadata": {},
   "outputs": [
    {
     "name": "stdout",
     "output_type": "stream",
     "text": [
      "Sent 59 lines (1738 bytes) to lsq_funcs.py.\n"
     ]
    }
   ],
   "source": [
    "%sendtofile --source ../timeseries_analysis/lsq_funcs.py"
   ]
  },
  {
   "cell_type": "code",
   "execution_count": 8,
   "metadata": {},
   "outputs": [
    {
     "name": "stdout",
     "output_type": "stream",
     "text": [
      "Sent 56 lines (1615 bytes) to main.py.\n"
     ]
    }
   ],
   "source": [
    "%sendtofile --source main_wifisetup.py         main.py\n",
    "%sendtofile --append --source main_sensorloop_ms5611.py  main.py\n",
    "%sendtofile --append --source main_handleconnection.py   main.py\n"
   ]
  },
  {
   "cell_type": "code",
   "execution_count": null,
   "metadata": {
    "collapsed": true
   },
   "outputs": [],
   "source": [
    "# use picocom -b115200 /dev/ttyUSB0 to connectand watch work when running from main"
   ]
  },
  {
   "cell_type": "code",
   "execution_count": 259,
   "metadata": {},
   "outputs": [
    {
     "name": "stdout",
     "output_type": "stream",
     "text": [
      "\n",
      "Closing serial Serial<id=0x7f3662a48198, open=True>(port='/dev/ttyUSB0', baudrate=115200, bytesize=8, parity='N', stopbits=1, timeout=0.5, xonxoff=False, rtscts=False, dsrdtr=False)\n"
     ]
    }
   ],
   "source": [
    "%disconnect"
   ]
  },
  {
   "cell_type": "code",
   "execution_count": 256,
   "metadata": {},
   "outputs": [
    {
     "name": "stdout",
     "output_type": "stream",
     "text": [
      "0_21b.dat 0\n",
      "240_2b.dat 0\n",
      "477_2b.dat 0\n"
     ]
    }
   ],
   "source": [
    "import os\n",
    "for l in os.listdir():\n",
    "    if l[-3:] == \"dat\":\n",
    "        print(l, os.stat(l)[6])\n",
    "        os.remove(l)\n",
    "os.remove(\"syslog.txt\")"
   ]
  },
  {
   "cell_type": "code",
   "execution_count": 255,
   "metadata": {},
   "outputs": [
    {
     "name": "stdout",
     "output_type": "stream",
     "text": [
      "\u001b[34mConnecting to Serial /dev/ttyUSB0 baud=115200 \u001b[0m\n",
      "LOG 1 ON 714\n",
      "\n",
      "\n",
      "*** Sending Ctrl-C\n",
      "\n",
      "Traceback (most recent call last):\n",
      "  File \"main.py\", line 28, in <module>\n",
      "  File \"ds3231.py\", line 18, in rtctojsepoch\n",
      "KeyboardInterrupt: \n",
      "MicroPython v1.9.2-445-g84035f0f on 2017-11-29; ESP32 module with ESP32\n",
      "Type \"help()\" for more information.\n",
      ">>> \n",
      ">>>[reboot detected 0]repl is in normal command mode\n",
      "[\\r\\x03\\x03] b'\\r\\n>>> '\n",
      "[\\r\\x01] b'\\r\\n>>> \\r\\nraw REPL; CTRL-B to exit\\r\\n>' "
     ]
    }
   ],
   "source": [
    "%serialconnect"
   ]
  },
  {
   "cell_type": "code",
   "execution_count": 375,
   "metadata": {},
   "outputs": [
    {
     "name": "stdout",
     "output_type": "stream",
     "text": [
      "\n",
      "Closing serial Serial<id=0x7fac210814a8, open=True>(port='/dev/ttyUSB1', baudrate=115200, bytesize=8, parity='N', stopbits=1, timeout=0.5, xonxoff=False, rtscts=False, dsrdtr=False)\n"
     ]
    }
   ],
   "source": [
    "%disconnect"
   ]
  },
  {
   "cell_type": "code",
   "execution_count": 23,
   "metadata": {},
   "outputs": [
    {
     "name": "stdout",
     "output_type": "stream",
     "text": [
      "\u001b[34mConnecting to --port=/dev/ttyUSB2 --baud=115200 \u001b[0m\n",
      "\u001b[34mReady.\n",
      "\u001b[0m"
     ]
    }
   ],
   "source": [
    "%serialconnect"
   ]
  },
  {
   "cell_type": "code",
   "execution_count": 26,
   "metadata": {},
   "outputs": [
    {
     "name": "stdout",
     "output_type": "stream",
     "text": [
      "['boot.py', 'hangspotmain.py', 'OLED_driver.py', 'BlueFly_funcs.py', 'lib', 'SI7021_funcs.py', 'OLED_grapher.py', 'BNO055_funcs.py', 'NewDataLogger_funcs.py', 'main.py', 'device_detection.py', 'TSL561_funcs.py', 'VL53L0X_funcs.py', 'VL6180_funcs.py', 'SDOF_funcs.py', 'SHT31D_funcs.py', 'BME280_funcs.py', 'MLX90621_funcs.py', 'BNO055serial_funcs.py', 'webserve_funcs.py', 'syslog.py', 'ds3231.py', 'ms5611.py', 'connectwifi.py', 'connecthotspot.py', 'lsq_funcs.py', 'syslog.txt', 'wificodes.txt']\r\n"
     ]
    }
   ],
   "source": [
    "print(os.listdir())"
   ]
  },
  {
   "cell_type": "code",
   "execution_count": 24,
   "metadata": {},
   "outputs": [
    {
     "name": "stdout",
     "output_type": "stream",
     "text": [
      "LOG 3 ON 81\n",
      "Scanning wifis: DoESLiverpool, DoESDinky, DoESBackup\n",
      "LOG 6 Strongest wifi DoESLiverpool\n",
      "> auth (b0)\n",
      "> assoc (0)\n",
      "> run (10)\n",
      "LOG 9 Device has ipnumber 10.0.30.226\n"
     ]
    }
   ],
   "source": [
    "from connectwifi import ipnumber\n"
   ]
  },
  {
   "cell_type": "code",
   "execution_count": 25,
   "metadata": {},
   "outputs": [
    {
     "name": "stdout",
     "output_type": "stream",
     "text": [
      "\n",
      "."
     ]
    },
    {
     "name": "stderr",
     "output_type": "stream",
     "text": [
      "Traceback (most recent call last):\n",
      "  File \"<stdin>\", line 15, in <module>\n",
      "ImportError: no module named 'websocket_funcs'\n"
     ]
    }
   ],
   "source": [
    "import time\n",
    "time.sleep(1.0)\n",
    "\n",
    "from syslog import log, elog, powid\n",
    "import os, ustruct, uasyncio\n",
    "\n",
    "from webserve_funcs import servestaticfile\n",
    "from webserve_funcs import servefilelist\n",
    "from webserve_funcs import readhttpheaders\n",
    "\n",
    "from webserve_funcs import recpostsave\n",
    "from webserve_funcs import servemessage\n",
    "from webserve_funcs import convertsavepostfile\n",
    "\n",
    "from websocket_funcs import make_hybi07_header\n",
    "from websocket_funcs import servewebsocket\n",
    "\n",
    "from ms5611 import GetMS5611calibrations, MS5611convert, ams5611read\n",
    "from ds3231 import rtctojsepoch, jsepochtoisodate\n",
    "\n",
    "import machine, array \n",
    "i2c = machine.I2C(scl=machine.Pin(5), sda=machine.Pin(4))\n",
    "\n",
    "greenpin = machine.PWM(machine.Pin(13), freq=1024, duty=40)\n",
    "touchpin = machine.TouchPad(machine.Pin(33))\n",
    "\n",
    "jsepochoffset = rtctojsepoch(i2c, busywaitsec=True) - time.ticks_ms()\n",
    "log(jsepochtoisodate(jsepochoffset))\n",
    "\n",
    "# enable the wifi only if entry is held down on startup\n",
    "ipnumber = \"\"\n",
    "\n",
    "time.sleep_ms(100)\n",
    "from connectwifi import ipnumber\n"
   ]
  },
  {
   "cell_type": "code",
   "execution_count": null,
   "metadata": {
    "collapsed": true
   },
   "outputs": [],
   "source": [
    "# skip this if forcing result when opening from pc\n",
    "for i in range(10):\n",
    "    if touchpin.read() > 1100:\n",
    "        break\n",
    "    greenpin.duty(500 if ((i%2) == 0) else 0)\n",
    "    time.sleep_ms(200)\n",
    "    touchpin.read()\n",
    "else:\n",
    "    # this should be deferred or made on-off\n",
    "    for i in range(20):\n",
    "        greenpin.duty(500 if ((i%2) == 0) else 0)\n",
    "        time.sleep_ms(50)\n",
    "    from connectwifi import ipnumber\n",
    "    #from connecthotspot import ipnumber\n",
    "    for i in range(20):\n",
    "        greenpin.duty(500 if ((i%2) == 0) else 0)\n",
    "        time.sleep_ms(50)\n"
   ]
  },
  {
   "cell_type": "code",
   "execution_count": 188,
   "metadata": {
    "collapsed": true
   },
   "outputs": [],
   "source": [
    "import array, ustruct\n",
    "from lsq_funcs import setpt0, addpt, copylq, mergelq, calcmc, calcrsq, dn\n",
    "\n",
    "lqR = array.array(\"f\", [0]*7)\n",
    "lqA = array.array(\"f\", [0]*7)\n",
    "lqS = array.array(\"f\", [0]*7)\n",
    "nbatch = 32\n",
    "rlimsq = 2.2**2\n",
    "\n",
    "def nextpt(t, v, fout):\n",
    "    if lqR[dn] == 0:\n",
    "        setpt0(lqR, t, v)\n",
    "        return\n",
    "    addpt(lqR, t, v)\n",
    "    if lqR[dn] < nbatch:\n",
    "        return\n",
    "    if lqA[dn] == 0:\n",
    "        copylq(lqA, lqR)\n",
    "        lqR[dn] = 0\n",
    "        return\n",
    "    copylq(lqS, lqA)\n",
    "    mergelq(lqS, lqR)\n",
    "    m, c = calcmc(lqS)\n",
    "    rsq = calcrsq(lqS, m, c)\n",
    "    if rsq > rlimsq:\n",
    "        print(\"rsq\", lqA[dn], rsq)\n",
    "        if fout:\n",
    "            fout.write(ustruct.pack(\"<fffffff\", *lqA))\n",
    "            fout.flush()\n",
    "        copylq(lqA, lqR)\n",
    "    else:\n",
    "        copylq(lqA, lqS)\n",
    "    lqR[dn] = 0\n"
   ]
  },
  {
   "cell_type": "code",
   "execution_count": 189,
   "metadata": {
    "collapsed": true
   },
   "outputs": [],
   "source": [
    "hook_ms5611 = [1, 0, 0, None]\n",
    "\n",
    "async def ams5611():\n",
    "    log(\"Entering ams5611\")\n",
    "    bdat = open(\"b%d_%d.dat\"%(powid, time.ticks_ms()//1000), \"wb\")\n",
    "    nbdat = 0\n",
    "    try:\n",
    "        dc = GetMS5611calibrations(i2c)\n",
    "        readout = bytearray(3)\n",
    "        while hook_ms5611[0]:\n",
    "            await ams5611read(dc, readout, i2c, uasyncio)\n",
    "            t = time.ticks_ms()\n",
    "            hook_ms5611[2] = MS5611convert(dc)\n",
    "            if bdat:\n",
    "                nextpt(t, hook_ms5611[2], bdat)\n",
    "                nbdat += 1\n",
    "                if nbdat > 10000:\n",
    "                    bdat.close()\n",
    "                    bdat = None\n",
    "            if hook_ms5611[3]:  # dump out to logfile here (if open)\n",
    "                hook_ms5611[3].write(ustruct.pack(\"<II\", hook_ms5611[1], hook_ms5611[2]))\n",
    "                if (hook_ms5611[1]>>13) != (t>>13):   # 8 seconds\n",
    "                    hook_ms5611[3].flush()\n",
    "            hook_ms5611[1] = t\n",
    "            greenpin.duty((t%500) if hook_ms5611[3] or (((t//500)%3) == 0) else 0)\n",
    "    except Exception as e:\n",
    "        elog(e)\n",
    "    hook_ms5611[0] = -1\n",
    "    log(\"Leaving ams5611\")\n",
    "\n",
    "# waits and looks to detect the touchpin touched\n",
    "async def createLogFile():\n",
    "    ti = 0\n",
    "    while hook_ms5611:\n",
    "        ti = (ti + 1  if touchpin.read()<1100  else 0)\n",
    "        if ti > 3:\n",
    "            log(\"making datfile\")\n",
    "            hook_ms5611[3] = open(\"%d_%d.dat\"%(powid, time.ticks_ms()//1000), \"wb\")\n",
    "            for i in range(12*10):    # 10 minutes \n",
    "                await uasyncio.sleep_ms(5*1000)   # 5 second chunks\n",
    "                if touchpin.read()<1100:\n",
    "                    break   # break early\n",
    "            hook_ms5611[3].close()\n",
    "            hook_ms5611[3] = None\n",
    "        await uasyncio.sleep_ms(50)\n",
    "    \n"
   ]
  },
  {
   "cell_type": "code",
   "execution_count": 190,
   "metadata": {
    "collapsed": true
   },
   "outputs": [],
   "source": [
    "# coroutine for handling the write loop (and closing when note comes through thr reader)\n",
    "async def wswritesensorloop(rpath, writer, wscondition):\n",
    "    rpath = rpath.split(\",\")\n",
    "    \n",
    "    delayms = int(rpath[1])\n",
    "    hexbuff = bytearray(16)\n",
    "    #if rpath[0] == \"bme280\":\n",
    "    try:\n",
    "        while wscondition[1]:\n",
    "            while len(wscondition) > 2:\n",
    "                incoming = wscondition.pop(2)\n",
    "                log(\"[WS%d incoming] %s\"%(wscondition[0], incoming))\n",
    "                \n",
    "            await writer.awrite(make_hybi07_header(16))\n",
    "            ustruct.pack_into(\">II\", hexbuff, 8, hook_ms5611[1], hook_ms5611[2])\n",
    "            for i in range(8):\n",
    "                b = hexbuff[i+8]\n",
    "                hexbuff[i*2] = (b>>4) + (48 if b < 160 else 55)  #ord('0')=48; ord('A')=65\n",
    "                b &= 15\n",
    "                hexbuff[i*2+1] = b + (48 if b < 10 else 55)\n",
    "            await writer.awrite(hexbuff)\n",
    "            await uasyncio.sleep_ms(delayms)\n",
    "            \n",
    "    except OSError as e:\n",
    "        elog(e)\n",
    "        wscondition[1] = 1\n",
    "    log(\"[WS%d wpleave]\"%wscondition[0])\n",
    "\n"
   ]
  },
  {
   "cell_type": "code",
   "execution_count": 191,
   "metadata": {
    "collapsed": true
   },
   "outputs": [],
   "source": [
    "async def handleconnection(reader, writer):\n",
    "    receivedrequest = await readhttpheaders(reader)\n",
    "    log(receivedrequest)\n",
    "    \n",
    "    if \"POST\" in receivedrequest:   # this is causing the str and binary comparison warning\n",
    "        await recpostsave(receivedrequest, reader, \"POSTUPLOAD.txt\")\n",
    "        await servemessage(writer, \"done\")\n",
    "        await writer.aclose()\n",
    "        #await reader.aclose()  # this gets a keyerror\n",
    "        convertsavepostfile(\"POSTUPLOAD.txt\")\n",
    "        return\n",
    "    \n",
    "    rpath = receivedrequest.get(\"GET\")\n",
    "    \n",
    "    bcallaclose = True\n",
    "    if \"WebSocketKey\" in receivedrequest:\n",
    "        bcallaclose = await servewebsocket(rpath, reader, writer, receivedrequest[\"WebSocketKey\"], wswritesensorloop)\n",
    "    elif rpath is None:\n",
    "        pass\n",
    "    elif rpath == \"\":\n",
    "        await servefilelist(writer)\n",
    "    else:\n",
    "        await servestaticfile(writer, rpath)\n",
    "        \n",
    "    if bcallaclose:\n",
    "        await writer.aclose()\n",
    "\n",
    "\n",
    "import gc\n",
    "async def garbagecollect():\n",
    "    while True:\n",
    "        gc.collect()\n",
    "        await uasyncio.sleep_ms(20000)\n",
    "\n"
   ]
  },
  {
   "cell_type": "code",
   "execution_count": 192,
   "metadata": {},
   "outputs": [
    {
     "name": "stdout",
     "output_type": "stream",
     "text": [
      "Will listen on http://192.168.0.162:80/\r\n"
     ]
    }
   ],
   "source": [
    "\n",
    "# enables rewriting handleconnection function without restarting\n",
    "def handleconnection_indirect(reader, writer):\n",
    "    try:\n",
    "        return handleconnection(reader, writer)\n",
    "    except OSError as e:\n",
    "        print(\"handleconnection exception\", str(e))\n",
    "    \n",
    "\n",
    "port = 80\n",
    "loop = uasyncio.get_event_loop()\n",
    "loop.create_task(garbagecollect())\n",
    "if ipnumber:\n",
    "    print(\"Will listen on http://%s:%s/\" % (ipnumber, port))\n",
    "    loop.create_task(uasyncio.start_server(handleconnection_indirect, ipnumber, port))\n",
    "loop.create_task(ams5611())\n",
    "loop.create_task(createLogFile())\n",
    "\n",
    "\n"
   ]
  },
  {
   "cell_type": "code",
   "execution_count": 34,
   "metadata": {
    "collapsed": true
   },
   "outputs": [],
   "source": [
    "#loop.create_task(abme280(i2c, hook_bme280))\n",
    "#loop.create_task(uasyncio.start_server(handleconnection_indirect, ipnumber, port))\n"
   ]
  },
  {
   "cell_type": "code",
   "execution_count": 193,
   "metadata": {},
   "outputs": [
    {
     "name": "stdout",
     "output_type": "stream",
     "text": [
      "LOG 82 Entering ams5611 \n",
      "LOG 85 {'GET': ''} \n",
      ".LOG 89 {} \n",
      "LOG 90 {'GET': ''} \n",
      ".LOG 95 {'GET': ''} \n",
      ".rsq 320.0 9.76129e+07\n",
      "LOG 100 {'GET': ''} \n",
      "rsq 32.0 1.342177e+08\n",
      ".rsq 96.0 1.342177e+08\n",
      ".rsq 160.0 8.947848e+07\n",
      ".rsq 96.0 1.342177e+08\n",
      ".rsq 64.0 8.947848e+07\n",
      "...rsq 320.0 9.76129e+07\n",
      "rsq 64.0 8.947848e+07\n",
      "...............LOG 211 {'GET': 'gcanvtest.html'} \n",
      "LOG 211 File 'gcanvtest.html' (6239 bytes) served in 272ms \n",
      "LOG 212 {'WebSocketKey': b'piPRYtggaOcI97bK+RsLOw==', 'GET': 'bme280,50'} \n",
      "Warning: Comparison between bytes and str\n",
      "LOG 212 [WS0] b'Hello'\n",
      "LOG 212 [WS0 incoming] b'Hello' \n",
      "LOG 216 [WS0 close] \n",
      "LOG 216 [WS0 rlleave] \n",
      "LOG 216 [WS0 wpleave] \n",
      ".LOG 219 {'GET': ''} \n",
      ".\n",
      "\n",
      "*** Sending Ctrl-C\n",
      "\n"
     ]
    },
    {
     "name": "stderr",
     "output_type": "stream",
     "text": [
      "Traceback (most recent call last):\n",
      "  File \"<stdin>\", line 3, in <module>\n",
      "  File \"../async_web_serve/uasyncio/core.py\", line 65, in run_forever\n",
      "  File \"../async_web_serve/uasyncio/__init__.py\", line 69, in wait\n",
      "KeyboardInterrupt: \n"
     ]
    }
   ],
   "source": [
    "#%sendtofile --append main.py\n",
    "\n",
    "loop.run_forever()\n"
   ]
  },
  {
   "cell_type": "code",
   "execution_count": 353,
   "metadata": {},
   "outputs": [
    {
     "name": "stdout",
     "output_type": "stream",
     "text": [
      "Sent 214 lines (6237 bytes) to gcanvtest.html.\n"
     ]
    }
   ],
   "source": [
    "%sendtofile --source gcanvtest.html"
   ]
  },
  {
   "cell_type": "code",
   "execution_count": 301,
   "metadata": {},
   "outputs": [
    {
     "name": "stdout",
     "output_type": "stream",
     "text": [
      "object <module 'gc'> is of type module\n",
      "  __name__ -- gc\n",
      "  collect -- <function>\n",
      "  disable -- <function>\n",
      "  enable -- <function>\n",
      "  isenabled -- <function>\n",
      "  mem_free -- <function>\n",
      "  mem_alloc -- <function>\n",
      "  threshold -- <function>\n",
      "55504 40496\n"
     ]
    }
   ],
   "source": [
    "help(gc)\n",
    "print(gc.mem_alloc(), gc.mem_free())"
   ]
  },
  {
   "cell_type": "code",
   "execution_count": 176,
   "metadata": {},
   "outputs": [
    {
     "name": "stdout",
     "output_type": "stream",
     "text": [
      "\u001b[34mConnecting to Serial /dev/ttyUSB0 baud=115200 \u001b[0m\n",
      "OSError: [Errno 2] ENOENT\n",
      "MicroPython v1.9.2-443-g236297f4 on 2017-11-06; ESP32 module with ESP32\n",
      "Type \"help()\" for more information.\n",
      ">>>[reboot detected 0]repl is in normal command mode\n",
      "[\\r\\x03\\x03] b'\\r\\n>>> '\n",
      "[\\r\\x01] b'\\r\\n>>> \\r\\nraw REPL; CTRL-B to exit\\r\\n>' \u001b[34mReady.\n",
      "\u001b[0m"
     ]
    }
   ],
   "source": [
    "%serialconnect"
   ]
  },
  {
   "cell_type": "code",
   "execution_count": 219,
   "metadata": {},
   "outputs": [
    {
     "name": "stdout",
     "output_type": "stream",
     "text": [
      "\n",
      "Closing serial Serial<id=0x7fac210814a8, open=True>(port='/dev/ttyUSB1', baudrate=115200, bytesize=8, parity='N', stopbits=1, timeout=0.5, xonxoff=False, rtscts=False, dsrdtr=False)\n"
     ]
    }
   ],
   "source": [
    "%disconnect"
   ]
  },
  {
   "cell_type": "code",
   "execution_count": null,
   "metadata": {
    "collapsed": true
   },
   "outputs": [],
   "source": []
  },
  {
   "cell_type": "code",
   "execution_count": null,
   "metadata": {
    "collapsed": true
   },
   "outputs": [],
   "source": []
  },
  {
   "cell_type": "code",
   "execution_count": null,
   "metadata": {
    "collapsed": true
   },
   "outputs": [],
   "source": []
  },
  {
   "cell_type": "code",
   "execution_count": null,
   "metadata": {
    "collapsed": true
   },
   "outputs": [],
   "source": [
    "# check the reproducibility of the lsq code"
   ]
  },
  {
   "cell_type": "code",
   "execution_count": null,
   "metadata": {
    "collapsed": true
   },
   "outputs": [],
   "source": [
    "import array, ustruct\n",
    "from lsq_funcs import setpt0, addpt, copylq, mergelq, calcmc, calcrsq, dn\n",
    "dy0 = 7\n",
    "\n",
    "lqR = array.array(\"f\", [0]*8)\n",
    "lqA = array.array(\"f\", [0]*8)\n",
    "lqS = array.array(\"f\", [0]*8)\n",
    "nbatch = 32\n",
    "rlimsq = 2.2**2\n",
    "\n",
    "def nextpt(t, v):\n",
    "    if lqR[dn] == 0:\n",
    "        setpt0(lqR, t, v)\n",
    "        return\n",
    "    addpt(lqR, t, v)\n",
    "    if lqR[dn] < nbatch:\n",
    "        return\n",
    "    if lqA[dn] == 0:\n",
    "        copylq(lqA, lqR)\n",
    "        lqR[dn] = 0\n",
    "        return None\n",
    "    res = None\n",
    "    copylq(lqS, lqA)\n",
    "    mergelq(lqS, lqR)\n",
    "    m, c = calcmc(lqS)\n",
    "    rsq = calcrsq(lqS, m, c)\n",
    "    if rsq > rlimsq:\n",
    "        print(\"rsq\", lqA[dn], rsq)\n",
    "        res = array.array(\"f\", lqA)\n",
    "        copylq(lqA, lqR)\n",
    "    else:\n",
    "        copylq(lqA, lqS)\n",
    "    lqR[dn] = 0\n",
    "    return res\n"
   ]
  },
  {
   "cell_type": "code",
   "execution_count": 216,
   "metadata": {},
   "outputs": [
    {
     "name": "stdout",
     "output_type": "stream",
     "text": [
      "['boot.py', 'ds3231.py', 'ms5611.py', 'syslog.py', 'wificodes.txt', 'connectwifi.py', 'connecthotspot.py', 'webserve_funcs.mpy', 'websocket_funcs.mpy', 'lib', 'gcanvtest.html', 'lsq_funcs.py', 'main.py', 'syslog.txt', 'b0_6.dat', 'b60_7.dat', '60_246.dat', 'b585_2.dat', '585_3382.dat', 'b667_6.dat', 'b985_2.dat']\r\n"
     ]
    }
   ],
   "source": [
    "import os\n",
    "print(os.listdir())\n"
   ]
  },
  {
   "cell_type": "code",
   "execution_count": 217,
   "metadata": {
    "collapsed": true
   },
   "outputs": [],
   "source": [
    "fin = open('60_246.dat', \"rb\")"
   ]
  },
  {
   "cell_type": "code",
   "execution_count": 228,
   "metadata": {},
   "outputs": [
    {
     "name": "stdout",
     "output_type": "stream",
     "text": [
      "246846 102345.1\r\n"
     ]
    }
   ],
   "source": [
    "t, v = ustruct.unpack(\"<II\", fin.read(8))\n",
    "print(t, v/256)\n"
   ]
  },
  {
   "cell_type": "code",
   "execution_count": 230,
   "metadata": {
    "collapsed": true
   },
   "outputs": [],
   "source": [
    "x = array.array(\"q\", [0])\n"
   ]
  },
  {
   "cell_type": "code",
   "execution_count": 235,
   "metadata": {},
   "outputs": [
    {
     "name": "stdout",
     "output_type": "stream",
     "text": [
      "array('q', [-5828369621610135552]) 400000000000000000000 0x15af1d78b58c400000\r\n"
     ]
    }
   ],
   "source": [
    "y = 20000000000**2\n",
    "x[0] = y\n",
    "print(x, y, hex(y))\n"
   ]
  },
  {
   "cell_type": "code",
   "execution_count": null,
   "metadata": {
    "collapsed": true
   },
   "outputs": [],
   "source": []
  }
 ],
 "metadata": {
  "kernelspec": {
   "display_name": "MicroPython - USB",
   "language": "micropython",
   "name": "micropython"
  },
  "language_info": {
   "codemirror_mode": "python",
   "file_extension": ".py",
   "mimetype": "text/python",
   "name": "micropython"
  }
 },
 "nbformat": 4,
 "nbformat_minor": 2
}

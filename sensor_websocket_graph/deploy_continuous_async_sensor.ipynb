{
 "cells": [
  {
   "cell_type": "code",
   "execution_count": null,
   "metadata": {
    "collapsed": true
   },
   "outputs": [],
   "source": [
    "# next generation of sensor code where the sensors run in their own \n",
    "# loops independently and the websockets dip in to the values\n"
   ]
  },
  {
   "cell_type": "code",
   "execution_count": 180,
   "metadata": {
    "scrolled": true
   },
   "outputs": [
    {
     "name": "stdout",
     "output_type": "stream",
     "text": [
      "\u001b[34mConnecting to Serial /dev/ttyUSB0 baud=115200 \u001b[0m\n",
      "\u001b[34mReady.\n",
      "\u001b[0m"
     ]
    }
   ],
   "source": [
    "%serialconnect"
   ]
  },
  {
   "cell_type": "code",
   "execution_count": 181,
   "metadata": {},
   "outputs": [
    {
     "name": "stdout",
     "output_type": "stream",
     "text": [
      "Sent 41 lines (2142 bytes) to ds3231.py.\n",
      "Sent 75 lines (2561 bytes) to ms5611.py.\n"
     ]
    }
   ],
   "source": [
    "%sendtofile --quiet --source ../essential_sensor_code/ds3231.py\n",
    "%sendtofile --quiet --source ../essential_sensor_code/ms5611.py\n"
   ]
  },
  {
   "cell_type": "code",
   "execution_count": 182,
   "metadata": {},
   "outputs": [
    {
     "name": "stdout",
     "output_type": "stream",
     "text": [
      "Sent 34 lines (705 bytes) to syslog.py.\n",
      "Sent 4 lines (87 bytes) to wificodes.txt.\n",
      "Sent 34 lines (1042 bytes) to connectwifi.py.\n",
      "Sent 9 lines (327 bytes) to connecthotspot.py.\n"
     ]
    }
   ],
   "source": [
    "%sendtofile --quiet --source ../basicsockets/syslog.py\n",
    "\n",
    "%sendtofile --quiet --source ../wificodes.txt\n",
    "%sendtofile --quiet --source ../basicsockets/connectwifi.py\n",
    "%sendtofile --quiet --source ../basicsockets/connecthotspot.py\n",
    "\n"
   ]
  },
  {
   "cell_type": "code",
   "execution_count": 183,
   "metadata": {},
   "outputs": [
    {
     "name": "stdout",
     "output_type": "stream",
     "text": [
      "Executing:  /home/julian/extrepositories/micropython/mpy-cross/mpy-cross ../async_web_serve/webserve_funcs.py\n",
      "Executing:  /home/julian/extrepositories/micropython/mpy-cross/mpy-cross ../async_web_serve/websocket_funcs.py\n",
      "Sent 4475 bytes in 150 chunks to webserve_funcs.mpy.\n",
      "Sent 2427 bytes in 81 chunks to websocket_funcs.mpy.\n"
     ]
    }
   ],
   "source": [
    "%mpy-cross --set-exe /home/julian/extrepositories/micropython/mpy-cross/mpy-cross\n",
    "\n",
    "%mpy-cross ../async_web_serve/webserve_funcs.py\n",
    "%mpy-cross ../async_web_serve/websocket_funcs.py\n",
    "\n",
    "%sendtofile --quiet --binary --source ../async_web_serve/webserve_funcs.mpy\n",
    "%sendtofile --quiet --binary --source ../async_web_serve/websocket_funcs.mpy\n"
   ]
  },
  {
   "cell_type": "code",
   "execution_count": 184,
   "metadata": {},
   "outputs": [
    {
     "name": "stdout",
     "output_type": "stream",
     "text": [
      "Executing:  /home/julian/extrepositories/micropython/mpy-cross/mpy-cross ../async_web_serve/uasyncio/__init__.py\n",
      "Executing:  /home/julian/extrepositories/micropython/mpy-cross/mpy-cross ../async_web_serve/uasyncio/core.py\n",
      "Executing:  /home/julian/extrepositories/micropython/mpy-cross/mpy-cross ../async_web_serve/uasyncio/synchro.py\n",
      "Sent 6317 bytes in 211 chunks to lib/uasyncio/__init__.mpy.\n",
      "Sent 6352 bytes in 212 chunks to lib/uasyncio/core.mpy.\n",
      "Sent 772 bytes in 26 chunks to lib/uasyncio/synchro.mpy.\n"
     ]
    }
   ],
   "source": [
    "%comment alternative commissioning with mpy files\n",
    "\n",
    "%mpy-cross --set-exe /home/julian/extrepositories/micropython/mpy-cross/mpy-cross\n",
    "\n",
    "%mpy-cross ../async_web_serve/uasyncio/__init__.py\n",
    "%mpy-cross ../async_web_serve/uasyncio/core.py\n",
    "%mpy-cross ../async_web_serve/uasyncio/synchro.py\n",
    "\n",
    "%sendtofile --mkdir --binary --quiet --source ../async_web_serve/uasyncio/__init__.mpy lib/uasyncio/\n",
    "%sendtofile --quiet --binary --source ../async_web_serve/uasyncio/core.mpy             lib/uasyncio/\n",
    "%sendtofile --quiet --binary --source ../async_web_serve/uasyncio/synchro.mpy          lib/uasyncio/\n"
   ]
  },
  {
   "cell_type": "code",
   "execution_count": 185,
   "metadata": {},
   "outputs": [
    {
     "name": "stdout",
     "output_type": "stream",
     "text": [
      "Sent 214 lines (6238 bytes) to gcanvtest.html.\n"
     ]
    }
   ],
   "source": [
    "%sendtofile --quiet --source ../sensor_websocket_graph/gcanvtest.html\n"
   ]
  },
  {
   "cell_type": "code",
   "execution_count": 186,
   "metadata": {},
   "outputs": [
    {
     "name": "stdout",
     "output_type": "stream",
     "text": [
      "Sent 45 lines (1416 bytes) to lsq_funcs.py.\n"
     ]
    }
   ],
   "source": [
    "%sendtofile --source ../timeseries_analysis/lsq_funcs.py"
   ]
  },
  {
   "cell_type": "code",
   "execution_count": 194,
   "metadata": {},
   "outputs": [
    {
     "name": "stdout",
     "output_type": "stream",
     "text": [
      "Sent 219 lines (6624 bytes) to main.py.\n"
     ]
    }
   ],
   "source": [
    "%sendtofile --source main.py"
   ]
  },
  {
   "cell_type": "code",
   "execution_count": null,
   "metadata": {
    "collapsed": true
   },
   "outputs": [],
   "source": [
    "# use picocom -b115200 /dev/ttyUSB0 to connectand watch work when running from main"
   ]
  },
  {
   "cell_type": "code",
   "execution_count": 378,
   "metadata": {},
   "outputs": [
    {
     "name": "stdout",
     "output_type": "stream",
     "text": [
      "\n",
      "Closing serial Serial<id=0x7fac245de4a8, open=True>(port='/dev/ttyUSB1', baudrate=115200, bytesize=8, parity='N', stopbits=1, timeout=0.5, xonxoff=False, rtscts=False, dsrdtr=False)\n"
     ]
    }
   ],
   "source": [
    "%disconnect"
   ]
  },
  {
   "cell_type": "code",
   "execution_count": 164,
   "metadata": {},
   "outputs": [],
   "source": [
    "import os\n",
    "for l in os.listdir():\n",
    "    if l[-3:] == \"dat\":\n",
    "        print(l, os.stat(l)[6])\n",
    "        os.remove(l)\n",
    "os.remove(\"syslog.txt\")"
   ]
  },
  {
   "cell_type": "code",
   "execution_count": 382,
   "metadata": {},
   "outputs": [
    {
     "name": "stdout",
     "output_type": "stream",
     "text": [
      "Sent 178 lines (5591 bytes) to main.py.\n"
     ]
    }
   ],
   "source": [
    "%sendtofile --source main.py"
   ]
  },
  {
   "cell_type": "code",
   "execution_count": 375,
   "metadata": {},
   "outputs": [
    {
     "name": "stdout",
     "output_type": "stream",
     "text": [
      "\n",
      "Closing serial Serial<id=0x7fac210814a8, open=True>(port='/dev/ttyUSB1', baudrate=115200, bytesize=8, parity='N', stopbits=1, timeout=0.5, xonxoff=False, rtscts=False, dsrdtr=False)\n"
     ]
    }
   ],
   "source": [
    "%disconnect"
   ]
  },
  {
   "cell_type": "code",
   "execution_count": 146,
   "metadata": {},
   "outputs": [
    {
     "name": "stdout",
     "output_type": "stream",
     "text": [
      "\u001b[34mConnecting to Serial /dev/ttyUSB0 baud=115200 \u001b[0m\n",
      "\u001b[34mReady.\n",
      "\u001b[0m"
     ]
    }
   ],
   "source": [
    "%serialconnect"
   ]
  },
  {
   "cell_type": "code",
   "execution_count": 147,
   "metadata": {},
   "outputs": [
    {
     "name": "stdout",
     "output_type": "stream",
     "text": [
      "LOG 9 ON 8392\n",
      "Scanning wifis: DoESLiverpool, DoESDinky, DoESBackup, BV6000\n",
      "LOG 12 Strongest wifi DoESBackup\n",
      "> auth (b0)\n",
      "> assoc (0)\n",
      "> run (10)\n",
      "..LOG 22 Device has ipnumber 192.168.0.162\n"
     ]
    }
   ],
   "source": [
    "from connectwifi import ipnumber\n"
   ]
  },
  {
   "cell_type": "code",
   "execution_count": 187,
   "metadata": {},
   "outputs": [
    {
     "name": "stdout",
     "output_type": "stream",
     "text": [
      "LOG 51 ON 0\n",
      "LOG 52 2017-11-28T20:01:38.854 \n",
      "\u001b[0;33mW (68062) phy_init: failed to load RF calibration data (0x1102), falling back to full calibration\u001b[0m\n",
      "Scanning wifis: DoESLiverpool, DoESDinky, DoESBackup, BV6000\n",
      "LOG 55 Strongest wifi DoESLiverpool\n",
      ".> auth (b0)\n",
      "> assoc (0)\n",
      "> run (10)\n",
      "\n",
      ".LOG 63 Device has ipnumber 192.168.0.162\n"
     ]
    }
   ],
   "source": [
    "import time\n",
    "time.sleep(1.0)\n",
    "\n",
    "from syslog import log, elog, powid\n",
    "import os, ustruct, uasyncio\n",
    "\n",
    "from webserve_funcs import servestaticfile\n",
    "from webserve_funcs import servefilelist\n",
    "from webserve_funcs import readhttpheaders\n",
    "\n",
    "from webserve_funcs import recpostsave\n",
    "from webserve_funcs import servemessage\n",
    "from webserve_funcs import convertsavepostfile\n",
    "\n",
    "from websocket_funcs import make_hybi07_header\n",
    "from websocket_funcs import servewebsocket\n",
    "\n",
    "from ms5611 import GetMS5611calibrations, MS5611convert, ams5611read\n",
    "from ds3231 import rtctojsepoch, jsepochtoisodate\n",
    "\n",
    "import machine, array \n",
    "i2c = machine.I2C(scl=machine.Pin(5), sda=machine.Pin(4))\n",
    "\n",
    "greenpin = machine.PWM(machine.Pin(13), freq=1024, duty=40)\n",
    "touchpin = machine.TouchPad(machine.Pin(33))\n",
    "\n",
    "jsepochoffset = rtctojsepoch(i2c, busywaitsec=True) - time.ticks_ms()\n",
    "log(jsepochtoisodate(jsepochoffset))\n",
    "\n",
    "# enable the wifi only if entry is held down on startup\n",
    "ipnumber = \"\"\n",
    "\n",
    "time.sleep_ms(100)\n",
    "from connectwifi import ipnumber\n"
   ]
  },
  {
   "cell_type": "code",
   "execution_count": null,
   "metadata": {
    "collapsed": true
   },
   "outputs": [],
   "source": [
    "# skip this if forcing result when opening from pc\n",
    "for i in range(10):\n",
    "    if touchpin.read() > 1100:\n",
    "        break\n",
    "    greenpin.duty(500 if ((i%2) == 0) else 0)\n",
    "    time.sleep_ms(200)\n",
    "    touchpin.read()\n",
    "else:\n",
    "    # this should be deferred or made on-off\n",
    "    for i in range(20):\n",
    "        greenpin.duty(500 if ((i%2) == 0) else 0)\n",
    "        time.sleep_ms(50)\n",
    "    from connectwifi import ipnumber\n",
    "    #from connecthotspot import ipnumber\n",
    "    for i in range(20):\n",
    "        greenpin.duty(500 if ((i%2) == 0) else 0)\n",
    "        time.sleep_ms(50)\n"
   ]
  },
  {
   "cell_type": "code",
   "execution_count": 188,
   "metadata": {},
   "outputs": [],
   "source": [
    "import array, ustruct\n",
    "from lsq_funcs import setpt0, addpt, copylq, mergelq, calcmc, calcrsq, dn\n",
    "\n",
    "lqR = array.array(\"f\", [0]*7)\n",
    "lqA = array.array(\"f\", [0]*7)\n",
    "lqS = array.array(\"f\", [0]*7)\n",
    "nbatch = 32\n",
    "rlimsq = 2.2**2\n",
    "\n",
    "def nextpt(t, v, fout):\n",
    "    if lqR[dn] == 0:\n",
    "        setpt0(lqR, t, v)\n",
    "        return\n",
    "    addpt(lqR, t, v)\n",
    "    if lqR[dn] < nbatch:\n",
    "        return\n",
    "    if lqA[dn] == 0:\n",
    "        copylq(lqA, lqR)\n",
    "        lqR[dn] = 0\n",
    "        return\n",
    "    copylq(lqS, lqA)\n",
    "    mergelq(lqS, lqR)\n",
    "    m, c = calcmc(lqS)\n",
    "    rsq = calcrsq(lqS, m, c)\n",
    "    if rsq > rlimsq:\n",
    "        print(\"rsq\", lqA[dn], rsq)\n",
    "        if fout:\n",
    "            fout.write(ustruct.pack(\"<fffffff\", *lqA))\n",
    "            fout.flush()\n",
    "        copylq(lqA, lqR)\n",
    "    else:\n",
    "        copylq(lqA, lqS)\n",
    "    lqR[dn] = 0\n"
   ]
  },
  {
   "cell_type": "code",
   "execution_count": 189,
   "metadata": {},
   "outputs": [],
   "source": [
    "hook_ms5611 = [1, 0, 0, None]\n",
    "\n",
    "async def ams5611():\n",
    "    log(\"Entering ams5611\")\n",
    "    bdat = open(\"b%d_%d.dat\"%(powid, time.ticks_ms()//1000), \"wb\")\n",
    "    nbdat = 0\n",
    "    try:\n",
    "        dc = GetMS5611calibrations(i2c)\n",
    "        readout = bytearray(3)\n",
    "        while hook_ms5611[0]:\n",
    "            await ams5611read(dc, readout, i2c, uasyncio)\n",
    "            t = time.ticks_ms()\n",
    "            hook_ms5611[2] = MS5611convert(dc)\n",
    "            if bdat:\n",
    "                nextpt(t, hook_ms5611[2], bdat)\n",
    "                nbdat += 1\n",
    "                if nbdat > 10000:\n",
    "                    bdat.close()\n",
    "                    bdat = None\n",
    "            if hook_ms5611[3]:  # dump out to logfile here (if open)\n",
    "                hook_ms5611[3].write(ustruct.pack(\"<II\", hook_ms5611[1], hook_ms5611[2]))\n",
    "                if (hook_ms5611[1]>>13) != (t>>13):   # 8 seconds\n",
    "                    hook_ms5611[3].flush()\n",
    "            hook_ms5611[1] = t\n",
    "            greenpin.duty((t%500) if hook_ms5611[3] or (((t//500)%3) == 0) else 0)\n",
    "    except Exception as e:\n",
    "        elog(e)\n",
    "    hook_ms5611[0] = -1\n",
    "    log(\"Leaving ams5611\")\n",
    "\n",
    "# waits and looks to detect the touchpin touched\n",
    "async def createLogFile():\n",
    "    ti = 0\n",
    "    while hook_ms5611:\n",
    "        ti = (ti + 1  if touchpin.read()<1100  else 0)\n",
    "        if ti > 3:\n",
    "            log(\"making datfile\")\n",
    "            hook_ms5611[3] = open(\"%d_%d.dat\"%(powid, time.ticks_ms()//1000), \"wb\")\n",
    "            for i in range(12*10):    # 10 minutes \n",
    "                await uasyncio.sleep_ms(5*1000)   # 5 second chunks\n",
    "                if touchpin.read()<1100:\n",
    "                    break   # break early\n",
    "            hook_ms5611[3].close()\n",
    "            hook_ms5611[3] = None\n",
    "        await uasyncio.sleep_ms(50)\n",
    "    \n"
   ]
  },
  {
   "cell_type": "code",
   "execution_count": 190,
   "metadata": {
    "collapsed": true
   },
   "outputs": [],
   "source": [
    "# coroutine for handling the write loop (and closing when note comes through thr reader)\n",
    "async def wswritesensorloop(rpath, writer, wscondition):\n",
    "    rpath = rpath.split(\",\")\n",
    "    \n",
    "    delayms = int(rpath[1])\n",
    "    hexbuff = bytearray(16)\n",
    "    #if rpath[0] == \"bme280\":\n",
    "    try:\n",
    "        while wscondition[1]:\n",
    "            while len(wscondition) > 2:\n",
    "                incoming = wscondition.pop(2)\n",
    "                log(\"[WS%d incoming] %s\"%(wscondition[0], incoming))\n",
    "                \n",
    "            await writer.awrite(make_hybi07_header(16))\n",
    "            ustruct.pack_into(\">II\", hexbuff, 8, hook_ms5611[1], hook_ms5611[2])\n",
    "            for i in range(8):\n",
    "                b = hexbuff[i+8]\n",
    "                hexbuff[i*2] = (b>>4) + (48 if b < 160 else 55)  #ord('0')=48; ord('A')=65\n",
    "                b &= 15\n",
    "                hexbuff[i*2+1] = b + (48 if b < 10 else 55)\n",
    "            await writer.awrite(hexbuff)\n",
    "            await uasyncio.sleep_ms(delayms)\n",
    "            \n",
    "    except OSError as e:\n",
    "        elog(e)\n",
    "        wscondition[1] = 1\n",
    "    log(\"[WS%d wpleave]\"%wscondition[0])\n",
    "\n"
   ]
  },
  {
   "cell_type": "code",
   "execution_count": 191,
   "metadata": {
    "collapsed": true
   },
   "outputs": [],
   "source": [
    "async def handleconnection(reader, writer):\n",
    "    receivedrequest = await readhttpheaders(reader)\n",
    "    log(receivedrequest)\n",
    "    \n",
    "    if \"POST\" in receivedrequest:   # this is causing the str and binary comparison warning\n",
    "        await recpostsave(receivedrequest, reader, \"POSTUPLOAD.txt\")\n",
    "        await servemessage(writer, \"done\")\n",
    "        await writer.aclose()\n",
    "        #await reader.aclose()  # this gets a keyerror\n",
    "        convertsavepostfile(\"POSTUPLOAD.txt\")\n",
    "        return\n",
    "    \n",
    "    rpath = receivedrequest.get(\"GET\")\n",
    "    \n",
    "    bcallaclose = True\n",
    "    if \"WebSocketKey\" in receivedrequest:\n",
    "        bcallaclose = await servewebsocket(rpath, reader, writer, receivedrequest[\"WebSocketKey\"], wswritesensorloop)\n",
    "    elif rpath is None:\n",
    "        pass\n",
    "    elif rpath == \"\":\n",
    "        await servefilelist(writer)\n",
    "    else:\n",
    "        await servestaticfile(writer, rpath)\n",
    "        \n",
    "    if bcallaclose:\n",
    "        await writer.aclose()\n",
    "\n",
    "\n",
    "import gc\n",
    "async def garbagecollect():\n",
    "    while True:\n",
    "        gc.collect()\n",
    "        await uasyncio.sleep_ms(20000)\n",
    "\n"
   ]
  },
  {
   "cell_type": "code",
   "execution_count": 192,
   "metadata": {},
   "outputs": [
    {
     "name": "stdout",
     "output_type": "stream",
     "text": [
      "Will listen on http://192.168.0.162:80/\r\n"
     ]
    }
   ],
   "source": [
    "\n",
    "# enables rewriting handleconnection function without restarting\n",
    "def handleconnection_indirect(reader, writer):\n",
    "    try:\n",
    "        return handleconnection(reader, writer)\n",
    "    except OSError as e:\n",
    "        print(\"handleconnection exception\", str(e))\n",
    "    \n",
    "\n",
    "port = 80\n",
    "loop = uasyncio.get_event_loop()\n",
    "loop.create_task(garbagecollect())\n",
    "if ipnumber:\n",
    "    print(\"Will listen on http://%s:%s/\" % (ipnumber, port))\n",
    "    loop.create_task(uasyncio.start_server(handleconnection_indirect, ipnumber, port))\n",
    "loop.create_task(ams5611())\n",
    "loop.create_task(createLogFile())\n",
    "\n",
    "\n"
   ]
  },
  {
   "cell_type": "code",
   "execution_count": 34,
   "metadata": {
    "collapsed": true
   },
   "outputs": [],
   "source": [
    "#loop.create_task(abme280(i2c, hook_bme280))\n",
    "#loop.create_task(uasyncio.start_server(handleconnection_indirect, ipnumber, port))\n"
   ]
  },
  {
   "cell_type": "code",
   "execution_count": 193,
   "metadata": {},
   "outputs": [
    {
     "name": "stdout",
     "output_type": "stream",
     "text": [
      "LOG 82 Entering ams5611 \n",
      "LOG 85 {'GET': ''} \n",
      ".LOG 89 {} \n",
      "LOG 90 {'GET': ''} \n",
      ".LOG 95 {'GET': ''} \n",
      ".rsq 320.0 9.76129e+07\n",
      "LOG 100 {'GET': ''} \n",
      "rsq 32.0 1.342177e+08\n",
      ".rsq 96.0 1.342177e+08\n",
      ".rsq 160.0 8.947848e+07\n",
      ".rsq 96.0 1.342177e+08\n",
      ".rsq 64.0 8.947848e+07\n",
      "...rsq 320.0 9.76129e+07\n",
      "rsq 64.0 8.947848e+07\n",
      "...............LOG 211 {'GET': 'gcanvtest.html'} \n",
      "LOG 211 File 'gcanvtest.html' (6239 bytes) served in 272ms \n",
      "LOG 212 {'WebSocketKey': b'piPRYtggaOcI97bK+RsLOw==', 'GET': 'bme280,50'} \n",
      "Warning: Comparison between bytes and str\n",
      "LOG 212 [WS0] b'Hello'\n",
      "LOG 212 [WS0 incoming] b'Hello' \n",
      "LOG 216 [WS0 close] \n",
      "LOG 216 [WS0 rlleave] \n",
      "LOG 216 [WS0 wpleave] \n",
      ".LOG 219 {'GET': ''} \n",
      ".\n",
      "\n",
      "*** Sending Ctrl-C\n",
      "\n"
     ]
    },
    {
     "name": "stderr",
     "output_type": "stream",
     "text": [
      "Traceback (most recent call last):\n",
      "  File \"<stdin>\", line 3, in <module>\n",
      "  File \"../async_web_serve/uasyncio/core.py\", line 65, in run_forever\n",
      "  File \"../async_web_serve/uasyncio/__init__.py\", line 69, in wait\n",
      "KeyboardInterrupt: \n"
     ]
    }
   ],
   "source": [
    "#%sendtofile --append main.py\n",
    "\n",
    "loop.run_forever()\n"
   ]
  },
  {
   "cell_type": "code",
   "execution_count": 353,
   "metadata": {},
   "outputs": [
    {
     "name": "stdout",
     "output_type": "stream",
     "text": [
      "Sent 214 lines (6237 bytes) to gcanvtest.html.\n"
     ]
    }
   ],
   "source": [
    "%sendtofile --source gcanvtest.html"
   ]
  },
  {
   "cell_type": "code",
   "execution_count": 301,
   "metadata": {},
   "outputs": [
    {
     "name": "stdout",
     "output_type": "stream",
     "text": [
      "object <module 'gc'> is of type module\n",
      "  __name__ -- gc\n",
      "  collect -- <function>\n",
      "  disable -- <function>\n",
      "  enable -- <function>\n",
      "  isenabled -- <function>\n",
      "  mem_free -- <function>\n",
      "  mem_alloc -- <function>\n",
      "  threshold -- <function>\n",
      "55504 40496\n"
     ]
    }
   ],
   "source": [
    "help(gc)\n",
    "print(gc.mem_alloc(), gc.mem_free())"
   ]
  },
  {
   "cell_type": "code",
   "execution_count": 176,
   "metadata": {},
   "outputs": [
    {
     "name": "stdout",
     "output_type": "stream",
     "text": [
      "\u001b[34mConnecting to Serial /dev/ttyUSB0 baud=115200 \u001b[0m\n",
      "OSError: [Errno 2] ENOENT\n",
      "MicroPython v1.9.2-443-g236297f4 on 2017-11-06; ESP32 module with ESP32\n",
      "Type \"help()\" for more information.\n",
      ">>>[reboot detected 0]repl is in normal command mode\n",
      "[\\r\\x03\\x03] b'\\r\\n>>> '\n",
      "[\\r\\x01] b'\\r\\n>>> \\r\\nraw REPL; CTRL-B to exit\\r\\n>' \u001b[34mReady.\n",
      "\u001b[0m"
     ]
    }
   ],
   "source": [
    "%serialconnect"
   ]
  },
  {
   "cell_type": "code",
   "execution_count": 178,
   "metadata": {},
   "outputs": [
    {
     "name": "stdout",
     "output_type": "stream",
     "text": [
      "['\\x00\\x00\\x00\\x00\\x00\\x00\\x00\\x00.\\x00\\x00\\x00', '\\x00\\x00\\x00\\x00\\x00\\x00\\x00\\x00.\\x00\\x00\\x00', '\\x00\\x00\\x00\\x00\\x00\\x00\\x00\\x00.\\x00\\x00\\x00', '\\x00\\x00\\x00\\x00\\x00\\x00\\x00\\x00.\\x00\\x00\\x00', '\\x00\\x00\\x00\\x00\\x00\\x00\\x00\\x00.\\x00\\x00\\x00', '\\x00\\x00\\x00\\x00\\x00\\x00\\x00\\x00.\\x00\\x00\\x00', '\\x00\\x00\\x00\\x00\\x00\\x00\\x00\\x00.\\x00\\x00\\x00', '\\x00\\x00\\x00\\x00\\x00\\x00\\x00\\x00.\\x00\\x00\\x00', '\\x00\\x00\\x00\\x00\\x00\\x00\\x00\\x00.\\x00\\x00\\x00', '\\x00\\x00\\x00\\x00\\x00\\x00\\x00\\x00.\\x00\\x00\\x00', '\\x00\\x00\\x00\\x00\\x00\\x00\\x00\\x00.\\x00\\x00\\x00', '\\x00\\x00\\x00\\x00\\x00\\x00\\x00\\x00.\\x00\\x00\\x00', '\\x00\\x00\\x00\\x00\\x00\\x00\\x00\\x00.\\x00\\x00\\x00', '\\x00\\x00\\x00\\x00\\x00\\x00\\x00\\x00.\\x00\\x00\\x00', '\\x00\\x00\\x00\\x00\\x00\\x00\\x00\\x00.\\x00\\x00\\x00', '\\x00\\x00\\x00\\x00\\x00\\x00\\x00\\x00.\\x00\\x00\\x00', '\\x00\\x00\\x00\\x00\\x00\\x00\\x00\\x00.\\x00\\x00\\x00', '\\x00\\x00\\x00\\x00\\x00\\x00\\x00\\x00.\\x00\\x00\\x00', '\\x00\\x00\\x00\\x00\\x00\\x00\\x00\\x00.\\x00\\x00\\x00', '\\x00\\x00\\x00\\x00\\x00\\x00\\x00\\x00.\\x00\\x00\\x00', '\\x00\\x00\\x00\\x00\\x00\\x00\\x00\\x00.\\x00\\x00\\x00', '\\x00\\x00\\x00\\x00\\x00\\x00\\x00\\x00.\\x00\\x00\\x00', '\\x00\\x00\\x00\\x00\\x00\\x00\\x00\\x00.\\x00\\x00\\x00', '\\x00\\x00\\x00\\x00\\x00\\x00\\x00\\x00.\\x00\\x00\\x00', '\\x00\\x00\\x00\\x00\\x00\\x00\\x00\\x00.\\x00\\x00\\x00', '\\x00\\x00\\x00\\x00\\x00\\x00\\x00\\x00.\\x00\\x00\\x00', '\\x00\\x00\\x00\\x00\\x00\\x00\\x00\\x00.\\x00\\x00\\x00', '\\x00\\x00\\x00\\x00\\x00\\x00\\x00\\x00.\\x00\\x00\\x00', '\\x00\\x00\\x00\\x00\\x00\\x00\\x00\\x00.\\x00\\x00\\x00', '\\x00\\x00\\x00\\x00\\x00\\x00\\x00\\x00.\\x00\\x00\\x00', '\\x00\\x00\\x00\\x00\\x00\\x00\\x00\\x00.\\x00\\x00\\x00', '\\x00\\x00\\x00\\x00\\x00\\x00\\x00\\x00.\\x00\\x00\\x00', '\\x00\\x00\\x00\\x00\\x00\\x00\\x00\\x00.\\x00\\x00\\x00', '\\x00\\x00\\x00\\x00\\x00\\x00\\x00\\x00.\\x00\\x00\\x00', '\\x00\\x00\\x00\\x00\\x00\\x00\\x00\\x00.\\x00\\x00\\x00', '\\x00\\x00\\x00\\x00\\x00\\x00\\x00\\x00.\\x00\\x00\\x00', '\\x00\\x00\\x00\\x00\\x00\\x00\\x00\\x00.\\x00\\x00\\x00', '\\x00\\x00\\x00\\x00\\x00\\x00\\x00\\x00.\\x00\\x00\\x00', '\\x00\\x00\\x00\\x00\\x00\\x00\\x00\\x00.\\x00\\x00\\x00', '\\x00\\x00\\x00\\x00\\x00\\x00\\x00\\x00.\\x00\\x00\\x00', '\\x00\\x00\\x00\\x00\\x00\\x00\\x00\\x00.\\x00\\x00\\x00', '\\x00\\x00\\x00\\x00\\x00\\x00\\x00\\x00.\\x00\\x00\\x00', '\\x00\\x00\\x00\\x00\\x00\\x00\\x00\\x00.\\x00\\x00\\x00', '\\x00\\x00\\x00\\x00\\x00\\x00\\x00\\x00.\\x00\\x00\\x00', '\\x00\\x00\\x00\\x00\\x00\\x00\\x00\\x00.\\x00\\x00\\x00', '\\x00\\x00\\x00\\x00\\x00\\x00\\x00\\x00.\\x00\\x00\\x00', '\\x00\\x00\\x00\\x00\\x00\\x00\\x00\\x00.\\x00\\x00\\x00', '\\x00\\x00\\x00\\x00\\x00\\x00\\x00\\x00.\\x00\\x00\\x00', '\\x00\\x00\\x00\\x00\\x00\\x00\\x00\\x00.\\x00\\x00\\x00', '\\x00\\x00\\x00\\x00\\x00\\x00\\x00\\x00.\\x00\\x00\\x00', '\\x00\\x00\\x00\\x00\\x00\\x00\\x00\\x00.\\x00\\x00\\x00', '\\x00\\x00\\x00\\x00\\x00\\x00\\x00\\x00.\\x00\\x00\\x00', '\\x00\\x00\\x00\\x00\\x00\\x00\\x00\\x00.\\x00\\x00\\x00', '\\x00\\x00\\x00\\x00\\x00\\x00\\x00\\x00.\\x00\\x00\\x00', '\\x00\\x00\\x00\\x00\\x00\\x00\\x00\\x00.\\x00\\x00\\x00', '\\x00\\x00\\x00\\x00\\x00\\x00\\x00\\x00.\\x00\\x00\\x00', '\\x00\\x00\\x00\\x00\\x00\\x00\\x00\\x00.\\x00\\x00\\x00', '\\x00\\x00\\x00\\x00\\x00\\x00\\x00\\x00.\\x00\\x00\\x00', '\\x00\\x00\\x00\\x00\\x00\\x00\\x00\\x00.\\x00\\x00\\x00', '\\x00\\x00\\x00\\x00\\x00\\x00\\x00\\x00.\\x00\\x00\\x00', '\\x00\\x00\\x00\\x00\\x00\\x00\\x00\\x00.\\x00\\x00\\x00', '\\x00\\x00\\x00\\x00\\x00\\x00\\x00\\x00.\\x00\\x00\\x00', '\\x00\\x00\\x00\\x00\\x00\\x00\\x00\\x00.\\x00\\x00\\x00', '\\x00\\x00\\x00\\x00\\x00\\x00\\x00\\x00.\\x00\\x00\\x00', '\\x00\\x00\\x00\\x00\\x00\\x00\\x00\\x00.\\x00\\x00\\x00', '\\x00\\x00\\x00\\x00\\x00\\x00\\x00\\x00.\\x00\\x00\\x00', '\\x00\\x00\\x00\\x00\\x00\\x00\\x00\\x00.\\x00\\x00\\x00', '\\x00\\x00\\x00\\x00\\x00\\x00\\x00\\x00.\\x00\\x00\\x00', '\\x00\\x00\\x00\\x00\\x00\\x00\\x00\\x00.\\x00\\x00\\x00', '\\x00\\x00\\x00\\x00\\x00\\x00\\x00\\x00.\\x00\\x00\\x00', '\\x00\\x00\\x00\\x00\\x00\\x00\\x00\\x00.\\x00\\x00\\x00', '\\x00\\x00\\x00\\x00\\x00\\x00\\x00\\x00.\\x00\\x00\\x00', '\\x00\\x00\\x00\\x00\\x00\\x00\\x00\\x00.\\x00\\x00\\x00', '\\x00\\x00\\x00\\x00\\x00\\x00\\x00\\x00.\\x00\\x00\\x00', '\\x00\\x00\\x00\\x00\\x00\\x00\\x00\\x00.\\x00\\x00\\x00', '\\x00\\x00\\x00\\x00\\x00\\x00\\x00\\x00.\\x00\\x00\\x00', '\\x00\\x00\\x00\\x00\\x00\\x00\\x00\\x00.\\x00\\x00\\x00', '\\x00\\x00\\x00\\x00\\x00\\x00\\x00\\x00.\\x00\\x00\\x00', '\\x00\\x00\\x00\\x00\\x00\\x00\\x00\\x00.\\x00\\x00\\x00', '\\x00\\x00\\x00\\x00\\x00\\x00\\x00\\x00.\\x00\\x00\\x00', '\\x00\\x00\\x00\\x00\\x00\\x00\\x00\\x00.\\x00\\x00\\x00', '\\x00\\x00\\x00\\x00\\x00\\x00\\x00\\x00.\\x00\\x00\\x00', '\\x00\\x00\\x00\\x00\\x00\\x00\\x00\\x00.\\x00\\x00\\x00', '\\x00\\x00\\x00\\x00\\x00\\x00\\x00\\x00.\\x00\\x00\\x00', '\\x00\\x00\\x00\\x00\\x00\\x00\\x00\\x00.\\x00\\x00\\x00', '\\x00\\x00\\x00\\x00\\x00\\x00\\x00\\x00.\\x00\\x00\\x00', '\\x00\\x00\\x00\\x00\\x00\\x00\\x00\\x00.\\x00\\x00\\x00', '\\x00\\x00\\x00\\x00\\x00\\x00\\x00\\x00.\\x00\\x00\\x00', '\\x00\\x00\\x00\\x00\\x00\\x00\\x00\\x00.\\x00\\x00\\x00', '\\x00\\x00\\x00\\x00\\x00\\x00\\x00\\x00.\\x00\\x00\\x00', '\\x00\\x00\\x00\\x00\\x00\\x00\\x00\\x00.\\x00\\x00\\x00', '\\x00\\x00\\x00\\x00\\x00\\x00\\x00\\x00.\\x00\\x00\\x00', '\\x00\\x00\\x00\\x00\\x00\\x00\\x00\\x00.\\x00\\x00\\x00', '\\x00\\x00\\x00\\x00\\x00\\x00\\x00\\x00.\\x00\\x00\\x00', '\\x00\\x00\\x00\\x00\\x00\\x00\\x00\\x00.\\x00\\x00\\x00', '\\x00\\x00\\x00\\x00\\x00\\x00\\x00\\x00.\\x00\\x00\\x00', '\\x00\\x00\\x00\\x00\\x00\\x00\\x00\\x00.\\x00\\x00\\x00', '\\x00\\x00\\x00\\x00\\x00\\x00\\x00\\x00.\\x00\\x00\\x00', '\\x00\\x00\\x00\\x00\\x00\\x00\\x00\\x00.\\x00\\x00\\x00', '\\x00\\x00\\x00\\x00\\x00\\x00\\x00\\x00.\\x00\\x00\\x00', '\\x00\\x00\\x00\\x00\\x00\\x00\\x00\\x00.\\x00\\x00\\x00', '\\x00\\x00\\x00\\x00\\x00\\x00\\x00\\x00.\\x00\\x00\\x00', '\\x00\\x00\\x00\\x00\\x00\\x00\\x00\\x00.\\x00\\x00\\x00', '\\x00\\x00\\x00\\x00\\x00\\x00\\x00\\x00.\\x00\\x00\\x00', '\\x00\\x00\\x00\\x00\\x00\\x00\\x00\\x00.\\x00\\x00\\x00', '\\x00\\x00\\x00\\x00\\x00\\x00\\x00\\x00.\\x00\\x00\\x00', '\\x00\\x00\\x00\\x00\\x00\\x00\\x00\\x00.\\x00\\x00\\x00', '\\x00\\x00\\x00\\x00\\x00\\x00\\x00\\x00.\\x00\\x00\\x00', '\\x00\\x00\\x00\\x00\\x00\\x00\\x00\\x00.\\x00\\x00\\x00', '\\x00\\x00\\x00\\x00\\x00\\x00\\x00\\x00.\\x00\\x00\\x00', '\\x00\\x00\\x00\\x00\\x00\\x00\\x00\\x00.\\x00\\x00\\x00', '\\x00\\x00\\x00\\x00\\x00\\x00\\x00\\x00.\\x00\\x00\\x00', '\\x00\\x00\\x00\\x00\\x00\\x00\\x00\\x00.\\x00\\x00\\x00', '\\x00\\x00\\x00\\x00\\x00\\x00\\x00\\x00.\\x00\\x00\\x00', '\\x00\\x00\\x00\\x00\\x00\\x00\\x00\\x00.\\x00\\x00\\x00', '\\x00\\x00\\x00\\x00\\x00\\x00\\x00\\x00.\\x00\\x00\\x00', '\\x00\\x00\\x00\\x00\\x00\\x00\\x00\\x00.\\x00\\x00\\x00', '\\x00\\x00\\x00\\x00\\x00\\x00\\x00\\x00.\\x00\\x00\\x00', '\\x00\\x00\\x00\\x00\\x00\\x00\\x00\\x00.\\x00\\x00\\x00', '\\x00\\x00\\x00\\x00\\x00\\x00\\x00\\x00.\\x00\\x00\\x00', '\\x00\\x00\\x00\\x00\\x00\\x00\\x00\\x00.\\x00\\x00\\x00', '\\x00\\x00\\x00\\x00\\x00\\x00\\x00\\x00.\\x00\\x00\\x00', '\\x00\\x00\\x00\\x00\\x00\\x00\\x00\\x00.\\x00\\x00\\x00', '\\x00\\x00\\x00\\x00\\x00\\x00\\x00\\x00.\\x00\\x00\\x00', '\\x00\\x00\\x00\\x00\\x00\\x00\\x00\\x00.\\x00\\x00\\x00', '\\x00\\x00\\x00\\x00\\x00\\x00\\x00\\x00.\\x00\\x00\\x00', '\\x00\\x00\\x00\\x00\\x00\\x00\\x00\\x00.\\x00\\x00\\x00', '\\x00\\x00\\x00\\x00\\x00\\x00\\x00\\x00.\\x00\\x00\\x00']\r\n"
     ]
    }
   ],
   "source": [
    "import os\n",
    "#print(os.remove(\"static/graphtest.html\"))\n",
    "print(os.listdir(\"static\"))\n"
   ]
  },
  {
   "cell_type": "code",
   "execution_count": 322,
   "metadata": {},
   "outputs": [
    {
     "name": "stdout",
     "output_type": "stream",
     "text": [
      "object <module 'gc'> is of type module\n",
      "  __name__ -- gc\n",
      "  collect -- <function>\n",
      "  disable -- <function>\n",
      "  enable -- <function>\n",
      "  isenabled -- <function>\n",
      "  mem_free -- <function>\n",
      "  mem_alloc -- <function>\n",
      "  threshold -- <function>\n"
     ]
    }
   ],
   "source": [
    "help(gc)"
   ]
  },
  {
   "cell_type": "code",
   "execution_count": 188,
   "metadata": {},
   "outputs": [
    {
     "name": "stdout",
     "output_type": "stream",
     "text": [
      "[(2, 1, 0, '192.168.43.6', ('192.168.43.6', 80))]\r\n"
     ]
    }
   ],
   "source": [
    "ai = socket.getaddrinfo(ipnumber, 80)\n",
    "print(ai)\n"
   ]
  },
  {
   "cell_type": "code",
   "execution_count": 189,
   "metadata": {
    "collapsed": true
   },
   "outputs": [],
   "source": [
    "addr = ai[0][4]\n",
    "s.setsockopt(socket.SOL_SOCKET, socket.SO_REUSEADDR, 1)\n",
    "s.bind(addr)\n"
   ]
  },
  {
   "cell_type": "code",
   "execution_count": 192,
   "metadata": {
    "collapsed": true
   },
   "outputs": [],
   "source": [
    "gc.collect()"
   ]
  },
  {
   "cell_type": "code",
   "execution_count": 193,
   "metadata": {},
   "outputs": [
    {
     "name": "stderr",
     "output_type": "stream",
     "text": [
      "Traceback (most recent call last):\n",
      "  File \"<stdin>\", line 1, in <module>\n",
      "OSError: [Errno 12] ENOMEM\n"
     ]
    }
   ],
   "source": [
    "s.listen(10)\n"
   ]
  },
  {
   "cell_type": "code",
   "execution_count": 143,
   "metadata": {
    "collapsed": true
   },
   "outputs": [],
   "source": [
    "import os\n",
    "os.remove(\"webserve_funcs.py\")\n",
    "os.remove(\"websocket_funcs.py\")"
   ]
  },
  {
   "cell_type": "code",
   "execution_count": 144,
   "metadata": {},
   "outputs": [
    {
     "name": "stdout",
     "output_type": "stream",
     "text": [
      "Executing:  /home/julian/extrepositories/micropython/mpy-cross/mpy-cross ../async_web_serve/webserve_funcs.py\n",
      "Executing:  /home/julian/extrepositories/micropython/mpy-cross/mpy-cross ../async_web_serve/websocket_funcs.py\n",
      "Sent 4475 bytes in 150 chunks to webserve_funcs.mpy.\n",
      "Sent 2427 bytes in 81 chunks to websocket_funcs.mpy.\n"
     ]
    }
   ],
   "source": [
    "%mpy-cross ../async_web_serve/webserve_funcs.py\n",
    "%mpy-cross ../async_web_serve/websocket_funcs.py\n",
    "%sendtofile --quiet --binary --source ../async_web_serve/webserve_funcs.mpy\n",
    "%sendtofile --quiet --binary --source ../async_web_serve/websocket_funcs.mpy\n"
   ]
  },
  {
   "cell_type": "code",
   "execution_count": 219,
   "metadata": {},
   "outputs": [
    {
     "name": "stdout",
     "output_type": "stream",
     "text": [
      "\n",
      "Closing serial Serial<id=0x7fac210814a8, open=True>(port='/dev/ttyUSB1', baudrate=115200, bytesize=8, parity='N', stopbits=1, timeout=0.5, xonxoff=False, rtscts=False, dsrdtr=False)\n"
     ]
    }
   ],
   "source": [
    "%disconnect"
   ]
  },
  {
   "cell_type": "code",
   "execution_count": null,
   "metadata": {
    "collapsed": true
   },
   "outputs": [],
   "source": []
  }
 ],
 "metadata": {
  "kernelspec": {
   "display_name": "MicroPython - USB",
   "language": "micropython",
   "name": "micropython"
  },
  "language_info": {
   "codemirror_mode": "python",
   "file_extension": ".py",
   "mimetype": "text/python",
   "name": "micropython"
  }
 },
 "nbformat": 4,
 "nbformat_minor": 2
}

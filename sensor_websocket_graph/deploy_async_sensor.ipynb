{
 "cells": [
  {
   "cell_type": "code",
   "execution_count": 1,
   "metadata": {},
   "outputs": [
    {
     "name": "stdout",
     "output_type": "stream",
     "text": [
      "Connecting to Serial /dev/ttyUSB2 baud=115200 \n",
      "Ready.\n",
      "\n"
     ]
    }
   ],
   "source": [
    "%serialconnect"
   ]
  },
  {
   "cell_type": "code",
   "execution_count": 2,
   "metadata": {},
   "outputs": [
    {
     "name": "stdout",
     "output_type": "stream",
     "text": [
      "Sent 9 lines (327 bytes).\n",
      "Sent 21 lines (645 bytes).\n",
      "Sent 1 lines (16 bytes).\n"
     ]
    }
   ],
   "source": [
    "%sendtofile --quiet --source ../basicsockets/connecthotspot.py connecthotspot.py\n",
    "%sendtofile --quiet --source ../basicsockets/connectwifi.py connectwifi.py\n",
    "%sendtofile --quiet --source ../wificodes.txt wificodes.txt"
   ]
  },
  {
   "cell_type": "code",
   "execution_count": 3,
   "metadata": {},
   "outputs": [
    {
     "name": "stdout",
     "output_type": "stream",
     "text": [
      "\u001b[0;33mW (1199706) phy_init: failed to load RF calibration data (0x1102), falling back to full calibration\u001b[0m\n",
      "Scanning wifis: BV6000\n",
      "\u001b[0;32mI (1202296) network: event 1\u001b[0m\n",
      "Connecting to strongest known wifi signal BV6000\n",
      "> auth (b0)\n",
      "> assoc (0)\n",
      "> run (10)\n",
      "\u001b[0;32mI (1203716) network: event 4\u001b[0m\n",
      ".\n",
      "\u001b[0;32mI (1206776) network: GOT_IP\u001b[0m\n",
      "Device has ipnumber 192.168.43.6\n",
      "Installing to: /lib/\n",
      "Warning: pypi.python.org SSL certificate is not validated\n",
      "Installing micropython-uasyncio 1.2.4 from https://pypi.python.org/packages/49/91/3228f62e1d7238d416b37a04cba1427fb8b4abe3666aff6d8bd1f68cd0ad/micropython-uasyncio-1.2.4.tar.gz\n",
      "Installing micropython-uasyncio.core 1.5.1 from https://pypi.python.org/packages/22/ce/1e7ef36446d45f3f74d3f955ddd2dc4e6c526c4cd69050a4ee75a65b251d/micropython-uasyncio.core-1.5.1.tar.gz\n",
      "."
     ]
    }
   ],
   "source": [
    "import connectwifi\n",
    "try:\n",
    "    import uasyncio as asyncio\n",
    "except:\n",
    "    import upip\n",
    "    upip.install('micropython-uasyncio')\n",
    "    import uasyncio as asyncio\n"
   ]
  },
  {
   "cell_type": "code",
   "execution_count": 17,
   "metadata": {},
   "outputs": [
    {
     "name": "stdout",
     "output_type": "stream",
     "text": [
      "Sent 93251 bytes in 3109 chunks.\n"
     ]
    }
   ],
   "source": [
    "%sendtofile --binary --source ../sensor_websocket_graph/raphael.min.js raphael.min.js\n"
   ]
  },
  {
   "cell_type": "code",
   "execution_count": 5,
   "metadata": {},
   "outputs": [
    {
     "name": "stdout",
     "output_type": "stream",
     "text": [
      "Sent 105 lines (3521 bytes).\n",
      "Sent 72 lines (2538 bytes).\n",
      "Sent 209 lines (6077 bytes).\n"
     ]
    }
   ],
   "source": [
    "%sendtofile --quiet --source ../async_web_serve/webserve_funcs.py     webserve_funcs.py\n",
    "%sendtofile --quiet --source ../async_web_serve/websocket_funcs.py    websocket_funcs.py\n",
    "%sendtofile --quiet --source ../sensor_websocket_graph/graphtest.html graphtest.html\n"
   ]
  },
  {
   "cell_type": "code",
   "execution_count": 35,
   "metadata": {},
   "outputs": [
    {
     "name": "stdout",
     "output_type": "stream",
     "text": [
      "Sent 89 lines (2849 bytes).\n",
      "Sent 65 lines (1934 bytes).\n"
     ]
    }
   ],
   "source": [
    "%sendtofile --quiet --source ../essential_sensor_code/vl6180_funcs.py vl6180_funcs.py\n",
    "%sendtofile --quiet --source ../essential_sensor_code/ms5611_funcs.py ms5611_funcs.py\n"
   ]
  },
  {
   "cell_type": "code",
   "execution_count": null,
   "metadata": {
    "collapsed": true
   },
   "outputs": [],
   "source": [
    "%sendtofile --quiet --source ../sensor_websocket_graph/graphtest.html graphtest.html\n"
   ]
  },
  {
   "cell_type": "code",
   "execution_count": 86,
   "metadata": {},
   "outputs": [
    {
     "name": "stdout",
     "output_type": "stream",
     "text": [
      "attempt to exit past mode\n",
      "[\\r\\x03\\x02] b'\\r\\nMicroPython v1.9.2-443-g236297f4 on 2017-11-06; ESP32 module with ESP32\\r\\nType \"help()\" for more information.\\r\\n>>> '\n",
      "Closing serial Serial<id=0x7f15fb59c358, open=True>(port='/dev/ttyUSB2', baudrate=115200, bytesize=8, parity='N', stopbits=1, timeout=0.5, xonxoff=False, rtscts=False, dsrdtr=False)\n",
      "Connecting to Serial /dev/ttyUSB2 baud=115200 \n",
      "ets Jun  8 2016 00:22:57\n",
      "\n",
      "rst:0x1 (POWERON_RESET),boot:0x17 (SPI_FAST_FLASH_BOOT)\n",
      "configsip: 0, SPIWP:0xee\n",
      "clk_drv:0x00,q_drv:0x00,d_drv:0x00,cs0_drv:0x00,hd_drv:0x00,wp_drv:0x00\n",
      "mode:DIO, clock div:2\n",
      "load:0x3fff0018,len:4\n",
      "load:0x3fff001c,len:4332\n",
      "load:0x40078000,len:0\n",
      "load:0x40078000,len:10992\n",
      "entry 0x4007a6c4\n",
      "\u001b[0;33mW (64) rtc_clk: Potentially bogus XTAL frequency: 35 MHz, guessing 40 MHz\u001b[0m\n",
      "OSError: [Errno 2] ENOENT\n",
      "MicroPython v1.9.2-443-g236297f4 on 2017-11-06; ESP32 module with ESP32\n",
      "Type \"help()\" for more information.\n",
      ">>>[reboot detected 0]repl is in normal command mode\n",
      "[\\r\\x03\\x03] b'\\r\\n>>> \\r\\n>>> \\r\\n>>> '\n",
      "[\\r\\x01] b'\\r\\n>>> \\r\\nraw REPL; CTRL-B to exit\\r\\n>' Ready.\n",
      "\n"
     ]
    }
   ],
   "source": [
    "%serialconnect"
   ]
  },
  {
   "cell_type": "code",
   "execution_count": null,
   "metadata": {
    "collapsed": true
   },
   "outputs": [],
   "source": [
    "# main code"
   ]
  },
  {
   "cell_type": "code",
   "execution_count": 87,
   "metadata": {},
   "outputs": [
    {
     "name": "stdout",
     "output_type": "stream",
     "text": [
      "Scanning wifis: BV6000\n",
      "\u001b[0;32mI (10212) network: event 1\u001b[0m\n",
      "Connecting to strongest known wifi signal BV6000\n",
      ".> auth (b0)\n",
      "> assoc (0)\n",
      "> run (10)\n",
      "\u001b[0;32mI (11662) network: event 4\u001b[0m\n",
      "\u001b[0;32mI (12682) network: GOT_IP\u001b[0m\n",
      "Device has ipnumber 192.168.43.6\n"
     ]
    }
   ],
   "source": [
    "%comment %sendtofile main.py\n",
    "from connectwifi import ipnumber\n",
    "#from connecthotspot import ipnumber\n"
   ]
  },
  {
   "cell_type": "code",
   "execution_count": 88,
   "metadata": {},
   "outputs": [
    {
     "name": "stdout",
     "output_type": "stream",
     "text": [
      "[leftinbuffer] ['']\n"
     ]
    }
   ],
   "source": [
    "%comment %sendtofile --append main.py\n",
    "\n",
    "from webserve_funcs import servestaticfile\n",
    "from webserve_funcs import servefilelist\n",
    "from webserve_funcs import readhttpheaders\n",
    "\n",
    "from websocket_funcs import initiatewebsocket\n",
    "from websocket_funcs import make_hybi07_header\n",
    "from websocket_funcs import wswrite\n",
    "from websocket_funcs import wsread\n",
    "from websocket_funcs import wsreadprintloop\n",
    "\n",
    "#from vl6180_funcs import init1, init2, set_reg8, get_reg8, distmm\n",
    "from ms5611_funcs import setupms5611, aMS5611read\n"
   ]
  },
  {
   "cell_type": "code",
   "execution_count": 89,
   "metadata": {},
   "outputs": [],
   "source": [
    "%comment %sendtofile --append main.py\n",
    "\n",
    "import uasyncio, ustruct\n",
    "import machine\n",
    "from i2cmodule import i2c\n",
    "\n",
    "# coroutine for handling the write loop (and closing when note comes through thr reader)\n",
    "async def wswritepulseloop(rpath, w, wscondition):\n",
    "    rpath = rpath.split(\",\")\n",
    "    print(rpath)\n",
    "    if rpath[0] == \"pulse\":\n",
    "        a = machine.ADC(machine.Pin(int(rpath[1])))\n",
    "        a.atten(a.ATTN_11DB)\n",
    "        delayms = int(rpath[2])\n",
    "    elif rpath[0] == \"ms5611\":\n",
    "        a = None\n",
    "        delayms = int(rpath[1])\n",
    "        \n",
    "    try:\n",
    "        n = 1\n",
    "        delaymsbetweenreadings = 20\n",
    "        while wscondition[1]:\n",
    "            while len(wscondition) > 2:\n",
    "                incoming = wscondition.pop(2)\n",
    "                print(\"[WS%d incoming] %s\"%(wscondition[0], incoming))\n",
    "                    \n",
    "            await w.awrite(make_hybi07_header(n*2))\n",
    "            for i in range(n):\n",
    "                if i != 0:\n",
    "                    await uasyncio.sleep_ms(delaymsbetweenreadings)\n",
    "                if a is None:\n",
    "                    x = await aMS5611read(uasyncio)\n",
    "                    x = int(x+0.5)\n",
    "                else:\n",
    "                    x = a.read()\n",
    "                y = ustruct.pack(\"BB\", (x&0x3F) + 0x30, ((x>>6)&0x3F) + 0x30)\n",
    "                await w.awrite(y)\n",
    "            await uasyncio.sleep_ms(delayms)\n",
    "    except OSError as e:\n",
    "        print(\"[WS%d wpexception] %s\"%(wscondition[0], str(e)))\n",
    "        wscondition[1] = 1\n",
    "    print(\"[WS%d wpleave]\"%wscondition[0])\n",
    "\n",
    "WScount = 0\n",
    "async def servewebsocket(rpath, reader, writer, secwebsocketkey):\n",
    "    global WScount\n",
    "    await initiatewebsocket(writer, secwebsocketkey)\n",
    "    await wswrite(writer, \"HITHEREws(%d)\"%WScount)\n",
    "    wscondition = [WScount, 1]\n",
    "    WScount += 1\n",
    "    loop = uasyncio.get_event_loop()\n",
    "    loop.create_task(wsreadprintloop(reader, wscondition))\n",
    "    loop.create_task(wswritepulseloop(rpath, writer, wscondition))\n",
    "    return False\n",
    "\n"
   ]
  },
  {
   "cell_type": "code",
   "execution_count": 90,
   "metadata": {},
   "outputs": [],
   "source": [
    "%comment %sendtofile --append main.py\n",
    "\n",
    "import os, uasyncio\n",
    "async def handleconnection(reader, writer):\n",
    "    receivedrequest = await readhttpheaders(reader)\n",
    "    rpath = receivedrequest.get(\"GET\")\n",
    "    \n",
    "    bcallaclose = True\n",
    "    if \"WebSocketKey\" in receivedrequest:\n",
    "        bcallaclose = await servewebsocket(rpath, reader, writer, receivedrequest[\"WebSocketKey\"])\n",
    "    elif rpath is None:\n",
    "        pass\n",
    "    elif rpath == \"\":\n",
    "        await servefilelist(writer)\n",
    "    else:\n",
    "        await servestaticfile(writer, rpath)\n",
    "        \n",
    "    if bcallaclose:\n",
    "        await writer.aclose()\n"
   ]
  },
  {
   "cell_type": "code",
   "execution_count": null,
   "metadata": {},
   "outputs": [
    {
     "name": "stdout",
     "output_type": "stream",
     "text": [
      "* Running on http://192.168.43.6:80/\n",
      "[] serving file list\n",
      ".File graphtest.html (7151 bytes)-- served in 176ms\n",
      "['ms5611', '200']\n",
      "[WS0] b'Hello'\n",
      "[WS0 incoming] b'Hello'\n",
      "..[WS0 close]\n",
      "[WS0 rlleave]\n",
      "['pulse', '35', '50']\n",
      "[WS1] b'Hello'\n",
      "[WS1 incoming] b'Hello'\n",
      "[WS0 wpleave]\n",
      "..[WS1 close]\n",
      "[WS1 rlleave]\n",
      "[WS1 wpleave]\n",
      "['ms5611', '50']\n",
      "[WS2] b'Hello'\n",
      "[WS2 incoming] b'Hello'\n",
      ".[WS2 close]\n",
      "[WS2 rlleave]\n",
      "[WS2 wpleave]\n",
      "['ms5611', '200']\n",
      "[WS3] b'Hello'\n",
      "[WS3 incoming] b'Hello'\n",
      "................................[WS3 close]\n",
      "[WS3 rlleave]\n",
      "[WS3 wpleave]\n",
      "['ms5611', '50']\n",
      "[WS4] b'Hello'\n",
      "[WS4 incoming] b'Hello'\n",
      "...."
     ]
    }
   ],
   "source": [
    "%comment %sendtofile --append main.py\n",
    "\n",
    "import uasyncio\n",
    "uasyncio.set_debug(0)\n",
    "\n",
    "setupms5611()\n",
    "\n",
    "# enables rewriting handleconnection function without restarting\n",
    "def handleconnection_indirect(reader, writer):\n",
    "    try:\n",
    "        return handleconnection(reader, writer)\n",
    "    except OSError as e:\n",
    "        print(\"handleconnection exception\", str(e))\n",
    "    \n",
    "port = 80\n",
    "loop = uasyncio.get_event_loop()\n",
    "print(\"* Running on http://%s:%s/\" % (ipnumber, port))\n",
    "loop.create_task(uasyncio.start_server(handleconnection_indirect, ipnumber, port))\n",
    "loop.run_forever()\n"
   ]
  },
  {
   "cell_type": "code",
   "execution_count": 71,
   "metadata": {},
   "outputs": [
    {
     "name": "stdout",
     "output_type": "stream",
     "text": [
      "Sent 236 lines (7149 bytes).\n"
     ]
    }
   ],
   "source": [
    "%sendtofile --source ../sensor_websocket_graph/graphtest.html graphtest.html\n"
   ]
  },
  {
   "cell_type": "code",
   "execution_count": 83,
   "metadata": {},
   "outputs": [
    {
     "name": "stdout",
     "output_type": "stream",
     "text": [
      "......\n",
      "\n",
      "*** Sending Ctrl-C\n",
      "\n"
     ]
    },
    {
     "name": "stderr",
     "output_type": "stream",
     "text": [
      "Traceback (most recent call last):\n",
      "  File \"<stdin>\", line 1, in <module>\n",
      "  File \"/lib/uasyncio/core.py\", line 77, in run_forever\n",
      "  File \"/lib/uasyncio/__init__.py\", line 69, in wait\n",
      "KeyboardInterrupt: \n"
     ]
    }
   ],
   "source": [
    "loop.run_forever()\n"
   ]
  },
  {
   "cell_type": "code",
   "execution_count": null,
   "metadata": {
    "collapsed": true
   },
   "outputs": [],
   "source": [
    "%sendtofile --quiet --source ../sensor_websocket_graph/graphtest.html graphtest.html\n"
   ]
  }
 ],
 "metadata": {
  "kernelspec": {
   "display_name": "MicroPython - USB",
   "language": "micropython",
   "name": "micropython"
  },
  "language_info": {
   "codemirror_mode": "python",
   "file_extension": ".py",
   "mimetype": "text/python",
   "name": "micropython"
  }
 },
 "nbformat": 4,
 "nbformat_minor": 2
}

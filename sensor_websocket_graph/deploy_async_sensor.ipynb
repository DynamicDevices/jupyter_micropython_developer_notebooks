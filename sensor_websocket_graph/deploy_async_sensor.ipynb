{
 "cells": [
  {
   "cell_type": "code",
   "execution_count": 82,
   "metadata": {},
   "outputs": [
    {
     "name": "stdout",
     "output_type": "stream",
     "text": [
      "attempt to exit paste mode\n",
      "[\\r\\x03\\x02] b'\\r\\nMicroPython v1.9.2-443-g236297f4 on 2017-11-06; ESP32 module with ESP32\\r\\nType \"help()\" for more information.\\r\\n>>> '\n",
      "Closing serial Serial<id=0x7f5f420ca048, open=True>(port='/dev/ttyUSB1', baudrate=115200, bytesize=8, parity='N', stopbits=1, timeout=0.5, xonxoff=False, rtscts=False, dsrdtr=False)\n",
      "Connecting to Serial /dev/ttyUSB1 baud=115200 \n",
      "Ready.\n",
      "\n"
     ]
    }
   ],
   "source": [
    "%serialconnect"
   ]
  },
  {
   "cell_type": "code",
   "execution_count": 2,
   "metadata": {},
   "outputs": [
    {
     "name": "stdout",
     "output_type": "stream",
     "text": [
      "Sent 9 lines (327 bytes) to connecthotspot.py.\n",
      "Sent 21 lines (645 bytes) to connectwifi.py.\n",
      "Sent 1 lines (16 bytes) to wificodes.txt.\n"
     ]
    }
   ],
   "source": [
    "%sendtofile --quiet --source ../basicsockets/connecthotspot.py\n",
    "%sendtofile --quiet --source ../basicsockets/connectwifi.py\n",
    "%sendtofile --quiet --source ../wificodes.txt"
   ]
  },
  {
   "cell_type": "code",
   "execution_count": 3,
   "metadata": {},
   "outputs": [
    {
     "name": "stdout",
     "output_type": "stream",
     "text": [
      "\u001b[0;33mW (1199706) phy_init: failed to load RF calibration data (0x1102), falling back to full calibration\u001b[0m\n",
      "Scanning wifis: BV6000\n",
      "\u001b[0;32mI (1202296) network: event 1\u001b[0m\n",
      "Connecting to strongest known wifi signal BV6000\n",
      "> auth (b0)\n",
      "> assoc (0)\n",
      "> run (10)\n",
      "\u001b[0;32mI (1203716) network: event 4\u001b[0m\n",
      ".\n",
      "\u001b[0;32mI (1206776) network: GOT_IP\u001b[0m\n",
      "Device has ipnumber 192.168.43.6\n",
      "Installing to: /lib/\n",
      "Warning: pypi.python.org SSL certificate is not validated\n",
      "Installing micropython-uasyncio 1.2.4 from https://pypi.python.org/packages/49/91/3228f62e1d7238d416b37a04cba1427fb8b4abe3666aff6d8bd1f68cd0ad/micropython-uasyncio-1.2.4.tar.gz\n",
      "Installing micropython-uasyncio.core 1.5.1 from https://pypi.python.org/packages/22/ce/1e7ef36446d45f3f74d3f955ddd2dc4e6c526c4cd69050a4ee75a65b251d/micropython-uasyncio.core-1.5.1.tar.gz\n",
      "."
     ]
    }
   ],
   "source": [
    "import connectwifi\n",
    "try:\n",
    "    import uasyncio as asyncio\n",
    "except:\n",
    "    import upip\n",
    "    upip.install('micropython-uasyncio')\n",
    "    import uasyncio as asyncio\n"
   ]
  },
  {
   "cell_type": "code",
   "execution_count": 4,
   "metadata": {},
   "outputs": [
    {
     "name": "stdout",
     "output_type": "stream",
     "text": [
      "Sent 93251 bytes in 3109 chunks to static/raphael.min.js.\n"
     ]
    }
   ],
   "source": [
    "%sendtofile --mkdir --binary --source ../sensor_websocket_graph/raphael.min.js static/\n"
   ]
  },
  {
   "cell_type": "code",
   "execution_count": 5,
   "metadata": {},
   "outputs": [
    {
     "name": "stdout",
     "output_type": "stream",
     "text": [
      "Sent 105 lines (3581 bytes) to static/webserve_funcs.py.\n",
      "Sent 72 lines (2538 bytes) to static/websocket_funcs.py.\n",
      "Sent 239 lines (7225 bytes) to static/graphtest.html.\n"
     ]
    }
   ],
   "source": [
    "%sendtofile --quiet --source ../async_web_serve/webserve_funcs.py     static/\n",
    "%sendtofile --quiet --source ../async_web_serve/websocket_funcs.py    static/\n",
    "%sendtofile --quiet --source ../sensor_websocket_graph/graphtest.html static/\n"
   ]
  },
  {
   "cell_type": "code",
   "execution_count": 6,
   "metadata": {},
   "outputs": [
    {
     "name": "stdout",
     "output_type": "stream",
     "text": [
      "Sent 89 lines (2849 bytes) to vl6180_funcs.py.\n",
      "Sent 65 lines (1934 bytes) to ms5611_funcs.py.\n"
     ]
    }
   ],
   "source": [
    "%sendtofile --quiet --source ../essential_sensor_code/vl6180_funcs.py\n",
    "%sendtofile --quiet --source ../essential_sensor_code/ms5611_funcs.py\n"
   ]
  },
  {
   "cell_type": "code",
   "execution_count": 32,
   "metadata": {},
   "outputs": [
    {
     "name": "stdout",
     "output_type": "stream",
     "text": [
      "Sent 241 lines (7296 bytes) to static/graphtest.html.\n"
     ]
    }
   ],
   "source": [
    "%sendtofile --quiet --source ../sensor_websocket_graph/graphtest.html static/\n"
   ]
  },
  {
   "cell_type": "code",
   "execution_count": 50,
   "metadata": {},
   "outputs": [
    {
     "name": "stdout",
     "output_type": "stream",
     "text": [
      "\n",
      "Closing serial Serial<id=0x7f5f49ea35f8, open=True>(port='/dev/ttyUSB1', baudrate=115200, bytesize=8, parity='N', stopbits=1, timeout=0.5, xonxoff=False, rtscts=False, dsrdtr=False)\n"
     ]
    }
   ],
   "source": []
  },
  {
   "cell_type": "code",
   "execution_count": 103,
   "metadata": {},
   "outputs": [
    {
     "name": "stdout",
     "output_type": "stream",
     "text": [
      "[leftinbuffer] ['ets Jun  8 2016 00:22:57']\n",
      "[leftinbuffer] ['']\n",
      "[leftinbuffer] ['rst:0x1 (POWERON_RESET),boot:0x17 (SPI_FAST_FLASH_BOOT)']\n",
      "[leftinbuffer] ['configsip: 0, SPIWP:0xee']\n",
      "[leftinbuffer] ['clk_drv:0x00,q_drv:0x00,d_drv:0x00,cs0_drv:0x00,hd_drv:0x00,wp_drv:0x00']\n",
      "[leftinbuffer] ['mode:DIO, clock div:2']\n",
      "[leftinbuffer] ['load:0x3fff0018,len:4']\n",
      "[leftinbuffer] ['load:0x3fff001c,len:4332']\n",
      "[leftinbuffer] ['load:0x40078000,len:0']\n",
      "[leftinbuffer] ['load:0x40078000,len:10992']\n",
      "[leftinbuffer] ['entry 0x4007a6c4']\n",
      "[leftinbuffer] ['\\x1b[0;33mW (64) rtc_clk: Potentially bogus XTAL frequency: 35 MHz, guessing 40 MHz\\x1b[0m']\n",
      "[leftinbuffer] ['OSError: [Errno 2] ENOENT']\n",
      "[leftinbuffer] ['MicroPython v1.9.2-443-g236297f4 on 2017-11-06; ESP32 module with ESP32']\n",
      "[leftinbuffer] ['Type \"help()\" for more information.']\n",
      "[leftinbuffer] ['>>> ']\n",
      "repl is in normal command mode\n",
      "[\\r\\x03\\x03] b'\\r\\n>>> \\r\\n>>> \\r\\nMicroPython v1.9.2-443-g236297f4 on 2017-11-06; ESP32 module with ESP32\\r\\nType \"help()\" for more information.\\r\\n>>> \\r\\n>>> \\r\\nPYB: soft reboot\\r\\nOSError: [Errno 2] ENOENT\\r\\nMicroPython v1.9.2-443-g236297f4 on 2017-11-06; ESP32 module with ESP32\\r\\nType \"help()\" for more information.\\r\\n>>> \\r\\n>>> \\r\\n>>> \\r\\n>>> \\r\\n>>> '\n",
      "[\\r\\x01] b'\\r\\n>>> \\r\\nraw REPL; CTRL-B to exit\\r\\n>'"
     ]
    }
   ],
   "source": [
    "%rebootdevice"
   ]
  },
  {
   "cell_type": "code",
   "execution_count": null,
   "metadata": {
    "collapsed": true
   },
   "outputs": [],
   "source": [
    "# main code"
   ]
  },
  {
   "cell_type": "code",
   "execution_count": 93,
   "metadata": {},
   "outputs": [
    {
     "name": "stdout",
     "output_type": "stream",
     "text": [
      "Creating access point ESP_0e3acd\n",
      "Device has ipnumber 192.168.4.1\n"
     ]
    }
   ],
   "source": [
    "#%sendtofile main.py\n",
    "#from connectwifi import ipnumber\n",
    "from connecthotspot import ipnumber\n"
   ]
  },
  {
   "cell_type": "code",
   "execution_count": 104,
   "metadata": {},
   "outputs": [
    {
     "name": "stdout",
     "output_type": "stream",
     "text": [
      "Scanning wifis: BV6000\n",
      ".\u001b[0;32mI (21652) network: event 1\u001b[0m\n",
      "Connecting to strongest known wifi signal BV6000\n",
      "> auth (b0)\n",
      "> assoc (0)\n",
      "> run (10)\n",
      "\u001b[0;32mI (22452) network: event 4\u001b[0m\n",
      "\u001b[0;32mI (23122) network: GOT_IP\u001b[0m\n",
      "Device has ipnumber 192.168.43.6\n"
     ]
    }
   ],
   "source": [
    "#%sendtofile main.py\n",
    "from connectwifi import ipnumber\n",
    "#from connecthotspot import ipnumber\n"
   ]
  },
  {
   "cell_type": "code",
   "execution_count": 105,
   "metadata": {},
   "outputs": [],
   "source": [
    "#%sendtofile --append main.py\n",
    "\n",
    "from webserve_funcs import servestaticfile\n",
    "from webserve_funcs import servefilelist\n",
    "from webserve_funcs import readhttpheaders\n",
    "\n",
    "from websocket_funcs import initiatewebsocket\n",
    "from websocket_funcs import make_hybi07_header\n",
    "from websocket_funcs import wswrite\n",
    "from websocket_funcs import wsread\n",
    "from websocket_funcs import wsreadprintloop\n",
    "\n",
    "#from vl6180_funcs import init1, init2, set_reg8, get_reg8, distmm\n",
    "from ms5611_funcs import setupms5611, aMS5611read\n",
    "from si7021_funcs import setupSI7021, aSI7021humiditytemp\n"
   ]
  },
  {
   "cell_type": "code",
   "execution_count": 106,
   "metadata": {},
   "outputs": [],
   "source": [
    "#%sendtofile --append main.py\n",
    "\n",
    "import uasyncio, ustruct\n",
    "import machine\n",
    "from i2cmodule import i2c\n",
    "\n",
    "# coroutine for handling the write loop (and closing when note comes through thr reader)\n",
    "async def wswritepulseloop(rpath, w, wscondition):\n",
    "    rpath = rpath.split(\",\")\n",
    "    print(rpath)\n",
    "    if rpath[0] == \"pulse\":\n",
    "        a = machine.ADC(machine.Pin(int(rpath[1])))\n",
    "        a.atten(a.ATTN_11DB)\n",
    "        delayms = int(rpath[2])\n",
    "    elif rpath[0] == \"ms5611\":\n",
    "        a = \"b\"\n",
    "        delayms = int(rpath[1])\n",
    "    elif rpath[0] == \"si7021\":\n",
    "        a = \"h\"\n",
    "        delayms = int(rpath[1])\n",
    "        \n",
    "    try:\n",
    "        while wscondition[1]:\n",
    "            while len(wscondition) > 2:\n",
    "                incoming = wscondition.pop(2)\n",
    "                print(\"[WS%d incoming] %s\"%(wscondition[0], incoming))\n",
    "                    \n",
    "            await w.awrite(make_hybi07_header(1*2))\n",
    "            if a == \"b\":\n",
    "                x = await aMS5611read(uasyncio)\n",
    "                x = int(x+0.5)\n",
    "            elif a == \"h\":\n",
    "                x = await aSI7021humiditytemp(uasyncio)\n",
    "                x = int(x[1]*100)\n",
    "            else:\n",
    "                x = a.read()\n",
    "            y = ustruct.pack(\"BB\", (x&0x3F) + 0x30, ((x>>6)&0x3F) + 0x30)\n",
    "            await w.awrite(y)\n",
    "            await uasyncio.sleep_ms(delayms)\n",
    "    except OSError as e:\n",
    "        print(\"[WS%d wpexception] %s\"%(wscondition[0], str(e)))\n",
    "        wscondition[1] = 1\n",
    "    print(\"[WS%d wpleave]\"%wscondition[0])\n",
    "\n",
    "WScount = 0\n",
    "async def servewebsocket(rpath, reader, writer, secwebsocketkey):\n",
    "    global WScount\n",
    "    await initiatewebsocket(writer, secwebsocketkey)\n",
    "    await wswrite(writer, \"HITHEREws(%d)\"%WScount)\n",
    "    wscondition = [WScount, 1]\n",
    "    WScount += 1\n",
    "    loop = uasyncio.get_event_loop()\n",
    "    loop.create_task(wsreadprintloop(reader, wscondition))\n",
    "    loop.create_task(wswritepulseloop(rpath, writer, wscondition))\n",
    "    return False\n",
    "\n"
   ]
  },
  {
   "cell_type": "code",
   "execution_count": 107,
   "metadata": {},
   "outputs": [
    {
     "name": "stdout",
     "output_type": "stream",
     "text": [
      "[leftinbuffer] ['']\n"
     ]
    }
   ],
   "source": [
    "#%sendtofile --append main.py\n",
    "\n",
    "import os, uasyncio\n",
    "async def handleconnection(reader, writer):\n",
    "    receivedrequest = await readhttpheaders(reader)\n",
    "    rpath = receivedrequest.get(\"GET\")\n",
    "    \n",
    "    bcallaclose = True\n",
    "    if \"WebSocketKey\" in receivedrequest:\n",
    "        bcallaclose = await servewebsocket(rpath, reader, writer, receivedrequest[\"WebSocketKey\"])\n",
    "    elif rpath is None:\n",
    "        pass\n",
    "    elif rpath == \"\":\n",
    "        await servefilelist(writer)\n",
    "    else:\n",
    "        await servestaticfile(writer, rpath)\n",
    "        \n",
    "    if bcallaclose:\n",
    "        await writer.aclose()\n"
   ]
  },
  {
   "cell_type": "code",
   "execution_count": 108,
   "metadata": {
    "collapsed": true
   },
   "outputs": [],
   "source": [
    "import gc\n",
    "gc.collect()"
   ]
  },
  {
   "cell_type": "code",
   "execution_count": 109,
   "metadata": {},
   "outputs": [
    {
     "name": "stdout",
     "output_type": "stream",
     "text": [
      "* Running on http://192.168.43.6:80/\n",
      ".File graphtest.html (7151 bytes)-- served in 407ms\n",
      "File raphael.min.js (93251 bytes)-- .served in 5260ms\n",
      "['ms5611', '200']\n",
      "[WS0] b'Hello'\n",
      "[WS0 incoming] b'Hello'\n",
      "......\n",
      "\n",
      "*** Sending Ctrl-C\n",
      "\n"
     ]
    },
    {
     "name": "stderr",
     "output_type": "stream",
     "text": [
      "Traceback (most recent call last):\n",
      "  File \"<stdin>\", line 20, in <module>\n",
      "  File \"/lib/uasyncio/core.py\", line 65, in run_forever\n",
      "  File \"/lib/uasyncio/__init__.py\", line 69, in wait\n",
      "KeyboardInterrupt: \n"
     ]
    }
   ],
   "source": [
    "#%sendtofile --append main.py\n",
    "\n",
    "import uasyncio\n",
    "uasyncio.set_debug(0)\n",
    "\n",
    "setupms5611()\n",
    "setupSI7021()\n",
    "\n",
    "# enables rewriting handleconnection function without restarting\n",
    "def handleconnection_indirect(reader, writer):\n",
    "    try:\n",
    "        return handleconnection(reader, writer)\n",
    "    except OSError as e:\n",
    "        print(\"handleconnection exception\", str(e))\n",
    "    \n",
    "port = 80\n",
    "loop = uasyncio.get_event_loop()\n",
    "print(\"* Running on http://%s:%s/\" % (ipnumber, port))\n",
    "loop.create_task(uasyncio.start_server(handleconnection_indirect, ipnumber, port))\n",
    "loop.run_forever()\n"
   ]
  },
  {
   "cell_type": "code",
   "execution_count": 71,
   "metadata": {},
   "outputs": [
    {
     "name": "stdout",
     "output_type": "stream",
     "text": [
      "Sent 236 lines (7149 bytes).\n"
     ]
    }
   ],
   "source": [
    "%sendtofile --source ../sensor_websocket_graph/graphtest.html graphtest.html\n"
   ]
  },
  {
   "cell_type": "code",
   "execution_count": null,
   "metadata": {},
   "outputs": [],
   "source": [
    "loop.run_forever()\n"
   ]
  },
  {
   "cell_type": "code",
   "execution_count": null,
   "metadata": {
    "collapsed": true
   },
   "outputs": [],
   "source": [
    "%sendtofile --quiet --source ../sensor_websocket_graph/graphtest.html graphtest.html\n"
   ]
  }
 ],
 "metadata": {
  "kernelspec": {
   "display_name": "MicroPython - USB",
   "language": "micropython",
   "name": "micropython"
  },
  "language_info": {
   "codemirror_mode": "python",
   "file_extension": ".py",
   "mimetype": "text/python",
   "name": "micropython"
  }
 },
 "nbformat": 4,
 "nbformat_minor": 2
}

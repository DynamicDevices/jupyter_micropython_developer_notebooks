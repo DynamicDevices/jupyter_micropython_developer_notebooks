{
 "cells": [
  {
   "cell_type": "code",
   "execution_count": 43,
   "metadata": {},
   "outputs": [
    {
     "name": "stdout",
     "output_type": "stream",
     "text": [
      "\u001b[34mConnecting to --port=/dev/ttyUSB4 --baud=115200 \u001b[0m\n",
      "\u001b[34mReady.\n",
      "\u001b[0m"
     ]
    }
   ],
   "source": [
    "%serialconnect"
   ]
  },
  {
   "cell_type": "code",
   "execution_count": 70,
   "metadata": {},
   "outputs": [
    {
     "name": "stdout",
     "output_type": "stream",
     "text": [
      "[174, 0]\r\n"
     ]
    }
   ],
   "source": [
    "# Lessons on strings of bytes, hex and bin notation\n",
    "# splitting and joining\n",
    "print(list(b\"\\xAE\\x00\"))\n"
   ]
  },
  {
   "cell_type": "code",
   "execution_count": null,
   "metadata": {},
   "outputs": [],
   "source": [
    "# Then UART interface datasheet"
   ]
  },
  {
   "cell_type": "code",
   "execution_count": 71,
   "metadata": {},
   "outputs": [],
   "source": [
    "import time\n",
    "from machine import UART\n",
    "\n",
    "uart2 = UART(2, baudrate=115200, rx=2, tx=18)\n"
   ]
  },
  {
   "cell_type": "code",
   "execution_count": null,
   "metadata": {},
   "outputs": [],
   "source": [
    "# Need to make screenshots of the manual as we work through it"
   ]
  },
  {
   "cell_type": "code",
   "execution_count": 86,
   "metadata": {},
   "outputs": [
    {
     "name": "stdout",
     "output_type": "stream",
     "text": [
      "b'\\xbb\\x02\\x08\\x03'\r\n"
     ]
    }
   ],
   "source": [
    "# Read the software version\n",
    "uart2.write(bytes((0xAA, 0x01, 0x04, 2)))\n",
    "time.sleep_ms(20)\n",
    "print(uart2.read())"
   ]
  },
  {
   "cell_type": "code",
   "execution_count": 67,
   "metadata": {},
   "outputs": [
    {
     "name": "stdout",
     "output_type": "stream",
     "text": [
      "b'\\xee\\x01'\r\n"
     ]
    }
   ],
   "source": [
    "# put into op mode\n",
    "uart2.write(bytes((0xAA, 0x00, 0x3D, 1, 0x0C)))\n",
    "time.sleep_ms(20)\n",
    "v = uart2.read()\n",
    "print(v)\n"
   ]
  },
  {
   "cell_type": "code",
   "execution_count": 87,
   "metadata": {},
   "outputs": [
    {
     "name": "stdout",
     "output_type": "stream",
     "text": [
      "b'\\xbb\\x01\\x00'\r\n"
     ]
    }
   ],
   "source": [
    "# The 0x80 android notation\n",
    "uart2.write(bytes((0xAA, 0x01, 0x3B, 1)))\n",
    "time.sleep_ms(20)\n",
    "print(uart2.read())\n"
   ]
  },
  {
   "cell_type": "code",
   "execution_count": 113,
   "metadata": {},
   "outputs": [
    {
     "name": "stdout",
     "output_type": "stream",
     "text": [
      "b'\\xbb\\x06\\xaa\\x15\\t\\x00\\xcf\\xfc'\n",
      "346.625\n",
      "[346.625, 0.5625, -51.0625]\n"
     ]
    }
   ],
   "source": [
    "# Now get the pitch roll and heading\n",
    "uart2.write(bytes((0xAA, 0x01, 0x1A, 6)))\n",
    "time.sleep_ms(10)\n",
    "v = uart2.read()\n",
    "print(v)\n",
    "v = v[2:]\n",
    "print((v[0]+v[1]*256)/16)\n",
    "print([x/16  for x in ustruct.unpack(\"<hhh\", v)])"
   ]
  },
  {
   "cell_type": "code",
   "execution_count": 117,
   "metadata": {},
   "outputs": [
    {
     "name": "stdout",
     "output_type": "stream",
     "text": [
      "b'\\xbb\\x16\\x1e\\x08\\x8e\\xffo\\xff\\x85\\xc0\\x01\\x00\\xfb\\xff\\xff\\xff\\x0f\\x00\\x0f\\x00\\xd4\\x03\\x19?'\r\n"
     ]
    }
   ],
   "source": [
    "uart2.write(bytes((0xAA, 0x01, 0x20, 22)))\n",
    "time.sleep_ms(10)\n",
    "v = uart2.read()\n",
    "print(v)\n"
   ]
  },
  {
   "cell_type": "code",
   "execution_count": 119,
   "metadata": {},
   "outputs": [
    {
     "name": "stdout",
     "output_type": "stream",
     "text": [
      "(2078, -114, -145, -16251, 1, -5, -1, 15, 15, 980)\r\n"
     ]
    }
   ],
   "source": [
    "print(ustruct.unpack(\"<hhhhhhhhhh\", v[2:]))  \n",
    "# See; it's about 9.8m/s^2"
   ]
  },
  {
   "cell_type": "code",
   "execution_count": null,
   "metadata": {},
   "outputs": [],
   "source": []
  },
  {
   "cell_type": "code",
   "execution_count": null,
   "metadata": {},
   "outputs": [],
   "source": []
  },
  {
   "cell_type": "code",
   "execution_count": null,
   "metadata": {},
   "outputs": [],
   "source": [
    "# UDP technology"
   ]
  },
  {
   "cell_type": "code",
   "execution_count": 123,
   "metadata": {},
   "outputs": [
    {
     "name": "stdout",
     "output_type": "stream",
     "text": [
      "[(b'DoESLiverpool', b'\\xf0\\x9f\\xc2\\xf4\\x1b\\xe4', 6, -59, 3, False), (b'Find Out Digital', b'\\x02\\x9f\\xc2\\xf4\\x1b\\xe4', 6, -59, 3, False), (b'Find Out Digital', b'\\x02\\x9f\\xc2\\xf4\\x1a\\x7f', 6, -77, 3, False), (b'DoESLiverpool', b'\\xf0\\x9f\\xc2\\xf4\\x1a\\x7f', 6, -77, 3, False), (b'Find Out Digital', b'\\x02\\x9f\\xc2\\xf4.\\xf4', 11, -80, 3, False), (b'DoESLiverpool', b'\\xf0\\x9f\\xc2\\xf4.\\xf4', 11, -82, 3, False), (b'BB', b'\\xf0\\x9f\\xc2\\xdd\\xd8^', 1, -89, 3, False), (b'Fabric Free Wi-Fi', b'\\xf2\\x9f\\xc2\\xdd\\xd8^', 1, -90, 0, False)]\r\n"
     ]
    }
   ],
   "source": [
    "# Demo of available Wifis\n",
    "import network\n",
    "si = network.WLAN(network.STA_IF) \n",
    "si.active(True)\n",
    "k = si.scan()\n",
    "print(k)"
   ]
  },
  {
   "cell_type": "code",
   "execution_count": 125,
   "metadata": {},
   "outputs": [
    {
     "name": "stdout",
     "output_type": "stream",
     "text": [
      "('192.168.4.1', '255.255.255.0', '192.168.4.1', '0.0.0.0')\r\n"
     ]
    }
   ],
   "source": [
    "# Now do UDP packets \n",
    "import network, socket, time\n",
    "\n",
    "si = network.WLAN(network.AP_IF) \n",
    "si.active(True)         \n",
    "print(si.ifconfig())\n"
   ]
  },
  {
   "cell_type": "code",
   "execution_count": 126,
   "metadata": {},
   "outputs": [
    {
     "name": "stdout",
     "output_type": "stream",
     "text": [
      "\n",
      "Connect to wifi ESP_8C1FB2\n"
     ]
    }
   ],
   "source": [
    "espname = \"ESP_%X%X%X\" % tuple(si.config(\"mac\")[-3:])\n",
    "print(\"\\nConnect to wifi {}\".format(espname))\n",
    "port = 9019\n",
    "\n",
    "sockudp = socket.socket(socket.AF_INET, socket.SOCK_DGRAM)\n",
    "sockudp.settimeout(0.1)\n",
    "sockudp.bind((\"192.168.4.1\", port))\n"
   ]
  },
  {
   "cell_type": "code",
   "execution_count": 131,
   "metadata": {},
   "outputs": [
    {
     "name": "stdout",
     "output_type": "stream",
     "text": [
      "....b'HiThere2' ('192.168.4.3', 41427)\n"
     ]
    }
   ],
   "source": [
    "sockudp.settimeout(1000)\n",
    "rmess, udpaddr = sockudp.recvfrom(100)\n",
    "print(rmess, udpaddr)"
   ]
  },
  {
   "cell_type": "code",
   "execution_count": 132,
   "metadata": {},
   "outputs": [
    {
     "name": "stdout",
     "output_type": "stream",
     "text": [
      ".....\u001b[34m\n",
      "\n",
      "*** Sending Ctrl-C\n",
      "\n",
      "\u001b[0m"
     ]
    },
    {
     "name": "stderr",
     "output_type": "stream",
     "text": [
      "Traceback (most recent call last):\n",
      "  File \"<stdin>\", line 3, in <module>\n",
      "KeyboardInterrupt: \n"
     ]
    }
   ],
   "source": [
    "for i in range(1000):\n",
    "    sockudp.sendto(b\"T%d\"%i, udpaddr)\n",
    "    time.sleep_ms(100)\n"
   ]
  },
  {
   "cell_type": "code",
   "execution_count": null,
   "metadata": {},
   "outputs": [],
   "source": []
  },
  {
   "cell_type": "code",
   "execution_count": 155,
   "metadata": {},
   "outputs": [
    {
     "name": "stdout",
     "output_type": "stream",
     "text": [
      "\u001b[34mConnecting to --port=/dev/ttyUSB4 --baud=115200 \u001b[0m\n",
      "\u001b[34mReady.\n",
      "\u001b[0m"
     ]
    }
   ],
   "source": [
    "%serialconnect"
   ]
  },
  {
   "cell_type": "code",
   "execution_count": 156,
   "metadata": {},
   "outputs": [
    {
     "name": "stdout",
     "output_type": "stream",
     "text": [
      "Sent 33 lines (1057 bytes) to main.py.\n"
     ]
    }
   ],
   "source": [
    "%sendtofile main.py\n",
    "\n",
    "import network, socket, time, ustruct\n",
    "from machine import UART\n",
    "\n",
    "si = network.WLAN(network.AP_IF) \n",
    "si.active(True)         \n",
    "port = 9019\n",
    "sockudp = socket.socket(socket.AF_INET, socket.SOCK_DGRAM)\n",
    "sockudp.settimeout(10000)\n",
    "sockudp.bind((\"192.168.4.1\", port))\n",
    "rmess, udpaddr = sockudp.recvfrom(100)\n",
    "print(\"UDP socket\", udpaddr)\n",
    "\n",
    "uart2 = UART(2, baudrate=115200, rx=2, tx=18)\n",
    "\n",
    "uart2.write(bytes((0xAA, 0x00, 0x3D, 1, 0x0C)))\n",
    "time.sleep_ms(20)\n",
    "print(uart2.read())\n",
    "\n",
    "sockudp.sendto(b\"n,t,qw,qx,qy,qz,lx,ly,lz,gx,gy,gz,temp,calibstat\\n\", udpaddr)\n",
    "n = 0\n",
    "while True:\n",
    "    t = time.ticks_ms()\n",
    "    uart2.write(bytes((0xAA, 0x01, 0x20, 24)))\n",
    "    time.sleep_ms(4)\n",
    "    v = uart2.read()\n",
    "    if v is not None and len(v) == 26:\n",
    "        qw,qx,qy,qz, lx,ly,lz, gx,gy,gz, temp,calibstat = \\\n",
    "            ustruct.unpack(\"<hhhhhhhhhhbB\", v[2:])\n",
    "        s = (n, t, qw,qx,qy,qz, lx/100,ly/100,lz/100, gx/100,gy/100,gz/100, temp,calibstat)\n",
    "        m = b\"%d,%d,%d,%d,%d,%d,%.2f,%.2f,%.2f,%.2f,%.2f,%.2f,%d,%d\\n\" % s\n",
    "        sockudp.sendto(m, udpaddr)\n",
    "        n += 1\n",
    "    time.sleep_ms(6)\n"
   ]
  },
  {
   "cell_type": "code",
   "execution_count": null,
   "metadata": {},
   "outputs": [],
   "source": []
  },
  {
   "cell_type": "code",
   "execution_count": null,
   "metadata": {},
   "outputs": [],
   "source": []
  },
  {
   "cell_type": "code",
   "execution_count": null,
   "metadata": {},
   "outputs": [],
   "source": [
    "# deal with calibration!!!"
   ]
  }
 ],
 "metadata": {
  "kernelspec": {
   "display_name": "MicroPython - USB",
   "language": "micropython",
   "name": "micropython"
  },
  "language_info": {
   "codemirror_mode": "python",
   "file_extension": ".py",
   "mimetype": "text/python",
   "name": "micropython"
  }
 },
 "nbformat": 4,
 "nbformat_minor": 2
}

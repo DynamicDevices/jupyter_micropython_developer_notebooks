{
 "cells": [
  {
   "cell_type": "code",
   "execution_count": 37,
   "metadata": {},
   "outputs": [
    {
     "name": "stdout",
     "output_type": "stream",
     "text": [
      "\u001b[31m\n",
      "\n",
      "***Connecton broken [Input/output error]\n",
      "\u001b[0mYou may need to reconnectserial exception on close write failed: [Errno 5] Input/output error\n",
      "\n",
      "Closing serial Serial<id=0x7f3996e396d8, open=True>(port='/dev/ttyUSB2', baudrate=115200, bytesize=8, parity='N', stopbits=1, timeout=0.5, xonxoff=False, rtscts=False, dsrdtr=False)\n",
      "Connecting to Serial /dev/ttyUSB0 baud=115200 \n",
      "Ready."
     ]
    }
   ],
   "source": [
    "%serialconnect"
   ]
  },
  {
   "cell_type": "code",
   "execution_count": 38,
   "metadata": {},
   "outputs": [
    {
     "name": "stdout",
     "output_type": "stream",
     "text": [
      "ADC works on Pin 32\n",
      "ADC works on Pin 33\n",
      "ADC works on Pin 34\n",
      "ADC works on Pin 35\n",
      "ADC works on Pin 36\n",
      "ADC works on Pin 37\n",
      "ADC works on Pin 38\n",
      "ADC works on Pin 39\n"
     ]
    }
   ],
   "source": [
    "# An ADC (Analog to Digital Converter) is needed to read the value from each green light pulse sensor\n",
    "# Not every pin on the ESP32 has this capability.\n",
    "\n",
    "# Here we test which Pins can do ADC\n",
    "import machine\n",
    "\n",
    "for i in range(50):\n",
    "    try:\n",
    "        machine.ADC(machine.Pin(i))\n",
    "        print(\"ADC works on Pin\", i)\n",
    "    except ValueError:\n",
    "        pass\n",
    "    "
   ]
  },
  {
   "cell_type": "code",
   "execution_count": 13,
   "metadata": {
    "collapsed": true
   },
   "outputs": [],
   "source": [
    "# With the USB socket pointing away from you, the only pins that will \n",
    "# be good for this are on the right hand side, and are D33, D32, D35, D34"
   ]
  },
  {
   "cell_type": "code",
   "execution_count": 39,
   "metadata": {
    "collapsed": true
   },
   "outputs": [],
   "source": [
    "# we need to set the working range to between 0 and 5V using the atten() function\n",
    "a34 = machine.ADC(machine.Pin(34))\n",
    "a34.atten(machine.ADC.ATTN_11DB)"
   ]
  },
  {
   "cell_type": "code",
   "execution_count": 40,
   "metadata": {},
   "outputs": [
    {
     "name": "stdout",
     "output_type": "stream",
     "text": [
      "1811\n",
      "1837\n",
      "1792\n",
      "1715\n",
      "1865\n",
      "1852\n",
      "1828\n",
      "1835\n",
      "1834\n",
      "1834\n"
     ]
    }
   ],
   "source": [
    "# We can make a short set of readings, like so:\n",
    "import time\n",
    "\n",
    "for i in range(10):\n",
    "    print(a34.read())\n",
    "    time.sleep(0.1)"
   ]
  },
  {
   "cell_type": "code",
   "execution_count": 16,
   "metadata": {},
   "outputs": [
    {
     "name": "stdout",
     "output_type": "stream",
     "text": [
      "2131 2193 2229 2234 2211 2166 2112 2037 1965 1887 1820 1755 1692 1642 1605 1585 1581 1584 1600 1616 1643 1649 1662 1663 1662 1664 1671 1680 1698 1721 1753 1781 1819 1850 1875 1904 1931 1931 1919 1889 1853 1806 1751 1706 1655 1617 1595 1584 1584 1590 1613 1639 1680 1728 1785 1840 1886 1931 1975 2009 2046 2086 2122 2145 2167 2181 2193 2203 2210 2222 2215 2224 2225 2225 2231 2235 2240 2255 2285 2331 2387 2466 2545 2639 2699 2734 2736 2722 2687 2640 2587 2522 2455 2390 2362 2405 2578 3043 4091 4095 \n",
      "4095 4095 4095 4095 4095 2982 2125 1322 672 163 0 0 0 0 128 659 1238 1807 2319 2751 3071 3227 3125 2787 2297 1744 1179 624 80 0 0 0 0 0 0 0 0 0 0 0 0 0 0 0 0 0 0 0 0 0 130 594 1040 1424 1758 2019 2224 2352 2433 2458 2451 2413 2355 2275 2203 2119 2038 1965 1911 1843 1815 1779 1767 1744 1754 1743 1758 1757 1775 1774 1788 1792 1809 1809 1821 1819 1833 1827 1841 1837 1845 1842 1845 1841 1854 1841 1847 1846 1851 1841 \n",
      "1849 1848 1846 1854 1848 1852 1854 1855 1853 1856 1851 1856 1855 1856 1860 1860 1859 1868 1857 1870 1863 1872 1866 1875 1872 1883 1872 1885 1877 1891 1881 1895 1885 1895 1883 1903 1887 1903 1888 1902 1883 1899 1886 1898 1887 1898 1886 1897 1893 1895 1892 1897 1888 1898 1885 1895 1891 1895 1891 1898 1889 1898 1904 1895 1895 1897 1894 1900 1893 1892 1899 1897 1893 1894 1900 1891 1898 1890 1898 1890 1893 1889 1899 1891 1903 1890 1903 1885 1897 1886 1899 1882 1898 1883 1897 1885 1904 1887 1901 1889 \n",
      "1906 1883 1904 1884 1904 1883 1904 1887 1895 1877 1901 1879 1891 1875 1889 1872 1885 1874 1881 1874 1890 1876 1890 1888 1898 1889 1895 1889 1904 1899 1903 1893 1904 1895 1897 1893 1890 1891 1891 1886 1887 1891 1883 1887 1885 1893 1876 1887 1883 1890 1882 1891 1883 1891 1883 1891 1885 1897 1877 1891 1872 1883 1869 1873 1857 1860 1866 1750 1563 1685 2643 4095 4095 4095 4095 4095 4095 4093 4095 4095 4095 4095 4095 4095 4095 4095 4095 4095 4095 4095 4095 4095 4095 3923 3085 2510 2003 1573 1216 944 \n",
      "761 656 624 651 720 829 959 1104 1252 1393 1526 1653 1754 1840 1911 1967 2005 2026 2035 2033 2030 2016 2000 1983 1968 1950 1936 1921 1907 1900 1893 1887 1885 1886 1883 1885 1888 1888 1890 1895 1893 1895 1895 1911 1894 1895 1901 1902 1904 1904 1908 1909 1910 1913 1919 1919 1921 1915 1913 1916 1917 1911 1913 1915 1913 1913 1910 1907 1905 1904 1905 1904 1907 1904 1905 1904 1904 1901 1897 1898 1904 1899 1895 1891 1891 1897 1891 1893 1891 1889 1893 1893 1887 1888 1887 1888 1893 1890 1889 1891 \n",
      "1886 1888 1888 1886 1882 1882 1883 1879 1878 1880 1842 1874 1877 1877 1874 1874 1877 1874 1874 1875 1875 1875 1877 1879 1878 1876 1881 1883 1882 1883 1879 1882 1879 1885 1885 1882 1889 1889 1890 1892 1892 1892 1898 1899 1903 1904 1904 1911 1915 1922 1924 1931 1936 1936 1943 1953 1955 1968 1972 1981 1988 1997 2000 2013 2015 2026 2031 2038 2046 2055 2061 2064 2066 2069 2076 2079 2079 2083 2085 2083 2083 2077 2077 2075 2066 2064 2055 2037 2032 2019 2002 1998 1983 1968 1952 1938 1925 1917 1905 1893 \n",
      "1883 1875 1871 1865 1860 1861 1859 1857 1858 1856 1856 1855 1850 1846 1845 1840 1835 1836 1837 1835 1831 1837 1835 1831 1839 1834 1840 1846 1851 1859 1858 1863 1871 1871 1867 1867 1861 1857 1855 1850 1847 1843 1841 1839 1837 1833 1831 1830 1829 1833 1827 1827 1827 1826 1823 1824 1825 1826 1833 1829 1831 1838 1840 1849 1851 1853 1857 1866 1872 1872 1877 1877 1875 1879 1883 1885 1885 1884 1883 1883 1878 1876 1874 1872 1866 1861 1861 1855 1855 1855 1851 1853 1854 1853 1853 1853 1853 1853 1851 1855 \n",
      "1856 1853 1856 1855 1861 1855 1856 1855 1854 1854 1867 1895 1910 1899 1854 1813 1792 1792 1811 1825 1838 1838 1831 1834 1843 1859 1872 1879 1879 1877 1877 1879 1879 1887 1885 1886 1891 1884 1887 1885 1883 1882 1881 1873 1875 1875 1877 1876 1879 1881 1882 1882 1890 1891 1891 1895 1901 1897 1903 1904 1904 1905 1904 1906 1905 1913 1910 1909 1914 1911 1915 1913 1914 1913 1918 1919 1919 1920 1917 1918 1910 1909 1905 1903 1903 1901 1898 1895 1891 1891 1891 1891 1890 1888 1886 1887 1900 1846 1883 1887 \n",
      "1889 1887 1887 1883 1886 1891 1887 1904 1890 1889 1889 1890 1891 1891 1889 1893 1892 1889 1891 1891 1897 1895 1902 1902 1899 1899 1890 1902 1911 1915 1905 1879 1851 1833 1827 1902 1856 1862 1867 1869 1875 1883 1893 1895 1895 1893 1898 1898 1903 1895 1892 1889 1881 1881 1885 1873 1872 1872 1870 1872 1872 1869 1867 1866 1869 1866 1867 1867 1862 1861 1861 1865 1861 1862 1862 1869 1863 1863 1865 1866 1869 1868 1870 1870 1872 1872 1872 1873 1872 1876 1877 1882 1886 1887 1889 1891 1895 1898 1895 1895 \n",
      "\n",
      "\n",
      "*** Sending Ctrl-C\n",
      "\n",
      "1924 "
     ]
    },
    {
     "name": "stderr",
     "output_type": "stream",
     "text": [
      "Traceback (most recent call last):\n",
      "  File \"<stdin>\", line 9, in <module>\n",
      "KeyboardInterrupt: \n"
     ]
    }
   ],
   "source": [
    "# We can efficiently print out the readings (without overloading the browser \n",
    "# by printing it in an unlimited stream), like so:\n",
    "\n",
    "import time\n",
    "\n",
    "for i in range(60):\n",
    "    for j in range(100):\n",
    "        print(a34.read(), end=\" \")  # puts a blank instead of a newline\n",
    "        time.sleep(0.01)  # make a reading every 1/100th of a second\n",
    "    print()\n",
    "\n",
    "# You can stop the printing by selecting Kernel -> Interrupt in the menu, \n",
    "# or hitting escape and then \"i\" twice."
   ]
  },
  {
   "cell_type": "code",
   "execution_count": 9,
   "metadata": {},
   "outputs": [
    {
     "name": "stdout",
     "output_type": "stream",
     "text": [
      "2908109\r\n"
     ]
    }
   ],
   "source": [
    "print(time.ticks_ms())\n"
   ]
  },
  {
   "cell_type": "code",
   "execution_count": 17,
   "metadata": {},
   "outputs": [
    {
     "name": "stdout",
     "output_type": "stream",
     "text": [
      "15 lines captured"
     ]
    }
   ],
   "source": [
    "%capture --quiet testpulsesingle.txt\n",
    "\n",
    "# Make 15 seconds of samples at 100 samples per second\n",
    "import time\n",
    "\n",
    "for i in range(15):\n",
    "    for j in range(100):\n",
    "        print(a34.read(), end=\" \")  # puts a blank instead of a newline\n",
    "        time.sleep(0.01)\n",
    "    print()\n",
    "    "
   ]
  },
  {
   "cell_type": "code",
   "execution_count": null,
   "metadata": {
    "collapsed": true
   },
   "outputs": [],
   "source": [
    "# To plot what these readings are, you need to open up the \n",
    "# notebook \"plot_adc_measurements\" which runs in Python on your PC\n",
    "# (instead of the Python in the ESP32) and allows you to do scientific plots\n"
   ]
  },
  {
   "cell_type": "code",
   "execution_count": 10,
   "metadata": {},
   "outputs": [
    {
     "name": "stdout",
     "output_type": "stream",
     "text": [
      "\u001b[31m\n",
      "\n",
      "***Connecton broken [Input/output error]\n",
      "\u001b[0mYou may need to reconnect\n",
      "\n",
      "***OSError [Input/output error]\n",
      "\n"
     ]
    }
   ],
   "source": [
    "import time\n",
    "\n",
    "def measure34(numberofseconds, samplespersecond):\n",
    "    ticks0 = time.ticks_ms()\n",
    "    for i in range(numberofseconds):\n",
    "        for j in range(samplespersecond):\n",
    "            print(a34.read(), end=\" \")  # puts a blank instead of a newline\n",
    "            time.sleep(1/samplespersecond)\n",
    "        print()\n",
    "    return (time.ticks_ms() - ticks0)/1000\n",
    "    "
   ]
  },
  {
   "cell_type": "code",
   "execution_count": 8,
   "metadata": {},
   "outputs": [
    {
     "name": "stdout",
     "output_type": "stream",
     "text": [
      "10 lines captured"
     ]
    }
   ],
   "source": [
    "%capture --quiet testpulsesingle100.txt\n",
    "numberofseconds = 100\n",
    "elapsedtime = measure34(10, numberofseconds)"
   ]
  },
  {
   "cell_type": "code",
   "execution_count": 9,
   "metadata": {},
   "outputs": [
    {
     "name": "stdout",
     "output_type": "stream",
     "text": [
      "10.213 should be close to 100\r\n"
     ]
    }
   ],
   "source": [
    "print(elapsedtime, \"should be close to\", numberofseconds)"
   ]
  },
  {
   "cell_type": "code",
   "execution_count": 20,
   "metadata": {},
   "outputs": [
    {
     "name": "stdout",
     "output_type": "stream",
     "text": [
      "10 lines captured"
     ]
    }
   ],
   "source": [
    "%capture --quiet testpulsesingle500.txt\n",
    "elapsedtime = measure34(10, 500)"
   ]
  },
  {
   "cell_type": "code",
   "execution_count": 21,
   "metadata": {},
   "outputs": [
    {
     "name": "stdout",
     "output_type": "stream",
     "text": [
      "11.034 should be close to 10\r\n"
     ]
    }
   ],
   "source": [
    "print(elapsedtime, \"should be close to\", numberofseconds)"
   ]
  },
  {
   "cell_type": "code",
   "execution_count": 22,
   "metadata": {
    "collapsed": true
   },
   "outputs": [],
   "source": []
  },
  {
   "cell_type": "code",
   "execution_count": null,
   "metadata": {
    "collapsed": true
   },
   "outputs": [],
   "source": [
    "# There seems to be high frequency noise in the sensor\n",
    "# So this lets us make 10 readings at a time and then \n",
    "# print them out at a frequency of 50 samples per second\n",
    "# which gives a pretty smooth result"
   ]
  },
  {
   "cell_type": "code",
   "execution_count": 28,
   "metadata": {
    "collapsed": true
   },
   "outputs": [],
   "source": [
    "import time\n",
    "\n",
    "def measure34sub(numberofseconds, samplespersecond, subsamplestoaverage):\n",
    "    ticks0 = time.ticks_ms()\n",
    "    microsecondstep = int(1/samplespersecond/subsamplestoaverage*1000000)\n",
    "    for i in range(numberofseconds):\n",
    "        for j in range(samplespersecond):\n",
    "            samplesum = 0\n",
    "            for k in range(subsamplestoaverage):\n",
    "                samplesum += a34.read()\n",
    "                time.sleep_us(microsecondstep)\n",
    "            print(int(samplesum/subsamplestoaverage+0.5), end=\" \")\n",
    "        print()\n",
    "    return (time.ticks_ms() - ticks0)/1000\n",
    "    "
   ]
  },
  {
   "cell_type": "code",
   "execution_count": 29,
   "metadata": {},
   "outputs": [
    {
     "name": "stdout",
     "output_type": "stream",
     "text": [
      "10 lines captured"
     ]
    }
   ],
   "source": [
    "%capture --quiet testpulsesingle50avg.txt\n",
    "\n",
    "numberofseconds = 10\n",
    "elapsedtime = measure34sub(numberofseconds, 50, 10)\n"
   ]
  },
  {
   "cell_type": "code",
   "execution_count": 30,
   "metadata": {},
   "outputs": [
    {
     "name": "stdout",
     "output_type": "stream",
     "text": [
      "10.262 should be close to 10\r\n"
     ]
    }
   ],
   "source": [
    "print(elapsedtime, \"should be close to\", numberofseconds)"
   ]
  },
  {
   "cell_type": "code",
   "execution_count": 41,
   "metadata": {},
   "outputs": [],
   "source": [
    "\n",
    "########################\n",
    "# Here we Try lighting an LED on pin 5\n",
    "# by an intensity using pulse width modulation\n",
    "m5 = machine.PWM(machine.Pin(5))\n"
   ]
  },
  {
   "cell_type": "code",
   "execution_count": 42,
   "metadata": {
    "collapsed": true
   },
   "outputs": [],
   "source": [
    "# brightest\n",
    "m5.duty(1023)  \n",
    "\n",
    "# middle\n",
    "m5.duty(500)  \n",
    "\n",
    "# dark\n",
    "m5.duty(50)  \n"
   ]
  },
  {
   "cell_type": "code",
   "execution_count": 43,
   "metadata": {},
   "outputs": [
    {
     "name": "stdout",
     "output_type": "stream",
     "text": [
      "...\n",
      "**[ys] <class 'serial.serialutil.SerialException'>\n",
      "**[ys] read failed: device reports readiness to read but returned no data (device disconnected or multiple access on port?)\n",
      "\n",
      "\n",
      "**[ys] <class 'serial.serialutil.SerialException'>\n",
      "**[ys] read failed: device reports readiness to read but returned no data (device disconnected or multiple access on port?)\n",
      "\n"
     ]
    }
   ],
   "source": [
    "# then we copy the reading into the led brightness\n",
    "# scaling by a range\n",
    "alow, ahigh = 1500, 1900\n",
    "import time\n",
    "for i in range(100000):\n",
    "    x = a34.read()\n",
    "    x = x - alow\n",
    "    x = x/(ahigh-alow)\n",
    "    if x < 0:\n",
    "        x = 0\n",
    "    if x > 1:\n",
    "        x = 1\n",
    "    x = 1 - x\n",
    "    m5.duty(int(x*1023))\n",
    "    time.sleep(0.05)"
   ]
  },
  {
   "cell_type": "code",
   "execution_count": null,
   "metadata": {
    "collapsed": true
   },
   "outputs": [],
   "source": []
  }
 ],
 "metadata": {
  "kernelspec": {
   "display_name": "MicroPython - USB",
   "language": "micropython",
   "name": "micropython"
  },
  "language_info": {
   "codemirror_mode": "python",
   "file_extension": ".py",
   "mimetype": "text/python",
   "name": "micropython"
  }
 },
 "nbformat": 4,
 "nbformat_minor": 2
}

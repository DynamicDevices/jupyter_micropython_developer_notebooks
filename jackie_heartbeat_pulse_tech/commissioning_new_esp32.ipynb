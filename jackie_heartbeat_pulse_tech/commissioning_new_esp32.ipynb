{
 "cells": [
  {
   "cell_type": "code",
   "execution_count": 1,
   "metadata": {},
   "outputs": [
    {
     "name": "stdout",
     "output_type": "stream",
     "text": [
      "\u001b[31mNo serial connected\n",
      "\u001b[0m  %serialconnect to connect\n",
      "  %lsmagic to list commands"
     ]
    }
   ],
   "source": [
    "# Your ESP32 comes with the wrong software.  \n",
    "\n",
    "# You need to clear it and flash its memory with the latest version of MicroPython \n",
    "# using the program esptool.py  https://diyprojects.io/esp-easy-flash-firmware-esptool-py-esp8266\n",
    "\n",
    "# To make it easier, the jupyter_micropython_kernel has the functions to help you set this up."
   ]
  },
  {
   "cell_type": "code",
   "execution_count": 3,
   "metadata": {},
   "outputs": [
    {
     "name": "stdout",
     "output_type": "stream",
     "text": [
      "Executing:\n",
      "  esptool.py --port /dev/ttyUSB0 erase_flash\n",
      "\n",
      "esptool.py v2.0\n",
      "Connecting........__\n",
      "Detecting chip type... ESP32\n",
      "Chip is ESP32D0WDQ6 (revision 1)\n",
      "Uploading stub...\n",
      "Running stub...\n",
      "Stub running...\n",
      "Erasing flash (this may take a while)...\n",
      "Chip erase completed successfully in 1.9s\n",
      "Hard resetting...\n"
     ]
    }
   ],
   "source": [
    "%esptool erase"
   ]
  },
  {
   "cell_type": "code",
   "execution_count": 8,
   "metadata": {
    "scrolled": true
   },
   "outputs": [
    {
     "name": "stdout",
     "output_type": "stream",
     "text": [
      "Executing:\n",
      "  esptool.py --port /dev/ttyUSB0 --chip esp32 write_flash -z 0x1000 /home/julian/executables/micropythonbins/esp32-20171019-v1.9.2-280-g2305d848.bin\n",
      "\n",
      "esptool.py v2.0\n",
      "Connecting........_\n",
      "Chip is ESP32D0WDQ6 (revision 1)\n",
      "Uploading stub...\n",
      "Running stub...\n",
      "Stub running...\n",
      "Configuring flash size...\n",
      "Auto-detected Flash size: 4MB\n",
      "Compressed 904000 bytes to 567938...\n",
      "Wrote 904000 bytes (567938 compressed) at 0x00001000 in 50.4 seconds (effective 143.4 kbit/s)...\n",
      "Hash of data verified.\n",
      "\n",
      "Leaving...\n",
      "Hard resetting...\n"
     ]
    }
   ],
   "source": [
    "%esptool esp32 \"/home/julian/executables/micropythonbins/esp32-20171019-v1.9.2-280-g2305d848.bin\"\n"
   ]
  },
  {
   "cell_type": "code",
   "execution_count": 9,
   "metadata": {},
   "outputs": [
    {
     "name": "stdout",
     "output_type": "stream",
     "text": [
      "Connecting to Serial /dev/ttyUSB0 baud=115200 \n",
      "Ready."
     ]
    }
   ],
   "source": [
    "%serialconnect"
   ]
  },
  {
   "cell_type": "code",
   "execution_count": 10,
   "metadata": {},
   "outputs": [
    {
     "name": "stdout",
     "output_type": "stream",
     "text": [
      "Hi there\n",
      "Hi there\n",
      "Hi there\n",
      "Hi there\n",
      "Hi there\n",
      "Hi there\n",
      "Hi there\n",
      "Hi there\n",
      "Hi there\n",
      "Hi there\n"
     ]
    }
   ],
   "source": [
    "for i in range(10):\n",
    "    print(\"Hi there\")"
   ]
  },
  {
   "cell_type": "code",
   "execution_count": null,
   "metadata": {
    "collapsed": true
   },
   "outputs": [],
   "source": []
  }
 ],
 "metadata": {
  "kernelspec": {
   "display_name": "MicroPython - USB",
   "language": "micropython",
   "name": "micropython"
  },
  "language_info": {
   "codemirror_mode": "python",
   "file_extension": ".py",
   "mimetype": "text/python",
   "name": "micropython"
  }
 },
 "nbformat": 4,
 "nbformat_minor": 2
}

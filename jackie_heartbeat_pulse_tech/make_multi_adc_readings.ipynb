{
 "cells": [
  {
   "cell_type": "code",
   "execution_count": 1,
   "metadata": {},
   "outputs": [
    {
     "name": "stdout",
     "output_type": "stream",
     "text": [
      "Connecting to Serial /dev/ttyUSB0 baud=115200 \n",
      "Ready."
     ]
    }
   ],
   "source": [
    "%serialconnect"
   ]
  },
  {
   "cell_type": "code",
   "execution_count": 3,
   "metadata": {},
   "outputs": [],
   "source": [
    "import machine\n",
    "\n",
    "a34 = machine.ADC(machine.Pin(34))\n",
    "a34.atten(machine.ADC.ATTN_11DB)\n",
    "a35 = machine.ADC(machine.Pin(35))\n",
    "a35.atten(machine.ADC.ATTN_11DB)\n"
   ]
  },
  {
   "cell_type": "code",
   "execution_count": 12,
   "metadata": {
    "collapsed": true
   },
   "outputs": [],
   "source": [
    "import time\n",
    "\n",
    "ads = [a34,a35]\n",
    "def measure34sub(numberofseconds, samplespersecond, subsamplestoaverage, compensationratio):\n",
    "    ticks0 = time.ticks_ms()\n",
    "    \n",
    "    # compensationratio is used to shorten the sleep cycle so that we hit the right time durations\n",
    "    # (by sleeping slightly less than we should because the rest of the code is slow)\n",
    "    microsecondstep = int(1/samplespersecond/subsamplestoaverage*1000000*compensationratio)\n",
    "    \n",
    "    # one second per line\n",
    "    for i in range(numberofseconds):\n",
    "        \n",
    "        # readings per second\n",
    "        for j in range(samplespersecond):\n",
    "            \n",
    "            # number of samples averaged per (1/samplespersecond)^th of a second for a reading\n",
    "            samplesums = [0]*len(ads)\n",
    "            for k in range(subsamplestoaverage):\n",
    "                \n",
    "                # make a reading from each of the ADC\n",
    "                for i, a in enumerate(ads):\n",
    "                    samplesums[i] += a.read()\n",
    "                time.sleep_us(microsecondstep)\n",
    "            print(\",\".join(str(int(samplesum/subsamplestoaverage+0.5))  for samplesum in samplesums), end=\" \")\n",
    "        print()\n",
    "    return (time.ticks_ms() - ticks0)/1000\n",
    "    "
   ]
  },
  {
   "cell_type": "code",
   "execution_count": 22,
   "metadata": {},
   "outputs": [
    {
     "name": "stdout",
     "output_type": "stream",
     "text": [
      "10 lines captured"
     ]
    }
   ],
   "source": [
    "%capture --quiet testpulsemulti50avg.txt\n",
    "elapsedtime = measure34sub(10, 50, 10, 0.7)\n"
   ]
  },
  {
   "cell_type": "code",
   "execution_count": 21,
   "metadata": {},
   "outputs": [
    {
     "name": "stdout",
     "output_type": "stream",
     "text": [
      "10.348\r\n"
     ]
    }
   ],
   "source": [
    "print(elapsedtime)"
   ]
  },
  {
   "cell_type": "code",
   "execution_count": null,
   "metadata": {
    "collapsed": true
   },
   "outputs": [],
   "source": []
  }
 ],
 "metadata": {
  "kernelspec": {
   "display_name": "MicroPython - USB",
   "language": "micropython",
   "name": "micropython"
  },
  "language_info": {
   "codemirror_mode": "python",
   "file_extension": ".py",
   "mimetype": "text/python",
   "name": "micropython"
  }
 },
 "nbformat": 4,
 "nbformat_minor": 2
}

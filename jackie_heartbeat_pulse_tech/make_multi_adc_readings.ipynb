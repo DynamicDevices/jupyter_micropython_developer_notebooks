{
 "cells": [
  {
   "cell_type": "code",
   "execution_count": 192,
   "metadata": {},
   "outputs": [
    {
     "name": "stdout",
     "output_type": "stream",
     "text": [
      "\u001b[31m\n",
      "\n",
      "***Connecton broken [Input/output error]\n",
      "\u001b[0mYou may need to reconnectserial exception on close write failed: [Errno 5] Input/output error\n",
      "\n",
      "Closing serial Serial<id=0x7f47c1b60cc0, open=True>(port='/dev/ttyUSB0', baudrate=115200, bytesize=8, parity='N', stopbits=1, timeout=0.5, xonxoff=False, rtscts=False, dsrdtr=False)\n",
      "Connecting to Serial /dev/ttyUSB1 baud=115200 \n",
      "Ready."
     ]
    }
   ],
   "source": [
    "%serialconnect"
   ]
  },
  {
   "cell_type": "code",
   "execution_count": 195,
   "metadata": {},
   "outputs": [
    {
     "name": "stdout",
     "output_type": "stream",
     "text": [
      "PWM(19, freq=50, duty=16992) PWM(18, freq=50, duty=16992) PWM(5, freq=50, duty=16992) PWM(21, freq=50, duty=16992)\r\n"
     ]
    }
   ],
   "source": [
    "# run this cell only once!  (Press reset button if you accidentally do it twice)\n",
    "# There is a bug in ESP32-Micropython https://github.com/micropython/micropython-esp32/issues/208)\n",
    "\n",
    "import machine\n",
    "m19 = machine.PWM(machine.Pin(19), freq=50, duty=int(1.5/20*1024))\n",
    "m18 = machine.PWM(machine.Pin(18), freq=50, duty=int(1.5/20*1024))\n",
    "m5 = machine.PWM(machine.Pin(5), freq=50, duty=int(1.5/20*1024))\n",
    "m21 = machine.PWM(machine.Pin(21), freq=50, duty=int(1.5/20*1024))\n",
    "print(m19, m18, m5, m21)\n"
   ]
  },
  {
   "cell_type": "code",
   "execution_count": 196,
   "metadata": {},
   "outputs": [
    {
     "name": "stdout",
     "output_type": "stream",
     "text": [
      "PWM(19, freq=50, duty=16992) PWM(18, freq=50, duty=16992) PWM(5, freq=50, duty=16992) PWM(21, freq=50, duty=16992)\r\n"
     ]
    }
   ],
   "source": [
    "print(m19, m18, m5, m21)"
   ]
  },
  {
   "cell_type": "code",
   "execution_count": 180,
   "metadata": {
    "collapsed": true
   },
   "outputs": [],
   "source": [
    "import machine\n",
    "\n",
    "# Set up the four possible input pulse pins \n",
    "a34 = machine.ADC(machine.Pin(34))\n",
    "a34.atten(machine.ADC.ATTN_11DB)\n",
    "a35 = machine.ADC(machine.Pin(35))\n",
    "a35.atten(machine.ADC.ATTN_11DB)\n",
    "\n",
    "a32 = machine.ADC(machine.Pin(32))\n",
    "a32.atten(machine.ADC.ATTN_11DB)\n",
    "a33 = machine.ADC(machine.Pin(33))\n",
    "a33.atten(machine.ADC.ATTN_11DB)\n"
   ]
  },
  {
   "cell_type": "code",
   "execution_count": 181,
   "metadata": {
    "collapsed": true
   },
   "outputs": [],
   "source": [
    "# lists of pins to read, and servo pins to output for immediate noisy feedback\n",
    "# (you can shorten or lengthen these lists if you are not using all the pulse sensors)\n",
    "ads = [a34,a32,a35,a33]\n",
    "sds = [m19,m18,m5,m21]\n"
   ]
  },
  {
   "cell_type": "code",
   "execution_count": 182,
   "metadata": {
    "collapsed": true
   },
   "outputs": [],
   "source": [
    "# Full function for reading the sets of pulse sensors\n",
    "import time\n",
    "\n",
    "def measure34sub(numberofseconds, samplespersecond, subsamplestoaverage, compensationratio):\n",
    "    ticks0 = time.ticks_ms()\n",
    "    \n",
    "    # compensationratio is used to shorten the sleep cycle so that we hit the right time durations\n",
    "    # (by sleeping slightly less than we should because the rest of the code is slow)\n",
    "    microsecondstep = int(1/samplespersecond/subsamplestoaverage*1000000*compensationratio)\n",
    "    \n",
    "    # one second per line\n",
    "    for i in range(numberofseconds):\n",
    "        \n",
    "        # readings per second\n",
    "        for j in range(samplespersecond):\n",
    "            \n",
    "            # number of samples averaged per (1/samplespersecond)^th of a second for a reading\n",
    "            samplesums = [0]*len(ads)\n",
    "            for k in range(subsamplestoaverage):\n",
    "                \n",
    "                # make a reading from each of the ADC\n",
    "                for i, a in enumerate(ads):\n",
    "                    samplesums[i] += a.read()\n",
    "                time.sleep_us(microsecondstep)\n",
    "            print(\",\".join(str(int(samplesum/subsamplestoaverage+0.5))  for samplesum in samplesums), end=\" \")\n",
    "\n",
    "            for i in range(min(len(ads), len(sds))):\n",
    "                v = int(samplesums[i]/subsamplestoaverage+0.5)\n",
    "                v = (v-1700)/(1900-1700)\n",
    "                v = max(0.1, min(0.9, v))\n",
    "                sds[i].duty(int((v*2 + 0.5)/20*1024))\n",
    "                \n",
    "        print()\n",
    "    return (time.ticks_ms() - ticks0)/1000\n",
    "    "
   ]
  },
  {
   "cell_type": "code",
   "execution_count": null,
   "metadata": {
    "collapsed": true
   },
   "outputs": [],
   "source": [
    "# the cell below runs and captures 100 lines (100 seconds) of data into the file \"testpulsemulti50avg.txt\"\n",
    "\n",
    "# ** Use Menu: Kernel->Interrupt to break early"
   ]
  },
  {
   "cell_type": "code",
   "execution_count": 190,
   "metadata": {},
   "outputs": [
    {
     "name": "stdout",
     "output_type": "stream",
     "text": [
      "85 lines captured\n",
      "\n",
      "*** Sending Ctrl-C\n",
      "\n"
     ]
    },
    {
     "name": "stderr",
     "output_type": "stream",
     "text": [
      "Traceback (most recent call last):\n",
      "  File \"<stdin>\", line 1, in <module>\n",
      "  File \"<stdin>\", line 24, in measure34sub\n",
      "  File \"<stdin>\", line 24, in <genexpr>\n",
      "KeyboardInterrupt: \n"
     ]
    }
   ],
   "source": [
    "%capture --quiet testpulsemulti50avg.txt\n",
    "elapsedtime = measure34sub(numberofseconds=100, samplespersecond=50, \n",
    "                           subsamplestoaverage=10, compensationratio=0.7)\n",
    "\n",
    "# compensationratio shortens the sleep periods to try and make the \n",
    "# elapsedtime equal to numberofseconds.  \n",
    "# (It compensates for python running slow by sampling slightly more often)"
   ]
  },
  {
   "cell_type": "code",
   "execution_count": 188,
   "metadata": {},
   "outputs": [
    {
     "name": "stdout",
     "output_type": "stream",
     "text": [
      "120.053\r\n"
     ]
    }
   ],
   "source": [
    "print(elapsedtime)"
   ]
  },
  {
   "cell_type": "code",
   "execution_count": null,
   "metadata": {
    "collapsed": true
   },
   "outputs": [],
   "source": []
  }
 ],
 "metadata": {
  "kernelspec": {
   "display_name": "MicroPython - USB",
   "language": "micropython",
   "name": "micropython"
  },
  "language_info": {
   "codemirror_mode": "python",
   "file_extension": ".py",
   "mimetype": "text/python",
   "name": "micropython"
  }
 },
 "nbformat": 4,
 "nbformat_minor": 2
}

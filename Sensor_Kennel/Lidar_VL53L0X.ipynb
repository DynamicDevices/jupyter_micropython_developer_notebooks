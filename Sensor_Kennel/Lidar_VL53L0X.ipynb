{
 "cells": [
  {
   "cell_type": "markdown",
   "metadata": {},
   "source": [
    "Short range lidar from 20mm to 2m (in good conditions) which plots\n",
    "up the numbers onto the OLED screen of the TTGO ESP32\n",
    "\n",
    "####  Stuff to do\n",
    "\n",
    "Separate out the detection of device present into own file of functions\n",
    "\n",
    "Make a closed quick enclosed loop that boots up and states I2C\n",
    "devices present, waits a moment, and then states which device we have\n",
    "\n",
    "Then it should begin dumping numbers from it\n",
    "\n",
    "Apply to lidar, accelerometer, humidity, temperature\n",
    "\n",
    "Place on second breadboard that has labels and wires on it.\n",
    "\n",
    "Instructions on this\n",
    "\n",
    "BNO055 case\n",
    "\n",
    "Graphing case (with a jumper wire)\n",
    "\n",
    "Exporting numbers out to wifi or to mqtt?"
   ]
  },
  {
   "cell_type": "code",
   "execution_count": 1,
   "metadata": {},
   "outputs": [
    {
     "name": "stdout",
     "output_type": "stream",
     "text": [
      "\u001b[34mConnecting to --port=/dev/ttyUSB0 --baud=115200 \u001b[0m\n",
      "\u001b[34mReady.\n",
      "\u001b[0m"
     ]
    }
   ],
   "source": [
    "%serialconnect"
   ]
  },
  {
   "cell_type": "code",
   "execution_count": null,
   "metadata": {
    "collapsed": true
   },
   "outputs": [],
   "source": [
    "%sendtofile --source OLED_driver.py"
   ]
  },
  {
   "cell_type": "code",
   "execution_count": 2,
   "metadata": {
    "collapsed": true
   },
   "outputs": [],
   "source": [
    "from OLED_driver import i2c, fbuff, oledshow"
   ]
  },
  {
   "cell_type": "code",
   "execution_count": 3,
   "metadata": {},
   "outputs": [
    {
     "name": "stdout",
     "output_type": "stream",
     "text": [
      "[60, 64]\r\n"
     ]
    }
   ],
   "source": [
    "print(i2c.scan())"
   ]
  },
  {
   "cell_type": "code",
   "execution_count": 40,
   "metadata": {
    "collapsed": true
   },
   "outputs": [],
   "source": [
    "fbuff.fill(0)\n",
    "oledshow()"
   ]
  },
  {
   "cell_type": "code",
   "execution_count": 42,
   "metadata": {
    "collapsed": true
   },
   "outputs": [],
   "source": [
    "import ustruct\n",
    "\n",
    "def writeData(reg, val):\n",
    "    val = ustruct.pack(\"B\", val)\n",
    "    i2c.writeto_mem(0x29, reg, val)\n",
    "\n",
    "def readData(Reg, num):\n",
    "    return i2c.readfrom_mem(0x29, Reg, num)\n",
    "\n",
    "#print(\"Revision ID:\", hex(readData(0x00c2, 1)[0]))\n",
    "#print(\"Device ID:\", hex(readData(0x00c0, 1)[0]))\n",
    "\n",
    "def VL53L0Xinit():\n",
    "    d = readData(0x0089, 1)\n",
    "    d = (ord(d) & 0xFE) | 0x01\n",
    "    writeData(0x0089, d)\n",
    "    for r, v in [(0x88,0),(0x80,1),(0xff,1),(0,0),(0x91,0x3c),(0,1),(0xff,0),(0x80,0)]:\n",
    "        writeData(r, v)\n",
    "    for r, v in [(0x80,1),(0xff,1),(0,0),(0x91,0x3c),(0,1),(0xff,0),(0x80,0)]:\n",
    "        writeData(r, v) \n",
    "    writeData(0x0000, 0x0002) # VL53L0X_REG_SYSRANGE_START, VL53L0X_REG_SYSRANGE_MODE_BACKTOBACK\n",
    "\n",
    "def VL53L0Xdist():\n",
    "    k = readData(0x0014, 12)\n",
    "    b = ustruct.unpack(\">HHH\", k[6:])\n",
    "    #b[0] ambientCount, b[1] signalCount\n",
    "    status = k[0]>>3  # accurate when this is 11\n",
    "    if status == 11:\n",
    "        return b[2]/4\n",
    "    return 0"
   ]
  },
  {
   "cell_type": "code",
   "execution_count": 46,
   "metadata": {
    "collapsed": true
   },
   "outputs": [],
   "source": [
    "VL53L0Xinit()"
   ]
  },
  {
   "cell_type": "code",
   "execution_count": 50,
   "metadata": {},
   "outputs": [
    {
     "name": "stdout",
     "output_type": "stream",
     "text": [
      "41.0\r\n"
     ]
    }
   ],
   "source": [
    "print(VL53L0Xdist())\n"
   ]
  },
  {
   "cell_type": "code",
   "execution_count": 49,
   "metadata": {},
   "outputs": [
    {
     "name": "stdout",
     "output_type": "stream",
     "text": [
      "b'^\\x06+\\x00\\xff\\xff\\x0b\\x18\\x00\\x06\\x00\\xa5'\r\n"
     ]
    }
   ],
   "source": [
    "print(readData(0x14, 12))"
   ]
  },
  {
   "cell_type": "code",
   "execution_count": 52,
   "metadata": {},
   "outputs": [
    {
     "name": "stdout",
     "output_type": "stream",
     "text": [
      "...\u001b[34m\n",
      "\n",
      "*** Sending Ctrl-C\n",
      "\n",
      "\u001b[0m"
     ]
    },
    {
     "name": "stderr",
     "output_type": "stream",
     "text": [
      "Traceback (most recent call last):\n",
      "  File \"<stdin>\", line 6, in <module>\n",
      "KeyboardInterrupt: \n"
     ]
    }
   ],
   "source": [
    "import time\n",
    "while True:\n",
    "    fbuff.fill(0)\n",
    "    fbuff.text(\"VL53L0X short lidar\", 1, 2, 1)\n",
    "    fbuff.text(\"%.2f mm\"%VL53L0Xdist(), 1, 20, 1)\n",
    "    oledshow()\n",
    "    time.sleep_ms(100)\n"
   ]
  },
  {
   "cell_type": "code",
   "execution_count": null,
   "metadata": {
    "collapsed": true
   },
   "outputs": [],
   "source": []
  },
  {
   "cell_type": "code",
   "execution_count": null,
   "metadata": {
    "collapsed": true
   },
   "outputs": [],
   "source": []
  },
  {
   "cell_type": "code",
   "execution_count": 7,
   "metadata": {},
   "outputs": [
    {
     "name": "stdout",
     "output_type": "stream",
     "text": [
      "\u001b[32mWriting VL53L0X_funcs.py\n",
      "\n",
      "\u001b[0m"
     ]
    }
   ],
   "source": [
    "%%writefile VL53L0X_funcs.py\n",
    "\n",
    "import ustruct\n",
    "i2c = None\n",
    "\n",
    "def writeData(reg, val):\n",
    "    val = ustruct.pack(\"B\", val)\n",
    "    i2c.writeto_mem(0x29, reg, val)\n",
    "\n",
    "def readData(Reg, num):\n",
    "    return i2c.readfrom_mem(0x29, Reg, num)\n",
    "\n",
    "#print(\"Revision ID:\", hex(readData(0x00c2, 1)[0]))\n",
    "#print(\"Device ID:\", hex(readData(0x00c0, 1)[0]))\n",
    "\n",
    "def VL53L0Xinit(li2c):\n",
    "    global i2c\n",
    "    i2c = li2c\n",
    "    d = readData(0x0089, 1)\n",
    "    d = (ord(d) & 0xFE) | 0x01\n",
    "    writeData(0x0089, d)\n",
    "    for r, v in [(0x88,0),(0x80,1),(0xff,1),(0,0),(0x91,0x3c),(0,1),(0xff,0),(0x80,0)]:\n",
    "        writeData(r, v)\n",
    "    for r, v in [(0x80,1),(0xff,1),(0,0),(0x91,0x3c),(0,1),(0xff,0),(0x80,0)]:\n",
    "        writeData(r, v) \n",
    "    writeData(0x0000, 0x0002) # VL53L0X_REG_SYSRANGE_START, VL53L0X_REG_SYSRANGE_MODE_BACKTOBACK\n",
    "\n",
    "def VL53L0Xdist():\n",
    "    k = readData(0x0014, 12)\n",
    "    b = ustruct.unpack(\">HHH\", k[6:])\n",
    "    #b[0] ambientCount, b[1] signalCount\n",
    "    status = k[0]>>3  # accurate when this is 11\n",
    "    if status == 11:\n",
    "        return b[2]/4\n",
    "    return 0\n"
   ]
  },
  {
   "cell_type": "code",
   "execution_count": null,
   "metadata": {
    "collapsed": true
   },
   "outputs": [],
   "source": []
  }
 ],
 "metadata": {
  "kernelspec": {
   "display_name": "MicroPython - USB",
   "language": "micropython",
   "name": "micropython"
  },
  "language_info": {
   "codemirror_mode": "python",
   "file_extension": ".py",
   "mimetype": "text/python",
   "name": "micropython"
  }
 },
 "nbformat": 4,
 "nbformat_minor": 2
}

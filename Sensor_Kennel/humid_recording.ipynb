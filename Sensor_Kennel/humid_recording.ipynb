{
 "cells": [
  {
   "cell_type": "code",
   "execution_count": 1,
   "metadata": {},
   "outputs": [
    {
     "name": "stdout",
     "output_type": "stream",
     "text": [
      "\u001b[34mConnecting to --port=/dev/ttyUSB1 --baud=115200 \u001b[0m\n",
      "\u001b[34mReady.\n",
      "\u001b[0m"
     ]
    }
   ],
   "source": [
    "%serialconnect"
   ]
  },
  {
   "cell_type": "code",
   "execution_count": 37,
   "metadata": {},
   "outputs": [
    {
     "name": "stdout",
     "output_type": "stream",
     "text": [
      "Sent 55 lines (2042 bytes) to SI7021_funcs.py.\n"
     ]
    }
   ],
   "source": [
    "%sendtofile --source SI7021_funcs.py\n"
   ]
  },
  {
   "cell_type": "code",
   "execution_count": 2,
   "metadata": {
    "collapsed": true
   },
   "outputs": [],
   "source": [
    "from OLED_driver import i2c, fbuff, oledshow"
   ]
  },
  {
   "cell_type": "code",
   "execution_count": 15,
   "metadata": {},
   "outputs": [
    {
     "name": "stdout",
     "output_type": "stream",
     "text": [
      "data94781.bin 400\n",
      "data99029.bin 400\n",
      "data103184.bin 400\n",
      "data107341.bin 400\n",
      "data111499.bin 0\n"
     ]
    }
   ],
   "source": [
    "import os\n",
    "for s in os.listdir():\n",
    "    if s[:4] == \"data\":\n",
    "        print(s, os.stat(s)[6])\n"
   ]
  },
  {
   "cell_type": "code",
   "execution_count": 16,
   "metadata": {},
   "outputs": [
    {
     "name": "stdout",
     "output_type": "stream",
     "text": [
      "deleting data94781.bin\n",
      "deleting data99029.bin\n",
      "deleting data103184.bin\n",
      "deleting data107341.bin\n",
      "deleting data111499.bin\n"
     ]
    }
   ],
   "source": [
    "for s in os.listdir():\n",
    "    if s[:4] == \"data\":\n",
    "        print(\"deleting\", s)\n",
    "        os.remove(s)\n"
   ]
  },
  {
   "cell_type": "code",
   "execution_count": 17,
   "metadata": {},
   "outputs": [
    {
     "name": "stdout",
     "output_type": "stream",
     "text": [
      "250000.0\r\n"
     ]
    }
   ],
   "source": [
    "print(1000000/4)"
   ]
  },
  {
   "cell_type": "code",
   "execution_count": 38,
   "metadata": {},
   "outputs": [
    {
     "name": "stdout",
     "output_type": "stream",
     "text": [
      "repl is in normal command mode\n",
      "[\\r\\x03\\x03] b'\\r\\nMicroPython v1.9.3-454-g34e224a4 on 2018-03-14; ESP32 module with ESP32\\r\\nType \"help()\" for more information.\\r\\n>>> \\r\\n>>> \\r\\nPYB: soft reboot\\r\\nOSError: [Errno 2] ENOENT\\r\\nMicroPython v1.9.3-454-g34e224a4 on 2018-03-14; ESP32 module with ESP32\\r\\nType \"help()\" for more information.\\r\\n>>> \\r\\n>>> \\r\\n>>> '\n",
      "[\\r\\x01] b'\\r\\n>>> \\r\\nraw REPL; CTRL-B to exit\\r\\n>'"
     ]
    }
   ],
   "source": [
    "%rebootdevice"
   ]
  },
  {
   "cell_type": "code",
   "execution_count": 17,
   "metadata": {},
   "outputs": [
    {
     "name": "stdout",
     "output_type": "stream",
     "text": [
      "Sent 23 lines (644 bytes) to main.py.\n"
     ]
    }
   ],
   "source": [
    "%sendtofile main.py\n",
    "\n",
    "from OLED_driver import i2c, fbuff, oledshow\n",
    "from SI7021_funcs import setupSI7021, SI7021humiditytempBin, SI7021humiditytempConv\n",
    "import ustruct, time\n",
    "\n",
    "setupSI7021(i2c)\n",
    "\n",
    "fout = None\n",
    "for n in range(250000):\n",
    "    if (n%10000) == 0:\n",
    "        if fout:\n",
    "            fout.close()\n",
    "        fout = open(\"data%d.bin\"%time.ticks_ms(), \"wb\")\n",
    "    bh, bt = SI7021humiditytempBin()\n",
    "    fout.write(bh)\n",
    "    fout.write(bt)\n",
    "    h, t = SI7021humiditytempConv(bh, bt)\n",
    "    fbuff.fill(0)\n",
    "    fbuff.text(\"SI7021\", 0, 0, 1)\n",
    "    fbuff.text(\"humid: %.1f\"%h, 8, 20, 1)\n",
    "    fbuff.text(\"temp:  %.1f\"%t, 8, 30, 1)\n",
    "    fbuff.text(\"n:  %d\"%n, 8, 40, 1)\n",
    "    oledshow()\n",
    "fout.close()\n"
   ]
  },
  {
   "cell_type": "code",
   "execution_count": 10,
   "metadata": {},
   "outputs": [
    {
     "name": "stdout",
     "output_type": "stream",
     "text": [
      "serial exception on close write failed: [Errno 5] Input/output error\n",
      "\u001b[34mConnecting to --port=/dev/ttyUSB1 --baud=115200 \u001b[0m\n",
      "\u001b[34mReady.\n",
      "\u001b[0m"
     ]
    }
   ],
   "source": [
    "%serialconnect"
   ]
  },
  {
   "cell_type": "code",
   "execution_count": 33,
   "metadata": {},
   "outputs": [
    {
     "name": "stderr",
     "output_type": "stream",
     "text": [
      "Traceback (most recent call last):\n",
      "  File \"<stdin>\", line 1, in <module>\n",
      "  File \"Dmain.py\", line 4, in <module>\n",
      "NameError: name 'i2c' is not defined\n"
     ]
    }
   ],
   "source": [
    "import Dmain"
   ]
  },
  {
   "cell_type": "code",
   "execution_count": null,
   "metadata": {
    "collapsed": true
   },
   "outputs": [],
   "source": []
  }
 ],
 "metadata": {
  "kernelspec": {
   "display_name": "MicroPython - USB",
   "language": "micropython",
   "name": "micropython"
  },
  "language_info": {
   "codemirror_mode": "python",
   "file_extension": ".py",
   "mimetype": "text/python",
   "name": "micropython"
  }
 },
 "nbformat": 4,
 "nbformat_minor": 2
}

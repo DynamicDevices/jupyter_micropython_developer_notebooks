{
 "cells": [
  {
   "cell_type": "code",
   "execution_count": 33,
   "metadata": {},
   "outputs": [
    {
     "name": "stdout",
     "output_type": "stream",
     "text": [
      "serial exception on close write failed: [Errno 5] Input/output error\n",
      "\u001b[34mConnecting to --port=/dev/ttyUSB3 --baud=115200 \u001b[0m\n",
      "\u001b[34mReady.\n",
      "\u001b[0m"
     ]
    }
   ],
   "source": [
    "%serialconnect"
   ]
  },
  {
   "cell_type": "code",
   "execution_count": 34,
   "metadata": {},
   "outputs": [
    {
     "name": "stdout",
     "output_type": "stream",
     "text": [
      "['0x68']\n",
      "We have an MPU6050\n"
     ]
    }
   ],
   "source": [
    "from machine import I2C, Pin\n",
    "i2c = I2C(scl=Pin(15, Pin.OUT, Pin.PULL_UP), sda=Pin(4, Pin.OUT, Pin.PULL_UP))\n",
    "\n",
    "ads = i2c.scan()\n",
    "print([hex(s)  for s in ads])\n",
    "if 0x68 in ads:\n",
    "    print(\"We have an MPU6050\")\n"
   ]
  },
  {
   "cell_type": "code",
   "execution_count": 35,
   "metadata": {},
   "outputs": [
    {
     "name": "stdout",
     "output_type": "stream",
     "text": [
      "Sent 163 lines (6486 bytes) to MPU6050_funcs.py.\n"
     ]
    }
   ],
   "source": [
    "%sendtofile --source MPU6050_funcs.py\n",
    "#%sendtofile --source MPU6050_dmpMemoryv6.hex"
   ]
  },
  {
   "cell_type": "code",
   "execution_count": 36,
   "metadata": {},
   "outputs": [],
   "source": [
    "from MPU6050_funcs import setupDMP, calibgyros, calibacc\n",
    "\n",
    "setupDMP(i2c, \"MPU6050_dmpMemoryv6.hex\")\n",
    "calibgyros((80, -14, 30))\n",
    "calibacc((582, 951, 1692))\n"
   ]
  },
  {
   "cell_type": "code",
   "execution_count": 40,
   "metadata": {},
   "outputs": [
    {
     "name": "stdout",
     "output_type": "stream",
     "text": [
      "0xc0\r\n"
     ]
    }
   ],
   "source": [
    "writeBit(0x6A, 7, 1)\n",
    "print(hex(readByte(0x6A)))\n",
    "writeBit(0x6A, 7, 0)\n"
   ]
  },
  {
   "cell_type": "code",
   "execution_count": 46,
   "metadata": {},
   "outputs": [
    {
     "name": "stdout",
     "output_type": "stream",
     "text": [
      "3 0\n",
      "3 0\n",
      "3 0\n",
      "1 0\n",
      "1 0\n",
      "1 0\n",
      "3 0\n",
      "1 0\n",
      "3 0\n",
      "3 0\n",
      "3 0\n",
      "1 0\n",
      "3 0\n",
      "1 0\n",
      "3 0\n",
      "1 0\n",
      "3 0\n",
      "1 0\n",
      "3 0\n",
      "1 0\n",
      "0\n",
      "3 0\n"
     ]
    }
   ],
   "source": [
    "import ubinascii\n",
    "from MPU6050_funcs import setupDMP, calibgyros, calibacc\n",
    "from MPU6050_funcs import getFIFOCount, setDMPEnabled, getIntStatus, readfifoBuffer, ConvertQuatToEuler\n",
    "\n",
    "import time\n",
    "setDMPEnabled(True)\n",
    "for i in range(50):\n",
    "    mpuIntStatus = getIntStatus()\n",
    "    fifoCount = getFIFOCount()\n",
    "    if fifoCount >= 28:\n",
    "        fifoBuffer = readfifoBuffer(28)\n",
    "        #print(ubinascii.hexlify(fifoBuffer))\n",
    "        continue\n",
    "    print(mpuIntStatus, fifoCount)\n",
    "    time.sleep_ms(4)\n",
    "print(getFIFOCount())\n",
    "setDMPEnabled(False)\n",
    "mpuIntStatus = getIntStatus()\n",
    "fifoCount = getFIFOCount()\n",
    "print(mpuIntStatus, fifoCount)"
   ]
  },
  {
   "cell_type": "code",
   "execution_count": 52,
   "metadata": {},
   "outputs": [
    {
     "name": "stdout",
     "output_type": "stream",
     "text": [
      "(81.79306, -0.1611739, 225.7938)\n",
      "(76.2696, 3.291496, 139.0428)\n",
      "(78.63178, 7.121366, 54.07476)\n",
      "(84.30116, 1.607184, 287.4115)\n",
      "(73.21054, -2.392029, 345.5811)\n",
      "(55.37981, 34.46194, 312.9005)\n",
      "(73.87878, 7.215528, 355.9018)\n",
      "(67.95148, 22.0149, 299.2634)\n",
      "(77.65548, 8.898805, 321.3654)\n",
      "(69.52027, -11.18773, 244.2555)\n",
      "(41.34737, -47.43162, 238.6008)\n",
      "(23.95605, 51.93978, 241.3801)\n",
      "(43.97464, -22.02891, 245.8946)\n",
      "(36.10372, 33.83172, 214.0178)\n",
      "(53.05242, -5.902741, 219.9172)\n",
      "(15.20683, 24.26231, 287.3217)\n",
      "(25.31234, -6.249844, 235.4435)\n",
      "(42.82795, -22.46389, 260.9643)\n",
      "(80.50888, 8.770383, 293.098)\n",
      "(72.19625, -6.192444, 48.42065)\n",
      "(67.64935, -19.46391, 72.34277)\n",
      "(59.30353, 11.81353, 55.69047)\n",
      "(68.00523, 21.94616, 18.50809)\n",
      "(87.61903, -2.255959, 75.18922)\n",
      "(71.51754, 1.970032, 84.05183)\n",
      "(70.54081, 15.43255, 30.72014)\n",
      "(82.2402, 7.503702, 306.608)\n",
      "(79.03867, 1.89553, 131.5143)\n",
      "(73.83565, 9.732336, 54.33524)\n",
      "(78.31604, 9.826788, 329.4065)\n",
      "0\n"
     ]
    }
   ],
   "source": [
    "from MPU6050_funcs import writeBit, readByte, writeByte, ConvertQuatToEuler\n",
    "import time, ustruct \n",
    "\n",
    "setDMPEnabled(True)\n",
    "i = 0\n",
    "while i < 1500:\n",
    "    fifoBuffer = None\n",
    "    while getFIFOCount() >= 28:\n",
    "        fifoBuffer = readfifoBuffer(28)\n",
    "    if fifoBuffer is not None:\n",
    "        i += 1\n",
    "        if (i%50) == 1:\n",
    "            q0, l, q1, l, q2, l, q3, l = ustruct.unpack(\">hhhhhhhh\", fifoBuffer)\n",
    "            print(ConvertQuatToEuler(q0, q1, q2, q3))\n",
    "    else:\n",
    "        time.sleep_ms(4)\n",
    "print(getFIFOCount())\n",
    "setDMPEnabled(False)\n"
   ]
  }
 ],
 "metadata": {
  "kernelspec": {
   "display_name": "MicroPython - USB",
   "language": "micropython",
   "name": "micropython"
  },
  "language_info": {
   "codemirror_mode": "python",
   "file_extension": ".py",
   "mimetype": "text/python",
   "name": "micropython"
  }
 },
 "nbformat": 4,
 "nbformat_minor": 2
}

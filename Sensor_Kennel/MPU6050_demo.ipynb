{
 "cells": [
  {
   "cell_type": "code",
   "execution_count": 1,
   "metadata": {},
   "outputs": [
    {
     "name": "stdout",
     "output_type": "stream",
     "text": [
      "\u001b[34mConnecting to --port=/dev/ttyUSB3 --baud=115200 \u001b[0m\n",
      "\u001b[34mReady.\n",
      "\u001b[0m"
     ]
    }
   ],
   "source": [
    "%serialconnect"
   ]
  },
  {
   "cell_type": "code",
   "execution_count": null,
   "metadata": {
    "collapsed": true
   },
   "outputs": [],
   "source": [
    "# Apparently there is a sensor fusion DMP digital motion processor\n",
    "# that should be able to process on the device \n",
    "# https://github.com/micropython-IMU/micropython-mpu9150/issues/6\n"
   ]
  },
  {
   "cell_type": "code",
   "execution_count": null,
   "metadata": {},
   "outputs": [
    {
     "name": "stdout",
     "output_type": "stream",
     "text": [
      "['0x68']\n",
      "We have an MPU6050\n"
     ]
    }
   ],
   "source": [
    "from machine import I2C, Pin\n",
    "rst = Pin(16, Pin.OUT)\n",
    "rst.value(1)\n",
    "\n",
    "i2c = I2C(scl=Pin(15, Pin.OUT, Pin.PULL_UP), sda=Pin(4, Pin.OUT, Pin.PULL_UP), freq=450000)\n",
    "ads = i2c.scan()\n",
    "print([hex(s)  for s in ads])\n",
    "if 0x68 in ads:\n",
    "    print(\"We have an MPU6050\")\n"
   ]
  },
  {
   "cell_type": "code",
   "execution_count": null,
   "metadata": {},
   "outputs": [],
   "source": [
    "i2c.writeto_mem(0x68, 0x6B, b\"\\x00\")  # disable sleep mode and select clock source as the XGyro\n"
   ]
  },
  {
   "cell_type": "code",
   "execution_count": null,
   "metadata": {},
   "outputs": [
    {
     "name": "stdout",
     "output_type": "stream",
     "text": [
      "[0.9226074, -0.02099609, 0.4555664] [-2.755725, 0.4656488, -1.045802]\r\n"
     ]
    }
   ],
   "source": [
    "import ustruct\n",
    "bdata = i2c.readfrom_mem(0x68, 0x3B, 14)\n",
    "data = ustruct.unpack('>hhhhhhh', bdata)\n",
    "accel = [x/(65536//2//2) for x in data[0:3]]\n",
    "gyros = [x/(65536//250//2) for x in data[4:7]]\n",
    "print(accel, gyros)\n"
   ]
  },
  {
   "cell_type": "code",
   "execution_count": null,
   "metadata": {},
   "outputs": [
    {
     "name": "stdout",
     "output_type": "stream",
     "text": [
      "0x68\r\n"
     ]
    }
   ],
   "source": [
    "import time\n",
    "\n",
    "print(hex(i2c.readfrom_mem(0x68, 0x75, 1)[0]))  # who am I (the I2C address)\n",
    "\n",
    "# look at MPU6050 register map datasheet\n",
    "i2c.writeto_mem(0x68, 0x6B, b\"\\x80\")  # reset device\n",
    "time.sleep_ms(100)\n",
    "i2c.writeto_mem(0x68, 0x68, b\"\\x07\")  # reset gyro, accel, temp\n",
    "time.sleep_ms(100)\n"
   ]
  },
  {
   "cell_type": "code",
   "execution_count": null,
   "metadata": {},
   "outputs": [],
   "source": [
    "i2c.writeto_mem(0x68, 0x6B, b\"\\x01\")  # disable sleep mode and select clock source as the XGyro\n",
    "i2c.writeto_mem(0x68, 0x6C, b\"\\x00\")  # enable all sensors (standby=0)\n",
    "i2c.writeto_mem(0x68, 0x1A, b\"\\x01\")  # Enable digital low pass filter (DLPF)\n",
    "i2c.writeto_mem(0x68, 0x19, b\"\\x20\")  # sample rate is 33Hz=1kH/(1+rate) (1kH because DLPF enabled)\n",
    "\n",
    "accel_range = 2  # g m/s\n",
    "v = i2c.readfrom_mem(0x68, 0x1C, 1)[0]\n",
    "v = (v&~0x18 | 0x00)\n",
    "i2c.writeto_mem(0x68, 0x1C, bytes([v]))\n",
    "\n",
    "gyro_range = 250  # deg/sec\n",
    "v = i2c.readfrom_mem(0x68, 0x1B, 1)[0]\n",
    "v = (v&~0x18 | 0x00)\n",
    "i2c.writeto_mem(0x68, 0x1B, bytes([v]))\n",
    "\n",
    "import ustruct, time\n",
    "bdata = bytearray(14)"
   ]
  },
  {
   "cell_type": "code",
   "execution_count": null,
   "metadata": {},
   "outputs": [
    {
     "name": "stdout",
     "output_type": "stream",
     "text": [
      "accel: [0.9265137, -0.01477051, 0.4494629] gyro: [-2.580153, 0.5954198, -0.8015267]\n",
      "accel: [0.5335693, -0.3244629, 0.5107422] gyro: [19.49618, -37.51909, 25.07634]\n",
      "accel: [0.9155273, -0.02661133, 0.4489746] gyro: [-2.458015, 0.7328244, -1.045802]\n",
      "accel: [-0.2254639, -0.1268311, 1.096069] gyro: [12.03053, 250.1298, 1.839695]\n",
      "accel: [-0.4547119, 0.001831055, 0.8961182] gyro: [-3.946565, -1.526718, -0.8015267]\n",
      "accel: [-0.4558105, -0.006835938, 0.8970947] gyro: [-3.022901, 0.2213741, -0.8473283]\n",
      "accel: [0.8946533, -0.09216309, 0.5523682] gyro: [-36.93893, -250.1374, -11.57252]\n",
      "accel: [0.3571777, 0.1170654, -1.069092] gyro: [-37.58779, -36.9542, -2.916031]\n",
      "accel: [0.5683594, 0.6875, -0.2215576] gyro: [-149.4275, 190.7252, 13.81679]\n",
      "accel: [0.9960938, 0.3682861, -0.2001953] gyro: [-5.145038, 20.35878, 206.0076]\n",
      "."
     ]
    }
   ],
   "source": [
    "for i in range(10):\n",
    "    i2c.readfrom_mem_into(0x68, 0x3B, bdata)\n",
    "    data = ustruct.unpack('>hhhhhhh', bdata)\n",
    "    accel = [x/(65536//2//2) for x in data[0:3]]\n",
    "    gyros = [x/(65536//250//2) for x in data[4:7]]\n",
    "    print(\"accel:\", accel, \"gyro:\", gyros)\n",
    "    time.sleep(1)"
   ]
  },
  {
   "cell_type": "code",
   "execution_count": null,
   "metadata": {
    "collapsed": true
   },
   "outputs": [],
   "source": []
  }
 ],
 "metadata": {
  "kernelspec": {
   "display_name": "MicroPython - USB",
   "language": "micropython",
   "name": "micropython"
  },
  "language_info": {
   "codemirror_mode": "python",
   "file_extension": ".py",
   "mimetype": "text/python",
   "name": "micropython"
  }
 },
 "nbformat": 4,
 "nbformat_minor": 2
}

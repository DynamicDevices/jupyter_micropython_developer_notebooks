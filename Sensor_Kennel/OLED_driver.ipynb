{
 "cells": [
  {
   "cell_type": "markdown",
   "metadata": {},
   "source": [
    "This is stripped down to keep code as simple as possible for running\n",
    "the SSD1306 OLED attached to the TTGO ESP32 through I2C\n"
   ]
  },
  {
   "cell_type": "code",
   "execution_count": 1,
   "metadata": {},
   "outputs": [
    {
     "name": "stdout",
     "output_type": "stream",
     "text": [
      "\u001b[34mConnecting to --port=/dev/ttyUSB3 --baud=115200 \u001b[0m\n",
      "\u001b[34mReady.\n",
      "\u001b[0m"
     ]
    }
   ],
   "source": [
    "%serialconnect"
   ]
  },
  {
   "cell_type": "code",
   "execution_count": 2,
   "metadata": {},
   "outputs": [
    {
     "name": "stdout",
     "output_type": "stream",
     "text": [
      "i2c devices [60] must contain 60\r\n"
     ]
    }
   ],
   "source": [
    "from machine import I2C, Pin\n",
    "\n",
    "rst = Pin(16, Pin.OUT)\n",
    "rst.value(1)\n",
    "i2c = I2C(scl=Pin(15, Pin.OUT, Pin.PULL_UP), sda=Pin(4, Pin.OUT, Pin.PULL_UP), freq=450000)\n",
    "\n",
    "i2c = machine.I2C(scl=machine.Pin(4), sda=machine.Pin(5)) # for the ESP8266\n",
    "\n",
    "print(\"i2c devices\", i2c.scan(), \"must contain\", 0x3c)\n"
   ]
  },
  {
   "cell_type": "code",
   "execution_count": 3,
   "metadata": {},
   "outputs": [],
   "source": [
    "import framebuf\n",
    "\n",
    "# There is an extra byte to the data buffer to hold an I2C data/command byte\n",
    "# to use hardware-compatible I2C transactions.\n",
    "buffer = bytearray(((64 // 8) * 128) + 1)\n",
    "buffer[0] = 0x40  # Set first byte of data buffer to Co=0, D/C=1\n",
    "fbuff = framebuf.FrameBuffer1(memoryview(buffer)[1:], 128, 64)\n",
    "\n",
    "cmdforinit = bytes((0xae,        # CMD_DISP=off\n",
    "                    0x20, 0x00,  # SET_MEM_ADDR  horizontal\n",
    "                    0x40,        # SET_DISP_START_LINE\n",
    "                    0xa0 | 0x01, # column addr 127 mapped to SEG0\n",
    "                    0xa8, 63,    # SET_MUX_RATIO, height-1\n",
    "                    0xc0 | 0x08, # SET_COM_OUT_DIR scan from COM[N] to COM0\n",
    "                    0xd3, 0x00,  # SET_DISP_OFFSET\n",
    "                    0xda, 0x12,  # SET_COM_PIN_CFG\n",
    "                    0xd5, 0x80,  # SET_DISP_CLK_DIV\n",
    "                    0xd9, 0xf1,  # SET_PRECHARGE\n",
    "                    0xdb, 0x30,  # SET_VCOM_DESEL 0.83*Vcc\n",
    "                    0x81, 0xff,  # SET_CONTRAST maximum\n",
    "                    0xa4,        # SET_ENTIRE_ON output follows RAM contents\n",
    "                    0xa6,        # SET_NORM_INV not inverted\n",
    "                    0x8d, 0x14,  # SET_CHARGE_PUMP\n",
    "                    0xae | 0x01  # SET_DISP on\n",
    "                   ))\n",
    "for c in cmdforinit:\n",
    "    i2c.writeto(0x3c, bytes((0x80, c)))\n",
    "\n",
    "cmdforshow = bytes((0x80, 0x21, # SET_COL_ADDR\n",
    "                    0x80, 0,    # 0\n",
    "                    0x80, 127,  # width-1\n",
    "                    0x80, 0x22, # SET_PAGE_ADDR\n",
    "                    0x80, 0,    # 0\n",
    "                    0x80, 7     # height//8 - 1\n",
    "                    ))   \n",
    " \n",
    "def oledshow():\n",
    "    i2c.writeto(0x3c, cmdforshow)\n",
    "    i2c.writeto(0x3c, buffer)\n",
    "    \n",
    "def oledcontrast(contrast):\n",
    "    i2c.writeto(0x3c, bytes((0x80, 0x81, 0x80, contrast)))\n",
    "\n",
    "def oledinvert(invert=True):\n",
    "    i2c.writeto(0x3c, bytes((0x80, 0xa6 | (invert & 1))))\n",
    "\n"
   ]
  },
  {
   "cell_type": "code",
   "execution_count": 9,
   "metadata": {},
   "outputs": [
    {
     "name": "stdout",
     "output_type": "stream",
     "text": [
      "object <FrameBuffer> is of type FrameBuffer\n",
      "  fill -- <function>\n",
      "  fill_rect -- <function>\n",
      "  pixel -- <function>\n",
      "  hline -- <function>\n",
      "  vline -- <function>\n",
      "  rect -- <function>\n",
      "  line -- <function>\n",
      "  blit -- <function>\n",
      "  scroll -- <function>\n",
      "  text -- <function>\n"
     ]
    }
   ],
   "source": [
    "help(fbuff)"
   ]
  },
  {
   "cell_type": "code",
   "execution_count": 4,
   "metadata": {},
   "outputs": [],
   "source": [
    "fbuff.rect(9, 9, 90, 30, 1)\n",
    "oledshow()"
   ]
  },
  {
   "cell_type": "code",
   "execution_count": 5,
   "metadata": {},
   "outputs": [],
   "source": [
    "fbuff.fill(0)\n",
    "fbuff.text(\"assaZZZZ\", 10, 10, 1)\n",
    "oledshow()\n"
   ]
  },
  {
   "cell_type": "code",
   "execution_count": 11,
   "metadata": {
    "collapsed": true
   },
   "outputs": [],
   "source": [
    "# checkerboard\n",
    "for i in range(0, 128, 8):\n",
    "    for j in range(0, 64, 8):\n",
    "        fbuff.fill_rect(i, j, 8, 8, (i//8 + j//8)%2)\n",
    "oledshow()"
   ]
  },
  {
   "cell_type": "code",
   "execution_count": 14,
   "metadata": {},
   "outputs": [
    {
     "name": "stdout",
     "output_type": "stream",
     "text": [
      "['boot.py']\r\n"
     ]
    }
   ],
   "source": [
    "import os\n",
    "print(os.listdir())"
   ]
  },
  {
   "cell_type": "code",
   "execution_count": null,
   "metadata": {
    "collapsed": true
   },
   "outputs": [],
   "source": []
  },
  {
   "cell_type": "code",
   "execution_count": null,
   "metadata": {
    "collapsed": true
   },
   "outputs": [],
   "source": []
  },
  {
   "cell_type": "code",
   "execution_count": 77,
   "metadata": {},
   "outputs": [
    {
     "name": "stdout",
     "output_type": "stream",
     "text": [
      "\u001b[32mWriting OLED_driver.py\n",
      "\n",
      "\u001b[0m"
     ]
    }
   ],
   "source": [
    "%%writefile OLED_driver.py\n",
    "\n",
    "from machine import I2C, Pin\n",
    "\n",
    "rst = Pin(16, Pin.OUT)\n",
    "rst.value(1)\n",
    "i2c = I2C(scl=Pin(15, Pin.OUT, Pin.PULL_UP), sda=Pin(4, Pin.OUT, Pin.PULL_UP), freq=450000)\n",
    "assert 0x3c in i2c.scan(), \"OLED i2c not found\"\n",
    "\n",
    "import framebuf\n",
    "\n",
    "# There is an extra byte to the data buffer to hold an I2C data/command byte\n",
    "# to use hardware-compatible I2C transactions.\n",
    "buffer = bytearray(((64 // 8) * 128) + 1)\n",
    "buffer[0] = 0x40  # Set first byte of data buffer to Co=0, D/C=1\n",
    "fbuff = framebuf.FrameBuffer1(memoryview(buffer)[1:], 128, 64)\n",
    "\n",
    "cmdforinit = bytes((0xae,        # CMD_DISP=off\n",
    "                    0x20, 0x00,  # SET_MEM_ADDR  horizontal\n",
    "                    0x40,        # SET_DISP_START_LINE\n",
    "                    0xa0 | 0x01, # column addr 127 mapped to SEG0\n",
    "                    0xa8, 63,    # SET_MUX_RATIO, height-1\n",
    "                    0xc0 | 0x08, # SET_COM_OUT_DIR scan from COM[N] to COM0\n",
    "                    0xd3, 0x00,  # SET_DISP_OFFSET\n",
    "                    0xda, 0x12,  # SET_COM_PIN_CFG\n",
    "                    0xd5, 0x80,  # SET_DISP_CLK_DIV\n",
    "                    0xd9, 0xf1,  # SET_PRECHARGE\n",
    "                    0xdb, 0x30,  # SET_VCOM_DESEL 0.83*Vcc\n",
    "                    0x81, 0xff,  # SET_CONTRAST maximum\n",
    "                    0xa4,        # SET_ENTIRE_ON output follows RAM contents\n",
    "                    0xa6,        # SET_NORM_INV not inverted\n",
    "                    0x8d, 0x14,  # SET_CHARGE_PUMP\n",
    "                    0xae | 0x01  # SET_DISP on\n",
    "                   ))\n",
    "for c in cmdforinit:\n",
    "    i2c.writeto(0x3c, bytes((0x80, c)))\n",
    "\n",
    "cmdforshow = bytes((0x80, 0x21, # SET_COL_ADDR\n",
    "                    0x80, 0,    # 0\n",
    "                    0x80, 127,  # width-1\n",
    "                    0x80, 0x22, # SET_PAGE_ADDR\n",
    "                    0x80, 0,    # 0\n",
    "                    0x80, 7     # height//8 - 1\n",
    "                    ))   \n",
    " \n",
    "def oledshow():\n",
    "    i2c.writeto(0x3c, cmdforshow)\n",
    "    i2c.writeto(0x3c, buffer)\n",
    "    \n",
    "def oledcontrast(contrast):\n",
    "    i2c.writeto(0x3c, bytes((0x80, 0x81, 0x80, contrast)))\n",
    "\n",
    "def oledinvert(invert=True):\n",
    "    i2c.writeto(0x3c, bytes((0x80, 0xa6 | (invert & 1))))\n",
    "\n",
    "# checkerboard starting page\n",
    "for i in range(0, 128, 8):\n",
    "    for j in range(0, 64, 8):\n",
    "        fbuff.fill_rect(i, j, 8, 8, (i//8 + j//8)%2)\n",
    "oledshow()"
   ]
  },
  {
   "cell_type": "code",
   "execution_count": 79,
   "metadata": {},
   "outputs": [
    {
     "name": "stdout",
     "output_type": "stream",
     "text": [
      "Sent 58 lines (2216 bytes) to OLED_driver.py.\n"
     ]
    }
   ],
   "source": [
    "%sendtofile --source OLED_driver.py"
   ]
  },
  {
   "cell_type": "code",
   "execution_count": 1,
   "metadata": {},
   "outputs": [
    {
     "name": "stdout",
     "output_type": "stream",
     "text": [
      "\u001b[34mConnecting to --port=/dev/ttyUSB3 --baud=115200 \u001b[0m\n",
      "\u001b[34mReady.\n",
      "\u001b[0m"
     ]
    }
   ],
   "source": [
    "%serialconnect"
   ]
  },
  {
   "cell_type": "code",
   "execution_count": 11,
   "metadata": {
    "collapsed": true
   },
   "outputs": [],
   "source": [
    "from OLED_driver import i2c, fbuff, oledshow"
   ]
  },
  {
   "cell_type": "code",
   "execution_count": 12,
   "metadata": {
    "collapsed": true
   },
   "outputs": [],
   "source": [
    "fbuff.fill(0)\n",
    "fbuff.text(\"1234\", 10, 10, 1)\n",
    "def doublepixels():\n",
    "    for x in range(63, -1, -1):\n",
    "        for y in range(31, -1, -1):\n",
    "            fbuff.fill_rect(x*2,y*2,2,2,fbuff.pixel(x,y))\n",
    "doublepixels()\n",
    "oledshow()\n"
   ]
  },
  {
   "cell_type": "code",
   "execution_count": 13,
   "metadata": {
    "collapsed": true
   },
   "outputs": [],
   "source": [
    "fbuff.fill(0)\n",
    "fbuff.text(\"1234\", 10, 10, 1)\n",
    "\n",
    "# chr45=- . / 0 1 2 3 4 5 6 7 8 9\n",
    "num8x8 = b'\\x00\\x08\\x08\\x08\\x08\\x08\\x08\\x00\\x00\\x00\\x00``\\x00\\x00\\x00\\x00@`0\\x18\\x0c\\x06\\x02\\x00>\\x7fIE\\x7f>\\x00\\x00@D\\x7f\\x7f@@\\x00\\x00bsQIOF\\x00\\x00\"cII\\x7f6\\x00\\x00\\x18\\x18\\x14\\x16\\x7f\\x7f\\x10\\x00\\'gEE}9\\x00\\x00>\\x7fII{2\\x00\\x00\\x03\\x03y}\\x07\\x03\\x00\\x006\\x7fII\\x7f6\\x00\\x00&oII\\x7f>\\x00'\n",
    "def fatntext(t, x, y):  # numbers only\n",
    "    for s in t:\n",
    "        k = max(0, min(11, ord(s) - 45))\n",
    "        for c in num8x8[k*8:k*8+8]:\n",
    "            for j in range(8):\n",
    "                if (c & (1<<j)):\n",
    "                    fbuff.fill_rect(x,y+j*2,2,2,1)\n",
    "            x += 2\n",
    "fatntext(\"-88.19\", 20, 20)\n",
    "oledshow()\n"
   ]
  },
  {
   "cell_type": "code",
   "execution_count": null,
   "metadata": {
    "collapsed": true
   },
   "outputs": [],
   "source": [
    "font_petme128_8x8.h\n",
    "\n",
    "0x00,0x08,0x08,0x08,0x08,0x08,0x08,0x00, // 45=-\n",
    "0x00,0x00,0x00,0x60,0x60,0x00,0x00,0x00, // 46=.\n",
    "    0x00,0x40,0x60,0x30,0x18,0x0c,0x06,0x02, // 47=/\n",
    "    0x00,0x3e,0x7f,0x49,0x45,0x7f,0x3e,0x00, // 48=0\n",
    "    0x00,0x40,0x44,0x7f,0x7f,0x40,0x40,0x00, // 49=1\n",
    "    0x00,0x62,0x73,0x51,0x49,0x4f,0x46,0x00, // 50=2\n",
    "    0x00,0x22,0x63,0x49,0x49,0x7f,0x36,0x00, // 51=3\n",
    "    0x00,0x18,0x18,0x14,0x16,0x7f,0x7f,0x10, // 52=4\n",
    "    0x00,0x27,0x67,0x45,0x45,0x7d,0x39,0x00, // 53=5\n",
    "    0x00,0x3e,0x7f,0x49,0x49,0x7b,0x32,0x00, // 54=6\n",
    "    0x00,0x03,0x03,0x79,0x7d,0x07,0x03,0x00, // 55=7\n",
    "    0x00,0x36,0x7f,0x49,0x49,0x7f,0x36,0x00, // 56=8\n",
    "    0x00,0x26,0x6f,0x49,0x49,0x7f,0x3e,0x00, // 57=9\n"
   ]
  },
  {
   "cell_type": "code",
   "execution_count": 158,
   "metadata": {},
   "outputs": [
    {
     "name": "stdout",
     "output_type": "stream",
     "text": [
      "Sent 144 lines (4068 bytes) to OLED_grapher.py.\n"
     ]
    }
   ],
   "source": [
    "\n",
    "%sendtofile --quiet --source OLED_grapher.py\n"
   ]
  },
  {
   "cell_type": "code",
   "execution_count": 161,
   "metadata": {},
   "outputs": [
    {
     "name": "stdout",
     "output_type": "stream",
     "text": [
      "[leftinbuffer] ['OK\\x04\\x04>']\n"
     ]
    }
   ],
   "source": [
    "from OLED_grapher import scrollinit, addscrollgraph, plotscrollgraph, scrollgraphtest"
   ]
  },
  {
   "cell_type": "code",
   "execution_count": 162,
   "metadata": {},
   "outputs": [
    {
     "name": "stdout",
     "output_type": "stream",
     "text": [
      "....\u001b[34m\n",
      "\n",
      "*** Sending Ctrl-C\n",
      "\n",
      "\u001b[0m"
     ]
    },
    {
     "name": "stderr",
     "output_type": "stream",
     "text": [
      "Traceback (most recent call last):\n",
      "  File \"<stdin>\", line 1, in <module>\n",
      "  File \"OLED_grapher.py\", line 143, in scrollgraphtest\n",
      "KeyboardInterrupt: \n"
     ]
    }
   ],
   "source": [
    "scrollgraphtest(fbuff, oledshow)"
   ]
  },
  {
   "cell_type": "code",
   "execution_count": 165,
   "metadata": {},
   "outputs": [
    {
     "name": "stdout",
     "output_type": "stream",
     "text": [
      ".\u001b[34m\n",
      "\n",
      "*** Sending Ctrl-C\n",
      "\n",
      "\u001b[0m"
     ]
    },
    {
     "name": "stderr",
     "output_type": "stream",
     "text": [
      "Traceback (most recent call last):\n",
      "  File \"<stdin>\", line 7, in <module>\n",
      "KeyboardInterrupt: \n"
     ]
    }
   ],
   "source": [
    "import math, time\n",
    "scrollinit()\n",
    "for i in range(0, 10000, 10):\n",
    "    addscrollgraph(math.sin(math.radians(i))*200+i/2, i*10)\n",
    "    plotscrollgraph(fbuff)\n",
    "    oledshow()\n"
   ]
  },
  {
   "cell_type": "code",
   "execution_count": 159,
   "metadata": {},
   "outputs": [
    {
     "name": "stdout",
     "output_type": "stream",
     "text": [
      "normal repl mode not detected b'\\r\\nMicroPython v1.9.3-603-gfb7dabb9 on 2018-05-02; ESP32 module with ESP32\\r\\nType \"help()\" for more information.\\r\\n>>> \\r\\n>>> \\r\\nPYB: soft reboot\\r\\n'\n",
      "not command mode\n",
      "\u001b[31m[Timed out waiting for recognizable response]\n",
      "\u001b[0m"
     ]
    }
   ],
   "source": [
    "%rebootdevice"
   ]
  },
  {
   "cell_type": "code",
   "execution_count": null,
   "metadata": {
    "collapsed": true
   },
   "outputs": [],
   "source": []
  }
 ],
 "metadata": {
  "kernelspec": {
   "display_name": "MicroPython - USB",
   "language": "micropython",
   "name": "micropython"
  },
  "language_info": {
   "codemirror_mode": "python",
   "file_extension": ".py",
   "mimetype": "text/python",
   "name": "micropython"
  }
 },
 "nbformat": 4,
 "nbformat_minor": 2
}

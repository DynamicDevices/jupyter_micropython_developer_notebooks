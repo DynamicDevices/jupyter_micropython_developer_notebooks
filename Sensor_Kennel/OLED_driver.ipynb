{
 "cells": [
  {
   "cell_type": "markdown",
   "metadata": {},
   "source": [
    "This is stripped down to keep code as simple as possible for running\n",
    "the SSD1306 OLED attached to the TTGO ESP32 through I2C\n"
   ]
  },
  {
   "cell_type": "code",
   "execution_count": 53,
   "metadata": {},
   "outputs": [
    {
     "name": "stdout",
     "output_type": "stream",
     "text": [
      "serial exception on close write failed: [Errno 5] Input/output error\n",
      "\u001b[34mConnecting to --port=/dev/ttyUSB0 --baud=115200 \u001b[0m\n",
      "\u001b[34mReady.\n",
      "\u001b[0m"
     ]
    }
   ],
   "source": [
    "%serialconnect"
   ]
  },
  {
   "cell_type": "code",
   "execution_count": 55,
   "metadata": {},
   "outputs": [
    {
     "name": "stdout",
     "output_type": "stream",
     "text": [
      "i2c devices [41, 60] must contain 60\r\n"
     ]
    }
   ],
   "source": [
    "from machine import I2C, Pin\n",
    "\n",
    "rst = Pin(16, Pin.OUT)\n",
    "rst.value(1)\n",
    "i2c = I2C(scl=Pin(15, Pin.OUT, Pin.PULL_UP), sda=Pin(4, Pin.OUT, Pin.PULL_UP), freq=450000)\n",
    "print(\"i2c devices\", i2c.scan(), \"must contain\", 0x3c)\n"
   ]
  },
  {
   "cell_type": "code",
   "execution_count": 61,
   "metadata": {},
   "outputs": [],
   "source": [
    "import framebuf\n",
    "\n",
    "# There is an extra byte to the data buffer to hold an I2C data/command byte\n",
    "# to use hardware-compatible I2C transactions.\n",
    "buffer = bytearray(((64 // 8) * 128) + 1)\n",
    "buffer[0] = 0x40  # Set first byte of data buffer to Co=0, D/C=1\n",
    "fbuff = framebuf.FrameBuffer1(memoryview(buffer)[1:], 128, 64)\n",
    "\n",
    "cmdforinit = bytes((0xae,        # CMD_DISP=off\n",
    "                    0x20, 0x00,  # SET_MEM_ADDR  horizontal\n",
    "                    0x40,        # SET_DISP_START_LINE\n",
    "                    0xa0 | 0x01, # column addr 127 mapped to SEG0\n",
    "                    0xa8, 63,    # SET_MUX_RATIO, height-1\n",
    "                    0xc0 | 0x08, # SET_COM_OUT_DIR scan from COM[N] to COM0\n",
    "                    0xd3, 0x00,  # SET_DISP_OFFSET\n",
    "                    0xda, 0x12,  # SET_COM_PIN_CFG\n",
    "                    0xd5, 0x80,  # SET_DISP_CLK_DIV\n",
    "                    0xd9, 0xf1,  # SET_PRECHARGE\n",
    "                    0xdb, 0x30,  # SET_VCOM_DESEL 0.83*Vcc\n",
    "                    0x81, 0xff,  # SET_CONTRAST maximum\n",
    "                    0xa4,        # SET_ENTIRE_ON output follows RAM contents\n",
    "                    0xa6,        # SET_NORM_INV not inverted\n",
    "                    0x8d, 0x14,  # SET_CHARGE_PUMP\n",
    "                    0xae | 0x01  # SET_DISP on\n",
    "                   ))\n",
    "for c in cmdforinit:\n",
    "    i2c.writeto(0x3c, bytes((0x80, c)))\n",
    "\n",
    "cmdforshow = bytes((0x80, 0x21, # SET_COL_ADDR\n",
    "                    0x80, 0,    # 0\n",
    "                    0x80, 127,  # width-1\n",
    "                    0x80, 0x22, # SET_PAGE_ADDR\n",
    "                    0x80, 0,    # 0\n",
    "                    0x80, 7     # height//8 - 1\n",
    "                    ))   \n",
    " \n",
    "def oledshow():\n",
    "    i2c.writeto(0x3c, cmdforshow)\n",
    "    i2c.writeto(0x3c, buffer)\n",
    "    \n",
    "def oledcontrast(contrast):\n",
    "    i2c.writeto(0x3c, bytes((0x80, 0x81, 0x80, contrast)))\n",
    "\n",
    "def oledinvert(invert=True):\n",
    "    i2c.writeto(0x3c, bytes((0x80, 0xa6 | (invert & 1))))\n",
    "\n"
   ]
  },
  {
   "cell_type": "code",
   "execution_count": 71,
   "metadata": {},
   "outputs": [
    {
     "name": "stdout",
     "output_type": "stream",
     "text": [
      "object <FrameBuffer> is of type FrameBuffer\n",
      "  fill -- <function>\n",
      "  fill_rect -- <function>\n",
      "  pixel -- <function>\n",
      "  hline -- <function>\n",
      "  vline -- <function>\n",
      "  rect -- <function>\n",
      "  line -- <function>\n",
      "  blit -- <function>\n",
      "  scroll -- <function>\n",
      "  text -- <function>\n"
     ]
    }
   ],
   "source": [
    "help(fbuff)"
   ]
  },
  {
   "cell_type": "code",
   "execution_count": 73,
   "metadata": {},
   "outputs": [],
   "source": [
    "fbuff.rect(9, 9, 90, 30, 1)\n",
    "oledshow()"
   ]
  },
  {
   "cell_type": "code",
   "execution_count": 63,
   "metadata": {
    "collapsed": true
   },
   "outputs": [],
   "source": [
    "fbuff.fill(0)\n",
    "fbuff.text(\"assaZZZZ\", 10, 10, 1)\n",
    "oledshow()\n"
   ]
  },
  {
   "cell_type": "code",
   "execution_count": 76,
   "metadata": {},
   "outputs": [],
   "source": [
    "# checkerboard\n",
    "for i in range(0, 128, 8):\n",
    "    for j in range(0, 64, 8):\n",
    "        fbuff.fill_rect(i, j, 8, 8, (i//8 + j//8)%2)\n",
    "oledshow()"
   ]
  },
  {
   "cell_type": "code",
   "execution_count": null,
   "metadata": {
    "collapsed": true
   },
   "outputs": [],
   "source": []
  },
  {
   "cell_type": "code",
   "execution_count": null,
   "metadata": {
    "collapsed": true
   },
   "outputs": [],
   "source": []
  },
  {
   "cell_type": "code",
   "execution_count": null,
   "metadata": {
    "collapsed": true
   },
   "outputs": [],
   "source": []
  },
  {
   "cell_type": "code",
   "execution_count": 77,
   "metadata": {},
   "outputs": [
    {
     "name": "stdout",
     "output_type": "stream",
     "text": [
      "\u001b[32mWriting OLED_driver.py\n",
      "\n",
      "\u001b[0m"
     ]
    }
   ],
   "source": [
    "%%writefile OLED_driver.py\n",
    "\n",
    "from machine import I2C, Pin\n",
    "\n",
    "rst = Pin(16, Pin.OUT)\n",
    "rst.value(1)\n",
    "i2c = I2C(scl=Pin(15, Pin.OUT, Pin.PULL_UP), sda=Pin(4, Pin.OUT, Pin.PULL_UP), freq=450000)\n",
    "assert 0x3c in i2c.scan(), \"OLED i2c not found\"\n",
    "\n",
    "import framebuf\n",
    "\n",
    "# There is an extra byte to the data buffer to hold an I2C data/command byte\n",
    "# to use hardware-compatible I2C transactions.\n",
    "buffer = bytearray(((64 // 8) * 128) + 1)\n",
    "buffer[0] = 0x40  # Set first byte of data buffer to Co=0, D/C=1\n",
    "fbuff = framebuf.FrameBuffer1(memoryview(buffer)[1:], 128, 64)\n",
    "\n",
    "cmdforinit = bytes((0xae,        # CMD_DISP=off\n",
    "                    0x20, 0x00,  # SET_MEM_ADDR  horizontal\n",
    "                    0x40,        # SET_DISP_START_LINE\n",
    "                    0xa0 | 0x01, # column addr 127 mapped to SEG0\n",
    "                    0xa8, 63,    # SET_MUX_RATIO, height-1\n",
    "                    0xc0 | 0x08, # SET_COM_OUT_DIR scan from COM[N] to COM0\n",
    "                    0xd3, 0x00,  # SET_DISP_OFFSET\n",
    "                    0xda, 0x12,  # SET_COM_PIN_CFG\n",
    "                    0xd5, 0x80,  # SET_DISP_CLK_DIV\n",
    "                    0xd9, 0xf1,  # SET_PRECHARGE\n",
    "                    0xdb, 0x30,  # SET_VCOM_DESEL 0.83*Vcc\n",
    "                    0x81, 0xff,  # SET_CONTRAST maximum\n",
    "                    0xa4,        # SET_ENTIRE_ON output follows RAM contents\n",
    "                    0xa6,        # SET_NORM_INV not inverted\n",
    "                    0x8d, 0x14,  # SET_CHARGE_PUMP\n",
    "                    0xae | 0x01  # SET_DISP on\n",
    "                   ))\n",
    "for c in cmdforinit:\n",
    "    i2c.writeto(0x3c, bytes((0x80, c)))\n",
    "\n",
    "cmdforshow = bytes((0x80, 0x21, # SET_COL_ADDR\n",
    "                    0x80, 0,    # 0\n",
    "                    0x80, 127,  # width-1\n",
    "                    0x80, 0x22, # SET_PAGE_ADDR\n",
    "                    0x80, 0,    # 0\n",
    "                    0x80, 7     # height//8 - 1\n",
    "                    ))   \n",
    " \n",
    "def oledshow():\n",
    "    i2c.writeto(0x3c, cmdforshow)\n",
    "    i2c.writeto(0x3c, buffer)\n",
    "    \n",
    "def oledcontrast(contrast):\n",
    "    i2c.writeto(0x3c, bytes((0x80, 0x81, 0x80, contrast)))\n",
    "\n",
    "def oledinvert(invert=True):\n",
    "    i2c.writeto(0x3c, bytes((0x80, 0xa6 | (invert & 1))))\n",
    "\n",
    "# checkerboard starting page\n",
    "for i in range(0, 128, 8):\n",
    "    for j in range(0, 64, 8):\n",
    "        fbuff.fill_rect(i, j, 8, 8, (i//8 + j//8)%2)\n",
    "oledshow()"
   ]
  },
  {
   "cell_type": "code",
   "execution_count": 79,
   "metadata": {},
   "outputs": [
    {
     "name": "stdout",
     "output_type": "stream",
     "text": [
      "Sent 58 lines (2216 bytes) to OLED_driver.py.\n"
     ]
    }
   ],
   "source": [
    "%sendtofile --source OLED_driver.py"
   ]
  },
  {
   "cell_type": "code",
   "execution_count": 80,
   "metadata": {},
   "outputs": [
    {
     "name": "stdout",
     "output_type": "stream",
     "text": [
      "serial exception on close write failed: [Errno 5] Input/output error\n",
      "\u001b[34mConnecting to --port=/dev/ttyUSB3 --baud=115200 \u001b[0m\n",
      "\u001b[34mReady.\n",
      "\u001b[0m"
     ]
    }
   ],
   "source": [
    "%serialconnect"
   ]
  },
  {
   "cell_type": "code",
   "execution_count": 81,
   "metadata": {
    "collapsed": true
   },
   "outputs": [],
   "source": [
    "from OLED_driver import i2c, fbuff, oledshow"
   ]
  },
  {
   "cell_type": "code",
   "execution_count": null,
   "metadata": {
    "collapsed": true
   },
   "outputs": [],
   "source": []
  }
 ],
 "metadata": {
  "kernelspec": {
   "display_name": "MicroPython - USB",
   "language": "micropython",
   "name": "micropython"
  },
  "language_info": {
   "codemirror_mode": "python",
   "file_extension": ".py",
   "mimetype": "text/python",
   "name": "micropython"
  }
 },
 "nbformat": 4,
 "nbformat_minor": 2
}

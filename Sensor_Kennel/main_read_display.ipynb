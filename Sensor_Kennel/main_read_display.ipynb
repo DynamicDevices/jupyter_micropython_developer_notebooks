{
 "cells": [
  {
   "cell_type": "code",
   "execution_count": 1,
   "metadata": {},
   "outputs": [
    {
     "name": "stdout",
     "output_type": "stream",
     "text": [
      "\u001b[34mConnecting to --port=/dev/ttyUSB0 --baud=115200 \u001b[0m\n",
      "\u001b[34mReady.\n",
      "\u001b[0m"
     ]
    }
   ],
   "source": [
    "%serialconnect"
   ]
  },
  {
   "cell_type": "markdown",
   "metadata": {},
   "source": [
    "This is the main Sensor Kennel application that will \n",
    "identify, read and write any sensor that's plugged in.\n",
    "\n",
    "On the lower side:  \n",
    "  Pin1 (left) Gnd, Pin3 3v3, P4 (Pin-3 from right) SDA, P15 (Pin-5 from right) SCL.\n",
    "  P17 (Pin-2) TX, P13 (Upper side Pin-2) RX \n",
    "  For BNO055 with PS1=High SCL=TX(17), SDA=RX(13)\n",
    "  \n",
    "Do we want to draw a graph of numbers if a button is pressed?\n",
    "\n",
    "Should we have MQTT numbers going out from it?\n",
    "\n",
    "Or just keep it comprehensive\n",
    "\n",
    "Sensors known:\n",
    "* VL53L0X lidar\n",
    "* VL6180 lidar\n",
    "* SI7021 humidity\n",
    "* TSL561 luminous\n",
    "* TMP102 temp\n",
    "* SDOF GyAccMag\n",
    "* MLX90614 ir-temp\n",
    "* BME280 barhumid\n",
    "* SHT31D tmphumid\n",
    "* MLX90621 16x4-ir\n",
    "* PX4PITOT airspeed\n",
    "* BNO055 orient\n",
    "* GPS serial\n"
   ]
  },
  {
   "cell_type": "code",
   "execution_count": 3,
   "metadata": {},
   "outputs": [
    {
     "name": "stdout",
     "output_type": "stream",
     "text": [
      "{'uos': <module 'uos'>, 'fbuff': <FrameBuffer>, 'ds18x20': <module 'ds18x20'>, 'pled': Pin(25), 'DS18B20_task': <generator>, 'uart': UART(1, baudrate=9600, bits=8, parity=None, stop=1, tx=17, rx=13, rts=-1, cts=-1, txbuf=256, rxbuf=256, timeout=0, timeout_char=2), 'dallasobj': <DS18X20 object at 3ffc6570>, 'n': 4, 'gc': <module 'gc'>, 'doublepixels': <function doublepixels at 0x3ffc2860>, 'fatntext': <function fatntext at 0x3ffc2850>, 'plotdevices': <generator>, 'TMP102_task': <generator>, 'FMQTTQueue': <class 'FMQTTQueue'>, 'time': <module 'utime'>, 'dallasscanned': [bytearray(b'(\\xaa\\x1c\\xf17\\x14\\x01\\x03')], 'oledshow': <function oledshow at 0x3ffc24a0>, 'IdentifyUARTDevice': <function IdentifyUARTDevice at 0x3ffc2fb0>, 'i2c': <I2C>, 'devices': ['DS18B20 n=1'], 'TSL561_task': <generator>, 'devdesc': 'n=1', 'onewire': <module 'onewire'>, 'machine': <module 'umachine'>, 'IdentifyI2CDevice': <function IdentifyI2CDevice at 0x3ffc2fe0>, 'SHT31D_task': <generator>, 'Pin': <class 'Pin'>, 'I2C': <class 'I2C'>, 'sdallasqorder': {376: 1, 448: 2, 576: 4, 347: 0, 475: 3, 157: 7, 406: 6, 311: 5}, 'MS5611_task': <generator>, 'fqm': <FMQTTQueue object at 3ffc7780>, 'devnames': ['DS18B20'], 'pindallas': Pin(13), 'asyncio': <module 'uasyncio' from '/lib/uasyncio/__init__.py'>, 'aloop': <PollEventLoop object at 3ffc78c0>, 'bdev': <FlashBdev object at 3ffc0f70>, '__name__': '__main__', 'dev': 'DS18B20 n=1', 'fconfig': {'mqttbroker': '10.3.141.1', 'boardname': 'ttgo2', 'wifiname': 'DoESLiverpool-MQTT', 'pinled': '25', 'wifipassword': 'decafbad00'}, 'devname': 'DS18B20'}\n"
     ]
    }
   ],
   "source": [
    "print(globals())"
   ]
  },
  {
   "cell_type": "code",
   "execution_count": 6,
   "metadata": {},
   "outputs": [
    {
     "name": "stdout",
     "output_type": "stream",
     "text": [
      "object <DS18X20 object at 3ffc6570> is of type DS18X20\n",
      "  __init__ -- <function __init__ at 0x3ffc7050>\n",
      "  convert_temp -- <function convert_temp at 0x3ffc7140>\n",
      "  scan -- <function scan at 0x3ffc7040>\n",
      "  __qualname__ -- DS18X20\n",
      "  read_scratch -- <function read_scratch at 0x3ffc7170>\n",
      "  write_scratch -- <function write_scratch at 0x3ffc7180>\n",
      "  read_temp -- <function read_temp at 0x3ffc7190>\n",
      "  __module__ -- ds18x20\n"
     ]
    }
   ],
   "source": [
    "help(dallasobj)"
   ]
  },
  {
   "cell_type": "code",
   "execution_count": 8,
   "metadata": {},
   "outputs": [
    {
     "name": "stdout",
     "output_type": "stream",
     "text": [
      "[bytearray(b'(\\xaa\\x1c\\xf17\\x14\\x01\\x03')]\n"
     ]
    }
   ],
   "source": [
    "print(dallasobj.scan())"
   ]
  },
  {
   "cell_type": "code",
   "execution_count": 11,
   "metadata": {},
   "outputs": [
    {
     "name": "stdout",
     "output_type": "stream",
     "text": [
      "object <FrameBuffer> is of type FrameBuffer\n",
      "  fill -- <function>\n",
      "  fill_rect -- <function>\n",
      "  pixel -- <function>\n",
      "  hline -- <function>\n",
      "  vline -- <function>\n",
      "  rect -- <function>\n",
      "  line -- <function>\n",
      "  blit -- <function>\n",
      "  scroll -- <function>\n",
      "  text -- <function>\n"
     ]
    }
   ],
   "source": [
    "help(fbuff)"
   ]
  },
  {
   "cell_type": "code",
   "execution_count": 13,
   "metadata": {},
   "outputs": [],
   "source": [
    "fbuff.fill_rect(10,10,10,10,0)\n",
    "oledshow()"
   ]
  },
  {
   "cell_type": "code",
   "execution_count": null,
   "metadata": {},
   "outputs": [],
   "source": []
  },
  {
   "cell_type": "code",
   "execution_count": 10,
   "metadata": {},
   "outputs": [
    {
     "name": "stdout",
     "output_type": "stream",
     "text": [
      "14.125\n"
     ]
    }
   ],
   "source": [
    "print(dallasobj.read_temp(b'(\\xaa\\x1c\\xf17\\x14\\x01\\x03'))"
   ]
  },
  {
   "cell_type": "code",
   "execution_count": null,
   "metadata": {},
   "outputs": [],
   "source": [
    "        dallasobj.convert_temp()\n",
    "        await asyncio.sleep_ms(800)\n",
    "        fbuff.fill(0)\n",
    "        fbuff.text(\"DS18B20 temps\", 0, 0, 1)\n",
    "        for i, d in enumerate(dallasscanned):\n",
    "            try:\n",
    "                t = dallasobj.read_temp(d)\n"
   ]
  },
  {
   "cell_type": "code",
   "execution_count": null,
   "metadata": {},
   "outputs": [],
   "source": []
  },
  {
   "cell_type": "code",
   "execution_count": null,
   "metadata": {},
   "outputs": [],
   "source": []
  },
  {
   "cell_type": "code",
   "execution_count": 1,
   "metadata": {},
   "outputs": [
    {
     "name": "stdout",
     "output_type": "stream",
     "text": [
      "\u001b[34mConnecting to --port=/dev/ttyUSB3 --baud=115200 \u001b[0m\n",
      "\u001b[34mReady.\n",
      "\u001b[0m"
     ]
    }
   ],
   "source": [
    "%serialconnect"
   ]
  },
  {
   "cell_type": "code",
   "execution_count": 6,
   "metadata": {},
   "outputs": [
    {
     "name": "stdout",
     "output_type": "stream",
     "text": [
      "__main__          framebuf          socket            upip\n",
      "_boot             gc                ssl               upip_utarfile\n",
      "_onewire          hashlib           struct            upysh\n",
      "_thread           heapq             sys               urandom\n",
      "_webrepl          inisetup          time              ure\n",
      "apa106            io                ubinascii         urequests\n",
      "array             json              ucollections      uselect\n",
      "binascii          machine           ucryptolib        usocket\n",
      "btree             math              uctypes           ussl\n",
      "builtins          micropython       uerrno            ustruct\n",
      "cmath             neopixel          uhashlib          utime\n",
      "collections       network           uhashlib          utimeq\n",
      "dht               ntptime           uheapq            uzlib\n",
      "ds18x20           onewire           uio               webrepl\n",
      "errno             os                ujson             webrepl_setup\n",
      "esp               random            umqtt/robust      websocket\n",
      "esp32             re                umqtt/simple      websocket_helper\n",
      "flashbdev         select            uos               zlib\n",
      "Plus any modules on the filesystem\n"
     ]
    }
   ],
   "source": [
    "help(\"modules\")"
   ]
  },
  {
   "cell_type": "code",
   "execution_count": 32,
   "metadata": {},
   "outputs": [
    {
     "name": "stdout",
     "output_type": "stream",
     "text": [
      "Sent 3820 bytes in 128 chunks to OLED_driver.py.\n",
      "Sent 109 lines (3180 bytes) to device_detection.py.\n",
      "Sent 55 lines (2040 bytes) to SI7021_funcs.py.\n",
      "Sent 54 lines (1757 bytes) to TSL561_funcs.py.\n",
      "Sent 33 lines (975 bytes) to VL53L0X_funcs.py.\n",
      "Sent 106 lines (3190 bytes) to VL6180_funcs.py.\n",
      "Sent 42 lines (1800 bytes) to SDOF_funcs.py.\n",
      "Sent 43 lines (1090 bytes) to SHT31D_funcs.py.\n",
      "Sent 76 lines (3165 bytes) to BME280_funcs.py.\n",
      "Sent 170 lines (5915 bytes) to MLX90621_funcs.py.\n",
      "Sent 87 lines (2701 bytes) to BNO055serial_funcs.py.\n",
      "Sent 27 lines (801 bytes) to MLX90614_funcs.py.\n",
      "Sent 46 lines (1375 bytes) to MS5611_funcs.py.\n",
      "Sent 145 lines (4083 bytes) to OLED_grapher.py.\n"
     ]
    }
   ],
   "source": [
    "%sendtofile --binary --source OLED_driver.py\n",
    "%sendtofile --quiet --source device_detection.py\n",
    "%sendtofile --quiet --source SI7021_funcs.py\n",
    "%sendtofile --quiet --source TSL561_funcs.py\n",
    "%sendtofile --quiet --source VL53L0X_funcs.py\n",
    "%sendtofile --quiet --source VL6180_funcs.py\n",
    "%sendtofile --quiet --source SDOF_funcs.py\n",
    "%sendtofile --quiet --source SHT31D_funcs.py\n",
    "%sendtofile --quiet --source BME280_funcs.py\n",
    "%sendtofile --quiet --source MLX90621_funcs.py\n",
    "%sendtofile --quiet --source BNO055serial_funcs.py\n",
    "%sendtofile --quiet --source MLX90614_funcs.py\n",
    "%sendtofile --quiet --source MS5611_funcs.py\n",
    "%sendtofile --quiet --source OLED_grapher.py\n"
   ]
  },
  {
   "cell_type": "code",
   "execution_count": 33,
   "metadata": {},
   "outputs": [
    {
     "name": "stdout",
     "output_type": "stream",
     "text": [
      "Sent 258 lines (8400 bytes) to lib/uasyncio/__init__.py.\n",
      "Sent 315 lines (9509 bytes) to lib/uasyncio/core.py.\n",
      "Sent 94 lines (2685 bytes) to lib/uasyncio/queues.py.\n",
      "Sent 28 lines (846 bytes) to lib/uasyncio/synchro.py.\n",
      "Sent 473 lines (14783 bytes) to asyn.py.\n",
      "Sent 219 lines (8811 bytes) to aswitch.py.\n",
      "Sent 638 lines (23042 bytes) to mqtt_as.py.\n",
      "Sent 72 lines (2314 bytes) to fmqttqueue.py.\n"
     ]
    }
   ],
   "source": [
    "# This requires you to checkout https://github.com/micropython/micropython-lib and avoids the upip\n",
    "%sendtofile --mkdir --source /home/julian/extrepositories/micropython-lib/uasyncio/uasyncio/__init__.py lib/uasyncio/\n",
    "%sendtofile --quiet --mkdir --source /home/julian/extrepositories/micropython-lib/uasyncio.core/uasyncio/core.py lib/uasyncio/\n",
    "%sendtofile --quiet --mkdir --source /home/julian/extrepositories/micropython-lib/uasyncio.queues/uasyncio/queues.py lib/uasyncio/\n",
    "%sendtofile --quiet --mkdir --source /home/julian/extrepositories/micropython-lib/uasyncio.synchro/uasyncio/synchro.py lib/uasyncio/\n",
    "\n",
    "# This requires you to checkout https://github.com/peterhinch/micropython-async\n",
    "%sendtofile --quiet --source /home/julian/extrepositories/micropython-async/asyn.py\n",
    "%sendtofile --quiet --source /home/julian/extrepositories/micropython-async/aswitch.py\n",
    "\n",
    "# This requires you to checkout https://github.com/peterhinch/micropython-mqtt/tree/master/mqtt_as\n",
    "%sendtofile --quiet --source /home/julian/extrepositories/micropython-mqtt/mqtt_as/mqtt_as.py\n",
    "\n",
    "# This is the wrapper code on the asynchronous mqtt\n",
    "%sendtofile --quiet --source fmqttqueue.py"
   ]
  },
  {
   "cell_type": "code",
   "execution_count": 68,
   "metadata": {},
   "outputs": [
    {
     "name": "stdout",
     "output_type": "stream",
     "text": [
      "Sent 5 lines (119 bytes) to config.txt.\n"
     ]
    }
   ],
   "source": [
    "%sendtofile config.txt\n",
    "\n",
    "wifiname     DoESLiverpool-MQTT\n",
    "wifipassword decafbad00\n",
    "mqttbroker   10.3.141.1\n",
    "pinled       25\n",
    "boardname    esp32black"
   ]
  },
  {
   "cell_type": "code",
   "execution_count": 49,
   "metadata": {},
   "outputs": [
    {
     "name": "stdout",
     "output_type": "stream",
     "text": [
      "Sent 5 lines (121 bytes) to config.txt.\n"
     ]
    }
   ],
   "source": [
    "%sendtofile config.txt\n",
    "\n",
    "wifiname     DoESLiverpool-MQTT\n",
    "wifipassword decafbad00\n",
    "mqttbroker   10.3.141.1\n",
    "pinled       25\n",
    "boardname    heltecwhite\n"
   ]
  },
  {
   "cell_type": "code",
   "execution_count": 56,
   "metadata": {},
   "outputs": [
    {
     "name": "stdout",
     "output_type": "stream",
     "text": [
      "Sent 5 lines (117 bytes) to config.txt.\n"
     ]
    }
   ],
   "source": [
    "%sendtofile config.txt\n",
    "\n",
    "wifiname     DoESLiverpool-MQTT\n",
    "wifipassword decafbad00\n",
    "mqttbroker   10.3.141.1\n",
    "pinled       25\n",
    "boardname    heltec1\n"
   ]
  },
  {
   "cell_type": "code",
   "execution_count": 511,
   "metadata": {},
   "outputs": [
    {
     "name": "stdout",
     "output_type": "stream",
     "text": [
      "Sent 5 lines (106 bytes) to config.txt.\n"
     ]
    }
   ],
   "source": [
    "%sendtofile config.txt\n",
    "\n",
    "wifiname     mqtt-wifi\n",
    "wifipassword decafbad00\n",
    "mqttbroker   10.3.141.1\n",
    "pinled       25\n",
    "boardname    ttgo2\n"
   ]
  },
  {
   "cell_type": "code",
   "execution_count": 175,
   "metadata": {},
   "outputs": [
    {
     "name": "stdout",
     "output_type": "stream",
     "text": [
      "Sent 5 lines (108 bytes) to config.txt.\n"
     ]
    }
   ],
   "source": [
    "%sendtofile config.txt\n",
    "\n",
    "wifiname     mqtt-wifi\n",
    "wifipassword decafbad00\n",
    "mqttbroker   10.3.141.1\n",
    "pinled       2\n",
    "boardname    esp32co2\n"
   ]
  },
  {
   "cell_type": "code",
   "execution_count": 67,
   "metadata": {},
   "outputs": [
    {
     "name": "stdout",
     "output_type": "stream",
     "text": [
      "wifiname     mqtt-wifi\n",
      "wifipassword decafbad00\n",
      "mqttbroker   10.3.141.1\n",
      "pinled       25\n",
      "boardname    esp32black\n"
     ]
    }
   ],
   "source": [
    "print(open(\"config.txt\").read())"
   ]
  },
  {
   "cell_type": "code",
   "execution_count": 66,
   "metadata": {},
   "outputs": [
    {
     "name": "stdout",
     "output_type": "stream",
     "text": [
      "serial exception on close write failed: [Errno 5] Input/output error\n",
      "\u001b[34mConnecting to --port=/dev/ttyUSB7 --baud=115200 \u001b[0m\n",
      "Traceback (most recent call last):\n",
      "  File \"main.py\", line 9, in <module>\n",
      "  File \"fmqttqueue.py\", line 1, in <module>\n",
      "  File \"mqtt_as.py\", line 28, in <module>\n",
      "KeyboardInterrupt: \n",
      "MicroPython v1.10-227-g696549d2e on 2019-03-17; ESP32 module with ESP32\n",
      "Type \"help()\" for more information.\n",
      ">>> ^L1^!^NZ^H@J1!H)^F!!^H\n",
      "Traceback (most recent call last):\n",
      "  File \"<stdin>\", line 1\n",
      "SyntaxError: invalid syntax\n",
      ">>> ^Y`B^H1GL\n",
      "Traceback (most recent call last):\n",
      "  File \"<stdin>\", line 1\n",
      "SyntaxError: invalid syntax\n",
      ">>> \n",
      "raw REPL; CTRL-B to exit\n",
      ">\u001b[34mReady.\n",
      "\u001b[0m"
     ]
    }
   ],
   "source": [
    "%serialconnect"
   ]
  },
  {
   "cell_type": "code",
   "execution_count": 65,
   "metadata": {},
   "outputs": [
    {
     "name": "stdout",
     "output_type": "stream",
     "text": [
      "Sent 382 lines (13101 bytes) to main.py.\n"
     ]
    }
   ],
   "source": [
    "%sendtofile main.py\n",
    "\n",
    "# connect to the OLED and initialize (and get its i2c bus)\n",
    "from OLED_driver import i2c, fbuff, oledshow, doublepixels, fatntext\n",
    "import machine, time\n",
    "\n",
    "from device_detection import IdentifyI2CDevice, IdentifyUARTDevice\n",
    "\n",
    "from machine import Pin, I2C\n",
    "import uasyncio as asyncio\n",
    "from fmqttqueue import FMQTTQueue\n",
    "\n",
    "fconfig = dict(x.split()  for x in open(\"config.txt\"))\n",
    "pled = Pin(int(fconfig[\"pinled\"]), Pin.OUT)\n",
    "\n",
    "# change baud for some \n",
    "for n in range(5):\n",
    "    devices = IdentifyI2CDevice(i2c)\n",
    "    print(\"devices\", devices)\n",
    "    if devices:\n",
    "        break\n",
    "    time.sleep(0.3)\n",
    "\n",
    "if not devices:\n",
    "    uart = machine.UART(1, baudrate=9600, rx=13, tx=17)\n",
    "    # gps is 9600, bluefly is 57600  \n",
    "    devices = IdentifyUARTDevice(uart)\n",
    "if not devices:\n",
    "    import onewire, ds18x20\n",
    "    pindallas = machine.Pin(13, Pin.OUT, Pin.PULL_UP)\n",
    "    dallasobj = ds18x20.DS18X20(onewire.OneWire(pindallas))\n",
    "    dallasscanned = dallasobj.scan()\n",
    "    if dallasscanned:\n",
    "        sdallasqorder = {347:0, 376:1, 448:2, 475:3, 576:4, 311:5, 406:6, 157:7}\n",
    "        dallasscanned.sort(key=lambda X: sdallasqorder.get(sum(X), 0))\n",
    "        devices = [\"DS18B20 n=%d\"%len(dallasscanned)]\n",
    "    print(\"dallas\", devices)\n",
    "        \n",
    "if not devices:\n",
    "    devices.append(\"nothing found\")\n",
    "\n",
    "# this might look like a lot of code, but it's the complete \n",
    "# visual output of text and numbers that we do per sensor here\n",
    "devnames = [ ]\n",
    "for dev in devices:\n",
    "    devname, devdesc = dev.split(\" \", 1)\n",
    "    devnames.append(devname)\n",
    "    fbuff.fill(0)\n",
    "    fbuff.text(devname, 0, 0, 1)\n",
    "    fbuff.text(devdesc, 0, 12, 1)\n",
    "    doublepixels()\n",
    "    oledshow()\n",
    "    time.sleep(1)\n",
    "\n",
    "async def plotdevices(fqm):\n",
    "    topic = fconfig[\"boardname\"]+\"/\"+devname\n",
    "    if devname == \"VL53L0X\":\n",
    "        from VL53L0X_funcs import VL53L0Xinit, VL53L0Xdist\n",
    "        VL53L0Xinit(i2c)\n",
    "        while True:\n",
    "            d = VL53L0Xdist()\n",
    "            fbuff.fill(0)\n",
    "            fbuff.text(\"VL53L0X\", 0, 0, 1)\n",
    "            fbuff.text(\"dist(mm):\", 8, 20, 1)\n",
    "            fatntext(\"%d\" % d, 40, 36)\n",
    "            oledshow()\n",
    "            fqm.fput(topic, \"%d\"%d)\n",
    "            await asyncio.sleep_ms(50)\n",
    "        \n",
    "    if devname == \"VL6180\":\n",
    "        from VL6180_funcs import VL6180init, distmm\n",
    "        VL6180init(i2c)\n",
    "        while True:\n",
    "            d = distmm()\n",
    "            fbuff.fill(0)\n",
    "            fbuff.text(\"VL6180\", 0, 0, 1)\n",
    "            fbuff.text(\"dist(mm):\", 8, 20, 1)\n",
    "            fatntext(\"%d\" % d, 40, 36)\n",
    "            oledshow()\n",
    "            fqm.fput(topic, \"%d\" % d)\n",
    "            await asyncio.sleep_ms(50)\n",
    "\n",
    "    if devname == \"BME280\" or devname == \"BME180\":\n",
    "        from BME280_funcs import bme280init, readBME280\n",
    "        bme280init(i2c)\n",
    "        topictemp = topic+\"/temp\"\n",
    "        topichumid = topic+\"/humid\"\n",
    "        topicpressure = topic+\"/pressure\"\n",
    "        n = 0\n",
    "        while True:\n",
    "            temp, pressure, humid = readBME280()\n",
    "            fbuff.fill(0)\n",
    "            fbuff.text(\"BME280\", 0, 0, 1)\n",
    "            fbuff.text(\"tmp:\", 0, 16, 1)\n",
    "            fatntext(\"%.2f\"%(temp), 32, 10)\n",
    "            fbuff.text(\"prs:\", 0, 36, 1)\n",
    "            fatntext(\"%.2f\"%(pressure), 32, 30)\n",
    "            fbuff.text(\"hum:\", 0, 54, 1)\n",
    "            fatntext(\"%.2f\"%(humid), 32, 50)\n",
    "            oledshow()\n",
    "            if (n % 5) == 0:\n",
    "                fqm.fput(topichumid, \"%.2f\"%humid)\n",
    "                fqm.fput(topictemp, \"%.2f\"%temp)\n",
    "                fqm.fput(topicpressure, \"%.2f\"%pressure)\n",
    "            n += 1\n",
    "            await asyncio.sleep_ms(110)\n",
    "\n",
    "    if devname == \"SDOF\":\n",
    "        from SDOF_funcs import SetupAccGyrMag, readvectorsensor\n",
    "        SetupAccGyrMag(i2c)\n",
    "        topicaccx = topic+\"/acc/x\"\n",
    "        topicaccy = topic+\"/acc/y\"\n",
    "        topicaccz = topic+\"/acc/z\"\n",
    "        n = 0\n",
    "        while True:\n",
    "            fbuff.fill(0)\n",
    "            ax, ay, az = readvectorsensor(\"a\")\n",
    "            fbuff.text(\"Acc:\", 0, 0, 1)\n",
    "            fbuff.text(\"%d\"%ax, 8, 8, 1)\n",
    "            fbuff.text(\"%d\"%ay, 8, 16, 1)\n",
    "            fbuff.text(\"%d\"%az, 8, 24, 1)\n",
    "            x, y, z = readvectorsensor(\"g\")\n",
    "            fbuff.text(\"gyr:\", 64, 0, 1)\n",
    "            fbuff.text(\"%d\"%x, 72, 8, 1)\n",
    "            fbuff.text(\"%d\"%y, 72, 16, 1)\n",
    "            fbuff.text(\"%d\"%z, 72, 24, 1)\n",
    "            x, y, z = readvectorsensor(\"c\")\n",
    "            fbuff.text(\"mag:\", 40, 32, 1)\n",
    "            fbuff.text(\"%d\"%x, 48, 40, 1)\n",
    "            fbuff.text(\"%d\"%y, 48, 48, 1)\n",
    "            fbuff.text(\"%d\"%z, 48, 56, 1)\n",
    "            oledshow()\n",
    "            \n",
    "            if (n % 5) == 0:\n",
    "                fqm.fput(topicaccx, \"%d\"%ax)\n",
    "                fqm.fput(topicaccy, \"%d\"%ay)\n",
    "                fqm.fput(topicaccz, \"%d\"%az)\n",
    "            n += 1\n",
    "            await asyncio.sleep_ms(100)\n",
    "            \n",
    "    if devname == \"SI7021\":\n",
    "        from SI7021_funcs import setupSI7021, SI7021humiditytemp\n",
    "        setupSI7021(i2c)\n",
    "        topichumid = topic+\"/humid\"\n",
    "        topictemp = topic+\"/temp\"\n",
    "        n = 0\n",
    "        while True:\n",
    "            h, t = SI7021humiditytemp()\n",
    "            fbuff.fill(0)\n",
    "            fbuff.text(\"SI7021\", 0, 0, 1)\n",
    "            fbuff.text(\"humid:\", 0, 23, 1)\n",
    "            fatntext(\"%.1f\"%h, 50, 16)\n",
    "            fbuff.text(\"temp:\", 0, 53, 1)\n",
    "            fatntext(\"%.1f\"%t, 50, 46)\n",
    "            if fqm.rqueue:\n",
    "                fbuff.text(fqm.rqueue.popleft()[1].decode(), 0, 32)\n",
    "            oledshow()\n",
    "            if (n % 4) == 0:\n",
    "                fqm.fput(topichumid, \"%.1f\"%h)\n",
    "                fqm.fput(topictemp, \"%.1f\"%t)\n",
    "            n += 1\n",
    "            await asyncio.sleep_ms(250)\n",
    "\n",
    "    if devname == \"MLX90614\":\n",
    "        from MLX90614_funcs import mlx90614temps\n",
    "        from sevensegmentdisplay import encodeledstring # wired to heltecwhite\n",
    "        i2c.init(scl=Pin(15), sda=Pin(4), freq=100000) # can't handle higher frequencies\n",
    "        topicambient = topic+\"/temp/ambient\"\n",
    "        topicir = topic+\"/temp/ir\"\n",
    "        n = 0\n",
    "        while True:\n",
    "            tempAmbient, tempIR = mlx90614temps(i2c)\n",
    "            if tempAmbient is not None:\n",
    "                encodeledstring(\"%.2f c\"% tempIR)\n",
    "                if (n % 5) == 0 and tempIR > -10:\n",
    "                    fqm.fput(topicambient, \"%.2f\"%tempAmbient)\n",
    "                    fqm.fput(topicir, \"%.2f\"%tempIR)\n",
    "                n += 1\n",
    "            if fqm.rqueue:\n",
    "                topic, msg = fqm.rqueue.popleft()\n",
    "                encodeledstring(msg)\n",
    "                await asyncio.sleep_ms(800)\n",
    "            await asyncio.sleep_ms(200)\n",
    "            \n",
    "    if devname == \"LP55231\":\n",
    "        fqm.addsubscription(\"LP55231/#\")\n",
    "        while True:\n",
    "            if fqm.rqueue:\n",
    "                topic, msg = fqm.rqueue.popleft()\n",
    "                print((topic, msg))\n",
    "                fbuff.fill(0)\n",
    "                fbuff.text(\"LP55231\", 0, 0, 1)\n",
    "                fbuff.text(\"topic:\", 0, 8, 1)\n",
    "                fbuff.text(topic.decode(), 0, 16, 1)\n",
    "                fbuff.text(\"msg:\", 0, 53, 1)\n",
    "                fatntext(msg.decode(), 50, 46)\n",
    "                oledshow()\n",
    "                try:\n",
    "                    pos, col = topic.decode().split(\"/\")[1:]\n",
    "                    intensity = int(msg)\n",
    "                    if col == \"red\":\n",
    "                        bpos = 0x1C + int(pos)\n",
    "                    else:\n",
    "                        bpos = (0x16 if col == \"green\" else 0x17) + int(pos)*2\n",
    "                    i2c.writeto(0x32, bytes((bpos, intensity)))\n",
    "                except ValueError as e:\n",
    "                    print(e)\n",
    "            else:\n",
    "                await asyncio.sleep_ms(5)\n",
    "\n",
    "async def CDM7160_task():\n",
    "    topic = fconfig[\"boardname\"]+\"/CDM7160\"\n",
    "    co2ppmFiltered = 0\n",
    "    while True:\n",
    "        try:\n",
    "            k = i2c.readfrom_mem(0x69, 0x03, 2)\n",
    "            co2ppm = (k[0]+k[1]*256)\n",
    "        except OSError:\n",
    "            co2ppm = None\n",
    "        if co2ppm is not None and co2ppm != 0:\n",
    "            pled.value(1)\n",
    "            await asyncio.sleep_ms(50)\n",
    "            pled.value(0)\n",
    "\n",
    "            f = 0.02 if co2ppmFiltered else 1.0\n",
    "            co2ppmFiltered = co2ppm*f + co2ppmFiltered*(1-f)\n",
    "            fbuff.fill(0)\n",
    "            fbuff.text(\"figaroCO2\", 0, 0, 1)\n",
    "            fbuff.text(\"ppm: \", 8, 20, 1)\n",
    "            fbuff.text(\"%d\" % co2ppm, 48, 20)\n",
    "            fbuff.text(\"(unfiltered)\", 128-12*8, 28)\n",
    "            fatntext(\"%d\" % int(co2ppmFiltered), 32, 48)\n",
    "            oledshow()\n",
    "            fqm.fput(topic, \"%d\" % co2ppm)\n",
    "                \n",
    "            await asyncio.sleep_ms(3000)\n",
    "                \n",
    "                \n",
    "async def DS18B20_task():\n",
    "    topicds = [ fconfig[\"boardname\"]+\"/DS18B20/\"+str(i)  for i in range(len(dallasscanned)) ]\n",
    "    while True:\n",
    "        dallasobj.convert_temp()\n",
    "        await asyncio.sleep_ms(800)\n",
    "        fbuff.fill(0)\n",
    "        fbuff.text(\"DS18B20 temps\", 0, 0, 1)\n",
    "        for i, d in enumerate(dallasscanned):\n",
    "            try:\n",
    "                t = dallasobj.read_temp(d)\n",
    "            except Exception:\n",
    "                t = -100\n",
    "            if len(dallasscanned) != 1:\n",
    "                fbuff.text(\"%.2f\"%t, (i%2)*64, (i//2+2)*8, 1)\n",
    "            else:\n",
    "                fatntext(\"%.2f\"%t, 8, 20)\n",
    "            if t != -100:\n",
    "                fqm.fput(topicds[i], \"%.2f\"%t)\n",
    "        if fqm.rqueue:\n",
    "            topic, msg = fqm.rqueue.popleft()\n",
    "            fbuff.text(msg.decode(), 0, 56, 1)\n",
    "        oledshow()\n",
    "\n",
    "async def TMP102_task():\n",
    "    topic = fconfig[\"boardname\"]+\"/TMP102\"\n",
    "    n = 0\n",
    "    while True:\n",
    "        try:\n",
    "            r = i2c.readfrom_mem(0x48, 0x00, 2)\n",
    "            t = r[0] + r[1]/256\n",
    "            fbuff.fill(0)\n",
    "            fbuff.text(\"TMP102\", 0, 0, 1)\n",
    "            fbuff.text(\"temp:\", 0, 23, 1)\n",
    "            fatntext(\"%.03f\"%t, 30, 40)\n",
    "            if fqm.rqueue:\n",
    "                fbuff.text(fqm.rqueue.popleft()[1].decode(), 0, 56, 1)\n",
    "            oledshow()\n",
    "            if (n % 5) == 0:\n",
    "                fqm.fput(topic, \"%.03f\"%t)\n",
    "            n += 1\n",
    "        except OSError as e:\n",
    "            print(e, \"TMP102_task\")\n",
    "            await asyncio.sleep_ms(1000)\n",
    "        await asyncio.sleep_ms(100)\n",
    "            \n",
    "async def SHT31D_task():\n",
    "    topichumid = fconfig[\"boardname\"]+\"/SHT31D/humid\"\n",
    "    topictemp = fconfig[\"boardname\"]+\"/SHT31D/temp\"\n",
    "    n = 0\n",
    "    from SHT31D_funcs import SHT31Dsetup, readSHT31D\n",
    "    SHT31Dsetup(i2c)\n",
    "    while True:\n",
    "        try:\n",
    "            tmp, humid = readSHT31D()\n",
    "            fbuff.fill(0)\n",
    "            fbuff.text(\"SHT31-D\", 0, 0, 1)\n",
    "            fbuff.text(\"temperature:\", 10, 10, 1)\n",
    "            fatntext(\"%.2f\"%tmp, 20, 22)\n",
    "            fbuff.text(\"humidity:\", 10, 40, 1)\n",
    "            fatntext(\"%.2f\"%humid, 20, 50)\n",
    "            oledshow()\n",
    "            if (n % 5) == 0:\n",
    "                fqm.fput(topichumid, \"%.2f\"%humid)\n",
    "                fqm.fput(topictemp, \"%.2f\"%tmp)\n",
    "            n += 1\n",
    "        except OSError as e:\n",
    "            print(e, \"SHT31D_task\")\n",
    "            await asyncio.sleep_ms(1000)\n",
    "        await asyncio.sleep_ms(100)\n",
    "            \n",
    "async def TSL561_task():\n",
    "    from TSL561_funcs import setupTSL561, luminosity, setregtimings\n",
    "    topicbr = fconfig[\"boardname\"]+\"/TSL561/broad\"\n",
    "    topicir = fconfig[\"boardname\"]+\"/TSL561/ir\"\n",
    "    setupTSL561(i2c)\n",
    "    setregtimings(True, 1)\n",
    "    n = 0\n",
    "    while True:\n",
    "        try:\n",
    "            br, ir = luminosity()\n",
    "            fbuff.fill(0)\n",
    "            fbuff.text(\"TSL561\", 0, 0, 1)\n",
    "            fbuff.text(\"broad:\", 0, 23, 1)\n",
    "            fatntext(\"%d\"%br, 50, 16)\n",
    "            fbuff.text(\"ir:\", 0, 53, 1)\n",
    "            fatntext(\"%d\"%ir, 50, 46)\n",
    "            oledshow()\n",
    "            if (n % 10) == 0:\n",
    "                fqm.fput(topicir, \"%d\"%ir)\n",
    "                fqm.fput(topicbr, \"%d\"%br)\n",
    "            n += 1\n",
    "        except OSError as e:\n",
    "            print(e, \"TSL561_task\")\n",
    "            await asyncio.sleep_ms(1000)\n",
    "        await asyncio.sleep_ms(50)\n",
    "            \n",
    "async def MS5611_task():\n",
    "    from MS5611_funcs import ms5611setup, readMS5611\n",
    "    from OLED_grapher import scrollinit, addscrollgraph, plotscrollgraph\n",
    "    scrollinit()\n",
    "    topicbaro = fconfig[\"boardname\"]+\"/MS5611/baro\"\n",
    "    ms5611setup(i2c)\n",
    "    n = 0\n",
    "    while True:\n",
    "        try:\n",
    "            temp, pr = readMS5611()\n",
    "            #fbuff.fill(0)\n",
    "            #fbuff.text(\"TSL561\", 0, 0, 1)\n",
    "            #fbuff.text(\"temp:\", 0, 23, 1)\n",
    "            #fatntext(\"%f\"%temp, 50, 16)\n",
    "            #fbuff.text(\"prs:\", 0, 35, 1)\n",
    "            #fatntext(\"%f\"%pr, 0, 46)\n",
    "            addscrollgraph(pr, time.ticks_ms())\n",
    "            plotscrollgraph(fbuff)\n",
    "            oledshow()\n",
    "            oledshow()\n",
    "            if (n % 10) == 0:\n",
    "                fqm.fput(topicbaro, \"%f\"%pr)\n",
    "            n += 1\n",
    "        except OSError as e:\n",
    "            print(e, \"MS5611_task\")\n",
    "            await asyncio.sleep_ms(1000)\n",
    "        await asyncio.sleep_ms(10)\n",
    "            \n",
    "# setup and operation of the async loop\n",
    "fqm = FMQTTQueue(pled)\n",
    "fqm.setupmqttas(fconfig[\"wifiname\"], fconfig[\"wifipassword\"], fconfig[\"mqttbroker\"])\n",
    "fqm.addsubscription(fconfig[\"boardname\"]+\"/msg\")\n",
    "\n",
    "aloop = asyncio.get_event_loop()\n",
    "aloop.create_task(fqm.fstreamtask())\n",
    "if \"TMP102\" in devnames:\n",
    "    aloop.create_task(TMP102_task())\n",
    "if \"SHT31D\" in devnames:\n",
    "    aloop.create_task(SHT31D_task())\n",
    "if \"TSL561\" in devnames:\n",
    "    aloop.create_task(TSL561_task())\n",
    "if \"MS5611\" in devnames:\n",
    "    aloop.create_task(MS5611_task())\n",
    "if \"CDM7160\" in devnames:\n",
    "    aloop.create_task(CDM7160_task())\n",
    "if \"DS18B20\" in devnames:\n",
    "    aloop.create_task(DS18B20_task())\n",
    "    \n",
    "aloop.run_until_complete(plotdevices(fqm))\n",
    "aloop.run_forever()\n"
   ]
  },
  {
   "cell_type": "code",
   "execution_count": 64,
   "metadata": {},
   "outputs": [
    {
     "name": "stdout",
     "output_type": "stream",
     "text": [
      "serial exception on close write failed: [Errno 5] Input/output error\n",
      "\u001b[34mConnecting to --port=/dev/ttyUSB1 --baud=115200 \u001b[0m\n",
      "\u001b[34mReady.\n",
      "\u001b[0m"
     ]
    }
   ],
   "source": [
    "%serialconnect"
   ]
  },
  {
   "cell_type": "code",
   "execution_count": null,
   "metadata": {},
   "outputs": [],
   "source": []
  },
  {
   "cell_type": "code",
   "execution_count": 16,
   "metadata": {},
   "outputs": [],
   "source": [
    "from OLED_grapher import scrollinit, addscrollgraph, plotscrollgraph\n",
    "scrollinit()"
   ]
  },
  {
   "cell_type": "code",
   "execution_count": null,
   "metadata": {},
   "outputs": [],
   "source": []
  },
  {
   "cell_type": "code",
   "execution_count": 19,
   "metadata": {},
   "outputs": [
    {
     "name": "stdout",
     "output_type": "stream",
     "text": [
      "............."
     ]
    }
   ],
   "source": [
    "import math, time\n",
    "from OLED_grapher import scrollinit, addscrollgraph, plotscrollgraph\n",
    "from MS5611_funcs import ms5611setup, readMS5611\n",
    "scrollinit()\n",
    "for i in range(0, 10000, 10):\n",
    "    temp, pr = readMS5611()\n",
    "    addscrollgraph(pr, time.ticks_ms())\n",
    "    plotscrollgraph(fbuff)\n",
    "    oledshow()\n"
   ]
  },
  {
   "cell_type": "code",
   "execution_count": 440,
   "metadata": {},
   "outputs": [
    {
     "name": "stdout",
     "output_type": "stream",
     "text": [
      "PWM(2, freq=5000, duty=512)\n"
     ]
    }
   ],
   "source": [
    "import machine\n",
    "pbeep = machine.PWM(machine.Pin(2))\n"
   ]
  },
  {
   "cell_type": "code",
   "execution_count": 472,
   "metadata": {},
   "outputs": [
    {
     "name": "stdout",
     "output_type": "stream",
     "text": [
      "[60, 119]\n"
     ]
    }
   ],
   "source": [
    "print(i2c.scan())"
   ]
  },
  {
   "cell_type": "code",
   "execution_count": 475,
   "metadata": {},
   "outputs": [
    {
     "name": "stderr",
     "output_type": "stream",
     "text": [
      "Traceback (most recent call last):\n",
      "  File \"<stdin>\", line 4, in <module>\n",
      "OSError: [Errno 19] ENODEV\n"
     ]
    }
   ],
   "source": [
    "ads = i2c.scan()\n",
    "res = [ ]\n",
    "if 0x77 in ads:\n",
    "    k = i2c.readfrom_mem(0x77, 0xD0, 1)[0]\n",
    "    if k == 0x60:\n",
    "        res.append(\"BME280 barhumid\")\n",
    "    elif k == 0x55:\n",
    "        res.append(\"BME180 barhumid\")\n",
    "    else:\n",
    "        res.append(\"MS5611 baro\")\n"
   ]
  },
  {
   "cell_type": "code",
   "execution_count": null,
   "metadata": {},
   "outputs": [],
   "source": []
  },
  {
   "cell_type": "code",
   "execution_count": null,
   "metadata": {},
   "outputs": [],
   "source": []
  },
  {
   "cell_type": "code",
   "execution_count": null,
   "metadata": {},
   "outputs": [],
   "source": []
  },
  {
   "cell_type": "code",
   "execution_count": null,
   "metadata": {},
   "outputs": [],
   "source": [
    "\n",
    "\n",
    "\n",
    "\n",
    "        \n",
    "if devname == \"MLX90621\":\n",
    "    fbuff.text(\"11\", 50, 50, 1)\n",
    "    oledshow()\n",
    "    from MLX90621_funcs import measure, cellfillplot\n",
    "    fbuff.text(\"22\", 59, 50, 1)\n",
    "    oledshow()\n",
    "    while True:\n",
    "        temperatures = measure()\n",
    "        tmin = min(temperatures)\n",
    "        tmax = max(tmin+0.001, max(temperatures))\n",
    "        fbuff.fill(0)\n",
    "        fbuff.text(\"MLX90621\", 0, 0, 1)\n",
    "        for i in range(64):\n",
    "            cellfillplot(fbuff, i//4, 1+(3-(i%4)), ((temperatures[i] - tmin)/(tmax - tmin))**2)\n",
    "        fbuff.text(\"min=%.3f\"%tmin, 12, 48)\n",
    "        fbuff.text(\"max=%.3f\"%tmax, 12, 56)\n",
    "        oledshow()\n",
    "\n",
    "if devname == \"PX4PITOT\":\n",
    "    while True:\n",
    "        k = i2c.readfrom(0x28, 4)\n",
    "        status = k[0] & 0xC0; \n",
    "        fbuff.fill(0)\n",
    "        fbuff.text(\"PX4PITOT\", 0, 0, 1)\n",
    "        if status != 0xC0:\n",
    "            rawpress = ((k[0] & 0x3F) << 8) | (k[1]) \n",
    "            rawtemp = (k[2] << 3) | (k[3] >> 5)\n",
    "            psi = (rawpress)*(1.0/(0x3FFF*0.4)) - 1.25\n",
    "            diffpressure = psi*6894.75728\n",
    "            temp = (rawtemp)*(200.0/0x7FF) - 50\n",
    "            #airspeed = math.sqrt(abs(2*getdiffpressure())/1.2);\n",
    "            fbuff.text(\"diffpress:\", 10, 10, 1)\n",
    "            fatntext(\"%.2f\"%diffpressure, 20, 22)\n",
    "            fbuff.text(\"temp:\", 10, 40, 1)\n",
    "            fatntext(\"%.2f\"%temp, 20, 50)\n",
    "        else:\n",
    "            fbuff.text(\"BAD\", 20, 20, 1)\n",
    "        oledshow()\n",
    "        time.sleep(0.2)\n",
    "        \n",
    "if devname == \"BNO055\":\n",
    "    from BNO055serial_funcs import InitBNO055, BNO055absorientation, BNO055calibstat\n",
    "    InitBNO055(uart)\n",
    "    while True:\n",
    "        fbuff.fill(0)\n",
    "        calibstat = None\n",
    "        try:\n",
    "            pitch, roll, orient = BNO055absorientation()\n",
    "            calibstat = BNO055calibstat()\n",
    "        except Exception as e:\n",
    "            fbuff.text(\"BNO055\", 0, 0, 1)\n",
    "            fbuff.text(e.args[0], 0, 16, 1)\n",
    "        if calibstat is not None:  \n",
    "            fbuff.text(\"BNO055 :{0:08b}\".format(calibstat), 0, 0, 1)\n",
    "            fbuff.text(\"pitch:\", 8, 16, 1)\n",
    "            fatntext(\"%d\"%int(pitch), 64, 10)\n",
    "            fbuff.text(\"roll:\", 16, 32, 1)\n",
    "            fatntext(\"%d\"%int(roll), 64, 28)\n",
    "            fbuff.text(\"orient:\", 0, 52, 1)\n",
    "            fatntext(\"%d\"%int(orient), 64, 48)\n",
    "        oledshow()\n",
    "        time.sleep(0.1)\n",
    "        \n",
    "if devname == \"GPS\":\n",
    "    while True:\n",
    "        x = uart.readline()\n",
    "        if x is not None:\n",
    "            fbuff.fill(0)\n",
    "            fbuff.text(\"GPS serial\", 0, 0, 1)\n",
    "            x = x.strip()\n",
    "            for i in range(len(x)//16 + 1):\n",
    "                fbuff.text(x[i*16:i*16+16], 0, 15+i*8, 1)\n",
    "            oledshow()\n",
    "            time.sleep_ms(100)\n",
    "        time.sleep_ms(50)\n"
   ]
  },
  {
   "cell_type": "code",
   "execution_count": null,
   "metadata": {},
   "outputs": [],
   "source": [
    "        \n",
    "# read any GPS serial signals on \n",
    "fbuff.text(\"Znone\", 120, 56, 1)\n",
    "oledshow()\n",
    "time.sleep(2.0)\n",
    "\n",
    "from OLED_grapher import scrollinit, addscrollgraph, plotscrollgraph\n",
    "scrollinit()\n",
    "a = machine.ADC(machine.Pin(36))  # Pin4 from top left\n",
    "a.atten(a.ATTN_11DB)\n",
    "a.width(a.WIDTH_12BIT)\n",
    "while True:\n",
    "    v = a.read()\n",
    "    addscrollgraph(v, time.ticks_ms())\n",
    "    plotscrollgraph(fbuff)\n",
    "    fbuff.text(\"ADCPin36\",0,0,1)\n",
    "    fbuff.text(str(v),0,8,1)\n",
    "    oledshow()\n",
    "time.sleep(0.1)\n",
    "    "
   ]
  },
  {
   "cell_type": "code",
   "execution_count": null,
   "metadata": {},
   "outputs": [],
   "source": [
    "%sendtofile main.py\n",
    "\n",
    "from machine import Pin, PWM, ADC\n",
    "import time\n",
    "\n",
    "p2 = Pin(2, Pin.OUT)\n",
    "pA = Pin(5, Pin.OUT)\n",
    "pB = Pin(16, Pin.OUT)\n",
    "\n",
    "a = ADC(Pin(34, Pin.IN))\n",
    "a.width(ADC.WIDTH_12BIT)\n",
    "a.atten(ADC.ATTN_11DB)\n",
    "\n",
    "def gopos(pos):\n",
    "    for i in range(100):\n",
    "        d = (a.read() - pos)\n",
    "        if abs(d) > 40:\n",
    "            di = 1 if d < 0 else 0\n",
    "            pA.value(di)\n",
    "            pB.value(1-di)\n",
    "            p2.value(1)\n",
    "        else:\n",
    "            p2.value(0)\n",
    "            break\n",
    "        time.sleep(0.01)\n",
    "    print(a.read())\n",
    "\n",
    "import random\n",
    "while True:\n",
    "    pos = random.uniform(500, 3500)\n",
    "    gopos(pos)\n",
    "    time.sleep(0.5)\n"
   ]
  }
 ],
 "metadata": {
  "kernelspec": {
   "display_name": "MicroPython - USB",
   "language": "micropython",
   "name": "micropython"
  },
  "language_info": {
   "codemirror_mode": "python",
   "file_extension": ".py",
   "mimetype": "text/python",
   "name": "micropython"
  }
 },
 "nbformat": 4,
 "nbformat_minor": 2
}

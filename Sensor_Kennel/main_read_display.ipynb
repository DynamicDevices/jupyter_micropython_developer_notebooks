{
 "cells": [
  {
   "cell_type": "code",
   "execution_count": 5,
   "metadata": {},
   "outputs": [
    {
     "name": "stdout",
     "output_type": "stream",
     "text": [
      "serial exception on close write failed: [Errno 5] Input/output error\n",
      "\u001b[34mConnecting to --port=/dev/ttyUSB1 --baud=115200 \u001b[0m\n",
      "\u001b[34mReady.\n",
      "\u001b[0m"
     ]
    }
   ],
   "source": [
    "%serialconnect"
   ]
  },
  {
   "cell_type": "markdown",
   "metadata": {},
   "source": [
    "This is the main Sensor Kennel application that will \n",
    "identify, read and write any sensor that's plugged in.\n",
    "\n",
    "On the lower side:  \n",
    "  Pin1 (left) Gnd, Pin3 3v3, P4 (Pin-3 from right) SDA, P15 (Pin-5 from right) SCL.\n",
    "  P17 (Pin-2) TX, P13 (Upper side Pin-2) RX \n",
    "  For BNO055 with PS1=High SCL=TX(17), SDA=RX(13)\n",
    "  \n",
    "Do we want to draw a graph of numbers if a button is pressed?\n",
    "\n",
    "Should we have MQTT numbers going out from it?\n",
    "\n",
    "Or just keep it comprehensive\n",
    "\n",
    "Sensors known:\n",
    "* VL53L0X lidar\n",
    "* VL6180 lidar\n",
    "* SI7021 humidity\n",
    "* TSL561 luminous\n",
    "* TMP102 temp\n",
    "* SDOF GyAccMag\n",
    "* BME280 barhumid\n",
    "* SHT31D tmphumid\n",
    "* MLX90621 16x4-ir\n",
    "* PX4PITOT airspeed\n",
    "* BNO055 orient\n",
    "* GPS serial\n"
   ]
  },
  {
   "cell_type": "code",
   "execution_count": null,
   "metadata": {
    "collapsed": true
   },
   "outputs": [],
   "source": []
  },
  {
   "cell_type": "code",
   "execution_count": 37,
   "metadata": {},
   "outputs": [
    {
     "name": "stdout",
     "output_type": "stream",
     "text": [
      "\u001b[34mConnecting to --port=/dev/ttyUSB0 --baud=115200 \u001b[0m\n",
      "\u001b[34mReady.\n",
      "\u001b[0m"
     ]
    }
   ],
   "source": [
    "%serialconnect"
   ]
  },
  {
   "cell_type": "code",
   "execution_count": 136,
   "metadata": {},
   "outputs": [
    {
     "name": "stdout",
     "output_type": "stream",
     "text": [
      "Sent 3368 bytes in 113 chunks to OLED_driver.py.\n",
      "Sent 94 lines (2820 bytes) to device_detection.py.\n",
      "Sent 55 lines (2040 bytes) to SI7021_funcs.py.\n",
      "Sent 54 lines (1757 bytes) to TSL561_funcs.py.\n",
      "Sent 33 lines (975 bytes) to VL53L0X_funcs.py.\n",
      "Sent 106 lines (3190 bytes) to VL6180_funcs.py.\n",
      "Sent 42 lines (1800 bytes) to SDOF_funcs.py.\n",
      "Sent 43 lines (1090 bytes) to SHT31D_funcs.py.\n",
      "Sent 76 lines (3165 bytes) to BME280_funcs.py.\n",
      "Sent 170 lines (5915 bytes) to MLX90621_funcs.py.\n",
      "Sent 87 lines (2701 bytes) to BNO055serial_funcs.py.\n",
      "Sent 145 lines (4083 bytes) to OLED_grapher.py.\n"
     ]
    }
   ],
   "source": [
    "%sendtofile --binary --source OLED_driver.py\n",
    "%sendtofile --quiet --source device_detection.py\n",
    "%sendtofile --quiet --source SI7021_funcs.py\n",
    "%sendtofile --quiet --source TSL561_funcs.py\n",
    "%sendtofile --quiet --source VL53L0X_funcs.py\n",
    "%sendtofile --quiet --source VL6180_funcs.py\n",
    "%sendtofile --quiet --source SDOF_funcs.py\n",
    "%sendtofile --quiet --source SHT31D_funcs.py\n",
    "%sendtofile --quiet --source BME280_funcs.py\n",
    "%sendtofile --quiet --source MLX90621_funcs.py\n",
    "%sendtofile --quiet --source BNO055serial_funcs.py\n",
    "%sendtofile --quiet --source OLED_grapher.py\n"
   ]
  },
  {
   "cell_type": "code",
   "execution_count": 17,
   "metadata": {},
   "outputs": [
    {
     "name": "stdout",
     "output_type": "stream",
     "text": [
      "Sent 638 lines (23042 bytes) to mqtt_as.py.\n"
     ]
    }
   ],
   "source": [
    "# This requires you to checkout https://github.com/micropython/micropython-lib and avoids the upip\n",
    "%sendtofile --quiet --mkdir --source /home/julian/extrepositories/micropython-lib/uasyncio/uasyncio/__init__.py lib/uasyncio/\n",
    "%sendtofile --quiet --mkdir --source /home/julian/extrepositories/micropython-lib/uasyncio.core/uasyncio/core.py lib/uasyncio/\n",
    "%sendtofile --quiet --mkdir --source /home/julian/extrepositories/micropython-lib/uasyncio.queues/uasyncio/queues.py lib/uasyncio/\n",
    "%sendtofile --quiet --mkdir --source /home/julian/extrepositories/micropython-lib/uasyncio.synchro/uasyncio/synchro.py lib/uasyncio/\n",
    "\n",
    "# This requires you to checkout https://github.com/peterhinch/micropython-async\n",
    "%sendtofile --quiet --source /home/julian/extrepositories/micropython-async/asyn.py\n",
    "%sendtofile --quiet --source /home/julian/extrepositories/micropython-async/aswitch.py\n",
    "\n",
    "# This requires you to checkout https://github.com/peterhinch/micropython-mqtt/tree/master/mqtt_as\n",
    "%sendtofile --quiet --source /home/julian/extrepositories/micropython-mqtt/mqtt_as/mqtt_as.py\n",
    "\n",
    "# This is the wrapper code on the asynchronous mqtt\n",
    "%sendtofile --quiet --source fmqttqueue.py"
   ]
  },
  {
   "cell_type": "code",
   "execution_count": 131,
   "metadata": {},
   "outputs": [
    {
     "name": "stdout",
     "output_type": "stream",
     "text": [
      "Sent 5 lines (108 bytes) to config.txt.\n"
     ]
    }
   ],
   "source": [
    "%sendtofile config.txt\n",
    "\n",
    "wifiname     mqtt-wifi\n",
    "wifipassword decafbad00\n",
    "mqttbroker   10.3.141.1\n",
    "pinled       25\n",
    "boardname    heltec1\n"
   ]
  },
  {
   "cell_type": "code",
   "execution_count": 121,
   "metadata": {},
   "outputs": [],
   "source": []
  },
  {
   "cell_type": "code",
   "execution_count": 55,
   "metadata": {},
   "outputs": [
    {
     "name": "stdout",
     "output_type": "stream",
     "text": [
      "\u001b[34mConnecting to --port=/dev/ttyUSB0 --baud=115200 \u001b[0m\n",
      "\u001b[34mReady.\n",
      "\u001b[0m"
     ]
    }
   ],
   "source": [
    "%serialconnect"
   ]
  },
  {
   "cell_type": "code",
   "execution_count": 122,
   "metadata": {},
   "outputs": [],
   "source": [
    "aloop = asyncio.get_event_loop()\n",
    "aloop.create_task(fqm.fstreamtask())\n"
   ]
  },
  {
   "cell_type": "code",
   "execution_count": 128,
   "metadata": {},
   "outputs": [
    {
     "name": "stdout",
     "output_type": "stream",
     "text": [
      "DRerunning conn_han qqq\n",
      "DRunning conn_han 1 2\n",
      ".0\n",
      "rqueue (b'qqq', b'1552785000492')\n",
      "1\n",
      "2\n",
      "3\n",
      "rqueue (b'ggg', b'1552785003300')\n",
      "4\n",
      ".5\n",
      "6\n",
      "7\n",
      "rqueue (b'qqq', b'1552785006883')\n",
      "8\n",
      "9\n",
      "RAM free 90688 alloc 36736\n",
      "10\n",
      "11\n",
      ".12\n",
      "13\n",
      "14\n",
      "15\n",
      "16\n",
      ".17\n",
      "18\n",
      "19\n"
     ]
    }
   ],
   "source": [
    "fqm.addsubscription(\"qqq\")\n",
    "async def sm(fqm):\n",
    "    for i in range(20):\n",
    "        fqm.fput(\"jjj\", 'TT%d'%i)\n",
    "        await asyncio.sleep_ms(1000)\n",
    "        print(i)\n",
    "        while fqm.rqueue:\n",
    "            print(\"rqueue\", fqm.rqueue.popleft())\n",
    "aloop.run_until_complete(sm(fqm))\n"
   ]
  },
  {
   "cell_type": "code",
   "execution_count": 104,
   "metadata": {},
   "outputs": [
    {
     "name": "stdout",
     "output_type": "stream",
     "text": [
      "kk\n",
      "kk\n"
     ]
    }
   ],
   "source": [
    "async def kk():\n",
    "    print(\"kk\")\n",
    "    await fqm.client.publish(\"jj\", \"ll\", qos=1)\n",
    "    print(\"kk\")\n",
    "aloop.run_until_complete(kk())\n"
   ]
  },
  {
   "cell_type": "code",
   "execution_count": 71,
   "metadata": {},
   "outputs": [
    {
     "name": "stdout",
     "output_type": "stream",
     "text": [
      "True\n"
     ]
    }
   ],
   "source": [
    "print(fqm.client.isconnected())\n",
    "fqm.client.publish(\"ting/thing\", \"ffff\")"
   ]
  },
  {
   "cell_type": "code",
   "execution_count": 33,
   "metadata": {},
   "outputs": [
    {
     "name": "stdout",
     "output_type": "stream",
     "text": [
      "0\n"
     ]
    }
   ],
   "source": [
    "fqm.fput('TT%d'%9999)\n",
    "print(len(fqm._queue))"
   ]
  },
  {
   "cell_type": "code",
   "execution_count": 2,
   "metadata": {},
   "outputs": [
    {
     "name": "stdout",
     "output_type": "stream",
     "text": [
      "serial exception on close write failed: [Errno 5] Input/output error\n",
      "\u001b[34mConnecting to --port=/dev/ttyUSB0 --baud=115200 \u001b[0m\n",
      "\u001b[34mReady.\n",
      "\u001b[0m"
     ]
    }
   ],
   "source": [
    "%serialconnect\n"
   ]
  },
  {
   "cell_type": "code",
   "execution_count": 36,
   "metadata": {},
   "outputs": [
    {
     "name": "stdout",
     "output_type": "stream",
     "text": [
      "['__class__', '__file__', '__name__', '__path__', 'DEBUG', 'TimeoutError', 'log', 'select', 'sleep', 'sleep_ms', 'time', 'ucollections', 'uerrno', 'utimeq', 'uasyncio', 'get_event_loop', '_socket', 'core', 'set_debug', 'PollEventLoop', 'EventLoop', 'StreamReader', 'IORead', 'IOReadDone', 'StreamWriter', 'IOWrite', 'IOWriteDone', 'open_connection', 'start_server', 'type_gen', 'CancelledError', 'SysCall1', 'SleepMs', 'StopLoop', 'SysCall', 'cancel', 'TimeoutObj', 'wait_for_ms', 'wait_for', 'coroutine', 'ensure_future', 'Task']\n"
     ]
    }
   ],
   "source": [
    "print(dir(uasyncio))"
   ]
  },
  {
   "cell_type": "code",
   "execution_count": null,
   "metadata": {},
   "outputs": [],
   "source": []
  },
  {
   "cell_type": "code",
   "execution_count": 18,
   "metadata": {},
   "outputs": [
    {
     "name": "stdout",
     "output_type": "stream",
     "text": [
      "0\n",
      "1\n",
      "2\n",
      "\u001b[34m\n",
      "\n",
      "*** Sending Ctrl-C\n",
      "\n",
      "\u001b[0m"
     ]
    },
    {
     "name": "stderr",
     "output_type": "stream",
     "text": [
      "Traceback (most recent call last):\n",
      "  File \"<stdin>\", line 2, in <module>\n",
      "  File \"/lib/uasyncio/core.py\", line 180, in run_until_complete\n",
      "  File \"/lib/uasyncio/core.py\", line 173, in run_forever\n",
      "  File \"/lib/uasyncio/__init__.py\", line 69, in wait\n",
      "KeyboardInterrupt: \n"
     ]
    }
   ],
   "source": [
    "aloop = asyncio.get_event_loop()\n",
    "aloop.run_until_complete(sm())\n"
   ]
  },
  {
   "cell_type": "code",
   "execution_count": null,
   "metadata": {},
   "outputs": [],
   "source": []
  },
  {
   "cell_type": "code",
   "execution_count": null,
   "metadata": {},
   "outputs": [],
   "source": []
  },
  {
   "cell_type": "code",
   "execution_count": null,
   "metadata": {},
   "outputs": [],
   "source": []
  },
  {
   "cell_type": "code",
   "execution_count": null,
   "metadata": {},
   "outputs": [],
   "source": []
  },
  {
   "cell_type": "code",
   "execution_count": 138,
   "metadata": {},
   "outputs": [
    {
     "name": "stdout",
     "output_type": "stream",
     "text": [
      "serial exception on close write failed: [Errno 5] Input/output error\n",
      "\u001b[34mConnecting to --port=/dev/ttyUSB0 --baud=115200 \u001b[0m\n",
      "\u001b[34mReady.\n",
      "\u001b[0m"
     ]
    }
   ],
   "source": [
    "%serialconnect"
   ]
  },
  {
   "cell_type": "code",
   "execution_count": null,
   "metadata": {},
   "outputs": [
    {
     "name": "stdout",
     "output_type": "stream",
     "text": [
      "Revision ID: 0x0 Device ID: 0x1\n",
      "revision (1, 3) module_revision (1, 2)\n",
      "DConnecting.\n",
      ".Checking WiFi integrity.\n",
      ".Got reliable connection\n",
      "Connecting to broker.\n",
      "Connected to broker.\n",
      "DConnected.\n",
      "DRunning conn_han None 1\n",
      "....RAM free 82368 alloc 45056\n",
      "....RAM free 82320 alloc 45104\n",
      "....RAM free 82496 alloc 44928\n",
      ".."
     ]
    }
   ],
   "source": [
    "#%sendtofile main.py\n",
    "\n",
    "# connect to the OLED and initialize (and get its i2c bus)\n",
    "from OLED_driver import i2c, fbuff, oledshow, doublepixels, fatntext\n",
    "import machine, time\n",
    "\n",
    "from device_detection import IdentifyI2CDevice, IdentifyUARTDevice\n",
    "\n",
    "from machine import Pin\n",
    "import uasyncio as asyncio\n",
    "from fmqttqueue import FMQTTQueue\n",
    "\n",
    "fconfig = dict(x.split()  for x in open(\"config.txt\"))\n",
    "pled = Pin(int(fconfig[\"pinled\"]), Pin.OUT)\n",
    "\n",
    "devices = IdentifyI2CDevice(i2c)\n",
    "if not devices:\n",
    "    uart = machine.UART(1, baudrate=9600, rx=13, tx=17)\n",
    "    # gps is 9600, bluefly is 57600  \n",
    "    devices = IdentifyUARTDevice(uart)\n",
    "if not devices:\n",
    "    import onewire, ds18x20\n",
    "    pindallas = machine.Pin(13, Pin.OUT, Pin.PULL_UP)\n",
    "    dallasobj = ds18x20.DS18X20(onewire.OneWire(pindallas))\n",
    "    dallasscanned = dallasobj.scan()\n",
    "    if dallasscanned:\n",
    "        sdallasqorder = {347:0, 376:1, 448:2, 475:3, 576:4, 311:5, 406:6, 157:7}\n",
    "        dallasscanned.sort(key=lambda X: sdallasqorder.get(sum(X), 0))\n",
    "        devices = [\"dallas n=%d\"%len(dallasscanned)]\n",
    "        \n",
    "if not devices:\n",
    "    devices.append(\"nothing found\")\n",
    "\n",
    "# this might look like a lot of code, but it's the complete \n",
    "# visual output of text and numbers that we do per sensor here\n",
    "for dev in devices:\n",
    "    devname, devdesc = dev.split(\" \", 1)\n",
    "    fbuff.fill(0)\n",
    "    fbuff.text(devname, 0, 0, 1)\n",
    "    fbuff.text(devdesc, 0, 12, 1)\n",
    "    doublepixels()\n",
    "    oledshow()\n",
    "\n",
    "async def plotdevices(fqm):\n",
    "    topic = fconfig[\"boardname\"]+\"/\"+devname\n",
    "    if devname == \"VL53L0X\":\n",
    "        from VL53L0X_funcs import VL53L0Xinit, VL53L0Xdist\n",
    "        VL53L0Xinit(i2c)\n",
    "        while True:\n",
    "            d = VL53L0Xdist()\n",
    "            fbuff.fill(0)\n",
    "            fbuff.text(\"VL53L0X\", 0, 0, 1)\n",
    "            fbuff.text(\"dist(mm):\", 8, 20, 1)\n",
    "            fatntext(\"%d\" % d, 40, 36)\n",
    "            oledshow()\n",
    "            fqm.fput(topic, \"%d\"%d)\n",
    "            await asyncio.sleep_ms(50)\n",
    "        \n",
    "    if devname == \"VL6180\":\n",
    "        from VL6180_funcs import VL6180init, distmm\n",
    "        VL6180init(i2c)\n",
    "        while True:\n",
    "            d = distmm()\n",
    "            fbuff.fill(0)\n",
    "            fbuff.text(\"VL6180\", 0, 0, 1)\n",
    "            fbuff.text(\"dist(mm):\", 8, 20, 1)\n",
    "            fatntext(\"%d\" % d, 40, 36)\n",
    "            oledshow()\n",
    "            fqm.fput(topic, \"%d\" % d)\n",
    "            await asyncio.sleep_ms(50)\n",
    "\n",
    "\n",
    "# setup and operation of the async loop\n",
    "fqm = FMQTTQueue(pled)\n",
    "fqm.setupmqttas(fconfig[\"wifiname\"], fconfig[\"wifipassword\"], fconfig[\"mqttbroker\"])\n",
    "fqm.addsubscription(fconfig[\"boardname\"]+\"/msg\")\n",
    "\n",
    "aloop = asyncio.get_event_loop()\n",
    "aloop.create_task(fqm.fstreamtask())\n",
    "aloop.run_until_complete(plotdevices(fqm))\n"
   ]
  },
  {
   "cell_type": "code",
   "execution_count": null,
   "metadata": {},
   "outputs": [],
   "source": []
  },
  {
   "cell_type": "code",
   "execution_count": null,
   "metadata": {},
   "outputs": [],
   "source": []
  },
  {
   "cell_type": "code",
   "execution_count": null,
   "metadata": {},
   "outputs": [],
   "source": [
    "if devname == \"dallas\":\n",
    "    while True:\n",
    "        dallasobj.convert_temp()\n",
    "        time.sleep(0.8)\n",
    "        fbuff.fill(0)\n",
    "        fbuff.text(\"dallas temps\", 0, 0, 1)\n",
    "        for i, d in enumerate(dallasscanned):\n",
    "            try:\n",
    "                t = dallasobj.read_temp(d)\n",
    "            except Exception:\n",
    "                t = -100\n",
    "            fbuff.text(\"%.2f\"%t, (i%2)*64, (i//2+2)*8)\n",
    "            if mqttclient is not None and t != -100:\n",
    "                mqttclient.publish(b\"sk1/dallas/%d\"%i, b\"%.2f\"%t)\n",
    "        if mqttclient:\n",
    "            fbuff.text(\"**MQTT\", 0, 56)\n",
    "        oledshow()\n",
    "    \n",
    "if devname == \"SI7021\":\n",
    "    from SI7021_funcs import setupSI7021, SI7021humiditytemp\n",
    "    setupSI7021(i2c)\n",
    "    while True:\n",
    "        h, t = SI7021humiditytemp()\n",
    "        fbuff.fill(0)\n",
    "        fbuff.text(\"SI7021\", 0, 0, 1)\n",
    "        fbuff.text(\"humid:\", 0, 23, 1)\n",
    "        fatntext(\"%.1f\"%h, 50, 16)\n",
    "        fbuff.text(\"temp:\", 0, 53, 1)\n",
    "        fatntext(\"%.1f\"%t, 50, 46)\n",
    "        if mqttclient is not None:\n",
    "            mqttclient.publish(b\"sk1/humidity\", b\"%.1f\"%h)\n",
    "            mqttclient.publish(b\"sk1/temperature\", b\"%.1f\"%t)\n",
    "            fbuff.text(\"**MQTT\", 0, 32)\n",
    "\n",
    "        oledshow()\n",
    "        time.sleep(0.25)\n",
    "\n",
    "if devname == \"VL53L0X\":\n",
    "    from VL53L0X_funcs import VL53L0Xinit, VL53L0Xdist\n",
    "    VL53L0Xinit(i2c)\n",
    "    while True:\n",
    "        d = VL53L0Xdist()\n",
    "        fbuff.fill(0)\n",
    "        fbuff.text(\"VL53L0X\", 0, 0, 1)\n",
    "        fbuff.text(\"dist(mm):\", 8, 20, 1)\n",
    "        fatntext(\"%d\" % d, 40, 36)\n",
    "        oledshow()\n",
    "        \n",
    "if devname == \"VL6180\":\n",
    "    from VL6180_funcs import VL6180init, distmm\n",
    "    VL6180init(i2c)\n",
    "    while True:\n",
    "        d = distmm()\n",
    "        fbuff.fill(0)\n",
    "        fbuff.text(\"VL53L0X\", 0, 0, 1)\n",
    "        fbuff.text(\"dist(mm):\", 8, 20, 1)\n",
    "        fatntext(\"%d\" % d, 40, 36)\n",
    "        oledshow()\n",
    "\n",
    "if devname == \"TSL561\":\n",
    "    from TSL561_funcs import setupTSL561, luminosity, setregtimings\n",
    "    setupTSL561(i2c)\n",
    "    setregtimings(True, 1)\n",
    "    while True:\n",
    "        br, ir = luminosity()\n",
    "        fbuff.fill(0)\n",
    "        fbuff.text(\"TSL561\", 0, 0, 1)\n",
    "        fbuff.text(\"broad:\", 0, 23, 1)\n",
    "        fatntext(\"%d\"%br, 50, 16)\n",
    "        fbuff.text(\"ir:\", 0, 53, 1)\n",
    "        fatntext(\"%d\"%ir, 50, 46)\n",
    "        oledshow()\n",
    "        time.sleep(0.1)\n",
    "\n",
    "if devname == \"TMP102\":\n",
    "    while True:\n",
    "        r = i2c.readfrom_mem(0x48, 0x00, 2)\n",
    "        t = r[0] + r[1]/256\n",
    "        fbuff.fill(0)\n",
    "        fbuff.text(\"TMP102\", 0, 0, 1)\n",
    "        fbuff.text(\"temp:\", 0, 23, 1)\n",
    "        fatntext(\"%.03f\"%t, 30, 40)\n",
    "        oledshow()\n",
    "        time.sleep(0.1)\n",
    "\n",
    "if devname == \"SDOF\":\n",
    "    from SDOF_funcs import SetupAccGyrMag, readvectorsensor\n",
    "    SetupAccGyrMag(i2c)\n",
    "    while True:\n",
    "        fbuff.fill(0)\n",
    "        x, y, z = readvectorsensor(\"a\")\n",
    "        fbuff.text(\"Acc:\", 0, 0, 1)\n",
    "        fbuff.text(\"%d\"%x, 8, 8, 1)\n",
    "        fbuff.text(\"%d\"%y, 8, 16, 1)\n",
    "        fbuff.text(\"%d\"%z, 8, 24, 1)\n",
    "        x, y, z = readvectorsensor(\"g\")\n",
    "        fbuff.text(\"gyr:\", 64, 0, 1)\n",
    "        fbuff.text(\"%d\"%x, 72, 8, 1)\n",
    "        fbuff.text(\"%d\"%y, 72, 16, 1)\n",
    "        fbuff.text(\"%d\"%z, 72, 24, 1)\n",
    "        x, y, z = readvectorsensor(\"c\")\n",
    "        fbuff.text(\"mag:\", 40, 32, 1)\n",
    "        fbuff.text(\"%d\"%x, 48, 40, 1)\n",
    "        fbuff.text(\"%d\"%y, 48, 48, 1)\n",
    "        fbuff.text(\"%d\"%z, 48, 56, 1)\n",
    "        oledshow()\n",
    "        time.sleep(0.1)\n",
    "        \n",
    "if devname == \"BME280\" or devname == \"BME180\":\n",
    "    from BME280_funcs import bme280init, readBME280\n",
    "    bme280init(i2c)\n",
    "    while True:\n",
    "        temp, pressure, humid = readBME280()\n",
    "        fbuff.fill(0)\n",
    "        fbuff.fill(0)\n",
    "        fbuff.text(\"BME280\", 0, 0, 1)\n",
    "        fbuff.text(\"tmp:\", 0, 16, 1)\n",
    "        fatntext(\"%.2f\"%(temp), 32, 10)\n",
    "        fbuff.text(\"prs:\", 0, 36, 1)\n",
    "        fatntext(\"%.2f\"%(pressure), 32, 30)\n",
    "        fbuff.text(\"hum:\", 0, 54, 1)\n",
    "        fatntext(\"%.2f\"%(humid), 32, 50)\n",
    "        oledshow()\n",
    "        time.sleep(0.11)\n",
    "\n",
    "if devname == \"SHT31D\":\n",
    "    from SHT31D_funcs import SHT31Dsetup, readSHT31D\n",
    "    SHT31Dsetup(i2c)\n",
    "    while True:\n",
    "        tmp, humid = readSHT31D()\n",
    "        fbuff.fill(0)\n",
    "        fbuff.text(\"SHT31-D\", 0, 0, 1)\n",
    "        fbuff.text(\"temperature:\", 10, 10, 1)\n",
    "        fatntext(\"%.2f\"%tmp, 20, 22)\n",
    "        fbuff.text(\"humidity:\", 10, 40, 1)\n",
    "        fatntext(\"%.2f\"%humid, 20, 50)\n",
    "        oledshow()\n",
    "        time.sleep(0.1)\n",
    "        \n",
    "if devname == \"MLX90621\":\n",
    "    fbuff.text(\"11\", 50, 50, 1)\n",
    "    oledshow()\n",
    "    from MLX90621_funcs import measure, cellfillplot\n",
    "    fbuff.text(\"22\", 59, 50, 1)\n",
    "    oledshow()\n",
    "    while True:\n",
    "        temperatures = measure()\n",
    "        tmin = min(temperatures)\n",
    "        tmax = max(tmin+0.001, max(temperatures))\n",
    "        fbuff.fill(0)\n",
    "        fbuff.text(\"MLX90621\", 0, 0, 1)\n",
    "        for i in range(64):\n",
    "            cellfillplot(fbuff, i//4, 1+(3-(i%4)), ((temperatures[i] - tmin)/(tmax - tmin))**2)\n",
    "        fbuff.text(\"min=%.3f\"%tmin, 12, 48)\n",
    "        fbuff.text(\"max=%.3f\"%tmax, 12, 56)\n",
    "        oledshow()\n",
    "\n",
    "if devname == \"PX4PITOT\":\n",
    "    while True:\n",
    "        k = i2c.readfrom(0x28, 4)\n",
    "        status = k[0] & 0xC0; \n",
    "        fbuff.fill(0)\n",
    "        fbuff.text(\"PX4PITOT\", 0, 0, 1)\n",
    "        if status != 0xC0:\n",
    "            rawpress = ((k[0] & 0x3F) << 8) | (k[1]) \n",
    "            rawtemp = (k[2] << 3) | (k[3] >> 5)\n",
    "            psi = (rawpress)*(1.0/(0x3FFF*0.4)) - 1.25\n",
    "            diffpressure = psi*6894.75728\n",
    "            temp = (rawtemp)*(200.0/0x7FF) - 50\n",
    "            #airspeed = math.sqrt(abs(2*getdiffpressure())/1.2);\n",
    "            fbuff.text(\"diffpress:\", 10, 10, 1)\n",
    "            fatntext(\"%.2f\"%diffpressure, 20, 22)\n",
    "            fbuff.text(\"temp:\", 10, 40, 1)\n",
    "            fatntext(\"%.2f\"%temp, 20, 50)\n",
    "        else:\n",
    "            fbuff.text(\"BAD\", 20, 20, 1)\n",
    "        oledshow()\n",
    "        time.sleep(0.2)\n",
    "        \n",
    "if devname == \"BNO055\":\n",
    "    from BNO055serial_funcs import InitBNO055, BNO055absorientation, BNO055calibstat\n",
    "    InitBNO055(uart)\n",
    "    while True:\n",
    "        fbuff.fill(0)\n",
    "        calibstat = None\n",
    "        try:\n",
    "            pitch, roll, orient = BNO055absorientation()\n",
    "            calibstat = BNO055calibstat()\n",
    "        except Exception as e:\n",
    "            fbuff.text(\"BNO055\", 0, 0, 1)\n",
    "            fbuff.text(e.args[0], 0, 16, 1)\n",
    "        if calibstat is not None:  \n",
    "            fbuff.text(\"BNO055 :{0:08b}\".format(calibstat), 0, 0, 1)\n",
    "            fbuff.text(\"pitch:\", 8, 16, 1)\n",
    "            fatntext(\"%d\"%int(pitch), 64, 10)\n",
    "            fbuff.text(\"roll:\", 16, 32, 1)\n",
    "            fatntext(\"%d\"%int(roll), 64, 28)\n",
    "            fbuff.text(\"orient:\", 0, 52, 1)\n",
    "            fatntext(\"%d\"%int(orient), 64, 48)\n",
    "        oledshow()\n",
    "        time.sleep(0.1)\n",
    "        \n",
    "if devname == \"GPS\":\n",
    "    while True:\n",
    "        x = uart.readline()\n",
    "        if x is not None:\n",
    "            fbuff.fill(0)\n",
    "            fbuff.text(\"GPS serial\", 0, 0, 1)\n",
    "            x = x.strip()\n",
    "            for i in range(len(x)//16 + 1):\n",
    "                fbuff.text(x[i*16:i*16+16], 0, 15+i*8, 1)\n",
    "            oledshow()\n",
    "            time.sleep_ms(100)\n",
    "        time.sleep_ms(50)\n"
   ]
  },
  {
   "cell_type": "code",
   "execution_count": null,
   "metadata": {},
   "outputs": [],
   "source": [
    "        \n",
    "# read any GPS serial signals on \n",
    "fbuff.text(\"Znone\", 120, 56, 1)\n",
    "oledshow()\n",
    "time.sleep(2.0)\n",
    "\n",
    "from OLED_grapher import scrollinit, addscrollgraph, plotscrollgraph\n",
    "scrollinit()\n",
    "a = machine.ADC(machine.Pin(36))  # Pin4 from top left\n",
    "a.atten(a.ATTN_11DB)\n",
    "a.width(a.WIDTH_12BIT)\n",
    "while True:\n",
    "    v = a.read()\n",
    "    addscrollgraph(v, time.ticks_ms())\n",
    "    plotscrollgraph(fbuff)\n",
    "    fbuff.text(\"ADCPin36\",0,0,1)\n",
    "    fbuff.text(str(v),0,8,1)\n",
    "    oledshow()\n",
    "time.sleep(0.1)\n",
    "    "
   ]
  },
  {
   "cell_type": "code",
   "execution_count": 5,
   "metadata": {},
   "outputs": [
    {
     "name": "stdout",
     "output_type": "stream",
     "text": [
      "serial exception on close write failed: [Errno 5] Input/output error\n",
      "\u001b[34mConnecting to --port=/dev/ttyUSB1 --baud=115200 \u001b[0m\n",
      "\u001b[34mReady.\n",
      "\u001b[0m"
     ]
    }
   ],
   "source": [
    "%serialconnect"
   ]
  },
  {
   "cell_type": "code",
   "execution_count": 15,
   "metadata": {},
   "outputs": [
    {
     "name": "stdout",
     "output_type": "stream",
     "text": [
      "1.883429e+11\n",
      "array('f', [4.98294e-08, 5.413676e-08, 5.297261e-08, 4.843241e-08, 5.215771e-08, 5.565016e-08, 5.530091e-08, 5.099355e-08, 5.36711e-08, 5.681432e-08, 5.646507e-08, 5.215771e-08, 5.483525e-08, 5.937545e-08, 5.82113e-08, 5.413676e-08, 5.925904e-08, 6.193659e-08, 6.182017e-08, 5.553375e-08, 6.042319e-08, 6.391564e-08, 6.251866e-08, 5.704715e-08, 6.135451e-08, 6.449772e-08, 6.426489e-08, 5.727998e-08, 6.193659e-08, 6.589471e-08, 6.50798e-08, 5.786205e-08, 6.193659e-08, 6.426489e-08, 6.449772e-08, 5.739639e-08, 6.135451e-08, 6.531263e-08, 6.310074e-08, 5.5883e-08, 6.077244e-08, 6.35664e-08, 6.251866e-08, 5.541734e-08, 5.797847e-08, 6.053961e-08, 6.042319e-08, 5.215771e-08, 5.66979e-08, 5.762922e-08, 5.762922e-08, 5.076072e-08, 5.448601e-08, 5.681432e-08, 5.599941e-08, 4.761751e-08, 5.273978e-08, 5.28562e-08, 5.355469e-08, 4.656977e-08, 5.076072e-08, 5.13428e-08, 5.052789e-08, 4.249523e-08])\n"
     ]
    }
   ],
   "source": []
  },
  {
   "cell_type": "code",
   "execution_count": 12,
   "metadata": {},
   "outputs": [
    {
     "name": "stdout",
     "output_type": "stream",
     "text": [
      "(232.1904+505.3405j)\n",
      "255.2329\n",
      "138.8689\n",
      "617.7916\n",
      "364.5426\n",
      "(228.2065+501.3565j)\n",
      "349.6132\n",
      "204.2651\n",
      "(171.2454+444.3954j)\n",
      "(7.914703+281.0647j)\n",
      "196.8909\n",
      "678.6301\n",
      "(162.585+435.735j)\n",
      "385.3444\n",
      "255.5977\n",
      "(164.3778+437.5278j)\n",
      "(230.6434+503.7934j)\n",
      "624.9637\n",
      "219.019\n",
      "274.9163\n",
      "335.3936\n",
      "385.6419\n",
      "188.2259\n",
      "429.9454\n",
      "627.5069\n",
      "314.9575\n",
      "118.1405\n",
      "152.5858\n",
      "388.193\n",
      "588.1402\n",
      "(-61.05881+212.0912j)\n",
      "390.2385\n",
      "529.601\n",
      "384.9928\n",
      "(102.9981+376.1481j)\n",
      "513.6724\n",
      "(164.6468+437.7968j)\n",
      "232.7409\n",
      "(89.06601+362.216j)\n",
      "654.6141\n",
      "631.3577\n",
      "303.1949\n",
      "646.406\n",
      "(200.9364+474.0864j)\n",
      "304.792\n",
      "388.2053\n",
      "352.3581\n",
      "549.3299\n",
      "380.3126\n",
      "332.7258\n",
      "(117.5154+390.6654j)\n",
      "315.8437\n",
      "(190.9999+464.1499j)\n",
      "385.6763\n",
      "385.8643\n",
      "594.77\n",
      "565.786\n",
      "157.1682\n",
      "(140.0693+413.2194j)\n",
      "(86.72226+359.8723j)\n",
      "291.1006\n",
      "(99.40198+372.552j)\n",
      "388.854\n",
      "(57.10229+330.2523j)\n"
     ]
    }
   ],
   "source": [
    "for i in range(64):\n",
    "    # Section 7.3.3.1 \n",
    "    VIR = ustruct.unpack(\"<h\", z.irData[i*2:i*2+2])[0]  # <-- this is ridiculously slow\n",
    "    VIRcompensated = VIR - (z.AI[i] + z.BI[i]*(z.Ta - 25))\n",
    "    t = (VIRcompensated/z.alphacompI[i] + z.TaK4)**0.25 - 273.15\n",
    "#    temperatures[i] = (VIRcompensated/alphacompI[i] + TaK4)**0.25 - 273.15\n",
    "    print(t)\n"
   ]
  },
  {
   "cell_type": "code",
   "execution_count": 17,
   "metadata": {},
   "outputs": [
    {
     "name": "stdout",
     "output_type": "stream",
     "text": [
      "array('i', [-105, -111, -101, -100, -109, -96, -106, -105, -102, -79, -95, -98, -86, -86, -90, -88, -95, -89, -93, -84, -75, -94, -82, -94, -74, -91, -92, -87, -82, -83, -81, -95, -79, -82, -69, -87, -78, -82, -71, -81, -75, -73, -85, -78, -74, -72, -70, -72, -72, -72, -79, -63, -66, -68, -68, -52, -71, -71, -72, -60, -80, -68, -76, -65])\n",
      "array('f', [-0.734375, -0.6640625, -0.703125, -0.6640625, -0.703125, -0.703125, -0.703125, -0.734375, -0.6640625, -0.6328125, -0.6640625, -0.703125, -0.6328125, -0.6015625, -0.6328125, -0.6328125, -0.6640625, -0.5703125, -0.6015625, -0.6328125, -0.6328125, -0.6328125, -0.6015625, -0.6640625, -0.5703125, -0.6015625, -0.5703125, -0.6640625, -0.6015625, -0.6015625, -0.6015625, -0.6640625, -0.5703125, -0.53125, -0.5703125, -0.6328125, -0.5703125, -0.5703125, -0.5703125, -0.5703125, -0.53125, -0.53125, -0.53125, -0.5703125, -0.5703125, -0.5703125, -0.53125, -0.5703125, -0.5703125, -0.53125, -0.53125, -0.53125, -0.5703125, -0.5, -0.5, -0.53125, -0.5703125, -0.5, -0.5703125, -0.53125, -0.6015625, -0.5703125, -0.6015625, -0.5])\n"
     ]
    }
   ],
   "source": [
    "print(z.AI)\n",
    "print(z.BI)\n"
   ]
  },
  {
   "cell_type": "code",
   "execution_count": 9,
   "metadata": {},
   "outputs": [
    {
     "name": "stdout",
     "output_type": "stream",
     "text": [
      "..........................................................\n",
      "**[ys] <class 'serial.serialutil.SerialException'>\n",
      "**[ys] read failed: device reports readiness to read but returned no data (device disconnected or multiple access on port?)\n",
      "\n",
      "\n",
      "**[ys] <class 'serial.serialutil.SerialException'>\n",
      "**[ys] read failed: device reports readiness to read but returned no data (device disconnected or multiple access on port?)\n",
      "\n"
     ]
    }
   ],
   "source": [
    "a = machine.ADC(machine.Pin(36))  # Pin4 from top left\n",
    "a.atten(a.ATTN_11DB)\n",
    "a.width(a.WIDTH_12BIT)\n",
    "scrollinit()\n",
    "while True:\n",
    "    v = a.read()\n",
    "    addscrollgraph(v, time.ticks_ms())\n",
    "    plotscrollgraph(fbuff)\n",
    "    fbuff.text(\"ADCPin36\",0,0,1)\n",
    "    oledshow()\n"
   ]
  },
  {
   "cell_type": "code",
   "execution_count": null,
   "metadata": {
    "collapsed": true
   },
   "outputs": [],
   "source": []
  }
 ],
 "metadata": {
  "kernelspec": {
   "display_name": "MicroPython - USB",
   "language": "micropython",
   "name": "micropython"
  },
  "language_info": {
   "codemirror_mode": "python",
   "file_extension": ".py",
   "mimetype": "text/python",
   "name": "micropython"
  }
 },
 "nbformat": 4,
 "nbformat_minor": 2
}

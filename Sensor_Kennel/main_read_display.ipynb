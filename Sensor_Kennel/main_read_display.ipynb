{
 "cells": [
  {
   "cell_type": "markdown",
   "metadata": {},
   "source": [
    "This is the main Sensor Kennel application that will \n",
    "identify, read and write any sensor that's plugged in.\n",
    "\n",
    "On the lower side:  \n",
    "  Pin1 (left) Gnd, Pin3 3v3, Pin-3 (from right) SDA, Pin-5 SCL.\n",
    "  \n",
    "Do we want to draw a graph of numbers if a button is pressed?\n",
    "\n",
    "Should we have MQTT numbers going out from it?\n",
    "\n",
    "Or just keep it comprehensive"
   ]
  },
  {
   "cell_type": "code",
   "execution_count": 787,
   "metadata": {},
   "outputs": [
    {
     "name": "stdout",
     "output_type": "stream",
     "text": [
      "\u001b[34mConnecting to --port=/dev/ttyUSB2 --baud=115200 \u001b[0m\n",
      "\u001b[34mReady.\n",
      "\u001b[0m"
     ]
    }
   ],
   "source": [
    "%serialconnect"
   ]
  },
  {
   "cell_type": "code",
   "execution_count": 791,
   "metadata": {},
   "outputs": [
    {
     "name": "stdout",
     "output_type": "stream",
     "text": [
      "96 96\r\n"
     ]
    }
   ],
   "source": [
    "print(i2c.readfrom_mem(0x77, 0xD0, 1)[0], 0x60)\n"
   ]
  },
  {
   "cell_type": "code",
   "execution_count": 209,
   "metadata": {},
   "outputs": [
    {
     "name": "stdout",
     "output_type": "stream",
     "text": [
      "Sent 55 lines (2042 bytes) to SI7021_funcs.py.\n",
      "Sent 54 lines (1757 bytes) to TSL561_funcs.py.\n",
      "Sent 42 lines (1800 bytes) to SDOF_funcs.py.\n",
      "Sent 55 lines (1614 bytes) to device_detection.py.\n",
      "Sent 3084 bytes in 103 chunks to OLED_driver.py.\n",
      "Sent 88 lines (2732 bytes) to BNO055serial_funcs.py.\n"
     ]
    }
   ],
   "source": [
    "%sendtofile --source SI7021_funcs.py\n",
    "%sendtofile --quiet --source TSL561_funcs.py\n",
    "%sendtofile --quiet --source SDOF_funcs.py\n",
    "%sendtofile --quiet --source device_detection.py\n",
    "%sendtofile --quiet --binary --source OLED_driver.py\n",
    "%sendtofile --quiet --source BNO055serial_funcs.py"
   ]
  },
  {
   "cell_type": "code",
   "execution_count": 553,
   "metadata": {},
   "outputs": [
    {
     "name": "stdout",
     "output_type": "stream",
     "text": [
      "Sent 3083 bytes in 103 chunks to OLED_driver.py.\n"
     ]
    }
   ],
   "source": [
    "%sendtofile --binary --source OLED_driver.py\n"
   ]
  },
  {
   "cell_type": "code",
   "execution_count": 558,
   "metadata": {},
   "outputs": [
    {
     "name": "stdout",
     "output_type": "stream",
     "text": [
      "repl is in normal command mode\n",
      "[\\r\\x03\\x03] b'\\r\\nMicroPython v1.9.3-548-gd12483d9 on 2018-04-18; ESP32 module with ESP32\\r\\nType \"help()\" for more information.\\r\\n>>> \\r\\n>>> \\r\\nPYB: soft reboot\\r\\nOSError: [Errno 2] ENOENT\\r\\nMicroPython v1.9.3-548-gd12483d9 on 2018-04-18; ESP32 module with ESP32\\r\\nType \"help()\" for more information.\\r\\n>>> \\r\\n>>> \\r\\n>>> '\n",
      "[\\r\\x01] b'\\r\\n>>> \\r\\nraw REPL; CTRL-B to exit\\r\\n>'"
     ]
    }
   ],
   "source": [
    "%rebootdevice"
   ]
  },
  {
   "cell_type": "code",
   "execution_count": 554,
   "metadata": {},
   "outputs": [],
   "source": [
    "import os\n",
    "os.remove(\"test.py\")\n"
   ]
  },
  {
   "cell_type": "code",
   "execution_count": 559,
   "metadata": {},
   "outputs": [
    {
     "name": "stdout",
     "output_type": "stream",
     "text": [
      "Temperature 24\n",
      ".............................................\n",
      "**[ys] <class 'serial.serialutil.SerialException'>\n",
      "**[ys] read failed: device reports readiness to read but returned no data (device disconnected or multiple access on port?)\n",
      "\n",
      "\n",
      "**[ys] <class 'serial.serialutil.SerialException'>\n",
      "**[ys] read failed: device reports readiness to read but returned no data (device disconnected or multiple access on port?)\n",
      "\n"
     ]
    }
   ],
   "source": [
    "import dmain\n",
    "#dmain.fbuff\n",
    "print(dmain.uart)\n"
   ]
  },
  {
   "cell_type": "code",
   "execution_count": 522,
   "metadata": {},
   "outputs": [
    {
     "name": "stdout",
     "output_type": "stream",
     "text": [
      "['__class__', '__file__', '__name__', 'I2C', 'Pin', 'i2c', 'rst']\n",
      "[60] 60\n"
     ]
    }
   ],
   "source": [
    "import OLED_driver\n",
    "print(dir(OLED_driver))\n",
    "print(OLED_driver.i2c.scan(), 0x3C)\n",
    "assert 0x3c in OLED_driver.i2c.scan()"
   ]
  },
  {
   "cell_type": "code",
   "execution_count": 784,
   "metadata": {},
   "outputs": [
    {
     "name": "stdout",
     "output_type": "stream",
     "text": [
      "Sent 152 lines (4654 bytes) to main.py.\n"
     ]
    }
   ],
   "source": [
    "%sendtofile main.py\n",
    "\n",
    "# connect to the OLED and initialize (and get its i2c bus)\n",
    "from OLED_driver import i2c, fbuff, oledshow, doublepixels, fatntext\n",
    "import machine, time\n",
    "time.sleep(0.5)\n",
    "\n",
    "from device_detection import IdentifyI2CDevice, IdentifyUARTDevice\n",
    "\n",
    "devices = IdentifyI2CDevice(i2c)\n",
    "if not devices:\n",
    "    uart = machine.UART(1, baudrate=9600, rx=13, tx=17)\n",
    "    devices = IdentifyUARTDevice(uart)\n",
    "if not devices:\n",
    "    devices.append(\"nothing found\")\n",
    "\n",
    "# this might look like a lot of code, but it's the complete \n",
    "# visual output of text and numbers that we do per sensor here\n",
    "for dev in devices:\n",
    "    devname, devdesc = dev.split(\" \", 1)\n",
    "    fbuff.fill(0)\n",
    "    fbuff.text(devname, 0, 0, 1)\n",
    "    fbuff.text(devdesc, 0, 12, 1)\n",
    "    doublepixels()\n",
    "    oledshow()\n",
    "    time.sleep(2)\n",
    "    \n",
    "if devname == \"SI7021\":\n",
    "    from SI7021_funcs import setupSI7021, SI7021humiditytemp\n",
    "    setupSI7021(i2c)\n",
    "    while True:\n",
    "        h, t = SI7021humiditytemp()\n",
    "        fbuff.fill(0)\n",
    "        fbuff.text(\"SI7021\", 0, 0, 1)\n",
    "        fbuff.text(\"humid:\", 0, 23, 1)\n",
    "        fatntext(\"%.1f\"%h, 50, 16)\n",
    "        fbuff.text(\"temp:\", 0, 53, 1)\n",
    "        fatntext(\"%.1f\"%t, 50, 46)\n",
    "        oledshow()\n",
    "\n",
    "if devname == \"VL53L0X\":\n",
    "    from VL53L0X_funcs import VL53L0Xinit, VL53L0Xdist\n",
    "    VL53L0Xinit(i2c)\n",
    "    while True:\n",
    "        d = VL53L0Xdist()\n",
    "        fbuff.fill(0)\n",
    "        fbuff.text(\"VL53L0X\", 0, 0, 1)\n",
    "        fbuff.text(\"dist: %.1f\"%d, 8, 20, 1)\n",
    "        oledshow()\n",
    "\n",
    "if devname == \"TSL561\":\n",
    "    from TSL561_funcs import setupTSL561, luminosity, setregtimings\n",
    "    setupTSL561(i2c)\n",
    "    setregtimings(True, 1)\n",
    "    while True:\n",
    "        br, ir = luminosity()\n",
    "        fbuff.fill(0)\n",
    "        fbuff.text(\"TSL561\", 0, 0, 1)\n",
    "        fbuff.text(\"broad:\", 0, 23, 1)\n",
    "        fatntext(\"%d\"%br, 50, 16)\n",
    "        fbuff.text(\"ir:\", 0, 53, 1)\n",
    "        fatntext(\"%d\"%ir, 50, 46)\n",
    "        oledshow()\n",
    "        time.sleep(0.1)\n",
    "\n",
    "if devname == \"TMP102\":\n",
    "    while True:\n",
    "        r = i2c.readfrom_mem(0x48, 0x00, 2)\n",
    "        t = r[0] + r[1]/256\n",
    "        fbuff.fill(0)\n",
    "        fbuff.text(\"TMP102\", 0, 0, 1)\n",
    "        fbuff.text(\"temp:\", 0, 23, 1)\n",
    "        fatntext(\"%.03f\"%t, 30, 40)\n",
    "        oledshow()\n",
    "        time.sleep(0.1)\n",
    "\n",
    "if devname == \"SDOF\":\n",
    "    from SDOF_funcs import SetupAccGyrMag, readvectorsensor\n",
    "    SetupAccGyrMag(i2c)\n",
    "    while True:\n",
    "        fbuff.fill(0)\n",
    "        x, y, z = readvectorsensor(\"a\")\n",
    "        fbuff.text(\"Acc:\", 0, 0, 1)\n",
    "        fbuff.text(\"%d\"%x, 8, 8, 1)\n",
    "        fbuff.text(\"%d\"%y, 8, 16, 1)\n",
    "        fbuff.text(\"%d\"%z, 8, 24, 1)\n",
    "        x, y, z = readvectorsensor(\"g\")\n",
    "        fbuff.text(\"gyr:\", 64, 0, 1)\n",
    "        fbuff.text(\"%d\"%x, 72, 8, 1)\n",
    "        fbuff.text(\"%d\"%y, 72, 16, 1)\n",
    "        fbuff.text(\"%d\"%z, 72, 24, 1)\n",
    "        x, y, z = readvectorsensor(\"c\")\n",
    "        fbuff.text(\"mag:\", 40, 32, 1)\n",
    "        fbuff.text(\"%d\"%x, 48, 40, 1)\n",
    "        fbuff.text(\"%d\"%y, 48, 48, 1)\n",
    "        fbuff.text(\"%d\"%z, 48, 56, 1)\n",
    "        oledshow()\n",
    "        time.sleep(0.1)\n",
    "        \n",
    "if devname == \"BME280\":\n",
    "    from BME280_funcs import bme280init, readBME280\n",
    "    bme280init(i2c)\n",
    "    while True:\n",
    "        temp, pressure, humid = readBME280()\n",
    "        fbuff.fill(0)\n",
    "        fbuff.fill(0)\n",
    "        fbuff.text(\"BME280\", 0, 0, 1)\n",
    "        fbuff.text(\"tmp:\", 0, 16, 1)\n",
    "        fatntext(\"%.2f\"%(temp), 32, 10)\n",
    "        fbuff.text(\"prs:\", 0, 36, 1)\n",
    "        fatntext(\"%.2f\"%(pressure), 32, 30)\n",
    "        fbuff.text(\"hum:\", 0, 54, 1)\n",
    "        fatntext(\"%.2f\"%(humid), 32, 50)\n",
    "        oledshow()\n",
    "        time.sleep(0.1)\n",
    "\n",
    "if devname == \"BNO055\":\n",
    "    from BNO055serial_funcs import InitBNO055, BNO055absorientation, BNO055calibstat\n",
    "    InitBNO055(uart)\n",
    "    while True:\n",
    "        fbuff.fill(0)\n",
    "        calibstat = None\n",
    "        try:\n",
    "            pitch, roll, orient = BNO055absorientation()\n",
    "            calibstat = BNO055calibstat()\n",
    "        except Exception as e:\n",
    "            fbuff.text(\"BNO055\", 0, 0, 1)\n",
    "            fbuff.text(e.args[0], 0, 16, 1)\n",
    "        if calibstat is not None:  \n",
    "            fbuff.text(\"BNO055 :{0:08b}\".format(calibstat), 0, 0, 1)\n",
    "            fbuff.text(\"pitch:\", 8, 16, 1)\n",
    "            fatntext(\"%d\"%int(pitch), 64, 10)\n",
    "            fbuff.text(\"roll:\", 16, 32, 1)\n",
    "            fatntext(\"%d\"%int(roll), 64, 28)\n",
    "            fbuff.text(\"orient:\", 0, 52, 1)\n",
    "            fatntext(\"%d\"%int(orient), 64, 48)\n",
    "        oledshow()\n",
    "        time.sleep(0.1)        \n",
    "\n",
    "        \n",
    "# read any GPS serial signals on \n",
    "import machine\n",
    "uart.init(baudrate=9600)\n",
    "while True:\n",
    "    x = uart.readline()\n",
    "    if x is not None:\n",
    "        fbuff.fill(0)\n",
    "        fbuff.text(\"GPS serial\", 0, 0, 1)\n",
    "        x = x.strip()\n",
    "        for i in range(len(x)//16 + 1):\n",
    "            fbuff.text(x[i*16:i*16+16], 0, 15+i*8, 1)\n",
    "        oledshow()\n",
    "        time.sleep_ms(100)\n",
    "    time.sleep_ms(50)\n"
   ]
  },
  {
   "cell_type": "code",
   "execution_count": null,
   "metadata": {
    "collapsed": true
   },
   "outputs": [],
   "source": []
  },
  {
   "cell_type": "code",
   "execution_count": null,
   "metadata": {
    "collapsed": true
   },
   "outputs": [],
   "source": []
  },
  {
   "cell_type": "code",
   "execution_count": null,
   "metadata": {
    "collapsed": true
   },
   "outputs": [],
   "source": []
  },
  {
   "cell_type": "code",
   "execution_count": null,
   "metadata": {
    "collapsed": true
   },
   "outputs": [],
   "source": []
  },
  {
   "cell_type": "code",
   "execution_count": null,
   "metadata": {
    "collapsed": true
   },
   "outputs": [],
   "source": []
  },
  {
   "cell_type": "code",
   "execution_count": 749,
   "metadata": {},
   "outputs": [
    {
     "name": "stdout",
     "output_type": "stream",
     "text": [
      "serial exception on close write failed: [Errno 5] Input/output error\n",
      "\u001b[34mConnecting to --port=/dev/ttyUSB2 --baud=115200 \u001b[0m\n",
      "\u001b[34mReady.\n",
      "\u001b[0m"
     ]
    }
   ],
   "source": [
    "%serialconnect"
   ]
  },
  {
   "cell_type": "code",
   "execution_count": 756,
   "metadata": {
    "collapsed": true
   },
   "outputs": [],
   "source": [
    "import array, ustruct\n",
    "\n",
    "\n",
    "dc = array.array(\"i\", range(18))  # calibrations\n",
    "dT1 = const(0);  dT2 = const(1);  dT3 = const(2); # these are indexes into dc\n",
    "dP1 = const(3);  dP2 = const(4);  dP3 = const(5);  dP4 = const(6); dP5 = const(7); \n",
    "dP6 = const(8);  dP7 = const(9);  dP8 = const(10); dP9 = const(11); \n",
    "dH1 = const(12); dH2 = const(13); dH3 = const(14); dH4 = const(15); dH5 = const(16); dH6 = const(17); \n",
    "\n",
    "def bme280init(li2c):\n",
    "    global i2c\n",
    "    i2c = li2c\n",
    "    assert i2c.readfrom_mem(0x77, 0xD0, 1) == b'\\x60', \"chip not found\"\n",
    "    \n",
    "    i2c.writeto_mem(0x77, 0xF2, b'\\x01')  # switch on humidity (over)sampling=1\n",
    "    i2c.writeto_mem(0x77, 0xF4, b'\\x27')  # switch on temp and pressure (over)sampling=1, mode=normal(continuous readings)\n",
    "    i2c.writeto_mem(0x77, 0xF5, b'\\x00')  # 0.5ms standby, no filtering, no-SPI\n",
    "\n",
    "    dc[dT1], dc[dT2], dc[dT3] = ustruct.unpack(\"<Hhh\", i2c.readfrom_mem(0x77, 0x88, 6))\n",
    "    dc[dP1], dc[dP2], dc[dP3], dc[dP4], dc[dP5], dc[dP6], dc[dP7], dc[dP8], dc[dP9] = \\\n",
    "            ustruct.unpack(\"<Hhhhhhhhh\", i2c.readfrom_mem(0x77, 0x8E, 18))\n",
    "        \n",
    "    dc[dH1] = i2c.readfrom_mem(0x77, 0xA1, 1)[0]\n",
    "    dig_e1_e7 = i2c.readfrom_mem(0x77, 0xE1, 7)\n",
    "    dc[dH2], dc[dH3] = ustruct.unpack(\"<hB\", dig_e1_e7)\n",
    "    e4_sign = ustruct.unpack_from(\"<b\", dig_e1_e7, 3)[0]\n",
    "    dc[dH4] = (e4_sign << 4) | (dig_e1_e7[4] & 0xF)\n",
    "    e6_sign = ustruct.unpack_from(\"<b\", dig_e1_e7, 5)[0]\n",
    "    dc[dH5] = (e6_sign << 4) | (dig_e1_e7[4] >> 4)\n",
    "    dc[dH6] = ustruct.unpack_from(\"<b\", dig_e1_e7, 6)[0]\n",
    "\n",
    "\n",
    "readout = bytearray(8)\n",
    "tph = array.array(\"i\", range(3))\n",
    "\n",
    "def readBME280():\n",
    "    # burst readout from 0xF7 to 0xFE, recommended by datasheet\n",
    "    i2c.readfrom_mem_into(0x77, 0xF7, readout)\n",
    "    raw_press = ((readout[0] << 16) | (readout[1] << 8) | readout[2]) >> 4\n",
    "    raw_temp = ((readout[3] << 16) | (readout[4] << 8) | readout[5]) >> 4\n",
    "    raw_hum = (readout[6] << 8) | readout[7]\n",
    "\n",
    "    # temperature\n",
    "    var1 = ((raw_temp >> 3) - (dc[dT1] << 1)) * (dc[dT2] >> 11)\n",
    "    var2 = (((((raw_temp >> 4) - dc[dT1]) * ((raw_temp >> 4) - dc[dT1])) >> 12) * dc[dT3]) >> 14\n",
    "    t_fine = var1 + var2\n",
    "    tempout = (t_fine * 5 + 128) >> 8\n",
    "    \n",
    "    # pressure\n",
    "    var1 = t_fine - 128000\n",
    "    var2 = var1 * var1 * dc[dP6]\n",
    "    var2 = var2 + ((var1 * dc[dP5]) << 17)\n",
    "    var2 = var2 + (dc[dP4] << 35)\n",
    "    var1 = (((var1 * var1 * dc[dP3]) >> 8) + ((var1 * dc[dP2]) << 12))\n",
    "    var1 = (((1 << 47) + var1) * dc[dP1]) >> 33\n",
    "    if var1 == 0:\n",
    "        pressureout = 0\n",
    "    else:\n",
    "        p = 1048576 - raw_press\n",
    "        p = (((p << 31) - var2) * 3125) // var1\n",
    "        var1 = (dc[dP9] * (p >> 13) * (p >> 13)) >> 25\n",
    "        var2 = (dc[dP8] * p) >> 19\n",
    "        pressureout = ((p + var1 + var2) >> 8) + (dc[dP7] << 4)\n",
    "    \n",
    "    # humidity\n",
    "    h = t_fine - 76800\n",
    "    h = (((((raw_hum << 14) - (dc[dH4] << 20) - (dc[dH5] * h)) + 16384) >> 15) * (((((((h * dc[dH6]) >> 10) * (((h * dc[dH3]) >> 11) + 32768)) >> 10) + 2097152) * dc[dH2] + 8192) >> 14))\n",
    "    h = h - (((((h >> 15) * (h >> 15)) >> 7) * dc[dH1]) >> 4)\n",
    "    h = 0 if h < 0 else h\n",
    "    h = 419430400 if h > 419430400 else h\n",
    "    humidityout = h >> 12\n",
    "    return (tempout/100, pressureout/256, humidityout/1024)\n",
    "\n",
    "\n",
    "        \n",
    "        "
   ]
  },
  {
   "cell_type": "code",
   "execution_count": 757,
   "metadata": {},
   "outputs": [],
   "source": [
    "bme280init(OLED_driver.i2c)"
   ]
  },
  {
   "cell_type": "code",
   "execution_count": 766,
   "metadata": {},
   "outputs": [],
   "source": [
    "temp, pressure, humid = readBME280()\n"
   ]
  },
  {
   "cell_type": "code",
   "execution_count": 772,
   "metadata": {},
   "outputs": [
    {
     "name": "stdout",
     "output_type": "stream",
     "text": [
      ".\r\n"
     ]
    }
   ],
   "source": [
    "print(chr(46))"
   ]
  },
  {
   "cell_type": "code",
   "execution_count": 775,
   "metadata": {
    "collapsed": true
   },
   "outputs": [],
   "source": [
    "num8x8 = b'\\x00\\x08\\x08\\x08\\x08\\x08\\x08\\x00\\x00\\x00\\x00``\\x00\\x00\\x00\\x00@`0\\x18\\x0c\\x06\\x02\\x00>\\x7fIE\\x7f>\\x00\\x00@D\\x7f\\x7f@@\\x00\\x00bsQIOF\\x00\\x00\"cII\\x7f6\\x00\\x00\\x18\\x18\\x14\\x16\\x7f\\x7f\\x10\\x00\\'gEE}9\\x00\\x00>\\x7fII{2\\x00\\x00\\x03\\x03y}\\x07\\x03\\x00\\x006\\x7fII\\x7f6\\x00\\x00&oII\\x7f>\\x00'\n",
    "def fatntext(t, x, y):  # numbers only\n",
    "    for s in t:\n",
    "        k = max(0, min(11, ord(s) - 45))\n",
    "        if k == 1:  x -= 4\n",
    "        for c in num8x8[k*8:k*8+8]:\n",
    "            for j in range(8):\n",
    "                if (c & (1<<j)):\n",
    "                    fbuff.fill_rect(x,y+j*2,2,2,1)\n",
    "            x += 2\n",
    "        if k == 1:  x -= 4\n"
   ]
  },
  {
   "cell_type": "code",
   "execution_count": 782,
   "metadata": {},
   "outputs": [],
   "source": [
    "temp, pressure, humid = readBME280()\n",
    "fbuff.fill(0)\n",
    "fbuff.text(\"BME280\", 0, 0, 1)\n",
    "fbuff.text(\"tmp:\", 0, 16, 1)\n",
    "fatntext(\"%.2f\"%(temp), 32, 10)\n",
    "fbuff.text(\"prs:\", 0, 36, 1)\n",
    "fatntext(\"%.2f\"%(pressure), 32, 30)\n",
    "fbuff.text(\"hum:\", 0, 54, 1)\n",
    "fatntext(\"%.2f\"%(humid), 32, 50)\n",
    "oledshow()\n"
   ]
  },
  {
   "cell_type": "code",
   "execution_count": null,
   "metadata": {
    "collapsed": true
   },
   "outputs": [],
   "source": []
  },
  {
   "cell_type": "code",
   "execution_count": 751,
   "metadata": {},
   "outputs": [
    {
     "name": "stdout",
     "output_type": "stream",
     "text": [
      "[60, 119]\n",
      "b'`' b'`'\n"
     ]
    }
   ],
   "source": [
    "print(i2c.scan())\n",
    "k = i2c.readfrom_mem(0x77, 0xD0, 1)\n",
    "print(k, b'\\x60')"
   ]
  },
  {
   "cell_type": "code",
   "execution_count": 737,
   "metadata": {},
   "outputs": [
    {
     "name": "stdout",
     "output_type": "stream",
     "text": [
      "Sent 126 lines (4770 bytes) to mlx90621new.py.\n"
     ]
    }
   ],
   "source": [
    "%sendtofile --source mlx90621new.py"
   ]
  },
  {
   "cell_type": "code",
   "execution_count": 739,
   "metadata": {},
   "outputs": [
    {
     "name": "stdout",
     "output_type": "stream",
     "text": [
      "24.83673 -39.80357\r\n"
     ]
    }
   ],
   "source": [
    "import mlx90621new"
   ]
  },
  {
   "cell_type": "code",
   "execution_count": 741,
   "metadata": {},
   "outputs": [
    {
     "name": "stdout",
     "output_type": "stream",
     "text": [
      "[18.75223, 20.35458, 22.10349, 23.63788, 19.22498, 19.22794, 22.39536, 25.92029, 19.76028, 18.81921, 22.10397, 22.61749, 17.85779, 21.25632, 21.51877, 23.23511, 21.24747, 21.40778, 21.87399, 21.17954, 18.35764, 22.12381, 20.96909, 21.62027, 19.6044, 20.93777, 21.22958, 18.69333, 21.09058, 21.46814, 19.75803, 18.75711, 21.40778, 21.07797, 18.15628, 18.00375, 20.73462, 21.58798, 17.19711, 17.26736, 19.55396, 19.79221, 18.2619, 17.56912, 17.90182, 19.69659, 17.52167, 17.68277, 17.91833, 17.6832, 20.46457, 18.27875, 19.10852, 18.99969, 21.56375, 19.93799, 19.48215, 22.65323, 20.86014, 22.35367, 19.46313, 18.94232, 20.22464, 21.6553]\r\n"
     ]
    }
   ],
   "source": [
    "mlx90621new.measure()\n",
    "print(mlx90621new.temperatures)\n"
   ]
  },
  {
   "cell_type": "code",
   "execution_count": 728,
   "metadata": {},
   "outputs": [
    {
     "name": "stdout",
     "output_type": "stream",
     "text": [
      "[60, 80, 81, 82, 83, 84, 85, 86, 87, 96] 80 96\r\n"
     ]
    }
   ],
   "source": [
    "# looking at the MLX\n",
    "print(i2c.scan(), 0x50, 0x60)"
   ]
  },
  {
   "cell_type": "code",
   "execution_count": 729,
   "metadata": {
    "collapsed": true
   },
   "outputs": [],
   "source": [
    "import machine, ustruct, math\n",
    "\n",
    "# fetch  16 bit register [0x02:readcommand, reg, addressstep=0, numberofreads=1]\n",
    "# (the interface to the MLX90621 is so you can request a row or column\n",
    "#  of pixels with one command call)\n",
    "def readreg16(reg, signed=False):\n",
    "    i2c.writeto(0x60, bytearray([0x02, reg, 0x00, 0x01]), False)\n",
    "    return ustruct.unpack(\"<h\" if signed else \"<H\", i2c.readfrom(0x60, 2))[0]\n",
    "\n",
    "# read signed/unsigned 1 or 2 byte number\n",
    "def readEEprom(reg, nc):\n",
    "    return ustruct.unpack(nc[1], i2c.readfrom_mem(0x50, reg, nc[0]))[0]\n",
    "s16 = (2, \"<h\")\n",
    "u16 = (2, \"<H\")\n",
    "s8 = (1, \"b\")\n",
    "u8 = (1, \"B\")\n",
    "\n",
    "\n",
    "# read config\n",
    "config = readreg16(0x92, signed=False)\n",
    "needs_initializing = not (readreg16(0x92, signed=False) & 0x0400)  # also when power on\n",
    "\n",
    "# Read the EEPROM table (see 8.2.3, 9.5)\n",
    "#    deltaAi = i2c.readfrom_mem(0x50, 0x00, 0x40)\n",
    "#    Bi = i2c.readfrom_mem(0x50, 0x40, 0x40)\n",
    "#    deltaalphai = i2c.readfrom_mem(0x50, 0x80, 0x40)\n",
    "\n",
    "def initialize_settings():\n",
    "    print(\"Initializing settings\")\n",
    "    # Write the oscillator trim value into the IO at address 0x93 (see 7.1, 8.2.2.2, 9.4.4) (no idea what this is)\n",
    "    OSC_trim = readEEprom(0xF7, u8)\n",
    "    i2c.writeto_mem(0x60, 0x04, bytearray([OSC_trim - 0xAA, OSC_trim, 0x56, 0x00]));\n",
    "    \n",
    "    # Write the configuration value (IO address 0x92) (see 8.2.2.1, 9.4.3)\n",
    "    #   The value is either read from the EEPROM or hard coded externally\n",
    "    #   Set the POR/ Brown Out (!needs_initializing) flag to “1” (bit 10 at address 0x92)\n",
    "    Hz_LSB = 0b00111010  # 18bit resolution, 16 frames/second\n",
    "    defaultConfig_H = 0b01000100  # bit 2 resets the Brown Out flag  \n",
    "    i2c.writeto_mem(0x60, 0x03, bytearray([Hz_LSB - 0x55, Hz_LSB, defaultConfig_H - 0x55, defaultConfig_H]))\n",
    "\n",
    "    # prove ConfigReg[5:3] == 3, which is part of a scaling factor\n",
    "    assert ((readreg16(0x92, signed=False)>>4)&3) == 3\n",
    "\n",
    "    "
   ]
  },
  {
   "cell_type": "code",
   "execution_count": 730,
   "metadata": {},
   "outputs": [
    {
     "name": "stdout",
     "output_type": "stream",
     "text": [
      "Initializing settings\r\n"
     ]
    }
   ],
   "source": [
    "initialize_settings()"
   ]
  },
  {
   "cell_type": "code",
   "execution_count": null,
   "metadata": {
    "collapsed": true
   },
   "outputs": [],
   "source": []
  },
  {
   "cell_type": "code",
   "execution_count": null,
   "metadata": {
    "collapsed": true
   },
   "outputs": [],
   "source": []
  },
  {
   "cell_type": "code",
   "execution_count": null,
   "metadata": {
    "collapsed": true
   },
   "outputs": [],
   "source": []
  },
  {
   "cell_type": "code",
   "execution_count": null,
   "metadata": {
    "collapsed": true
   },
   "outputs": [],
   "source": []
  },
  {
   "cell_type": "code",
   "execution_count": 676,
   "metadata": {},
   "outputs": [
    {
     "name": "stdout",
     "output_type": "stream",
     "text": [
      "UART(1, baudrate=115201, bits=8, parity=None, stop=1, tx=17, rx=13, rts=-1, cts=-1, timeout=0, timeout_char=1)\r\n"
     ]
    }
   ],
   "source": [
    "uart.init(baudrate=115200)\n",
    "print(uart)"
   ]
  },
  {
   "cell_type": "code",
   "execution_count": null,
   "metadata": {
    "collapsed": true
   },
   "outputs": [],
   "source": []
  },
  {
   "cell_type": "code",
   "execution_count": 712,
   "metadata": {},
   "outputs": [
    {
     "name": "stdout",
     "output_type": "stream",
     "text": [
      "b'\\xbb\\x06\\xa0\\xfb2\\x0f\\x08\\x03'\r\n"
     ]
    }
   ],
   "source": [
    "# this local tests the BNO055serial\n",
    "import time\n",
    "uart.write(b\"\\xAA\\x01\\x00\\x06\")  # request chip_id and firmware version\n",
    "time.sleep_ms(20)\n",
    "r = uart.read()\n",
    "print(r)"
   ]
  },
  {
   "cell_type": "code",
   "execution_count": null,
   "metadata": {
    "collapsed": true
   },
   "outputs": [],
   "source": []
  }
 ],
 "metadata": {
  "kernelspec": {
   "display_name": "MicroPython - USB",
   "language": "micropython",
   "name": "micropython"
  },
  "language_info": {
   "codemirror_mode": "python",
   "file_extension": ".py",
   "mimetype": "text/python",
   "name": "micropython"
  }
 },
 "nbformat": 4,
 "nbformat_minor": 2
}

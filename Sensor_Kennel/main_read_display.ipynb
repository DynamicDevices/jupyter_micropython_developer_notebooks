{
 "cells": [
  {
   "cell_type": "markdown",
   "metadata": {},
   "source": [
    "This is the main Sensor Kennel application that will \n",
    "identify, read and plot any sensor that's plugged in.\n",
    "\n",
    "On the lower side:  Pin1 (left) Gnd, Pin3 3v3, Pin-3 (from right) SDA, Pin-5 SCL."
   ]
  },
  {
   "cell_type": "code",
   "execution_count": 219,
   "metadata": {},
   "outputs": [
    {
     "name": "stdout",
     "output_type": "stream",
     "text": [
      "\u001b[34mConnecting to --port=/dev/ttyUSB2 --baud=115200 \u001b[0m\n",
      "\u001b[34mReady.\n",
      "\u001b[0m"
     ]
    }
   ],
   "source": [
    "%serialconnect"
   ]
  },
  {
   "cell_type": "code",
   "execution_count": 220,
   "metadata": {},
   "outputs": [
    {
     "name": "stdout",
     "output_type": "stream",
     "text": [
      "Sent 35 lines (1068 bytes) to device_detection.py.\n"
     ]
    }
   ],
   "source": [
    "%sendtofile --quiet --source device_detection.py\n"
   ]
  },
  {
   "cell_type": "code",
   "execution_count": 211,
   "metadata": {},
   "outputs": [
    {
     "name": "stdout",
     "output_type": "stream",
     "text": [
      "\u001b[31m\n",
      "\n",
      "***Connection broken [Input/output error]\n",
      "\u001b[0mYou may need to reconnect\u001b[34m\n",
      "Closing serial Serial<id=0x7fa74762cb00, open=True>(port='/dev/ttyUSB1', baudrate=115200, bytesize=8, parity='N', stopbits=1, timeout=0.5, xonxoff=False, rtscts=False, dsrdtr=False)\n",
      "\u001b[0m\u001b[31mNo serial connected\n",
      "\u001b[0m  %serialconnect to connect\n",
      "  %esptool to flash the device\n",
      "  %lsmagic to list commands"
     ]
    }
   ],
   "source": [
    "%sendtofile --source SI7021_funcs.py\n",
    "%sendtofile --quiet --source TSL561_funcs.py\n",
    "%sendtofile --quiet --source SDOF_funcs.py\n",
    "%sendtofile --quiet --source device_detection.py\n",
    "%sendtofile --quiet --binary --source OLED_driver.py"
   ]
  },
  {
   "cell_type": "code",
   "execution_count": 259,
   "metadata": {},
   "outputs": [
    {
     "name": "stdout",
     "output_type": "stream",
     "text": [
      "Sent 86 lines (2480 bytes) to main.py.\n"
     ]
    }
   ],
   "source": [
    "%sendtofile main.py\n",
    "\n",
    "from OLED_driver import i2c, fbuff, oledshow, doublepixels, fatntext\n",
    "\n",
    "import time\n",
    "time.sleep(0.5)\n",
    "from device_detection import IdentifyI2CDevice\n",
    "\n",
    "devices = IdentifyI2CDevice(i2c)\n",
    "devname = \"nothing\"\n",
    "for dev in devices:\n",
    "    devname, devdesc = dev.split(\" \", 1)\n",
    "    fbuff.fill(0)\n",
    "    fbuff.text(devname,0,0,1)\n",
    "    fbuff.text(devdesc,0,12,1)\n",
    "    doublepixels()\n",
    "    oledshow()\n",
    "    time.sleep(2)\n",
    "    \n",
    "if devname == \"SI7021\":\n",
    "    from SI7021_funcs import setupSI7021, SI7021humiditytemp\n",
    "    setupSI7021(i2c)\n",
    "    while True:\n",
    "        h, t = SI7021humiditytemp()\n",
    "        fbuff.fill(0)\n",
    "        fbuff.text(\"SI7021\", 0, 0, 1)\n",
    "        fbuff.text(\"humid:\", 0, 23, 1)\n",
    "        fatntext(\"%.1f\"%h, 50, 16)\n",
    "        fbuff.text(\"temp:\", 0, 53, 1)\n",
    "        fatntext(\"%.1f\"%t, 50, 46)\n",
    "        oledshow()\n",
    "\n",
    "if devname == \"VL53L0X\":\n",
    "    from VL53L0X_funcs import VL53L0Xinit, VL53L0Xdist\n",
    "    VL53L0Xinit(i2c)\n",
    "    while True:\n",
    "        d = VL53L0Xdist()\n",
    "        fbuff.fill(0)\n",
    "        fbuff.text(\"VL53L0X\", 0, 0, 1)\n",
    "        fbuff.text(\"dist: %.1f\"%d, 8, 20, 1)\n",
    "        oledshow()\n",
    "\n",
    "if devname == \"TSL561\":\n",
    "    from TSL561_funcs import setupTSL561, luminosity, setregtimings\n",
    "    setupTSL561(i2c)\n",
    "    setregtimings(True, 1)\n",
    "    while True:\n",
    "        br, ir = luminosity()\n",
    "        fbuff.fill(0)\n",
    "        fbuff.text(\"TSL561\", 0, 0, 1)\n",
    "        fbuff.text(\"broad:\", 0, 23, 1)\n",
    "        fatntext(\"%d\"%br, 50, 16)\n",
    "        fbuff.text(\"ir:\", 0, 53, 1)\n",
    "        fatntext(\"%d\"%ir, 50, 46)\n",
    "        oledshow()\n",
    "\n",
    "if devname == \"TMP102\":\n",
    "    while True:\n",
    "        r = i2c.readfrom_mem(0x48, 0x00, 2)\n",
    "        t = r[0] + r[1]/256\n",
    "        fbuff.fill(0)\n",
    "        fbuff.text(\"TMP102\", 0, 0, 1)\n",
    "        fbuff.text(\"temp:\", 0, 23, 1)\n",
    "        fatntext(\"%.03f\"%t, 30, 40)\n",
    "        oledshow()\n",
    "\n",
    "if devname == \"SDOF\":\n",
    "    from SDOF_funcs import SetupAccGyrMag, readvectorsensor\n",
    "    SetupAccGyrMag(i2c)\n",
    "    while True:\n",
    "        fbuff.fill(0)\n",
    "        x, y, z = readvectorsensor(\"a\")\n",
    "        fbuff.text(\"Acc:\", 0, 0, 1)\n",
    "        fbuff.text(\"%d\"%x, 8, 8, 1)\n",
    "        fbuff.text(\"%d\"%y, 8, 16, 1)\n",
    "        fbuff.text(\"%d\"%z, 8, 24, 1)\n",
    "        x, y, z = readvectorsensor(\"g\")\n",
    "        fbuff.text(\"gyr:\", 64, 0, 1)\n",
    "        fbuff.text(\"%d\"%x, 72, 8, 1)\n",
    "        fbuff.text(\"%d\"%y, 72, 16, 1)\n",
    "        fbuff.text(\"%d\"%z, 72, 24, 1)\n",
    "        x, y, z = readvectorsensor(\"c\")\n",
    "        fbuff.text(\"mag:\", 40, 32, 1)\n",
    "        fbuff.text(\"%d\"%x, 48, 40, 1)\n",
    "        fbuff.text(\"%d\"%y, 48, 48, 1)\n",
    "        fbuff.text(\"%d\"%z, 48, 56, 1)\n",
    "        time.sleep(0.1)\n",
    "        oledshow()\n"
   ]
  },
  {
   "cell_type": "code",
   "execution_count": 240,
   "metadata": {},
   "outputs": [
    {
     "name": "stdout",
     "output_type": "stream",
     "text": [
      "Sent 42 lines (1800 bytes) to SDOF_funcs.py.\n"
     ]
    }
   ],
   "source": []
  },
  {
   "cell_type": "code",
   "execution_count": null,
   "metadata": {
    "collapsed": true
   },
   "outputs": [],
   "source": []
  },
  {
   "cell_type": "code",
   "execution_count": null,
   "metadata": {
    "collapsed": true
   },
   "outputs": [],
   "source": []
  },
  {
   "cell_type": "code",
   "execution_count": null,
   "metadata": {
    "collapsed": true
   },
   "outputs": [],
   "source": []
  },
  {
   "cell_type": "code",
   "execution_count": 256,
   "metadata": {},
   "outputs": [
    {
     "name": "stdout",
     "output_type": "stream",
     "text": [
      "serial exception on close write failed: [Errno 5] Input/output error\n",
      "\u001b[34mConnecting to --port=/dev/ttyUSB2 --baud=115200 \u001b[0m\n",
      "\u001b[34mReady.\n",
      "\u001b[0m"
     ]
    }
   ],
   "source": [
    "%serialconnect"
   ]
  },
  {
   "cell_type": "code",
   "execution_count": null,
   "metadata": {
    "collapsed": true
   },
   "outputs": [],
   "source": []
  }
 ],
 "metadata": {
  "kernelspec": {
   "display_name": "MicroPython - USB",
   "language": "micropython",
   "name": "micropython"
  },
  "language_info": {
   "codemirror_mode": "python",
   "file_extension": ".py",
   "mimetype": "text/python",
   "name": "micropython"
  }
 },
 "nbformat": 4,
 "nbformat_minor": 2
}

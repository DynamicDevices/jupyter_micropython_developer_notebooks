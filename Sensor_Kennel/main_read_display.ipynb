{
 "cells": [
  {
   "cell_type": "markdown",
   "metadata": {},
   "source": [
    "This is the main Sensor Kennel application that will \n",
    "identify, read and plot any sensor that's plugged in.\n",
    "\n",
    "On the lower side:  Pin1 (left) Gnd, Pin3 3v3, Pin-3 (from right) SDA, Pin-5 SCL."
   ]
  },
  {
   "cell_type": "code",
   "execution_count": 43,
   "metadata": {},
   "outputs": [
    {
     "name": "stdout",
     "output_type": "stream",
     "text": [
      "serial exception on close write failed: [Errno 5] Input/output error\n",
      "\u001b[34mConnecting to --port=/dev/ttyUSB1 --baud=115200 \u001b[0m\n",
      "\u001b[34mReady.\n",
      "\u001b[0m"
     ]
    }
   ],
   "source": [
    "%serialconnect"
   ]
  },
  {
   "cell_type": "code",
   "execution_count": 44,
   "metadata": {},
   "outputs": [
    {
     "name": "stdout",
     "output_type": "stream",
     "text": [
      "[57, 60]\r\n"
     ]
    }
   ],
   "source": [
    "print(i2c.scan())"
   ]
  },
  {
   "cell_type": "code",
   "execution_count": null,
   "metadata": {
    "collapsed": true
   },
   "outputs": [],
   "source": []
  },
  {
   "cell_type": "code",
   "execution_count": 28,
   "metadata": {},
   "outputs": [
    {
     "name": "stdout",
     "output_type": "stream",
     "text": [
      "Sent 55 lines (2042 bytes) to SI7021_funcs.py.\n"
     ]
    }
   ],
   "source": [
    "%sendtofile --source SI7021_funcs.py\n"
   ]
  },
  {
   "cell_type": "code",
   "execution_count": 103,
   "metadata": {},
   "outputs": [
    {
     "name": "stdout",
     "output_type": "stream",
     "text": [
      "Sent 55 lines (2042 bytes) to SI7021_funcs.py.\n",
      "Sent 33 lines (1131 bytes) to TSL561_funcs.py.\n",
      "Sent 25 lines (779 bytes) to device_detection.py.\n",
      "Sent 3084 bytes in 103 chunks to OLED_driver.py.\n"
     ]
    }
   ],
   "source": [
    "%sendtofile --source SI7021_funcs.py\n",
    "%sendtofile --quiet --source TSL561_funcs.py\n",
    "%sendtofile --quiet --source device_detection.py\n",
    "%sendtofile --quiet --binary --source OLED_driver.py"
   ]
  },
  {
   "cell_type": "code",
   "execution_count": 104,
   "metadata": {},
   "outputs": [
    {
     "name": "stdout",
     "output_type": "stream",
     "text": [
      "Sent 52 lines (1410 bytes) to main.py.\n"
     ]
    }
   ],
   "source": [
    "%sendtofile main.py\n",
    "\n",
    "from OLED_driver import i2c, fbuff, oledshow, doublepixels, fatntext\n",
    "\n",
    "import time\n",
    "time.sleep(0.5)\n",
    "from device_detection import IdentifyI2CDevice\n",
    "\n",
    "devices = IdentifyI2CDevice(i2c)\n",
    "devname = \"nothing\"\n",
    "for dev in devices:\n",
    "    devname, devdesc = dev.split()\n",
    "    fbuff.fill(0)\n",
    "    fbuff.text(devname,0,0,1)\n",
    "    fbuff.text(devdesc,0,12,1)\n",
    "    doublepixels()\n",
    "    oledshow()\n",
    "    time.sleep(2)\n",
    "    \n",
    "if devname == \"SI7021\":\n",
    "    from SI7021_funcs import setupSI7021, SI7021humiditytemp\n",
    "    setupSI7021(i2c)\n",
    "    while True:\n",
    "        h, t = SI7021humiditytemp()\n",
    "        fbuff.fill(0)\n",
    "        fbuff.text(\"SI7021\", 0, 0, 1)\n",
    "        fbuff.text(\"humid:\", 0, 23, 1)\n",
    "        fatntext(\"%.1f\"%h, 50, 16)\n",
    "        fbuff.text(\"temp:\", 0, 53, 1)\n",
    "        fatntext(\"%.1f\"%t, 50, 46)\n",
    "        oledshow()\n",
    "\n",
    "if devname == \"VL53L0X\":\n",
    "    from VL53L0X_funcs import VL53L0Xinit, VL53L0Xdist\n",
    "    VL53L0Xinit(i2c)\n",
    "    while True:\n",
    "        d = VL53L0Xdist()\n",
    "        fbuff.fill(0)\n",
    "        fbuff.text(\"VL53L0X\", 0, 0, 1)\n",
    "        fbuff.text(\"dist: %.1f\"%d, 8, 20, 1)\n",
    "        oledshow()\n",
    "\n",
    "if devname == \"TSL561\":\n",
    "    from TSL561_funcs import setupTSL561, luminosity\n",
    "    setupTSL561(i2c)\n",
    "    while True:\n",
    "        br, ir = luminosity()\n",
    "        fbuff.fill(0)\n",
    "        fbuff.text(\"TSL561\", 0, 0, 1)\n",
    "        fbuff.text(\"broad:\", 0, 23, 1)\n",
    "        fatntext(\"%d\"%br, 50, 16)\n",
    "        fbuff.text(\"ir:\", 0, 53, 1)\n",
    "        fatntext(\"%d\"%ir, 50, 46)\n",
    "        oledshow()\n"
   ]
  },
  {
   "cell_type": "code",
   "execution_count": null,
   "metadata": {
    "collapsed": true
   },
   "outputs": [],
   "source": []
  },
  {
   "cell_type": "code",
   "execution_count": null,
   "metadata": {
    "collapsed": true
   },
   "outputs": [],
   "source": []
  },
  {
   "cell_type": "code",
   "execution_count": null,
   "metadata": {
    "collapsed": true
   },
   "outputs": [],
   "source": []
  },
  {
   "cell_type": "code",
   "execution_count": 95,
   "metadata": {},
   "outputs": [
    {
     "name": "stdout",
     "output_type": "stream",
     "text": [
      "serial exception on close write failed: [Errno 5] Input/output error\n",
      "\u001b[34mConnecting to --port=/dev/ttyUSB2 --baud=115200 \u001b[0m\n",
      "\u001b[34mReady.\n",
      "\u001b[0m"
     ]
    }
   ],
   "source": [
    "%serialconnect"
   ]
  },
  {
   "cell_type": "code",
   "execution_count": 57,
   "metadata": {},
   "outputs": [
    {
     "name": "stdout",
     "output_type": "stream",
     "text": [
      "object <I2C> is of type I2C\n",
      "  init -- <function>\n",
      "  scan -- <function>\n",
      "  start -- <function>\n",
      "  stop -- <function>\n",
      "  readinto -- <function>\n",
      "  write -- <function>\n",
      "  readfrom -- <function>\n",
      "  readfrom_into -- <function>\n",
      "  writeto -- <function>\n",
      "  readfrom_mem -- <function>\n",
      "  readfrom_mem_into -- <function>\n",
      "  writeto_mem -- <function>\n"
     ]
    }
   ],
   "source": [
    "help(i2c)"
   ]
  },
  {
   "cell_type": "code",
   "execution_count": 96,
   "metadata": {},
   "outputs": [
    {
     "name": "stdout",
     "output_type": "stream",
     "text": [
      "5 0\r\n"
     ]
    }
   ],
   "source": [
    "chip_id = i2c.readfrom_mem(0x39, 0x80 | 0x0A, 1)[0]\n",
    "partno = (chip_id >> 4) & 0x0f  # should be 5\n",
    "revno = chip_id & 0x0f\n",
    "print(partno, revno)\n",
    "#chip_id = self._read_register(_REGISTER_ID)\n",
    "#        partno = (chip_id >> 4) & 0x0f\n",
    "#        revno = chip_id & 0x0f\n",
    "#        return (partno, revno)\n"
   ]
  },
  {
   "cell_type": "code",
   "execution_count": 99,
   "metadata": {},
   "outputs": [],
   "source": [
    "i2c.writeto_mem(0x39, 0x80 | 0x00, b\"\\x03\")  # _CONTROL_POWERON\n"
   ]
  },
  {
   "cell_type": "code",
   "execution_count": 88,
   "metadata": {},
   "outputs": [
    {
     "name": "stdout",
     "output_type": "stream",
     "text": [
      "0x12\r\n"
     ]
    }
   ],
   "source": [
    "x = i2c.readfrom_mem(0x39, 0x80 | 0x01, 1)[0]  # _REGISTER_TIMING\n",
    "print(hex(x))"
   ]
  },
  {
   "cell_type": "code",
   "execution_count": 87,
   "metadata": {},
   "outputs": [],
   "source": [
    "i2c.writeto_mem(0x39, 0x80 | 0x01, chr(x | 0x10))\n"
   ]
  },
  {
   "cell_type": "code",
   "execution_count": 102,
   "metadata": {},
   "outputs": [
    {
     "name": "stdout",
     "output_type": "stream",
     "text": [
      "(494, 160)\n",
      "(492, 159)\n",
      "(491, 159)\n",
      "(63, 23)\n",
      "(446, 143)\n",
      "(497, 160)\n",
      "(488, 157)\n",
      "(489, 157)\n",
      "(489, 158)\n",
      "(491, 158)\n",
      "."
     ]
    }
   ],
   "source": [
    "import ustruct\n",
    "def luminosity():\n",
    "    br = ustruct.unpack(\"<h\", i2c.readfrom_mem(0x39, 0x80 | 0x0C, 2))[0]\n",
    "    ir = ustruct.unpack(\"<h\", i2c.readfrom_mem(0x39, 0x80 | 0x0E, 2))[0]\n",
    "    return br, ir  # (can't fetch both with same read command)\n",
    "for i in range(10):\n",
    "    print(luminosity())\n",
    "    time.sleep(1)\n",
    "    "
   ]
  },
  {
   "cell_type": "code",
   "execution_count": 48,
   "metadata": {
    "collapsed": true
   },
   "outputs": [],
   "source": [
    "\n",
    "# pylint: disable=bad-whitespace\n",
    "_DEFAULT_ADDRESS     = const(0x39)\n",
    "_COMMAND_BIT         = const(0x80)\n",
    "_WORD_BIT            = const(0x20)\n",
    "\n",
    "_CONTROL_POWERON     = const(0x03)\n",
    "_CONTROL_POWEROFF    = const(0x00)\n",
    "\n",
    "_REGISTER_CONTROL    = const(0x00)\n",
    "_REGISTER_TIMING     = const(0x01)\n",
    "_REGISTER_CHAN0_LOW  = const(0x0C)\n",
    "_REGISTER_CHAN1_LOW  = const(0x0E)\n",
    "_REGISTER_ID         = const(0x0A)\n",
    "\n",
    "_GAIN_SCALE = (16, 1)\n",
    "_TIME_SCALE = (1 / 0.034, 1 / 0.252, 1)\n",
    "_CLIP_THRESHOLD = (4900, 37000, 65000)\n",
    "# pylint: enable=bad-whitespace\n",
    "\n",
    "    @property\n",
    "    def lux(self):\n",
    "        \"\"\"The computed lux value.\"\"\"\n",
    "        return self._compute_lux()\n",
    "\n",
    "    @property\n",
    "    def broadband(self):\n",
    "        \"\"\"The broadband channel value.\"\"\"\n",
    "        return self._read_broadband()\n",
    "\n",
    "    @property\n",
    "    def infrared(self):\n",
    "        \"\"\"The infrared channel value.\"\"\"\n",
    "        return self._read_infrared()\n",
    "\n",
    "    @property\n",
    "    def luminosity(self):\n",
    "        \"\"\"The overall luminosity as a tuple containing the broadband\n",
    "        channel and the infrared channel value.\"\"\"\n",
    "        return (self.broadband, self.infrared)\n",
    "\n",
    "    @property\n",
    "    def integration_time(self):\n",
    "        \"\"\"The integration time. 0:13.7ms, 1:101ms, 2:402ms, or 3:manual\"\"\"\n",
    "        current = self._read_register(_REGISTER_TIMING)\n",
    "        return current & 0x03\n",
    "\n",
    "    @integration_time.setter\n",
    "    def integration_time(self, value):\n",
    "        \"\"\"Set the integration time. 0:13.7ms, 1:101ms, 2:402ms, or 3:manual.\"\"\"\n",
    "        value &= 0x03\n",
    "        current = self._read_register(_REGISTER_TIMING)\n",
    "        self.buf[0] = _COMMAND_BIT | _REGISTER_TIMING\n",
    "        self.buf[1] = (current & 0xfc) | value\n",
    "        with self.i2c_device as i2c:\n",
    "            i2c.write(self.buf, end=2)\n",
    "\n",
    "    def _compute_lux(self):\n",
    "        \"\"\"Based on datasheet for FN package.\"\"\"\n",
    "        ch0, ch1 = self.luminosity\n",
    "        if ch0 == 0:\n",
    "            return None\n",
    "        if ch0 > _CLIP_THRESHOLD[self.integration_time]:\n",
    "            return None\n",
    "        if ch1 > _CLIP_THRESHOLD[self.integration_time]:\n",
    "            return None\n",
    "        ratio = ch1 / ch0\n",
    "        if ratio >= 0 and ratio <= 0.50:\n",
    "            lux = 0.0304 * ch0 - 0.062 * ch0 * ratio**1.4\n",
    "        elif ratio <= 0.61:\n",
    "            lux = 0.0224 * ch0 - 0.031 * ch1\n",
    "        elif ratio <= 0.80:\n",
    "            lux = 0.0128 * ch0 - 0.0153 * ch1\n",
    "        elif ratio <= 1.30:\n",
    "            lux = 0.00146 * ch0 - 0.00112 * ch1\n",
    "        else:\n",
    "            lux = 0\n",
    "        # Pretty sure the floating point math formula on pg. 23 of datasheet\n",
    "        # is based on 16x gain and 402ms integration time. Need to scale\n",
    "        # result for other settings.\n",
    "        # Scale for gain.\n",
    "        lux *= _GAIN_SCALE[self.gain]\n",
    "        # Scale for integration time.\n",
    "        lux *= _TIME_SCALE[self.integration_time]\n",
    "        return lux\n",
    "\n",
    "    def _enable(self):\n",
    "        self._write_control_register(_CONTROL_POWERON)\n",
    "\n",
    "    def _disable(self):\n",
    "        self._write_control_register(_CONTROL_POWEROFF)\n",
    "\n",
    "    def _read_register(self, reg, count=1):\n",
    "        self.buf[0] = _COMMAND_BIT | reg\n",
    "        if count == 2:\n",
    "            self.buf[0] |= _WORD_BIT\n",
    "        i2c.write(self.buf, end=1, stop=False)\n",
    "        i2c.readinto(self.buf, start=1)\n",
    "        if count == 1:\n",
    "            return self.buf[1]\n",
    "        elif count == 2:\n",
    "            return self.buf[1], self.buf[2]\n",
    "        return None\n",
    "\n",
    "    def _write_control_register(self, reg):\n",
    "        self.buf[0] = _COMMAND_BIT | _REGISTER_CONTROL\n",
    "        self.buf[1] = reg\n",
    "        i2c.write(self.buf, end=2)\n",
    "\n",
    "    def _read_broadband(self):\n",
    "        low, high = self._read_register(_REGISTER_CHAN0_LOW, 2)\n",
    "        return high << 8 | low\n",
    "\n",
    "    def _read_infrared(self):\n",
    "        low, high = self._read_register(_REGISTER_CHAN1_LOW, 2)\n",
    "        return high << 8 | low\n"
   ]
  },
  {
   "cell_type": "code",
   "execution_count": 49,
   "metadata": {},
   "outputs": [
    {
     "name": "stderr",
     "output_type": "stream",
     "text": [
      "Traceback (most recent call last):\n",
      "  File \"<stdin>\", line 1, in <module>\n",
      "  File \"<stdin>\", line 26, in __init__\n",
      "  File \"<stdin>\", line 35, in chip_id\n",
      "  File \"<stdin>\", line 145, in _read_register\n",
      "TypeError: function does not take keyword arguments\n"
     ]
    }
   ],
   "source": [
    "t = TSL2561(i2c)\n"
   ]
  },
  {
   "cell_type": "code",
   "execution_count": 56,
   "metadata": {},
   "outputs": [
    {
     "name": "stdout",
     "output_type": "stream",
     "text": [
      "bytearray(b'\\x00\\x00\\x00')\n",
      "None\n",
      "bytearray(b'\\x00\\x02\\x00')\n"
     ]
    }
   ],
   "source": [
    "import array\n",
    "buf = array.array(\"b\", [1,2,3])\n",
    "buf = bytearray(3)\n",
    "print(buf)\n",
    "print(i2c.readfrom_into(0x39, buf))\n",
    "print(buf)\n"
   ]
  },
  {
   "cell_type": "code",
   "execution_count": null,
   "metadata": {
    "collapsed": true
   },
   "outputs": [],
   "source": []
  }
 ],
 "metadata": {
  "kernelspec": {
   "display_name": "MicroPython - USB",
   "language": "micropython",
   "name": "micropython"
  },
  "language_info": {
   "codemirror_mode": "python",
   "file_extension": ".py",
   "mimetype": "text/python",
   "name": "micropython"
  }
 },
 "nbformat": 4,
 "nbformat_minor": 2
}

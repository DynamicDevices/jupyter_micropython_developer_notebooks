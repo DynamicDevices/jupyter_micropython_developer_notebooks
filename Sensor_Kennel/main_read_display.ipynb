{
 "cells": [
  {
   "cell_type": "code",
   "execution_count": 13,
   "metadata": {},
   "outputs": [
    {
     "name": "stdout",
     "output_type": "stream",
     "text": [
      "\u001b[34mConnecting to --port=/dev/ttyUSB2 --baud=115200 \u001b[0m\n",
      "\u001b[34mReady.\n",
      "\u001b[0m"
     ]
    }
   ],
   "source": [
    "%serialconnect"
   ]
  },
  {
   "cell_type": "code",
   "execution_count": null,
   "metadata": {
    "collapsed": true
   },
   "outputs": [],
   "source": [
    "%sendtofile --source SI7021_funcs.py\n",
    "%sendtofile --source device_detection.py"
   ]
  },
  {
   "cell_type": "code",
   "execution_count": 2,
   "metadata": {
    "collapsed": true
   },
   "outputs": [],
   "source": [
    "from OLED_driver import i2c, fbuff, oledshow"
   ]
  },
  {
   "cell_type": "code",
   "execution_count": 14,
   "metadata": {},
   "outputs": [
    {
     "name": "stdout",
     "output_type": "stream",
     "text": [
      "Sent 31 lines (839 bytes) to main.py.\n"
     ]
    }
   ],
   "source": [
    "%sendtofile main.py\n",
    "\n",
    "from OLED_driver import i2c, fbuff, oledshow\n",
    "import time\n",
    "time.sleep(0.5)\n",
    "from device_detection import IdentifyI2CDevice\n",
    "\n",
    "devices = IdentifyI2CDevice(i2c)\n",
    "dev = devices[0] if devices else \"nothing\"\n",
    "fbuff.fill(0)\n",
    "fbuff.text(dev, 0, 24, 1)\n",
    "oledshow()\n",
    "\n",
    "if dev == \"SI7021\":\n",
    "    from SI7021_funcs import setupSI7021, SI7021humiditytemp\n",
    "    setupSI7021(i2c)\n",
    "    while True:\n",
    "        h, t = SI7021humiditytemp()\n",
    "        fbuff.fill(0)\n",
    "        fbuff.text(\"SI7021\", 0, 0, 1)\n",
    "        fbuff.text(\"humid: %.1f\"%h, 8, 20, 1)\n",
    "        fbuff.text(\"temp:  %.1f\"%t, 8, 30, 1)\n",
    "        oledshow()\n",
    "\n",
    "if dev == \"VL53L0X\":\n",
    "    from VL53L0X_funcs import VL53L0Xinit, VL53L0Xdist\n",
    "    VL53L0Xinit(i2c)\n",
    "    while True:\n",
    "        d = VL53L0Xdist()\n",
    "        fbuff.fill(0)\n",
    "        fbuff.text(\"VL53L0X\", 0, 0, 1)\n",
    "        fbuff.text(\"dist: %.1f\"%d, 8, 20, 1)\n",
    "        oledshow()\n"
   ]
  },
  {
   "cell_type": "code",
   "execution_count": null,
   "metadata": {
    "collapsed": true
   },
   "outputs": [],
   "source": []
  }
 ],
 "metadata": {
  "kernelspec": {
   "display_name": "MicroPython - USB",
   "language": "micropython",
   "name": "micropython"
  },
  "language_info": {
   "codemirror_mode": "python",
   "file_extension": ".py",
   "mimetype": "text/python",
   "name": "micropython"
  }
 },
 "nbformat": 4,
 "nbformat_minor": 2
}

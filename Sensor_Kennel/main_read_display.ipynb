{
 "cells": [
  {
   "cell_type": "markdown",
   "metadata": {},
   "source": [
    "This is the main Sensor Kennel application that will \n",
    "identify, read and plot any sensor that's plugged in.\n",
    "\n",
    "On the lower side:  Pin1 (left) Gnd, Pin3 3v3, Pin-3 (from right) SDA, Pin-5 SCL."
   ]
  },
  {
   "cell_type": "code",
   "execution_count": 105,
   "metadata": {},
   "outputs": [
    {
     "name": "stdout",
     "output_type": "stream",
     "text": [
      "serial exception on close write failed: [Errno 5] Input/output error\n",
      "\u001b[34mConnecting to --port=/dev/ttyUSB1 --baud=115200 \u001b[0m\n",
      "\u001b[34mReady.\n",
      "\u001b[0m"
     ]
    }
   ],
   "source": [
    "%serialconnect"
   ]
  },
  {
   "cell_type": "code",
   "execution_count": 44,
   "metadata": {},
   "outputs": [
    {
     "name": "stdout",
     "output_type": "stream",
     "text": [
      "[57, 60]\r\n"
     ]
    }
   ],
   "source": [
    "print(i2c.scan())"
   ]
  },
  {
   "cell_type": "code",
   "execution_count": 200,
   "metadata": {},
   "outputs": [
    {
     "name": "stdout",
     "output_type": "stream",
     "text": [
      "Sent 55 lines (2042 bytes) to SI7021_funcs.py.\n",
      "Sent 54 lines (1757 bytes) to TSL561_funcs.py.\n",
      "Sent 29 lines (920 bytes) to device_detection.py.\n",
      "Sent 3084 bytes in 103 chunks to OLED_driver.py.\n"
     ]
    }
   ],
   "source": [
    "%sendtofile --source SI7021_funcs.py\n",
    "%sendtofile --quiet --source TSL561_funcs.py\n",
    "%sendtofile --quiet --source device_detection.py\n",
    "%sendtofile --quiet --binary --source OLED_driver.py"
   ]
  },
  {
   "cell_type": "code",
   "execution_count": 201,
   "metadata": {},
   "outputs": [
    {
     "name": "stdout",
     "output_type": "stream",
     "text": [
      "Sent 53 lines (1458 bytes) to main.py.\n"
     ]
    }
   ],
   "source": [
    "%sendtofile main.py\n",
    "\n",
    "from OLED_driver import i2c, fbuff, oledshow, doublepixels, fatntext\n",
    "\n",
    "import time\n",
    "time.sleep(0.5)\n",
    "from device_detection import IdentifyI2CDevice\n",
    "\n",
    "devices = IdentifyI2CDevice(i2c)\n",
    "devname = \"nothing\"\n",
    "for dev in devices:\n",
    "    devname, devdesc = dev.split(\" \", 1)\n",
    "    fbuff.fill(0)\n",
    "    fbuff.text(devname,0,0,1)\n",
    "    fbuff.text(devdesc,0,12,1)\n",
    "    doublepixels()\n",
    "    oledshow()\n",
    "    time.sleep(2)\n",
    "    \n",
    "if devname == \"SI7021\":\n",
    "    from SI7021_funcs import setupSI7021, SI7021humiditytemp\n",
    "    setupSI7021(i2c)\n",
    "    while True:\n",
    "        h, t = SI7021humiditytemp()\n",
    "        fbuff.fill(0)\n",
    "        fbuff.text(\"SI7021\", 0, 0, 1)\n",
    "        fbuff.text(\"humid:\", 0, 23, 1)\n",
    "        fatntext(\"%.1f\"%h, 50, 16)\n",
    "        fbuff.text(\"temp:\", 0, 53, 1)\n",
    "        fatntext(\"%.1f\"%t, 50, 46)\n",
    "        oledshow()\n",
    "\n",
    "if devname == \"VL53L0X\":\n",
    "    from VL53L0X_funcs import VL53L0Xinit, VL53L0Xdist\n",
    "    VL53L0Xinit(i2c)\n",
    "    while True:\n",
    "        d = VL53L0Xdist()\n",
    "        fbuff.fill(0)\n",
    "        fbuff.text(\"VL53L0X\", 0, 0, 1)\n",
    "        fbuff.text(\"dist: %.1f\"%d, 8, 20, 1)\n",
    "        oledshow()\n",
    "\n",
    "if devname == \"TSL561\":\n",
    "    from TSL561_funcs import setupTSL561, luminosity, setregtimings\n",
    "    setupTSL561(i2c)\n",
    "    setregtimings(True, 1)\n",
    "    while True:\n",
    "        br, ir = luminosity()\n",
    "        fbuff.fill(0)\n",
    "        fbuff.text(\"TSL561\", 0, 0, 1)\n",
    "        fbuff.text(\"broad:\", 0, 23, 1)\n",
    "        fatntext(\"%d\"%br, 50, 16)\n",
    "        fbuff.text(\"ir:\", 0, 53, 1)\n",
    "        fatntext(\"%d\"%ir, 50, 46)\n",
    "        oledshow()\n",
    "\n",
    "if defname == \"TMP102\":\n",
    "    while True:\n",
    "        r = i2c.readfrom_mem(0x48, 0x00, 2)\n",
    "        t = r[0] + r[1]/256\n",
    "        fbuff.fill(0)\n",
    "        fbuff.text(\"TMP102\", 0, 0, 1)\n",
    "        fbuff.text(\"temp:\", 0, 23, 1)\n",
    "        fatntext(\"%.03f\"%t, 30, 40)\n",
    "        oledshow()\n"
   ]
  },
  {
   "cell_type": "code",
   "execution_count": null,
   "metadata": {
    "collapsed": true
   },
   "outputs": [],
   "source": []
  },
  {
   "cell_type": "code",
   "execution_count": null,
   "metadata": {
    "collapsed": true
   },
   "outputs": [],
   "source": []
  },
  {
   "cell_type": "code",
   "execution_count": null,
   "metadata": {
    "collapsed": true
   },
   "outputs": [],
   "source": []
  },
  {
   "cell_type": "code",
   "execution_count": null,
   "metadata": {
    "collapsed": true
   },
   "outputs": [],
   "source": []
  },
  {
   "cell_type": "code",
   "execution_count": 204,
   "metadata": {},
   "outputs": [
    {
     "name": "stdout",
     "output_type": "stream",
     "text": [
      "\u001b[34mConnecting to --port=/dev/ttyUSB1 --baud=115200 \u001b[0m\n",
      "\u001b[34mReady.\n",
      "\u001b[0m"
     ]
    }
   ],
   "source": [
    "%serialconnect"
   ]
  }
 ],
 "metadata": {
  "kernelspec": {
   "display_name": "MicroPython - USB",
   "language": "micropython",
   "name": "micropython"
  },
  "language_info": {
   "codemirror_mode": "python",
   "file_extension": ".py",
   "mimetype": "text/python",
   "name": "micropython"
  }
 },
 "nbformat": 4,
 "nbformat_minor": 2
}

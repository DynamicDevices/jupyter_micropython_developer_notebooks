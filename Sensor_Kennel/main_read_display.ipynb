{
 "cells": [
  {
   "cell_type": "code",
   "execution_count": 49,
   "metadata": {},
   "outputs": [
    {
     "name": "stdout",
     "output_type": "stream",
     "text": [
      "\u001b[34mConnecting to --port=/dev/ttyUSB2 --baud=115200 \u001b[0m\n",
      "\u001b[34mReady.\n",
      "\u001b[0m"
     ]
    }
   ],
   "source": [
    "%serialconnect"
   ]
  },
  {
   "cell_type": "markdown",
   "metadata": {},
   "source": [
    "This is the main Sensor Kennel application that will \n",
    "identify, read and write any sensor that's plugged in.\n",
    "\n",
    "On the lower side:  \n",
    "  Pin1 (left) Gnd, Pin3 3v3, Pin-3 (from right) SDA, Pin-5 SCL.\n",
    "  \n",
    "Do we want to draw a graph of numbers if a button is pressed?\n",
    "\n",
    "Should we have MQTT numbers going out from it?\n",
    "\n",
    "Or just keep it comprehensive\n",
    "\n",
    "Sensors known:\n",
    "* VL53L0X lidar\n",
    "* VL6180 lidar\n",
    "* SI7021 humidity\n",
    "* TSL561 luminous\n",
    "* TMP102 temp\n",
    "* SDOF GyAccMag\n",
    "* BME280 barhumid\n",
    "* SHT31D tmphumid\n",
    "* MLX90621 16x4-ir\n",
    "* PX4PITOT airspeed\n",
    "* BNO055 orient\n",
    "* GPS serial\n"
   ]
  },
  {
   "cell_type": "code",
   "execution_count": 6,
   "metadata": {},
   "outputs": [
    {
     "name": "stdout",
     "output_type": "stream",
     "text": [
      "serial exception on close write failed: [Errno 5] Input/output error\n",
      "\u001b[34mConnecting to --port=/dev/ttyUSB1 --baud=115200 \u001b[0m\n",
      "\u001b[34mReady.\n",
      "\u001b[0m"
     ]
    }
   ],
   "source": [
    "%serialconnect"
   ]
  },
  {
   "cell_type": "code",
   "execution_count": 7,
   "metadata": {},
   "outputs": [
    {
     "name": "stdout",
     "output_type": "stream",
     "text": [
      "Sent 3170 bytes in 106 chunks to OLED_driver.py.\n",
      "Sent 91 lines (2742 bytes) to device_detection.py.\n",
      "Sent 55 lines (2042 bytes) to SI7021_funcs.py.\n",
      "Sent 54 lines (1757 bytes) to TSL561_funcs.py.\n",
      "Sent 33 lines (975 bytes) to VL53L0X_funcs.py.\n",
      "Sent 106 lines (3190 bytes) to VL6180_funcs.py.\n",
      "Sent 42 lines (1800 bytes) to SDOF_funcs.py.\n",
      "Sent 43 lines (1090 bytes) to SHT31D_funcs.py.\n",
      "Sent 75 lines (3137 bytes) to BME280_funcs.py.\n",
      "Sent 166 lines (5743 bytes) to MLX90621_funcs.py.\n",
      "Sent 88 lines (2732 bytes) to BNO055serial_funcs.py.\n"
     ]
    }
   ],
   "source": [
    "%sendtofile --binary --source OLED_driver.py\n",
    "%sendtofile --quiet --source device_detection.py\n",
    "%sendtofile --quiet --source SI7021_funcs.py\n",
    "%sendtofile --quiet --source TSL561_funcs.py\n",
    "%sendtofile --quiet --source VL53L0X_funcs.py\n",
    "%sendtofile --quiet --source VL6180_funcs.py\n",
    "%sendtofile --quiet --source SDOF_funcs.py\n",
    "%sendtofile --quiet --source SHT31D_funcs.py\n",
    "%sendtofile --quiet --source BME280_funcs.py\n",
    "%sendtofile --quiet --source MLX90621_funcs.py\n",
    "%sendtofile --quiet --source BNO055serial_funcs.py\n"
   ]
  },
  {
   "cell_type": "code",
   "execution_count": 39,
   "metadata": {},
   "outputs": [
    {
     "name": "stdout",
     "output_type": "stream",
     "text": [
      "Sent 220 lines (6885 bytes) to main.py.\n"
     ]
    }
   ],
   "source": [
    "%sendtofile main.py\n",
    "\n",
    "# connect to the OLED and initialize (and get its i2c bus)\n",
    "from OLED_driver import i2c, fbuff, oledshow, doublepixels, fatntext\n",
    "import machine, time\n",
    "time.sleep(0.5)\n",
    "\n",
    "from device_detection import IdentifyI2CDevice, IdentifyUARTDevice\n",
    "\n",
    "devices = IdentifyI2CDevice(i2c)\n",
    "if not devices:\n",
    "    uart = machine.UART(1, baudrate=9600, rx=13, tx=17)\n",
    "    devices = IdentifyUARTDevice(uart)\n",
    "if not devices:\n",
    "    devices.append(\"nothing found\")\n",
    "\n",
    "# this might look like a lot of code, but it's the complete \n",
    "# visual output of text and numbers that we do per sensor here\n",
    "for dev in devices:\n",
    "    devname, devdesc = dev.split(\" \", 1)\n",
    "    fbuff.fill(0)\n",
    "    fbuff.text(devname, 0, 0, 1)\n",
    "    fbuff.text(devdesc, 0, 12, 1)\n",
    "    doublepixels()\n",
    "    oledshow()\n",
    "    time.sleep(2)\n",
    "    \n",
    "if devname == \"SI7021\":\n",
    "    from SI7021_funcs import setupSI7021, SI7021humiditytemp\n",
    "    setupSI7021(i2c)\n",
    "    while True:\n",
    "        h, t = SI7021humiditytemp()\n",
    "        fbuff.fill(0)\n",
    "        fbuff.text(\"SI7021\", 0, 0, 1)\n",
    "        fbuff.text(\"humid:\", 0, 23, 1)\n",
    "        fatntext(\"%.1f\"%h, 50, 16)\n",
    "        fbuff.text(\"temp:\", 0, 53, 1)\n",
    "        fatntext(\"%.1f\"%t, 50, 46)\n",
    "        oledshow()\n",
    "\n",
    "if devname == \"VL53L0X\":\n",
    "    from VL53L0X_funcs import VL53L0Xinit, VL53L0Xdist\n",
    "    VL53L0Xinit(i2c)\n",
    "    while True:\n",
    "        d = VL53L0Xdist()\n",
    "        fbuff.fill(0)\n",
    "        fbuff.text(\"VL53L0X\", 0, 0, 1)\n",
    "        fbuff.text(\"dist(mm):\", 8, 20, 1)\n",
    "        fatntext(\"%d\" % d, 40, 36)\n",
    "        oledshow()\n",
    "        \n",
    "if devname == \"VL6180\":\n",
    "    from VL6180_funcs import VL6180init, distmm\n",
    "    VL6180init(i2c)\n",
    "    while True:\n",
    "        d = distmm()\n",
    "        fbuff.fill(0)\n",
    "        fbuff.text(\"VL53L0X\", 0, 0, 1)\n",
    "        fbuff.text(\"dist(mm):\", 8, 20, 1)\n",
    "        fatntext(\"%d\" % d, 40, 36)\n",
    "        oledshow()\n",
    "\n",
    "if devname == \"TSL561\":\n",
    "    from TSL561_funcs import setupTSL561, luminosity, setregtimings\n",
    "    setupTSL561(i2c)\n",
    "    setregtimings(True, 1)\n",
    "    while True:\n",
    "        br, ir = luminosity()\n",
    "        fbuff.fill(0)\n",
    "        fbuff.text(\"TSL561\", 0, 0, 1)\n",
    "        fbuff.text(\"broad:\", 0, 23, 1)\n",
    "        fatntext(\"%d\"%br, 50, 16)\n",
    "        fbuff.text(\"ir:\", 0, 53, 1)\n",
    "        fatntext(\"%d\"%ir, 50, 46)\n",
    "        oledshow()\n",
    "        time.sleep(0.1)\n",
    "\n",
    "if devname == \"TMP102\":\n",
    "    while True:\n",
    "        r = i2c.readfrom_mem(0x48, 0x00, 2)\n",
    "        t = r[0] + r[1]/256\n",
    "        fbuff.fill(0)\n",
    "        fbuff.text(\"TMP102\", 0, 0, 1)\n",
    "        fbuff.text(\"temp:\", 0, 23, 1)\n",
    "        fatntext(\"%.03f\"%t, 30, 40)\n",
    "        oledshow()\n",
    "        time.sleep(0.1)\n",
    "\n",
    "if devname == \"SDOF\":\n",
    "    from SDOF_funcs import SetupAccGyrMag, readvectorsensor\n",
    "    SetupAccGyrMag(i2c)\n",
    "    while True:\n",
    "        fbuff.fill(0)\n",
    "        x, y, z = readvectorsensor(\"a\")\n",
    "        fbuff.text(\"Acc:\", 0, 0, 1)\n",
    "        fbuff.text(\"%d\"%x, 8, 8, 1)\n",
    "        fbuff.text(\"%d\"%y, 8, 16, 1)\n",
    "        fbuff.text(\"%d\"%z, 8, 24, 1)\n",
    "        x, y, z = readvectorsensor(\"g\")\n",
    "        fbuff.text(\"gyr:\", 64, 0, 1)\n",
    "        fbuff.text(\"%d\"%x, 72, 8, 1)\n",
    "        fbuff.text(\"%d\"%y, 72, 16, 1)\n",
    "        fbuff.text(\"%d\"%z, 72, 24, 1)\n",
    "        x, y, z = readvectorsensor(\"c\")\n",
    "        fbuff.text(\"mag:\", 40, 32, 1)\n",
    "        fbuff.text(\"%d\"%x, 48, 40, 1)\n",
    "        fbuff.text(\"%d\"%y, 48, 48, 1)\n",
    "        fbuff.text(\"%d\"%z, 48, 56, 1)\n",
    "        oledshow()\n",
    "        time.sleep(0.1)\n",
    "        \n",
    "if devname == \"BME280\" or devname == \"BME180\":\n",
    "    from BME280_funcs import bme280init, readBME280\n",
    "    bme280init(i2c)\n",
    "    while True:\n",
    "        temp, pressure, humid = readBME280()\n",
    "        fbuff.fill(0)\n",
    "        fbuff.fill(0)\n",
    "        fbuff.text(\"BME280\", 0, 0, 1)\n",
    "        fbuff.text(\"tmp:\", 0, 16, 1)\n",
    "        fatntext(\"%.2f\"%(temp), 32, 10)\n",
    "        fbuff.text(\"prs:\", 0, 36, 1)\n",
    "        fatntext(\"%.2f\"%(pressure), 32, 30)\n",
    "        fbuff.text(\"hum:\", 0, 54, 1)\n",
    "        fatntext(\"%.2f\"%(humid), 32, 50)\n",
    "        oledshow()\n",
    "        time.sleep(0.11)\n",
    "\n",
    "if devname == \"SHT31D\":\n",
    "    from SHT31D_funcs import SHT31Dsetup, readSHT31D\n",
    "    SHT31Dsetup(i2c)\n",
    "    while True:\n",
    "        tmp, humid = readSHT31D()\n",
    "        fbuff.fill(0)\n",
    "        fbuff.text(\"SHT31-D\", 0, 0, 1)\n",
    "        fbuff.text(\"temperature:\", 10, 10, 1)\n",
    "        fatntext(\"%.2f\"%tmp, 20, 22)\n",
    "        fbuff.text(\"humidity:\", 10, 40, 1)\n",
    "        fatntext(\"%.2f\"%humid, 20, 50)\n",
    "        oledshow()\n",
    "        time.sleep(0.1)\n",
    "        \n",
    "if devname == \"MLX90621\":\n",
    "    fbuff.text(\"11\", 50, 50, 1)\n",
    "    oledshow()\n",
    "    from MLX90621_funcs import measure, cellfillplot\n",
    "    fbuff.text(\"22\", 59, 50, 1)\n",
    "    oledshow()\n",
    "    while True:\n",
    "        temperatures = measure()\n",
    "        tmin = min(temperatures)\n",
    "        tmax = max(tmin+0.001, max(temperatures))\n",
    "        fbuff.fill(0)\n",
    "        fbuff.text(\"MLX90621\", 0, 0, 1)\n",
    "        for i in range(64):\n",
    "            cellfillplot(fbuff, i//4, 1+(3-(i%4)), ((temperatures[i] - tmin)/(tmax - tmin))**2)\n",
    "        fbuff.text(\"min=%.3f\"%tmin, 12, 48)\n",
    "        fbuff.text(\"max=%.3f\"%tmax, 12, 56)\n",
    "        oledshow()\n",
    "\n",
    "if devname == \"PX4PITOT\":\n",
    "    while True:\n",
    "        k = i2c.readfrom(0x28, 4)\n",
    "        status = k[0] & 0xC0; \n",
    "        fbuff.fill(0)\n",
    "        fbuff.text(\"PX4PITOT\", 0, 0, 1)\n",
    "        if status != 0xC0:\n",
    "            rawpress = ((k[0] & 0x3F) << 8) | (k[1]) \n",
    "            rawtemp = (k[2] << 3) | (k[3] >> 5)\n",
    "            psi = (rawpress)*(1.0/(0x3FFF*0.4)) - 1.25\n",
    "            diffpressure = psi*6894.75728\n",
    "            temp = (rawtemp)*(200.0/0x7FF) - 50\n",
    "            #airspeed = math.sqrt(abs(2*getdiffpressure())/1.2);\n",
    "            fbuff.text(\"diffpress:\", 10, 10, 1)\n",
    "            fatntext(\"%.2f\"%diffpressure, 20, 22)\n",
    "            fbuff.text(\"temp:\", 10, 40, 1)\n",
    "            fatntext(\"%.2f\"%temp, 20, 50)\n",
    "        else:\n",
    "            fbuff.text(\"BAD\", 20, 20, 1)\n",
    "        oledshow()\n",
    "        time.sleep(0.2)\n",
    "        \n",
    "if devname == \"BNO055\":\n",
    "    from BNO055serial_funcs import InitBNO055, BNO055absorientation, BNO055calibstat\n",
    "    InitBNO055(uart)\n",
    "    while True:\n",
    "        fbuff.fill(0)\n",
    "        calibstat = None\n",
    "        try:\n",
    "            pitch, roll, orient = BNO055absorientation()\n",
    "            calibstat = BNO055calibstat()\n",
    "        except Exception as e:\n",
    "            fbuff.text(\"BNO055\", 0, 0, 1)\n",
    "            fbuff.text(e.args[0], 0, 16, 1)\n",
    "        if calibstat is not None:  \n",
    "            fbuff.text(\"BNO055 :{0:08b}\".format(calibstat), 0, 0, 1)\n",
    "            fbuff.text(\"pitch:\", 8, 16, 1)\n",
    "            fatntext(\"%d\"%int(pitch), 64, 10)\n",
    "            fbuff.text(\"roll:\", 16, 32, 1)\n",
    "            fatntext(\"%d\"%int(roll), 64, 28)\n",
    "            fbuff.text(\"orient:\", 0, 52, 1)\n",
    "            fatntext(\"%d\"%int(orient), 64, 48)\n",
    "        oledshow()\n",
    "        time.sleep(0.1)\n",
    "        \n",
    "if devname == \"GPS\":\n",
    "    while True:\n",
    "        x = uart.readline()\n",
    "        if x is not None:\n",
    "            fbuff.fill(0)\n",
    "            fbuff.text(\"GPS serial\", 0, 0, 1)\n",
    "            x = x.strip()\n",
    "            for i in range(len(x)//16 + 1):\n",
    "                fbuff.text(x[i*16:i*16+16], 0, 15+i*8, 1)\n",
    "            oledshow()\n",
    "            time.sleep_ms(100)\n",
    "        time.sleep_ms(50)\n",
    "\n",
    "\n",
    "# read any GPS serial signals on \n",
    "fbuff.text(\"Z\", 120, 56, 1)\n",
    "oledshow()\n"
   ]
  },
  {
   "cell_type": "code",
   "execution_count": 42,
   "metadata": {},
   "outputs": [
    {
     "name": "stdout",
     "output_type": "stream",
     "text": [
      "normal repl mode not detected b'\\r\\nMicroPython v1.9.3-603-gfb7dabb9 on 2018-05-02; ESP32 module with ESP32\\r\\nType \"help()\" for more information.\\r\\n>>> \\r\\n>>> \\r\\nPYB: soft reboot\\r\\n'\n",
      "not command mode\n",
      "\u001b[31m[Timed out waiting for recognizable response]\n",
      "\u001b[0m"
     ]
    }
   ],
   "source": [
    "%rebootdevice"
   ]
  },
  {
   "cell_type": "code",
   "execution_count": null,
   "metadata": {
    "collapsed": true
   },
   "outputs": [],
   "source": []
  },
  {
   "cell_type": "code",
   "execution_count": null,
   "metadata": {
    "collapsed": true
   },
   "outputs": [],
   "source": []
  },
  {
   "cell_type": "code",
   "execution_count": null,
   "metadata": {
    "collapsed": true
   },
   "outputs": [],
   "source": []
  },
  {
   "cell_type": "code",
   "execution_count": null,
   "metadata": {
    "collapsed": true
   },
   "outputs": [],
   "source": []
  },
  {
   "cell_type": "code",
   "execution_count": null,
   "metadata": {
    "collapsed": true
   },
   "outputs": [],
   "source": []
  },
  {
   "cell_type": "code",
   "execution_count": null,
   "metadata": {
    "collapsed": true
   },
   "outputs": [],
   "source": []
  },
  {
   "cell_type": "code",
   "execution_count": null,
   "metadata": {
    "collapsed": true
   },
   "outputs": [],
   "source": []
  },
  {
   "cell_type": "code",
   "execution_count": 10,
   "metadata": {},
   "outputs": [
    {
     "name": "stdout",
     "output_type": "stream",
     "text": [
      "serial exception on close write failed: [Errno 5] Input/output error\n",
      "\u001b[34mConnecting to --port=/dev/ttyUSB0 --baud=115200 \u001b[0m\n",
      "\u001b[34mReady.\n",
      "\u001b[0m"
     ]
    }
   ],
   "source": [
    "%serialconnect"
   ]
  },
  {
   "cell_type": "code",
   "execution_count": null,
   "metadata": {
    "collapsed": true
   },
   "outputs": [],
   "source": []
  },
  {
   "cell_type": "code",
   "execution_count": null,
   "metadata": {
    "collapsed": true
   },
   "outputs": [],
   "source": []
  },
  {
   "cell_type": "code",
   "execution_count": null,
   "metadata": {
    "collapsed": true
   },
   "outputs": [],
   "source": []
  },
  {
   "cell_type": "code",
   "execution_count": null,
   "metadata": {
    "collapsed": true
   },
   "outputs": [],
   "source": []
  },
  {
   "cell_type": "code",
   "execution_count": null,
   "metadata": {
    "collapsed": true
   },
   "outputs": [],
   "source": []
  },
  {
   "cell_type": "code",
   "execution_count": null,
   "metadata": {
    "collapsed": true
   },
   "outputs": [],
   "source": []
  },
  {
   "cell_type": "code",
   "execution_count": 1070,
   "metadata": {},
   "outputs": [
    {
     "name": "stdout",
     "output_type": "stream",
     "text": [
      "\u001b[0;32mI (24502) uart: ALREADY NULL\u001b[0m\n",
      "..........................\u001b[34m\n",
      "\n",
      "*** Sending Ctrl-C\n",
      "\n",
      "\u001b[0m"
     ]
    },
    {
     "name": "stderr",
     "output_type": "stream",
     "text": [
      "Traceback (most recent call last):\n",
      "  File \"<stdin>\", line 1, in <module>\n",
      "  File \"dmain.py\", line 194, in <module>\n",
      "KeyboardInterrupt: \n"
     ]
    }
   ],
   "source": [
    "import dmain"
   ]
  },
  {
   "cell_type": "code",
   "execution_count": 1056,
   "metadata": {
    "collapsed": true
   },
   "outputs": [],
   "source": [
    "import os\n",
    "os.rename(\"main.py\", \"dmain.py\")"
   ]
  },
  {
   "cell_type": "code",
   "execution_count": 876,
   "metadata": {},
   "outputs": [
    {
     "name": "stdout",
     "output_type": "stream",
     "text": [
      "object <module 'umachine'> is of type module\n",
      "  __name__ -- umachine\n",
      "  mem8 -- <8-bit memory>\n",
      "  mem16 -- <16-bit memory>\n",
      "  mem32 -- <32-bit memory>\n",
      "  freq -- <function>\n",
      "  reset -- <function>\n",
      "  unique_id -- <function>\n",
      "  sleep -- <function>\n",
      "  deepsleep -- <function>\n",
      "  idle -- <function>\n",
      "  disable_irq -- <function>\n",
      "  enable_irq -- <function>\n",
      "  time_pulse_us -- <function>\n",
      "  Timer -- <class 'Timer'>\n",
      "  WDT -- <class 'WDT'>\n",
      "  SLEEP -- 2\n",
      "  DEEPSLEEP -- 4\n",
      "  Pin -- <class 'Pin'>\n",
      "  Signal -- <class 'Signal'>\n",
      "  TouchPad -- <class 'TouchPad'>\n",
      "  ADC -- <class 'ADC'>\n",
      "  DAC -- <class 'DAC'>\n",
      "  I2C -- <class 'I2C'>\n",
      "  PWM -- <class 'PWM'>\n",
      "  RTC -- <class 'RTC'>\n",
      "  SPI -- <class 'SoftSPI'>\n",
      "  UART -- <class 'UART'>\n",
      "  reset_cause -- <function>\n",
      "  HARD_RESET -- 2\n",
      "  PWRON_RESET -- 1\n",
      "  WDT_RESET -- 3\n",
      "  DEEPSLEEP_RESET -- 4\n",
      "  SOFT_RESET -- 5\n",
      "  wake_reason -- <function>\n",
      "  PIN_WAKE -- 1\n",
      "  EXT0_WAKE -- 1\n",
      "  EXT1_WAKE -- 2\n",
      "  TIMER_WAKE -- 3\n",
      "  TOUCHPAD_WAKE -- 4\n",
      "  ULP_WAKE -- 5\n"
     ]
    }
   ],
   "source": [
    "help(machine)"
   ]
  },
  {
   "cell_type": "code",
   "execution_count": 1107,
   "metadata": {},
   "outputs": [
    {
     "name": "stdout",
     "output_type": "stream",
     "text": [
      "serial exception on close write failed: [Errno 5] Input/output error\n",
      "\u001b[34mConnecting to --port=/dev/ttyUSB0 --baud=115200 \u001b[0m\n",
      "\u001b[34mReady.\n",
      "\u001b[0m"
     ]
    }
   ],
   "source": [
    "%serialconnect"
   ]
  },
  {
   "cell_type": "code",
   "execution_count": 11,
   "metadata": {},
   "outputs": [
    {
     "name": "stdout",
     "output_type": "stream",
     "text": [
      "object ADC(Pin(34)) is of type ADC\n",
      "  read -- <function>\n",
      "  atten -- <function>\n",
      "  width -- <classmethod>\n",
      "  ATTN_0DB -- 0\n",
      "  ATTN_2_5DB -- 1\n",
      "  ATTN_6DB -- 2\n",
      "  ATTN_11DB -- 3\n",
      "  WIDTH_9BIT -- 0\n",
      "  WIDTH_10BIT -- 1\n",
      "  WIDTH_11BIT -- 2\n",
      "  WIDTH_12BIT -- 3\n"
     ]
    }
   ],
   "source": [
    "import machine\n",
    "x = machine.ADC(machine.Pin(34))\n",
    "help(x)"
   ]
  },
  {
   "cell_type": "code",
   "execution_count": 12,
   "metadata": {},
   "outputs": [
    {
     "name": "stdout",
     "output_type": "stream",
     "text": [
      "370\r\n"
     ]
    }
   ],
   "source": [
    "x.atten(x.ATTN_11DB)\n",
    "x.width(x.WIDTH_12BIT)\n",
    "print(x.read())"
   ]
  },
  {
   "cell_type": "code",
   "execution_count": 1121,
   "metadata": {},
   "outputs": [
    {
     "name": "stdout",
     "output_type": "stream",
     "text": [
      "685210\r\n"
     ]
    }
   ],
   "source": [
    "print(time.ticks_ms())"
   ]
  },
  {
   "cell_type": "code",
   "execution_count": 13,
   "metadata": {},
   "outputs": [
    {
     "name": "stdout",
     "output_type": "stream",
     "text": [
      "2679\n",
      "4095\n",
      "4095\n",
      "4095\n",
      "4095\n",
      "4095\n",
      "4095\n",
      "2791\n",
      "4095\n",
      "4095\n",
      "3071\n",
      "2637\n",
      "4095\n",
      "2555\n",
      "2612\n",
      "2631\n",
      "2609\n",
      "2630\n",
      "2631\n",
      "2633\n"
     ]
    }
   ],
   "source": [
    "import time\n",
    "for i in range(20):\n",
    "    x.atten(x.ATTN_11DB)\n",
    "    print(x.read())\n",
    "    time.sleep(0.5)"
   ]
  },
  {
   "cell_type": "code",
   "execution_count": 30,
   "metadata": {},
   "outputs": [
    {
     "name": "stdout",
     "output_type": "stream",
     "text": [
      "\u001b[34mConnecting to --port=/dev/ttyUSB0 --baud=115200 \u001b[0m\n",
      "\u001b[34mReady.\n",
      "\u001b[0m"
     ]
    }
   ],
   "source": [
    "%serialconnect"
   ]
  },
  {
   "cell_type": "code",
   "execution_count": 28,
   "metadata": {},
   "outputs": [
    {
     "name": "stdout",
     "output_type": "stream",
     "text": [
      "serial exception on close write failed: [Errno 5] Input/output error\n",
      "\u001b[34m\n",
      "Closing serial Serial<id=0x7f0e70925668, open=True>(port='/dev/ttyUSB0', baudrate=115200, bytesize=8, parity='N', stopbits=1, timeout=0.5, xonxoff=False, rtscts=False, dsrdtr=False)\n",
      "\u001b[0m"
     ]
    }
   ],
   "source": [
    "%disconnect"
   ]
  },
  {
   "cell_type": "code",
   "execution_count": 31,
   "metadata": {},
   "outputs": [
    {
     "name": "stdout",
     "output_type": "stream",
     "text": [
      "...........................................................\u001b[34m\n",
      "\n",
      "*** Sending Ctrl-C\n",
      "\n",
      "\u001b[0m"
     ]
    },
    {
     "name": "stderr",
     "output_type": "stream",
     "text": [
      "Traceback (most recent call last):\n",
      "  File \"<stdin>\", line 17, in <module>\n",
      "KeyboardInterrupt: \n"
     ]
    }
   ],
   "source": [
    "#%sendtofile main.py\n",
    "\n",
    "from OLED_driver import i2c, fbuff, oledshow, doublepixels, fatntext\n",
    "import time, machine\n",
    "\n",
    "x = machine.ADC(machine.Pin(36))\n",
    "while True:\n",
    "    fbuff.fill(0)\n",
    "    fbuff.text(\"Pin36 ADC\", 56, 56, 1)\n",
    "    x.atten(x.ATTN_0DB)\n",
    "    fatntext(str(x.read()), 0, 0)\n",
    "    x.atten(x.ATTN_6DB)\n",
    "    fatntext(str(x.read()), 0, 20)\n",
    "    x.atten(x.ATTN_11DB)\n",
    "    fatntext(str(x.read()), 0, 40)\n",
    "    oledshow()\n",
    "    time.sleep(0.1)"
   ]
  },
  {
   "cell_type": "code",
   "execution_count": 15,
   "metadata": {},
   "outputs": [
    {
     "name": "stdout",
     "output_type": "stream",
     "text": [
      "repl is in normal command mode\n",
      "[\\r\\x03\\x03] b'\\r\\nMicroPython v1.9.2-445-g84035f0f on 2017-11-29; ESP32 module with ESP32\\r\\nType \"help()\" for more information.\\r\\n>>> \\r\\n>>> \\r\\nPYB: soft reboot\\r\\nTraceback (most recent call last):\\r\\n  File \"main.py\", line 1, in <module>\\r\\nImportError: no module named \\'OLED_driver\\'\\r\\nMicroPython v1.9.2-445-g84035f0f on 2017-11-29; ESP32 module with ESP32\\r\\nType \"help()\" for more information.\\r\\n>>> \\r\\n>>> \\r\\n>>> '\n",
      "[\\r\\x01] b'\\r\\n>>> \\r\\nraw REPL; CTRL-B to exit\\r\\n>'"
     ]
    }
   ],
   "source": [
    "%rebootdevice"
   ]
  },
  {
   "cell_type": "code",
   "execution_count": null,
   "metadata": {
    "collapsed": true
   },
   "outputs": [],
   "source": []
  }
 ],
 "metadata": {
  "kernelspec": {
   "display_name": "MicroPython - USB",
   "language": "micropython",
   "name": "micropython"
  },
  "language_info": {
   "codemirror_mode": "python",
   "file_extension": ".py",
   "mimetype": "text/python",
   "name": "micropython"
  }
 },
 "nbformat": 4,
 "nbformat_minor": 2
}

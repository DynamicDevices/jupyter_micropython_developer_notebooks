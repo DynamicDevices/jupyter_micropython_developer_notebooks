{
 "cells": [
  {
   "cell_type": "markdown",
   "metadata": {},
   "source": [
    "This is the main Sensor Kennel application that will \n",
    "identify, read and write any sensor that's plugged in.\n",
    "\n",
    "On the lower side:  \n",
    "  Pin1 (left) Gnd, Pin3 3v3, Pin-3 (from right) SDA, Pin-5 SCL.\n",
    "  \n",
    "Do we want to draw a graph of numbers if a button is pressed?\n",
    "\n",
    "Should we have MQTT numbers going out from it?\n",
    "\n",
    "Or just keep it comprehensive"
   ]
  },
  {
   "cell_type": "code",
   "execution_count": 787,
   "metadata": {},
   "outputs": [
    {
     "name": "stdout",
     "output_type": "stream",
     "text": [
      "\u001b[34mConnecting to --port=/dev/ttyUSB2 --baud=115200 \u001b[0m\n",
      "\u001b[34mReady.\n",
      "\u001b[0m"
     ]
    }
   ],
   "source": [
    "%serialconnect"
   ]
  },
  {
   "cell_type": "code",
   "execution_count": 209,
   "metadata": {},
   "outputs": [
    {
     "name": "stdout",
     "output_type": "stream",
     "text": [
      "Sent 55 lines (2042 bytes) to SI7021_funcs.py.\n",
      "Sent 54 lines (1757 bytes) to TSL561_funcs.py.\n",
      "Sent 42 lines (1800 bytes) to SDOF_funcs.py.\n",
      "Sent 55 lines (1614 bytes) to device_detection.py.\n",
      "Sent 3084 bytes in 103 chunks to OLED_driver.py.\n",
      "Sent 88 lines (2732 bytes) to BNO055serial_funcs.py.\n"
     ]
    }
   ],
   "source": [
    "%sendtofile --binary --source OLED_driver.py\n",
    "%sendtofile --quiet --source device_detection.py\n",
    "%sendtofile --quiet --source SI7021_funcs.py\n",
    "%sendtofile --quiet --source TSL561_funcs.py\n",
    "%sendtofile --quiet --source SDOF_funcs.py\n",
    "%sendtofile --quiet --source SHT31D_funcs.py\n",
    "%sendtofile --quiet --source BME280_funcs.py\n",
    "%sendtofile --quiet --source BNO055serial_funcs.py\n"
   ]
  },
  {
   "cell_type": "code",
   "execution_count": 872,
   "metadata": {},
   "outputs": [
    {
     "name": "stdout",
     "output_type": "stream",
     "text": [
      "Sent 167 lines (5090 bytes) to main.py.\n"
     ]
    }
   ],
   "source": [
    "%sendtofile main.py\n",
    "\n",
    "# connect to the OLED and initialize (and get its i2c bus)\n",
    "from OLED_driver import i2c, fbuff, oledshow, doublepixels, fatntext\n",
    "import machine, time\n",
    "time.sleep(0.5)\n",
    "\n",
    "from device_detection import IdentifyI2CDevice, IdentifyUARTDevice\n",
    "\n",
    "devices = IdentifyI2CDevice(i2c)\n",
    "if not devices:\n",
    "    uart = machine.UART(1, baudrate=9600, rx=13, tx=17)\n",
    "    devices = IdentifyUARTDevice(uart)\n",
    "if not devices:\n",
    "    devices.append(\"nothing found\")\n",
    "\n",
    "# this might look like a lot of code, but it's the complete \n",
    "# visual output of text and numbers that we do per sensor here\n",
    "for dev in devices:\n",
    "    devname, devdesc = dev.split(\" \", 1)\n",
    "    fbuff.fill(0)\n",
    "    fbuff.text(devname, 0, 0, 1)\n",
    "    fbuff.text(devdesc, 0, 12, 1)\n",
    "    doublepixels()\n",
    "    oledshow()\n",
    "    time.sleep(2)\n",
    "    \n",
    "if devname == \"SI7021\":\n",
    "    from SI7021_funcs import setupSI7021, SI7021humiditytemp\n",
    "    setupSI7021(i2c)\n",
    "    while True:\n",
    "        h, t = SI7021humiditytemp()\n",
    "        fbuff.fill(0)\n",
    "        fbuff.text(\"SI7021\", 0, 0, 1)\n",
    "        fbuff.text(\"humid:\", 0, 23, 1)\n",
    "        fatntext(\"%.1f\"%h, 50, 16)\n",
    "        fbuff.text(\"temp:\", 0, 53, 1)\n",
    "        fatntext(\"%.1f\"%t, 50, 46)\n",
    "        oledshow()\n",
    "\n",
    "if devname == \"VL53L0X\":\n",
    "    from VL53L0X_funcs import VL53L0Xinit, VL53L0Xdist\n",
    "    VL53L0Xinit(i2c)\n",
    "    while True:\n",
    "        d = VL53L0Xdist()\n",
    "        fbuff.fill(0)\n",
    "        fbuff.text(\"VL53L0X\", 0, 0, 1)\n",
    "        fbuff.text(\"dist: %.1f\"%d, 8, 20, 1)\n",
    "        oledshow()\n",
    "\n",
    "if devname == \"TSL561\":\n",
    "    from TSL561_funcs import setupTSL561, luminosity, setregtimings\n",
    "    setupTSL561(i2c)\n",
    "    setregtimings(True, 1)\n",
    "    while True:\n",
    "        br, ir = luminosity()\n",
    "        fbuff.fill(0)\n",
    "        fbuff.text(\"TSL561\", 0, 0, 1)\n",
    "        fbuff.text(\"broad:\", 0, 23, 1)\n",
    "        fatntext(\"%d\"%br, 50, 16)\n",
    "        fbuff.text(\"ir:\", 0, 53, 1)\n",
    "        fatntext(\"%d\"%ir, 50, 46)\n",
    "        oledshow()\n",
    "        time.sleep(0.1)\n",
    "\n",
    "if devname == \"TMP102\":\n",
    "    while True:\n",
    "        r = i2c.readfrom_mem(0x48, 0x00, 2)\n",
    "        t = r[0] + r[1]/256\n",
    "        fbuff.fill(0)\n",
    "        fbuff.text(\"TMP102\", 0, 0, 1)\n",
    "        fbuff.text(\"temp:\", 0, 23, 1)\n",
    "        fatntext(\"%.03f\"%t, 30, 40)\n",
    "        oledshow()\n",
    "        time.sleep(0.1)\n",
    "\n",
    "if devname == \"SDOF\":\n",
    "    from SDOF_funcs import SetupAccGyrMag, readvectorsensor\n",
    "    SetupAccGyrMag(i2c)\n",
    "    while True:\n",
    "        fbuff.fill(0)\n",
    "        x, y, z = readvectorsensor(\"a\")\n",
    "        fbuff.text(\"Acc:\", 0, 0, 1)\n",
    "        fbuff.text(\"%d\"%x, 8, 8, 1)\n",
    "        fbuff.text(\"%d\"%y, 8, 16, 1)\n",
    "        fbuff.text(\"%d\"%z, 8, 24, 1)\n",
    "        x, y, z = readvectorsensor(\"g\")\n",
    "        fbuff.text(\"gyr:\", 64, 0, 1)\n",
    "        fbuff.text(\"%d\"%x, 72, 8, 1)\n",
    "        fbuff.text(\"%d\"%y, 72, 16, 1)\n",
    "        fbuff.text(\"%d\"%z, 72, 24, 1)\n",
    "        x, y, z = readvectorsensor(\"c\")\n",
    "        fbuff.text(\"mag:\", 40, 32, 1)\n",
    "        fbuff.text(\"%d\"%x, 48, 40, 1)\n",
    "        fbuff.text(\"%d\"%y, 48, 48, 1)\n",
    "        fbuff.text(\"%d\"%z, 48, 56, 1)\n",
    "        oledshow()\n",
    "        time.sleep(0.1)\n",
    "        \n",
    "if devname == \"BME280\":\n",
    "    from BME280_funcs import bme280init, readBME280\n",
    "    bme280init(i2c)\n",
    "    while True:\n",
    "        temp, pressure, humid = readBME280()\n",
    "        fbuff.fill(0)\n",
    "        fbuff.fill(0)\n",
    "        fbuff.text(\"BME280\", 0, 0, 1)\n",
    "        fbuff.text(\"tmp:\", 0, 16, 1)\n",
    "        fatntext(\"%.2f\"%(temp), 32, 10)\n",
    "        fbuff.text(\"prs:\", 0, 36, 1)\n",
    "        fatntext(\"%.2f\"%(pressure), 32, 30)\n",
    "        fbuff.text(\"hum:\", 0, 54, 1)\n",
    "        fatntext(\"%.2f\"%(humid), 32, 50)\n",
    "        oledshow()\n",
    "        time.sleep(0.11)\n",
    "\n",
    "if devname == \"SHT31D\":\n",
    "    from SHT31D_funcs import SHT31Dsetup, readSHT31D\n",
    "    SHT31Dsetup(i2c)\n",
    "    while True:\n",
    "        tmp, humid = readSHT31D()\n",
    "        fbuff.fill(0)\n",
    "        fbuff.text(\"SHT31-D\", 0, 0, 1)\n",
    "        fbuff.text(\"temperature:\", 10, 10, 1)\n",
    "        fatntext(\"%.2f\"%tmp, 20, 22)\n",
    "        fbuff.text(\"humidity:\", 10, 40, 1)\n",
    "        fatntext(\"%.2f\"%humid, 20, 50)\n",
    "        oledshow()\n",
    "        time.sleep(0.1)\n",
    "        \n",
    "        \n",
    "if devname == \"BNO055\":\n",
    "    from BNO055serial_funcs import InitBNO055, BNO055absorientation, BNO055calibstat\n",
    "    InitBNO055(uart)\n",
    "    while True:\n",
    "        fbuff.fill(0)\n",
    "        calibstat = None\n",
    "        try:\n",
    "            pitch, roll, orient = BNO055absorientation()\n",
    "            calibstat = BNO055calibstat()\n",
    "        except Exception as e:\n",
    "            fbuff.text(\"BNO055\", 0, 0, 1)\n",
    "            fbuff.text(e.args[0], 0, 16, 1)\n",
    "        if calibstat is not None:  \n",
    "            fbuff.text(\"BNO055 :{0:08b}\".format(calibstat), 0, 0, 1)\n",
    "            fbuff.text(\"pitch:\", 8, 16, 1)\n",
    "            fatntext(\"%d\"%int(pitch), 64, 10)\n",
    "            fbuff.text(\"roll:\", 16, 32, 1)\n",
    "            fatntext(\"%d\"%int(roll), 64, 28)\n",
    "            fbuff.text(\"orient:\", 0, 52, 1)\n",
    "            fatntext(\"%d\"%int(orient), 64, 48)\n",
    "        oledshow()\n",
    "        time.sleep(0.1)        \n",
    "\n",
    "        \n",
    "# read any GPS serial signals on \n",
    "import machine\n",
    "uart.init(baudrate=9600)\n",
    "while True:\n",
    "    x = uart.readline()\n",
    "    if x is not None:\n",
    "        fbuff.fill(0)\n",
    "        fbuff.text(\"GPS serial\", 0, 0, 1)\n",
    "        x = x.strip()\n",
    "        for i in range(len(x)//16 + 1):\n",
    "            fbuff.text(x[i*16:i*16+16], 0, 15+i*8, 1)\n",
    "        oledshow()\n",
    "        time.sleep_ms(100)\n",
    "    time.sleep_ms(50)\n"
   ]
  },
  {
   "cell_type": "code",
   "execution_count": null,
   "metadata": {
    "collapsed": true
   },
   "outputs": [],
   "source": []
  },
  {
   "cell_type": "code",
   "execution_count": null,
   "metadata": {
    "collapsed": true
   },
   "outputs": [],
   "source": []
  },
  {
   "cell_type": "code",
   "execution_count": null,
   "metadata": {
    "collapsed": true
   },
   "outputs": [],
   "source": []
  },
  {
   "cell_type": "code",
   "execution_count": null,
   "metadata": {
    "collapsed": true
   },
   "outputs": [],
   "source": []
  },
  {
   "cell_type": "code",
   "execution_count": null,
   "metadata": {
    "collapsed": true
   },
   "outputs": [],
   "source": []
  },
  {
   "cell_type": "code",
   "execution_count": 869,
   "metadata": {},
   "outputs": [
    {
     "name": "stdout",
     "output_type": "stream",
     "text": [
      "\u001b[34mConnecting to --port=/dev/ttyUSB0 --baud=115200 \u001b[0m\n",
      "\u001b[34mReady.\n",
      "\u001b[0m"
     ]
    }
   ],
   "source": [
    "%serialconnect"
   ]
  },
  {
   "cell_type": "code",
   "execution_count": 871,
   "metadata": {},
   "outputs": [
    {
     "name": "stderr",
     "output_type": "stream",
     "text": [
      "Traceback (most recent call last):\n",
      "  File \"<stdin>\", line 3, in <module>\n",
      "  File \"SHT31D_funcs.py\", line 33, in readSHT31D\n",
      "OSError: [Errno 19] ENODEV\n"
     ]
    }
   ],
   "source": [
    "while 1:\n",
    "    tmp, humid = readSHT31D()\n",
    "    fbuff.fill(0)\n",
    "    fbuff.text(\"SHT31-D\", 0, 0, 1)\n",
    "    fbuff.text(\"temperature:\", 10, 10, 1)\n",
    "    fatntext(\"%.2f\"%tmp, 20, 22)\n",
    "    fbuff.text(\"humidity:\", 10, 40, 1)\n",
    "    fatntext(\"%.2f\"%humid, 20, 50)\n",
    "    oledshow()\n"
   ]
  },
  {
   "cell_type": "code",
   "execution_count": 866,
   "metadata": {},
   "outputs": [],
   "source": [
    "tmp, humid = readSHT31()\n",
    "fbuff.fill(0)\n",
    "fbuff.text(\"SHT31-D\", 0, 0, 1)\n",
    "fbuff.text(\"temperature:\", 10, 10, 1)\n",
    "fatntext(\"%.2f\"%tmp, 20, 22)\n",
    "fbuff.text(\"humidity:\", 10, 40, 1)\n",
    "fatntext(\"%.2f\"%humid, 20, 50)\n",
    "oledshow()\n",
    "\n"
   ]
  },
  {
   "cell_type": "code",
   "execution_count": 819,
   "metadata": {},
   "outputs": [
    {
     "name": "stdout",
     "output_type": "stream",
     "text": [
      "b'\\x80\\x10\\xe1' 0xe1\n",
      "b'\\x81p\\xae' 0xae\n"
     ]
    }
   ],
   "source": [
    "i2c.writeto(0x44, b'\\xF3\\x2D')    # SHT31_READSTATUS\n",
    "k = i2c.readfrom(0x44, 3)\n",
    "print(k, hex(crc8(k[0], k[1])))\n",
    "i2c.writeto(0x44, b'\\x30\\xA2')    # SHT31_SOFTRESET\n",
    "time.sleep(0.5)\n",
    "i2c.writeto(0x44, b'\\x27\\x37')    # read 10Hz?\n",
    "time.sleep(0.5)\n",
    "\n",
    "i2c.writeto(0x44, b'\\xF3\\x2D')    # SHT31_READSTATUS\n",
    "k = i2c.readfrom(0x44, 3)\n",
    "print(k, hex(crc8(k[0], k[1])))\n"
   ]
  },
  {
   "cell_type": "code",
   "execution_count": 836,
   "metadata": {},
   "outputs": [
    {
     "name": "stdout",
     "output_type": "stream",
     "text": [
      "b'a\\x8ft\\x8b\\xd94'\r\n"
     ]
    }
   ],
   "source": [
    "print(k)"
   ]
  },
  {
   "cell_type": "code",
   "execution_count": null,
   "metadata": {
    "collapsed": true
   },
   "outputs": [],
   "source": []
  },
  {
   "cell_type": "code",
   "execution_count": null,
   "metadata": {
    "collapsed": true
   },
   "outputs": [],
   "source": []
  },
  {
   "cell_type": "code",
   "execution_count": null,
   "metadata": {
    "collapsed": true
   },
   "outputs": [],
   "source": []
  }
 ],
 "metadata": {
  "kernelspec": {
   "display_name": "MicroPython - USB",
   "language": "micropython",
   "name": "micropython"
  },
  "language_info": {
   "codemirror_mode": "python",
   "file_extension": ".py",
   "mimetype": "text/python",
   "name": "micropython"
  }
 },
 "nbformat": 4,
 "nbformat_minor": 2
}

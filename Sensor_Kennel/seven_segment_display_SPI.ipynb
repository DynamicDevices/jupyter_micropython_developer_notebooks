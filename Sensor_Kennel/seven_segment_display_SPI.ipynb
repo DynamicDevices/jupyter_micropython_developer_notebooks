{
 "cells": [
  {
   "cell_type": "code",
   "execution_count": 356,
   "metadata": {},
   "outputs": [
    {
     "name": "stdout",
     "output_type": "stream",
     "text": [
      "\u001b[34mConnecting to --port=/dev/ttyUSB0 --baud=115200 \u001b[0m\n",
      "\u001b[34mReady.\n",
      "\u001b[0m"
     ]
    }
   ],
   "source": [
    "%serialconnect"
   ]
  },
  {
   "cell_type": "code",
   "execution_count": 279,
   "metadata": {},
   "outputs": [
    {
     "name": "stdout",
     "output_type": "stream",
     "text": [
      "Sent 43 lines (1045 bytes) to lib/umqtt/robust.py.\n"
     ]
    }
   ],
   "source": [
    "%sendtofile --mkdir --source /home/julian/extrepositories/micropython-lib/umqtt.simple/umqtt/simple.py lib/umqtt/\n",
    "%sendtofile --mkdir --source /home/julian/extrepositories/micropython-lib/umqtt.robust/umqtt/robust.py lib/umqtt/"
   ]
  },
  {
   "cell_type": "code",
   "execution_count": 391,
   "metadata": {},
   "outputs": [
    {
     "name": "stdout",
     "output_type": "stream",
     "text": [
      "Sent 93 lines (2148 bytes) to main.py.\n"
     ]
    }
   ],
   "source": [
    "%sendtofile main.py\n",
    "\n",
    "import machine, time\n",
    "\n",
    "# First get the display up with its functions\n",
    "sck = machine.Pin(14)\n",
    "miso = machine.Pin(12)\n",
    "mosi = machine.Pin(13) \n",
    "spi = machine.SPI(sck=sck, miso=miso, mosi=mosi, \n",
    "                  baudrate=1000000, polarity=0, phase=0, firstbit=machine.SPI.MSB)\n",
    "cs = machine.Pin(2, machine.Pin.OUT)  # sets the pin to output\n",
    "cs.value(1)\n",
    "\n",
    "def swrite(s):\n",
    "    cs.value(0)\n",
    "    time.sleep_ms(5)\n",
    "    spi.write(s)\n",
    "    cs.value(1)\n",
    "    time.sleep_ms(5)\n",
    "         \n",
    "swrite(b\"\\x0C\\x00\")\n",
    "swrite(b\"\\x0F\\x00\")\n",
    "swrite(b\"\\x0B\\x07\")\n",
    "swrite(b\"\\x09\\x00\")\n",
    "swrite(b\"\\x0C\\x01\")\n",
    "\n",
    "nums = b\"\\x7E\\x30\\x6D\\x79\\x33\\x5B\\x5F\\x70\\x7F\\x7B\"\n",
    "alpha = b\"\\x77\\x1F\\x0D\\x3D\\x4F\\x47\\x7B\\x37\\x44jk\\x0Em\\x15\\x1D\\x67\\x73\\x05\\x5B\\x0F\\x1Cvwx\\x3Bz\"\n",
    "def writestring(s):\n",
    "    if type(s) == str:\n",
    "        s = s.encode()\n",
    "    ep = 0\n",
    "    for e in range(8):\n",
    "        ol = (s[ep]  if ep < len(s)  else 32)\n",
    "        c = 0x80\n",
    "        \n",
    "        if ol == 32:\n",
    "            c = 0x00\n",
    "        elif 48 <= ol <= 57:\n",
    "            c = nums[ol - 48]\n",
    "        elif 97 <= ol <= 122:\n",
    "            c = alpha[ol - 97]\n",
    "        if ep+1 < len(s) and s[ep+1] == \".\":\n",
    "            c += 0x80\n",
    "            ep += 1\n",
    "        swrite(b\"%c%c\" % (8-e, c))\n",
    "        ep += 1\n",
    "\n",
    "\n",
    "# wifi situation\n",
    "writestring(\"cnncting.\")\n",
    "import network\n",
    "\n",
    "si = network.WLAN(network.STA_IF)\n",
    "macaddress = \"\".join(\"{:02x}\".format(x)  for x in si.config(\"mac\"))\n",
    "si.active(True)\n",
    "si.connect(b\"DoESLiverpool\", b\"decafbad00\")\n",
    "while not si.isconnected():\n",
    "    pass\n",
    "ipnumber = si.ifconfig()[0] \n",
    "print(ipnumber)\n",
    "writestring(\"cnncted.\")\n",
    "\n",
    "\n",
    "# MQTT technology\n",
    "from umqtt.robust import MQTTClient\n",
    "\n",
    "c = MQTTClient(\"sevenseg\", \"10.0.29.167\")\n",
    "c.connect()\n",
    "c.publish(b\"sevenseg/on\", b\"now\")\n",
    "\n",
    "writestring(\"777  777\")\n",
    "dispmsg = \"oooo\"\n",
    "def sub_cb(topic, msg):\n",
    "    global dispmsg\n",
    "    print(topic, msg)\n",
    "    dispmsg = msg\n",
    "c.set_callback(sub_cb)\n",
    "c.connect()\n",
    "c.subscribe(topic=b\"sevenseg/show\") \n",
    "\n",
    "# main loop\n",
    "import time\n",
    "currmsg = dispmsg\n",
    "br = 1\n",
    "while True:\n",
    "    c.check_msg()\n",
    "    if dispmsg != currmsg: \n",
    "        currmsg = dispmsg\n",
    "        writestring(dispmsg)\n",
    "        c.publish(b\"sevenseg/on\", b\"now\")\n",
    "\n",
    "    time.sleep(0.1)\n",
    "    swrite(b\"\\x0A%c\" % ((br%8)+7))  # pulse the brightness\n",
    "    br += 1\n"
   ]
  },
  {
   "cell_type": "code",
   "execution_count": 243,
   "metadata": {
    "collapsed": true
   },
   "outputs": [],
   "source": []
  },
  {
   "cell_type": "code",
   "execution_count": 335,
   "metadata": {},
   "outputs": [],
   "source": [
    "c.subscribe(topic=b\"sevenseg/show\") "
   ]
  },
  {
   "cell_type": "code",
   "execution_count": 324,
   "metadata": {
    "collapsed": true
   },
   "outputs": [],
   "source": [
    "c.publish(b\"button/thing\", b\"hello\")"
   ]
  },
  {
   "cell_type": "code",
   "execution_count": 325,
   "metadata": {},
   "outputs": [
    {
     "name": "stdout",
     "output_type": "stream",
     "text": [
      "['__class__', '__dict__', '__init__', '__module__', '__qualname__', 'DEBUG', 'connect', 'disconnect', 'log', 'ssl', 'sock', 'port', 'DELAY', 'delay', 'reconnect', 'publish', 'wait_msg', 'client_id', 'server', 'user', 'keepalive', 'ssl_params', 'pid', 'cb', 'pswd', 'lw_topic', 'lw_msg', 'lw_qos', 'lw_retain', '_send_str', '_recv_len', 'set_callback', 'set_last_will', 'ping', 'subscribe', 'check_msg']\r\n"
     ]
    }
   ],
   "source": [
    "print(dir(c))"
   ]
  },
  {
   "cell_type": "code",
   "execution_count": 352,
   "metadata": {},
   "outputs": [
    {
     "name": "stdout",
     "output_type": "stream",
     "text": [
      "b'button/30aea44cafec' b'woke up'\n",
      "....b'button/sdfs' b'987'\n",
      "..b'button/sdfs' b'hello'\n",
      ".............................................................................................ets Jun  8 2016 00:22:57\n",
      "\n",
      "rst:0x1 (POWERON_RESET),boot:0x17 (SPI_FAST_FLASH_BOOT)\n",
      "configsip: 0, SPIWP:0xee\n",
      "clk_drv:0x00,q_drv:0x00,d_drv:0x00,cs0_drv:0x00,hd_drv:0x00,wp_drv:0x00\n",
      "mode:DIO, clock div:2\n",
      "load:0x3fff0018,len:4\n",
      "load:0x3fff001c,len:4436\n",
      "load:0x40078000,len:0\n",
      "load:0x40078000,len:11816\n",
      "entry 0x4007a9fc\n",
      "OSError: [Errno 2] ENOENT\n",
      "MicroPython v1.9.3-603-gfb7dabb9 on 2018-05-02; ESP32 module with ESP32\n",
      "Type \"help()\" for more information.\n",
      ">>>[reboot detected 0]repl is in normal command mode\n",
      "[\\r\\x03\\x03] b'\\r\\n>>> '\n",
      "[\\r\\x01] b'\\r\\n>>> \\r\\nraw REPL; CTRL-B to exit\\r\\n>' "
     ]
    }
   ],
   "source": [
    "import time\n",
    "currmsg = dispmsg\n",
    "br = 1\n",
    "while True:\n",
    "    c.check_msg()\n",
    "    if dispmsg != currmsg: \n",
    "        currmsg = dispmsg\n",
    "        writestring(dispmsg)\n",
    "    time.sleep(0.1)\n",
    "    swrite(b\"\\x0A%c\" % ((br%8)+7))\n",
    "    br += 1"
   ]
  },
  {
   "cell_type": "code",
   "execution_count": null,
   "metadata": {
    "collapsed": true
   },
   "outputs": [],
   "source": []
  }
 ],
 "metadata": {
  "kernelspec": {
   "display_name": "MicroPython - USB",
   "language": "micropython",
   "name": "micropython"
  },
  "language_info": {
   "codemirror_mode": "python",
   "file_extension": ".py",
   "mimetype": "text/python",
   "name": "micropython"
  }
 },
 "nbformat": 4,
 "nbformat_minor": 2
}

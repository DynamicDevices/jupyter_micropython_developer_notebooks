{
 "cells": [
  {
   "cell_type": "code",
   "execution_count": 3,
   "metadata": {},
   "outputs": [
    {
     "name": "stdout",
     "output_type": "stream",
     "text": [
      "\u001b[34mConnecting to --port=/dev/ttyUSB0 --baud=115200 \u001b[0m\n",
      "\u001b[34mReady.\n",
      "\u001b[0m"
     ]
    }
   ],
   "source": [
    "%serialconnect"
   ]
  },
  {
   "cell_type": "code",
   "execution_count": 6,
   "metadata": {},
   "outputs": [
    {
     "name": "stdout",
     "output_type": "stream",
     "text": [
      "from sevensegmentdisplay import encodeledstring\n",
      "from machine import I2C, Pin\n",
      "import time\n",
      "\n",
      "i2c = I2C(scl=Pin(15, Pin.OUT, Pin.PULL_UP), sda=Pin(4, Pin.OUT, Pin.PULL_UP), freq=100000)\n",
      "\n",
      "tempAmbient, tempIR = 0, 0\n",
      "tempBad = True\n",
      "tempTime = 0\n",
      "\n",
      "def checkCRC(k, mask):  # mask (matching nibble) different in case\n",
      "    inCrc = 0\n",
      "    for inData in [k[0], k[1]]:\n",
      "        data = inCrc ^ inData;\n",
      "        data <<= 8 \n",
      "        for i in range(8):\n",
      "            if (( data & 0x8000 ) != 0 ):\n",
      "                data = data ^ (0x1070 << 3)\n",
      "            data = data << 1\n",
      "        inCrc = data >> 8\n",
      "    return (inCrc & mask) == (k[2]&mask)\n",
      "\n",
      "\n",
      "async def readtemps():\n",
      "    global ntempcount\n",
      "    while True:\n",
      "        global tempAmbient, tempIR, tempBad, tempTime\n",
      "        try:\n",
      "            ka = i2c.readfrom_mem(0x5a, 0x06, 3)\n",
      "            ki = i2c.readfrom_mem(0x5a, 0x07, 3)\n",
      "            bcrcgood = (checkCRC(ka, 0x0F) and checkCRC(ki, 0xF0))\n",
      "            print(bcrcgood, ka, ki)\n",
      "            if not bcrcgood:\n",
      "                raise OSError()\n",
      "            tempAmbient = (ka[0]+ka[1]*256)*0.02 - 273.15\n",
      "            tempIR = (ki[0]+ki[1]*256)*0.02 - 273.15\n",
      "            tempBad = False\n",
      "        except OSError:\n",
      "            tempBad = True\n",
      "            \n",
      "        if not tempBad:\n",
      "            encodeledstring(\"%5.2f %.1f\"% (tempIR, tempAmbient))\n",
      "        else:\n",
      "            encodeledstring(\"bad %04d\"%(tempTime%10000))\n",
      "        tempTime = time.ticks_ms()\n",
      "        await asyncio.sleep_ms(200)\n",
      "\n",
      "        \n",
      "from mqtt_as import MQTTClient\n",
      "import uasyncio as asyncio\n",
      "import asyn\n",
      "from sevensegmentdisplay import encodeledstring, writeledstringautoscroll\n",
      "\n",
      "encodeledstring(\"start up\")\n",
      "\n",
      "import uasyncio as asyncio\n",
      "import asyn\n",
      "from mqtt_as import config\n",
      "\n",
      "# Include any cross-project settings.\n",
      "config['server'] = \"mqtt.local\"\n",
      "config['ssid'] = 'DoESLiverpool'\n",
      "config['wifi_pw'] = 'decafbad00'\n",
      "config['mqttchannel'] = \"whitesp\"\n",
      "\n",
      "mqttchannelA = config['mqttchannel']+'/tempambient'\n",
      "mqttchannelI = config['mqttchannel']+'/tempir'\n",
      "mqttchannelIP = config['mqttchannel']+'/ip'\n",
      "mqttchannelBad = config['mqttchannel']+'/tempoutofrange'\n",
      "\n",
      "async def main(client):\n",
      "    DtempTime = 0\n",
      "    await client.connect()\n",
      "    for i in range(10):\n",
      "        encodeledstring(\"connect%d\"%i)\n",
      "        await asyncio.sleep_ms(100)\n",
      "        \n",
      "    n = 0\n",
      "    while True:\n",
      "        if DtempTime != tempTime:\n",
      "            if not tempBad:  # no inconsistency problem on this as async\n",
      "                if -10<tempAmbient<40:\n",
      "                    await client.publish(mqttchannelA, '%.2f'%tempAmbient, qos=1)\n",
      "                else:\n",
      "                    await client.publish(mqttchannelBad, 'A %.2f'%tempAmbient, qos=1)\n",
      "\n",
      "            if not tempBad:  # no inconsistency problem on this as async\n",
      "                if -10<tempIR<40:\n",
      "                    await client.publish(mqttchannelI, '%.2f'%tempIR, qos=1)\n",
      "                else:\n",
      "                    await client.publish(mqttchannelBad, 'I %.2f'%tempIR, qos=1)\n",
      "            DtempTime = tempTime\n",
      "        n += 1\n",
      "        if (n%10) == 0:\n",
      "            await client.publish(mqttchannelIP, client._sta_if.ifconfig()[0], qos=1)\n",
      "        await asyncio.sleep_ms(100)\n",
      "\n",
      "\n",
      "MQTTClient.DEBUG = True  # Optional: print diagnostic messages\n",
      "client = MQTTClient(config)\n",
      "aloop = asyncio.get_event_loop()\n",
      "aloop.create_task(readtemps())\n",
      "encodeledstring(\"ready.\")\n",
      "msg = \"fail.\"\n",
      "try:\n",
      "    aloop.run_until_complete(main(client))\n",
      "except Exception as e:\n",
      "    print(e)\n",
      "    msg = str(e).lower()\n",
      "client.close()  # Prevent LmacRxBlk:1 errors\n",
      "\n",
      "encodeledstring(msg)\n",
      "while 1:\n",
      "    writeledstringautoscroll()\n"
     ]
    }
   ],
   "source": [
    "%fetchfile --print main.py"
   ]
  },
  {
   "cell_type": "code",
   "execution_count": 279,
   "metadata": {},
   "outputs": [
    {
     "name": "stdout",
     "output_type": "stream",
     "text": [
      "Sent 43 lines (1045 bytes) to lib/umqtt/robust.py.\n"
     ]
    }
   ],
   "source": [
    "%sendtofile --mkdir --source /home/julian/extrepositories/micropython-lib/umqtt.simple/umqtt/simple.py lib/umqtt/\n",
    "%sendtofile --mkdir --source /home/julian/extrepositories/micropython-lib/umqtt.robust/umqtt/robust.py lib/umqtt/"
   ]
  },
  {
   "cell_type": "code",
   "execution_count": 391,
   "metadata": {},
   "outputs": [
    {
     "name": "stdout",
     "output_type": "stream",
     "text": [
      "Sent 93 lines (2148 bytes) to main.py.\n"
     ]
    }
   ],
   "source": [
    "%sendtofile main.py\n",
    "\n",
    "import machine, time\n",
    "\n",
    "# First get the display up with its functions\n",
    "sck = machine.Pin(14)\n",
    "miso = machine.Pin(12)\n",
    "mosi = machine.Pin(13) \n",
    "spi = machine.SPI(sck=sck, miso=miso, mosi=mosi, \n",
    "                  baudrate=1000000, polarity=0, phase=0, firstbit=machine.SPI.MSB)\n",
    "cs = machine.Pin(2, machine.Pin.OUT)  # sets the pin to output\n",
    "cs.value(1)\n",
    "\n",
    "def swrite(s):\n",
    "    cs.value(0)\n",
    "    time.sleep_ms(5)\n",
    "    spi.write(s)\n",
    "    cs.value(1)\n",
    "    time.sleep_ms(5)\n",
    "\n",
    "# set up the \n",
    "swrite(b\"\\x0C\\x00\")\n",
    "swrite(b\"\\x0F\\x00\")\n",
    "swrite(b\"\\x0B\\x07\")\n",
    "swrite(b\"\\x09\\x00\")\n",
    "swrite(b\"\\x0C\\x01\")\n",
    "\n",
    "nums = b\"\\x7E\\x30\\x6D\\x79\\x33\\x5B\\x5F\\x70\\x7F\\x7B\"\n",
    "alpha = b\"\\x77\\x1F\\x0D\\x3D\\x4F\\x47\\x7B\\x37\\x44jk\\x0Em\\x15\\x1D\\x67\\x73\\x05\\x5B\\x0F\\x1Cvwx\\x3Bz\"\n",
    "def writestring(s):\n",
    "    if type(s) == str:\n",
    "        s = s.encode()\n",
    "    ep = 0\n",
    "    for e in range(8):\n",
    "        ol = (s[ep]  if ep < len(s)  else 32)\n",
    "        c = 0x80\n",
    "        \n",
    "        if ol == 32:\n",
    "            c = 0x00\n",
    "        elif 48 <= ol <= 57:\n",
    "            c = nums[ol - 48]\n",
    "        elif 97 <= ol <= 122:\n",
    "            c = alpha[ol - 97]\n",
    "        if ep+1 < len(s) and s[ep+1] == \".\":\n",
    "            c += 0x80\n",
    "            ep += 1\n",
    "        swrite(b\"%c%c\" % (8-e, c))\n",
    "        ep += 1\n",
    "\n",
    "\n",
    "# wifi situation\n",
    "writestring(\"cnncting.\")\n",
    "import network\n",
    "\n",
    "si = network.WLAN(network.STA_IF)\n",
    "macaddress = \"\".join(\"{:02x}\".format(x)  for x in si.config(\"mac\"))\n",
    "si.active(True)\n",
    "si.connect(b\"DoESLiverpool\", b\"decafbad00\")\n",
    "while not si.isconnected():\n",
    "    pass\n",
    "ipnumber = si.ifconfig()[0] \n",
    "print(ipnumber)\n",
    "writestring(\"cnncted.\")\n",
    "\n",
    "\n",
    "# MQTT technology\n",
    "from umqtt.robust import MQTTClient\n",
    "\n",
    "c = MQTTClient(\"sevenseg\", \"10.0.29.167\")\n",
    "c.connect()\n",
    "c.publish(b\"sevenseg/on\", b\"now\")\n",
    "\n",
    "writestring(\"777  777\")\n",
    "dispmsg = \"oooo\"\n",
    "def sub_cb(topic, msg):\n",
    "    global dispmsg\n",
    "    print(topic, msg)\n",
    "    dispmsg = msg\n",
    "c.set_callback(sub_cb)\n",
    "c.connect()\n",
    "c.subscribe(topic=b\"sevenseg/show\") \n",
    "\n",
    "# main loop\n",
    "import time\n",
    "currmsg = dispmsg\n",
    "br = 1\n",
    "while True:\n",
    "    c.check_msg()\n",
    "    if dispmsg != currmsg: \n",
    "        currmsg = dispmsg\n",
    "        writestring(dispmsg)\n",
    "        c.publish(b\"sevenseg/on\", b\"now\")\n",
    "\n",
    "    time.sleep(0.1)\n",
    "    swrite(b\"\\x0A%c\" % ((br%8)+7))  # pulse the brightness\n",
    "    br += 1\n"
   ]
  },
  {
   "cell_type": "code",
   "execution_count": 243,
   "metadata": {
    "collapsed": true
   },
   "outputs": [],
   "source": []
  },
  {
   "cell_type": "code",
   "execution_count": 335,
   "metadata": {},
   "outputs": [],
   "source": [
    "c.subscribe(topic=b\"sevenseg/show\") "
   ]
  },
  {
   "cell_type": "code",
   "execution_count": 324,
   "metadata": {
    "collapsed": true
   },
   "outputs": [],
   "source": [
    "c.publish(b\"button/thing\", b\"hello\")"
   ]
  },
  {
   "cell_type": "code",
   "execution_count": 325,
   "metadata": {},
   "outputs": [
    {
     "name": "stdout",
     "output_type": "stream",
     "text": [
      "['__class__', '__dict__', '__init__', '__module__', '__qualname__', 'DEBUG', 'connect', 'disconnect', 'log', 'ssl', 'sock', 'port', 'DELAY', 'delay', 'reconnect', 'publish', 'wait_msg', 'client_id', 'server', 'user', 'keepalive', 'ssl_params', 'pid', 'cb', 'pswd', 'lw_topic', 'lw_msg', 'lw_qos', 'lw_retain', '_send_str', '_recv_len', 'set_callback', 'set_last_will', 'ping', 'subscribe', 'check_msg']\r\n"
     ]
    }
   ],
   "source": [
    "print(dir(c))"
   ]
  },
  {
   "cell_type": "code",
   "execution_count": 352,
   "metadata": {},
   "outputs": [
    {
     "name": "stdout",
     "output_type": "stream",
     "text": [
      "b'button/30aea44cafec' b'woke up'\n",
      "....b'button/sdfs' b'987'\n",
      "..b'button/sdfs' b'hello'\n",
      ".............................................................................................ets Jun  8 2016 00:22:57\n",
      "\n",
      "rst:0x1 (POWERON_RESET),boot:0x17 (SPI_FAST_FLASH_BOOT)\n",
      "configsip: 0, SPIWP:0xee\n",
      "clk_drv:0x00,q_drv:0x00,d_drv:0x00,cs0_drv:0x00,hd_drv:0x00,wp_drv:0x00\n",
      "mode:DIO, clock div:2\n",
      "load:0x3fff0018,len:4\n",
      "load:0x3fff001c,len:4436\n",
      "load:0x40078000,len:0\n",
      "load:0x40078000,len:11816\n",
      "entry 0x4007a9fc\n",
      "OSError: [Errno 2] ENOENT\n",
      "MicroPython v1.9.3-603-gfb7dabb9 on 2018-05-02; ESP32 module with ESP32\n",
      "Type \"help()\" for more information.\n",
      ">>>[reboot detected 0]repl is in normal command mode\n",
      "[\\r\\x03\\x03] b'\\r\\n>>> '\n",
      "[\\r\\x01] b'\\r\\n>>> \\r\\nraw REPL; CTRL-B to exit\\r\\n>' "
     ]
    }
   ],
   "source": [
    "import time\n",
    "currmsg = dispmsg\n",
    "br = 1\n",
    "while True:\n",
    "    c.check_msg()\n",
    "    if dispmsg != currmsg: \n",
    "        currmsg = dispmsg\n",
    "        writestring(dispmsg)\n",
    "    time.sleep(0.1)\n",
    "    swrite(b\"\\x0A%c\" % ((br%8)+7))\n",
    "    br += 1"
   ]
  },
  {
   "cell_type": "code",
   "execution_count": null,
   "metadata": {
    "collapsed": true
   },
   "outputs": [],
   "source": []
  }
 ],
 "metadata": {
  "kernelspec": {
   "display_name": "MicroPython - USB",
   "language": "micropython",
   "name": "micropython"
  },
  "language_info": {
   "codemirror_mode": "python",
   "file_extension": ".py",
   "mimetype": "text/python",
   "name": "micropython"
  }
 },
 "nbformat": 4,
 "nbformat_minor": 2
}

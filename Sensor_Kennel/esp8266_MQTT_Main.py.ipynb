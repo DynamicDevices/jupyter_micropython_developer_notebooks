{
 "cells": [
  {
   "cell_type": "code",
   "execution_count": null,
   "metadata": {},
   "outputs": [],
   "source": [
    "# Some MQTT based main files for the esp8266 sensors in DoESLiverpool\n",
    "# For cheaper deployment\n",
    "\n",
    "# RST         |  GPIO1   TX\n",
    "# A0          |  GPIO3   RX\n",
    "# D0  GPIO16  |  GPIO5   D1  SCL\n",
    "# D5  GPIO14  |  GPIO4   D2  SDA\n",
    "# D6  GPIO12  |  GPIO0   D3\n",
    "# D7  GPIO13  |  GPIO2   D4\n",
    "# D8  GPIO15  |          GND\n",
    "# 3V3         |          5V"
   ]
  },
  {
   "cell_type": "code",
   "execution_count": 13,
   "metadata": {},
   "outputs": [
    {
     "name": "stdout",
     "output_type": "stream",
     "text": [
      "\u001b[34mConnecting to --port=/dev/ttyUSB0 --baud=115200 \u001b[0m\n",
      "\u001b[34mReady.\n",
      "\u001b[0m"
     ]
    }
   ],
   "source": [
    "%serialconnect"
   ]
  },
  {
   "cell_type": "code",
   "execution_count": null,
   "metadata": {},
   "outputs": [],
   "source": [
    "# Code below is to run just the SI7021 humidity temp sensor\n",
    "# (and then the dallas temperature string)"
   ]
  },
  {
   "cell_type": "code",
   "execution_count": 14,
   "metadata": {},
   "outputs": [
    {
     "name": "stdout",
     "output_type": "stream",
     "text": [
      "Sent 78 lines (2331 bytes) to main.py.\n"
     ]
    }
   ],
   "source": [
    "%sendtofile main.py\n",
    "\n",
    "import time, network, machine\n",
    "\n",
    "boardname = \"esp8266B\"\n",
    "mqttipnumber = \"10.0.30.130\"  # not able to make mDNS to work\n",
    "pled = machine.Pin(2, machine.Pin.OUT)\n",
    "\n",
    "si = network.WLAN()\n",
    "si.active(True)\n",
    "si.connect(\"DoESLiverpool\", \"decafbad00\")\n",
    "while not si.isconnected():\n",
    "    time.sleep_ms(500)\n",
    "ipnumber = si.ifconfig()[0]\n",
    "print(ipnumber)\n",
    "for i in range(10):\n",
    "    pled.value(i%2)\n",
    "    time.sleep_ms(100)\n",
    "\n",
    "from umqtt.robust import MQTTClient\n",
    "client = MQTTClient(boardname, mqttipnumber)\n",
    "client.connect()\n",
    "client.publish(boardname+\"/ip\", ipnumber, retain=True, qos=1)\n",
    "\n",
    "for i in range(10):\n",
    "    pled.value(i%2)\n",
    "    time.sleep_ms(50)\n",
    "\n",
    "# dallas string sensor code; G=Orange, D8=Yellow, 3V3=Blue\n",
    "import onewire, ds18x20\n",
    "pindallas = machine.Pin(13, machine.Pin.OUT, machine.Pin.PULL_UP)\n",
    "dallasobj = ds18x20.DS18X20(onewire.OneWire(pindallas))\n",
    "dallasscanned = dallasobj.scan()\n",
    "if dallasscanned:\n",
    "    sdallasqorder = {347:0, 376:1, 448:2, 475:3, 576:4, 311:5, 406:6, 157:7}\n",
    "    dallasscanned.sort(key=lambda X: sdallasqorder.get(sum(X), 0))\n",
    "    print(\"DS18B20 n=%d\"%len(dallasscanned))\n",
    "    \n",
    "# SI7021 humidity sensor code\n",
    "i2c = machine.I2C(scl=machine.Pin(4), sda=machine.Pin(5))\n",
    "bsi7021init = False\n",
    "def SI7021humiditytemp():\n",
    "    global bsi7021init\n",
    "    if not bsi7021init:\n",
    "        i2c.writeto(0x40, b'\\xFE')\n",
    "        time.sleep_ms(20)\n",
    "        bsi7021init = True\n",
    "    i2c.writeto(0x40, b'\\xE5')\n",
    "    time.sleep_ms(20)   # give it time to take a reading or it fails\n",
    "    bh = i2c.readfrom(0x40, 2)\n",
    "    bt = i2c.readfrom_mem(0x40, 0xE0, 2)\n",
    "    rh = (bh[0]<<8)+(bh[1]&0xFC)\n",
    "    rt = (bt[0]<<8)+(bt[1]&0xFC)\n",
    "    return ((125.0*rh)/65536)-6, ((175.25*rt)/65536)-46.85 \n",
    "\n",
    "topichumid = boardname+\"/SI7021/humid\"\n",
    "topictemp = boardname+\"/SI7021/temp\"\n",
    "topicds = [ boardname+\"/DS18B20/\"+str(i)  for i in range(len(dallasscanned)) ]\n",
    "\n",
    "while True:\n",
    "    pled.value(0)\n",
    "    try:\n",
    "        h, t = SI7021humiditytemp()\n",
    "        print(h, t)\n",
    "        client.publish(topichumid, \"%f\"%h)\n",
    "        client.publish(topictemp, \"%f\"%t)\n",
    "    except OSError as e:\n",
    "        print(e)\n",
    "    pled.value(1)\n",
    "    \n",
    "    dallasobj.convert_temp()\n",
    "    time.sleep_ms(800)\n",
    "    for i, d in enumerate(dallasscanned):\n",
    "        try:\n",
    "            t = dallasobj.read_temp(d)\n",
    "            print(\"%d %.2f\"%(i, t))\n",
    "            client.publish(topicds[i], \"%f\"%t)\n",
    "        except Exception:\n",
    "            pass\n",
    "    time.sleep_ms(200)\n"
   ]
  },
  {
   "cell_type": "code",
   "execution_count": 44,
   "metadata": {},
   "outputs": [],
   "source": []
  },
  {
   "cell_type": "code",
   "execution_count": null,
   "metadata": {},
   "outputs": [],
   "source": []
  }
 ],
 "metadata": {
  "kernelspec": {
   "display_name": "MicroPython - USB",
   "language": "micropython",
   "name": "micropython"
  },
  "language_info": {
   "codemirror_mode": "python",
   "file_extension": ".py",
   "mimetype": "text/python",
   "name": "micropython"
  }
 },
 "nbformat": 4,
 "nbformat_minor": 2
}

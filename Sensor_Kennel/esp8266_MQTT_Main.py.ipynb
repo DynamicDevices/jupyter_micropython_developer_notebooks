{
 "cells": [
  {
   "cell_type": "code",
   "execution_count": null,
   "metadata": {},
   "outputs": [],
   "source": [
    "# Some MQTT based main files for the esp8266 sensors in DoESLiverpool\n",
    "# For cheaper deployment\n",
    "\n",
    "#      RST          |  GPIO1   TX\n",
    "#       A0          |  GPIO3   RX\n",
    "#       D0  GPIO16  |  GPIO5   D1  SCL\n",
    "# SCK   D5  GPIO14  |  GPIO4   D2  SDA\n",
    "# MISO  D6  GPIO12  |  GPIO0   D3\n",
    "# MOSI  D7  GPIO13  |  GPIO2   D4  LED\n",
    "# SS    D8  GPIO15  |          GND\n",
    "#      3V3          |          5V\n",
    "\n",
    "# (not able to get the mDNS to work for esp8266)"
   ]
  },
  {
   "cell_type": "code",
   "execution_count": 82,
   "metadata": {},
   "outputs": [
    {
     "name": "stdout",
     "output_type": "stream",
     "text": [
      "serial exception on close write failed: [Errno 5] Input/output error\n",
      "\u001b[34mConnecting to --port=/dev/ttyUSB0 --baud=115200 \u001b[0m\n",
      "\u001b[34mReady.\n",
      "\u001b[0m"
     ]
    }
   ],
   "source": [
    "%serialconnect"
   ]
  },
  {
   "cell_type": "code",
   "execution_count": null,
   "metadata": {},
   "outputs": [],
   "source": [
    "# Code below is to run just the SI7021 humidity temp sensor\n",
    "# (and then the dallas temperature string)"
   ]
  },
  {
   "cell_type": "code",
   "execution_count": 29,
   "metadata": {},
   "outputs": [
    {
     "name": "stdout",
     "output_type": "stream",
     "text": [
      "Sent 5 lines (112 bytes) to config.txt.\n"
     ]
    }
   ],
   "source": [
    "%sendtofile config.txt\n",
    "\n",
    "wifiname     DoESLiverpool\n",
    "wifipassword decafbad00\n",
    "mqttbroker   10.0.30.130\n",
    "pinled       2\n",
    "boardname    esp8266A"
   ]
  },
  {
   "cell_type": "code",
   "execution_count": null,
   "metadata": {},
   "outputs": [],
   "source": [
    "# we can move some of these state functions into another file"
   ]
  },
  {
   "cell_type": "code",
   "execution_count": 73,
   "metadata": {},
   "outputs": [
    {
     "name": "stdout",
     "output_type": "stream",
     "text": [
      "Sent 107 lines (3358 bytes) to main.py.\n"
     ]
    }
   ],
   "source": [
    "%sendtofile main.py\n",
    "\n",
    "import time, network, machine, ubinascii\n",
    "\n",
    "fconfig = dict(x.split()  for x in open(\"config.txt\"))\n",
    "\n",
    "mqttipnumber = \"\"  # not able to make mDNS to work\n",
    "pled = machine.Pin(int(fconfig[\"pinled\"]), machine.Pin.OUT)\n",
    "plight = machine.ADC(0)\n",
    "\n",
    "si = network.WLAN()\n",
    "si.active(True)\n",
    "si.connect(fconfig[\"wifiname\"], fconfig[\"wifipassword\"])\n",
    "while not si.isconnected():\n",
    "    time.sleep_ms(500)\n",
    "ipnumber = si.ifconfig()[0]\n",
    "print(ipnumber)\n",
    "for i in range(10):\n",
    "    pled.value(i%2)\n",
    "    time.sleep_ms(100)\n",
    "\n",
    "from umqtt.robust import MQTTClient\n",
    "client = MQTTClient(fconfig[\"boardname\"], fconfig[\"mqttbroker\"])\n",
    "client.connect()\n",
    "client.publish(fconfig[\"boardname\"]+\"/ip\", ipnumber, retain=True, qos=1)\n",
    "client.publish(fconfig[\"boardname\"]+\"/mac\", ubinascii.hexlify(si.config('mac'),':').decode().upper(), retain=True, qos=1)\n",
    "\n",
    "for i in range(10):\n",
    "    pled.value(i%2)\n",
    "    time.sleep_ms(50)\n",
    "\n",
    "# dallas string sensor code; G=Orange, D8=Yellow, 3V3=Blue\n",
    "import onewire, ds18x20\n",
    "pindallas = machine.Pin(13, machine.Pin.OUT, machine.Pin.PULL_UP)\n",
    "dallasobj = 5 # tries\n",
    "dallasscanned = []\n",
    "def dallasinitconvert():\n",
    "    global dallasobj, dallasscanned\n",
    "    if isinstance(dallasobj, int):\n",
    "        try:\n",
    "            dallasobj = ds18x20.DS18X20(onewire.OneWire(pindallas))\n",
    "        except onewire.OneWireError as e:\n",
    "            dallasobj -= 1\n",
    "            return []\n",
    "        dallasscanned = dallasobj.scan()\n",
    "        print(\"dallasscanned\", dallasscanned)\n",
    "        if dallasscanned:\n",
    "            sdallasqorder = {347:0, 376:1, 448:2, 475:3, 576:4, 311:5, 406:6, 157:7}\n",
    "            dallasscanned.sort(key=lambda X: sdallasqorder.get(sum(X), 0))\n",
    "            print(\"DS18B20 n=%d\"%len(dallasscanned))\n",
    "    if dallasscanned:\n",
    "        dallasobj.convert_temp()\n",
    "\n",
    "# SI7021 humidity sensor code\n",
    "i2c = machine.I2C(scl=machine.Pin(4), sda=machine.Pin(5))\n",
    "bsi7021init = False\n",
    "def SI7021humiditytemp():\n",
    "    global bsi7021init\n",
    "    if not bsi7021init:\n",
    "        i2c.writeto(0x40, b'\\xFE')\n",
    "        time.sleep_ms(20)\n",
    "        bsi7021init = True\n",
    "    i2c.writeto(0x40, b'\\xE5')\n",
    "    time.sleep_ms(20)   # give it time to take a reading or it fails\n",
    "    bh = i2c.readfrom(0x40, 2)\n",
    "    bt = i2c.readfrom_mem(0x40, 0xE0, 2)\n",
    "    rh = (bh[0]<<8)+(bh[1]&0xFC)\n",
    "    rt = (bt[0]<<8)+(bt[1]&0xFC)\n",
    "    return ((125.0*rh)/65536)-6, ((175.25*rt)/65536)-46.85 \n",
    "\n",
    "topichumid = fconfig[\"boardname\"]+\"/SI7021/humid\"\n",
    "topictemp = fconfig[\"boardname\"]+\"/SI7021/temp\"\n",
    "topicldr = fconfig[\"boardname\"]+\"/LDR\"\n",
    "topicds = [ fconfig[\"boardname\"]+\"/DS18B20/\"+str(i)  for i in range(len(dallasscanned)) ]\n",
    "\n",
    "tdallasconverttime = 0\n",
    "t0 = time.ticks_ms()\n",
    "plightv0 = 0\n",
    "while True:\n",
    "    t = time.ticks_ms()\n",
    "    \n",
    "    plightv = plight.read()\n",
    "    if abs(plightv - plightv0) > 45:\n",
    "        client.publish(topicldr, \"%d\"%plightv)\n",
    "        plightv0 = plightv\n",
    "    if dallasobj and dallasscanned and tdallasconverttime and t > tdallasconverttime + 800:\n",
    "        ds = [ dallasobj.read_temp(d)  for d in dallasscanned ]\n",
    "        print(ds)\n",
    "        for i, t in enumerate(ds):\n",
    "            client.publish(topicds[i], \"%f\"%t)\n",
    "    \n",
    "    if t < t0 + 1000:\n",
    "        time.sleep_ms(10)\n",
    "        continue\n",
    "        \n",
    "    pled.value(0)\n",
    "    try:\n",
    "        humid, temp = SI7021humiditytemp()\n",
    "        print(humid, temp)\n",
    "        client.publish(topichumid, \"%f\"%humid)\n",
    "        client.publish(topictemp, \"%f\"%temp)\n",
    "    except OSError as e:\n",
    "        print(e)\n",
    "    pled.value(1)\n",
    "    \n",
    "    if dallasobj and dallasscanned and tdallasconverttime and t > tdallasconverttime + 800:\n",
    "        dallasinitconvert()\n",
    "        tdallasconverttime = t\n",
    "    t0 = t\n",
    "    "
   ]
  },
  {
   "cell_type": "code",
   "execution_count": 72,
   "metadata": {},
   "outputs": [
    {
     "name": "stdout",
     "output_type": "stream",
     "text": [
      "\u001b[31m\n",
      "\n",
      "***Connection broken [Input/output error]\n",
      "\u001b[0mYou may need to reconnect\u001b[34m\n",
      "Closing serial Serial<id=0x7fe877b62438, open=True>(port='/dev/ttyUSB2', baudrate=115200, bytesize=8, parity='N', stopbits=1, timeout=0.5, xonxoff=False, rtscts=False, dsrdtr=False)\n",
      "\u001b[0m\u001b[34mConnecting to --port=/dev/ttyUSB0 --baud=115200 \u001b[0m\n",
      "\u001b[34mReady.\n",
      "\u001b[0m"
     ]
    }
   ],
   "source": [
    "# Electricity to flashes esp8266 version\n",
    "%serialconnect"
   ]
  },
  {
   "cell_type": "code",
   "execution_count": 40,
   "metadata": {},
   "outputs": [
    {
     "name": "stdout",
     "output_type": "stream",
     "text": [
      "Sent 4 lines (112 bytes) to main.py.\n"
     ]
    }
   ],
   "source": [
    "# esp32 flashing light signal\n",
    "%sendtofile main.py\n",
    "import machine, time\n",
    "pled = machine.Pin(2, machine.Pin.OUT)\n",
    "pwm = machine.PWM(pled, freq=1, duty=25)\n",
    "print(pwm)\n"
   ]
  },
  {
   "cell_type": "code",
   "execution_count": 74,
   "metadata": {},
   "outputs": [
    {
     "name": "stdout",
     "output_type": "stream",
     "text": [
      "serial exception on close write failed: [Errno 5] Input/output error\n",
      "\u001b[34mConnecting to --port=/dev/ttyUSB2 --baud=115200 \u001b[0m\n",
      "\u001b[34mReady.\n",
      "\u001b[0m"
     ]
    }
   ],
   "source": [
    "%serialconnect"
   ]
  },
  {
   "cell_type": "code",
   "execution_count": 44,
   "metadata": {},
   "outputs": [
    {
     "name": "stdout",
     "output_type": "stream",
     "text": [
      "Sent 49 lines (1196 bytes) to main.py.\n"
     ]
    }
   ],
   "source": [
    "%sendtofile main.py\n",
    "\n",
    "import time, network, machine\n",
    "\n",
    "boardname = \"esp8266C\"\n",
    "mqttipnumber = \"10.0.30.130\"  # not able to make mDNS to work\n",
    "pled = machine.Pin(2, machine.Pin.OUT)\n",
    "pdetector = machine.Pin(13, machine.Pin.IN)\n",
    "\n",
    "si = network.WLAN()\n",
    "si.active(True)\n",
    "si.connect(\"DoESLiverpool\", \"decafbad00\")\n",
    "while not si.isconnected():\n",
    "    time.sleep_ms(500)\n",
    "ipnumber = si.ifconfig()[0]\n",
    "print(ipnumber)\n",
    "for i in range(10):\n",
    "    pled.value(i%2)\n",
    "    time.sleep_ms(100)\n",
    "\n",
    "from umqtt.robust import MQTTClient\n",
    "client = MQTTClient(boardname, mqttipnumber)\n",
    "client.connect()\n",
    "client.publish(boardname+\"/ip\", ipnumber, retain=True, qos=1)\n",
    "\n",
    "for i in range(10):\n",
    "    pled.value(i%2)\n",
    "    time.sleep_ms(50)\n",
    "\n",
    "topicname = boardname+\"/ticks\"\n",
    "n = 0\n",
    "t0 = 0\n",
    "while True:\n",
    "    while pdetector.value():       pass\n",
    "    td = time.ticks_ms()\n",
    "    while pdetector.value() == 0:  pass\n",
    "    t = time.ticks_ms()\n",
    "    x = (t - td)  # originally machine.time_pulse_us(pdetector, 0, 10000000)//1000\n",
    "    dt = t - t0\n",
    "    print(dt, x, n)\n",
    "    if not (20 < x < 35):\n",
    "        continue\n",
    "    if dt < 15:\n",
    "        continue\n",
    "    try:\n",
    "        client.publish(topicname, \"%d %d %d\" % (dt, x, n))\n",
    "    except Exception as e:\n",
    "        print(e)\n",
    "    t0 = t\n",
    "    n += 1\n",
    "    pled.value(n%2) \n"
   ]
  },
  {
   "cell_type": "code",
   "execution_count": 50,
   "metadata": {},
   "outputs": [
    {
     "name": "stdout",
     "output_type": "stream",
     "text": [
      "serial exception on close write failed: [Errno 5] Input/output error\n",
      "\u001b[34mConnecting to --port=/dev/ttyUSB0 --baud=115200 \u001b[0m\n",
      "\u001b[34mReady.\n",
      "\u001b[0m"
     ]
    }
   ],
   "source": [
    "%serialconnect"
   ]
  },
  {
   "cell_type": "code",
   "execution_count": 23,
   "metadata": {},
   "outputs": [
    {
     "name": "stdout",
     "output_type": "stream",
     "text": [
      "\u001b[34mConnecting to --port=/dev/ttyUSB1 --baud=115200 \u001b[0m\n",
      "\u001b[34mReady.\n",
      "\u001b[0m"
     ]
    }
   ],
   "source": [
    "%serialconnect"
   ]
  },
  {
   "cell_type": "code",
   "execution_count": 25,
   "metadata": {},
   "outputs": [],
   "source": [
    "import machine\n",
    "pdetector = machine.Pin(13, machine.Pin.IN)\n",
    "def callback(x):\n",
    "    print(x)\n",
    "pdetector.irq(trigger=machine.Pin.IRQ_FALLING, handler=callback)"
   ]
  },
  {
   "cell_type": "code",
   "execution_count": 26,
   "metadata": {},
   "outputs": [
    {
     "name": "stdout",
     "output_type": "stream",
     "text": [
      "\u001b[34mattempt to exit paste mode\n",
      "\u001b[0m\u001b[34m[\\r\\x03\\x02] \u001b[0mb'Pin(13)\\r\\nPin(13)\\r\\nPin(13)\\r\\nPin(13)\\r\\nPin(13)\\r\\nPin(13)\\r\\n\\r\\nMicroPython v1.11-8-g48dcbbe60 on 2019-05-29; ESP module with ESP8266\\r\\nType \"help()\" for more information.\\r\\n>>> '\u001b[34m\n",
      "Closing serial Serial<id=0x7faca5f8c390, open=True>(port='/dev/ttyUSB1', baudrate=115200, bytesize=8, parity='N', stopbits=1, timeout=0.5, xonxoff=False, rtscts=False, dsrdtr=False)\n",
      "\u001b[0m"
     ]
    }
   ],
   "source": [
    "%disconnect"
   ]
  },
  {
   "cell_type": "code",
   "execution_count": null,
   "metadata": {},
   "outputs": [],
   "source": []
  }
 ],
 "metadata": {
  "kernelspec": {
   "display_name": "MicroPython - USB",
   "language": "micropython",
   "name": "micropython"
  },
  "language_info": {
   "codemirror_mode": "python",
   "file_extension": ".py",
   "mimetype": "text/python",
   "name": "micropython"
  }
 },
 "nbformat": 4,
 "nbformat_minor": 2
}

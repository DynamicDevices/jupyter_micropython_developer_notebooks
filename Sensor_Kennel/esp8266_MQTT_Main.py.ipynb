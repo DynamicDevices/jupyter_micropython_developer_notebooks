{
 "cells": [
  {
   "cell_type": "code",
   "execution_count": null,
   "metadata": {},
   "outputs": [],
   "source": [
    "# Some MQTT based main files for the esp8266 sensors in DoESLiverpool\n",
    "# For cheaper deployment\n",
    "\n",
    "#      RST          |  GPIO1   TX\n",
    "#       A0          |  GPIO3   RX\n",
    "#       D0  GPIO16  |  GPIO5   D1  SCL\n",
    "# SCK   D5  GPIO14  |  GPIO4   D2  SDA\n",
    "# MISO  D6  GPIO12  |  GPIO0   D3\n",
    "# MOSI  D7  GPIO13  |  GPIO2   D4  LED\n",
    "# SS    D8  GPIO15  |          GND\n",
    "#      3V3          |          5V\n",
    "\n",
    "# (not able to get the mDNS to work for esp8266)"
   ]
  },
  {
   "cell_type": "code",
   "execution_count": 7,
   "metadata": {},
   "outputs": [
    {
     "name": "stdout",
     "output_type": "stream",
     "text": [
      "serial exception on close write failed: [Errno 5] Input/output error\n",
      "\u001b[34mConnecting to --port=/dev/ttyUSB6 --baud=115200 \u001b[0m\n",
      "\u001b[34mReady.\n",
      "\u001b[0m"
     ]
    }
   ],
   "source": [
    "%serialconnect"
   ]
  },
  {
   "cell_type": "code",
   "execution_count": null,
   "metadata": {},
   "outputs": [],
   "source": [
    "# Code below is to run just the SI7021 humidity temp sensor\n",
    "# (and then the dallas temperature string)"
   ]
  },
  {
   "cell_type": "code",
   "execution_count": 6,
   "metadata": {},
   "outputs": [
    {
     "name": "stdout",
     "output_type": "stream",
     "text": [
      "Sent 5 lines (112 bytes) to config.txt.\n"
     ]
    }
   ],
   "source": [
    "%sendtofile config.txt\n",
    "\n",
    "wifiname     DoESLiverpool\n",
    "wifipassword decafbad00\n",
    "mqttbroker   10.0.30.130\n",
    "pinled       2\n",
    "boardname    esp8266B"
   ]
  },
  {
   "cell_type": "code",
   "execution_count": null,
   "metadata": {},
   "outputs": [],
   "source": [
    "# we can move some of these state functions into another file"
   ]
  },
  {
   "cell_type": "code",
   "execution_count": 18,
   "metadata": {},
   "outputs": [
    {
     "name": "stdout",
     "output_type": "stream",
     "text": [
      "Sent 119 lines (3789 bytes) to main.py.\n"
     ]
    }
   ],
   "source": [
    "%sendtofile main.py\n",
    "\n",
    "import time, network, machine, ubinascii, esp\n",
    "\n",
    "fconfig = dict(x.split()  for x in open(\"config.txt\"))\n",
    "\n",
    "pled = machine.Pin(int(fconfig[\"pinled\"]), machine.Pin.OUT)\n",
    "plight = machine.ADC(0)\n",
    "\n",
    "si = network.WLAN()\n",
    "si.active(True)\n",
    "si.connect(fconfig[\"wifiname\"], fconfig[\"wifipassword\"])\n",
    "while not si.isconnected():\n",
    "    time.sleep_ms(500)\n",
    "ipnumber = si.ifconfig()[0]\n",
    "print(ipnumber)\n",
    "for i in range(10):\n",
    "    pled.value(i%2)\n",
    "    time.sleep_ms(100)\n",
    "\n",
    "from umqtt.robust import MQTTClient\n",
    "client = MQTTClient(fconfig[\"boardname\"], fconfig[\"mqttbroker\"])\n",
    "client.connect()\n",
    "topicip = fconfig[\"boardname\"]+\"/ip\"\n",
    "topicmac = fconfig[\"boardname\"]+\"/mac\"\n",
    "topicfreemem = fconfig[\"boardname\"]+\"/freemem\"\n",
    "macaddress = ubinascii.hexlify(si.config('mac'),':').decode().upper()\n",
    "\n",
    "for i in range(10):\n",
    "    pled.value(i%2)\n",
    "    time.sleep_ms(50)\n",
    "\n",
    "# dallas string sensor code; G=Orange, D8=Yellow, 3V3=Blue\n",
    "import onewire, ds18x20\n",
    "pindallas = machine.Pin(13, machine.Pin.OUT, machine.Pin.PULL_UP)\n",
    "dallasobj = 5 # tries\n",
    "dallasscanned = [ ]\n",
    "topicds = [ ]\n",
    "def dallasinitconvert():\n",
    "    global dallasobj, dallasscanned\n",
    "    if isinstance(dallasobj, int):\n",
    "        try:\n",
    "            dallasobj = ds18x20.DS18X20(onewire.OneWire(pindallas))\n",
    "        except onewire.OneWireError as e:\n",
    "            dallasobj -= 1\n",
    "            return []\n",
    "        dallasscanned = dallasobj.scan()\n",
    "        print(\"dallasscanned\", dallasscanned)\n",
    "        if dallasscanned:\n",
    "            sdallasqorder = {347:0, 376:1, 448:2, 475:3, 576:4, 311:5, 406:6, 157:7}\n",
    "            dallasscanned.sort(key=lambda X: sdallasqorder.get(sum(X), 0))\n",
    "            print(\"DS18B20 n=%d\"%len(dallasscanned))\n",
    "            topicds.extend([ fconfig[\"boardname\"]+\"/DS18B20/\"+str(i)  for i in range(len(dallasscanned)) ])\n",
    "    if dallasscanned:\n",
    "        dallasobj.convert_temp()\n",
    "\n",
    "# SI7021 humidity sensor code\n",
    "i2c = machine.I2C(scl=machine.Pin(4), sda=machine.Pin(5))\n",
    "bsi7021init = False\n",
    "def SI7021humiditytemp():\n",
    "    global bsi7021init\n",
    "    if not bsi7021init:\n",
    "        i2c.writeto(0x40, b'\\xFE')\n",
    "        time.sleep_ms(20)\n",
    "        bsi7021init = True\n",
    "    i2c.writeto(0x40, b'\\xE5')\n",
    "    time.sleep_ms(20)   # give it time to take a reading or it fails\n",
    "    bh = i2c.readfrom(0x40, 2)\n",
    "    bt = i2c.readfrom_mem(0x40, 0xE0, 2)\n",
    "    rh = (bh[0]<<8)+(bh[1]&0xFC)\n",
    "    rt = (bt[0]<<8)+(bt[1]&0xFC)\n",
    "    return ((125.0*rh)/65536)-6, ((175.25*rt)/65536)-46.85 \n",
    "\n",
    "topichumid = fconfig[\"boardname\"]+\"/SI7021/humid\"\n",
    "topictemp = fconfig[\"boardname\"]+\"/SI7021/temp\"\n",
    "topicldr = fconfig[\"boardname\"]+\"/LDR\"\n",
    "\n",
    "tdallasconverttime = 0\n",
    "t0 = time.ticks_ms()\n",
    "plightv0 = 0\n",
    "tipnumbernext = 0\n",
    "while True:\n",
    "    t = time.ticks_ms()\n",
    "    if t > tipnumbernext:\n",
    "        client.publish(topicip, ipnumber, retain=True, qos=1)\n",
    "        client.publish(topicmac, macaddress, retain=True, qos=1)\n",
    "        client.publish(topicfreemem, \"%d\" % esp.freemem(), retain=True, qos=1)\n",
    "        tipnumbernext = t + 60000\n",
    "    \n",
    "    plightv = plight.read()\n",
    "    if abs(plightv - plightv0) > 45:\n",
    "        client.publish(topicldr, \"%d\"%plightv)\n",
    "        plightv0 = plightv\n",
    "        \n",
    "    if dallasobj and dallasscanned and tdallasconverttime and t > tdallasconverttime + 800:\n",
    "        ds = [ dallasobj.read_temp(d)  for d in dallasscanned ]\n",
    "        print(ds)\n",
    "        for i, t in enumerate(ds):\n",
    "            if t != 85.0:\n",
    "                client.publish(topicds[i], \"%f\"%t)\n",
    "        tdallasconverttime = 0\n",
    "    \n",
    "    if t < t0 + 1000:\n",
    "        time.sleep_ms(10)\n",
    "        continue\n",
    "        \n",
    "    pled.value(0)\n",
    "    try:\n",
    "        humid, temp = SI7021humiditytemp()\n",
    "        print(humid, temp)\n",
    "        client.publish(topichumid, \"%f\"%humid)\n",
    "        client.publish(topictemp, \"%f\"%temp)\n",
    "    except OSError as e:\n",
    "        print(e)\n",
    "    pled.value(1)\n",
    "    \n",
    "    if dallasobj and t > tdallasconverttime + 800:\n",
    "        dallasinitconvert()\n",
    "        tdallasconverttime = t\n",
    "    t0 = t\n",
    "    "
   ]
  },
  {
   "cell_type": "code",
   "execution_count": 17,
   "metadata": {},
   "outputs": [
    {
     "name": "stdout",
     "output_type": "stream",
     "text": [
      "serial exception on close write failed: [Errno 5] Input/output error\n",
      "\u001b[34mConnecting to --port=/dev/ttyUSB5 --baud=115200 \u001b[0m\n",
      "\u001b[34mReady.\n",
      "\u001b[0m"
     ]
    }
   ],
   "source": [
    "%serialconnect"
   ]
  },
  {
   "cell_type": "code",
   "execution_count": null,
   "metadata": {},
   "outputs": [],
   "source": []
  }
 ],
 "metadata": {
  "kernelspec": {
   "display_name": "MicroPython - USB",
   "language": "micropython",
   "name": "micropython"
  },
  "language_info": {
   "codemirror_mode": "python",
   "file_extension": ".py",
   "mimetype": "text/python",
   "name": "micropython"
  }
 },
 "nbformat": 4,
 "nbformat_minor": 2
}

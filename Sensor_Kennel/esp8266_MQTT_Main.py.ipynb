{
 "cells": [
  {
   "cell_type": "code",
   "execution_count": 13,
   "metadata": {},
   "outputs": [
    {
     "name": "stdout",
     "output_type": "stream",
     "text": [
      "\u001b[34mConnecting to --port=/dev/ttyUSB0 --baud=115200 \u001b[0m\n",
      "\u001b[34mReady.\n",
      "\u001b[0m"
     ]
    }
   ],
   "source": [
    "%serialconnect"
   ]
  },
  {
   "cell_type": "code",
   "execution_count": 26,
   "metadata": {},
   "outputs": [
    {
     "name": "stdout",
     "output_type": "stream",
     "text": [
      "[]\r\n"
     ]
    },
    {
     "name": "stderr",
     "output_type": "stream",
     "text": [
      "Traceback (most recent call last):\n",
      "  File \"<stdin>\", line 4, in <module>\n",
      "OSError: [Errno 110] ETIMEDOUT\n"
     ]
    }
   ],
   "source": [
    "import machine\n",
    "i2c = machine.I2C(scl=machine.Pin(4), sda=machine.Pin(5), freq=45000)\n",
    "print(i2c.scan())\n",
    "print(i2c.readfrom_mem(0x69, 0x03, 2))\n"
   ]
  },
  {
   "cell_type": "code",
   "execution_count": 11,
   "metadata": {},
   "outputs": [
    {
     "name": "stderr",
     "output_type": "stream",
     "text": [
      "Traceback (most recent call last):\n",
      "  File \"<stdin>\", line 1, in <module>\n",
      "OSError: [Errno 19] ENODEV\n"
     ]
    }
   ],
   "source": [
    "print(i2c.readfrom_mem(0x69, 0x00, 2))\n"
   ]
  },
  {
   "cell_type": "code",
   "execution_count": 63,
   "metadata": {},
   "outputs": [
    {
     "name": "stdout",
     "output_type": "stream",
     "text": [
      "Sent 79 lines (3304 bytes) to BME280_funcs.py.\n"
     ]
    }
   ],
   "source": [
    "%sendtofile --source BME280_funcs.py"
   ]
  },
  {
   "cell_type": "code",
   "execution_count": 88,
   "metadata": {},
   "outputs": [
    {
     "name": "stdout",
     "output_type": "stream",
     "text": [
      "[118]\n",
      "(23.73, 62458.5, 69.042)\n"
     ]
    }
   ],
   "source": [
    "from machine import I2C, Pin\n",
    "#i2c = I2C(scl=Pin(15, Pin.OUT, Pin.PULL_UP), sda=Pin(4, Pin.OUT, Pin.PULL_UP), freq=450000)\n",
    "import machine\n",
    "i2c = machine.I2C(scl=machine.Pin(4), sda=machine.Pin(5))\n",
    "print(i2c.scan())\n",
    "\n",
    "from BME280_funcs import bme280init, readBME280\n",
    "bme280init(i2c, 0x76)\n",
    "print(readBME280(0x76))\n"
   ]
  },
  {
   "cell_type": "code",
   "execution_count": 65,
   "metadata": {},
   "outputs": [
    {
     "name": "stdout",
     "output_type": "stream",
     "text": [
      "(23.73, 62458.5, 69.042)\r\n"
     ]
    }
   ],
   "source": [
    "from BME280_funcs import bme280init, readBME280\n",
    "bme280init(i2c, 0x76)\n",
    "print(readBME280(0x76))\n"
   ]
  },
  {
   "cell_type": "code",
   "execution_count": 70,
   "metadata": {},
   "outputs": [
    {
     "name": "stdout",
     "output_type": "stream",
     "text": [
      "(22.64, 99784.0, 22.9854)\n",
      "(22.63, 99782.4, 23.0068)\n",
      "(22.6, 99759.0, 22.9941)\n",
      "(22.85, 100013.0, 22.9287)\n",
      "(23.38, 100142.0, 22.7764)\n",
      "(24.13, 100418.0, 22.624)\n",
      "(24.82, 100484.0, 22.5127)\n",
      "(25.01, 100379.0, 22.5889)\n",
      "(24.99, 100121.0, 22.7236)\n",
      "(24.39, 99859.6, 23.0303)\n"
     ]
    }
   ],
   "source": [
    "import time\n",
    "for i in range(10):\n",
    "    time.sleep(0.5)\n",
    "    print(readBME280(0x76))"
   ]
  },
  {
   "cell_type": "code",
   "execution_count": 24,
   "metadata": {},
   "outputs": [
    {
     "name": "stderr",
     "output_type": "stream",
     "text": [
      "Traceback (most recent call last):\n",
      "  File \"<stdin>\", line 3, in <module>\n",
      "  File \"BME280_funcs.py\", line 14, in bme280init\n",
      "OSError: [Errno 19] ENODEV\n"
     ]
    }
   ],
   "source": [
    "#print(i2c.scan())\n",
    "from BME280_funcs import bme280init, readBME280    #77\n",
    "bme280init(i2c)\n",
    "#print(readBME280())"
   ]
  },
  {
   "cell_type": "code",
   "execution_count": null,
   "metadata": {},
   "outputs": [],
   "source": [
    "# Some MQTT based main files for the esp8266 sensors in DoESLiverpool\n",
    "# For cheaper deployment\n",
    "\n",
    "#      RST          |  GPIO1   TX\n",
    "#       A0          |  GPIO3   RX\n",
    "#       D0  GPIO16  |  GPIO5   D1  SCL\n",
    "# SCK   D5  GPIO14  |  GPIO4   D2  SDA\n",
    "# MISO  D6  GPIO12  |  GPIO0   D3\n",
    "# MOSI  D7  GPIO13  |  GPIO2   D4  LED\n",
    "# SS    D8  GPIO15  |          GND\n",
    "#      3V3          |          5V\n",
    "\n",
    "# (not able to get the mDNS to work for esp8266)"
   ]
  },
  {
   "cell_type": "code",
   "execution_count": 11,
   "metadata": {},
   "outputs": [
    {
     "name": "stdout",
     "output_type": "stream",
     "text": [
      "serial exception on close write failed: [Errno 5] Input/output error\n",
      "\u001b[34mConnecting to --port=/dev/ttyUSB8 --baud=115200 \u001b[0m\n",
      "\u001b[34mReady.\n",
      "\u001b[0m"
     ]
    }
   ],
   "source": [
    "%serialconnect"
   ]
  },
  {
   "cell_type": "code",
   "execution_count": 8,
   "metadata": {},
   "outputs": [
    {
     "name": "stdout",
     "output_type": "stream",
     "text": [
      "Listing directory '/'.\n",
      "      228    boot.py\n",
      "      116    config.txt\n",
      "     3462    dmpConfig.txt\n",
      "     1929    dmpMemory.bin\n",
      "     3545    max7219.py\n",
      "      333    testleds.py\n",
      "       15    webrepl_cfg.py\n"
     ]
    }
   ],
   "source": [
    "%ls"
   ]
  },
  {
   "cell_type": "code",
   "execution_count": 9,
   "metadata": {},
   "outputs": [
    {
     "name": "stdout",
     "output_type": "stream",
     "text": [
      "wifiname     DoESLiverpool\n",
      "wifipassword decafbad00\n",
      "mqttbroker   10.0.30.194\n",
      "pinled       2\n",
      "boardname    esp8266LOLIN"
     ]
    }
   ],
   "source": [
    "%fetchfile --print config.txt"
   ]
  },
  {
   "cell_type": "code",
   "execution_count": null,
   "metadata": {},
   "outputs": [],
   "source": [
    "# Code below is to run just the SI7021 humidity temp sensor\n",
    "# (and then the dallas temperature string)"
   ]
  },
  {
   "cell_type": "code",
   "execution_count": 6,
   "metadata": {},
   "outputs": [
    {
     "name": "stdout",
     "output_type": "stream",
     "text": [
      "Sent 5 lines (112 bytes) to config.txt.\n"
     ]
    }
   ],
   "source": []
  },
  {
   "cell_type": "code",
   "execution_count": 2,
   "metadata": {},
   "outputs": [
    {
     "name": "stdout",
     "output_type": "stream",
     "text": [
      "Sent 5 lines (104 bytes) to config.txt.\n"
     ]
    }
   ],
   "source": [
    "%sendtofile config.txt\n",
    "\n",
    "wifiname     BV6000\n",
    "wifipassword bubblino\n",
    "mqttbroker   192.168.43.1\n",
    "pinled       2\n",
    "boardname    esp8266B"
   ]
  },
  {
   "cell_type": "code",
   "execution_count": null,
   "metadata": {},
   "outputs": [],
   "source": [
    "%sendtofile config.txt\n",
    "\n",
    "wifiname     DoESLiverpool\n",
    "wifipassword decafbad00\n",
    "mqttbroker   10.0.30.194\n",
    "pinled       2\n",
    "boardname    esp8266LOLIN"
   ]
  },
  {
   "cell_type": "code",
   "execution_count": null,
   "metadata": {},
   "outputs": [],
   "source": [
    "# we can move some of these state functions into another file"
   ]
  },
  {
   "cell_type": "code",
   "execution_count": 18,
   "metadata": {},
   "outputs": [
    {
     "name": "stdout",
     "output_type": "stream",
     "text": [
      "Sent 119 lines (3789 bytes) to main.py.\n"
     ]
    }
   ],
   "source": [
    "%sendtofile main.py\n",
    "\n",
    "# SI7021 humidity and dallas string\n",
    "import time, network, machine, ubinascii, esp\n",
    "\n",
    "fconfig = dict(x.split()  for x in open(\"config.txt\"))\n",
    "\n",
    "pled = machine.Pin(int(fconfig[\"pinled\"]), machine.Pin.OUT)\n",
    "plight = machine.ADC(0)\n",
    "\n",
    "si = network.WLAN()\n",
    "si.active(True)\n",
    "si.connect(fconfig[\"wifiname\"], fconfig[\"wifipassword\"])\n",
    "while not si.isconnected():\n",
    "    time.sleep_ms(500)\n",
    "ipnumber = si.ifconfig()[0]\n",
    "print(ipnumber)\n",
    "for i in range(10):\n",
    "    pled.value(i%2)\n",
    "    time.sleep_ms(100)\n",
    "\n",
    "from umqtt.robust import MQTTClient\n",
    "client = MQTTClient(fconfig[\"boardname\"], fconfig[\"mqttbroker\"])\n",
    "client.connect()\n",
    "topicip = fconfig[\"boardname\"]+\"/ip\"\n",
    "topicmac = fconfig[\"boardname\"]+\"/mac\"\n",
    "topicfreemem = fconfig[\"boardname\"]+\"/freemem\"\n",
    "macaddress = ubinascii.hexlify(si.config('mac'),':').decode().upper()\n",
    "\n",
    "for i in range(10):\n",
    "    pled.value(i%2)\n",
    "    time.sleep_ms(50)\n",
    "\n",
    "# dallas string sensor code; G=Orange, D8=Yellow, 3V3=Blue\n",
    "import onewire, ds18x20\n",
    "pindallas = machine.Pin(13, machine.Pin.OUT, machine.Pin.PULL_UP)\n",
    "dallasobj = 5 # tries\n",
    "dallasscanned = [ ]\n",
    "topicds = [ ]\n",
    "def dallasinitconvert():\n",
    "    global dallasobj, dallasscanned\n",
    "    if isinstance(dallasobj, int):\n",
    "        try:\n",
    "            dallasobj = ds18x20.DS18X20(onewire.OneWire(pindallas))\n",
    "        except onewire.OneWireError as e:\n",
    "            dallasobj -= 1\n",
    "            return []\n",
    "        dallasscanned = dallasobj.scan()\n",
    "        print(\"dallasscanned\", dallasscanned)\n",
    "        if dallasscanned:\n",
    "            sdallasqorder = {347:0, 376:1, 448:2, 475:3, 576:4, 311:5, 406:6, 157:7}\n",
    "            dallasscanned.sort(key=lambda X: sdallasqorder.get(sum(X), 0))\n",
    "            print(\"DS18B20 n=%d\"%len(dallasscanned))\n",
    "            topicds.extend([ fconfig[\"boardname\"]+\"/DS18B20/\"+str(i)  for i in range(len(dallasscanned)) ])\n",
    "    if dallasscanned:\n",
    "        dallasobj.convert_temp()\n",
    "\n",
    "# SI7021 humidity sensor code\n",
    "i2c = machine.I2C(scl=machine.Pin(4), sda=machine.Pin(5))\n",
    "bsi7021init = False\n",
    "def SI7021humiditytemp():\n",
    "    global bsi7021init\n",
    "    if not bsi7021init:\n",
    "        i2c.writeto(0x40, b'\\xFE')\n",
    "        time.sleep_ms(20)\n",
    "        bsi7021init = True\n",
    "    i2c.writeto(0x40, b'\\xE5')\n",
    "    time.sleep_ms(20)   # give it time to take a reading or it fails\n",
    "    bh = i2c.readfrom(0x40, 2)\n",
    "    bt = i2c.readfrom_mem(0x40, 0xE0, 2)\n",
    "    rh = (bh[0]<<8)+(bh[1]&0xFC)\n",
    "    rt = (bt[0]<<8)+(bt[1]&0xFC)\n",
    "    return ((125.0*rh)/65536)-6, ((175.25*rt)/65536)-46.85 \n",
    "\n",
    "topichumid = fconfig[\"boardname\"]+\"/SI7021/humid\"\n",
    "topictemp = fconfig[\"boardname\"]+\"/SI7021/temp\"\n",
    "topicldr = fconfig[\"boardname\"]+\"/LDR\"\n",
    "\n",
    "tdallasconverttime = 0\n",
    "t0 = time.ticks_ms()\n",
    "plightv0 = 0\n",
    "tipnumbernext = 0\n",
    "while True:\n",
    "    t = time.ticks_ms()\n",
    "    if t > tipnumbernext:\n",
    "        client.publish(topicip, ipnumber, retain=True, qos=1)\n",
    "        client.publish(topicmac, macaddress, retain=True, qos=1)\n",
    "        client.publish(topicfreemem, \"%d\" % esp.freemem(), retain=True, qos=1)\n",
    "        tipnumbernext = t + 60000\n",
    "    \n",
    "    plightv = plight.read()\n",
    "    if abs(plightv - plightv0) > 45:\n",
    "        client.publish(topicldr, \"%d\"%plightv)\n",
    "        plightv0 = plightv\n",
    "        \n",
    "    if dallasobj and dallasscanned and tdallasconverttime and t > tdallasconverttime + 800:\n",
    "        ds = [ dallasobj.read_temp(d)  for d in dallasscanned ]\n",
    "        print(ds)\n",
    "        for i, t in enumerate(ds):\n",
    "            if t != 85.0:\n",
    "                client.publish(topicds[i], \"%f\"%t)\n",
    "        tdallasconverttime = 0\n",
    "    \n",
    "    if t < t0 + 1000:\n",
    "        time.sleep_ms(10)\n",
    "        continue\n",
    "        \n",
    "    pled.value(0)\n",
    "    try:\n",
    "        humid, temp = SI7021humiditytemp()\n",
    "        print(humid, temp)\n",
    "        client.publish(topichumid, \"%f\"%humid)\n",
    "        client.publish(topictemp, \"%f\"%temp)\n",
    "    except OSError as e:\n",
    "        print(e)\n",
    "    pled.value(1)\n",
    "    \n",
    "    if dallasobj and t > tdallasconverttime + 800:\n",
    "        dallasinitconvert()\n",
    "        tdallasconverttime = t\n",
    "    t0 = t\n",
    "    "
   ]
  },
  {
   "cell_type": "code",
   "execution_count": 39,
   "metadata": {},
   "outputs": [
    {
     "name": "stdout",
     "output_type": "stream",
     "text": [
      "serial exception on close write failed: [Errno 5] Input/output error\n",
      "\u001b[34mConnecting to --port=/dev/ttyUSB8 --baud=115200 \u001b[0m\n",
      "\u001b[34mReady.\n",
      "\u001b[0m"
     ]
    }
   ],
   "source": [
    "%serialconnect"
   ]
  },
  {
   "cell_type": "code",
   "execution_count": 40,
   "metadata": {},
   "outputs": [
    {
     "name": "stdout",
     "output_type": "stream",
     "text": [
      "Sent 5 lines (104 bytes) to config.txt.\n"
     ]
    }
   ],
   "source": [
    "%sendtofile config.txt\n",
    "\n",
    "wifiname     BV6000\n",
    "wifipassword bubblino\n",
    "mqttbroker   192.168.43.1\n",
    "pinled       2\n",
    "boardname    esp8266C"
   ]
  },
  {
   "cell_type": "code",
   "execution_count": 20,
   "metadata": {},
   "outputs": [
    {
     "name": "stdout",
     "output_type": "stream",
     "text": [
      "Sent 43 lines (1090 bytes) to SHT31D_funcs.py.\n"
     ]
    }
   ],
   "source": [
    "%sendtofile --source BME280_funcs.py\n",
    "%sendtofile --source SHT31D_funcs.py"
   ]
  },
  {
   "cell_type": "code",
   "execution_count": 32,
   "metadata": {},
   "outputs": [],
   "source": [
    "# BME280 humidity sensor code\n",
    "\n",
    "import machine\n",
    "i2c = machine.I2C(scl=machine.Pin(4), sda=machine.Pin(5))\n",
    "from BME280_funcs import bme280init, readBME280    #77\n",
    "from SHT31D_funcs import SHT31Dsetup, readSHT31D   #44\n",
    "\n"
   ]
  },
  {
   "cell_type": "code",
   "execution_count": 28,
   "metadata": {},
   "outputs": [],
   "source": [
    "bme280init(i2c)   #77"
   ]
  },
  {
   "cell_type": "code",
   "execution_count": 29,
   "metadata": {},
   "outputs": [
    {
     "name": "stdout",
     "output_type": "stream",
     "text": [
      "(18.72, 99949.8, 59.0049)\r\n"
     ]
    }
   ],
   "source": [
    "print(readBME280())"
   ]
  },
  {
   "cell_type": "code",
   "execution_count": 23,
   "metadata": {},
   "outputs": [
    {
     "name": "stdout",
     "output_type": "stream",
     "text": [
      "[68, 119]\r\n"
     ]
    }
   ],
   "source": [
    "print(i2c.scan())"
   ]
  },
  {
   "cell_type": "code",
   "execution_count": 33,
   "metadata": {},
   "outputs": [
    {
     "name": "stdout",
     "output_type": "stream",
     "text": [
      "b'\\x80\\x10\\xe1' 0xe1\n",
      "b'\\x80pZ' 0x5a\n"
     ]
    }
   ],
   "source": [
    "SHT31Dsetup(i2c)\n"
   ]
  },
  {
   "cell_type": "code",
   "execution_count": 34,
   "metadata": {},
   "outputs": [
    {
     "name": "stdout",
     "output_type": "stream",
     "text": [
      "(20.156, 63.1189)\r\n"
     ]
    }
   ],
   "source": [
    "print(readSHT31D())"
   ]
  },
  {
   "cell_type": "code",
   "execution_count": 42,
   "metadata": {},
   "outputs": [
    {
     "name": "stdout",
     "output_type": "stream",
     "text": [
      "\u001b[34m** WebSocket connected **\n",
      "\u001b[0mPassword: \u001b[34mReady.\n",
      "\u001b[0m"
     ]
    }
   ],
   "source": [
    "%websocketconnect --password wpass"
   ]
  },
  {
   "cell_type": "code",
   "execution_count": 13,
   "metadata": {},
   "outputs": [
    {
     "name": "stdout",
     "output_type": "stream",
     "text": [
      "serial exception on close write failed: [Errno 5] Input/output error\n",
      "\u001b[34mConnecting to --port=/dev/ttyUSB3 --baud=115200 \u001b[0m\n",
      "\u001b[34mReady.\n",
      "\u001b[0m"
     ]
    }
   ],
   "source": [
    "%serialconnect"
   ]
  },
  {
   "cell_type": "code",
   "execution_count": 14,
   "metadata": {},
   "outputs": [
    {
     "name": "stdout",
     "output_type": "stream",
     "text": [
      "Sent 129 lines (3556 bytes) to main.py.\n"
     ]
    }
   ],
   "source": [
    "%sendtofile main.py\n",
    "\n",
    "# SI7021 humidity and dallas string\n",
    "import time, network, machine, ubinascii, esp\n",
    "\n",
    "fconfig = dict(x.split()  for x in open(\"config.txt\"))\n",
    "\n",
    "pled = machine.Pin(int(fconfig[\"pinled\"]), machine.Pin.OUT)\n",
    "plight = machine.ADC(0)\n",
    "\n",
    "si = network.WLAN()\n",
    "si.active(True)\n",
    "si.connect(fconfig[\"wifiname\"], fconfig[\"wifipassword\"])\n",
    "while not si.isconnected():\n",
    "    time.sleep_ms(500)\n",
    "ipnumber = si.ifconfig()[0]\n",
    "print(ipnumber)\n",
    "for i in range(10):\n",
    "    pled.value(i%2)\n",
    "    time.sleep_ms(100)\n",
    "\n",
    "print(\"mqtt connecting to\", fconfig[\"boardname\"], fconfig[\"mqttbroker\"])\n",
    "from umqtt.robust import MQTTClient\n",
    "client = MQTTClient(fconfig[\"boardname\"], fconfig[\"mqttbroker\"])\n",
    "client.connect()\n",
    "topicip = fconfig[\"boardname\"]+\"/ip\"\n",
    "topicmac = fconfig[\"boardname\"]+\"/mac\"\n",
    "topicfreemem = fconfig[\"boardname\"]+\"/freemem\"\n",
    "macaddress = ubinascii.hexlify(si.config('mac'),':').decode().upper()\n",
    "\n",
    "for i in range(10):\n",
    "    pled.value(i%2)\n",
    "    time.sleep_ms(50)\n",
    "\n",
    "\n",
    "# SI7021 humidity sensor code\n",
    "i2c = machine.I2C(scl=machine.Pin(4), sda=machine.Pin(5))\n",
    "addrs = i2c.scan()\n",
    "\n",
    "from BME280_funcs import bme280init, readBME280    #77\n",
    "from SHT31D_funcs import SHT31Dsetup, readSHT31D   #44\n",
    "\n",
    "if 0x77 in addrs:\n",
    "    bme280init(i2c)\n",
    "else:\n",
    "    readBME280 = None\n",
    "\n",
    "if 0x44 in addrs:\n",
    "    SHT31Dsetup(i2c)\n",
    "else:\n",
    "    readSHT31D = None\n",
    "\n",
    "\n",
    "topicBMEtemp = fconfig[\"boardname\"]+\"/BME280/temp\"\n",
    "topicBMEbaro = fconfig[\"boardname\"]+\"/BME280/baro\"\n",
    "topicBMEhumid = fconfig[\"boardname\"]+\"/BME280/humid\"\n",
    "topicSHTtemp = fconfig[\"boardname\"]+\"/SHT31D/temp\"\n",
    "topicSHThumid = fconfig[\"boardname\"]+\"/SHT31D/humid\"\n",
    "topicflashled = fconfig[\"boardname\"]+\"/flashled\"\n",
    "\n",
    "tdallasconverttime = 0\n",
    "t0 = time.ticks_ms()\n",
    "plightv0 = 0\n",
    "\n",
    "mqttreceived = []\n",
    "def mqttcallback(topic, msg):\n",
    "    print((topic, msg))\n",
    "    while len(mqttreceived) >= 2:\n",
    "        mqttreceived.pop(0)\n",
    "    mqttreceived.append((topic, msg))\n",
    "\n",
    "client.set_callback(mqttcallback)\n",
    "client.subscribe(topicflashled)\n",
    "print(\"Subscribing to\", topicflashled)\n",
    "\n",
    "tipnumbernext = 0\n",
    "treadBME280next = 0\n",
    "treadSHT31Dnext = 0\n",
    "\n",
    "while True:\n",
    "    time.sleep_ms(10)\n",
    "    t = time.ticks_ms()\n",
    "    client.check_msg()\n",
    "    \n",
    "    while mqttreceived:\n",
    "        try:\n",
    "            flashes = max(1, min(9, int(mqttreceived.pop(0)[1])))\n",
    "        except Exception as e:\n",
    "            print(e)\n",
    "            flashes = 9\n",
    "        for i in range(flashes):\n",
    "            pled.value(0)\n",
    "            time.sleep_ms(5)\n",
    "            pled.value(1)\n",
    "            time.sleep_ms(50)\n",
    "        \n",
    "    \n",
    "    if tipnumbernext < t:\n",
    "        client.publish(topicip, ipnumber, retain=True, qos=1)\n",
    "        client.publish(topicmac, macaddress, retain=True, qos=1)\n",
    "        client.publish(topicfreemem, \"%d\" % esp.freemem(), retain=True, qos=1)\n",
    "        tipnumbernext = t + 60000\n",
    "    \n",
    "    if treadBME280next < t:\n",
    "        pled.value(0)\n",
    "        try:\n",
    "            if readBME280 is not None:\n",
    "                temp, baro, humid = readBME280()\n",
    "                print(temp, baro, humid)\n",
    "                client.publish(topicBMEtemp, \"%f\"%temp)\n",
    "                client.publish(topicBMEbaro, \"%f\"%baro)\n",
    "                client.publish(topicBMEhumid, \"%f\"%humid)\n",
    "        except OSError as e:\n",
    "            print(e)\n",
    "        treadBME280next = t + 3000\n",
    "        pled.value(1)\n",
    "\n",
    "    if treadSHT31Dnext < t:\n",
    "        pled.value(0)\n",
    "        try:\n",
    "            if readSHT31D is not None:\n",
    "                temp, humid = readSHT31D()\n",
    "                print(temp, humid)\n",
    "                client.publish(topicSHTtemp, \"%f\"%temp)\n",
    "                client.publish(topicSHThumid, \"%f\"%humid)\n",
    "        except OSError as e:\n",
    "            print(e)\n",
    "        pled.value(1)\n",
    "        treadSHT31Dnext = t + 3030\n",
    "    \n",
    "\n"
   ]
  },
  {
   "cell_type": "code",
   "execution_count": null,
   "metadata": {},
   "outputs": [],
   "source": []
  }
 ],
 "metadata": {
  "kernelspec": {
   "display_name": "MicroPython - USB",
   "language": "micropython",
   "name": "micropython"
  },
  "language_info": {
   "codemirror_mode": "python",
   "file_extension": ".py",
   "mimetype": "text/python",
   "name": "micropython"
  }
 },
 "nbformat": 4,
 "nbformat_minor": 2
}

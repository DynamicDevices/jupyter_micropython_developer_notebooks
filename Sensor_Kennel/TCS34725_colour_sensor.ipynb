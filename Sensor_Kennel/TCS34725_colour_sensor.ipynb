{
 "cells": [
  {
   "cell_type": "code",
   "execution_count": 109,
   "metadata": {},
   "outputs": [
    {
     "name": "stdout",
     "output_type": "stream",
     "text": [
      "\u001b[34mConnecting to --port=/dev/ttyUSB1 --baud=115200 \u001b[0m\n",
      "\u001b[34mReady.\n",
      "\u001b[0m"
     ]
    }
   ],
   "source": [
    "%serialconnect"
   ]
  },
  {
   "cell_type": "code",
   "execution_count": 110,
   "metadata": {},
   "outputs": [
    {
     "name": "stdout",
     "output_type": "stream",
     "text": [
      "['0x29']\n",
      "chipid 0x44\n"
     ]
    }
   ],
   "source": [
    "from machine import Pin, I2C\n",
    "\n",
    "i2c = I2C(scl=Pin(15), sda=Pin(4), freq=450000)\n",
    "print(list(map(hex, i2c.scan())))\n",
    "i2c.writeto_mem(0x29, 0x80, b'\\x03')\n",
    "print(\"chipid\", hex(i2c.readfrom_mem(0x29, 0x92, 1)[0]))\n",
    "\n",
    "i2c.writeto_mem(0x29, 0x8F, b'\\x00')  # gain of 1x\n",
    "i2c.writeto_mem(0x29, 0x81, b'\\x00')  # integration time 700ms\n",
    "\n",
    "i2c.writeto_mem(0x29, 0x8F, b'\\x01')  # gain of 2x\n",
    "i2c.writeto_mem(0x29, 0x81, b'\\xC0')  # integration time 154ms\n",
    "\n",
    "i2c.writeto_mem(0x29, 0x8F, b'\\x02')  # gain of 4x\n",
    "i2c.writeto_mem(0x29, 0x81, b'\\xEB')  # integration time 50ms\n"
   ]
  },
  {
   "cell_type": "code",
   "execution_count": 2,
   "metadata": {},
   "outputs": [
    {
     "name": "stdout",
     "output_type": "stream",
     "text": [
      "\u001b[34mConnecting to --port=/dev/ttyUSB0 --baud=115200 \u001b[0m\n",
      "\u001b[34mReady.\n",
      "\u001b[0m"
     ]
    }
   ],
   "source": [
    "%serialconnect"
   ]
  },
  {
   "cell_type": "code",
   "execution_count": 3,
   "metadata": {},
   "outputs": [
    {
     "name": "stdout",
     "output_type": "stream",
     "text": [
      "b'\\xc6\\x07\\xcb\\x01\\xda\\x02\\xb9\\x02'\r\n"
     ]
    }
   ],
   "source": [
    "x = i2c.readfrom_mem(0x29, 0x94, 8)\n",
    "print(x)"
   ]
  },
  {
   "cell_type": "code",
   "execution_count": 4,
   "metadata": {},
   "outputs": [
    {
     "name": "stdout",
     "output_type": "stream",
     "text": [
      "1990\r\n"
     ]
    }
   ],
   "source": [
    "print(x[0] + x[1]*256)"
   ]
  },
  {
   "cell_type": "code",
   "execution_count": 111,
   "metadata": {},
   "outputs": [
    {
     "name": "stdout",
     "output_type": "stream",
     "text": [
      "0 (334, 98, 116, 102)\n",
      "1002 (387, 110, 139, 129)\n",
      "2002 (386, 109, 139, 129)\n",
      "3003 (385, 109, 139, 129)\n",
      "4004 (385, 109, 138, 129)\n",
      "5005 (385, 109, 138, 129)\n",
      "6006 (385, 109, 139, 129)\n",
      "7006 (386, 109, 139, 129)\n",
      "8007 (384, 109, 138, 129)\n",
      "9008 (386, 109, 139, 129)\n",
      ".10009 (386, 109, 139, 129)\n",
      "11009 (385, 109, 138, 129)\n",
      "12010 (384, 109, 138, 128)\n",
      "13011 (326, 95, 114, 100)\n",
      "14012 (331, 97, 115, 101)\n",
      "15012 (331, 97, 115, 101)\n",
      "16013 (331, 97, 115, 101)\n",
      "17014 (329, 96, 114, 101)\n",
      "18015 (328, 96, 114, 100)\n",
      "19015 (329, 96, 114, 101)\n",
      "."
     ]
    }
   ],
   "source": [
    "import struct, time\n",
    "t0 = time.ticks_ms()\n",
    "for i in range(20):\n",
    "    print(time.ticks_ms() - t0, struct.unpack(\"<HHHH\", i2c.readfrom_mem(0x29, 0x94, 8)))\n",
    "    time.sleep(1)"
   ]
  },
  {
   "cell_type": "code",
   "execution_count": null,
   "metadata": {},
   "outputs": [],
   "source": [
    "# As an async project to send colours to MQTT"
   ]
  },
  {
   "cell_type": "code",
   "execution_count": 158,
   "metadata": {},
   "outputs": [
    {
     "name": "stdout",
     "output_type": "stream",
     "text": [
      "\u001b[34mConnecting to --port=/dev/ttyUSB2 --baud=115200 \u001b[0m\n",
      "\u001b[34mReady.\n",
      "\u001b[0m"
     ]
    }
   ],
   "source": [
    "%serialconnect"
   ]
  },
  {
   "cell_type": "code",
   "execution_count": 156,
   "metadata": {},
   "outputs": [
    {
     "name": "stdout",
     "output_type": "stream",
     "text": [
      "Sent 5 lines (115 bytes) to config.txt.\n"
     ]
    }
   ],
   "source": [
    "%sendtofile config.txt\n",
    "\n",
    "wifiname     DoESLiverpool\n",
    "wifipassword decafbad00\n",
    "mqttbroker   10.0.100.1\n",
    "pinled       2\n",
    "boardname    esp32colours"
   ]
  },
  {
   "cell_type": "code",
   "execution_count": null,
   "metadata": {},
   "outputs": [
    {
     "name": "stdout",
     "output_type": "stream",
     "text": [
      "['0x29']\n",
      "hi there 1\n",
      "hi there\n",
      "chipid 0x44\n",
      "0 0 0 0\n",
      "0 0 0 0\n",
      "0 0 0 0\n",
      "0 0 0 0\n",
      "0 0 0 0\n",
      "0 0 0 0\n",
      "7659 1966 2707 2532\n",
      "631 162 223 209\n",
      "630 162 223 208\n",
      "633 162 224 209\n",
      "632 162 223 209\n",
      "630 162 223 208\n",
      "632 162 224 209\n",
      "633 162 224 209\n",
      "630 162 223 208\n",
      "631 162 223 209\n",
      "633 162 224 209\n",
      "631 162 223 208\n",
      "631 162 223 209\n",
      "633 162 224 209\n",
      "632 162 223 209\n",
      "630 162 223 208\n",
      "633 162 224 209\n",
      "632 162 223 209\n",
      "630 162 223 208\n",
      "632 162 223 209\n",
      "633 162 224 209\n",
      "630 162 223 208\n",
      "632 162 223 209\n",
      "633 162 224 209\n",
      "631 162 223 209\n",
      "631 162 223 209\n",
      "631 162 223 209\n",
      "633 162 224 209\n",
      "632 162 223 209\n",
      "630 162 223 208\n",
      "633 162 224 209\n",
      "633 162 224 209\n",
      "630 162 223 208\n",
      "632 162 223 209\n",
      "633 162 224 209\n",
      "630 162 223 208\n",
      "631 162 223 209\n",
      "633 162 224 209\n",
      "631 162 223 208\n",
      "631 162 223 208\n",
      "633 162 224 209\n",
      "connecting to: DoESLiverpool\n",
      "632 162 223 209\n",
      "630 162 223 208\n",
      "632 162 223 209\n",
      "632 162 223 209\n",
      "630 162 223 208\n",
      "632 162 223 209\n",
      "631 162 223 209\n",
      "628 161 222 208\n",
      "629 161 222 208\n",
      "631 162 223 208\n",
      "624 161 221 206\n",
      "605 157 213 199\n",
      "584 154 205 190\n",
      "499 133 172 160\n",
      "312 89 108 95\n",
      "174 51 60 50\n",
      "24 12 7 5\n",
      "10 6 3 2\n",
      "8 5 2 2\n",
      "9 5 2 2\n",
      "10 6 3 2\n",
      "10 6 3 2\n",
      "11 6 3 3\n",
      "12 7 3 3\n",
      "12 7 3 3\n",
      "13 7 4 3\n",
      "14 8 4 3\n",
      "16 8 5 4\n",
      "17 9 5 4\n",
      "28 14 9 7\n",
      "241 69 84 71\n",
      "504 136 175 162\n",
      "589 155 207 191\n",
      "598 156 211 195\n",
      "614 159 217 201\n",
      "628 162 222 206\n",
      "628 163 222 206\n",
      "629 163 223 207\n",
      "631 163 223 207\n",
      "629 163 223 207\n",
      "627 162 222 206\n",
      "629 162 223 207\n",
      "629 162 223 207\n",
      "627 162 222 206\n",
      "629 163 223 207\n",
      "630 163 223 207\n",
      "628 162 222 206\n",
      "628 162 222 207\n",
      "630 163 223 207\n",
      "628 162 222 207\n",
      "628 162 222 207\n",
      "627 162 222 206\n",
      "629 162 223 207\n",
      "617 159 218 203\n",
      "572 148 201 186\n",
      "588 154 206 190\n",
      "611 160 215 198\n",
      "613 161 216 199\n",
      "615 161 216 199\n",
      "616 161 216 200\n",
      "615 161 216 199\n",
      "615 161 216 200\n",
      "617 162 217 200\n",
      "617 162 217 200\n",
      "616 161 216 200\n",
      "618 162 217 201\n",
      "ipnumber 10.0.36.254\n",
      ".617 162 217 201\n",
      "617 162 217 200\n",
      "616 161 217 200\n",
      "616 162 217 200\n",
      "617 162 217 200\n",
      "616 161 217 200\n",
      "617 162 217 201\n",
      "618 163 217 200\n",
      "617 163 217 200\n",
      "616 163 216 200\n",
      "617 163 217 200\n",
      "617 163 217 200\n",
      "617 163 217 200\n",
      "617 163 217 200\n",
      "618 163 217 200\n",
      "618 163 217 200\n",
      "620 164 218 201\n",
      "620 164 218 201\n",
      "620 164 218 201\n",
      "620 164 218 201\n",
      "620 164 218 201\n",
      "620 164 218 201\n",
      "618 163 217 200\n",
      "618 163 217 200\n",
      "619 163 217 201\n",
      "619 163 218 201\n",
      "620 164 218 201\n",
      "620 164 218 201\n",
      "621 164 218 201\n",
      "620 164 218 201\n",
      "619 163 218 201\n",
      "620 163 218 201\n",
      "619 163 218 201\n",
      "620 162 218 202\n",
      "618 162 217 201\n",
      "617 161 217 201\n",
      "617 161 217 200\n",
      "615 161 217 200\n",
      "621 163 219 202\n",
      "619 163 217 201\n",
      "620 163 218 201\n",
      "620 163 217 201\n",
      "618 163 217 200\n",
      "618 163 217 201\n",
      "618 163 217 201\n",
      "617 163 217 200\n",
      "617 162 217 200\n",
      "617 162 217 200\n",
      "619 163 218 201\n",
      "619 163 218 201\n",
      "619 163 218 201\n",
      "619 163 218 201\n",
      "620 164 218 201\n",
      "619 163 218 201\n"
     ]
    }
   ],
   "source": [
    "#%sendtofile main.py\n",
    "\n",
    "import time, struct\n",
    "from machine import Pin, I2C\n",
    "from mqtt_as import config, MQTTClient\n",
    "import uasyncio as asyncio\n",
    "\n",
    "fconfig = dict(x.split()  for x in open(\"config.txt\"))\n",
    "pinled = Pin(int(fconfig[\"pinled\"]), Pin.OUT)\n",
    "for i in range(10):\n",
    "    pinled.value(i%2)\n",
    "    time.sleep_ms(300)\n",
    "    \n",
    "from machine import Pin, I2C\n",
    "i2c = I2C(scl=Pin(15), sda=Pin(4), freq=45000)\n",
    "print(list(map(hex, i2c.scan())))\n",
    "\n",
    "config['server'] = fconfig[\"mqttbroker\"]\n",
    "config['ssid'] = fconfig[\"wifiname\"]\n",
    "config['wifi_pw'] = fconfig[\"wifipassword\"]\n",
    "config['mqttchannel'] = fconfig[\"boardname\"]\n",
    "boardname = fconfig[\"boardname\"].encode()    \n",
    "\n",
    "topiccrgb = boardname+b'/crgb'\n",
    "client = None\n",
    "\n",
    "async def TCS34725task():\n",
    "    i2c.writeto_mem(0x29, 0x80, b'\\x03')\n",
    "    print(\"chipid\", hex(i2c.readfrom_mem(0x29, 0x92, 1)[0]))\n",
    "\n",
    "    i2c.writeto_mem(0x29, 0x8F, b'\\x00')  # gain of 1x\n",
    "    i2c.writeto_mem(0x29, 0x81, b'\\x00')  # integration time 700ms\n",
    "\n",
    "    i2c.writeto_mem(0x29, 0x8F, b'\\x01')  # gain of 2x\n",
    "    i2c.writeto_mem(0x29, 0x81, b'\\xC0')  # integration time 154ms\n",
    "\n",
    "    i2c.writeto_mem(0x29, 0x8F, b'\\x02')  # gain of 4x\n",
    "    i2c.writeto_mem(0x29, 0x81, b'\\xEB')  # integration time 50ms\n",
    "\n",
    "    i = 0\n",
    "    while True:\n",
    "        i += 1\n",
    "        c,r,g,b = struct.unpack(\"<HHHH\", i2c.readfrom_mem(0x29, 0x94, 8))\n",
    "        v = \"%d %d %d %d\"%(c,r,g,b)\n",
    "        print(v)\n",
    "        if client and client.isconnected():\n",
    "            await client.publish(topiccrgb, v)\n",
    "            pinled.value(i%2)\n",
    "        else:\n",
    "            pinled.value((i//20)%2)\n",
    "        await asyncio.sleep_ms(100)\n",
    "\n",
    "async def onconnecttask(client):\n",
    "    ipnumber = client._sta_if.ifconfig()[0]\n",
    "    print(\"ipnumber\", ipnumber)\n",
    "    await client.publish(boardname+'/ip', ipnumber, retain=True)\n",
    "    \n",
    "async def mqtttask(bflip=False):\n",
    "    await asyncio.sleep_ms(5000)\n",
    "    if bflip and \"wifialt\" in fconfig:\n",
    "        assid, awifi_pw, aserver = fconfig[\"wifialt\"].split(\",\")\n",
    "        if client._ssid == assid:\n",
    "            assid, awifi_pw, aserver = fconfig[\"wifiname\"], fconfig[\"wifipassword\"], fconfig[\"mqttbroker\"]\n",
    "        client._ssid, client._wifi_pw, client.server = assid, awifi_pw, aserver\n",
    "    try:\n",
    "        print(\"connecting to:\", client._ssid)\n",
    "        await client.connect()\n",
    "        return\n",
    "    except OSError as e:\n",
    "        print(\"client connect\", [e])\n",
    "    aloop.create_task(mqtttask(True))\n",
    "\n",
    "print(\"hi there\",1)\n",
    "time.sleep(1)\n",
    "config['connect_coro'] = onconnecttask\n",
    "client = MQTTClient(config)\n",
    "    \n",
    "print(\"hi there\")\n",
    "aloop = asyncio.get_event_loop()\n",
    "aloop.create_task(TCS34725task())\n",
    "aloop.create_task(mqtttask())\n",
    "aloop.run_forever()\n",
    "\n"
   ]
  },
  {
   "cell_type": "code",
   "execution_count": 1,
   "metadata": {},
   "outputs": [
    {
     "name": "stdout",
     "output_type": "stream",
     "text": [
      "\u001b[34mConnecting to --port=/dev/ttyUSB1 --baud=115200 \u001b[0m\n",
      "\u001b[34mReady.\n",
      "\u001b[0m"
     ]
    }
   ],
   "source": [
    "%serialconnect"
   ]
  },
  {
   "cell_type": "code",
   "execution_count": 2,
   "metadata": {},
   "outputs": [],
   "source": [
    "from machine import Pin, I2C\n",
    "i2c = I2C(scl=Pin(15), sda=Pin(4))"
   ]
  },
  {
   "cell_type": "code",
   "execution_count": 3,
   "metadata": {},
   "outputs": [
    {
     "name": "stdout",
     "output_type": "stream",
     "text": [
      "[30]\r\n"
     ]
    }
   ],
   "source": [
    "print(i2c.scan())"
   ]
  },
  {
   "cell_type": "code",
   "execution_count": 4,
   "metadata": {},
   "outputs": [
    {
     "name": "stdout",
     "output_type": "stream",
     "text": [
      "0x1e\r\n"
     ]
    }
   ],
   "source": [
    "print(hex(30))"
   ]
  },
  {
   "cell_type": "code",
   "execution_count": 5,
   "metadata": {},
   "outputs": [],
   "source": [
    "import math\n",
    "import machine\n",
    "\n",
    "from ustruct import pack\n",
    "from array import array\n",
    "\n",
    "\n",
    "class HMC5883L:\n",
    "    __gain__ = {\n",
    "        '0.88': (0 << 5, 0.73),\n",
    "        '1.3':  (1 << 5, 0.92),\n",
    "        '1.9':  (2 << 5, 1.22),\n",
    "        '2.5':  (3 << 5, 1.52),\n",
    "        '4.0':  (4 << 5, 2.27),\n",
    "        '4.7':  (5 << 5, 2.56),\n",
    "        '5.6':  (6 << 5, 3.03),\n",
    "        '8.1':  (7 << 5, 4.35)\n",
    "    }\n",
    "\n",
    "    def __init__(self, i2c, address=30, gauss='1.3', declination=(0, 0)):\n",
    "        self.i2c = i2c\n",
    "        \n",
    "        # Initialize sensor.\n",
    "        i2c.start()\n",
    "\n",
    "        # Configuration register A:\n",
    "        #   0bx11xxxxx  -> 8 samples averaged per measurement\n",
    "        #   0bxxx100xx  -> 15 Hz, rate at which data is written to output registers\n",
    "        #   0bxxxxxx00  -> Normal measurement mode\n",
    "        i2c.writeto_mem(30, 0x00, pack('B', 0b111000))\n",
    "\n",
    "        # Configuration register B:\n",
    "        reg_value, self.gain = self.__gain__[gauss]\n",
    "        i2c.writeto_mem(30, 0x01, pack('B', reg_value))\n",
    "\n",
    "        # Set mode register to continuous mode.\n",
    "        i2c.writeto_mem(30, 0x02, pack('B', 0x00))\n",
    "        i2c.stop()\n",
    "\n",
    "        # Convert declination (tuple of degrees and minutes) to radians.\n",
    "        self.declination = (declination[0] + declination[1] / 60) * math.pi / 180\n",
    "\n",
    "        # Reserve some memory for the raw xyz measurements.\n",
    "        self.data = array('B', [0] * 6)\n",
    "\n",
    "    def read(self):\n",
    "        data = self.data\n",
    "        gain = self.gain\n",
    "\n",
    "        self.i2c.readfrom_mem_into(30, 0x03, data)\n",
    "\n",
    "        x = (data[0] << 8) | data[1]\n",
    "        z = (data[2] << 8) | data[3]\n",
    "        y = (data[4] << 8) | data[5]\n",
    "\n",
    "        x = x - (1 << 16) if x & (1 << 15) else x\n",
    "        y = y - (1 << 16) if y & (1 << 15) else y\n",
    "        z = z - (1 << 16) if z & (1 << 15) else z\n",
    "\n",
    "        x = round(x * gain, 4)\n",
    "        y = round(y * gain, 4)\n",
    "        z = round(z * gain, 4)\n",
    "\n",
    "        return x, y, z\n",
    "\n",
    "    def heading(self, x, y):\n",
    "        heading_rad = math.atan2(y, x)\n",
    "        heading_rad += self.declination\n",
    "\n",
    "        # Correct reverse heading.\n",
    "        if heading_rad < 0:\n",
    "            heading_rad += 2 * math.pi\n",
    "\n",
    "        # Compensate for wrapping.\n",
    "        elif heading_rad > 2 * math.pi:\n",
    "            heading_rad -= 2 * math.pi\n",
    "\n",
    "        # Convert from radians to degrees.\n",
    "        heading = heading_rad * 180 / math.pi\n",
    "        degrees = math.floor(heading)\n",
    "        minutes = round((heading - degrees) * 60)\n",
    "        return degrees, minutes\n",
    "\n",
    "    def format_result(self, x, y, z):\n",
    "        degrees, minutes = self.heading(x, y)\n",
    "        return 'X: {:.4f}, Y: {:.4f}, Z: {:.4f}, Heading: {}° {}′ '.format(x, y, z, degrees, minutes)\n",
    "\n"
   ]
  },
  {
   "cell_type": "code",
   "execution_count": 7,
   "metadata": {},
   "outputs": [],
   "source": []
  },
  {
   "cell_type": "code",
   "execution_count": 10,
   "metadata": {},
   "outputs": [
    {
     "name": "stdout",
     "output_type": "stream",
     "text": [
      "(402.96, 274.16, -574.08)\n",
      "(611.8, 258.52, -115.0)\n",
      "(559.36, 320.16, -46.92)\n",
      "(229.08, 287.96, 186.76)\n",
      "(5.52, 270.48, 192.28)\n",
      "(-117.76, 191.36, 160.08)\n",
      "(-111.32, 185.84, 165.6)\n",
      "(-110.4, 184.92, 165.6)\n",
      "(-111.32, 182.16, 165.6)\n",
      "(-115.0, 180.32, 165.6)\n",
      "(-230.0, 237.36, 43.24)\n",
      "(-295.32, 230.92, -11.96)\n",
      "(-378.12, 449.88, 42.32)\n",
      "(129.72, 599.84, -88.32)\n"
     ]
    },
    {
     "name": "stderr",
     "output_type": "stream",
     "text": [
      "Traceback (most recent call last):\n",
      "  File \"<stdin>\", line 3, in <module>\n",
      "  File \"<stdin>\", line 30, in __init__\n",
      "OSError: [Errno 19] ENODEV\n"
     ]
    }
   ],
   "source": [
    "import time\n",
    "for i in range(50):\n",
    "    h = HMC5883L(i2c)\n",
    "    print(h.read())\n",
    "    time.sleep(0.5)"
   ]
  },
  {
   "cell_type": "code",
   "execution_count": 13,
   "metadata": {},
   "outputs": [],
   "source": [
    "i2c.writeto_mem(0x1E, 0x00, b\"\\x10\")\n",
    "i2c.writeto_mem(0x1E, 0x01, b\"\\x20\")\n",
    "i2c.writeto_mem(0x1E, 0x02, b\"\\x00\")\n"
   ]
  },
  {
   "cell_type": "code",
   "execution_count": 43,
   "metadata": {},
   "outputs": [
    {
     "name": "stdout",
     "output_type": "stream",
     "text": [
      "(-20482, 24832, -27136)\n",
      "(-21250, 24576, -26880)\n",
      "(-21250, 24576, -27136)\n",
      "(-22530, 24576, 28416)\n",
      "(-13314, -29440, 23808)\n",
      "(-25600, 21505, -3840)\n",
      "(-26623, -3584, 18689)\n",
      "(-10239, 23040, -12287)\n",
      "(-12287, 20992, -7935)\n",
      "(-15871, 23040, -7679)\n",
      "(-17919, 24832, -6911)\n",
      "(-10496, 15873, 13569)\n",
      "(-26624, 30209, 32512)\n",
      "(-12288, 30465, 2816)\n",
      "(20736, 26625, -22273)\n",
      "(25087, 8961, 4864)\n",
      "(-6146, -21760, -28160)\n",
      "(-18690, 24832, -14336)\n",
      "(-18434, 25600, -12288)\n",
      "(-18690, 25856, -10752)\n",
      "(-18690, 26112, -8960)\n",
      "(-18434, 26368, -9216)\n",
      "(-18178, 26368, -8192)\n",
      "(-18946, 25856, -8448)\n",
      "\n",
      "**[ys] <class 'serial.serialutil.SerialException'>\n",
      "**[ys] read failed: device reports readiness to read but returned no data (device disconnected or multiple access on port?)\n",
      "\n",
      "\n",
      "**[ys] <class 'serial.serialutil.SerialException'>\n",
      "**[ys] read failed: device reports readiness to read but returned no data (device disconnected or multiple access on port?)\n",
      "\n"
     ]
    }
   ],
   "source": [
    "import struct\n",
    "for i in range(50):\n",
    "    #i2c.writeto_mem(0x1E, 0x02, b\"\\x00\")\n",
    "    print(struct.unpack(\"<hhh\", i2c.readfrom_mem(0x1E, 0x03, 6)))\n",
    "    time.sleep(0.5)\n"
   ]
  },
  {
   "cell_type": "code",
   "execution_count": 41,
   "metadata": {},
   "outputs": [
    {
     "name": "stdout",
     "output_type": "stream",
     "text": [
      "b'\\x03'\r\n"
     ]
    }
   ],
   "source": [
    "print(i2c.readfrom_mem(0x1E, 0x02, 1))\n"
   ]
  },
  {
   "cell_type": "code",
   "execution_count": null,
   "metadata": {},
   "outputs": [],
   "source": []
  }
 ],
 "metadata": {
  "kernelspec": {
   "display_name": "MicroPython - USB",
   "language": "micropython",
   "name": "micropython"
  },
  "language_info": {
   "codemirror_mode": "python",
   "file_extension": ".py",
   "mimetype": "text/python",
   "name": "micropython"
  }
 },
 "nbformat": 4,
 "nbformat_minor": 2
}

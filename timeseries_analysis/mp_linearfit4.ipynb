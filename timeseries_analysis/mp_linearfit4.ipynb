{
 "cells": [
  {
   "cell_type": "code",
   "execution_count": 9,
   "metadata": {},
   "outputs": [
    {
     "name": "stdout",
     "output_type": "stream",
     "text": [
      "\u001b[34mConnecting to Serial /dev/ttyUSB1 baud=115200 \u001b[0m\n",
      "\u001b[34mReady.\n",
      "\u001b[0m"
     ]
    }
   ],
   "source": [
    "%serialconnect"
   ]
  },
  {
   "cell_type": "code",
   "execution_count": 1,
   "metadata": {},
   "outputs": [
    {
     "name": "stdout",
     "output_type": "stream",
     "text": [
      "\u001b[32mWriting lsq_funcs.py\n",
      "\n",
      "\u001b[0m"
     ]
    }
   ],
   "source": [
    "%%writefile lsq_funcs.py\n",
    "\n",
    "import math\n",
    "\n",
    "dx0 = const(0); dn = const(1); dSx = const(2); dSx2 = const(3); dSy = const(4); dSy2 = const(5); dSxy = const(6); \n",
    "\n",
    "# least squares terse functions (done as a list)\n",
    "# [x0, n, Sx, Sx2, Sy, Sy2, Sxy]\n",
    "def setpt0(lq, x, y):\n",
    "    lq[dx0] = x; lq[dn] = 1\n",
    "    lq[dSx] = 0; lq[dSx2] = 0 \n",
    "    lq[dSy] = y; lq[dSy2] = y**2; lq[dSxy] = 0\n",
    "\n",
    "def addpt(lq, x, y):\n",
    "    x = x - lq[0]\n",
    "    lq[dn] += 1\n",
    "    lq[dSx] += x; lq[dSx2] += x**2; \n",
    "    lq[dSy] += y; lq[dSy2] += y**2; lq[dSxy] += x*y\n",
    "\n",
    "def mergelq(lq, llq):\n",
    "    dx = llq[dx0] - lq[dx0]\n",
    "    nl = llq[dn]\n",
    "    lq[dn] += nl\n",
    "    lq[dSx] += llq[dSx] + nl*dx\n",
    "    lq[dSx2] += llq[dSx2] + 2*llq[dSx]*dx + nl*dx**2\n",
    "    lq[dSy] += llq[dSy]\n",
    "    lq[dSy2] += llq[dSy2]\n",
    "    lq[dSxy] += llq[dSxy] + llq[dSy]*dx\n",
    "\n",
    "def copylq(lq, llq):\n",
    "    for i in range(7):\n",
    "        lq[i] = llq[i]\n",
    "    \n",
    "def calcr(lq, m, c):\n",
    "    rsq = m**2*lq[dSx2] + lq[dn]*c**2 + lq[dSy2] + 2*m*c*lq[dSx] - 2*m*lq[dSxy] - 2*c*lq[dSy]\n",
    "    r = math.sqrt(rsq/lq[dn])\n",
    "    return r\n",
    "\n",
    "def calcmc(lq):\n",
    "    m = (lq[dSxy] - lq[dSx]*lq[dSy]/lq[dn])/(lq[dSx2] - lq[dSx]**2/lq[dn])\n",
    "    c = lq[dSy]/lq[dn] - m*lq[dSx]/lq[dn]\n",
    "    return m, c\n",
    "\n",
    "def calcmcL(x0, c0, lqP, lqA):\n",
    "    cf = (lqA[dSy]*x0**2 + lqP[dSx]*c0*x0 + lqP[dSx2]*c0 - lqP[dSxy]*x0)\n",
    "    mnum = (lqA[dSx]*cf - lqA[dSxy]*(lqP[dSx2] + lqA[dn]*x0**2))\n",
    "    cnum = lqA[dSx]*lqA[dSxy]*x0**2 - lqA[dSx2]*cf\n",
    "    cden = lqA[dSx]**2*x0**2 - lqA[dSx2]*(lqP[dSx2] + lqA[dn]*x0**2)\n",
    "    return mnum/cden, cnum/cden\n",
    "\n"
   ]
  },
  {
   "cell_type": "code",
   "execution_count": 3,
   "metadata": {},
   "outputs": [
    {
     "name": "stdout",
     "output_type": "stream",
     "text": [
      "object <module 'array'> is of type module\n",
      "  __name__ -- array\n",
      "  array -- <class 'array'>\n"
     ]
    }
   ],
   "source": [
    "help(array)"
   ]
  },
  {
   "cell_type": "code",
   "execution_count": 4,
   "metadata": {
    "collapsed": true
   },
   "outputs": [],
   "source": [
    "x = array.array(\"i\", range(7))\n"
   ]
  },
  {
   "cell_type": "code",
   "execution_count": 7,
   "metadata": {},
   "outputs": [
    {
     "name": "stdout",
     "output_type": "stream",
     "text": [
      "array('i', [0, 21, 2, 3, 4, 5, 6])\r\n"
     ]
    }
   ],
   "source": [
    "x[1]+= 10\n",
    "print(x)"
   ]
  },
  {
   "cell_type": "code",
   "execution_count": 8,
   "metadata": {},
   "outputs": [
    {
     "name": "stdout",
     "output_type": "stream",
     "text": [
      "\u001b[31m\n",
      "\n",
      "***Connection broken [Input/output error]\n",
      "\u001b[0mYou may need to reconnect\n",
      "\n",
      "***OSError [Input/output error]\n",
      "\n"
     ]
    }
   ],
   "source": []
  },
  {
   "cell_type": "code",
   "execution_count": null,
   "metadata": {
    "collapsed": true
   },
   "outputs": [],
   "source": []
  }
 ],
 "metadata": {
  "kernelspec": {
   "display_name": "MicroPython - USB",
   "language": "micropython",
   "name": "micropython"
  },
  "language_info": {
   "codemirror_mode": "python",
   "file_extension": ".py",
   "mimetype": "text/python",
   "name": "micropython"
  }
 },
 "nbformat": 4,
 "nbformat_minor": 2
}

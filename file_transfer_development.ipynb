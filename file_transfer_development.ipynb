{
 "cells": [
  {
   "cell_type": "code",
   "execution_count": 3,
   "metadata": {},
   "outputs": [
    {
     "name": "stdout",
     "output_type": "stream",
     "text": [
      "Executing:\n",
      "  esptool.py --port /dev/ttyUSB1 --chip esp32 write_flash -z 0x1000 /home/julian/executables/micropythonbins/esp32-20171009-v1.9.2-276-ga9517c04.bin\n",
      "\n",
      "esptool.py v2.0\n",
      "Connecting........_\n",
      "Chip is ESP32D0WDQ6 (revision 0)\n",
      "Uploading stub...\n",
      "Running stub...\n",
      "Stub running...\n",
      "Configuring flash size...\n",
      "Auto-detected Flash size: 4MB\n",
      "Compressed 902992 bytes to 567180...\n",
      "Wrote 902992 bytes (567180 compressed) at 0x00001000 in 50.8 seconds (effective 142.3 kbit/s)...\n",
      "Hash of data verified.\n",
      "\n",
      "Leaving...\n",
      "Hard resetting...\n"
     ]
    }
   ],
   "source": [
    "%esptool esp32 /home/julian/executables/micropythonbins/esp32-20171009-v1.9.2-276-ga9517c04.bin"
   ]
  },
  {
   "cell_type": "code",
   "execution_count": 11,
   "metadata": {},
   "outputs": [
    {
     "name": "stdout",
     "output_type": "stream",
     "text": [
      "-143.0\n",
      "-25.0\n"
     ]
    }
   ],
   "source": [
    "print((407000-420000)*(5287000-5276000)/1000000)\n",
    "print((409000-414000)*(5285000-5280000)/1000000)\n"
   ]
  },
  {
   "cell_type": "code",
   "execution_count": null,
   "metadata": {
    "collapsed": true
   },
   "outputs": [],
   "source": []
  },
  {
   "cell_type": "code",
   "execution_count": 15,
   "metadata": {},
   "outputs": [
    {
     "name": "stdout",
     "output_type": "stream",
     "text": [
      "Connecting to Serial /dev/ttyUSB1 baud=115200\n",
      "\u001b[32m\n",
      " ** Serial connected **\n",
      "\n",
      "\u001b[0mSerial<id=0x7fadafa99f98, open=True>(port='/dev/ttyUSB1', baudrate=115200, bytesize=8, parity='N', stopbits=1, timeout=0.5, xonxoff=False, rtscts=False, dsrdtr=False)\n",
      "normal repl mode not detected b''\n",
      "not command mode\n",
      "ets Jun  8 2016 00:22:57\n",
      "\n",
      "rst:0x1 (POWERON_RESET),boot:0x13 (SPI_FAST_FLASH_BOOT)\n",
      "configsip: 0, SPIWP:0xee\n",
      "clk_drv:0x00,q_drv:0x00,d_drv:0x00,cs0_drv:0x00,hd_drv:0x00,wp_drv:0x00\n",
      "mode:DIO, clock div:2\n",
      "load:0x3fff0010,len:4\n",
      "load:0x3fff0014,len:4268\n",
      "load:0x40078000,len:0\n",
      "load:0x40078000,len:10648\n",
      "entry 0x4007a56c\n",
      "OSError: [Errno 2] ENOENT\n",
      "MicroPython v1.9.2-276-ga9517c04 on 2017-10-09; ESP32 module with ESP32\n",
      "Type \"help()\" for more information.\n",
      ">>>[reboot detected 0]repl is in normal command mode\n",
      "[\\r\\x03\\x03] b'\\r\\n>>> \\r\\n>>> \\r\\n>>> '\n",
      "[\\r\\x01] b'\\r\\n>>> \\r\\nraw REPL; CTRL-B to exit\\r\\n>' "
     ]
    }
   ],
   "source": [
    "%serialconnect"
   ]
  },
  {
   "cell_type": "code",
   "execution_count": 2,
   "metadata": {},
   "outputs": [],
   "source": [
    "x = 99"
   ]
  },
  {
   "cell_type": "code",
   "execution_count": 3,
   "metadata": {},
   "outputs": [
    {
     "name": "stdout",
     "output_type": "stream",
     "text": [
      "99\r\n"
     ]
    }
   ],
   "source": [
    "print(x)"
   ]
  },
  {
   "cell_type": "code",
   "execution_count": 11,
   "metadata": {},
   "outputs": [
    {
     "name": "stdout",
     "output_type": "stream",
     "text": [
      "serial.write 11 bytes to /dev/ttyUSB1 at baudrate 115200"
     ]
    }
   ],
   "source": [
    "%writebytes \"print(x)\\r\\n\\x04\""
   ]
  },
  {
   "cell_type": "code",
   "execution_count": 12,
   "metadata": {},
   "outputs": [
    {
     "name": "stdout",
     "output_type": "stream",
     "text": [
      "serial.write 1 bytes to /dev/ttyUSB1 at baudrate 115200"
     ]
    }
   ],
   "source": [
    "%writebytes \"\\x02\""
   ]
  },
  {
   "cell_type": "code",
   "execution_count": 13,
   "metadata": {},
   "outputs": [
    {
     "name": "stdout",
     "output_type": "stream",
     "text": [
      "[b'']"
     ]
    }
   ],
   "source": [
    "%readbytes"
   ]
  },
  {
   "cell_type": "code",
   "execution_count": 153,
   "metadata": {},
   "outputs": [
    {
     "name": "stdout",
     "output_type": "stream",
     "text": [
      "attempt to exit past mode\n",
      "[\\r\\x03\\x02] b'\\r\\nMicroPython v1.9.2-276-ga9517c04 on 2017-10-09; ESP32 module with ESP32\\r\\nType \"help()\" for more information.\\r\\n>>> '\n",
      "Closing serial Serial<id=0x7fe5d3013a90, open=True>(port='/dev/ttyUSB1', baudrate=115200, bytesize=8, parity='N', stopbits=1, timeout=0.5, xonxoff=False, rtscts=False, dsrdtr=False)\n"
     ]
    }
   ],
   "source": [
    "%disconnect"
   ]
  },
  {
   "cell_type": "code",
   "execution_count": 152,
   "metadata": {},
   "outputs": [
    {
     "name": "stdout",
     "output_type": "stream",
     "text": [
      "Connecting to Serial /dev/ttyUSB1 baud=115200\n",
      "\u001b[32m\n",
      " ** Serial connected **\n",
      "\n",
      "\u001b[0mSerial<id=0x7fe5d3013a90, open=True>(port='/dev/ttyUSB1', baudrate=115200, bytesize=8, parity='N', stopbits=1, timeout=0.5, xonxoff=False, rtscts=False, dsrdtr=False)\n",
      "normal repl mode not detected b''\n",
      "not command mode\n",
      "ets Jun  8 2016 00:22:57\n",
      "\n",
      "rst:0x1 (POWERON_RESET),boot:0x13 (SPI_FAST_FLASH_BOOT)\n",
      "configsip: 0, SPIWP:0xee\n",
      "clk_drv:0x00,q_drv:0x00,d_drv:0x00,cs0_drv:0x00,hd_drv:0x00,wp_drv:0x00\n",
      "mode:DIO, clock div:2\n",
      "load:0x3fff0010,len:4\n",
      "load:0x3fff0014,len:4268\n",
      "load:0x40078000,len:0\n",
      "load:0x40078000,len:10648\n",
      "entry 0x4007a56c\n",
      "OSError: [Errno 2] ENOENT\n",
      "MicroPython v1.9.2-276-ga9517c04 on 2017-10-09; ESP32 module with ESP32\n",
      "Type \"help()\" for more information.\n",
      ">>>[reboot detected 0]repl is in normal command mode\n",
      "[\\r\\x03\\x03] b'\\r\\n>>> \\r\\n>>> \\r\\n>>> '\n",
      "[\\r\\x01] b'\\r\\n>>> \\r\\nraw REPL; CTRL-B to exit\\r\\n>' "
     ]
    }
   ],
   "source": [
    "%serialconnect"
   ]
  },
  {
   "cell_type": "code",
   "execution_count": 171,
   "metadata": {},
   "outputs": [
    {
     "name": "stdout",
     "output_type": "stream",
     "text": [
      "\n",
      "Closing serial Serial<id=0x7fe5d3093dd8, open=True>(port='/dev/ttyUSB1', baudrate=115200, bytesize=8, parity='N', stopbits=1, timeout=0.5, xonxoff=False, rtscts=False, dsrdtr=False)\n"
     ]
    }
   ],
   "source": [
    "%disconnect --raw"
   ]
  },
  {
   "cell_type": "code",
   "execution_count": 181,
   "metadata": {},
   "outputs": [
    {
     "name": "stdout",
     "output_type": "stream",
     "text": [
      "attempt to exit past mode\n",
      "[\\r\\x03\\x02] b''\n",
      "Closing serial Serial<id=0x7fe5cfadd7f0, open=True>(port='/dev/ttyUSB1', baudrate=115200, bytesize=8, parity='N', stopbits=1, timeout=0.5, xonxoff=False, rtscts=False, dsrdtr=False)\n",
      "Connecting to Serial /dev/ttyUSB1 baud=115200\n",
      "\u001b[32m\n",
      " ** Serial connected **\n",
      "\n",
      "\u001b[0mSerial<id=0x7fe5d3093dd8, open=True>(port='/dev/ttyUSB1', baudrate=115200, bytesize=8, parity='N', stopbits=1, timeout=0.5, xonxoff=False, rtscts=False, dsrdtr=False)\n"
     ]
    }
   ],
   "source": [
    "%serialconnect --raw"
   ]
  },
  {
   "cell_type": "code",
   "execution_count": 182,
   "metadata": {},
   "outputs": [
    {
     "name": "stdout",
     "output_type": "stream",
     "text": [
      "[leftinbuffer] ['OSError: [Errno 2] ENOENT']\n",
      "[leftinbuffer] ['MicroPython v1.9.2-276-ga9517c04 on 2017-10-09; ESP32 module with ESP32']\n",
      "[leftinbuffer] ['Type \"help()\" for more information.']\n",
      "[leftinbuffer] ['>>> ']\n",
      "serial.write 1 bytes to /dev/ttyUSB1 at baudrate 115200"
     ]
    }
   ],
   "source": [
    "%writebytes '\\r'"
   ]
  },
  {
   "cell_type": "code",
   "execution_count": 183,
   "metadata": {},
   "outputs": [
    {
     "name": "stdout",
     "output_type": "stream",
     "text": [
      "[b'\\r\\n>>> ']"
     ]
    }
   ],
   "source": [
    "%readbytes"
   ]
  },
  {
   "cell_type": "code",
   "execution_count": 140,
   "metadata": {},
   "outputs": [
    {
     "name": "stdout",
     "output_type": "stream",
     "text": [
      "serial.write 1 bytes to /dev/ttyUSB1 at baudrate 115200"
     ]
    }
   ],
   "source": [
    "%writebytes '\\r'"
   ]
  },
  {
   "cell_type": "code",
   "execution_count": 18,
   "metadata": {},
   "outputs": [
    {
     "name": "stdout",
     "output_type": "stream",
     "text": [
      "[b'']"
     ]
    }
   ],
   "source": [
    "%readbytes"
   ]
  },
  {
   "cell_type": "code",
   "execution_count": 178,
   "metadata": {},
   "outputs": [
    {
     "name": "stdout",
     "output_type": "stream",
     "text": [
      "serial.write 3 bytes to /dev/ttyUSB1 at baudrate 115200"
     ]
    }
   ],
   "source": [
    "%writebytes '1\\r\\x04'"
   ]
  },
  {
   "cell_type": "code",
   "execution_count": 179,
   "metadata": {},
   "outputs": [
    {
     "name": "stdout",
     "output_type": "stream",
     "text": [
      "[b'\\xb8\\xff']"
     ]
    }
   ],
   "source": [
    "%readbytes"
   ]
  },
  {
   "cell_type": "code",
   "execution_count": 74,
   "metadata": {},
   "outputs": [
    {
     "name": "stdout",
     "output_type": "stream",
     "text": [
      "\n",
      "[missing-OK]b\"\\xd8\\xe3#\\x03'\\xfc\".........\n",
      "\n",
      "*** Sending Ctrl-C\n",
      "\n",
      "[Timed out waiting for recognizable response]\n"
     ]
    }
   ],
   "source": [
    "b'\\xb8\\xff'.decode()"
   ]
  },
  {
   "cell_type": "code",
   "execution_count": 35,
   "metadata": {},
   "outputs": [
    {
     "name": "stdout",
     "output_type": "stream",
     "text": [
      "attempt to exit past mode\n",
      "[\\r\\x03\\x02] b''Closing serial Serial<id=0x7fadac7e43c8, open=True>(port='/dev/ttyUSB1', baudrate=115200, bytesize=8, parity='N', stopbits=1, timeout=0.5, xonxoff=False, rtscts=False, dsrdtr=False)\n"
     ]
    }
   ],
   "source": [
    "%disconnect"
   ]
  },
  {
   "cell_type": "code",
   "execution_count": 22,
   "metadata": {},
   "outputs": [
    {
     "name": "stdout",
     "output_type": "stream",
     "text": [
      "serial.write 4 bytes to /dev/ttyUSB1 at baudrate 115200"
     ]
    }
   ],
   "source": [
    "%writebytes '\\r\\n\\r\\n'"
   ]
  },
  {
   "cell_type": "code",
   "execution_count": 33,
   "metadata": {},
   "outputs": [
    {
     "name": "stdout",
     "output_type": "stream",
     "text": [
      "serial.write 1 bytes to /dev/ttyUSB1 at baudrate 115200"
     ]
    }
   ],
   "source": [
    "%writebytes '\\x02'"
   ]
  },
  {
   "cell_type": "code",
   "execution_count": 4,
   "metadata": {},
   "outputs": [
    {
     "name": "stdout",
     "output_type": "stream",
     "text": [
      "\u001b[32mWriting output to file ghgh.txt\n",
      "\n",
      "\u001b[0m"
     ]
    }
   ],
   "source": [
    "%capture ghgh.txt --QUIET\n",
    "\n",
    "import time\n",
    "for i in range(10):\n",
    "    print(i**2)\n",
    "    time.sleep(0.5)"
   ]
  },
  {
   "cell_type": "code",
   "execution_count": null,
   "metadata": {
    "collapsed": true
   },
   "outputs": [],
   "source": []
  },
  {
   "cell_type": "code",
   "execution_count": 6,
   "metadata": {},
   "outputs": [
    {
     "name": "stdout",
     "output_type": "stream",
     "text": [
      "boot.py 75\n",
      "wificodes.txt 90\n",
      "ws.html 894\n",
      "thing.py 88\n",
      "thing.txt 14\n",
      "pc_connecting_to_simple_socket.ipynb 4210\n",
      "pcmp_connect_to_webrepl.ipynb 4170\n",
      "ghgh 4170\n",
      "banner.jpg 9746\n"
     ]
    }
   ],
   "source": [
    "import os\n",
    "for f in os.listdir():\n",
    "    print(f, os.stat(f)[6])"
   ]
  },
  {
   "cell_type": "code",
   "execution_count": 8,
   "metadata": {},
   "outputs": [
    {
     "name": "stdout",
     "output_type": "stream",
     "text": [
      "9746\r\n"
     ]
    }
   ],
   "source": [
    "print(os.stat(\"banner.jpg\")[6])\n"
   ]
  },
  {
   "cell_type": "code",
   "execution_count": 3,
   "metadata": {},
   "outputs": [
    {
     "name": "stdout",
     "output_type": "stream",
     "text": [
      "Sent 235 lines (4170 bytes)."
     ]
    }
   ],
   "source": [
    "%sendtofile --source pc_connecting_to_simple_socket.ipynb\n",
    "%sendtofile --source pcmp_connect_to_webrepl.ipynb  ghgh\n"
   ]
  },
  {
   "cell_type": "code",
   "execution_count": 2,
   "metadata": {},
   "outputs": [
    {
     "name": "stdout",
     "output_type": "stream",
     "text": [
      "Sent 3 lines (14 bytes)."
     ]
    }
   ],
   "source": [
    "%sendtofile thing.txt \n",
    "\n",
    "what\n",
    "this\n",
    "goes"
   ]
  },
  {
   "cell_type": "code",
   "execution_count": 4,
   "metadata": {},
   "outputs": [
    {
     "name": "stdout",
     "output_type": "stream",
     "text": [
      "['# jupyter_micropython_developer_notebooks\\n\\nSee https://github.com/goatchurchprime/jupyter_micropython_kernel for the \\nproject that uses these notebooks\\n']\r\n"
     ]
    }
   ],
   "source": [
    "print([open(\"thing.txt\").read()])"
   ]
  },
  {
   "cell_type": "code",
   "execution_count": 5,
   "metadata": {},
   "outputs": [
    {
     "name": "stdout",
     "output_type": "stream",
     "text": [
      "Sent 9746 bytes in 325 chunks."
     ]
    }
   ],
   "source": [
    "%sendtofile --binary --source banner.jpg \n"
   ]
  },
  {
   "cell_type": "code",
   "execution_count": 10,
   "metadata": {
    "collapsed": true
   },
   "outputs": [],
   "source": [
    "OB = ubinascii.b2a_base64"
   ]
  },
  {
   "cell_type": "code",
   "execution_count": 16,
   "metadata": {},
   "outputs": [
    {
     "name": "stdout",
     "output_type": "stream",
     "text": [
      "%capture [-q] outputfilename\n",
      "    records output to a file\n",
      "\n",
      "%disconnect\n",
      "    disconnects serial\n",
      "\n",
      "%esptool [--port PORT] {erase,esp32,esp8266} [binfile]\n",
      "    commands for flashing your esp-device\n",
      "\n",
      "%lsmagic\n",
      "    list magic commands\n",
      "\n",
      "%readbytes\n",
      "    does serial.read_all()\n",
      "\n",
      "%rebootdevice\n",
      "    reboots device\n",
      "\n",
      "%sendtofile [-a] [-b] [--source [SOURCE]] [destinationfilename]\n",
      "    send cell contents or file from disk to device file\n",
      "    -a append, -b binary\n",
      "\n",
      "%serialconnect [--raw] [--port PORT] [--baud BAUD]\n",
      "    connects to a device over USB wire\n",
      "\n",
      "%socketconnect [--raw] ipnumber portnumber\n",
      "    connects to a socket of a device over wifi\n",
      "\n",
      "%suppressendcode\n",
      "    doesn't send x04 or wait to read after sending the cell\n",
      "  (assists for debugging using %writebytes and %readbytes)\n",
      "\n",
      "%websocketconnect [--raw] [--password PASSWORD] [websocketurl]\n",
      "    connects to the webREPL websocket of an ESP8266 over wifi\n",
      "    websocketurl defaults to ws://192.168.4.1:8266 but be sure to be connected\n",
      "\n",
      "%writebytes [-b] stringtosend\n",
      "    does serial.write() of the python quoted string given\n",
      "\n"
     ]
    }
   ],
   "source": [
    "%lsmagic"
   ]
  },
  {
   "cell_type": "code",
   "execution_count": 24,
   "metadata": {},
   "outputs": [
    {
     "name": "stdout",
     "output_type": "stream",
     "text": [
      "b'sdfs'\r\n"
     ]
    }
   ],
   "source": [
    "print(OB('c2Rmcw=='))\n"
   ]
  },
  {
   "cell_type": "code",
   "execution_count": 16,
   "metadata": {
    "collapsed": true
   },
   "outputs": [],
   "source": [
    "k=ubinascii.b2a_base64(b\"sdfs\")\n",
    "\n"
   ]
  },
  {
   "cell_type": "code",
   "execution_count": 6,
   "metadata": {},
   "outputs": [
    {
     "name": "stdout",
     "output_type": "stream",
     "text": [
      "0\n",
      "1\n",
      "4\n",
      "9\n",
      "16\n",
      "25\n",
      "36\n",
      "49\n",
      "64\n",
      "81\n"
     ]
    }
   ],
   "source": [
    "%capture ghgh.txt\n",
    "\n",
    "for i in range(10):\n",
    "    print(i*i)"
   ]
  },
  {
   "cell_type": "code",
   "execution_count": 21,
   "metadata": {},
   "outputs": [
    {
     "name": "stdout",
     "output_type": "stream",
     "text": [
      "b'sdfs'\r\n"
     ]
    }
   ],
   "source": [
    "print(ubinascii.a2b_base64(k[:-1]))"
   ]
  },
  {
   "cell_type": "code",
   "execution_count": 23,
   "metadata": {},
   "outputs": [
    {
     "name": "stdout",
     "output_type": "stream",
     "text": [
      "b'c2Rmcw==\\n'\r\n"
     ]
    }
   ],
   "source": [
    "print(k)\n"
   ]
  },
  {
   "cell_type": "code",
   "execution_count": 1,
   "metadata": {},
   "outputs": [
    {
     "name": "stdout",
     "output_type": "stream",
     "text": [
      "\u001b[31mNo serial connected\n",
      "\u001b[0m  %serialconnect to connect\n",
      "  %lsmagic to list commands"
     ]
    }
   ],
   "source": []
  },
  {
   "cell_type": "code",
   "execution_count": null,
   "metadata": {
    "collapsed": true
   },
   "outputs": [],
   "source": []
  }
 ],
 "metadata": {
  "kernelspec": {
   "display_name": "MicroPython - USB",
   "language": "micropython",
   "name": "micropython"
  },
  "language_info": {
   "codemirror_mode": "python",
   "file_extension": ".py",
   "mimetype": "text/python",
   "name": "micropython"
  }
 },
 "nbformat": 4,
 "nbformat_minor": 2
}

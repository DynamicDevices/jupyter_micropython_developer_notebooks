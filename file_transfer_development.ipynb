{
 "cells": [
  {
   "cell_type": "code",
   "execution_count": 1,
   "metadata": {},
   "outputs": [
    {
     "name": "stdout",
     "output_type": "stream",
     "text": [
      "Connecting to Serial /dev/ttyUSB0 baud=115200\n",
      "\u001b[32m\n",
      " ** Serial connected **\n",
      "\n",
      "\u001b[0mSerial<id=0x7fb76a3802b0, open=True>(port='/dev/ttyUSB0', baudrate=115200, bytesize=8, parity='N', stopbits=1, timeout=0.5, xonxoff=False, rtscts=False, dsrdtr=False)\n",
      "raw REPL; CTRL-B to exit\n",
      ">"
     ]
    }
   ],
   "source": [
    "%serialconnect"
   ]
  },
  {
   "cell_type": "code",
   "execution_count": 6,
   "metadata": {},
   "outputs": [
    {
     "name": "stdout",
     "output_type": "stream",
     "text": [
      "['boot.py', 'webrepl_cfg.py', 'mlx90621.py', 'static', 'data', 'thing.txt', 'banner.jpg', 'devices.mpy', 'datalogger.mpy', 'main.py', 'timefuncs.mpy', 'webserver.mpy']\r\n"
     ]
    }
   ],
   "source": [
    "import os\n",
    "print(os.listdir())"
   ]
  },
  {
   "cell_type": "code",
   "execution_count": 8,
   "metadata": {},
   "outputs": [
    {
     "name": "stdout",
     "output_type": "stream",
     "text": [
      "9746\r\n"
     ]
    }
   ],
   "source": [
    "print(os.stat(\"banner.jpg\")[6])\n"
   ]
  },
  {
   "cell_type": "code",
   "execution_count": 3,
   "metadata": {},
   "outputs": [
    {
     "name": "stdout",
     "output_type": "stream",
     "text": [
      "6 chunks sent done"
     ]
    }
   ],
   "source": [
    "%sendtofile -b thing.txt --source README.md\n"
   ]
  },
  {
   "cell_type": "code",
   "execution_count": 3,
   "metadata": {},
   "outputs": [
    {
     "name": "stdout",
     "output_type": "stream",
     "text": [
      "3 lines sent done"
     ]
    }
   ],
   "source": [
    "%sendtofile thing.txt \n",
    "\n",
    "what\n",
    "this\n",
    "goes"
   ]
  },
  {
   "cell_type": "code",
   "execution_count": 4,
   "metadata": {},
   "outputs": [
    {
     "name": "stdout",
     "output_type": "stream",
     "text": [
      "['# jupyter_micropython_developer_notebooks\\n\\nSee https://github.com/goatchurchprime/jupyter_micropython_kernel for the \\nproject that uses these notebooks\\n']\r\n"
     ]
    }
   ],
   "source": [
    "print([open(\"thing.txt\").read()])"
   ]
  },
  {
   "cell_type": "code",
   "execution_count": 5,
   "metadata": {},
   "outputs": [
    {
     "name": "stdout",
     "output_type": "stream",
     "text": [
      "10 chunks sent so far\n",
      "20 chunks sent so far\n",
      "30 chunks sent so far\n",
      "40 chunks sent so far\n",
      "50 chunks sent so far\n",
      "60 chunks sent so far\n",
      "70 chunks sent so far\n",
      "80 chunks sent so far\n",
      "90 chunks sent so far\n",
      "100 chunks sent so far\n",
      "110 chunks sent so far\n",
      "120 chunks sent so far\n",
      "130 chunks sent so far\n",
      "140 chunks sent so far\n",
      "150 chunks sent so far\n",
      "160 chunks sent so far\n",
      "170 chunks sent so far\n",
      "180 chunks sent so far\n",
      "190 chunks sent so far\n",
      "200 chunks sent so far\n",
      "210 chunks sent so far\n",
      "220 chunks sent so far\n",
      "230 chunks sent so far\n",
      "240 chunks sent so far\n",
      "250 chunks sent so far\n",
      "260 chunks sent so far\n",
      "270 chunks sent so far\n",
      "280 chunks sent so far\n",
      "290 chunks sent so far\n",
      "300 chunks sent so far\n",
      "310 chunks sent so far\n",
      "320 chunks sent so far\n",
      "325 chunks sent done"
     ]
    }
   ],
   "source": [
    "%sendtofile -b banner.jpg --source\n"
   ]
  },
  {
   "cell_type": "code",
   "execution_count": 10,
   "metadata": {
    "collapsed": true
   },
   "outputs": [],
   "source": [
    "OB = ubinascii.b2a_base64"
   ]
  },
  {
   "cell_type": "code",
   "execution_count": 4,
   "metadata": {},
   "outputs": [
    {
     "name": "stdout",
     "output_type": "stream",
     "text": [
      "%disconnect\n",
      "    disconnects serial\n",
      "\n",
      "%lsmagic\n",
      "    list magic commands\n",
      "\n",
      "%readbytes\n",
      "    does serial.read_all()\n",
      "\n",
      "%rebootdevice\n",
      "    reboots device\n",
      "\n",
      "%sendtofile [-a] [-b] [--source [SOURCE]] destinationfilename\n",
      "    send cell contents or file from disk to device file\n",
      "\n",
      "%serialconnect [--raw] [portname] [baudrate]\n",
      "    connects to a device over USB wire\n",
      "\n",
      "%socketconnect [--raw] ipnumber portnumber\n",
      "    connects to a socket of a device over wifi\n",
      "\n",
      "%suppressendcode\n",
      "    doesn't send x04 or wait to read after sending the cell\n",
      "  (assists for debugging using %writebytes and %readbytes)\n",
      "\n",
      "%writebytes [-b] stringtosend\n",
      "    does serial.write() of the python quoted string given\n",
      "\n"
     ]
    }
   ],
   "source": [
    "%lsmagic"
   ]
  },
  {
   "cell_type": "code",
   "execution_count": 24,
   "metadata": {},
   "outputs": [
    {
     "name": "stdout",
     "output_type": "stream",
     "text": [
      "b'sdfs'\r\n"
     ]
    }
   ],
   "source": [
    "print(OB('c2Rmcw=='))\n"
   ]
  },
  {
   "cell_type": "code",
   "execution_count": 16,
   "metadata": {},
   "outputs": [],
   "source": [
    "k=ubinascii.b2a_base64(b\"sdfs\")\n",
    "\n"
   ]
  },
  {
   "cell_type": "code",
   "execution_count": 17,
   "metadata": {},
   "outputs": [
    {
     "name": "stdout",
     "output_type": "stream",
     "text": [
      "\n",
      "\u001b[1mTraceback (most recent call last):\n",
      "\u001b[0m  File \"<stdin>\", line 1, in <module>\n",
      "ValueError: incorrect padding\n"
     ]
    }
   ],
   "source": [
    "print(OB(k))"
   ]
  },
  {
   "cell_type": "code",
   "execution_count": 21,
   "metadata": {},
   "outputs": [
    {
     "name": "stdout",
     "output_type": "stream",
     "text": [
      "b'sdfs'\r\n"
     ]
    }
   ],
   "source": [
    "print(ubinascii.a2b_base64(k[:-1]))"
   ]
  },
  {
   "cell_type": "code",
   "execution_count": 23,
   "metadata": {},
   "outputs": [
    {
     "name": "stdout",
     "output_type": "stream",
     "text": [
      "b'c2Rmcw==\\n'\r\n"
     ]
    }
   ],
   "source": [
    "print(k)\n"
   ]
  },
  {
   "cell_type": "code",
   "execution_count": null,
   "metadata": {
    "collapsed": true
   },
   "outputs": [],
   "source": []
  }
 ],
 "metadata": {
  "kernelspec": {
   "display_name": "MicroPython - USB",
   "language": "micropython",
   "name": "micropython"
  },
  "language_info": {
   "codemirror_mode": "python",
   "file_extension": ".py",
   "mimetype": "text/python",
   "name": "micropython"
  }
 },
 "nbformat": 4,
 "nbformat_minor": 2
}

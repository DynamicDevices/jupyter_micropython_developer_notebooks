{
 "cells": [
  {
   "cell_type": "code",
   "execution_count": 2,
   "metadata": {},
   "outputs": [
    {
     "name": "stdout",
     "output_type": "stream",
     "text": [
      "Connecting to Serial /dev/ttyUSB0 baud=115200\n",
      "\u001b[32m\n",
      " ** Serial connected **\n",
      "\n",
      "\u001b[0mSerial<id=0x7fe44ddb4518, open=True>(port='/dev/ttyUSB0', baudrate=115200, bytesize=8, parity='N', stopbits=1, timeout=0.5, xonxoff=False, rtscts=False, dsrdtr=False)\n",
      "normal repl mode not detected b''\n",
      "not command mode\n",
      "\n",
      "[\\r\\x01] b'raw REPL; CTRL-B to exit\\r\\n>'"
     ]
    }
   ],
   "source": [
    "%serialconnect"
   ]
  },
  {
   "cell_type": "code",
   "execution_count": 10,
   "metadata": {},
   "outputs": [
    {
     "name": "stdout",
     "output_type": "stream",
     "text": [
      "[b'']"
     ]
    }
   ],
   "source": [
    "%readbytes"
   ]
  },
  {
   "cell_type": "code",
   "execution_count": 9,
   "metadata": {},
   "outputs": [
    {
     "name": "stdout",
     "output_type": "stream",
     "text": [
      "\u001b[32mWriting connecthotspot.py\n",
      "\n",
      "\u001b[0m"
     ]
    }
   ],
   "source": [
    "%%writefile connecthotspot.py\n",
    "\n",
    "import network\n",
    "\n",
    "si = network.WLAN(network.AP_IF) # create access-point interface\n",
    "macaddress = \"\".join(\"{:02x}\".format(x)  for x in si.config(\"mac\"))\n",
    "si.active(True)         # activate the interface\n",
    "print(\"Creating access point ESP_{}\".format(macaddress[-6:]))\n",
    "\n",
    "ipnumber = si.ifconfig()[0]\n",
    "print(\"Device has ipnumber\", ipnumber)"
   ]
  },
  {
   "cell_type": "code",
   "execution_count": 6,
   "metadata": {},
   "outputs": [
    {
     "name": "stdout",
     "output_type": "stream",
     "text": [
      "True\r\n"
     ]
    }
   ],
   "source": [
    "print(si.isconnected())"
   ]
  },
  {
   "cell_type": "code",
   "execution_count": 4,
   "metadata": {},
   "outputs": [
    {
     "name": "stdout",
     "output_type": "stream",
     "text": [
      "I (86687) wifi: wifi firmware version: 4acbf1f\n",
      "I (86687) wifi: config NVS flash: enabled\n",
      "I (86687) wifi: config nano formating: disabled\n",
      "\u001b[0;32mI (86687) system_api: Base MAC address is not set, read default base MAC address from BLK0 of EFUSE\u001b[0m\n",
      "\u001b[0;32mI (86697) system_api: Base MAC address is not set, read default base MAC address from BLK0 of EFUSE\u001b[0m\n",
      "I (86717) wifi: Init dynamic tx buffer num: 32\n",
      "I (86717) wifi: Init data frame dynamic rx buffer num: 64\n",
      "I (86717) wifi: Init management frame dynamic rx buffer num: 64\n",
      "I (86727) wifi: wifi driver task: 3ffd9768, prio:23, stack:4096\n",
      "I (86727) wifi: Init static rx buffer num: 10\n",
      "I (86737) wifi: Init dynamic rx buffer num: 0\n",
      "I (86737) wifi: Init rx ampdu len mblock:7\n",
      "I (86737) wifi: Init lldesc rx ampdu entry mblock:4\n",
      "I (86747) wifi: wifi power manager task: 0x3ffdebe0 prio: 21 stack: 2560\n",
      "\u001b[0;32mI (86777) phy: phy_version: 359.0, e79c19d, Aug 31 2017, 17:06:07, 0, 0\u001b[0m\n",
      "I (86777) wifi: mode : null\n",
      "I (86777) wifi: mode : softAP (30:ae:a4:80:78:21)\n",
      "\u001b[0;32mI (86787) wifi: event 13\u001b[0m\n",
      "('192.168.4.1', '255.255.255.0', '192.168.4.1', '0.0.0.0')\n",
      "\n",
      "Please connect to wifi ESP_807821\n"
     ]
    }
   ],
   "source": [
    "import network\n",
    "\n",
    "\n",
    "si = network.WLAN(network.AP_IF) # create access-point interface\n",
    "macaddress = \"\".join(\"{:02x}\".format(x)  for x in si.config(\"mac\"))\n",
    "si.active(True)         # activate the interface\n",
    "print(\"Scanning wifis\", [s[0]  for s in knownwifis])\n",
    "\n",
    "\n",
    "# no idea what this does\n",
    "#si.config(essid='ESP-AP') # set the ESSID of the access point\n",
    "print(si.ifconfig())\n",
    "# it also intermittently prints out wifi events\n",
    "\n",
    "espname = \"ESP_{}\".format(\"\".join(hex(x)[-2:]  for x in si.config(\"mac\")[-3:]))\n",
    "print(\"\\nPlease connect to wifi {}\".format(espname))\n",
    "\n",
    "\n",
    "\n",
    "import network\n",
    "\n",
    "si = network.WLAN(network.STA_IF)\n",
    "macaddress = \"\".join(\"{:02x}\".format(x)  for x in si.config(\"mac\"))\n",
    "\n",
    "si.active(True)\n",
    "\n",
    "knownwifis = dict(k.split(b\":\")[:2]  for k in open(\"wificodes.txt\", \"rb\"))\n",
    "print(\"Scanning wifis\", [s[0]  for s in knownwifis])\n",
    "\n",
    "# X[3]=RSSI (received signal strength)\n",
    "wifiname = max((sc  for sc in si.scan()  if sc[0] in knownwifis), key=lambda X: X[3])[0]  \n",
    "\n",
    "print(\"Connecting to strongest known wifi signal\", wifiname)\n",
    "si.connect(wifiname, knownwifis[wifiname])\n",
    "del knownwifis\n",
    "\n",
    "while not si.isconnected():\n",
    "    pass\n",
    "\n",
    "ipnumber = si.ifconfig()[0]\n",
    "print(\"Device has ipnumber\", ipnumber)\n"
   ]
  },
  {
   "cell_type": "code",
   "execution_count": 5,
   "metadata": {},
   "outputs": [
    {
     "name": "stdout",
     "output_type": "stream",
     "text": [
      "\u001b[0;32mI (150593) modsocket: Initializing\u001b[0m\r\n"
     ]
    }
   ],
   "source": [
    "# Create the socket which will listen for an incoming connection\n",
    "import socket, time\n",
    "\n",
    "ipnumber = si.ifconfig()[0]\n",
    "s = socket.socket()\n",
    "portnumber = 9999\n",
    "s.bind((\"0.0.0.0\", portnumber))\n",
    "s.listen(1)\n"
   ]
  },
  {
   "cell_type": "code",
   "execution_count": 6,
   "metadata": {},
   "outputs": [
    {
     "name": "stdout",
     "output_type": "stream",
     "text": [
      "[leftinbuffer] ['\\x1b[0;32mI (164313) wifi: event 15\\x1b[0m']\n",
      "Waiting for a connection on (192.168.4.1, 9999)\n",
      ".........W (216303) wifi: inactive timer: now=c88c0927 last_rx_time=6bedca93 diff=4bdf6\n",
      "I (216303) wifi: station: 00:28:f8:a0:5f:4b leave, AID = 1\n",
      "I (216303) wifi: n:1 0, o:1 1, ap:1 1, sta:255 255, prof:1\n",
      "\u001b[0;32mI (216313) wifi: event 16\u001b[0m\n",
      ".I (222123) wifi: n:1 1, o:1 0, ap:1 1, sta:255 255, prof:1\n",
      "I (222123) wifi: station: 00:28:f8:a0:5f:4b join, AID=1, n, 40U\n",
      "\u001b[0;32mI (222123) wifi: event 15\u001b[0m\n",
      "......W (252113) wifi: inactive timer: now=734e3544 last_rx_time=19177be2 diff=49e73\n",
      "I (252113) wifi: station: 00:28:f8:a0:5f:4b leave, AID = 1\n",
      "I (252113) wifi: n:1 0, o:1 1, ap:1 1, sta:255 255, prof:1\n",
      "\u001b[0;32mI (252123) wifi: event 16\u001b[0m\n",
      ".I (258363) wifi: n:1 1, o:1 0, ap:1 1, sta:255 255, prof:1\n",
      "I (258363) wifi: station: 00:28:f8:a0:5f:4b join, AID=1, n, 40U\n",
      "\u001b[0;32mI (258363) wifi: event 15\u001b[0m\n",
      ".connection made incoming from ('192.168.4.2', 40856)\n"
     ]
    }
   ],
   "source": [
    "print(\"Waiting for a connection on ({}, {})\".format(ipnumber, portnumber))\n",
    "ss, addr = s.accept()\n",
    "print(\"connection made incoming from\", addr)\n"
   ]
  },
  {
   "cell_type": "code",
   "execution_count": 10,
   "metadata": {},
   "outputs": [
    {
     "name": "stdout",
     "output_type": "stream",
     "text": [
      "[leftinbuffer] W (549521) wifi: inactive timer: now=64cabed4 last_rx_time=4ae4537 diff=4ebbf\n",
      "[leftinbuffer] I (549521) wifi: station: 00:28:f8:a0:5f:4b leave, AID = 1\n",
      "[leftinbuffer] I (549521) wifi: n:1 0, o:1 1, ap:1 1, sta:255 255, prof:1\n",
      "[leftinbuffer] \u001b[0;32mI (549521) wifi: event 16\u001b[0m\n",
      "[leftinbuffer] I (549831) wifi: n:1 1, o:1 0, ap:1 1, sta:255 255, prof:1\n",
      "[leftinbuffer] I (549831) wifi: station: 00:28:f8:a0:5f:4b join, AID=1, n, 40U\n",
      "[leftinbuffer] \u001b[0;32mI (549831) wifi: event 15\u001b[0m\n",
      "[leftinbuffer] W (579821) wifi: inactive timer: now=f54da2aa last_rx_time=98459c4a diff=4c361\n",
      "[leftinbuffer] I (579821) wifi: station: 00:28:f8:a0:5f:4b leave, AID = 1\n",
      "[leftinbuffer] I (579821) wifi: n:1 0, o:1 1, ap:1 1, sta:255 255, prof:1\n",
      "[leftinbuffer] \u001b[0;32mI (579831) wifi: event 16\u001b[0m\n",
      "[leftinbuffer] I (585641) wifi: n:1 1, o:1 0, ap:1 1, sta:255 255, prof:1\n",
      "[leftinbuffer] I (585651) wifi: station: 00:28:f8:a0:5f:4b join, AID=1, n, 40U\n",
      "[leftinbuffer] \u001b[0;32mI (585651) wifi: event 15\u001b[0m\n"
     ]
    }
   ],
   "source": [
    "ss.write(b\">>> \")"
   ]
  },
  {
   "cell_type": "code",
   "execution_count": 60,
   "metadata": {},
   "outputs": [
    {
     "name": "stdout",
     "output_type": "stream",
     "text": [
      "[leftinbuffer] W (1938271) wifi: inactive timer: now=42e6a989 last_rx_time=e1652614 diff=4fe07\n",
      "[leftinbuffer] I (1938271) wifi: station: 00:28:f8:a0:5f:4b leave, AID = 1\n",
      "[leftinbuffer] I (1938271) wifi: n:1 0, o:1 1, ap:1 1, sta:255 255, prof:1\n",
      "[leftinbuffer] \u001b[0;32mI (1938281) wifi: event 16\u001b[0m\n",
      "[leftinbuffer] I (1943101) wifi: n:1 0, o:1 0, ap:1 1, sta:255 255, prof:1\n",
      "[leftinbuffer] I (1943101) wifi: station: 00:28:f8:a0:5f:4b join, AID=1, g, 20\n",
      "[leftinbuffer] \u001b[0;32mI (1943101) wifi: event 15\u001b[0m\n"
     ]
    }
   ],
   "source": [
    "ss.close()"
   ]
  },
  {
   "cell_type": "code",
   "execution_count": 18,
   "metadata": {},
   "outputs": [
    {
     "name": "stdout",
     "output_type": "stream",
     "text": [
      "b'Hello-1506899789 from PC\\n'\r\n"
     ]
    }
   ],
   "source": [
    "print(ss.readline())"
   ]
  },
  {
   "cell_type": "code",
   "execution_count": 58,
   "metadata": {},
   "outputs": [
    {
     "name": "stdout",
     "output_type": "stream",
     "text": [
      "[leftinbuffer] W (1872441) wifi: inactive timer: now=900b499 last_rx_time=acb4981c diff=4b9c2\n",
      "[leftinbuffer] I (1872441) wifi: station: 00:28:f8:a0:5f:4b leave, AID = 1\n",
      "[leftinbuffer] I (1872451) wifi: n:1 0, o:1 1, ap:1 1, sta:255 255, prof:1\n",
      "[leftinbuffer] \u001b[0;32mI (1872451) wifi: event 16\u001b[0m\n",
      ".\n",
      "\n",
      "*** Sending Ctrl-C\n",
      "\n",
      "Traceback (most recent call last):\n",
      "  File \"<stdin>\", line 1, in <module>\n",
      "KeyboardInterrupt: \n"
     ]
    }
   ],
   "source": [
    "print(ss.recv(1000))\n"
   ]
  },
  {
   "cell_type": "code",
   "execution_count": 7,
   "metadata": {
    "collapsed": true
   },
   "outputs": [],
   "source": [
    "def execcc(buf, bufsize):\n",
    "    if bufsize > 50:\n",
    "        return b\"We will deal big things later\\r\\n\"\n",
    "    l = (b\"\".join(buf).decode().strip()).splitlines()\n",
    "    if len(l) != 1:\n",
    "        return b\"We don't eval multiple lines {}\\r\\n\".format(len(l))\n",
    "    try:\n",
    "        res = str(eval(l[0]))\n",
    "    except Exception as e:\n",
    "        res = str(e)\n",
    "    return b\"The answer is: {}\\r\\n\".format(res.encode())\n",
    "\n",
    "ss.settimeout(0.2)\n",
    "buf = []\n",
    "bufsize = 0"
   ]
  },
  {
   "cell_type": "code",
   "execution_count": 8,
   "metadata": {
    "scrolled": true
   },
   "outputs": [
    {
     "name": "stdout",
     "output_type": "stream",
     "text": [
      "read b\"print('\\\\x1b[0;32mI (164313) wifi: event 15')\"\n",
      "read b'\\r\\n\\r\\x04'\n",
      "\u001b[0;32mI (164313) wifi: event 15\n",
      "::::::::::::::::::::::::::::::::::::::::::::::::::::::::::::::::::::::::::::::::::::::::::::::::::::::::::::::::::::::::::::::::::::::::::::::::::::::::::::::::::::::::::::::::::::::::::::::::::::::::::::W (368353) wifi: inactive timer: now=9d96a7e7 last_rx_time=3bae3c7f diff=5034c\n",
      "I (368353) wifi: station: 00:28:f8:a0:5f:4b leave, AID = 1\n",
      "I (368353) wifi: n:1 0, o:1 1, ap:1 1, sta:255 255, prof:1\n",
      "\u001b[0;32mI (368363) wifi: event 16\u001b[0m\n",
      "::::::::::::::::I (373193) wifi: n:1 1, o:1 0, ap:1 1, sta:255 255, prof:1\n",
      "I (373193) wifi: station: 00:28:f8:a0:5f:4b join, AID=1, n, 40U\n",
      "\u001b[0;32mI (373203) wifi: event 15\u001b[0m\n",
      "::::::::::::::::::::::::::::::::::::::::::::::::::::::::::::::::::::::::::::::::::::::::::::::::::::W (403193) wifi: inactive timer: now=43b6d7bf last_rx_time=e6af0fc3 diff=4c35e\n",
      "I (403193) wifi: station: 00:28:f8:a0:5f:4b leave, AID = 1\n",
      "I (403193) wifi: n:1 0, o:1 1, ap:1 1, sta:255 255, prof:1\n",
      "\u001b[0;32mI (403203) wifi: event 16\u001b[0m\n",
      "::::::::::::I (406883) wifi: n:1 1, o:1 0, ap:1 1, sta:255 255, prof:1\n",
      "I (406893) wifi: station: 00:28:f8:a0:5f:4b join, AID=1, n, 40U\n",
      "\u001b[0;32mI (406893) wifi: event 15\u001b[0m\n",
      ":::::::::::::::::::::::::::::::::::::::::::::::::::::::::::::::::::::::::::::::::::::::::::::::::::::::::::::::::W (440873) wifi: inactive timer: now=f766b12f last_rx_time=992af326 diff=4d322\n",
      "I (440873) wifi: station: 00:28:f8:a0:5f:4b leave, AID = 1\n",
      "I (440883) wifi: n:1 0, o:1 1, ap:1 1, sta:255 255, prof:1\n",
      "\u001b[0;32mI (440883) wifi: event 16\u001b[0m\n",
      "::::::::::::::::::I (446173) wifi: n:1 0, o:1 0, ap:1 1, sta:255 255, prof:1\n",
      "I (446173) wifi: station: 00:28:f8:a0:5f:4b join, AID=1, g, 20\n",
      "\u001b[0;32mI (446173) wifi: event 15\u001b[0m\n",
      "\n",
      "\n",
      "*** Sending Ctrl-C\n",
      "\n",
      "Traceback (most recent call last):\n",
      "  File \"<stdin>\", line 12, in <module>\n",
      "  File \"<stdin>\", line 6, in <module>\n",
      "KeyboardInterrupt: \n"
     ]
    }
   ],
   "source": [
    "# process incoming signals from the main jupyter syste,\n",
    "k = None\n",
    "while True:\n",
    "    try:\n",
    "        if k is None:\n",
    "            k = ss.recv(100)\n",
    "            print(\"read\", str(k))\n",
    "    except OSError as e:\n",
    "        if e.args[0] == 110: # ETIMEDOUT\n",
    "            print(\":\", end=\"\")\n",
    "            continue\n",
    "        raise\n",
    "    k = k.split(b\"\\x04\", 1)\n",
    "    buf.append(k[0])\n",
    "    bufsize += len(k[0])\n",
    "    if len(k) == 1:\n",
    "        k = None\n",
    "        continue\n",
    "    k = k[1]\n",
    "    ss.write(b\"OK\")\n",
    "    ss.write(b\"Thank you for sending {} characters\\r\\n\".format(bufsize))\n",
    "    ss.write(execcc(buf, bufsize))\n",
    "    ss.write(b\"\\x04\\x04>\")\n",
    "    buf.clear()\n",
    "    bufsize = 0\n",
    "    "
   ]
  },
  {
   "cell_type": "code",
   "execution_count": 9,
   "metadata": {
    "collapsed": true
   },
   "outputs": [],
   "source": [
    "ss.close()"
   ]
  },
  {
   "cell_type": "code",
   "execution_count": 180,
   "metadata": {
    "collapsed": true
   },
   "outputs": [],
   "source": [
    "ss.write(b\"\\x04\\x04>\")"
   ]
  },
  {
   "cell_type": "code",
   "execution_count": null,
   "metadata": {
    "collapsed": true
   },
   "outputs": [],
   "source": [
    "%sendtofile thing.py\n",
    "\n",
    "import math\n",
    "print(math.sin(3))"
   ]
  },
  {
   "cell_type": "code",
   "execution_count": 1,
   "metadata": {},
   "outputs": [
    {
     "name": "stdout",
     "output_type": "stream",
     "text": [
      "Connecting to Serial /dev/ttyUSB1 baud=115200\n",
      "Waited 0.0 seconds for isOpen()\n",
      "\n",
      " ** Serial connected **\n",
      "\n",
      "Serial<id=0x7fb597feba58, open=True>(port='/dev/ttyUSB1', baudrate=115200, bytesize=8, parity='N', stopbits=1, timeout=0.5, xonxoff=False, rtscts=False, dsrdtr=False)\n"
     ]
    }
   ],
   "source": [
    "%serialconnect --raw"
   ]
  },
  {
   "cell_type": "code",
   "execution_count": null,
   "metadata": {
    "collapsed": true
   },
   "outputs": [],
   "source": []
  }
 ],
 "metadata": {
  "kernelspec": {
   "display_name": "MicroPython - USB",
   "language": "micropython",
   "name": "micropython"
  },
  "language_info": {
   "codemirror_mode": "python",
   "file_extension": ".py",
   "mimetype": "text/python",
   "name": "micropython"
  }
 },
 "nbformat": 4,
 "nbformat_minor": 2
}

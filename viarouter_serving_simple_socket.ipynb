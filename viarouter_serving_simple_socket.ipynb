{
 "cells": [
  {
   "cell_type": "code",
   "execution_count": 2,
   "metadata": {},
   "outputs": [
    {
     "name": "stdout",
     "output_type": "stream",
     "text": [
      "Connecting to Serial /dev/ttyUSB0 baud=115200\n",
      "\n",
      " ** Serial connected **\n",
      "\n",
      "Serial<id=0x7f0e4164ad30, open=True>(port='/dev/ttyUSB0', baudrate=115200, bytesize=8, parity='N', stopbits=1, timeout=0.5, xonxoff=False, rtscts=False, dsrdtr=False)\n",
      "\n",
      ">>> \n",
      ">>> \n",
      ">>> \n",
      ">>> \n",
      "raw REPL; CTRL-B to exit\n",
      ">"
     ]
    }
   ],
   "source": [
    "%serialconnect"
   ]
  },
  {
   "cell_type": "code",
   "execution_count": 21,
   "metadata": {},
   "outputs": [
    {
     "name": "stdout",
     "output_type": "stream",
     "text": [
      "\u001b[0;32mI (1237491) wifi: event 1\u001b[0m\n",
      "strongest known DoESWifi signal b'The Sensible Code Company'\n",
      "Connect through wifi to 192.168.1.33\n"
     ]
    }
   ],
   "source": [
    "import network, time, socket\n",
    "\n",
    "si = network.WLAN(network.STA_IF)\n",
    "si.active(True)\n",
    "#assert not si.isconnected()\n",
    "\n",
    "knownwifis = dict(k.split(b\":\")[:2]  for k in open(\"wificodes.txt\", \"rb\"))\n",
    "wifiname = max((sc  for sc in si.scan()  if sc[0] in knownwifis), key=lambda X: X[3])[0]  # X[3]=RSSI (received signal strength)\n",
    "print(\"strongest known DoESWifi signal\", wifiname)\n",
    "si.connect(wifiname, knownwifis[wifiname])\n",
    "del knownwifis\n",
    "\n",
    "while not si.isconnected():\n",
    "    time.sleep(0.1)\n",
    "    pass\n",
    "\n",
    "ipnumber = si.ifconfig()[0]\n",
    "print(\"Connect through wifi to\", ipnumber)\n"
   ]
  },
  {
   "cell_type": "code",
   "execution_count": 15,
   "metadata": {},
   "outputs": [
    {
     "name": "stdout",
     "output_type": "stream",
     "text": [
      "[leftinbuffer] I (965201) wifi: pm start, type:0\n",
      "[leftinbuffer] \n",
      "Traceback (most recent call last):\n",
      "  File \"<stdin>\", line 1\n",
      "SyntaxError: invalid syntax\n"
     ]
    }
   ],
   "source": [
    "."
   ]
  },
  {
   "cell_type": "code",
   "execution_count": 16,
   "metadata": {},
   "outputs": [
    {
     "name": "stdout",
     "output_type": "stream",
     "text": [
      "\n",
      "Please connect to (192.168.1.33, 9997)\n",
      "  mac-address 30:ae:a4:80:78:20\n"
     ]
    }
   ],
   "source": [
    "assert si.isconnected()\n",
    "\n",
    "s = socket.socket()\n",
    "portnumber = 9997\n",
    "\n",
    "s.bind(socket.getaddrinfo(\"0.0.0.0\", portnumber)[0][-1])  # recommended to always make addresses via getaddrinfo()\n",
    "s.listen(1)  # no backlog of connections allowed\n",
    "\n",
    "print(\"\\nPlease connect to ({}, {})\".format(ipnumber, portnumber))\n",
    "print(\"  mac-address {}\".format(\":\".join(hex(x)[-2:]  for x in si.config(\"mac\"))))\n",
    "espname = \"ESP_{}\".format(\"\".join(hex(x)[-2:]  for x in si.config(\"mac\")[-3:]))\n"
   ]
  },
  {
   "cell_type": "code",
   "execution_count": 17,
   "metadata": {},
   "outputs": [
    {
     "name": "stdout",
     "output_type": "stream",
     "text": [
      "Waiting for a connection on (192.168.1.33, 9997)\n",
      ".......connection made incoming from ('192.168.1.31', 54586)\n"
     ]
    }
   ],
   "source": [
    "print(\"Waiting for a connection on ({}, {})\".format(ipnumber, portnumber))\n",
    "ss, addr = s.accept()\n",
    "print(\"connection made incoming from\", addr)"
   ]
  },
  {
   "cell_type": "code",
   "execution_count": null,
   "metadata": {
    "collapsed": true
   },
   "outputs": [],
   "source": [
    "# You can now read and write to this connection \n",
    "# by iterating between the next two cells"
   ]
  },
  {
   "cell_type": "code",
   "execution_count": 18,
   "metadata": {
    "collapsed": true
   },
   "outputs": [],
   "source": [
    "# Send something out to the other end (for it to read)\n",
    "ss.write(\"Hi-{} from {}\\n\".format(time.time(), espname))"
   ]
  },
  {
   "cell_type": "code",
   "execution_count": 19,
   "metadata": {},
   "outputs": [
    {
     "name": "stdout",
     "output_type": "stream",
     "text": [
      "b'Hello-1506940264 from PC\\n'\r\n"
     ]
    }
   ],
   "source": [
    "# Read a line written from the other end \n",
    "print(ss.readline())"
   ]
  },
  {
   "cell_type": "code",
   "execution_count": 20,
   "metadata": {
    "collapsed": true
   },
   "outputs": [],
   "source": [
    "ss.close()"
   ]
  },
  {
   "cell_type": "code",
   "execution_count": null,
   "metadata": {
    "collapsed": true
   },
   "outputs": [],
   "source": []
  }
 ],
 "metadata": {
  "kernelspec": {
   "display_name": "MicroPython - USB",
   "language": "micropython",
   "name": "micropython"
  },
  "language_info": {
   "codemirror_mode": "python",
   "file_extension": ".py",
   "mimetype": "text/python",
   "name": "micropython"
  }
 },
 "nbformat": 4,
 "nbformat_minor": 2
}

{
 "cells": [
  {
   "cell_type": "code",
   "execution_count": 2,
   "metadata": {},
   "outputs": [
    {
     "name": "stdout",
     "output_type": "stream",
     "text": [
      "\u001b[32m\n",
      " ** WebSocket connected **\n",
      "\n",
      "\u001b[0m<websocket._core.WebSocket object at 0x7ff93902b198>\n",
      "Password: normal repl mode not detected \n",
      "WebREPL connected\n",
      ">>> \n",
      ">>> \n",
      ">>> \n",
      ">>> \n",
      "not command mode\n",
      "\n",
      "[\\r\\x01] \n",
      ">>> \n",
      "raw REPL; CTRL-B to exit\n",
      ">"
     ]
    }
   ],
   "source": [
    "%websocketconnect --password wpass"
   ]
  },
  {
   "cell_type": "code",
   "execution_count": 4,
   "metadata": {},
   "outputs": [
    {
     "name": "stdout",
     "output_type": "stream",
     "text": [
      "\u001b[34mConnecting to Serial /dev/ttyACM0 baud=115200 \u001b[0m\n",
      "\u001b[34mReady.\n",
      "\u001b[0m"
     ]
    }
   ],
   "source": [
    "%serialconnect"
   ]
  },
  {
   "cell_type": "code",
   "execution_count": 6,
   "metadata": {},
   "outputs": [
    {
     "name": "stdout",
     "output_type": "stream",
     "text": [
      "Sent 120 lines (4548 bytes) to vl6180.py.\n"
     ]
    }
   ],
   "source": [
    "%sendtofile vl6180.py\n",
    "\n",
    "import ustruct\n",
    "import time\n",
    "\n",
    "\n",
    "class Sensor:\n",
    "    def __init__(self, i2c, address=0x29):\n",
    "        self.i2c = i2c\n",
    "        self._address = address\n",
    "        self.init()\n",
    "        self.default_settings()\n",
    "\n",
    "    def _set_reg8(self, address, value):\n",
    "        data = ustruct.pack('>HB', address, value)\n",
    "        self.i2c.writeto(self._address, data)\n",
    "\n",
    "    def _set_reg16(self, address, value):\n",
    "        data = ustruct.pack('>HH', address, value)\n",
    "        self.i2c.writeto(self._address, data)\n",
    "\n",
    "    def _get_reg8(self, address):\n",
    "        self.i2c.start()\n",
    "        self.i2c.write(ustruct.pack('>BH', self._address << 1, address))\n",
    "        data = self.i2c.readfrom(self._address, 1)\n",
    "        return data[0]\n",
    "\n",
    "    def _get_reg16(self, address):\n",
    "        self.i2c.start()\n",
    "        self.i2c.write(ustruct.pack('>BH', self._address << 1, address))\n",
    "        data = self.i2c.readfrom(self._address, 2)\n",
    "        return ustruct.unpack('>B', data)[0]\n",
    "\n",
    "    def init(self):\n",
    "        if self._get_reg8(0x0016) != 1:\n",
    "            raise RuntimeError(\"Failure reset\")\n",
    "\n",
    "        # Recommended setup from the datasheet\n",
    "        self._set_reg8(0x0207, 0x01)\n",
    "        self._set_reg8(0x0208, 0x01)\n",
    "        self._set_reg8(0x0096, 0x00)\n",
    "        self._set_reg8(0x0097, 0xfd)\n",
    "        self._set_reg8(0x00e3, 0x00)\n",
    "        self._set_reg8(0x00e4, 0x04)\n",
    "        self._set_reg8(0x00e5, 0x02)\n",
    "        self._set_reg8(0x00e6, 0x01)\n",
    "        self._set_reg8(0x00e7, 0x03)\n",
    "        self._set_reg8(0x00f5, 0x02)\n",
    "        self._set_reg8(0x00d9, 0x05)\n",
    "        self._set_reg8(0x00db, 0xce)\n",
    "        self._set_reg8(0x00dc, 0x03)\n",
    "        self._set_reg8(0x00dd, 0xf8)\n",
    "        self._set_reg8(0x009f, 0x00)\n",
    "        self._set_reg8(0x00a3, 0x3c)\n",
    "        self._set_reg8(0x00b7, 0x00)\n",
    "        self._set_reg8(0x00bb, 0x3c)\n",
    "        self._set_reg8(0x00b2, 0x09)\n",
    "        self._set_reg8(0x00ca, 0x09)\n",
    "        self._set_reg8(0x0198, 0x01)\n",
    "        self._set_reg8(0x01b0, 0x17)\n",
    "        self._set_reg8(0x01ad, 0x00)\n",
    "        self._set_reg8(0x00ff, 0x05)\n",
    "        self._set_reg8(0x0100, 0x05)\n",
    "        self._set_reg8(0x0199, 0x05)\n",
    "        self._set_reg8(0x01a6, 0x1b)\n",
    "        self._set_reg8(0x01ac, 0x3e)\n",
    "        self._set_reg8(0x01a7, 0x1f)\n",
    "        self._set_reg8(0x0030, 0x00)\n",
    "\n",
    "    def default_settings(self):\n",
    "        self._set_reg8(0x010A, 0x30) # Set Avg sample period\n",
    "        self._set_reg8(0x003f, 0x46) # Set the ALS gain\n",
    "        self._set_reg8(0x0031, 0xFF) # Set auto calibration period\n",
    "                                     # (Max = 255)/(OFF = 0)\n",
    "        self._set_reg8(0x0040, 0x63) # Set ALS integration time to 100ms\n",
    "        self._set_reg8(0x002E, 0x01) # perform a single temperature calibration\n",
    "\n",
    "        # Optional settings from datasheet\n",
    "        self._set_reg8(0x001B, 0x09) # Set default ranging inter-measurement\n",
    "                                     # period to 100ms\n",
    "        self._set_reg8(0x003E, 0x0A) # Set default ALS inter-measurement\n",
    "                                     # period to 100ms\n",
    "\n",
    "        # Additional settings defaults from community\n",
    "        self._set_reg8(0x001C, 0x32) # Max convergence time\n",
    "        self._set_reg8(0x002D, 0x10 | 0x01) # Range check enables\n",
    "        self._set_reg8(0x0022, 0x7B) # Eraly coinvergence estimate\n",
    "        self._set_reg8(0x0120, 0x01) # Firmware result scaler\n",
    "\n",
    "        # Julian settings\n",
    "        self._set_reg8(0x001B, 0x00) # Set default ranging inter-measurement\n",
    "        self._set_reg8(0x001C, 0x3F) # Max convergence time\n",
    "        self._set_reg8(0x002D, 0x00) # Range check enables\n",
    "        self._set_reg8(0x0022, 0x7B) # Eraly coinvergence estimate\n",
    "        self._set_reg8(0x0120, 0x01) # Firmware result scaler\n",
    "\n",
    "        \n",
    "    def identify(self):\n",
    "        \"\"\"Retrieve identification information of the sensor.\"\"\"\n",
    "        return {\n",
    "            'model': self._get_reg8(0x0000),\n",
    "            'revision': (self._get_reg8(0x0001), self._get_reg8(0x0002)),\n",
    "            'module_revision': (self._get_reg8(0x0003),\n",
    "                                self._get_reg8(0x0004)),\n",
    "            'date': self._get_reg16(0x006),\n",
    "            'time': self._get_reg16(0x008),\n",
    "        }\n",
    "\n",
    "    def address(self, address=None):\n",
    "        \"\"\"Change the I2C address of the sensor.\"\"\"\n",
    "        if address is None:\n",
    "            return self._address\n",
    "        if not 8 <= address <= 127:\n",
    "            raise ValueError(\"Wrong address\")\n",
    "        self._set_reg8(0x0212, address)\n",
    "        self._address = address\n",
    "\n",
    "    def range(self):\n",
    "        \"\"\"Measure the distance in millimeters. Takes 0.01s.\"\"\"\n",
    "        self._set_reg8(0x0018, 0x01) # Sysrange start\n",
    "        time.sleep(0.01)\n",
    "        return self._get_reg8(0x0062) # Result range value\n"
   ]
  },
  {
   "cell_type": "code",
   "execution_count": 16,
   "metadata": {},
   "outputs": [
    {
     "name": "stdout",
     "output_type": "stream",
     "text": [
      "\u001b[32m\n",
      " ** WebSocket connected **\n",
      "\n",
      "\u001b[0m<websocket._core.WebSocket object at 0x7febb6fc65c0>\n",
      "Password: normal repl mode not detected \n",
      "not command mode\n",
      "\n",
      "[\\r\\x01] \n",
      "WebREPL connected\n",
      ">>> \n",
      ">>> \n",
      ">>> \n",
      ">>> \n",
      ">>> \n",
      "raw REPL; CTRL-B to exit\n",
      ">"
     ]
    }
   ],
   "source": [
    "%websocketconnect --password wpass"
   ]
  },
  {
   "cell_type": "code",
   "execution_count": 1,
   "metadata": {},
   "outputs": [
    {
     "name": "stdout",
     "output_type": "stream",
     "text": [
      "\u001b[34mConnecting to --port=/dev/ttyUSB2 --baud=115200 \u001b[0m\n",
      "\u001b[34mReady.\n",
      "\u001b[0m"
     ]
    }
   ],
   "source": [
    "%serialconnect"
   ]
  },
  {
   "cell_type": "code",
   "execution_count": 2,
   "metadata": {
    "collapsed": true
   },
   "outputs": [],
   "source": [
    "import machine\n",
    "#i2c = machine.I2C(scl=machine.Pin(5), sda=machine.Pin(4))\n",
    "i2c = machine.I2C(scl=machine.Pin(22), sda=machine.Pin(21))\n",
    "\n"
   ]
  },
  {
   "cell_type": "code",
   "execution_count": 3,
   "metadata": {
    "collapsed": true
   },
   "outputs": [],
   "source": [
    "i2c = machine.I2C(scl=machine.Pin(15), sda=machine.Pin(4))\n"
   ]
  },
  {
   "cell_type": "code",
   "execution_count": 4,
   "metadata": {},
   "outputs": [
    {
     "name": "stdout",
     "output_type": "stream",
     "text": [
      "[41, 60]\r\n"
     ]
    }
   ],
   "source": [
    "print(i2c.scan())"
   ]
  },
  {
   "cell_type": "code",
   "execution_count": 7,
   "metadata": {},
   "outputs": [
    {
     "name": "stderr",
     "output_type": "stream",
     "text": [
      "Traceback (most recent call last):\n",
      "  File \"<stdin>\", line 2, in <module>\n",
      "  File \"vl6180.py\", line 9, in __init__\n",
      "  File \"vl6180.py\", line 34, in init\n",
      "RuntimeError: Failure reset\n"
     ]
    }
   ],
   "source": [
    "from vl6180 import Sensor\n",
    "s = Sensor(i2c)"
   ]
  },
  {
   "cell_type": "code",
   "execution_count": 9,
   "metadata": {
    "collapsed": true
   },
   "outputs": [],
   "source": [
    "s.init()\n",
    "s.default_settings()\n",
    "s._set_reg8(0x001B, 0x00) # Set default ranging inter-measurement\n",
    "s._set_reg8(0x001C, 0x3F) # Max convergence time\n",
    "s._set_reg8(0x002D, 0x00) # Range check enables\n",
    "s._set_reg8(0x0022, 0x7B) # Eraly coinvergence estimate\n",
    "s._set_reg8(0x0120, 0x01) # Firmware result scaler\n"
   ]
  },
  {
   "cell_type": "code",
   "execution_count": 10,
   "metadata": {},
   "outputs": [
    {
     "name": "stdout",
     "output_type": "stream",
     "text": [
      "{'module_revision': (1, 2), 'revision': (1, 3), 'date': 75, 'time': 98, 'model': 180}\r\n"
     ]
    }
   ],
   "source": [
    "s._set_reg8(0x010A, 0x30) # Set Avg sample period\n",
    "print(s.identify())"
   ]
  },
  {
   "cell_type": "code",
   "execution_count": 13,
   "metadata": {},
   "outputs": [
    {
     "name": "stdout",
     "output_type": "stream",
     "text": [
      "49\n",
      "255\n",
      "255\n",
      "255\n",
      "79\n",
      "62\n",
      "53\n",
      "47\n",
      "42\n",
      "52\n",
      ".68\n",
      "68\n",
      "159\n",
      "255\n",
      "255\n",
      "255\n",
      "255\n",
      "255\n",
      "255\n",
      "255\n"
     ]
    }
   ],
   "source": [
    "for i in range(20):\n",
    "    print(s.range())\n",
    "    time.sleep(0.5)"
   ]
  },
  {
   "cell_type": "code",
   "execution_count": 105,
   "metadata": {},
   "outputs": [
    {
     "name": "stdout",
     "output_type": "stream",
     "text": [
      "9 lines captured"
     ]
    }
   ],
   "source": [
    "%capture --quiet testvl6180.txt\n",
    "\n",
    "import time\n",
    " \n",
    "t0 = time.ticks_ms()\n",
    "for i in range(9):\n",
    "    for j in range(80):\n",
    "        print(s.range(), end=\" \")  # puts a blank instead of a newline\n",
    "        time.sleep(0.0001)  # make a reading every 1/100th of a second\n",
    "    print()\n",
    "dt = time.ticks_ms() - t0\n"
   ]
  },
  {
   "cell_type": "code",
   "execution_count": 104,
   "metadata": {},
   "outputs": [
    {
     "name": "stdout",
     "output_type": "stream",
     "text": [
      "8318 11.5528\r\n"
     ]
    }
   ],
   "source": [
    "print(dt, dt/(9*80))"
   ]
  },
  {
   "cell_type": "code",
   "execution_count": null,
   "metadata": {
    "collapsed": true
   },
   "outputs": [],
   "source": []
  }
 ],
 "metadata": {
  "kernelspec": {
   "display_name": "MicroPython - USB",
   "language": "micropython",
   "name": "micropython"
  },
  "language_info": {
   "codemirror_mode": "python",
   "file_extension": ".py",
   "mimetype": "text/python",
   "name": "micropython"
  }
 },
 "nbformat": 4,
 "nbformat_minor": 2
}

{
 "cells": [
  {
   "cell_type": "code",
   "execution_count": 25,
   "metadata": {},
   "outputs": [
    {
     "name": "stdout",
     "output_type": "stream",
     "text": [
      "\u001b[34mConnecting to Serial /dev/ttyUSB1 baud=115200 \u001b[0m\n",
      "\u001b[34mReady.\n",
      "\u001b[0m"
     ]
    }
   ],
   "source": [
    "%serialconnect"
   ]
  },
  {
   "cell_type": "code",
   "execution_count": 11,
   "metadata": {
    "collapsed": true
   },
   "outputs": [],
   "source": [
    "# Communications according to:\n",
    "# https://arduino.stackexchange.com/questions/23684/stpm10-using-arduino-spi-communication/23742\n",
    "\n",
    "# spi outline here: https://forum.micropython.org/viewtopic.php?f=16&t=1705&sid=a941eec9bce447f4046c2bd164953481&start=10\n"
   ]
  },
  {
   "cell_type": "code",
   "execution_count": 26,
   "metadata": {},
   "outputs": [],
   "source": [
    "import machine\n",
    "\n",
    "SPISCS = machine.Pin(27, machine.Pin.OUT)\n",
    "SPISDA = machine.Pin(12)\n",
    "SPISCL = machine.Pin(14, machine.Pin.OUT)\n",
    "SPISYN = machine.Pin(26, machine.Pin.OUT)\n",
    "SPISCS.value(1)\n",
    "SPISYN.value(1)\n",
    "spi = machine.SPI(miso=SPISDA, mosi=machine.Pin(13, machine.Pin.OUT), sck=SPISCL, \n",
    "                  baudrate=32000, firstbit=machine.SPI.MSB)\n",
    "spi.init()\n"
   ]
  },
  {
   "cell_type": "code",
   "execution_count": 13,
   "metadata": {},
   "outputs": [
    {
     "name": "stdout",
     "output_type": "stream",
     "text": [
      "object <module 'utime'> is of type module\n",
      "  __name__ -- utime\n",
      "  localtime -- <function>\n",
      "  mktime -- <function>\n",
      "  time -- <function>\n",
      "  sleep -- <function>\n",
      "  sleep_ms -- <function>\n",
      "  sleep_us -- <function>\n",
      "  ticks_ms -- <function>\n",
      "  ticks_us -- <function>\n",
      "  ticks_cpu -- <function>\n",
      "  ticks_add -- <function>\n",
      "  ticks_diff -- <function>\n"
     ]
    }
   ],
   "source": [
    "import time\n",
    "help(time)"
   ]
  },
  {
   "cell_type": "code",
   "execution_count": 30,
   "metadata": {},
   "outputs": [],
   "source": [
    "import time\n",
    "def write_reg(addr, val):\n",
    "    val = (val << 7) | (addr << 1);  # 6-bit addresses!\n",
    "    spi.deinit()\n",
    "    SPISDA.init(machine.Pin.OUT)\n",
    "    SPISYN.value(1)\n",
    "    time.sleep_us(10)\n",
    "    SPISCS.value(0)\n",
    "    SPISYN.value(0)\n",
    "    for i in range(8):\n",
    "        time.sleep_us(10);\n",
    "        SPISCL.value(0)\n",
    "        SPISDA.value(1 if (val & 0x80) else 0);\n",
    "        time.sleep_us(10);\n",
    "        SPISCL.value(1)\n",
    "        val <<= 1;\n",
    "\n",
    "    SPISYN.value(1)\n",
    "    SPISCS.value(1)\n",
    "    SPISDA.init(machine.Pin.IN)\n",
    "    spi.init()\n",
    "\n",
    "def read_regs(n):\n",
    "    SPISYN.value(0)\n",
    "    SPISCS.value(0)\n",
    "    SPISYN.value(1)\n",
    "    res = [ ]\n",
    "    for i in range(n):\n",
    "        res.append(spi.read(4))\n",
    "    SPISCS.value(1)\n",
    "    return res"
   ]
  },
  {
   "cell_type": "code",
   "execution_count": 31,
   "metadata": {},
   "outputs": [
    {
     "name": "stdout",
     "output_type": "stream",
     "text": [
      "0\r\n"
     ]
    }
   ],
   "source": [
    "SPISDA.init(SPISDA.OUT)\n",
    "print(SPISDA.value())\n"
   ]
  },
  {
   "cell_type": "code",
   "execution_count": 19,
   "metadata": {},
   "outputs": [
    {
     "name": "stdout",
     "output_type": "stream",
     "text": [
      "b'\\x00\\x00\\x00\\x00'\r\n"
     ]
    }
   ],
   "source": [
    "print(spi.read(4))\n"
   ]
  },
  {
   "cell_type": "code",
   "execution_count": 33,
   "metadata": {},
   "outputs": [
    {
     "name": "stdout",
     "output_type": "stream",
     "text": [
      "[b'\\x00\\x00\\x00\\x00', b'\\x00\\x00\\x00\\x00', b'\\x00\\x00\\x00\\x00', b'\\x00\\x00\\x00\\x00', b'\\x00\\x00\\x00\\x00', b'\\x00\\x00\\x00\\x00', b'\\x00\\x00\\x00\\x00', b'\\x00\\x00\\x00\\x00']\r\n"
     ]
    }
   ],
   "source": [
    "\n",
    "write_reg(47, 1) #;  // set config bit 47\n",
    "x = read_regs(8) #;  // read all reg data into array\n",
    "print(x)\n"
   ]
  },
  {
   "cell_type": "code",
   "execution_count": null,
   "metadata": {
    "collapsed": true
   },
   "outputs": [],
   "source": []
  }
 ],
 "metadata": {
  "kernelspec": {
   "display_name": "MicroPython - USB",
   "language": "micropython",
   "name": "micropython"
  },
  "language_info": {
   "codemirror_mode": "python",
   "file_extension": ".py",
   "mimetype": "text/python",
   "name": "micropython"
  }
 },
 "nbformat": 4,
 "nbformat_minor": 2
}

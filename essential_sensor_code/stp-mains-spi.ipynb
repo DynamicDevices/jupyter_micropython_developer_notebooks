{
 "cells": [
  {
   "cell_type": "code",
   "execution_count": 146,
   "metadata": {},
   "outputs": [
    {
     "name": "stdout",
     "output_type": "stream",
     "text": [
      "\u001b[34mConnecting to Serial /dev/ttyUSB4 baud=115200 \u001b[0m\n",
      "\u001b[34mReady.\n",
      "\u001b[0m"
     ]
    }
   ],
   "source": [
    "%serialconnect"
   ]
  },
  {
   "cell_type": "code",
   "execution_count": 11,
   "metadata": {
    "collapsed": true
   },
   "outputs": [],
   "source": [
    "# Communications according to:\n",
    "# https://arduino.stackexchange.com/questions/23684/stpm10-using-arduino-spi-communication/23742\n",
    "\n",
    "# spi outline here: https://forum.micropython.org/viewtopic.php?f=16&t=1705&sid=a941eec9bce447f4046c2bd164953481&start=10\n",
    "\n",
    "# teardowns of these devices here: https://www.youtube.com/watch?v=MeTVCbjFft4"
   ]
  },
  {
   "cell_type": "code",
   "execution_count": 152,
   "metadata": {},
   "outputs": [
    {
     "name": "stdout",
     "output_type": "stream",
     "text": [
      "Sent 10 lines (377 bytes) to main.py.\n"
     ]
    }
   ],
   "source": [
    "%sendtofile main.py\n",
    "\n",
    "import machine\n",
    "\n",
    "SPISCS = machine.Pin(27, machine.Pin.OUT)\n",
    "SPISDA = machine.Pin(25)  # 12 is bad causes total crash\n",
    "SPISCL = machine.Pin(14, machine.Pin.OUT)\n",
    "SPISYN = machine.Pin(26, machine.Pin.OUT)\n",
    "SPISCS.value(1)\n",
    "SPISYN.value(1)\n",
    "spi = machine.SPI(miso=SPISDA, mosi=machine.Pin(13, machine.Pin.OUT), sck=SPISCL, \n",
    "                  baudrate=32000000, firstbit=machine.SPI.MSB)\n"
   ]
  },
  {
   "cell_type": "code",
   "execution_count": 108,
   "metadata": {},
   "outputs": [],
   "source": [
    "spi.init()"
   ]
  },
  {
   "cell_type": "code",
   "execution_count": 107,
   "metadata": {},
   "outputs": [
    {
     "name": "stdout",
     "output_type": "stream",
     "text": [
      "object SoftSPI(baudrate=1200000, polarity=0, phase=0, sck=14, mosi=13, miso=25) is of type SoftSPI\n",
      "  init -- <function>\n",
      "  deinit -- <function>\n",
      "  read -- <function>\n",
      "  readinto -- <function>\n",
      "  write -- <function>\n",
      "  write_readinto -- <function>\n",
      "  MSB -- 0\n",
      "  LSB -- 1\n"
     ]
    }
   ],
   "source": [
    "help(spi)"
   ]
  },
  {
   "cell_type": "code",
   "execution_count": null,
   "metadata": {
    "collapsed": true
   },
   "outputs": [],
   "source": []
  },
  {
   "cell_type": "code",
   "execution_count": 153,
   "metadata": {},
   "outputs": [
    {
     "name": "stdout",
     "output_type": "stream",
     "text": [
      "Sent 32 lines (729 bytes) to main.py.\n"
     ]
    }
   ],
   "source": [
    "%sendtofile --append main.py\n",
    "\n",
    "import time\n",
    "def write_reg(addr, val):\n",
    "    val = (val << 7) | (addr << 1);  # 6-bit addresses!\n",
    "    spi.deinit()\n",
    "    SPISDA.init(machine.Pin.OUT)\n",
    "    SPISYN.value(1)\n",
    "    SPISCL.value(1)\n",
    "    time.sleep_us(10)\n",
    "    SPISCS.value(0)\n",
    "    SPISYN.value(0)\n",
    "    for i in range(8):\n",
    "        time.sleep_us(10);\n",
    "        SPISCL.value(0)\n",
    "        SPISDA.value(1 if (val & 0x80) else 0);\n",
    "        time.sleep_us(10);\n",
    "        SPISCL.value(1)\n",
    "        val <<= 1;\n",
    "\n",
    "    SPISYN.value(1)\n",
    "    SPISCS.value(1)\n",
    "    SPISDA.init(machine.Pin.IN, machine.Pin.PULL_UP)\n",
    "    spi.init()\n",
    "\n",
    "def read_regs(n):\n",
    "    SPISYN.value(0)\n",
    "    SPISCS.value(0)\n",
    "    SPISYN.value(1)\n",
    "    res = [ ]\n",
    "    for i in range(n):\n",
    "        res.append(spi.read(4))\n",
    "    SPISCS.value(1)\n",
    "    return res"
   ]
  },
  {
   "cell_type": "code",
   "execution_count": null,
   "metadata": {},
   "outputs": [
    {
     "name": "stdout",
     "output_type": "stream",
     "text": [
      "\n",
      "[missing-OK]_e x(0i 00 \n",
      "8000001300000007000500814070f9f000080f030\n",
      "ffef88e1007000b807f8f0f808b078fff088e000000080000000fe0f01000000b70\n",
      "000800a0800000\n",
      "070000707f7e08e0008\n",
      "fe9fff80xcfb80fff0a00800875b480070d00c040\n",
      "08e000770ff8e40000f00804b0ff0f000f90fe0000008bb8ef07007f400d7070000e1x50800070f70000801000\n",
      "ff00007406070f9ae8080fa80b0af980b70707e08f080e0040\n",
      "eff08f0000000002f080700000fa0807\n",
      " my 870fef6805b00004800e  tcl>\n",
      "[missing-OK]ine 52, in <listcomp>>\n",
      "\n",
      ">\n",
      "..\n",
      "[missing-OK]ost>\n",
      ">>\n",
      "[missing-OK]:] ox\n",
      "[missing-OK]fe0 f f00..\n",
      "[missing-OK]i((ecn\")]y\n",
      "[missing-OK.>>>."
     ]
    }
   ],
   "source": [
    "import ustruct\n",
    "write_reg(47, 1) #;  // set config bit 47\n",
    "x = read_regs(8) #;  // read all reg data into array\n",
    "print(\" \".join([hex(ustruct.unpack(\"I\", y)[0])[-8:]  for y in x]))"
   ]
  },
  {
   "cell_type": "code",
   "execution_count": 154,
   "metadata": {},
   "outputs": [
    {
     "name": "stdout",
     "output_type": "stream",
     "text": [
      "Sent 10 lines (324 bytes) to main.py.\n"
     ]
    }
   ],
   "source": [
    "%sendtofile --append main.py\n",
    "\n",
    "\n",
    "import ustruct\n",
    "# 6FFFFE259FFFFE7F1006EE801FFFFE007804000414147FF8B000004070080000\n",
    "def f():\n",
    "    while True:\n",
    "        write_reg(47, 1) #;  // set config bit 47\n",
    "        x = read_regs(8) #;  // read all reg data into array\n",
    "        time.sleep_ms(50)\n",
    "        print(\"\".join([hex(ustruct.unpack(\"I\", y)[0])[-8:]  for y in x]))\n",
    "f()  "
   ]
  },
  {
   "cell_type": "code",
   "execution_count": 126,
   "metadata": {},
   "outputs": [],
   "source": [
    "#help(SPISDA)\n",
    "SPISDA.init(SPISDA.IN, SPISDA.PULL_UP)\n",
    "#SPISDA.init(SPISDA.PULL_UP)\n"
   ]
  },
  {
   "cell_type": "code",
   "execution_count": 132,
   "metadata": {
    "scrolled": false
   },
   "outputs": [
    {
     "name": "stdout",
     "output_type": "stream",
     "text": [
      "1766\n",
      "1664\n",
      "1664\n",
      "1664\n",
      "1668\n",
      "1664\n",
      "\n",
      "\n",
      "*** Sending Ctrl-C\n",
      "\n"
     ]
    },
    {
     "name": "stderr",
     "output_type": "stream",
     "text": [
      "Traceback (most recent call last):\n",
      "  File \"<stdin>\", line 6, in <module>\n",
      "KeyboardInterrupt: \n"
     ]
    }
   ],
   "source": [
    "\n",
    "for i in range(100):\n",
    "    write_reg(47, 1) #;  // set config bit 47\n",
    "    x = read_regs(8) #;  // read all reg data into array\n",
    "    #print(x)\n",
    "    time.sleep(1)"
   ]
  },
  {
   "cell_type": "code",
   "execution_count": null,
   "metadata": {},
   "outputs": [],
   "source": [
    "%disconnect"
   ]
  },
  {
   "cell_type": "code",
   "execution_count": null,
   "metadata": {
    "collapsed": true
   },
   "outputs": [],
   "source": [
    "\n"
   ]
  }
 ],
 "metadata": {
  "kernelspec": {
   "display_name": "MicroPython - USB",
   "language": "micropython",
   "name": "micropython"
  },
  "language_info": {
   "codemirror_mode": "python",
   "file_extension": ".py",
   "mimetype": "text/python",
   "name": "micropython"
  }
 },
 "nbformat": 4,
 "nbformat_minor": 2
}

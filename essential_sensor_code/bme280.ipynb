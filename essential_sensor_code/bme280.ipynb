{
 "cells": [
  {
   "cell_type": "code",
   "execution_count": null,
   "metadata": {
    "collapsed": true
   },
   "outputs": [],
   "source": [
    "# working on reading the BME280.  The way it achieves its lack of noise is with oversampling and filters\n",
    "# We turn all these off so we can process the values with our own noise handling\n",
    "# And set it to sample as fast as possible in normal mode, which is a rate of about 10ms"
   ]
  },
  {
   "cell_type": "code",
   "execution_count": 1,
   "metadata": {},
   "outputs": [
    {
     "name": "stdout",
     "output_type": "stream",
     "text": [
      "\u001b[34mConnecting to Serial /dev/ttyUSB1 baud=115200 \u001b[0m\n",
      "\u001b[34mReady.\n",
      "\u001b[0m"
     ]
    }
   ],
   "source": [
    "%serialconnect\n"
   ]
  },
  {
   "cell_type": "code",
   "execution_count": 2,
   "metadata": {},
   "outputs": [
    {
     "name": "stdout",
     "output_type": "stream",
     "text": [
      "Sent 87 lines (3502 bytes) to bme280.py.\n"
     ]
    }
   ],
   "source": [
    "%sendtofile --source bme280.py"
   ]
  },
  {
   "cell_type": "code",
   "execution_count": 7,
   "metadata": {},
   "outputs": [
    {
     "name": "stdout",
     "output_type": "stream",
     "text": [
      "[119] 0x77\r\n"
     ]
    }
   ],
   "source": []
  },
  {
   "cell_type": "code",
   "execution_count": 8,
   "metadata": {},
   "outputs": [
    {
     "name": "stdout",
     "output_type": "stream",
     "text": [
      "[119] 0x77\r\n"
     ]
    }
   ],
   "source": [
    "# use this to check\n",
    "import machine\n",
    "i2c = machine.I2C(scl=machine.Pin(5), sda=machine.Pin(4))\n",
    "\n",
    "# SDI is SDA(pin4), SCK is SCL(pin5) \n",
    "print(i2c.scan(), hex(119))\n",
    "\n",
    "from bme280 import bme280gen\n",
    "a = bme280gen(i2c)"
   ]
  },
  {
   "cell_type": "code",
   "execution_count": 20,
   "metadata": {},
   "outputs": [
    {
     "name": "stdout",
     "output_type": "stream",
     "text": [
      "['__init__.mpy', 'core.mpy', 'synchro.mpy']\r\n"
     ]
    }
   ],
   "source": []
  },
  {
   "cell_type": "code",
   "execution_count": 21,
   "metadata": {},
   "outputs": [
    {
     "name": "stdout",
     "output_type": "stream",
     "text": [
      "(19.23, 101001.8, 30.46484)\n",
      "(19.23, 101001.8, 30.46484)\n",
      "(19.23, 101001.8, 30.46484)\n",
      "(19.23, 101001.8, 30.46484)\n",
      "(19.23, 101001.8, 30.46484)\n",
      "(19.24, 101006.1, 30.5332)\n",
      "(19.24, 101006.1, 30.5332)\n",
      "(19.24, 101006.1, 30.5332)\n",
      "(19.24, 101006.1, 30.5332)\n",
      "(19.24, 101006.1, 30.5332)\n"
     ]
    }
   ],
   "source": [
    "for i in range(10):\n",
    "    print(next(a))\n"
   ]
  },
  {
   "cell_type": "code",
   "execution_count": 182,
   "metadata": {},
   "outputs": [
    {
     "name": "stdout",
     "output_type": "stream",
     "text": [
      "[119]\n",
      "True\n"
     ]
    }
   ],
   "source": [
    "# the following for working out the bme280.py file\n",
    "import machine\n",
    "i2c = machine.I2C(scl=machine.Pin(5), sda=machine.Pin(4))\n",
    "\n",
    "\n",
    "def bme280_checkchipid():\n",
    "    k = i2c.readfrom_mem(0x77, 0xD0, 1)\n",
    "    return (k == b'\\x60')\n",
    "\n",
    "print(i2c.scan())\n",
    "print(bme280_checkchipid())"
   ]
  },
  {
   "cell_type": "code",
   "execution_count": 168,
   "metadata": {},
   "outputs": [
    {
     "name": "stderr",
     "output_type": "stream",
     "text": [
      "Traceback (most recent call last):\n",
      "  File \"<stdin>\", line 2, in <module>\n",
      "OSError: [Errno 19] ENODEV\n"
     ]
    }
   ],
   "source": [
    "# ctlr_hum  0xF2: none none none none none osrs_h2 osrs_h1 osrs_h0\n",
    "i2c.writeto_mem(0x77, 0xF2, b'\\x01')  # switch on humidity (over)sampling=1\n",
    "\n",
    "# ctrl_meas 0xF4: osrs_t2 osrs_t1 osrs_t0 osrs_p2 osrs_p1 osrs_p0 mode1 mode0\n",
    "i2c.writeto_mem(0x77, 0xF4, b'\\x27')  # switch on temp and pressure (over)sampling=1, mode=normal(continuous readings)\n",
    "\n",
    "# config    0xF5: t_sb2 t_sb1 t_sb0 filter2 filter1 filter0 none spi3w_en0\n",
    "i2c.writeto_mem(0x77, 0xF5, b'\\x00')  # 0.5ms standby, no filtering, no-SPI\n",
    "\n",
    "# status    0xF3: none none none none measuring0 none none im_update0\n",
    "# this doesn't seem to get 1 values ever\n"
   ]
  },
  {
   "cell_type": "code",
   "execution_count": 167,
   "metadata": {},
   "outputs": [
    {
     "name": "stderr",
     "output_type": "stream",
     "text": [
      "Traceback (most recent call last):\n",
      "  File \"<stdin>\", line 23, in <module>\n",
      "  File \"<stdin>\", line 10, in GetBME280calibrations\n",
      "OSError: [Errno 19] ENODEV\n"
     ]
    }
   ],
   "source": [
    "# pack the 19 calibration numbers down efficiently into one structure\n",
    "import array, ustruct\n",
    "\n",
    "dT1, dT2, dT3 = 0, 1, 2 #const(0), const(1), const(2)\n",
    "dP1, dP2, dP3, dP4, dP5, dP6, dP7, dP8, dP9 = 3, 4, 5, 6, 7, 8, 9, 10, 11 #const(0), const(1), const(2)\n",
    "dH1, dH2, dH3, dH4, dH5, dH6 = 13, 14, 15, 16, 17, 18\n",
    "\n",
    "def GetBME280calibrations():\n",
    "    dc = array.array(\"i\", range(19))\n",
    "    dc[dT1], dc[dT2], dc[dT3] = ustruct.unpack(\"<Hhh\", i2c.readfrom_mem(0x77, 0x88, 6))\n",
    "    dc[dP1], dc[dP2], dc[dP3], dc[dP4], dc[dP5], dc[dP6], dc[dP7], dc[dP8], dc[dP9] = \\\n",
    "                            ustruct.unpack(\"<Hhhhhhhhh\", i2c.readfrom_mem(0x77, 0x8E, 18))\n",
    "    dc[dH1] = i2c.readfrom_mem(0x77, 0xA1, 1)[0]\n",
    "    dig_e1_e7 = i2c.readfrom_mem(0x77, 0xE1, 7)\n",
    "    dc[dH2], dc[dH3] = ustruct.unpack(\"<hB\", dig_e1_e7)\n",
    "    e4_sign = ustruct.unpack_from(\"<b\", dig_e1_e7, 3)[0]\n",
    "    dc[dH4] = (e4_sign << 4) | (dig_e1_e7[4] & 0xF)\n",
    "    e6_sign = ustruct.unpack_from(\"<b\", dig_e1_e7, 5)[0]\n",
    "    dc[dH5] = (e6_sign << 4) | (dig_e1_e7[4] >> 4)\n",
    "    dc[dH6] = ustruct.unpack_from(\"<b\", dig_e1_e7, 6)[0]\n",
    "    return dc\n",
    "\n",
    "dc = GetBME280calibrations()\n",
    "print(dc)"
   ]
  },
  {
   "cell_type": "code",
   "execution_count": 155,
   "metadata": {
    "collapsed": true
   },
   "outputs": [],
   "source": [
    "readout = bytearray(8)\n",
    "tph = array.array(\"i\", range(3))\n",
    "\n",
    "def readBME280():\n",
    "    # burst readout from 0xF7 to 0xFE, recommended by datasheet\n",
    "    i2c.readfrom_mem_into(0x77, 0xF7, readout)\n",
    "    raw_press = ((readout[0] << 16) | (readout[1] << 8) | readout[2]) >> 4\n",
    "    raw_temp = ((readout[3] << 16) | (readout[4] << 8) | readout[5]) >> 4\n",
    "    raw_hum = (readout[6] << 8) | readout[7]\n",
    "\n",
    "    # temperature\n",
    "    var1 = ((raw_temp >> 3) - (dc[dT1] << 1)) * (dc[dT2] >> 11)\n",
    "    var2 = (((((raw_temp >> 4) - dc[dT1]) * ((raw_temp >> 4) - dc[dT1])) >> 12) * dc[dT3]) >> 14\n",
    "    t_fine = var1 + var2\n",
    "    tph[0] = (t_fine * 5 + 128) >> 8\n",
    "    \n",
    "    # pressure\n",
    "    var1 = t_fine - 128000\n",
    "    var2 = var1 * var1 * dc[dP6]\n",
    "    var2 = var2 + ((var1 * dc[dP5]) << 17)\n",
    "    var2 = var2 + (dc[dP4] << 35)\n",
    "    var1 = (((var1 * var1 * dc[dP3]) >> 8) + ((var1 * dc[dP2]) << 12))\n",
    "    var1 = (((1 << 47) + var1) * dc[dP1]) >> 33\n",
    "    if var1 == 0:\n",
    "        tph[1] = 0\n",
    "    else:\n",
    "        p = 1048576 - raw_press\n",
    "        p = (((p << 31) - var2) * 3125) // var1\n",
    "        var1 = (dc[dP9] * (p >> 13) * (p >> 13)) >> 25\n",
    "        var2 = (dc[dP8] * p) >> 19\n",
    "        tph[1] = ((p + var1 + var2) >> 8) + (dc[dP7] << 4)\n",
    "    \n",
    "    # humidity\n",
    "    h = t_fine - 76800\n",
    "    h = (((((raw_hum << 14) - (dc[dH4] << 20) - (dc[dH5] * h)) + 16384) >> 15) * (((((((h * dc[dH6]) >> 10) * (((h * dc[dH3]) >> 11) + 32768)) >> 10) + 2097152) * dc[dH2] + 8192) >> 14))\n",
    "    h = h - (((((h >> 15) * (h >> 15)) >> 7) * dc[dH1]) >> 4)\n",
    "    h = 0 if h < 0 else h\n",
    "    h = 419430400 if h > 419430400 else h\n",
    "    tph[2] = h >> 12\n",
    "\n",
    "\n"
   ]
  },
  {
   "cell_type": "code",
   "execution_count": 159,
   "metadata": {},
   "outputs": [
    {
     "name": "stdout",
     "output_type": "stream",
     "text": [
      "\n",
      "\u001b[0;32mI (166869) network: event 13\u001b[0m\n",
      "Creating access point ESP_0e3acd\n",
      "Device has ipnumber 192.168.4.1\n"
     ]
    }
   ],
   "source": [
    "from connecthotspot import ipnumber"
   ]
  },
  {
   "cell_type": "code",
   "execution_count": 160,
   "metadata": {},
   "outputs": [
    {
     "name": "stdout",
     "output_type": "stream",
     "text": [
      "18.64 101899.5 39.02442\n",
      "18.64 101891.4 39.03613\n",
      "18.64 101896.8 39.04688\n",
      "18.64 101897.5 39.04785\n",
      "18.65 101892.9 39.03711\n",
      "18.64 101892.1 39.04785\n",
      "\u001b[0;32mI (179439) network: event 15\u001b[0m\n",
      "18.64 101896.8 39.03613\n",
      "18.65 101892.9 39.03711\n",
      "18.64 101892.1 39.03711\n",
      "18.64 101888.7 39.02442\n",
      "18.64 101894.8 39.05957\n",
      "18.64 101894.8 39.04785\n",
      "18.65 101898.3 39.02539\n",
      "18.64 101894.8 39.04785\n",
      "18.64 101894.1 39.02442\n",
      "18.65 101892.9 39.05957\n",
      "18.66 101897.2 39.04883\n",
      "18.66 101889.1 39.06055\n",
      "18.67 101896.8 39.16211\n",
      "18.67 101896.8 39.36523\n"
     ]
    }
   ],
   "source": [
    "for i in range(20):\n",
    "    readBME280()\n",
    "    print(tph[0]/100, tph[1]/256, tph[2]/1024)\n",
    "    time.sleep_ms(500)\n",
    "\n"
   ]
  },
  {
   "cell_type": "code",
   "execution_count": 34,
   "metadata": {},
   "outputs": [
    {
     "name": "stdout",
     "output_type": "stream",
     "text": [
      "('20.3C', '711.12hPa', '76.57%')\r\n"
     ]
    }
   ],
   "source": [
    "import machine\n",
    "\n",
    "i2c = machine.I2C(scl=machine.Pin(5), sda=machine.Pin(4))\n",
    "bme = BME280(i2c=i2c)\n",
    "\n",
    "print(bme.values)\n"
   ]
  },
  {
   "cell_type": "code",
   "execution_count": 35,
   "metadata": {},
   "outputs": [
    {
     "name": "stdout",
     "output_type": "stream",
     "text": [
      "('22.93C', '1017.35hPa', '40.22%')\n",
      "('22.89C', '1017.32hPa', '40.26%')\n",
      "('22.85C', '1017.37hPa', '40.25%')\n",
      "('23.15C', '1017.29hPa', '43.45%')\n",
      "('23.0C', '1017.34hPa', '42.25%')\n",
      ".('23.24C', '1017.31hPa', '54.34%')\n",
      "('22.91C', '1017.35hPa', '59.50%')\n",
      "('22.84C', '1017.40hPa', '54.74%')\n",
      "('22.8C', '1017.45hPa', '49.93%')\n",
      "('22.77C', '1017.39hPa', '47.09%')\n"
     ]
    }
   ],
   "source": [
    "import time\n",
    "for i in range(10):\n",
    "    print(bme.values)\n",
    "    time.sleep(1)\n",
    "    "
   ]
  },
  {
   "cell_type": "code",
   "execution_count": 113,
   "metadata": {},
   "outputs": [
    {
     "name": "stdout",
     "output_type": "stream",
     "text": [
      "\u001b[32mWriting bme280.py\n",
      "\n",
      "\u001b[0m"
     ]
    }
   ],
   "source": [
    "%%writefile bme280.py\n",
    "\n",
    "thing"
   ]
  },
  {
   "cell_type": "code",
   "execution_count": null,
   "metadata": {
    "collapsed": true
   },
   "outputs": [],
   "source": [
    "# code taken from other main\n",
    "\n",
    "# hook = [ go=1/exit=0, time, t, p, h ]\n",
    "async def abme280(i2c, hook):\n",
    "    log(\"Entering abme280\")\n",
    "    try:\n",
    "        if not bme280init(i2c):\n",
    "            raise Exception(\"bme280 not found\")\n",
    "        dc = GetBME280calibrations(i2c)\n",
    "        readout = bytearray(8)\n",
    "        tph = array.array(\"i\", range(3))\n",
    "        while hook[0]:\n",
    "            hook[1] = time.ticks_ms()\n",
    "            readBME280(tph, dc, readout, i2c)\n",
    "            hook[2] = tph[0]; hook[3] = tph[1]; hook[4] = tph[2]; \n",
    "            await uasyncio.sleep_ms(12)\n",
    "    except Exception as e:\n",
    "        elog(e)\n",
    "    hook[0] = -1\n",
    "    log(\"Leaving abme280\")\n",
    "\n",
    "    \n",
    "def conv4inttoHex(hexbuff, i1, i2, i3, i4):\n",
    "    ustruct.pack_into(\">IIII\", hexbuff, 16, i1, i2, i3, i4)\n",
    "    for i in range(16):\n",
    "        b = hexbuff[i+16]\n",
    "        hexbuff[i*2] = (b>>4) + (48 if b < 160 else 55)  #ord('0')=48; ord('A')=65\n",
    "        b &= 15\n",
    "        hexbuff[i*2+1] = b + (48 if b < 10 else 55)\n",
    "\n",
    "    \n",
    "    "
   ]
  },
  {
   "cell_type": "code",
   "execution_count": null,
   "metadata": {
    "collapsed": true
   },
   "outputs": [],
   "source": [
    "# code not yet finished\n",
    "\n",
    "class SensorBME280:\n",
    "    def __init__(self):\n",
    "        self.gocount = 1   # set to 0 to cause to end\n",
    "        self.t = time.ticks_ms()\n",
    "        self.tph = array.array(\"i\", range(3))\n",
    "        self.fout = None\n",
    "    \n",
    "    async def task(i2c):\n",
    "        log(\"Entering abme280\")\n",
    "        try:\n",
    "            if not bme280init(i2c):\n",
    "                raise Exception(\"bme280 not found\")\n",
    "            dc = GetBME280calibrations(i2c)\n",
    "            readout = bytearray(8)\n",
    "            tph = array.array(\"i\", range(3))\n",
    "            while hook[0]:\n",
    "                hook[1] = time.ticks_ms()\n",
    "                readBME280(tph, dc, readout, i2c)\n",
    "                hook[2] = tph[0]; hook[3] = tph[1]; hook[4] = tph[2]; \n",
    "                await uasyncio.sleep_ms(12)\n",
    "        except Exception as e:\n",
    "            elog(e)\n",
    "        self.gocount = 0\n",
    "        log(\"Leaving abme280\")\n"
   ]
  }
 ],
 "metadata": {
  "kernelspec": {
   "display_name": "MicroPython - USB",
   "language": "micropython",
   "name": "micropython"
  },
  "language_info": {
   "codemirror_mode": "python",
   "file_extension": ".py",
   "mimetype": "text/python",
   "name": "micropython"
  }
 },
 "nbformat": 4,
 "nbformat_minor": 2
}

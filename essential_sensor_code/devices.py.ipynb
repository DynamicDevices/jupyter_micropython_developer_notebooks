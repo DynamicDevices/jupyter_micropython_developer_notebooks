{
 "cells": [
  {
   "cell_type": "code",
   "execution_count": 1,
   "metadata": {},
   "outputs": [
    {
     "name": "stdout",
     "output_type": "stream",
     "text": [
      "Connecting to Serial /dev/ttyUSB1 baud=115200 \n",
      "Ready."
     ]
    }
   ],
   "source": [
    "%serialconnect"
   ]
  },
  {
   "cell_type": "code",
   "execution_count": 8,
   "metadata": {
    "collapsed": true
   },
   "outputs": [],
   "source": [
    "import machine\n",
    "spi = machine.SPI(1, baudrate=100000, polarity=0, phase=0)\n"
   ]
  },
  {
   "cell_type": "code",
   "execution_count": 11,
   "metadata": {},
   "outputs": [],
   "source": [
    "spi.write(b'\\x76')\n",
    "spi.write(b'\\x77\\ff');\n",
    "\n",
    " "
   ]
  },
  {
   "cell_type": "code",
   "execution_count": null,
   "metadata": {
    "collapsed": true
   },
   "outputs": [],
   "source": [
    "\n",
    "// Define the SS pin\n",
    "//  This is the only pin we can move around to any available\n",
    "//  digital pin.\n",
    "const int ssPin = 8;\n",
    "\n",
    "unsigned int counter = 0;  // This variable will count up to 65k\n",
    "char tempString[10];  // Will be used with sprintf to create strings\n",
    "\n",
    "void setup()\n",
    "{\n",
    "  // -------- SPI initialization\n",
    "  pinMode(ssPin, OUTPUT);  // Set the SS pin as an output\n",
    "  digitalWrite(ssPin, HIGH);  // Set the SS pin HIGH\n",
    "  SPI.begin();  // Begin SPI hardware\n",
    "  SPI.setClockDivider(SPI_CLOCK_DIV64);  // Slow down SPI clock\n",
    "  // --------\n",
    "\n",
    "  // Clear the display, and then turn on all segments and decimals\n",
    "  clearDisplaySPI();  // Clears display, resets cursor\n",
    "\n",
    "  // Custom function to send four bytes via SPI\n",
    "  //  The SPI.transfer function only allows sending of a single\n",
    "  //  byte at a time.\n",
    "  s7sSendStringSPI(\"-HI-\");\n",
    "  setDecimalsSPI(0b111111);  // Turn on all decimals, colon, apos\n",
    "\n",
    "  // Flash brightness values at the beginning\n",
    "  setBrightnessSPI(0);  // Lowest brightness\n",
    "  delay(1500);\n",
    "  setBrightnessSPI(255);  // High brightness\n",
    "  delay(1500);\n",
    "\n",
    "  // Clear the display before jumping into loop\n",
    "  clearDisplaySPI();  \n",
    "}\n",
    "\n",
    "void loop()\n",
    "{\n",
    "  // Magical sprintf creates a string for us to send to the s7s.\n",
    "  //  The %4d option creates a 4-digit integer.\n",
    "  sprintf(tempString, \"%4d\", counter);\n",
    "\n",
    "  // This will output the tempString to the S7S\n",
    "  s7sSendStringSPI(tempString);\n",
    "\n",
    "  // Print the decimal at the proper spot\n",
    "  if (counter < 10000)\n",
    "    setDecimalsSPI(0b00000010);  // Sets digit 3 decimal on\n",
    "  else\n",
    "    setDecimalsSPI(0b00000100);\n",
    "\n",
    "  counter++;  // Increment the counter\n",
    "  delay(10);  // This will make the display update at 100Hz.*/\n",
    "}\n",
    "\n",
    "// This custom function works somewhat like a serial.print.\n",
    "//  You can send it an array of chars (string) and it'll print\n",
    "//  the first 4 characters in the array.\n",
    "void s7sSendStringSPI(String toSend)\n",
    "{\n",
    "  digitalWrite(ssPin, LOW);\n",
    "  for (int i=0; i<4; i++)\n",
    "  {\n",
    "    SPI.transfer(toSend[i]);\n",
    "  }\n",
    "  digitalWrite(ssPin, HIGH);\n",
    "}\n",
    "\n",
    "// Send the clear display command (0x76)\n",
    "//  This will clear the display and reset the cursor\n",
    "void clearDisplaySPI()\n",
    "{\n",
    "  digitalWrite(ssPin, LOW);\n",
    "  SPI.transfer(0x76);  // Clear display command\n",
    "  digitalWrite(ssPin, HIGH);\n",
    "}\n",
    "\n",
    "// Set the displays brightness. Should receive byte with the value\n",
    "//  to set the brightness to\n",
    "//  dimmest------------->brightest\n",
    "//     0--------127--------255\n",
    "void setBrightnessSPI(byte value)\n",
    "{\n",
    "  digitalWrite(ssPin, LOW);\n",
    "  SPI.transfer(0x7A);  // Set brightness command byte\n",
    "  SPI.transfer(value);  // brightness data byte\n",
    "  digitalWrite(ssPin, HIGH);\n",
    "}\n",
    "\n",
    "// Turn on any, none, or all of the decimals.\n",
    "//  The six lowest bits in the decimals parameter sets a decimal \n",
    "//  (or colon, or apostrophe) on or off. A 1 indicates on, 0 off.\n",
    "//  [MSB] (X)(X)(Apos)(Colon)(Digit 4)(Digit 3)(Digit2)(Digit1)\n",
    "void setDecimalsSPI(byte decimals)\n",
    "{\n",
    "  digitalWrite(ssPin, LOW);\n",
    "  SPI.transfer(0x77);\n",
    "  SPI.transfer(decimals);\n",
    "  digitalWrite(ssPin, HIGH);\n",
    "}\n"
   ]
  },
  {
   "cell_type": "code",
   "execution_count": 13,
   "metadata": {},
   "outputs": [
    {
     "name": "stdout",
     "output_type": "stream",
     "text": [
      "Sent 5 lines (151 bytes)."
     ]
    }
   ],
   "source": [
    "%sendtofile --execute devices.py\n",
    "\n",
    "import time, ustruct, ure, math, sys\n",
    "import machine\n",
    "\n",
    "# NodeMCU: (D1=SCL, D2=SDA)\n",
    "i2c = machine.I2C(scl=machine.Pin(5), sda=machine.Pin(4), freq=20000)\n"
   ]
  },
  {
   "cell_type": "code",
   "execution_count": 14,
   "metadata": {},
   "outputs": [
    {
     "name": "stdout",
     "output_type": "stream",
     "text": [
      "Sent 60 lines (2616 bytes)."
     ]
    }
   ],
   "source": [
    "%sendtofile --execute --append devices.py\n",
    "\n",
    "scannedi2c = None\n",
    "bmp180consts = None\n",
    "\n",
    "def initdevices():\n",
    "    global scannedi2c, bmp180consts\n",
    "    \n",
    "    scannedi2c = i2c.scan()\n",
    "    res = [ ]\n",
    "\n",
    "    if 0x77 in scannedi2c:\n",
    "        res.append(\"0x77 is BMP180 barometer\")\n",
    "        bcd = i2c.readfrom_mem(0x77, 0xAA, 22)\n",
    "        bmp180consts = dict(zip((\"AC1\", \"AC2\", \"AC3\", \"AC4\", \"AC5\", \"AC6\", \"B1\", \"B2\", \"MB\", \"MC\", \"MD\"), ustruct.unpack(\">hhhHHHhhhhh\", bcd)))  # note the 3 unsigned constants\n",
    "        \n",
    "    if 0x6B in scannedi2c:\n",
    "        res.append(\"0x6B is Gyros/Accelerometer\")\n",
    "        \n",
    "        # turn on gyros reg(0x10)0x20=(ODR_G,FS_G,0,BWG)=001 00 0 00 gives 65ms ~ 14.9Hz\n",
    "        # turn on gyros reg(0x10)0x40=(ODR_G,FS_G,0,BWG)=010 00 0 00 gives 59.9Hz at 245deg/sec\n",
    "        # turn on gyros reg(0x10)0x40=(ODR_G,FS_G,0,BWG)=010 11 0 00 gives 59.9Hz at 2000deg/sec\n",
    "        i2c.writeto(0x6B, b'\\x10\\x40')  # these gyros don't seem to work anyway.  give constant values that respond to orienting (0x13), scaling(0x10), enabling(0x1e), but not any any measuring of the environment\n",
    "\n",
    "        # turn on accelerometer reg(0x20)=(ODR_XL,FS_XL,BW_SCAL_ODR,BW_XL)=110 00 0 00 should give 952Hz, but is overridden by gyros ODR \n",
    "        # there are various further settings of FIFO and High and Low pass filters\n",
    "        i2c.writeto(0x6B, b'\\x20\\xC0')  \n",
    "\n",
    "    if 0x1E in scannedi2c:\n",
    "        res.append(\"0x1E is Magnetometer(compass)\")\n",
    "        i2c.writeto(0x1E, b'\\x22\\x00')  \n",
    "\n",
    "        # turn on magnetometer reg(0x20)=(TEMP_COMP,OM,DO,0,ST)=1 11 110 0 0 (Ultra High Performance, 40Hz)\n",
    "        #i2c.writeto(0x1E, b'\\x20\\x58')  \n",
    "        i2c.writeto(0x1E, b'\\x20\\x58')  \n",
    "        \n",
    "    if 0x69 in scannedi2c:\n",
    "        res.append(\"0x69 is Figaro CO2 meter\")\n",
    "        i2c.writeto(0x69, b'\\x01\\x02')\n",
    "\n",
    "    if 0x40 in scannedi2c:\n",
    "        res.append(\"0x40 is SI7021 humidity sensor\")\n",
    "        i2c.writeto(0x40, b'\\xFE')  # resets chip\n",
    "        time.sleep(0.2)\n",
    "        \n",
    "    if 0x48 in scannedi2c:\n",
    "        res.append(\"0x48 is TMP102 temperature sensor\")\n",
    "\n",
    "    if 0x28 in scannedi2c:\n",
    "        k = i2c.readfrom_mem(0x28, 0x00, 6)\n",
    "        res.append(\"BNO055 sensor SW_REV_ID: %s.%s\" %(hex(k[4]), hex(k[5])))\n",
    "        \n",
    "        i2c.writeto_mem(0x28, 0x3D, b'\\x00')     # config mode\n",
    "        i2c.writeto_mem(0x28, 0x3E, b'\\x00')     # PWR_MODE, normal\n",
    "        i2c.writeto_mem(0x28, 0x3B, b'\\x00')     # UNIT_SEL, celsius, UDegrees and m/s^2\n",
    "        i2c.writeto_mem(0x28, 0x3D, b'\\x0c')     # back to NDOF mode\n",
    "\n",
    "    for a in scannedi2c:\n",
    "        if a not in [0x68, 0x77, 0x32, 0x69, 0x6B, 0x1E, 0x48, 0x40, 0x70, 0x28]:\n",
    "            res.append(\"%s: Unknown I2C device\" % hex(a))\n",
    "            \n",
    "    return res\n"
   ]
  },
  {
   "cell_type": "code",
   "execution_count": 5,
   "metadata": {},
   "outputs": [
    {
     "name": "stdout",
     "output_type": "stream",
     "text": [
      "['0x40 is SI7021 humidity sensor']\r\n"
     ]
    }
   ],
   "source": [
    "print(initdevices())"
   ]
  },
  {
   "cell_type": "code",
   "execution_count": 15,
   "metadata": {},
   "outputs": [
    {
     "name": "stdout",
     "output_type": "stream",
     "text": [
      "Sent 41 lines (1712 bytes)."
     ]
    }
   ],
   "source": [
    "%sendtofile --execute --append devices.py\n",
    "\n",
    "def SI7021checkchip():\n",
    "    i2c.writeto(0x40, b'\\xFA\\x0F')\n",
    "    sna = i2c.readfrom(0x40, 8)\n",
    "    i2c.writeto(0x40, b'\\xFC\\xC9')\n",
    "    snb = i2c.readfrom(0x40, 6)\n",
    "    i2c.writeto(0x40, b'\\x84\\xB8')\n",
    "    firmr = i2c.readfrom(0x40, 1)\n",
    "    print(\"SNA %s %s %s %s  SNB %s %s %s %s  firmware %s\" % (hex(sna[0]), hex(sna[2]), hex(sna[4]), hex(sna[6]), hex(snb[0]), hex(snb[1]), hex(snb[3]), hex(snb[4]), hex(firmr[0])))\n",
    "    return (snb[0] == 21) # identifies the Si7021 type chip\n",
    "\n",
    "def SI7021printstatus():\n",
    "    reg1 = i2c.readfrom_mem(0x40, 0xE7, 1)[0]\n",
    "    heater = i2c.readfrom_mem(0x40, 0x11, 1)[0]\n",
    "    print(\"MeasRes:%s VDD:%s heater-on:%s heater:%s\" % (hex(reg1 & 0x81), hex(reg1 & 0x40), hex(reg1 & 0x04), hex(heater & 0x0F)))\n",
    "\n",
    "def SI7021setheater(hheater):\n",
    "    # hheater to be between 0 and 15\n",
    "    reg1 = i2c.readfrom_mem(0x40, 0xE7, 1)[0]\n",
    "    nreg1 = (reg1 & 0xFB) if (hheater == 0) else (reg1 | 0x04) \n",
    "    i2c.writeto_mem(0x40, 0xE6, bytes([nreg1]))\n",
    "    \n",
    "    heater = i2c.readfrom_mem(0x40, 0x11, 1)[0]\n",
    "    nheater = ((heater & 0xF0) | hheater); \n",
    "    i2c.writeto_mem(0x40, 0x51, bytes([nheater]))\n",
    "\n",
    "\n",
    "def SI7021humiditytemp():\n",
    "    i2c.writeto(0x40, b'\\xF5')  # clock stretching hold type E5 seems not to work in micropython\n",
    "    time.sleep_ms(20)   # give it time to take a reading or it fails\n",
    "    bh = i2c.readfrom(0x40, 2)\n",
    "    rh = ustruct.unpack(\">H\", bh)[0] & 0xFFFC\n",
    "    bt = i2c.readfrom_mem(0x40, 0xE0, 2)\n",
    "    rt = ustruct.unpack(\">H\", bt)[0] & 0xFFFC\n",
    "    return ((125.0*rh)/65536)-6, ((175.25*rt)/65536)-46.85 \n",
    "\n",
    "def DewpointTemperature(humid, temp):\n",
    "    A, B, C = 8.1332, 1762.39, 235.66\n",
    "    svp = 10**(A - B/(temp + C))*133.322387415\n",
    "    pvp = svp*humid/100\n",
    "    return -C - B/(math.log10(pvp/133.322387415) - A)\n",
    "\n"
   ]
  },
  {
   "cell_type": "code",
   "execution_count": 12,
   "metadata": {},
   "outputs": [
    {
     "name": "stdout",
     "output_type": "stream",
     "text": [
      "(61.12341, 24.50576)\n",
      "(61.07001, 24.51646)\n",
      "(61.06238, 24.50576)\n",
      "(61.0929, 24.50576)\n",
      "(61.11578, 24.51646)\n",
      "(61.12341, 24.52715)\n",
      "(61.12341, 24.51646)\n",
      "(61.13867, 24.52715)\n",
      "(61.13867, 24.52715)\n",
      "(61.17682, 24.52715)\n"
     ]
    }
   ],
   "source": [
    "import ustruct\n",
    "for i in range(10):\n",
    "    print(SI7021humiditytemp())"
   ]
  },
  {
   "cell_type": "code",
   "execution_count": null,
   "metadata": {
    "collapsed": true
   },
   "outputs": [],
   "source": []
  }
 ],
 "metadata": {
  "kernelspec": {
   "display_name": "MicroPython - USB",
   "language": "micropython",
   "name": "micropython"
  },
  "language_info": {
   "codemirror_mode": "python",
   "file_extension": ".py",
   "mimetype": "text/python",
   "name": "micropython"
  }
 },
 "nbformat": 4,
 "nbformat_minor": 2
}

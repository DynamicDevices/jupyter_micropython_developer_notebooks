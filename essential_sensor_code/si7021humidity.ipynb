{
 "cells": [
  {
   "cell_type": "code",
   "execution_count": 1,
   "metadata": {},
   "outputs": [
    {
     "name": "stdout",
     "output_type": "stream",
     "text": [
      "Connecting to Serial /dev/ttyUSB1 baud=115200 \n",
      "Ready.\n",
      "\n"
     ]
    }
   ],
   "source": [
    "%serialconnect"
   ]
  },
  {
   "cell_type": "code",
   "execution_count": 3,
   "metadata": {},
   "outputs": [
    {
     "name": "stdout",
     "output_type": "stream",
     "text": [
      "119 [64, 119]\r\n"
     ]
    }
   ],
   "source": [
    "from i2cmodule import i2c\n",
    "print(0x77, (i2c.scan()))"
   ]
  },
  {
   "cell_type": "code",
   "execution_count": 5,
   "metadata": {
    "collapsed": true
   },
   "outputs": [],
   "source": [
    "import time\n",
    "i2c.writeto(0x40, b'\\xFE')  # resets chip\n",
    "time.sleep(0.2)\n"
   ]
  },
  {
   "cell_type": "code",
   "execution_count": 87,
   "metadata": {},
   "outputs": [
    {
     "name": "stdout",
     "output_type": "stream",
     "text": [
      "\u001b[32mWriting si7021_funcs.py\n",
      "\n",
      "\u001b[0m"
     ]
    }
   ],
   "source": [
    "%%writefile si7021_funcs.py\n",
    "\n",
    "from i2cmodule import i2c\n",
    "import ustruct, time, math\n",
    "\n",
    "def setupSI7021():\n",
    "    i2c.writeto(0x40, b'\\xFE')  # resets chip\n",
    "    time.sleep_ms(20)  # got to delay or you get an error if call next function too soon\n",
    "    \n",
    "def SI7021checkchip():\n",
    "    i2c.writeto(0x40, b'\\xFA\\x0F')\n",
    "    sna = i2c.readfrom(0x40, 8)\n",
    "    i2c.writeto(0x40, b'\\xFC\\xC9')\n",
    "    snb = i2c.readfrom(0x40, 6)\n",
    "    i2c.writeto(0x40, b'\\x84\\xB8')\n",
    "    firmr = i2c.readfrom(0x40, 1)\n",
    "    print(\"SNA %s %s %s %s  SNB %s %s %s %s  firmware %s\" % (hex(sna[0]), hex(sna[2]), hex(sna[4]), hex(sna[6]), hex(snb[0]), hex(snb[1]), hex(snb[3]), hex(snb[4]), hex(firmr[0])))\n",
    "    return (snb[0] == 21) # identifies the Si7021 type chip\n",
    "\n",
    "def SI7021printstatus():\n",
    "    reg1 = i2c.readfrom_mem(0x40, 0xE7, 1)[0]\n",
    "    heater = i2c.readfrom_mem(0x40, 0x11, 1)[0]\n",
    "    print(\"MeasRes:%s VDD:%s heater-on:%s heater:%s\" % (hex(reg1 & 0x81), hex(reg1 & 0x40), hex(reg1 & 0x04), hex(heater & 0x0F)))\n",
    "\n",
    "def SI7021setheater(hheater):\n",
    "    # hheater to be between 0 and 15\n",
    "    reg1 = i2c.readfrom_mem(0x40, 0xE7, 1)[0]\n",
    "    nreg1 = (reg1 & 0xFB) if (hheater == 0) else (reg1 | 0x04) \n",
    "    i2c.writeto_mem(0x40, 0xE6, bytes([nreg1]))\n",
    "    \n",
    "    heater = i2c.readfrom_mem(0x40, 0x11, 1)[0]\n",
    "    nheater = ((heater & 0xF0) | hheater); \n",
    "    i2c.writeto_mem(0x40, 0x51, bytes([nheater]))\n",
    "\n",
    "def SI7021humiditytemp():\n",
    "        # E5 is hold master mode, didn't used to work, but now does while no hold F5 stopped working\n",
    "        # (the clock stretching doesn't seem to apply anyway)\n",
    "    i2c.writeto(0x40, b'\\xE5')  \n",
    "    time.sleep_ms(20)   # give it time to take a reading or it fails\n",
    "    bh = i2c.readfrom(0x40, 2)\n",
    "    rh = ustruct.unpack(\">H\", bh)[0] & 0xFFFC\n",
    "    bt = i2c.readfrom_mem(0x40, 0xE0, 2)\n",
    "    rt = ustruct.unpack(\">H\", bt)[0] & 0xFFFC\n",
    "    return ((125.0*rh)/65536)-6, ((175.25*rt)/65536)-46.85 \n",
    "\n",
    "async def aSI7021humiditytemp(uasyncio):\n",
    "    i2c.writeto(0x40, b'\\xE5')  \n",
    "    await uasyncio.sleep_ms(20)   # give it time to take a reading or it fails\n",
    "    bh = i2c.readfrom(0x40, 2)\n",
    "    rh = ustruct.unpack(\">H\", bh)[0] & 0xFFFC\n",
    "    bt = i2c.readfrom_mem(0x40, 0xE0, 2)\n",
    "    rt = ustruct.unpack(\">H\", bt)[0] & 0xFFFC\n",
    "    return ((125.0*rh)/65536)-6, ((175.25*rt)/65536)-46.85 \n",
    "\n",
    "def DewpointTemperature(humid, temp):\n",
    "    A, B, C = 8.1332, 1762.39, 235.66\n",
    "    svp = 10**(A - B/(temp + C))*133.322387415\n",
    "    pvp = svp*humid/100\n",
    "    return -C - B/(math.log10(pvp/133.322387415) - A)\n"
   ]
  },
  {
   "cell_type": "code",
   "execution_count": 88,
   "metadata": {},
   "outputs": [
    {
     "name": "stdout",
     "output_type": "stream",
     "text": [
      "Sent 57 lines (2333 bytes) to si7021_funcs.py.\n"
     ]
    }
   ],
   "source": [
    "%sendtofile --source si7021_funcs.py"
   ]
  },
  {
   "cell_type": "code",
   "execution_count": 84,
   "metadata": {},
   "outputs": [
    {
     "name": "stdout",
     "output_type": "stream",
     "text": [
      "SNA 0x0 0x39 0x64 0x3c  SNB 0x15 0xff 0xff 0xff  firmware 0x20\r\n"
     ]
    }
   ],
   "source": [
    "i2c.writeto(0x40, b'\\xFA\\x0F')\n",
    "sna = i2c.readfrom(0x40, 8)\n",
    "i2c.writeto(0x40, b'\\xFC\\xC9')\n",
    "snb = i2c.readfrom(0x40, 6)\n",
    "i2c.writeto(0x40, b'\\x84\\xB8')\n",
    "firmr = i2c.readfrom(0x40, 1)\n",
    "print(\"SNA %s %s %s %s  SNB %s %s %s %s  firmware %s\" % (hex(sna[0]), hex(sna[2]), hex(sna[4]), hex(sna[6]), hex(snb[0]), hex(snb[1]), hex(snb[3]), hex(snb[4]), hex(firmr[0])))\n"
   ]
  },
  {
   "cell_type": "code",
   "execution_count": 79,
   "metadata": {
    "collapsed": true
   },
   "outputs": [],
   "source": [
    "from si7021_funcs import setupSI7021, SI7021humiditytemp, DewpointTemperature\n",
    "from si7021_funcs import SI7021checkchip, SI7021printstatus, SI7021setheater\n"
   ]
  },
  {
   "cell_type": "code",
   "execution_count": 86,
   "metadata": {},
   "outputs": [
    {
     "name": "stdout",
     "output_type": "stream",
     "text": [
      "SNA 0x0 0x39 0x64 0x3c  SNB 0x15 0xff 0xff 0xff  firmware 0x20\n",
      "MeasRes:0x0 VDD:0x0 heater-on:0x0 heater:0x0\n"
     ]
    }
   ],
   "source": [
    "setupSI7021()\n",
    "time.sleep_ms(20)\n",
    "SI7021checkchip()\n",
    "SI7021printstatus()"
   ]
  },
  {
   "cell_type": "code",
   "execution_count": 75,
   "metadata": {},
   "outputs": [
    {
     "name": "stdout",
     "output_type": "stream",
     "text": [
      "(69.37842, 20.16302)\r\n"
     ]
    }
   ],
   "source": [
    "print(SI7021humiditytemp())"
   ]
  },
  {
   "cell_type": "code",
   "execution_count": 26,
   "metadata": {},
   "outputs": [
    {
     "name": "stderr",
     "output_type": "stream",
     "text": [
      "Traceback (most recent call last):\n",
      "  File \"<stdin>\", line 3, in <module>\n",
      "OSError: [Errno 19] ENODEV\n"
     ]
    }
   ],
   "source": [
    "i2c.writeto(0x40, b'\\xF5')  # clock stretching hold type E5 seems not to work in micropython\n",
    "time.sleep_ms(120)   # give it time to take a reading or it fails\n",
    "bh = i2c.readfrom(0x40, 2)\n"
   ]
  },
  {
   "cell_type": "code",
   "execution_count": 19,
   "metadata": {
    "collapsed": true
   },
   "outputs": [],
   "source": [
    "i2c.writeto(0x40, b'\\xFE')  # resets chip\n"
   ]
  },
  {
   "cell_type": "code",
   "execution_count": 71,
   "metadata": {},
   "outputs": [
    {
     "name": "stdout",
     "output_type": "stream",
     "text": [
      "33\n",
      "20.12023\n"
     ]
    }
   ],
   "source": [
    "import ustruct\n",
    "\n",
    "t0 = time.ticks_ms()\n",
    "i2c.writeto(0x40, b'\\xE5')\n",
    "time.sleep_ms(30)\n",
    "bh = i2c.readfrom(0x40, 2)\n",
    "bt = i2c.readfrom_mem(0x40, 0xE0, 2)\n",
    "print(time.ticks_ms() - t0)\n",
    "rt = ustruct.unpack(\">H\", bt)[0] & 0xFFFC\n",
    "t = ((175.25*rt)/65536)-46.85 \n",
    "print(t)\n"
   ]
  },
  {
   "cell_type": "code",
   "execution_count": 38,
   "metadata": {},
   "outputs": [
    {
     "name": "stdout",
     "output_type": "stream",
     "text": [
      "b'b$'\r\n"
     ]
    }
   ],
   "source": [
    "print(bh)"
   ]
  },
  {
   "cell_type": "code",
   "execution_count": null,
   "metadata": {
    "collapsed": true
   },
   "outputs": [],
   "source": []
  }
 ],
 "metadata": {
  "kernelspec": {
   "display_name": "MicroPython - USB",
   "language": "micropython",
   "name": "micropython"
  },
  "language_info": {
   "codemirror_mode": "python",
   "file_extension": ".py",
   "mimetype": "text/python",
   "name": "micropython"
  }
 },
 "nbformat": 4,
 "nbformat_minor": 2
}

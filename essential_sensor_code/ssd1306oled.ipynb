{
 "cells": [
  {
   "cell_type": "code",
   "execution_count": 1,
   "metadata": {},
   "outputs": [
    {
     "name": "stdout",
     "output_type": "stream",
     "text": [
      "\u001b[34mConnecting to Serial /dev/ttyUSB0 baud=115200 \u001b[0m\n",
      "\u001b[34mReady.\n",
      "\u001b[0m"
     ]
    }
   ],
   "source": [
    "%serialconnect"
   ]
  },
  {
   "cell_type": "code",
   "execution_count": 3,
   "metadata": {},
   "outputs": [
    {
     "name": "stdout",
     "output_type": "stream",
     "text": [
      "Sent 168 lines (5477 bytes) to ssd1306.py.\n"
     ]
    }
   ],
   "source": [
    "%sendtofile --source ssd1306.py"
   ]
  },
  {
   "cell_type": "code",
   "execution_count": 19,
   "metadata": {
    "collapsed": true
   },
   "outputs": [],
   "source": [
    "#https://forum.micropython.org/viewtopic.php?f=18&p=23080\n",
    "from machine import I2C, Pin\n",
    "import ssd1306\n",
    "\n",
    "rst = Pin(16, Pin.OUT)\n",
    "rst.value(1)\n",
    "scl = Pin(15, Pin.OUT, Pin.PULL_UP)\n",
    "sda = Pin(4, Pin.OUT, Pin.PULL_UP)\n",
    "i2c = I2C(scl=scl, sda=sda, freq=450000)\n",
    "o = ssd1306.SSD1306_I2C(128, 64, i2c, addr=0x3c)\n",
    "\n",
    "o.fill(0)\n",
    "o.text('ESP32', 45, 5)\n",
    "o.text('MicroPython', 20, 20)\n",
    "o.show() "
   ]
  },
  {
   "cell_type": "code",
   "execution_count": 18,
   "metadata": {},
   "outputs": [
    {
     "name": "stdout",
     "output_type": "stream",
     "text": [
      "[60]\r\n"
     ]
    }
   ],
   "source": [
    "print(i2c.scan())"
   ]
  },
  {
   "cell_type": "code",
   "execution_count": 27,
   "metadata": {},
   "outputs": [],
   "source": [
    "o.fill(0)\n",
    "for i in range(128):\n",
    "    o.framebuf.fill_rect(1, 3, i, 34, 1)\n",
    "    o.show()"
   ]
  },
  {
   "cell_type": "code",
   "execution_count": 24,
   "metadata": {
    "collapsed": true
   },
   "outputs": [],
   "source": []
  },
  {
   "cell_type": "code",
   "execution_count": null,
   "metadata": {
    "collapsed": true
   },
   "outputs": [],
   "source": []
  }
 ],
 "metadata": {
  "kernelspec": {
   "display_name": "MicroPython - USB",
   "language": "micropython",
   "name": "micropython"
  },
  "language_info": {
   "codemirror_mode": "python",
   "file_extension": ".py",
   "mimetype": "text/python",
   "name": "micropython"
  }
 },
 "nbformat": 4,
 "nbformat_minor": 2
}

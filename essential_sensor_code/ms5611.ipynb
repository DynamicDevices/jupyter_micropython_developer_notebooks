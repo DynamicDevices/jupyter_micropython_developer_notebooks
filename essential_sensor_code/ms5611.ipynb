{
 "cells": [
  {
   "cell_type": "code",
   "execution_count": 35,
   "metadata": {},
   "outputs": [
    {
     "name": "stdout",
     "output_type": "stream",
     "text": [
      "[leftinbuffer] ['ets Jun  8 2016 00:22:57']\n",
      "[leftinbuffer] ['']\n",
      "[leftinbuffer] ['rst:0x1 (POWERON_RESET),boot:0x17 (SPI_FAST_FLASH_BOOT)']\n",
      "[leftinbuffer] ['configsip: 0, SPIWP:0xee']\n",
      "[leftinbuffer] ['clk_drv:0x00,q_drv:0x00,d_drv:0x00,cs0_drv:0x00,hd_drv:0x00,wp_drv:0x00']\n",
      "[leftinbuffer] ['mode:DIO, clock div:2']\n",
      "[leftinbuffer] ['load:0x3fff0018,len:4']\n",
      "[leftinbuffer] ['load:0x3fff001c,len:4332']\n",
      "[leftinbuffer] ['load:0x40078000,len:0']\n",
      "[leftinbuffer] ['load:0x40078000,len:10992']\n",
      "[leftinbuffer] ['entry 0x4007a6c4']\n",
      "[leftinbuffer] ['\\x1b[0;33mW (64) rtc_clk: Potentially bogus XTAL frequency: 35 MHz, guessing 40 MHz\\x1b[0m']\n",
      "[leftinbuffer] ['Scanning wifis: BV6000']\n",
      "[leftinbuffer] ['\\x1b[0;32mI (3032) network: event 1\\x1b[0m']\n",
      "[leftinbuffer] ['Connecting to strongest known wifi signal BV6000']\n",
      "attempt to exit past mode\n",
      "[\\r\\x03\\x02] b'Traceback (most recent call last):\\r\\n  File \"main.py\", line 1, in <module>\\r\\n  File \"connectwifi.py\", line 18, in <module>\\r\\nKeyboardInterrupt: \\r\\nMicroPython v1.9.2-443-g236297f4 on 2017-11-06; ESP32 module with ESP32\\r\\nType \"help()\" for more information.\\r\\n>>> \\r\\n>>> \\r\\nMicroPython v1.9.2-443-g236297f4 on 2017-11-06; ESP32 module with ESP32\\r\\nType \"help()\" for more information.\\r\\n>>> '\n",
      "Closing serial Serial<id=0x7fe0c957c978, open=True>(port='/dev/ttyUSB0', baudrate=115200, bytesize=8, parity='N', stopbits=1, timeout=0.5, xonxoff=False, rtscts=False, dsrdtr=False)\n",
      "Connecting to Serial /dev/ttyUSB0 baud=115200 \n",
      "ets Jun  8 2016 00:22:57\n",
      "\n",
      "rst:0x1 (POWERON_RESET),boot:0x17 (SPI_FAST_FLASH_BOOT)\n",
      "configsip: 0, SPIWP:0xee\n",
      "clk_drv:0x00,q_drv:0x00,d_drv:0x00,cs0_drv:0x00,hd_drv:0x00,wp_drv:0x00\n",
      "mode:DIO, clock div:2\n",
      "load:0x3fff0018,len:4\n",
      "load:0x3fff001c,len:4332\n",
      "load:0x40078000,len:0\n",
      "load:0x40078000,len:10992\n",
      "entry 0x4007a6c4\n",
      "\u001b[0;33mW (64) rtc_clk: Potentially bogus XTAL frequency: 35 MHz, guessing 40 MHz\u001b[0m\n",
      "Scanning wifis: BV6000\n",
      "\n",
      "\n",
      "*** Sending Ctrl-C\n",
      "\n",
      "\u001b[0;32mI (3032) network: event 1\u001b[0m\n",
      "Traceback (most recent call last):\n",
      "  File \"main.py\", line 1, in <module>\n",
      "  File \"connectwifi.py\", line 11, in <module>\n",
      "  File \"connectwifi.py\", line 11, in <genexpr>\n",
      "KeyboardInterrupt: \n",
      "MicroPython v1.9.2-443-g236297f4 on 2017-11-06; ESP32 module with ESP32\n",
      "Type \"help()\" for more information.\n",
      ">>> \n",
      ">>>[reboot detected 0]repl is in normal command mode\n",
      "[\\r\\x03\\x03] b'\\r\\n>>> \\r\\n>>> \\r\\n>>> '\n",
      "[\\r\\x01] b'\\r\\n>>> \\r\\nraw REPL; CTRL-B to exit\\r\\n>' "
     ]
    }
   ],
   "source": [
    "%serialconnect"
   ]
  },
  {
   "cell_type": "code",
   "execution_count": 3,
   "metadata": {},
   "outputs": [
    {
     "name": "stdout",
     "output_type": "stream",
     "text": [
      "Sent 2 lines (72 bytes).\n"
     ]
    }
   ],
   "source": [
    "%sendtofile --source i2cmodule.py"
   ]
  },
  {
   "cell_type": "code",
   "execution_count": 5,
   "metadata": {},
   "outputs": [
    {
     "name": "stdout",
     "output_type": "stream",
     "text": [
      "['boot.py', 'aaa', 'bbb.txt', 'ddd', 'dd', 'hhh.txt', 'i2cmodule.py']\r\n"
     ]
    }
   ],
   "source": [
    "import os\n",
    "print(os.listdir())"
   ]
  },
  {
   "cell_type": "code",
   "execution_count": 36,
   "metadata": {
    "collapsed": true
   },
   "outputs": [],
   "source": [
    "from i2cmodule import i2c\n"
   ]
  },
  {
   "cell_type": "code",
   "execution_count": 37,
   "metadata": {},
   "outputs": [
    {
     "name": "stdout",
     "output_type": "stream",
     "text": [
      "119 [119]\r\n"
     ]
    }
   ],
   "source": [
    "print(0x77, (i2c.scan()))"
   ]
  },
  {
   "cell_type": "code",
   "execution_count": 39,
   "metadata": {},
   "outputs": [
    {
     "name": "stdout",
     "output_type": "stream",
     "text": [
      "29313 26259 28282 1556152320 3160997888 8063232\r\n"
     ]
    }
   ],
   "source": [
    "import ustruct, time\n",
    "\n",
    "C3, C4, C6, SENST1, OFFT1, Tref = 0,0,0,0,0,0\n",
    "def setupms5611():\n",
    "    global C3, C4, C6, SENST1, OFFT1, Tref\n",
    "    i2c.writeto(0x77, b'\\x1E')\n",
    "    time.sleep_ms(20)\n",
    "    C1 = ustruct.unpack(\">H\", i2c.readfrom_mem(0x77, 0xA2, 2))[0]\n",
    "    C2 = ustruct.unpack(\">H\", i2c.readfrom_mem(0x77, 0xA4, 2))[0]\n",
    "    C3 = ustruct.unpack(\">H\", i2c.readfrom_mem(0x77, 0xA6, 2))[0]\n",
    "    C4 = ustruct.unpack(\">H\", i2c.readfrom_mem(0x77, 0xA8, 2))[0]\n",
    "    C5 = ustruct.unpack(\">H\", i2c.readfrom_mem(0x77, 0xAA, 2))[0]\n",
    "    C6 = ustruct.unpack(\">H\", i2c.readfrom_mem(0x77, 0xAC, 2))[0]\n",
    "    SENST1 =  C1*0x8000\n",
    "    OFFT1 = C2*0x10000\n",
    "    Tref = C5*0x100\n",
    "    \n",
    "setupms5611()\n",
    "print(C3, C4, C6, SENST1, OFFT1, Tref)"
   ]
  },
  {
   "cell_type": "code",
   "execution_count": 44,
   "metadata": {
    "collapsed": true
   },
   "outputs": [],
   "source": [
    "def MS5611prepD(d):\n",
    "    i2c.writeto(0x77, d)\n",
    "    \n",
    "def MS5611fetchD():\n",
    "    r = i2c.readfrom_mem(0x77, 0x00, 3)\n",
    "    return r[0]*0x10000 + r[1]*0x100 + r[2]\n",
    "\n",
    "def MS5611readD():\n",
    "    MS5611prepD(b'\\x48')\n",
    "    time.sleep_ms(20)\n",
    "    D1 = MS5611fetchD()\n",
    "    \n",
    "    MS5611prepD(b'\\x58')\n",
    "    time.sleep_ms(20)\n",
    "    D2 = MS5611fetchD()\n",
    "    return D1, D2\n",
    "\n",
    "def MS5611convert(D1, D2):\n",
    "    dT = D2 - Tref\n",
    "    TEMP = 2000 + dT*C6/0x00800000 \n",
    "    OFF = OFFT1 + dT*C4/0x80 \n",
    "    SENS = SENST1 + dT*C3 / 0x100\n",
    "    if TEMP < 2000:\n",
    "        T2 = dT*dT/0x80000000; \n",
    "        ra = TEMP - 2000; \n",
    "        ra = ra*ra; \n",
    "        OFF -= 5*ra/2; \n",
    "        SENS -= 5*ra / 4; \n",
    "        if TEMP < -1500:\n",
    "            rb = TEMP - (-1500) \n",
    "            rb = rb*rb \n",
    "            OFF -= 7*rb \n",
    "            SENS -= 11*rb / 2 \n",
    "        TEMP -= T2; \n",
    "    return (SENS * D1 / 0x200000 - OFF) / 0x8000 \n",
    " "
   ]
  },
  {
   "cell_type": "code",
   "execution_count": 45,
   "metadata": {},
   "outputs": [
    {
     "name": "stdout",
     "output_type": "stream",
     "text": [
      "(8746934, 8058206)\r\n"
     ]
    }
   ],
   "source": [
    "print(MS5611readD())"
   ]
  },
  {
   "cell_type": "code",
   "execution_count": 50,
   "metadata": {},
   "outputs": [
    {
     "name": "stdout",
     "output_type": "stream",
     "text": [
      "2567.805\r\n"
     ]
    }
   ],
   "source": [
    "D1, D2 = MS5611readD()\n",
    "print(MS5611convert(D1, D2)-99000)\n",
    "\n"
   ]
  },
  {
   "cell_type": "code",
   "execution_count": 54,
   "metadata": {},
   "outputs": [
    {
     "name": "stdout",
     "output_type": "stream",
     "text": [
      "\u001b[32mWriting ms5611_funcs.py\n",
      "\n",
      "\u001b[0m"
     ]
    }
   ],
   "source": [
    "%%writefile ms5611_funcs.py\n",
    "\n",
    "from i2cmodule import i2c\n",
    "\n",
    "import ustruct, time\n",
    "\n",
    "C3, C4, C6, SENST1, OFFT1, Tref = 0,0,0,0,0,0\n",
    "def setupms5611():\n",
    "    global C3, C4, C6, SENST1, OFFT1, Tref\n",
    "    i2c.writeto(0x77, b'\\x1E')\n",
    "    time.sleep_ms(20)\n",
    "    C1 = ustruct.unpack(\">H\", i2c.readfrom_mem(0x77, 0xA2, 2))[0]\n",
    "    C2 = ustruct.unpack(\">H\", i2c.readfrom_mem(0x77, 0xA4, 2))[0]\n",
    "    C3 = ustruct.unpack(\">H\", i2c.readfrom_mem(0x77, 0xA6, 2))[0]\n",
    "    C4 = ustruct.unpack(\">H\", i2c.readfrom_mem(0x77, 0xA8, 2))[0]\n",
    "    C5 = ustruct.unpack(\">H\", i2c.readfrom_mem(0x77, 0xAA, 2))[0]\n",
    "    C6 = ustruct.unpack(\">H\", i2c.readfrom_mem(0x77, 0xAC, 2))[0]\n",
    "    SENST1 =  C1*0x8000\n",
    "    OFFT1 = C2*0x10000\n",
    "    Tref = C5*0x100\n",
    "    \n",
    "def MS5611readD():\n",
    "    i2c.writeto(0x77, b'\\x48')\n",
    "    time.sleep_ms(20)\n",
    "    r = i2c.readfrom_mem(0x77, 0x00, 3)\n",
    "    D1 = r[0]*0x10000 + r[1]*0x100 + r[2]\n",
    "    \n",
    "    i2c.writeto(0x77, b'\\x58')\n",
    "    time.sleep_ms(20)\n",
    "    r = i2c.readfrom_mem(0x77, 0x00, 3)\n",
    "    D2 = r[0]*0x10000 + r[1]*0x100 + r[2]\n",
    "    return D1, D2\n",
    "\n",
    "def MS5611convert(D1, D2):\n",
    "    dT = D2 - Tref\n",
    "    TEMP = 2000 + dT*C6/0x00800000 \n",
    "    OFF = OFFT1 + dT*C4/0x80 \n",
    "    SENS = SENST1 + dT*C3 / 0x100\n",
    "    if TEMP < 2000:\n",
    "        T2 = dT*dT/0x80000000; \n",
    "        ra = TEMP - 2000; \n",
    "        ra = ra*ra; \n",
    "        OFF -= 5*ra/2; \n",
    "        SENS -= 5*ra / 4; \n",
    "        if TEMP < -1500:\n",
    "            rb = TEMP - (-1500) \n",
    "            rb = rb*rb \n",
    "            OFF -= 7*rb \n",
    "            SENS -= 11*rb / 2 \n",
    "        TEMP -= T2; \n",
    "    return (SENS * D1 / 0x200000 - OFF) / 0x8000 \n",
    "\n",
    "\n",
    "# takes the library module as an argument to save importing it here\n",
    "async def aMS5611read(uasyncio):\n",
    "    i2c.writeto(0x77, b'\\x48')\n",
    "    await uasyncio.sleep_ms(20)\n",
    "    r = i2c.readfrom_mem(0x77, 0x00, 3)\n",
    "    D1 = r[0]*0x10000 + r[1]*0x100 + r[2]\n",
    "    \n",
    "    i2c.writeto(0x77, b'\\x58')\n",
    "    await uasyncio.sleep_ms(20)\n",
    "    r = i2c.readfrom_mem(0x77, 0x00, 3)\n",
    "    D2 = r[0]*0x10000 + r[1]*0x100 + r[2]\n",
    "    \n",
    "    return MS5611convert(D1, D2)\n",
    "\n"
   ]
  },
  {
   "cell_type": "code",
   "execution_count": 22,
   "metadata": {},
   "outputs": [
    {
     "name": "stdout",
     "output_type": "stream",
     "text": [
      "Sent 49 lines (1497 bytes).\n"
     ]
    }
   ],
   "source": [
    "%sendtofile --source ms5611_funcs.py"
   ]
  },
  {
   "cell_type": "code",
   "execution_count": 24,
   "metadata": {},
   "outputs": [
    {
     "name": "stdout",
     "output_type": "stream",
     "text": [
      "repl is in normal command mode\n",
      "[\\r\\x03\\x03] b'\\r\\nMicroPython v1.9.2-443-g236297f4 on 2017-11-06; ESP32 module with ESP32\\r\\nType \"help()\" for more information.\\r\\n>>> \\r\\n>>> \\r\\nPYB: soft reboot\\r\\nOSError: [Errno 2] ENOENT\\r\\nMicroPython v1.9.2-443-g236297f4 on 2017-11-06; ESP32 module with ESP32\\r\\nType \"help()\" for more information.\\r\\n>>> \\r\\n>>> \\r\\n>>> \\r\\n>>> \\r\\n>>> '\n",
      "[\\r\\x01] b'\\r\\n>>> \\r\\nraw REPL; CTRL-B to exit\\r\\n>'"
     ]
    }
   ],
   "source": [
    "%rebootdevice"
   ]
  },
  {
   "cell_type": "code",
   "execution_count": 25,
   "metadata": {
    "collapsed": true
   },
   "outputs": [],
   "source": [
    "import ms5611_funcs"
   ]
  },
  {
   "cell_type": "code",
   "execution_count": 26,
   "metadata": {
    "collapsed": true
   },
   "outputs": [],
   "source": [
    "ms5611_funcs.setupms5611()"
   ]
  },
  {
   "cell_type": "code",
   "execution_count": 31,
   "metadata": {},
   "outputs": [
    {
     "name": "stdout",
     "output_type": "stream",
     "text": [
      "101606.1\r\n"
     ]
    }
   ],
   "source": [
    "D1, D2 = ms5611_funcs.MS5611readD()\n",
    "print(ms5611_funcs.MS5611convert(D1, D2))\n",
    "\n"
   ]
  },
  {
   "cell_type": "code",
   "execution_count": 53,
   "metadata": {},
   "outputs": [
    {
     "name": "stdout",
     "output_type": "stream",
     "text": [
      "['boot.py', 'aaa', 'bbb.txt', 'ddd', 'dd', 'hhh.txt', 'i2cmodule.py', 'ms5611_funcs.py', 'connecthotspot.py', 'connectwifi.py', 'wificodes.txt', 'lib', 'webserve_funcs.py', 'websocket_funcs.py', 'graphtest.html', 'vl6180_funcs.py', 'raphael.min.js', 'main.py']\r\n"
     ]
    }
   ],
   "source": [
    "import os\n",
    "def f(i):\n",
    "    print(i.listdir())\n",
    "f(os)\n"
   ]
  },
  {
   "cell_type": "code",
   "execution_count": null,
   "metadata": {
    "collapsed": true
   },
   "outputs": [],
   "source": [
    "%%writefile ms5611_async.py\n",
    "\n",
    "import uasyncio\n",
    "from ms5611_funcs import MS5611prepD, MS5611fetchD, MS5611convert\n",
    "\n",
    "async def aMS5611read(uasyncio):\n",
    "    MS5611prepD(b'\\x48')\n",
    "    await uasyncio.sleep_ms(20)\n",
    "    D1 = MS5611fetchD()\n",
    "    \n",
    "    MS5611prepD(b'\\x58')\n",
    "    await uasyncio.sleep_ms(20)\n",
    "    D2 = MS5611fetchD()\n",
    "    \n",
    "    return MS5611convert(D1, D2)\n",
    "\n"
   ]
  }
 ],
 "metadata": {
  "kernelspec": {
   "display_name": "MicroPython - USB",
   "language": "micropython",
   "name": "micropython"
  },
  "language_info": {
   "codemirror_mode": "python",
   "file_extension": ".py",
   "mimetype": "text/python",
   "name": "micropython"
  }
 },
 "nbformat": 4,
 "nbformat_minor": 2
}

{
 "cells": [
  {
   "cell_type": "code",
   "execution_count": 49,
   "metadata": {},
   "outputs": [
    {
     "name": "stdout",
     "output_type": "stream",
     "text": [
      "\u001b[34mConnecting to Serial /dev/ttyUSB1 baud=115200 \u001b[0m\n",
      "\u001b[34mReady.\n",
      "\u001b[0m"
     ]
    }
   ],
   "source": [
    "%serialconnect"
   ]
  },
  {
   "cell_type": "code",
   "execution_count": 39,
   "metadata": {},
   "outputs": [
    {
     "name": "stdout",
     "output_type": "stream",
     "text": [
      "119 [119]\r\n"
     ]
    }
   ],
   "source": [
    "print(0x77, (i2c.scan()))"
   ]
  },
  {
   "cell_type": "code",
   "execution_count": 50,
   "metadata": {},
   "outputs": [
    {
     "name": "stdout",
     "output_type": "stream",
     "text": [
      "Sent 61 lines (2098 bytes) to ms5611.py.\n"
     ]
    }
   ],
   "source": [
    "%sendtofile --source ms5611.py\n"
   ]
  },
  {
   "cell_type": "code",
   "execution_count": 51,
   "metadata": {},
   "outputs": [
    {
     "name": "stdout",
     "output_type": "stream",
     "text": [
      "LOG 7 ON 19416\r\n"
     ]
    }
   ],
   "source": [
    "import machine\n",
    "i2c = machine.I2C(scl=machine.Pin(5), sda=machine.Pin(4))\n",
    "import ms5611\n",
    "\n",
    "n = ms5611.ms5611gen(i2c)\n"
   ]
  },
  {
   "cell_type": "code",
   "execution_count": 52,
   "metadata": {},
   "outputs": [
    {
     "name": "stdout",
     "output_type": "stream",
     "text": [
      "102095.3\n",
      "102094.7\n",
      "102095.1\n",
      "102096.0\n",
      "102095.2\n",
      "102094.1\n",
      "102096.1\n",
      "102095.7\n",
      "102094.6\n",
      "102094.0\n"
     ]
    }
   ],
   "source": [
    "for i in range(10):\n",
    "    print(next(n))\n",
    "    time.sleep(0.1)\n"
   ]
  },
  {
   "cell_type": "code",
   "execution_count": 47,
   "metadata": {},
   "outputs": [
    {
     "name": "stdout",
     "output_type": "stream",
     "text": [
      "0x18ed300\r\n"
     ]
    }
   ],
   "source": [
    "print(hex(0x100*102099))"
   ]
  },
  {
   "cell_type": "code",
   "execution_count": null,
   "metadata": {
    "collapsed": true
   },
   "outputs": [],
   "source": []
  },
  {
   "cell_type": "code",
   "execution_count": 13,
   "metadata": {},
   "outputs": [
    {
     "name": "stdout",
     "output_type": "stream",
     "text": [
      "\u001b[32mWriting ms5611.py\n",
      "\n",
      "\u001b[0m"
     ]
    }
   ],
   "source": [
    "\n",
    "import machine\n",
    "i2c = machine.I2C(scl=machine.Pin(5), sda=machine.Pin(4))\n",
    "\n",
    "import ustruct, time\n",
    "\n",
    "# this can go down to 9 but then the variable heating effects in the sensor from such rapid readings \n",
    "# really muck things up and causes spikes\n",
    "msreaddelay = 20  \n",
    "\n",
    "import array, ustruct\n",
    "dC3, dC4, dC6, dSENST1, dOFFT1, dTref = 0, 1, 2, 3, 4, 5\n",
    "dD1, dD2 = 6, 7  # the readings\n",
    "\n",
    "def GetMS5611calibrations():\n",
    "    dc = array.array(\"I\", range(8))\n",
    "    i2c.writeto(0x77, b'\\x1E')\n",
    "    time.sleep_ms(20)\n",
    "    C1 = ustruct.unpack(\">H\", i2c.readfrom_mem(0x77, 0xA2, 2))[0]\n",
    "    C2 = ustruct.unpack(\">H\", i2c.readfrom_mem(0x77, 0xA4, 2))[0]\n",
    "    dc[dC3] = ustruct.unpack(\">H\", i2c.readfrom_mem(0x77, 0xA6, 2))[0]\n",
    "    dc[dC4] = ustruct.unpack(\">H\", i2c.readfrom_mem(0x77, 0xA8, 2))[0]\n",
    "    C5 = ustruct.unpack(\">H\", i2c.readfrom_mem(0x77, 0xAA, 2))[0]\n",
    "    dc[dC6] = ustruct.unpack(\">H\", i2c.readfrom_mem(0x77, 0xAC, 2))[0]\n",
    "    dc[dSENST1] =  C1*0x8000\n",
    "    dc[dOFFT1] = C2*0x10000\n",
    "    dc[dTref] = C5*0x100\n",
    "    return dc\n",
    "    \n",
    "dc = GetMS5611calibrations()\n",
    "print(dc)\n"
   ]
  },
  {
   "cell_type": "code",
   "execution_count": 11,
   "metadata": {},
   "outputs": [
    {
     "name": "stdout",
     "output_type": "stream",
     "text": [
      "array('I', [29313, 26259, 28282, 1556152320, 3160997888, 8063232, 6, 7])\r\n"
     ]
    }
   ],
   "source": [
    "\n",
    "dc = GetMS5611calibrations()\n",
    "print(dc)\n",
    "\n",
    "def MS5611convert(dc):\n",
    "    dT = dc[dD2] - dc[dTref]\n",
    "    TEMP = 2000 + dT*dc[dC6]/0x00800000 \n",
    "    OFF = dc[dOFFT1] + dT*dc[dC4]/0x80 \n",
    "    SENS = dc[dSENST1] + dT*dc[dC3] / 0x100\n",
    "    if TEMP < 2000:\n",
    "        T2 = dT*dT/0x80000000; \n",
    "        ra = TEMP - 2000; \n",
    "        ra = ra*ra; \n",
    "        OFF -= 5*ra/2; \n",
    "        SENS -= 5*ra / 4; \n",
    "        if TEMP < -1500:\n",
    "            rb = TEMP - (-1500) \n",
    "            rb = rb*rb \n",
    "            OFF -= 7*rb \n",
    "            SENS -= 11*rb / 2 \n",
    "        TEMP -= T2; \n",
    "    return (SENS * dc[dD1] / 0x200000 - OFF) / 0x8000 \n",
    "\n",
    "def MS5611readD(dc):\n",
    "    i2c.writeto(0x77, b'\\x48')\n",
    "    time.sleep_ms(msreaddelay)\n",
    "    r = i2c.readfrom_mem(0x77, 0x00, 3)\n",
    "    dc[dD1] = r[0]*0x10000 + r[1]*0x100 + r[2]\n",
    "    \n",
    "    i2c.writeto(0x77, b'\\x58')\n",
    "    time.sleep_ms(msreaddelay)\n",
    "    r = i2c.readfrom_mem(0x77, 0x00, 3)\n",
    "    dc[dD2] = r[0]*0x10000 + r[1]*0x100 + r[2]\n",
    "    return MS5611convert(dc)\n",
    "\n",
    "def ms5611gen():\n",
    "    dc = GetMS5611calibrations()\n",
    "    while True:\n",
    "        yield MS5611readD(dc)\n",
    "    \n",
    "    "
   ]
  },
  {
   "cell_type": "code",
   "execution_count": 18,
   "metadata": {},
   "outputs": [
    {
     "name": "stdout",
     "output_type": "stream",
     "text": [
      "Sent 61 lines (2091 bytes) to test.py.\n"
     ]
    }
   ],
   "source": []
  },
  {
   "cell_type": "code",
   "execution_count": 36,
   "metadata": {},
   "outputs": [
    {
     "name": "stdout",
     "output_type": "stream",
     "text": [
      "102105.7\n",
      "102109.6\n",
      "102108.8\n",
      "102109.7\n",
      "102109.8\n",
      "102107.3\n",
      "102108.7\n",
      "102109.7\n",
      "102108.5\n",
      "102108.1\n"
     ]
    }
   ],
   "source": []
  },
  {
   "cell_type": "code",
   "execution_count": 27,
   "metadata": {},
   "outputs": [
    {
     "name": "stdout",
     "output_type": "stream",
     "text": [
      "array('I', [29313, 26259, 28282, 1556152320, 3160997888, 8063232, 6, 7])\r\n"
     ]
    }
   ],
   "source": [
    "dc = ms5611.GetMS5611calibrations(i2c)\n",
    "readout = bytearray(3)\n",
    "print(dc)"
   ]
  },
  {
   "cell_type": "code",
   "execution_count": null,
   "metadata": {
    "collapsed": true
   },
   "outputs": [],
   "source": []
  },
  {
   "cell_type": "code",
   "execution_count": 6,
   "metadata": {},
   "outputs": [
    {
     "name": "stdout",
     "output_type": "stream",
     "text": [
      "29313 26259 28282 1556152320 3160997888 8063232\n",
      "array('I', [29313, 26259, 28282, 1556152320, 3160997888, 8063232])\n"
     ]
    }
   ],
   "source": [
    "import array\n",
    "setupms5611()\n",
    "print(C3, C4, C6, SENST1, OFFT1, Tref)\n",
    "x = array.array(\"I\", (C3, C4, C6, SENST1, OFFT1, Tref))\n",
    "print(x)"
   ]
  },
  {
   "cell_type": "code",
   "execution_count": 155,
   "metadata": {
    "collapsed": true
   },
   "outputs": [],
   "source": [
    "from ms5611_funcs import setupms5611, MS5611readD"
   ]
  },
  {
   "cell_type": "code",
   "execution_count": 212,
   "metadata": {
    "collapsed": true
   },
   "outputs": [],
   "source": [
    "setupms5611(30)"
   ]
  },
  {
   "cell_type": "code",
   "execution_count": 216,
   "metadata": {},
   "outputs": [
    {
     "name": "stdout",
     "output_type": "stream",
     "text": [
      "101392.2\n",
      "101391.7\n",
      "101392.3\n",
      "101392.2\n",
      "101392.3\n"
     ]
    }
   ],
   "source": [
    "for i in range(5):\n",
    "    print(MS5611readD())"
   ]
  },
  {
   "cell_type": "code",
   "execution_count": 161,
   "metadata": {},
   "outputs": [
    {
     "name": "stdout",
     "output_type": "stream",
     "text": [
      "0\n",
      ".....500\n",
      "....1000\n",
      ".....1500\n",
      "....2000\n",
      ".....2500\n",
      "....3000\n",
      ".....3500\n",
      "....4000\n",
      ".....4500\n",
      "....5000\n",
      ".....5500\n",
      "....6000\n",
      ".....6500\n",
      "....7000\n",
      ".....7500\n",
      "....8000\n",
      ".....8500\n",
      "....9000\n",
      ".....9500\n",
      "....10000\n",
      ".....10500\n",
      "....11000\n",
      ".....11500\n",
      "....12000\n",
      ".....12500\n",
      "....13000\n",
      ".....13500\n",
      "....14000\n",
      ".....14500\n",
      "...."
     ]
    }
   ],
   "source": [
    "import time\n",
    "fout = open(\"baro1.txt\", \"w\")\n",
    "for i in range(15000):\n",
    "    fout.write(\"%d %d\\n\" % (time.ticks_ms(), int(MS5611readD()-100000)))\n",
    "    if (i%500) == 0:\n",
    "        print(i)\n",
    "    #fout.flush()\n",
    "fout.close()"
   ]
  },
  {
   "cell_type": "code",
   "execution_count": 217,
   "metadata": {},
   "outputs": [
    {
     "name": "stdout",
     "output_type": "stream",
     "text": [
      "500 lines captured"
     ]
    }
   ],
   "source": [
    "%capture --quiet ms5611readings4.txt\n",
    "import time\n",
    "for i in range(500):\n",
    "    print(\"%d %d\" % (time.ticks_ms(), int(MS5611readD()-100000)))\n"
   ]
  },
  {
   "cell_type": "code",
   "execution_count": null,
   "metadata": {
    "collapsed": true
   },
   "outputs": [],
   "source": []
  },
  {
   "cell_type": "code",
   "execution_count": 162,
   "metadata": {},
   "outputs": [
    {
     "name": "stdout",
     "output_type": "stream",
     "text": [
      "(32768, 0, 0, 0, 0, 0, 195000, 0, 0, 0)\r\n"
     ]
    }
   ],
   "source": [
    "import os\n",
    "print(os.stat(\"baro1.txt\"))"
   ]
  },
  {
   "cell_type": "code",
   "execution_count": null,
   "metadata": {
    "collapsed": true
   },
   "outputs": [],
   "source": []
  }
 ],
 "metadata": {
  "kernelspec": {
   "display_name": "MicroPython - USB",
   "language": "micropython",
   "name": "micropython"
  },
  "language_info": {
   "codemirror_mode": "python",
   "file_extension": ".py",
   "mimetype": "text/python",
   "name": "micropython"
  }
 },
 "nbformat": 4,
 "nbformat_minor": 2
}

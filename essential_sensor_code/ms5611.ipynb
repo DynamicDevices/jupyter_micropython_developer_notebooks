{
 "cells": [
  {
   "cell_type": "code",
   "execution_count": 154,
   "metadata": {},
   "outputs": [
    {
     "name": "stdout",
     "output_type": "stream",
     "text": [
      "attempt to exit paste mode\n",
      "[\\r\\x03\\x02] b'\\r\\nMicroPython v1.9.2-443-g236297f4 on 2017-11-06; ESP32 module with ESP32\\r\\nType \"help()\" for more information.\\r\\n>>> '\n",
      "Closing serial Serial<id=0x7f9e9af0b9b0, open=True>(port='/dev/ttyUSB1', baudrate=115200, bytesize=8, parity='N', stopbits=1, timeout=0.5, xonxoff=False, rtscts=False, dsrdtr=False)\n",
      "Connecting to Serial /dev/ttyUSB1 baud=115200 \n",
      "Ready.\n",
      "\n"
     ]
    }
   ],
   "source": [
    "%serialconnect"
   ]
  },
  {
   "cell_type": "code",
   "execution_count": 81,
   "metadata": {},
   "outputs": [
    {
     "name": "stdout",
     "output_type": "stream",
     "text": [
      "Sent 2 lines (72 bytes).\n"
     ]
    }
   ],
   "source": [
    "%sendtofile --source i2cmodule.py"
   ]
  },
  {
   "cell_type": "code",
   "execution_count": 82,
   "metadata": {},
   "outputs": [
    {
     "name": "stdout",
     "output_type": "stream",
     "text": [
      "119 [119]\r\n"
     ]
    }
   ],
   "source": [
    "print(0x77, (i2c.scan()))"
   ]
  },
  {
   "cell_type": "code",
   "execution_count": 50,
   "metadata": {},
   "outputs": [
    {
     "name": "stdout",
     "output_type": "stream",
     "text": [
      "2567.805\r\n"
     ]
    }
   ],
   "source": [
    "D1, D2 = MS5611readD()\n",
    "print(MS5611convert(D1, D2)-99000)\n",
    "\n"
   ]
  },
  {
   "cell_type": "code",
   "execution_count": 144,
   "metadata": {},
   "outputs": [
    {
     "name": "stdout",
     "output_type": "stream",
     "text": [
      "\u001b[32mWriting ms5611_funcs.py\n",
      "\n",
      "\u001b[0m"
     ]
    }
   ],
   "source": [
    "%%writefile ms5611_funcs.py\n",
    "\n",
    "from i2cmodule import i2c\n",
    "\n",
    "import ustruct, time\n",
    "\n",
    "# this can go down to 9 but then the variable heating effects in the sensor from such rapid readings \n",
    "# really muck things up and causes spikes\n",
    "msreaddelay = 20  \n",
    "\n",
    "C3, C4, C6, SENST1, OFFT1, Tref = 0,0,0,0,0,0\n",
    "def setupms5611(lmsreaddelay=20):\n",
    "    global msreaddelay\n",
    "    msreaddelay = lmsreaddelay\n",
    "    global C3, C4, C6, SENST1, OFFT1, Tref\n",
    "    i2c.writeto(0x77, b'\\x1E')\n",
    "    time.sleep_ms(20)\n",
    "    C1 = ustruct.unpack(\">H\", i2c.readfrom_mem(0x77, 0xA2, 2))[0]\n",
    "    C2 = ustruct.unpack(\">H\", i2c.readfrom_mem(0x77, 0xA4, 2))[0]\n",
    "    C3 = ustruct.unpack(\">H\", i2c.readfrom_mem(0x77, 0xA6, 2))[0]\n",
    "    C4 = ustruct.unpack(\">H\", i2c.readfrom_mem(0x77, 0xA8, 2))[0]\n",
    "    C5 = ustruct.unpack(\">H\", i2c.readfrom_mem(0x77, 0xAA, 2))[0]\n",
    "    C6 = ustruct.unpack(\">H\", i2c.readfrom_mem(0x77, 0xAC, 2))[0]\n",
    "    SENST1 =  C1*0x8000\n",
    "    OFFT1 = C2*0x10000\n",
    "    Tref = C5*0x100\n",
    "    \n",
    "def MS5611convert(D1, D2):\n",
    "    dT = D2 - Tref\n",
    "    TEMP = 2000 + dT*C6/0x00800000 \n",
    "    OFF = OFFT1 + dT*C4/0x80 \n",
    "    SENS = SENST1 + dT*C3 / 0x100\n",
    "    if TEMP < 2000:\n",
    "        T2 = dT*dT/0x80000000; \n",
    "        ra = TEMP - 2000; \n",
    "        ra = ra*ra; \n",
    "        OFF -= 5*ra/2; \n",
    "        SENS -= 5*ra / 4; \n",
    "        if TEMP < -1500:\n",
    "            rb = TEMP - (-1500) \n",
    "            rb = rb*rb \n",
    "            OFF -= 7*rb \n",
    "            SENS -= 11*rb / 2 \n",
    "        TEMP -= T2; \n",
    "    return (SENS * D1 / 0x200000 - OFF) / 0x8000 \n",
    "\n",
    "def MS5611readD():\n",
    "    i2c.writeto(0x77, b'\\x48')\n",
    "    time.sleep_ms(msreaddelay)\n",
    "    r = i2c.readfrom_mem(0x77, 0x00, 3)\n",
    "    D1 = r[0]*0x10000 + r[1]*0x100 + r[2]\n",
    "    \n",
    "    i2c.writeto(0x77, b'\\x58')\n",
    "    time.sleep_ms(msreaddelay)\n",
    "    r = i2c.readfrom_mem(0x77, 0x00, 3)\n",
    "    D2 = r[0]*0x10000 + r[1]*0x100 + r[2]\n",
    "    return MS5611convert(D1, D2)\n",
    "\n",
    "# takes the library module as an argument to save importing it here\n",
    "async def aMS5611read(uasyncio):\n",
    "    i2c.writeto(0x77, b'\\x48')\n",
    "    await uasyncio.sleep_ms(msreaddelay)\n",
    "    r = i2c.readfrom_mem(0x77, 0x00, 3)\n",
    "    D1 = r[0]*0x10000 + r[1]*0x100 + r[2]\n",
    "    \n",
    "    i2c.writeto(0x77, b'\\x58')\n",
    "    await uasyncio.sleep_ms(msreaddelay)\n",
    "    r = i2c.readfrom_mem(0x77, 0x00, 3)\n",
    "    D2 = r[0]*0x10000 + r[1]*0x100 + r[2]\n",
    "    \n",
    "    return MS5611convert(D1, D2)\n",
    "\n"
   ]
  },
  {
   "cell_type": "code",
   "execution_count": 145,
   "metadata": {},
   "outputs": [
    {
     "name": "stdout",
     "output_type": "stream",
     "text": [
      "Sent 67 lines (2070 bytes).\n"
     ]
    }
   ],
   "source": [
    "%sendtofile --source ms5611_funcs.py"
   ]
  },
  {
   "cell_type": "code",
   "execution_count": 146,
   "metadata": {},
   "outputs": [
    {
     "name": "stdout",
     "output_type": "stream",
     "text": [
      "repl is in normal command mode\n",
      "[\\r\\x03\\x03] b'\\r\\nMicroPython v1.9.2-443-g236297f4 on 2017-11-06; ESP32 module with ESP32\\r\\nType \"help()\" for more information.\\r\\n>>> \\r\\n>>> \\r\\nPYB: soft reboot\\r\\nOSError: [Errno 2] ENOENT\\r\\nMicroPython v1.9.2-443-g236297f4 on 2017-11-06; ESP32 module with ESP32\\r\\nType \"help()\" for more information.\\r\\n>>> \\r\\n>>> \\r\\n>>> \\r\\n>>> \\r\\n>>> '\n",
      "[\\r\\x01] b'\\r\\n>>> \\r\\nraw REPL; CTRL-B to exit\\r\\n>'"
     ]
    }
   ],
   "source": [
    "%rebootdevice"
   ]
  },
  {
   "cell_type": "code",
   "execution_count": 155,
   "metadata": {
    "collapsed": true
   },
   "outputs": [],
   "source": [
    "from ms5611_funcs import setupms5611, MS5611readD"
   ]
  },
  {
   "cell_type": "code",
   "execution_count": 212,
   "metadata": {
    "collapsed": true
   },
   "outputs": [],
   "source": [
    "setupms5611(30)"
   ]
  },
  {
   "cell_type": "code",
   "execution_count": 216,
   "metadata": {},
   "outputs": [
    {
     "name": "stdout",
     "output_type": "stream",
     "text": [
      "101392.2\n",
      "101391.7\n",
      "101392.3\n",
      "101392.2\n",
      "101392.3\n"
     ]
    }
   ],
   "source": [
    "for i in range(5):\n",
    "    print(MS5611readD())"
   ]
  },
  {
   "cell_type": "code",
   "execution_count": 161,
   "metadata": {},
   "outputs": [
    {
     "name": "stdout",
     "output_type": "stream",
     "text": [
      "0\n",
      ".....500\n",
      "....1000\n",
      ".....1500\n",
      "....2000\n",
      ".....2500\n",
      "....3000\n",
      ".....3500\n",
      "....4000\n",
      ".....4500\n",
      "....5000\n",
      ".....5500\n",
      "....6000\n",
      ".....6500\n",
      "....7000\n",
      ".....7500\n",
      "....8000\n",
      ".....8500\n",
      "....9000\n",
      ".....9500\n",
      "....10000\n",
      ".....10500\n",
      "....11000\n",
      ".....11500\n",
      "....12000\n",
      ".....12500\n",
      "....13000\n",
      ".....13500\n",
      "....14000\n",
      ".....14500\n",
      "...."
     ]
    }
   ],
   "source": [
    "import time\n",
    "fout = open(\"baro1.txt\", \"w\")\n",
    "for i in range(15000):\n",
    "    fout.write(\"%d %d\\n\" % (time.ticks_ms(), int(MS5611readD()-100000)))\n",
    "    if (i%500) == 0:\n",
    "        print(i)\n",
    "    #fout.flush()\n",
    "fout.close()"
   ]
  },
  {
   "cell_type": "code",
   "execution_count": 217,
   "metadata": {},
   "outputs": [
    {
     "name": "stdout",
     "output_type": "stream",
     "text": [
      "500 lines captured"
     ]
    }
   ],
   "source": [
    "%capture --quiet ms5611readings4.txt\n",
    "import time\n",
    "for i in range(500):\n",
    "    print(\"%d %d\" % (time.ticks_ms(), int(MS5611readD()-100000)))\n"
   ]
  },
  {
   "cell_type": "code",
   "execution_count": null,
   "metadata": {
    "collapsed": true
   },
   "outputs": [],
   "source": []
  },
  {
   "cell_type": "code",
   "execution_count": 162,
   "metadata": {},
   "outputs": [
    {
     "name": "stdout",
     "output_type": "stream",
     "text": [
      "(32768, 0, 0, 0, 0, 0, 195000, 0, 0, 0)\r\n"
     ]
    }
   ],
   "source": [
    "import os\n",
    "print(os.stat(\"baro1.txt\"))"
   ]
  },
  {
   "cell_type": "code",
   "execution_count": 163,
   "metadata": {},
   "outputs": [
    {
     "name": "stdout",
     "output_type": "stream",
     "text": [
      "15000 lines captured"
     ]
    }
   ],
   "source": [
    "%capture --quiet ms5611readings5.txt\n",
    "for l in open(\"baro1.txt\"):\n",
    "    print(l, end=\"\")\n"
   ]
  },
  {
   "cell_type": "code",
   "execution_count": 195,
   "metadata": {},
   "outputs": [
    {
     "name": "stdout",
     "output_type": "stream",
     "text": [
      "0.01227069\r\n"
     ]
    }
   ],
   "source": [
    "urandom.seed(123456)\n",
    "print(urandom.uniform(0, 1))\n"
   ]
  },
  {
   "cell_type": "code",
   "execution_count": 197,
   "metadata": {},
   "outputs": [],
   "source": [
    "# taken from http://www.design.caltech.edu/erik/Misc/Gaussian.html\n",
    "import urandom, math\n",
    "def gaussgen(seed=0):\n",
    "    if seed:\n",
    "        urandom.seed(seed)\n",
    "    while True:\n",
    "        while True:\n",
    "            x1 = urandom.uniform(-1, 1)\n",
    "            x2 = urandom.uniform(-1, 1)\n",
    "            w = x1**2 + x2**2\n",
    "            if w < 1.0:\n",
    "                break\n",
    "        w = math.sqrt((-2*math.log(w)) / w)\n",
    "        yield x1 * w\n",
    "        yield x2 * w\n",
    "\n"
   ]
  },
  {
   "cell_type": "code",
   "execution_count": 175,
   "metadata": {
    "collapsed": true
   },
   "outputs": [],
   "source": [
    "import math\n",
    "\n",
    "# least squares terse functions (done as a list)\n",
    "# [x0, n, Sx, Sx2, Sy, Sy2, Sxy]\n",
    "def setpt0(lq, x, y):\n",
    "    lq[0] = x\n",
    "    lq[1] = 1\n",
    "    lq[2] = 0\n",
    "    lq[3] = 0\n",
    "    lq[4] = y\n",
    "    lq[5] = y**2\n",
    "    lq[6] = 0\n",
    "\n",
    "def addpt(lq, x, y):\n",
    "    x = x - lq[0]\n",
    "    lq[1] += 1\n",
    "    lq[2] += x\n",
    "    lq[3] += x**2\n",
    "    lq[4] += y\n",
    "    lq[5] += y**2\n",
    "    lq[6] += x*y\n",
    "\n",
    "def mergelq(lq, llq):\n",
    "    dx = llq[0] - lq[0]\n",
    "    nl = llq[1]\n",
    "    lq[1] += nl\n",
    "    lq[2] += llq[2] + nl*dx\n",
    "    lq[3] += llq[3] + 2*llq[2]*dx + nl*dx**2\n",
    "    lq[4] += llq[4]\n",
    "    lq[5] += llq[5]\n",
    "    lq[6] += llq[6] + llq[4]*dx\n",
    "\n",
    "def copylq(lq, llq):\n",
    "    for i in range(7):\n",
    "        lq[i] = llq[i]\n",
    "    \n",
    "def calcmc(lq):\n",
    "    m = (lq[6] - lq[2]*lq[4]/lq[1])/(lq[3] - lq[2]**2/lq[1])\n",
    "    c = lq[4]/lq[1] - m*lq[2]/lq[1]\n",
    "    rsq = m**2*lq[3] + lq[1]*c**2 + lq[5] + 2*m*c*lq[2] - 2*m*lq[6] - 2*c*lq[4]\n",
    "    r = math.sqrt(rsq/lq[1])\n",
    "    return m, c, r\n"
   ]
  },
  {
   "cell_type": "code",
   "execution_count": 208,
   "metadata": {
    "collapsed": true
   },
   "outputs": [],
   "source": [
    "# least squares accumulating into buffers and outputting\n",
    "# into thinned pieces\n",
    "\n",
    "lqA = [0,0,0,0,0,0,0,0,0,0]  # accumulator (last 3 is m,c,r)\n",
    "lqR = [0,0,0,0,0,0,0]\n",
    "lqC = [0,0,0,0,0,0,0]\n",
    "\n",
    "sigma = 1.6\n",
    "sectionlength = 16\n",
    "bcopyrtoa = False\n",
    "def processpt(t, v):\n",
    "    global bcopyrtoa\n",
    "    if bcopyrtoa:  # deferred\n",
    "        copylq(lqA, lqR)\n",
    "        lqR[1] = 0\n",
    "        bcopyrtoa = False\n",
    "        \n",
    "    if lqR[1] == 0:\n",
    "        setpt0(lqR, t, v)\n",
    "        return False\n",
    "    addpt(lqR, t, v)\n",
    "    if lqR[1] < sectionlength:\n",
    "        return False\n",
    "    if lqA[1] == 0:\n",
    "        copylq(lqA, lqR)\n",
    "        lqR[1] = 0\n",
    "        return False\n",
    "    \n",
    "    copylq(lqC, lqA)\n",
    "    mergelq(lqC, lqR)\n",
    "    m, c, r = calcmc(lqC)\n",
    "    if r < sigma:\n",
    "        copylq(lqA, lqC)\n",
    "        lqA[7] = m\n",
    "        lqA[8] = c\n",
    "        lqA[9] = r\n",
    "        lqR[1] = 0\n",
    "        return False\n",
    "    bcopyrtoa = True  # defer\n",
    "    return True\n",
    "\n",
    "processpt(time.ticks_ms(), int(MS5611readD()-100000))\n",
    "\n"
   ]
  },
  {
   "cell_type": "code",
   "execution_count": 180,
   "metadata": {},
   "outputs": [
    {
     "name": "stdout",
     "output_type": "stream",
     "text": [
      "[10755904, 1, 0, 0, 1525, 2325625, 0]\r\n"
     ]
    }
   ],
   "source": [
    "print(lqR)"
   ]
  },
  {
   "cell_type": "code",
   "execution_count": 209,
   "metadata": {},
   "outputs": [
    {
     "name": "stdout",
     "output_type": "stream",
     "text": [
      ".[12514865, 16, 5170, 2303962, 24408, 37234626, 7883410]\n",
      "[12515557, 16, 5171, 2301207, 24366, 37106516, 7875993]\n",
      "[12516247, 16, 5172, 2305600, 24317, 36957425, 7858594]\n",
      "[12516939, 16, 5188, 2317342, 24272, 36820784, 7867517]\n",
      "[12517632, 16, 5167, 2297841, 24308, 36929972, 7852977]\n",
      "[12518322, 16, 5163, 2296723, 24363, 37097519, 7869535]\n",
      "[12519011, 16, 5164, 2297670, 24439, 37329203, 7893225]\n",
      "[12519702, 16, 5173, 2303785, 24475, 37439295, 7911890]\n",
      "[12520393, 16, 5183, 2311813, 24462, 37399590, 7920903]\n",
      "[12521084, 16, 5186, 2318208, 24467, 37414699, 7932897]\n",
      ".[12521777, 16, 5167, 2299307, 24469, 37420997, 7904937]\n",
      "[12522468, 16, 5182, 2311120, 24502, 37521868, 7935933]\n",
      "[12523161, 16, 5193, 2320543, 24514, 37558546, 7955374]\n",
      "[12523855, 16, 5164, 2299310, 24496, 37503760, 7912285]\n",
      "[12524546, 16, 5163, 2293629, 24505, 37531077, 7907986]\n",
      "[12525236, 16, 5187, 2317773, 24540, 37638454, 7953359]\n",
      "[12525929, 16, 5151, 2289857, 24554, 37681208, 7902779]\n",
      "[12526620, 16, 5173, 2303185, 24536, 37626128, 7936372]\n",
      "[12527311, 16, 5173, 2304305, 24556, 37687452, 7938874]\n",
      "[12528003, 16, 5191, 2319331, 24610, 37853332, 7987573]\n",
      ".[12528696, 16, 5153, 2286835, 24595, 37807253, 7921618]\n",
      "[12529386, 16, 5157, 2291733, 24555, 37684453, 7914793]\n",
      "[12530075, 16, 5185, 2313107, 24584, 37773462, 7969252]\n",
      "[12530767, 16, 5188, 2319330, 24650, 37976912, 7994305]\n",
      "[12531460, 16, 5159, 2292423, 24690, 38099806, 7960084]\n",
      "[12532149, 16, 5172, 2302838, 24657, 37998205, 7976432]\n",
      "[12532840, 16, 5159, 2293025, 24638, 37939582, 7937158]\n",
      "[12533531, 16, 5164, 2297498, 24542, 37644540, 7914296]\n",
      "[12534221, 16, 5168, 2298960, 24514, 37558554, 7920385]\n",
      "[12534911, 16, 5169, 2304051, 24479, 37451573, 7911668]\n",
      ".[12535603, 16, 5188, 2314150, 24480, 37454516, 7936087]\n",
      "[12536295, 16, 5169, 2302927, 24467, 37414839, 7901411]\n",
      "[12536986, 16, 5164, 2300344, 24469, 37420777, 7898775]\n",
      "[12537678, 16, 5158, 2293802, 24455, 37378457, 7892217]\n",
      "[12538369, 16, 5191, 2322189, 24484, 37466880, 7945504]\n",
      "[12539062, 16, 5164, 2297238, 24511, 37549613, 7907495]\n"
     ]
    }
   ],
   "source": [
    "sigma = 1.6\n",
    "sectionlength = 16\n",
    "for i in range(600):\n",
    "    if processpt(time.ticks_ms(), int(MS5611readD()-100000)):\n",
    "        print(lqR)"
   ]
  },
  {
   "cell_type": "code",
   "execution_count": 207,
   "metadata": {},
   "outputs": [
    {
     "name": "stdout",
     "output_type": "stream",
     "text": [
      "112 10000 0.0002533169 98.98341 1.35949\n",
      "80 15040 0.00684248 103.05 1.248749\n",
      "16 18640 0.00684248 103.05 1.248749\n",
      "80 19360 -0.01336043 124.8232 1.329944\n"
     ]
    }
   ],
   "source": [
    "# simulated values (that we can verify on the PC by replicating the code)\n",
    "def Dprocesspt(t, v):\n",
    "    processpt(t, v)\n",
    "def getsuccessivei():\n",
    "    i = 10000\n",
    "    while True:\n",
    "        yield i\n",
    "        i += 45\n",
    "        \n",
    "lqR[1] = lqA[1] = 0\n",
    "sigma = 1.5\n",
    "gg = gaussgen(12345)\n",
    "gs = getsuccessivei()\n",
    "gsigma = 1.4\n",
    "for i in range(100):\n",
    "    Dprocesspt(next(gs), int(100.2+next(gg)*gsigma))\n",
    "for i in range(100):\n",
    "    Dprocesspt(next(gs), int(100.2+30*i/100+next(gg)*gsigma))\n",
    "for i in range(100):\n",
    "    Dprocesspt(next(gs), int(130.2-60*i/100+next(gg)*gsigma))\n",
    "print(lqA[1], lqA[0], lqA[7], lqA[8], lqA[9])\n",
    "    \n"
   ]
  },
  {
   "cell_type": "code",
   "execution_count": null,
   "metadata": {
    "collapsed": true
   },
   "outputs": [],
   "source": []
  }
 ],
 "metadata": {
  "kernelspec": {
   "display_name": "MicroPython - USB",
   "language": "micropython",
   "name": "micropython"
  },
  "language_info": {
   "codemirror_mode": "python",
   "file_extension": ".py",
   "mimetype": "text/python",
   "name": "micropython"
  }
 },
 "nbformat": 4,
 "nbformat_minor": 2
}

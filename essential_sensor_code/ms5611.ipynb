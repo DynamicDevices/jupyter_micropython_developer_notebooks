{
 "cells": [
  {
   "cell_type": "code",
   "execution_count": 1,
   "metadata": {},
   "outputs": [
    {
     "name": "stdout",
     "output_type": "stream",
     "text": [
      "Connecting to Serial /dev/ttyUSB2 baud=115200 \n",
      "Ready.\n",
      "\n"
     ]
    }
   ],
   "source": [
    "%serialconnect"
   ]
  },
  {
   "cell_type": "code",
   "execution_count": 3,
   "metadata": {},
   "outputs": [
    {
     "name": "stdout",
     "output_type": "stream",
     "text": [
      "Sent 2 lines (72 bytes).\n"
     ]
    }
   ],
   "source": [
    "%sendtofile --source i2cmodule.py"
   ]
  },
  {
   "cell_type": "code",
   "execution_count": 5,
   "metadata": {},
   "outputs": [
    {
     "name": "stdout",
     "output_type": "stream",
     "text": [
      "['boot.py', 'aaa', 'bbb.txt', 'ddd', 'dd', 'hhh.txt', 'i2cmodule.py']\r\n"
     ]
    }
   ],
   "source": [
    "import os\n",
    "print(os.listdir())"
   ]
  },
  {
   "cell_type": "code",
   "execution_count": 4,
   "metadata": {},
   "outputs": [],
   "source": [
    "from i2cmodule import i2c\n"
   ]
  },
  {
   "cell_type": "code",
   "execution_count": 10,
   "metadata": {},
   "outputs": [
    {
     "name": "stdout",
     "output_type": "stream",
     "text": [
      "119 [119]\r\n"
     ]
    }
   ],
   "source": [
    "print(0x77, (i2c.scan()))"
   ]
  },
  {
   "cell_type": "code",
   "execution_count": 9,
   "metadata": {},
   "outputs": [
    {
     "name": "stderr",
     "output_type": "stream",
     "text": [
      "Traceback (most recent call last):\n",
      "  File \"<stdin>\", line 4, in <module>\n",
      "NameError: name 'readfromMS5611' is not defined\n"
     ]
    }
   ],
   "source": [
    "import time\n",
    "i2c.writeto(0x77, b'\\x1E')\n",
    "time.sleep_ms(100)\n",
    "C1 = readfromMS5611(0xA2, 2)\n",
    "print(C1)\n",
    "C2 = readfromMS5611(0xA4, 2)\n",
    "print(C2)\n",
    "C3 = readfromMS5611(0xA6, 2)\n",
    "print(C3)\n",
    "C4 = readfromMS5611(0xA8, 2)\n",
    "print(C4)\n",
    "C5 = readfromMS5611(0xAA, 2)\n",
    "print(C5)"
   ]
  },
  {
   "cell_type": "code",
   "execution_count": 17,
   "metadata": {},
   "outputs": [
    {
     "name": "stdout",
     "output_type": "stream",
     "text": [
      "29313 26259 28282 1556152320 3160997888 8063232\r\n"
     ]
    }
   ],
   "source": [
    "import ustruct\n",
    "\n",
    "C3, C4, C6, SENST1, OFFT1, Tref = 0,0,0,0,0,0\n",
    "def setupms5611():\n",
    "    global C3, C4, C6, SENST1, OFFT1, Tref\n",
    "    i2c.writeto(0x77, b'\\x1E')\n",
    "    time.sleep_ms(20)\n",
    "    C1 = ustruct.unpack(\">H\", i2c.readfrom_mem(0x77, 0xA2, 2))[0]\n",
    "    C2 = ustruct.unpack(\">H\", i2c.readfrom_mem(0x77, 0xA4, 2))[0]\n",
    "    C3 = ustruct.unpack(\">H\", i2c.readfrom_mem(0x77, 0xA6, 2))[0]\n",
    "    C4 = ustruct.unpack(\">H\", i2c.readfrom_mem(0x77, 0xA8, 2))[0]\n",
    "    C5 = ustruct.unpack(\">H\", i2c.readfrom_mem(0x77, 0xAA, 2))[0]\n",
    "    C6 = ustruct.unpack(\">H\", i2c.readfrom_mem(0x77, 0xAC, 2))[0]\n",
    "    SENST1 =  C1*0x8000\n",
    "    OFFT1 = C2*0x10000\n",
    "    Tref = C5*0x100\n",
    "    \n",
    "setupms5611()\n",
    "print(C3, C4, C6, SENST1, OFFT1, Tref)"
   ]
  },
  {
   "cell_type": "code",
   "execution_count": 18,
   "metadata": {},
   "outputs": [],
   "source": [
    "def MS5611readD():\n",
    "    i2c.writeto(0x77, b'\\x48')\n",
    "    time.sleep_ms(20)\n",
    "    r = i2c.readfrom_mem(0x77, 0x00, 3)\n",
    "    D1 = r[0]*0x10000 + r[1]*0x100 + r[2]\n",
    "    \n",
    "    i2c.writeto(0x77, b'\\x58')\n",
    "    time.sleep_ms(20)\n",
    "    r = i2c.readfrom_mem(0x77, 0x00, 3)\n",
    "    D2 = r[0]*0x10000 + r[1]*0x100 + r[2]\n",
    "    return D1, D2\n",
    "\n",
    "def MS5611convert(D1, D2):\n",
    "    dT = D2 - Tref\n",
    "    TEMP = 2000 + dT*C6/0x00800000 \n",
    "    OFF = OFFT1 + dT*C4/0x80 \n",
    "    SENS = SENST1 + dT*C3 / 0x100\n",
    "    if TEMP < 2000:\n",
    "        T2 = dT*dT/0x80000000; \n",
    "        ra = TEMP - 2000; \n",
    "        ra = ra*ra; \n",
    "        OFF -= 5*ra/2; \n",
    "        SENS -= 5*ra / 4; \n",
    "        if TEMP < -1500:\n",
    "            rb = TEMP - (-1500) \n",
    "            rb = rb*rb \n",
    "            OFF -= 7*rb \n",
    "            SENS -= 11*rb / 2 \n",
    "        TEMP -= T2; \n",
    "    return (SENS * D1 / 0x200000 - OFF) / 0x8000 \n",
    " "
   ]
  },
  {
   "cell_type": "code",
   "execution_count": 19,
   "metadata": {},
   "outputs": [
    {
     "name": "stdout",
     "output_type": "stream",
     "text": [
      "(8753302, 8045304)\r\n"
     ]
    }
   ],
   "source": [
    "print(MS5611readD())"
   ]
  },
  {
   "cell_type": "code",
   "execution_count": 20,
   "metadata": {},
   "outputs": [
    {
     "name": "stdout",
     "output_type": "stream",
     "text": [
      "101600.1\r\n"
     ]
    }
   ],
   "source": [
    "D1, D2 = MS5611readD()\n",
    "print(MS5611convert(D1, D2))\n",
    "\n"
   ]
  },
  {
   "cell_type": "code",
   "execution_count": 21,
   "metadata": {},
   "outputs": [
    {
     "name": "stdout",
     "output_type": "stream",
     "text": [
      "\u001b[32mWriting ms5611_funcs.py\n",
      "\n",
      "\u001b[0m"
     ]
    }
   ],
   "source": [
    "%%writefile ms5611_funcs.py\n",
    "\n",
    "from i2cmodule import i2c\n",
    "\n",
    "import ustruct, time\n",
    "\n",
    "C3, C4, C6, SENST1, OFFT1, Tref = 0,0,0,0,0,0\n",
    "def setupms5611():\n",
    "    global C3, C4, C6, SENST1, OFFT1, Tref\n",
    "    i2c.writeto(0x77, b'\\x1E')\n",
    "    time.sleep_ms(20)\n",
    "    C1 = ustruct.unpack(\">H\", i2c.readfrom_mem(0x77, 0xA2, 2))[0]\n",
    "    C2 = ustruct.unpack(\">H\", i2c.readfrom_mem(0x77, 0xA4, 2))[0]\n",
    "    C3 = ustruct.unpack(\">H\", i2c.readfrom_mem(0x77, 0xA6, 2))[0]\n",
    "    C4 = ustruct.unpack(\">H\", i2c.readfrom_mem(0x77, 0xA8, 2))[0]\n",
    "    C5 = ustruct.unpack(\">H\", i2c.readfrom_mem(0x77, 0xAA, 2))[0]\n",
    "    C6 = ustruct.unpack(\">H\", i2c.readfrom_mem(0x77, 0xAC, 2))[0]\n",
    "    SENST1 =  C1*0x8000\n",
    "    OFFT1 = C2*0x10000\n",
    "    Tref = C5*0x100\n",
    "    \n",
    "def MS5611readD():\n",
    "    i2c.writeto(0x77, b'\\x48')\n",
    "    time.sleep_ms(20)\n",
    "    r = i2c.readfrom_mem(0x77, 0x00, 3)\n",
    "    D1 = r[0]*0x10000 + r[1]*0x100 + r[2]\n",
    "    \n",
    "    i2c.writeto(0x77, b'\\x58')\n",
    "    time.sleep_ms(20)\n",
    "    r = i2c.readfrom_mem(0x77, 0x00, 3)\n",
    "    D2 = r[0]*0x10000 + r[1]*0x100 + r[2]\n",
    "    return D1, D2\n",
    "\n",
    "def MS5611convert(D1, D2):\n",
    "    dT = D2 - Tref\n",
    "    TEMP = 2000 + dT*C6/0x00800000 \n",
    "    OFF = OFFT1 + dT*C4/0x80 \n",
    "    SENS = SENST1 + dT*C3 / 0x100\n",
    "    if TEMP < 2000:\n",
    "        T2 = dT*dT/0x80000000; \n",
    "        ra = TEMP - 2000; \n",
    "        ra = ra*ra; \n",
    "        OFF -= 5*ra/2; \n",
    "        SENS -= 5*ra / 4; \n",
    "        if TEMP < -1500:\n",
    "            rb = TEMP - (-1500) \n",
    "            rb = rb*rb \n",
    "            OFF -= 7*rb \n",
    "            SENS -= 11*rb / 2 \n",
    "        TEMP -= T2; \n",
    "    return (SENS * D1 / 0x200000 - OFF) / 0x8000 \n"
   ]
  },
  {
   "cell_type": "code",
   "execution_count": 22,
   "metadata": {},
   "outputs": [
    {
     "name": "stdout",
     "output_type": "stream",
     "text": [
      "Sent 49 lines (1497 bytes).\n"
     ]
    }
   ],
   "source": [
    "%sendtofile --source ms5611_funcs.py"
   ]
  },
  {
   "cell_type": "code",
   "execution_count": 24,
   "metadata": {},
   "outputs": [
    {
     "name": "stdout",
     "output_type": "stream",
     "text": [
      "repl is in normal command mode\n",
      "[\\r\\x03\\x03] b'\\r\\nMicroPython v1.9.2-443-g236297f4 on 2017-11-06; ESP32 module with ESP32\\r\\nType \"help()\" for more information.\\r\\n>>> \\r\\n>>> \\r\\nPYB: soft reboot\\r\\nOSError: [Errno 2] ENOENT\\r\\nMicroPython v1.9.2-443-g236297f4 on 2017-11-06; ESP32 module with ESP32\\r\\nType \"help()\" for more information.\\r\\n>>> \\r\\n>>> \\r\\n>>> \\r\\n>>> \\r\\n>>> '\n",
      "[\\r\\x01] b'\\r\\n>>> \\r\\nraw REPL; CTRL-B to exit\\r\\n>'"
     ]
    }
   ],
   "source": [
    "%rebootdevice"
   ]
  },
  {
   "cell_type": "code",
   "execution_count": 25,
   "metadata": {
    "collapsed": true
   },
   "outputs": [],
   "source": [
    "import ms5611_funcs"
   ]
  },
  {
   "cell_type": "code",
   "execution_count": 26,
   "metadata": {
    "collapsed": true
   },
   "outputs": [],
   "source": [
    "ms5611_funcs.setupms5611()"
   ]
  },
  {
   "cell_type": "code",
   "execution_count": 31,
   "metadata": {},
   "outputs": [
    {
     "name": "stdout",
     "output_type": "stream",
     "text": [
      "101606.1\r\n"
     ]
    }
   ],
   "source": [
    "D1, D2 = ms5611_funcs.MS5611readD()\n",
    "print(ms5611_funcs.MS5611convert(D1, D2))\n",
    "\n"
   ]
  },
  {
   "cell_type": "code",
   "execution_count": null,
   "metadata": {
    "collapsed": true
   },
   "outputs": [],
   "source": []
  }
 ],
 "metadata": {
  "kernelspec": {
   "display_name": "MicroPython - USB",
   "language": "micropython",
   "name": "micropython"
  },
  "language_info": {
   "codemirror_mode": "python",
   "file_extension": ".py",
   "mimetype": "text/python",
   "name": "micropython"
  }
 },
 "nbformat": 4,
 "nbformat_minor": 2
}

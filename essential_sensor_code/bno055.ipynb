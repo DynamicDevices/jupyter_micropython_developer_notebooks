{
 "cells": [
  {
   "cell_type": "code",
   "execution_count": 162,
   "metadata": {},
   "outputs": [
    {
     "name": "stdout",
     "output_type": "stream",
     "text": [
      "serial exception on close write failed: [Errno 5] Input/output error\n",
      "\u001b[34mConnecting to Serial /dev/ttyUSB0 baud=115200 \u001b[0m\n",
      "\u001b[34mReady.\n",
      "\u001b[0m"
     ]
    }
   ],
   "source": [
    "%serialconnect"
   ]
  },
  {
   "cell_type": "code",
   "execution_count": 3,
   "metadata": {
    "collapsed": true
   },
   "outputs": [],
   "source": [
    "# now try the serial connection version\n",
    "# ESP32: RX2=Pin17, TX2=Pin16\n",
    "# BNO055: PS1=high to enable serial mode, SDA=TX, SCL=RX\n"
   ]
  },
  {
   "cell_type": "code",
   "execution_count": 163,
   "metadata": {},
   "outputs": [
    {
     "name": "stdout",
     "output_type": "stream",
     "text": [
      "\u001b[0;32mI (44252) uart: ALREADY NULL\u001b[0m\n",
      "\u001b[0;32mI (44252) uart: queue free spaces: 10\u001b[0m\n"
     ]
    }
   ],
   "source": [
    "import machine\n",
    "u = machine.UART(2, baudrate=115200)  # 8N1\n"
   ]
  },
  {
   "cell_type": "code",
   "execution_count": 205,
   "metadata": {},
   "outputs": [],
   "source": [
    "import time\n",
    "def bno055read(reg, n):\n",
    "    u.write(b\"\\xAA\\x01\")\n",
    "    u.write(chr(reg))\n",
    "    u.write(chr(n))\n",
    "    time.sleep_ms(20)\n",
    "    r = u.read()\n",
    "    assert r[0] == 0xBB\n",
    "    assert r[1] == n\n",
    "    assert len(r) == n + 2\n",
    "    return r[2:]\n",
    "\n",
    "def bno055write(reg, r):\n",
    "    u.write(b\"\\xAA\\x00\")\n",
    "    u.write(chr(reg))\n",
    "    u.write(chr(len(r)))\n",
    "    u.write(r)\n",
    "    time.sleep_ms(20)\n",
    "    v = u.read()\n",
    "    assert v == b'\\xee\\x01', v\n"
   ]
  },
  {
   "cell_type": "code",
   "execution_count": 165,
   "metadata": {},
   "outputs": [
    {
     "name": "stdout",
     "output_type": "stream",
     "text": [
      "CHIP_ID: 0xa0 ACC_ID: 0xfb MAG_ID: 0x32 GYR_ID: 0xf SW_REV_ID: 0x8 . 0x3\r\n"
     ]
    }
   ],
   "source": [
    "u.read() # clear buffer\n",
    "chipid = bno055read(0x00, 6)\n",
    "print(\"CHIP_ID:\", hex(chipid[0]), \"ACC_ID:\", hex(chipid[1]), \n",
    "      \"MAG_ID:\", hex(chipid[2]), \"GYR_ID:\", hex(chipid[3]), \n",
    "      \"SW_REV_ID:\", hex(chipid[4]), \".\", hex(chipid[5])) \n",
    "# CHIP_ID:A0 ACC_ID:FB MAG_ID:32 GYR_ID:F SW_REV_ID: 8.3"
   ]
  },
  {
   "cell_type": "code",
   "execution_count": 166,
   "metadata": {},
   "outputs": [
    {
     "name": "stdout",
     "output_type": "stream",
     "text": [
      "Temperature 23\r\n"
     ]
    }
   ],
   "source": [
    "bno055write(0x3D, b\"\\x00\")   # PWR_MODE\n",
    "bno055write(0x3B, b\"\\x00\")   # UNIT_SEL, celsius, UDegrees and m/s^2\n",
    "bno055write(0x3D, b\"\\x0C\")   # back to NDOF mode\n",
    "print(\"Temperature\", bno055read(0x34, 1)[0])\n"
   ]
  },
  {
   "cell_type": "code",
   "execution_count": 167,
   "metadata": {},
   "outputs": [
    {
     "name": "stdout",
     "output_type": "stream",
     "text": [
      "b'\\x00\\x00\\x00\\x00\\x00\\x00\\x00\\x00\\x00\\x00\\x00\\x00\\xff\\xff\\xff\\xff\\x01\\x00\\xe8\\x03\\x00\\x00'\r\n"
     ]
    }
   ],
   "source": [
    "# read calibration\n",
    "bno055write(0x3D, b\"\\x00\")   # PWR_MODE\n",
    "calib = bno055read(0x55, 22)\n",
    "bno055write(0x3D, b\"\\x0C\")   # back to NDOF mode\n",
    "print(calib)  # eg 050006000200000000000000FFFFFEFF0100E8030000\n"
   ]
  },
  {
   "cell_type": "code",
   "execution_count": 202,
   "metadata": {},
   "outputs": [
    {
     "name": "stdout",
     "output_type": "stream",
     "text": [
      "22 0x16\r\n"
     ]
    }
   ],
   "source": [
    "print(len(calib), hex(22))\n"
   ]
  },
  {
   "cell_type": "code",
   "execution_count": 206,
   "metadata": {},
   "outputs": [
    {
     "name": "stdout",
     "output_type": "stream",
     "text": [
      "b'\\xee\\x07'\n",
      "b'\\xee\\x01'\n"
     ]
    }
   ],
   "source": [
    "\n",
    "# write calibration\n",
    "u.read()\n",
    "calib = b\"\\x01\\x00\\x01\\x00\\x01\\x00\\xDB\\x00\\xCC\\x00\\xE2\\x00\\xFE\\xFF\\xFF\\xFF\\x02\\x00\\xE8\\x03\\x38\\x02\"\n",
    "bno055write(0x3D, b\"\\x00\")   # PWR_MODE\n",
    "for i in range(10):          # tends to choke a few times before it gets it\n",
    "    u.write(b\"\\xAA\\x00\\x55\\x16\"+calib)\n",
    "    time.sleep_ms(50)\n",
    "    v = u.read()\n",
    "    print(v)\n",
    "    if v == b'\\xee\\x01':\n",
    "        break\n",
    "bno055write(0x3D, b\"\\x0C\")   # back to NDOF mode\n",
    "\n"
   ]
  },
  {
   "cell_type": "code",
   "execution_count": 211,
   "metadata": {},
   "outputs": [
    {
     "name": "stdout",
     "output_type": "stream",
     "text": [
      "b'\\xe9\\x03\\xae\\x04K\\xc0B\\x00\\xfc\\xff\\x01\\x00\\xf8\\xffw\\x00\\x00\\x003\\xfc\\x1a?' 0x16\r\n"
     ]
    }
   ],
   "source": [
    "v = bno055read(0x20, 22)\n",
    "print(v, hex(22))\n"
   ]
  },
  {
   "cell_type": "code",
   "execution_count": 247,
   "metadata": {},
   "outputs": [],
   "source": [
    "# set the device to continually ping every 10ms for a reading\n",
    "import machine\n",
    "timer0 = machine.Timer(0)\n",
    "def timer0callback(ltimer):\n",
    "    u.write(b\"\\xAA\\x01\\x20\\x16\")\n",
    "timer0.init(period=10, mode=machine.Timer.PERIODIC, callback=timer0callback)\n"
   ]
  },
  {
   "cell_type": "code",
   "execution_count": 378,
   "metadata": {},
   "outputs": [],
   "source": [
    "timer0.deinit()\n",
    "time.sleep(1)\n",
    "u.read()\n",
    "timer0.init(period=10, mode=machine.Timer.PERIODIC, callback=timer0callback)\n"
   ]
  },
  {
   "cell_type": "code",
   "execution_count": 379,
   "metadata": {},
   "outputs": [
    {
     "name": "stdout",
     "output_type": "stream",
     "text": [
      "b'\\xee\\x06\\xee\\x06\\xee\\x06\\xee\\x06\\xee\\x06\\xee\\x06\\xee\\x06\\xee\\x06\\xee\\x06\\xee\\x06\\xee\\x06\\xee\\x06\\xee\\x06\\xee\\x06\\xee\\xee\\n\\xee\\x07\\xbb\\x16 \\x04x\\xfc;\\xc0\\xbc\\xff\\x00\\x00\\x03\\x00\\x03\\x00~\\x00\\x01\\x004\\xfc\\x1a7\\xbb\\x16 \\x04x\\xfc;\\xc0\\xbc\\xff\\x01\\x00\\x05\\x00\\x07\\x00~\\x00\\x01\\x004\\xfc\\x1a7\\xbb\\x16 \\x04x\\xfc;\\xc0\\xbc\\xff\\x01\\x00\\x01\\x00\\x02\\x00~\\x00\\x01\\x004\\xfc\\x1a7\\xbb\\x16 \\x04x\\xfc;\\xc0\\xbc\\xff\\x00\\x00\\x02\\x00\\xfd\\xff~\\x00\\x01\\x004\\xfc\\x1a7\\xbb\\x16 \\x04x\\xfc;\\xc0\\xbc\\xff\\x00\\x00\\x05\\x00\\x01\\x00~\\x00\\x01\\x004\\xfc\\x1a7\\xbb\\x16 \\x04x\\xfc;\\xc0\\xbc\\xff\\x00\\x00\\x03\\x00\\x06\\x00~\\x00\\x01\\x004\\xfc\\x1a7\\xbb\\x16 \\x04x\\xfc;\\xc0\\xbc\\xff\\x00\\x00\\x02\\x00\\x05\\x00~\\x00\\x01\\x004\\xfc\\x1a7\\xbb\\x16 \\x04x\\xfc;\\xc0\\xbc\\xff\\x00\\x00\\x00\\x00\\x06\\x00~\\x00\\x01\\x004\\xfc\\x1a7\\xbb\\x16 \\x04x\\xfc;\\xc0\\xbc\\xff\\x00\\x00\\x01\\x00\\xfd\\xff~\\x00\\x01\\x004\\xfc\\x1a7\\xbb\\x16 \\x04x\\xfc;\\xc0\\xbc\\xff\\x00\\x00\\x02\\x00\\x00\\x00~4\\xfc\\x1b7\\xbb\\x16 \\x04'\r\n"
     ]
    }
   ],
   "source": [
    "#timer0.deinit()\n",
    "print(u.read())\n"
   ]
  },
  {
   "cell_type": "code",
   "execution_count": 350,
   "metadata": {},
   "outputs": [
    {
     "name": "stdout",
     "output_type": "stream",
     "text": [
      "True\n",
      "True\n",
      "True\n",
      "True\n",
      "True\n",
      "True\n",
      "True\n",
      "True\n",
      "True\n",
      "True\n",
      "False\n",
      "False\n",
      "False\n",
      "True\n",
      "False\n",
      "False\n",
      "False\n",
      "False\n",
      "False\n",
      "True\n"
     ]
    }
   ],
   "source": [
    "# ongoing function agregating bytes by groups of 24\n",
    "b055buff = bytearray(24)\n",
    "mb055buff = memoryview(b055buff)\n",
    "b055buffN = 0\n",
    "def bno055getorientbuffer():\n",
    "    global b055buffN\n",
    "    while True:\n",
    "        if b055buffN == 24:\n",
    "            b055buffN = 0\n",
    "        n = u.readinto(mb055buff[b055buffN:])\n",
    "        if n == 0:\n",
    "            return False\n",
    "        b055buffN += n\n",
    "        if b055buffN != 24:\n",
    "            return False\n",
    "        if b055buff[0] == 0xBB:\n",
    "            return True\n",
    "        for i in range(1,24):\n",
    "            if b055buff[i] == 0xBB:\n",
    "                b055buffN = 24-i\n",
    "                mb055buff[:b055buffN] = mb055buff[i:]\n",
    "        else:\n",
    "            mb055buffN = 0\n",
    "            \n"
   ]
  },
  {
   "cell_type": "code",
   "execution_count": 408,
   "metadata": {},
   "outputs": [
    {
     "name": "stdout",
     "output_type": "stream",
     "text": [
      "bytearray(b'\\x06\\xee\\x06\\xee\\x06\\xee\\x06\\xee\\x06\\xee\\x06\\xee\\x06\\xee\\x06\\xee\\x06\\xee\\x06\\xee\\x06\\xee\\x06\\xee')\n",
      "b's\\x00\\xf5\\xff3\\xfc\\x1b\\xf3\\xbb\\x16\\xa9\\x03\\xbf\\xe8\\x7f\\xc4\\xfb\\xfe\\xfa\\xff\\x06\\x00\\x02\\x00s\\xbb\\x16\\xa9\\x03\\xbf\\xe8\\x7f\\xc4\\xfb\\xfe\\xfa\\xff\\x06\\x00\\x02\\x00s\\x00\\xf5\\xff3\\xfc\\x1b\\xf3\\xbb\\x16\\xa9\\x03\\xbf\\xe8\\x7f\\xc4\\xfb\\xfe\\xfa\\xff\\x05\\x00\\xf8\\xffs\\x00\\xf5\\xff3\\xfc\\x1b\\xf3\\xbb\\x16\\xa9\\x03\\xbf\\xe8\\x7f\\xc4\\xfb\\xfe\\xf6\\xff\\x06\\x00\\x08\\x00s\\x00\\xf5\\xff3\\xfc\\x1b\\xf3\\xbb\\x16\\xa9\\x03\\xbf\\xe8\\x7f\\xc4\\xfb\\xfe\\xf6\\xff\\x04\\x00\\x0c\\x00s\\x00\\xf5\\xff3\\xfc\\x1b\\xf3\\xbb\\x16\\xa9\\x03\\xbf\\xe8\\x7f\\xc4\\xfb\\xfe\\xfb\\xff\\x06\\x00\\x00\\x00s\\x00\\xf5\\xff3\\xfc\\x1b\\xf3\\xbb\\x16\\xa9\\x03\\xbf\\xe8\\x7f\\xc4\\xfb\\xfe\\xfa\\xff\\x07\\x00\\x00\\x00s\\x00\\xf5\\xff3\\xfc\\x1b\\xf3\\xbb\\x16\\xa9\\x03\\xbf\\xe8\\x7f\\xc4\\xfb\\xfe\\xfa\\xff\\x06\\x00\\xfd\\xffs\\x00\\xf5\\xff3\\xfc\\x1b\\xf3\\xbb\\x16\\xa9\\x03\\xbf\\xe8\\x7f\\xc4\\xfb\\xfe\\xf9\\xff\\x06\\x00\\x01\\x00s\\x00\\xf5\\xff3\\xfc\\x1b\\xf3\\xbb\\x16\\xa9\\x03\\xbf\\xe8\\x7f\\xc4\\xfb\\xfe\\xfa\\xff\\x06\\x00\\x02\\x00s\\x00\\xf5\\xff3\\xfc\\x1b\\xf3\\xbb\\x16\\xa9\\x03\\xbf\\xe8\\x7f\\xc4\\xfb\\xfe\\xf7\\xff\\x06\\x00\\x07\\x003\\xfc\\x1b\\xf3\\xbb\\x16\\xa9\\x03\\xbf'\n"
     ]
    }
   ],
   "source": [
    "print(b055buff)\n",
    "print(u.read())"
   ]
  },
  {
   "cell_type": "code",
   "execution_count": 411,
   "metadata": {},
   "outputs": [
    {
     "name": "stdout",
     "output_type": "stream",
     "text": [
      "496 lines captured"
     ]
    }
   ],
   "source": [
    "%capture --quiet bnodata.txt\n",
    "import ustruct\n",
    "for i in range(2000):\n",
    "    if bno055getorientbuffer():\n",
    "        qw, qx, qy, qz = ustruct.unpack(\"<hhhh\", mb055buff[2:10])\n",
    "        accx, accy, accz = ustruct.unpack(\"<hhh\", mb055buff[10:16])\n",
    "        gx, gy, gz = ustruct.unpack(\"<hhh\", mb055buff[16:24])\n",
    "        print(gx, gy, gz)\n",
    "    time.sleep_ms(2)\n"
   ]
  },
  {
   "cell_type": "code",
   "execution_count": null,
   "metadata": {
    "collapsed": true
   },
   "outputs": [],
   "source": []
  },
  {
   "cell_type": "code",
   "execution_count": 25,
   "metadata": {
    "collapsed": true
   },
   "outputs": [],
   "source": [
    "import machine\n",
    "i2c = machine.I2C(scl=machine.Pin(4), sda=machine.Pin(5), freq=100000)  #D2,D1\n",
    "# NodeMCU D4 is Pin(2) the light\n",
    "# D7 is Pin(13)\n",
    "# D1 is Pin(5), D2 is Pin(4)"
   ]
  },
  {
   "cell_type": "code",
   "execution_count": 38,
   "metadata": {},
   "outputs": [
    {
     "name": "stdout",
     "output_type": "stream",
     "text": [
      "[40]\r\n"
     ]
    }
   ],
   "source": [
    "print(i2c.scan())"
   ]
  },
  {
   "cell_type": "code",
   "execution_count": 39,
   "metadata": {},
   "outputs": [
    {
     "name": "stdout",
     "output_type": "stream",
     "text": [
      "object <I2C> is of type I2C\n",
      "  init -- <function>\n",
      "  scan -- <function>\n",
      "  start -- <function>\n",
      "  stop -- <function>\n",
      "  readinto -- <function>\n",
      "  write -- <function>\n",
      "  readfrom -- <function>\n",
      "  readfrom_into -- <function>\n",
      "  writeto -- <function>\n",
      "  readfrom_mem -- <function>\n",
      "  readfrom_mem_into -- <function>\n",
      "  writeto_mem -- <function>\n"
     ]
    }
   ],
   "source": [
    "help(i2c)"
   ]
  },
  {
   "cell_type": "code",
   "execution_count": 43,
   "metadata": {},
   "outputs": [
    {
     "name": "stdout",
     "output_type": "stream",
     "text": [
      "BNO055 sensor SW_REV_ID: 0x8.0x3\r\n"
     ]
    }
   ],
   "source": [
    "k = i2c.readfrom_mem(0x28, 0x00, 6)\n",
    "print(\"BNO055 sensor SW_REV_ID: %s.%s\" %(hex(k[4]), hex(k[5])))\n",
    "\n",
    "i2c.writeto_mem(0x28, 0x3D, b'\\x00')     # config mode\n",
    "i2c.writeto_mem(0x28, 0x3E, b'\\x00')     # PWR_MODE, normal\n",
    "i2c.writeto_mem(0x28, 0x3B, b'\\x00')     # UNIT_SEL, celsius, UDegrees and m/s^2\n",
    "i2c.writeto_mem(0x28, 0x3D, b'\\x0c')     # back to NDOF mode\n"
   ]
  },
  {
   "cell_type": "code",
   "execution_count": 48,
   "metadata": {
    "collapsed": true
   },
   "outputs": [],
   "source": [
    "import ustruct, math\n",
    "def BNO055calibstat():\n",
    "    calibstat = i2c.readfrom_mem(0x28, 0x35, 1)[0]\n",
    "    print(\"sys:\", (calibstat>>6)&0x03, \"gyr:\", (calibstat>>4)&0x03, \"acc:\", (calibstat>>2)&0x03, \"mag:\", calibstat&0x03)\n",
    "    return calibstat\n",
    "\n",
    "def BNO055quat():  # returns qw, qx, qy, qz\n",
    "    return ustruct.unpack(\"<hhhh\", i2c.readfrom_mem(0x28, 0x20, 8))\n",
    "    #accx, accy, accz = ustruct.unpack(\"<hhh\", i2c.readfrom_mem(0x28, 0x28, 6))\n",
    "    #gravx, gravy, gravz = ustruct.unpack(\"<hhh\", i2c.readfrom_mem(0x28, 0x2E, 6))\n",
    "    \n",
    "def BNO055pitchrollorient():  \n",
    "    q0, q1, q2, q3 = ustruct.unpack(\"<hhhh\", i2c.readfrom_mem(0x28, 0x20, 8))\n",
    "    riqsq = q0*q0 + q1*q1 + q2*q2 + q3*q3 \n",
    "    iqsq = 1/riqsq \n",
    "    \n",
    "    r02 = q0*q2*2 * iqsq\n",
    "    r13 = q1*q3*2 * iqsq\n",
    "    sinpitch = r13 - r02\n",
    "\n",
    "    r01 = q0*q1*2 * iqsq\n",
    "    r23 = q2*q3*2 * iqsq \n",
    "    sinroll = r23 + r01 \n",
    "     \n",
    "    r00 = q0*q0*2 * iqsq\n",
    "    r11 = q1*q1*2 * iqsq\n",
    "    r03 = q0*q3*2 * iqsq\n",
    "    r12 = q1*q2*2 * iqsq\n",
    "    a00=r00 - 1 + r11   \n",
    "    a01=r12 + r03  \n",
    "    rads = math.atan2(a00, -a01) \n",
    "    northorient = 180 - math.degrees(rads) \n",
    "    return math.degrees(math.asin(sinpitch)), math.degrees(math.asin(sinroll)), northorient\n"
   ]
  },
  {
   "cell_type": "code",
   "execution_count": 50,
   "metadata": {},
   "outputs": [
    {
     "name": "stdout",
     "output_type": "stream",
     "text": [
      "(10.8158, -44.0199, 61.588)\n",
      "(10.8238, -47.5484, 62.3141)\n",
      "(20.7014, -60.9549, 54.0808)\n",
      "(56.971, -33.0013, 43.9023)\n",
      "(52.1493, -18.3065, 342.545)\n",
      "(46.3006, -35.2649, 17.5424)\n",
      "(42.2377, -27.7535, 16.5857)\n",
      ".(8.33827, -48.6177, 7.79858)\n",
      "(3.4224, -35.0811, 17.7718)\n",
      "(2.68431, -75.0881, 29.6096)\n",
      "(2.22569, -85.1109, 33.5448)\n",
      "(4.20045, -85.6618, 33.629)\n",
      "(2.58186, -66.25, 28.2278)\n",
      ".(-28.3882, -59.442, 23.9154)\n",
      "(-35.7429, -51.7838, 25.7964)\n",
      "(28.4852, -51.7594, 30.1144)\n",
      "(30.6728, -49.8863, 29.4197)\n",
      "(10.4922, -70.1416, 25.254)\n",
      "(-16.8348, -58.7813, 344.523)\n",
      "(12.2092, -69.8632, 354.49)\n",
      ".(17.637, -47.6771, 349.497)\n",
      "(13.2955, -57.9992, 359.52)\n",
      "(14.5041, -55.6848, 1.68188)\n",
      "(15.4812, -53.5235, 1.039)\n",
      "(15.467, -52.7755, 359.598)\n",
      "(15.0609, -52.7346, 358.906)\n",
      ".(15.1284, -52.8254, 359.245)\n",
      "(15.2328, -55.3978, 358.871)\n",
      "(14.1985, -54.5009, 357.564)\n",
      "(13.7786, -57.1812, 357.214)\n",
      "(14.3266, -59.1064, 357.278)\n",
      "(18.8258, -71.0725, 2.16046)\n",
      "(12.4669, -44.7047, 4.23883)\n",
      ".(9.14068, -48.523, 2.27264)\n",
      "(7.94079, -50.0397, 0.993225)\n",
      "(6.93506, -54.7605, 357.427)\n",
      "(7.4464, -55.9066, 357.075)\n",
      "(9.86691, -62.1985, 356.246)\n",
      "(1.56782, -78.0259, 45.2858)\n",
      ".(11.8273, -64.6281, 36.6468)\n",
      "(57.3234, 11.6447, 331.742)\n",
      "(47.2459, 13.5713, 332.999)\n",
      "(41.1989, 38.9031, 316.653)\n",
      "(39.8139, 41.9746, 321.211)\n",
      "(9.01609, -77.4174, 351.096)\n",
      "(4.43644, -69.693, 350.771)\n",
      ".(4.52158, -69.7061, 350.776)\n",
      "(4.52158, -69.7061, 350.776)\n",
      "(4.52158, -69.7061, 350.776)\n",
      "(4.52158, -69.7061, 350.776)\n"
     ]
    }
   ],
   "source": [
    "import time\n",
    "for i in range(50):\n",
    "    print(BNO055pitchrollorient())\n",
    "    time.sleep(1.0)"
   ]
  },
  {
   "cell_type": "code",
   "execution_count": 13,
   "metadata": {},
   "outputs": [
    {
     "name": "stdout",
     "output_type": "stream",
     "text": [
      "object <I2C> is of type I2C\n",
      "  init -- <function>\n",
      "  scan -- <function>\n",
      "  start -- <function>\n",
      "  stop -- <function>\n",
      "  readinto -- <function>\n",
      "  write -- <function>\n",
      "  readfrom -- <function>\n",
      "  readfrom_into -- <function>\n",
      "  writeto -- <function>\n",
      "  readfrom_mem -- <function>\n",
      "  readfrom_mem_into -- <function>\n",
      "  writeto_mem -- <function>\n"
     ]
    }
   ],
   "source": [
    "help(i2c)"
   ]
  },
  {
   "cell_type": "code",
   "execution_count": 14,
   "metadata": {
    "collapsed": true
   },
   "outputs": [],
   "source": [
    "i2c.start()"
   ]
  },
  {
   "cell_type": "code",
   "execution_count": null,
   "metadata": {
    "collapsed": true
   },
   "outputs": [],
   "source": []
  }
 ],
 "metadata": {
  "kernelspec": {
   "display_name": "MicroPython - USB",
   "language": "micropython",
   "name": "micropython"
  },
  "language_info": {
   "codemirror_mode": "python",
   "file_extension": ".py",
   "mimetype": "text/python",
   "name": "micropython"
  }
 },
 "nbformat": 4,
 "nbformat_minor": 2
}

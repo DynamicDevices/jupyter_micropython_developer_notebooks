{
 "cells": [
  {
   "cell_type": "code",
   "execution_count": 43,
   "metadata": {},
   "outputs": [
    {
     "name": "stdout",
     "output_type": "stream",
     "text": [
      "\u001b[34mConnecting to Serial /dev/ttyUSB0 baud=115200 \u001b[0m\n",
      "\u001b[0;32mI (5807) network: event 1\u001b[0m\n",
      "ets Jun  8 2016 00:22:57\n",
      "\n",
      "rst:0x1 (POWERON_RESET),boot:0x17 (SPI_FAST_FLASH_BOOT)\n",
      "configsip: 0, SPIWP:0xee\n",
      "clk_drv:0x00,q_drv:0x00,d_drv:0x00,cs0_drv:0x00,hd_drv:0x00,wp_drv:0x00\n",
      "mode:DIO, clock div:2\n",
      "load:0x3fff0018,len:4\n",
      "load:0x3fff001c,len:4332\n",
      "load:0x40078000,len:0\n",
      "load:0x40078000,len:10992\n",
      "entry 0x4007a6c4\n",
      "\u001b[0;33mW (64) rtc_clk: Potentially bogus XTAL frequency: 35 MHz, guessing 40 MHz\u001b[0m\n",
      "LOG 1 ON 1223\n",
      "Scanning wifis: DoESLiverpool, DoESDinky, DoESBackup, BV6000\n",
      "\n",
      "\n",
      "*** Sending Ctrl-C\n",
      "\n",
      "\u001b[0;32mI (5805) network: event 1\u001b[0m\n",
      "Traceback (most recent call last):\n",
      "  File \"main.py\", line 7, in <module>\n",
      "  File \"connectwifi.py\", line 14, in <module>\n",
      "  File \"connectwifi.py\", line 12, in <genexpr>\n",
      "KeyboardInterrupt: \n",
      "MicroPython v1.9.2-443-g236297f4 on 2017-11-14; ESP32 module with ESP32\n",
      "Type \"help()\" for more information.\n",
      ">>> \n",
      ">>>[reboot detected 0]repl is in normal command mode\n",
      "[\\r\\x03\\x03] b'\\r\\n>>> '\n",
      "[\\r\\x01] b'\\r\\n>>> \\r\\nraw REPL; CTRL-B to exit\\r\\n>' "
     ]
    }
   ],
   "source": [
    "%serialconnect"
   ]
  },
  {
   "cell_type": "code",
   "execution_count": 14,
   "metadata": {},
   "outputs": [
    {
     "name": "stdout",
     "output_type": "stream",
     "text": [
      "Sent 34 lines (713 bytes) to syslog.py.\n",
      "Sent 48 lines (1507 bytes) to asyncdevices.py.\n",
      "Sent 4 lines (87 bytes) to wificodes.txt.\n",
      "Sent 33 lines (995 bytes) to connectwifi.py.\n",
      "Sent 9 lines (327 bytes) to connecthotspot.py.\n",
      "Sent 190 lines (6050 bytes) to webserve_funcs.py.\n",
      "Sent 86 lines (3110 bytes) to websocket_funcs.py.\n"
     ]
    }
   ],
   "source": [
    "%sendtofile --quiet --source ../basicsockets/syslog.py\n",
    "%sendtofile --quiet --source ../essential_sensor_code/asyncdevices.py\n",
    "\n",
    "%sendtofile --quiet --source ../wificodes.txt\n",
    "%sendtofile --quiet --source ../basicsockets/connectwifi.py\n",
    "%sendtofile --quiet --source ../basicsockets/connecthotspot.py\n",
    "\n",
    "%sendtofile --quiet --source ../async_web_serve/webserve_funcs.py\n"
   ]
  },
  {
   "cell_type": "code",
   "execution_count": 46,
   "metadata": {},
   "outputs": [
    {
     "name": "stdout",
     "output_type": "stream",
     "text": [
      "Sent 13 lines (338 bytes) to uploadfiletest.html.\n"
     ]
    }
   ],
   "source": [
    "%sendtofile --source uploadfiletest.html\n"
   ]
  },
  {
   "cell_type": "code",
   "execution_count": 10,
   "metadata": {},
   "outputs": [
    {
     "name": "stdout",
     "output_type": "stream",
     "text": [
      "Sent 53 lines (1478 bytes) to main.py.\n"
     ]
    }
   ],
   "source": [
    "%comment This does the main file loading\n",
    "\n",
    "%sendtofile --source plain_main.py main.py\n",
    "\n",
    "# you need to reset properly and monitor on serial line through picocom, sa"
   ]
  },
  {
   "cell_type": "code",
   "execution_count": null,
   "metadata": {
    "collapsed": true
   },
   "outputs": [],
   "source": [
    "# Below are the lines you can use to build the webserver in immediate mode"
   ]
  },
  {
   "cell_type": "code",
   "execution_count": 11,
   "metadata": {},
   "outputs": [
    {
     "name": "stdout",
     "output_type": "stream",
     "text": [
      "repl is in normal command mode\n",
      "[\\r\\x03\\x03] b'\\r\\nMicroPython v1.9.2-443-g236297f4 on 2017-11-14; ESP32 module with ESP32\\r\\nType \"help()\" for more information.\\r\\n>>> \\r\\n>>> \\r\\nPYB: soft reboot\\r\\nTraceback (most recent call last):\\r\\n  File \"main.py\", line 2, in <module>\\r\\nKeyboardInterrupt: \\r\\nMicroPython v1.9.2-443-g236297f4 on 2017-11-14; ESP32 module with ESP32\\r\\nType \"help()\" for more information.\\r\\n>>> \\r\\n>>> '\n",
      "[\\r\\x01] b'\\r\\n>>> \\r\\nraw REPL; CTRL-B to exit\\r\\n>'"
     ]
    }
   ],
   "source": [
    "%rebootdevice"
   ]
  },
  {
   "cell_type": "code",
   "execution_count": 47,
   "metadata": {},
   "outputs": [
    {
     "name": "stdout",
     "output_type": "stream",
     "text": [
      "\n",
      "Closing serial Serial<id=0x7fae9b3f5518, open=True>(port='/dev/ttyUSB0', baudrate=115200, bytesize=8, parity='N', stopbits=1, timeout=0.5, xonxoff=False, rtscts=False, dsrdtr=False)\n"
     ]
    }
   ],
   "source": [
    "%disconnect"
   ]
  },
  {
   "cell_type": "code",
   "execution_count": 5,
   "metadata": {},
   "outputs": [
    {
     "name": "stdout",
     "output_type": "stream",
     "text": [
      "LOG 44 ON 0\n",
      "\u001b[0;33mW (53648) phy_init: failed to load RF calibration data (0x1102), falling back to full calibration\u001b[0m\n",
      "Scanning wifis: DoESLiverpool, DoESDinky, DoESBackup, BV6000\n",
      "\u001b[0;32mI (56258) network: event 1\u001b[0m\n",
      "LOG 47 Strongest wifi DoESLiverpool\n",
      "> auth (b0)\n",
      "> assoc (0)\n",
      "> run (10)\n",
      "\u001b[0;32mI (58378) network: event 4\u001b[0m\n",
      ".\n",
      ".\u001b[0;32mI (65008) network: GOT_IP\u001b[0m\n",
      "LOG 56 Device has ipnumber 192.168.0.72\n"
     ]
    }
   ],
   "source": [
    "#%%writefile plain_main.py\n",
    "\n",
    "import time\n",
    "time.sleep(1.0)\n",
    "\n",
    "from syslog import log, elog, powid\n",
    "import os, ustruct, uasyncio\n",
    "uasyncio.set_debug(0)\n",
    "\n",
    "from connectwifi import ipnumber\n",
    "#from connecthotspot import ipnumber\n",
    "\n",
    "\n",
    "from webserve_funcs import servestaticfile\n",
    "from webserve_funcs import servefilelist\n",
    "from webserve_funcs import readhttpheaders\n",
    "from webserve_funcs import recpostsave\n",
    "from webserve_funcs import servemessage\n",
    "from webserve_funcs import convertsavepostfile\n",
    "\n"
   ]
  },
  {
   "cell_type": "code",
   "execution_count": 6,
   "metadata": {},
   "outputs": [],
   "source": [
    "#%%writefile --append plain_main.py\n",
    "\n",
    "async def handleconnection(reader, writer):\n",
    "    receivedrequest = await readhttpheaders(reader)\n",
    "    \n",
    "    print(receivedrequest)\n",
    "    if \"POST\" in receivedrequest:\n",
    "        await recpostsave(receivedrequest, reader, \"POSTUPLOAD.txt\")\n",
    "        await servemessage(writer, \"done\")\n",
    "        await writer.aclose()\n",
    "        convertsavepostfile(\"POSTUPLOAD.txt\")\n",
    "        return\n",
    "\n",
    "    rpath = receivedrequest.get(\"GET\")\n",
    "    log(str(receivedrequest))\n",
    "    \n",
    "    bcallaclose = True\n",
    "    if rpath == \"\":\n",
    "        await servefilelist(writer)\n",
    "    elif rpath:\n",
    "        await servestaticfile(writer, rpath)\n",
    "        \n",
    "    if bcallaclose:\n",
    "        await writer.aclose()\n",
    "\n"
   ]
  },
  {
   "cell_type": "code",
   "execution_count": 7,
   "metadata": {},
   "outputs": [
    {
     "name": "stdout",
     "output_type": "stream",
     "text": [
      "* Running on http://192.168.0.72:80/\r\n"
     ]
    }
   ],
   "source": [
    "#%%writefile --append plain_main.py\n",
    "\n",
    "# enables rewriting handleconnection function without restarting\n",
    "def handleconnection_indirect(reader, writer):\n",
    "    try:\n",
    "        return handleconnection(reader, writer)\n",
    "    except OSError as e:\n",
    "        print(\"handleconnection exception\", str(e))\n",
    "\n",
    "port = 80\n",
    "loop = uasyncio.get_event_loop()\n",
    "print(\"* Running on http://%s:%s/\" % (ipnumber, port))\n",
    "loop.create_task(uasyncio.start_server(handleconnection_indirect, ipnumber, port))\n"
   ]
  },
  {
   "cell_type": "code",
   "execution_count": 8,
   "metadata": {},
   "outputs": [
    {
     "name": "stdout",
     "output_type": "stream",
     "text": [
      ".{'GET': ''}\n",
      "LOG 61 {'GET': ''} None\n",
      "[] serving file list\n",
      "{'GET': 'syslog.txt'}\n",
      "LOG 64 {'GET': 'syslog.txt'} None\n",
      "about to serve syslog.txt\n",
      "File syslog.txt (124 bytes)-- served in 4ms\n",
      ".{'GET': 'syslog.py'}\n",
      "LOG 69 {'GET': 'syslog.py'} None\n",
      "about to serve syslog.py\n",
      "File syslog.py (713 bytes)-- served in 11ms\n",
      ".{'GET': 'lib/uasyncio/__init__.py'}\n",
      "LOG 77 {'GET': 'lib/uasyncio/__init__.py'} None\n",
      "about to serve lib/uasyncio/__init__.py\n",
      "File lib/uasyncio/__init__.py (7999 bytes)-- served in 314ms\n",
      "................................................................................................................................................\n",
      "\n",
      "*** Sending Ctrl-C\n",
      "\n"
     ]
    },
    {
     "name": "stderr",
     "output_type": "stream",
     "text": [
      "Traceback (most recent call last):\n",
      "  File \"<stdin>\", line 3, in <module>\n",
      "  File \"/lib/uasyncio/core.py\", line 77, in run_forever\n",
      "  File \"/lib/uasyncio/__init__.py\", line 69, in wait\n",
      "KeyboardInterrupt: \n"
     ]
    }
   ],
   "source": [
    "#%%writefile --append plain_main.py\n",
    "\n",
    "loop.run_forever()\n"
   ]
  },
  {
   "cell_type": "code",
   "execution_count": 244,
   "metadata": {},
   "outputs": [
    {
     "name": "stdout",
     "output_type": "stream",
     "text": [
      "Sent 56 lines (1533 bytes) to main.py.\n"
     ]
    }
   ],
   "source": [
    "%sendtofile --source plain_main.py main.py"
   ]
  },
  {
   "cell_type": "code",
   "execution_count": null,
   "metadata": {
    "collapsed": true
   },
   "outputs": [],
   "source": []
  }
 ],
 "metadata": {
  "kernelspec": {
   "display_name": "MicroPython - USB",
   "language": "micropython",
   "name": "micropython"
  },
  "language_info": {
   "codemirror_mode": "python",
   "file_extension": ".py",
   "mimetype": "text/python",
   "name": "micropython"
  }
 },
 "nbformat": 4,
 "nbformat_minor": 2
}

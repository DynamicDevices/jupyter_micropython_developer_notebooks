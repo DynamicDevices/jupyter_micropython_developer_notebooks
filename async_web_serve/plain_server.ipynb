{
 "cells": [
  {
   "cell_type": "code",
   "execution_count": 1,
   "metadata": {},
   "outputs": [
    {
     "name": "stdout",
     "output_type": "stream",
     "text": [
      "\u001b[34mConnecting to --port=/dev/ttyUSB8 --baud=115200 \u001b[0m\n",
      "\u001b[34mReady.\n",
      "\u001b[0m"
     ]
    }
   ],
   "source": [
    "%serialconnect"
   ]
  },
  {
   "cell_type": "code",
   "execution_count": 2,
   "metadata": {},
   "outputs": [
    {
     "name": "stdout",
     "output_type": "stream",
     "text": [
      "Sent 34 lines (705 bytes) to syslog.py.\n",
      "Sent 48 lines (1507 bytes) to asyncdevices.py.\n",
      "Sent 34 lines (1042 bytes) to connectwifi.py.\n",
      "Sent 9 lines (327 bytes) to connecthotspot.py.\n",
      "Sent 190 lines (6050 bytes) to webserve_funcs.py.\n"
     ]
    }
   ],
   "source": [
    "%sendtofile --quiet --source ../basicsockets/syslog.py\n",
    "%sendtofile --quiet --source ../essential_sensor_code/asyncdevices.py\n",
    "\n",
    "%sendtofile --quiet --source ../wificodes.txt\n",
    "%sendtofile --quiet --source ../basicsockets/connectwifi.py\n",
    "%sendtofile --quiet --source ../basicsockets/connecthotspot.py\n",
    "\n",
    "%sendtofile --quiet --source ../async_web_serve/webserve_funcs.py\n"
   ]
  },
  {
   "cell_type": "code",
   "execution_count": 46,
   "metadata": {},
   "outputs": [
    {
     "name": "stdout",
     "output_type": "stream",
     "text": [
      "Sent 13 lines (338 bytes) to uploadfiletest.html.\n"
     ]
    }
   ],
   "source": [
    "%sendtofile --source uploadfiletest.html\n"
   ]
  },
  {
   "cell_type": "code",
   "execution_count": 10,
   "metadata": {},
   "outputs": [
    {
     "name": "stdout",
     "output_type": "stream",
     "text": [
      "Sent 53 lines (1478 bytes) to main.py.\n"
     ]
    }
   ],
   "source": [
    "%comment This does the main file loading\n",
    "\n",
    "%sendtofile --source plain_main.py main.py\n",
    "\n",
    "# you need to reset properly and monitor on serial line through picocom, sa"
   ]
  },
  {
   "cell_type": "code",
   "execution_count": null,
   "metadata": {
    "collapsed": true
   },
   "outputs": [],
   "source": [
    "# Below are the lines you can use to build the webserver in immediate mode"
   ]
  },
  {
   "cell_type": "code",
   "execution_count": 11,
   "metadata": {},
   "outputs": [
    {
     "name": "stdout",
     "output_type": "stream",
     "text": [
      "repl is in normal command mode\n",
      "[\\r\\x03\\x03] b'\\r\\nMicroPython v1.9.2-443-g236297f4 on 2017-11-14; ESP32 module with ESP32\\r\\nType \"help()\" for more information.\\r\\n>>> \\r\\n>>> \\r\\nPYB: soft reboot\\r\\nTraceback (most recent call last):\\r\\n  File \"main.py\", line 2, in <module>\\r\\nKeyboardInterrupt: \\r\\nMicroPython v1.9.2-443-g236297f4 on 2017-11-14; ESP32 module with ESP32\\r\\nType \"help()\" for more information.\\r\\n>>> \\r\\n>>> '\n",
      "[\\r\\x01] b'\\r\\n>>> \\r\\nraw REPL; CTRL-B to exit\\r\\n>'"
     ]
    }
   ],
   "source": [
    "%rebootdevice"
   ]
  },
  {
   "cell_type": "code",
   "execution_count": 47,
   "metadata": {},
   "outputs": [
    {
     "name": "stdout",
     "output_type": "stream",
     "text": [
      "\n",
      "Closing serial Serial<id=0x7fae9b3f5518, open=True>(port='/dev/ttyUSB0', baudrate=115200, bytesize=8, parity='N', stopbits=1, timeout=0.5, xonxoff=False, rtscts=False, dsrdtr=False)\n"
     ]
    }
   ],
   "source": [
    "%disconnect"
   ]
  },
  {
   "cell_type": "code",
   "execution_count": 3,
   "metadata": {},
   "outputs": [
    {
     "name": "stdout",
     "output_type": "stream",
     "text": [
      "LOG 834 ON 0\n",
      "Creating access point ESP_0efe91\n",
      "Device has ipnumber 192.168.4.1\n"
     ]
    }
   ],
   "source": [
    "#%%writefile plain_main.py\n",
    "\n",
    "import time\n",
    "time.sleep(1.0)\n",
    "\n",
    "from syslog import log, elog, powid\n",
    "import os, ustruct, uasyncio\n",
    "uasyncio.set_debug(0)\n",
    "\n",
    "#from connectwifi import ipnumber\n",
    "from connecthotspot import ipnumber\n",
    "\n",
    "from webserve_funcs import servestaticfile\n",
    "from webserve_funcs import servefilelist\n",
    "from webserve_funcs import readhttpheaders\n",
    "from webserve_funcs import recpostsave\n",
    "from webserve_funcs import servemessage\n",
    "from webserve_funcs import convertsavepostfile\n",
    "\n"
   ]
  },
  {
   "cell_type": "code",
   "execution_count": 4,
   "metadata": {},
   "outputs": [],
   "source": [
    "#%%writefile --append plain_main.py\n",
    "\n",
    "async def handleconnection(reader, writer):\n",
    "    receivedrequest = await readhttpheaders(reader)\n",
    "    \n",
    "    print(receivedrequest)\n",
    "    if \"POST\" in receivedrequest:\n",
    "        await recpostsave(receivedrequest, reader, \"POSTUPLOAD.txt\")\n",
    "        await servemessage(writer, \"done\")\n",
    "        await writer.aclose()\n",
    "        convertsavepostfile(\"POSTUPLOAD.txt\")\n",
    "        return\n",
    "\n",
    "    rpath = receivedrequest.get(\"GET\")\n",
    "    log(str(receivedrequest))\n",
    "    \n",
    "    bcallaclose = True\n",
    "    if rpath == \"\":\n",
    "        await servefilelist(writer)\n",
    "    elif rpath:\n",
    "        await servestaticfile(writer, rpath)\n",
    "        \n",
    "    if bcallaclose:\n",
    "        await writer.aclose()\n",
    "\n"
   ]
  },
  {
   "cell_type": "code",
   "execution_count": 5,
   "metadata": {},
   "outputs": [
    {
     "name": "stdout",
     "output_type": "stream",
     "text": [
      "* Running on http://192.168.4.1:80/\r\n"
     ]
    }
   ],
   "source": [
    "#%%writefile --append plain_main.py\n",
    "\n",
    "# enables rewriting handleconnection function without restarting\n",
    "def handleconnection_indirect(reader, writer):\n",
    "    try:\n",
    "        return handleconnection(reader, writer)\n",
    "    except OSError as e:\n",
    "        print(\"handleconnection exception\", str(e))\n",
    "\n",
    "port = 80\n",
    "loop = uasyncio.get_event_loop()\n",
    "print(\"* Running on http://%s:%s/\" % (ipnumber, port))\n",
    "loop.create_task(uasyncio.start_server(handleconnection_indirect, ipnumber, port))\n"
   ]
  },
  {
   "cell_type": "code",
   "execution_count": 6,
   "metadata": {},
   "outputs": [
    {
     "name": "stdout",
     "output_type": "stream",
     "text": [
      ".{'GET': ''}\n",
      "LOG 888 {'GET': ''} \n",
      "{'GET': 'favicon.ico'}\n",
      "LOG 888 {'GET': 'favicon.ico'} \n",
      "LOG 888 File 'favicon.ico' not found \n",
      "{'GET': 'syslog.py'}\n",
      "LOG 892 {'GET': 'syslog.py'} \n",
      "LOG 892 File 'syslog.py' (705 bytes) served in 11ms \n",
      "{'GET': 'favicon.ico'}\n",
      "LOG 892 {'GET': 'favicon.ico'} \n",
      "LOG 892 File 'favicon.ico' not found \n",
      "{'GET': 'favicon.ico'}\n",
      "LOG 894 {'GET': 'favicon.ico'} \n",
      "LOG 894 File 'favicon.ico' not found \n",
      ".......................................................\u001b[34m\n",
      "\n",
      "*** Sending Ctrl-C\n",
      "\n",
      "\u001b[0m\n",
      "\n",
      "Keyboard interrupt while waiting response on Ctrl-C\n",
      "\n"
     ]
    }
   ],
   "source": [
    "#%%writefile --append plain_main.py\n",
    "\n",
    "loop.run_forever()\n"
   ]
  },
  {
   "cell_type": "code",
   "execution_count": 244,
   "metadata": {},
   "outputs": [
    {
     "name": "stdout",
     "output_type": "stream",
     "text": [
      "Sent 56 lines (1533 bytes) to main.py.\n"
     ]
    }
   ],
   "source": [
    "%sendtofile --source plain_main.py main.py"
   ]
  },
  {
   "cell_type": "code",
   "execution_count": null,
   "metadata": {},
   "outputs": [],
   "source": []
  },
  {
   "cell_type": "code",
   "execution_count": 10,
   "metadata": {},
   "outputs": [
    {
     "name": "stdout",
     "output_type": "stream",
     "text": [
      "serial exception on close write failed: [Errno 5] Input/output error\n",
      "\u001b[34mConnecting to --port=/dev/ttyUSB9 --baud=115200 \u001b[0m\n",
      "\u001b[34mReady.\n",
      "\u001b[0m"
     ]
    }
   ],
   "source": [
    "%serialconnect\n",
    "import machine\n",
    "x = machine.Pin(4, machine.Pin.OUT)"
   ]
  },
  {
   "cell_type": "code",
   "execution_count": 14,
   "metadata": {},
   "outputs": [
    {
     "name": "stdout",
     "output_type": "stream",
     "text": [
      "\u001b[31m\n",
      "\n",
      "***Connection broken [Input/output error]\n",
      "\u001b[0mYou may need to reconnect\u001b[34m\n",
      "Closing serial Serial<id=0x7f5b336fe048, open=True>(port='/dev/ttyUSB9', baudrate=115200, bytesize=8, parity='N', stopbits=1, timeout=0.5, xonxoff=False, rtscts=False, dsrdtr=False)\n",
      "\u001b[0m\u001b[31mNo serial connected\n",
      "\u001b[0m  %serialconnect to connect\n",
      "  %esptool to flash the device\n",
      "  %lsmagic to list commands"
     ]
    }
   ],
   "source": [
    "x.value(1)"
   ]
  },
  {
   "cell_type": "code",
   "execution_count": null,
   "metadata": {},
   "outputs": [],
   "source": []
  }
 ],
 "metadata": {
  "kernelspec": {
   "display_name": "MicroPython - USB",
   "language": "micropython",
   "name": "micropython"
  },
  "language_info": {
   "codemirror_mode": "python",
   "file_extension": ".py",
   "mimetype": "text/python",
   "name": "micropython"
  }
 },
 "nbformat": 4,
 "nbformat_minor": 2
}

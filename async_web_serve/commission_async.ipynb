{
 "cells": [
  {
   "cell_type": "code",
   "execution_count": null,
   "metadata": {
    "collapsed": true
   },
   "outputs": [],
   "source": [
    "# Loading and testing the async modules\n"
   ]
  },
  {
   "cell_type": "code",
   "execution_count": 29,
   "metadata": {},
   "outputs": [
    {
     "name": "stdout",
     "output_type": "stream",
     "text": [
      "\u001b[34mConnecting to Serial /dev/ttyUSB5 baud=115200 \u001b[0m\n",
      "\u001b[34mReady.\n",
      "\u001b[0m"
     ]
    }
   ],
   "source": [
    "%serialconnect"
   ]
  },
  {
   "cell_type": "code",
   "execution_count": null,
   "metadata": {
    "collapsed": true
   },
   "outputs": [],
   "source": [
    "%comment Commissioning the async using pip\n",
    "\n",
    "%sendtofile --quiet --source ../wificodes.txt\n",
    "%sendtofile --quiet --source ../basicsockets/connectwifi.py\n",
    "\n",
    "from connectwifi import ipnumber\n",
    "import upip\n",
    "upip.install('micropython-uasyncio')\n",
    "\n",
    "%sendtofile --source /home/julian/executables/micropythonbins/uasyncio/__init__.py uasyncio/__init__.py\n",
    "%sendtofile --source /home/julian/executables/micropythonbins/uasyncio/core.py uasyncio/core.py\n",
    "\n"
   ]
  },
  {
   "cell_type": "code",
   "execution_count": null,
   "metadata": {
    "collapsed": true
   },
   "outputs": [],
   "source": [
    "# easier option if you don't have wifi:\n",
    "\n",
    "# The three files are backed up in uasyncio\n",
    "#    https://github.com/micropython/micropython-lib/blob/master/uasyncio/uasyncio/__init__.py\n",
    "#    https://github.com/micropython/micropython-lib/blob/master/uasyncio.core/uasyncio/core.py\n",
    "#    https://github.com/micropython/micropython-lib/blob/master/uasyncio.synchro/uasyncio/synchro.py"
   ]
  },
  {
   "cell_type": "code",
   "execution_count": 13,
   "metadata": {},
   "outputs": [
    {
     "name": "stdout",
     "output_type": "stream",
     "text": [
      "Sent 250 lines (7999 bytes) to lib/uasyncio/__init__.py.\n",
      "Sent 235 lines (6960 bytes) to lib/uasyncio/core.py.\n",
      "Sent 28 lines (846 bytes) to lib/uasyncio/synchro.py.\n"
     ]
    }
   ],
   "source": [
    "%sendtofile --mkdir --quiet --source uasyncio/__init__.py lib/uasyncio/\n",
    "%sendtofile --quiet --source uasyncio/core.py         lib/uasyncio/\n",
    "%sendtofile --quiet --source uasyncio/synchro.py      lib/uasyncio/\n"
   ]
  },
  {
   "cell_type": "code",
   "execution_count": 7,
   "metadata": {},
   "outputs": [
    {
     "name": "stdout",
     "output_type": "stream",
     "text": [
      "removing __init__.py\n",
      "removing core.py\n",
      "removing synchro.py\n"
     ]
    }
   ],
   "source": [
    "import os\n",
    "for l in os.listdir(\"lib/uasyncio\"):\n",
    "    print(\"removing\", l)\n",
    "    os.remove(\"lib/uasyncio/\"+l)"
   ]
  },
  {
   "cell_type": "code",
   "execution_count": 30,
   "metadata": {},
   "outputs": [
    {
     "name": "stdout",
     "output_type": "stream",
     "text": [
      "Executing:  /home/julian/extrepositories/micropython/mpy-cross/mpy-cross uasyncio/__init__.py\n",
      "Executing:  /home/julian/extrepositories/micropython/mpy-cross/mpy-cross uasyncio/core.py\n",
      "Executing:  /home/julian/extrepositories/micropython/mpy-cross/mpy-cross uasyncio/synchro.py\n",
      "Sent 5842 bytes in 195 chunks to lib/uasyncio/__init__.mpy.\n",
      "Sent 5630 bytes in 188 chunks to lib/uasyncio/core.mpy.\n",
      "Sent 677 bytes in 23 chunks to lib/uasyncio/synchro.mpy.\n"
     ]
    }
   ],
   "source": [
    "%comment alternative commisioning with mpy files\n",
    "\n",
    "%mpy-cross --set-exe /home/julian/extrepositories/micropython/mpy-cross/mpy-cross\n",
    "\n",
    "%mpy-cross uasyncio/__init__.py\n",
    "%mpy-cross uasyncio/core.py\n",
    "%mpy-cross uasyncio/synchro.py\n",
    "\n",
    "%sendtofile --mkdir --binary --quiet --source uasyncio/__init__.mpy lib/uasyncio/\n",
    "%sendtofile --quiet --binary --source uasyncio/core.mpy             lib/uasyncio/\n",
    "%sendtofile --quiet --binary --source uasyncio/synchro.mpy          lib/uasyncio/\n"
   ]
  },
  {
   "cell_type": "code",
   "execution_count": 33,
   "metadata": {},
   "outputs": [
    {
     "name": "stdout",
     "output_type": "stream",
     "text": [
      "['__init__.mpy', 'core.mpy', 'synchro.mpy']\n",
      "object <module 'sys'> is of type module\n",
      "  __name__ -- sys\n",
      "  path -- ['', '/lib']\n",
      "  argv -- []\n",
      "  version -- 3.4.0\n",
      "  version_info -- (3, 4, 0)\n",
      "  implementation -- (name='micropython', version=(1, 9, 2))\n",
      "  platform -- esp32\n",
      "  byteorder -- little\n",
      "  maxsize -- 2147483647\n",
      "  exit -- <function>\n",
      "  stdin -- <io.FileIO 0>\n",
      "  stdout -- <io.FileIO 1>\n",
      "  stderr -- <io.FileIO 2>\n",
      "  modules -- {'inisetup': <module 'inisetup'>, 'flashbdev': <module 'flashbdev'>}\n",
      "  print_exception -- <function>\n"
     ]
    }
   ],
   "source": [
    "import os\n",
    "print(os.listdir(\"lib/uasyncio\"))\n",
    "import sys\n",
    "help(sys)"
   ]
  },
  {
   "cell_type": "code",
   "execution_count": 36,
   "metadata": {},
   "outputs": [
    {
     "name": "stdout",
     "output_type": "stream",
     "text": [
      "repl is in normal command mode\n",
      "[\\r\\x03\\x03] b'\\r\\nMicroPython v1.9.2-443-g236297f4 on 2017-11-14; ESP32 module with ESP32\\r\\nType \"help()\" for more information.\\r\\n>>> \\r\\n>>> \\r\\nPYB: soft reboot\\r\\nOSError: [Errno 2] ENOENT\\r\\nMicroPython v1.9.2-443-g236297f4 on 2017-11-14; ESP32 module with ESP32\\r\\nType \"help()\" for more information.\\r\\n>>> \\r\\n>>> \\r\\n>>> '\n",
      "[\\r\\x01] b'\\r\\n>>> \\r\\nraw REPL; CTRL-B to exit\\r\\n>'"
     ]
    }
   ],
   "source": [
    "%rebootdevice"
   ]
  },
  {
   "cell_type": "code",
   "execution_count": 40,
   "metadata": {},
   "outputs": [
    {
     "name": "stdout",
     "output_type": "stream",
     "text": [
      "__main__          framebuf          re                upip\n",
      "_boot             gc                select            upip_utarfile\n",
      "_onewire          hashlib           socket            upysh\n",
      "_thread           heapq             ssl               urandom\n",
      "apa106            inisetup          struct            ure\n",
      "array             io                sys               urequests\n",
      "binascii          json              time              uselect\n",
      "btree             machine           ubinascii         usocket\n",
      "builtins          math              ucollections      ussl\n",
      "cmath             micropython       uctypes           ustruct\n",
      "collections       neopixel          uerrno            utime\n",
      "dht               network           uhashlib          utimeq\n",
      "ds18x20           ntptime           uheapq            uzlib\n",
      "errno             onewire           uio               zlib\n",
      "esp               os                ujson\n",
      "flashbdev         random            uos\n",
      "Plus any modules on the filesystem\n"
     ]
    }
   ],
   "source": [
    "help(\"modules\")"
   ]
  },
  {
   "cell_type": "code",
   "execution_count": 65,
   "metadata": {},
   "outputs": [
    {
     "name": "stdout",
     "output_type": "stream",
     "text": [
      "object <module 'uasyncio' from '/lib/uasyncio/__init__.py'> is of type module\n",
      "  _socket -- <module 'usocket'>\n",
      "  StopLoop -- <class 'StopLoop'>\n",
      "  EventLoop -- <class 'EventLoop'>\n",
      "  start_server -- <generator>\n",
      "  IORead -- <class 'IORead'>\n",
      "  sleep -- <generator>\n",
      "  IOWriteDone -- <class 'IOWriteDone'>\n",
      "  ensure_future -- <function ensure_future at 0x3ffb6410>\n",
      "  set_debug -- <function set_debug at 0x3ffb52d0>\n",
      "  sleep_ms -- <SleepMs object at 3ffb6930>\n",
      "  utimeq -- <module 'utimeq'>\n",
      "  __file__ -- /lib/uasyncio/__init__.py\n",
      "  SleepMs -- <class 'SleepMs'>\n",
      "  IOReadDone -- <class 'IOReadDone'>\n",
      "  coroutine -- <function coroutine at 0x3ffb6950>\n",
      "  core -- <module 'uasyncio.core' from '/lib/uasyncio/core.py'>\n",
      "  type_gen -- <class 'generator'>\n",
      "  SysCall1 -- <class 'SysCall1'>\n",
      "  SysCall -- <class 'SysCall'>\n",
      "  select -- <module 'uselect'>\n",
      "  DEBUG -- 0\n",
      "  __name__ -- uasyncio\n",
      "  __path__ -- /lib/uasyncio\n",
      "  StreamWriter -- <class 'StreamWriter'>\n",
      "  uasyncio -- <module 'uasyncio' from '/lib/uasyncio/__init__.py'>\n",
      "  StreamReader -- <class 'StreamReader'>\n",
      "  IOWrite -- <class 'IOWrite'>\n",
      "  log -- None\n",
      "  get_event_loop -- <function get_event_loop at 0x3ffb6040>\n",
      "  time -- <module 'utime'>\n",
      "  PollEventLoop -- <class 'PollEventLoop'>\n",
      "  Task -- <function Task at 0x3ffb6440>\n",
      "  open_connection -- <generator>\n",
      "  uerrno -- <module 'uerrno'>\n"
     ]
    }
   ],
   "source": [
    "help(uasyncio)"
   ]
  },
  {
   "cell_type": "code",
   "execution_count": 60,
   "metadata": {},
   "outputs": [
    {
     "name": "stdout",
     "output_type": "stream",
     "text": [
      "518939349\r\n"
     ]
    }
   ],
   "source": [
    "print(time.ticks_us())"
   ]
  },
  {
   "cell_type": "code",
   "execution_count": 66,
   "metadata": {},
   "outputs": [
    {
     "name": "stdout",
     "output_type": "stream",
     "text": [
      "array('i', [5203, 6934, 8648, 10363, 12070])\r\n"
     ]
    }
   ],
   "source": [
    "# brief test it's there (probably needs a reboot first)\n",
    "import uasyncio, array\n",
    "x = array.array(\"i\", range(5))\n",
    "t0 = time.ticks_us()\n",
    "async def thing():\n",
    "    for i in range(5):\n",
    "        x[i] = time.ticks_us() - t0\n",
    "        await uasyncio.sleep_ms(0)\n",
    "\n",
    "#ipnumber = \"192.168.4.1\"\n",
    "loop = uasyncio.get_event_loop()\n",
    "loop.run_until_complete(thing())\n",
    "print(x)\n"
   ]
  },
  {
   "cell_type": "code",
   "execution_count": 38,
   "metadata": {},
   "outputs": [
    {
     "name": "stdout",
     "output_type": "stream",
     "text": [
      "\n",
      "Closing serial Serial<id=0x7f1bfbceef60, open=True>(port='/dev/ttyUSB5', baudrate=115200, bytesize=8, parity='N', stopbits=1, timeout=0.5, xonxoff=False, rtscts=False, dsrdtr=False)\n"
     ]
    }
   ],
   "source": [
    "%disconnect"
   ]
  },
  {
   "cell_type": "code",
   "execution_count": 54,
   "metadata": {},
   "outputs": [
    {
     "name": "stdout",
     "output_type": "stream",
     "text": [
      "\u001b[34mConnecting to Serial /dev/ttyUSB0 baud=115200 \u001b[0m\n",
      "\u001b[34mReady.\n",
      "\u001b[0m"
     ]
    }
   ],
   "source": [
    "%serialconnect"
   ]
  },
  {
   "cell_type": "code",
   "execution_count": 28,
   "metadata": {},
   "outputs": [
    {
     "name": "stdout",
     "output_type": "stream",
     "text": [
      "1\n",
      "2\n",
      "3\n",
      "4\n",
      "on\n",
      ".off\n",
      ".1\n",
      "2\n",
      "3\n",
      "4\n",
      "on\n",
      "off\n",
      ".leaving greenlight\n"
     ]
    }
   ],
   "source": [
    "greenpin = machine.PWM(machine.Pin(13), freq=1024, duty=40)\n",
    "touchpin = machine.TouchPad(machine.Pin(33))\n",
    "\n",
    "import uasyncio\n",
    "\n",
    "hook = [ ]\n",
    "\n",
    "async def greenlight():\n",
    "    i = 0\n",
    "    while i < 1000 and hook:\n",
    "        if not hook[0]:\n",
    "            i += 1\n",
    "        t0 = time.ticks_ms() \n",
    "        greenpin.duty((t0%500) if hook[0] or (((t0//500)%3) == 0) else 0)\n",
    "        await uasyncio.sleep_ms(10)\n",
    "    print(\"leaving greenlight\")\n",
    "        \n",
    "async def ttest():\n",
    "    i = 0\n",
    "    while hook:\n",
    "        if touchpin.read()<1100:\n",
    "            i += 1\n",
    "            print(i)\n",
    "        else:\n",
    "            i = 0\n",
    "        if i > 3:\n",
    "            hook[0] = 1\n",
    "            print(\"on\")\n",
    "            await uasyncio.sleep_ms(4000)\n",
    "            print(\"off\")\n",
    "            hook[0] = None\n",
    "        await uasyncio.sleep_ms(50)\n",
    "    print(\"leaving ttask\")\n",
    "\n",
    "#ipnumber = \"192.168.4.1\"\n",
    "loop = uasyncio.get_event_loop()\n",
    "hook = [ None ]\n",
    "loop.create_task(ttest())\n",
    "loop.run_until_complete(greenlight())\n"
   ]
  },
  {
   "cell_type": "code",
   "execution_count": 27,
   "metadata": {},
   "outputs": [
    {
     "name": "stdout",
     "output_type": "stream",
     "text": [
      "\n",
      "\n",
      "*** Sending Ctrl-C\n",
      "\n"
     ]
    },
    {
     "name": "stderr",
     "output_type": "stream",
     "text": [
      "Traceback (most recent call last):\n",
      "  File \"<stdin>\", line 1, in <module>\n",
      "  File \"uasyncio/core.py\", line 65, in run_forever\n",
      "  File \"uasyncio/__init__.py\", line 69, in wait\n",
      "KeyboardInterrupt: \n"
     ]
    }
   ],
   "source": [
    "loop.run_forever()"
   ]
  },
  {
   "cell_type": "code",
   "execution_count": 16,
   "metadata": {},
   "outputs": [
    {
     "name": "stdout",
     "output_type": "stream",
     "text": [
      "object <module 'gc'> is of type module\n",
      "  __name__ -- gc\n",
      "  collect -- <function>\n",
      "  disable -- <function>\n",
      "  enable -- <function>\n",
      "  isenabled -- <function>\n",
      "  mem_free -- <function>\n",
      "  mem_alloc -- <function>\n",
      "  threshold -- <function>\n",
      "71280\n",
      "24720\n",
      "71424\n",
      "True\n"
     ]
    }
   ],
   "source": [
    "import gc\n",
    "help(gc)\n",
    "print(gc.mem_free())\n",
    "print(gc.mem_alloc())\n",
    "gc.collect()\n",
    "print(gc.mem_free())\n",
    "print(gc.isenabled())\n"
   ]
  },
  {
   "cell_type": "code",
   "execution_count": 17,
   "metadata": {},
   "outputs": [
    {
     "name": "stdout",
     "output_type": "stream",
     "text": [
      "\n",
      "Closing serial Serial<id=0x7f1bfbd519b0, open=True>(port='/dev/ttyUSB1', baudrate=115200, bytesize=8, parity='N', stopbits=1, timeout=0.5, xonxoff=False, rtscts=False, dsrdtr=False)\n"
     ]
    }
   ],
   "source": [
    "%disconnect"
   ]
  },
  {
   "cell_type": "code",
   "execution_count": null,
   "metadata": {
    "collapsed": true
   },
   "outputs": [],
   "source": []
  }
 ],
 "metadata": {
  "kernelspec": {
   "display_name": "MicroPython - USB",
   "language": "micropython",
   "name": "micropython"
  },
  "language_info": {
   "codemirror_mode": "python",
   "file_extension": ".py",
   "mimetype": "text/python",
   "name": "micropython"
  }
 },
 "nbformat": 4,
 "nbformat_minor": 2
}

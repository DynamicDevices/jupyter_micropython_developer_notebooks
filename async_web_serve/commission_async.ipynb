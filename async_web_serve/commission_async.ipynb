{
 "cells": [
  {
   "cell_type": "code",
   "execution_count": null,
   "metadata": {
    "collapsed": true
   },
   "outputs": [],
   "source": [
    "# Loading and testing the async modules\n"
   ]
  },
  {
   "cell_type": "code",
   "execution_count": 9,
   "metadata": {},
   "outputs": [
    {
     "name": "stdout",
     "output_type": "stream",
     "text": [
      "\u001b[34mConnecting to Serial /dev/ttyUSB1 baud=115200 \u001b[0m\n",
      "\u001b[34mReady.\n",
      "\u001b[0m"
     ]
    }
   ],
   "source": [
    "%serialconnect"
   ]
  },
  {
   "cell_type": "code",
   "execution_count": null,
   "metadata": {
    "collapsed": true
   },
   "outputs": [],
   "source": [
    "%comment Commissioning the async using pip\n",
    "\n",
    "%sendtofile --quiet --source ../wificodes.txt\n",
    "%sendtofile --quiet --source ../basicsockets/connectwifi.py\n",
    "\n",
    "from connectwifi import ipnumber\n",
    "import upip\n",
    "upip.install('micropython-uasyncio')\n",
    "\n",
    "%sendtofile --source /home/julian/executables/micropythonbins/uasyncio/__init__.py uasyncio/__init__.py\n",
    "%sendtofile --source /home/julian/executables/micropythonbins/uasyncio/core.py uasyncio/core.py\n",
    "\n"
   ]
  },
  {
   "cell_type": "code",
   "execution_count": null,
   "metadata": {
    "collapsed": true
   },
   "outputs": [],
   "source": [
    "# easier option if you don't have wifi:\n",
    "\n",
    "# The three files are backed up in uasyncio\n",
    "#    https://github.com/micropython/micropython-lib/blob/master/uasyncio/uasyncio/__init__.py\n",
    "#    https://github.com/micropython/micropython-lib/blob/master/uasyncio.core/uasyncio/core.py\n",
    "#    https://github.com/micropython/micropython-lib/blob/master/uasyncio.synchro/uasyncio/synchro.py"
   ]
  },
  {
   "cell_type": "code",
   "execution_count": 13,
   "metadata": {},
   "outputs": [
    {
     "name": "stdout",
     "output_type": "stream",
     "text": [
      "Sent 250 lines (7999 bytes) to lib/uasyncio/__init__.py.\n",
      "Sent 235 lines (6960 bytes) to lib/uasyncio/core.py.\n",
      "Sent 28 lines (846 bytes) to lib/uasyncio/synchro.py.\n"
     ]
    }
   ],
   "source": [
    "%sendtofile --mkdir --quiet --source uasyncio/__init__.py lib/uasyncio/\n",
    "%sendtofile --quiet --source uasyncio/core.py         lib/uasyncio/\n",
    "%sendtofile --quiet --source uasyncio/synchro.py      lib/uasyncio/\n"
   ]
  },
  {
   "cell_type": "code",
   "execution_count": 16,
   "metadata": {},
   "outputs": [
    {
     "name": "stdout",
     "output_type": "stream",
     "text": [
      "['__init__.py', 'core.py', 'synchro.py']\r\n"
     ]
    }
   ],
   "source": [
    "import os\n",
    "print(os.listdir(\"lib/uasyncio\"))"
   ]
  },
  {
   "cell_type": "code",
   "execution_count": 17,
   "metadata": {},
   "outputs": [
    {
     "name": "stdout",
     "output_type": "stream",
     "text": [
      "0\n",
      "1\n",
      "2\n",
      "3\n",
      "4\n"
     ]
    }
   ],
   "source": [
    "# brief test it's there\n",
    "import uasyncio\n",
    "\n",
    "async def thing():\n",
    "    for i in range(5):\n",
    "        print(i)\n",
    "        await uasyncio.sleep_ms(500)\n",
    "\n",
    "#ipnumber = \"192.168.4.1\"\n",
    "loop = uasyncio.get_event_loop()\n",
    "loop.run_until_complete(thing())\n"
   ]
  },
  {
   "cell_type": "code",
   "execution_count": 18,
   "metadata": {},
   "outputs": [
    {
     "name": "stdout",
     "output_type": "stream",
     "text": [
      "\n",
      "Closing serial Serial<id=0x7fd0d1254470, open=True>(port='/dev/ttyUSB1', baudrate=115200, bytesize=8, parity='N', stopbits=1, timeout=0.5, xonxoff=False, rtscts=False, dsrdtr=False)\n"
     ]
    }
   ],
   "source": [
    "%disconnect"
   ]
  },
  {
   "cell_type": "code",
   "execution_count": null,
   "metadata": {
    "collapsed": true
   },
   "outputs": [],
   "source": []
  }
 ],
 "metadata": {
  "kernelspec": {
   "display_name": "MicroPython - USB",
   "language": "micropython",
   "name": "micropython"
  },
  "language_info": {
   "codemirror_mode": "python",
   "file_extension": ".py",
   "mimetype": "text/python",
   "name": "micropython"
  }
 },
 "nbformat": 4,
 "nbformat_minor": 2
}

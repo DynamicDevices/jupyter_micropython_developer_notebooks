{
 "cells": [
  {
   "cell_type": "code",
   "execution_count": 29,
   "metadata": {},
   "outputs": [
    {
     "name": "stdout",
     "output_type": "stream",
     "text": [
      "\u001b[34mConnecting to Serial /dev/ttyUSB0 baud=115200 \u001b[0m\n",
      "ets Jun  8 2016 00:22:57\n",
      "\n",
      "rst:0x1 (POWERON_RESET),boot:0x17 (SPI_FAST_FLASH_BOOT)\n",
      "configsip: 0, SPIWP:0xee\n",
      "clk_drv:0x00,q_drv:0x00,d_drv:0x00,cs0_drv:0x00,hd_drv:0x00,wp_drv:0x00\n",
      "mode:DIO, clock div:2\n",
      "load:0x3fff0018,len:4\n",
      "load:0x3fff001c,len:4332\n",
      "load:0x40078000,len:0\n",
      "load:0x40078000,len:10992\n",
      "entry 0x4007a6c4\n",
      "\u001b[0;33mW (64) rtc_clk: Potentially bogus XTAL frequency: 35 MHz, guessing 40 MHz\u001b[0m\n",
      "OSError: [Errno 2] ENOENT\n",
      "MicroPython v1.9.2-443-g236297f4 on 2017-11-14; ESP32 module with ESP32\n",
      "Type \"help()\" for more information.\n",
      ">>>[reboot detected 0]repl is in normal command mode\n",
      "[\\r\\x03\\x03] b'\\r\\n>>> '\n",
      "[\\r\\x01] b'\\r\\n>>> \\r\\nraw REPL; CTRL-B to exit\\r\\n>' \u001b[34mReady.\n",
      "\u001b[0m"
     ]
    }
   ],
   "source": [
    "%serialconnect"
   ]
  },
  {
   "cell_type": "code",
   "execution_count": 23,
   "metadata": {},
   "outputs": [
    {
     "name": "stdout",
     "output_type": "stream",
     "text": [
      "Sent 34 lines (705 bytes) to syslog.py.\n",
      "Sent 48 lines (1507 bytes) to asyncdevices.py.\n",
      "Sent 4 lines (87 bytes) to wificodes.txt.\n",
      "Sent 34 lines (1042 bytes) to connectwifi.py.\n",
      "Sent 9 lines (327 bytes) to connecthotspot.py.\n",
      "Sent 190 lines (6050 bytes) to webserve_funcs.py.\n",
      "Sent 86 lines (3106 bytes) to websocket_funcs.py.\n",
      "Sent 47 lines (1243 bytes) to websockettest.html.\n"
     ]
    }
   ],
   "source": [
    "%sendtofile --quiet --source ../basicsockets/syslog.py\n",
    "%sendtofile --quiet --source ../essential_sensor_code/asyncdevices.py\n",
    "\n",
    "%sendtofile --quiet --source ../wificodes.txt\n",
    "%sendtofile --quiet --source ../basicsockets/connectwifi.py\n",
    "%sendtofile --quiet --source ../basicsockets/connecthotspot.py\n",
    "\n",
    "%sendtofile --quiet --source ../async_web_serve/webserve_funcs.py\n",
    "%sendtofile --quiet --source ../async_web_serve/websocket_funcs.py\n",
    "\n",
    "%sendtofile --quiet --source websockettest.html\n"
   ]
  },
  {
   "cell_type": "code",
   "execution_count": 30,
   "metadata": {},
   "outputs": [
    {
     "name": "stdout",
     "output_type": "stream",
     "text": [
      "LOG 6 ON 2329\n",
      "Scanning wifis: DoESLiverpool, DoESDinky, DoESBackup, BV6000\n",
      "\u001b[0;32mI (16311) network: event 1\u001b[0m\n",
      "LOG 9 Strongest wifi DoESBackup\n",
      "> auth (b0)\n",
      "> assoc (0)\n",
      "> run (10)\n",
      "\u001b[0;32mI (18461) network: event 4\u001b[0m\n",
      ".\n",
      ".\u001b[0;32mI (25041) network: GOT_IP\u001b[0m\n",
      "LOG 18 Device has ipnumber 192.168.0.72\n"
     ]
    }
   ],
   "source": [
    "#%%writefile plainws_main.py\n",
    "\n",
    "import time\n",
    "time.sleep(1.0)\n",
    "\n",
    "from syslog import log, elog, powid\n",
    "import os, ustruct, uasyncio\n",
    "uasyncio.set_debug(0)\n",
    "\n",
    "from connectwifi import ipnumber\n",
    "#from connecthotspot import ipnumber\n",
    "\n",
    "from webserve_funcs import servestaticfile\n",
    "from webserve_funcs import servefilelist\n",
    "from webserve_funcs import readhttpheaders\n",
    "from webserve_funcs import recpostsave\n",
    "from webserve_funcs import servemessage\n",
    "from webserve_funcs import convertsavepostfile\n",
    "\n",
    "from websocket_funcs import make_hybi07_header\n",
    "from websocket_funcs import servewebsocket\n"
   ]
  },
  {
   "cell_type": "code",
   "execution_count": 31,
   "metadata": {
    "collapsed": true
   },
   "outputs": [],
   "source": [
    "#%%writefile --append plainws_main.py\n",
    "\n",
    "async def wswebsockreply(rpath, writer, wscondition):\n",
    "    # wscondition = [WScount, 1=go/0=stop, ..(received records).. ]\n",
    "    incoming = \"\"\n",
    "    count = 0\n",
    "    try:\n",
    "        while wscondition[1]:\n",
    "            count += 1\n",
    "            if len(wscondition) > 2:\n",
    "                incoming = wscondition.pop(2)\n",
    "                log(\"[WS%d incoming] %s\"%(wscondition[0], incoming))\n",
    "                \n",
    "            if (count%50) == 0:\n",
    "                x = \"count%d\" % count\n",
    "                if incoming:\n",
    "                    x = \"%s;got %s...\" % (x,incoming[:5])\n",
    "                await writer.awrite(make_hybi07_header(len(x)))\n",
    "                await writer.awrite(x)\n",
    "            await uasyncio.sleep_ms(100)\n",
    "            \n",
    "    except OSError as e:\n",
    "        elog(\"[WS%d wpexception] %s\"%(wscondition[0], str(e)))\n",
    "        wscondition[1] = 0\n",
    "    log(\"[WS%d wpleave]\"%wscondition[0])\n"
   ]
  },
  {
   "cell_type": "code",
   "execution_count": 32,
   "metadata": {
    "collapsed": true
   },
   "outputs": [],
   "source": [
    "#%%writefile --append plainws_main.py\n",
    "\n",
    "async def handleconnection(reader, writer):\n",
    "    receivedrequest = await readhttpheaders(reader)\n",
    "    \n",
    "    if \"POST\" in receivedrequest:\n",
    "        await recpostsave(receivedrequest, reader, \"POSTUPLOAD.txt\")\n",
    "        await servemessage(writer, \"done\")\n",
    "        await writer.aclose()\n",
    "        convertsavepostfile(\"POSTUPLOAD.txt\")\n",
    "        return\n",
    "\n",
    "    rpath = receivedrequest.get(\"GET\")\n",
    "    log(receivedrequest)\n",
    "    \n",
    "    bcallaclose = True\n",
    "    if \"WebSocketKey\" in receivedrequest:\n",
    "        bcallaclose = await servewebsocket(rpath, reader, writer, receivedrequest[\"WebSocketKey\"], wswebsockreply)\n",
    "    elif rpath is None:\n",
    "        pass\n",
    "    elif rpath == \"\":\n",
    "        await servefilelist(writer)\n",
    "    else:\n",
    "        await servestaticfile(writer, rpath)\n",
    "        \n",
    "    if bcallaclose:\n",
    "        await writer.aclose()\n",
    "\n"
   ]
  },
  {
   "cell_type": "code",
   "execution_count": 33,
   "metadata": {},
   "outputs": [
    {
     "name": "stdout",
     "output_type": "stream",
     "text": [
      "* Running on http://192.168.0.72:80/\r\n"
     ]
    }
   ],
   "source": [
    "#%%writefile --append plainws_main.py\n",
    "\n",
    "# enables rewriting handleconnection function without restarting\n",
    "def handleconnection_indirect(reader, writer):\n",
    "    try:\n",
    "        return handleconnection(reader, writer)\n",
    "    except OSError as e:\n",
    "        print(\"handleconnection exception\", str(e))\n",
    "\n",
    "port = 80\n",
    "loop = uasyncio.get_event_loop()\n",
    "print(\"* Running on http://%s:%s/\" % (ipnumber, port))\n",
    "loop.create_task(uasyncio.start_server(handleconnection_indirect, ipnumber, port))\n"
   ]
  },
  {
   "cell_type": "code",
   "execution_count": 34,
   "metadata": {},
   "outputs": [
    {
     "name": "stdout",
     "output_type": "stream",
     "text": [
      ".LOG 24 {'GET': ''} \n",
      "LOG 27 {'GET': 'websockettest.html'} \n",
      "LOG 27 File 'websockettest.html' (1243 bytes) served in 18ms \n",
      "LOG 27 {'WebSocketKey': b'fBgnJbuui/ff7sWGlP34vQ==', 'GET': ''} \n",
      "Warning: Comparison between bytes and str\n",
      "LOG 27 [WS0] b'Hello'\n",
      "LOG 28 [WS0 incoming] b'Hello' \n",
      "....Warning: Comparison between bytes and str\n",
      "LOG 46 [WS0] b'Yoohoo'\n",
      "LOG 46 [WS0 incoming] b'Yoohoo' \n",
      ".........LOG 90 [WS0 close] \n",
      "LOG 90 [WS0 rlleave] \n",
      "LOG 90 [WS0 wpleave] \n",
      "......\n",
      "\n",
      "*** Sending Ctrl-C\n",
      "\n"
     ]
    },
    {
     "name": "stderr",
     "output_type": "stream",
     "text": [
      "Traceback (most recent call last):\n",
      "  File \"<stdin>\", line 3, in <module>\n",
      "  File \"/lib/uasyncio/core.py\", line 77, in run_forever\n",
      "  File \"/lib/uasyncio/__init__.py\", line 69, in wait\n",
      "KeyboardInterrupt: \n"
     ]
    }
   ],
   "source": [
    "#%%writefile --append plain_main.py\n",
    "\n",
    "loop.run_forever()\n"
   ]
  },
  {
   "cell_type": "code",
   "execution_count": null,
   "metadata": {
    "collapsed": true
   },
   "outputs": [],
   "source": []
  },
  {
   "cell_type": "code",
   "execution_count": null,
   "metadata": {
    "collapsed": true
   },
   "outputs": [],
   "source": []
  }
 ],
 "metadata": {
  "kernelspec": {
   "display_name": "MicroPython - USB",
   "language": "micropython",
   "name": "micropython"
  },
  "language_info": {
   "codemirror_mode": "python",
   "file_extension": ".py",
   "mimetype": "text/python",
   "name": "micropython"
  }
 },
 "nbformat": 4,
 "nbformat_minor": 2
}

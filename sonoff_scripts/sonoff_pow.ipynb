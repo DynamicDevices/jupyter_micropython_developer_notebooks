{
 "cells": [
  {
   "cell_type": "code",
   "execution_count": null,
   "metadata": {
    "collapsed": true
   },
   "outputs": [],
   "source": [
    "# This is the Sonoff Pow device running a GNL\n",
    "# Listen to it (to get its IP number) with:  \n",
    "# mosquitto_sub -h mqtt.local -v -t \"MicroPython-3b6f59/#\"\n",
    "# mqtt.local=192.168.0.159\n"
   ]
  },
  {
   "cell_type": "code",
   "execution_count": 1,
   "metadata": {},
   "outputs": [
    {
     "name": "stdout",
     "output_type": "stream",
     "text": [
      "\u001b[34mConnecting to Serial /dev/ttyUSB3 baud=115200 \u001b[0m\n",
      "\u001b[34mReady.\n",
      "\u001b[0m"
     ]
    }
   ],
   "source": [
    "%serialconnect"
   ]
  },
  {
   "cell_type": "code",
   "execution_count": 1,
   "metadata": {},
   "outputs": [
    {
     "name": "stdout",
     "output_type": "stream",
     "text": [
      "\u001b[34m** WebSocket connected **\n",
      "\u001b[0mPassword: \n",
      "WebREPL connected\n",
      ">>> \u001b[34mReady.\n",
      "\u001b[0m"
     ]
    }
   ],
   "source": [
    "# connect when going to the ESP8266 hotspot\n",
    "%websocketconnect --password wpass"
   ]
  },
  {
   "cell_type": "code",
   "execution_count": 9,
   "metadata": {
    "scrolled": true
   },
   "outputs": [
    {
     "name": "stdout",
     "output_type": "stream",
     "text": [
      "\u001b[34m** WebSocket connected **\n",
      "\u001b[0mPassword: \u001b[34mReady.\n",
      "\u001b[0m"
     ]
    }
   ],
   "source": [
    "# connect when going to its ip number via the router (you need this to get to mqtt.local!)\n",
    "%websocketconnect --password wpass ws://192.168.0.157:8266"
   ]
  },
  {
   "cell_type": "code",
   "execution_count": 21,
   "metadata": {},
   "outputs": [
    {
     "name": "stdout",
     "output_type": "stream",
     "text": [
      "Sent 54 lines (1713 bytes) to main.py.\n"
     ]
    }
   ],
   "source": [
    "####################\n",
    "# basic gnl code\n",
    "####################\n",
    "%sendtofile main.py\n",
    "\n",
    "ssid, ssidpassword = b'DoESLiverpool', b'decafbad00'\n",
    "mqttbroker = \"test.mosquitto.org\" # \"192.168.0.159\"   # mqtt.local\n",
    "controlledrelay = b\"ESPURNA_A7A528/relay/0/set\"\n",
    "clientid = \"goodnightlamp\" # 'MicroPython-3b6f59' # %s'%ubinascii.hexlify(network.WLAN().config('mac')[-3:]).decode()\n",
    "\n",
    "from machine import Pin\n",
    "import time, array, network\n",
    "from umqtt.robust import MQTTClient\n",
    "\n",
    "prelay = Pin(12, Pin.OUT)\n",
    "pled = Pin(15, Pin.OUT)\n",
    "phlwCF = Pin(14, Pin.IN)      # the power value\n",
    "prelay.value(1)\n",
    "power_multiplier = 10343.6\n",
    "\n",
    "# find the power times\n",
    "ptimes = array.array(\"I\", range(0,12)) # [i, tprev, dt, dt, ..., dt]\n",
    "ptimes[1] = time.ticks_ms()\n",
    "ptimes[0] = 1  # avoid zero elements for recpower\n",
    "def pinirq(p):\n",
    "    t1 = time.ticks_ms()\n",
    "    ptimes[0] += 1\n",
    "    ptimes[(ptimes[0]%(len(ptimes)-2))+2] = t1 - ptimes[1]\n",
    "    ptimes[1] = t1\n",
    "phlwCF.irq(trigger=Pin.IRQ_RISING | Pin.IRQ_FALLING, handler=pinirq)\n",
    "\n",
    "def recpower():\n",
    "    ctime = time.ticks_ms() - ptimes[1]\n",
    "    maxtime = max(ptimes[(i%(len(ptimes)-2))+2]  for i in range(ptimes[0], max(0,ptimes[0]-6),-1))\n",
    "    return power_multiplier/(max(ctime, maxtime)*2)\n",
    "\n",
    "staif = network.WLAN(network.STA_IF)\n",
    "staif.active(True)\n",
    "staif.connect(ssid, ssidpassword)\n",
    "while not staif.isconnected():\n",
    "    pled.value(1-pled.value())\n",
    "    time.sleep(0.2)\n",
    "\n",
    "c = MQTTClient(clientid, mqttbroker)\n",
    "\n",
    "while True:\n",
    "    time.sleep(3)\n",
    "    pw = recpower()\n",
    "    pled.value(0 if pw<5 else 1)\n",
    "    print(\"pow\", pw)\n",
    "    try:\n",
    "        c.connect()\n",
    "    except OSError as e:\n",
    "        print(e)\n",
    "        continue\n",
    "    c.publish((clientid+\"/ip\").encode(), staif.ifconfig()[0].encode())\n",
    "    c.publish((clientid+\"/pow\").encode(), str(pw).encode())\n",
    "    c.publish(controlledrelay, (b\"0\" if pw<5 else b\"1\"))\n",
    "    c.disconnect()\n"
   ]
  },
  {
   "cell_type": "code",
   "execution_count": null,
   "metadata": {
    "collapsed": true
   },
   "outputs": [],
   "source": []
  },
  {
   "cell_type": "code",
   "execution_count": null,
   "metadata": {},
   "outputs": [
    {
     "name": "stdout",
     "output_type": "stream",
     "text": [
      ".........."
     ]
    }
   ],
   "source": [
    "import os\n",
    "print(os.listdir())"
   ]
  },
  {
   "cell_type": "code",
   "execution_count": 16,
   "metadata": {},
   "outputs": [
    {
     "name": "stdout",
     "output_type": "stream",
     "text": [
      "\u001b[34m** WebSocket connected **\n",
      "\u001b[0mPassword: \n",
      "WebREPL connected\n",
      ">>> \u001b[34mReady.\n",
      "\u001b[0m"
     ]
    }
   ],
   "source": [
    "# connect when going to its ip number via the router (you need this to get to mqtt.local!)\n",
    "%websocketconnect --password wpass ws://192.168.0.157:8266"
   ]
  },
  {
   "cell_type": "code",
   "execution_count": 4,
   "metadata": {},
   "outputs": [
    {
     "name": "stdout",
     "output_type": "stream",
     "text": [
      "\u001b[34mattempt to exit paste mode\n",
      "\u001b[0m\u001b[34m[\\r\\x03\\x02] \u001b[0m\n",
      "MicroPython v1.9.3-8-g63826ac5c on 2017-11-01; ESP module with ESP8266\n",
      "Type \"help()\" for more information.\n",
      ">>> \u001b[34m\n",
      "Closing websocket <websocket._core.WebSocket object at 0x7f0788284780>\n",
      "\u001b[0m"
     ]
    }
   ],
   "source": [
    "%disconnect"
   ]
  },
  {
   "cell_type": "code",
   "execution_count": 5,
   "metadata": {},
   "outputs": [
    {
     "name": "stdout",
     "output_type": "stream",
     "text": [
      "\u001b[34mConnecting to Serial /dev/ttyUSB0 baud=115200 \u001b[0m\n",
      "\u001b[34mReady.\n",
      "\u001b[0m"
     ]
    }
   ],
   "source": [
    "%serialconnect"
   ]
  },
  {
   "cell_type": "code",
   "execution_count": 6,
   "metadata": {},
   "outputs": [
    {
     "name": "stdout",
     "output_type": "stream",
     "text": [
      "Sent 57 lines (1518 bytes) to main.py.\n"
     ]
    }
   ],
   "source": [
    "####################\n",
    "# basic test interrupt times code\n",
    "# listen using mosquitto_sub -h 192.168.0.159 -v -t \"sonoffpow3/#\"\n",
    "####################\n",
    "\n",
    "%sendtofile main.py\n",
    "\n",
    "ssid, ssidpassword = b'DoESLiverpool', b'decafbad00'\n",
    "mqttbroker = \"192.168.0.159\"   # mqtt.local\n",
    "clientid = \"sonoffpow3\"\n",
    "\n",
    "from machine import Pin\n",
    "import time, array, network\n",
    "from umqtt.robust import MQTTClient\n",
    "\n",
    "prelay = Pin(12, Pin.OUT)\n",
    "pled = Pin(15, Pin.OUT)\n",
    "phlwCF = Pin(14, Pin.IN) # the power value\n",
    "prelay.value(1)\n",
    "\n",
    "staif = network.WLAN(network.STA_IF)\n",
    "staif.active(True)\n",
    "staif.connect(ssid, ssidpassword)\n",
    "while not staif.isconnected():\n",
    "    pled.value(1-pled.value())\n",
    "    time.sleep(0.2)\n",
    "\n",
    "c = MQTTClient(clientid, mqttbroker)\n",
    "\n",
    "# find the power times\n",
    "ptimes = array.array(\"I\", range(0,12)) \n",
    " # [i, tprev, dt, dt, ..., dt]\n",
    "ptimes[1] = time.ticks_ms()\n",
    "ptimes[0] = 1  # avoid zero elements for recpower\n",
    "def pinirq(p):\n",
    "    t1 = time.ticks_ms()\n",
    "    i = ptimes[0]+1\n",
    "    ptimes[(i%(len(ptimes)-2))+2] = t1 - ptimes[1]\n",
    "    ptimes[1] = t1\n",
    "    ptimes[0] = i\n",
    "phlwCF.irq(trigger=Pin.IRQ_RISING | Pin.IRQ_FALLING, \\\n",
    "           handler=pinirq)\n",
    "\n",
    "def mainloop():\n",
    "    i0 = ptimes[0]\n",
    "    tprev0 = ptimes[1]\n",
    "    while True:\n",
    "        time.sleep_ms(10)\n",
    "        try:\n",
    "            c.connect()\n",
    "        except OSError as e:\n",
    "            continue\n",
    "        pled.value(i0%2)\n",
    "        if i0 < ptimes[0]:\n",
    "            c.publish(b\"sonoffpow2/tick\", b\"%d %d\"%\\\n",
    "                      (i0, ptimes[(i0%(len(ptimes)-2))+2]))\n",
    "            i0 += 1\n",
    "        if ptimes[1] - tprev0 > 5000:\n",
    "            c.publish(b\"sonoffpow2/ip\", \\\n",
    "                staif.ifconfig()[0].encode())\n",
    "            print(i0, tprev0)\n",
    "            tprev0 = ptimes[1]\n",
    "            \n",
    "mainloop()\n"
   ]
  },
  {
   "cell_type": "code",
   "execution_count": 3,
   "metadata": {},
   "outputs": [
    {
     "name": "stdout",
     "output_type": "stream",
     "text": [
      "normal repl mode not detected b'\\r\\nMicroPython v1.9.3-8-g63826ac5c on 2017-11-01; ESP module with ESP8266\\r\\nType \"help()\" for more information.\\r\\n>>> \\r\\n>>> \\r\\nPYB: sof#5 ets_task(40100130, 3, 3fff837c, 4)\\r\\nWebREPL is not configured, run \\'import webrepl_setup\\'\\r\\n#6 ets_task(4020ed88, 28, 3fff97e8, 10)\\r\\n'\n",
      "not command mode\n",
      "\u001b[31m[Timed out waiting for recognizable response]\n",
      "\u001b[0m"
     ]
    }
   ],
   "source": [
    "%rebootdevice"
   ]
  },
  {
   "cell_type": "code",
   "execution_count": 7,
   "metadata": {},
   "outputs": [
    {
     "name": "stdout",
     "output_type": "stream",
     "text": [
      "\u001b[34mattempt to exit paste mode\n",
      "\u001b[0m\u001b[34m[\\r\\x03\\x02] \u001b[0mb'\\r\\nMicroPython v1.9.3-8-g63826ac5c on 2017-11-01; ESP module with ESP8266\\r\\nType \"help()\" for more information.\\r\\n>>> '\u001b[34m\n",
      "Closing serial Serial<id=0x7f16a11eb1d0, open=True>(port='/dev/ttyUSB0', baudrate=115200, bytesize=8, parity='N', stopbits=1, timeout=0.5, xonxoff=False, rtscts=False, dsrdtr=False)\n",
      "\u001b[0m"
     ]
    }
   ],
   "source": [
    "%disconnect"
   ]
  },
  {
   "cell_type": "code",
   "execution_count": null,
   "metadata": {
    "collapsed": true
   },
   "outputs": [],
   "source": []
  },
  {
   "cell_type": "code",
   "execution_count": null,
   "metadata": {
    "collapsed": true
   },
   "outputs": [],
   "source": []
  },
  {
   "cell_type": "code",
   "execution_count": null,
   "metadata": {
    "collapsed": true
   },
   "outputs": [],
   "source": []
  },
  {
   "cell_type": "code",
   "execution_count": 18,
   "metadata": {},
   "outputs": [
    {
     "name": "stdout",
     "output_type": "stream",
     "text": [
      "normal repl mode not detected \n",
      "not command mode\n",
      "\u001b[31m[Timed out waiting for recognizable response]\n",
      "\u001b[0m"
     ]
    }
   ],
   "source": [
    "%rebootdevice"
   ]
  },
  {
   "cell_type": "code",
   "execution_count": null,
   "metadata": {
    "collapsed": true
   },
   "outputs": [],
   "source": [
    "# the remaining code is scratchspace for working out the main.py file above"
   ]
  },
  {
   "cell_type": "code",
   "execution_count": 23,
   "metadata": {},
   "outputs": [
    {
     "name": "stdout",
     "output_type": "stream",
     "text": [
      "(4096, 4096, 860, 0, 0, 0, 0, 0, 0, 255)\n",
      "['boot.py', 'webrepl_cfg.py', 'test.py']\n",
      "File: boot.py stats: (32768, 0, 0, 0, 0, 0, 160, 54, 54, 54)\n",
      "File: webrepl_cfg.py stats: (32768, 0, 0, 0, 0, 0, 15, 54, 54, 54)\n",
      "File: test.py stats: (32768, 0, 0, 0, 0, 0, 0, 1940, 1940, 1940)\n"
     ]
    }
   ],
   "source": [
    "import os\n",
    "print(os.statvfs(\"\"))\n",
    "print(os.listdir(\"\"))\n",
    "for f in os.listdir(\"\"):\n",
    "     print(\"File: {} stats: {}\".format(f, os.stat(f)))\n"
   ]
  },
  {
   "cell_type": "code",
   "execution_count": 3,
   "metadata": {
    "collapsed": true
   },
   "outputs": [],
   "source": [
    "from machine import Pin\n",
    "\n",
    "prelay = Pin(12, Pin.OUT)\n",
    "pled = Pin(15, Pin.OUT)\n",
    "pbutton = Pin(0, Pin.IN)\n",
    "\n",
    "phlwselCF1 = Pin(5, Pin.OUT)  # 0 current, 1 voltage\n",
    "phlwCF1 = Pin(13, Pin.IN)\n",
    "phlwCF = Pin(14, Pin.IN)      # the power value\n"
   ]
  },
  {
   "cell_type": "code",
   "execution_count": 5,
   "metadata": {
    "collapsed": true
   },
   "outputs": [],
   "source": [
    "pled.value(0)"
   ]
  },
  {
   "cell_type": "code",
   "execution_count": 6,
   "metadata": {
    "collapsed": true
   },
   "outputs": [],
   "source": [
    "prelay.value(1)"
   ]
  },
  {
   "cell_type": "code",
   "execution_count": 24,
   "metadata": {
    "collapsed": true
   },
   "outputs": [],
   "source": [
    "phlwselCF1.value(0)"
   ]
  },
  {
   "cell_type": "code",
   "execution_count": 68,
   "metadata": {
    "collapsed": true
   },
   "outputs": [],
   "source": [
    "import time, array\n",
    "ptimes = array.array(\"I\", range(0,12)) # [i, tprev, dt, dt, ..., dt]\n",
    "ptimes[1] = time.ticks_ms()\n",
    "ptimes[0] = 1  # avoid zero elements for recpower\n",
    "def pinirq(p):\n",
    "    t1 = time.ticks_ms()\n",
    "    ptimes[0] += 1\n",
    "    ptimes[(ptimes[0]%(len(ptimes)-2))+2] = t1 - ptimes[1]\n",
    "    ptimes[1] = t1\n",
    "\n",
    "phlwCF.irq(trigger=Pin.IRQ_RISING | Pin.IRQ_FALLING, handler=pinirq)\n"
   ]
  },
  {
   "cell_type": "code",
   "execution_count": 18,
   "metadata": {
    "collapsed": true
   },
   "outputs": [],
   "source": [
    "import ubinascii; O6 = ubinascii.a2b_base64"
   ]
  },
  {
   "cell_type": "code",
   "execution_count": 74,
   "metadata": {
    "collapsed": true
   },
   "outputs": [],
   "source": [
    "prelay.value(1)"
   ]
  },
  {
   "cell_type": "code",
   "execution_count": 7,
   "metadata": {},
   "outputs": [
    {
     "name": "stdout",
     "output_type": "stream",
     "text": [
      "...\n",
      "\n",
      "*** Sending Ctrl-C\n",
      "\n",
      "\u001b[31m[Timed out waiting for recognizable response]\n",
      "\u001b[0m"
     ]
    }
   ],
   "source": [
    "\n",
    "# calculate the vital statistics\n",
    "V_REF = 2.43\n",
    "F_OSC = 3579000\n",
    "HLW8012_CURRENT_R = 0.001 # 1milliOhm copper-manganese resistor in series with the main line\n",
    "HLW8012_VOLTAGE_R_DOWN = 1000 # 1kOhm resistor in the voltage divider that feeds the V2P\n",
    "HLW8012_VOLTAGE_R_UP = 5 * 470000 # 5 470kOhm resistors in the voltage divider that feeds the V2P pin\n",
    "current_resistor = HLW8012_CURRENT_R\n",
    "voltage_resistor = (HLW8012_VOLTAGE_R_UP + HLW8012_VOLTAGE_R_DOWN) / HLW8012_VOLTAGE_R_DOWN\n",
    "current_multiplier = (1000.0 * 512 * V_REF / current_resistor / 24.0 / F_OSC)\n",
    "voltage_multiplier = (1000.0 * 512 * V_REF * voltage_resistor / 2.0 / F_OSC)\n",
    "power_multiplier = (1000.0 * 128 * V_REF * V_REF * voltage_resistor / current_resistor / 48.0 / F_OSC)\n",
    "print(power_multiplier)\n",
    "    "
   ]
  },
  {
   "cell_type": "code",
   "execution_count": 112,
   "metadata": {
    "collapsed": true
   },
   "outputs": [],
   "source": [
    "def ytimes():\n",
    "    i = ptimes[0]\n",
    "    while True:\n",
    "        while i < ptimes[0]:\n",
    "            i += 1\n",
    "            yield ptimes[(i%(len(ptimes)-2))+2]\n",
    "        time.sleep_ms(10)\n",
    "\n",
    "# I think the rolling max value is the best as avoids the noise on lowe power \n",
    "# and goes out of scope on high power (lots of low values)\n",
    "def recpower():\n",
    "    ctime = time.ticks_ms() - ptimes[1]\n",
    "    maxtime = max(ptimes[(i%(len(ptimes)-2))+2]  for i in range(ptimes[0], max(0,ptimes[0]-6),-1))\n",
    "    return max(ctime, maxtime)\n",
    "    "
   ]
  },
  {
   "cell_type": "code",
   "execution_count": 21,
   "metadata": {},
   "outputs": [
    {
     "name": "stderr",
     "output_type": "stream",
     "text": [
      "Traceback (most recent call last):\n",
      "  File \"<stdin>\", line 3, in <module>\n",
      "OSError: 28\n"
     ]
    }
   ],
   "source": [
    "import os\n",
    "f = open(\"test.py\", \"w\")\n",
    "f.write(\"hi there\")"
   ]
  },
  {
   "cell_type": "code",
   "execution_count": 25,
   "metadata": {},
   "outputs": [
    {
     "name": "stdout",
     "output_type": "stream",
     "text": [
      "Sent 1 lines (38 bytes) to test.py.\n"
     ]
    },
    {
     "name": "stderr",
     "output_type": "stream",
     "text": [
      "Traceback (most recent call last):\n",
      "  File \"<stdin>\", line 1, in <module>\n",
      "OSError: 28\n"
     ]
    }
   ],
   "source": [
    "%sendtofile test.py\n",
    "print(power_multiplier/(recpower()*2))"
   ]
  },
  {
   "cell_type": "code",
   "execution_count": 20,
   "metadata": {
    "scrolled": true
   },
   "outputs": [
    {
     "name": "stdout",
     "output_type": "stream",
     "text": [
      "__main__          http_client_ssl   sys               urandom\n",
      "_boot             http_server       time              ure\n",
      "_onewire          http_server_ssl   uasyncio/__init__ urequests\n",
      "_webrepl          inisetup          uasyncio/core     urllib/urequest\n",
      "apa102            json              ubinascii         uselect\n",
      "array             lwip              ucollections      usocket\n",
      "btree             machine           uctypes           ussl\n",
      "builtins          math              uerrno            ustruct\n",
      "dht               micropython       uhashlib          utime\n",
      "ds18x20           neopixel          uheapq            utimeq\n",
      "errno             network           uio               uzlib\n",
      "esp               ntptime           ujson             webrepl\n",
      "example_pub_button                  onewire           umqtt/robust      webrepl_setup\n",
      "example_sub_led   os                umqtt/simple      websocket\n",
      "flashbdev         port_diag         uos               websocket_helper\n",
      "framebuf          select            upip\n",
      "gc                socket            upip_utarfile\n",
      "http_client       ssd1306           upysh\n",
      "Plus any modules on the filesystem\n"
     ]
    }
   ],
   "source": [
    "help(\"modules\")"
   ]
  },
  {
   "cell_type": "code",
   "execution_count": 146,
   "metadata": {},
   "outputs": [
    {
     "name": "stdout",
     "output_type": "stream",
     "text": [
      "b'Yo;\\x00'\r\n"
     ]
    }
   ],
   "source": [
    "import machine\n",
    "print(machine.unique_id())"
   ]
  },
  {
   "cell_type": "code",
   "execution_count": null,
   "metadata": {
    "collapsed": true
   },
   "outputs": [],
   "source": []
  },
  {
   "cell_type": "code",
   "execution_count": 25,
   "metadata": {},
   "outputs": [
    {
     "name": "stdout",
     "output_type": "stream",
     "text": [
      "\u001b[34m** WebSocket connected **\n",
      "\u001b[0mPassword: \n",
      "WebREPL connected\n",
      ">>> \u001b[34mReady.\n",
      "\u001b[0m"
     ]
    }
   ],
   "source": [
    "%websocketconnect --password wpass ws://192.168.4.1:8266"
   ]
  },
  {
   "cell_type": "code",
   "execution_count": 26,
   "metadata": {},
   "outputs": [
    {
     "name": "stdout",
     "output_type": "stream",
     "text": [
      "['boot.py', 'webrepl_cfg.py']\r\n"
     ]
    }
   ],
   "source": [
    "import os\n",
    "print(os.listdir())\n"
   ]
  },
  {
   "cell_type": "code",
   "execution_count": 27,
   "metadata": {
    "collapsed": true
   },
   "outputs": [],
   "source": [
    "from machine import Pin\n",
    "\n",
    "prelay = Pin(12, Pin.OUT)\n",
    "pled = Pin(15, Pin.OUT)\n",
    "pbutton = Pin(0, Pin.IN)\n"
   ]
  },
  {
   "cell_type": "code",
   "execution_count": 29,
   "metadata": {
    "collapsed": true
   },
   "outputs": [],
   "source": [
    "prelay.value(0)"
   ]
  },
  {
   "cell_type": "code",
   "execution_count": 18,
   "metadata": {},
   "outputs": [
    {
     "name": "stdout",
     "output_type": "stream",
     "text": [
      "\u001b[34mattempt to exit paste mode\n",
      "\u001b[0m\u001b[34m[\\r\\x03\\x02] \u001b[0m\n",
      "MicroPython v1.9.3-8-g63826ac5c on 2017-11-01; ESP module with ESP8266\n",
      "Type \"help()\" for more information.\n",
      ">>> \u001b[34m\n",
      "Closing websocket <websocket._core.WebSocket object at 0x7f6440591ef0>\n",
      "\u001b[0m"
     ]
    }
   ],
   "source": [
    "%disconnect"
   ]
  },
  {
   "cell_type": "code",
   "execution_count": null,
   "metadata": {
    "collapsed": true
   },
   "outputs": [],
   "source": [
    "c.publish(b\"ESPURNA_A7A528/relay/0/set\", b\"1\")\n"
   ]
  }
 ],
 "metadata": {
  "kernelspec": {
   "display_name": "MicroPython - USB",
   "language": "micropython",
   "name": "micropython"
  },
  "language_info": {
   "codemirror_mode": "python",
   "file_extension": ".py",
   "mimetype": "text/python",
   "name": "micropython"
  }
 },
 "nbformat": 4,
 "nbformat_minor": 2
}

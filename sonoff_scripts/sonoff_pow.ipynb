{
 "cells": [
  {
   "cell_type": "code",
   "execution_count": 16,
   "metadata": {
    "scrolled": true
   },
   "outputs": [
    {
     "name": "stdout",
     "output_type": "stream",
     "text": [
      "\u001b[34m** WebSocket connected **\n",
      "\u001b[0mPassword: \n",
      "WebREPL connected\n",
      ">>> \u001b[34mReady.\n",
      "\u001b[0m"
     ]
    }
   ],
   "source": [
    "%websocketconnect --password wpass"
   ]
  },
  {
   "cell_type": "code",
   "execution_count": 10,
   "metadata": {},
   "outputs": [],
   "source": [
    "from machine import Pin\n",
    "\n",
    "prelay = Pin(12, Pin.OUT)\n",
    "pled = Pin(15, Pin.OUT)\n",
    "pbutton = Pin(0, Pin.IN)\n",
    "\n",
    "phlwselCF1 = Pin(5, Pin.OUT)  # 0 current, 1 voltage\n",
    "phlwCF1 = Pin(13, Pin.IN)\n",
    "phlwCF = Pin(14, Pin.IN)      # the power value\n"
   ]
  },
  {
   "cell_type": "code",
   "execution_count": 10,
   "metadata": {
    "collapsed": true
   },
   "outputs": [],
   "source": [
    "pled.value(0)"
   ]
  },
  {
   "cell_type": "code",
   "execution_count": 140,
   "metadata": {
    "collapsed": true
   },
   "outputs": [],
   "source": [
    "prelay.value(1)"
   ]
  },
  {
   "cell_type": "code",
   "execution_count": 24,
   "metadata": {},
   "outputs": [],
   "source": [
    "phlwselCF1.value(0)"
   ]
  },
  {
   "cell_type": "code",
   "execution_count": 68,
   "metadata": {},
   "outputs": [],
   "source": [
    "import time, array\n",
    "ptimes = array.array(\"I\", range(0,12)) # [i, tprev, dt, dt, ..., dt]\n",
    "ptimes[1] = time.ticks_ms()\n",
    "ptimes[0] = 1  # avoid zero elements for recpower\n",
    "def pinirq(p):\n",
    "    t1 = time.ticks_ms()\n",
    "    ptimes[0] += 1\n",
    "    ptimes[(ptimes[0]%(len(ptimes)-2))+2] = t1 - ptimes[1]\n",
    "    ptimes[1] = t1\n",
    "\n",
    "phlwCF.irq(trigger=Pin.IRQ_RISING | Pin.IRQ_FALLING, handler=pinirq)\n"
   ]
  },
  {
   "cell_type": "code",
   "execution_count": 18,
   "metadata": {},
   "outputs": [],
   "source": [
    "import ubinascii; O6 = ubinascii.a2b_base64"
   ]
  },
  {
   "cell_type": "code",
   "execution_count": 2,
   "metadata": {},
   "outputs": [
    {
     "name": "stdout",
     "output_type": "stream",
     "text": [
      "Sent 215 bytes in 8 chunks to test.py.\n"
     ]
    }
   ],
   "source": [
    "%sendtofile --binary test.py\n",
    "print(ptimes)\n",
    "print(ptimes)\n",
    "print(ptimes)\n",
    "print(ptimes)\n",
    "print(ptimes)print(ptimes)\n",
    "print(ptimes)print(ptimes)\n",
    "int(ptimes)print(ptimes)\n",
    "print(ptimes)print(ptimes)\n",
    "print(ptimes)print(ptimes)\n",
    "print(ptimes)print(ptimes)"
   ]
  },
  {
   "cell_type": "code",
   "execution_count": 74,
   "metadata": {
    "collapsed": true
   },
   "outputs": [],
   "source": [
    "prelay.value(1)"
   ]
  },
  {
   "cell_type": "code",
   "execution_count": 7,
   "metadata": {},
   "outputs": [
    {
     "name": "stdout",
     "output_type": "stream",
     "text": [
      "...\n",
      "\n",
      "*** Sending Ctrl-C\n",
      "\n",
      "\u001b[31m[Timed out waiting for recognizable response]\n",
      "\u001b[0m"
     ]
    }
   ],
   "source": [
    "%sendtofile test.py\n",
    "\n",
    "# calculate the vital statistics\n",
    "V_REF = 2.43\n",
    "F_OSC = 3579000\n",
    "HLW8012_CURRENT_R = 0.001 # 1milliOhm copper-manganese resistor in series with the main line\n",
    "HLW8012_VOLTAGE_R_DOWN = 1000 # 1kOhm resistor in the voltage divider that feeds the V2P\n",
    "HLW8012_VOLTAGE_R_UP = 5 * 470000 # 5 470kOhm resistors in the voltage divider that feeds the V2P pin\n",
    "current_resistor = HLW8012_CURRENT_R\n",
    "voltage_resistor = (HLW8012_VOLTAGE_R_UP + HLW8012_VOLTAGE_R_DOWN) / HLW8012_VOLTAGE_R_DOWN\n",
    "current_multiplier = (1000.0 * 512 * V_REF / current_resistor / 24.0 / F_OSC)\n",
    "voltage_multiplier = (1000.0 * 512 * V_REF * voltage_resistor / 2.0 / F_OSC)\n",
    "power_multiplier = (1000.0 * 128 * V_REF * V_REF * voltage_resistor / current_resistor / 48.0 / F_OSC)\n",
    "print(power_multiplier)\n",
    "    "
   ]
  },
  {
   "cell_type": "code",
   "execution_count": 112,
   "metadata": {
    "collapsed": true
   },
   "outputs": [],
   "source": [
    "def ytimes():\n",
    "    i = ptimes[0]\n",
    "    while True:\n",
    "        while i < ptimes[0]:\n",
    "            i += 1\n",
    "            yield ptimes[(i%(len(ptimes)-2))+2]\n",
    "        time.sleep_ms(10)\n",
    "\n",
    "# I think the rolling max value is the best as avoids the noise on lowe power \n",
    "# and goes out of scope on high power (lots of low values)\n",
    "def recpower():\n",
    "    ctime = time.ticks_ms() - ptimes[1]\n",
    "    maxtime = max(ptimes[(i%(len(ptimes)-2))+2]  for i in range(ptimes[0], max(0,ptimes[0]-6),-1))\n",
    "    return max(ctime, maxtime)\n",
    "    "
   ]
  },
  {
   "cell_type": "code",
   "execution_count": 144,
   "metadata": {},
   "outputs": [
    {
     "name": "stdout",
     "output_type": "stream",
     "text": [
      "12.3432\r\n"
     ]
    }
   ],
   "source": [
    "print(power_multiplier/(recpower()*2))"
   ]
  },
  {
   "cell_type": "code",
   "execution_count": 143,
   "metadata": {
    "scrolled": true
   },
   "outputs": [
    {
     "name": "stdout",
     "output_type": "stream",
     "text": [
      "__main__          http_client_ssl   sys               urandom\n",
      "_boot             http_server       time              ure\n",
      "_onewire          http_server_ssl   uasyncio/__init__ urequests\n",
      "_webrepl          inisetup          uasyncio/core     urllib/urequest\n",
      "apa102            json              ubinascii         uselect\n",
      "array             lwip              ucollections      usocket\n",
      "btree             machine           uctypes           ussl\n",
      "builtins          math              uerrno            ustruct\n",
      "dht               micropython       uhashlib          utime\n",
      "ds18x20           neopixel          uheapq            utimeq\n",
      "errno             network           uio               uzlib\n",
      "esp               ntptime           ujson             webrepl\n",
      "example_pub_button                  onewire           umqtt/robust      webrepl_setup\n",
      "example_sub_led   os                umqtt/simple      websocket\n",
      "flashbdev         port_diag         uos               websocket_helper\n",
      "framebuf          select            upip\n",
      "gc                socket            upip_utarfile\n",
      "http_client       ssd1306           upysh\n",
      "Plus any modules on the filesystem\n"
     ]
    }
   ],
   "source": [
    "help(\"modules\")"
   ]
  },
  {
   "cell_type": "code",
   "execution_count": 146,
   "metadata": {},
   "outputs": [
    {
     "name": "stdout",
     "output_type": "stream",
     "text": [
      "b'Yo;\\x00'\r\n"
     ]
    }
   ],
   "source": [
    "import machine\n",
    "print(machine.unique_id())"
   ]
  },
  {
   "cell_type": "code",
   "execution_count": null,
   "metadata": {
    "collapsed": true
   },
   "outputs": [],
   "source": []
  },
  {
   "cell_type": "code",
   "execution_count": null,
   "metadata": {
    "collapsed": true
   },
   "outputs": [],
   "source": [
    "####################\n",
    "# the attempt to make a working goodnight lamp\n",
    "####################"
   ]
  },
  {
   "cell_type": "code",
   "execution_count": 17,
   "metadata": {},
   "outputs": [
    {
     "name": "stdout",
     "output_type": "stream",
     "text": [
      "Sent 1641 bytes in 55 chunks to main.py.\n"
     ]
    }
   ],
   "source": [
    "%sendtofile --binary main.py\n",
    "\n",
    "from machine import Pin\n",
    "\n",
    "prelay = Pin(12, Pin.OUT)\n",
    "pled = Pin(15, Pin.OUT)\n",
    "phlwCF = Pin(14, Pin.IN)      # the power value\n",
    "prelay.value(1)\n",
    "power_multiplier = 10343.6\n",
    "\n",
    "# find the power times\n",
    "import time, array\n",
    "ptimes = array.array(\"I\", range(0,12)) # [i, tprev, dt, dt, ..., dt]\n",
    "ptimes[1] = time.ticks_ms()\n",
    "ptimes[0] = 1  # avoid zero elements for recpower\n",
    "def pinirq(p):\n",
    "    t1 = time.ticks_ms()\n",
    "    ptimes[0] += 1\n",
    "    ptimes[(ptimes[0]%(len(ptimes)-2))+2] = t1 - ptimes[1]\n",
    "    ptimes[1] = t1\n",
    "phlwCF.irq(trigger=Pin.IRQ_RISING | Pin.IRQ_FALLING, handler=pinirq)\n",
    "\n",
    "def recpower():\n",
    "    ctime = time.ticks_ms() - ptimes[1]\n",
    "    maxtime = max(ptimes[(i%(len(ptimes)-2))+2]  for i in range(ptimes[0], max(0,ptimes[0]-6),-1))\n",
    "    return power_multiplier/(max(ctime, maxtime)*2)\n",
    "\n",
    "\n",
    "import network, ubinascii\n",
    "staif = network.WLAN(network.STA_IF)\n",
    "staif.active(True)\n",
    "doesssid = max((x  for x in staif.scan()  if x[0][:4] == b'DoES'), key=lambda X:X[3])[0]\n",
    "staif.connect(doesssid, b'decafbad00')\n",
    "while not staif.isconnected():\n",
    "    pass\n",
    "print(staif.ifconfig())\n",
    "clientid = 'MicroPython-%s'%ubinascii.hexlify(network.WLAN().config('mac')[-3:]).decode()\n",
    "print(clientid)\n",
    "\n",
    "from umqtt.robust import MQTTClient\n",
    "mqttbroker = \"192.168.0.159\"   # mqtt.local\n",
    "client = MQTTClient(clientid, mqttbroker)\n",
    "\n",
    "while True:\n",
    "    pw = recpower()\n",
    "    pled.value(0 if pw<5 else 1)\n",
    "    print(\"pow\", pw)\n",
    "    client.connect()\n",
    "    client.publish((clientid+\"/ip\").encode(), staif.ifconfig()[0].encode())\n",
    "    client.publish((clientid+\"/pow\").encode(), str(pw).encode())\n",
    "    client.publish(b\"ESPURNA_A7A528/relay/0/set\", (b\"0\" if pw<5 else b\"1\"))\n",
    "    client.disconnect()\n",
    "    time.sleep(5)"
   ]
  },
  {
   "cell_type": "code",
   "execution_count": 8,
   "metadata": {},
   "outputs": [
    {
     "name": "stdout",
     "output_type": "stream",
     "text": [
      "['boot.py', 'webrepl_cfg.py', 'test.py']\r\n"
     ]
    }
   ],
   "source": [
    "import os\n",
    "print(os.listdir())\n"
   ]
  },
  {
   "cell_type": "code",
   "execution_count": 18,
   "metadata": {},
   "outputs": [
    {
     "name": "stdout",
     "output_type": "stream",
     "text": [
      "\u001b[34mattempt to exit paste mode\n",
      "\u001b[0m\u001b[34m[\\r\\x03\\x02] \u001b[0m\n",
      "MicroPython v1.9.3-8-g63826ac5c on 2017-11-01; ESP module with ESP8266\n",
      "Type \"help()\" for more information.\n",
      ">>> \u001b[34m\n",
      "Closing websocket <websocket._core.WebSocket object at 0x7f6440591ef0>\n",
      "\u001b[0m"
     ]
    }
   ],
   "source": [
    "%disconnect"
   ]
  },
  {
   "cell_type": "code",
   "execution_count": null,
   "metadata": {
    "collapsed": true
   },
   "outputs": [],
   "source": [
    "c.publish(b\"ESPURNA_A7A528/relay/0/set\", b\"1\")\n"
   ]
  }
 ],
 "metadata": {
  "kernelspec": {
   "display_name": "MicroPython - USB",
   "language": "micropython",
   "name": "micropython"
  },
  "language_info": {
   "codemirror_mode": "python",
   "file_extension": ".py",
   "mimetype": "text/python",
   "name": "micropython"
  }
 },
 "nbformat": 4,
 "nbformat_minor": 2
}
